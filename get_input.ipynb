{
 "cells": [
  {
   "cell_type": "markdown",
   "metadata": {},
   "source": [
    "# Library"
   ]
  },
  {
   "cell_type": "code",
   "execution_count": 104,
   "metadata": {},
   "outputs": [],
   "source": [
    "import pandas as pd\n",
    "import numpy as np\n",
    "import os\n",
    "import re\n",
    "import collections\n",
    "import unidecode\n",
    "#from gensim.parsing.preprocessing import remove_stopwords\n",
    "import nltk\n",
    "from nltk.corpus import stopwords\n",
    "import itertools \n",
    "from nltk.tokenize import word_tokenize\n",
    "from string import punctuation\n",
    "\n",
    "from nltk import ngrams\n",
    "\n",
    "from sklearn.feature_extraction.text import CountVectorizer\n",
    "from sklearn.feature_extraction.text import TfidfTransformer"
   ]
  },
  {
   "cell_type": "markdown",
   "metadata": {},
   "source": [
    "# Functions"
   ]
  },
  {
   "cell_type": "code",
   "execution_count": 2,
   "metadata": {},
   "outputs": [],
   "source": [
    "def read_texts(path):\n",
    "    data = []\n",
    "    file_name = os.listdir(path)\n",
    "\n",
    "    for name in file_name:\n",
    "        if name.endswith('.txt'):\n",
    "            with open(path + name,encoding=\"utf8\") as f:\n",
    "                text = f.read()\n",
    "                data.append({'nombre':name.replace('.txt',''), 'texto':text})\n",
    "\n",
    "    df = pd.DataFrame(data)\n",
    "    return df"
   ]
  },
  {
   "cell_type": "code",
   "execution_count": 105,
   "metadata": {},
   "outputs": [],
   "source": [
    "def clean_text(string):\n",
    "    \"\"\"\n",
    "    A method to clean text \n",
    "    \"\"\"\n",
    "    \n",
    "    # Removing the punctuations\n",
    "    for x in string.lower(): \n",
    "        if x in punctuation: \n",
    "            string = string.replace(x, \"\")\n",
    "        string = unidecode.unidecode(string)\n",
    "\n",
    "#     # Converting the text to lower\n",
    "#     string = string.lower()\n",
    "\n",
    "    # Removing stop words\n",
    "    string = ' '.join([word for word in string.split() if word not in swords])\n",
    "\n",
    "    # Cleaning the whitespaces\n",
    "    string = re.sub(r'\\s+', ' ', string).strip()\n",
    "\n",
    "    return string "
   ]
  },
  {
   "cell_type": "code",
   "execution_count": 4,
   "metadata": {},
   "outputs": [],
   "source": [
    "#nltk.download('stopwords')\n",
    "swords = list(set(stopwords.words('spanish')))"
   ]
  },
  {
   "cell_type": "markdown",
   "metadata": {},
   "source": [
    "# Load Data"
   ]
  },
  {
   "cell_type": "markdown",
   "metadata": {},
   "source": [
    "### Testing\n",
    "\n",
    "220 clinical cases."
   ]
  },
  {
   "cell_type": "code",
   "execution_count": 3,
   "metadata": {},
   "outputs": [],
   "source": [
    "testing_abbr = pd.read_csv(\"../datasets/testing_set/clinical_cases.abbreviations.testing_set.tsv\", sep = '\\t')\n",
    "testing_met = pd.read_csv(\"../datasets/testing_set/clinical_cases.metadata.testing_set.tsv\", sep = '\\t')\n",
    "testing_rel = pd.read_csv(\"../datasets/testing_set/clinical_cases.relations.testing_set.tsv\", sep = '\\t')"
   ]
  },
  {
   "cell_type": "code",
   "execution_count": 4,
   "metadata": {},
   "outputs": [
    {
     "data": {
      "text/html": [
       "<div>\n",
       "<style scoped>\n",
       "    .dataframe tbody tr th:only-of-type {\n",
       "        vertical-align: middle;\n",
       "    }\n",
       "\n",
       "    .dataframe tbody tr th {\n",
       "        vertical-align: top;\n",
       "    }\n",
       "\n",
       "    .dataframe thead th {\n",
       "        text-align: right;\n",
       "    }\n",
       "</style>\n",
       "<table border=\"1\" class=\"dataframe\">\n",
       "  <thead>\n",
       "    <tr style=\"text-align: right;\">\n",
       "      <th></th>\n",
       "      <th># Document_ID</th>\n",
       "      <th>Case_ID</th>\n",
       "      <th>ISSN</th>\n",
       "      <th>Date</th>\n",
       "      <th>Source</th>\n",
       "      <th>Full_Text_Link</th>\n",
       "    </tr>\n",
       "  </thead>\n",
       "  <tbody>\n",
       "    <tr>\n",
       "      <th>0</th>\n",
       "      <td>S1130-01082006000700014-1.txt</td>\n",
       "      <td>1.txt</td>\n",
       "      <td>1130-0108</td>\n",
       "      <td>2006-07-01</td>\n",
       "      <td>Revista Española de Enfermedades Digestivas  v...</td>\n",
       "      <td>http://scielo.isciii.es/scielo.php?script=sci_...</td>\n",
       "    </tr>\n",
       "    <tr>\n",
       "      <th>1</th>\n",
       "      <td>S1130-01082007000300006-7.txt</td>\n",
       "      <td>7.txt</td>\n",
       "      <td>1130-0108</td>\n",
       "      <td>2007-03-01</td>\n",
       "      <td>Revista Española de Enfermedades Digestivas  v...</td>\n",
       "      <td>http://scielo.isciii.es/scielo.php?script=sci_...</td>\n",
       "    </tr>\n",
       "    <tr>\n",
       "      <th>2</th>\n",
       "      <td>S1134-80462009000100005-1.txt</td>\n",
       "      <td>1.txt</td>\n",
       "      <td>1134-8046</td>\n",
       "      <td>2009-02-01</td>\n",
       "      <td>Revista de la Sociedad Española del Dolor  v.1...</td>\n",
       "      <td>http://scielo.isciii.es/scielo.php?script=sci_...</td>\n",
       "    </tr>\n",
       "    <tr>\n",
       "      <th>3</th>\n",
       "      <td>S1137-66272014000300015-1.txt</td>\n",
       "      <td>1.txt</td>\n",
       "      <td>1137-6627</td>\n",
       "      <td>2014-12-01</td>\n",
       "      <td>Anales del Sistema Sanitario de Navarra  v.37 ...</td>\n",
       "      <td>http://scielo.isciii.es/scielo.php?script=sci_...</td>\n",
       "    </tr>\n",
       "    <tr>\n",
       "      <th>4</th>\n",
       "      <td>S0365-66912004001200011-1.txt</td>\n",
       "      <td>1.txt</td>\n",
       "      <td>0365-6691</td>\n",
       "      <td>2004-12-01</td>\n",
       "      <td>Archivos de la Sociedad Española de Oftalmolog...</td>\n",
       "      <td>http://scielo.isciii.es/scielo.php?script=sci_...</td>\n",
       "    </tr>\n",
       "  </tbody>\n",
       "</table>\n",
       "</div>"
      ],
      "text/plain": [
       "                   # Document_ID Case_ID       ISSN        Date  \\\n",
       "0  S1130-01082006000700014-1.txt   1.txt  1130-0108  2006-07-01   \n",
       "1  S1130-01082007000300006-7.txt   7.txt  1130-0108  2007-03-01   \n",
       "2  S1134-80462009000100005-1.txt   1.txt  1134-8046  2009-02-01   \n",
       "3  S1137-66272014000300015-1.txt   1.txt  1137-6627  2014-12-01   \n",
       "4  S0365-66912004001200011-1.txt   1.txt  0365-6691  2004-12-01   \n",
       "\n",
       "                                              Source  \\\n",
       "0  Revista Española de Enfermedades Digestivas  v...   \n",
       "1  Revista Española de Enfermedades Digestivas  v...   \n",
       "2  Revista de la Sociedad Española del Dolor  v.1...   \n",
       "3  Anales del Sistema Sanitario de Navarra  v.37 ...   \n",
       "4  Archivos de la Sociedad Española de Oftalmolog...   \n",
       "\n",
       "                                      Full_Text_Link  \n",
       "0  http://scielo.isciii.es/scielo.php?script=sci_...  \n",
       "1  http://scielo.isciii.es/scielo.php?script=sci_...  \n",
       "2  http://scielo.isciii.es/scielo.php?script=sci_...  \n",
       "3  http://scielo.isciii.es/scielo.php?script=sci_...  \n",
       "4  http://scielo.isciii.es/scielo.php?script=sci_...  "
      ]
     },
     "execution_count": 4,
     "metadata": {},
     "output_type": "execute_result"
    }
   ],
   "source": [
    "testing_met.head()"
   ]
  },
  {
   "cell_type": "code",
   "execution_count": 5,
   "metadata": {},
   "outputs": [],
   "source": [
    "testing_rel = testing_rel.reset_index()"
   ]
  },
  {
   "cell_type": "code",
   "execution_count": 6,
   "metadata": {},
   "outputs": [],
   "source": [
    "testing_rel.columns = ['# Document_ID', 'Mention_A_type', 'Mention_A_StartOffset',\n",
    "      'Mention_A', 'Relation_type', 'Mention_B_type',\n",
    "       'Mention_B_StartOffset', 'Mention_B_EndOffset', 'Mention_B']"
   ]
  },
  {
   "cell_type": "code",
   "execution_count": 7,
   "metadata": {},
   "outputs": [],
   "source": [
    "testing_rel = testing_rel.rename(columns = {'# Document_ID': 'doc_id'})"
   ]
  },
  {
   "cell_type": "code",
   "execution_count": 8,
   "metadata": {},
   "outputs": [
    {
     "data": {
      "text/html": [
       "<div>\n",
       "<style scoped>\n",
       "    .dataframe tbody tr th:only-of-type {\n",
       "        vertical-align: middle;\n",
       "    }\n",
       "\n",
       "    .dataframe tbody tr th {\n",
       "        vertical-align: top;\n",
       "    }\n",
       "\n",
       "    .dataframe thead th {\n",
       "        text-align: right;\n",
       "    }\n",
       "</style>\n",
       "<table border=\"1\" class=\"dataframe\">\n",
       "  <thead>\n",
       "    <tr style=\"text-align: right;\">\n",
       "      <th></th>\n",
       "      <th>doc_id</th>\n",
       "      <th>Mention_A_type</th>\n",
       "      <th>Mention_A_StartOffset</th>\n",
       "      <th>Mention_A</th>\n",
       "      <th>Relation_type</th>\n",
       "      <th>Mention_B_type</th>\n",
       "      <th>Mention_B_StartOffset</th>\n",
       "      <th>Mention_B_EndOffset</th>\n",
       "      <th>Mention_B</th>\n",
       "    </tr>\n",
       "  </thead>\n",
       "  <tbody>\n",
       "    <tr>\n",
       "      <th>0</th>\n",
       "      <td>S0211-69952013000500019-1</td>\n",
       "      <td>SHORT_FORM</td>\n",
       "      <td>3739</td>\n",
       "      <td>ARA II</td>\n",
       "      <td>SHORT-LONG</td>\n",
       "      <td>LONG_FORM</td>\n",
       "      <td>3695</td>\n",
       "      <td>3737</td>\n",
       "      <td>antagonista del receptor de angiotesina II</td>\n",
       "    </tr>\n",
       "    <tr>\n",
       "      <th>1</th>\n",
       "      <td>S0211-69952013000500019-1</td>\n",
       "      <td>SHORT_FORM</td>\n",
       "      <td>2793</td>\n",
       "      <td>PCR</td>\n",
       "      <td>SHORT-LONG</td>\n",
       "      <td>LONG_FORM</td>\n",
       "      <td>2798</td>\n",
       "      <td>2837</td>\n",
       "      <td>reacción en cadena de enzima polimerasa</td>\n",
       "    </tr>\n",
       "    <tr>\n",
       "      <th>2</th>\n",
       "      <td>S0365-66912004000600008-1</td>\n",
       "      <td>SHORT_FORM</td>\n",
       "      <td>406</td>\n",
       "      <td>AV</td>\n",
       "      <td>SHORT-LONG</td>\n",
       "      <td>LONG_FORM</td>\n",
       "      <td>390</td>\n",
       "      <td>404</td>\n",
       "      <td>agudeza visual</td>\n",
       "    </tr>\n",
       "    <tr>\n",
       "      <th>3</th>\n",
       "      <td>S0211-69952012000500025-1</td>\n",
       "      <td>SHORT_FORM</td>\n",
       "      <td>945</td>\n",
       "      <td>angio-TAC</td>\n",
       "      <td>SHORT-LONG</td>\n",
       "      <td>LONG_FORM</td>\n",
       "      <td>908</td>\n",
       "      <td>943</td>\n",
       "      <td>angiotomografía computarizada axial</td>\n",
       "    </tr>\n",
       "    <tr>\n",
       "      <th>4</th>\n",
       "      <td>S1130-05582017000200122-1</td>\n",
       "      <td>SHORT_FORM</td>\n",
       "      <td>940</td>\n",
       "      <td>RMN</td>\n",
       "      <td>SHORT-LONG</td>\n",
       "      <td>LONG_FORM</td>\n",
       "      <td>910</td>\n",
       "      <td>938</td>\n",
       "      <td>resonancia magnética nuclear</td>\n",
       "    </tr>\n",
       "  </tbody>\n",
       "</table>\n",
       "</div>"
      ],
      "text/plain": [
       "                      doc_id Mention_A_type  Mention_A_StartOffset  Mention_A  \\\n",
       "0  S0211-69952013000500019-1     SHORT_FORM                   3739     ARA II   \n",
       "1  S0211-69952013000500019-1     SHORT_FORM                   2793        PCR   \n",
       "2  S0365-66912004000600008-1     SHORT_FORM                    406         AV   \n",
       "3  S0211-69952012000500025-1     SHORT_FORM                    945  angio-TAC   \n",
       "4  S1130-05582017000200122-1     SHORT_FORM                    940        RMN   \n",
       "\n",
       "  Relation_type Mention_B_type  Mention_B_StartOffset  Mention_B_EndOffset  \\\n",
       "0    SHORT-LONG      LONG_FORM                   3695                 3737   \n",
       "1    SHORT-LONG      LONG_FORM                   2798                 2837   \n",
       "2    SHORT-LONG      LONG_FORM                    390                  404   \n",
       "3    SHORT-LONG      LONG_FORM                    908                  943   \n",
       "4    SHORT-LONG      LONG_FORM                    910                  938   \n",
       "\n",
       "                                    Mention_B  \n",
       "0  antagonista del receptor de angiotesina II  \n",
       "1     reacción en cadena de enzima polimerasa  \n",
       "2                              agudeza visual  \n",
       "3         angiotomografía computarizada axial  \n",
       "4                resonancia magnética nuclear  "
      ]
     },
     "execution_count": 8,
     "metadata": {},
     "output_type": "execute_result"
    }
   ],
   "source": [
    "testing_rel.head()"
   ]
  },
  {
   "cell_type": "code",
   "execution_count": 9,
   "metadata": {},
   "outputs": [
    {
     "data": {
      "text/plain": [
       "array(['SHORT-LONG', 'SHORT-NESTED', 'NESTED-LONG'], dtype=object)"
      ]
     },
     "execution_count": 9,
     "metadata": {},
     "output_type": "execute_result"
    }
   ],
   "source": [
    "testing_rel.Relation_type.unique()"
   ]
  },
  {
   "cell_type": "code",
   "execution_count": 10,
   "metadata": {},
   "outputs": [],
   "source": [
    "testing_abbr = testing_abbr.rename(columns = {'# Document_ID': 'doc_id'})"
   ]
  },
  {
   "cell_type": "code",
   "execution_count": 11,
   "metadata": {},
   "outputs": [
    {
     "data": {
      "text/html": [
       "<div>\n",
       "<style scoped>\n",
       "    .dataframe tbody tr th:only-of-type {\n",
       "        vertical-align: middle;\n",
       "    }\n",
       "\n",
       "    .dataframe tbody tr th {\n",
       "        vertical-align: top;\n",
       "    }\n",
       "\n",
       "    .dataframe thead th {\n",
       "        text-align: right;\n",
       "    }\n",
       "</style>\n",
       "<table border=\"1\" class=\"dataframe\">\n",
       "  <thead>\n",
       "    <tr style=\"text-align: right;\">\n",
       "      <th></th>\n",
       "      <th>doc_id</th>\n",
       "      <th>StartOffset</th>\n",
       "      <th>EndOffset</th>\n",
       "      <th>Abbreviation</th>\n",
       "      <th>Definition</th>\n",
       "      <th>Definition_lemmatized</th>\n",
       "    </tr>\n",
       "  </thead>\n",
       "  <tbody>\n",
       "    <tr>\n",
       "      <th>0</th>\n",
       "      <td>S0004-06142010000500014-1</td>\n",
       "      <td>2037</td>\n",
       "      <td>2044</td>\n",
       "      <td>16SrRNA</td>\n",
       "      <td>16s ribosomal rna</td>\n",
       "      <td>16s ribosomal rno</td>\n",
       "    </tr>\n",
       "    <tr>\n",
       "      <th>1</th>\n",
       "      <td>S0004-06142010000500014-1</td>\n",
       "      <td>1349</td>\n",
       "      <td>1351</td>\n",
       "      <td>M.</td>\n",
       "      <td>mycobacterium</td>\n",
       "      <td>mycobacterium</td>\n",
       "    </tr>\n",
       "    <tr>\n",
       "      <th>2</th>\n",
       "      <td>S0004-06142010000500014-1</td>\n",
       "      <td>1339</td>\n",
       "      <td>1342</td>\n",
       "      <td>PCR</td>\n",
       "      <td>polymerase chain reaction</td>\n",
       "      <td>polymerase chain reaction</td>\n",
       "    </tr>\n",
       "    <tr>\n",
       "      <th>3</th>\n",
       "      <td>S0004-06142010000500014-1</td>\n",
       "      <td>611</td>\n",
       "      <td>615</td>\n",
       "      <td>BHCG</td>\n",
       "      <td>beta-human chorionic gonadotropin</td>\n",
       "      <td>beta-humar chorionic gonadotropin</td>\n",
       "    </tr>\n",
       "    <tr>\n",
       "      <th>4</th>\n",
       "      <td>S0004-06142010000500014-1</td>\n",
       "      <td>594</td>\n",
       "      <td>597</td>\n",
       "      <td>CEA</td>\n",
       "      <td>carcinoembrionary antigen</td>\n",
       "      <td>carcinoembrionary antiger</td>\n",
       "    </tr>\n",
       "  </tbody>\n",
       "</table>\n",
       "</div>"
      ],
      "text/plain": [
       "                      doc_id  StartOffset  EndOffset Abbreviation  \\\n",
       "0  S0004-06142010000500014-1         2037       2044      16SrRNA   \n",
       "1  S0004-06142010000500014-1         1349       1351           M.   \n",
       "2  S0004-06142010000500014-1         1339       1342          PCR   \n",
       "3  S0004-06142010000500014-1          611        615         BHCG   \n",
       "4  S0004-06142010000500014-1          594        597          CEA   \n",
       "\n",
       "                          Definition              Definition_lemmatized  \n",
       "0                  16s ribosomal rna                  16s ribosomal rno  \n",
       "1                      mycobacterium                      mycobacterium  \n",
       "2          polymerase chain reaction          polymerase chain reaction  \n",
       "3  beta-human chorionic gonadotropin  beta-humar chorionic gonadotropin  \n",
       "4          carcinoembrionary antigen          carcinoembrionary antiger  "
      ]
     },
     "execution_count": 11,
     "metadata": {},
     "output_type": "execute_result"
    }
   ],
   "source": [
    "testing_abbr.head()"
   ]
  },
  {
   "cell_type": "code",
   "execution_count": 12,
   "metadata": {},
   "outputs": [],
   "source": [
    "testing_raw = read_texts(\"../datasets/testing_set/testing_set.raw_text/\")"
   ]
  },
  {
   "cell_type": "code",
   "execution_count": 13,
   "metadata": {},
   "outputs": [
    {
     "data": {
      "text/html": [
       "<div>\n",
       "<style scoped>\n",
       "    .dataframe tbody tr th:only-of-type {\n",
       "        vertical-align: middle;\n",
       "    }\n",
       "\n",
       "    .dataframe tbody tr th {\n",
       "        vertical-align: top;\n",
       "    }\n",
       "\n",
       "    .dataframe thead th {\n",
       "        text-align: right;\n",
       "    }\n",
       "</style>\n",
       "<table border=\"1\" class=\"dataframe\">\n",
       "  <thead>\n",
       "    <tr style=\"text-align: right;\">\n",
       "      <th></th>\n",
       "      <th>nombre</th>\n",
       "      <th>texto</th>\n",
       "    </tr>\n",
       "  </thead>\n",
       "  <tbody>\n",
       "    <tr>\n",
       "      <th>0</th>\n",
       "      <td>S1139-76322009000700016-1</td>\n",
       "      <td>Paciente de sexo femenino de 13 años y 7 meses...</td>\n",
       "    </tr>\n",
       "    <tr>\n",
       "      <th>1</th>\n",
       "      <td>S0210-48062007000700015-1</td>\n",
       "      <td>Varón de 72 años con antecedentes personales d...</td>\n",
       "    </tr>\n",
       "    <tr>\n",
       "      <th>2</th>\n",
       "      <td>S0212-71992005000500009-1</td>\n",
       "      <td>Varón de 81 años, con antecedentes de fibrilac...</td>\n",
       "    </tr>\n",
       "    <tr>\n",
       "      <th>3</th>\n",
       "      <td>S0365-66912004001200011-1</td>\n",
       "      <td>Paciente varón de 52 años que acudió a urgenci...</td>\n",
       "    </tr>\n",
       "    <tr>\n",
       "      <th>4</th>\n",
       "      <td>S1130-01082009000900015-1</td>\n",
       "      <td>Varón de 54 años con episodios de pancreatitis...</td>\n",
       "    </tr>\n",
       "  </tbody>\n",
       "</table>\n",
       "</div>"
      ],
      "text/plain": [
       "                      nombre  \\\n",
       "0  S1139-76322009000700016-1   \n",
       "1  S0210-48062007000700015-1   \n",
       "2  S0212-71992005000500009-1   \n",
       "3  S0365-66912004001200011-1   \n",
       "4  S1130-01082009000900015-1   \n",
       "\n",
       "                                               texto  \n",
       "0  Paciente de sexo femenino de 13 años y 7 meses...  \n",
       "1  Varón de 72 años con antecedentes personales d...  \n",
       "2  Varón de 81 años, con antecedentes de fibrilac...  \n",
       "3  Paciente varón de 52 años que acudió a urgenci...  \n",
       "4  Varón de 54 años con episodios de pancreatitis...  "
      ]
     },
     "execution_count": 13,
     "metadata": {},
     "output_type": "execute_result"
    }
   ],
   "source": [
    "testing_raw.head()"
   ]
  },
  {
   "cell_type": "markdown",
   "metadata": {},
   "source": [
    "### Backgound\n",
    "\n",
    "2879 clinical cases. 220 will be use for clinical evaluation"
   ]
  },
  {
   "cell_type": "code",
   "execution_count": 14,
   "metadata": {},
   "outputs": [],
   "source": [
    "back_met = pd.read_csv(\"../datasets/background_test/clinical_cases.metadata.background_set.tsv\", sep = '\\t')"
   ]
  },
  {
   "cell_type": "code",
   "execution_count": 15,
   "metadata": {},
   "outputs": [],
   "source": [
    "back_met = back_met.rename(columns = {'# Document_ID': 'doc_id'})"
   ]
  },
  {
   "cell_type": "code",
   "execution_count": 16,
   "metadata": {},
   "outputs": [
    {
     "data": {
      "text/html": [
       "<div>\n",
       "<style scoped>\n",
       "    .dataframe tbody tr th:only-of-type {\n",
       "        vertical-align: middle;\n",
       "    }\n",
       "\n",
       "    .dataframe tbody tr th {\n",
       "        vertical-align: top;\n",
       "    }\n",
       "\n",
       "    .dataframe thead th {\n",
       "        text-align: right;\n",
       "    }\n",
       "</style>\n",
       "<table border=\"1\" class=\"dataframe\">\n",
       "  <thead>\n",
       "    <tr style=\"text-align: right;\">\n",
       "      <th></th>\n",
       "      <th>doc_id</th>\n",
       "      <th>Case_ID</th>\n",
       "      <th>ISSN</th>\n",
       "      <th>Date</th>\n",
       "      <th>Source</th>\n",
       "      <th>Full_Text_Link</th>\n",
       "    </tr>\n",
       "  </thead>\n",
       "  <tbody>\n",
       "    <tr>\n",
       "      <th>0</th>\n",
       "      <td>S0325-00752010000100014.txt</td>\n",
       "      <td>1.txt</td>\n",
       "      <td>0325-0075</td>\n",
       "      <td>02/2010</td>\n",
       "      <td>Archivos argentinos de pediatría</td>\n",
       "      <td>http://www.scielo.org.ar/scielo.php?script=sci...</td>\n",
       "    </tr>\n",
       "    <tr>\n",
       "      <th>1</th>\n",
       "      <td>S0325-00752013000200014.txt</td>\n",
       "      <td>1.txt</td>\n",
       "      <td>0325-0075</td>\n",
       "      <td>04/2013</td>\n",
       "      <td>Archivos argentinos de pediatría</td>\n",
       "      <td>http://www.scielo.org.ar/scielo.php?script=sci...</td>\n",
       "    </tr>\n",
       "    <tr>\n",
       "      <th>2</th>\n",
       "      <td>S0325-00752011000400017.txt</td>\n",
       "      <td>1.txt</td>\n",
       "      <td>0325-0075</td>\n",
       "      <td>08/2011</td>\n",
       "      <td>Archivos argentinos de pediatría</td>\n",
       "      <td>http://www.scielo.org.ar/scielo.php?script=sci...</td>\n",
       "    </tr>\n",
       "    <tr>\n",
       "      <th>3</th>\n",
       "      <td>S0325-00752013000600022.txt</td>\n",
       "      <td>1.txt</td>\n",
       "      <td>0325-0075</td>\n",
       "      <td>12/2013</td>\n",
       "      <td>Archivos argentinos de pediatría</td>\n",
       "      <td>http://www.scielo.org.ar/scielo.php?script=sci...</td>\n",
       "    </tr>\n",
       "    <tr>\n",
       "      <th>4</th>\n",
       "      <td>S0325-00752008000500013.txt</td>\n",
       "      <td>1.txt</td>\n",
       "      <td>0325-0075</td>\n",
       "      <td>10/2008</td>\n",
       "      <td>Archivos argentinos de pediatría</td>\n",
       "      <td>http://www.scielo.org.ar/scielo.php?script=sci...</td>\n",
       "    </tr>\n",
       "  </tbody>\n",
       "</table>\n",
       "</div>"
      ],
      "text/plain": [
       "                        doc_id Case_ID       ISSN     Date  \\\n",
       "0  S0325-00752010000100014.txt   1.txt  0325-0075  02/2010   \n",
       "1  S0325-00752013000200014.txt   1.txt  0325-0075  04/2013   \n",
       "2  S0325-00752011000400017.txt   1.txt  0325-0075  08/2011   \n",
       "3  S0325-00752013000600022.txt   1.txt  0325-0075  12/2013   \n",
       "4  S0325-00752008000500013.txt   1.txt  0325-0075  10/2008   \n",
       "\n",
       "                             Source  \\\n",
       "0  Archivos argentinos de pediatría   \n",
       "1  Archivos argentinos de pediatría   \n",
       "2  Archivos argentinos de pediatría   \n",
       "3  Archivos argentinos de pediatría   \n",
       "4  Archivos argentinos de pediatría   \n",
       "\n",
       "                                      Full_Text_Link  \n",
       "0  http://www.scielo.org.ar/scielo.php?script=sci...  \n",
       "1  http://www.scielo.org.ar/scielo.php?script=sci...  \n",
       "2  http://www.scielo.org.ar/scielo.php?script=sci...  \n",
       "3  http://www.scielo.org.ar/scielo.php?script=sci...  \n",
       "4  http://www.scielo.org.ar/scielo.php?script=sci...  "
      ]
     },
     "execution_count": 16,
     "metadata": {},
     "output_type": "execute_result"
    }
   ],
   "source": [
    "back_met.head()"
   ]
  },
  {
   "cell_type": "code",
   "execution_count": 17,
   "metadata": {},
   "outputs": [],
   "source": [
    "back_raw = read_texts(\"../datasets/background_test/background_test_set/\")"
   ]
  },
  {
   "cell_type": "code",
   "execution_count": 18,
   "metadata": {},
   "outputs": [
    {
     "data": {
      "text/html": [
       "<div>\n",
       "<style scoped>\n",
       "    .dataframe tbody tr th:only-of-type {\n",
       "        vertical-align: middle;\n",
       "    }\n",
       "\n",
       "    .dataframe tbody tr th {\n",
       "        vertical-align: top;\n",
       "    }\n",
       "\n",
       "    .dataframe thead th {\n",
       "        text-align: right;\n",
       "    }\n",
       "</style>\n",
       "<table border=\"1\" class=\"dataframe\">\n",
       "  <thead>\n",
       "    <tr style=\"text-align: right;\">\n",
       "      <th></th>\n",
       "      <th>nombre</th>\n",
       "      <th>texto</th>\n",
       "    </tr>\n",
       "  </thead>\n",
       "  <tbody>\n",
       "    <tr>\n",
       "      <th>0</th>\n",
       "      <td>S0212-71992004000800006-1</td>\n",
       "      <td>Mujer de 57 años de edad con antecedentes pers...</td>\n",
       "    </tr>\n",
       "    <tr>\n",
       "      <th>1</th>\n",
       "      <td>S0716-10182014000100007-1</td>\n",
       "      <td>Se recibió en el Hospital Veterinario Puente A...</td>\n",
       "    </tr>\n",
       "    <tr>\n",
       "      <th>2</th>\n",
       "      <td>S1130-01082009000200016-1</td>\n",
       "      <td>Mujer de 47 años de edad, sin antecedentes de ...</td>\n",
       "    </tr>\n",
       "    <tr>\n",
       "      <th>3</th>\n",
       "      <td>S0716-10182015000400016-1</td>\n",
       "      <td>Escolar de 11 años de edad, género femenino, s...</td>\n",
       "    </tr>\n",
       "    <tr>\n",
       "      <th>4</th>\n",
       "      <td>S1130-01082004001200010-2</td>\n",
       "      <td>Varón de 25 años, remitido a nuestro Servicio ...</td>\n",
       "    </tr>\n",
       "  </tbody>\n",
       "</table>\n",
       "</div>"
      ],
      "text/plain": [
       "                      nombre  \\\n",
       "0  S0212-71992004000800006-1   \n",
       "1  S0716-10182014000100007-1   \n",
       "2  S1130-01082009000200016-1   \n",
       "3  S0716-10182015000400016-1   \n",
       "4  S1130-01082004001200010-2   \n",
       "\n",
       "                                               texto  \n",
       "0  Mujer de 57 años de edad con antecedentes pers...  \n",
       "1  Se recibió en el Hospital Veterinario Puente A...  \n",
       "2  Mujer de 47 años de edad, sin antecedentes de ...  \n",
       "3  Escolar de 11 años de edad, género femenino, s...  \n",
       "4  Varón de 25 años, remitido a nuestro Servicio ...  "
      ]
     },
     "execution_count": 18,
     "metadata": {},
     "output_type": "execute_result"
    }
   ],
   "source": [
    "back_raw.head()"
   ]
  },
  {
   "cell_type": "markdown",
   "metadata": {},
   "source": [
    "### Development\n",
    "\n",
    "146 clinical cases"
   ]
  },
  {
   "cell_type": "code",
   "execution_count": 19,
   "metadata": {},
   "outputs": [],
   "source": [
    "dev_abbr = pd.read_csv(\"../datasets/development_set/clinical_cases.abbreviations.development_set.tsv\", sep = '\\t')\n",
    "dev_met = pd.read_csv(\"../datasets/development_set/clinical_cases.metadata.development_set.tsv\", sep = '\\t')\n",
    "dev_rel = pd.read_csv(\"../datasets/development_set/clinical_cases.relations.development_set.tsv\", sep = '\\t')"
   ]
  },
  {
   "cell_type": "code",
   "execution_count": 20,
   "metadata": {},
   "outputs": [],
   "source": [
    "dev_met = dev_met.rename(columns = {'# Document_ID': 'doc_id'})"
   ]
  },
  {
   "cell_type": "code",
   "execution_count": 21,
   "metadata": {},
   "outputs": [
    {
     "data": {
      "text/html": [
       "<div>\n",
       "<style scoped>\n",
       "    .dataframe tbody tr th:only-of-type {\n",
       "        vertical-align: middle;\n",
       "    }\n",
       "\n",
       "    .dataframe tbody tr th {\n",
       "        vertical-align: top;\n",
       "    }\n",
       "\n",
       "    .dataframe thead th {\n",
       "        text-align: right;\n",
       "    }\n",
       "</style>\n",
       "<table border=\"1\" class=\"dataframe\">\n",
       "  <thead>\n",
       "    <tr style=\"text-align: right;\">\n",
       "      <th></th>\n",
       "      <th>doc_id</th>\n",
       "      <th>Case_ID</th>\n",
       "      <th>ISSN</th>\n",
       "      <th>Date</th>\n",
       "      <th>Source</th>\n",
       "      <th>Full_Text_Link</th>\n",
       "    </tr>\n",
       "  </thead>\n",
       "  <tbody>\n",
       "    <tr>\n",
       "      <th>0</th>\n",
       "      <td>S1130-14732005000300004-1.txt</td>\n",
       "      <td>1.txt</td>\n",
       "      <td>1130-1473</td>\n",
       "      <td>2005-06-01</td>\n",
       "      <td>Neurocirugía  v.16 n.3 2005</td>\n",
       "      <td>http://scielo.isciii.es/scielo.php?script=sci_...</td>\n",
       "    </tr>\n",
       "    <tr>\n",
       "      <th>1</th>\n",
       "      <td>S1130-01082008000200009-1.txt</td>\n",
       "      <td>1.txt</td>\n",
       "      <td>1130-0108</td>\n",
       "      <td>2008-02-01</td>\n",
       "      <td>Revista Española de Enfermedades Digestivas  v...</td>\n",
       "      <td>http://scielo.isciii.es/scielo.php?script=sci_...</td>\n",
       "    </tr>\n",
       "    <tr>\n",
       "      <th>2</th>\n",
       "      <td>S1137-66272012000300021-1.txt</td>\n",
       "      <td>1.txt</td>\n",
       "      <td>1137-6627</td>\n",
       "      <td>2012-12-01</td>\n",
       "      <td>Anales del Sistema Sanitario de Navarra  v.35 ...</td>\n",
       "      <td>http://scielo.isciii.es/scielo.php?script=sci_...</td>\n",
       "    </tr>\n",
       "    <tr>\n",
       "      <th>3</th>\n",
       "      <td>S1699-695X2016000200010-1.txt</td>\n",
       "      <td>1.txt</td>\n",
       "      <td>1699-695X</td>\n",
       "      <td>2016-06-01</td>\n",
       "      <td>Revista Clínica de Medicina de Familia  v.9 n....</td>\n",
       "      <td>http://scielo.isciii.es/scielo.php?script=sci_...</td>\n",
       "    </tr>\n",
       "    <tr>\n",
       "      <th>4</th>\n",
       "      <td>S1130-01082007001100009-1.txt</td>\n",
       "      <td>1.txt</td>\n",
       "      <td>1130-0108</td>\n",
       "      <td>2007-11-01</td>\n",
       "      <td>Revista Española de Enfermedades Digestivas  v...</td>\n",
       "      <td>http://scielo.isciii.es/scielo.php?script=sci_...</td>\n",
       "    </tr>\n",
       "  </tbody>\n",
       "</table>\n",
       "</div>"
      ],
      "text/plain": [
       "                          doc_id Case_ID       ISSN        Date  \\\n",
       "0  S1130-14732005000300004-1.txt   1.txt  1130-1473  2005-06-01   \n",
       "1  S1130-01082008000200009-1.txt   1.txt  1130-0108  2008-02-01   \n",
       "2  S1137-66272012000300021-1.txt   1.txt  1137-6627  2012-12-01   \n",
       "3  S1699-695X2016000200010-1.txt   1.txt  1699-695X  2016-06-01   \n",
       "4  S1130-01082007001100009-1.txt   1.txt  1130-0108  2007-11-01   \n",
       "\n",
       "                                              Source  \\\n",
       "0                        Neurocirugía  v.16 n.3 2005   \n",
       "1  Revista Española de Enfermedades Digestivas  v...   \n",
       "2  Anales del Sistema Sanitario de Navarra  v.35 ...   \n",
       "3  Revista Clínica de Medicina de Familia  v.9 n....   \n",
       "4  Revista Española de Enfermedades Digestivas  v...   \n",
       "\n",
       "                                      Full_Text_Link  \n",
       "0  http://scielo.isciii.es/scielo.php?script=sci_...  \n",
       "1  http://scielo.isciii.es/scielo.php?script=sci_...  \n",
       "2  http://scielo.isciii.es/scielo.php?script=sci_...  \n",
       "3  http://scielo.isciii.es/scielo.php?script=sci_...  \n",
       "4  http://scielo.isciii.es/scielo.php?script=sci_...  "
      ]
     },
     "execution_count": 21,
     "metadata": {},
     "output_type": "execute_result"
    }
   ],
   "source": [
    "dev_met.head()"
   ]
  },
  {
   "cell_type": "code",
   "execution_count": 22,
   "metadata": {},
   "outputs": [],
   "source": [
    "dev_rel = dev_rel.reset_index()"
   ]
  },
  {
   "cell_type": "code",
   "execution_count": 23,
   "metadata": {},
   "outputs": [],
   "source": [
    "dev_rel.columns = ['# Document_ID', 'Mention_A_type', 'Mention_A_StartOffset',\n",
    "      'Mention_A', 'Relation_type', 'Mention_B_type',\n",
    "       'Mention_B_StartOffset', 'Mention_B_EndOffset', 'Mention_B']"
   ]
  },
  {
   "cell_type": "code",
   "execution_count": 24,
   "metadata": {},
   "outputs": [],
   "source": [
    "dev_rel = dev_rel.rename(columns = {'# Document_ID': 'doc_id'})"
   ]
  },
  {
   "cell_type": "code",
   "execution_count": 25,
   "metadata": {},
   "outputs": [
    {
     "data": {
      "text/html": [
       "<div>\n",
       "<style scoped>\n",
       "    .dataframe tbody tr th:only-of-type {\n",
       "        vertical-align: middle;\n",
       "    }\n",
       "\n",
       "    .dataframe tbody tr th {\n",
       "        vertical-align: top;\n",
       "    }\n",
       "\n",
       "    .dataframe thead th {\n",
       "        text-align: right;\n",
       "    }\n",
       "</style>\n",
       "<table border=\"1\" class=\"dataframe\">\n",
       "  <thead>\n",
       "    <tr style=\"text-align: right;\">\n",
       "      <th></th>\n",
       "      <th>doc_id</th>\n",
       "      <th>Mention_A_type</th>\n",
       "      <th>Mention_A_StartOffset</th>\n",
       "      <th>Mention_A</th>\n",
       "      <th>Relation_type</th>\n",
       "      <th>Mention_B_type</th>\n",
       "      <th>Mention_B_StartOffset</th>\n",
       "      <th>Mention_B_EndOffset</th>\n",
       "      <th>Mention_B</th>\n",
       "    </tr>\n",
       "  </thead>\n",
       "  <tbody>\n",
       "    <tr>\n",
       "      <th>0</th>\n",
       "      <td>S1888-75462015000400006-1</td>\n",
       "      <td>SHORT_FORM</td>\n",
       "      <td>1436</td>\n",
       "      <td>AP</td>\n",
       "      <td>SHORT-LONG</td>\n",
       "      <td>LONG_FORM</td>\n",
       "      <td>1419</td>\n",
       "      <td>1434</td>\n",
       "      <td>anteroposterior</td>\n",
       "    </tr>\n",
       "    <tr>\n",
       "      <th>1</th>\n",
       "      <td>S0210-56912009000700006-2</td>\n",
       "      <td>SHORT_FORM</td>\n",
       "      <td>876</td>\n",
       "      <td>angio-RMN</td>\n",
       "      <td>SHORT-LONG</td>\n",
       "      <td>LONG_FORM</td>\n",
       "      <td>858</td>\n",
       "      <td>874</td>\n",
       "      <td>angiorresonancia</td>\n",
       "    </tr>\n",
       "    <tr>\n",
       "      <th>2</th>\n",
       "      <td>S0210-56912009000700006-2</td>\n",
       "      <td>SHORT_FORM</td>\n",
       "      <td>819</td>\n",
       "      <td>RMN</td>\n",
       "      <td>SHORT-LONG</td>\n",
       "      <td>LONG_FORM</td>\n",
       "      <td>789</td>\n",
       "      <td>817</td>\n",
       "      <td>resonancia magnética nuclear</td>\n",
       "    </tr>\n",
       "    <tr>\n",
       "      <th>3</th>\n",
       "      <td>S1698-44472005000300015-1</td>\n",
       "      <td>SHORT_FORM</td>\n",
       "      <td>209</td>\n",
       "      <td>ATM</td>\n",
       "      <td>SHORT-LONG</td>\n",
       "      <td>LONG_FORM</td>\n",
       "      <td>177</td>\n",
       "      <td>207</td>\n",
       "      <td>articulación témporomandibular</td>\n",
       "    </tr>\n",
       "    <tr>\n",
       "      <th>4</th>\n",
       "      <td>S1698-44472005000300015-1</td>\n",
       "      <td>SHORT_FORM</td>\n",
       "      <td>1125</td>\n",
       "      <td>TC</td>\n",
       "      <td>SHORT-LONG</td>\n",
       "      <td>LONG_FORM</td>\n",
       "      <td>1099</td>\n",
       "      <td>1123</td>\n",
       "      <td>tomografía computerizada</td>\n",
       "    </tr>\n",
       "  </tbody>\n",
       "</table>\n",
       "</div>"
      ],
      "text/plain": [
       "                      doc_id Mention_A_type  Mention_A_StartOffset  Mention_A  \\\n",
       "0  S1888-75462015000400006-1     SHORT_FORM                   1436         AP   \n",
       "1  S0210-56912009000700006-2     SHORT_FORM                    876  angio-RMN   \n",
       "2  S0210-56912009000700006-2     SHORT_FORM                    819        RMN   \n",
       "3  S1698-44472005000300015-1     SHORT_FORM                    209        ATM   \n",
       "4  S1698-44472005000300015-1     SHORT_FORM                   1125         TC   \n",
       "\n",
       "  Relation_type Mention_B_type  Mention_B_StartOffset  Mention_B_EndOffset  \\\n",
       "0    SHORT-LONG      LONG_FORM                   1419                 1434   \n",
       "1    SHORT-LONG      LONG_FORM                    858                  874   \n",
       "2    SHORT-LONG      LONG_FORM                    789                  817   \n",
       "3    SHORT-LONG      LONG_FORM                    177                  207   \n",
       "4    SHORT-LONG      LONG_FORM                   1099                 1123   \n",
       "\n",
       "                        Mention_B  \n",
       "0                 anteroposterior  \n",
       "1                angiorresonancia  \n",
       "2    resonancia magnética nuclear  \n",
       "3  articulación témporomandibular  \n",
       "4        tomografía computerizada  "
      ]
     },
     "execution_count": 25,
     "metadata": {},
     "output_type": "execute_result"
    }
   ],
   "source": [
    "dev_rel.head()"
   ]
  },
  {
   "cell_type": "code",
   "execution_count": 26,
   "metadata": {},
   "outputs": [],
   "source": [
    "dev_abbr = dev_abbr.rename(columns = {'# Document_ID': 'doc_id'})"
   ]
  },
  {
   "cell_type": "code",
   "execution_count": 27,
   "metadata": {},
   "outputs": [
    {
     "data": {
      "text/html": [
       "<div>\n",
       "<style scoped>\n",
       "    .dataframe tbody tr th:only-of-type {\n",
       "        vertical-align: middle;\n",
       "    }\n",
       "\n",
       "    .dataframe tbody tr th {\n",
       "        vertical-align: top;\n",
       "    }\n",
       "\n",
       "    .dataframe thead th {\n",
       "        text-align: right;\n",
       "    }\n",
       "</style>\n",
       "<table border=\"1\" class=\"dataframe\">\n",
       "  <thead>\n",
       "    <tr style=\"text-align: right;\">\n",
       "      <th></th>\n",
       "      <th>doc_id</th>\n",
       "      <th>StartOffset</th>\n",
       "      <th>EndOffset</th>\n",
       "      <th>Abbreviation</th>\n",
       "      <th>Definition</th>\n",
       "      <th>Definition_lemmatized</th>\n",
       "    </tr>\n",
       "  </thead>\n",
       "  <tbody>\n",
       "    <tr>\n",
       "      <th>0</th>\n",
       "      <td>S1130-14732005000300004-1</td>\n",
       "      <td>1216</td>\n",
       "      <td>1218</td>\n",
       "      <td>C3</td>\n",
       "      <td>tercera vértebra cervical</td>\n",
       "      <td>tercero vértebra cervical</td>\n",
       "    </tr>\n",
       "    <tr>\n",
       "      <th>1</th>\n",
       "      <td>S1130-14732005000300004-1</td>\n",
       "      <td>717</td>\n",
       "      <td>719</td>\n",
       "      <td>C2</td>\n",
       "      <td>segunda vértebra cervical</td>\n",
       "      <td>segundo vértebra cervical</td>\n",
       "    </tr>\n",
       "    <tr>\n",
       "      <th>2</th>\n",
       "      <td>S1130-14732005000300004-1</td>\n",
       "      <td>3191</td>\n",
       "      <td>3193</td>\n",
       "      <td>C3</td>\n",
       "      <td>tercera vértebra cervical</td>\n",
       "      <td>tercero vértebra cervical</td>\n",
       "    </tr>\n",
       "    <tr>\n",
       "      <th>3</th>\n",
       "      <td>S1130-14732005000300004-1</td>\n",
       "      <td>2867</td>\n",
       "      <td>2869</td>\n",
       "      <td>C3</td>\n",
       "      <td>tercera vértebra cervical</td>\n",
       "      <td>tercero vértebra cervical</td>\n",
       "    </tr>\n",
       "    <tr>\n",
       "      <th>4</th>\n",
       "      <td>S1130-14732005000300004-1</td>\n",
       "      <td>2862</td>\n",
       "      <td>2864</td>\n",
       "      <td>C2</td>\n",
       "      <td>segunda vértebra cervical</td>\n",
       "      <td>segundo vértebra cervical</td>\n",
       "    </tr>\n",
       "  </tbody>\n",
       "</table>\n",
       "</div>"
      ],
      "text/plain": [
       "                      doc_id  StartOffset  EndOffset Abbreviation  \\\n",
       "0  S1130-14732005000300004-1         1216       1218           C3   \n",
       "1  S1130-14732005000300004-1          717        719           C2   \n",
       "2  S1130-14732005000300004-1         3191       3193           C3   \n",
       "3  S1130-14732005000300004-1         2867       2869           C3   \n",
       "4  S1130-14732005000300004-1         2862       2864           C2   \n",
       "\n",
       "                   Definition      Definition_lemmatized  \n",
       "0   tercera vértebra cervical  tercero vértebra cervical  \n",
       "1   segunda vértebra cervical  segundo vértebra cervical  \n",
       "2  tercera vértebra cervical   tercero vértebra cervical  \n",
       "3  tercera vértebra cervical   tercero vértebra cervical  \n",
       "4  segunda vértebra cervical   segundo vértebra cervical  "
      ]
     },
     "execution_count": 27,
     "metadata": {},
     "output_type": "execute_result"
    }
   ],
   "source": [
    "dev_abbr.head()"
   ]
  },
  {
   "cell_type": "code",
   "execution_count": 28,
   "metadata": {},
   "outputs": [],
   "source": [
    "dev_raw = read_texts(\"../datasets/development_set/development_set.raw_text/\")"
   ]
  },
  {
   "cell_type": "code",
   "execution_count": 29,
   "metadata": {},
   "outputs": [
    {
     "data": {
      "text/html": [
       "<div>\n",
       "<style scoped>\n",
       "    .dataframe tbody tr th:only-of-type {\n",
       "        vertical-align: middle;\n",
       "    }\n",
       "\n",
       "    .dataframe tbody tr th {\n",
       "        vertical-align: top;\n",
       "    }\n",
       "\n",
       "    .dataframe thead th {\n",
       "        text-align: right;\n",
       "    }\n",
       "</style>\n",
       "<table border=\"1\" class=\"dataframe\">\n",
       "  <thead>\n",
       "    <tr style=\"text-align: right;\">\n",
       "      <th></th>\n",
       "      <th>nombre</th>\n",
       "      <th>texto</th>\n",
       "    </tr>\n",
       "  </thead>\n",
       "  <tbody>\n",
       "    <tr>\n",
       "      <th>0</th>\n",
       "      <td>S1139-76322017000200010-1</td>\n",
       "      <td>Niña de dos años y diez meses con antecedentes...</td>\n",
       "    </tr>\n",
       "    <tr>\n",
       "      <th>1</th>\n",
       "      <td>S0365-66912005001100008-1</td>\n",
       "      <td>Se presenta el caso de un varón de 45 años que...</td>\n",
       "    </tr>\n",
       "    <tr>\n",
       "      <th>2</th>\n",
       "      <td>S1130-01082006001000017-1</td>\n",
       "      <td>Mujer de 42 años de edad con antecedentes pers...</td>\n",
       "    </tr>\n",
       "    <tr>\n",
       "      <th>3</th>\n",
       "      <td>S0212-71992005001200008-1</td>\n",
       "      <td>Paciente de 57 años con ingresos hospitalarios...</td>\n",
       "    </tr>\n",
       "    <tr>\n",
       "      <th>4</th>\n",
       "      <td>S0365-66912007000300010-1</td>\n",
       "      <td>Paciente de 33 años que el 20-08-05 es traslad...</td>\n",
       "    </tr>\n",
       "  </tbody>\n",
       "</table>\n",
       "</div>"
      ],
      "text/plain": [
       "                      nombre  \\\n",
       "0  S1139-76322017000200010-1   \n",
       "1  S0365-66912005001100008-1   \n",
       "2  S1130-01082006001000017-1   \n",
       "3  S0212-71992005001200008-1   \n",
       "4  S0365-66912007000300010-1   \n",
       "\n",
       "                                               texto  \n",
       "0  Niña de dos años y diez meses con antecedentes...  \n",
       "1  Se presenta el caso de un varón de 45 años que...  \n",
       "2  Mujer de 42 años de edad con antecedentes pers...  \n",
       "3  Paciente de 57 años con ingresos hospitalarios...  \n",
       "4  Paciente de 33 años que el 20-08-05 es traslad...  "
      ]
     },
     "execution_count": 29,
     "metadata": {},
     "output_type": "execute_result"
    }
   ],
   "source": [
    "dev_raw.head()"
   ]
  },
  {
   "cell_type": "markdown",
   "metadata": {},
   "source": [
    "### Sample test\n",
    "\n",
    "15 clinical cases"
   ]
  },
  {
   "cell_type": "code",
   "execution_count": 30,
   "metadata": {},
   "outputs": [],
   "source": [
    "sample_abbr = pd.read_csv(\"../datasets/sample_set/clinical_cases.abbreviations.sample_set.tsv\", sep = '\\t')\n",
    "sample_met = pd.read_csv(\"../datasets/sample_set/clinical_cases.metadata.sample_set.tsv\", sep = '\\t')\n",
    "sample_rel = pd.read_csv(\"../datasets/sample_set/clinical_cases.relations.sample_set.tsv\", sep = '\\t')"
   ]
  },
  {
   "cell_type": "code",
   "execution_count": 31,
   "metadata": {},
   "outputs": [],
   "source": [
    "sample_met = sample_met.rename(columns = {'# Document_ID': 'doc_id'})"
   ]
  },
  {
   "cell_type": "code",
   "execution_count": 32,
   "metadata": {},
   "outputs": [
    {
     "data": {
      "text/html": [
       "<div>\n",
       "<style scoped>\n",
       "    .dataframe tbody tr th:only-of-type {\n",
       "        vertical-align: middle;\n",
       "    }\n",
       "\n",
       "    .dataframe tbody tr th {\n",
       "        vertical-align: top;\n",
       "    }\n",
       "\n",
       "    .dataframe thead th {\n",
       "        text-align: right;\n",
       "    }\n",
       "</style>\n",
       "<table border=\"1\" class=\"dataframe\">\n",
       "  <thead>\n",
       "    <tr style=\"text-align: right;\">\n",
       "      <th></th>\n",
       "      <th>doc_id</th>\n",
       "      <th>Case_ID</th>\n",
       "      <th>ISSN</th>\n",
       "      <th>Date</th>\n",
       "      <th>Source</th>\n",
       "      <th>Full_Text_Link</th>\n",
       "    </tr>\n",
       "  </thead>\n",
       "  <tbody>\n",
       "    <tr>\n",
       "      <th>0</th>\n",
       "      <td>S0004-06142006000900015-1</td>\n",
       "      <td>1</td>\n",
       "      <td>0004-0614</td>\n",
       "      <td>2006-11-01</td>\n",
       "      <td>Archivos Españoles de Urología (Ed. impresa)  ...</td>\n",
       "      <td>http://scielo.isciii.es/scielo.php?script=sci_...</td>\n",
       "    </tr>\n",
       "    <tr>\n",
       "      <th>1</th>\n",
       "      <td>S0004-06142006000600015-1</td>\n",
       "      <td>1</td>\n",
       "      <td>0004-0614</td>\n",
       "      <td>2006-08-01</td>\n",
       "      <td>Archivos Españoles de Urología (Ed. impresa)  ...</td>\n",
       "      <td>http://scielo.isciii.es/scielo.php?script=sci_...</td>\n",
       "    </tr>\n",
       "    <tr>\n",
       "      <th>2</th>\n",
       "      <td>S0004-06142007000700014-1</td>\n",
       "      <td>1</td>\n",
       "      <td>0004-0614</td>\n",
       "      <td>2007-09-01</td>\n",
       "      <td>Archivos Españoles de Urología (Ed. impresa)  ...</td>\n",
       "      <td>http://scielo.isciii.es/scielo.php?script=sci_...</td>\n",
       "    </tr>\n",
       "    <tr>\n",
       "      <th>3</th>\n",
       "      <td>S0004-06142007000900013-1</td>\n",
       "      <td>1</td>\n",
       "      <td>0004-0614</td>\n",
       "      <td>2007-11-01</td>\n",
       "      <td>Archivos Españoles de Urología (Ed. impresa)  ...</td>\n",
       "      <td>http://scielo.isciii.es/scielo.php?script=sci_...</td>\n",
       "    </tr>\n",
       "    <tr>\n",
       "      <th>4</th>\n",
       "      <td>S0004-06142006000200014-1</td>\n",
       "      <td>1</td>\n",
       "      <td>0004-0614</td>\n",
       "      <td>2006-03-01</td>\n",
       "      <td>Archivos Españoles de Urología (Ed. impresa)  ...</td>\n",
       "      <td>http://scielo.isciii.es/scielo.php?script=sci_...</td>\n",
       "    </tr>\n",
       "  </tbody>\n",
       "</table>\n",
       "</div>"
      ],
      "text/plain": [
       "                      doc_id  Case_ID       ISSN        Date  \\\n",
       "0  S0004-06142006000900015-1        1  0004-0614  2006-11-01   \n",
       "1  S0004-06142006000600015-1        1  0004-0614  2006-08-01   \n",
       "2  S0004-06142007000700014-1        1  0004-0614  2007-09-01   \n",
       "3  S0004-06142007000900013-1        1  0004-0614  2007-11-01   \n",
       "4  S0004-06142006000200014-1        1  0004-0614  2006-03-01   \n",
       "\n",
       "                                              Source  \\\n",
       "0  Archivos Españoles de Urología (Ed. impresa)  ...   \n",
       "1  Archivos Españoles de Urología (Ed. impresa)  ...   \n",
       "2  Archivos Españoles de Urología (Ed. impresa)  ...   \n",
       "3  Archivos Españoles de Urología (Ed. impresa)  ...   \n",
       "4  Archivos Españoles de Urología (Ed. impresa)  ...   \n",
       "\n",
       "                                      Full_Text_Link  \n",
       "0  http://scielo.isciii.es/scielo.php?script=sci_...  \n",
       "1  http://scielo.isciii.es/scielo.php?script=sci_...  \n",
       "2  http://scielo.isciii.es/scielo.php?script=sci_...  \n",
       "3  http://scielo.isciii.es/scielo.php?script=sci_...  \n",
       "4  http://scielo.isciii.es/scielo.php?script=sci_...  "
      ]
     },
     "execution_count": 32,
     "metadata": {},
     "output_type": "execute_result"
    }
   ],
   "source": [
    "sample_met.head()"
   ]
  },
  {
   "cell_type": "code",
   "execution_count": 33,
   "metadata": {},
   "outputs": [],
   "source": [
    "sample_rel = sample_rel.rename(columns = {'# Document_ID': 'doc_id'})"
   ]
  },
  {
   "cell_type": "code",
   "execution_count": 34,
   "metadata": {},
   "outputs": [
    {
     "data": {
      "text/html": [
       "<div>\n",
       "<style scoped>\n",
       "    .dataframe tbody tr th:only-of-type {\n",
       "        vertical-align: middle;\n",
       "    }\n",
       "\n",
       "    .dataframe tbody tr th {\n",
       "        vertical-align: top;\n",
       "    }\n",
       "\n",
       "    .dataframe thead th {\n",
       "        text-align: right;\n",
       "    }\n",
       "</style>\n",
       "<table border=\"1\" class=\"dataframe\">\n",
       "  <thead>\n",
       "    <tr style=\"text-align: right;\">\n",
       "      <th></th>\n",
       "      <th>doc_id</th>\n",
       "      <th>Mention_A_type</th>\n",
       "      <th>Mention_A_StartOffset</th>\n",
       "      <th>Mention_A_EndOffset</th>\n",
       "      <th>Mention_A</th>\n",
       "      <th>Relation_type</th>\n",
       "      <th>Mention_B_type</th>\n",
       "      <th>Mention_B_StartOffset</th>\n",
       "      <th>Mention_B_EndOffset</th>\n",
       "      <th>Mention_B</th>\n",
       "    </tr>\n",
       "  </thead>\n",
       "  <tbody>\n",
       "    <tr>\n",
       "      <th>0</th>\n",
       "      <td>S0004-06142006000700014-1</td>\n",
       "      <td>SHORT_FORM</td>\n",
       "      <td>926</td>\n",
       "      <td>929</td>\n",
       "      <td>CEA</td>\n",
       "      <td>SHORT-LONG</td>\n",
       "      <td>LONG_FORM</td>\n",
       "      <td>896</td>\n",
       "      <td>924</td>\n",
       "      <td>Antígeno Carcino Embrionario</td>\n",
       "    </tr>\n",
       "    <tr>\n",
       "      <th>1</th>\n",
       "      <td>S0004-06142005001000011-1</td>\n",
       "      <td>SHORT_FORM</td>\n",
       "      <td>1626</td>\n",
       "      <td>1629</td>\n",
       "      <td>ROT</td>\n",
       "      <td>SHORT-LONG</td>\n",
       "      <td>LONG_FORM</td>\n",
       "      <td>1600</td>\n",
       "      <td>1624</td>\n",
       "      <td>reflejos osteotendinosos</td>\n",
       "    </tr>\n",
       "    <tr>\n",
       "      <th>2</th>\n",
       "      <td>S0004-06142005001000011-1</td>\n",
       "      <td>SHORT_FORM</td>\n",
       "      <td>1715</td>\n",
       "      <td>1718</td>\n",
       "      <td>RMN</td>\n",
       "      <td>SHORT-LONG</td>\n",
       "      <td>LONG_FORM</td>\n",
       "      <td>1685</td>\n",
       "      <td>1713</td>\n",
       "      <td>resonancia magnética nuclear</td>\n",
       "    </tr>\n",
       "    <tr>\n",
       "      <th>3</th>\n",
       "      <td>S0004-06142005001000011-1</td>\n",
       "      <td>SHORT_FORM</td>\n",
       "      <td>1663</td>\n",
       "      <td>1666</td>\n",
       "      <td>RCP</td>\n",
       "      <td>SHORT-LONG</td>\n",
       "      <td>LONG_FORM</td>\n",
       "      <td>1639</td>\n",
       "      <td>1661</td>\n",
       "      <td>reflejo cutaneoplantar</td>\n",
       "    </tr>\n",
       "    <tr>\n",
       "      <th>4</th>\n",
       "      <td>S0004-06142005001000011-1</td>\n",
       "      <td>SHORT_FORM</td>\n",
       "      <td>1808</td>\n",
       "      <td>1811</td>\n",
       "      <td>LCR</td>\n",
       "      <td>SHORT-LONG</td>\n",
       "      <td>LONG_FORM</td>\n",
       "      <td>1783</td>\n",
       "      <td>1806</td>\n",
       "      <td>líquido cefalorraquídeo</td>\n",
       "    </tr>\n",
       "  </tbody>\n",
       "</table>\n",
       "</div>"
      ],
      "text/plain": [
       "                      doc_id Mention_A_type  Mention_A_StartOffset  \\\n",
       "0  S0004-06142006000700014-1     SHORT_FORM                    926   \n",
       "1  S0004-06142005001000011-1     SHORT_FORM                   1626   \n",
       "2  S0004-06142005001000011-1     SHORT_FORM                   1715   \n",
       "3  S0004-06142005001000011-1     SHORT_FORM                   1663   \n",
       "4  S0004-06142005001000011-1     SHORT_FORM                   1808   \n",
       "\n",
       "   Mention_A_EndOffset Mention_A Relation_type Mention_B_type  \\\n",
       "0                  929       CEA    SHORT-LONG      LONG_FORM   \n",
       "1                 1629       ROT    SHORT-LONG      LONG_FORM   \n",
       "2                 1718       RMN    SHORT-LONG      LONG_FORM   \n",
       "3                 1666       RCP    SHORT-LONG      LONG_FORM   \n",
       "4                 1811       LCR    SHORT-LONG      LONG_FORM   \n",
       "\n",
       "   Mention_B_StartOffset  Mention_B_EndOffset                     Mention_B  \n",
       "0                    896                  924  Antígeno Carcino Embrionario  \n",
       "1                   1600                 1624      reflejos osteotendinosos  \n",
       "2                   1685                 1713  resonancia magnética nuclear  \n",
       "3                   1639                 1661        reflejo cutaneoplantar  \n",
       "4                   1783                 1806       líquido cefalorraquídeo  "
      ]
     },
     "execution_count": 34,
     "metadata": {},
     "output_type": "execute_result"
    }
   ],
   "source": [
    "sample_rel.head()"
   ]
  },
  {
   "cell_type": "code",
   "execution_count": 35,
   "metadata": {},
   "outputs": [],
   "source": [
    "sample_abbr = sample_abbr.rename(columns = {'# Document_ID': 'doc_id'})"
   ]
  },
  {
   "cell_type": "code",
   "execution_count": 36,
   "metadata": {},
   "outputs": [
    {
     "data": {
      "text/html": [
       "<div>\n",
       "<style scoped>\n",
       "    .dataframe tbody tr th:only-of-type {\n",
       "        vertical-align: middle;\n",
       "    }\n",
       "\n",
       "    .dataframe tbody tr th {\n",
       "        vertical-align: top;\n",
       "    }\n",
       "\n",
       "    .dataframe thead th {\n",
       "        text-align: right;\n",
       "    }\n",
       "</style>\n",
       "<table border=\"1\" class=\"dataframe\">\n",
       "  <thead>\n",
       "    <tr style=\"text-align: right;\">\n",
       "      <th></th>\n",
       "      <th>doc_id</th>\n",
       "      <th>StartOffset</th>\n",
       "      <th>EndOffset</th>\n",
       "      <th>Abbreviation</th>\n",
       "      <th>Definition</th>\n",
       "      <th>Definition_lemmatized</th>\n",
       "    </tr>\n",
       "  </thead>\n",
       "  <tbody>\n",
       "    <tr>\n",
       "      <th>0</th>\n",
       "      <td>S0004-06142005001000011-1</td>\n",
       "      <td>1034</td>\n",
       "      <td>1036</td>\n",
       "      <td>Kg</td>\n",
       "      <td>kilogramo</td>\n",
       "      <td>kilogramo</td>\n",
       "    </tr>\n",
       "    <tr>\n",
       "      <th>1</th>\n",
       "      <td>S0004-06142005001000011-1</td>\n",
       "      <td>1031</td>\n",
       "      <td>1033</td>\n",
       "      <td>mg</td>\n",
       "      <td>miligramo</td>\n",
       "      <td>miligramo</td>\n",
       "    </tr>\n",
       "    <tr>\n",
       "      <th>2</th>\n",
       "      <td>S0004-06142005001000011-1</td>\n",
       "      <td>196</td>\n",
       "      <td>199</td>\n",
       "      <td>IgA</td>\n",
       "      <td>inmunoglobulina a</td>\n",
       "      <td>inmunoglobulina a</td>\n",
       "    </tr>\n",
       "    <tr>\n",
       "      <th>3</th>\n",
       "      <td>S0004-06142005001000011-1</td>\n",
       "      <td>2057</td>\n",
       "      <td>2060</td>\n",
       "      <td>LCR</td>\n",
       "      <td>líquido cefalorraquídeo</td>\n",
       "      <td>líquido cefalorraquídeo</td>\n",
       "    </tr>\n",
       "    <tr>\n",
       "      <th>4</th>\n",
       "      <td>S0004-06142005001000011-1</td>\n",
       "      <td>1594</td>\n",
       "      <td>1598</td>\n",
       "      <td>EEII</td>\n",
       "      <td>extremidades inferiores</td>\n",
       "      <td>extremidad inferior</td>\n",
       "    </tr>\n",
       "  </tbody>\n",
       "</table>\n",
       "</div>"
      ],
      "text/plain": [
       "                      doc_id  StartOffset  EndOffset Abbreviation  \\\n",
       "0  S0004-06142005001000011-1         1034       1036           Kg   \n",
       "1  S0004-06142005001000011-1         1031       1033           mg   \n",
       "2  S0004-06142005001000011-1          196        199          IgA   \n",
       "3  S0004-06142005001000011-1         2057       2060          LCR   \n",
       "4  S0004-06142005001000011-1         1594       1598         EEII   \n",
       "\n",
       "                Definition    Definition_lemmatized  \n",
       "0                kilogramo                kilogramo  \n",
       "1                miligramo                miligramo  \n",
       "2        inmunoglobulina a        inmunoglobulina a  \n",
       "3  líquido cefalorraquídeo  líquido cefalorraquídeo  \n",
       "4  extremidades inferiores      extremidad inferior  "
      ]
     },
     "execution_count": 36,
     "metadata": {},
     "output_type": "execute_result"
    }
   ],
   "source": [
    "sample_abbr.head()"
   ]
  },
  {
   "cell_type": "code",
   "execution_count": 37,
   "metadata": {},
   "outputs": [],
   "source": [
    "sample_raw = read_texts(\"../datasets/sample_set/sample_set.raw_text/\")"
   ]
  },
  {
   "cell_type": "code",
   "execution_count": 38,
   "metadata": {},
   "outputs": [
    {
     "data": {
      "text/html": [
       "<div>\n",
       "<style scoped>\n",
       "    .dataframe tbody tr th:only-of-type {\n",
       "        vertical-align: middle;\n",
       "    }\n",
       "\n",
       "    .dataframe tbody tr th {\n",
       "        vertical-align: top;\n",
       "    }\n",
       "\n",
       "    .dataframe thead th {\n",
       "        text-align: right;\n",
       "    }\n",
       "</style>\n",
       "<table border=\"1\" class=\"dataframe\">\n",
       "  <thead>\n",
       "    <tr style=\"text-align: right;\">\n",
       "      <th></th>\n",
       "      <th>nombre</th>\n",
       "      <th>texto</th>\n",
       "    </tr>\n",
       "  </thead>\n",
       "  <tbody>\n",
       "    <tr>\n",
       "      <th>0</th>\n",
       "      <td>S0004-06142006000600014-1</td>\n",
       "      <td>Paciente varón, de 40 años de edad, con antece...</td>\n",
       "    </tr>\n",
       "    <tr>\n",
       "      <th>1</th>\n",
       "      <td>S0004-06142006000300015-1</td>\n",
       "      <td>Paciente de 50 años con antecedente de litiasi...</td>\n",
       "    </tr>\n",
       "    <tr>\n",
       "      <th>2</th>\n",
       "      <td>S0004-06142007000900013-1</td>\n",
       "      <td>Presentamos el caso de un recién nacido de tre...</td>\n",
       "    </tr>\n",
       "    <tr>\n",
       "      <th>3</th>\n",
       "      <td>S0004-06142005001000011-1</td>\n",
       "      <td>Varón de 58 años de edad en el momento del tra...</td>\n",
       "    </tr>\n",
       "    <tr>\n",
       "      <th>4</th>\n",
       "      <td>S0004-06142006000700013-1</td>\n",
       "      <td>Paciente varón, de 63 años de edad, mestizo, d...</td>\n",
       "    </tr>\n",
       "  </tbody>\n",
       "</table>\n",
       "</div>"
      ],
      "text/plain": [
       "                      nombre  \\\n",
       "0  S0004-06142006000600014-1   \n",
       "1  S0004-06142006000300015-1   \n",
       "2  S0004-06142007000900013-1   \n",
       "3  S0004-06142005001000011-1   \n",
       "4  S0004-06142006000700013-1   \n",
       "\n",
       "                                               texto  \n",
       "0  Paciente varón, de 40 años de edad, con antece...  \n",
       "1  Paciente de 50 años con antecedente de litiasi...  \n",
       "2  Presentamos el caso de un recién nacido de tre...  \n",
       "3  Varón de 58 años de edad en el momento del tra...  \n",
       "4  Paciente varón, de 63 años de edad, mestizo, d...  "
      ]
     },
     "execution_count": 38,
     "metadata": {},
     "output_type": "execute_result"
    }
   ],
   "source": [
    "sample_raw.head()"
   ]
  },
  {
   "cell_type": "markdown",
   "metadata": {},
   "source": [
    "### Trainning\n",
    "\n",
    "318 clinical cases"
   ]
  },
  {
   "cell_type": "code",
   "execution_count": 5,
   "metadata": {},
   "outputs": [],
   "source": [
    "train_abbr = pd.read_csv(\"../datasets/trainning_set/clinical_cases.abbreviations.training_set.tsv\", sep = '\\t')\n",
    "train_met = pd.read_csv(\"../datasets/trainning_set/clinical_cases.metadata.training_set.tsv\", sep = '\\t')\n",
    "train_rel = pd.read_csv(\"../datasets/trainning_set/clinical_cases.relations.training_set.tsv\", sep = '\\t')"
   ]
  },
  {
   "cell_type": "code",
   "execution_count": 6,
   "metadata": {},
   "outputs": [],
   "source": [
    "train_met = train_met.rename(columns = {'# Document_ID': 'doc_id'})"
   ]
  },
  {
   "cell_type": "code",
   "execution_count": 7,
   "metadata": {},
   "outputs": [
    {
     "data": {
      "text/html": [
       "<div>\n",
       "<style scoped>\n",
       "    .dataframe tbody tr th:only-of-type {\n",
       "        vertical-align: middle;\n",
       "    }\n",
       "\n",
       "    .dataframe tbody tr th {\n",
       "        vertical-align: top;\n",
       "    }\n",
       "\n",
       "    .dataframe thead th {\n",
       "        text-align: right;\n",
       "    }\n",
       "</style>\n",
       "<table border=\"1\" class=\"dataframe\">\n",
       "  <thead>\n",
       "    <tr style=\"text-align: right;\">\n",
       "      <th></th>\n",
       "      <th>doc_id</th>\n",
       "      <th>Case_ID</th>\n",
       "      <th>ISSN</th>\n",
       "      <th>Date</th>\n",
       "      <th>Source</th>\n",
       "      <th>Full_Text_Link</th>\n",
       "    </tr>\n",
       "  </thead>\n",
       "  <tbody>\n",
       "    <tr>\n",
       "      <th>0</th>\n",
       "      <td>S1139-76322015000500009-1.txt</td>\n",
       "      <td>1.txt</td>\n",
       "      <td>1139-7632</td>\n",
       "      <td>2015-12-01</td>\n",
       "      <td>Pediatría Atención Primaria  v.17 n.68 2015</td>\n",
       "      <td>http://scielo.isciii.es/scielo.php?script=sci_...</td>\n",
       "    </tr>\n",
       "    <tr>\n",
       "      <th>1</th>\n",
       "      <td>S1130-05582008000400007-2.txt</td>\n",
       "      <td>2.txt</td>\n",
       "      <td>1130-0558</td>\n",
       "      <td>2008-08-01</td>\n",
       "      <td>Revista Española de Cirugía Oral y Maxilofacia...</td>\n",
       "      <td>http://scielo.isciii.es/scielo.php?script=sci_...</td>\n",
       "    </tr>\n",
       "    <tr>\n",
       "      <th>2</th>\n",
       "      <td>S0210-48062006000100012-1.txt</td>\n",
       "      <td>1.txt</td>\n",
       "      <td>0210-4806</td>\n",
       "      <td>2006-01-01</td>\n",
       "      <td>Actas Urológicas Españolas  v.30 n.1 2006</td>\n",
       "      <td>http://scielo.isciii.es/scielo.php?script=sci_...</td>\n",
       "    </tr>\n",
       "    <tr>\n",
       "      <th>3</th>\n",
       "      <td>S0213-12852003000500002-1.txt</td>\n",
       "      <td>1.txt</td>\n",
       "      <td>0213-1285</td>\n",
       "      <td>2003-10-01</td>\n",
       "      <td>Avances en Odontoestomatología  v.19 n.5 2003</td>\n",
       "      <td>http://scielo.isciii.es/scielo.php?script=sci_...</td>\n",
       "    </tr>\n",
       "    <tr>\n",
       "      <th>4</th>\n",
       "      <td>S0212-71992005000400007-1.txt</td>\n",
       "      <td>1.txt</td>\n",
       "      <td>0212-7199</td>\n",
       "      <td>2005-04-01</td>\n",
       "      <td>Anales de Medicina Interna  v.22 n.4 2005</td>\n",
       "      <td>http://scielo.isciii.es/scielo.php?script=sci_...</td>\n",
       "    </tr>\n",
       "  </tbody>\n",
       "</table>\n",
       "</div>"
      ],
      "text/plain": [
       "                          doc_id Case_ID       ISSN        Date  \\\n",
       "0  S1139-76322015000500009-1.txt   1.txt  1139-7632  2015-12-01   \n",
       "1  S1130-05582008000400007-2.txt   2.txt  1130-0558  2008-08-01   \n",
       "2  S0210-48062006000100012-1.txt   1.txt  0210-4806  2006-01-01   \n",
       "3  S0213-12852003000500002-1.txt   1.txt  0213-1285  2003-10-01   \n",
       "4  S0212-71992005000400007-1.txt   1.txt  0212-7199  2005-04-01   \n",
       "\n",
       "                                              Source  \\\n",
       "0        Pediatría Atención Primaria  v.17 n.68 2015   \n",
       "1  Revista Española de Cirugía Oral y Maxilofacia...   \n",
       "2          Actas Urológicas Españolas  v.30 n.1 2006   \n",
       "3      Avances en Odontoestomatología  v.19 n.5 2003   \n",
       "4          Anales de Medicina Interna  v.22 n.4 2005   \n",
       "\n",
       "                                      Full_Text_Link  \n",
       "0  http://scielo.isciii.es/scielo.php?script=sci_...  \n",
       "1  http://scielo.isciii.es/scielo.php?script=sci_...  \n",
       "2  http://scielo.isciii.es/scielo.php?script=sci_...  \n",
       "3  http://scielo.isciii.es/scielo.php?script=sci_...  \n",
       "4  http://scielo.isciii.es/scielo.php?script=sci_...  "
      ]
     },
     "execution_count": 7,
     "metadata": {},
     "output_type": "execute_result"
    }
   ],
   "source": [
    "train_met.head()"
   ]
  },
  {
   "cell_type": "code",
   "execution_count": 8,
   "metadata": {},
   "outputs": [],
   "source": [
    "train_rel = train_rel.reset_index()"
   ]
  },
  {
   "cell_type": "code",
   "execution_count": 9,
   "metadata": {},
   "outputs": [],
   "source": [
    "train_rel.columns = ['# Document_ID', 'Mention_A_type', 'Mention_A_StartOffset',\n",
    "      'Mention_A', 'Relation_type', 'Mention_B_type',\n",
    "       'Mention_B_StartOffset', 'Mention_B_EndOffset', 'Mention_B']"
   ]
  },
  {
   "cell_type": "code",
   "execution_count": 10,
   "metadata": {},
   "outputs": [],
   "source": [
    "train_rel = train_rel.rename(columns = {'# Document_ID': 'doc_id'})"
   ]
  },
  {
   "cell_type": "code",
   "execution_count": 11,
   "metadata": {},
   "outputs": [
    {
     "data": {
      "text/html": [
       "<div>\n",
       "<style scoped>\n",
       "    .dataframe tbody tr th:only-of-type {\n",
       "        vertical-align: middle;\n",
       "    }\n",
       "\n",
       "    .dataframe tbody tr th {\n",
       "        vertical-align: top;\n",
       "    }\n",
       "\n",
       "    .dataframe thead th {\n",
       "        text-align: right;\n",
       "    }\n",
       "</style>\n",
       "<table border=\"1\" class=\"dataframe\">\n",
       "  <thead>\n",
       "    <tr style=\"text-align: right;\">\n",
       "      <th></th>\n",
       "      <th>doc_id</th>\n",
       "      <th>Mention_A_type</th>\n",
       "      <th>Mention_A_StartOffset</th>\n",
       "      <th>Mention_A</th>\n",
       "      <th>Relation_type</th>\n",
       "      <th>Mention_B_type</th>\n",
       "      <th>Mention_B_StartOffset</th>\n",
       "      <th>Mention_B_EndOffset</th>\n",
       "      <th>Mention_B</th>\n",
       "    </tr>\n",
       "  </thead>\n",
       "  <tbody>\n",
       "    <tr>\n",
       "      <th>0</th>\n",
       "      <td>S1130-01082009000400014-1</td>\n",
       "      <td>SHORT_FORM</td>\n",
       "      <td>476</td>\n",
       "      <td>NPT</td>\n",
       "      <td>SHORT-LONG</td>\n",
       "      <td>LONG_FORM</td>\n",
       "      <td>454.0</td>\n",
       "      <td>474.0</td>\n",
       "      <td>nutrición parenteral</td>\n",
       "    </tr>\n",
       "    <tr>\n",
       "      <th>1</th>\n",
       "      <td>S1130-63432016000100009-1</td>\n",
       "      <td>SHORT_FORM</td>\n",
       "      <td>614</td>\n",
       "      <td>NIHSS</td>\n",
       "      <td>SHORT-LONG</td>\n",
       "      <td>LONG_FORM</td>\n",
       "      <td>621.0</td>\n",
       "      <td>662.0</td>\n",
       "      <td>National Institute of Health Stroke Scale</td>\n",
       "    </tr>\n",
       "    <tr>\n",
       "      <th>2</th>\n",
       "      <td>S1139-76322017000200007-1</td>\n",
       "      <td>SHORT_FORM</td>\n",
       "      <td>1145</td>\n",
       "      <td>CMV</td>\n",
       "      <td>SHORT-LONG</td>\n",
       "      <td>LONG_FORM</td>\n",
       "      <td>1128.0</td>\n",
       "      <td>1143.0</td>\n",
       "      <td>citomegalovirus</td>\n",
       "    </tr>\n",
       "    <tr>\n",
       "      <th>3</th>\n",
       "      <td>S1139-76322017000200007-1</td>\n",
       "      <td>SHORT_FORM</td>\n",
       "      <td>1243</td>\n",
       "      <td>VSG</td>\n",
       "      <td>SHORT-LONG</td>\n",
       "      <td>LONG_FORM</td>\n",
       "      <td>1206.0</td>\n",
       "      <td>1241.0</td>\n",
       "      <td>velocidad de sedimentación globular</td>\n",
       "    </tr>\n",
       "    <tr>\n",
       "      <th>4</th>\n",
       "      <td>S1139-76322017000200007-1</td>\n",
       "      <td>SHORT_FORM</td>\n",
       "      <td>1300</td>\n",
       "      <td>IGRA</td>\n",
       "      <td>SHORT-LONG</td>\n",
       "      <td>LONG_FORM</td>\n",
       "      <td>1267.0</td>\n",
       "      <td>1298.0</td>\n",
       "      <td>interferon-gamma release assays</td>\n",
       "    </tr>\n",
       "  </tbody>\n",
       "</table>\n",
       "</div>"
      ],
      "text/plain": [
       "                      doc_id Mention_A_type Mention_A_StartOffset Mention_A  \\\n",
       "0  S1130-01082009000400014-1     SHORT_FORM                   476       NPT   \n",
       "1  S1130-63432016000100009-1     SHORT_FORM                   614     NIHSS   \n",
       "2  S1139-76322017000200007-1     SHORT_FORM                  1145       CMV   \n",
       "3  S1139-76322017000200007-1     SHORT_FORM                  1243       VSG   \n",
       "4  S1139-76322017000200007-1     SHORT_FORM                  1300      IGRA   \n",
       "\n",
       "  Relation_type Mention_B_type  Mention_B_StartOffset  Mention_B_EndOffset  \\\n",
       "0    SHORT-LONG      LONG_FORM                  454.0                474.0   \n",
       "1    SHORT-LONG      LONG_FORM                  621.0                662.0   \n",
       "2    SHORT-LONG      LONG_FORM                 1128.0               1143.0   \n",
       "3    SHORT-LONG      LONG_FORM                 1206.0               1241.0   \n",
       "4    SHORT-LONG      LONG_FORM                 1267.0               1298.0   \n",
       "\n",
       "                                   Mention_B  \n",
       "0                       nutrición parenteral  \n",
       "1  National Institute of Health Stroke Scale  \n",
       "2                            citomegalovirus  \n",
       "3        velocidad de sedimentación globular  \n",
       "4            interferon-gamma release assays  "
      ]
     },
     "execution_count": 11,
     "metadata": {},
     "output_type": "execute_result"
    }
   ],
   "source": [
    "train_rel.head()"
   ]
  },
  {
   "cell_type": "code",
   "execution_count": 12,
   "metadata": {},
   "outputs": [],
   "source": [
    "train_abbr = train_abbr.rename(columns = {'# Document_ID': 'doc_id'})"
   ]
  },
  {
   "cell_type": "code",
   "execution_count": 13,
   "metadata": {},
   "outputs": [
    {
     "data": {
      "text/plain": [
       "908"
      ]
     },
     "execution_count": 13,
     "metadata": {},
     "output_type": "execute_result"
    }
   ],
   "source": [
    "train_abbr.Definition.nunique()"
   ]
  },
  {
   "cell_type": "code",
   "execution_count": 14,
   "metadata": {},
   "outputs": [
    {
     "data": {
      "text/html": [
       "<div>\n",
       "<style scoped>\n",
       "    .dataframe tbody tr th:only-of-type {\n",
       "        vertical-align: middle;\n",
       "    }\n",
       "\n",
       "    .dataframe tbody tr th {\n",
       "        vertical-align: top;\n",
       "    }\n",
       "\n",
       "    .dataframe thead th {\n",
       "        text-align: right;\n",
       "    }\n",
       "</style>\n",
       "<table border=\"1\" class=\"dataframe\">\n",
       "  <thead>\n",
       "    <tr style=\"text-align: right;\">\n",
       "      <th></th>\n",
       "      <th>doc_id</th>\n",
       "      <th>StartOffset</th>\n",
       "      <th>EndOffset</th>\n",
       "      <th>Abbreviation</th>\n",
       "      <th>Definition</th>\n",
       "      <th>Definition_lemmatized</th>\n",
       "    </tr>\n",
       "  </thead>\n",
       "  <tbody>\n",
       "    <tr>\n",
       "      <th>0</th>\n",
       "      <td>S0210-48062004000500008-1</td>\n",
       "      <td>1650</td>\n",
       "      <td>1652</td>\n",
       "      <td>ml</td>\n",
       "      <td>mililitro</td>\n",
       "      <td>mililitro</td>\n",
       "    </tr>\n",
       "    <tr>\n",
       "      <th>1</th>\n",
       "      <td>S0210-48062004000500008-1</td>\n",
       "      <td>708</td>\n",
       "      <td>709</td>\n",
       "      <td>l</td>\n",
       "      <td>litro</td>\n",
       "      <td>litro</td>\n",
       "    </tr>\n",
       "    <tr>\n",
       "      <th>2</th>\n",
       "      <td>S0210-48062004000500008-1</td>\n",
       "      <td>704</td>\n",
       "      <td>707</td>\n",
       "      <td>mEq</td>\n",
       "      <td>miliequivalente</td>\n",
       "      <td>miliequivalente</td>\n",
       "    </tr>\n",
       "    <tr>\n",
       "      <th>3</th>\n",
       "      <td>S0210-48062004000500008-1</td>\n",
       "      <td>677</td>\n",
       "      <td>681</td>\n",
       "      <td>pCO2</td>\n",
       "      <td>presión parcial de co2</td>\n",
       "      <td>presión parcial de co2</td>\n",
       "    </tr>\n",
       "    <tr>\n",
       "      <th>4</th>\n",
       "      <td>S0210-48062004000500008-1</td>\n",
       "      <td>2287</td>\n",
       "      <td>2290</td>\n",
       "      <td>HLA</td>\n",
       "      <td>human leucocyte antigen</td>\n",
       "      <td>human leucocyte antiger</td>\n",
       "    </tr>\n",
       "  </tbody>\n",
       "</table>\n",
       "</div>"
      ],
      "text/plain": [
       "                      doc_id  StartOffset  EndOffset Abbreviation  \\\n",
       "0  S0210-48062004000500008-1         1650       1652           ml   \n",
       "1  S0210-48062004000500008-1          708        709            l   \n",
       "2  S0210-48062004000500008-1          704        707          mEq   \n",
       "3  S0210-48062004000500008-1          677        681         pCO2   \n",
       "4  S0210-48062004000500008-1         2287       2290          HLA   \n",
       "\n",
       "                Definition    Definition_lemmatized  \n",
       "0                mililitro                mililitro  \n",
       "1                    litro                    litro  \n",
       "2          miliequivalente          miliequivalente  \n",
       "3   presión parcial de co2   presión parcial de co2  \n",
       "4  human leucocyte antigen  human leucocyte antiger  "
      ]
     },
     "execution_count": 14,
     "metadata": {},
     "output_type": "execute_result"
    }
   ],
   "source": [
    "train_abbr.head()"
   ]
  },
  {
   "cell_type": "code",
   "execution_count": 15,
   "metadata": {},
   "outputs": [],
   "source": [
    "train_raw = read_texts(\"../datasets/trainning_set/training_set.raw_text/\")"
   ]
  },
  {
   "cell_type": "code",
   "execution_count": 16,
   "metadata": {},
   "outputs": [],
   "source": [
    "train_raw = train_raw.rename(columns = {'nombre': 'doc_id'})"
   ]
  },
  {
   "cell_type": "code",
   "execution_count": 17,
   "metadata": {},
   "outputs": [
    {
     "data": {
      "text/html": [
       "<div>\n",
       "<style scoped>\n",
       "    .dataframe tbody tr th:only-of-type {\n",
       "        vertical-align: middle;\n",
       "    }\n",
       "\n",
       "    .dataframe tbody tr th {\n",
       "        vertical-align: top;\n",
       "    }\n",
       "\n",
       "    .dataframe thead th {\n",
       "        text-align: right;\n",
       "    }\n",
       "</style>\n",
       "<table border=\"1\" class=\"dataframe\">\n",
       "  <thead>\n",
       "    <tr style=\"text-align: right;\">\n",
       "      <th></th>\n",
       "      <th>doc_id</th>\n",
       "      <th>texto</th>\n",
       "    </tr>\n",
       "  </thead>\n",
       "  <tbody>\n",
       "    <tr>\n",
       "      <th>0</th>\n",
       "      <td>S1130-05582012000300005-1</td>\n",
       "      <td>Acude a nuestras consultas a un paciente que p...</td>\n",
       "    </tr>\n",
       "    <tr>\n",
       "      <th>1</th>\n",
       "      <td>S0212-71992005000400009-1</td>\n",
       "      <td>Se trataba de un varón de 27 años de edad, que...</td>\n",
       "    </tr>\n",
       "    <tr>\n",
       "      <th>2</th>\n",
       "      <td>S0004-06142008000700015-2</td>\n",
       "      <td>Varón de 33 años fumador de un paquete de ciga...</td>\n",
       "    </tr>\n",
       "    <tr>\n",
       "      <th>3</th>\n",
       "      <td>S0210-56912006000800008-1</td>\n",
       "      <td>Hombre de 42 años, bebedor de más de 100 g de ...</td>\n",
       "    </tr>\n",
       "    <tr>\n",
       "      <th>4</th>\n",
       "      <td>S0376-78922009000300010-1</td>\n",
       "      <td>Paciente de 18 años de edad que 5 meses antes ...</td>\n",
       "    </tr>\n",
       "  </tbody>\n",
       "</table>\n",
       "</div>"
      ],
      "text/plain": [
       "                      doc_id  \\\n",
       "0  S1130-05582012000300005-1   \n",
       "1  S0212-71992005000400009-1   \n",
       "2  S0004-06142008000700015-2   \n",
       "3  S0210-56912006000800008-1   \n",
       "4  S0376-78922009000300010-1   \n",
       "\n",
       "                                               texto  \n",
       "0  Acude a nuestras consultas a un paciente que p...  \n",
       "1  Se trataba de un varón de 27 años de edad, que...  \n",
       "2  Varón de 33 años fumador de un paquete de ciga...  \n",
       "3  Hombre de 42 años, bebedor de más de 100 g de ...  \n",
       "4  Paciente de 18 años de edad que 5 meses antes ...  "
      ]
     },
     "execution_count": 17,
     "metadata": {},
     "output_type": "execute_result"
    }
   ],
   "source": [
    "train_raw.head()"
   ]
  },
  {
   "cell_type": "markdown",
   "metadata": {},
   "source": [
    "## Prepare Data"
   ]
  },
  {
   "cell_type": "code",
   "execution_count": 18,
   "metadata": {},
   "outputs": [
    {
     "data": {
      "text/plain": [
       "(4260, 6)"
      ]
     },
     "execution_count": 18,
     "metadata": {},
     "output_type": "execute_result"
    }
   ],
   "source": [
    "train_abbr.shape"
   ]
  },
  {
   "cell_type": "code",
   "execution_count": 19,
   "metadata": {},
   "outputs": [
    {
     "data": {
      "text/plain": [
       "(318, 2)"
      ]
     },
     "execution_count": 19,
     "metadata": {},
     "output_type": "execute_result"
    }
   ],
   "source": [
    "train_raw.shape"
   ]
  },
  {
   "cell_type": "code",
   "execution_count": 87,
   "metadata": {},
   "outputs": [],
   "source": [
    "train = train_raw.merge(train_abbr[['doc_id', 'Abbreviation', 'Definition_lemmatized']], on = 'doc_id', how = 'left')"
   ]
  },
  {
   "cell_type": "code",
   "execution_count": 88,
   "metadata": {},
   "outputs": [],
   "source": [
    "train = train.merge(train_abbr, on = ['doc_id', 'Abbreviation'], how = 'left')"
   ]
  },
  {
   "cell_type": "code",
   "execution_count": 89,
   "metadata": {},
   "outputs": [],
   "source": [
    "train = train.drop_duplicates()"
   ]
  },
  {
   "cell_type": "code",
   "execution_count": 91,
   "metadata": {},
   "outputs": [],
   "source": [
    "train = train[['doc_id', 'texto', 'Abbreviation', 'Definition_lemmatized_x', 'StartOffset', 'EndOffset']]"
   ]
  },
  {
   "cell_type": "code",
   "execution_count": 92,
   "metadata": {},
   "outputs": [],
   "source": [
    "train = train.rename(columns = {'Definition_lemmatized_x':'Definition'})"
   ]
  },
  {
   "cell_type": "code",
   "execution_count": 93,
   "metadata": {},
   "outputs": [
    {
     "data": {
      "text/html": [
       "<div>\n",
       "<style scoped>\n",
       "    .dataframe tbody tr th:only-of-type {\n",
       "        vertical-align: middle;\n",
       "    }\n",
       "\n",
       "    .dataframe tbody tr th {\n",
       "        vertical-align: top;\n",
       "    }\n",
       "\n",
       "    .dataframe thead th {\n",
       "        text-align: right;\n",
       "    }\n",
       "</style>\n",
       "<table border=\"1\" class=\"dataframe\">\n",
       "  <thead>\n",
       "    <tr style=\"text-align: right;\">\n",
       "      <th></th>\n",
       "      <th>doc_id</th>\n",
       "      <th>texto</th>\n",
       "      <th>Abbreviation</th>\n",
       "      <th>Definition</th>\n",
       "      <th>StartOffset</th>\n",
       "      <th>EndOffset</th>\n",
       "    </tr>\n",
       "  </thead>\n",
       "  <tbody>\n",
       "    <tr>\n",
       "      <th>0</th>\n",
       "      <td>S1130-05582012000300005-1</td>\n",
       "      <td>Acude a nuestras consultas a un paciente que p...</td>\n",
       "      <td>PAAF</td>\n",
       "      <td>punción aspiración con aguja fino</td>\n",
       "      <td>1006.0</td>\n",
       "      <td>1010.0</td>\n",
       "    </tr>\n",
       "    <tr>\n",
       "      <th>1</th>\n",
       "      <td>S1130-05582012000300005-1</td>\n",
       "      <td>Acude a nuestras consultas a un paciente que p...</td>\n",
       "      <td>RM</td>\n",
       "      <td>resonancia magnético</td>\n",
       "      <td>789.0</td>\n",
       "      <td>791.0</td>\n",
       "    </tr>\n",
       "    <tr>\n",
       "      <th>2</th>\n",
       "      <td>S1130-05582012000300005-1</td>\n",
       "      <td>Acude a nuestras consultas a un paciente que p...</td>\n",
       "      <td>cm</td>\n",
       "      <td>centímetro</td>\n",
       "      <td>1345.0</td>\n",
       "      <td>1347.0</td>\n",
       "    </tr>\n",
       "    <tr>\n",
       "      <th>3</th>\n",
       "      <td>S1130-05582012000300005-1</td>\n",
       "      <td>Acude a nuestras consultas a un paciente que p...</td>\n",
       "      <td>cm</td>\n",
       "      <td>centímetro</td>\n",
       "      <td>1217.0</td>\n",
       "      <td>1219.0</td>\n",
       "    </tr>\n",
       "    <tr>\n",
       "      <th>4</th>\n",
       "      <td>S1130-05582012000300005-1</td>\n",
       "      <td>Acude a nuestras consultas a un paciente que p...</td>\n",
       "      <td>g</td>\n",
       "      <td>gramo</td>\n",
       "      <td>1304.0</td>\n",
       "      <td>1305.0</td>\n",
       "    </tr>\n",
       "  </tbody>\n",
       "</table>\n",
       "</div>"
      ],
      "text/plain": [
       "                      doc_id  \\\n",
       "0  S1130-05582012000300005-1   \n",
       "1  S1130-05582012000300005-1   \n",
       "2  S1130-05582012000300005-1   \n",
       "3  S1130-05582012000300005-1   \n",
       "4  S1130-05582012000300005-1   \n",
       "\n",
       "                                               texto Abbreviation  \\\n",
       "0  Acude a nuestras consultas a un paciente que p...         PAAF   \n",
       "1  Acude a nuestras consultas a un paciente que p...           RM   \n",
       "2  Acude a nuestras consultas a un paciente que p...           cm   \n",
       "3  Acude a nuestras consultas a un paciente que p...           cm   \n",
       "4  Acude a nuestras consultas a un paciente que p...            g   \n",
       "\n",
       "                          Definition  StartOffset  EndOffset  \n",
       "0  punción aspiración con aguja fino       1006.0     1010.0  \n",
       "1               resonancia magnético        789.0      791.0  \n",
       "2                         centímetro       1345.0     1347.0  \n",
       "3                         centímetro       1217.0     1219.0  \n",
       "4                              gramo       1304.0     1305.0  "
      ]
     },
     "execution_count": 93,
     "metadata": {},
     "output_type": "execute_result"
    }
   ],
   "source": [
    "train.head()"
   ]
  },
  {
   "cell_type": "code",
   "execution_count": 26,
   "metadata": {},
   "outputs": [
    {
     "data": {
      "text/plain": [
       "(4886, 6)"
      ]
     },
     "execution_count": 26,
     "metadata": {},
     "output_type": "execute_result"
    }
   ],
   "source": [
    "train.shape"
   ]
  },
  {
   "cell_type": "code",
   "execution_count": 34,
   "metadata": {},
   "outputs": [
    {
     "data": {
      "text/plain": [
       "318"
      ]
     },
     "execution_count": 34,
     "metadata": {},
     "output_type": "execute_result"
    }
   ],
   "source": [
    "train['doc_id'].nunique()"
   ]
  },
  {
   "cell_type": "code",
   "execution_count": 35,
   "metadata": {},
   "outputs": [
    {
     "data": {
      "text/plain": [
       "768"
      ]
     },
     "execution_count": 35,
     "metadata": {},
     "output_type": "execute_result"
    }
   ],
   "source": [
    "train['Abbreviation'].nunique()"
   ]
  },
  {
   "cell_type": "code",
   "execution_count": 33,
   "metadata": {},
   "outputs": [],
   "source": [
    "# train['texto'] = train.apply(replace_sf_target, axis = 1)"
   ]
  },
  {
   "cell_type": "code",
   "execution_count": 94,
   "metadata": {},
   "outputs": [],
   "source": [
    "train = train.rename(columns = {'Abbreviation': 'short_form', 'Definition': 'long_form'})"
   ]
  },
  {
   "cell_type": "code",
   "execution_count": 95,
   "metadata": {},
   "outputs": [],
   "source": [
    "train = train.dropna(subset = ['short_form', 'long_form'])"
   ]
  },
  {
   "cell_type": "code",
   "execution_count": 96,
   "metadata": {},
   "outputs": [
    {
     "data": {
      "text/plain": [
       "(4355, 6)"
      ]
     },
     "execution_count": 96,
     "metadata": {},
     "output_type": "execute_result"
    }
   ],
   "source": [
    "train.shape"
   ]
  },
  {
   "cell_type": "markdown",
   "metadata": {},
   "source": [
    "## Processing text"
   ]
  },
  {
   "cell_type": "markdown",
   "metadata": {},
   "source": [
    "### 1. Tokenize and delete stop words"
   ]
  },
  {
   "cell_type": "code",
   "execution_count": 106,
   "metadata": {},
   "outputs": [],
   "source": [
    "train['texto'] = train['texto'].map(clean_text)"
   ]
  },
  {
   "cell_type": "code",
   "execution_count": 107,
   "metadata": {},
   "outputs": [],
   "source": [
    "train['long_form'] = train['long_form'].map(clean_text)"
   ]
  },
  {
   "cell_type": "code",
   "execution_count": 109,
   "metadata": {},
   "outputs": [
    {
     "data": {
      "text/plain": [
       "(4341, 6)"
      ]
     },
     "execution_count": 109,
     "metadata": {},
     "output_type": "execute_result"
    }
   ],
   "source": [
    "train = train.drop_duplicates()\n",
    "train.shape"
   ]
  },
  {
   "cell_type": "code",
   "execution_count": 49,
   "metadata": {},
   "outputs": [],
   "source": [
    "# train['text_tokenize'] = train['text_tokenize'].map(lambda x: word_tokenize(x))"
   ]
  },
  {
   "cell_type": "code",
   "execution_count": 110,
   "metadata": {},
   "outputs": [
    {
     "data": {
      "text/html": [
       "<div>\n",
       "<style scoped>\n",
       "    .dataframe tbody tr th:only-of-type {\n",
       "        vertical-align: middle;\n",
       "    }\n",
       "\n",
       "    .dataframe tbody tr th {\n",
       "        vertical-align: top;\n",
       "    }\n",
       "\n",
       "    .dataframe thead th {\n",
       "        text-align: right;\n",
       "    }\n",
       "</style>\n",
       "<table border=\"1\" class=\"dataframe\">\n",
       "  <thead>\n",
       "    <tr style=\"text-align: right;\">\n",
       "      <th></th>\n",
       "      <th>doc_id</th>\n",
       "      <th>texto</th>\n",
       "      <th>short_form</th>\n",
       "      <th>long_form</th>\n",
       "      <th>StartOffset</th>\n",
       "      <th>EndOffset</th>\n",
       "    </tr>\n",
       "  </thead>\n",
       "  <tbody>\n",
       "    <tr>\n",
       "      <th>0</th>\n",
       "      <td>S1130-05582012000300005-1</td>\n",
       "      <td>Acude consultas paciente presenta tumoracion c...</td>\n",
       "      <td>PAAF</td>\n",
       "      <td>puncion aspiracion aguja fino</td>\n",
       "      <td>1006.0</td>\n",
       "      <td>1010.0</td>\n",
       "    </tr>\n",
       "    <tr>\n",
       "      <th>1</th>\n",
       "      <td>S1130-05582012000300005-1</td>\n",
       "      <td>Acude consultas paciente presenta tumoracion c...</td>\n",
       "      <td>RM</td>\n",
       "      <td>resonancia magnetico</td>\n",
       "      <td>789.0</td>\n",
       "      <td>791.0</td>\n",
       "    </tr>\n",
       "    <tr>\n",
       "      <th>2</th>\n",
       "      <td>S1130-05582012000300005-1</td>\n",
       "      <td>Acude consultas paciente presenta tumoracion c...</td>\n",
       "      <td>cm</td>\n",
       "      <td>centimetro</td>\n",
       "      <td>1345.0</td>\n",
       "      <td>1347.0</td>\n",
       "    </tr>\n",
       "    <tr>\n",
       "      <th>3</th>\n",
       "      <td>S1130-05582012000300005-1</td>\n",
       "      <td>Acude consultas paciente presenta tumoracion c...</td>\n",
       "      <td>cm</td>\n",
       "      <td>centimetro</td>\n",
       "      <td>1217.0</td>\n",
       "      <td>1219.0</td>\n",
       "    </tr>\n",
       "    <tr>\n",
       "      <th>4</th>\n",
       "      <td>S1130-05582012000300005-1</td>\n",
       "      <td>Acude consultas paciente presenta tumoracion c...</td>\n",
       "      <td>g</td>\n",
       "      <td>gramo</td>\n",
       "      <td>1304.0</td>\n",
       "      <td>1305.0</td>\n",
       "    </tr>\n",
       "  </tbody>\n",
       "</table>\n",
       "</div>"
      ],
      "text/plain": [
       "                      doc_id  \\\n",
       "0  S1130-05582012000300005-1   \n",
       "1  S1130-05582012000300005-1   \n",
       "2  S1130-05582012000300005-1   \n",
       "3  S1130-05582012000300005-1   \n",
       "4  S1130-05582012000300005-1   \n",
       "\n",
       "                                               texto short_form  \\\n",
       "0  Acude consultas paciente presenta tumoracion c...       PAAF   \n",
       "1  Acude consultas paciente presenta tumoracion c...         RM   \n",
       "2  Acude consultas paciente presenta tumoracion c...         cm   \n",
       "3  Acude consultas paciente presenta tumoracion c...         cm   \n",
       "4  Acude consultas paciente presenta tumoracion c...          g   \n",
       "\n",
       "                       long_form  StartOffset  EndOffset  \n",
       "0  puncion aspiracion aguja fino       1006.0     1010.0  \n",
       "1           resonancia magnetico        789.0      791.0  \n",
       "2                     centimetro       1345.0     1347.0  \n",
       "3                     centimetro       1217.0     1219.0  \n",
       "4                          gramo       1304.0     1305.0  "
      ]
     },
     "execution_count": 110,
     "metadata": {},
     "output_type": "execute_result"
    }
   ],
   "source": [
    "train.head()"
   ]
  },
  {
   "cell_type": "markdown",
   "metadata": {},
   "source": [
    "Replace SF in the text for a label target"
   ]
  },
  {
   "cell_type": "code",
   "execution_count": 31,
   "metadata": {},
   "outputs": [],
   "source": [
    "# def replace_sf_target(row):\n",
    "#     row['texto'] = row['texto'].map(lambda x: x.replace(x, '<target>') if x == row['Abbreviation'] else x) \n",
    "#     return row['texto']"
   ]
  },
  {
   "cell_type": "markdown",
   "metadata": {},
   "source": [
    "Transform dataframe to a list of dictionaries"
   ]
  },
  {
   "cell_type": "code",
   "execution_count": 111,
   "metadata": {},
   "outputs": [],
   "source": [
    "train_data = train[['doc_id', 'texto', 'short_form', 'long_form']].to_dict('records')"
   ]
  },
  {
   "cell_type": "markdown",
   "metadata": {},
   "source": [
    "### 2. Build vocabulary"
   ]
  },
  {
   "cell_type": "code",
   "execution_count": 54,
   "metadata": {},
   "outputs": [],
   "source": [
    "def build_vocab(data):\n",
    "    \"\"\"\n",
    "    return a dict with each word and its id. Id is assigned based on word frecuency, it means, it 0 will be assigned to a most fecuency word\n",
    "    \"\"\"\n",
    "    \n",
    "    #coge cada palabra de cada texto y la añade a una colección que tiene la palabra y su frecuencia de aparición\n",
    "    counter = collections.Counter()\n",
    "    for elem in data:\n",
    "        counter.update(word_tokenize(elem['texto']))\n",
    "\n",
    "    # remove infrequent words\n",
    "    min_freq = 1\n",
    "    filtered = [item for item in counter.items() if item[1]>=min_freq]\n",
    "\n",
    "    count_pairs = sorted(filtered, key=lambda x: -x[1]) #ordena la lista filtered en orden descendente de frecuencia (que es el segundo elemento de la tupla)\n",
    "    words, _ = list(zip(*count_pairs)) #separa las palabras de su frecuencia\n",
    "    word_to_id = dict(zip(words, range(len(words)))) #crea un diccionario donde la clave es la palabra y el valor un índice. La palabra de índice 0 será la de mayor frecuencia de aparición\n",
    "\n",
    "    return word_to_id"
   ]
  },
  {
   "cell_type": "code",
   "execution_count": 112,
   "metadata": {},
   "outputs": [],
   "source": [
    "word_id_dict = build_vocab(train_data)"
   ]
  },
  {
   "cell_type": "code",
   "execution_count": 81,
   "metadata": {},
   "outputs": [
    {
     "data": {
      "text/plain": [
       "13606"
      ]
     },
     "execution_count": 81,
     "metadata": {},
     "output_type": "execute_result"
    }
   ],
   "source": [
    "len(word_id_dict)"
   ]
  },
  {
   "cell_type": "markdown",
   "metadata": {},
   "source": [
    "### 3. Calculate sense Ids"
   ]
  },
  {
   "cell_type": "code",
   "execution_count": 58,
   "metadata": {},
   "outputs": [],
   "source": [
    "def build_sense_ids(data):\n",
    "    words = set()\n",
    "    word_to_senses = {}\n",
    "    for elem in data:\n",
    "        target_word = elem['short_form']\n",
    "        target_sense = elem['long_form']\n",
    "        if target_word not in words:\n",
    "            words.add(target_word) #añade la palabra al set de palabras\n",
    "            word_to_senses.update({target_word: [target_sense]}) #añade la palabra al dict con su significado en una lista de valores\n",
    "        else:\n",
    "            if target_sense not in word_to_senses[target_word]:\n",
    "                word_to_senses[target_word].append(target_sense) #si la palabra está en el dict pero no el significado, lo añade a la lista\n",
    "    \n",
    "    words = list(words)\n",
    "    target_word_to_id = dict(zip(words, range(len(words)))) #diccionario de cada palabra ambigua con un un índice\n",
    "    target_sense_to_id = [dict(zip(word_to_senses[word], range(len(word_to_senses[word])))) for word in words] #diccionario de cada significado y un índice\n",
    "\n",
    "    n_senses_from_word_id = dict([(target_word_to_id[word], len(word_to_senses[word])) for word in words]) #diccionario índice de cada palabra ambigua y el número de significados diferentes\n",
    "    return target_word_to_id, target_sense_to_id, len(words), n_senses_from_word_id"
   ]
  },
  {
   "cell_type": "code",
   "execution_count": 113,
   "metadata": {},
   "outputs": [
    {
     "name": "stdout",
     "output_type": "stream",
     "text": [
      "Vocabulary size: 13412\n"
     ]
    }
   ],
   "source": [
    "sf_to_id, lf_to_id, n_words, n_lf_from_sf_id = build_sense_ids(train_data)\n",
    "print('Vocabulary size: %d' % len(word_id_dict))"
   ]
  },
  {
   "cell_type": "markdown",
   "metadata": {},
   "source": [
    "### 4. Context for each target sense"
   ]
  },
  {
   "cell_type": "code",
   "execution_count": 118,
   "metadata": {},
   "outputs": [],
   "source": [
    "def build_context(data, word_to_id):\n",
    "    target_sense_to_context = {}\n",
    "    for elem in data:\n",
    "        target_sense_id = elem['long_form'] # 'id' or 'target_sense'?? DEBERIA SER TARGET SENSE ID\n",
    "        context = word_tokenize(elem['texto'])\n",
    "        #context = sparse_matrix(context, word_to_id)\n",
    "        if target_sense_id not in target_sense_to_context:\n",
    "            #target_sense_to_context.update({target_sense:context})\n",
    "            target_sense_to_context[target_sense_id] = []\n",
    "        target_sense_to_context[target_sense_id].append(context) #dict por sense id: contexto\n",
    "    \n",
    "    return target_sense_to_context"
   ]
  },
  {
   "cell_type": "code",
   "execution_count": 119,
   "metadata": {},
   "outputs": [],
   "source": [
    "#build context vocab of the target sense\n",
    "train_target_sense_to_context = build_context(train_data , word_id_dict)"
   ]
  },
  {
   "cell_type": "markdown",
   "metadata": {},
   "source": [
    "### 5. Convert to numeric"
   ]
  },
  {
   "cell_type": "markdown",
   "metadata": {},
   "source": [
    "Get forward and backward context of the ambiguous word"
   ]
  },
  {
   "cell_type": "code",
   "execution_count": null,
   "metadata": {},
   "outputs": [],
   "source": [
    "def convert_to_numeric(data, word_to_id, target_word_to_id, target_sense_to_id, n_senses_from_word_id, target_sense_to_context_embedding, is_training=True):\n",
    "    \n",
    "    n_senses_sorted_by_target_id = [n_senses_from_word_id[target_id] for target_id in range(len(n_senses_from_word_id))] #ordena las palabras ambiguas de mayor a menor cantidad de significados\n",
    "    starts = (np.cumsum(np.append([0], n_senses_sorted_by_target_id)))[:-1]\n",
    "    tot_n_senses = sum(n_senses_from_word_id.values())\n",
    "\n",
    "    all_data = []\n",
    "    #target_tag_id = word_to_id['<target>']\n",
    "    for instance in data:\n",
    "        words = split_context(instance['context'])            \n",
    "        target_word = instance['target_word'] \n",
    "        \n",
    "        ctx_ints = [word_to_id[word] for word in words if word in word_to_id] #id de la palabra que obtuvimos en word_to_id\n",
    "        stop_idx = words.index('<target>') #índice de la palabra target\n",
    "\n",
    "        \n",
    "        _instance = []\n",
    "        xf = np.array(ctx_ints[:stop_idx]) #índices de las palabras anteriores a la target\n",
    "        xb = np.array(ctx_ints[stop_idx+1:])[::-1]    #índices de las palabras posteriores a la target            \n",
    "        \n",
    "        instance_id = instance['id'] #id del texto O DEBERIA SER ID DEL SIGNIFICADO DE LA PALABRA (TARGET_SENSE_ID)?        \n",
    "        target_id = target_word_to_id[target_word] #id de la target\n",
    "        \n",
    "        _instance.append(xf)\n",
    "        _instance.append(xb)\n",
    "        _instance.append(instance_id)\n",
    "\n",
    "        if is_training:                   \n",
    "            target_sense = instance['target_sense']   \n",
    "            if instance_id in target_sense_to_context_embedding:\n",
    "                sense_embedding = target_sense_to_context_embedding[instance_id] #se trae el embeddings del contexto para cada significado de la palabra\n",
    "                senses = target_sense_to_id[target_id] #significados\n",
    "                sense_id = senses[target_sense] if target_sense else -1 #ids de los significados\n",
    "                _instance.append(sense_embedding)       \n",
    "\n",
    "        all_data.append(_instance[:])\n",
    "\n",
    "    return all_data"
   ]
  },
  {
   "cell_type": "code",
   "execution_count": 153,
   "metadata": {},
   "outputs": [],
   "source": [
    "# make numeric\n",
    "train_ndata = convert_to_numeric(train_data_, word_to_id, target_word_to_id, \n",
    "                                 target_sense_to_id, n_senses_from_target_id, target_sense_to_context_embedding, is_training = True)\n",
    "#test_ndata = convert_to_numeric(test_data, word_to_id, target_word_to_id, target_sense_to_id, n_senses_from_target_id, target_sense_to_context_embedding, is_training = False)"
   ]
  },
  {
   "cell_type": "code",
   "execution_count": 123,
   "metadata": {},
   "outputs": [
    {
     "ename": "KeyError",
     "evalue": "'1'",
     "output_type": "error",
     "traceback": [
      "\u001b[0;31m---------------------------------------------------------------------------\u001b[0m",
      "\u001b[0;31mKeyError\u001b[0m                                  Traceback (most recent call last)",
      "\u001b[0;32m<ipython-input-123-a44df61b37c8>\u001b[0m in \u001b[0;36m<module>\u001b[0;34m\u001b[0m\n\u001b[0;32m----> 1\u001b[0;31m \u001b[0mtrain_target_sense_to_context\u001b[0m\u001b[0;34m[\u001b[0m\u001b[0;34m'1'\u001b[0m\u001b[0;34m]\u001b[0m\u001b[0;34m\u001b[0m\u001b[0;34m\u001b[0m\u001b[0m\n\u001b[0m",
      "\u001b[0;31mKeyError\u001b[0m: '1'"
     ]
    }
   ],
   "source": []
  },
  {
   "cell_type": "code",
   "execution_count": null,
   "metadata": {},
   "outputs": [],
   "source": []
  },
  {
   "cell_type": "code",
   "execution_count": null,
   "metadata": {},
   "outputs": [],
   "source": []
  },
  {
   "cell_type": "code",
   "execution_count": null,
   "metadata": {},
   "outputs": [],
   "source": []
  },
  {
   "cell_type": "code",
   "execution_count": null,
   "metadata": {},
   "outputs": [],
   "source": []
  },
  {
   "cell_type": "code",
   "execution_count": null,
   "metadata": {},
   "outputs": [],
   "source": []
  },
  {
   "cell_type": "code",
   "execution_count": null,
   "metadata": {},
   "outputs": [],
   "source": []
  },
  {
   "cell_type": "code",
   "execution_count": null,
   "metadata": {},
   "outputs": [],
   "source": []
  },
  {
   "cell_type": "markdown",
   "metadata": {},
   "source": [
    "### 2. Get forward and backward context"
   ]
  },
  {
   "cell_type": "markdown",
   "metadata": {},
   "source": [
    "a) Get theposition of the short form to get forward and backward context centered on sf"
   ]
  },
  {
   "cell_type": "code",
   "execution_count": 230,
   "metadata": {},
   "outputs": [],
   "source": [
    "prueba = train['texto'].iloc[0]\n",
    "st = train['StartOffset'].iloc[0]"
   ]
  },
  {
   "cell_type": "code",
   "execution_count": 232,
   "metadata": {},
   "outputs": [
    {
     "ename": "AttributeError",
     "evalue": "'str' object has no attribute 'start'",
     "output_type": "error",
     "traceback": [
      "\u001b[0;31m---------------------------------------------------------------------------\u001b[0m",
      "\u001b[0;31mAttributeError\u001b[0m                            Traceback (most recent call last)",
      "\u001b[0;32m<ipython-input-232-d836e299dd22>\u001b[0m in \u001b[0;36m<module>\u001b[0;34m\u001b[0m\n\u001b[1;32m      1\u001b[0m \u001b[0;32mfor\u001b[0m \u001b[0mi\u001b[0m \u001b[0;32min\u001b[0m \u001b[0mprueba\u001b[0m\u001b[0;34m:\u001b[0m\u001b[0;34m\u001b[0m\u001b[0;34m\u001b[0m\u001b[0m\n\u001b[0;32m----> 2\u001b[0;31m     \u001b[0;32mif\u001b[0m \u001b[0mi\u001b[0m\u001b[0;34m.\u001b[0m\u001b[0mstart\u001b[0m\u001b[0;34m(\u001b[0m\u001b[0;34m)\u001b[0m \u001b[0;34m==\u001b[0m \u001b[0mst\u001b[0m\u001b[0;34m:\u001b[0m\u001b[0;34m\u001b[0m\u001b[0;34m\u001b[0m\u001b[0m\n\u001b[0m\u001b[1;32m      3\u001b[0m         \u001b[0mprint\u001b[0m\u001b[0;34m(\u001b[0m\u001b[0mi\u001b[0m\u001b[0;34m)\u001b[0m\u001b[0;34m\u001b[0m\u001b[0;34m\u001b[0m\u001b[0m\n",
      "\u001b[0;31mAttributeError\u001b[0m: 'str' object has no attribute 'start'"
     ]
    }
   ],
   "source": [
    "def get_data(_data, n_step_f, n_step_b):\n",
    "    forward_data, backward_data, target_sense_ids, sense_embeddings = [], [], [], []\n",
    "    for target_id, data in _data.items():\n",
    "        for instance in data:\n",
    "            xf, xb, target_sense_id, sense_embedding = instance[0], instance[1], instance[2], instance[3]\n",
    "            \n",
    "            n_to_use_f = min(n_step_f, len(xf))\n",
    "            n_to_use_b = min(n_step_b, len(xb))\n",
    "            xfs = np.zeros([n_step_f], dtype=np.int32)\n",
    "            xbs = np.zeros([n_step_b], dtype=np.int32)            \n",
    "            if n_to_use_f != 0:\n",
    "                xfs[-n_to_use_f:] = xf[-n_to_use_f:]\n",
    "            if n_to_use_b != 0:\n",
    "                xbs[-n_to_use_b:] = xb[-n_to_use_b:]\n",
    "            \n",
    "            forward_data.append(xfs)\n",
    "            backward_data.append(xbs)\n",
    "            target_sense_ids.append(target_sense_id)\n",
    "            sense_embeddings.append(sense_embedding)\n",
    "            \n",
    "            #print(\"xf\", len(xf))\n",
    "            #print(\"xfs\", len(xfs))\n",
    "            #print(\"sense_embedding\", sense_embedding)\n",
    "    \n",
    "    return (np.array(forward_data), np.array(backward_data), np.array(target_sense_ids), np.array(sense_embeddings))"
   ]
  },
  {
   "cell_type": "code",
   "execution_count": null,
   "metadata": {},
   "outputs": [],
   "source": []
  },
  {
   "cell_type": "code",
   "execution_count": null,
   "metadata": {},
   "outputs": [],
   "source": []
  },
  {
   "cell_type": "code",
   "execution_count": null,
   "metadata": {},
   "outputs": [],
   "source": [
    "clean_data = clean_text(row['texto'])"
   ]
  },
  {
   "cell_type": "code",
   "execution_count": 204,
   "metadata": {},
   "outputs": [],
   "source": [
    "row = train.iloc[2]"
   ]
  },
  {
   "cell_type": "code",
   "execution_count": 205,
   "metadata": {},
   "outputs": [
    {
     "data": {
      "text/plain": [
       "'cm'"
      ]
     },
     "execution_count": 205,
     "metadata": {},
     "output_type": "execute_result"
    }
   ],
   "source": [
    "row['Abbreviation']"
   ]
  },
  {
   "cell_type": "code",
   "execution_count": 206,
   "metadata": {},
   "outputs": [],
   "source": [
    "clean_data = clean_text(row['texto'])"
   ]
  },
  {
   "cell_type": "code",
   "execution_count": 209,
   "metadata": {},
   "outputs": [],
   "source": [
    "words = word_tokenize(clean_data)"
   ]
  },
  {
   "cell_type": "code",
   "execution_count": 202,
   "metadata": {},
   "outputs": [],
   "source": [
    "def get_context(row):\n",
    "    print(row['Abbreviation'], row['doc_id'])\n",
    "    data = row['texto']\n",
    "    clean_data = clean_text(data)\n",
    "    words = word_tokenize(clean_data)\n",
    "    print(words)\n",
    "    window = 10\n",
    "    \n",
    "    for i,w in enumerate(words):\n",
    "        if w == row['Abbreviation']:\n",
    "            print('FOUND!')\n",
    "            ctx =' '.join(words[i-window:i]+ words[i:i+window])\n",
    "    return ctx"
   ]
  }
 ],
 "metadata": {
  "kernelspec": {
   "display_name": "Python 3",
   "language": "python",
   "name": "python3"
  },
  "language_info": {
   "codemirror_mode": {
    "name": "ipython",
    "version": 3
   },
   "file_extension": ".py",
   "mimetype": "text/x-python",
   "name": "python",
   "nbconvert_exporter": "python",
   "pygments_lexer": "ipython3",
   "version": "3.7.3"
  }
 },
 "nbformat": 4,
 "nbformat_minor": 2
}
