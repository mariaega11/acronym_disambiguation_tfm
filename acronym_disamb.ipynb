{
 "cells": [
  {
   "cell_type": "markdown",
   "metadata": {},
   "source": [
    "# Library"
   ]
  },
  {
   "cell_type": "code",
   "execution_count": 1,
   "metadata": {},
   "outputs": [],
   "source": [
    "import pandas as pd\n",
    "import numpy as np\n",
    "import os\n",
    "import re\n",
    "import collections\n",
    "#from gensim.parsing.preprocessing import remove_stopwords\n",
    "import nltk\n",
    "from nltk.corpus import stopwords\n",
    "import itertools \n",
    "from nltk.tokenize import word_tokenize\n",
    "from string import punctuation\n",
    "\n",
    "from nltk import ngrams\n",
    "\n",
    "from sklearn.feature_extraction.text import CountVectorizer\n",
    "from sklearn.feature_extraction.text import TfidfTransformer"
   ]
  },
  {
   "cell_type": "markdown",
   "metadata": {},
   "source": [
    "# Functions"
   ]
  },
  {
   "cell_type": "code",
   "execution_count": 2,
   "metadata": {},
   "outputs": [],
   "source": [
    "def read_texts(path):\n",
    "    data = []\n",
    "    file_name = os.listdir(path)\n",
    "\n",
    "    for name in file_name:\n",
    "        if name.endswith('.txt'):\n",
    "            with open(path + name,encoding=\"utf8\") as f:\n",
    "                text = f.read()\n",
    "                data.append({'nombre':name.replace('.txt',''), 'texto':text})\n",
    "\n",
    "    df = pd.DataFrame(data)\n",
    "    return df"
   ]
  },
  {
   "cell_type": "code",
   "execution_count": 3,
   "metadata": {},
   "outputs": [],
   "source": [
    "# def filter_byindex(x,y):\n",
    "#     #selectors = [x for x in col2]\n",
    "#     return list(itertools.compress(x,y))"
   ]
  },
  {
   "cell_type": "code",
   "execution_count": 4,
   "metadata": {},
   "outputs": [],
   "source": [
    "def check_len(x,y):\n",
    "    if x==y:\n",
    "        return 0\n",
    "    else:\n",
    "        return 1"
   ]
  },
  {
   "cell_type": "code",
   "execution_count": 5,
   "metadata": {},
   "outputs": [],
   "source": [
    "def get_lf(i,j,k):\n",
    "    if pd.isnull(k):\n",
    "        regex_lf = re.compile(r'((?:\\w+\\W+){1,'+str(len(i))+'})\\(\\s'+i[0]+'.*\\)')\n",
    "        return regex_lf.findall(j)\n",
    "    else:\n",
    "        return k"
   ]
  },
  {
   "cell_type": "code",
   "execution_count": 6,
   "metadata": {},
   "outputs": [],
   "source": [
    "def ngram_filter(doc, word, n):\n",
    "    tokens = doc.split()\n",
    "    all_ngrams = ngrams(tokens, n)\n",
    "    filtered_ngrams = [x for x in all_ngrams if word in x]\n",
    "    return filtered_ngrams"
   ]
  },
  {
   "cell_type": "code",
   "execution_count": 7,
   "metadata": {},
   "outputs": [],
   "source": [
    "def get_longform(tokens, acro, margin = 2, i =1):\n",
    "    long_form = ''\n",
    "    #Looking for before\n",
    "    for word in tokens[index-margin-len(acro):index]:\n",
    "        #if first letter of word is equal to first letter os acronym\n",
    "        if word[0] == acro[i].lower():\n",
    "            long_form += word + ' '\n",
    "            i += 1\n",
    "            if i == len(acro):\n",
    "                break\n",
    "        elif (i == 1) and (word[0] == acro[i-1].lower()):\n",
    "            long_form = word + ' '\n",
    "            i = 1\n",
    "            if i == len(acro):\n",
    "                break\n",
    "    long_form = long_form.rstrip()\n",
    "    return long_form\n",
    "    "
   ]
  },
  {
   "cell_type": "markdown",
   "metadata": {},
   "source": [
    "# Load Data"
   ]
  },
  {
   "cell_type": "markdown",
   "metadata": {},
   "source": [
    "### Testing\n",
    "\n",
    "220 clinical cases."
   ]
  },
  {
   "cell_type": "code",
   "execution_count": 5,
   "metadata": {},
   "outputs": [],
   "source": [
    "testing_abbr = pd.read_csv(\"../datasets/testing_set/clinical_cases.abbreviations.testing_set.tsv\", sep = '\\t')\n",
    "testing_met = pd.read_csv(\"../datasets/testing_set/clinical_cases.metadata.testing_set.tsv\", sep = '\\t')\n",
    "testing_rel = pd.read_csv(\"../datasets/testing_set/clinical_cases.relations.testing_set.tsv\", sep = '\\t')"
   ]
  },
  {
   "cell_type": "code",
   "execution_count": 6,
   "metadata": {},
   "outputs": [
    {
     "data": {
      "text/html": [
       "<div>\n",
       "<style scoped>\n",
       "    .dataframe tbody tr th:only-of-type {\n",
       "        vertical-align: middle;\n",
       "    }\n",
       "\n",
       "    .dataframe tbody tr th {\n",
       "        vertical-align: top;\n",
       "    }\n",
       "\n",
       "    .dataframe thead th {\n",
       "        text-align: right;\n",
       "    }\n",
       "</style>\n",
       "<table border=\"1\" class=\"dataframe\">\n",
       "  <thead>\n",
       "    <tr style=\"text-align: right;\">\n",
       "      <th></th>\n",
       "      <th># Document_ID</th>\n",
       "      <th>Case_ID</th>\n",
       "      <th>ISSN</th>\n",
       "      <th>Date</th>\n",
       "      <th>Source</th>\n",
       "      <th>Full_Text_Link</th>\n",
       "    </tr>\n",
       "  </thead>\n",
       "  <tbody>\n",
       "    <tr>\n",
       "      <th>0</th>\n",
       "      <td>S1130-01082006000700014-1.txt</td>\n",
       "      <td>1.txt</td>\n",
       "      <td>1130-0108</td>\n",
       "      <td>2006-07-01</td>\n",
       "      <td>Revista Española de Enfermedades Digestivas  v...</td>\n",
       "      <td>http://scielo.isciii.es/scielo.php?script=sci_...</td>\n",
       "    </tr>\n",
       "    <tr>\n",
       "      <th>1</th>\n",
       "      <td>S1130-01082007000300006-7.txt</td>\n",
       "      <td>7.txt</td>\n",
       "      <td>1130-0108</td>\n",
       "      <td>2007-03-01</td>\n",
       "      <td>Revista Española de Enfermedades Digestivas  v...</td>\n",
       "      <td>http://scielo.isciii.es/scielo.php?script=sci_...</td>\n",
       "    </tr>\n",
       "    <tr>\n",
       "      <th>2</th>\n",
       "      <td>S1134-80462009000100005-1.txt</td>\n",
       "      <td>1.txt</td>\n",
       "      <td>1134-8046</td>\n",
       "      <td>2009-02-01</td>\n",
       "      <td>Revista de la Sociedad Española del Dolor  v.1...</td>\n",
       "      <td>http://scielo.isciii.es/scielo.php?script=sci_...</td>\n",
       "    </tr>\n",
       "    <tr>\n",
       "      <th>3</th>\n",
       "      <td>S1137-66272014000300015-1.txt</td>\n",
       "      <td>1.txt</td>\n",
       "      <td>1137-6627</td>\n",
       "      <td>2014-12-01</td>\n",
       "      <td>Anales del Sistema Sanitario de Navarra  v.37 ...</td>\n",
       "      <td>http://scielo.isciii.es/scielo.php?script=sci_...</td>\n",
       "    </tr>\n",
       "    <tr>\n",
       "      <th>4</th>\n",
       "      <td>S0365-66912004001200011-1.txt</td>\n",
       "      <td>1.txt</td>\n",
       "      <td>0365-6691</td>\n",
       "      <td>2004-12-01</td>\n",
       "      <td>Archivos de la Sociedad Española de Oftalmolog...</td>\n",
       "      <td>http://scielo.isciii.es/scielo.php?script=sci_...</td>\n",
       "    </tr>\n",
       "  </tbody>\n",
       "</table>\n",
       "</div>"
      ],
      "text/plain": [
       "                   # Document_ID Case_ID       ISSN        Date  \\\n",
       "0  S1130-01082006000700014-1.txt   1.txt  1130-0108  2006-07-01   \n",
       "1  S1130-01082007000300006-7.txt   7.txt  1130-0108  2007-03-01   \n",
       "2  S1134-80462009000100005-1.txt   1.txt  1134-8046  2009-02-01   \n",
       "3  S1137-66272014000300015-1.txt   1.txt  1137-6627  2014-12-01   \n",
       "4  S0365-66912004001200011-1.txt   1.txt  0365-6691  2004-12-01   \n",
       "\n",
       "                                              Source  \\\n",
       "0  Revista Española de Enfermedades Digestivas  v...   \n",
       "1  Revista Española de Enfermedades Digestivas  v...   \n",
       "2  Revista de la Sociedad Española del Dolor  v.1...   \n",
       "3  Anales del Sistema Sanitario de Navarra  v.37 ...   \n",
       "4  Archivos de la Sociedad Española de Oftalmolog...   \n",
       "\n",
       "                                      Full_Text_Link  \n",
       "0  http://scielo.isciii.es/scielo.php?script=sci_...  \n",
       "1  http://scielo.isciii.es/scielo.php?script=sci_...  \n",
       "2  http://scielo.isciii.es/scielo.php?script=sci_...  \n",
       "3  http://scielo.isciii.es/scielo.php?script=sci_...  \n",
       "4  http://scielo.isciii.es/scielo.php?script=sci_...  "
      ]
     },
     "execution_count": 6,
     "metadata": {},
     "output_type": "execute_result"
    }
   ],
   "source": [
    "testing_met.head()"
   ]
  },
  {
   "cell_type": "code",
   "execution_count": 7,
   "metadata": {},
   "outputs": [],
   "source": [
    "testing_rel = testing_rel.reset_index()"
   ]
  },
  {
   "cell_type": "code",
   "execution_count": 8,
   "metadata": {},
   "outputs": [],
   "source": [
    "testing_rel.columns = ['# Document_ID', 'Mention_A_type', 'Mention_A_StartOffset',\n",
    "      'Mention_A', 'Relation_type', 'Mention_B_type',\n",
    "       'Mention_B_StartOffset', 'Mention_B_EndOffset', 'Mention_B']"
   ]
  },
  {
   "cell_type": "code",
   "execution_count": 9,
   "metadata": {},
   "outputs": [],
   "source": [
    "testing_rel = testing_rel.rename(columns = {'# Document_ID': 'doc_id'})"
   ]
  },
  {
   "cell_type": "code",
   "execution_count": 10,
   "metadata": {},
   "outputs": [
    {
     "data": {
      "text/html": [
       "<div>\n",
       "<style scoped>\n",
       "    .dataframe tbody tr th:only-of-type {\n",
       "        vertical-align: middle;\n",
       "    }\n",
       "\n",
       "    .dataframe tbody tr th {\n",
       "        vertical-align: top;\n",
       "    }\n",
       "\n",
       "    .dataframe thead th {\n",
       "        text-align: right;\n",
       "    }\n",
       "</style>\n",
       "<table border=\"1\" class=\"dataframe\">\n",
       "  <thead>\n",
       "    <tr style=\"text-align: right;\">\n",
       "      <th></th>\n",
       "      <th>doc_id</th>\n",
       "      <th>Mention_A_type</th>\n",
       "      <th>Mention_A_StartOffset</th>\n",
       "      <th>Mention_A</th>\n",
       "      <th>Relation_type</th>\n",
       "      <th>Mention_B_type</th>\n",
       "      <th>Mention_B_StartOffset</th>\n",
       "      <th>Mention_B_EndOffset</th>\n",
       "      <th>Mention_B</th>\n",
       "    </tr>\n",
       "  </thead>\n",
       "  <tbody>\n",
       "    <tr>\n",
       "      <th>0</th>\n",
       "      <td>S0211-69952013000500019-1</td>\n",
       "      <td>SHORT_FORM</td>\n",
       "      <td>3739</td>\n",
       "      <td>ARA II</td>\n",
       "      <td>SHORT-LONG</td>\n",
       "      <td>LONG_FORM</td>\n",
       "      <td>3695</td>\n",
       "      <td>3737</td>\n",
       "      <td>antagonista del receptor de angiotesina II</td>\n",
       "    </tr>\n",
       "    <tr>\n",
       "      <th>1</th>\n",
       "      <td>S0211-69952013000500019-1</td>\n",
       "      <td>SHORT_FORM</td>\n",
       "      <td>2793</td>\n",
       "      <td>PCR</td>\n",
       "      <td>SHORT-LONG</td>\n",
       "      <td>LONG_FORM</td>\n",
       "      <td>2798</td>\n",
       "      <td>2837</td>\n",
       "      <td>reacción en cadena de enzima polimerasa</td>\n",
       "    </tr>\n",
       "    <tr>\n",
       "      <th>2</th>\n",
       "      <td>S0365-66912004000600008-1</td>\n",
       "      <td>SHORT_FORM</td>\n",
       "      <td>406</td>\n",
       "      <td>AV</td>\n",
       "      <td>SHORT-LONG</td>\n",
       "      <td>LONG_FORM</td>\n",
       "      <td>390</td>\n",
       "      <td>404</td>\n",
       "      <td>agudeza visual</td>\n",
       "    </tr>\n",
       "    <tr>\n",
       "      <th>3</th>\n",
       "      <td>S0211-69952012000500025-1</td>\n",
       "      <td>SHORT_FORM</td>\n",
       "      <td>945</td>\n",
       "      <td>angio-TAC</td>\n",
       "      <td>SHORT-LONG</td>\n",
       "      <td>LONG_FORM</td>\n",
       "      <td>908</td>\n",
       "      <td>943</td>\n",
       "      <td>angiotomografía computarizada axial</td>\n",
       "    </tr>\n",
       "    <tr>\n",
       "      <th>4</th>\n",
       "      <td>S1130-05582017000200122-1</td>\n",
       "      <td>SHORT_FORM</td>\n",
       "      <td>940</td>\n",
       "      <td>RMN</td>\n",
       "      <td>SHORT-LONG</td>\n",
       "      <td>LONG_FORM</td>\n",
       "      <td>910</td>\n",
       "      <td>938</td>\n",
       "      <td>resonancia magnética nuclear</td>\n",
       "    </tr>\n",
       "  </tbody>\n",
       "</table>\n",
       "</div>"
      ],
      "text/plain": [
       "                      doc_id Mention_A_type  Mention_A_StartOffset  Mention_A  \\\n",
       "0  S0211-69952013000500019-1     SHORT_FORM                   3739     ARA II   \n",
       "1  S0211-69952013000500019-1     SHORT_FORM                   2793        PCR   \n",
       "2  S0365-66912004000600008-1     SHORT_FORM                    406         AV   \n",
       "3  S0211-69952012000500025-1     SHORT_FORM                    945  angio-TAC   \n",
       "4  S1130-05582017000200122-1     SHORT_FORM                    940        RMN   \n",
       "\n",
       "  Relation_type Mention_B_type  Mention_B_StartOffset  Mention_B_EndOffset  \\\n",
       "0    SHORT-LONG      LONG_FORM                   3695                 3737   \n",
       "1    SHORT-LONG      LONG_FORM                   2798                 2837   \n",
       "2    SHORT-LONG      LONG_FORM                    390                  404   \n",
       "3    SHORT-LONG      LONG_FORM                    908                  943   \n",
       "4    SHORT-LONG      LONG_FORM                    910                  938   \n",
       "\n",
       "                                    Mention_B  \n",
       "0  antagonista del receptor de angiotesina II  \n",
       "1     reacción en cadena de enzima polimerasa  \n",
       "2                              agudeza visual  \n",
       "3         angiotomografía computarizada axial  \n",
       "4                resonancia magnética nuclear  "
      ]
     },
     "execution_count": 10,
     "metadata": {},
     "output_type": "execute_result"
    }
   ],
   "source": [
    "testing_rel.head()"
   ]
  },
  {
   "cell_type": "code",
   "execution_count": 11,
   "metadata": {},
   "outputs": [
    {
     "data": {
      "text/plain": [
       "array(['SHORT-LONG', 'SHORT-NESTED', 'NESTED-LONG'], dtype=object)"
      ]
     },
     "execution_count": 11,
     "metadata": {},
     "output_type": "execute_result"
    }
   ],
   "source": [
    "testing_rel.Relation_type.unique()"
   ]
  },
  {
   "cell_type": "code",
   "execution_count": 12,
   "metadata": {},
   "outputs": [],
   "source": [
    "testing_abbr = testing_abbr.rename(columns = {'# Document_ID': 'doc_id'})"
   ]
  },
  {
   "cell_type": "code",
   "execution_count": 13,
   "metadata": {},
   "outputs": [
    {
     "data": {
      "text/html": [
       "<div>\n",
       "<style scoped>\n",
       "    .dataframe tbody tr th:only-of-type {\n",
       "        vertical-align: middle;\n",
       "    }\n",
       "\n",
       "    .dataframe tbody tr th {\n",
       "        vertical-align: top;\n",
       "    }\n",
       "\n",
       "    .dataframe thead th {\n",
       "        text-align: right;\n",
       "    }\n",
       "</style>\n",
       "<table border=\"1\" class=\"dataframe\">\n",
       "  <thead>\n",
       "    <tr style=\"text-align: right;\">\n",
       "      <th></th>\n",
       "      <th>doc_id</th>\n",
       "      <th>StartOffset</th>\n",
       "      <th>EndOffset</th>\n",
       "      <th>Abbreviation</th>\n",
       "      <th>Definition</th>\n",
       "      <th>Definition_lemmatized</th>\n",
       "    </tr>\n",
       "  </thead>\n",
       "  <tbody>\n",
       "    <tr>\n",
       "      <th>0</th>\n",
       "      <td>S0004-06142010000500014-1</td>\n",
       "      <td>2037</td>\n",
       "      <td>2044</td>\n",
       "      <td>16SrRNA</td>\n",
       "      <td>16s ribosomal rna</td>\n",
       "      <td>16s ribosomal rno</td>\n",
       "    </tr>\n",
       "    <tr>\n",
       "      <th>1</th>\n",
       "      <td>S0004-06142010000500014-1</td>\n",
       "      <td>1349</td>\n",
       "      <td>1351</td>\n",
       "      <td>M.</td>\n",
       "      <td>mycobacterium</td>\n",
       "      <td>mycobacterium</td>\n",
       "    </tr>\n",
       "    <tr>\n",
       "      <th>2</th>\n",
       "      <td>S0004-06142010000500014-1</td>\n",
       "      <td>1339</td>\n",
       "      <td>1342</td>\n",
       "      <td>PCR</td>\n",
       "      <td>polymerase chain reaction</td>\n",
       "      <td>polymerase chain reaction</td>\n",
       "    </tr>\n",
       "    <tr>\n",
       "      <th>3</th>\n",
       "      <td>S0004-06142010000500014-1</td>\n",
       "      <td>611</td>\n",
       "      <td>615</td>\n",
       "      <td>BHCG</td>\n",
       "      <td>beta-human chorionic gonadotropin</td>\n",
       "      <td>beta-humar chorionic gonadotropin</td>\n",
       "    </tr>\n",
       "    <tr>\n",
       "      <th>4</th>\n",
       "      <td>S0004-06142010000500014-1</td>\n",
       "      <td>594</td>\n",
       "      <td>597</td>\n",
       "      <td>CEA</td>\n",
       "      <td>carcinoembrionary antigen</td>\n",
       "      <td>carcinoembrionary antiger</td>\n",
       "    </tr>\n",
       "  </tbody>\n",
       "</table>\n",
       "</div>"
      ],
      "text/plain": [
       "                      doc_id  StartOffset  EndOffset Abbreviation  \\\n",
       "0  S0004-06142010000500014-1         2037       2044      16SrRNA   \n",
       "1  S0004-06142010000500014-1         1349       1351           M.   \n",
       "2  S0004-06142010000500014-1         1339       1342          PCR   \n",
       "3  S0004-06142010000500014-1          611        615         BHCG   \n",
       "4  S0004-06142010000500014-1          594        597          CEA   \n",
       "\n",
       "                          Definition              Definition_lemmatized  \n",
       "0                  16s ribosomal rna                  16s ribosomal rno  \n",
       "1                      mycobacterium                      mycobacterium  \n",
       "2          polymerase chain reaction          polymerase chain reaction  \n",
       "3  beta-human chorionic gonadotropin  beta-humar chorionic gonadotropin  \n",
       "4          carcinoembrionary antigen          carcinoembrionary antiger  "
      ]
     },
     "execution_count": 13,
     "metadata": {},
     "output_type": "execute_result"
    }
   ],
   "source": [
    "testing_abbr.head()"
   ]
  },
  {
   "cell_type": "code",
   "execution_count": 14,
   "metadata": {},
   "outputs": [],
   "source": [
    "testing_raw = read_texts(\"../datasets/testing_set/testing_set.raw_text/\")"
   ]
  },
  {
   "cell_type": "code",
   "execution_count": 15,
   "metadata": {},
   "outputs": [
    {
     "data": {
      "text/html": [
       "<div>\n",
       "<style scoped>\n",
       "    .dataframe tbody tr th:only-of-type {\n",
       "        vertical-align: middle;\n",
       "    }\n",
       "\n",
       "    .dataframe tbody tr th {\n",
       "        vertical-align: top;\n",
       "    }\n",
       "\n",
       "    .dataframe thead th {\n",
       "        text-align: right;\n",
       "    }\n",
       "</style>\n",
       "<table border=\"1\" class=\"dataframe\">\n",
       "  <thead>\n",
       "    <tr style=\"text-align: right;\">\n",
       "      <th></th>\n",
       "      <th>nombre</th>\n",
       "      <th>texto</th>\n",
       "    </tr>\n",
       "  </thead>\n",
       "  <tbody>\n",
       "    <tr>\n",
       "      <th>0</th>\n",
       "      <td>S1139-76322009000700016-1</td>\n",
       "      <td>Paciente de sexo femenino de 13 años y 7 meses...</td>\n",
       "    </tr>\n",
       "    <tr>\n",
       "      <th>1</th>\n",
       "      <td>S0210-48062007000700015-1</td>\n",
       "      <td>Varón de 72 años con antecedentes personales d...</td>\n",
       "    </tr>\n",
       "    <tr>\n",
       "      <th>2</th>\n",
       "      <td>S0212-71992005000500009-1</td>\n",
       "      <td>Varón de 81 años, con antecedentes de fibrilac...</td>\n",
       "    </tr>\n",
       "    <tr>\n",
       "      <th>3</th>\n",
       "      <td>S0365-66912004001200011-1</td>\n",
       "      <td>Paciente varón de 52 años que acudió a urgenci...</td>\n",
       "    </tr>\n",
       "    <tr>\n",
       "      <th>4</th>\n",
       "      <td>S1130-01082009000900015-1</td>\n",
       "      <td>Varón de 54 años con episodios de pancreatitis...</td>\n",
       "    </tr>\n",
       "  </tbody>\n",
       "</table>\n",
       "</div>"
      ],
      "text/plain": [
       "                      nombre  \\\n",
       "0  S1139-76322009000700016-1   \n",
       "1  S0210-48062007000700015-1   \n",
       "2  S0212-71992005000500009-1   \n",
       "3  S0365-66912004001200011-1   \n",
       "4  S1130-01082009000900015-1   \n",
       "\n",
       "                                               texto  \n",
       "0  Paciente de sexo femenino de 13 años y 7 meses...  \n",
       "1  Varón de 72 años con antecedentes personales d...  \n",
       "2  Varón de 81 años, con antecedentes de fibrilac...  \n",
       "3  Paciente varón de 52 años que acudió a urgenci...  \n",
       "4  Varón de 54 años con episodios de pancreatitis...  "
      ]
     },
     "execution_count": 15,
     "metadata": {},
     "output_type": "execute_result"
    }
   ],
   "source": [
    "testing_raw.head()"
   ]
  },
  {
   "cell_type": "markdown",
   "metadata": {},
   "source": [
    "### Backgound\n",
    "\n",
    "2879 clinical cases. 220 will be use for clinical evaluation"
   ]
  },
  {
   "cell_type": "code",
   "execution_count": 16,
   "metadata": {},
   "outputs": [],
   "source": [
    "back_met = pd.read_csv(\"../datasets/background_test/clinical_cases.metadata.background_set.tsv\", sep = '\\t')"
   ]
  },
  {
   "cell_type": "code",
   "execution_count": 17,
   "metadata": {},
   "outputs": [],
   "source": [
    "back_met = back_met.rename(columns = {'# Document_ID': 'doc_id'})"
   ]
  },
  {
   "cell_type": "code",
   "execution_count": 18,
   "metadata": {},
   "outputs": [
    {
     "data": {
      "text/html": [
       "<div>\n",
       "<style scoped>\n",
       "    .dataframe tbody tr th:only-of-type {\n",
       "        vertical-align: middle;\n",
       "    }\n",
       "\n",
       "    .dataframe tbody tr th {\n",
       "        vertical-align: top;\n",
       "    }\n",
       "\n",
       "    .dataframe thead th {\n",
       "        text-align: right;\n",
       "    }\n",
       "</style>\n",
       "<table border=\"1\" class=\"dataframe\">\n",
       "  <thead>\n",
       "    <tr style=\"text-align: right;\">\n",
       "      <th></th>\n",
       "      <th>doc_id</th>\n",
       "      <th>Case_ID</th>\n",
       "      <th>ISSN</th>\n",
       "      <th>Date</th>\n",
       "      <th>Source</th>\n",
       "      <th>Full_Text_Link</th>\n",
       "    </tr>\n",
       "  </thead>\n",
       "  <tbody>\n",
       "    <tr>\n",
       "      <th>0</th>\n",
       "      <td>S0325-00752010000100014.txt</td>\n",
       "      <td>1.txt</td>\n",
       "      <td>0325-0075</td>\n",
       "      <td>02/2010</td>\n",
       "      <td>Archivos argentinos de pediatría</td>\n",
       "      <td>http://www.scielo.org.ar/scielo.php?script=sci...</td>\n",
       "    </tr>\n",
       "    <tr>\n",
       "      <th>1</th>\n",
       "      <td>S0325-00752013000200014.txt</td>\n",
       "      <td>1.txt</td>\n",
       "      <td>0325-0075</td>\n",
       "      <td>04/2013</td>\n",
       "      <td>Archivos argentinos de pediatría</td>\n",
       "      <td>http://www.scielo.org.ar/scielo.php?script=sci...</td>\n",
       "    </tr>\n",
       "    <tr>\n",
       "      <th>2</th>\n",
       "      <td>S0325-00752011000400017.txt</td>\n",
       "      <td>1.txt</td>\n",
       "      <td>0325-0075</td>\n",
       "      <td>08/2011</td>\n",
       "      <td>Archivos argentinos de pediatría</td>\n",
       "      <td>http://www.scielo.org.ar/scielo.php?script=sci...</td>\n",
       "    </tr>\n",
       "    <tr>\n",
       "      <th>3</th>\n",
       "      <td>S0325-00752013000600022.txt</td>\n",
       "      <td>1.txt</td>\n",
       "      <td>0325-0075</td>\n",
       "      <td>12/2013</td>\n",
       "      <td>Archivos argentinos de pediatría</td>\n",
       "      <td>http://www.scielo.org.ar/scielo.php?script=sci...</td>\n",
       "    </tr>\n",
       "    <tr>\n",
       "      <th>4</th>\n",
       "      <td>S0325-00752008000500013.txt</td>\n",
       "      <td>1.txt</td>\n",
       "      <td>0325-0075</td>\n",
       "      <td>10/2008</td>\n",
       "      <td>Archivos argentinos de pediatría</td>\n",
       "      <td>http://www.scielo.org.ar/scielo.php?script=sci...</td>\n",
       "    </tr>\n",
       "  </tbody>\n",
       "</table>\n",
       "</div>"
      ],
      "text/plain": [
       "                        doc_id Case_ID       ISSN     Date  \\\n",
       "0  S0325-00752010000100014.txt   1.txt  0325-0075  02/2010   \n",
       "1  S0325-00752013000200014.txt   1.txt  0325-0075  04/2013   \n",
       "2  S0325-00752011000400017.txt   1.txt  0325-0075  08/2011   \n",
       "3  S0325-00752013000600022.txt   1.txt  0325-0075  12/2013   \n",
       "4  S0325-00752008000500013.txt   1.txt  0325-0075  10/2008   \n",
       "\n",
       "                             Source  \\\n",
       "0  Archivos argentinos de pediatría   \n",
       "1  Archivos argentinos de pediatría   \n",
       "2  Archivos argentinos de pediatría   \n",
       "3  Archivos argentinos de pediatría   \n",
       "4  Archivos argentinos de pediatría   \n",
       "\n",
       "                                      Full_Text_Link  \n",
       "0  http://www.scielo.org.ar/scielo.php?script=sci...  \n",
       "1  http://www.scielo.org.ar/scielo.php?script=sci...  \n",
       "2  http://www.scielo.org.ar/scielo.php?script=sci...  \n",
       "3  http://www.scielo.org.ar/scielo.php?script=sci...  \n",
       "4  http://www.scielo.org.ar/scielo.php?script=sci...  "
      ]
     },
     "execution_count": 18,
     "metadata": {},
     "output_type": "execute_result"
    }
   ],
   "source": [
    "back_met.head()"
   ]
  },
  {
   "cell_type": "code",
   "execution_count": 19,
   "metadata": {},
   "outputs": [],
   "source": [
    "back_raw = read_texts(\"../datasets/background_test/background_test_set/\")"
   ]
  },
  {
   "cell_type": "code",
   "execution_count": 20,
   "metadata": {},
   "outputs": [
    {
     "data": {
      "text/html": [
       "<div>\n",
       "<style scoped>\n",
       "    .dataframe tbody tr th:only-of-type {\n",
       "        vertical-align: middle;\n",
       "    }\n",
       "\n",
       "    .dataframe tbody tr th {\n",
       "        vertical-align: top;\n",
       "    }\n",
       "\n",
       "    .dataframe thead th {\n",
       "        text-align: right;\n",
       "    }\n",
       "</style>\n",
       "<table border=\"1\" class=\"dataframe\">\n",
       "  <thead>\n",
       "    <tr style=\"text-align: right;\">\n",
       "      <th></th>\n",
       "      <th>nombre</th>\n",
       "      <th>texto</th>\n",
       "    </tr>\n",
       "  </thead>\n",
       "  <tbody>\n",
       "    <tr>\n",
       "      <th>0</th>\n",
       "      <td>S0212-71992004000800006-1</td>\n",
       "      <td>Mujer de 57 años de edad con antecedentes pers...</td>\n",
       "    </tr>\n",
       "    <tr>\n",
       "      <th>1</th>\n",
       "      <td>S0716-10182014000100007-1</td>\n",
       "      <td>Se recibió en el Hospital Veterinario Puente A...</td>\n",
       "    </tr>\n",
       "    <tr>\n",
       "      <th>2</th>\n",
       "      <td>S1130-01082009000200016-1</td>\n",
       "      <td>Mujer de 47 años de edad, sin antecedentes de ...</td>\n",
       "    </tr>\n",
       "    <tr>\n",
       "      <th>3</th>\n",
       "      <td>S0716-10182015000400016-1</td>\n",
       "      <td>Escolar de 11 años de edad, género femenino, s...</td>\n",
       "    </tr>\n",
       "    <tr>\n",
       "      <th>4</th>\n",
       "      <td>S1130-01082004001200010-2</td>\n",
       "      <td>Varón de 25 años, remitido a nuestro Servicio ...</td>\n",
       "    </tr>\n",
       "  </tbody>\n",
       "</table>\n",
       "</div>"
      ],
      "text/plain": [
       "                      nombre  \\\n",
       "0  S0212-71992004000800006-1   \n",
       "1  S0716-10182014000100007-1   \n",
       "2  S1130-01082009000200016-1   \n",
       "3  S0716-10182015000400016-1   \n",
       "4  S1130-01082004001200010-2   \n",
       "\n",
       "                                               texto  \n",
       "0  Mujer de 57 años de edad con antecedentes pers...  \n",
       "1  Se recibió en el Hospital Veterinario Puente A...  \n",
       "2  Mujer de 47 años de edad, sin antecedentes de ...  \n",
       "3  Escolar de 11 años de edad, género femenino, s...  \n",
       "4  Varón de 25 años, remitido a nuestro Servicio ...  "
      ]
     },
     "execution_count": 20,
     "metadata": {},
     "output_type": "execute_result"
    }
   ],
   "source": [
    "back_raw.head()"
   ]
  },
  {
   "cell_type": "markdown",
   "metadata": {},
   "source": [
    "### Development\n",
    "\n",
    "146 clinical cases"
   ]
  },
  {
   "cell_type": "code",
   "execution_count": 21,
   "metadata": {},
   "outputs": [],
   "source": [
    "dev_abbr = pd.read_csv(\"../datasets/development_set/clinical_cases.abbreviations.development_set.tsv\", sep = '\\t')\n",
    "dev_met = pd.read_csv(\"../datasets/development_set/clinical_cases.metadata.development_set.tsv\", sep = '\\t')\n",
    "dev_rel = pd.read_csv(\"../datasets/development_set/clinical_cases.relations.development_set.tsv\", sep = '\\t')"
   ]
  },
  {
   "cell_type": "code",
   "execution_count": 22,
   "metadata": {},
   "outputs": [],
   "source": [
    "dev_met = dev_met.rename(columns = {'# Document_ID': 'doc_id'})"
   ]
  },
  {
   "cell_type": "code",
   "execution_count": 23,
   "metadata": {},
   "outputs": [
    {
     "data": {
      "text/html": [
       "<div>\n",
       "<style scoped>\n",
       "    .dataframe tbody tr th:only-of-type {\n",
       "        vertical-align: middle;\n",
       "    }\n",
       "\n",
       "    .dataframe tbody tr th {\n",
       "        vertical-align: top;\n",
       "    }\n",
       "\n",
       "    .dataframe thead th {\n",
       "        text-align: right;\n",
       "    }\n",
       "</style>\n",
       "<table border=\"1\" class=\"dataframe\">\n",
       "  <thead>\n",
       "    <tr style=\"text-align: right;\">\n",
       "      <th></th>\n",
       "      <th>doc_id</th>\n",
       "      <th>Case_ID</th>\n",
       "      <th>ISSN</th>\n",
       "      <th>Date</th>\n",
       "      <th>Source</th>\n",
       "      <th>Full_Text_Link</th>\n",
       "    </tr>\n",
       "  </thead>\n",
       "  <tbody>\n",
       "    <tr>\n",
       "      <th>0</th>\n",
       "      <td>S1130-14732005000300004-1.txt</td>\n",
       "      <td>1.txt</td>\n",
       "      <td>1130-1473</td>\n",
       "      <td>2005-06-01</td>\n",
       "      <td>Neurocirugía  v.16 n.3 2005</td>\n",
       "      <td>http://scielo.isciii.es/scielo.php?script=sci_...</td>\n",
       "    </tr>\n",
       "    <tr>\n",
       "      <th>1</th>\n",
       "      <td>S1130-01082008000200009-1.txt</td>\n",
       "      <td>1.txt</td>\n",
       "      <td>1130-0108</td>\n",
       "      <td>2008-02-01</td>\n",
       "      <td>Revista Española de Enfermedades Digestivas  v...</td>\n",
       "      <td>http://scielo.isciii.es/scielo.php?script=sci_...</td>\n",
       "    </tr>\n",
       "    <tr>\n",
       "      <th>2</th>\n",
       "      <td>S1137-66272012000300021-1.txt</td>\n",
       "      <td>1.txt</td>\n",
       "      <td>1137-6627</td>\n",
       "      <td>2012-12-01</td>\n",
       "      <td>Anales del Sistema Sanitario de Navarra  v.35 ...</td>\n",
       "      <td>http://scielo.isciii.es/scielo.php?script=sci_...</td>\n",
       "    </tr>\n",
       "    <tr>\n",
       "      <th>3</th>\n",
       "      <td>S1699-695X2016000200010-1.txt</td>\n",
       "      <td>1.txt</td>\n",
       "      <td>1699-695X</td>\n",
       "      <td>2016-06-01</td>\n",
       "      <td>Revista Clínica de Medicina de Familia  v.9 n....</td>\n",
       "      <td>http://scielo.isciii.es/scielo.php?script=sci_...</td>\n",
       "    </tr>\n",
       "    <tr>\n",
       "      <th>4</th>\n",
       "      <td>S1130-01082007001100009-1.txt</td>\n",
       "      <td>1.txt</td>\n",
       "      <td>1130-0108</td>\n",
       "      <td>2007-11-01</td>\n",
       "      <td>Revista Española de Enfermedades Digestivas  v...</td>\n",
       "      <td>http://scielo.isciii.es/scielo.php?script=sci_...</td>\n",
       "    </tr>\n",
       "  </tbody>\n",
       "</table>\n",
       "</div>"
      ],
      "text/plain": [
       "                          doc_id Case_ID       ISSN        Date  \\\n",
       "0  S1130-14732005000300004-1.txt   1.txt  1130-1473  2005-06-01   \n",
       "1  S1130-01082008000200009-1.txt   1.txt  1130-0108  2008-02-01   \n",
       "2  S1137-66272012000300021-1.txt   1.txt  1137-6627  2012-12-01   \n",
       "3  S1699-695X2016000200010-1.txt   1.txt  1699-695X  2016-06-01   \n",
       "4  S1130-01082007001100009-1.txt   1.txt  1130-0108  2007-11-01   \n",
       "\n",
       "                                              Source  \\\n",
       "0                        Neurocirugía  v.16 n.3 2005   \n",
       "1  Revista Española de Enfermedades Digestivas  v...   \n",
       "2  Anales del Sistema Sanitario de Navarra  v.35 ...   \n",
       "3  Revista Clínica de Medicina de Familia  v.9 n....   \n",
       "4  Revista Española de Enfermedades Digestivas  v...   \n",
       "\n",
       "                                      Full_Text_Link  \n",
       "0  http://scielo.isciii.es/scielo.php?script=sci_...  \n",
       "1  http://scielo.isciii.es/scielo.php?script=sci_...  \n",
       "2  http://scielo.isciii.es/scielo.php?script=sci_...  \n",
       "3  http://scielo.isciii.es/scielo.php?script=sci_...  \n",
       "4  http://scielo.isciii.es/scielo.php?script=sci_...  "
      ]
     },
     "execution_count": 23,
     "metadata": {},
     "output_type": "execute_result"
    }
   ],
   "source": [
    "dev_met.head()"
   ]
  },
  {
   "cell_type": "code",
   "execution_count": 24,
   "metadata": {},
   "outputs": [],
   "source": [
    "dev_rel = dev_rel.reset_index()"
   ]
  },
  {
   "cell_type": "code",
   "execution_count": 25,
   "metadata": {},
   "outputs": [],
   "source": [
    "dev_rel.columns = ['# Document_ID', 'Mention_A_type', 'Mention_A_StartOffset',\n",
    "      'Mention_A', 'Relation_type', 'Mention_B_type',\n",
    "       'Mention_B_StartOffset', 'Mention_B_EndOffset', 'Mention_B']"
   ]
  },
  {
   "cell_type": "code",
   "execution_count": 26,
   "metadata": {},
   "outputs": [],
   "source": [
    "dev_rel = dev_rel.rename(columns = {'# Document_ID': 'doc_id'})"
   ]
  },
  {
   "cell_type": "code",
   "execution_count": 27,
   "metadata": {},
   "outputs": [
    {
     "data": {
      "text/html": [
       "<div>\n",
       "<style scoped>\n",
       "    .dataframe tbody tr th:only-of-type {\n",
       "        vertical-align: middle;\n",
       "    }\n",
       "\n",
       "    .dataframe tbody tr th {\n",
       "        vertical-align: top;\n",
       "    }\n",
       "\n",
       "    .dataframe thead th {\n",
       "        text-align: right;\n",
       "    }\n",
       "</style>\n",
       "<table border=\"1\" class=\"dataframe\">\n",
       "  <thead>\n",
       "    <tr style=\"text-align: right;\">\n",
       "      <th></th>\n",
       "      <th>doc_id</th>\n",
       "      <th>Mention_A_type</th>\n",
       "      <th>Mention_A_StartOffset</th>\n",
       "      <th>Mention_A</th>\n",
       "      <th>Relation_type</th>\n",
       "      <th>Mention_B_type</th>\n",
       "      <th>Mention_B_StartOffset</th>\n",
       "      <th>Mention_B_EndOffset</th>\n",
       "      <th>Mention_B</th>\n",
       "    </tr>\n",
       "  </thead>\n",
       "  <tbody>\n",
       "    <tr>\n",
       "      <th>0</th>\n",
       "      <td>S1888-75462015000400006-1</td>\n",
       "      <td>SHORT_FORM</td>\n",
       "      <td>1436</td>\n",
       "      <td>AP</td>\n",
       "      <td>SHORT-LONG</td>\n",
       "      <td>LONG_FORM</td>\n",
       "      <td>1419</td>\n",
       "      <td>1434</td>\n",
       "      <td>anteroposterior</td>\n",
       "    </tr>\n",
       "    <tr>\n",
       "      <th>1</th>\n",
       "      <td>S0210-56912009000700006-2</td>\n",
       "      <td>SHORT_FORM</td>\n",
       "      <td>876</td>\n",
       "      <td>angio-RMN</td>\n",
       "      <td>SHORT-LONG</td>\n",
       "      <td>LONG_FORM</td>\n",
       "      <td>858</td>\n",
       "      <td>874</td>\n",
       "      <td>angiorresonancia</td>\n",
       "    </tr>\n",
       "    <tr>\n",
       "      <th>2</th>\n",
       "      <td>S0210-56912009000700006-2</td>\n",
       "      <td>SHORT_FORM</td>\n",
       "      <td>819</td>\n",
       "      <td>RMN</td>\n",
       "      <td>SHORT-LONG</td>\n",
       "      <td>LONG_FORM</td>\n",
       "      <td>789</td>\n",
       "      <td>817</td>\n",
       "      <td>resonancia magnética nuclear</td>\n",
       "    </tr>\n",
       "    <tr>\n",
       "      <th>3</th>\n",
       "      <td>S1698-44472005000300015-1</td>\n",
       "      <td>SHORT_FORM</td>\n",
       "      <td>209</td>\n",
       "      <td>ATM</td>\n",
       "      <td>SHORT-LONG</td>\n",
       "      <td>LONG_FORM</td>\n",
       "      <td>177</td>\n",
       "      <td>207</td>\n",
       "      <td>articulación témporomandibular</td>\n",
       "    </tr>\n",
       "    <tr>\n",
       "      <th>4</th>\n",
       "      <td>S1698-44472005000300015-1</td>\n",
       "      <td>SHORT_FORM</td>\n",
       "      <td>1125</td>\n",
       "      <td>TC</td>\n",
       "      <td>SHORT-LONG</td>\n",
       "      <td>LONG_FORM</td>\n",
       "      <td>1099</td>\n",
       "      <td>1123</td>\n",
       "      <td>tomografía computerizada</td>\n",
       "    </tr>\n",
       "  </tbody>\n",
       "</table>\n",
       "</div>"
      ],
      "text/plain": [
       "                      doc_id Mention_A_type  Mention_A_StartOffset  Mention_A  \\\n",
       "0  S1888-75462015000400006-1     SHORT_FORM                   1436         AP   \n",
       "1  S0210-56912009000700006-2     SHORT_FORM                    876  angio-RMN   \n",
       "2  S0210-56912009000700006-2     SHORT_FORM                    819        RMN   \n",
       "3  S1698-44472005000300015-1     SHORT_FORM                    209        ATM   \n",
       "4  S1698-44472005000300015-1     SHORT_FORM                   1125         TC   \n",
       "\n",
       "  Relation_type Mention_B_type  Mention_B_StartOffset  Mention_B_EndOffset  \\\n",
       "0    SHORT-LONG      LONG_FORM                   1419                 1434   \n",
       "1    SHORT-LONG      LONG_FORM                    858                  874   \n",
       "2    SHORT-LONG      LONG_FORM                    789                  817   \n",
       "3    SHORT-LONG      LONG_FORM                    177                  207   \n",
       "4    SHORT-LONG      LONG_FORM                   1099                 1123   \n",
       "\n",
       "                        Mention_B  \n",
       "0                 anteroposterior  \n",
       "1                angiorresonancia  \n",
       "2    resonancia magnética nuclear  \n",
       "3  articulación témporomandibular  \n",
       "4        tomografía computerizada  "
      ]
     },
     "execution_count": 27,
     "metadata": {},
     "output_type": "execute_result"
    }
   ],
   "source": [
    "dev_rel.head()"
   ]
  },
  {
   "cell_type": "code",
   "execution_count": 28,
   "metadata": {},
   "outputs": [],
   "source": [
    "dev_abbr = dev_abbr.rename(columns = {'# Document_ID': 'doc_id'})"
   ]
  },
  {
   "cell_type": "code",
   "execution_count": 29,
   "metadata": {},
   "outputs": [
    {
     "data": {
      "text/html": [
       "<div>\n",
       "<style scoped>\n",
       "    .dataframe tbody tr th:only-of-type {\n",
       "        vertical-align: middle;\n",
       "    }\n",
       "\n",
       "    .dataframe tbody tr th {\n",
       "        vertical-align: top;\n",
       "    }\n",
       "\n",
       "    .dataframe thead th {\n",
       "        text-align: right;\n",
       "    }\n",
       "</style>\n",
       "<table border=\"1\" class=\"dataframe\">\n",
       "  <thead>\n",
       "    <tr style=\"text-align: right;\">\n",
       "      <th></th>\n",
       "      <th>doc_id</th>\n",
       "      <th>StartOffset</th>\n",
       "      <th>EndOffset</th>\n",
       "      <th>Abbreviation</th>\n",
       "      <th>Definition</th>\n",
       "      <th>Definition_lemmatized</th>\n",
       "    </tr>\n",
       "  </thead>\n",
       "  <tbody>\n",
       "    <tr>\n",
       "      <th>0</th>\n",
       "      <td>S1130-14732005000300004-1</td>\n",
       "      <td>1216</td>\n",
       "      <td>1218</td>\n",
       "      <td>C3</td>\n",
       "      <td>tercera vértebra cervical</td>\n",
       "      <td>tercero vértebra cervical</td>\n",
       "    </tr>\n",
       "    <tr>\n",
       "      <th>1</th>\n",
       "      <td>S1130-14732005000300004-1</td>\n",
       "      <td>717</td>\n",
       "      <td>719</td>\n",
       "      <td>C2</td>\n",
       "      <td>segunda vértebra cervical</td>\n",
       "      <td>segundo vértebra cervical</td>\n",
       "    </tr>\n",
       "    <tr>\n",
       "      <th>2</th>\n",
       "      <td>S1130-14732005000300004-1</td>\n",
       "      <td>3191</td>\n",
       "      <td>3193</td>\n",
       "      <td>C3</td>\n",
       "      <td>tercera vértebra cervical</td>\n",
       "      <td>tercero vértebra cervical</td>\n",
       "    </tr>\n",
       "    <tr>\n",
       "      <th>3</th>\n",
       "      <td>S1130-14732005000300004-1</td>\n",
       "      <td>2867</td>\n",
       "      <td>2869</td>\n",
       "      <td>C3</td>\n",
       "      <td>tercera vértebra cervical</td>\n",
       "      <td>tercero vértebra cervical</td>\n",
       "    </tr>\n",
       "    <tr>\n",
       "      <th>4</th>\n",
       "      <td>S1130-14732005000300004-1</td>\n",
       "      <td>2862</td>\n",
       "      <td>2864</td>\n",
       "      <td>C2</td>\n",
       "      <td>segunda vértebra cervical</td>\n",
       "      <td>segundo vértebra cervical</td>\n",
       "    </tr>\n",
       "  </tbody>\n",
       "</table>\n",
       "</div>"
      ],
      "text/plain": [
       "                      doc_id  StartOffset  EndOffset Abbreviation  \\\n",
       "0  S1130-14732005000300004-1         1216       1218           C3   \n",
       "1  S1130-14732005000300004-1          717        719           C2   \n",
       "2  S1130-14732005000300004-1         3191       3193           C3   \n",
       "3  S1130-14732005000300004-1         2867       2869           C3   \n",
       "4  S1130-14732005000300004-1         2862       2864           C2   \n",
       "\n",
       "                   Definition      Definition_lemmatized  \n",
       "0   tercera vértebra cervical  tercero vértebra cervical  \n",
       "1   segunda vértebra cervical  segundo vértebra cervical  \n",
       "2  tercera vértebra cervical   tercero vértebra cervical  \n",
       "3  tercera vértebra cervical   tercero vértebra cervical  \n",
       "4  segunda vértebra cervical   segundo vértebra cervical  "
      ]
     },
     "execution_count": 29,
     "metadata": {},
     "output_type": "execute_result"
    }
   ],
   "source": [
    "dev_abbr.head()"
   ]
  },
  {
   "cell_type": "code",
   "execution_count": 30,
   "metadata": {},
   "outputs": [],
   "source": [
    "dev_raw = read_texts(\"../datasets/development_set/development_set.raw_text/\")"
   ]
  },
  {
   "cell_type": "code",
   "execution_count": 31,
   "metadata": {},
   "outputs": [
    {
     "data": {
      "text/html": [
       "<div>\n",
       "<style scoped>\n",
       "    .dataframe tbody tr th:only-of-type {\n",
       "        vertical-align: middle;\n",
       "    }\n",
       "\n",
       "    .dataframe tbody tr th {\n",
       "        vertical-align: top;\n",
       "    }\n",
       "\n",
       "    .dataframe thead th {\n",
       "        text-align: right;\n",
       "    }\n",
       "</style>\n",
       "<table border=\"1\" class=\"dataframe\">\n",
       "  <thead>\n",
       "    <tr style=\"text-align: right;\">\n",
       "      <th></th>\n",
       "      <th>nombre</th>\n",
       "      <th>texto</th>\n",
       "    </tr>\n",
       "  </thead>\n",
       "  <tbody>\n",
       "    <tr>\n",
       "      <th>0</th>\n",
       "      <td>S1139-76322017000200010-1</td>\n",
       "      <td>Niña de dos años y diez meses con antecedentes...</td>\n",
       "    </tr>\n",
       "    <tr>\n",
       "      <th>1</th>\n",
       "      <td>S0365-66912005001100008-1</td>\n",
       "      <td>Se presenta el caso de un varón de 45 años que...</td>\n",
       "    </tr>\n",
       "    <tr>\n",
       "      <th>2</th>\n",
       "      <td>S1130-01082006001000017-1</td>\n",
       "      <td>Mujer de 42 años de edad con antecedentes pers...</td>\n",
       "    </tr>\n",
       "    <tr>\n",
       "      <th>3</th>\n",
       "      <td>S0212-71992005001200008-1</td>\n",
       "      <td>Paciente de 57 años con ingresos hospitalarios...</td>\n",
       "    </tr>\n",
       "    <tr>\n",
       "      <th>4</th>\n",
       "      <td>S0365-66912007000300010-1</td>\n",
       "      <td>Paciente de 33 años que el 20-08-05 es traslad...</td>\n",
       "    </tr>\n",
       "  </tbody>\n",
       "</table>\n",
       "</div>"
      ],
      "text/plain": [
       "                      nombre  \\\n",
       "0  S1139-76322017000200010-1   \n",
       "1  S0365-66912005001100008-1   \n",
       "2  S1130-01082006001000017-1   \n",
       "3  S0212-71992005001200008-1   \n",
       "4  S0365-66912007000300010-1   \n",
       "\n",
       "                                               texto  \n",
       "0  Niña de dos años y diez meses con antecedentes...  \n",
       "1  Se presenta el caso de un varón de 45 años que...  \n",
       "2  Mujer de 42 años de edad con antecedentes pers...  \n",
       "3  Paciente de 57 años con ingresos hospitalarios...  \n",
       "4  Paciente de 33 años que el 20-08-05 es traslad...  "
      ]
     },
     "execution_count": 31,
     "metadata": {},
     "output_type": "execute_result"
    }
   ],
   "source": [
    "dev_raw.head()"
   ]
  },
  {
   "cell_type": "markdown",
   "metadata": {},
   "source": [
    "### Sample test\n",
    "\n",
    "15 clinical cases"
   ]
  },
  {
   "cell_type": "code",
   "execution_count": 44,
   "metadata": {},
   "outputs": [],
   "source": [
    "sample_abbr = pd.read_csv(\"../datasets/sample_set/clinical_cases.abbreviations.sample_set.tsv\", sep = '\\t')\n",
    "sample_met = pd.read_csv(\"../datasets/sample_set/clinical_cases.metadata.sample_set.tsv\", sep = '\\t')\n",
    "sample_rel = pd.read_csv(\"../datasets/sample_set/clinical_cases.relations.sample_set.tsv\", sep = '\\t')"
   ]
  },
  {
   "cell_type": "code",
   "execution_count": 45,
   "metadata": {},
   "outputs": [],
   "source": [
    "sample_met = sample_met.rename(columns = {'# Document_ID': 'doc_id'})"
   ]
  },
  {
   "cell_type": "code",
   "execution_count": 46,
   "metadata": {},
   "outputs": [
    {
     "data": {
      "text/html": [
       "<div>\n",
       "<style scoped>\n",
       "    .dataframe tbody tr th:only-of-type {\n",
       "        vertical-align: middle;\n",
       "    }\n",
       "\n",
       "    .dataframe tbody tr th {\n",
       "        vertical-align: top;\n",
       "    }\n",
       "\n",
       "    .dataframe thead th {\n",
       "        text-align: right;\n",
       "    }\n",
       "</style>\n",
       "<table border=\"1\" class=\"dataframe\">\n",
       "  <thead>\n",
       "    <tr style=\"text-align: right;\">\n",
       "      <th></th>\n",
       "      <th>doc_id</th>\n",
       "      <th>Case_ID</th>\n",
       "      <th>ISSN</th>\n",
       "      <th>Date</th>\n",
       "      <th>Source</th>\n",
       "      <th>Full_Text_Link</th>\n",
       "    </tr>\n",
       "  </thead>\n",
       "  <tbody>\n",
       "    <tr>\n",
       "      <th>0</th>\n",
       "      <td>S0004-06142006000900015-1</td>\n",
       "      <td>1</td>\n",
       "      <td>0004-0614</td>\n",
       "      <td>2006-11-01</td>\n",
       "      <td>Archivos Españoles de Urología (Ed. impresa)  ...</td>\n",
       "      <td>http://scielo.isciii.es/scielo.php?script=sci_...</td>\n",
       "    </tr>\n",
       "    <tr>\n",
       "      <th>1</th>\n",
       "      <td>S0004-06142006000600015-1</td>\n",
       "      <td>1</td>\n",
       "      <td>0004-0614</td>\n",
       "      <td>2006-08-01</td>\n",
       "      <td>Archivos Españoles de Urología (Ed. impresa)  ...</td>\n",
       "      <td>http://scielo.isciii.es/scielo.php?script=sci_...</td>\n",
       "    </tr>\n",
       "    <tr>\n",
       "      <th>2</th>\n",
       "      <td>S0004-06142007000700014-1</td>\n",
       "      <td>1</td>\n",
       "      <td>0004-0614</td>\n",
       "      <td>2007-09-01</td>\n",
       "      <td>Archivos Españoles de Urología (Ed. impresa)  ...</td>\n",
       "      <td>http://scielo.isciii.es/scielo.php?script=sci_...</td>\n",
       "    </tr>\n",
       "    <tr>\n",
       "      <th>3</th>\n",
       "      <td>S0004-06142007000900013-1</td>\n",
       "      <td>1</td>\n",
       "      <td>0004-0614</td>\n",
       "      <td>2007-11-01</td>\n",
       "      <td>Archivos Españoles de Urología (Ed. impresa)  ...</td>\n",
       "      <td>http://scielo.isciii.es/scielo.php?script=sci_...</td>\n",
       "    </tr>\n",
       "    <tr>\n",
       "      <th>4</th>\n",
       "      <td>S0004-06142006000200014-1</td>\n",
       "      <td>1</td>\n",
       "      <td>0004-0614</td>\n",
       "      <td>2006-03-01</td>\n",
       "      <td>Archivos Españoles de Urología (Ed. impresa)  ...</td>\n",
       "      <td>http://scielo.isciii.es/scielo.php?script=sci_...</td>\n",
       "    </tr>\n",
       "  </tbody>\n",
       "</table>\n",
       "</div>"
      ],
      "text/plain": [
       "                      doc_id  Case_ID       ISSN        Date  \\\n",
       "0  S0004-06142006000900015-1        1  0004-0614  2006-11-01   \n",
       "1  S0004-06142006000600015-1        1  0004-0614  2006-08-01   \n",
       "2  S0004-06142007000700014-1        1  0004-0614  2007-09-01   \n",
       "3  S0004-06142007000900013-1        1  0004-0614  2007-11-01   \n",
       "4  S0004-06142006000200014-1        1  0004-0614  2006-03-01   \n",
       "\n",
       "                                              Source  \\\n",
       "0  Archivos Españoles de Urología (Ed. impresa)  ...   \n",
       "1  Archivos Españoles de Urología (Ed. impresa)  ...   \n",
       "2  Archivos Españoles de Urología (Ed. impresa)  ...   \n",
       "3  Archivos Españoles de Urología (Ed. impresa)  ...   \n",
       "4  Archivos Españoles de Urología (Ed. impresa)  ...   \n",
       "\n",
       "                                      Full_Text_Link  \n",
       "0  http://scielo.isciii.es/scielo.php?script=sci_...  \n",
       "1  http://scielo.isciii.es/scielo.php?script=sci_...  \n",
       "2  http://scielo.isciii.es/scielo.php?script=sci_...  \n",
       "3  http://scielo.isciii.es/scielo.php?script=sci_...  \n",
       "4  http://scielo.isciii.es/scielo.php?script=sci_...  "
      ]
     },
     "execution_count": 46,
     "metadata": {},
     "output_type": "execute_result"
    }
   ],
   "source": [
    "sample_met.head()"
   ]
  },
  {
   "cell_type": "code",
   "execution_count": 47,
   "metadata": {},
   "outputs": [],
   "source": [
    "sample_rel = sample_rel.rename(columns = {'# Document_ID': 'doc_id'})"
   ]
  },
  {
   "cell_type": "code",
   "execution_count": 48,
   "metadata": {},
   "outputs": [
    {
     "data": {
      "text/html": [
       "<div>\n",
       "<style scoped>\n",
       "    .dataframe tbody tr th:only-of-type {\n",
       "        vertical-align: middle;\n",
       "    }\n",
       "\n",
       "    .dataframe tbody tr th {\n",
       "        vertical-align: top;\n",
       "    }\n",
       "\n",
       "    .dataframe thead th {\n",
       "        text-align: right;\n",
       "    }\n",
       "</style>\n",
       "<table border=\"1\" class=\"dataframe\">\n",
       "  <thead>\n",
       "    <tr style=\"text-align: right;\">\n",
       "      <th></th>\n",
       "      <th>doc_id</th>\n",
       "      <th>Mention_A_type</th>\n",
       "      <th>Mention_A_StartOffset</th>\n",
       "      <th>Mention_A_EndOffset</th>\n",
       "      <th>Mention_A</th>\n",
       "      <th>Relation_type</th>\n",
       "      <th>Mention_B_type</th>\n",
       "      <th>Mention_B_StartOffset</th>\n",
       "      <th>Mention_B_EndOffset</th>\n",
       "      <th>Mention_B</th>\n",
       "    </tr>\n",
       "  </thead>\n",
       "  <tbody>\n",
       "    <tr>\n",
       "      <th>0</th>\n",
       "      <td>S0004-06142006000700014-1</td>\n",
       "      <td>SHORT_FORM</td>\n",
       "      <td>926</td>\n",
       "      <td>929</td>\n",
       "      <td>CEA</td>\n",
       "      <td>SHORT-LONG</td>\n",
       "      <td>LONG_FORM</td>\n",
       "      <td>896</td>\n",
       "      <td>924</td>\n",
       "      <td>Antígeno Carcino Embrionario</td>\n",
       "    </tr>\n",
       "    <tr>\n",
       "      <th>1</th>\n",
       "      <td>S0004-06142005001000011-1</td>\n",
       "      <td>SHORT_FORM</td>\n",
       "      <td>1626</td>\n",
       "      <td>1629</td>\n",
       "      <td>ROT</td>\n",
       "      <td>SHORT-LONG</td>\n",
       "      <td>LONG_FORM</td>\n",
       "      <td>1600</td>\n",
       "      <td>1624</td>\n",
       "      <td>reflejos osteotendinosos</td>\n",
       "    </tr>\n",
       "    <tr>\n",
       "      <th>2</th>\n",
       "      <td>S0004-06142005001000011-1</td>\n",
       "      <td>SHORT_FORM</td>\n",
       "      <td>1715</td>\n",
       "      <td>1718</td>\n",
       "      <td>RMN</td>\n",
       "      <td>SHORT-LONG</td>\n",
       "      <td>LONG_FORM</td>\n",
       "      <td>1685</td>\n",
       "      <td>1713</td>\n",
       "      <td>resonancia magnética nuclear</td>\n",
       "    </tr>\n",
       "    <tr>\n",
       "      <th>3</th>\n",
       "      <td>S0004-06142005001000011-1</td>\n",
       "      <td>SHORT_FORM</td>\n",
       "      <td>1663</td>\n",
       "      <td>1666</td>\n",
       "      <td>RCP</td>\n",
       "      <td>SHORT-LONG</td>\n",
       "      <td>LONG_FORM</td>\n",
       "      <td>1639</td>\n",
       "      <td>1661</td>\n",
       "      <td>reflejo cutaneoplantar</td>\n",
       "    </tr>\n",
       "    <tr>\n",
       "      <th>4</th>\n",
       "      <td>S0004-06142005001000011-1</td>\n",
       "      <td>SHORT_FORM</td>\n",
       "      <td>1808</td>\n",
       "      <td>1811</td>\n",
       "      <td>LCR</td>\n",
       "      <td>SHORT-LONG</td>\n",
       "      <td>LONG_FORM</td>\n",
       "      <td>1783</td>\n",
       "      <td>1806</td>\n",
       "      <td>líquido cefalorraquídeo</td>\n",
       "    </tr>\n",
       "  </tbody>\n",
       "</table>\n",
       "</div>"
      ],
      "text/plain": [
       "                      doc_id Mention_A_type  Mention_A_StartOffset  \\\n",
       "0  S0004-06142006000700014-1     SHORT_FORM                    926   \n",
       "1  S0004-06142005001000011-1     SHORT_FORM                   1626   \n",
       "2  S0004-06142005001000011-1     SHORT_FORM                   1715   \n",
       "3  S0004-06142005001000011-1     SHORT_FORM                   1663   \n",
       "4  S0004-06142005001000011-1     SHORT_FORM                   1808   \n",
       "\n",
       "   Mention_A_EndOffset Mention_A Relation_type Mention_B_type  \\\n",
       "0                  929       CEA    SHORT-LONG      LONG_FORM   \n",
       "1                 1629       ROT    SHORT-LONG      LONG_FORM   \n",
       "2                 1718       RMN    SHORT-LONG      LONG_FORM   \n",
       "3                 1666       RCP    SHORT-LONG      LONG_FORM   \n",
       "4                 1811       LCR    SHORT-LONG      LONG_FORM   \n",
       "\n",
       "   Mention_B_StartOffset  Mention_B_EndOffset                     Mention_B  \n",
       "0                    896                  924  Antígeno Carcino Embrionario  \n",
       "1                   1600                 1624      reflejos osteotendinosos  \n",
       "2                   1685                 1713  resonancia magnética nuclear  \n",
       "3                   1639                 1661        reflejo cutaneoplantar  \n",
       "4                   1783                 1806       líquido cefalorraquídeo  "
      ]
     },
     "execution_count": 48,
     "metadata": {},
     "output_type": "execute_result"
    }
   ],
   "source": [
    "sample_rel.head()"
   ]
  },
  {
   "cell_type": "code",
   "execution_count": 49,
   "metadata": {},
   "outputs": [],
   "source": [
    "sample_abbr = sample_abbr.rename(columns = {'# Document_ID': 'doc_id'})"
   ]
  },
  {
   "cell_type": "code",
   "execution_count": 50,
   "metadata": {},
   "outputs": [
    {
     "data": {
      "text/html": [
       "<div>\n",
       "<style scoped>\n",
       "    .dataframe tbody tr th:only-of-type {\n",
       "        vertical-align: middle;\n",
       "    }\n",
       "\n",
       "    .dataframe tbody tr th {\n",
       "        vertical-align: top;\n",
       "    }\n",
       "\n",
       "    .dataframe thead th {\n",
       "        text-align: right;\n",
       "    }\n",
       "</style>\n",
       "<table border=\"1\" class=\"dataframe\">\n",
       "  <thead>\n",
       "    <tr style=\"text-align: right;\">\n",
       "      <th></th>\n",
       "      <th>doc_id</th>\n",
       "      <th>StartOffset</th>\n",
       "      <th>EndOffset</th>\n",
       "      <th>Abbreviation</th>\n",
       "      <th>Definition</th>\n",
       "      <th>Definition_lemmatized</th>\n",
       "    </tr>\n",
       "  </thead>\n",
       "  <tbody>\n",
       "    <tr>\n",
       "      <th>0</th>\n",
       "      <td>S0004-06142005001000011-1</td>\n",
       "      <td>1034</td>\n",
       "      <td>1036</td>\n",
       "      <td>Kg</td>\n",
       "      <td>kilogramo</td>\n",
       "      <td>kilogramo</td>\n",
       "    </tr>\n",
       "    <tr>\n",
       "      <th>1</th>\n",
       "      <td>S0004-06142005001000011-1</td>\n",
       "      <td>1031</td>\n",
       "      <td>1033</td>\n",
       "      <td>mg</td>\n",
       "      <td>miligramo</td>\n",
       "      <td>miligramo</td>\n",
       "    </tr>\n",
       "    <tr>\n",
       "      <th>2</th>\n",
       "      <td>S0004-06142005001000011-1</td>\n",
       "      <td>196</td>\n",
       "      <td>199</td>\n",
       "      <td>IgA</td>\n",
       "      <td>inmunoglobulina a</td>\n",
       "      <td>inmunoglobulina a</td>\n",
       "    </tr>\n",
       "    <tr>\n",
       "      <th>3</th>\n",
       "      <td>S0004-06142005001000011-1</td>\n",
       "      <td>2057</td>\n",
       "      <td>2060</td>\n",
       "      <td>LCR</td>\n",
       "      <td>líquido cefalorraquídeo</td>\n",
       "      <td>líquido cefalorraquídeo</td>\n",
       "    </tr>\n",
       "    <tr>\n",
       "      <th>4</th>\n",
       "      <td>S0004-06142005001000011-1</td>\n",
       "      <td>1594</td>\n",
       "      <td>1598</td>\n",
       "      <td>EEII</td>\n",
       "      <td>extremidades inferiores</td>\n",
       "      <td>extremidad inferior</td>\n",
       "    </tr>\n",
       "  </tbody>\n",
       "</table>\n",
       "</div>"
      ],
      "text/plain": [
       "                      doc_id  StartOffset  EndOffset Abbreviation  \\\n",
       "0  S0004-06142005001000011-1         1034       1036           Kg   \n",
       "1  S0004-06142005001000011-1         1031       1033           mg   \n",
       "2  S0004-06142005001000011-1          196        199          IgA   \n",
       "3  S0004-06142005001000011-1         2057       2060          LCR   \n",
       "4  S0004-06142005001000011-1         1594       1598         EEII   \n",
       "\n",
       "                Definition    Definition_lemmatized  \n",
       "0                kilogramo                kilogramo  \n",
       "1                miligramo                miligramo  \n",
       "2        inmunoglobulina a        inmunoglobulina a  \n",
       "3  líquido cefalorraquídeo  líquido cefalorraquídeo  \n",
       "4  extremidades inferiores      extremidad inferior  "
      ]
     },
     "execution_count": 50,
     "metadata": {},
     "output_type": "execute_result"
    }
   ],
   "source": [
    "sample_abbr.head()"
   ]
  },
  {
   "cell_type": "code",
   "execution_count": 51,
   "metadata": {},
   "outputs": [],
   "source": [
    "sample_raw = read_texts(\"../datasets/sample_set/sample_set.raw_text/\")"
   ]
  },
  {
   "cell_type": "code",
   "execution_count": 52,
   "metadata": {},
   "outputs": [
    {
     "data": {
      "text/html": [
       "<div>\n",
       "<style scoped>\n",
       "    .dataframe tbody tr th:only-of-type {\n",
       "        vertical-align: middle;\n",
       "    }\n",
       "\n",
       "    .dataframe tbody tr th {\n",
       "        vertical-align: top;\n",
       "    }\n",
       "\n",
       "    .dataframe thead th {\n",
       "        text-align: right;\n",
       "    }\n",
       "</style>\n",
       "<table border=\"1\" class=\"dataframe\">\n",
       "  <thead>\n",
       "    <tr style=\"text-align: right;\">\n",
       "      <th></th>\n",
       "      <th>nombre</th>\n",
       "      <th>texto</th>\n",
       "    </tr>\n",
       "  </thead>\n",
       "  <tbody>\n",
       "    <tr>\n",
       "      <th>0</th>\n",
       "      <td>S0004-06142006000600014-1</td>\n",
       "      <td>Paciente varón, de 40 años de edad, con antece...</td>\n",
       "    </tr>\n",
       "    <tr>\n",
       "      <th>1</th>\n",
       "      <td>S0004-06142006000300015-1</td>\n",
       "      <td>Paciente de 50 años con antecedente de litiasi...</td>\n",
       "    </tr>\n",
       "    <tr>\n",
       "      <th>2</th>\n",
       "      <td>S0004-06142007000900013-1</td>\n",
       "      <td>Presentamos el caso de un recién nacido de tre...</td>\n",
       "    </tr>\n",
       "    <tr>\n",
       "      <th>3</th>\n",
       "      <td>S0004-06142005001000011-1</td>\n",
       "      <td>Varón de 58 años de edad en el momento del tra...</td>\n",
       "    </tr>\n",
       "    <tr>\n",
       "      <th>4</th>\n",
       "      <td>S0004-06142006000700013-1</td>\n",
       "      <td>Paciente varón, de 63 años de edad, mestizo, d...</td>\n",
       "    </tr>\n",
       "  </tbody>\n",
       "</table>\n",
       "</div>"
      ],
      "text/plain": [
       "                      nombre  \\\n",
       "0  S0004-06142006000600014-1   \n",
       "1  S0004-06142006000300015-1   \n",
       "2  S0004-06142007000900013-1   \n",
       "3  S0004-06142005001000011-1   \n",
       "4  S0004-06142006000700013-1   \n",
       "\n",
       "                                               texto  \n",
       "0  Paciente varón, de 40 años de edad, con antece...  \n",
       "1  Paciente de 50 años con antecedente de litiasi...  \n",
       "2  Presentamos el caso de un recién nacido de tre...  \n",
       "3  Varón de 58 años de edad en el momento del tra...  \n",
       "4  Paciente varón, de 63 años de edad, mestizo, d...  "
      ]
     },
     "execution_count": 52,
     "metadata": {},
     "output_type": "execute_result"
    }
   ],
   "source": [
    "sample_raw.head()"
   ]
  },
  {
   "cell_type": "markdown",
   "metadata": {},
   "source": [
    "### Trainning\n",
    "\n",
    "318 clinical cases"
   ]
  },
  {
   "cell_type": "code",
   "execution_count": 9,
   "metadata": {},
   "outputs": [],
   "source": [
    "train_abbr = pd.read_csv(\"../datasets/trainning_set/clinical_cases.abbreviations.training_set.tsv\", sep = '\\t')\n",
    "train_met = pd.read_csv(\"../datasets/trainning_set/clinical_cases.metadata.training_set.tsv\", sep = '\\t')\n",
    "train_rel = pd.read_csv(\"../datasets/trainning_set/clinical_cases.relations.training_set.tsv\", sep = '\\t')"
   ]
  },
  {
   "cell_type": "code",
   "execution_count": 10,
   "metadata": {},
   "outputs": [],
   "source": [
    "train_met = train_met.rename(columns = {'# Document_ID': 'doc_id'})"
   ]
  },
  {
   "cell_type": "code",
   "execution_count": 11,
   "metadata": {},
   "outputs": [
    {
     "data": {
      "text/html": [
       "<div>\n",
       "<style scoped>\n",
       "    .dataframe tbody tr th:only-of-type {\n",
       "        vertical-align: middle;\n",
       "    }\n",
       "\n",
       "    .dataframe tbody tr th {\n",
       "        vertical-align: top;\n",
       "    }\n",
       "\n",
       "    .dataframe thead th {\n",
       "        text-align: right;\n",
       "    }\n",
       "</style>\n",
       "<table border=\"1\" class=\"dataframe\">\n",
       "  <thead>\n",
       "    <tr style=\"text-align: right;\">\n",
       "      <th></th>\n",
       "      <th>doc_id</th>\n",
       "      <th>Case_ID</th>\n",
       "      <th>ISSN</th>\n",
       "      <th>Date</th>\n",
       "      <th>Source</th>\n",
       "      <th>Full_Text_Link</th>\n",
       "    </tr>\n",
       "  </thead>\n",
       "  <tbody>\n",
       "    <tr>\n",
       "      <th>0</th>\n",
       "      <td>S1139-76322015000500009-1.txt</td>\n",
       "      <td>1.txt</td>\n",
       "      <td>1139-7632</td>\n",
       "      <td>2015-12-01</td>\n",
       "      <td>Pediatría Atención Primaria  v.17 n.68 2015</td>\n",
       "      <td>http://scielo.isciii.es/scielo.php?script=sci_...</td>\n",
       "    </tr>\n",
       "    <tr>\n",
       "      <th>1</th>\n",
       "      <td>S1130-05582008000400007-2.txt</td>\n",
       "      <td>2.txt</td>\n",
       "      <td>1130-0558</td>\n",
       "      <td>2008-08-01</td>\n",
       "      <td>Revista Española de Cirugía Oral y Maxilofacia...</td>\n",
       "      <td>http://scielo.isciii.es/scielo.php?script=sci_...</td>\n",
       "    </tr>\n",
       "    <tr>\n",
       "      <th>2</th>\n",
       "      <td>S0210-48062006000100012-1.txt</td>\n",
       "      <td>1.txt</td>\n",
       "      <td>0210-4806</td>\n",
       "      <td>2006-01-01</td>\n",
       "      <td>Actas Urológicas Españolas  v.30 n.1 2006</td>\n",
       "      <td>http://scielo.isciii.es/scielo.php?script=sci_...</td>\n",
       "    </tr>\n",
       "    <tr>\n",
       "      <th>3</th>\n",
       "      <td>S0213-12852003000500002-1.txt</td>\n",
       "      <td>1.txt</td>\n",
       "      <td>0213-1285</td>\n",
       "      <td>2003-10-01</td>\n",
       "      <td>Avances en Odontoestomatología  v.19 n.5 2003</td>\n",
       "      <td>http://scielo.isciii.es/scielo.php?script=sci_...</td>\n",
       "    </tr>\n",
       "    <tr>\n",
       "      <th>4</th>\n",
       "      <td>S0212-71992005000400007-1.txt</td>\n",
       "      <td>1.txt</td>\n",
       "      <td>0212-7199</td>\n",
       "      <td>2005-04-01</td>\n",
       "      <td>Anales de Medicina Interna  v.22 n.4 2005</td>\n",
       "      <td>http://scielo.isciii.es/scielo.php?script=sci_...</td>\n",
       "    </tr>\n",
       "  </tbody>\n",
       "</table>\n",
       "</div>"
      ],
      "text/plain": [
       "                          doc_id Case_ID       ISSN        Date  \\\n",
       "0  S1139-76322015000500009-1.txt   1.txt  1139-7632  2015-12-01   \n",
       "1  S1130-05582008000400007-2.txt   2.txt  1130-0558  2008-08-01   \n",
       "2  S0210-48062006000100012-1.txt   1.txt  0210-4806  2006-01-01   \n",
       "3  S0213-12852003000500002-1.txt   1.txt  0213-1285  2003-10-01   \n",
       "4  S0212-71992005000400007-1.txt   1.txt  0212-7199  2005-04-01   \n",
       "\n",
       "                                              Source  \\\n",
       "0        Pediatría Atención Primaria  v.17 n.68 2015   \n",
       "1  Revista Española de Cirugía Oral y Maxilofacia...   \n",
       "2          Actas Urológicas Españolas  v.30 n.1 2006   \n",
       "3      Avances en Odontoestomatología  v.19 n.5 2003   \n",
       "4          Anales de Medicina Interna  v.22 n.4 2005   \n",
       "\n",
       "                                      Full_Text_Link  \n",
       "0  http://scielo.isciii.es/scielo.php?script=sci_...  \n",
       "1  http://scielo.isciii.es/scielo.php?script=sci_...  \n",
       "2  http://scielo.isciii.es/scielo.php?script=sci_...  \n",
       "3  http://scielo.isciii.es/scielo.php?script=sci_...  \n",
       "4  http://scielo.isciii.es/scielo.php?script=sci_...  "
      ]
     },
     "execution_count": 11,
     "metadata": {},
     "output_type": "execute_result"
    }
   ],
   "source": [
    "train_met.head()"
   ]
  },
  {
   "cell_type": "code",
   "execution_count": 12,
   "metadata": {},
   "outputs": [],
   "source": [
    "train_rel = train_rel.reset_index()"
   ]
  },
  {
   "cell_type": "code",
   "execution_count": 13,
   "metadata": {},
   "outputs": [],
   "source": [
    "train_rel.columns = ['# Document_ID', 'Mention_A_type', 'Mention_A_StartOffset',\n",
    "      'Mention_A', 'Relation_type', 'Mention_B_type',\n",
    "       'Mention_B_StartOffset', 'Mention_B_EndOffset', 'Mention_B']"
   ]
  },
  {
   "cell_type": "code",
   "execution_count": 14,
   "metadata": {},
   "outputs": [],
   "source": [
    "train_rel = train_rel.rename(columns = {'# Document_ID': 'doc_id'})"
   ]
  },
  {
   "cell_type": "code",
   "execution_count": 15,
   "metadata": {},
   "outputs": [
    {
     "data": {
      "text/html": [
       "<div>\n",
       "<style scoped>\n",
       "    .dataframe tbody tr th:only-of-type {\n",
       "        vertical-align: middle;\n",
       "    }\n",
       "\n",
       "    .dataframe tbody tr th {\n",
       "        vertical-align: top;\n",
       "    }\n",
       "\n",
       "    .dataframe thead th {\n",
       "        text-align: right;\n",
       "    }\n",
       "</style>\n",
       "<table border=\"1\" class=\"dataframe\">\n",
       "  <thead>\n",
       "    <tr style=\"text-align: right;\">\n",
       "      <th></th>\n",
       "      <th>doc_id</th>\n",
       "      <th>Mention_A_type</th>\n",
       "      <th>Mention_A_StartOffset</th>\n",
       "      <th>Mention_A</th>\n",
       "      <th>Relation_type</th>\n",
       "      <th>Mention_B_type</th>\n",
       "      <th>Mention_B_StartOffset</th>\n",
       "      <th>Mention_B_EndOffset</th>\n",
       "      <th>Mention_B</th>\n",
       "    </tr>\n",
       "  </thead>\n",
       "  <tbody>\n",
       "    <tr>\n",
       "      <th>0</th>\n",
       "      <td>S1130-01082009000400014-1</td>\n",
       "      <td>SHORT_FORM</td>\n",
       "      <td>476</td>\n",
       "      <td>NPT</td>\n",
       "      <td>SHORT-LONG</td>\n",
       "      <td>LONG_FORM</td>\n",
       "      <td>454.0</td>\n",
       "      <td>474.0</td>\n",
       "      <td>nutrición parenteral</td>\n",
       "    </tr>\n",
       "    <tr>\n",
       "      <th>1</th>\n",
       "      <td>S1130-63432016000100009-1</td>\n",
       "      <td>SHORT_FORM</td>\n",
       "      <td>614</td>\n",
       "      <td>NIHSS</td>\n",
       "      <td>SHORT-LONG</td>\n",
       "      <td>LONG_FORM</td>\n",
       "      <td>621.0</td>\n",
       "      <td>662.0</td>\n",
       "      <td>National Institute of Health Stroke Scale</td>\n",
       "    </tr>\n",
       "    <tr>\n",
       "      <th>2</th>\n",
       "      <td>S1139-76322017000200007-1</td>\n",
       "      <td>SHORT_FORM</td>\n",
       "      <td>1145</td>\n",
       "      <td>CMV</td>\n",
       "      <td>SHORT-LONG</td>\n",
       "      <td>LONG_FORM</td>\n",
       "      <td>1128.0</td>\n",
       "      <td>1143.0</td>\n",
       "      <td>citomegalovirus</td>\n",
       "    </tr>\n",
       "    <tr>\n",
       "      <th>3</th>\n",
       "      <td>S1139-76322017000200007-1</td>\n",
       "      <td>SHORT_FORM</td>\n",
       "      <td>1243</td>\n",
       "      <td>VSG</td>\n",
       "      <td>SHORT-LONG</td>\n",
       "      <td>LONG_FORM</td>\n",
       "      <td>1206.0</td>\n",
       "      <td>1241.0</td>\n",
       "      <td>velocidad de sedimentación globular</td>\n",
       "    </tr>\n",
       "    <tr>\n",
       "      <th>4</th>\n",
       "      <td>S1139-76322017000200007-1</td>\n",
       "      <td>SHORT_FORM</td>\n",
       "      <td>1300</td>\n",
       "      <td>IGRA</td>\n",
       "      <td>SHORT-LONG</td>\n",
       "      <td>LONG_FORM</td>\n",
       "      <td>1267.0</td>\n",
       "      <td>1298.0</td>\n",
       "      <td>interferon-gamma release assays</td>\n",
       "    </tr>\n",
       "  </tbody>\n",
       "</table>\n",
       "</div>"
      ],
      "text/plain": [
       "                      doc_id Mention_A_type Mention_A_StartOffset Mention_A  \\\n",
       "0  S1130-01082009000400014-1     SHORT_FORM                   476       NPT   \n",
       "1  S1130-63432016000100009-1     SHORT_FORM                   614     NIHSS   \n",
       "2  S1139-76322017000200007-1     SHORT_FORM                  1145       CMV   \n",
       "3  S1139-76322017000200007-1     SHORT_FORM                  1243       VSG   \n",
       "4  S1139-76322017000200007-1     SHORT_FORM                  1300      IGRA   \n",
       "\n",
       "  Relation_type Mention_B_type  Mention_B_StartOffset  Mention_B_EndOffset  \\\n",
       "0    SHORT-LONG      LONG_FORM                  454.0                474.0   \n",
       "1    SHORT-LONG      LONG_FORM                  621.0                662.0   \n",
       "2    SHORT-LONG      LONG_FORM                 1128.0               1143.0   \n",
       "3    SHORT-LONG      LONG_FORM                 1206.0               1241.0   \n",
       "4    SHORT-LONG      LONG_FORM                 1267.0               1298.0   \n",
       "\n",
       "                                   Mention_B  \n",
       "0                       nutrición parenteral  \n",
       "1  National Institute of Health Stroke Scale  \n",
       "2                            citomegalovirus  \n",
       "3        velocidad de sedimentación globular  \n",
       "4            interferon-gamma release assays  "
      ]
     },
     "execution_count": 15,
     "metadata": {},
     "output_type": "execute_result"
    }
   ],
   "source": [
    "train_rel.head()"
   ]
  },
  {
   "cell_type": "code",
   "execution_count": 16,
   "metadata": {},
   "outputs": [],
   "source": [
    "train_abbr = train_abbr.rename(columns = {'# Document_ID': 'doc_id'})"
   ]
  },
  {
   "cell_type": "code",
   "execution_count": 489,
   "metadata": {},
   "outputs": [
    {
     "data": {
      "text/html": [
       "<div>\n",
       "<style scoped>\n",
       "    .dataframe tbody tr th:only-of-type {\n",
       "        vertical-align: middle;\n",
       "    }\n",
       "\n",
       "    .dataframe tbody tr th {\n",
       "        vertical-align: top;\n",
       "    }\n",
       "\n",
       "    .dataframe thead th {\n",
       "        text-align: right;\n",
       "    }\n",
       "</style>\n",
       "<table border=\"1\" class=\"dataframe\">\n",
       "  <thead>\n",
       "    <tr style=\"text-align: right;\">\n",
       "      <th></th>\n",
       "      <th>doc_id</th>\n",
       "      <th>StartOffset</th>\n",
       "      <th>EndOffset</th>\n",
       "      <th>Abbreviation</th>\n",
       "      <th>Definition</th>\n",
       "      <th>Definition_lemmatized</th>\n",
       "    </tr>\n",
       "  </thead>\n",
       "  <tbody>\n",
       "    <tr>\n",
       "      <th>0</th>\n",
       "      <td>S0210-48062004000500008-1</td>\n",
       "      <td>1650</td>\n",
       "      <td>1652</td>\n",
       "      <td>ml</td>\n",
       "      <td>mililitro</td>\n",
       "      <td>mililitro</td>\n",
       "    </tr>\n",
       "    <tr>\n",
       "      <th>1</th>\n",
       "      <td>S0210-48062004000500008-1</td>\n",
       "      <td>708</td>\n",
       "      <td>709</td>\n",
       "      <td>l</td>\n",
       "      <td>litro</td>\n",
       "      <td>litro</td>\n",
       "    </tr>\n",
       "    <tr>\n",
       "      <th>2</th>\n",
       "      <td>S0210-48062004000500008-1</td>\n",
       "      <td>704</td>\n",
       "      <td>707</td>\n",
       "      <td>mEq</td>\n",
       "      <td>miliequivalente</td>\n",
       "      <td>miliequivalente</td>\n",
       "    </tr>\n",
       "    <tr>\n",
       "      <th>3</th>\n",
       "      <td>S0210-48062004000500008-1</td>\n",
       "      <td>677</td>\n",
       "      <td>681</td>\n",
       "      <td>pCO2</td>\n",
       "      <td>presión parcial de co2</td>\n",
       "      <td>presión parcial de co2</td>\n",
       "    </tr>\n",
       "    <tr>\n",
       "      <th>4</th>\n",
       "      <td>S0210-48062004000500008-1</td>\n",
       "      <td>2287</td>\n",
       "      <td>2290</td>\n",
       "      <td>HLA</td>\n",
       "      <td>human leucocyte antigen</td>\n",
       "      <td>human leucocyte antiger</td>\n",
       "    </tr>\n",
       "  </tbody>\n",
       "</table>\n",
       "</div>"
      ],
      "text/plain": [
       "                      doc_id  StartOffset  EndOffset Abbreviation  \\\n",
       "0  S0210-48062004000500008-1         1650       1652           ml   \n",
       "1  S0210-48062004000500008-1          708        709            l   \n",
       "2  S0210-48062004000500008-1          704        707          mEq   \n",
       "3  S0210-48062004000500008-1          677        681         pCO2   \n",
       "4  S0210-48062004000500008-1         2287       2290          HLA   \n",
       "\n",
       "                Definition    Definition_lemmatized  \n",
       "0                mililitro                mililitro  \n",
       "1                    litro                    litro  \n",
       "2          miliequivalente          miliequivalente  \n",
       "3   presión parcial de co2   presión parcial de co2  \n",
       "4  human leucocyte antigen  human leucocyte antiger  "
      ]
     },
     "execution_count": 489,
     "metadata": {},
     "output_type": "execute_result"
    }
   ],
   "source": [
    "train_abbr.head()"
   ]
  },
  {
   "cell_type": "code",
   "execution_count": 8,
   "metadata": {},
   "outputs": [],
   "source": [
    "train_raw = read_texts(\"../datasets/trainning_set/training_set.raw_text/txt/\")"
   ]
  },
  {
   "cell_type": "code",
   "execution_count": 9,
   "metadata": {},
   "outputs": [],
   "source": [
    "train_raw = train_raw.rename(columns = {'nombre': 'doc_id'})"
   ]
  },
  {
   "cell_type": "code",
   "execution_count": 10,
   "metadata": {},
   "outputs": [
    {
     "data": {
      "text/html": [
       "<div>\n",
       "<style scoped>\n",
       "    .dataframe tbody tr th:only-of-type {\n",
       "        vertical-align: middle;\n",
       "    }\n",
       "\n",
       "    .dataframe tbody tr th {\n",
       "        vertical-align: top;\n",
       "    }\n",
       "\n",
       "    .dataframe thead th {\n",
       "        text-align: right;\n",
       "    }\n",
       "</style>\n",
       "<table border=\"1\" class=\"dataframe\">\n",
       "  <thead>\n",
       "    <tr style=\"text-align: right;\">\n",
       "      <th></th>\n",
       "      <th>doc_id</th>\n",
       "      <th>texto</th>\n",
       "    </tr>\n",
       "  </thead>\n",
       "  <tbody>\n",
       "    <tr>\n",
       "      <th>0</th>\n",
       "      <td>S0004-06142005000900013-1</td>\n",
       "      <td>Se trata de una mujer de 29 años sometida a un...</td>\n",
       "    </tr>\n",
       "    <tr>\n",
       "      <th>1</th>\n",
       "      <td>S0004-06142005000900015-1</td>\n",
       "      <td>Varón de 36 años, sin antecedentes de interés,...</td>\n",
       "    </tr>\n",
       "    <tr>\n",
       "      <th>2</th>\n",
       "      <td>S0004-06142005000900016-1</td>\n",
       "      <td>Mujer de 29 años con antecedentes de ulcus duo...</td>\n",
       "    </tr>\n",
       "    <tr>\n",
       "      <th>3</th>\n",
       "      <td>S0004-06142005001000011-1</td>\n",
       "      <td>Varón de 58 años de edad en el momento del tra...</td>\n",
       "    </tr>\n",
       "    <tr>\n",
       "      <th>4</th>\n",
       "      <td>S0004-06142005001000011-3</td>\n",
       "      <td>Mujer de 42 años en el momento de someterse a ...</td>\n",
       "    </tr>\n",
       "  </tbody>\n",
       "</table>\n",
       "</div>"
      ],
      "text/plain": [
       "                      doc_id  \\\n",
       "0  S0004-06142005000900013-1   \n",
       "1  S0004-06142005000900015-1   \n",
       "2  S0004-06142005000900016-1   \n",
       "3  S0004-06142005001000011-1   \n",
       "4  S0004-06142005001000011-3   \n",
       "\n",
       "                                               texto  \n",
       "0  Se trata de una mujer de 29 años sometida a un...  \n",
       "1  Varón de 36 años, sin antecedentes de interés,...  \n",
       "2  Mujer de 29 años con antecedentes de ulcus duo...  \n",
       "3  Varón de 58 años de edad en el momento del tra...  \n",
       "4  Mujer de 42 años en el momento de someterse a ...  "
      ]
     },
     "execution_count": 10,
     "metadata": {},
     "output_type": "execute_result"
    }
   ],
   "source": [
    "train_raw.head()"
   ]
  },
  {
   "cell_type": "markdown",
   "metadata": {},
   "source": [
    "# Sub-track 1"
   ]
  },
  {
   "cell_type": "markdown",
   "metadata": {},
   "source": [
    "## Found abbreviations (Short Forms)"
   ]
  },
  {
   "cell_type": "markdown",
   "metadata": {},
   "source": [
    "### Regex"
   ]
  },
  {
   "cell_type": "code",
   "execution_count": 11,
   "metadata": {},
   "outputs": [],
   "source": [
    "#patron = r'\\(([A-Z]{2,8})\\)'\n",
    "#patron1 = r'\\s[A-Z]{1,3}\\s'\n",
    "#patron2 = r'\\s[a-z]{1,3}\\s'\n",
    "patron3 = r'[A-Z]{2,8}'\n",
    "patron4 = r'\\s[a-z]{1,2}\\s'\n",
    "patron5 = r'[a-z]+\\-[A-Z]{1,8}'\n",
    "patron6 = r'[a-z]+\\/[a-z]+'\n",
    "patron7 = r'[A-Z]?[a-z]{1,4}[A-Z]+[a-z]*[1-9]*'\n",
    "patron8 = r'\\/[a-z]*[A-Z]*'\n",
    "\n",
    "\n",
    "# create a list with them\n",
    "regexes = [ patron3, patron4, patron5, patron6, patron7,patron8]\n",
    "for i in regexes:\n",
    "    generic_re = re.compile(\"%s|%s|%s|%s|%s|%s\" % (patron3, patron4, patron5, patron6, patron7,patron8))"
   ]
  },
  {
   "cell_type": "code",
   "execution_count": 12,
   "metadata": {},
   "outputs": [],
   "source": [
    "#nltk.download('stopwords')\n",
    "swords = list(set(stopwords.words('spanish')))"
   ]
  },
  {
   "cell_type": "markdown",
   "metadata": {},
   "source": [
    "**Get Short Formns with a regex in each text**"
   ]
  },
  {
   "cell_type": "code",
   "execution_count": 13,
   "metadata": {},
   "outputs": [],
   "source": [
    "train_raw['abrev'] = train_raw['texto'].map(lambda x: generic_re.findall(x))"
   ]
  },
  {
   "cell_type": "code",
   "execution_count": 205,
   "metadata": {},
   "outputs": [],
   "source": [
    "# train_raw['offse'] = train_raw['texto'].map(lambda x: generic_re.search(x).span())"
   ]
  },
  {
   "cell_type": "markdown",
   "metadata": {},
   "source": [
    "**Get offsets of the Short Forms founded in the text**"
   ]
  },
  {
   "cell_type": "code",
   "execution_count": 14,
   "metadata": {},
   "outputs": [],
   "source": [
    "train_raw['offse'] = train_raw['texto'].map(lambda x: [(m.start(0), m.end(0)) for m in re.finditer(generic_re, x)])"
   ]
  },
  {
   "cell_type": "code",
   "execution_count": 15,
   "metadata": {},
   "outputs": [],
   "source": [
    "train_raw['abrev'] = train_raw['abrev'].apply(lambda x: [i.strip() for i in x])"
   ]
  },
  {
   "cell_type": "markdown",
   "metadata": {},
   "source": [
    "Filter Short Forms to delete ones which are stopwords, get their index too for filter offsets lists later"
   ]
  },
  {
   "cell_type": "code",
   "execution_count": 16,
   "metadata": {},
   "outputs": [],
   "source": [
    "train_raw['abrev_index'] = train_raw['abrev'].apply(lambda x: [x.index(i) for i in x if i not in swords])"
   ]
  },
  {
   "cell_type": "code",
   "execution_count": 17,
   "metadata": {},
   "outputs": [],
   "source": [
    "train_raw['abrev'] = train_raw['abrev'].apply(lambda x: [i for i in x if i not in swords])"
   ]
  },
  {
   "cell_type": "markdown",
   "metadata": {},
   "source": [
    "Filter offsets lists by index"
   ]
  },
  {
   "cell_type": "code",
   "execution_count": 18,
   "metadata": {},
   "outputs": [],
   "source": [
    "train_raw['offse'] = train_raw.apply(lambda x: [x['offse'][i] for i in x['abrev_index']], axis = 1)"
   ]
  },
  {
   "cell_type": "code",
   "execution_count": 19,
   "metadata": {},
   "outputs": [
    {
     "data": {
      "text/html": [
       "<div>\n",
       "<style scoped>\n",
       "    .dataframe tbody tr th:only-of-type {\n",
       "        vertical-align: middle;\n",
       "    }\n",
       "\n",
       "    .dataframe tbody tr th {\n",
       "        vertical-align: top;\n",
       "    }\n",
       "\n",
       "    .dataframe thead th {\n",
       "        text-align: right;\n",
       "    }\n",
       "</style>\n",
       "<table border=\"1\" class=\"dataframe\">\n",
       "  <thead>\n",
       "    <tr style=\"text-align: right;\">\n",
       "      <th></th>\n",
       "      <th>doc_id</th>\n",
       "      <th>texto</th>\n",
       "      <th>abrev</th>\n",
       "      <th>offse</th>\n",
       "      <th>abrev_index</th>\n",
       "    </tr>\n",
       "  </thead>\n",
       "  <tbody>\n",
       "    <tr>\n",
       "      <th>0</th>\n",
       "      <td>S0004-06142005000900013-1</td>\n",
       "      <td>Se trata de una mujer de 29 años sometida a un...</td>\n",
       "      <td>[mm, DAKO, HHF]</td>\n",
       "      <td>[(185, 189), (1502, 1506), (1513, 1516)]</td>\n",
       "      <td>[8, 58, 59]</td>\n",
       "    </tr>\n",
       "    <tr>\n",
       "      <th>1</th>\n",
       "      <td>S0004-06142005000900015-1</td>\n",
       "      <td>Varón de 36 años, sin antecedentes de interés,...</td>\n",
       "      <td>[CT, x, MESNA]</td>\n",
       "      <td>[(408, 410), (445, 448), (1120, 1125)]</td>\n",
       "      <td>[14, 17, 37]</td>\n",
       "    </tr>\n",
       "    <tr>\n",
       "      <th>2</th>\n",
       "      <td>S0004-06142005000900016-1</td>\n",
       "      <td>Mujer de 29 años con antecedentes de ulcus duo...</td>\n",
       "      <td>[UIV, nderson-H]</td>\n",
       "      <td>[(400, 403), (905, 914)]</td>\n",
       "      <td>[8, 22]</td>\n",
       "    </tr>\n",
       "    <tr>\n",
       "      <th>3</th>\n",
       "      <td>S0004-06142005001000011-1</td>\n",
       "      <td>Varón de 58 años de edad en el momento del tra...</td>\n",
       "      <td>[IRC, IgA, II, /K, gr/d, /K, EEII, EEII, ROT, ...</td>\n",
       "      <td>[(145, 148), (196, 199), (572, 574), (981, 983...</td>\n",
       "      <td>[7, 9, 18, 29, 30, 29, 45, 45, 53, 55, 57, 62,...</td>\n",
       "    </tr>\n",
       "    <tr>\n",
       "      <th>4</th>\n",
       "      <td>S0004-06142005001000011-3</td>\n",
       "      <td>Mujer de 42 años en el momento de someterse a ...</td>\n",
       "      <td>[HDA, II, EEII, EID, EID, ROT, RCP, RMN, PEES,...</td>\n",
       "      <td>[(234, 237), (276, 278), (829, 833), (866, 869...</td>\n",
       "      <td>[8, 10, 33, 35, 35, 40, 42, 44, 51, 54, 55, 57...</td>\n",
       "    </tr>\n",
       "  </tbody>\n",
       "</table>\n",
       "</div>"
      ],
      "text/plain": [
       "                      doc_id  \\\n",
       "0  S0004-06142005000900013-1   \n",
       "1  S0004-06142005000900015-1   \n",
       "2  S0004-06142005000900016-1   \n",
       "3  S0004-06142005001000011-1   \n",
       "4  S0004-06142005001000011-3   \n",
       "\n",
       "                                               texto  \\\n",
       "0  Se trata de una mujer de 29 años sometida a un...   \n",
       "1  Varón de 36 años, sin antecedentes de interés,...   \n",
       "2  Mujer de 29 años con antecedentes de ulcus duo...   \n",
       "3  Varón de 58 años de edad en el momento del tra...   \n",
       "4  Mujer de 42 años en el momento de someterse a ...   \n",
       "\n",
       "                                               abrev  \\\n",
       "0                                    [mm, DAKO, HHF]   \n",
       "1                                     [CT, x, MESNA]   \n",
       "2                                   [UIV, nderson-H]   \n",
       "3  [IRC, IgA, II, /K, gr/d, /K, EEII, EEII, ROT, ...   \n",
       "4  [HDA, II, EEII, EID, EID, ROT, RCP, RMN, PEES,...   \n",
       "\n",
       "                                               offse  \\\n",
       "0           [(185, 189), (1502, 1506), (1513, 1516)]   \n",
       "1             [(408, 410), (445, 448), (1120, 1125)]   \n",
       "2                           [(400, 403), (905, 914)]   \n",
       "3  [(145, 148), (196, 199), (572, 574), (981, 983...   \n",
       "4  [(234, 237), (276, 278), (829, 833), (866, 869...   \n",
       "\n",
       "                                         abrev_index  \n",
       "0                                        [8, 58, 59]  \n",
       "1                                       [14, 17, 37]  \n",
       "2                                            [8, 22]  \n",
       "3  [7, 9, 18, 29, 30, 29, 45, 45, 53, 55, 57, 62,...  \n",
       "4  [8, 10, 33, 35, 35, 40, 42, 44, 51, 54, 55, 57...  "
      ]
     },
     "execution_count": 19,
     "metadata": {},
     "output_type": "execute_result"
    }
   ],
   "source": [
    "train_raw.head()"
   ]
  },
  {
   "cell_type": "code",
   "execution_count": 635,
   "metadata": {},
   "outputs": [
    {
     "data": {
      "text/plain": [
       "3    [IRC, IgA, II, /K, gr/d, /K, EEII, EEII, ROT, ...\n",
       "Name: abrev, dtype: object"
      ]
     },
     "execution_count": 635,
     "metadata": {},
     "output_type": "execute_result"
    }
   ],
   "source": [
    "train_raw[train_raw['doc_id'] == 'S0004-06142005001000011-1']['abrev']"
   ]
  },
  {
   "cell_type": "markdown",
   "metadata": {},
   "source": [
    "Check abrev and offse columns has the same length"
   ]
  },
  {
   "cell_type": "code",
   "execution_count": 20,
   "metadata": {},
   "outputs": [],
   "source": [
    "train_raw['abrev_len'] =train_raw['abrev'].str.len()\n",
    "train_raw['offse_len'] =train_raw['offse'].str.len()"
   ]
  },
  {
   "cell_type": "code",
   "execution_count": 21,
   "metadata": {},
   "outputs": [
    {
     "data": {
      "text/html": [
       "<div>\n",
       "<style scoped>\n",
       "    .dataframe tbody tr th:only-of-type {\n",
       "        vertical-align: middle;\n",
       "    }\n",
       "\n",
       "    .dataframe tbody tr th {\n",
       "        vertical-align: top;\n",
       "    }\n",
       "\n",
       "    .dataframe thead th {\n",
       "        text-align: right;\n",
       "    }\n",
       "</style>\n",
       "<table border=\"1\" class=\"dataframe\">\n",
       "  <thead>\n",
       "    <tr style=\"text-align: right;\">\n",
       "      <th></th>\n",
       "      <th>doc_id</th>\n",
       "      <th>texto</th>\n",
       "      <th>abrev</th>\n",
       "      <th>offse</th>\n",
       "      <th>abrev_index</th>\n",
       "      <th>abrev_len</th>\n",
       "      <th>offse_len</th>\n",
       "    </tr>\n",
       "  </thead>\n",
       "  <tbody>\n",
       "    <tr>\n",
       "      <th>0</th>\n",
       "      <td>S0004-06142005000900013-1</td>\n",
       "      <td>Se trata de una mujer de 29 años sometida a un...</td>\n",
       "      <td>[mm, DAKO, HHF]</td>\n",
       "      <td>[(185, 189), (1502, 1506), (1513, 1516)]</td>\n",
       "      <td>[8, 58, 59]</td>\n",
       "      <td>3</td>\n",
       "      <td>3</td>\n",
       "    </tr>\n",
       "    <tr>\n",
       "      <th>1</th>\n",
       "      <td>S0004-06142005000900015-1</td>\n",
       "      <td>Varón de 36 años, sin antecedentes de interés,...</td>\n",
       "      <td>[CT, x, MESNA]</td>\n",
       "      <td>[(408, 410), (445, 448), (1120, 1125)]</td>\n",
       "      <td>[14, 17, 37]</td>\n",
       "      <td>3</td>\n",
       "      <td>3</td>\n",
       "    </tr>\n",
       "    <tr>\n",
       "      <th>2</th>\n",
       "      <td>S0004-06142005000900016-1</td>\n",
       "      <td>Mujer de 29 años con antecedentes de ulcus duo...</td>\n",
       "      <td>[UIV, nderson-H]</td>\n",
       "      <td>[(400, 403), (905, 914)]</td>\n",
       "      <td>[8, 22]</td>\n",
       "      <td>2</td>\n",
       "      <td>2</td>\n",
       "    </tr>\n",
       "    <tr>\n",
       "      <th>3</th>\n",
       "      <td>S0004-06142005001000011-1</td>\n",
       "      <td>Varón de 58 años de edad en el momento del tra...</td>\n",
       "      <td>[IRC, IgA, II, /K, gr/d, /K, EEII, EEII, ROT, ...</td>\n",
       "      <td>[(145, 148), (196, 199), (572, 574), (981, 983...</td>\n",
       "      <td>[7, 9, 18, 29, 30, 29, 45, 45, 53, 55, 57, 62,...</td>\n",
       "      <td>19</td>\n",
       "      <td>19</td>\n",
       "    </tr>\n",
       "    <tr>\n",
       "      <th>4</th>\n",
       "      <td>S0004-06142005001000011-3</td>\n",
       "      <td>Mujer de 42 años en el momento de someterse a ...</td>\n",
       "      <td>[HDA, II, EEII, EID, EID, ROT, RCP, RMN, PEES,...</td>\n",
       "      <td>[(234, 237), (276, 278), (829, 833), (866, 869...</td>\n",
       "      <td>[8, 10, 33, 35, 35, 40, 42, 44, 51, 54, 55, 57...</td>\n",
       "      <td>14</td>\n",
       "      <td>14</td>\n",
       "    </tr>\n",
       "  </tbody>\n",
       "</table>\n",
       "</div>"
      ],
      "text/plain": [
       "                      doc_id  \\\n",
       "0  S0004-06142005000900013-1   \n",
       "1  S0004-06142005000900015-1   \n",
       "2  S0004-06142005000900016-1   \n",
       "3  S0004-06142005001000011-1   \n",
       "4  S0004-06142005001000011-3   \n",
       "\n",
       "                                               texto  \\\n",
       "0  Se trata de una mujer de 29 años sometida a un...   \n",
       "1  Varón de 36 años, sin antecedentes de interés,...   \n",
       "2  Mujer de 29 años con antecedentes de ulcus duo...   \n",
       "3  Varón de 58 años de edad en el momento del tra...   \n",
       "4  Mujer de 42 años en el momento de someterse a ...   \n",
       "\n",
       "                                               abrev  \\\n",
       "0                                    [mm, DAKO, HHF]   \n",
       "1                                     [CT, x, MESNA]   \n",
       "2                                   [UIV, nderson-H]   \n",
       "3  [IRC, IgA, II, /K, gr/d, /K, EEII, EEII, ROT, ...   \n",
       "4  [HDA, II, EEII, EID, EID, ROT, RCP, RMN, PEES,...   \n",
       "\n",
       "                                               offse  \\\n",
       "0           [(185, 189), (1502, 1506), (1513, 1516)]   \n",
       "1             [(408, 410), (445, 448), (1120, 1125)]   \n",
       "2                           [(400, 403), (905, 914)]   \n",
       "3  [(145, 148), (196, 199), (572, 574), (981, 983...   \n",
       "4  [(234, 237), (276, 278), (829, 833), (866, 869...   \n",
       "\n",
       "                                         abrev_index  abrev_len  offse_len  \n",
       "0                                        [8, 58, 59]          3          3  \n",
       "1                                       [14, 17, 37]          3          3  \n",
       "2                                            [8, 22]          2          2  \n",
       "3  [7, 9, 18, 29, 30, 29, 45, 45, 53, 55, 57, 62,...         19         19  \n",
       "4  [8, 10, 33, 35, 35, 40, 42, 44, 51, 54, 55, 57...         14         14  "
      ]
     },
     "execution_count": 21,
     "metadata": {},
     "output_type": "execute_result"
    }
   ],
   "source": [
    "train_raw.head()"
   ]
  },
  {
   "cell_type": "markdown",
   "metadata": {},
   "source": [
    "Check both lists have the same lenght"
   ]
  },
  {
   "cell_type": "code",
   "execution_count": 22,
   "metadata": {},
   "outputs": [],
   "source": [
    "train_raw['len_check'] = train_raw.apply(lambda row: check_len(row['abrev_len'],row['offse_len']),axis = 1)"
   ]
  },
  {
   "cell_type": "markdown",
   "metadata": {},
   "source": [
    "Delete rows with different lenghts (check it later)"
   ]
  },
  {
   "cell_type": "code",
   "execution_count": 23,
   "metadata": {},
   "outputs": [
    {
     "data": {
      "text/plain": [
       "(318, 8)"
      ]
     },
     "execution_count": 23,
     "metadata": {},
     "output_type": "execute_result"
    }
   ],
   "source": [
    "train_raw.shape"
   ]
  },
  {
   "cell_type": "code",
   "execution_count": 24,
   "metadata": {},
   "outputs": [
    {
     "data": {
      "text/plain": [
       "(318, 8)"
      ]
     },
     "execution_count": 24,
     "metadata": {},
     "output_type": "execute_result"
    }
   ],
   "source": [
    "train_raw[train_raw['len_check'] != 1].shape"
   ]
  },
  {
   "cell_type": "code",
   "execution_count": 390,
   "metadata": {},
   "outputs": [],
   "source": [
    "#train_raw = train_raw[train_raw['len_check'] != 1]"
   ]
  },
  {
   "cell_type": "code",
   "execution_count": 641,
   "metadata": {},
   "outputs": [
    {
     "data": {
      "text/plain": [
       "(318, 8)"
      ]
     },
     "execution_count": 641,
     "metadata": {},
     "output_type": "execute_result"
    }
   ],
   "source": [
    "train_raw.shape"
   ]
  },
  {
   "cell_type": "markdown",
   "metadata": {},
   "source": [
    "**Remove stopwords from text**"
   ]
  },
  {
   "cell_type": "code",
   "execution_count": 25,
   "metadata": {},
   "outputs": [],
   "source": [
    "train_raw['tokens'] = train_raw['texto'].map(lambda x: word_tokenize(x))\n",
    "train_raw['texto_clean'] = train_raw['tokens'].map(lambda x: ' '.join([w for w in x if w not in swords]))"
   ]
  },
  {
   "cell_type": "code",
   "execution_count": 28,
   "metadata": {},
   "outputs": [
    {
     "data": {
      "text/html": [
       "<div>\n",
       "<style scoped>\n",
       "    .dataframe tbody tr th:only-of-type {\n",
       "        vertical-align: middle;\n",
       "    }\n",
       "\n",
       "    .dataframe tbody tr th {\n",
       "        vertical-align: top;\n",
       "    }\n",
       "\n",
       "    .dataframe thead th {\n",
       "        text-align: right;\n",
       "    }\n",
       "</style>\n",
       "<table border=\"1\" class=\"dataframe\">\n",
       "  <thead>\n",
       "    <tr style=\"text-align: right;\">\n",
       "      <th></th>\n",
       "      <th>doc_id</th>\n",
       "      <th>texto</th>\n",
       "      <th>abrev</th>\n",
       "      <th>offse</th>\n",
       "      <th>abrev_index</th>\n",
       "      <th>abrev_len</th>\n",
       "      <th>offse_len</th>\n",
       "      <th>len_check</th>\n",
       "      <th>tokens</th>\n",
       "      <th>texto_clean</th>\n",
       "    </tr>\n",
       "  </thead>\n",
       "  <tbody>\n",
       "    <tr>\n",
       "      <th>0</th>\n",
       "      <td>S0004-06142005000900013-1</td>\n",
       "      <td>Se trata de una mujer de 29 años sometida a un...</td>\n",
       "      <td>[mm, DAKO, HHF]</td>\n",
       "      <td>[(185, 189), (1502, 1506), (1513, 1516)]</td>\n",
       "      <td>[8, 58, 59]</td>\n",
       "      <td>3</td>\n",
       "      <td>3</td>\n",
       "      <td>0</td>\n",
       "      <td>[Se, trata, de, una, mujer, de, 29, años, some...</td>\n",
       "      <td>Se trata mujer 29 años sometida estudio ecográ...</td>\n",
       "    </tr>\n",
       "    <tr>\n",
       "      <th>1</th>\n",
       "      <td>S0004-06142005000900015-1</td>\n",
       "      <td>Varón de 36 años, sin antecedentes de interés,...</td>\n",
       "      <td>[CT, x, MESNA]</td>\n",
       "      <td>[(408, 410), (445, 448), (1120, 1125)]</td>\n",
       "      <td>[14, 17, 37]</td>\n",
       "      <td>3</td>\n",
       "      <td>3</td>\n",
       "      <td>0</td>\n",
       "      <td>[Varón, de, 36, años, ,, sin, antecedentes, de...</td>\n",
       "      <td>Varón 36 años , antecedentes interés , estudia...</td>\n",
       "    </tr>\n",
       "    <tr>\n",
       "      <th>2</th>\n",
       "      <td>S0004-06142005000900016-1</td>\n",
       "      <td>Mujer de 29 años con antecedentes de ulcus duo...</td>\n",
       "      <td>[UIV, ndersonH]</td>\n",
       "      <td>[(400, 403), (905, 914)]</td>\n",
       "      <td>[8, 22]</td>\n",
       "      <td>2</td>\n",
       "      <td>2</td>\n",
       "      <td>0</td>\n",
       "      <td>[Mujer, de, 29, años, con, antecedentes, de, u...</td>\n",
       "      <td>Mujer 29 años antecedentes ulcus duodenal estr...</td>\n",
       "    </tr>\n",
       "    <tr>\n",
       "      <th>3</th>\n",
       "      <td>S0004-06142005001000011-1</td>\n",
       "      <td>Varón de 58 años de edad en el momento del tra...</td>\n",
       "      <td>[IRC, IgA, II, K, grd, K, EEII, EEII, ROT, RCP...</td>\n",
       "      <td>[(145, 148), (196, 199), (572, 574), (981, 983...</td>\n",
       "      <td>[7, 9, 18, 29, 30, 29, 45, 45, 53, 55, 57, 62,...</td>\n",
       "      <td>19</td>\n",
       "      <td>19</td>\n",
       "      <td>0</td>\n",
       "      <td>[Varón, de, 58, años, de, edad, en, el, moment...</td>\n",
       "      <td>Varón 58 años edad momento trasplante , 5 octu...</td>\n",
       "    </tr>\n",
       "    <tr>\n",
       "      <th>4</th>\n",
       "      <td>S0004-06142005001000011-3</td>\n",
       "      <td>Mujer de 42 años en el momento de someterse a ...</td>\n",
       "      <td>[HDA, II, EEII, EID, EID, ROT, RCP, RMN, PEES,...</td>\n",
       "      <td>[(234, 237), (276, 278), (829, 833), (866, 869...</td>\n",
       "      <td>[8, 10, 33, 35, 35, 40, 42, 44, 51, 54, 55, 57...</td>\n",
       "      <td>14</td>\n",
       "      <td>14</td>\n",
       "      <td>0</td>\n",
       "      <td>[Mujer, de, 42, años, en, el, momento, de, som...</td>\n",
       "      <td>Mujer 42 años momento someterse trasplante hep...</td>\n",
       "    </tr>\n",
       "  </tbody>\n",
       "</table>\n",
       "</div>"
      ],
      "text/plain": [
       "                      doc_id  \\\n",
       "0  S0004-06142005000900013-1   \n",
       "1  S0004-06142005000900015-1   \n",
       "2  S0004-06142005000900016-1   \n",
       "3  S0004-06142005001000011-1   \n",
       "4  S0004-06142005001000011-3   \n",
       "\n",
       "                                               texto  \\\n",
       "0  Se trata de una mujer de 29 años sometida a un...   \n",
       "1  Varón de 36 años, sin antecedentes de interés,...   \n",
       "2  Mujer de 29 años con antecedentes de ulcus duo...   \n",
       "3  Varón de 58 años de edad en el momento del tra...   \n",
       "4  Mujer de 42 años en el momento de someterse a ...   \n",
       "\n",
       "                                               abrev  \\\n",
       "0                                    [mm, DAKO, HHF]   \n",
       "1                                     [CT, x, MESNA]   \n",
       "2                                    [UIV, ndersonH]   \n",
       "3  [IRC, IgA, II, K, grd, K, EEII, EEII, ROT, RCP...   \n",
       "4  [HDA, II, EEII, EID, EID, ROT, RCP, RMN, PEES,...   \n",
       "\n",
       "                                               offse  \\\n",
       "0           [(185, 189), (1502, 1506), (1513, 1516)]   \n",
       "1             [(408, 410), (445, 448), (1120, 1125)]   \n",
       "2                           [(400, 403), (905, 914)]   \n",
       "3  [(145, 148), (196, 199), (572, 574), (981, 983...   \n",
       "4  [(234, 237), (276, 278), (829, 833), (866, 869...   \n",
       "\n",
       "                                         abrev_index  abrev_len  offse_len  \\\n",
       "0                                        [8, 58, 59]          3          3   \n",
       "1                                       [14, 17, 37]          3          3   \n",
       "2                                            [8, 22]          2          2   \n",
       "3  [7, 9, 18, 29, 30, 29, 45, 45, 53, 55, 57, 62,...         19         19   \n",
       "4  [8, 10, 33, 35, 35, 40, 42, 44, 51, 54, 55, 57...         14         14   \n",
       "\n",
       "   len_check                                             tokens  \\\n",
       "0          0  [Se, trata, de, una, mujer, de, 29, años, some...   \n",
       "1          0  [Varón, de, 36, años, ,, sin, antecedentes, de...   \n",
       "2          0  [Mujer, de, 29, años, con, antecedentes, de, u...   \n",
       "3          0  [Varón, de, 58, años, de, edad, en, el, moment...   \n",
       "4          0  [Mujer, de, 42, años, en, el, momento, de, som...   \n",
       "\n",
       "                                         texto_clean  \n",
       "0  Se trata mujer 29 años sometida estudio ecográ...  \n",
       "1  Varón 36 años , antecedentes interés , estudia...  \n",
       "2  Mujer 29 años antecedentes ulcus duodenal estr...  \n",
       "3  Varón 58 años edad momento trasplante , 5 octu...  \n",
       "4  Mujer 42 años momento someterse trasplante hep...  "
      ]
     },
     "execution_count": 28,
     "metadata": {},
     "output_type": "execute_result"
    }
   ],
   "source": [
    "train_raw.head()"
   ]
  },
  {
   "cell_type": "markdown",
   "metadata": {},
   "source": [
    "Remove punctuation from abreviations"
   ]
  },
  {
   "cell_type": "code",
   "execution_count": 516,
   "metadata": {},
   "outputs": [],
   "source": [
    "#train_raw['abrev'] = train_raw['abrev'].apply(lambda x: [a.split(\"/\") for a in x])"
   ]
  },
  {
   "cell_type": "code",
   "execution_count": 517,
   "metadata": {},
   "outputs": [],
   "source": [
    "#train_raw['abrev'] = train_raw['abrev'].apply(lambda x: [item for sublist in x for item in sublist])"
   ]
  },
  {
   "cell_type": "code",
   "execution_count": 27,
   "metadata": {},
   "outputs": [],
   "source": [
    "for i in punctuation:\n",
    "    train_raw['abrev'] = train_raw[train_raw['abrev'].notnull()]['abrev'].apply(lambda x: [a.replace(i,\"\") for a in x])"
   ]
  },
  {
   "cell_type": "code",
   "execution_count": 29,
   "metadata": {},
   "outputs": [],
   "source": [
    "train_raw['zip'] = train_raw.apply(lambda row: list(zip(row['abrev'], row['offse'])), axis = 1)"
   ]
  },
  {
   "cell_type": "code",
   "execution_count": 30,
   "metadata": {},
   "outputs": [
    {
     "data": {
      "text/html": [
       "<div>\n",
       "<style scoped>\n",
       "    .dataframe tbody tr th:only-of-type {\n",
       "        vertical-align: middle;\n",
       "    }\n",
       "\n",
       "    .dataframe tbody tr th {\n",
       "        vertical-align: top;\n",
       "    }\n",
       "\n",
       "    .dataframe thead th {\n",
       "        text-align: right;\n",
       "    }\n",
       "</style>\n",
       "<table border=\"1\" class=\"dataframe\">\n",
       "  <thead>\n",
       "    <tr style=\"text-align: right;\">\n",
       "      <th></th>\n",
       "      <th>doc_id</th>\n",
       "      <th>texto</th>\n",
       "      <th>abrev</th>\n",
       "      <th>offse</th>\n",
       "      <th>abrev_index</th>\n",
       "      <th>abrev_len</th>\n",
       "      <th>offse_len</th>\n",
       "      <th>len_check</th>\n",
       "      <th>tokens</th>\n",
       "      <th>texto_clean</th>\n",
       "      <th>zip</th>\n",
       "    </tr>\n",
       "  </thead>\n",
       "  <tbody>\n",
       "    <tr>\n",
       "      <th>0</th>\n",
       "      <td>S0004-06142005000900013-1</td>\n",
       "      <td>Se trata de una mujer de 29 años sometida a un...</td>\n",
       "      <td>[mm, DAKO, HHF]</td>\n",
       "      <td>[(185, 189), (1502, 1506), (1513, 1516)]</td>\n",
       "      <td>[8, 58, 59]</td>\n",
       "      <td>3</td>\n",
       "      <td>3</td>\n",
       "      <td>0</td>\n",
       "      <td>[Se, trata, de, una, mujer, de, 29, años, some...</td>\n",
       "      <td>Se trata mujer 29 años sometida estudio ecográ...</td>\n",
       "      <td>[(mm, (185, 189)), (DAKO, (1502, 1506)), (HHF,...</td>\n",
       "    </tr>\n",
       "    <tr>\n",
       "      <th>1</th>\n",
       "      <td>S0004-06142005000900015-1</td>\n",
       "      <td>Varón de 36 años, sin antecedentes de interés,...</td>\n",
       "      <td>[CT, x, MESNA]</td>\n",
       "      <td>[(408, 410), (445, 448), (1120, 1125)]</td>\n",
       "      <td>[14, 17, 37]</td>\n",
       "      <td>3</td>\n",
       "      <td>3</td>\n",
       "      <td>0</td>\n",
       "      <td>[Varón, de, 36, años, ,, sin, antecedentes, de...</td>\n",
       "      <td>Varón 36 años , antecedentes interés , estudia...</td>\n",
       "      <td>[(CT, (408, 410)), (x, (445, 448)), (MESNA, (1...</td>\n",
       "    </tr>\n",
       "    <tr>\n",
       "      <th>2</th>\n",
       "      <td>S0004-06142005000900016-1</td>\n",
       "      <td>Mujer de 29 años con antecedentes de ulcus duo...</td>\n",
       "      <td>[UIV, ndersonH]</td>\n",
       "      <td>[(400, 403), (905, 914)]</td>\n",
       "      <td>[8, 22]</td>\n",
       "      <td>2</td>\n",
       "      <td>2</td>\n",
       "      <td>0</td>\n",
       "      <td>[Mujer, de, 29, años, con, antecedentes, de, u...</td>\n",
       "      <td>Mujer 29 años antecedentes ulcus duodenal estr...</td>\n",
       "      <td>[(UIV, (400, 403)), (ndersonH, (905, 914))]</td>\n",
       "    </tr>\n",
       "    <tr>\n",
       "      <th>3</th>\n",
       "      <td>S0004-06142005001000011-1</td>\n",
       "      <td>Varón de 58 años de edad en el momento del tra...</td>\n",
       "      <td>[IRC, IgA, II, K, grd, K, EEII, EEII, ROT, RCP...</td>\n",
       "      <td>[(145, 148), (196, 199), (572, 574), (981, 983...</td>\n",
       "      <td>[7, 9, 18, 29, 30, 29, 45, 45, 53, 55, 57, 62,...</td>\n",
       "      <td>19</td>\n",
       "      <td>19</td>\n",
       "      <td>0</td>\n",
       "      <td>[Varón, de, 58, años, de, edad, en, el, moment...</td>\n",
       "      <td>Varón 58 años edad momento trasplante , 5 octu...</td>\n",
       "      <td>[(IRC, (145, 148)), (IgA, (196, 199)), (II, (5...</td>\n",
       "    </tr>\n",
       "    <tr>\n",
       "      <th>4</th>\n",
       "      <td>S0004-06142005001000011-3</td>\n",
       "      <td>Mujer de 42 años en el momento de someterse a ...</td>\n",
       "      <td>[HDA, II, EEII, EID, EID, ROT, RCP, RMN, PEES,...</td>\n",
       "      <td>[(234, 237), (276, 278), (829, 833), (866, 869...</td>\n",
       "      <td>[8, 10, 33, 35, 35, 40, 42, 44, 51, 54, 55, 57...</td>\n",
       "      <td>14</td>\n",
       "      <td>14</td>\n",
       "      <td>0</td>\n",
       "      <td>[Mujer, de, 42, años, en, el, momento, de, som...</td>\n",
       "      <td>Mujer 42 años momento someterse trasplante hep...</td>\n",
       "      <td>[(HDA, (234, 237)), (II, (276, 278)), (EEII, (...</td>\n",
       "    </tr>\n",
       "  </tbody>\n",
       "</table>\n",
       "</div>"
      ],
      "text/plain": [
       "                      doc_id  \\\n",
       "0  S0004-06142005000900013-1   \n",
       "1  S0004-06142005000900015-1   \n",
       "2  S0004-06142005000900016-1   \n",
       "3  S0004-06142005001000011-1   \n",
       "4  S0004-06142005001000011-3   \n",
       "\n",
       "                                               texto  \\\n",
       "0  Se trata de una mujer de 29 años sometida a un...   \n",
       "1  Varón de 36 años, sin antecedentes de interés,...   \n",
       "2  Mujer de 29 años con antecedentes de ulcus duo...   \n",
       "3  Varón de 58 años de edad en el momento del tra...   \n",
       "4  Mujer de 42 años en el momento de someterse a ...   \n",
       "\n",
       "                                               abrev  \\\n",
       "0                                    [mm, DAKO, HHF]   \n",
       "1                                     [CT, x, MESNA]   \n",
       "2                                    [UIV, ndersonH]   \n",
       "3  [IRC, IgA, II, K, grd, K, EEII, EEII, ROT, RCP...   \n",
       "4  [HDA, II, EEII, EID, EID, ROT, RCP, RMN, PEES,...   \n",
       "\n",
       "                                               offse  \\\n",
       "0           [(185, 189), (1502, 1506), (1513, 1516)]   \n",
       "1             [(408, 410), (445, 448), (1120, 1125)]   \n",
       "2                           [(400, 403), (905, 914)]   \n",
       "3  [(145, 148), (196, 199), (572, 574), (981, 983...   \n",
       "4  [(234, 237), (276, 278), (829, 833), (866, 869...   \n",
       "\n",
       "                                         abrev_index  abrev_len  offse_len  \\\n",
       "0                                        [8, 58, 59]          3          3   \n",
       "1                                       [14, 17, 37]          3          3   \n",
       "2                                            [8, 22]          2          2   \n",
       "3  [7, 9, 18, 29, 30, 29, 45, 45, 53, 55, 57, 62,...         19         19   \n",
       "4  [8, 10, 33, 35, 35, 40, 42, 44, 51, 54, 55, 57...         14         14   \n",
       "\n",
       "   len_check                                             tokens  \\\n",
       "0          0  [Se, trata, de, una, mujer, de, 29, años, some...   \n",
       "1          0  [Varón, de, 36, años, ,, sin, antecedentes, de...   \n",
       "2          0  [Mujer, de, 29, años, con, antecedentes, de, u...   \n",
       "3          0  [Varón, de, 58, años, de, edad, en, el, moment...   \n",
       "4          0  [Mujer, de, 42, años, en, el, momento, de, som...   \n",
       "\n",
       "                                         texto_clean  \\\n",
       "0  Se trata mujer 29 años sometida estudio ecográ...   \n",
       "1  Varón 36 años , antecedentes interés , estudia...   \n",
       "2  Mujer 29 años antecedentes ulcus duodenal estr...   \n",
       "3  Varón 58 años edad momento trasplante , 5 octu...   \n",
       "4  Mujer 42 años momento someterse trasplante hep...   \n",
       "\n",
       "                                                 zip  \n",
       "0  [(mm, (185, 189)), (DAKO, (1502, 1506)), (HHF,...  \n",
       "1  [(CT, (408, 410)), (x, (445, 448)), (MESNA, (1...  \n",
       "2        [(UIV, (400, 403)), (ndersonH, (905, 914))]  \n",
       "3  [(IRC, (145, 148)), (IgA, (196, 199)), (II, (5...  \n",
       "4  [(HDA, (234, 237)), (II, (276, 278)), (EEII, (...  "
      ]
     },
     "execution_count": 30,
     "metadata": {},
     "output_type": "execute_result"
    }
   ],
   "source": [
    "train_raw.head()"
   ]
  },
  {
   "cell_type": "markdown",
   "metadata": {},
   "source": [
    "**Get one row per abbreviation**"
   ]
  },
  {
   "cell_type": "markdown",
   "metadata": {},
   "source": [
    "Separate elements lists in different rows"
   ]
  },
  {
   "cell_type": "code",
   "execution_count": 31,
   "metadata": {},
   "outputs": [],
   "source": [
    "mine = train_raw.explode('zip')\n",
    "#mine = mine.explode('offse')"
   ]
  },
  {
   "cell_type": "code",
   "execution_count": 32,
   "metadata": {},
   "outputs": [
    {
     "data": {
      "text/plain": [
       "(3615, 11)"
      ]
     },
     "execution_count": 32,
     "metadata": {},
     "output_type": "execute_result"
    }
   ],
   "source": [
    "mine.shape"
   ]
  },
  {
   "cell_type": "code",
   "execution_count": 33,
   "metadata": {},
   "outputs": [
    {
     "data": {
      "text/plain": [
       "(18, 11)"
      ]
     },
     "execution_count": 33,
     "metadata": {},
     "output_type": "execute_result"
    }
   ],
   "source": [
    "mine[mine['zip'].isnull()].shape"
   ]
  },
  {
   "cell_type": "code",
   "execution_count": 34,
   "metadata": {},
   "outputs": [],
   "source": [
    "mine = mine[['doc_id', 'texto_clean', 'tokens', 'zip']]"
   ]
  },
  {
   "cell_type": "code",
   "execution_count": 35,
   "metadata": {},
   "outputs": [],
   "source": [
    "mine = mine[mine['zip'].notnull()]"
   ]
  },
  {
   "cell_type": "code",
   "execution_count": 36,
   "metadata": {},
   "outputs": [
    {
     "data": {
      "text/html": [
       "<div>\n",
       "<style scoped>\n",
       "    .dataframe tbody tr th:only-of-type {\n",
       "        vertical-align: middle;\n",
       "    }\n",
       "\n",
       "    .dataframe tbody tr th {\n",
       "        vertical-align: top;\n",
       "    }\n",
       "\n",
       "    .dataframe thead th {\n",
       "        text-align: right;\n",
       "    }\n",
       "</style>\n",
       "<table border=\"1\" class=\"dataframe\">\n",
       "  <thead>\n",
       "    <tr style=\"text-align: right;\">\n",
       "      <th></th>\n",
       "      <th>doc_id</th>\n",
       "      <th>texto_clean</th>\n",
       "      <th>tokens</th>\n",
       "      <th>zip</th>\n",
       "    </tr>\n",
       "  </thead>\n",
       "  <tbody>\n",
       "    <tr>\n",
       "      <th>0</th>\n",
       "      <td>S0004-06142005000900013-1</td>\n",
       "      <td>Se trata mujer 29 años sometida estudio ecográ...</td>\n",
       "      <td>[Se, trata, de, una, mujer, de, 29, años, some...</td>\n",
       "      <td>(mm, (185, 189))</td>\n",
       "    </tr>\n",
       "    <tr>\n",
       "      <th>0</th>\n",
       "      <td>S0004-06142005000900013-1</td>\n",
       "      <td>Se trata mujer 29 años sometida estudio ecográ...</td>\n",
       "      <td>[Se, trata, de, una, mujer, de, 29, años, some...</td>\n",
       "      <td>(DAKO, (1502, 1506))</td>\n",
       "    </tr>\n",
       "    <tr>\n",
       "      <th>0</th>\n",
       "      <td>S0004-06142005000900013-1</td>\n",
       "      <td>Se trata mujer 29 años sometida estudio ecográ...</td>\n",
       "      <td>[Se, trata, de, una, mujer, de, 29, años, some...</td>\n",
       "      <td>(HHF, (1513, 1516))</td>\n",
       "    </tr>\n",
       "    <tr>\n",
       "      <th>1</th>\n",
       "      <td>S0004-06142005000900015-1</td>\n",
       "      <td>Varón 36 años , antecedentes interés , estudia...</td>\n",
       "      <td>[Varón, de, 36, años, ,, sin, antecedentes, de...</td>\n",
       "      <td>(CT, (408, 410))</td>\n",
       "    </tr>\n",
       "    <tr>\n",
       "      <th>1</th>\n",
       "      <td>S0004-06142005000900015-1</td>\n",
       "      <td>Varón 36 años , antecedentes interés , estudia...</td>\n",
       "      <td>[Varón, de, 36, años, ,, sin, antecedentes, de...</td>\n",
       "      <td>(x, (445, 448))</td>\n",
       "    </tr>\n",
       "  </tbody>\n",
       "</table>\n",
       "</div>"
      ],
      "text/plain": [
       "                      doc_id  \\\n",
       "0  S0004-06142005000900013-1   \n",
       "0  S0004-06142005000900013-1   \n",
       "0  S0004-06142005000900013-1   \n",
       "1  S0004-06142005000900015-1   \n",
       "1  S0004-06142005000900015-1   \n",
       "\n",
       "                                         texto_clean  \\\n",
       "0  Se trata mujer 29 años sometida estudio ecográ...   \n",
       "0  Se trata mujer 29 años sometida estudio ecográ...   \n",
       "0  Se trata mujer 29 años sometida estudio ecográ...   \n",
       "1  Varón 36 años , antecedentes interés , estudia...   \n",
       "1  Varón 36 años , antecedentes interés , estudia...   \n",
       "\n",
       "                                              tokens                   zip  \n",
       "0  [Se, trata, de, una, mujer, de, 29, años, some...      (mm, (185, 189))  \n",
       "0  [Se, trata, de, una, mujer, de, 29, años, some...  (DAKO, (1502, 1506))  \n",
       "0  [Se, trata, de, una, mujer, de, 29, años, some...   (HHF, (1513, 1516))  \n",
       "1  [Varón, de, 36, años, ,, sin, antecedentes, de...      (CT, (408, 410))  \n",
       "1  [Varón, de, 36, años, ,, sin, antecedentes, de...       (x, (445, 448))  "
      ]
     },
     "execution_count": 36,
     "metadata": {},
     "output_type": "execute_result"
    }
   ],
   "source": [
    "mine.head()"
   ]
  },
  {
   "cell_type": "code",
   "execution_count": 37,
   "metadata": {},
   "outputs": [],
   "source": [
    "mine['abrev'] = mine.apply(lambda row: row['zip'][0], axis = 1)"
   ]
  },
  {
   "cell_type": "code",
   "execution_count": 38,
   "metadata": {},
   "outputs": [],
   "source": [
    "mine['offsets'] = mine.apply(lambda row: row['zip'][1], axis = 1)"
   ]
  },
  {
   "cell_type": "code",
   "execution_count": 39,
   "metadata": {},
   "outputs": [],
   "source": [
    "mine = mine[mine['abrev'] != \"\"]"
   ]
  },
  {
   "cell_type": "code",
   "execution_count": 40,
   "metadata": {},
   "outputs": [
    {
     "data": {
      "text/html": [
       "<div>\n",
       "<style scoped>\n",
       "    .dataframe tbody tr th:only-of-type {\n",
       "        vertical-align: middle;\n",
       "    }\n",
       "\n",
       "    .dataframe tbody tr th {\n",
       "        vertical-align: top;\n",
       "    }\n",
       "\n",
       "    .dataframe thead th {\n",
       "        text-align: right;\n",
       "    }\n",
       "</style>\n",
       "<table border=\"1\" class=\"dataframe\">\n",
       "  <thead>\n",
       "    <tr style=\"text-align: right;\">\n",
       "      <th></th>\n",
       "      <th>doc_id</th>\n",
       "      <th>texto_clean</th>\n",
       "      <th>tokens</th>\n",
       "      <th>zip</th>\n",
       "      <th>abrev</th>\n",
       "      <th>offsets</th>\n",
       "    </tr>\n",
       "  </thead>\n",
       "  <tbody>\n",
       "    <tr>\n",
       "      <th>0</th>\n",
       "      <td>S0004-06142005000900013-1</td>\n",
       "      <td>Se trata mujer 29 años sometida estudio ecográ...</td>\n",
       "      <td>[Se, trata, de, una, mujer, de, 29, años, some...</td>\n",
       "      <td>(mm, (185, 189))</td>\n",
       "      <td>mm</td>\n",
       "      <td>(185, 189)</td>\n",
       "    </tr>\n",
       "    <tr>\n",
       "      <th>0</th>\n",
       "      <td>S0004-06142005000900013-1</td>\n",
       "      <td>Se trata mujer 29 años sometida estudio ecográ...</td>\n",
       "      <td>[Se, trata, de, una, mujer, de, 29, años, some...</td>\n",
       "      <td>(DAKO, (1502, 1506))</td>\n",
       "      <td>DAKO</td>\n",
       "      <td>(1502, 1506)</td>\n",
       "    </tr>\n",
       "    <tr>\n",
       "      <th>0</th>\n",
       "      <td>S0004-06142005000900013-1</td>\n",
       "      <td>Se trata mujer 29 años sometida estudio ecográ...</td>\n",
       "      <td>[Se, trata, de, una, mujer, de, 29, años, some...</td>\n",
       "      <td>(HHF, (1513, 1516))</td>\n",
       "      <td>HHF</td>\n",
       "      <td>(1513, 1516)</td>\n",
       "    </tr>\n",
       "    <tr>\n",
       "      <th>1</th>\n",
       "      <td>S0004-06142005000900015-1</td>\n",
       "      <td>Varón 36 años , antecedentes interés , estudia...</td>\n",
       "      <td>[Varón, de, 36, años, ,, sin, antecedentes, de...</td>\n",
       "      <td>(CT, (408, 410))</td>\n",
       "      <td>CT</td>\n",
       "      <td>(408, 410)</td>\n",
       "    </tr>\n",
       "    <tr>\n",
       "      <th>1</th>\n",
       "      <td>S0004-06142005000900015-1</td>\n",
       "      <td>Varón 36 años , antecedentes interés , estudia...</td>\n",
       "      <td>[Varón, de, 36, años, ,, sin, antecedentes, de...</td>\n",
       "      <td>(x, (445, 448))</td>\n",
       "      <td>x</td>\n",
       "      <td>(445, 448)</td>\n",
       "    </tr>\n",
       "  </tbody>\n",
       "</table>\n",
       "</div>"
      ],
      "text/plain": [
       "                      doc_id  \\\n",
       "0  S0004-06142005000900013-1   \n",
       "0  S0004-06142005000900013-1   \n",
       "0  S0004-06142005000900013-1   \n",
       "1  S0004-06142005000900015-1   \n",
       "1  S0004-06142005000900015-1   \n",
       "\n",
       "                                         texto_clean  \\\n",
       "0  Se trata mujer 29 años sometida estudio ecográ...   \n",
       "0  Se trata mujer 29 años sometida estudio ecográ...   \n",
       "0  Se trata mujer 29 años sometida estudio ecográ...   \n",
       "1  Varón 36 años , antecedentes interés , estudia...   \n",
       "1  Varón 36 años , antecedentes interés , estudia...   \n",
       "\n",
       "                                              tokens                   zip  \\\n",
       "0  [Se, trata, de, una, mujer, de, 29, años, some...      (mm, (185, 189))   \n",
       "0  [Se, trata, de, una, mujer, de, 29, años, some...  (DAKO, (1502, 1506))   \n",
       "0  [Se, trata, de, una, mujer, de, 29, años, some...   (HHF, (1513, 1516))   \n",
       "1  [Varón, de, 36, años, ,, sin, antecedentes, de...      (CT, (408, 410))   \n",
       "1  [Varón, de, 36, años, ,, sin, antecedentes, de...       (x, (445, 448))   \n",
       "\n",
       "  abrev       offsets  \n",
       "0    mm    (185, 189)  \n",
       "0  DAKO  (1502, 1506)  \n",
       "0   HHF  (1513, 1516)  \n",
       "1    CT    (408, 410)  \n",
       "1     x    (445, 448)  "
      ]
     },
     "execution_count": 40,
     "metadata": {},
     "output_type": "execute_result"
    }
   ],
   "source": [
    "mine.head()"
   ]
  },
  {
   "cell_type": "markdown",
   "metadata": {},
   "source": [
    "Separate offsets tuples in different columns"
   ]
  },
  {
   "cell_type": "code",
   "execution_count": 41,
   "metadata": {},
   "outputs": [],
   "source": [
    "mine[['startOffset', 'endOffset']] = pd.DataFrame(mine['offsets'].tolist(), index=mine.index) "
   ]
  },
  {
   "cell_type": "code",
   "execution_count": 42,
   "metadata": {},
   "outputs": [],
   "source": [
    "mine = mine[['doc_id', 'texto_clean', 'tokens', 'abrev', 'startOffset', 'endOffset']]"
   ]
  },
  {
   "cell_type": "markdown",
   "metadata": {},
   "source": [
    "Delete null values, and change ttype to integer for offsets columns"
   ]
  },
  {
   "cell_type": "code",
   "execution_count": 43,
   "metadata": {},
   "outputs": [
    {
     "data": {
      "text/plain": [
       "(3367, 6)"
      ]
     },
     "execution_count": 43,
     "metadata": {},
     "output_type": "execute_result"
    }
   ],
   "source": [
    "mine.shape"
   ]
  },
  {
   "cell_type": "code",
   "execution_count": 44,
   "metadata": {},
   "outputs": [],
   "source": [
    "mine.dropna(subset=['startOffset', 'endOffset'], inplace = True)"
   ]
  },
  {
   "cell_type": "code",
   "execution_count": 45,
   "metadata": {},
   "outputs": [
    {
     "data": {
      "text/plain": [
       "(3367, 6)"
      ]
     },
     "execution_count": 45,
     "metadata": {},
     "output_type": "execute_result"
    }
   ],
   "source": [
    "mine.shape"
   ]
  },
  {
   "cell_type": "code",
   "execution_count": 46,
   "metadata": {},
   "outputs": [],
   "source": [
    "mine['startOffset'] = mine['startOffset'].astype(int)\n",
    "mine['endOffset'] = mine['endOffset'].astype(int)"
   ]
  },
  {
   "cell_type": "code",
   "execution_count": 47,
   "metadata": {},
   "outputs": [],
   "source": [
    "mine = mine[['doc_id', 'texto_clean', 'tokens', 'abrev', 'startOffset', 'endOffset']]"
   ]
  },
  {
   "cell_type": "code",
   "execution_count": 48,
   "metadata": {},
   "outputs": [
    {
     "data": {
      "text/plain": [
       "(3367, 6)"
      ]
     },
     "execution_count": 48,
     "metadata": {},
     "output_type": "execute_result"
    }
   ],
   "source": [
    "mine.shape"
   ]
  },
  {
   "cell_type": "code",
   "execution_count": 49,
   "metadata": {},
   "outputs": [],
   "source": [
    "mine = mine.drop_duplicates(subset = ['doc_id', 'texto_clean', 'abrev', 'startOffset', 'endOffset'])"
   ]
  },
  {
   "cell_type": "code",
   "execution_count": 50,
   "metadata": {},
   "outputs": [
    {
     "data": {
      "text/plain": [
       "(2137, 6)"
      ]
     },
     "execution_count": 50,
     "metadata": {},
     "output_type": "execute_result"
    }
   ],
   "source": [
    "mine.shape"
   ]
  },
  {
   "cell_type": "code",
   "execution_count": 51,
   "metadata": {},
   "outputs": [
    {
     "data": {
      "text/html": [
       "<div>\n",
       "<style scoped>\n",
       "    .dataframe tbody tr th:only-of-type {\n",
       "        vertical-align: middle;\n",
       "    }\n",
       "\n",
       "    .dataframe tbody tr th {\n",
       "        vertical-align: top;\n",
       "    }\n",
       "\n",
       "    .dataframe thead th {\n",
       "        text-align: right;\n",
       "    }\n",
       "</style>\n",
       "<table border=\"1\" class=\"dataframe\">\n",
       "  <thead>\n",
       "    <tr style=\"text-align: right;\">\n",
       "      <th></th>\n",
       "      <th>doc_id</th>\n",
       "      <th>texto_clean</th>\n",
       "      <th>tokens</th>\n",
       "      <th>abrev</th>\n",
       "      <th>startOffset</th>\n",
       "      <th>endOffset</th>\n",
       "    </tr>\n",
       "  </thead>\n",
       "  <tbody>\n",
       "    <tr>\n",
       "      <th>0</th>\n",
       "      <td>S0004-06142005000900013-1</td>\n",
       "      <td>Se trata mujer 29 años sometida estudio ecográ...</td>\n",
       "      <td>[Se, trata, de, una, mujer, de, 29, años, some...</td>\n",
       "      <td>mm</td>\n",
       "      <td>185</td>\n",
       "      <td>189</td>\n",
       "    </tr>\n",
       "    <tr>\n",
       "      <th>0</th>\n",
       "      <td>S0004-06142005000900013-1</td>\n",
       "      <td>Se trata mujer 29 años sometida estudio ecográ...</td>\n",
       "      <td>[Se, trata, de, una, mujer, de, 29, años, some...</td>\n",
       "      <td>DAKO</td>\n",
       "      <td>1502</td>\n",
       "      <td>1506</td>\n",
       "    </tr>\n",
       "    <tr>\n",
       "      <th>0</th>\n",
       "      <td>S0004-06142005000900013-1</td>\n",
       "      <td>Se trata mujer 29 años sometida estudio ecográ...</td>\n",
       "      <td>[Se, trata, de, una, mujer, de, 29, años, some...</td>\n",
       "      <td>HHF</td>\n",
       "      <td>1513</td>\n",
       "      <td>1516</td>\n",
       "    </tr>\n",
       "    <tr>\n",
       "      <th>1</th>\n",
       "      <td>S0004-06142005000900015-1</td>\n",
       "      <td>Varón 36 años , antecedentes interés , estudia...</td>\n",
       "      <td>[Varón, de, 36, años, ,, sin, antecedentes, de...</td>\n",
       "      <td>CT</td>\n",
       "      <td>408</td>\n",
       "      <td>410</td>\n",
       "    </tr>\n",
       "    <tr>\n",
       "      <th>1</th>\n",
       "      <td>S0004-06142005000900015-1</td>\n",
       "      <td>Varón 36 años , antecedentes interés , estudia...</td>\n",
       "      <td>[Varón, de, 36, años, ,, sin, antecedentes, de...</td>\n",
       "      <td>x</td>\n",
       "      <td>445</td>\n",
       "      <td>448</td>\n",
       "    </tr>\n",
       "  </tbody>\n",
       "</table>\n",
       "</div>"
      ],
      "text/plain": [
       "                      doc_id  \\\n",
       "0  S0004-06142005000900013-1   \n",
       "0  S0004-06142005000900013-1   \n",
       "0  S0004-06142005000900013-1   \n",
       "1  S0004-06142005000900015-1   \n",
       "1  S0004-06142005000900015-1   \n",
       "\n",
       "                                         texto_clean  \\\n",
       "0  Se trata mujer 29 años sometida estudio ecográ...   \n",
       "0  Se trata mujer 29 años sometida estudio ecográ...   \n",
       "0  Se trata mujer 29 años sometida estudio ecográ...   \n",
       "1  Varón 36 años , antecedentes interés , estudia...   \n",
       "1  Varón 36 años , antecedentes interés , estudia...   \n",
       "\n",
       "                                              tokens abrev  startOffset  \\\n",
       "0  [Se, trata, de, una, mujer, de, 29, años, some...    mm          185   \n",
       "0  [Se, trata, de, una, mujer, de, 29, años, some...  DAKO         1502   \n",
       "0  [Se, trata, de, una, mujer, de, 29, años, some...   HHF         1513   \n",
       "1  [Varón, de, 36, años, ,, sin, antecedentes, de...    CT          408   \n",
       "1  [Varón, de, 36, años, ,, sin, antecedentes, de...     x          445   \n",
       "\n",
       "   endOffset  \n",
       "0        189  \n",
       "0       1506  \n",
       "0       1516  \n",
       "1        410  \n",
       "1        448  "
      ]
     },
     "execution_count": 51,
     "metadata": {},
     "output_type": "execute_result"
    }
   ],
   "source": [
    "mine.head()"
   ]
  },
  {
   "cell_type": "markdown",
   "metadata": {},
   "source": [
    "Check dataframes for one text"
   ]
  },
  {
   "cell_type": "code",
   "execution_count": 167,
   "metadata": {},
   "outputs": [],
   "source": [
    "# mine[mine['doc_id'] == 'S1130-05582012000300005-1']"
   ]
  },
  {
   "cell_type": "code",
   "execution_count": 168,
   "metadata": {},
   "outputs": [],
   "source": [
    "# train_abbr[train_abbr['doc_id'] == 'S1130-05582012000300005-1']"
   ]
  },
  {
   "cell_type": "markdown",
   "metadata": {},
   "source": [
    "## Search Long Formns"
   ]
  },
  {
   "cell_type": "markdown",
   "metadata": {},
   "source": [
    "### Search Long Forms in the same text"
   ]
  },
  {
   "cell_type": "markdown",
   "metadata": {},
   "source": [
    "**measurement units dictionary**"
   ]
  },
  {
   "cell_type": "code",
   "execution_count": 412,
   "metadata": {},
   "outputs": [],
   "source": [
    "# mu_dic = {\"mL\":\"Mililitro\",\n",
    "# \"mg\":\"Miligramo\",\n",
    "# \"g\":\"Gramo\",\n",
    "# \"L\":\"Litro\",\n",
    "# \"mcg\":\"Microgramo\",\n",
    "# \"mmol\":\"Milimol\",\n",
    "# \"UI\":\"Unidades Internacionales\",\n",
    "# \"Miles UI\":\"Miles de Unidades Internacionales\",\n",
    "# \"Millones UI\":\"Millones de Unidades Internacionales\",\n",
    "# \"UFC\":\"Unidades Formadoras de Colonias\",\n",
    "# \"mEq\":\"Miliequivalente\",\n",
    "# \"ng\":\"Nanogramo\",\n",
    "# \"Lf\":\"Unidad Floculante\",\n",
    "# \"UFP\":\"Unidad Formadora de Placa\",\n",
    "# \"DIC\":\"Dosis Infectante Mediana de Cultivo Celular 50% \",\n",
    "# \"DIT\":\"Dosis Infectante Mediana de Cultivo Tisular 50% \",\n",
    "# \"DI\":\"Dosis Infectante 50% \",\n",
    "# \"mol\":\"Peso Molecular Gramo \",\n",
    "# \"Eq\":\"Peso Equivalente Gramo \",\n",
    "# \"Dosis\":\"Dosis\",\n",
    "# \"Almh\":\"Almohadilla\",\n",
    "# \"Amp\":\"Ampolla\",\n",
    "# \"Anl\":\"Anillo\",\n",
    "# \"Bar\":\"Barra\",\n",
    "# \"Bolsa\":\"Bolsa\",\n",
    "# \"Cap\":\"Capsula\",\n",
    "# \"Car\":\"Caramelo\",\n",
    "# \"Carp\":\"Carpula\",\n",
    "# \"Cart\":\"Cartucho\",\n",
    "# \"Com\":\"Comprimido\",\n",
    "# \"Dia\":\"Dia\",\n",
    "# \"Fras\":\"Frasco\",\n",
    "# \"Fras-Amp\":\"Frasco Ampolla \",\n",
    "# \"Grag\":\"Gragea\",\n",
    "# \"Hora\":\"Hora\",\n",
    "# \"Imp\":\"Implante\",\n",
    "# \"Jab\":\"Jab¢n\",\n",
    "# \"Jer\":\"Jeringa Prellenada \",\n",
    "# \"uL\":\"Microlitro\",\n",
    "# \"Ovu\":\"Ovulo\",\n",
    "# \"Parche\":\"Parche\",\n",
    "# \"Past\":\"Pastilla\",\n",
    "# \"Perl\":\"Perla\",\n",
    "# \"Pil\":\"Pildora\",\n",
    "# \"Pip\":\"Pipeta\",\n",
    "# \"%\":\"Porcentaje\",\n",
    "# \"Sach\":\"Sachet\",\n",
    "# \"Sob\":\"Sobre\",\n",
    "# \"Sup\":\"Supositorio\",\n",
    "# \"Tab\":\"Tableta\",\n",
    "# \"Troc\":\"Trocisco\",\n",
    "# \"Vial\":\"Vial\",\n",
    "# \"Kg\":\"Kilogramo\",\n",
    "# \"Gal\":\"Galon\",\n",
    "# \"Sis\":\"Sistema Terapeutico\",\n",
    "# \"mCi\":\"miliCuries\",\n",
    "# \"mBq\":\"milibequerel\",\n",
    "# \"UEL\":\"Unidades ELISA \",\n",
    "# \"DL\":\"Dosis Letal\",\n",
    "# \"U USP\":\"Unidades USP \",\n",
    "# \"U\":\"Unidades\",\n",
    "# \"Rot\":\"Rotacaps\",\n",
    "# \"CCID\":\"Dosis Infecciosa en Cultivo de Célula \",\n",
    "# \"U\":\"UNIDAD\",\n",
    "# \"Otros\":\"Otros\",\n",
    "# \"µ Ci\":\"mcroCuries\",\n",
    "# \"Esp\":\"Esporas\",\n",
    "# \"mcHA\":\"microgramos de HA \",\n",
    "# \"Gom\":\"Goma\",\n",
    "# \"KIU\":\"Unidad Inhibidora de Calicreina \",\n",
    "# \"mcel\":\"Millones de Células \",\n",
    "# \"DU\":\"Unidades de Antigeno D\",\n",
    "# \"Dil D2\":\"Dil D2\",\n",
    "# \"Tin.Mad.\":\"Tintura Madre\",\n",
    "# \"Dil D4\":\"Dil D4\",\n",
    "# \"Dil D5\":\"Dil D5\",\n",
    "# \"Dil D1\":\"Dil D1\",\n",
    "# \"Dil D8\":\"Dil D8\",\n",
    "# \"Dil D3\":\"Dil D3\",\n",
    "# \"OU\":\"Unidad de Opacidad \",\n",
    "# \"mm\": \"milimetro\",\n",
    "# \"dm\": \"decimetro\",\n",
    "# \"cm\": \"centimetro\"}"
   ]
  },
  {
   "cell_type": "code",
   "execution_count": 411,
   "metadata": {},
   "outputs": [],
   "source": [
    "# mine['long_form'] = mine['abrev'].map(mu_dic)"
   ]
  },
  {
   "cell_type": "code",
   "execution_count": 54,
   "metadata": {},
   "outputs": [],
   "source": [
    "mine_lf = mine[mine['abrev'].str.len() > 1].reset_index()"
   ]
  },
  {
   "cell_type": "markdown",
   "metadata": {},
   "source": [
    "**With regex looking for words before SF**"
   ]
  },
  {
   "cell_type": "code",
   "execution_count": 56,
   "metadata": {},
   "outputs": [],
   "source": [
    "def get_longform(tokens, acro, margin = 2, i =0):\n",
    "    index = tokens.index(acro)\n",
    "    long_form = ''\n",
    "    #Looking for before\n",
    "    for word in tokens[index-margin-len(acro):index]:\n",
    "        #if first letter of word is equal to first letter os acronym\n",
    "        if word[0] == acro[i].lower():\n",
    "            long_form += word + ' '\n",
    "            i += 1\n",
    "            if i == len(acro):\n",
    "                break\n",
    "        elif (i == 1) and (word[0] == acro[i-1].lower()):\n",
    "            long_form = word + ' '\n",
    "            i = 1\n",
    "            if i == len(acro):\n",
    "                break\n",
    "    long_form = long_form.rstrip()\n",
    "    return long_form"
   ]
  },
  {
   "cell_type": "code",
   "execution_count": 57,
   "metadata": {},
   "outputs": [
    {
     "ename": "ValueError",
     "evalue": "'HHF' is not in list",
     "output_type": "error",
     "traceback": [
      "\u001b[1;31m---------------------------------------------------------------------------\u001b[0m",
      "\u001b[1;31mValueError\u001b[0m                                Traceback (most recent call last)",
      "\u001b[1;32m<ipython-input-57-57a35da13756>\u001b[0m in \u001b[0;36m<module>\u001b[1;34m\u001b[0m\n\u001b[1;32m----> 1\u001b[1;33m \u001b[0mmine\u001b[0m\u001b[1;33m[\u001b[0m\u001b[1;34m'long_form'\u001b[0m\u001b[1;33m]\u001b[0m \u001b[1;33m=\u001b[0m \u001b[0mmine\u001b[0m\u001b[1;33m.\u001b[0m\u001b[0mapply\u001b[0m\u001b[1;33m(\u001b[0m\u001b[1;32mlambda\u001b[0m \u001b[0mrow\u001b[0m\u001b[1;33m:\u001b[0m \u001b[0mget_longform\u001b[0m\u001b[1;33m(\u001b[0m\u001b[0mrow\u001b[0m\u001b[1;33m[\u001b[0m\u001b[1;34m'tokens'\u001b[0m\u001b[1;33m]\u001b[0m\u001b[1;33m,\u001b[0m \u001b[0mrow\u001b[0m\u001b[1;33m[\u001b[0m\u001b[1;34m'abrev'\u001b[0m\u001b[1;33m]\u001b[0m\u001b[1;33m)\u001b[0m\u001b[1;33m,\u001b[0m \u001b[0maxis\u001b[0m \u001b[1;33m=\u001b[0m \u001b[1;36m1\u001b[0m\u001b[1;33m)\u001b[0m\u001b[1;33m\u001b[0m\u001b[1;33m\u001b[0m\u001b[0m\n\u001b[0m",
      "\u001b[1;32m~\\Anaconda3\\lib\\site-packages\\pandas\\core\\frame.py\u001b[0m in \u001b[0;36mapply\u001b[1;34m(self, func, axis, raw, result_type, args, **kwds)\u001b[0m\n\u001b[0;32m   6876\u001b[0m             \u001b[0mkwds\u001b[0m\u001b[1;33m=\u001b[0m\u001b[0mkwds\u001b[0m\u001b[1;33m,\u001b[0m\u001b[1;33m\u001b[0m\u001b[1;33m\u001b[0m\u001b[0m\n\u001b[0;32m   6877\u001b[0m         )\n\u001b[1;32m-> 6878\u001b[1;33m         \u001b[1;32mreturn\u001b[0m \u001b[0mop\u001b[0m\u001b[1;33m.\u001b[0m\u001b[0mget_result\u001b[0m\u001b[1;33m(\u001b[0m\u001b[1;33m)\u001b[0m\u001b[1;33m\u001b[0m\u001b[1;33m\u001b[0m\u001b[0m\n\u001b[0m\u001b[0;32m   6879\u001b[0m \u001b[1;33m\u001b[0m\u001b[0m\n\u001b[0;32m   6880\u001b[0m     \u001b[1;32mdef\u001b[0m \u001b[0mapplymap\u001b[0m\u001b[1;33m(\u001b[0m\u001b[0mself\u001b[0m\u001b[1;33m,\u001b[0m \u001b[0mfunc\u001b[0m\u001b[1;33m)\u001b[0m \u001b[1;33m->\u001b[0m \u001b[1;34m\"DataFrame\"\u001b[0m\u001b[1;33m:\u001b[0m\u001b[1;33m\u001b[0m\u001b[1;33m\u001b[0m\u001b[0m\n",
      "\u001b[1;32m~\\Anaconda3\\lib\\site-packages\\pandas\\core\\apply.py\u001b[0m in \u001b[0;36mget_result\u001b[1;34m(self)\u001b[0m\n\u001b[0;32m    184\u001b[0m             \u001b[1;32mreturn\u001b[0m \u001b[0mself\u001b[0m\u001b[1;33m.\u001b[0m\u001b[0mapply_raw\u001b[0m\u001b[1;33m(\u001b[0m\u001b[1;33m)\u001b[0m\u001b[1;33m\u001b[0m\u001b[1;33m\u001b[0m\u001b[0m\n\u001b[0;32m    185\u001b[0m \u001b[1;33m\u001b[0m\u001b[0m\n\u001b[1;32m--> 186\u001b[1;33m         \u001b[1;32mreturn\u001b[0m \u001b[0mself\u001b[0m\u001b[1;33m.\u001b[0m\u001b[0mapply_standard\u001b[0m\u001b[1;33m(\u001b[0m\u001b[1;33m)\u001b[0m\u001b[1;33m\u001b[0m\u001b[1;33m\u001b[0m\u001b[0m\n\u001b[0m\u001b[0;32m    187\u001b[0m \u001b[1;33m\u001b[0m\u001b[0m\n\u001b[0;32m    188\u001b[0m     \u001b[1;32mdef\u001b[0m \u001b[0mapply_empty_result\u001b[0m\u001b[1;33m(\u001b[0m\u001b[0mself\u001b[0m\u001b[1;33m)\u001b[0m\u001b[1;33m:\u001b[0m\u001b[1;33m\u001b[0m\u001b[1;33m\u001b[0m\u001b[0m\n",
      "\u001b[1;32m~\\Anaconda3\\lib\\site-packages\\pandas\\core\\apply.py\u001b[0m in \u001b[0;36mapply_standard\u001b[1;34m(self)\u001b[0m\n\u001b[0;32m    294\u001b[0m             \u001b[1;32mtry\u001b[0m\u001b[1;33m:\u001b[0m\u001b[1;33m\u001b[0m\u001b[1;33m\u001b[0m\u001b[0m\n\u001b[0;32m    295\u001b[0m                 result = libreduction.compute_reduction(\n\u001b[1;32m--> 296\u001b[1;33m                     \u001b[0mvalues\u001b[0m\u001b[1;33m,\u001b[0m \u001b[0mself\u001b[0m\u001b[1;33m.\u001b[0m\u001b[0mf\u001b[0m\u001b[1;33m,\u001b[0m \u001b[0maxis\u001b[0m\u001b[1;33m=\u001b[0m\u001b[0mself\u001b[0m\u001b[1;33m.\u001b[0m\u001b[0maxis\u001b[0m\u001b[1;33m,\u001b[0m \u001b[0mdummy\u001b[0m\u001b[1;33m=\u001b[0m\u001b[0mdummy\u001b[0m\u001b[1;33m,\u001b[0m \u001b[0mlabels\u001b[0m\u001b[1;33m=\u001b[0m\u001b[0mlabels\u001b[0m\u001b[1;33m\u001b[0m\u001b[1;33m\u001b[0m\u001b[0m\n\u001b[0m\u001b[0;32m    297\u001b[0m                 )\n\u001b[0;32m    298\u001b[0m             \u001b[1;32mexcept\u001b[0m \u001b[0mValueError\u001b[0m \u001b[1;32mas\u001b[0m \u001b[0merr\u001b[0m\u001b[1;33m:\u001b[0m\u001b[1;33m\u001b[0m\u001b[1;33m\u001b[0m\u001b[0m\n",
      "\u001b[1;32mpandas\\_libs\\reduction.pyx\u001b[0m in \u001b[0;36mpandas._libs.reduction.compute_reduction\u001b[1;34m()\u001b[0m\n",
      "\u001b[1;32mpandas\\_libs\\reduction.pyx\u001b[0m in \u001b[0;36mpandas._libs.reduction.Reducer.get_result\u001b[1;34m()\u001b[0m\n",
      "\u001b[1;32m<ipython-input-57-57a35da13756>\u001b[0m in \u001b[0;36m<lambda>\u001b[1;34m(row)\u001b[0m\n\u001b[1;32m----> 1\u001b[1;33m \u001b[0mmine\u001b[0m\u001b[1;33m[\u001b[0m\u001b[1;34m'long_form'\u001b[0m\u001b[1;33m]\u001b[0m \u001b[1;33m=\u001b[0m \u001b[0mmine\u001b[0m\u001b[1;33m.\u001b[0m\u001b[0mapply\u001b[0m\u001b[1;33m(\u001b[0m\u001b[1;32mlambda\u001b[0m \u001b[0mrow\u001b[0m\u001b[1;33m:\u001b[0m \u001b[0mget_longform\u001b[0m\u001b[1;33m(\u001b[0m\u001b[0mrow\u001b[0m\u001b[1;33m[\u001b[0m\u001b[1;34m'tokens'\u001b[0m\u001b[1;33m]\u001b[0m\u001b[1;33m,\u001b[0m \u001b[0mrow\u001b[0m\u001b[1;33m[\u001b[0m\u001b[1;34m'abrev'\u001b[0m\u001b[1;33m]\u001b[0m\u001b[1;33m)\u001b[0m\u001b[1;33m,\u001b[0m \u001b[0maxis\u001b[0m \u001b[1;33m=\u001b[0m \u001b[1;36m1\u001b[0m\u001b[1;33m)\u001b[0m\u001b[1;33m\u001b[0m\u001b[1;33m\u001b[0m\u001b[0m\n\u001b[0m",
      "\u001b[1;32m<ipython-input-56-7fb0330d0a28>\u001b[0m in \u001b[0;36mget_longform\u001b[1;34m(tokens, acro, margin, i)\u001b[0m\n\u001b[0;32m      1\u001b[0m \u001b[1;32mdef\u001b[0m \u001b[0mget_longform\u001b[0m\u001b[1;33m(\u001b[0m\u001b[0mtokens\u001b[0m\u001b[1;33m,\u001b[0m \u001b[0macro\u001b[0m\u001b[1;33m,\u001b[0m \u001b[0mmargin\u001b[0m \u001b[1;33m=\u001b[0m \u001b[1;36m2\u001b[0m\u001b[1;33m,\u001b[0m \u001b[0mi\u001b[0m \u001b[1;33m=\u001b[0m\u001b[1;36m0\u001b[0m\u001b[1;33m)\u001b[0m\u001b[1;33m:\u001b[0m\u001b[1;33m\u001b[0m\u001b[1;33m\u001b[0m\u001b[0m\n\u001b[1;32m----> 2\u001b[1;33m     \u001b[0mindex\u001b[0m \u001b[1;33m=\u001b[0m \u001b[0mtokens\u001b[0m\u001b[1;33m.\u001b[0m\u001b[0mindex\u001b[0m\u001b[1;33m(\u001b[0m\u001b[0macro\u001b[0m\u001b[1;33m)\u001b[0m\u001b[1;33m\u001b[0m\u001b[1;33m\u001b[0m\u001b[0m\n\u001b[0m\u001b[0;32m      3\u001b[0m     \u001b[0mlong_form\u001b[0m \u001b[1;33m=\u001b[0m \u001b[1;34m''\u001b[0m\u001b[1;33m\u001b[0m\u001b[1;33m\u001b[0m\u001b[0m\n\u001b[0;32m      4\u001b[0m     \u001b[1;31m#Looking for before\u001b[0m\u001b[1;33m\u001b[0m\u001b[1;33m\u001b[0m\u001b[1;33m\u001b[0m\u001b[0m\n\u001b[0;32m      5\u001b[0m     \u001b[1;32mfor\u001b[0m \u001b[0mword\u001b[0m \u001b[1;32min\u001b[0m \u001b[0mtokens\u001b[0m\u001b[1;33m[\u001b[0m\u001b[0mindex\u001b[0m\u001b[1;33m-\u001b[0m\u001b[0mmargin\u001b[0m\u001b[1;33m-\u001b[0m\u001b[0mlen\u001b[0m\u001b[1;33m(\u001b[0m\u001b[0macro\u001b[0m\u001b[1;33m)\u001b[0m\u001b[1;33m:\u001b[0m\u001b[0mindex\u001b[0m\u001b[1;33m]\u001b[0m\u001b[1;33m:\u001b[0m\u001b[1;33m\u001b[0m\u001b[1;33m\u001b[0m\u001b[0m\n",
      "\u001b[1;31mValueError\u001b[0m: 'HHF' is not in list"
     ]
    }
   ],
   "source": [
    "mine['long_form'] = mine.apply(lambda row: get_longform(row['tokens'], row['abrev']), axis = 1)"
   ]
  },
  {
   "cell_type": "code",
   "execution_count": 575,
   "metadata": {},
   "outputs": [],
   "source": [
    "train_raw['tokens'] = train_raw['texto_clean'].map(lambda x: word_tokenize(x))"
   ]
  },
  {
   "cell_type": "code",
   "execution_count": 670,
   "metadata": {},
   "outputs": [],
   "source": [
    "prueba = mine[mine['doc_id']=='S0004-06142005001000011-1']"
   ]
  },
  {
   "cell_type": "code",
   "execution_count": 620,
   "metadata": {},
   "outputs": [
    {
     "name": "stderr",
     "output_type": "stream",
     "text": [
      "C:\\Users\\cx02274\\Anaconda3\\lib\\site-packages\\ipykernel_launcher.py:2: SettingWithCopyWarning: \n",
      "A value is trying to be set on a copy of a slice from a DataFrame.\n",
      "Try using .loc[row_indexer,col_indexer] = value instead\n",
      "\n",
      "See the caveats in the documentation: https://pandas.pydata.org/pandas-docs/stable/user_guide/indexing.html#returning-a-view-versus-a-copy\n",
      "  \n"
     ]
    }
   ],
   "source": [
    "for i in punctuation:\n",
    "    prueba['tokens'] = prueba['tokens'].apply(lambda x: [a.replace(i,\"\") for a in x])"
   ]
  },
  {
   "cell_type": "code",
   "execution_count": 621,
   "metadata": {},
   "outputs": [
    {
     "data": {
      "text/html": [
       "<div>\n",
       "<style scoped>\n",
       "    .dataframe tbody tr th:only-of-type {\n",
       "        vertical-align: middle;\n",
       "    }\n",
       "\n",
       "    .dataframe tbody tr th {\n",
       "        vertical-align: top;\n",
       "    }\n",
       "\n",
       "    .dataframe thead th {\n",
       "        text-align: right;\n",
       "    }\n",
       "</style>\n",
       "<table border=\"1\" class=\"dataframe\">\n",
       "  <thead>\n",
       "    <tr style=\"text-align: right;\">\n",
       "      <th></th>\n",
       "      <th>doc_id</th>\n",
       "      <th>texto_clean</th>\n",
       "      <th>tokens</th>\n",
       "      <th>abrev</th>\n",
       "      <th>startOffset</th>\n",
       "      <th>endOffset</th>\n",
       "    </tr>\n",
       "  </thead>\n",
       "  <tbody>\n",
       "    <tr>\n",
       "      <th>3</th>\n",
       "      <td>S0004-06142005001000011-1</td>\n",
       "      <td>Varón 58 años edad momento trasplante , 5 octu...</td>\n",
       "      <td>[Varón, 58, años, edad, momento, trasplante, ,...</td>\n",
       "      <td>IRC</td>\n",
       "      <td>145</td>\n",
       "      <td>148</td>\n",
       "    </tr>\n",
       "    <tr>\n",
       "      <th>3</th>\n",
       "      <td>S0004-06142005001000011-1</td>\n",
       "      <td>Varón 58 años edad momento trasplante , 5 octu...</td>\n",
       "      <td>[Varón, 58, años, edad, momento, trasplante, ,...</td>\n",
       "      <td>IgA</td>\n",
       "      <td>196</td>\n",
       "      <td>199</td>\n",
       "    </tr>\n",
       "    <tr>\n",
       "      <th>3</th>\n",
       "      <td>S0004-06142005001000011-1</td>\n",
       "      <td>Varón 58 años edad momento trasplante , 5 octu...</td>\n",
       "      <td>[Varón, 58, años, edad, momento, trasplante, ,...</td>\n",
       "      <td>II</td>\n",
       "      <td>572</td>\n",
       "      <td>574</td>\n",
       "    </tr>\n",
       "    <tr>\n",
       "      <th>3</th>\n",
       "      <td>S0004-06142005001000011-1</td>\n",
       "      <td>Varón 58 años edad momento trasplante , 5 octu...</td>\n",
       "      <td>[Varón, 58, años, edad, momento, trasplante, ,...</td>\n",
       "      <td>K</td>\n",
       "      <td>981</td>\n",
       "      <td>983</td>\n",
       "    </tr>\n",
       "    <tr>\n",
       "      <th>3</th>\n",
       "      <td>S0004-06142005001000011-1</td>\n",
       "      <td>Varón 58 años edad momento trasplante , 5 octu...</td>\n",
       "      <td>[Varón, 58, años, edad, momento, trasplante, ,...</td>\n",
       "      <td>grd</td>\n",
       "      <td>1009</td>\n",
       "      <td>1013</td>\n",
       "    </tr>\n",
       "    <tr>\n",
       "      <th>3</th>\n",
       "      <td>S0004-06142005001000011-1</td>\n",
       "      <td>Varón 58 años edad momento trasplante , 5 octu...</td>\n",
       "      <td>[Varón, 58, años, edad, momento, trasplante, ,...</td>\n",
       "      <td>EEII</td>\n",
       "      <td>1455</td>\n",
       "      <td>1459</td>\n",
       "    </tr>\n",
       "    <tr>\n",
       "      <th>3</th>\n",
       "      <td>S0004-06142005001000011-1</td>\n",
       "      <td>Varón 58 años edad momento trasplante , 5 octu...</td>\n",
       "      <td>[Varón, 58, años, edad, momento, trasplante, ,...</td>\n",
       "      <td>ROT</td>\n",
       "      <td>1626</td>\n",
       "      <td>1629</td>\n",
       "    </tr>\n",
       "    <tr>\n",
       "      <th>3</th>\n",
       "      <td>S0004-06142005001000011-1</td>\n",
       "      <td>Varón 58 años edad momento trasplante , 5 octu...</td>\n",
       "      <td>[Varón, 58, años, edad, momento, trasplante, ,...</td>\n",
       "      <td>RCP</td>\n",
       "      <td>1663</td>\n",
       "      <td>1666</td>\n",
       "    </tr>\n",
       "    <tr>\n",
       "      <th>3</th>\n",
       "      <td>S0004-06142005001000011-1</td>\n",
       "      <td>Varón 58 años edad momento trasplante , 5 octu...</td>\n",
       "      <td>[Varón, 58, años, edad, momento, trasplante, ,...</td>\n",
       "      <td>RMN</td>\n",
       "      <td>1715</td>\n",
       "      <td>1718</td>\n",
       "    </tr>\n",
       "    <tr>\n",
       "      <th>3</th>\n",
       "      <td>S0004-06142005001000011-1</td>\n",
       "      <td>Varón 58 años edad momento trasplante , 5 octu...</td>\n",
       "      <td>[Varón, 58, años, edad, momento, trasplante, ,...</td>\n",
       "      <td>LCR</td>\n",
       "      <td>1808</td>\n",
       "      <td>1811</td>\n",
       "    </tr>\n",
       "    <tr>\n",
       "      <th>3</th>\n",
       "      <td>S0004-06142005001000011-1</td>\n",
       "      <td>Varón 58 años edad momento trasplante , 5 octu...</td>\n",
       "      <td>[Varón, 58, años, edad, momento, trasplante, ,...</td>\n",
       "      <td>ELISA</td>\n",
       "      <td>1963</td>\n",
       "      <td>1968</td>\n",
       "    </tr>\n",
       "    <tr>\n",
       "      <th>3</th>\n",
       "      <td>S0004-06142005001000011-1</td>\n",
       "      <td>Varón 58 años edad momento trasplante , 5 octu...</td>\n",
       "      <td>[Varón, 58, años, edad, momento, trasplante, ,...</td>\n",
       "      <td>PCR</td>\n",
       "      <td>2012</td>\n",
       "      <td>2015</td>\n",
       "    </tr>\n",
       "    <tr>\n",
       "      <th>3</th>\n",
       "      <td>S0004-06142005001000011-1</td>\n",
       "      <td>Varón 58 años edad momento trasplante , 5 octu...</td>\n",
       "      <td>[Varón, 58, años, edad, momento, trasplante, ,...</td>\n",
       "      <td>HTLV</td>\n",
       "      <td>2047</td>\n",
       "      <td>2051</td>\n",
       "    </tr>\n",
       "    <tr>\n",
       "      <th>3</th>\n",
       "      <td>S0004-06142005001000011-1</td>\n",
       "      <td>Varón 58 años edad momento trasplante , 5 octu...</td>\n",
       "      <td>[Varón, 58, años, edad, momento, trasplante, ,...</td>\n",
       "      <td>TSP</td>\n",
       "      <td>2207</td>\n",
       "      <td>2210</td>\n",
       "    </tr>\n",
       "    <tr>\n",
       "      <th>3</th>\n",
       "      <td>S0004-06142005001000011-1</td>\n",
       "      <td>Varón 58 años edad momento trasplante , 5 octu...</td>\n",
       "      <td>[Varón, 58, años, edad, momento, trasplante, ,...</td>\n",
       "      <td>etilP</td>\n",
       "      <td>2249</td>\n",
       "      <td>2255</td>\n",
       "    </tr>\n",
       "  </tbody>\n",
       "</table>\n",
       "</div>"
      ],
      "text/plain": [
       "                      doc_id  \\\n",
       "3  S0004-06142005001000011-1   \n",
       "3  S0004-06142005001000011-1   \n",
       "3  S0004-06142005001000011-1   \n",
       "3  S0004-06142005001000011-1   \n",
       "3  S0004-06142005001000011-1   \n",
       "3  S0004-06142005001000011-1   \n",
       "3  S0004-06142005001000011-1   \n",
       "3  S0004-06142005001000011-1   \n",
       "3  S0004-06142005001000011-1   \n",
       "3  S0004-06142005001000011-1   \n",
       "3  S0004-06142005001000011-1   \n",
       "3  S0004-06142005001000011-1   \n",
       "3  S0004-06142005001000011-1   \n",
       "3  S0004-06142005001000011-1   \n",
       "3  S0004-06142005001000011-1   \n",
       "\n",
       "                                         texto_clean  \\\n",
       "3  Varón 58 años edad momento trasplante , 5 octu...   \n",
       "3  Varón 58 años edad momento trasplante , 5 octu...   \n",
       "3  Varón 58 años edad momento trasplante , 5 octu...   \n",
       "3  Varón 58 años edad momento trasplante , 5 octu...   \n",
       "3  Varón 58 años edad momento trasplante , 5 octu...   \n",
       "3  Varón 58 años edad momento trasplante , 5 octu...   \n",
       "3  Varón 58 años edad momento trasplante , 5 octu...   \n",
       "3  Varón 58 años edad momento trasplante , 5 octu...   \n",
       "3  Varón 58 años edad momento trasplante , 5 octu...   \n",
       "3  Varón 58 años edad momento trasplante , 5 octu...   \n",
       "3  Varón 58 años edad momento trasplante , 5 octu...   \n",
       "3  Varón 58 años edad momento trasplante , 5 octu...   \n",
       "3  Varón 58 años edad momento trasplante , 5 octu...   \n",
       "3  Varón 58 años edad momento trasplante , 5 octu...   \n",
       "3  Varón 58 años edad momento trasplante , 5 octu...   \n",
       "\n",
       "                                              tokens  abrev  startOffset  \\\n",
       "3  [Varón, 58, años, edad, momento, trasplante, ,...    IRC          145   \n",
       "3  [Varón, 58, años, edad, momento, trasplante, ,...    IgA          196   \n",
       "3  [Varón, 58, años, edad, momento, trasplante, ,...     II          572   \n",
       "3  [Varón, 58, años, edad, momento, trasplante, ,...      K          981   \n",
       "3  [Varón, 58, años, edad, momento, trasplante, ,...    grd         1009   \n",
       "3  [Varón, 58, años, edad, momento, trasplante, ,...   EEII         1455   \n",
       "3  [Varón, 58, años, edad, momento, trasplante, ,...    ROT         1626   \n",
       "3  [Varón, 58, años, edad, momento, trasplante, ,...    RCP         1663   \n",
       "3  [Varón, 58, años, edad, momento, trasplante, ,...    RMN         1715   \n",
       "3  [Varón, 58, años, edad, momento, trasplante, ,...    LCR         1808   \n",
       "3  [Varón, 58, años, edad, momento, trasplante, ,...  ELISA         1963   \n",
       "3  [Varón, 58, años, edad, momento, trasplante, ,...    PCR         2012   \n",
       "3  [Varón, 58, años, edad, momento, trasplante, ,...   HTLV         2047   \n",
       "3  [Varón, 58, años, edad, momento, trasplante, ,...    TSP         2207   \n",
       "3  [Varón, 58, años, edad, momento, trasplante, ,...  etilP         2249   \n",
       "\n",
       "   endOffset  \n",
       "3        148  \n",
       "3        199  \n",
       "3        574  \n",
       "3        983  \n",
       "3       1013  \n",
       "3       1459  \n",
       "3       1629  \n",
       "3       1666  \n",
       "3       1718  \n",
       "3       1811  \n",
       "3       1968  \n",
       "3       2015  \n",
       "3       2051  \n",
       "3       2210  \n",
       "3       2255  "
      ]
     },
     "execution_count": 621,
     "metadata": {},
     "output_type": "execute_result"
    }
   ],
   "source": [
    "prueba"
   ]
  },
  {
   "cell_type": "code",
   "execution_count": 622,
   "metadata": {},
   "outputs": [
    {
     "data": {
      "text/plain": [
       "3    \n",
       "3    \n",
       "3    \n",
       "3    \n",
       "3    \n",
       "3    \n",
       "3    \n",
       "3    \n",
       "3    \n",
       "3    \n",
       "3    \n",
       "3    \n",
       "3    \n",
       "3    \n",
       "3    \n",
       "dtype: object"
      ]
     },
     "execution_count": 622,
     "metadata": {},
     "output_type": "execute_result"
    }
   ],
   "source": [
    "prueba.apply(lambda row: get_longform(row['tokens'], row['abrev']), axis = 1)"
   ]
  },
  {
   "cell_type": "code",
   "execution_count": 671,
   "metadata": {},
   "outputs": [
    {
     "data": {
      "text/plain": [
       "''"
      ]
     },
     "execution_count": 671,
     "metadata": {},
     "output_type": "execute_result"
    }
   ],
   "source": [
    "get_longform(mine[mine['doc_id'] == 'S0004-06142005001000011-1'].iloc[3]['tokens'], 'PCR')"
   ]
  },
  {
   "cell_type": "markdown",
   "metadata": {},
   "source": [
    "Check how many texts don't have LF for the SF in the same text"
   ]
  },
  {
   "cell_type": "code",
   "execution_count": 341,
   "metadata": {},
   "outputs": [],
   "source": [
    "# mine['long_form'] = mine['long_form'].map(lambda x: x.replace(' ',''))"
   ]
  },
  {
   "cell_type": "code",
   "execution_count": 606,
   "metadata": {},
   "outputs": [
    {
     "data": {
      "text/html": [
       "<div>\n",
       "<style scoped>\n",
       "    .dataframe tbody tr th:only-of-type {\n",
       "        vertical-align: middle;\n",
       "    }\n",
       "\n",
       "    .dataframe tbody tr th {\n",
       "        vertical-align: top;\n",
       "    }\n",
       "\n",
       "    .dataframe thead th {\n",
       "        text-align: right;\n",
       "    }\n",
       "</style>\n",
       "<table border=\"1\" class=\"dataframe\">\n",
       "  <thead>\n",
       "    <tr style=\"text-align: right;\">\n",
       "      <th></th>\n",
       "      <th>index</th>\n",
       "      <th>doc_id</th>\n",
       "      <th>texto_clean</th>\n",
       "      <th>tokens</th>\n",
       "      <th>abrev</th>\n",
       "      <th>startOffset</th>\n",
       "      <th>endOffset</th>\n",
       "      <th>long_form</th>\n",
       "    </tr>\n",
       "  </thead>\n",
       "  <tbody>\n",
       "    <tr>\n",
       "      <th>0</th>\n",
       "      <td>0</td>\n",
       "      <td>S0004-06142005000900013-1</td>\n",
       "      <td>Se trata mujer 29 años sometida estudio ecográ...</td>\n",
       "      <td>[Se, trata, mujer, 29, años, sometida, estudio...</td>\n",
       "      <td>mm</td>\n",
       "      <td>185</td>\n",
       "      <td>189</td>\n",
       "      <td></td>\n",
       "    </tr>\n",
       "    <tr>\n",
       "      <th>1</th>\n",
       "      <td>0</td>\n",
       "      <td>S0004-06142005000900013-1</td>\n",
       "      <td>Se trata mujer 29 años sometida estudio ecográ...</td>\n",
       "      <td>[Se, trata, mujer, 29, años, sometida, estudio...</td>\n",
       "      <td>DAKO</td>\n",
       "      <td>1502</td>\n",
       "      <td>1506</td>\n",
       "      <td></td>\n",
       "    </tr>\n",
       "    <tr>\n",
       "      <th>2</th>\n",
       "      <td>0</td>\n",
       "      <td>S0004-06142005000900013-1</td>\n",
       "      <td>Se trata mujer 29 años sometida estudio ecográ...</td>\n",
       "      <td>[Se, trata, mujer, 29, años, sometida, estudio...</td>\n",
       "      <td>HHF</td>\n",
       "      <td>1513</td>\n",
       "      <td>1516</td>\n",
       "      <td></td>\n",
       "    </tr>\n",
       "    <tr>\n",
       "      <th>3</th>\n",
       "      <td>1</td>\n",
       "      <td>S0004-06142005000900015-1</td>\n",
       "      <td>Varón 36 años , antecedentes interés , estudia...</td>\n",
       "      <td>[Varón, 36, años, ,, antecedentes, interés, ,,...</td>\n",
       "      <td>CT</td>\n",
       "      <td>408</td>\n",
       "      <td>410</td>\n",
       "      <td></td>\n",
       "    </tr>\n",
       "    <tr>\n",
       "      <th>4</th>\n",
       "      <td>1</td>\n",
       "      <td>S0004-06142005000900015-1</td>\n",
       "      <td>Varón 36 años , antecedentes interés , estudia...</td>\n",
       "      <td>[Varón, 36, años, ,, antecedentes, interés, ,,...</td>\n",
       "      <td>MESNA</td>\n",
       "      <td>1120</td>\n",
       "      <td>1125</td>\n",
       "      <td></td>\n",
       "    </tr>\n",
       "    <tr>\n",
       "      <th>...</th>\n",
       "      <td>...</td>\n",
       "      <td>...</td>\n",
       "      <td>...</td>\n",
       "      <td>...</td>\n",
       "      <td>...</td>\n",
       "      <td>...</td>\n",
       "      <td>...</td>\n",
       "      <td>...</td>\n",
       "    </tr>\n",
       "    <tr>\n",
       "      <th>1983</th>\n",
       "      <td>317</td>\n",
       "      <td>S2340-98942015000100005-1</td>\n",
       "      <td>Presentamos caso paciente 62 años diciembre 20...</td>\n",
       "      <td>[Presentamos, caso, paciente, 62, años, diciem...</td>\n",
       "      <td>TAD</td>\n",
       "      <td>988</td>\n",
       "      <td>992</td>\n",
       "      <td></td>\n",
       "    </tr>\n",
       "    <tr>\n",
       "      <th>1984</th>\n",
       "      <td>317</td>\n",
       "      <td>S2340-98942015000100005-1</td>\n",
       "      <td>Presentamos caso paciente 62 años diciembre 20...</td>\n",
       "      <td>[Presentamos, caso, paciente, 62, años, diciem...</td>\n",
       "      <td>mmHg</td>\n",
       "      <td>1002</td>\n",
       "      <td>1006</td>\n",
       "      <td></td>\n",
       "    </tr>\n",
       "    <tr>\n",
       "      <th>1985</th>\n",
       "      <td>317</td>\n",
       "      <td>S2340-98942015000100005-1</td>\n",
       "      <td>Presentamos caso paciente 62 años diciembre 20...</td>\n",
       "      <td>[Presentamos, caso, paciente, 62, años, diciem...</td>\n",
       "      <td>mgml</td>\n",
       "      <td>1306</td>\n",
       "      <td>1311</td>\n",
       "      <td></td>\n",
       "    </tr>\n",
       "    <tr>\n",
       "      <th>1986</th>\n",
       "      <td>317</td>\n",
       "      <td>S2340-98942015000100005-1</td>\n",
       "      <td>Presentamos caso paciente 62 años diciembre 20...</td>\n",
       "      <td>[Presentamos, caso, paciente, 62, años, diciem...</td>\n",
       "      <td>mg</td>\n",
       "      <td>1428</td>\n",
       "      <td>1432</td>\n",
       "      <td></td>\n",
       "    </tr>\n",
       "    <tr>\n",
       "      <th>1987</th>\n",
       "      <td>317</td>\n",
       "      <td>S2340-98942015000100005-1</td>\n",
       "      <td>Presentamos caso paciente 62 años diciembre 20...</td>\n",
       "      <td>[Presentamos, caso, paciente, 62, años, diciem...</td>\n",
       "      <td>mgkg</td>\n",
       "      <td>1447</td>\n",
       "      <td>1452</td>\n",
       "      <td></td>\n",
       "    </tr>\n",
       "  </tbody>\n",
       "</table>\n",
       "<p>1988 rows × 8 columns</p>\n",
       "</div>"
      ],
      "text/plain": [
       "      index                     doc_id  \\\n",
       "0         0  S0004-06142005000900013-1   \n",
       "1         0  S0004-06142005000900013-1   \n",
       "2         0  S0004-06142005000900013-1   \n",
       "3         1  S0004-06142005000900015-1   \n",
       "4         1  S0004-06142005000900015-1   \n",
       "...     ...                        ...   \n",
       "1983    317  S2340-98942015000100005-1   \n",
       "1984    317  S2340-98942015000100005-1   \n",
       "1985    317  S2340-98942015000100005-1   \n",
       "1986    317  S2340-98942015000100005-1   \n",
       "1987    317  S2340-98942015000100005-1   \n",
       "\n",
       "                                            texto_clean  \\\n",
       "0     Se trata mujer 29 años sometida estudio ecográ...   \n",
       "1     Se trata mujer 29 años sometida estudio ecográ...   \n",
       "2     Se trata mujer 29 años sometida estudio ecográ...   \n",
       "3     Varón 36 años , antecedentes interés , estudia...   \n",
       "4     Varón 36 años , antecedentes interés , estudia...   \n",
       "...                                                 ...   \n",
       "1983  Presentamos caso paciente 62 años diciembre 20...   \n",
       "1984  Presentamos caso paciente 62 años diciembre 20...   \n",
       "1985  Presentamos caso paciente 62 años diciembre 20...   \n",
       "1986  Presentamos caso paciente 62 años diciembre 20...   \n",
       "1987  Presentamos caso paciente 62 años diciembre 20...   \n",
       "\n",
       "                                                 tokens  abrev  startOffset  \\\n",
       "0     [Se, trata, mujer, 29, años, sometida, estudio...     mm          185   \n",
       "1     [Se, trata, mujer, 29, años, sometida, estudio...   DAKO         1502   \n",
       "2     [Se, trata, mujer, 29, años, sometida, estudio...    HHF         1513   \n",
       "3     [Varón, 36, años, ,, antecedentes, interés, ,,...     CT          408   \n",
       "4     [Varón, 36, años, ,, antecedentes, interés, ,,...  MESNA         1120   \n",
       "...                                                 ...    ...          ...   \n",
       "1983  [Presentamos, caso, paciente, 62, años, diciem...    TAD          988   \n",
       "1984  [Presentamos, caso, paciente, 62, años, diciem...   mmHg         1002   \n",
       "1985  [Presentamos, caso, paciente, 62, años, diciem...   mgml         1306   \n",
       "1986  [Presentamos, caso, paciente, 62, años, diciem...     mg         1428   \n",
       "1987  [Presentamos, caso, paciente, 62, años, diciem...   mgkg         1447   \n",
       "\n",
       "      endOffset long_form  \n",
       "0           189            \n",
       "1          1506            \n",
       "2          1516            \n",
       "3           410            \n",
       "4          1125            \n",
       "...         ...       ...  \n",
       "1983        992            \n",
       "1984       1006            \n",
       "1985       1311            \n",
       "1986       1432            \n",
       "1987       1452            \n",
       "\n",
       "[1988 rows x 8 columns]"
      ]
     },
     "execution_count": 606,
     "metadata": {},
     "output_type": "execute_result"
    }
   ],
   "source": [
    "mine_lf[(mine_lf['abrev'].notnull()) & (mine_lf['long_form']== '')]"
   ]
  },
  {
   "cell_type": "code",
   "execution_count": 607,
   "metadata": {},
   "outputs": [],
   "source": [
    "lf_null = mine_lf[(mine_lf['abrev'].notnull()) & (mine_lf['long_form'] == '')].shape[0]"
   ]
  },
  {
   "cell_type": "code",
   "execution_count": 608,
   "metadata": {},
   "outputs": [
    {
     "name": "stdout",
     "output_type": "stream",
     "text": [
      "LF has not be found in the same text where the SF is in  100.00% of texts\n"
     ]
    }
   ],
   "source": [
    "print(f\"LF has not be found in the same text where the SF is in {lf_null/mine_lf.shape[0]*100: .2f}% of texts\")"
   ]
  },
  {
   "cell_type": "markdown",
   "metadata": {},
   "source": [
    "**Create dictionary with SF and LF pairs founded in the same text**"
   ]
  },
  {
   "cell_type": "code",
   "execution_count": 363,
   "metadata": {},
   "outputs": [],
   "source": [
    "df_pairs = mine_lf[(mine_lf['abrev'].notnull()) & (mine_lf['long_form'] != '')]"
   ]
  },
  {
   "cell_type": "code",
   "execution_count": 364,
   "metadata": {},
   "outputs": [
    {
     "data": {
      "text/html": [
       "<div>\n",
       "<style scoped>\n",
       "    .dataframe tbody tr th:only-of-type {\n",
       "        vertical-align: middle;\n",
       "    }\n",
       "\n",
       "    .dataframe tbody tr th {\n",
       "        vertical-align: top;\n",
       "    }\n",
       "\n",
       "    .dataframe thead th {\n",
       "        text-align: right;\n",
       "    }\n",
       "</style>\n",
       "<table border=\"1\" class=\"dataframe\">\n",
       "  <thead>\n",
       "    <tr style=\"text-align: right;\">\n",
       "      <th></th>\n",
       "      <th>level_0</th>\n",
       "      <th>index</th>\n",
       "      <th>doc_id</th>\n",
       "      <th>texto_clean</th>\n",
       "      <th>tokens</th>\n",
       "      <th>abrev</th>\n",
       "      <th>startOffset</th>\n",
       "      <th>endOffset</th>\n",
       "      <th>long_form</th>\n",
       "    </tr>\n",
       "  </thead>\n",
       "  <tbody>\n",
       "  </tbody>\n",
       "</table>\n",
       "</div>"
      ],
      "text/plain": [
       "Empty DataFrame\n",
       "Columns: [level_0, index, doc_id, texto_clean, tokens, abrev, startOffset, endOffset, long_form]\n",
       "Index: []"
      ]
     },
     "execution_count": 364,
     "metadata": {},
     "output_type": "execute_result"
    }
   ],
   "source": [
    "df_pairs.head()"
   ]
  },
  {
   "cell_type": "code",
   "execution_count": 354,
   "metadata": {},
   "outputs": [],
   "source": [
    "pairs_dic = {}\n",
    "for index, row in df_pairs.iterrows():\n",
    "    if not row['abrev'] in pairs_dic:\n",
    "        pairs_dic[row['abrev']] = set()\n",
    "    pairs_dic[row['abrev']].add(row['long_form'])"
   ]
  },
  {
   "cell_type": "code",
   "execution_count": 355,
   "metadata": {},
   "outputs": [
    {
     "data": {
      "text/plain": [
       "{'RTU': {'de', 'estudio', 'iniciándose', 'lóbulo'},\n",
       " 'cm': {'de', 'estudio', 'iniciándose', 'lóbulo'},\n",
       " 'TAC': {'de', 'estudio', 'iniciándose', 'lóbulo', 'mostraban', 'por'},\n",
       " 'HCG': {'de', 'estudio', 'iniciándose'},\n",
       " 'LDH': {'de', 'estudio', 'iniciándose', 'lóbulo', 'por'},\n",
       " 'l': {'de', 'estudio', 'iniciándose', 'lóbulo', 'por'},\n",
       " 'ng': {'de', 'estudio', 'iniciándose', 'lóbulo', 'por'},\n",
       " 'ml': {'de', 'estudio', 'iniciándose', 'lóbulo', 'mostraban', 'por'},\n",
       " 'mU': {'de'},\n",
       " 'x': {'de', 'estudio', 'iniciándose', 'lóbulo'},\n",
       " 'PAS': {'de'},\n",
       " 'PSA': {'de', 'iniciándose'},\n",
       " 'VSG': {'de', 'estudio', 'iniciándose', 'lóbulo', 'por'},\n",
       " 'LHRH': {'de'},\n",
       " 'pT3': {'iniciándose'},\n",
       " 'NoMo': {'iniciándose'},\n",
       " 'CEA': {'estudio', 'iniciándose'},\n",
       " 'ESWL': {'iniciándose'},\n",
       " 'aNo': {'iniciándose'},\n",
       " 'II': {'de', 'estudio', 'iniciándose', 'lóbulo'},\n",
       " 'IV': {'estudio', 'iniciándose', 'lóbulo', 'por'},\n",
       " 'FID': {'iniciándose'},\n",
       " 'mg': {'de', 'estudio', 'iniciándose', 'lóbulo', 'mostraban', 'por'},\n",
       " 'dl': {'de', 'estudio', 'iniciándose', 'lóbulo', 'por'},\n",
       " 'PAAF': {'estudio', 'iniciándose', 'lóbulo'},\n",
       " 'CCR': {'iniciándose'},\n",
       " 'UICC': {'iniciándose'},\n",
       " 'pT1': {'estudio', 'iniciándose'},\n",
       " 'RM': {'iniciándose', 'lóbulo'},\n",
       " 'min': {'estudio', 'iniciándose', 'lóbulo'},\n",
       " 'lt': {'iniciándose'},\n",
       " 'UIV': {'iniciándose'},\n",
       " 'YSS': {'iniciándose'},\n",
       " 'HEA': {'iniciándose'},\n",
       " 'RX': {'iniciándose', 'lóbulo'},\n",
       " 'S': {'iniciándose'},\n",
       " 'mm': {'de', 'estudio', 'iniciándose', 'lóbulo', 'por'},\n",
       " 'RMN': {'de', 'estudio', 'iniciándose', 'por'},\n",
       " 'CHOP': {'iniciándose'},\n",
       " 'IFOVM': {'iniciándose'},\n",
       " 'DHAP': {'iniciándose'},\n",
       " 'TC': {'de', 'estudio', 'iniciándose', 'lóbulo', 'por'},\n",
       " 'betaHCG': {'estudio', 'iniciándose'},\n",
       " 'alfaFP': {'iniciándose'},\n",
       " 'g': {'de', 'estudio', 'iniciándose', 'lóbulo'},\n",
       " 'FTP': {'iniciándose'},\n",
       " 'm': {'estudio', 'iniciándose', 'lóbulo'},\n",
       " 'mUI': {'estudio', 'iniciándose'},\n",
       " 'mL': {'iniciándose'},\n",
       " 'BEP': {'iniciándose'},\n",
       " 'AINES': {'iniciándose', 'lóbulo'},\n",
       " 'DM': {'iniciándose', 'lóbulo'},\n",
       " 'HTA': {'estudio', 'iniciándose', 'lóbulo'},\n",
       " 'ITU': {'iniciándose'},\n",
       " 'H': {'iniciándose'},\n",
       " 'POSITIVO': {'iniciándose'},\n",
       " 'LPS': {'iniciándose'},\n",
       " 'ECO': {'iniciándose'},\n",
       " 'mEq': {'iniciándose', 'lóbulo', 'por'},\n",
       " 'mmHg': {'de', 'estudio', 'iniciándose', 'lóbulo', 'mostraban', 'por'},\n",
       " 'ACL': {'iniciándose'},\n",
       " 'CD': {'estudio', 'iniciándose'},\n",
       " 'TdT': {'iniciándose'},\n",
       " 'ALK': {'iniciándose'},\n",
       " 'RNM': {'estudio', 'iniciándose'},\n",
       " 'VII': {'iniciándose', 'lóbulo'},\n",
       " 'LH': {'estudio', 'iniciándose'},\n",
       " 'RH': {'iniciándose'},\n",
       " 'va': {'iniciándose'},\n",
       " 'seg': {'iniciándose'},\n",
       " 'u': {'estudio', 'iniciándose'},\n",
       " 'pCO2': {'iniciándose', 'lóbulo'},\n",
       " 'HCO': {'iniciándose', 'lóbulo'},\n",
       " 'L': {'estudio', 'iniciándose', 'lóbulo'},\n",
       " 'HLA': {'estudio', 'iniciándose', 'por'},\n",
       " 'TBC': {'iniciándose'},\n",
       " 'cigarrillos': {'estudio', 'iniciándose', 'lóbulo'},\n",
       " 'd': {'de', 'estudio', 'iniciándose', 'lóbulo', 'por'},\n",
       " 'millones': {'estudio', 'iniciándose'},\n",
       " 'gr': {'iniciándose', 'por'},\n",
       " 'miles': {'iniciándose'},\n",
       " 'pH': {'estudio', 'iniciándose', 'lóbulo'},\n",
       " 'microl': {'iniciándose'},\n",
       " 'campo': {'estudio', 'iniciándose'},\n",
       " 'AP': {'estudio', 'iniciándose'},\n",
       " 'kg': {'de', 'estudio', 'iniciándose', 'lóbulo', 'mostraban', 'por'},\n",
       " 'BAAR': {'iniciándose'},\n",
       " 'pTa': {'estudio'},\n",
       " 'es': {'estudio'},\n",
       " 'leucocitos': {'estudio'},\n",
       " 'AFP': {'estudio'},\n",
       " 'PQ': {'estudio'},\n",
       " 'da': {'estudio'},\n",
       " 'HIV': {'estudio'},\n",
       " 'pTis': {'estudio'},\n",
       " 'in': {'estudio'},\n",
       " 'BCG': {'estudio', 'lóbulo'},\n",
       " 'III': {'estudio', 'lóbulo'},\n",
       " 'TP': {'estudio'},\n",
       " 'TTP': {'estudio'},\n",
       " 'FSH': {'estudio'},\n",
       " 'pg': {'de', 'estudio', 'lóbulo'},\n",
       " 'cc': {'estudio', 'lóbulo'},\n",
       " 'XY': {'estudio'},\n",
       " 'STS': {'estudio'},\n",
       " 'ZFY': {'estudio'},\n",
       " 'SRY': {'estudio'},\n",
       " 'sY84': {'estudio'},\n",
       " 'AZF': {'estudio'},\n",
       " 'sY254': {'estudio'},\n",
       " 'sY127': {'estudio'},\n",
       " 'sY86': {'estudio'},\n",
       " 'sY134': {'estudio'},\n",
       " 'sY255': {'estudio'},\n",
       " 'pT2': {'estudio'},\n",
       " 'AUC': {'estudio'},\n",
       " 'microgramos': {'estudio'},\n",
       " 'PCR': {'de', 'estudio', 'lóbulo'},\n",
       " 'FR': {'estudio'},\n",
       " 'HC': {'estudio'},\n",
       " 'AE': {'estudio'},\n",
       " 'CK': {'estudio'},\n",
       " 'TTF': {'estudio'},\n",
       " 'PET': {'estudio', 'lóbulo'},\n",
       " 'arboplatinoG': {'estudio'},\n",
       " 'hCG': {'estudio'},\n",
       " 'VPP': {'estudio'},\n",
       " 'OI': {'estudio', 'por'},\n",
       " 'ristolM': {'estudio'},\n",
       " 'SL': {'estudio'},\n",
       " 'AV': {'estudio', 'por'},\n",
       " 'h': {'estudio', 'por'},\n",
       " 'GCCA': {'estudio'},\n",
       " 'dYAG': {'estudio'},\n",
       " 'PIO': {'estudio', 'por'},\n",
       " 'lconC': {'estudio'},\n",
       " 'SA': {'estudio'},\n",
       " 'ONCE': {'estudio'},\n",
       " 'OD': {'estudio', 'por'},\n",
       " 'NO': {'estudio', 'por'},\n",
       " 'GFAP': {'estudio'},\n",
       " 'TCE': {'estudio'},\n",
       " 'DPAR': {'estudio'},\n",
       " 'CO': {'estudio'},\n",
       " 'NOT': {'estudio'},\n",
       " 'AO': {'estudio', 'por'},\n",
       " 'AOC': {'estudio'},\n",
       " 'DG': {'estudio'},\n",
       " 'rbscanII': {'estudio'},\n",
       " 'YAG': {'estudio', 'por'},\n",
       " 'OCT': {'estudio', 'por'},\n",
       " 'TORCH': {'estudio'},\n",
       " 'IgG': {'estudio'},\n",
       " 'UI': {'de', 'estudio', 'por'},\n",
       " 'EIA': {'estudio'},\n",
       " 'IgM': {'estudio'},\n",
       " 'RPR': {'estudio'},\n",
       " 'calcio': {'estudio'},\n",
       " 'creatinina': {'estudio'},\n",
       " 'ANA': {'estudio'},\n",
       " 'ANCA': {'estudio'},\n",
       " 'ac': {'estudio'},\n",
       " 'CMV': {'estudio', 'lóbulo'},\n",
       " 'VEB': {'estudio', 'lóbulo'},\n",
       " 'VIH': {'estudio', 'lóbulo'},\n",
       " 'ELISA': {'estudio'},\n",
       " 'TFD': {'estudio'},\n",
       " 'AGF': {'estudio', 'por'},\n",
       " 'AVI': {'estudio', 'por'},\n",
       " 'DFVA': {'estudio'},\n",
       " 'rtPA': {'estudio'},\n",
       " 'SF': {'estudio'},\n",
       " 'IL': {'estudio'},\n",
       " 'ECS': {'estudio'},\n",
       " 'MA': {'estudio'},\n",
       " 'EPPMA': {'por'},\n",
       " 'ICG': {'por'},\n",
       " 'ngioRMN': {'por'},\n",
       " 'DR': {'por'},\n",
       " 'VI': {'por'},\n",
       " 'essL': {'por'},\n",
       " 'AT': {'por'},\n",
       " 'ectasia': {'por'},\n",
       " 'engrosamiento': {'por'},\n",
       " 'BMU': {'por'},\n",
       " 'mW': {'por'},\n",
       " 'AVSC': {'por'},\n",
       " 'DP': {'por'},\n",
       " 'DRNS': {'por'},\n",
       " 'EPR': {'por'},\n",
       " 'AR': {'por'},\n",
       " 'antiCCP': {'por'},\n",
       " 'semana': {'por'},\n",
       " 'QUP': {'por'},\n",
       " 'FO': {'por'},\n",
       " 'MSD': {'por'},\n",
       " 'hiesiE': {'por'},\n",
       " 'y': {'por'},\n",
       " 'o': {'por'},\n",
       " 'HVS': {'por'},\n",
       " 'MAVC': {'por'},\n",
       " 'BMC': {'por'},\n",
       " 'EA': {'por'},\n",
       " 'NVC': {'por'},\n",
       " 'FA': {'lóbulo', 'por'},\n",
       " 'hiperFA': {'por'},\n",
       " 'hipoFA': {'por'},\n",
       " 'AFG': {'por'},\n",
       " 'PXE': {'por'},\n",
       " 'n': {'por'},\n",
       " 'disco': {'por'},\n",
       " 'alcohol': {'por'},\n",
       " 'CPK': {'lóbulo', 'por'},\n",
       " 'GPT': {'por'},\n",
       " 'GOT': {'por'},\n",
       " 'MID': {'por'},\n",
       " 'UCI': {'de', 'estudio', 'por'},\n",
       " 'FFAA': {'estudio'},\n",
       " 'GT': {'estudio'},\n",
       " 'aFP': {'estudio'},\n",
       " 'CA': {'estudio', 'mostraban'},\n",
       " 'STH': {'estudio'},\n",
       " 'GGT': {'estudio'},\n",
       " 'ALT': {'estudio', 'lóbulo'},\n",
       " 'AST': {'estudio', 'lóbulo'},\n",
       " 'MTS': {'estudio'},\n",
       " 'SNC': {'estudio'},\n",
       " 'stlerC': {'estudio'},\n",
       " 'EPOC': {'estudio'},\n",
       " 'CDDP': {'estudio'},\n",
       " 'BP': {'estudio'},\n",
       " 'lat': {'estudio'},\n",
       " 'VHC': {'estudio', 'lóbulo'},\n",
       " 'ngioTC': {'estudio'},\n",
       " 'IRC': {'estudio'},\n",
       " 'NE': {'estudio'},\n",
       " 'TG': {'estudio'},\n",
       " 'PMN': {'estudio'},\n",
       " 'FL': {'estudio'},\n",
       " 'NPT': {'de', 'estudio'},\n",
       " 'BQ': {'estudio'},\n",
       " 'AGCM': {'estudio'},\n",
       " 'LOE': {'estudio'},\n",
       " 'meroD': {'estudio'},\n",
       " 'IAM': {'estudio', 'lóbulo'},\n",
       " 'QM': {'estudio'},\n",
       " 'FOLFOX': {'estudio'},\n",
       " 'RF': {'estudio'},\n",
       " 'TSH': {'estudio'},\n",
       " 'CRE': {'de'},\n",
       " 'EE': {'de'},\n",
       " 'UU': {'de'},\n",
       " 'DMNID': {'de'},\n",
       " 'IHQ': {'de'},\n",
       " 'GANT': {'de'},\n",
       " 'CT': {'de'},\n",
       " 'TPMT': {'de'},\n",
       " 'TA': {'de', 'lóbulo'},\n",
       " 'mmol': {'de', 'lóbulo'},\n",
       " 'PCT': {'de'},\n",
       " 'ECE': {'lóbulo'},\n",
       " 'INR': {'lóbulo'},\n",
       " 'JAK': {'lóbulo'},\n",
       " 'HBPM': {'lóbulo'},\n",
       " 'ngioTAC': {'lóbulo'},\n",
       " 'HIT': {'lóbulo'},\n",
       " 'ID': {'lóbulo'},\n",
       " 'PaGIA': {'lóbulo'},\n",
       " 'PF': {'lóbulo'},\n",
       " 'heparin': {'lóbulo'},\n",
       " 'AVK': {'lóbulo'},\n",
       " 'FC': {'lóbulo'},\n",
       " 'UH': {'lóbulo'},\n",
       " 'STIR': {'lóbulo'},\n",
       " 'HQR': {'lóbulo'},\n",
       " 'BAV': {'lóbulo'},\n",
       " 'VMNI': {'lóbulo'},\n",
       " 'ECG': {'lóbulo'},\n",
       " 'FEV': {'lóbulo'},\n",
       " 'FVC': {'lóbulo'},\n",
       " 'PO': {'lóbulo'},\n",
       " 'PCO': {'lóbulo'},\n",
       " 'TTPA': {'lóbulo'},\n",
       " 'CPAP': {'lóbulo'},\n",
       " 'cmH2': {'lóbulo'},\n",
       " 'TAP': {'lóbulo'},\n",
       " 'TSOH': {'lóbulo'},\n",
       " 'VCM': {'lóbulo'},\n",
       " 'GIST': {'lóbulo'},\n",
       " 'TAS': {'lóbulo', 'mostraban'},\n",
       " 'VHA': {'lóbulo'},\n",
       " 'VHB': {'lóbulo'},\n",
       " 'AEO': {'lóbulo'},\n",
       " 'EBHGA': {'lóbulo'},\n",
       " 'EFK': {'lóbulo'},\n",
       " 'EMG': {'lóbulo'},\n",
       " 'SCN': {'lóbulo'},\n",
       " 'OMIM': {'lóbulo'},\n",
       " 'KIT': {'lóbulo'},\n",
       " 'psteinB': {'lóbulo'},\n",
       " 'hora': {'lóbulo'},\n",
       " 'IGRA': {'lóbulo'},\n",
       " 'antiFERON': {'lóbulo'},\n",
       " 'ITI': {'lóbulo'},\n",
       " 'SLA': {'lóbulo'},\n",
       " 'alderburgS': {'lóbulo'},\n",
       " 'NJ': {'lóbulo'},\n",
       " 'si': {'lóbulo'},\n",
       " 'etanol': {'lóbulo'},\n",
       " 'MDP': {'lóbulo'},\n",
       " 'PLGA': {'lóbulo'},\n",
       " 'CM': {'lóbulo'},\n",
       " 'IIIC': {'mostraban'},\n",
       " 'TAD': {'mostraban'}}"
      ]
     },
     "execution_count": 355,
     "metadata": {},
     "output_type": "execute_result"
    }
   ],
   "source": [
    "pairs_dic"
   ]
  },
  {
   "cell_type": "code",
   "execution_count": 420,
   "metadata": {},
   "outputs": [
    {
     "data": {
      "text/plain": [
       "275"
      ]
     },
     "execution_count": 420,
     "metadata": {},
     "output_type": "execute_result"
    }
   ],
   "source": [
    "len(pairs_dic.keys())"
   ]
  },
  {
   "cell_type": "markdown",
   "metadata": {},
   "source": [
    "## Using N-grams"
   ]
  },
  {
   "cell_type": "code",
   "execution_count": 326,
   "metadata": {},
   "outputs": [],
   "source": [
    "for i in punctuation:\n",
    "    mine['texto_clean'] = mine['texto_clean'].map(lambda x: x.replace(i,\"\"))"
   ]
  },
  {
   "cell_type": "code",
   "execution_count": 328,
   "metadata": {},
   "outputs": [],
   "source": [
    "a = mine.head(10)"
   ]
  },
  {
   "cell_type": "code",
   "execution_count": 335,
   "metadata": {},
   "outputs": [
    {
     "data": {
      "text/plain": [
       "[('mediante', 'punciónaspiración', 'aguja', 'fina', 'PAAF'),\n",
       " ('punciónaspiración', 'aguja', 'fina', 'PAAF', 'confirmó'),\n",
       " ('aguja', 'fina', 'PAAF', 'confirmó', 'sospechas'),\n",
       " ('fina', 'PAAF', 'confirmó', 'sospechas', 'iniciales'),\n",
       " ('PAAF', 'confirmó', 'sospechas', 'iniciales', 'lipoma')]"
      ]
     },
     "execution_count": 335,
     "metadata": {},
     "output_type": "execute_result"
    }
   ],
   "source": [
    "a.apply(lambda row: ngram_filter(row['texto_clean'], row['abrev'], len(row['abrev'])+1), axis = 1)[2]"
   ]
  },
  {
   "cell_type": "code",
   "execution_count": 333,
   "metadata": {},
   "outputs": [],
   "source": [
    "mine['lf_ngrams'] = mine.apply(lambda row: ngram_filter(row['texto_clean'], row['abrev'], len(row['abrev'])+1), axis = 1)"
   ]
  },
  {
   "cell_type": "code",
   "execution_count": 334,
   "metadata": {},
   "outputs": [
    {
     "data": {
      "text/html": [
       "<div>\n",
       "<style scoped>\n",
       "    .dataframe tbody tr th:only-of-type {\n",
       "        vertical-align: middle;\n",
       "    }\n",
       "\n",
       "    .dataframe tbody tr th {\n",
       "        vertical-align: top;\n",
       "    }\n",
       "\n",
       "    .dataframe thead th {\n",
       "        text-align: right;\n",
       "    }\n",
       "</style>\n",
       "<table border=\"1\" class=\"dataframe\">\n",
       "  <thead>\n",
       "    <tr style=\"text-align: right;\">\n",
       "      <th></th>\n",
       "      <th>doc_id</th>\n",
       "      <th>texto_clean</th>\n",
       "      <th>abrev</th>\n",
       "      <th>startOffset</th>\n",
       "      <th>endOffset</th>\n",
       "      <th>long_form</th>\n",
       "      <th>lf_ngrams</th>\n",
       "    </tr>\n",
       "  </thead>\n",
       "  <tbody>\n",
       "    <tr>\n",
       "      <th>0</th>\n",
       "      <td>S1130-05582012000300005-1</td>\n",
       "      <td>Acude consultas paciente presenta tumoración c...</td>\n",
       "      <td>RM</td>\n",
       "      <td>789</td>\n",
       "      <td>791</td>\n",
       "      <td>resonancia magnética</td>\n",
       "      <td>[(resonancia, magnética, RM), (magnética, RM, ...</td>\n",
       "    </tr>\n",
       "    <tr>\n",
       "      <th>1</th>\n",
       "      <td>S1130-05582012000300005-1</td>\n",
       "      <td>Acude consultas paciente presenta tumoración c...</td>\n",
       "      <td>RM</td>\n",
       "      <td>1006</td>\n",
       "      <td>1010</td>\n",
       "      <td>resonancia magnética</td>\n",
       "      <td>[(resonancia, magnética, RM), (magnética, RM, ...</td>\n",
       "    </tr>\n",
       "    <tr>\n",
       "      <th>2</th>\n",
       "      <td>S1130-05582012000300005-1</td>\n",
       "      <td>Acude consultas paciente presenta tumoración c...</td>\n",
       "      <td>PAAF</td>\n",
       "      <td>789</td>\n",
       "      <td>791</td>\n",
       "      <td>punción-aspiración aguja fina</td>\n",
       "      <td>[(mediante, punciónaspiración, aguja, fina, PA...</td>\n",
       "    </tr>\n",
       "    <tr>\n",
       "      <th>3</th>\n",
       "      <td>S1130-05582012000300005-1</td>\n",
       "      <td>Acude consultas paciente presenta tumoración c...</td>\n",
       "      <td>PAAF</td>\n",
       "      <td>1006</td>\n",
       "      <td>1010</td>\n",
       "      <td>punción-aspiración aguja fina</td>\n",
       "      <td>[(mediante, punciónaspiración, aguja, fina, PA...</td>\n",
       "    </tr>\n",
       "    <tr>\n",
       "      <th>4</th>\n",
       "      <td>S0212-71992005000400009-1</td>\n",
       "      <td>Se trataba varón 27 años edad  sufrido neumoní...</td>\n",
       "      <td>mm</td>\n",
       "      <td>1056</td>\n",
       "      <td>1059</td>\n",
       "      <td>milimetro</td>\n",
       "      <td>[(leucocitosis, 12000, mm), (12000, mm, cúbico...</td>\n",
       "    </tr>\n",
       "  </tbody>\n",
       "</table>\n",
       "</div>"
      ],
      "text/plain": [
       "                      doc_id  \\\n",
       "0  S1130-05582012000300005-1   \n",
       "1  S1130-05582012000300005-1   \n",
       "2  S1130-05582012000300005-1   \n",
       "3  S1130-05582012000300005-1   \n",
       "4  S0212-71992005000400009-1   \n",
       "\n",
       "                                         texto_clean abrev  startOffset  \\\n",
       "0  Acude consultas paciente presenta tumoración c...    RM          789   \n",
       "1  Acude consultas paciente presenta tumoración c...    RM         1006   \n",
       "2  Acude consultas paciente presenta tumoración c...  PAAF          789   \n",
       "3  Acude consultas paciente presenta tumoración c...  PAAF         1006   \n",
       "4  Se trataba varón 27 años edad  sufrido neumoní...    mm         1056   \n",
       "\n",
       "   endOffset                       long_form  \\\n",
       "0        791           resonancia magnética    \n",
       "1       1010           resonancia magnética    \n",
       "2        791  punción-aspiración aguja fina    \n",
       "3       1010  punción-aspiración aguja fina    \n",
       "4       1059                       milimetro   \n",
       "\n",
       "                                           lf_ngrams  \n",
       "0  [(resonancia, magnética, RM), (magnética, RM, ...  \n",
       "1  [(resonancia, magnética, RM), (magnética, RM, ...  \n",
       "2  [(mediante, punciónaspiración, aguja, fina, PA...  \n",
       "3  [(mediante, punciónaspiración, aguja, fina, PA...  \n",
       "4  [(leucocitosis, 12000, mm), (12000, mm, cúbico...  "
      ]
     },
     "execution_count": 334,
     "metadata": {},
     "output_type": "execute_result"
    }
   ],
   "source": [
    "mine.head()"
   ]
  },
  {
   "cell_type": "code",
   "execution_count": 306,
   "metadata": {},
   "outputs": [
    {
     "name": "stdout",
     "output_type": "stream",
     "text": [
      "('this', 'is') Counter({'this': 1, 'is': 1}) [('this', 1), ('is', 1)]\n",
      "('is', 'a') Counter({'is': 1, 'a': 1}) [('is', 1), ('a', 1)]\n",
      "('a', 'foo') Counter({'a': 1, 'foo': 1}) [('a', 1), ('foo', 1)]\n",
      "('foo', 'bar') Counter({'foo': 1, 'bar': 1}) [('foo', 1), ('bar', 1)]\n",
      "('bar', 'sentences') Counter({'bar': 1, 'sentences': 1}) [('bar', 1), ('sentences', 1)]\n",
      "('sentences', 'and') Counter({'sentences': 1, 'and': 1}) [('sentences', 1), ('and', 1)]\n",
      "('and', 'i') Counter({'and': 1, 'i': 1}) [('and', 1), ('i', 1)]\n",
      "('i', 'want') Counter({'i': 1, 'want': 1}) [('i', 1), ('want', 1)]\n",
      "('want', 'to') Counter({'want': 1, 'to': 1}) [('want', 1), ('to', 1)]\n",
      "('to', 'ngramize') Counter({'to': 1, 'ngramize': 1}) [('to', 1), ('ngramize', 1)]\n",
      "('ngramize', 'it') Counter({'ngramize': 1, 'it': 1}) [('ngramize', 1), ('it', 1)]\n",
      "('it', 'this') Counter({'it': 1, 'this': 1}) [('it', 1), ('this', 1)]\n",
      "('this', 'is') Counter({'this': 1, 'is': 1}) [('this', 1), ('is', 1)]\n",
      "('is', 'it') Counter({'is': 1, 'it': 1}) [('is', 1), ('it', 1)]\n",
      "('it', 'and') Counter({'it': 1, 'and': 1}) [('it', 1), ('and', 1)]\n"
     ]
    }
   ],
   "source": [
    "from nltk import ngrams\n",
    "\n",
    "sentence = 'this is a foo bar sentences and i want to ngramize it this is it and'\n",
    "\n",
    "n = 6\n",
    "sixgrams = ngrams(sentence.split(), 2)\n",
    "\n",
    "for grams in sixgrams:\n",
    "    esBigramFreq = collections.Counter(grams)\n",
    "    print(grams,esBigramFreq , esBigramFreq.most_common(10))"
   ]
  },
  {
   "cell_type": "markdown",
   "metadata": {},
   "source": [
    "**Get context vectors**"
   ]
  },
  {
   "cell_type": "markdown",
   "metadata": {},
   "source": [
    "1. Bag of words model"
   ]
  },
  {
   "cell_type": "code",
   "execution_count": 344,
   "metadata": {},
   "outputs": [],
   "source": [
    "count_vect = CountVectorizer()"
   ]
  },
  {
   "cell_type": "code",
   "execution_count": 347,
   "metadata": {},
   "outputs": [],
   "source": [
    "text_counts = count_vect.fit_transform(mine['texto_clean'])"
   ]
  },
  {
   "cell_type": "code",
   "execution_count": 348,
   "metadata": {},
   "outputs": [
    {
     "data": {
      "text/plain": [
       "(27480, 12829)"
      ]
     },
     "execution_count": 348,
     "metadata": {},
     "output_type": "execute_result"
    }
   ],
   "source": [
    "text_counts.shape"
   ]
  },
  {
   "cell_type": "code",
   "execution_count": 349,
   "metadata": {},
   "outputs": [
    {
     "data": {
      "text/plain": [
       "(27480, 12829)"
      ]
     },
     "execution_count": 349,
     "metadata": {},
     "output_type": "execute_result"
    }
   ],
   "source": [
    "tfidf_transformer = TfidfTransformer()\n",
    "texto_tfidf = tfidf_transformer.fit_transform(text_counts)\n",
    "texto_tfidf.shape"
   ]
  },
  {
   "cell_type": "code",
   "execution_count": null,
   "metadata": {},
   "outputs": [],
   "source": []
  },
  {
   "cell_type": "code",
   "execution_count": null,
   "metadata": {},
   "outputs": [],
   "source": []
  },
  {
   "cell_type": "code",
   "execution_count": null,
   "metadata": {},
   "outputs": [],
   "source": []
  },
  {
   "cell_type": "code",
   "execution_count": null,
   "metadata": {},
   "outputs": [],
   "source": []
  },
  {
   "cell_type": "code",
   "execution_count": 362,
   "metadata": {},
   "outputs": [
    {
     "name": "stdout",
     "output_type": "stream",
     "text": [
      "[[3, 1, 4, 5, 2, 6, 1, 2, 7]] {'likes': 1, 'movies': 2, 'john': 3, 'to': 4, 'watch': 5, 'mary': 6, 'too': 7}\n",
      "{'likes': 2, 'movies': 2, 'john': 1, 'to': 1, 'watch': 1, 'mary': 1, 'too': 1}\n",
      "Bag of word sentence 1 :\n",
      "{'likes': 2, 'movies': 2, 'john': 1, 'to': 1, 'watch': 1, 'mary': 1, 'too': 1}\n",
      "We found 7 unique tokens.\n"
     ]
    }
   ],
   "source": [
    "from keras.preprocessing.text import Tokenizer\n",
    "\n",
    "sentence = [\"John likes to watch movies. Mary likes movies too.\"]\n",
    "\n",
    "def print_bow(sentence: str) -> None:\n",
    "    tokenizer = Tokenizer()\n",
    "    tokenizer.fit_on_texts(sentence)\n",
    "    sequences = tokenizer.texts_to_sequences(sentence)\n",
    "    word_index = tokenizer.word_index\n",
    "    print(sequences,word_index)\n",
    "    bow = {}\n",
    "    for key in word_index:\n",
    "        bow[key] = sequences[0].count(word_index[key])\n",
    "    print(bow)\n",
    "    print(f\"Bag of word sentence 1 :\\n{bow}\")\n",
    "    print(f'We found {len(word_index)} unique tokens.')\n",
    "\n",
    "print_bow(sentence)"
   ]
  }
 ],
 "metadata": {
  "kernelspec": {
   "display_name": "Python 3",
   "language": "python",
   "name": "python3"
  },
  "language_info": {
   "codemirror_mode": {
    "name": "ipython",
    "version": 3
   },
   "file_extension": ".py",
   "mimetype": "text/x-python",
   "name": "python",
   "nbconvert_exporter": "python",
   "pygments_lexer": "ipython3",
   "version": "3.7.6"
  }
 },
 "nbformat": 4,
 "nbformat_minor": 2
}
