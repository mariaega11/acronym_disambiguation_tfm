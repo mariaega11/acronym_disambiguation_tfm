{
 "cells": [
  {
   "cell_type": "code",
   "execution_count": 1,
   "id": "28e9f657-9f26-4308-9edf-f825a89d2d49",
   "metadata": {},
   "outputs": [],
   "source": [
    "import pandas as pd\n",
    "import numpy as np\n",
    "import os\n",
    "import re\n",
    "import collections\n",
    "import unidecode\n",
    "import nltk\n",
    "from nltk.corpus import stopwords\n",
    "import itertools \n",
    "from nltk.tokenize import word_tokenize\n",
    "from string import punctuation"
   ]
  },
  {
   "cell_type": "code",
   "execution_count": 2,
   "id": "be1e4562-dee3-4bfa-9ede-34f9bf7c07ed",
   "metadata": {},
   "outputs": [],
   "source": [
    "pd.set_option('display.max_colwidth', 1200)"
   ]
  },
  {
   "cell_type": "code",
   "execution_count": 3,
   "id": "918cefa9-3700-4fd3-b35c-21447680e3f0",
   "metadata": {},
   "outputs": [],
   "source": [
    "%matplotlib inline\n",
    "from matplotlib import pyplot as plt"
   ]
  },
  {
   "cell_type": "markdown",
   "id": "3f4a358a-41fd-45b8-b42b-97ef3d3df215",
   "metadata": {},
   "source": [
    "## Study data train"
   ]
  },
  {
   "cell_type": "code",
   "execution_count": 6,
   "id": "e30db55f-19ec-443d-aa8e-c66bc4d49234",
   "metadata": {},
   "outputs": [],
   "source": [
    "df_pred = pd.read_csv(\"data/df_train_10_pred.csv\")"
   ]
  },
  {
   "cell_type": "code",
   "execution_count": 7,
   "id": "f71c7e44-5475-45a2-a85f-8a6a9218d0e9",
   "metadata": {},
   "outputs": [
    {
     "data": {
      "text/html": [
       "<div>\n",
       "<style scoped>\n",
       "    .dataframe tbody tr th:only-of-type {\n",
       "        vertical-align: middle;\n",
       "    }\n",
       "\n",
       "    .dataframe tbody tr th {\n",
       "        vertical-align: top;\n",
       "    }\n",
       "\n",
       "    .dataframe thead th {\n",
       "        text-align: right;\n",
       "    }\n",
       "</style>\n",
       "<table border=\"1\" class=\"dataframe\">\n",
       "  <thead>\n",
       "    <tr style=\"text-align: right;\">\n",
       "      <th></th>\n",
       "      <th>Unnamed: 0</th>\n",
       "      <th>short_form</th>\n",
       "      <th>context</th>\n",
       "      <th>long_form</th>\n",
       "      <th>label</th>\n",
       "      <th>sentences</th>\n",
       "      <th>Prediction_train1</th>\n",
       "      <th>Prediction_train2</th>\n",
       "      <th>Prediction_train3</th>\n",
       "    </tr>\n",
       "  </thead>\n",
       "  <tbody>\n",
       "    <tr>\n",
       "      <th>0</th>\n",
       "      <td>0</td>\n",
       "      <td>dl</td>\n",
       "      <td>del líquido una glucorraquia normal , proteinorraquia de 102 mg/ &lt; start &gt; dl &lt; end &gt; 960 células/mm3 un 90 % de las cuales se correspondían</td>\n",
       "      <td>decilitro</td>\n",
       "      <td>1</td>\n",
       "      <td>[CLS] decilitro [SEP] del líquido una glucorraquia normal , proteinorraquia de 102 mg/ &lt; start &gt; dl &lt; end &gt; 960 células/mm3 un 90 % de las cuales se correspondían [SEP]</td>\n",
       "      <td>1.0</td>\n",
       "      <td>0.0</td>\n",
       "      <td>0.0</td>\n",
       "    </tr>\n",
       "    <tr>\n",
       "      <th>1</th>\n",
       "      <td>1</td>\n",
       "      <td>dl</td>\n",
       "      <td>que eran de 5,8 g/dl con albúmina de 1.400 mg/ &lt; start &gt; dl &lt; end &gt; El elemental de orina y sedimento eran normales , así</td>\n",
       "      <td>decilitro</td>\n",
       "      <td>1</td>\n",
       "      <td>[CLS] decilitro [SEP] que eran de 5,8 g/dl con albúmina de 1.400 mg/ &lt; start &gt; dl &lt; end &gt; El elemental de orina y sedimento eran normales , así [SEP]</td>\n",
       "      <td>1.0</td>\n",
       "      <td>0.0</td>\n",
       "      <td>0.0</td>\n",
       "    </tr>\n",
       "    <tr>\n",
       "      <th>2</th>\n",
       "      <td>2</td>\n",
       "      <td>dl</td>\n",
       "      <td>67 y las proteínas totales que eran de 5,8 g/ &lt; start &gt; dl &lt; end &gt; con albúmina de 1.400 mg/dl . El elemental de orina</td>\n",
       "      <td>decilitro</td>\n",
       "      <td>1</td>\n",
       "      <td>[CLS] decilitro [SEP] 67 y las proteínas totales que eran de 5,8 g/ &lt; start &gt; dl &lt; end &gt; con albúmina de 1.400 mg/dl . El elemental de orina [SEP]</td>\n",
       "      <td>1.0</td>\n",
       "      <td>0.0</td>\n",
       "      <td>0.0</td>\n",
       "    </tr>\n",
       "    <tr>\n",
       "      <th>3</th>\n",
       "      <td>3</td>\n",
       "      <td>dl</td>\n",
       "      <td>las pruebas realizadas destacaba una anemia normocítica ( 9,9 g/ &lt; start &gt; dl &lt; end &gt; de Hb ) , leucocitos 6.700 con 84 % de</td>\n",
       "      <td>decilitro</td>\n",
       "      <td>1</td>\n",
       "      <td>[CLS] decilitro [SEP] las pruebas realizadas destacaba una anemia normocítica ( 9,9 g/ &lt; start &gt; dl &lt; end &gt; de Hb ) , leucocitos 6.700 con 84 % de [SEP]</td>\n",
       "      <td>0.0</td>\n",
       "      <td>0.0</td>\n",
       "      <td>0.0</td>\n",
       "    </tr>\n",
       "    <tr>\n",
       "      <th>4</th>\n",
       "      <td>4</td>\n",
       "      <td>g</td>\n",
       "      <td>gamma-GT 67 y las proteínas totales que eran de 5,8 &lt; start &gt; g &lt; end &gt; dl con albúmina de 1.400 mg/dl . El elemental de</td>\n",
       "      <td>gramo</td>\n",
       "      <td>1</td>\n",
       "      <td>[CLS] gramo [SEP] gamma-GT 67 y las proteínas totales que eran de 5,8 &lt; start &gt; g &lt; end &gt; dl con albúmina de 1.400 mg/dl . El elemental de [SEP]</td>\n",
       "      <td>1.0</td>\n",
       "      <td>0.0</td>\n",
       "      <td>0.0</td>\n",
       "    </tr>\n",
       "  </tbody>\n",
       "</table>\n",
       "</div>"
      ],
      "text/plain": [
       "   Unnamed: 0 short_form  \\\n",
       "0           0         dl   \n",
       "1           1         dl   \n",
       "2           2         dl   \n",
       "3           3         dl   \n",
       "4           4          g   \n",
       "\n",
       "                                                                                                                                        context  \\\n",
       "0  del líquido una glucorraquia normal , proteinorraquia de 102 mg/ < start > dl < end > 960 células/mm3 un 90 % de las cuales se correspondían   \n",
       "1                     que eran de 5,8 g/dl con albúmina de 1.400 mg/ < start > dl < end > El elemental de orina y sedimento eran normales , así   \n",
       "2                        67 y las proteínas totales que eran de 5,8 g/ < start > dl < end > con albúmina de 1.400 mg/dl . El elemental de orina   \n",
       "3                  las pruebas realizadas destacaba una anemia normocítica ( 9,9 g/ < start > dl < end > de Hb ) , leucocitos 6.700 con 84 % de   \n",
       "4                      gamma-GT 67 y las proteínas totales que eran de 5,8 < start > g < end > dl con albúmina de 1.400 mg/dl . El elemental de   \n",
       "\n",
       "   long_form  label  \\\n",
       "0  decilitro      1   \n",
       "1  decilitro      1   \n",
       "2  decilitro      1   \n",
       "3  decilitro      1   \n",
       "4      gramo      1   \n",
       "\n",
       "                                                                                                                                                                  sentences  \\\n",
       "0  [CLS] decilitro [SEP] del líquido una glucorraquia normal , proteinorraquia de 102 mg/ < start > dl < end > 960 células/mm3 un 90 % de las cuales se correspondían [SEP]   \n",
       "1                     [CLS] decilitro [SEP] que eran de 5,8 g/dl con albúmina de 1.400 mg/ < start > dl < end > El elemental de orina y sedimento eran normales , así [SEP]   \n",
       "2                        [CLS] decilitro [SEP] 67 y las proteínas totales que eran de 5,8 g/ < start > dl < end > con albúmina de 1.400 mg/dl . El elemental de orina [SEP]   \n",
       "3                  [CLS] decilitro [SEP] las pruebas realizadas destacaba una anemia normocítica ( 9,9 g/ < start > dl < end > de Hb ) , leucocitos 6.700 con 84 % de [SEP]   \n",
       "4                          [CLS] gramo [SEP] gamma-GT 67 y las proteínas totales que eran de 5,8 < start > g < end > dl con albúmina de 1.400 mg/dl . El elemental de [SEP]   \n",
       "\n",
       "   Prediction_train1  Prediction_train2  Prediction_train3  \n",
       "0                1.0                0.0                0.0  \n",
       "1                1.0                0.0                0.0  \n",
       "2                1.0                0.0                0.0  \n",
       "3                0.0                0.0                0.0  \n",
       "4                1.0                0.0                0.0  "
      ]
     },
     "execution_count": 7,
     "metadata": {},
     "output_type": "execute_result"
    }
   ],
   "source": [
    "df_pred.head()"
   ]
  },
  {
   "cell_type": "code",
   "execution_count": 8,
   "id": "b34aba4d-27f6-4fd2-8387-ab78317615ae",
   "metadata": {},
   "outputs": [
    {
     "data": {
      "text/plain": [
       "(6360, 9)"
      ]
     },
     "execution_count": 8,
     "metadata": {},
     "output_type": "execute_result"
    }
   ],
   "source": [
    "df_pred.shape"
   ]
  },
  {
   "cell_type": "markdown",
   "id": "7d609abc-6644-4507-9884-f4376ad6530b",
   "metadata": {},
   "source": [
    "Veamos cuantos acrónimos son ambiguos"
   ]
  },
  {
   "cell_type": "code",
   "execution_count": 23,
   "id": "79b60e06-beea-4dab-b19d-b7e2442fb325",
   "metadata": {},
   "outputs": [
    {
     "name": "stdout",
     "output_type": "stream",
     "text": [
      "(768, 2)\n"
     ]
    },
    {
     "data": {
      "text/plain": [
       "(690, 2)"
      ]
     },
     "execution_count": 23,
     "metadata": {},
     "output_type": "execute_result"
    }
   ],
   "source": [
    "amb = df_pred.groupby('short_form')['long_form'].nunique().reset_index().sort_values('long_form', ascending = False)\n",
    "print(amb.shape)\n",
    "amb[amb['long_form'] == 1].shape"
   ]
  },
  {
   "cell_type": "markdown",
   "id": "cda588b4-eb5f-4597-8b66-9996b4a0f884",
   "metadata": {},
   "source": [
    "Filtramos para aquellas no ha acertado"
   ]
  },
  {
   "cell_type": "code",
   "execution_count": 9,
   "id": "297b6a51-a2fb-4c53-a0c3-e1dd132a2073",
   "metadata": {},
   "outputs": [],
   "source": [
    "wrong = df_pred[((df_pred['label'] == 0) & (df_pred['Prediction_train1'] == 1.0)) | (df_pred['label'] == 1) & (df_pred['Prediction_train1'] == 0.0)]"
   ]
  },
  {
   "cell_type": "code",
   "execution_count": 11,
   "id": "224d3abb-fe9e-4848-8447-9e22f3180f5e",
   "metadata": {},
   "outputs": [
    {
     "data": {
      "text/plain": [
       "(313, 8)"
      ]
     },
     "execution_count": 11,
     "metadata": {},
     "output_type": "execute_result"
    }
   ],
   "source": [
    "wrong.shape"
   ]
  },
  {
   "cell_type": "code",
   "execution_count": 10,
   "id": "48aa3893-cfe0-4fc4-a6e8-8444955db26e",
   "metadata": {},
   "outputs": [],
   "source": [
    "del wrong['Unnamed: 0']"
   ]
  },
  {
   "cell_type": "code",
   "execution_count": 12,
   "id": "88a9b3c4-8aae-4c95-9c46-0288192820b3",
   "metadata": {},
   "outputs": [
    {
     "data": {
      "text/html": [
       "<div>\n",
       "<style scoped>\n",
       "    .dataframe tbody tr th:only-of-type {\n",
       "        vertical-align: middle;\n",
       "    }\n",
       "\n",
       "    .dataframe tbody tr th {\n",
       "        vertical-align: top;\n",
       "    }\n",
       "\n",
       "    .dataframe thead th {\n",
       "        text-align: right;\n",
       "    }\n",
       "</style>\n",
       "<table border=\"1\" class=\"dataframe\">\n",
       "  <thead>\n",
       "    <tr style=\"text-align: right;\">\n",
       "      <th></th>\n",
       "      <th>short_form</th>\n",
       "      <th>context</th>\n",
       "      <th>long_form</th>\n",
       "      <th>label</th>\n",
       "      <th>sentences</th>\n",
       "      <th>Prediction_train1</th>\n",
       "      <th>Prediction_train2</th>\n",
       "      <th>Prediction_train3</th>\n",
       "    </tr>\n",
       "  </thead>\n",
       "  <tbody>\n",
       "    <tr>\n",
       "      <th>365</th>\n",
       "      <td>ALT</td>\n",
       "      <td>elevación de transaminasas en el rango de hepatitis aguda ( &lt; start &gt; ALT &lt; end &gt; y AST mayores de 20 veces el valor normal con</td>\n",
       "      <td>alanine transaminar</td>\n",
       "      <td>1</td>\n",
       "      <td>[CLS] alanine transaminar [SEP] elevación de transaminasas en el rango de hepatitis aguda ( &lt; start &gt; ALT &lt; end &gt; y AST mayores de 20 veces el valor normal con [SEP]</td>\n",
       "      <td>0.0</td>\n",
       "      <td>0.0</td>\n",
       "      <td>0.0</td>\n",
       "    </tr>\n",
       "    <tr>\n",
       "      <th>370</th>\n",
       "      <td>ALT</td>\n",
       "      <td>y GGT más de 10 veces el valor normal y &lt; start &gt; ALT &lt; end &gt; y AST menos de 3 veces el valor normal )</td>\n",
       "      <td>alanina aminotransferaso</td>\n",
       "      <td>0</td>\n",
       "      <td>[CLS] alanina aminotransferaso [SEP] y GGT más de 10 veces el valor normal y &lt; start &gt; ALT &lt; end &gt; y AST menos de 3 veces el valor normal ) [SEP]</td>\n",
       "      <td>1.0</td>\n",
       "      <td>0.0</td>\n",
       "      <td>0.0</td>\n",
       "    </tr>\n",
       "    <tr>\n",
       "      <th>366</th>\n",
       "      <td>ALT</td>\n",
       "      <td>elevación de transaminasas en el rango de hepatitis aguda ( &lt; start &gt; ALT &lt; end &gt; y AST mayores de 20 veces el valor normal con</td>\n",
       "      <td>alanine transferar</td>\n",
       "      <td>0</td>\n",
       "      <td>[CLS] alanine transferar [SEP] elevación de transaminasas en el rango de hepatitis aguda ( &lt; start &gt; ALT &lt; end &gt; y AST mayores de 20 veces el valor normal con [SEP]</td>\n",
       "      <td>1.0</td>\n",
       "      <td>0.0</td>\n",
       "      <td>0.0</td>\n",
       "    </tr>\n",
       "    <tr>\n",
       "      <th>369</th>\n",
       "      <td>ALT</td>\n",
       "      <td>y GGT más de 10 veces el valor normal y &lt; start &gt; ALT &lt; end &gt; y AST menos de 3 veces el valor normal )</td>\n",
       "      <td>alanine transferar</td>\n",
       "      <td>0</td>\n",
       "      <td>[CLS] alanine transferar [SEP] y GGT más de 10 veces el valor normal y &lt; start &gt; ALT &lt; end &gt; y AST menos de 3 veces el valor normal ) [SEP]</td>\n",
       "      <td>1.0</td>\n",
       "      <td>0.0</td>\n",
       "      <td>0.0</td>\n",
       "    </tr>\n",
       "    <tr>\n",
       "      <th>368</th>\n",
       "      <td>ALT</td>\n",
       "      <td>y GGT más de 10 veces el valor normal y &lt; start &gt; ALT &lt; end &gt; y AST menos de 3 veces el valor normal )</td>\n",
       "      <td>alanine transaminar</td>\n",
       "      <td>1</td>\n",
       "      <td>[CLS] alanine transaminar [SEP] y GGT más de 10 veces el valor normal y &lt; start &gt; ALT &lt; end &gt; y AST menos de 3 veces el valor normal ) [SEP]</td>\n",
       "      <td>0.0</td>\n",
       "      <td>0.0</td>\n",
       "      <td>0.0</td>\n",
       "    </tr>\n",
       "    <tr>\n",
       "      <th>...</th>\n",
       "      <td>...</td>\n",
       "      <td>...</td>\n",
       "      <td>...</td>\n",
       "      <td>...</td>\n",
       "      <td>...</td>\n",
       "      <td>...</td>\n",
       "      <td>...</td>\n",
       "      <td>...</td>\n",
       "    </tr>\n",
       "    <tr>\n",
       "      <th>564</th>\n",
       "      <td>rpm</td>\n",
       "      <td>, taquicárdico ( 104 lpm ) y taquipneico ( 22 &lt; start &gt; rpm &lt; end &gt; . En fosa iliaca derecha se le palpaba un ``</td>\n",
       "      <td>respiracion minuto</td>\n",
       "      <td>1</td>\n",
       "      <td>[CLS] respiracion minuto [SEP] , taquicárdico ( 104 lpm ) y taquipneico ( 22 &lt; start &gt; rpm &lt; end &gt; . En fosa iliaca derecha se le palpaba un `` [SEP]</td>\n",
       "      <td>0.0</td>\n",
       "      <td>0.0</td>\n",
       "      <td>0.0</td>\n",
       "    </tr>\n",
       "    <tr>\n",
       "      <th>566</th>\n",
       "      <td>s</td>\n",
       "      <td>zonas sarcomatosas y negativo en zonas epiteliales puras , Proteína &lt; start &gt; s &lt; end &gt; 100 positivo en zonas sarcomatoides y negativo en las epiteliales</td>\n",
       "      <td>soluble</td>\n",
       "      <td>1</td>\n",
       "      <td>[CLS] soluble [SEP] zonas sarcomatosas y negativo en zonas epiteliales puras , Proteína &lt; start &gt; s &lt; end &gt; 100 positivo en zonas sarcomatoides y negativo en las epiteliales [SEP]</td>\n",
       "      <td>0.0</td>\n",
       "      <td>0.0</td>\n",
       "      <td>0.0</td>\n",
       "    </tr>\n",
       "    <tr>\n",
       "      <th>567</th>\n",
       "      <td>s</td>\n",
       "      <td>zonas sarcomatosas y negativo en zonas epiteliales puras , Proteína &lt; start &gt; s &lt; end &gt; 100 positivo en zonas sarcomatoides y negativo en las epiteliales</td>\n",
       "      <td>segundo</td>\n",
       "      <td>0</td>\n",
       "      <td>[CLS] segundo [SEP] zonas sarcomatosas y negativo en zonas epiteliales puras , Proteína &lt; start &gt; s &lt; end &gt; 100 positivo en zonas sarcomatoides y negativo en las epiteliales [SEP]</td>\n",
       "      <td>1.0</td>\n",
       "      <td>0.0</td>\n",
       "      <td>0.0</td>\n",
       "    </tr>\n",
       "    <tr>\n",
       "      <th>604</th>\n",
       "      <td>β-HCG</td>\n",
       "      <td>una elevación de la α-FTP ( 48,4 ng/mL ) , &lt; start &gt; β-HCG &lt; end &gt; normal ( &lt; 0,6 mUI/mL ) y LDH normal .</td>\n",
       "      <td>subunidad beta human chorionic gonadotropin</td>\n",
       "      <td>1</td>\n",
       "      <td>[CLS] subunidad beta human chorionic gonadotropin [SEP] una elevación de la α-FTP ( 48,4 ng/mL ) , &lt; start &gt; β-HCG &lt; end &gt; normal ( &lt; 0,6 mUI/mL ) y LDH normal . [SEP]</td>\n",
       "      <td>0.0</td>\n",
       "      <td>0.0</td>\n",
       "      <td>0.0</td>\n",
       "    </tr>\n",
       "    <tr>\n",
       "      <th>98</th>\n",
       "      <td>μl</td>\n",
       "      <td>de 50mg/dl sin acompañarse de reacción leucocitaria ( &lt; 10.000×103/ &lt; start &gt; μl &lt; end &gt; . Se mantiene intubada y conectada a VM 7 días</td>\n",
       "      <td>microlitro</td>\n",
       "      <td>1</td>\n",
       "      <td>[CLS] microlitro [SEP] de 50mg/dl sin acompañarse de reacción leucocitaria ( &lt; 10.000×103/ &lt; start &gt; μl &lt; end &gt; . Se mantiene intubada y conectada a VM 7 días [SEP]</td>\n",
       "      <td>0.0</td>\n",
       "      <td>0.0</td>\n",
       "      <td>0.0</td>\n",
       "    </tr>\n",
       "  </tbody>\n",
       "</table>\n",
       "<p>313 rows × 8 columns</p>\n",
       "</div>"
      ],
      "text/plain": [
       "    short_form  \\\n",
       "365        ALT   \n",
       "370        ALT   \n",
       "366        ALT   \n",
       "369        ALT   \n",
       "368        ALT   \n",
       "..         ...   \n",
       "564        rpm   \n",
       "566          s   \n",
       "567          s   \n",
       "604      β-HCG   \n",
       "98          μl   \n",
       "\n",
       "                                                                                                                                                       context  \\\n",
       "365                            elevación de transaminasas en el rango de hepatitis aguda ( < start > ALT < end > y AST mayores de 20 veces el valor normal con   \n",
       "370                                                     y GGT más de 10 veces el valor normal y < start > ALT < end > y AST menos de 3 veces el valor normal )   \n",
       "366                            elevación de transaminasas en el rango de hepatitis aguda ( < start > ALT < end > y AST mayores de 20 veces el valor normal con   \n",
       "369                                                     y GGT más de 10 veces el valor normal y < start > ALT < end > y AST menos de 3 veces el valor normal )   \n",
       "368                                                     y GGT más de 10 veces el valor normal y < start > ALT < end > y AST menos de 3 veces el valor normal )   \n",
       "..                                                                                                                                                         ...   \n",
       "564                                           , taquicárdico ( 104 lpm ) y taquipneico ( 22 < start > rpm < end > . En fosa iliaca derecha se le palpaba un ``   \n",
       "566  zonas sarcomatosas y negativo en zonas epiteliales puras , Proteína < start > s < end > 100 positivo en zonas sarcomatoides y negativo en las epiteliales   \n",
       "567  zonas sarcomatosas y negativo en zonas epiteliales puras , Proteína < start > s < end > 100 positivo en zonas sarcomatoides y negativo en las epiteliales   \n",
       "604                                                  una elevación de la α-FTP ( 48,4 ng/mL ) , < start > β-HCG < end > normal ( < 0,6 mUI/mL ) y LDH normal .   \n",
       "98                     de 50mg/dl sin acompañarse de reacción leucocitaria ( < 10.000×103/ < start > μl < end > . Se mantiene intubada y conectada a VM 7 días   \n",
       "\n",
       "                                       long_form  label  \\\n",
       "365                          alanine transaminar      1   \n",
       "370                     alanina aminotransferaso      0   \n",
       "366                           alanine transferar      0   \n",
       "369                           alanine transferar      0   \n",
       "368                          alanine transaminar      1   \n",
       "..                                           ...    ...   \n",
       "564                           respiracion minuto      1   \n",
       "566                                      soluble      1   \n",
       "567                                      segundo      0   \n",
       "604  subunidad beta human chorionic gonadotropin      1   \n",
       "98                                    microlitro      1   \n",
       "\n",
       "                                                                                                                                                                               sentences  \\\n",
       "365                [CLS] alanine transaminar [SEP] elevación de transaminasas en el rango de hepatitis aguda ( < start > ALT < end > y AST mayores de 20 veces el valor normal con [SEP]   \n",
       "370                                    [CLS] alanina aminotransferaso [SEP] y GGT más de 10 veces el valor normal y < start > ALT < end > y AST menos de 3 veces el valor normal ) [SEP]   \n",
       "366                 [CLS] alanine transferar [SEP] elevación de transaminasas en el rango de hepatitis aguda ( < start > ALT < end > y AST mayores de 20 veces el valor normal con [SEP]   \n",
       "369                                          [CLS] alanine transferar [SEP] y GGT más de 10 veces el valor normal y < start > ALT < end > y AST menos de 3 veces el valor normal ) [SEP]   \n",
       "368                                         [CLS] alanine transaminar [SEP] y GGT más de 10 veces el valor normal y < start > ALT < end > y AST menos de 3 veces el valor normal ) [SEP]   \n",
       "..                                                                                                                                                                                   ...   \n",
       "564                                [CLS] respiracion minuto [SEP] , taquicárdico ( 104 lpm ) y taquipneico ( 22 < start > rpm < end > . En fosa iliaca derecha se le palpaba un `` [SEP]   \n",
       "566  [CLS] soluble [SEP] zonas sarcomatosas y negativo en zonas epiteliales puras , Proteína < start > s < end > 100 positivo en zonas sarcomatoides y negativo en las epiteliales [SEP]   \n",
       "567  [CLS] segundo [SEP] zonas sarcomatosas y negativo en zonas epiteliales puras , Proteína < start > s < end > 100 positivo en zonas sarcomatoides y negativo en las epiteliales [SEP]   \n",
       "604              [CLS] subunidad beta human chorionic gonadotropin [SEP] una elevación de la α-FTP ( 48,4 ng/mL ) , < start > β-HCG < end > normal ( < 0,6 mUI/mL ) y LDH normal . [SEP]   \n",
       "98                  [CLS] microlitro [SEP] de 50mg/dl sin acompañarse de reacción leucocitaria ( < 10.000×103/ < start > μl < end > . Se mantiene intubada y conectada a VM 7 días [SEP]   \n",
       "\n",
       "     Prediction_train1  Prediction_train2  Prediction_train3  \n",
       "365                0.0                0.0                0.0  \n",
       "370                1.0                0.0                0.0  \n",
       "366                1.0                0.0                0.0  \n",
       "369                1.0                0.0                0.0  \n",
       "368                0.0                0.0                0.0  \n",
       "..                 ...                ...                ...  \n",
       "564                0.0                0.0                0.0  \n",
       "566                0.0                0.0                0.0  \n",
       "567                1.0                0.0                0.0  \n",
       "604                0.0                0.0                0.0  \n",
       "98                 0.0                0.0                0.0  \n",
       "\n",
       "[313 rows x 8 columns]"
      ]
     },
     "execution_count": 12,
     "metadata": {},
     "output_type": "execute_result"
    }
   ],
   "source": [
    "wrong.sort_values(['short_form'])"
   ]
  },
  {
   "cell_type": "code",
   "execution_count": 14,
   "id": "7d8f64ec-c8a8-4e06-8c92-0f9a97fc0819",
   "metadata": {},
   "outputs": [
    {
     "data": {
      "text/html": [
       "<div>\n",
       "<style scoped>\n",
       "    .dataframe tbody tr th:only-of-type {\n",
       "        vertical-align: middle;\n",
       "    }\n",
       "\n",
       "    .dataframe tbody tr th {\n",
       "        vertical-align: top;\n",
       "    }\n",
       "\n",
       "    .dataframe thead th {\n",
       "        text-align: right;\n",
       "    }\n",
       "</style>\n",
       "<table border=\"1\" class=\"dataframe\">\n",
       "  <thead>\n",
       "    <tr style=\"text-align: right;\">\n",
       "      <th></th>\n",
       "      <th>short_form</th>\n",
       "      <th>0</th>\n",
       "    </tr>\n",
       "  </thead>\n",
       "  <tbody>\n",
       "    <tr>\n",
       "      <th>0</th>\n",
       "      <td>ALT</td>\n",
       "      <td>5</td>\n",
       "    </tr>\n",
       "    <tr>\n",
       "      <th>1</th>\n",
       "      <td>AOC</td>\n",
       "      <td>2</td>\n",
       "    </tr>\n",
       "    <tr>\n",
       "      <th>2</th>\n",
       "      <td>AST</td>\n",
       "      <td>5</td>\n",
       "    </tr>\n",
       "    <tr>\n",
       "      <th>3</th>\n",
       "      <td>AV</td>\n",
       "      <td>1</td>\n",
       "    </tr>\n",
       "    <tr>\n",
       "      <th>4</th>\n",
       "      <td>BA</td>\n",
       "      <td>1</td>\n",
       "    </tr>\n",
       "    <tr>\n",
       "      <th>...</th>\n",
       "      <td>...</td>\n",
       "      <td>...</td>\n",
       "    </tr>\n",
       "    <tr>\n",
       "      <th>73</th>\n",
       "      <td>pg</td>\n",
       "      <td>1</td>\n",
       "    </tr>\n",
       "    <tr>\n",
       "      <th>74</th>\n",
       "      <td>rpm</td>\n",
       "      <td>1</td>\n",
       "    </tr>\n",
       "    <tr>\n",
       "      <th>75</th>\n",
       "      <td>s</td>\n",
       "      <td>2</td>\n",
       "    </tr>\n",
       "    <tr>\n",
       "      <th>76</th>\n",
       "      <td>β-HCG</td>\n",
       "      <td>1</td>\n",
       "    </tr>\n",
       "    <tr>\n",
       "      <th>77</th>\n",
       "      <td>μl</td>\n",
       "      <td>1</td>\n",
       "    </tr>\n",
       "  </tbody>\n",
       "</table>\n",
       "<p>78 rows × 2 columns</p>\n",
       "</div>"
      ],
      "text/plain": [
       "   short_form  0\n",
       "0         ALT  5\n",
       "1         AOC  2\n",
       "2         AST  5\n",
       "3          AV  1\n",
       "4          BA  1\n",
       "..        ... ..\n",
       "73         pg  1\n",
       "74        rpm  1\n",
       "75          s  2\n",
       "76      β-HCG  1\n",
       "77         μl  1\n",
       "\n",
       "[78 rows x 2 columns]"
      ]
     },
     "execution_count": 14,
     "metadata": {},
     "output_type": "execute_result"
    }
   ],
   "source": [
    "wrong.groupby('short_form').size().reset_index()"
   ]
  },
  {
   "cell_type": "code",
   "execution_count": 15,
   "id": "cb9948b9-a824-4d06-95ea-25efe5e1c7fb",
   "metadata": {},
   "outputs": [
    {
     "data": {
      "text/html": [
       "<div>\n",
       "<style scoped>\n",
       "    .dataframe tbody tr th:only-of-type {\n",
       "        vertical-align: middle;\n",
       "    }\n",
       "\n",
       "    .dataframe tbody tr th {\n",
       "        vertical-align: top;\n",
       "    }\n",
       "\n",
       "    .dataframe thead th {\n",
       "        text-align: right;\n",
       "    }\n",
       "</style>\n",
       "<table border=\"1\" class=\"dataframe\">\n",
       "  <thead>\n",
       "    <tr style=\"text-align: right;\">\n",
       "      <th></th>\n",
       "      <th>short_form</th>\n",
       "      <th>context</th>\n",
       "      <th>long_form</th>\n",
       "      <th>label</th>\n",
       "      <th>sentences</th>\n",
       "      <th>Prediction_train1</th>\n",
       "      <th>Prediction_train2</th>\n",
       "      <th>Prediction_train3</th>\n",
       "    </tr>\n",
       "  </thead>\n",
       "  <tbody>\n",
       "    <tr>\n",
       "      <th>365</th>\n",
       "      <td>ALT</td>\n",
       "      <td>elevación de transaminasas en el rango de hepatitis aguda ( &lt; start &gt; ALT &lt; end &gt; y AST mayores de 20 veces el valor normal con</td>\n",
       "      <td>alanine transaminar</td>\n",
       "      <td>1</td>\n",
       "      <td>[CLS] alanine transaminar [SEP] elevación de transaminasas en el rango de hepatitis aguda ( &lt; start &gt; ALT &lt; end &gt; y AST mayores de 20 veces el valor normal con [SEP]</td>\n",
       "      <td>0.0</td>\n",
       "      <td>0.0</td>\n",
       "      <td>0.0</td>\n",
       "    </tr>\n",
       "    <tr>\n",
       "      <th>366</th>\n",
       "      <td>ALT</td>\n",
       "      <td>elevación de transaminasas en el rango de hepatitis aguda ( &lt; start &gt; ALT &lt; end &gt; y AST mayores de 20 veces el valor normal con</td>\n",
       "      <td>alanine transferar</td>\n",
       "      <td>0</td>\n",
       "      <td>[CLS] alanine transferar [SEP] elevación de transaminasas en el rango de hepatitis aguda ( &lt; start &gt; ALT &lt; end &gt; y AST mayores de 20 veces el valor normal con [SEP]</td>\n",
       "      <td>1.0</td>\n",
       "      <td>0.0</td>\n",
       "      <td>0.0</td>\n",
       "    </tr>\n",
       "    <tr>\n",
       "      <th>368</th>\n",
       "      <td>ALT</td>\n",
       "      <td>y GGT más de 10 veces el valor normal y &lt; start &gt; ALT &lt; end &gt; y AST menos de 3 veces el valor normal )</td>\n",
       "      <td>alanine transaminar</td>\n",
       "      <td>1</td>\n",
       "      <td>[CLS] alanine transaminar [SEP] y GGT más de 10 veces el valor normal y &lt; start &gt; ALT &lt; end &gt; y AST menos de 3 veces el valor normal ) [SEP]</td>\n",
       "      <td>0.0</td>\n",
       "      <td>0.0</td>\n",
       "      <td>0.0</td>\n",
       "    </tr>\n",
       "    <tr>\n",
       "      <th>369</th>\n",
       "      <td>ALT</td>\n",
       "      <td>y GGT más de 10 veces el valor normal y &lt; start &gt; ALT &lt; end &gt; y AST menos de 3 veces el valor normal )</td>\n",
       "      <td>alanine transferar</td>\n",
       "      <td>0</td>\n",
       "      <td>[CLS] alanine transferar [SEP] y GGT más de 10 veces el valor normal y &lt; start &gt; ALT &lt; end &gt; y AST menos de 3 veces el valor normal ) [SEP]</td>\n",
       "      <td>1.0</td>\n",
       "      <td>0.0</td>\n",
       "      <td>0.0</td>\n",
       "    </tr>\n",
       "    <tr>\n",
       "      <th>370</th>\n",
       "      <td>ALT</td>\n",
       "      <td>y GGT más de 10 veces el valor normal y &lt; start &gt; ALT &lt; end &gt; y AST menos de 3 veces el valor normal )</td>\n",
       "      <td>alanina aminotransferaso</td>\n",
       "      <td>0</td>\n",
       "      <td>[CLS] alanina aminotransferaso [SEP] y GGT más de 10 veces el valor normal y &lt; start &gt; ALT &lt; end &gt; y AST menos de 3 veces el valor normal ) [SEP]</td>\n",
       "      <td>1.0</td>\n",
       "      <td>0.0</td>\n",
       "      <td>0.0</td>\n",
       "    </tr>\n",
       "  </tbody>\n",
       "</table>\n",
       "</div>"
      ],
      "text/plain": [
       "    short_form  \\\n",
       "365        ALT   \n",
       "366        ALT   \n",
       "368        ALT   \n",
       "369        ALT   \n",
       "370        ALT   \n",
       "\n",
       "                                                                                                                             context  \\\n",
       "365  elevación de transaminasas en el rango de hepatitis aguda ( < start > ALT < end > y AST mayores de 20 veces el valor normal con   \n",
       "366  elevación de transaminasas en el rango de hepatitis aguda ( < start > ALT < end > y AST mayores de 20 veces el valor normal con   \n",
       "368                           y GGT más de 10 veces el valor normal y < start > ALT < end > y AST menos de 3 veces el valor normal )   \n",
       "369                           y GGT más de 10 veces el valor normal y < start > ALT < end > y AST menos de 3 veces el valor normal )   \n",
       "370                           y GGT más de 10 veces el valor normal y < start > ALT < end > y AST menos de 3 veces el valor normal )   \n",
       "\n",
       "                    long_form  label  \\\n",
       "365       alanine transaminar      1   \n",
       "366        alanine transferar      0   \n",
       "368       alanine transaminar      1   \n",
       "369        alanine transferar      0   \n",
       "370  alanina aminotransferaso      0   \n",
       "\n",
       "                                                                                                                                                                 sentences  \\\n",
       "365  [CLS] alanine transaminar [SEP] elevación de transaminasas en el rango de hepatitis aguda ( < start > ALT < end > y AST mayores de 20 veces el valor normal con [SEP]   \n",
       "366   [CLS] alanine transferar [SEP] elevación de transaminasas en el rango de hepatitis aguda ( < start > ALT < end > y AST mayores de 20 veces el valor normal con [SEP]   \n",
       "368                           [CLS] alanine transaminar [SEP] y GGT más de 10 veces el valor normal y < start > ALT < end > y AST menos de 3 veces el valor normal ) [SEP]   \n",
       "369                            [CLS] alanine transferar [SEP] y GGT más de 10 veces el valor normal y < start > ALT < end > y AST menos de 3 veces el valor normal ) [SEP]   \n",
       "370                      [CLS] alanina aminotransferaso [SEP] y GGT más de 10 veces el valor normal y < start > ALT < end > y AST menos de 3 veces el valor normal ) [SEP]   \n",
       "\n",
       "     Prediction_train1  Prediction_train2  Prediction_train3  \n",
       "365                0.0                0.0                0.0  \n",
       "366                1.0                0.0                0.0  \n",
       "368                0.0                0.0                0.0  \n",
       "369                1.0                0.0                0.0  \n",
       "370                1.0                0.0                0.0  "
      ]
     },
     "execution_count": 15,
     "metadata": {},
     "output_type": "execute_result"
    }
   ],
   "source": [
    "wrong[wrong['short_form'] == 'ALT']"
   ]
  },
  {
   "cell_type": "markdown",
   "id": "8be7927e-7e46-4bdd-a103-a2c93ab76d44",
   "metadata": {},
   "source": [
    "## Study data test"
   ]
  },
  {
   "cell_type": "code",
   "execution_count": 32,
   "id": "a2209770-bb5c-4d80-9ba1-18aa71a255aa",
   "metadata": {},
   "outputs": [],
   "source": [
    "test = pd.read_csv(\"data/test_data_beto_10.csv\")"
   ]
  },
  {
   "cell_type": "code",
   "execution_count": 34,
   "id": "98273429-bc82-4be2-94e4-0febc47aa87c",
   "metadata": {},
   "outputs": [
    {
     "data": {
      "text/plain": [
       "'la mutación 1691 G-A del factor V y 20210 G- < start > A < end > del factor II . El resto del estudio incluyó hemograma'"
      ]
     },
     "execution_count": 34,
     "metadata": {},
     "output_type": "execute_result"
    }
   ],
   "source": [
    "test.iloc[2850]['context']"
   ]
  },
  {
   "cell_type": "code",
   "execution_count": null,
   "id": "13da5543-58e3-4589-ac76-f43406518e64",
   "metadata": {},
   "outputs": [],
   "source": []
  },
  {
   "cell_type": "code",
   "execution_count": null,
   "id": "7c3d1bcf-56c2-4a54-a1b3-1b2f9323c64d",
   "metadata": {},
   "outputs": [],
   "source": []
  },
  {
   "cell_type": "code",
   "execution_count": 30,
   "id": "c49e58be-a20b-4e39-a6cc-188c978b57ad",
   "metadata": {},
   "outputs": [],
   "source": [
    "acr = 'PCR'\n",
    "\n",
    "text = 'Nuria y Poveda se han hecho una PCR por la fiesta del sábado'"
   ]
  },
  {
   "cell_type": "code",
   "execution_count": 31,
   "id": "25c92399-df2b-45a6-a9f8-5fbf220468ea",
   "metadata": {},
   "outputs": [],
   "source": [
    "start_i = text.find(acr)\n",
    "end_i = start_i + len(acr)"
   ]
  },
  {
   "cell_type": "code",
   "execution_count": 32,
   "id": "74133c05-385b-4c3a-bc82-6540ab7e2078",
   "metadata": {},
   "outputs": [
    {
     "data": {
      "text/plain": [
       "'PCR'"
      ]
     },
     "execution_count": 32,
     "metadata": {},
     "output_type": "execute_result"
    }
   ],
   "source": [
    "text[start_i:end_i]"
   ]
  },
  {
   "cell_type": "code",
   "execution_count": null,
   "id": "47c24227-d753-4d24-9a13-d8996ab7e977",
   "metadata": {},
   "outputs": [],
   "source": []
  }
 ],
 "metadata": {
  "kernelspec": {
   "display_name": "Python [conda env:tfm]",
   "language": "python",
   "name": "conda-env-tfm-py"
  },
  "language_info": {
   "codemirror_mode": {
    "name": "ipython",
    "version": 3
   },
   "file_extension": ".py",
   "mimetype": "text/x-python",
   "name": "python",
   "nbconvert_exporter": "python",
   "pygments_lexer": "ipython3",
   "version": "3.7.10"
  }
 },
 "nbformat": 4,
 "nbformat_minor": 5
}
