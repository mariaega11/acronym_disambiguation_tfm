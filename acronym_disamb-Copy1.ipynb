{
 "cells": [
  {
   "cell_type": "markdown",
   "metadata": {},
   "source": [
    "# Library"
   ]
  },
  {
   "cell_type": "code",
   "execution_count": 1494,
   "metadata": {},
   "outputs": [],
   "source": [
    "import pandas as pd\n",
    "import numpy as np\n",
    "import os\n",
    "import re\n",
    "import collections\n",
    "#from gensim.parsing.preprocessing import remove_stopwords\n",
    "import nltk\n",
    "from nltk.corpus import stopwords\n",
    "import itertools \n",
    "from nltk.tokenize import word_tokenize\n",
    "from string import punctuation\n",
    "\n",
    "from nltk import ngrams\n",
    "\n",
    "from sklearn.feature_extraction.text import CountVectorizer\n",
    "from sklearn.feature_extraction.text import TfidfTransformer"
   ]
  },
  {
   "cell_type": "markdown",
   "metadata": {},
   "source": [
    "# Functions"
   ]
  },
  {
   "cell_type": "code",
   "execution_count": 1495,
   "metadata": {},
   "outputs": [],
   "source": [
    "def read_texts(path):\n",
    "    data = []\n",
    "    file_name = os.listdir(path)\n",
    "\n",
    "    for name in file_name:\n",
    "        if name.endswith('.txt'):\n",
    "            with open(path + name,encoding=\"utf8\") as f:\n",
    "                text = f.read()\n",
    "                data.append({'nombre':name.replace('.txt',''), 'texto':text})\n",
    "\n",
    "    df = pd.DataFrame(data)\n",
    "    return df"
   ]
  },
  {
   "cell_type": "code",
   "execution_count": 1496,
   "metadata": {},
   "outputs": [],
   "source": [
    "# def filter_byindex(x,y):\n",
    "#     #selectors = [x for x in col2]\n",
    "#     return list(itertools.compress(x,y))"
   ]
  },
  {
   "cell_type": "code",
   "execution_count": 1497,
   "metadata": {},
   "outputs": [],
   "source": [
    "def check_len(x,y):\n",
    "    if x==y:\n",
    "        return 0\n",
    "    else:\n",
    "        return 1"
   ]
  },
  {
   "cell_type": "code",
   "execution_count": 1498,
   "metadata": {},
   "outputs": [],
   "source": [
    "def get_lf(i,j,k):\n",
    "    if pd.isnull(k):\n",
    "        regex_lf = re.compile(r'((?:\\w+\\W+){1,'+str(len(i))+'})\\(\\s'+i[0]+'.*\\)')\n",
    "        return regex_lf.findall(j)\n",
    "    else:\n",
    "        return k"
   ]
  },
  {
   "cell_type": "code",
   "execution_count": 1499,
   "metadata": {},
   "outputs": [],
   "source": [
    "def ngram_filter(doc, word, n):\n",
    "    tokens = doc.split()\n",
    "    all_ngrams = ngrams(tokens, n)\n",
    "    filtered_ngrams = [x for x in all_ngrams if word in x]\n",
    "    return filtered_ngrams"
   ]
  },
  {
   "cell_type": "code",
   "execution_count": 1500,
   "metadata": {},
   "outputs": [],
   "source": [
    "# def get_longform(tokens, acro, margin = 2, i =1):\n",
    "#     long_form = ''\n",
    "#     #Looking for before\n",
    "#     for word in tokens[index-margin-len(acro):index]:\n",
    "#         #if first letter of word is equal to first letter os acronym\n",
    "#         if word[0] == acro[i].lower():\n",
    "#             long_form += word + ' '\n",
    "#             i += 1\n",
    "#             if i == len(acro):\n",
    "#                 break\n",
    "#         elif (i == 1) and (word[0] == acro[i-1].lower()):\n",
    "#             long_form = word + ' '\n",
    "#             i = 1\n",
    "#             if i == len(acro):\n",
    "#                 break\n",
    "#     long_form = long_form.rstrip()\n",
    "#     return long_form\n",
    "    "
   ]
  },
  {
   "cell_type": "code",
   "execution_count": 1501,
   "metadata": {},
   "outputs": [],
   "source": [
    "def get_longform(tokens, acro, long):\n",
    "    acro = acro.lower()\n",
    "    long_form = ''\n",
    "    margin = 2\n",
    "    i =0\n",
    "    #Looking for before\n",
    "    if acro not in tokens:\n",
    "        return -1\n",
    "    if pd.isna(long):\n",
    "        index = tokens.index(acro)\n",
    "        for word in tokens[index-margin-len(acro):index]:\n",
    "            #if first letter of word is equal to first letter os acronym\n",
    "            if word[0] == acro[i].lower():\n",
    "                long_form += word + ' '\n",
    "                i += 1\n",
    "                if i == len(acro):\n",
    "                    break\n",
    "            elif (i == 1) and (word[0] == acro[i-1].lower()):\n",
    "                long_form = word + ' '\n",
    "                i = 1\n",
    "                if i == len(acro):\n",
    "                    break\n",
    "        long_form = long_form.rstrip()\n",
    "        return long_form\n",
    "    else:\n",
    "        return long\n"
   ]
  },
  {
   "cell_type": "markdown",
   "metadata": {},
   "source": [
    "# Load Data"
   ]
  },
  {
   "cell_type": "markdown",
   "metadata": {},
   "source": [
    "### Trainning\n",
    "\n",
    "318 clinical cases"
   ]
  },
  {
   "cell_type": "code",
   "execution_count": 1502,
   "metadata": {},
   "outputs": [],
   "source": [
    "train_raw = read_texts(\"../datasets/trainning_set/training_set.raw_text/\")"
   ]
  },
  {
   "cell_type": "code",
   "execution_count": 1503,
   "metadata": {},
   "outputs": [],
   "source": [
    "train_raw = train_raw.rename(columns = {'nombre': 'doc_id'})"
   ]
  },
  {
   "cell_type": "code",
   "execution_count": 1504,
   "metadata": {},
   "outputs": [
    {
     "data": {
      "text/html": [
       "<div>\n",
       "<style scoped>\n",
       "    .dataframe tbody tr th:only-of-type {\n",
       "        vertical-align: middle;\n",
       "    }\n",
       "\n",
       "    .dataframe tbody tr th {\n",
       "        vertical-align: top;\n",
       "    }\n",
       "\n",
       "    .dataframe thead th {\n",
       "        text-align: right;\n",
       "    }\n",
       "</style>\n",
       "<table border=\"1\" class=\"dataframe\">\n",
       "  <thead>\n",
       "    <tr style=\"text-align: right;\">\n",
       "      <th></th>\n",
       "      <th>doc_id</th>\n",
       "      <th>texto</th>\n",
       "    </tr>\n",
       "  </thead>\n",
       "  <tbody>\n",
       "    <tr>\n",
       "      <th>0</th>\n",
       "      <td>S1130-05582012000300005-1</td>\n",
       "      <td>Acude a nuestras consultas a un paciente que p...</td>\n",
       "    </tr>\n",
       "    <tr>\n",
       "      <th>1</th>\n",
       "      <td>S0212-71992005000400009-1</td>\n",
       "      <td>Se trataba de un varón de 27 años de edad, que...</td>\n",
       "    </tr>\n",
       "    <tr>\n",
       "      <th>2</th>\n",
       "      <td>S0004-06142008000700015-2</td>\n",
       "      <td>Varón de 33 años fumador de un paquete de ciga...</td>\n",
       "    </tr>\n",
       "    <tr>\n",
       "      <th>3</th>\n",
       "      <td>S0210-56912006000800008-1</td>\n",
       "      <td>Hombre de 42 años, bebedor de más de 100 g de ...</td>\n",
       "    </tr>\n",
       "    <tr>\n",
       "      <th>4</th>\n",
       "      <td>S0376-78922009000300010-1</td>\n",
       "      <td>Paciente de 18 años de edad que 5 meses antes ...</td>\n",
       "    </tr>\n",
       "  </tbody>\n",
       "</table>\n",
       "</div>"
      ],
      "text/plain": [
       "                      doc_id  \\\n",
       "0  S1130-05582012000300005-1   \n",
       "1  S0212-71992005000400009-1   \n",
       "2  S0004-06142008000700015-2   \n",
       "3  S0210-56912006000800008-1   \n",
       "4  S0376-78922009000300010-1   \n",
       "\n",
       "                                               texto  \n",
       "0  Acude a nuestras consultas a un paciente que p...  \n",
       "1  Se trataba de un varón de 27 años de edad, que...  \n",
       "2  Varón de 33 años fumador de un paquete de ciga...  \n",
       "3  Hombre de 42 años, bebedor de más de 100 g de ...  \n",
       "4  Paciente de 18 años de edad que 5 meses antes ...  "
      ]
     },
     "execution_count": 1504,
     "metadata": {},
     "output_type": "execute_result"
    }
   ],
   "source": [
    "train_raw.head()"
   ]
  },
  {
   "cell_type": "code",
   "execution_count": 1505,
   "metadata": {},
   "outputs": [
    {
     "data": {
      "text/plain": [
       "(318, 2)"
      ]
     },
     "execution_count": 1505,
     "metadata": {},
     "output_type": "execute_result"
    }
   ],
   "source": [
    "train_raw.shape"
   ]
  },
  {
   "cell_type": "markdown",
   "metadata": {},
   "source": [
    "# Sub-track 1"
   ]
  },
  {
   "cell_type": "markdown",
   "metadata": {},
   "source": [
    "## Found abbreviations (Short Forms)"
   ]
  },
  {
   "cell_type": "markdown",
   "metadata": {},
   "source": [
    "### Regex"
   ]
  },
  {
   "cell_type": "code",
   "execution_count": 1506,
   "metadata": {},
   "outputs": [],
   "source": [
    "patron3 = r'[A-Z]{2,8}' #Letras mayúsculas entre 2 y 8. Probar (\\s|\\()[A-Z]{2,8}\n",
    "patron4 = r'\\s[a-z]{1,2}\\s' #Entre 2 y 3 letras minusculas entre espacios\n",
    "patron5 = r'\\b[aA-zZ]{1,4}\\-[aA-zZ]{1,4}\\b' #mayúsuclas o minúsculas entre guiones\n",
    "#patron6 = r'[1-9]\\s*[aA-zZ]{1,4}\\/\\b[aA-zZ]{1,4}\\b' #Palabras divididas por / solo cuando las palabras no exceden de 4 caracteres\n",
    "patron6 = r'\\b\\w{2}\\b\\/'\n",
    "patron7 = r'\\/\\b\\w{2}\\b'\n",
    "patron8 = r'[aA-zZ]{1,4}[A-Z]+[a-z]*[1-4]*'\n",
    "#patron8 = r'\\/[a-z]*[A-Z]*'\n",
    "\n",
    "\n",
    "# create a list with them\n",
    "regexes = [ patron3, patron4, patron5, patron6, patron7]\n",
    "for i in regexes:\n",
    "    generic_re = re.compile(\"%s|%s|%s|%s|%s|%s\" % (patron3, patron4, patron5, patron6, patron7, patron8))"
   ]
  },
  {
   "cell_type": "code",
   "execution_count": 1507,
   "metadata": {},
   "outputs": [],
   "source": [
    "#nltk.download('stopwords')\n",
    "swords = list(set(stopwords.words('spanish')))"
   ]
  },
  {
   "cell_type": "markdown",
   "metadata": {},
   "source": [
    "Add words to stopwords lists"
   ]
  },
  {
   "cell_type": "code",
   "execution_count": 1508,
   "metadata": {},
   "outputs": [],
   "source": [
    "swords = swords + ['I','II','III','IV','V','VI','VII','VIII','IX', 'X', 'x']"
   ]
  },
  {
   "cell_type": "markdown",
   "metadata": {},
   "source": [
    "### Get Short Formns with a regex in each text"
   ]
  },
  {
   "cell_type": "code",
   "execution_count": 1509,
   "metadata": {},
   "outputs": [],
   "source": [
    "train_raw['abrev'] = train_raw['texto'].map(lambda x: generic_re.findall(x))"
   ]
  },
  {
   "cell_type": "markdown",
   "metadata": {},
   "source": [
    "Separate mesurement units separate by \"/\""
   ]
  },
  {
   "cell_type": "code",
   "execution_count": 1510,
   "metadata": {},
   "outputs": [],
   "source": [
    "# train_raw['abrev'] = train_raw['abrev'].apply(lambda x: [a.split(\"/\") for a in x])"
   ]
  },
  {
   "cell_type": "code",
   "execution_count": 1511,
   "metadata": {},
   "outputs": [],
   "source": [
    "# train_raw['abrev'] = train_raw['abrev'].apply(lambda x: [item for sublist in x for item in sublist])"
   ]
  },
  {
   "cell_type": "markdown",
   "metadata": {},
   "source": [
    "**Get offsets of the Short Forms founded in the text**"
   ]
  },
  {
   "cell_type": "code",
   "execution_count": 1512,
   "metadata": {},
   "outputs": [],
   "source": [
    "train_raw['offse'] = train_raw['texto'].map(lambda x: [(m.start(0), m.end(0)) for m in re.finditer(generic_re, x)])"
   ]
  },
  {
   "cell_type": "code",
   "execution_count": 1513,
   "metadata": {},
   "outputs": [],
   "source": [
    "#remove whitespaces\n",
    "train_raw['abrev'] = train_raw['abrev'].apply(lambda x: [i.strip() for i in x])"
   ]
  },
  {
   "cell_type": "markdown",
   "metadata": {},
   "source": [
    "Filter Short Forms to delete ones which are stopwords, get their index too for filter offsets lists later"
   ]
  },
  {
   "cell_type": "code",
   "execution_count": 1514,
   "metadata": {},
   "outputs": [],
   "source": [
    "# train_raw['abrev_index'] = train_raw['abrev'].apply(lambda x: [x.index(i) for i in x if i not in swords])\n",
    "train_raw['abrev_index'] = train_raw['abrev'].apply(lambda x: [i for i,j in enumerate(x) if j not in swords])"
   ]
  },
  {
   "cell_type": "code",
   "execution_count": 1515,
   "metadata": {},
   "outputs": [],
   "source": [
    "train_raw['abrev'] = train_raw['abrev'].apply(lambda x: [i for i in x if i not in swords])"
   ]
  },
  {
   "cell_type": "code",
   "execution_count": 1516,
   "metadata": {},
   "outputs": [],
   "source": [
    "train_raw['abrev'] = train_raw['abrev'].apply(lambda x: [a.replace('/',\"\") for a in x])"
   ]
  },
  {
   "cell_type": "markdown",
   "metadata": {},
   "source": [
    "Filter offsets lists by index"
   ]
  },
  {
   "cell_type": "code",
   "execution_count": 1517,
   "metadata": {},
   "outputs": [],
   "source": [
    "train_raw['offse'] = train_raw.apply(lambda x: [x['offse'][i] for i in x['abrev_index']], axis = 1)"
   ]
  },
  {
   "cell_type": "code",
   "execution_count": 1518,
   "metadata": {},
   "outputs": [
    {
     "data": {
      "text/html": [
       "<div>\n",
       "<style scoped>\n",
       "    .dataframe tbody tr th:only-of-type {\n",
       "        vertical-align: middle;\n",
       "    }\n",
       "\n",
       "    .dataframe tbody tr th {\n",
       "        vertical-align: top;\n",
       "    }\n",
       "\n",
       "    .dataframe thead th {\n",
       "        text-align: right;\n",
       "    }\n",
       "</style>\n",
       "<table border=\"1\" class=\"dataframe\">\n",
       "  <thead>\n",
       "    <tr style=\"text-align: right;\">\n",
       "      <th></th>\n",
       "      <th>doc_id</th>\n",
       "      <th>texto</th>\n",
       "      <th>abrev</th>\n",
       "      <th>offse</th>\n",
       "      <th>abrev_index</th>\n",
       "    </tr>\n",
       "  </thead>\n",
       "  <tbody>\n",
       "    <tr>\n",
       "      <th>0</th>\n",
       "      <td>S1130-05582012000300005-1</td>\n",
       "      <td>Acude a nuestras consultas a un paciente que p...</td>\n",
       "      <td>[RM, PAAF]</td>\n",
       "      <td>[(789, 791), (1006, 1010)]</td>\n",
       "      <td>[24, 31]</td>\n",
       "    </tr>\n",
       "    <tr>\n",
       "      <th>1</th>\n",
       "      <td>S0212-71992005000400009-1</td>\n",
       "      <td>Se trataba de un varón de 27 años de edad, que...</td>\n",
       "      <td>[mm, mm, mg, mg, mg, mg, LDH, UI, GOT, UI, GPT...</td>\n",
       "      <td>[(1056, 1059), (1079, 1082), (1247, 1250), (12...</td>\n",
       "      <td>[36, 37, 44, 47, 48, 49, 50, 51, 52, 53, 54, 5...</td>\n",
       "    </tr>\n",
       "    <tr>\n",
       "      <th>2</th>\n",
       "      <td>S0004-06142008000700015-2</td>\n",
       "      <td>Varón de 33 años fumador de un paquete de ciga...</td>\n",
       "      <td>[]</td>\n",
       "      <td>[]</td>\n",
       "      <td>[]</td>\n",
       "    </tr>\n",
       "    <tr>\n",
       "      <th>3</th>\n",
       "      <td>S0210-56912006000800008-1</td>\n",
       "      <td>Hombre de 42 años, bebedor de más de 100 g de ...</td>\n",
       "      <td>[g, mg, dl, dl, AST, ALT, GGT, UI, dl, TAC, mg...</td>\n",
       "      <td>[(40, 43), (654, 657), (670, 673), (697, 700),...</td>\n",
       "      <td>[3, 23, 24, 25, 26, 27, 28, 29, 30, 37, 64, 65...</td>\n",
       "    </tr>\n",
       "    <tr>\n",
       "      <th>4</th>\n",
       "      <td>S0376-78922009000300010-1</td>\n",
       "      <td>Paciente de 18 años de edad que 5 meses antes ...</td>\n",
       "      <td>[]</td>\n",
       "      <td>[]</td>\n",
       "      <td>[]</td>\n",
       "    </tr>\n",
       "  </tbody>\n",
       "</table>\n",
       "</div>"
      ],
      "text/plain": [
       "                      doc_id  \\\n",
       "0  S1130-05582012000300005-1   \n",
       "1  S0212-71992005000400009-1   \n",
       "2  S0004-06142008000700015-2   \n",
       "3  S0210-56912006000800008-1   \n",
       "4  S0376-78922009000300010-1   \n",
       "\n",
       "                                               texto  \\\n",
       "0  Acude a nuestras consultas a un paciente que p...   \n",
       "1  Se trataba de un varón de 27 años de edad, que...   \n",
       "2  Varón de 33 años fumador de un paquete de ciga...   \n",
       "3  Hombre de 42 años, bebedor de más de 100 g de ...   \n",
       "4  Paciente de 18 años de edad que 5 meses antes ...   \n",
       "\n",
       "                                               abrev  \\\n",
       "0                                         [RM, PAAF]   \n",
       "1  [mm, mm, mg, mg, mg, mg, LDH, UI, GOT, UI, GPT...   \n",
       "2                                                 []   \n",
       "3  [g, mg, dl, dl, AST, ALT, GGT, UI, dl, TAC, mg...   \n",
       "4                                                 []   \n",
       "\n",
       "                                               offse  \\\n",
       "0                         [(789, 791), (1006, 1010)]   \n",
       "1  [(1056, 1059), (1079, 1082), (1247, 1250), (12...   \n",
       "2                                                 []   \n",
       "3  [(40, 43), (654, 657), (670, 673), (697, 700),...   \n",
       "4                                                 []   \n",
       "\n",
       "                                         abrev_index  \n",
       "0                                           [24, 31]  \n",
       "1  [36, 37, 44, 47, 48, 49, 50, 51, 52, 53, 54, 5...  \n",
       "2                                                 []  \n",
       "3  [3, 23, 24, 25, 26, 27, 28, 29, 30, 37, 64, 65...  \n",
       "4                                                 []  "
      ]
     },
     "execution_count": 1518,
     "metadata": {},
     "output_type": "execute_result"
    }
   ],
   "source": [
    "train_raw.head()"
   ]
  },
  {
   "cell_type": "code",
   "execution_count": 1519,
   "metadata": {},
   "outputs": [
    {
     "data": {
      "text/plain": [
       "64    [IRC, IgA, Kg, Kg, EEII, EEII, ROT, RCP, RMN, ...\n",
       "Name: abrev, dtype: object"
      ]
     },
     "execution_count": 1519,
     "metadata": {},
     "output_type": "execute_result"
    }
   ],
   "source": [
    "train_raw[train_raw['doc_id'] == 'S0004-06142005001000011-1']['abrev']"
   ]
  },
  {
   "cell_type": "markdown",
   "metadata": {},
   "source": [
    "Check abrev and offse columns has the same length"
   ]
  },
  {
   "cell_type": "code",
   "execution_count": 1520,
   "metadata": {},
   "outputs": [],
   "source": [
    "train_raw['abrev_len'] =train_raw['abrev'].str.len()\n",
    "train_raw['offse_len'] =train_raw['offse'].str.len()"
   ]
  },
  {
   "cell_type": "code",
   "execution_count": 1521,
   "metadata": {},
   "outputs": [
    {
     "data": {
      "text/html": [
       "<div>\n",
       "<style scoped>\n",
       "    .dataframe tbody tr th:only-of-type {\n",
       "        vertical-align: middle;\n",
       "    }\n",
       "\n",
       "    .dataframe tbody tr th {\n",
       "        vertical-align: top;\n",
       "    }\n",
       "\n",
       "    .dataframe thead th {\n",
       "        text-align: right;\n",
       "    }\n",
       "</style>\n",
       "<table border=\"1\" class=\"dataframe\">\n",
       "  <thead>\n",
       "    <tr style=\"text-align: right;\">\n",
       "      <th></th>\n",
       "      <th>doc_id</th>\n",
       "      <th>texto</th>\n",
       "      <th>abrev</th>\n",
       "      <th>offse</th>\n",
       "      <th>abrev_index</th>\n",
       "      <th>abrev_len</th>\n",
       "      <th>offse_len</th>\n",
       "    </tr>\n",
       "  </thead>\n",
       "  <tbody>\n",
       "    <tr>\n",
       "      <th>0</th>\n",
       "      <td>S1130-05582012000300005-1</td>\n",
       "      <td>Acude a nuestras consultas a un paciente que p...</td>\n",
       "      <td>[RM, PAAF]</td>\n",
       "      <td>[(789, 791), (1006, 1010)]</td>\n",
       "      <td>[24, 31]</td>\n",
       "      <td>2</td>\n",
       "      <td>2</td>\n",
       "    </tr>\n",
       "    <tr>\n",
       "      <th>1</th>\n",
       "      <td>S0212-71992005000400009-1</td>\n",
       "      <td>Se trataba de un varón de 27 años de edad, que...</td>\n",
       "      <td>[mm, mm, mg, mg, mg, mg, LDH, UI, GOT, UI, GPT...</td>\n",
       "      <td>[(1056, 1059), (1079, 1082), (1247, 1250), (12...</td>\n",
       "      <td>[36, 37, 44, 47, 48, 49, 50, 51, 52, 53, 54, 5...</td>\n",
       "      <td>32</td>\n",
       "      <td>32</td>\n",
       "    </tr>\n",
       "    <tr>\n",
       "      <th>2</th>\n",
       "      <td>S0004-06142008000700015-2</td>\n",
       "      <td>Varón de 33 años fumador de un paquete de ciga...</td>\n",
       "      <td>[]</td>\n",
       "      <td>[]</td>\n",
       "      <td>[]</td>\n",
       "      <td>0</td>\n",
       "      <td>0</td>\n",
       "    </tr>\n",
       "    <tr>\n",
       "      <th>3</th>\n",
       "      <td>S0210-56912006000800008-1</td>\n",
       "      <td>Hombre de 42 años, bebedor de más de 100 g de ...</td>\n",
       "      <td>[g, mg, dl, dl, AST, ALT, GGT, UI, dl, TAC, mg...</td>\n",
       "      <td>[(40, 43), (654, 657), (670, 673), (697, 700),...</td>\n",
       "      <td>[3, 23, 24, 25, 26, 27, 28, 29, 30, 37, 64, 65...</td>\n",
       "      <td>22</td>\n",
       "      <td>22</td>\n",
       "    </tr>\n",
       "    <tr>\n",
       "      <th>4</th>\n",
       "      <td>S0376-78922009000300010-1</td>\n",
       "      <td>Paciente de 18 años de edad que 5 meses antes ...</td>\n",
       "      <td>[]</td>\n",
       "      <td>[]</td>\n",
       "      <td>[]</td>\n",
       "      <td>0</td>\n",
       "      <td>0</td>\n",
       "    </tr>\n",
       "  </tbody>\n",
       "</table>\n",
       "</div>"
      ],
      "text/plain": [
       "                      doc_id  \\\n",
       "0  S1130-05582012000300005-1   \n",
       "1  S0212-71992005000400009-1   \n",
       "2  S0004-06142008000700015-2   \n",
       "3  S0210-56912006000800008-1   \n",
       "4  S0376-78922009000300010-1   \n",
       "\n",
       "                                               texto  \\\n",
       "0  Acude a nuestras consultas a un paciente que p...   \n",
       "1  Se trataba de un varón de 27 años de edad, que...   \n",
       "2  Varón de 33 años fumador de un paquete de ciga...   \n",
       "3  Hombre de 42 años, bebedor de más de 100 g de ...   \n",
       "4  Paciente de 18 años de edad que 5 meses antes ...   \n",
       "\n",
       "                                               abrev  \\\n",
       "0                                         [RM, PAAF]   \n",
       "1  [mm, mm, mg, mg, mg, mg, LDH, UI, GOT, UI, GPT...   \n",
       "2                                                 []   \n",
       "3  [g, mg, dl, dl, AST, ALT, GGT, UI, dl, TAC, mg...   \n",
       "4                                                 []   \n",
       "\n",
       "                                               offse  \\\n",
       "0                         [(789, 791), (1006, 1010)]   \n",
       "1  [(1056, 1059), (1079, 1082), (1247, 1250), (12...   \n",
       "2                                                 []   \n",
       "3  [(40, 43), (654, 657), (670, 673), (697, 700),...   \n",
       "4                                                 []   \n",
       "\n",
       "                                         abrev_index  abrev_len  offse_len  \n",
       "0                                           [24, 31]          2          2  \n",
       "1  [36, 37, 44, 47, 48, 49, 50, 51, 52, 53, 54, 5...         32         32  \n",
       "2                                                 []          0          0  \n",
       "3  [3, 23, 24, 25, 26, 27, 28, 29, 30, 37, 64, 65...         22         22  \n",
       "4                                                 []          0          0  "
      ]
     },
     "execution_count": 1521,
     "metadata": {},
     "output_type": "execute_result"
    }
   ],
   "source": [
    "train_raw.head()"
   ]
  },
  {
   "cell_type": "markdown",
   "metadata": {},
   "source": [
    "Check both lists have the same lenght"
   ]
  },
  {
   "cell_type": "code",
   "execution_count": 1522,
   "metadata": {},
   "outputs": [],
   "source": [
    "train_raw['len_check'] = train_raw.apply(lambda row: check_len(row['abrev_len'],row['offse_len']),axis = 1)"
   ]
  },
  {
   "cell_type": "markdown",
   "metadata": {},
   "source": [
    "Delete rows with different lenghts (check it later)"
   ]
  },
  {
   "cell_type": "code",
   "execution_count": 1523,
   "metadata": {},
   "outputs": [
    {
     "data": {
      "text/plain": [
       "(318, 8)"
      ]
     },
     "execution_count": 1523,
     "metadata": {},
     "output_type": "execute_result"
    }
   ],
   "source": [
    "train_raw.shape"
   ]
  },
  {
   "cell_type": "code",
   "execution_count": 1524,
   "metadata": {},
   "outputs": [
    {
     "data": {
      "text/plain": [
       "(318, 8)"
      ]
     },
     "execution_count": 1524,
     "metadata": {},
     "output_type": "execute_result"
    }
   ],
   "source": [
    "train_raw[train_raw['len_check'] != 1].shape"
   ]
  },
  {
   "cell_type": "code",
   "execution_count": 1525,
   "metadata": {},
   "outputs": [],
   "source": [
    "#train_raw = train_raw[train_raw['len_check'] != 1]"
   ]
  },
  {
   "cell_type": "markdown",
   "metadata": {},
   "source": [
    "### Text treatment"
   ]
  },
  {
   "cell_type": "markdown",
   "metadata": {},
   "source": [
    "Remove string punctuation, lowecase, tokenize and remove stopwords"
   ]
  },
  {
   "cell_type": "code",
   "execution_count": 1526,
   "metadata": {},
   "outputs": [],
   "source": [
    "for i in punctuation:\n",
    "    train_raw['texto_clean'] = train_raw['texto'].str.replace(i,'').str.lower()"
   ]
  },
  {
   "cell_type": "code",
   "execution_count": 1527,
   "metadata": {},
   "outputs": [],
   "source": [
    "train_raw['texto_clean'] = train_raw['texto_clean'].str.split().map(lambda x: ' '.join([w for w in x if w not in swords]))"
   ]
  },
  {
   "cell_type": "code",
   "execution_count": 1528,
   "metadata": {},
   "outputs": [],
   "source": [
    "train_raw['tokens'] = train_raw['texto_clean'].map(lambda x: word_tokenize(x))"
   ]
  },
  {
   "cell_type": "code",
   "execution_count": 1529,
   "metadata": {},
   "outputs": [
    {
     "data": {
      "text/html": [
       "<div>\n",
       "<style scoped>\n",
       "    .dataframe tbody tr th:only-of-type {\n",
       "        vertical-align: middle;\n",
       "    }\n",
       "\n",
       "    .dataframe tbody tr th {\n",
       "        vertical-align: top;\n",
       "    }\n",
       "\n",
       "    .dataframe thead th {\n",
       "        text-align: right;\n",
       "    }\n",
       "</style>\n",
       "<table border=\"1\" class=\"dataframe\">\n",
       "  <thead>\n",
       "    <tr style=\"text-align: right;\">\n",
       "      <th></th>\n",
       "      <th>doc_id</th>\n",
       "      <th>texto</th>\n",
       "      <th>abrev</th>\n",
       "      <th>offse</th>\n",
       "      <th>abrev_index</th>\n",
       "      <th>abrev_len</th>\n",
       "      <th>offse_len</th>\n",
       "      <th>len_check</th>\n",
       "      <th>texto_clean</th>\n",
       "      <th>tokens</th>\n",
       "    </tr>\n",
       "  </thead>\n",
       "  <tbody>\n",
       "    <tr>\n",
       "      <th>0</th>\n",
       "      <td>S1130-05582012000300005-1</td>\n",
       "      <td>Acude a nuestras consultas a un paciente que p...</td>\n",
       "      <td>[RM, PAAF]</td>\n",
       "      <td>[(789, 791), (1006, 1010)]</td>\n",
       "      <td>[24, 31]</td>\n",
       "      <td>2</td>\n",
       "      <td>2</td>\n",
       "      <td>0</td>\n",
       "      <td>acude consultas paciente presenta tumoración c...</td>\n",
       "      <td>[acude, consultas, paciente, presenta, tumorac...</td>\n",
       "    </tr>\n",
       "    <tr>\n",
       "      <th>1</th>\n",
       "      <td>S0212-71992005000400009-1</td>\n",
       "      <td>Se trataba de un varón de 27 años de edad, que...</td>\n",
       "      <td>[mm, mm, mg, mg, mg, mg, LDH, UI, GOT, UI, GPT...</td>\n",
       "      <td>[(1056, 1059), (1079, 1082), (1247, 1250), (12...</td>\n",
       "      <td>[36, 37, 44, 47, 48, 49, 50, 51, 52, 53, 54, 5...</td>\n",
       "      <td>32</td>\n",
       "      <td>32</td>\n",
       "      <td>0</td>\n",
       "      <td>trataba varón 27 años edad, sufrido neumonía s...</td>\n",
       "      <td>[trataba, varón, 27, años, edad, ,, sufrido, n...</td>\n",
       "    </tr>\n",
       "    <tr>\n",
       "      <th>2</th>\n",
       "      <td>S0004-06142008000700015-2</td>\n",
       "      <td>Varón de 33 años fumador de un paquete de ciga...</td>\n",
       "      <td>[]</td>\n",
       "      <td>[]</td>\n",
       "      <td>[]</td>\n",
       "      <td>0</td>\n",
       "      <td>0</td>\n",
       "      <td>0</td>\n",
       "      <td>varón 33 años fumador paquete cigarrillos día ...</td>\n",
       "      <td>[varón, 33, años, fumador, paquete, cigarrillo...</td>\n",
       "    </tr>\n",
       "    <tr>\n",
       "      <th>3</th>\n",
       "      <td>S0210-56912006000800008-1</td>\n",
       "      <td>Hombre de 42 años, bebedor de más de 100 g de ...</td>\n",
       "      <td>[g, mg, dl, dl, AST, ALT, GGT, UI, dl, TAC, mg...</td>\n",
       "      <td>[(40, 43), (654, 657), (670, 673), (697, 700),...</td>\n",
       "      <td>[3, 23, 24, 25, 26, 27, 28, 29, 30, 37, 64, 65...</td>\n",
       "      <td>22</td>\n",
       "      <td>22</td>\n",
       "      <td>0</td>\n",
       "      <td>hombre 42 años, bebedor 100 g etanol día, ante...</td>\n",
       "      <td>[hombre, 42, años, ,, bebedor, 100, g, etanol,...</td>\n",
       "    </tr>\n",
       "    <tr>\n",
       "      <th>4</th>\n",
       "      <td>S0376-78922009000300010-1</td>\n",
       "      <td>Paciente de 18 años de edad que 5 meses antes ...</td>\n",
       "      <td>[]</td>\n",
       "      <td>[]</td>\n",
       "      <td>[]</td>\n",
       "      <td>0</td>\n",
       "      <td>0</td>\n",
       "      <td>0</td>\n",
       "      <td>paciente 18 años edad 5 meses sido víctima gra...</td>\n",
       "      <td>[paciente, 18, años, edad, 5, meses, sido, víc...</td>\n",
       "    </tr>\n",
       "  </tbody>\n",
       "</table>\n",
       "</div>"
      ],
      "text/plain": [
       "                      doc_id  \\\n",
       "0  S1130-05582012000300005-1   \n",
       "1  S0212-71992005000400009-1   \n",
       "2  S0004-06142008000700015-2   \n",
       "3  S0210-56912006000800008-1   \n",
       "4  S0376-78922009000300010-1   \n",
       "\n",
       "                                               texto  \\\n",
       "0  Acude a nuestras consultas a un paciente que p...   \n",
       "1  Se trataba de un varón de 27 años de edad, que...   \n",
       "2  Varón de 33 años fumador de un paquete de ciga...   \n",
       "3  Hombre de 42 años, bebedor de más de 100 g de ...   \n",
       "4  Paciente de 18 años de edad que 5 meses antes ...   \n",
       "\n",
       "                                               abrev  \\\n",
       "0                                         [RM, PAAF]   \n",
       "1  [mm, mm, mg, mg, mg, mg, LDH, UI, GOT, UI, GPT...   \n",
       "2                                                 []   \n",
       "3  [g, mg, dl, dl, AST, ALT, GGT, UI, dl, TAC, mg...   \n",
       "4                                                 []   \n",
       "\n",
       "                                               offse  \\\n",
       "0                         [(789, 791), (1006, 1010)]   \n",
       "1  [(1056, 1059), (1079, 1082), (1247, 1250), (12...   \n",
       "2                                                 []   \n",
       "3  [(40, 43), (654, 657), (670, 673), (697, 700),...   \n",
       "4                                                 []   \n",
       "\n",
       "                                         abrev_index  abrev_len  offse_len  \\\n",
       "0                                           [24, 31]          2          2   \n",
       "1  [36, 37, 44, 47, 48, 49, 50, 51, 52, 53, 54, 5...         32         32   \n",
       "2                                                 []          0          0   \n",
       "3  [3, 23, 24, 25, 26, 27, 28, 29, 30, 37, 64, 65...         22         22   \n",
       "4                                                 []          0          0   \n",
       "\n",
       "   len_check                                        texto_clean  \\\n",
       "0          0  acude consultas paciente presenta tumoración c...   \n",
       "1          0  trataba varón 27 años edad, sufrido neumonía s...   \n",
       "2          0  varón 33 años fumador paquete cigarrillos día ...   \n",
       "3          0  hombre 42 años, bebedor 100 g etanol día, ante...   \n",
       "4          0  paciente 18 años edad 5 meses sido víctima gra...   \n",
       "\n",
       "                                              tokens  \n",
       "0  [acude, consultas, paciente, presenta, tumorac...  \n",
       "1  [trataba, varón, 27, años, edad, ,, sufrido, n...  \n",
       "2  [varón, 33, años, fumador, paquete, cigarrillo...  \n",
       "3  [hombre, 42, años, ,, bebedor, 100, g, etanol,...  \n",
       "4  [paciente, 18, años, edad, 5, meses, sido, víc...  "
      ]
     },
     "execution_count": 1529,
     "metadata": {},
     "output_type": "execute_result"
    }
   ],
   "source": [
    "train_raw.head()"
   ]
  },
  {
   "cell_type": "markdown",
   "metadata": {},
   "source": [
    "### Get abreviations and offsets"
   ]
  },
  {
   "cell_type": "markdown",
   "metadata": {},
   "source": [
    "Remove punctuation from abreviations"
   ]
  },
  {
   "cell_type": "code",
   "execution_count": 1530,
   "metadata": {},
   "outputs": [],
   "source": [
    "# for i in punctuation:\n",
    "#     train_raw['abrev'] = train_raw[train_raw['abrev'].notnull()]['abrev'].apply(lambda x: [a.replace(i,\"\") for a in x])"
   ]
  },
  {
   "cell_type": "code",
   "execution_count": 1531,
   "metadata": {},
   "outputs": [],
   "source": [
    "train_raw['zip'] = train_raw.apply(lambda row: list(zip(row['abrev'], row['offse'])), axis = 1)"
   ]
  },
  {
   "cell_type": "code",
   "execution_count": 1532,
   "metadata": {},
   "outputs": [
    {
     "data": {
      "text/html": [
       "<div>\n",
       "<style scoped>\n",
       "    .dataframe tbody tr th:only-of-type {\n",
       "        vertical-align: middle;\n",
       "    }\n",
       "\n",
       "    .dataframe tbody tr th {\n",
       "        vertical-align: top;\n",
       "    }\n",
       "\n",
       "    .dataframe thead th {\n",
       "        text-align: right;\n",
       "    }\n",
       "</style>\n",
       "<table border=\"1\" class=\"dataframe\">\n",
       "  <thead>\n",
       "    <tr style=\"text-align: right;\">\n",
       "      <th></th>\n",
       "      <th>doc_id</th>\n",
       "      <th>texto</th>\n",
       "      <th>abrev</th>\n",
       "      <th>offse</th>\n",
       "      <th>abrev_index</th>\n",
       "      <th>abrev_len</th>\n",
       "      <th>offse_len</th>\n",
       "      <th>len_check</th>\n",
       "      <th>texto_clean</th>\n",
       "      <th>tokens</th>\n",
       "      <th>zip</th>\n",
       "    </tr>\n",
       "  </thead>\n",
       "  <tbody>\n",
       "    <tr>\n",
       "      <th>0</th>\n",
       "      <td>S1130-05582012000300005-1</td>\n",
       "      <td>Acude a nuestras consultas a un paciente que p...</td>\n",
       "      <td>[RM, PAAF]</td>\n",
       "      <td>[(789, 791), (1006, 1010)]</td>\n",
       "      <td>[24, 31]</td>\n",
       "      <td>2</td>\n",
       "      <td>2</td>\n",
       "      <td>0</td>\n",
       "      <td>acude consultas paciente presenta tumoración c...</td>\n",
       "      <td>[acude, consultas, paciente, presenta, tumorac...</td>\n",
       "      <td>[(RM, (789, 791)), (PAAF, (1006, 1010))]</td>\n",
       "    </tr>\n",
       "    <tr>\n",
       "      <th>1</th>\n",
       "      <td>S0212-71992005000400009-1</td>\n",
       "      <td>Se trataba de un varón de 27 años de edad, que...</td>\n",
       "      <td>[mm, mm, mg, mg, mg, mg, LDH, UI, GOT, UI, GPT...</td>\n",
       "      <td>[(1056, 1059), (1079, 1082), (1247, 1250), (12...</td>\n",
       "      <td>[36, 37, 44, 47, 48, 49, 50, 51, 52, 53, 54, 5...</td>\n",
       "      <td>32</td>\n",
       "      <td>32</td>\n",
       "      <td>0</td>\n",
       "      <td>trataba varón 27 años edad, sufrido neumonía s...</td>\n",
       "      <td>[trataba, varón, 27, años, edad, ,, sufrido, n...</td>\n",
       "      <td>[(mm, (1056, 1059)), (mm, (1079, 1082)), (mg, ...</td>\n",
       "    </tr>\n",
       "    <tr>\n",
       "      <th>2</th>\n",
       "      <td>S0004-06142008000700015-2</td>\n",
       "      <td>Varón de 33 años fumador de un paquete de ciga...</td>\n",
       "      <td>[]</td>\n",
       "      <td>[]</td>\n",
       "      <td>[]</td>\n",
       "      <td>0</td>\n",
       "      <td>0</td>\n",
       "      <td>0</td>\n",
       "      <td>varón 33 años fumador paquete cigarrillos día ...</td>\n",
       "      <td>[varón, 33, años, fumador, paquete, cigarrillo...</td>\n",
       "      <td>[]</td>\n",
       "    </tr>\n",
       "    <tr>\n",
       "      <th>3</th>\n",
       "      <td>S0210-56912006000800008-1</td>\n",
       "      <td>Hombre de 42 años, bebedor de más de 100 g de ...</td>\n",
       "      <td>[g, mg, dl, dl, AST, ALT, GGT, UI, dl, TAC, mg...</td>\n",
       "      <td>[(40, 43), (654, 657), (670, 673), (697, 700),...</td>\n",
       "      <td>[3, 23, 24, 25, 26, 27, 28, 29, 30, 37, 64, 65...</td>\n",
       "      <td>22</td>\n",
       "      <td>22</td>\n",
       "      <td>0</td>\n",
       "      <td>hombre 42 años, bebedor 100 g etanol día, ante...</td>\n",
       "      <td>[hombre, 42, años, ,, bebedor, 100, g, etanol,...</td>\n",
       "      <td>[(g, (40, 43)), (mg, (654, 657)), (dl, (670, 6...</td>\n",
       "    </tr>\n",
       "    <tr>\n",
       "      <th>4</th>\n",
       "      <td>S0376-78922009000300010-1</td>\n",
       "      <td>Paciente de 18 años de edad que 5 meses antes ...</td>\n",
       "      <td>[]</td>\n",
       "      <td>[]</td>\n",
       "      <td>[]</td>\n",
       "      <td>0</td>\n",
       "      <td>0</td>\n",
       "      <td>0</td>\n",
       "      <td>paciente 18 años edad 5 meses sido víctima gra...</td>\n",
       "      <td>[paciente, 18, años, edad, 5, meses, sido, víc...</td>\n",
       "      <td>[]</td>\n",
       "    </tr>\n",
       "  </tbody>\n",
       "</table>\n",
       "</div>"
      ],
      "text/plain": [
       "                      doc_id  \\\n",
       "0  S1130-05582012000300005-1   \n",
       "1  S0212-71992005000400009-1   \n",
       "2  S0004-06142008000700015-2   \n",
       "3  S0210-56912006000800008-1   \n",
       "4  S0376-78922009000300010-1   \n",
       "\n",
       "                                               texto  \\\n",
       "0  Acude a nuestras consultas a un paciente que p...   \n",
       "1  Se trataba de un varón de 27 años de edad, que...   \n",
       "2  Varón de 33 años fumador de un paquete de ciga...   \n",
       "3  Hombre de 42 años, bebedor de más de 100 g de ...   \n",
       "4  Paciente de 18 años de edad que 5 meses antes ...   \n",
       "\n",
       "                                               abrev  \\\n",
       "0                                         [RM, PAAF]   \n",
       "1  [mm, mm, mg, mg, mg, mg, LDH, UI, GOT, UI, GPT...   \n",
       "2                                                 []   \n",
       "3  [g, mg, dl, dl, AST, ALT, GGT, UI, dl, TAC, mg...   \n",
       "4                                                 []   \n",
       "\n",
       "                                               offse  \\\n",
       "0                         [(789, 791), (1006, 1010)]   \n",
       "1  [(1056, 1059), (1079, 1082), (1247, 1250), (12...   \n",
       "2                                                 []   \n",
       "3  [(40, 43), (654, 657), (670, 673), (697, 700),...   \n",
       "4                                                 []   \n",
       "\n",
       "                                         abrev_index  abrev_len  offse_len  \\\n",
       "0                                           [24, 31]          2          2   \n",
       "1  [36, 37, 44, 47, 48, 49, 50, 51, 52, 53, 54, 5...         32         32   \n",
       "2                                                 []          0          0   \n",
       "3  [3, 23, 24, 25, 26, 27, 28, 29, 30, 37, 64, 65...         22         22   \n",
       "4                                                 []          0          0   \n",
       "\n",
       "   len_check                                        texto_clean  \\\n",
       "0          0  acude consultas paciente presenta tumoración c...   \n",
       "1          0  trataba varón 27 años edad, sufrido neumonía s...   \n",
       "2          0  varón 33 años fumador paquete cigarrillos día ...   \n",
       "3          0  hombre 42 años, bebedor 100 g etanol día, ante...   \n",
       "4          0  paciente 18 años edad 5 meses sido víctima gra...   \n",
       "\n",
       "                                              tokens  \\\n",
       "0  [acude, consultas, paciente, presenta, tumorac...   \n",
       "1  [trataba, varón, 27, años, edad, ,, sufrido, n...   \n",
       "2  [varón, 33, años, fumador, paquete, cigarrillo...   \n",
       "3  [hombre, 42, años, ,, bebedor, 100, g, etanol,...   \n",
       "4  [paciente, 18, años, edad, 5, meses, sido, víc...   \n",
       "\n",
       "                                                 zip  \n",
       "0           [(RM, (789, 791)), (PAAF, (1006, 1010))]  \n",
       "1  [(mm, (1056, 1059)), (mm, (1079, 1082)), (mg, ...  \n",
       "2                                                 []  \n",
       "3  [(g, (40, 43)), (mg, (654, 657)), (dl, (670, 6...  \n",
       "4                                                 []  "
      ]
     },
     "execution_count": 1532,
     "metadata": {},
     "output_type": "execute_result"
    }
   ],
   "source": [
    "train_raw.head()"
   ]
  },
  {
   "cell_type": "markdown",
   "metadata": {},
   "source": [
    "### Get one row per abbreviation"
   ]
  },
  {
   "cell_type": "markdown",
   "metadata": {},
   "source": [
    "Separate elements lists in different rows"
   ]
  },
  {
   "cell_type": "code",
   "execution_count": 1533,
   "metadata": {},
   "outputs": [],
   "source": [
    "mine = train_raw.explode('zip')"
   ]
  },
  {
   "cell_type": "code",
   "execution_count": 1534,
   "metadata": {},
   "outputs": [
    {
     "data": {
      "text/plain": [
       "(3181, 11)"
      ]
     },
     "execution_count": 1534,
     "metadata": {},
     "output_type": "execute_result"
    }
   ],
   "source": [
    "mine.shape"
   ]
  },
  {
   "cell_type": "code",
   "execution_count": 1535,
   "metadata": {},
   "outputs": [
    {
     "data": {
      "text/plain": [
       "(18, 11)"
      ]
     },
     "execution_count": 1535,
     "metadata": {},
     "output_type": "execute_result"
    }
   ],
   "source": [
    "mine[mine['zip'].isnull()].shape"
   ]
  },
  {
   "cell_type": "code",
   "execution_count": 1536,
   "metadata": {},
   "outputs": [],
   "source": [
    "mine = mine[['doc_id', 'texto_clean', 'tokens', 'zip']]"
   ]
  },
  {
   "cell_type": "code",
   "execution_count": 1537,
   "metadata": {},
   "outputs": [],
   "source": [
    "mine = mine[mine['zip'].notnull()]"
   ]
  },
  {
   "cell_type": "code",
   "execution_count": 1538,
   "metadata": {},
   "outputs": [
    {
     "data": {
      "text/plain": [
       "(3163, 4)"
      ]
     },
     "execution_count": 1538,
     "metadata": {},
     "output_type": "execute_result"
    }
   ],
   "source": [
    "mine.shape"
   ]
  },
  {
   "cell_type": "code",
   "execution_count": 1539,
   "metadata": {},
   "outputs": [
    {
     "data": {
      "text/html": [
       "<div>\n",
       "<style scoped>\n",
       "    .dataframe tbody tr th:only-of-type {\n",
       "        vertical-align: middle;\n",
       "    }\n",
       "\n",
       "    .dataframe tbody tr th {\n",
       "        vertical-align: top;\n",
       "    }\n",
       "\n",
       "    .dataframe thead th {\n",
       "        text-align: right;\n",
       "    }\n",
       "</style>\n",
       "<table border=\"1\" class=\"dataframe\">\n",
       "  <thead>\n",
       "    <tr style=\"text-align: right;\">\n",
       "      <th></th>\n",
       "      <th>doc_id</th>\n",
       "      <th>texto_clean</th>\n",
       "      <th>tokens</th>\n",
       "      <th>zip</th>\n",
       "    </tr>\n",
       "  </thead>\n",
       "  <tbody>\n",
       "    <tr>\n",
       "      <th>0</th>\n",
       "      <td>S1130-05582012000300005-1</td>\n",
       "      <td>acude consultas paciente presenta tumoración c...</td>\n",
       "      <td>[acude, consultas, paciente, presenta, tumorac...</td>\n",
       "      <td>(RM, (789, 791))</td>\n",
       "    </tr>\n",
       "    <tr>\n",
       "      <th>0</th>\n",
       "      <td>S1130-05582012000300005-1</td>\n",
       "      <td>acude consultas paciente presenta tumoración c...</td>\n",
       "      <td>[acude, consultas, paciente, presenta, tumorac...</td>\n",
       "      <td>(PAAF, (1006, 1010))</td>\n",
       "    </tr>\n",
       "    <tr>\n",
       "      <th>1</th>\n",
       "      <td>S0212-71992005000400009-1</td>\n",
       "      <td>trataba varón 27 años edad, sufrido neumonía s...</td>\n",
       "      <td>[trataba, varón, 27, años, edad, ,, sufrido, n...</td>\n",
       "      <td>(mm, (1056, 1059))</td>\n",
       "    </tr>\n",
       "    <tr>\n",
       "      <th>1</th>\n",
       "      <td>S0212-71992005000400009-1</td>\n",
       "      <td>trataba varón 27 años edad, sufrido neumonía s...</td>\n",
       "      <td>[trataba, varón, 27, años, edad, ,, sufrido, n...</td>\n",
       "      <td>(mm, (1079, 1082))</td>\n",
       "    </tr>\n",
       "    <tr>\n",
       "      <th>1</th>\n",
       "      <td>S0212-71992005000400009-1</td>\n",
       "      <td>trataba varón 27 años edad, sufrido neumonía s...</td>\n",
       "      <td>[trataba, varón, 27, años, edad, ,, sufrido, n...</td>\n",
       "      <td>(mg, (1247, 1250))</td>\n",
       "    </tr>\n",
       "  </tbody>\n",
       "</table>\n",
       "</div>"
      ],
      "text/plain": [
       "                      doc_id  \\\n",
       "0  S1130-05582012000300005-1   \n",
       "0  S1130-05582012000300005-1   \n",
       "1  S0212-71992005000400009-1   \n",
       "1  S0212-71992005000400009-1   \n",
       "1  S0212-71992005000400009-1   \n",
       "\n",
       "                                         texto_clean  \\\n",
       "0  acude consultas paciente presenta tumoración c...   \n",
       "0  acude consultas paciente presenta tumoración c...   \n",
       "1  trataba varón 27 años edad, sufrido neumonía s...   \n",
       "1  trataba varón 27 años edad, sufrido neumonía s...   \n",
       "1  trataba varón 27 años edad, sufrido neumonía s...   \n",
       "\n",
       "                                              tokens                   zip  \n",
       "0  [acude, consultas, paciente, presenta, tumorac...      (RM, (789, 791))  \n",
       "0  [acude, consultas, paciente, presenta, tumorac...  (PAAF, (1006, 1010))  \n",
       "1  [trataba, varón, 27, años, edad, ,, sufrido, n...    (mm, (1056, 1059))  \n",
       "1  [trataba, varón, 27, años, edad, ,, sufrido, n...    (mm, (1079, 1082))  \n",
       "1  [trataba, varón, 27, años, edad, ,, sufrido, n...    (mg, (1247, 1250))  "
      ]
     },
     "execution_count": 1539,
     "metadata": {},
     "output_type": "execute_result"
    }
   ],
   "source": [
    "mine.head()"
   ]
  },
  {
   "cell_type": "markdown",
   "metadata": {},
   "source": [
    "### Separate SF from Offsets in different columns"
   ]
  },
  {
   "cell_type": "code",
   "execution_count": 1540,
   "metadata": {},
   "outputs": [],
   "source": [
    "mine['abrev'] = mine.apply(lambda row: row['zip'][0], axis = 1)"
   ]
  },
  {
   "cell_type": "code",
   "execution_count": 1541,
   "metadata": {},
   "outputs": [],
   "source": [
    "mine['offsets'] = mine.apply(lambda row: row['zip'][1], axis = 1)"
   ]
  },
  {
   "cell_type": "code",
   "execution_count": 1542,
   "metadata": {},
   "outputs": [],
   "source": [
    "mine = mine[mine['abrev'] != \"\"]"
   ]
  },
  {
   "cell_type": "code",
   "execution_count": 1543,
   "metadata": {},
   "outputs": [
    {
     "data": {
      "text/html": [
       "<div>\n",
       "<style scoped>\n",
       "    .dataframe tbody tr th:only-of-type {\n",
       "        vertical-align: middle;\n",
       "    }\n",
       "\n",
       "    .dataframe tbody tr th {\n",
       "        vertical-align: top;\n",
       "    }\n",
       "\n",
       "    .dataframe thead th {\n",
       "        text-align: right;\n",
       "    }\n",
       "</style>\n",
       "<table border=\"1\" class=\"dataframe\">\n",
       "  <thead>\n",
       "    <tr style=\"text-align: right;\">\n",
       "      <th></th>\n",
       "      <th>doc_id</th>\n",
       "      <th>texto_clean</th>\n",
       "      <th>tokens</th>\n",
       "      <th>zip</th>\n",
       "      <th>abrev</th>\n",
       "      <th>offsets</th>\n",
       "    </tr>\n",
       "  </thead>\n",
       "  <tbody>\n",
       "    <tr>\n",
       "      <th>0</th>\n",
       "      <td>S1130-05582012000300005-1</td>\n",
       "      <td>acude consultas paciente presenta tumoración c...</td>\n",
       "      <td>[acude, consultas, paciente, presenta, tumorac...</td>\n",
       "      <td>(RM, (789, 791))</td>\n",
       "      <td>RM</td>\n",
       "      <td>(789, 791)</td>\n",
       "    </tr>\n",
       "    <tr>\n",
       "      <th>0</th>\n",
       "      <td>S1130-05582012000300005-1</td>\n",
       "      <td>acude consultas paciente presenta tumoración c...</td>\n",
       "      <td>[acude, consultas, paciente, presenta, tumorac...</td>\n",
       "      <td>(PAAF, (1006, 1010))</td>\n",
       "      <td>PAAF</td>\n",
       "      <td>(1006, 1010)</td>\n",
       "    </tr>\n",
       "    <tr>\n",
       "      <th>1</th>\n",
       "      <td>S0212-71992005000400009-1</td>\n",
       "      <td>trataba varón 27 años edad, sufrido neumonía s...</td>\n",
       "      <td>[trataba, varón, 27, años, edad, ,, sufrido, n...</td>\n",
       "      <td>(mm, (1056, 1059))</td>\n",
       "      <td>mm</td>\n",
       "      <td>(1056, 1059)</td>\n",
       "    </tr>\n",
       "    <tr>\n",
       "      <th>1</th>\n",
       "      <td>S0212-71992005000400009-1</td>\n",
       "      <td>trataba varón 27 años edad, sufrido neumonía s...</td>\n",
       "      <td>[trataba, varón, 27, años, edad, ,, sufrido, n...</td>\n",
       "      <td>(mm, (1079, 1082))</td>\n",
       "      <td>mm</td>\n",
       "      <td>(1079, 1082)</td>\n",
       "    </tr>\n",
       "    <tr>\n",
       "      <th>1</th>\n",
       "      <td>S0212-71992005000400009-1</td>\n",
       "      <td>trataba varón 27 años edad, sufrido neumonía s...</td>\n",
       "      <td>[trataba, varón, 27, años, edad, ,, sufrido, n...</td>\n",
       "      <td>(mg, (1247, 1250))</td>\n",
       "      <td>mg</td>\n",
       "      <td>(1247, 1250)</td>\n",
       "    </tr>\n",
       "  </tbody>\n",
       "</table>\n",
       "</div>"
      ],
      "text/plain": [
       "                      doc_id  \\\n",
       "0  S1130-05582012000300005-1   \n",
       "0  S1130-05582012000300005-1   \n",
       "1  S0212-71992005000400009-1   \n",
       "1  S0212-71992005000400009-1   \n",
       "1  S0212-71992005000400009-1   \n",
       "\n",
       "                                         texto_clean  \\\n",
       "0  acude consultas paciente presenta tumoración c...   \n",
       "0  acude consultas paciente presenta tumoración c...   \n",
       "1  trataba varón 27 años edad, sufrido neumonía s...   \n",
       "1  trataba varón 27 años edad, sufrido neumonía s...   \n",
       "1  trataba varón 27 años edad, sufrido neumonía s...   \n",
       "\n",
       "                                              tokens                   zip  \\\n",
       "0  [acude, consultas, paciente, presenta, tumorac...      (RM, (789, 791))   \n",
       "0  [acude, consultas, paciente, presenta, tumorac...  (PAAF, (1006, 1010))   \n",
       "1  [trataba, varón, 27, años, edad, ,, sufrido, n...    (mm, (1056, 1059))   \n",
       "1  [trataba, varón, 27, años, edad, ,, sufrido, n...    (mm, (1079, 1082))   \n",
       "1  [trataba, varón, 27, años, edad, ,, sufrido, n...    (mg, (1247, 1250))   \n",
       "\n",
       "  abrev       offsets  \n",
       "0    RM    (789, 791)  \n",
       "0  PAAF  (1006, 1010)  \n",
       "1    mm  (1056, 1059)  \n",
       "1    mm  (1079, 1082)  \n",
       "1    mg  (1247, 1250)  "
      ]
     },
     "execution_count": 1543,
     "metadata": {},
     "output_type": "execute_result"
    }
   ],
   "source": [
    "mine.head()"
   ]
  },
  {
   "cell_type": "markdown",
   "metadata": {},
   "source": [
    "Separate offsets tuples in different columns"
   ]
  },
  {
   "cell_type": "code",
   "execution_count": 1544,
   "metadata": {},
   "outputs": [],
   "source": [
    "mine[['startOffset', 'endOffset']] = pd.DataFrame(mine['offsets'].tolist(), index=mine.index) "
   ]
  },
  {
   "cell_type": "code",
   "execution_count": 1545,
   "metadata": {},
   "outputs": [],
   "source": [
    "mine = mine[['doc_id', 'texto_clean', 'tokens', 'abrev', 'startOffset', 'endOffset']]"
   ]
  },
  {
   "cell_type": "code",
   "execution_count": 1546,
   "metadata": {},
   "outputs": [
    {
     "data": {
      "text/html": [
       "<div>\n",
       "<style scoped>\n",
       "    .dataframe tbody tr th:only-of-type {\n",
       "        vertical-align: middle;\n",
       "    }\n",
       "\n",
       "    .dataframe tbody tr th {\n",
       "        vertical-align: top;\n",
       "    }\n",
       "\n",
       "    .dataframe thead th {\n",
       "        text-align: right;\n",
       "    }\n",
       "</style>\n",
       "<table border=\"1\" class=\"dataframe\">\n",
       "  <thead>\n",
       "    <tr style=\"text-align: right;\">\n",
       "      <th></th>\n",
       "      <th>doc_id</th>\n",
       "      <th>texto_clean</th>\n",
       "      <th>tokens</th>\n",
       "      <th>abrev</th>\n",
       "      <th>startOffset</th>\n",
       "      <th>endOffset</th>\n",
       "    </tr>\n",
       "  </thead>\n",
       "  <tbody>\n",
       "    <tr>\n",
       "      <th>0</th>\n",
       "      <td>S1130-05582012000300005-1</td>\n",
       "      <td>acude consultas paciente presenta tumoración c...</td>\n",
       "      <td>[acude, consultas, paciente, presenta, tumorac...</td>\n",
       "      <td>RM</td>\n",
       "      <td>789</td>\n",
       "      <td>791</td>\n",
       "    </tr>\n",
       "    <tr>\n",
       "      <th>0</th>\n",
       "      <td>S1130-05582012000300005-1</td>\n",
       "      <td>acude consultas paciente presenta tumoración c...</td>\n",
       "      <td>[acude, consultas, paciente, presenta, tumorac...</td>\n",
       "      <td>PAAF</td>\n",
       "      <td>1006</td>\n",
       "      <td>1010</td>\n",
       "    </tr>\n",
       "    <tr>\n",
       "      <th>1</th>\n",
       "      <td>S0212-71992005000400009-1</td>\n",
       "      <td>trataba varón 27 años edad, sufrido neumonía s...</td>\n",
       "      <td>[trataba, varón, 27, años, edad, ,, sufrido, n...</td>\n",
       "      <td>mm</td>\n",
       "      <td>1056</td>\n",
       "      <td>1059</td>\n",
       "    </tr>\n",
       "    <tr>\n",
       "      <th>1</th>\n",
       "      <td>S0212-71992005000400009-1</td>\n",
       "      <td>trataba varón 27 años edad, sufrido neumonía s...</td>\n",
       "      <td>[trataba, varón, 27, años, edad, ,, sufrido, n...</td>\n",
       "      <td>mm</td>\n",
       "      <td>1079</td>\n",
       "      <td>1082</td>\n",
       "    </tr>\n",
       "    <tr>\n",
       "      <th>1</th>\n",
       "      <td>S0212-71992005000400009-1</td>\n",
       "      <td>trataba varón 27 años edad, sufrido neumonía s...</td>\n",
       "      <td>[trataba, varón, 27, años, edad, ,, sufrido, n...</td>\n",
       "      <td>mg</td>\n",
       "      <td>1247</td>\n",
       "      <td>1250</td>\n",
       "    </tr>\n",
       "  </tbody>\n",
       "</table>\n",
       "</div>"
      ],
      "text/plain": [
       "                      doc_id  \\\n",
       "0  S1130-05582012000300005-1   \n",
       "0  S1130-05582012000300005-1   \n",
       "1  S0212-71992005000400009-1   \n",
       "1  S0212-71992005000400009-1   \n",
       "1  S0212-71992005000400009-1   \n",
       "\n",
       "                                         texto_clean  \\\n",
       "0  acude consultas paciente presenta tumoración c...   \n",
       "0  acude consultas paciente presenta tumoración c...   \n",
       "1  trataba varón 27 años edad, sufrido neumonía s...   \n",
       "1  trataba varón 27 años edad, sufrido neumonía s...   \n",
       "1  trataba varón 27 años edad, sufrido neumonía s...   \n",
       "\n",
       "                                              tokens abrev  startOffset  \\\n",
       "0  [acude, consultas, paciente, presenta, tumorac...    RM          789   \n",
       "0  [acude, consultas, paciente, presenta, tumorac...  PAAF         1006   \n",
       "1  [trataba, varón, 27, años, edad, ,, sufrido, n...    mm         1056   \n",
       "1  [trataba, varón, 27, años, edad, ,, sufrido, n...    mm         1079   \n",
       "1  [trataba, varón, 27, años, edad, ,, sufrido, n...    mg         1247   \n",
       "\n",
       "   endOffset  \n",
       "0        791  \n",
       "0       1010  \n",
       "1       1059  \n",
       "1       1082  \n",
       "1       1250  "
      ]
     },
     "execution_count": 1546,
     "metadata": {},
     "output_type": "execute_result"
    }
   ],
   "source": [
    "mine.head()"
   ]
  },
  {
   "cell_type": "markdown",
   "metadata": {},
   "source": [
    "Delete null values, and change ttype to integer for offsets columns"
   ]
  },
  {
   "cell_type": "code",
   "execution_count": 1547,
   "metadata": {},
   "outputs": [
    {
     "data": {
      "text/plain": [
       "(3163, 6)"
      ]
     },
     "execution_count": 1547,
     "metadata": {},
     "output_type": "execute_result"
    }
   ],
   "source": [
    "mine.shape"
   ]
  },
  {
   "cell_type": "code",
   "execution_count": 1548,
   "metadata": {},
   "outputs": [],
   "source": [
    "mine.dropna(subset=['startOffset', 'endOffset'], inplace = True)"
   ]
  },
  {
   "cell_type": "code",
   "execution_count": 1549,
   "metadata": {},
   "outputs": [
    {
     "data": {
      "text/plain": [
       "(3163, 6)"
      ]
     },
     "execution_count": 1549,
     "metadata": {},
     "output_type": "execute_result"
    }
   ],
   "source": [
    "mine.shape"
   ]
  },
  {
   "cell_type": "code",
   "execution_count": 1550,
   "metadata": {},
   "outputs": [],
   "source": [
    "mine['startOffset'] = mine['startOffset'].astype(int)\n",
    "mine['endOffset'] = mine['endOffset'].astype(int)"
   ]
  },
  {
   "cell_type": "code",
   "execution_count": 1551,
   "metadata": {},
   "outputs": [],
   "source": [
    "mine = mine[['doc_id', 'texto_clean', 'tokens', 'abrev', 'startOffset', 'endOffset']]"
   ]
  },
  {
   "cell_type": "code",
   "execution_count": 1552,
   "metadata": {},
   "outputs": [
    {
     "data": {
      "text/plain": [
       "(3163, 6)"
      ]
     },
     "execution_count": 1552,
     "metadata": {},
     "output_type": "execute_result"
    }
   ],
   "source": [
    "mine.shape"
   ]
  },
  {
   "cell_type": "code",
   "execution_count": 1553,
   "metadata": {},
   "outputs": [],
   "source": [
    "#mine[mine.duplicated(subset=['doc_id', 'texto_clean', 'abrev', 'startOffset', 'endOffset'], keep=False)]"
   ]
  },
  {
   "cell_type": "code",
   "execution_count": 1554,
   "metadata": {},
   "outputs": [],
   "source": [
    "mine = mine.drop_duplicates(subset = ['doc_id', 'texto_clean', 'abrev', 'startOffset', 'endOffset'])"
   ]
  },
  {
   "cell_type": "code",
   "execution_count": 1555,
   "metadata": {},
   "outputs": [
    {
     "data": {
      "text/plain": [
       "(3163, 6)"
      ]
     },
     "execution_count": 1555,
     "metadata": {},
     "output_type": "execute_result"
    }
   ],
   "source": [
    "mine.shape"
   ]
  },
  {
   "cell_type": "code",
   "execution_count": 1556,
   "metadata": {},
   "outputs": [
    {
     "data": {
      "text/html": [
       "<div>\n",
       "<style scoped>\n",
       "    .dataframe tbody tr th:only-of-type {\n",
       "        vertical-align: middle;\n",
       "    }\n",
       "\n",
       "    .dataframe tbody tr th {\n",
       "        vertical-align: top;\n",
       "    }\n",
       "\n",
       "    .dataframe thead th {\n",
       "        text-align: right;\n",
       "    }\n",
       "</style>\n",
       "<table border=\"1\" class=\"dataframe\">\n",
       "  <thead>\n",
       "    <tr style=\"text-align: right;\">\n",
       "      <th></th>\n",
       "      <th>doc_id</th>\n",
       "      <th>texto_clean</th>\n",
       "      <th>tokens</th>\n",
       "      <th>abrev</th>\n",
       "      <th>startOffset</th>\n",
       "      <th>endOffset</th>\n",
       "    </tr>\n",
       "  </thead>\n",
       "  <tbody>\n",
       "    <tr>\n",
       "      <th>0</th>\n",
       "      <td>S1130-05582012000300005-1</td>\n",
       "      <td>acude consultas paciente presenta tumoración c...</td>\n",
       "      <td>[acude, consultas, paciente, presenta, tumorac...</td>\n",
       "      <td>RM</td>\n",
       "      <td>789</td>\n",
       "      <td>791</td>\n",
       "    </tr>\n",
       "    <tr>\n",
       "      <th>0</th>\n",
       "      <td>S1130-05582012000300005-1</td>\n",
       "      <td>acude consultas paciente presenta tumoración c...</td>\n",
       "      <td>[acude, consultas, paciente, presenta, tumorac...</td>\n",
       "      <td>PAAF</td>\n",
       "      <td>1006</td>\n",
       "      <td>1010</td>\n",
       "    </tr>\n",
       "    <tr>\n",
       "      <th>1</th>\n",
       "      <td>S0212-71992005000400009-1</td>\n",
       "      <td>trataba varón 27 años edad, sufrido neumonía s...</td>\n",
       "      <td>[trataba, varón, 27, años, edad, ,, sufrido, n...</td>\n",
       "      <td>mm</td>\n",
       "      <td>1056</td>\n",
       "      <td>1059</td>\n",
       "    </tr>\n",
       "    <tr>\n",
       "      <th>1</th>\n",
       "      <td>S0212-71992005000400009-1</td>\n",
       "      <td>trataba varón 27 años edad, sufrido neumonía s...</td>\n",
       "      <td>[trataba, varón, 27, años, edad, ,, sufrido, n...</td>\n",
       "      <td>mm</td>\n",
       "      <td>1079</td>\n",
       "      <td>1082</td>\n",
       "    </tr>\n",
       "    <tr>\n",
       "      <th>1</th>\n",
       "      <td>S0212-71992005000400009-1</td>\n",
       "      <td>trataba varón 27 años edad, sufrido neumonía s...</td>\n",
       "      <td>[trataba, varón, 27, años, edad, ,, sufrido, n...</td>\n",
       "      <td>mg</td>\n",
       "      <td>1247</td>\n",
       "      <td>1250</td>\n",
       "    </tr>\n",
       "  </tbody>\n",
       "</table>\n",
       "</div>"
      ],
      "text/plain": [
       "                      doc_id  \\\n",
       "0  S1130-05582012000300005-1   \n",
       "0  S1130-05582012000300005-1   \n",
       "1  S0212-71992005000400009-1   \n",
       "1  S0212-71992005000400009-1   \n",
       "1  S0212-71992005000400009-1   \n",
       "\n",
       "                                         texto_clean  \\\n",
       "0  acude consultas paciente presenta tumoración c...   \n",
       "0  acude consultas paciente presenta tumoración c...   \n",
       "1  trataba varón 27 años edad, sufrido neumonía s...   \n",
       "1  trataba varón 27 años edad, sufrido neumonía s...   \n",
       "1  trataba varón 27 años edad, sufrido neumonía s...   \n",
       "\n",
       "                                              tokens abrev  startOffset  \\\n",
       "0  [acude, consultas, paciente, presenta, tumorac...    RM          789   \n",
       "0  [acude, consultas, paciente, presenta, tumorac...  PAAF         1006   \n",
       "1  [trataba, varón, 27, años, edad, ,, sufrido, n...    mm         1056   \n",
       "1  [trataba, varón, 27, años, edad, ,, sufrido, n...    mm         1079   \n",
       "1  [trataba, varón, 27, años, edad, ,, sufrido, n...    mg         1247   \n",
       "\n",
       "   endOffset  \n",
       "0        791  \n",
       "0       1010  \n",
       "1       1059  \n",
       "1       1082  \n",
       "1       1250  "
      ]
     },
     "execution_count": 1556,
     "metadata": {},
     "output_type": "execute_result"
    }
   ],
   "source": [
    "mine.head()"
   ]
  },
  {
   "cell_type": "code",
   "execution_count": 1557,
   "metadata": {},
   "outputs": [],
   "source": [
    "# mine['abrev'] = mine['abrev'].apply(lambda x: [a.split(\"/\") for a in x])"
   ]
  },
  {
   "cell_type": "markdown",
   "metadata": {},
   "source": [
    "Check dataframes for one text"
   ]
  },
  {
   "cell_type": "code",
   "execution_count": 1558,
   "metadata": {},
   "outputs": [],
   "source": [
    "# mine[mine['doc_id'] == 'S1130-05582012000300005-1']"
   ]
  },
  {
   "cell_type": "code",
   "execution_count": 1559,
   "metadata": {},
   "outputs": [],
   "source": [
    "# train_abbr[train_abbr['doc_id'] == 'S1130-05582012000300005-1']"
   ]
  },
  {
   "cell_type": "markdown",
   "metadata": {},
   "source": [
    "## Search Long Formns"
   ]
  },
  {
   "cell_type": "markdown",
   "metadata": {},
   "source": [
    "### Search Long Forms in the same text"
   ]
  },
  {
   "cell_type": "markdown",
   "metadata": {},
   "source": [
    "**measurement units dictionary**"
   ]
  },
  {
   "cell_type": "code",
   "execution_count": 1560,
   "metadata": {},
   "outputs": [],
   "source": [
    "mu_dic = {\"mL\":\"mililitro\",\n",
    "\"mg\":\"miligramo\",\n",
    "\"g\":\"gramo\",\n",
    "\"L\":\"litro\",\n",
    "\"mcg\":\"microgramo\",\n",
    "\"mmol\":\"milimol\",\n",
    "\"UI\":\"Unidades Internacionales\",\n",
    "\"Miles UI\":\"Miles de Unidades Internacionales\",\n",
    "\"Millones UI\":\"Millones de Unidades Internacionales\",\n",
    "\"UFC\":\"Unidades Formadoras de Colonias\",\n",
    "\"mEq\":\"miliequivalente\",\n",
    "\"ng\":\"manogramo\",\n",
    "\"Lf\":\"Unidad Floculante\",\n",
    "\"UFP\":\"Unidad Formadora de Placa\",\n",
    "\"DIC\":\"Dosis Infectante Mediana de Cultivo Celular 50% \",\n",
    "\"DIT\":\"Dosis Infectante Mediana de Cultivo Tisular 50% \",\n",
    "\"DI\":\"Dosis Infectante 50% \",\n",
    "\"mol\":\"Peso Molecular Gramo \",\n",
    "\"Eq\":\"Peso Equivalente Gramo \",\n",
    "\"Dosis\":\"Dosis\",\n",
    "\"Almh\":\"Almohadilla\",\n",
    "\"Amp\":\"Ampolla\",\n",
    "\"Anl\":\"Anillo\",\n",
    "\"Bar\":\"Barra\",\n",
    "\"Bolsa\":\"Bolsa\",\n",
    "\"Cap\":\"Capsula\",\n",
    "\"Car\":\"Caramelo\",\n",
    "\"Carp\":\"Carpula\",\n",
    "\"Cart\":\"Cartucho\",\n",
    "\"Com\":\"Comprimido\",\n",
    "\"Dia\":\"Dia\",\n",
    "\"Fras\":\"Frasco\",\n",
    "\"Fras-Amp\":\"Frasco Ampolla \",\n",
    "\"Grag\":\"Gragea\",\n",
    "\"Hora\":\"Hora\",\n",
    "\"Imp\":\"Implante\",\n",
    "\"Jab\":\"Jab¢n\",\n",
    "\"Jer\":\"Jeringa Prellenada \",\n",
    "\"uL\":\"Microlitro\",\n",
    "\"Ovu\":\"Ovulo\",\n",
    "\"Parche\":\"Parche\",\n",
    "\"Past\":\"Pastilla\",\n",
    "\"Perl\":\"Perla\",\n",
    "\"Pil\":\"Pildora\",\n",
    "\"Pip\":\"Pipeta\",\n",
    "\"%\":\"Porcentaje\",\n",
    "\"Sach\":\"Sachet\",\n",
    "\"Sob\":\"Sobre\",\n",
    "\"Sup\":\"Supositorio\",\n",
    "\"Tab\":\"Tableta\",\n",
    "\"Troc\":\"Trocisco\",\n",
    "\"Vial\":\"Vial\",\n",
    "\"Kg\":\"Kilogramo\",\n",
    "\"Gal\":\"Galon\",\n",
    "\"Sis\":\"Sistema Terapeutico\",\n",
    "\"mCi\":\"miliCuries\",\n",
    "\"mBq\":\"milibequerel\",\n",
    "\"UEL\":\"Unidades ELISA \",\n",
    "\"DL\":\"Dosis Letal\",\n",
    "\"U USP\":\"Unidades USP \",\n",
    "\"U\":\"Unidades\",\n",
    "\"Rot\":\"Rotacaps\",\n",
    "\"CCID\":\"Dosis Infecciosa en Cultivo de Célula \",\n",
    "\"U\":\"UNIDAD\",\n",
    "\"Otros\":\"Otros\",\n",
    "\"µ Ci\":\"mcroCuries\",\n",
    "\"Esp\":\"Esporas\",\n",
    "\"mcHA\":\"microgramos de HA \",\n",
    "\"Gom\":\"Goma\",\n",
    "\"KIU\":\"Unidad Inhibidora de Calicreina \",\n",
    "\"mcel\":\"Millones de Células \",\n",
    "\"DU\":\"Unidades de Antigeno D\",\n",
    "\"Dil D2\":\"Dil D2\",\n",
    "\"Tin.Mad.\":\"Tintura Madre\",\n",
    "\"Dil D4\":\"Dil D4\",\n",
    "\"Dil D5\":\"Dil D5\",\n",
    "\"Dil D1\":\"Dil D1\",\n",
    "\"Dil D8\":\"Dil D8\",\n",
    "\"Dil D3\":\"Dil D3\",\n",
    "\"OU\":\"Unidad de Opacidad \",\n",
    "\"mm\": \"milimetro\",\n",
    "\"dm\": \"decimetro\",\n",
    "\"cm\": \"centimetro\"}"
   ]
  },
  {
   "cell_type": "code",
   "execution_count": 1561,
   "metadata": {},
   "outputs": [],
   "source": [
    "mine['long_form'] = mine['abrev'].map(mu_dic)"
   ]
  },
  {
   "cell_type": "code",
   "execution_count": 1562,
   "metadata": {},
   "outputs": [
    {
     "data": {
      "text/html": [
       "<div>\n",
       "<style scoped>\n",
       "    .dataframe tbody tr th:only-of-type {\n",
       "        vertical-align: middle;\n",
       "    }\n",
       "\n",
       "    .dataframe tbody tr th {\n",
       "        vertical-align: top;\n",
       "    }\n",
       "\n",
       "    .dataframe thead th {\n",
       "        text-align: right;\n",
       "    }\n",
       "</style>\n",
       "<table border=\"1\" class=\"dataframe\">\n",
       "  <thead>\n",
       "    <tr style=\"text-align: right;\">\n",
       "      <th></th>\n",
       "      <th>doc_id</th>\n",
       "      <th>texto_clean</th>\n",
       "      <th>tokens</th>\n",
       "      <th>abrev</th>\n",
       "      <th>startOffset</th>\n",
       "      <th>endOffset</th>\n",
       "      <th>long_form</th>\n",
       "    </tr>\n",
       "  </thead>\n",
       "  <tbody>\n",
       "    <tr>\n",
       "      <th>0</th>\n",
       "      <td>S1130-05582012000300005-1</td>\n",
       "      <td>acude consultas paciente presenta tumoración c...</td>\n",
       "      <td>[acude, consultas, paciente, presenta, tumorac...</td>\n",
       "      <td>RM</td>\n",
       "      <td>789</td>\n",
       "      <td>791</td>\n",
       "      <td>NaN</td>\n",
       "    </tr>\n",
       "    <tr>\n",
       "      <th>0</th>\n",
       "      <td>S1130-05582012000300005-1</td>\n",
       "      <td>acude consultas paciente presenta tumoración c...</td>\n",
       "      <td>[acude, consultas, paciente, presenta, tumorac...</td>\n",
       "      <td>PAAF</td>\n",
       "      <td>1006</td>\n",
       "      <td>1010</td>\n",
       "      <td>NaN</td>\n",
       "    </tr>\n",
       "    <tr>\n",
       "      <th>1</th>\n",
       "      <td>S0212-71992005000400009-1</td>\n",
       "      <td>trataba varón 27 años edad, sufrido neumonía s...</td>\n",
       "      <td>[trataba, varón, 27, años, edad, ,, sufrido, n...</td>\n",
       "      <td>mm</td>\n",
       "      <td>1056</td>\n",
       "      <td>1059</td>\n",
       "      <td>milimetro</td>\n",
       "    </tr>\n",
       "    <tr>\n",
       "      <th>1</th>\n",
       "      <td>S0212-71992005000400009-1</td>\n",
       "      <td>trataba varón 27 años edad, sufrido neumonía s...</td>\n",
       "      <td>[trataba, varón, 27, años, edad, ,, sufrido, n...</td>\n",
       "      <td>mm</td>\n",
       "      <td>1079</td>\n",
       "      <td>1082</td>\n",
       "      <td>milimetro</td>\n",
       "    </tr>\n",
       "    <tr>\n",
       "      <th>1</th>\n",
       "      <td>S0212-71992005000400009-1</td>\n",
       "      <td>trataba varón 27 años edad, sufrido neumonía s...</td>\n",
       "      <td>[trataba, varón, 27, años, edad, ,, sufrido, n...</td>\n",
       "      <td>mg</td>\n",
       "      <td>1247</td>\n",
       "      <td>1250</td>\n",
       "      <td>miligramo</td>\n",
       "    </tr>\n",
       "  </tbody>\n",
       "</table>\n",
       "</div>"
      ],
      "text/plain": [
       "                      doc_id  \\\n",
       "0  S1130-05582012000300005-1   \n",
       "0  S1130-05582012000300005-1   \n",
       "1  S0212-71992005000400009-1   \n",
       "1  S0212-71992005000400009-1   \n",
       "1  S0212-71992005000400009-1   \n",
       "\n",
       "                                         texto_clean  \\\n",
       "0  acude consultas paciente presenta tumoración c...   \n",
       "0  acude consultas paciente presenta tumoración c...   \n",
       "1  trataba varón 27 años edad, sufrido neumonía s...   \n",
       "1  trataba varón 27 años edad, sufrido neumonía s...   \n",
       "1  trataba varón 27 años edad, sufrido neumonía s...   \n",
       "\n",
       "                                              tokens abrev  startOffset  \\\n",
       "0  [acude, consultas, paciente, presenta, tumorac...    RM          789   \n",
       "0  [acude, consultas, paciente, presenta, tumorac...  PAAF         1006   \n",
       "1  [trataba, varón, 27, años, edad, ,, sufrido, n...    mm         1056   \n",
       "1  [trataba, varón, 27, años, edad, ,, sufrido, n...    mm         1079   \n",
       "1  [trataba, varón, 27, años, edad, ,, sufrido, n...    mg         1247   \n",
       "\n",
       "   endOffset  long_form  \n",
       "0        791        NaN  \n",
       "0       1010        NaN  \n",
       "1       1059  milimetro  \n",
       "1       1082  milimetro  \n",
       "1       1250  miligramo  "
      ]
     },
     "execution_count": 1562,
     "metadata": {},
     "output_type": "execute_result"
    }
   ],
   "source": [
    "mine.head()"
   ]
  },
  {
   "cell_type": "code",
   "execution_count": 1563,
   "metadata": {},
   "outputs": [],
   "source": [
    "# mine_lf = mine[mine['abrev'].str.len() > 1].reset_index()"
   ]
  },
  {
   "cell_type": "markdown",
   "metadata": {},
   "source": [
    "### Get LF before SF"
   ]
  },
  {
   "cell_type": "code",
   "execution_count": 1564,
   "metadata": {},
   "outputs": [],
   "source": [
    "# mine[mine['doc_id'] == 'S0004-06142005000900013-1'].iloc[0]['tokens']"
   ]
  },
  {
   "cell_type": "markdown",
   "metadata": {},
   "source": [
    "With get_longform function, words befores SF that starts with SF letters will be detected"
   ]
  },
  {
   "cell_type": "code",
   "execution_count": 1565,
   "metadata": {},
   "outputs": [],
   "source": [
    "def get_longform(tokens, acro, long):\n",
    "    acro = acro.lower()\n",
    "    long_form = ''\n",
    "    margin = 2\n",
    "    i =0\n",
    "    #Looking for before\n",
    "    if acro not in tokens:\n",
    "        return -1\n",
    "    if pd.isna(long):\n",
    "        index = tokens.index(acro)\n",
    "        for word in tokens[index-margin-len(acro):index]:\n",
    "            #if first letter of word is equal to first letter os acronym\n",
    "            if word[0] == acro[i].lower():\n",
    "                long_form += word + ' '\n",
    "                i += 1\n",
    "                if i == len(acro):\n",
    "                    break\n",
    "            elif (i == 1) and (word[0] == acro[i-1].lower()):\n",
    "                long_form = word + ' '\n",
    "                i = 1\n",
    "                if i == len(acro):\n",
    "                    break\n",
    "        long_form = long_form.rstrip()\n",
    "        #print(re.split(' |-',long_form), len(re.split(' |-',long_form)), len(acro)-1)\n",
    "        if len(re.split(' |-',long_form)) == (len(acro)):\n",
    "            return long_form\n",
    "    else:\n",
    "        return long\n"
   ]
  },
  {
   "cell_type": "code",
   "execution_count": 1566,
   "metadata": {},
   "outputs": [],
   "source": [
    "# mine[mine['doc_id'] == 'S1137-66272013000200023-1'].apply(lambda row: get_longform(row['tokens'], row['abrev'], row['long_form']), axis = 1)"
   ]
  },
  {
   "cell_type": "code",
   "execution_count": 1567,
   "metadata": {
    "scrolled": true
   },
   "outputs": [],
   "source": [
    "mine['long_form'] = mine.apply(lambda row: get_longform(row['tokens'], row['abrev'], row['long_form']), axis = 1)"
   ]
  },
  {
   "cell_type": "code",
   "execution_count": 1568,
   "metadata": {},
   "outputs": [
    {
     "data": {
      "text/html": [
       "<div>\n",
       "<style scoped>\n",
       "    .dataframe tbody tr th:only-of-type {\n",
       "        vertical-align: middle;\n",
       "    }\n",
       "\n",
       "    .dataframe tbody tr th {\n",
       "        vertical-align: top;\n",
       "    }\n",
       "\n",
       "    .dataframe thead th {\n",
       "        text-align: right;\n",
       "    }\n",
       "</style>\n",
       "<table border=\"1\" class=\"dataframe\">\n",
       "  <thead>\n",
       "    <tr style=\"text-align: right;\">\n",
       "      <th></th>\n",
       "      <th>doc_id</th>\n",
       "      <th>texto_clean</th>\n",
       "      <th>tokens</th>\n",
       "      <th>abrev</th>\n",
       "      <th>startOffset</th>\n",
       "      <th>endOffset</th>\n",
       "      <th>long_form</th>\n",
       "    </tr>\n",
       "  </thead>\n",
       "  <tbody>\n",
       "    <tr>\n",
       "      <th>0</th>\n",
       "      <td>S1130-05582012000300005-1</td>\n",
       "      <td>acude consultas paciente presenta tumoración c...</td>\n",
       "      <td>[acude, consultas, paciente, presenta, tumorac...</td>\n",
       "      <td>RM</td>\n",
       "      <td>789</td>\n",
       "      <td>791</td>\n",
       "      <td>resonancia magnética</td>\n",
       "    </tr>\n",
       "    <tr>\n",
       "      <th>0</th>\n",
       "      <td>S1130-05582012000300005-1</td>\n",
       "      <td>acude consultas paciente presenta tumoración c...</td>\n",
       "      <td>[acude, consultas, paciente, presenta, tumorac...</td>\n",
       "      <td>PAAF</td>\n",
       "      <td>1006</td>\n",
       "      <td>1010</td>\n",
       "      <td>None</td>\n",
       "    </tr>\n",
       "    <tr>\n",
       "      <th>1</th>\n",
       "      <td>S0212-71992005000400009-1</td>\n",
       "      <td>trataba varón 27 años edad, sufrido neumonía s...</td>\n",
       "      <td>[trataba, varón, 27, años, edad, ,, sufrido, n...</td>\n",
       "      <td>mm</td>\n",
       "      <td>1056</td>\n",
       "      <td>1059</td>\n",
       "      <td>milimetro</td>\n",
       "    </tr>\n",
       "    <tr>\n",
       "      <th>1</th>\n",
       "      <td>S0212-71992005000400009-1</td>\n",
       "      <td>trataba varón 27 años edad, sufrido neumonía s...</td>\n",
       "      <td>[trataba, varón, 27, años, edad, ,, sufrido, n...</td>\n",
       "      <td>mm</td>\n",
       "      <td>1079</td>\n",
       "      <td>1082</td>\n",
       "      <td>milimetro</td>\n",
       "    </tr>\n",
       "    <tr>\n",
       "      <th>1</th>\n",
       "      <td>S0212-71992005000400009-1</td>\n",
       "      <td>trataba varón 27 años edad, sufrido neumonía s...</td>\n",
       "      <td>[trataba, varón, 27, años, edad, ,, sufrido, n...</td>\n",
       "      <td>mg</td>\n",
       "      <td>1247</td>\n",
       "      <td>1250</td>\n",
       "      <td>miligramo</td>\n",
       "    </tr>\n",
       "  </tbody>\n",
       "</table>\n",
       "</div>"
      ],
      "text/plain": [
       "                      doc_id  \\\n",
       "0  S1130-05582012000300005-1   \n",
       "0  S1130-05582012000300005-1   \n",
       "1  S0212-71992005000400009-1   \n",
       "1  S0212-71992005000400009-1   \n",
       "1  S0212-71992005000400009-1   \n",
       "\n",
       "                                         texto_clean  \\\n",
       "0  acude consultas paciente presenta tumoración c...   \n",
       "0  acude consultas paciente presenta tumoración c...   \n",
       "1  trataba varón 27 años edad, sufrido neumonía s...   \n",
       "1  trataba varón 27 años edad, sufrido neumonía s...   \n",
       "1  trataba varón 27 años edad, sufrido neumonía s...   \n",
       "\n",
       "                                              tokens abrev  startOffset  \\\n",
       "0  [acude, consultas, paciente, presenta, tumorac...    RM          789   \n",
       "0  [acude, consultas, paciente, presenta, tumorac...  PAAF         1006   \n",
       "1  [trataba, varón, 27, años, edad, ,, sufrido, n...    mm         1056   \n",
       "1  [trataba, varón, 27, años, edad, ,, sufrido, n...    mm         1079   \n",
       "1  [trataba, varón, 27, años, edad, ,, sufrido, n...    mg         1247   \n",
       "\n",
       "   endOffset             long_form  \n",
       "0        791  resonancia magnética  \n",
       "0       1010                  None  \n",
       "1       1059             milimetro  \n",
       "1       1082             milimetro  \n",
       "1       1250             miligramo  "
      ]
     },
     "execution_count": 1568,
     "metadata": {},
     "output_type": "execute_result"
    }
   ],
   "source": [
    "mine.head()"
   ]
  },
  {
   "cell_type": "code",
   "execution_count": 1569,
   "metadata": {},
   "outputs": [
    {
     "data": {
      "text/plain": [
       "(3163, 7)"
      ]
     },
     "execution_count": 1569,
     "metadata": {},
     "output_type": "execute_result"
    }
   ],
   "source": [
    "mine.shape"
   ]
  },
  {
   "cell_type": "markdown",
   "metadata": {},
   "source": [
    "### Number of SF and LF in tetxs"
   ]
  },
  {
   "cell_type": "markdown",
   "metadata": {},
   "source": [
    "**Short Forms**"
   ]
  },
  {
   "cell_type": "code",
   "execution_count": 1570,
   "metadata": {},
   "outputs": [
    {
     "data": {
      "text/plain": [
       "695"
      ]
     },
     "execution_count": 1570,
     "metadata": {},
     "output_type": "execute_result"
    }
   ],
   "source": [
    "mine['abrev'].nunique()"
   ]
  },
  {
   "cell_type": "code",
   "execution_count": 1571,
   "metadata": {},
   "outputs": [],
   "source": [
    "pd.options.display.max_rows = 1000"
   ]
  },
  {
   "cell_type": "code",
   "execution_count": 1576,
   "metadata": {},
   "outputs": [],
   "source": [
    "# mine['abrev'].value_counts().sort_index()"
   ]
  },
  {
   "cell_type": "markdown",
   "metadata": {},
   "source": [
    "Delete rows with SF that are just numbers or number + letter"
   ]
  },
  {
   "cell_type": "code",
   "execution_count": 1573,
   "metadata": {},
   "outputs": [
    {
     "data": {
      "text/html": [
       "<div>\n",
       "<style scoped>\n",
       "    .dataframe tbody tr th:only-of-type {\n",
       "        vertical-align: middle;\n",
       "    }\n",
       "\n",
       "    .dataframe tbody tr th {\n",
       "        vertical-align: top;\n",
       "    }\n",
       "\n",
       "    .dataframe thead th {\n",
       "        text-align: right;\n",
       "    }\n",
       "</style>\n",
       "<table border=\"1\" class=\"dataframe\">\n",
       "  <thead>\n",
       "    <tr style=\"text-align: right;\">\n",
       "      <th></th>\n",
       "      <th>doc_id</th>\n",
       "      <th>texto_clean</th>\n",
       "      <th>tokens</th>\n",
       "      <th>abrev</th>\n",
       "      <th>startOffset</th>\n",
       "      <th>endOffset</th>\n",
       "      <th>long_form</th>\n",
       "    </tr>\n",
       "  </thead>\n",
       "  <tbody>\n",
       "    <tr>\n",
       "      <th>3</th>\n",
       "      <td>S0210-56912006000800008-1</td>\n",
       "      <td>hombre 42 años, bebedor 100 g etanol día, ante...</td>\n",
       "      <td>[hombre, 42, años, ,, bebedor, 100, g, etanol,...</td>\n",
       "      <td>5U</td>\n",
       "      <td>2435</td>\n",
       "      <td>2438</td>\n",
       "      <td>-1</td>\n",
       "    </tr>\n",
       "    <tr>\n",
       "      <th>12</th>\n",
       "      <td>S1699-695X2015000100013-1</td>\n",
       "      <td>varón 22 años edad acude consulta atención pri...</td>\n",
       "      <td>[varón, 22, años, edad, acude, consulta, atenc...</td>\n",
       "      <td>70</td>\n",
       "      <td>614</td>\n",
       "      <td>617</td>\n",
       "      <td>-1</td>\n",
       "    </tr>\n",
       "    <tr>\n",
       "      <th>18</th>\n",
       "      <td>S0212-16112009000600017-1</td>\n",
       "      <td>trata varón 60 años antecedentes personales ca...</td>\n",
       "      <td>[trata, varón, 60, años, antecedentes, persona...</td>\n",
       "      <td>24</td>\n",
       "      <td>2298</td>\n",
       "      <td>2301</td>\n",
       "      <td>None</td>\n",
       "    </tr>\n",
       "    <tr>\n",
       "      <th>18</th>\n",
       "      <td>S0212-16112009000600017-1</td>\n",
       "      <td>trata varón 60 años antecedentes personales ca...</td>\n",
       "      <td>[trata, varón, 60, años, antecedentes, persona...</td>\n",
       "      <td>24</td>\n",
       "      <td>3349</td>\n",
       "      <td>3352</td>\n",
       "      <td>None</td>\n",
       "    </tr>\n",
       "    <tr>\n",
       "      <th>23</th>\n",
       "      <td>S1134-80462015000100006-1</td>\n",
       "      <td>paciente femenina 49 años (peso: 60 kilos; tal...</td>\n",
       "      <td>[paciente, femenina, 49, años, (, peso, :, 60,...</td>\n",
       "      <td>10</td>\n",
       "      <td>192</td>\n",
       "      <td>195</td>\n",
       "      <td>None</td>\n",
       "    </tr>\n",
       "  </tbody>\n",
       "</table>\n",
       "</div>"
      ],
      "text/plain": [
       "                       doc_id  \\\n",
       "3   S0210-56912006000800008-1   \n",
       "12  S1699-695X2015000100013-1   \n",
       "18  S0212-16112009000600017-1   \n",
       "18  S0212-16112009000600017-1   \n",
       "23  S1134-80462015000100006-1   \n",
       "\n",
       "                                          texto_clean  \\\n",
       "3   hombre 42 años, bebedor 100 g etanol día, ante...   \n",
       "12  varón 22 años edad acude consulta atención pri...   \n",
       "18  trata varón 60 años antecedentes personales ca...   \n",
       "18  trata varón 60 años antecedentes personales ca...   \n",
       "23  paciente femenina 49 años (peso: 60 kilos; tal...   \n",
       "\n",
       "                                               tokens abrev  startOffset  \\\n",
       "3   [hombre, 42, años, ,, bebedor, 100, g, etanol,...    5U         2435   \n",
       "12  [varón, 22, años, edad, acude, consulta, atenc...    70          614   \n",
       "18  [trata, varón, 60, años, antecedentes, persona...    24         2298   \n",
       "18  [trata, varón, 60, años, antecedentes, persona...    24         3349   \n",
       "23  [paciente, femenina, 49, años, (, peso, :, 60,...    10          192   \n",
       "\n",
       "    endOffset long_form  \n",
       "3        2438        -1  \n",
       "12        617        -1  \n",
       "18       2301      None  \n",
       "18       3352      None  \n",
       "23        195      None  "
      ]
     },
     "execution_count": 1573,
     "metadata": {},
     "output_type": "execute_result"
    }
   ],
   "source": [
    "mine[(mine['abrev'].str.len() <= 2) & (~mine['abrev'].str.isalpha())].head()"
   ]
  },
  {
   "cell_type": "code",
   "execution_count": 1574,
   "metadata": {},
   "outputs": [
    {
     "data": {
      "text/plain": [
       "(3163, 7)"
      ]
     },
     "execution_count": 1574,
     "metadata": {},
     "output_type": "execute_result"
    }
   ],
   "source": [
    "mine.shape"
   ]
  },
  {
   "cell_type": "code",
   "execution_count": 1575,
   "metadata": {},
   "outputs": [
    {
     "data": {
      "text/plain": [
       "(3059, 7)"
      ]
     },
     "execution_count": 1575,
     "metadata": {},
     "output_type": "execute_result"
    }
   ],
   "source": [
    "mine[~((mine['abrev'].str.len() <= 2) & (~mine['abrev'].str.isalpha()))].shape"
   ]
  },
  {
   "cell_type": "code",
   "execution_count": 1577,
   "metadata": {},
   "outputs": [],
   "source": [
    "mine = mine[~((mine['abrev'].str.len() <= 2) & (~mine['abrev'].str.isalpha()))]"
   ]
  },
  {
   "cell_type": "code",
   "execution_count": 1579,
   "metadata": {},
   "outputs": [],
   "source": [
    "# mine['abrev'].value_counts().sort_index()"
   ]
  },
  {
   "cell_type": "markdown",
   "metadata": {},
   "source": [
    "**Long Forms**"
   ]
  },
  {
   "cell_type": "code",
   "execution_count": 1472,
   "metadata": {},
   "outputs": [
    {
     "data": {
      "text/plain": [
       "77"
      ]
     },
     "execution_count": 1472,
     "metadata": {},
     "output_type": "execute_result"
    }
   ],
   "source": [
    "mine['long_form'].nunique()"
   ]
  },
  {
   "cell_type": "markdown",
   "metadata": {},
   "source": [
    "### Study LF founded or not founded"
   ]
  },
  {
   "cell_type": "markdown",
   "metadata": {},
   "source": [
    "Study SF without LF in the running text"
   ]
  },
  {
   "cell_type": "code",
   "execution_count": 1450,
   "metadata": {},
   "outputs": [
    {
     "data": {
      "text/plain": [
       "(921, 7)"
      ]
     },
     "execution_count": 1450,
     "metadata": {},
     "output_type": "execute_result"
    }
   ],
   "source": [
    "mine[mine['long_form'] == -1].shape"
   ]
  },
  {
   "cell_type": "markdown",
   "metadata": {},
   "source": [
    "Check how many texts don't have LF for the SF in the same text"
   ]
  },
  {
   "cell_type": "code",
   "execution_count": 1451,
   "metadata": {},
   "outputs": [
    {
     "data": {
      "text/html": [
       "<div>\n",
       "<style scoped>\n",
       "    .dataframe tbody tr th:only-of-type {\n",
       "        vertical-align: middle;\n",
       "    }\n",
       "\n",
       "    .dataframe tbody tr th {\n",
       "        vertical-align: top;\n",
       "    }\n",
       "\n",
       "    .dataframe thead th {\n",
       "        text-align: right;\n",
       "    }\n",
       "</style>\n",
       "<table border=\"1\" class=\"dataframe\">\n",
       "  <thead>\n",
       "    <tr style=\"text-align: right;\">\n",
       "      <th></th>\n",
       "      <th>doc_id</th>\n",
       "      <th>texto_clean</th>\n",
       "      <th>tokens</th>\n",
       "      <th>abrev</th>\n",
       "      <th>startOffset</th>\n",
       "      <th>endOffset</th>\n",
       "      <th>long_form</th>\n",
       "    </tr>\n",
       "  </thead>\n",
       "  <tbody>\n",
       "    <tr>\n",
       "      <th>14</th>\n",
       "      <td>S0212-71992006000800007-1</td>\n",
       "      <td>paciente mujer raza blanca 66 años edad antece...</td>\n",
       "      <td>[paciente, mujer, raza, blanca, 66, años, edad...</td>\n",
       "      <td>f</td>\n",
       "      <td>882</td>\n",
       "      <td>885</td>\n",
       "      <td></td>\n",
       "    </tr>\n",
       "    <tr>\n",
       "      <th>14</th>\n",
       "      <td>S0212-71992006000800007-1</td>\n",
       "      <td>paciente mujer raza blanca 66 años edad antece...</td>\n",
       "      <td>[paciente, mujer, raza, blanca, 66, años, edad...</td>\n",
       "      <td>q</td>\n",
       "      <td>3841</td>\n",
       "      <td>3844</td>\n",
       "      <td></td>\n",
       "    </tr>\n",
       "    <tr>\n",
       "      <th>23</th>\n",
       "      <td>S1134-80462015000100006-1</td>\n",
       "      <td>paciente femenina 49 años (peso: 60 kilos; tal...</td>\n",
       "      <td>[paciente, femenina, 49, años, (, peso, :, 60,...</td>\n",
       "      <td>h</td>\n",
       "      <td>1018</td>\n",
       "      <td>1021</td>\n",
       "      <td></td>\n",
       "    </tr>\n",
       "    <tr>\n",
       "      <th>27</th>\n",
       "      <td>S1130-05582014000400006-1</td>\n",
       "      <td>trata paciente masculino 52 años edad antecede...</td>\n",
       "      <td>[trata, paciente, masculino, 52, años, edad, a...</td>\n",
       "      <td>h</td>\n",
       "      <td>539</td>\n",
       "      <td>542</td>\n",
       "      <td></td>\n",
       "    </tr>\n",
       "    <tr>\n",
       "      <th>27</th>\n",
       "      <td>S1130-05582014000400006-1</td>\n",
       "      <td>trata paciente masculino 52 años edad antecede...</td>\n",
       "      <td>[trata, paciente, masculino, 52, años, edad, a...</td>\n",
       "      <td>h</td>\n",
       "      <td>1377</td>\n",
       "      <td>1380</td>\n",
       "      <td></td>\n",
       "    </tr>\n",
       "    <tr>\n",
       "      <th>27</th>\n",
       "      <td>S1130-05582014000400006-1</td>\n",
       "      <td>trata paciente masculino 52 años edad antecede...</td>\n",
       "      <td>[trata, paciente, masculino, 52, años, edad, a...</td>\n",
       "      <td>d</td>\n",
       "      <td>1734</td>\n",
       "      <td>1737</td>\n",
       "      <td></td>\n",
       "    </tr>\n",
       "    <tr>\n",
       "      <th>33</th>\n",
       "      <td>S0212-16112011000600041-1</td>\n",
       "      <td>mujer 25 años, fumadora 10 cigarrillos/día, an...</td>\n",
       "      <td>[mujer, 25, años, ,, fumadora, 10, cigarrillos...</td>\n",
       "      <td>u</td>\n",
       "      <td>601</td>\n",
       "      <td>604</td>\n",
       "      <td></td>\n",
       "    </tr>\n",
       "    <tr>\n",
       "      <th>44</th>\n",
       "      <td>S1137-66272015000300014-1</td>\n",
       "      <td>mujer 66 años, intervenida histerectomía anexe...</td>\n",
       "      <td>[mujer, 66, años, ,, intervenida, histerectomí...</td>\n",
       "      <td>l</td>\n",
       "      <td>845</td>\n",
       "      <td>848</td>\n",
       "      <td></td>\n",
       "    </tr>\n",
       "    <tr>\n",
       "      <th>47</th>\n",
       "      <td>S0378-48352005000400004-1</td>\n",
       "      <td>varón 32 años, edad, acude urgencias hospital,...</td>\n",
       "      <td>[varón, 32, años, ,, edad, ,, acude, urgencias...</td>\n",
       "      <td>u</td>\n",
       "      <td>872</td>\n",
       "      <td>875</td>\n",
       "      <td></td>\n",
       "    </tr>\n",
       "    <tr>\n",
       "      <th>58</th>\n",
       "      <td>S1134-80462015000200005-1</td>\n",
       "      <td>presenta caso varón, 32 años (78 kg, 179 cm), ...</td>\n",
       "      <td>[presenta, caso, varón, ,, 32, años, (, 78, kg...</td>\n",
       "      <td>h</td>\n",
       "      <td>3080</td>\n",
       "      <td>3083</td>\n",
       "      <td></td>\n",
       "    </tr>\n",
       "    <tr>\n",
       "      <th>58</th>\n",
       "      <td>S1134-80462015000200005-1</td>\n",
       "      <td>presenta caso varón, 32 años (78 kg, 179 cm), ...</td>\n",
       "      <td>[presenta, caso, varón, ,, 32, años, (, 78, kg...</td>\n",
       "      <td>h</td>\n",
       "      <td>3123</td>\n",
       "      <td>3126</td>\n",
       "      <td></td>\n",
       "    </tr>\n",
       "    <tr>\n",
       "      <th>58</th>\n",
       "      <td>S1134-80462015000200005-1</td>\n",
       "      <td>presenta caso varón, 32 años (78 kg, 179 cm), ...</td>\n",
       "      <td>[presenta, caso, varón, ,, 32, años, (, 78, kg...</td>\n",
       "      <td>h</td>\n",
       "      <td>3205</td>\n",
       "      <td>3208</td>\n",
       "      <td></td>\n",
       "    </tr>\n",
       "    <tr>\n",
       "      <th>58</th>\n",
       "      <td>S1134-80462015000200005-1</td>\n",
       "      <td>presenta caso varón, 32 años (78 kg, 179 cm), ...</td>\n",
       "      <td>[presenta, caso, varón, ,, 32, años, (, 78, kg...</td>\n",
       "      <td>h</td>\n",
       "      <td>3248</td>\n",
       "      <td>3251</td>\n",
       "      <td></td>\n",
       "    </tr>\n",
       "    <tr>\n",
       "      <th>58</th>\n",
       "      <td>S1134-80462015000200005-1</td>\n",
       "      <td>presenta caso varón, 32 años (78 kg, 179 cm), ...</td>\n",
       "      <td>[presenta, caso, varón, ,, 32, años, (, 78, kg...</td>\n",
       "      <td>h</td>\n",
       "      <td>3330</td>\n",
       "      <td>3333</td>\n",
       "      <td></td>\n",
       "    </tr>\n",
       "    <tr>\n",
       "      <th>81</th>\n",
       "      <td>S1131-57682003000300008-1</td>\n",
       "      <td>varón 64 años edad acudió consulta ap tos seca...</td>\n",
       "      <td>[varón, 64, años, edad, acudió, consulta, ap, ...</td>\n",
       "      <td>h</td>\n",
       "      <td>1457</td>\n",
       "      <td>1460</td>\n",
       "      <td></td>\n",
       "    </tr>\n",
       "    <tr>\n",
       "      <th>85</th>\n",
       "      <td>S0210-48062006000100012-1</td>\n",
       "      <td>presentamos caso paciente 41 años consultó dol...</td>\n",
       "      <td>[presentamos, caso, paciente, 41, años, consul...</td>\n",
       "      <td>u</td>\n",
       "      <td>1122</td>\n",
       "      <td>1125</td>\n",
       "      <td></td>\n",
       "    </tr>\n",
       "    <tr>\n",
       "      <th>88</th>\n",
       "      <td>S1135-76062010000200004-1</td>\n",
       "      <td>mujer 18 años antecedentes síncope mes evento ...</td>\n",
       "      <td>[mujer, 18, años, antecedentes, síncope, mes, ...</td>\n",
       "      <td>m</td>\n",
       "      <td>538</td>\n",
       "      <td>541</td>\n",
       "      <td></td>\n",
       "    </tr>\n",
       "    <tr>\n",
       "      <th>93</th>\n",
       "      <td>S1130-63432014000500008-1</td>\n",
       "      <td>paciente 38 años, antecedentes interés, diagno...</td>\n",
       "      <td>[paciente, 38, años, ,, antecedentes, interés,...</td>\n",
       "      <td>h</td>\n",
       "      <td>951</td>\n",
       "      <td>954</td>\n",
       "      <td></td>\n",
       "    </tr>\n",
       "    <tr>\n",
       "      <th>112</th>\n",
       "      <td>S0212-16112012000600045-1</td>\n",
       "      <td>mujer 78 años, 40 kilogramos peso 1,65 m altur...</td>\n",
       "      <td>[mujer, 78, años, ,, 40, kilogramos, peso, 1,6...</td>\n",
       "      <td>m</td>\n",
       "      <td>46</td>\n",
       "      <td>49</td>\n",
       "      <td></td>\n",
       "    </tr>\n",
       "    <tr>\n",
       "      <th>117</th>\n",
       "      <td>S1130-63432013000100011-1</td>\n",
       "      <td>mujer 62 años, hipertensa hipercolesterolémica...</td>\n",
       "      <td>[mujer, 62, años, ,, hipertensa, hipercolester...</td>\n",
       "      <td>h</td>\n",
       "      <td>387</td>\n",
       "      <td>390</td>\n",
       "      <td></td>\n",
       "    </tr>\n",
       "    <tr>\n",
       "      <th>117</th>\n",
       "      <td>S1130-63432013000100011-1</td>\n",
       "      <td>mujer 62 años, hipertensa hipercolesterolémica...</td>\n",
       "      <td>[mujer, 62, años, ,, hipertensa, hipercolester...</td>\n",
       "      <td>h</td>\n",
       "      <td>835</td>\n",
       "      <td>838</td>\n",
       "      <td></td>\n",
       "    </tr>\n",
       "    <tr>\n",
       "      <th>118</th>\n",
       "      <td>S0211-69952009000600023-1</td>\n",
       "      <td>mujer 29 años diagnóstico irc secundaria gefs....</td>\n",
       "      <td>[mujer, 29, años, diagnóstico, irc, secundaria...</td>\n",
       "      <td>i</td>\n",
       "      <td>198</td>\n",
       "      <td>201</td>\n",
       "      <td></td>\n",
       "    </tr>\n",
       "    <tr>\n",
       "      <th>118</th>\n",
       "      <td>S0211-69952009000600023-1</td>\n",
       "      <td>mujer 29 años diagnóstico irc secundaria gefs....</td>\n",
       "      <td>[mujer, 29, años, diagnóstico, irc, secundaria...</td>\n",
       "      <td>i</td>\n",
       "      <td>1160</td>\n",
       "      <td>1163</td>\n",
       "      <td></td>\n",
       "    </tr>\n",
       "    <tr>\n",
       "      <th>137</th>\n",
       "      <td>S0210-48062010000100019-3</td>\n",
       "      <td>paciente mujer 84 años diagnosticada artritis ...</td>\n",
       "      <td>[paciente, mujer, 84, años, diagnosticada, art...</td>\n",
       "      <td>m</td>\n",
       "      <td>575</td>\n",
       "      <td>578</td>\n",
       "      <td></td>\n",
       "    </tr>\n",
       "    <tr>\n",
       "      <th>148</th>\n",
       "      <td>S0212-16112010000100017-1</td>\n",
       "      <td>varón 59 años ingresó septiembre 2008 diagnóst...</td>\n",
       "      <td>[varón, 59, años, ingresó, septiembre, 2008, d...</td>\n",
       "      <td>h</td>\n",
       "      <td>2632</td>\n",
       "      <td>2635</td>\n",
       "      <td></td>\n",
       "    </tr>\n",
       "    <tr>\n",
       "      <th>212</th>\n",
       "      <td>S1130-63432016000100009-1</td>\n",
       "      <td>varón 52 años, 240 kg peso imc 74 kg/m2, ingre...</td>\n",
       "      <td>[varón, 52, años, ,, 240, kg, peso, imc, 74, k...</td>\n",
       "      <td>h</td>\n",
       "      <td>1186</td>\n",
       "      <td>1189</td>\n",
       "      <td></td>\n",
       "    </tr>\n",
       "    <tr>\n",
       "      <th>242</th>\n",
       "      <td>S1130-01082007001100012-1</td>\n",
       "      <td>mujer 80 años hta, irc hipotiroidismo. ingresa...</td>\n",
       "      <td>[mujer, 80, años, hta, ,, irc, hipotiroidismo,...</td>\n",
       "      <td>h</td>\n",
       "      <td>968</td>\n",
       "      <td>971</td>\n",
       "      <td></td>\n",
       "    </tr>\n",
       "    <tr>\n",
       "      <th>243</th>\n",
       "      <td>S1135-76062009000400004-1</td>\n",
       "      <td>trata mujer 53 años, antecedentes migrañas. pr...</td>\n",
       "      <td>[trata, mujer, 53, años, ,, antecedentes, migr...</td>\n",
       "      <td>m</td>\n",
       "      <td>503</td>\n",
       "      <td>506</td>\n",
       "      <td></td>\n",
       "    </tr>\n",
       "    <tr>\n",
       "      <th>288</th>\n",
       "      <td>S0365-66912005001000011-1</td>\n",
       "      <td>realizó vpp asistida triamcinolona paciente pr...</td>\n",
       "      <td>[realizó, vpp, asistida, triamcinolona, pacien...</td>\n",
       "      <td>h</td>\n",
       "      <td>1412</td>\n",
       "      <td>1415</td>\n",
       "      <td></td>\n",
       "    </tr>\n",
       "    <tr>\n",
       "      <th>290</th>\n",
       "      <td>S0365-66912009000300009-1</td>\n",
       "      <td>varón 46 años acude consulta conjuntivitis vír...</td>\n",
       "      <td>[varón, 46, años, acude, consulta, conjuntivit...</td>\n",
       "      <td>h</td>\n",
       "      <td>825</td>\n",
       "      <td>828</td>\n",
       "      <td></td>\n",
       "    </tr>\n",
       "    <tr>\n",
       "      <th>317</th>\n",
       "      <td>S1130-63432014000100012-1</td>\n",
       "      <td>mujer 24 años, natural unidos, 70 kg 175 cm, a...</td>\n",
       "      <td>[mujer, 24, años, ,, natural, unidos, ,, 70, k...</td>\n",
       "      <td>h</td>\n",
       "      <td>1117</td>\n",
       "      <td>1120</td>\n",
       "      <td></td>\n",
       "    </tr>\n",
       "    <tr>\n",
       "      <th>317</th>\n",
       "      <td>S1130-63432014000100012-1</td>\n",
       "      <td>mujer 24 años, natural unidos, 70 kg 175 cm, a...</td>\n",
       "      <td>[mujer, 24, años, ,, natural, unidos, ,, 70, k...</td>\n",
       "      <td>h</td>\n",
       "      <td>1160</td>\n",
       "      <td>1163</td>\n",
       "      <td></td>\n",
       "    </tr>\n",
       "    <tr>\n",
       "      <th>317</th>\n",
       "      <td>S1130-63432014000100012-1</td>\n",
       "      <td>mujer 24 años, natural unidos, 70 kg 175 cm, a...</td>\n",
       "      <td>[mujer, 24, años, ,, natural, unidos, ,, 70, k...</td>\n",
       "      <td>h</td>\n",
       "      <td>1483</td>\n",
       "      <td>1486</td>\n",
       "      <td></td>\n",
       "    </tr>\n",
       "    <tr>\n",
       "      <th>317</th>\n",
       "      <td>S1130-63432014000100012-1</td>\n",
       "      <td>mujer 24 años, natural unidos, 70 kg 175 cm, a...</td>\n",
       "      <td>[mujer, 24, años, ,, natural, unidos, ,, 70, k...</td>\n",
       "      <td>h</td>\n",
       "      <td>1642</td>\n",
       "      <td>1645</td>\n",
       "      <td></td>\n",
       "    </tr>\n",
       "    <tr>\n",
       "      <th>317</th>\n",
       "      <td>S1130-63432014000100012-1</td>\n",
       "      <td>mujer 24 años, natural unidos, 70 kg 175 cm, a...</td>\n",
       "      <td>[mujer, 24, años, ,, natural, unidos, ,, 70, k...</td>\n",
       "      <td>h</td>\n",
       "      <td>1676</td>\n",
       "      <td>1679</td>\n",
       "      <td></td>\n",
       "    </tr>\n",
       "    <tr>\n",
       "      <th>317</th>\n",
       "      <td>S1130-63432014000100012-1</td>\n",
       "      <td>mujer 24 años, natural unidos, 70 kg 175 cm, a...</td>\n",
       "      <td>[mujer, 24, años, ,, natural, unidos, ,, 70, k...</td>\n",
       "      <td>h</td>\n",
       "      <td>1882</td>\n",
       "      <td>1885</td>\n",
       "      <td></td>\n",
       "    </tr>\n",
       "    <tr>\n",
       "      <th>317</th>\n",
       "      <td>S1130-63432014000100012-1</td>\n",
       "      <td>mujer 24 años, natural unidos, 70 kg 175 cm, a...</td>\n",
       "      <td>[mujer, 24, años, ,, natural, unidos, ,, 70, k...</td>\n",
       "      <td>h</td>\n",
       "      <td>2952</td>\n",
       "      <td>2955</td>\n",
       "      <td></td>\n",
       "    </tr>\n",
       "    <tr>\n",
       "      <th>317</th>\n",
       "      <td>S1130-63432014000100012-1</td>\n",
       "      <td>mujer 24 años, natural unidos, 70 kg 175 cm, a...</td>\n",
       "      <td>[mujer, 24, años, ,, natural, unidos, ,, 70, k...</td>\n",
       "      <td>h</td>\n",
       "      <td>2983</td>\n",
       "      <td>2986</td>\n",
       "      <td></td>\n",
       "    </tr>\n",
       "    <tr>\n",
       "      <th>317</th>\n",
       "      <td>S1130-63432014000100012-1</td>\n",
       "      <td>mujer 24 años, natural unidos, 70 kg 175 cm, a...</td>\n",
       "      <td>[mujer, 24, años, ,, natural, unidos, ,, 70, k...</td>\n",
       "      <td>h</td>\n",
       "      <td>3041</td>\n",
       "      <td>3044</td>\n",
       "      <td></td>\n",
       "    </tr>\n",
       "    <tr>\n",
       "      <th>317</th>\n",
       "      <td>S1130-63432014000100012-1</td>\n",
       "      <td>mujer 24 años, natural unidos, 70 kg 175 cm, a...</td>\n",
       "      <td>[mujer, 24, años, ,, natural, unidos, ,, 70, k...</td>\n",
       "      <td>h</td>\n",
       "      <td>3526</td>\n",
       "      <td>3529</td>\n",
       "      <td></td>\n",
       "    </tr>\n",
       "    <tr>\n",
       "      <th>317</th>\n",
       "      <td>S1130-63432014000100012-1</td>\n",
       "      <td>mujer 24 años, natural unidos, 70 kg 175 cm, a...</td>\n",
       "      <td>[mujer, 24, años, ,, natural, unidos, ,, 70, k...</td>\n",
       "      <td>h</td>\n",
       "      <td>3557</td>\n",
       "      <td>3560</td>\n",
       "      <td></td>\n",
       "    </tr>\n",
       "    <tr>\n",
       "      <th>317</th>\n",
       "      <td>S1130-63432014000100012-1</td>\n",
       "      <td>mujer 24 años, natural unidos, 70 kg 175 cm, a...</td>\n",
       "      <td>[mujer, 24, años, ,, natural, unidos, ,, 70, k...</td>\n",
       "      <td>h</td>\n",
       "      <td>5178</td>\n",
       "      <td>5181</td>\n",
       "      <td></td>\n",
       "    </tr>\n",
       "  </tbody>\n",
       "</table>\n",
       "</div>"
      ],
      "text/plain": [
       "                        doc_id  \\\n",
       "14   S0212-71992006000800007-1   \n",
       "14   S0212-71992006000800007-1   \n",
       "23   S1134-80462015000100006-1   \n",
       "27   S1130-05582014000400006-1   \n",
       "27   S1130-05582014000400006-1   \n",
       "27   S1130-05582014000400006-1   \n",
       "33   S0212-16112011000600041-1   \n",
       "44   S1137-66272015000300014-1   \n",
       "47   S0378-48352005000400004-1   \n",
       "58   S1134-80462015000200005-1   \n",
       "58   S1134-80462015000200005-1   \n",
       "58   S1134-80462015000200005-1   \n",
       "58   S1134-80462015000200005-1   \n",
       "58   S1134-80462015000200005-1   \n",
       "81   S1131-57682003000300008-1   \n",
       "85   S0210-48062006000100012-1   \n",
       "88   S1135-76062010000200004-1   \n",
       "93   S1130-63432014000500008-1   \n",
       "112  S0212-16112012000600045-1   \n",
       "117  S1130-63432013000100011-1   \n",
       "117  S1130-63432013000100011-1   \n",
       "118  S0211-69952009000600023-1   \n",
       "118  S0211-69952009000600023-1   \n",
       "137  S0210-48062010000100019-3   \n",
       "148  S0212-16112010000100017-1   \n",
       "212  S1130-63432016000100009-1   \n",
       "242  S1130-01082007001100012-1   \n",
       "243  S1135-76062009000400004-1   \n",
       "288  S0365-66912005001000011-1   \n",
       "290  S0365-66912009000300009-1   \n",
       "317  S1130-63432014000100012-1   \n",
       "317  S1130-63432014000100012-1   \n",
       "317  S1130-63432014000100012-1   \n",
       "317  S1130-63432014000100012-1   \n",
       "317  S1130-63432014000100012-1   \n",
       "317  S1130-63432014000100012-1   \n",
       "317  S1130-63432014000100012-1   \n",
       "317  S1130-63432014000100012-1   \n",
       "317  S1130-63432014000100012-1   \n",
       "317  S1130-63432014000100012-1   \n",
       "317  S1130-63432014000100012-1   \n",
       "317  S1130-63432014000100012-1   \n",
       "\n",
       "                                           texto_clean  \\\n",
       "14   paciente mujer raza blanca 66 años edad antece...   \n",
       "14   paciente mujer raza blanca 66 años edad antece...   \n",
       "23   paciente femenina 49 años (peso: 60 kilos; tal...   \n",
       "27   trata paciente masculino 52 años edad antecede...   \n",
       "27   trata paciente masculino 52 años edad antecede...   \n",
       "27   trata paciente masculino 52 años edad antecede...   \n",
       "33   mujer 25 años, fumadora 10 cigarrillos/día, an...   \n",
       "44   mujer 66 años, intervenida histerectomía anexe...   \n",
       "47   varón 32 años, edad, acude urgencias hospital,...   \n",
       "58   presenta caso varón, 32 años (78 kg, 179 cm), ...   \n",
       "58   presenta caso varón, 32 años (78 kg, 179 cm), ...   \n",
       "58   presenta caso varón, 32 años (78 kg, 179 cm), ...   \n",
       "58   presenta caso varón, 32 años (78 kg, 179 cm), ...   \n",
       "58   presenta caso varón, 32 años (78 kg, 179 cm), ...   \n",
       "81   varón 64 años edad acudió consulta ap tos seca...   \n",
       "85   presentamos caso paciente 41 años consultó dol...   \n",
       "88   mujer 18 años antecedentes síncope mes evento ...   \n",
       "93   paciente 38 años, antecedentes interés, diagno...   \n",
       "112  mujer 78 años, 40 kilogramos peso 1,65 m altur...   \n",
       "117  mujer 62 años, hipertensa hipercolesterolémica...   \n",
       "117  mujer 62 años, hipertensa hipercolesterolémica...   \n",
       "118  mujer 29 años diagnóstico irc secundaria gefs....   \n",
       "118  mujer 29 años diagnóstico irc secundaria gefs....   \n",
       "137  paciente mujer 84 años diagnosticada artritis ...   \n",
       "148  varón 59 años ingresó septiembre 2008 diagnóst...   \n",
       "212  varón 52 años, 240 kg peso imc 74 kg/m2, ingre...   \n",
       "242  mujer 80 años hta, irc hipotiroidismo. ingresa...   \n",
       "243  trata mujer 53 años, antecedentes migrañas. pr...   \n",
       "288  realizó vpp asistida triamcinolona paciente pr...   \n",
       "290  varón 46 años acude consulta conjuntivitis vír...   \n",
       "317  mujer 24 años, natural unidos, 70 kg 175 cm, a...   \n",
       "317  mujer 24 años, natural unidos, 70 kg 175 cm, a...   \n",
       "317  mujer 24 años, natural unidos, 70 kg 175 cm, a...   \n",
       "317  mujer 24 años, natural unidos, 70 kg 175 cm, a...   \n",
       "317  mujer 24 años, natural unidos, 70 kg 175 cm, a...   \n",
       "317  mujer 24 años, natural unidos, 70 kg 175 cm, a...   \n",
       "317  mujer 24 años, natural unidos, 70 kg 175 cm, a...   \n",
       "317  mujer 24 años, natural unidos, 70 kg 175 cm, a...   \n",
       "317  mujer 24 años, natural unidos, 70 kg 175 cm, a...   \n",
       "317  mujer 24 años, natural unidos, 70 kg 175 cm, a...   \n",
       "317  mujer 24 años, natural unidos, 70 kg 175 cm, a...   \n",
       "317  mujer 24 años, natural unidos, 70 kg 175 cm, a...   \n",
       "\n",
       "                                                tokens abrev  startOffset  \\\n",
       "14   [paciente, mujer, raza, blanca, 66, años, edad...     f          882   \n",
       "14   [paciente, mujer, raza, blanca, 66, años, edad...     q         3841   \n",
       "23   [paciente, femenina, 49, años, (, peso, :, 60,...     h         1018   \n",
       "27   [trata, paciente, masculino, 52, años, edad, a...     h          539   \n",
       "27   [trata, paciente, masculino, 52, años, edad, a...     h         1377   \n",
       "27   [trata, paciente, masculino, 52, años, edad, a...     d         1734   \n",
       "33   [mujer, 25, años, ,, fumadora, 10, cigarrillos...     u          601   \n",
       "44   [mujer, 66, años, ,, intervenida, histerectomí...     l          845   \n",
       "47   [varón, 32, años, ,, edad, ,, acude, urgencias...     u          872   \n",
       "58   [presenta, caso, varón, ,, 32, años, (, 78, kg...     h         3080   \n",
       "58   [presenta, caso, varón, ,, 32, años, (, 78, kg...     h         3123   \n",
       "58   [presenta, caso, varón, ,, 32, años, (, 78, kg...     h         3205   \n",
       "58   [presenta, caso, varón, ,, 32, años, (, 78, kg...     h         3248   \n",
       "58   [presenta, caso, varón, ,, 32, años, (, 78, kg...     h         3330   \n",
       "81   [varón, 64, años, edad, acudió, consulta, ap, ...     h         1457   \n",
       "85   [presentamos, caso, paciente, 41, años, consul...     u         1122   \n",
       "88   [mujer, 18, años, antecedentes, síncope, mes, ...     m          538   \n",
       "93   [paciente, 38, años, ,, antecedentes, interés,...     h          951   \n",
       "112  [mujer, 78, años, ,, 40, kilogramos, peso, 1,6...     m           46   \n",
       "117  [mujer, 62, años, ,, hipertensa, hipercolester...     h          387   \n",
       "117  [mujer, 62, años, ,, hipertensa, hipercolester...     h          835   \n",
       "118  [mujer, 29, años, diagnóstico, irc, secundaria...     i          198   \n",
       "118  [mujer, 29, años, diagnóstico, irc, secundaria...     i         1160   \n",
       "137  [paciente, mujer, 84, años, diagnosticada, art...     m          575   \n",
       "148  [varón, 59, años, ingresó, septiembre, 2008, d...     h         2632   \n",
       "212  [varón, 52, años, ,, 240, kg, peso, imc, 74, k...     h         1186   \n",
       "242  [mujer, 80, años, hta, ,, irc, hipotiroidismo,...     h          968   \n",
       "243  [trata, mujer, 53, años, ,, antecedentes, migr...     m          503   \n",
       "288  [realizó, vpp, asistida, triamcinolona, pacien...     h         1412   \n",
       "290  [varón, 46, años, acude, consulta, conjuntivit...     h          825   \n",
       "317  [mujer, 24, años, ,, natural, unidos, ,, 70, k...     h         1117   \n",
       "317  [mujer, 24, años, ,, natural, unidos, ,, 70, k...     h         1160   \n",
       "317  [mujer, 24, años, ,, natural, unidos, ,, 70, k...     h         1483   \n",
       "317  [mujer, 24, años, ,, natural, unidos, ,, 70, k...     h         1642   \n",
       "317  [mujer, 24, años, ,, natural, unidos, ,, 70, k...     h         1676   \n",
       "317  [mujer, 24, años, ,, natural, unidos, ,, 70, k...     h         1882   \n",
       "317  [mujer, 24, años, ,, natural, unidos, ,, 70, k...     h         2952   \n",
       "317  [mujer, 24, años, ,, natural, unidos, ,, 70, k...     h         2983   \n",
       "317  [mujer, 24, años, ,, natural, unidos, ,, 70, k...     h         3041   \n",
       "317  [mujer, 24, años, ,, natural, unidos, ,, 70, k...     h         3526   \n",
       "317  [mujer, 24, años, ,, natural, unidos, ,, 70, k...     h         3557   \n",
       "317  [mujer, 24, años, ,, natural, unidos, ,, 70, k...     h         5178   \n",
       "\n",
       "     endOffset long_form  \n",
       "14         885            \n",
       "14        3844            \n",
       "23        1021            \n",
       "27         542            \n",
       "27        1380            \n",
       "27        1737            \n",
       "33         604            \n",
       "44         848            \n",
       "47         875            \n",
       "58        3083            \n",
       "58        3126            \n",
       "58        3208            \n",
       "58        3251            \n",
       "58        3333            \n",
       "81        1460            \n",
       "85        1125            \n",
       "88         541            \n",
       "93         954            \n",
       "112         49            \n",
       "117        390            \n",
       "117        838            \n",
       "118        201            \n",
       "118       1163            \n",
       "137        578            \n",
       "148       2635            \n",
       "212       1189            \n",
       "242        971            \n",
       "243        506            \n",
       "288       1415            \n",
       "290        828            \n",
       "317       1120            \n",
       "317       1163            \n",
       "317       1486            \n",
       "317       1645            \n",
       "317       1679            \n",
       "317       1885            \n",
       "317       2955            \n",
       "317       2986            \n",
       "317       3044            \n",
       "317       3529            \n",
       "317       3560            \n",
       "317       5181            "
      ]
     },
     "execution_count": 1451,
     "metadata": {},
     "output_type": "execute_result"
    }
   ],
   "source": [
    "mine[(mine['abrev'].notnull()) & (mine['long_form']== '')]"
   ]
  },
  {
   "cell_type": "code",
   "execution_count": 1452,
   "metadata": {},
   "outputs": [
    {
     "data": {
      "text/plain": [
       "42"
      ]
     },
     "execution_count": 1452,
     "metadata": {},
     "output_type": "execute_result"
    }
   ],
   "source": [
    "lf_null = mine[(mine['abrev'].notnull()) & (mine['long_form'] == '')].shape[0]\n",
    "lf_null"
   ]
  },
  {
   "cell_type": "code",
   "execution_count": 1453,
   "metadata": {},
   "outputs": [
    {
     "name": "stdout",
     "output_type": "stream",
     "text": [
      "LF has not be found in the same text where the SF is in  1.33% of texts\n"
     ]
    }
   ],
   "source": [
    "print(f\"LF has not be found in the same text where the SF is in {lf_null/mine.shape[0]*100: .2f}% of texts\")"
   ]
  },
  {
   "cell_type": "markdown",
   "metadata": {},
   "source": [
    "**Create dictionary with SF and LF pairs founded in the same text**"
   ]
  },
  {
   "cell_type": "code",
   "execution_count": 1454,
   "metadata": {},
   "outputs": [],
   "source": [
    "df_pairs = mine[(mine['abrev'].notnull()) & (mine['long_form'] != '')]"
   ]
  },
  {
   "cell_type": "code",
   "execution_count": 1455,
   "metadata": {},
   "outputs": [],
   "source": [
    "df_pairs.reset_index(drop = True, inplace = True)"
   ]
  },
  {
   "cell_type": "code",
   "execution_count": 1456,
   "metadata": {},
   "outputs": [
    {
     "data": {
      "text/html": [
       "<div>\n",
       "<style scoped>\n",
       "    .dataframe tbody tr th:only-of-type {\n",
       "        vertical-align: middle;\n",
       "    }\n",
       "\n",
       "    .dataframe tbody tr th {\n",
       "        vertical-align: top;\n",
       "    }\n",
       "\n",
       "    .dataframe thead th {\n",
       "        text-align: right;\n",
       "    }\n",
       "</style>\n",
       "<table border=\"1\" class=\"dataframe\">\n",
       "  <thead>\n",
       "    <tr style=\"text-align: right;\">\n",
       "      <th></th>\n",
       "      <th>doc_id</th>\n",
       "      <th>texto_clean</th>\n",
       "      <th>tokens</th>\n",
       "      <th>abrev</th>\n",
       "      <th>startOffset</th>\n",
       "      <th>endOffset</th>\n",
       "      <th>long_form</th>\n",
       "    </tr>\n",
       "  </thead>\n",
       "  <tbody>\n",
       "    <tr>\n",
       "      <th>0</th>\n",
       "      <td>S1130-05582012000300005-1</td>\n",
       "      <td>acude consultas paciente presenta tumoración c...</td>\n",
       "      <td>[acude, consultas, paciente, presenta, tumorac...</td>\n",
       "      <td>RM</td>\n",
       "      <td>789</td>\n",
       "      <td>791</td>\n",
       "      <td>resonancia magnética</td>\n",
       "    </tr>\n",
       "    <tr>\n",
       "      <th>1</th>\n",
       "      <td>S1130-05582012000300005-1</td>\n",
       "      <td>acude consultas paciente presenta tumoración c...</td>\n",
       "      <td>[acude, consultas, paciente, presenta, tumorac...</td>\n",
       "      <td>PAAF</td>\n",
       "      <td>1006</td>\n",
       "      <td>1010</td>\n",
       "      <td>None</td>\n",
       "    </tr>\n",
       "    <tr>\n",
       "      <th>2</th>\n",
       "      <td>S0212-71992005000400009-1</td>\n",
       "      <td>trataba varón 27 años edad, sufrido neumonía s...</td>\n",
       "      <td>[trataba, varón, 27, años, edad, ,, sufrido, n...</td>\n",
       "      <td>mm</td>\n",
       "      <td>1056</td>\n",
       "      <td>1059</td>\n",
       "      <td>milimetro</td>\n",
       "    </tr>\n",
       "    <tr>\n",
       "      <th>3</th>\n",
       "      <td>S0212-71992005000400009-1</td>\n",
       "      <td>trataba varón 27 años edad, sufrido neumonía s...</td>\n",
       "      <td>[trataba, varón, 27, años, edad, ,, sufrido, n...</td>\n",
       "      <td>mm</td>\n",
       "      <td>1079</td>\n",
       "      <td>1082</td>\n",
       "      <td>milimetro</td>\n",
       "    </tr>\n",
       "    <tr>\n",
       "      <th>4</th>\n",
       "      <td>S0212-71992005000400009-1</td>\n",
       "      <td>trataba varón 27 años edad, sufrido neumonía s...</td>\n",
       "      <td>[trataba, varón, 27, años, edad, ,, sufrido, n...</td>\n",
       "      <td>mg</td>\n",
       "      <td>1247</td>\n",
       "      <td>1250</td>\n",
       "      <td>miligramo</td>\n",
       "    </tr>\n",
       "  </tbody>\n",
       "</table>\n",
       "</div>"
      ],
      "text/plain": [
       "                      doc_id  \\\n",
       "0  S1130-05582012000300005-1   \n",
       "1  S1130-05582012000300005-1   \n",
       "2  S0212-71992005000400009-1   \n",
       "3  S0212-71992005000400009-1   \n",
       "4  S0212-71992005000400009-1   \n",
       "\n",
       "                                         texto_clean  \\\n",
       "0  acude consultas paciente presenta tumoración c...   \n",
       "1  acude consultas paciente presenta tumoración c...   \n",
       "2  trataba varón 27 años edad, sufrido neumonía s...   \n",
       "3  trataba varón 27 años edad, sufrido neumonía s...   \n",
       "4  trataba varón 27 años edad, sufrido neumonía s...   \n",
       "\n",
       "                                              tokens abrev  startOffset  \\\n",
       "0  [acude, consultas, paciente, presenta, tumorac...    RM          789   \n",
       "1  [acude, consultas, paciente, presenta, tumorac...  PAAF         1006   \n",
       "2  [trataba, varón, 27, años, edad, ,, sufrido, n...    mm         1056   \n",
       "3  [trataba, varón, 27, años, edad, ,, sufrido, n...    mm         1079   \n",
       "4  [trataba, varón, 27, años, edad, ,, sufrido, n...    mg         1247   \n",
       "\n",
       "   endOffset             long_form  \n",
       "0        791  resonancia magnética  \n",
       "1       1010                  None  \n",
       "2       1059             milimetro  \n",
       "3       1082             milimetro  \n",
       "4       1250             miligramo  "
      ]
     },
     "execution_count": 1456,
     "metadata": {},
     "output_type": "execute_result"
    }
   ],
   "source": [
    "df_pairs.head()"
   ]
  },
  {
   "cell_type": "code",
   "execution_count": 1459,
   "metadata": {},
   "outputs": [],
   "source": [
    "pairs_dic = {}\n",
    "for index, row in df_pairs.iterrows():\n",
    "    if (row['long_form'] != -1) & (row['long_form'] != None):\n",
    "        if not row['abrev'] in pairs_dic:\n",
    "            pairs_dic[row['abrev']] = set()\n",
    "        pairs_dic[row['abrev']].add(row['long_form'])"
   ]
  },
  {
   "cell_type": "code",
   "execution_count": 1460,
   "metadata": {},
   "outputs": [
    {
     "data": {
      "text/plain": [
       "{'RM': {'resonancia magnética'},\n",
       " 'mm': {'milimetro'},\n",
       " 'mg': {'miligramo'},\n",
       " 'g': {'gramo'},\n",
       " 'TAC': {'tomografia axial computarizada',\n",
       "  'tomografía axial computadorizada',\n",
       "  'tomografía axial computarizada',\n",
       "  'tomografía axial computerizada'},\n",
       " 'UCI': {'unidad cuidados intensivos'},\n",
       " 'cm': {'centimetro'},\n",
       " 'AP': {'atención primaria'},\n",
       " 'PRC': {'programa rehabilitación cardiaca'},\n",
       " 'UI': {'Unidades Internacionales'},\n",
       " 'TC': {'tomografía computadorizada',\n",
       "  'tomografía computarizada',\n",
       "  'tomografía computerizada'},\n",
       " 'RMN': {'resonancia magnética nuclear'},\n",
       " 'LLA': {'leucemia linfoblástica aguda'},\n",
       " 'FO': {'fondo ojo'},\n",
       " 'CDI': {'cockcroft-gault diagnostica'},\n",
       " 'TCS': {'tejido celular subcutáneo'},\n",
       " 'mEq': {'miliequivalente'},\n",
       " 'SPRL': {'servicio prevención riesgos laborales'},\n",
       " 'OD': {'ojo derecho'},\n",
       " 'OI': {'ojo izquierdo'},\n",
       " 'RNM': {'resonancia nuclear magnética'},\n",
       " 'PFP': {'pruebas función pulmonar'},\n",
       " 'ECE': {'enteroscopia cápsula endoscópica'},\n",
       " 'AV': {'agudeza visual'},\n",
       " 'DPAR': {'defecto pupilar aferente relativo'},\n",
       " 'AO': {'ambos ojos'},\n",
       " 'MA': {'membrana amniótica'},\n",
       " 'DP': {'diámetros papilares'},\n",
       " 'AVI': {'agf verde indocianina', 'angiografía verde indocianina'},\n",
       " 'uL': {'Microlitro'},\n",
       " 'mL': {'mililitro'},\n",
       " 'PCR': {'proteína c reactiva'},\n",
       " 'NP': {'nutrición parenteral'},\n",
       " 'NE': {'nutrición enteral'},\n",
       " 'CD': {'coronaria derecha'},\n",
       " 'DA': {'descendente anterior'},\n",
       " 'TAM': {'tensión arterial media'},\n",
       " 'GC': {'gasto cardíaco'},\n",
       " 'RVS': {'resistencias vasculares sistémica'},\n",
       " 'GER': {'gasto energético reposo'},\n",
       " 'HQR': {'hamartoma quístico retrorrectal'},\n",
       " 'MAVC': {'mejor agudeza visual corregida'},\n",
       " 'EA': {'estrías angioides'},\n",
       " 'EPR': {'epitelio pigmentario retiniano'},\n",
       " 'CA': {'cámara anterior'},\n",
       " 'EVA': {'escala visual analógica'},\n",
       " 'EPOC': {'enfermedad pulmonar obstructiva crónica'},\n",
       " 'VEB': {'virus epstein barr', 'virus epstein-barr'},\n",
       " 'VHS': {'virus herpes simple'},\n",
       " 'VVZ': {'virus varicela zóster'},\n",
       " 'MID': {'miembro inferior derecho'},\n",
       " 'UCIP': {'unidad cuidados intensivos pediátrica'},\n",
       " 'INSS': {'instituto nacional seguridad social'},\n",
       " 'TAS': {'tensión arterial sistólica'},\n",
       " 'TSOH': {'test sangre oculta heces'},\n",
       " 'EF': {'edad familiares'},\n",
       " 'CU': {'colitis ulcerosa'},\n",
       " 'RN': {'rango normal'},\n",
       " 'LLBCP': {'linfoma linfocítico b células pequeñas'},\n",
       " 'LPP': {'linfoma pulmonar primario'},\n",
       " 'UMI': {'unidad medicina intensiva'},\n",
       " 'BA': {'balance articular'},\n",
       " 'BM': {'balance muscular'},\n",
       " 'VSG': {'velocidad sedimentación globular'},\n",
       " 'PAAF': {'punción aspiración aguja fina'},\n",
       " 'u': {'uso'},\n",
       " 'ELA': {'esclerosis lateral amiotrófica'},\n",
       " 'ROT': {'reflejo osteo-tendinoso'}}"
      ]
     },
     "execution_count": 1460,
     "metadata": {},
     "output_type": "execute_result"
    }
   ],
   "source": [
    "pairs_dic"
   ]
  },
  {
   "cell_type": "code",
   "execution_count": 328,
   "metadata": {},
   "outputs": [
    {
     "data": {
      "text/plain": [
       "['12',\n",
       " 'A-P',\n",
       " 'AA',\n",
       " 'AAS',\n",
       " 'AAT',\n",
       " 'ACL',\n",
       " 'AEO',\n",
       " 'AFG',\n",
       " 'AFP',\n",
       " 'AGF',\n",
       " 'AI',\n",
       " 'AINES',\n",
       " 'AL',\n",
       " 'ALAT',\n",
       " 'ALT',\n",
       " 'AMA',\n",
       " 'ANA',\n",
       " 'ANCA',\n",
       " 'ANCAS',\n",
       " 'ANOES',\n",
       " 'AO',\n",
       " 'AP',\n",
       " 'APC',\n",
       " 'ASAT',\n",
       " 'ASLO',\n",
       " 'AST',\n",
       " 'ATM',\n",
       " 'AV',\n",
       " 'AVI',\n",
       " 'AVSC',\n",
       " 'Alfa-feto',\n",
       " 'BA',\n",
       " 'BAL',\n",
       " 'BAS',\n",
       " 'BD',\n",
       " 'BM',\n",
       " 'BMC',\n",
       " 'BMU',\n",
       " 'BPA',\n",
       " 'C-GSF',\n",
       " 'C-Kit',\n",
       " 'CA',\n",
       " 'CD',\n",
       " 'CDI',\n",
       " 'CEA',\n",
       " 'CK',\n",
       " 'CMV',\n",
       " 'COL',\n",
       " 'CPK',\n",
       " 'CT',\n",
       " 'CU',\n",
       " 'CX',\n",
       " 'D-AAT',\n",
       " 'DA',\n",
       " 'DAI',\n",
       " 'DAKO',\n",
       " 'DFVA',\n",
       " 'DG',\n",
       " 'DII',\n",
       " 'DM',\n",
       " 'DP',\n",
       " 'DPAR',\n",
       " 'DR',\n",
       " 'DRNS',\n",
       " 'DTM',\n",
       " 'EA',\n",
       " 'EBHGA',\n",
       " 'ECE',\n",
       " 'ECG',\n",
       " 'ECMO',\n",
       " 'ECS',\n",
       " 'EEII',\n",
       " 'EF',\n",
       " 'EFK',\n",
       " 'EIA',\n",
       " 'EID',\n",
       " 'ELA',\n",
       " 'EMA',\n",
       " 'EMG',\n",
       " 'ENA',\n",
       " 'ENG',\n",
       " 'EPOC',\n",
       " 'EPR',\n",
       " 'ESCHAP',\n",
       " 'EVA',\n",
       " 'FA',\n",
       " 'FAV',\n",
       " 'FID',\n",
       " 'FMO',\n",
       " 'FO',\n",
       " 'FiO2',\n",
       " 'GC',\n",
       " 'GER',\n",
       " 'GGT',\n",
       " 'GOT',\n",
       " 'GPT',\n",
       " 'HBPM',\n",
       " 'HCT',\n",
       " 'HLA',\n",
       " 'HPTS',\n",
       " 'HPV',\n",
       " 'HQR',\n",
       " 'HSA',\n",
       " 'HTA',\n",
       " 'HTBI',\n",
       " 'IAM',\n",
       " 'ICG',\n",
       " 'IF',\n",
       " 'IGRA',\n",
       " 'INSS',\n",
       " 'IgA',\n",
       " 'IgE',\n",
       " 'IgG',\n",
       " 'IgG4',\n",
       " 'IgM',\n",
       " 'LBA',\n",
       " 'LCCT',\n",
       " 'LCR',\n",
       " 'LDH',\n",
       " 'LH',\n",
       " 'LLA',\n",
       " 'LLBCP',\n",
       " 'LLI',\n",
       " 'LNH',\n",
       " 'LPP',\n",
       " 'MA',\n",
       " 'MAVC',\n",
       " 'MELAN',\n",
       " 'MGIT',\n",
       " 'MID',\n",
       " 'MMII',\n",
       " 'MMSS',\n",
       " 'McConkey',\n",
       " 'MhZ',\n",
       " 'N-Cam',\n",
       " 'NE',\n",
       " 'NJ',\n",
       " 'NO',\n",
       " 'NOT',\n",
       " 'NP',\n",
       " 'NPT',\n",
       " 'NVC',\n",
       " 'OCT',\n",
       " 'OD',\n",
       " 'OI',\n",
       " 'ORN',\n",
       " 'P-INF',\n",
       " 'PA',\n",
       " 'PAAF',\n",
       " 'PCA',\n",
       " 'PCP',\n",
       " 'PCR',\n",
       " 'PCT',\n",
       " 'PEEP',\n",
       " 'PEES',\n",
       " 'PEG',\n",
       " 'PET',\n",
       " 'PFP',\n",
       " 'PIO',\n",
       " 'PLGA',\n",
       " 'PNJ',\n",
       " 'PQ',\n",
       " 'PRC',\n",
       " 'PSA',\n",
       " 'PTH',\n",
       " 'PVC',\n",
       " 'PaO2',\n",
       " 'RCP',\n",
       " 'RF',\n",
       " 'RM',\n",
       " 'RMN',\n",
       " 'RN',\n",
       " 'RNM',\n",
       " 'ROT',\n",
       " 'RPMB',\n",
       " 'RT',\n",
       " 'RTU',\n",
       " 'RVP',\n",
       " 'RVS',\n",
       " 'RX',\n",
       " 'SCACEST',\n",
       " 'SDRC',\n",
       " 'SHOP',\n",
       " 'SL',\n",
       " 'SMR',\n",
       " 'SNC',\n",
       " 'SPM',\n",
       " 'SPRL',\n",
       " 'ST',\n",
       " 'STIR',\n",
       " 'Swan-Ganz',\n",
       " 'TAC',\n",
       " 'TAM',\n",
       " 'TANITA',\n",
       " 'TAP',\n",
       " 'TAS',\n",
       " 'TB',\n",
       " 'TBC',\n",
       " 'TBF',\n",
       " 'TC',\n",
       " 'TCS',\n",
       " 'TENS',\n",
       " 'TEP',\n",
       " 'TFD',\n",
       " 'TG',\n",
       " 'TGP',\n",
       " 'TSH',\n",
       " 'TSOH',\n",
       " 'TSP',\n",
       " 'TTP',\n",
       " 'TVTLF',\n",
       " 'UCI',\n",
       " 'UCIP',\n",
       " 'UMI',\n",
       " 'UMO',\n",
       " 'VEB',\n",
       " 'VHB',\n",
       " 'VHC',\n",
       " 'VHS',\n",
       " 'VIH',\n",
       " 'VMNI',\n",
       " 'VSG',\n",
       " 'VVZ',\n",
       " 'XI',\n",
       " 'XII',\n",
       " 'ac',\n",
       " 'alfa-FP',\n",
       " 'alfa-feto',\n",
       " 'anti-ADN',\n",
       " 'anti-CCP',\n",
       " 'anti-DNA',\n",
       " 'anti-TNF',\n",
       " 'anti-VIH',\n",
       " 'anti-Xa',\n",
       " 'antiDNA',\n",
       " 'antiRNA',\n",
       " 'cN2',\n",
       " 'cc',\n",
       " 'cm',\n",
       " 'et',\n",
       " 'gGT',\n",
       " 'hipo-FA',\n",
       " 'iPTH',\n",
       " 'in',\n",
       " 'iv',\n",
       " 'm2',\n",
       " 'mFOLFOX',\n",
       " 'mL',\n",
       " 'mV',\n",
       " 'mg',\n",
       " 'ml',\n",
       " 'mm',\n",
       " 'mmHg',\n",
       " 'no-B',\n",
       " 'pCO2',\n",
       " 'pH',\n",
       " 'pig-tail',\n",
       " 'rt-PA',\n",
       " 'sY134',\n",
       " 'si',\n",
       " 'tru-cut',\n",
       " 'u',\n",
       " 'va']"
      ]
     },
     "execution_count": 328,
     "metadata": {},
     "output_type": "execute_result"
    }
   ],
   "source": [
    "sorted(pairs_dic.keys())"
   ]
  },
  {
   "cell_type": "code",
   "execution_count": 1461,
   "metadata": {},
   "outputs": [
    {
     "data": {
      "text/plain": [
       "68"
      ]
     },
     "execution_count": 1461,
     "metadata": {},
     "output_type": "execute_result"
    }
   ],
   "source": [
    "len(pairs_dic.keys())"
   ]
  },
  {
   "cell_type": "markdown",
   "metadata": {},
   "source": [
    "## Check text individually"
   ]
  },
  {
   "cell_type": "code",
   "execution_count": 745,
   "metadata": {},
   "outputs": [],
   "source": [
    "# texto = train_raw.iloc[4]['texto']\n",
    "# texto"
   ]
  },
  {
   "cell_type": "code",
   "execution_count": 833,
   "metadata": {},
   "outputs": [
    {
     "data": {
      "text/plain": [
       "'varón 60 años edad acude consulta enero 2009 episodios hematuria macroscópica ocasional dos años evolución. transcurridos 10 meses primer episodio empezó polaquiuria disuria, 2 meses después realizó estudio ecográfico evidenciaba engrosamiento pared vesical derecha condicionaba ureterohidronefrosis. realizó estudio extensión mediante tac toraco-abdominal gammagrafía ósea apreciándose lesiones sugestivas metástasis confirmando hallazgos ecográficos. febrero 2009, recibió tratamiento quirúrgico mediante rtu vesical diagnóstico carcinoma plasmocitoide vejiga invasión capa muscular propia presencia focos embolización linfovascular, indicó cisto-prostatectomía radical derivación ileal practicó incidencias 27 marzo 2009. informe anatomopatológico reveló neoformación epitelial atípica crecimiento difuso nidos cordones, constituidos células pequeño tamaño, citoplasma escaso núcleo grande, pleomórfico polilobulado. además observaron áreas núcleos pleomórficos, polilobulados, grandes hipercromáticos, respecto resto población tumoral. figuras mitosis típicas atípicas así apoptosis frecuentes. células neoplásicas infiltraban pared vesical alcanzando capa muscular propia. estudio inmunohistoquímico citoplasmático positivo 100% citoqueratina-7 70% citoqueratina-20 citoquetatina alto peso molecular carácter difuso. diagnóstico definitivo carcinoma urotelio diferenciado, alto grado, variante células plasmocitoides. continuación, paciente remitido departamento oncología iniciando tratamiento quimioterápico adyuvante cisplatino gemcitabina (4 ciclos) concluyó agosto 2009. marzo 2010, exploración control paciente asintomático, objetivaron lesiones sugestivas metástasis columna, realizó rm columna informó posibles metástasis nivel d3, d8, d9, d10 l1. realizó gammagrafía ósea pet-tac concluyentes, recomiendó control evolutivo tres meses. dicho control objetivó crecimiento lesiones óseas conocidas biopsiaron, siendo concluyentes malignidad. septiembre 2010 repitió pet-tac objetivándose signos captación ósea patológica, ganglionar múltiple región axilar izquierda, perivascular mediastínica, subcarinal mamaria interna, así nivel retroperitoneal. realizó nuevo punción aguja fina vertebral informó lesión metastásica compatible tumor urotelial plasmocitoide. además realizó biopsia ganglios mamarios informaron compatibles lesiones metástasicas originarias tumor urotelial plasmocitoide. momento inició nueva línea tratamiento quimioterápico paclitaxel carboplatino, pauta trisemanal total 6 ciclos, concluyó enero 2011. mitad tratamiento quimioterápico realizó nuevo tac control enfermedad permanecía estabilizada. 17 febrero 2011, tac reevaluación objetivó ureterohidronefrosis moderada-severa derecha expensas imagen nodular protruía luz ureteral sugestiva nueva lesión tumoral. además presentaba atrofia funcional riñón contralateral aumento creatinina plasmática 2,9 ng/ml. decidió colocación nefrostomía percutánea derecha colocación catéter ureteral doble j vía anterógrada. ingreso sufrió iam inferoposterior ventrículo derecho tratado mediante angioplastia primaria manera eficaz. finalmente, mediados marzo 2011 falleció paciente.'"
      ]
     },
     "execution_count": 833,
     "metadata": {},
     "output_type": "execute_result"
    }
   ],
   "source": [
    "texto = df_pairs.iloc[467]['texto_clean']\n",
    "texto"
   ]
  },
  {
   "cell_type": "code",
   "execution_count": 834,
   "metadata": {
    "scrolled": true
   },
   "outputs": [],
   "source": [
    "sf = generic_re.findall(texto)"
   ]
  },
  {
   "cell_type": "code",
   "execution_count": 835,
   "metadata": {
    "scrolled": true
   },
   "outputs": [],
   "source": [
    "sf_clean =  [i.strip() for i in sf if i.strip() not in swords]\n",
    "# sf_clean"
   ]
  },
  {
   "cell_type": "code",
   "execution_count": 836,
   "metadata": {},
   "outputs": [],
   "source": [
    "sf_clean = [a.replace('/',\"\") for a in sf_clean]"
   ]
  },
  {
   "cell_type": "code",
   "execution_count": 778,
   "metadata": {},
   "outputs": [],
   "source": [
    "# for i in punctuation:\n",
    "#     sf_clean = [a.replace(i,\"\") for a in sf_clean]"
   ]
  },
  {
   "cell_type": "code",
   "execution_count": 837,
   "metadata": {},
   "outputs": [
    {
     "data": {
      "text/plain": [
       "['rm', 'pet-tac', 'pet-tac', 'ng', 'j']"
      ]
     },
     "execution_count": 837,
     "metadata": {},
     "output_type": "execute_result"
    }
   ],
   "source": [
    "sf_clean"
   ]
  },
  {
   "cell_type": "code",
   "execution_count": 838,
   "metadata": {},
   "outputs": [],
   "source": [
    "texto_clean = texto.split()"
   ]
  },
  {
   "cell_type": "code",
   "execution_count": 839,
   "metadata": {},
   "outputs": [],
   "source": [
    "texto_clean = ' '.join([w for w in texto_clean if w not in swords])"
   ]
  },
  {
   "cell_type": "code",
   "execution_count": 840,
   "metadata": {},
   "outputs": [],
   "source": [
    "for i in punctuation:\n",
    "    texto_clean = texto_clean.replace(i,'').lower()"
   ]
  },
  {
   "cell_type": "code",
   "execution_count": 841,
   "metadata": {
    "scrolled": true
   },
   "outputs": [],
   "source": [
    "tokens = word_tokenize(texto_clean)\n",
    "#tokens"
   ]
  },
  {
   "cell_type": "code",
   "execution_count": 847,
   "metadata": {},
   "outputs": [],
   "source": [
    "def get_longform(tokens, acro):\n",
    "    acro = acro.lower()\n",
    "    long_form = ''\n",
    "    margin = 2\n",
    "    i =0\n",
    "    #Looking for before\n",
    "    if acro not in tokens:\n",
    "        return -1\n",
    "    index = tokens.index(acro)\n",
    "    for word in tokens[index-margin-len(acro):index]:\n",
    "        #if first letter of word is equal to first letter os acronym\n",
    "        if word[0] == acro[i].lower():\n",
    "            long_form += word + ' '\n",
    "            i += 1\n",
    "            if i == len(acro):\n",
    "                break\n",
    "        elif (i == 1) and (word[0] == acro[i-1].lower()):\n",
    "            long_form = word + ' '\n",
    "            i = 1\n",
    "            if i == len(acro):\n",
    "                break\n",
    "    long_form = long_form.rstrip()\n",
    "    if len(long_form) == len(acro):\n",
    "        return long_form\n",
    "\n"
   ]
  },
  {
   "cell_type": "code",
   "execution_count": 848,
   "metadata": {},
   "outputs": [
    {
     "name": "stdout",
     "output_type": "stream",
     "text": [
      "Esta es la short form y su forma larga\n",
      " (rm,None)\n",
      "Esta es la short form y su forma larga\n",
      " (pet-tac,-1)\n",
      "Esta es la short form y su forma larga\n",
      " (pet-tac,-1)\n",
      "Esta es la short form y su forma larga\n",
      " (ng,-1)\n",
      "Esta es la short form y su forma larga\n",
      " (j,None)\n"
     ]
    }
   ],
   "source": [
    "for sf in sf_clean:\n",
    "    a = get_longform(tokens, sf)\n",
    "    print(f\"Esta es la short form y su forma larga\\n ({sf},{a})\")"
   ]
  },
  {
   "cell_type": "code",
   "execution_count": 1061,
   "metadata": {},
   "outputs": [
    {
     "data": {
      "text/html": [
       "<div>\n",
       "<style scoped>\n",
       "    .dataframe tbody tr th:only-of-type {\n",
       "        vertical-align: middle;\n",
       "    }\n",
       "\n",
       "    .dataframe tbody tr th {\n",
       "        vertical-align: top;\n",
       "    }\n",
       "\n",
       "    .dataframe thead th {\n",
       "        text-align: right;\n",
       "    }\n",
       "</style>\n",
       "<table border=\"1\" class=\"dataframe\">\n",
       "  <thead>\n",
       "    <tr style=\"text-align: right;\">\n",
       "      <th></th>\n",
       "      <th>doc_id</th>\n",
       "      <th>texto_clean</th>\n",
       "      <th>tokens</th>\n",
       "      <th>abrev</th>\n",
       "      <th>startOffset</th>\n",
       "      <th>endOffset</th>\n",
       "      <th>long_form</th>\n",
       "    </tr>\n",
       "  </thead>\n",
       "  <tbody>\n",
       "    <tr>\n",
       "      <th>0</th>\n",
       "      <td>S1130-05582012000300005-1</td>\n",
       "      <td>acude consultas paciente presenta tumoración c...</td>\n",
       "      <td>[acude, consultas, paciente, presenta, tumorac...</td>\n",
       "      <td>RM</td>\n",
       "      <td>789</td>\n",
       "      <td>791</td>\n",
       "      <td>resonancia magnética</td>\n",
       "    </tr>\n",
       "    <tr>\n",
       "      <th>35</th>\n",
       "      <td>S1139-76322014000500014-1</td>\n",
       "      <td>niño cinco años derivado pediatra atención pri...</td>\n",
       "      <td>[niño, cinco, años, derivado, pediatra, atenci...</td>\n",
       "      <td>RM</td>\n",
       "      <td>1202</td>\n",
       "      <td>1204</td>\n",
       "      <td></td>\n",
       "    </tr>\n",
       "    <tr>\n",
       "      <th>65</th>\n",
       "      <td>S1137-66272013000200023-1</td>\n",
       "      <td>varón 60 años edad acude consulta enero 2009 e...</td>\n",
       "      <td>[varón, 60, años, edad, acude, consulta, enero...</td>\n",
       "      <td>RM</td>\n",
       "      <td>2151</td>\n",
       "      <td>2153</td>\n",
       "      <td>realizó</td>\n",
       "    </tr>\n",
       "    <tr>\n",
       "      <th>75</th>\n",
       "      <td>S0376-78922016000200011-1</td>\n",
       "      <td>mujer raza mestiza 43 años edad, antecedente m...</td>\n",
       "      <td>[mujer, raza, mestiza, 43, años, edad, ,, ante...</td>\n",
       "      <td>RM</td>\n",
       "      <td>1069</td>\n",
       "      <td>1071</td>\n",
       "      <td>resonancia magnética</td>\n",
       "    </tr>\n",
       "    <tr>\n",
       "      <th>75</th>\n",
       "      <td>S0376-78922016000200011-1</td>\n",
       "      <td>mujer raza mestiza 43 años edad, antecedente m...</td>\n",
       "      <td>[mujer, raza, mestiza, 43, años, edad, ,, ante...</td>\n",
       "      <td>RM</td>\n",
       "      <td>1798</td>\n",
       "      <td>1800</td>\n",
       "      <td>resonancia magnética</td>\n",
       "    </tr>\n",
       "    <tr>\n",
       "      <th>94</th>\n",
       "      <td>S1134-80462009000500006-1</td>\n",
       "      <td>presentamos caso paciente 55 años, remitido un...</td>\n",
       "      <td>[presentamos, caso, paciente, 55, años, ,, rem...</td>\n",
       "      <td>RM</td>\n",
       "      <td>1528</td>\n",
       "      <td>1530</td>\n",
       "      <td>resonancia magnética</td>\n",
       "    </tr>\n",
       "    <tr>\n",
       "      <th>101</th>\n",
       "      <td>S1698-44472005000400012-1</td>\n",
       "      <td>mujer 67 años edad consulta servicio tumefacci...</td>\n",
       "      <td>[mujer, 67, años, edad, consulta, servicio, tu...</td>\n",
       "      <td>RM</td>\n",
       "      <td>697</td>\n",
       "      <td>699</td>\n",
       "      <td></td>\n",
       "    </tr>\n",
       "    <tr>\n",
       "      <th>114</th>\n",
       "      <td>S0004-06142007000300012-1</td>\n",
       "      <td>paciente 52 años antecedentes personales insuf...</td>\n",
       "      <td>[paciente, 52, años, antecedentes, personales,...</td>\n",
       "      <td>RM</td>\n",
       "      <td>2047</td>\n",
       "      <td>2049</td>\n",
       "      <td>renal</td>\n",
       "    </tr>\n",
       "    <tr>\n",
       "      <th>126</th>\n",
       "      <td>S0376-78922012000200008-1</td>\n",
       "      <td>mujer 46 años edad sometida mastectomía radica...</td>\n",
       "      <td>[mujer, 46, años, edad, sometida, mastectomía,...</td>\n",
       "      <td>RM</td>\n",
       "      <td>2410</td>\n",
       "      <td>2412</td>\n",
       "      <td>radiólogo</td>\n",
       "    </tr>\n",
       "    <tr>\n",
       "      <th>144</th>\n",
       "      <td>S0210-48062009000400017-1</td>\n",
       "      <td>varón 65 años, antecedente resección transuret...</td>\n",
       "      <td>[varón, 65, años, ,, antecedente, resección, t...</td>\n",
       "      <td>RM</td>\n",
       "      <td>1137</td>\n",
       "      <td>1139</td>\n",
       "      <td>resonancia magnética</td>\n",
       "    </tr>\n",
       "    <tr>\n",
       "      <th>172</th>\n",
       "      <td>S1137-66272014000100019-1</td>\n",
       "      <td>mujer 32 años. refiere estreñimiento ha-bitual...</td>\n",
       "      <td>[mujer, 32, años, ., refiere, estreñimiento, h...</td>\n",
       "      <td>RM</td>\n",
       "      <td>473</td>\n",
       "      <td>475</td>\n",
       "      <td></td>\n",
       "    </tr>\n",
       "    <tr>\n",
       "      <th>230</th>\n",
       "      <td>S1130-14732005000600008-1</td>\n",
       "      <td>paciente 45 años valorado septiembre año 2000 ...</td>\n",
       "      <td>[paciente, 45, años, valorado, septiembre, año...</td>\n",
       "      <td>RM</td>\n",
       "      <td>258</td>\n",
       "      <td>260</td>\n",
       "      <td>realización</td>\n",
       "    </tr>\n",
       "    <tr>\n",
       "      <th>230</th>\n",
       "      <td>S1130-14732005000600008-1</td>\n",
       "      <td>paciente 45 años valorado septiembre año 2000 ...</td>\n",
       "      <td>[paciente, 45, años, valorado, septiembre, año...</td>\n",
       "      <td>RM</td>\n",
       "      <td>475</td>\n",
       "      <td>477</td>\n",
       "      <td>realización</td>\n",
       "    </tr>\n",
       "    <tr>\n",
       "      <th>254</th>\n",
       "      <td>S0211-69952016000300015-1</td>\n",
       "      <td>presentamos caso varón 47 años edad, anteceden...</td>\n",
       "      <td>[presentamos, caso, varón, 47, años, edad, ,, ...</td>\n",
       "      <td>RM</td>\n",
       "      <td>237</td>\n",
       "      <td>239</td>\n",
       "      <td>resonancia magnética</td>\n",
       "    </tr>\n",
       "    <tr>\n",
       "      <th>254</th>\n",
       "      <td>S0211-69952016000300015-1</td>\n",
       "      <td>presentamos caso varón 47 años edad, anteceden...</td>\n",
       "      <td>[presentamos, caso, varón, 47, años, edad, ,, ...</td>\n",
       "      <td>RM</td>\n",
       "      <td>898</td>\n",
       "      <td>900</td>\n",
       "      <td>resonancia magnética</td>\n",
       "    </tr>\n",
       "    <tr>\n",
       "      <th>268</th>\n",
       "      <td>S1699-695X2016000200009-1</td>\n",
       "      <td>presentamos caso varón 10 años antecedentes in...</td>\n",
       "      <td>[presentamos, caso, varón, 10, años, anteceden...</td>\n",
       "      <td>RM</td>\n",
       "      <td>1469</td>\n",
       "      <td>1471</td>\n",
       "      <td>resonancia magnética</td>\n",
       "    </tr>\n",
       "    <tr>\n",
       "      <th>268</th>\n",
       "      <td>S1699-695X2016000200009-1</td>\n",
       "      <td>presentamos caso varón 10 años antecedentes in...</td>\n",
       "      <td>[presentamos, caso, varón, 10, años, anteceden...</td>\n",
       "      <td>RM</td>\n",
       "      <td>1514</td>\n",
       "      <td>1516</td>\n",
       "      <td>resonancia magnética</td>\n",
       "    </tr>\n",
       "    <tr>\n",
       "      <th>268</th>\n",
       "      <td>S1699-695X2016000200009-1</td>\n",
       "      <td>presentamos caso varón 10 años antecedentes in...</td>\n",
       "      <td>[presentamos, caso, varón, 10, años, anteceden...</td>\n",
       "      <td>RM</td>\n",
       "      <td>1884</td>\n",
       "      <td>1886</td>\n",
       "      <td>resonancia magnética</td>\n",
       "    </tr>\n",
       "    <tr>\n",
       "      <th>268</th>\n",
       "      <td>S1699-695X2016000200009-1</td>\n",
       "      <td>presentamos caso varón 10 años antecedentes in...</td>\n",
       "      <td>[presentamos, caso, varón, 10, años, anteceden...</td>\n",
       "      <td>RM</td>\n",
       "      <td>1946</td>\n",
       "      <td>1948</td>\n",
       "      <td>resonancia magnética</td>\n",
       "    </tr>\n",
       "    <tr>\n",
       "      <th>291</th>\n",
       "      <td>S1887-85712014000100005-1</td>\n",
       "      <td>paciente 60 años acude urgencias porque, según...</td>\n",
       "      <td>[paciente, 60, años, acude, urgencias, porque,...</td>\n",
       "      <td>RM</td>\n",
       "      <td>1541</td>\n",
       "      <td>1543</td>\n",
       "      <td></td>\n",
       "    </tr>\n",
       "    <tr>\n",
       "      <th>297</th>\n",
       "      <td>S1130-14732006000500005-1</td>\n",
       "      <td>presentamos caso clínico mujer 50 años edad, p...</td>\n",
       "      <td>[presentamos, caso, clínico, mujer, 50, años, ...</td>\n",
       "      <td>RM</td>\n",
       "      <td>954</td>\n",
       "      <td>956</td>\n",
       "      <td></td>\n",
       "    </tr>\n",
       "  </tbody>\n",
       "</table>\n",
       "</div>"
      ],
      "text/plain": [
       "                        doc_id  \\\n",
       "0    S1130-05582012000300005-1   \n",
       "35   S1139-76322014000500014-1   \n",
       "65   S1137-66272013000200023-1   \n",
       "75   S0376-78922016000200011-1   \n",
       "75   S0376-78922016000200011-1   \n",
       "94   S1134-80462009000500006-1   \n",
       "101  S1698-44472005000400012-1   \n",
       "114  S0004-06142007000300012-1   \n",
       "126  S0376-78922012000200008-1   \n",
       "144  S0210-48062009000400017-1   \n",
       "172  S1137-66272014000100019-1   \n",
       "230  S1130-14732005000600008-1   \n",
       "230  S1130-14732005000600008-1   \n",
       "254  S0211-69952016000300015-1   \n",
       "254  S0211-69952016000300015-1   \n",
       "268  S1699-695X2016000200009-1   \n",
       "268  S1699-695X2016000200009-1   \n",
       "268  S1699-695X2016000200009-1   \n",
       "268  S1699-695X2016000200009-1   \n",
       "291  S1887-85712014000100005-1   \n",
       "297  S1130-14732006000500005-1   \n",
       "\n",
       "                                           texto_clean  \\\n",
       "0    acude consultas paciente presenta tumoración c...   \n",
       "35   niño cinco años derivado pediatra atención pri...   \n",
       "65   varón 60 años edad acude consulta enero 2009 e...   \n",
       "75   mujer raza mestiza 43 años edad, antecedente m...   \n",
       "75   mujer raza mestiza 43 años edad, antecedente m...   \n",
       "94   presentamos caso paciente 55 años, remitido un...   \n",
       "101  mujer 67 años edad consulta servicio tumefacci...   \n",
       "114  paciente 52 años antecedentes personales insuf...   \n",
       "126  mujer 46 años edad sometida mastectomía radica...   \n",
       "144  varón 65 años, antecedente resección transuret...   \n",
       "172  mujer 32 años. refiere estreñimiento ha-bitual...   \n",
       "230  paciente 45 años valorado septiembre año 2000 ...   \n",
       "230  paciente 45 años valorado septiembre año 2000 ...   \n",
       "254  presentamos caso varón 47 años edad, anteceden...   \n",
       "254  presentamos caso varón 47 años edad, anteceden...   \n",
       "268  presentamos caso varón 10 años antecedentes in...   \n",
       "268  presentamos caso varón 10 años antecedentes in...   \n",
       "268  presentamos caso varón 10 años antecedentes in...   \n",
       "268  presentamos caso varón 10 años antecedentes in...   \n",
       "291  paciente 60 años acude urgencias porque, según...   \n",
       "297  presentamos caso clínico mujer 50 años edad, p...   \n",
       "\n",
       "                                                tokens abrev  startOffset  \\\n",
       "0    [acude, consultas, paciente, presenta, tumorac...    RM          789   \n",
       "35   [niño, cinco, años, derivado, pediatra, atenci...    RM         1202   \n",
       "65   [varón, 60, años, edad, acude, consulta, enero...    RM         2151   \n",
       "75   [mujer, raza, mestiza, 43, años, edad, ,, ante...    RM         1069   \n",
       "75   [mujer, raza, mestiza, 43, años, edad, ,, ante...    RM         1798   \n",
       "94   [presentamos, caso, paciente, 55, años, ,, rem...    RM         1528   \n",
       "101  [mujer, 67, años, edad, consulta, servicio, tu...    RM          697   \n",
       "114  [paciente, 52, años, antecedentes, personales,...    RM         2047   \n",
       "126  [mujer, 46, años, edad, sometida, mastectomía,...    RM         2410   \n",
       "144  [varón, 65, años, ,, antecedente, resección, t...    RM         1137   \n",
       "172  [mujer, 32, años, ., refiere, estreñimiento, h...    RM          473   \n",
       "230  [paciente, 45, años, valorado, septiembre, año...    RM          258   \n",
       "230  [paciente, 45, años, valorado, septiembre, año...    RM          475   \n",
       "254  [presentamos, caso, varón, 47, años, edad, ,, ...    RM          237   \n",
       "254  [presentamos, caso, varón, 47, años, edad, ,, ...    RM          898   \n",
       "268  [presentamos, caso, varón, 10, años, anteceden...    RM         1469   \n",
       "268  [presentamos, caso, varón, 10, años, anteceden...    RM         1514   \n",
       "268  [presentamos, caso, varón, 10, años, anteceden...    RM         1884   \n",
       "268  [presentamos, caso, varón, 10, años, anteceden...    RM         1946   \n",
       "291  [paciente, 60, años, acude, urgencias, porque,...    RM         1541   \n",
       "297  [presentamos, caso, clínico, mujer, 50, años, ...    RM          954   \n",
       "\n",
       "     endOffset             long_form  \n",
       "0          791  resonancia magnética  \n",
       "35        1204                        \n",
       "65        2153               realizó  \n",
       "75        1071  resonancia magnética  \n",
       "75        1800  resonancia magnética  \n",
       "94        1530  resonancia magnética  \n",
       "101        699                        \n",
       "114       2049                 renal  \n",
       "126       2412             radiólogo  \n",
       "144       1139  resonancia magnética  \n",
       "172        475                        \n",
       "230        260           realización  \n",
       "230        477           realización  \n",
       "254        239  resonancia magnética  \n",
       "254        900  resonancia magnética  \n",
       "268       1471  resonancia magnética  \n",
       "268       1516  resonancia magnética  \n",
       "268       1886  resonancia magnética  \n",
       "268       1948  resonancia magnética  \n",
       "291       1543                        \n",
       "297        956                        "
      ]
     },
     "execution_count": 1061,
     "metadata": {},
     "output_type": "execute_result"
    }
   ],
   "source": [
    "mine[mine['abrev'] == 'RM']"
   ]
  }
 ],
 "metadata": {
  "kernelspec": {
   "display_name": "Python 3",
   "language": "python",
   "name": "python3"
  },
  "language_info": {
   "codemirror_mode": {
    "name": "ipython",
    "version": 3
   },
   "file_extension": ".py",
   "mimetype": "text/x-python",
   "name": "python",
   "nbconvert_exporter": "python",
   "pygments_lexer": "ipython3",
   "version": "3.7.3"
  }
 },
 "nbformat": 4,
 "nbformat_minor": 2
}
