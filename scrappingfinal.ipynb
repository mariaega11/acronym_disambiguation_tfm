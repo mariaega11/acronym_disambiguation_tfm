{
 "cells": [
  {
   "cell_type": "code",
   "execution_count": 146,
   "metadata": {},
   "outputs": [],
   "source": [
    "import argparse\n",
    "import requests\n",
    "\n",
    "from sys import argv\n",
    "from bs4 import BeautifulSoup, NavigableString, Tag\n",
    "from math import ceil \n",
    "import string\n",
    "\n",
    "import pandas as pd\n",
    "\n",
    "import xml.etree.ElementTree as ET\n",
    "import re"
   ]
  },
  {
   "cell_type": "code",
   "execution_count": 2,
   "metadata": {},
   "outputs": [],
   "source": [
    "def load_arguments(parser):\n",
    "    concepto = vars(parser.parse_args(argv[1:]))[\"c\"]\n",
    "    return concepto"
   ]
  },
  {
   "cell_type": "markdown",
   "metadata": {},
   "source": [
    "### Scrapear PubMed"
   ]
  },
  {
   "cell_type": "code",
   "execution_count": 3,
   "metadata": {},
   "outputs": [],
   "source": [
    "def search_pubmed(concepto):\n",
    "    \n",
    "    \"\"\"Para obtener información de la página PubMed a través del uscador de conceptos. Sin embargo el problema es que sólo obtiene resultados en ingles aunque utilicemos el filtro dle idioma\"\"\"\n",
    "\n",
    "    # URL de origen que se \n",
    "    url = \"https://pubmed.ncbi.nlm.nih.gov/?term={}\".format(concepto)\n",
    "    page = requests.get(url)\n",
    "    soup = BeautifulSoup(page.content, 'html.parser')\n",
    "\n",
    "    num_registros = soup.find('div', class_=\"results-amount\").find('span').text.replace(\",\", \"\")\n",
    "\n",
    "    print(\"Numero de articulos: {}\".format(num_registros))\n",
    "\n",
    "    num_paginas = ceil(int(num_registros)/10)\n",
    "\n",
    "    #Bucle generando una lista con todos los articulos\n",
    "    lista_articulos = list()\n",
    "    for i in range(1,num_paginas+1):\n",
    "        url_busqueda = url + \"&page={}\".format(i)\n",
    "        page = requests.get(url_busqueda)\n",
    "        soup = BeautifulSoup(page.content, 'html.parser')\n",
    "\n",
    "        for articulo in soup.find_all('article', class_=\"full-docsum\"):\n",
    "            lista_articulos.append(articulo.find('a', href=True, class_='docsum-title')['href'])\n",
    "\n",
    "    #Bucle en el que se mete en cada articulo y obtiene el abstract\n",
    "    informacion = list()\n",
    "    for url_articulo in lista_articulos:\n",
    "        page = requests.get(\"https://pubmed.ncbi.nlm.nih.gov/\" + url_articulo)\n",
    "        soup = BeautifulSoup(page.content, 'html.parser')\n",
    "\n",
    "        try:\n",
    "            informacion.append(soup.find('div', {\"id\": \"enc-abstract\"}).text.replace(\"\\n\", \" \"))\n",
    "\n",
    "        except AttributeError:\n",
    "            pass\n",
    "\n",
    "    print(\"Numero de abstract obtenidos: {} para la palabra: {}\".format(len(informacion), conceto))\n",
    "    return informacion"
   ]
  },
  {
   "cell_type": "code",
   "execution_count": 11,
   "metadata": {},
   "outputs": [],
   "source": [
    "def search_pub_esp(concepto):\n",
    "    \n",
    "    \"\"\"Para obtener información de una página muy básica que devulve abstracts de PubMed y Medline en español- El problema está al extraer sólo el texto español del abstract ya que no está muy definido el html\"\"\"\n",
    "\n",
    "    # URL de origen que se \n",
    "    headers = {'User-Agent': 'Mozilla/5.0 (X11; Linux x86_64) '\\\n",
    "           'AppleWebKit/537.36 (KHTML, like Gecko) '\\\n",
    "           'Chrome/75.0.3770.80 Safari/537.36'}\n",
    "    \n",
    "    url = \"https://babelmesh.nlm.nih.gov/search/search.php?from=spa&com=&outid=&term={}\".format(\"serologia\")\n",
    "    page = requests.get(url, headers = headers)\n",
    "    soup = BeautifulSoup(page.content, 'html.parser')\n",
    "\n",
    "    for br in soup.findAll('br'):\n",
    "        next_s = br.nextSibling\n",
    "        if not (next_s and isinstance(next_s,NavigableString)):\n",
    "            continue\n",
    "        next2_s = next_s.nextSibling\n",
    "        if next2_s and isinstance(next2_s,Tag) and next2_s.name == 'hr':\n",
    "            text = str(next_s).strip().split()[0]\n",
    "\n",
    "    print(\"Numero de articulos: {}\".format(text))\n",
    "\n",
    "\n",
    "    num_paginas = ceil(int(text)/20)\n",
    "\n",
    "    #Bucle generando una lista con todos los articulos\n",
    "    lista_articulos = list()\n",
    "    for i in range(1,num_paginas+1):\n",
    "        url_busqueda = \"https://babelmesh.nlm.nih.gov/search/search.php?submit=Y&page={}&Count=3691&QueryKey=1&WebEnv=MCID_5f7dfb66b4eab545651267fb&from=spa&otype=0&com=\".format(i)\n",
    "        page = requests.get(url_busqueda)\n",
    "        soup = BeautifulSoup(page.content, 'html.parser')\n",
    "\n",
    "        for articulo in soup.find_all('p'):\n",
    "#             print(articulo.find('a', href=True)['href'])\n",
    "            lista_articulos.append(articulo.find('a', href=True)['href'])\n",
    "            #print(lista_articulos.append(articulo.find('a', href=True, id= \"anch_1\")['href']))\n",
    "#             lista_articulos.append(articulo.find('a', href=True, class_='title')['href'])\n",
    "            \n",
    "#         for articulo in soup.find_all('li', class_=\"document source-encyclopedia-spanish\"):\n",
    "#             lista_articulos.append(articulo.find('a', href=True, class_='title')['href'])\n",
    "            \n",
    "#         for articulo in soup.find_all('li', class_=\"document source-medical-sites-spanish\"):\n",
    "#             lista_articulos.append(articulo.find('a', href=True, class_='title')['href'])\n",
    "\n",
    "    #Bucle en el que se mete en cada articulo y obtiene el abstract\n",
    "    informacion = list()\n",
    "    for url_articulo in lista_articulos:\n",
    "        page = requests.get(\"https://babelmesh.nlm.nih.gov/search/\" + url_articulo)\n",
    "        soup = BeautifulSoup(page.content, 'html.parser')\n",
    "        \n",
    "        for br in soup.findAll('a'):\n",
    "            next_s = br.nextSibling\n",
    "            print(next_s)\n",
    "#             if not (next_s and isinstance(next_s,NavigableString)):\n",
    "#                 continue\n",
    "#             next2_s = next_s.nextSibling\n",
    "#             if next2_s.name == 'Abstract':\n",
    "#                 text = str(next_s)\n",
    "#                 print(text)\n",
    "\n",
    "#         try:\n",
    "#             informacion.append(soup.find('div', {\"class\": \"mp-content\"}).text.replace(\"\\n\", \" \"))\n",
    "\n",
    "#         except AttributeError:\n",
    "#             pass\n",
    "\n",
    "#     print(\"Numero de abstract obtenidos: {} para la palabra: {}\".format(len(informacion), concepto))\n",
    "#     return informacion"
   ]
  },
  {
   "cell_type": "markdown",
   "metadata": {},
   "source": [
    "### Scrappear Medline"
   ]
  },
  {
   "cell_type": "code",
   "execution_count": 100,
   "metadata": {},
   "outputs": [],
   "source": [
    "def search_medline(concepto):\n",
    "    \n",
    "    \"\"\"Para obtener información de la página Medilne a través del uscador de conceptos. A veces cambia la url del articulo\"\"\"\n",
    "\n",
    "    # URL de origen que se \n",
    "    url = \"https://vsearch.nlm.nih.gov/vivisimo/cgi-bin/query-meta?v%3Aproject=medlineplus-spanish&v%3Asources=medlineplus-spanish-bundle&query={}\".format(concepto)\n",
    "    page = requests.get(url)\n",
    "    soup = BeautifulSoup(page.content, 'html.parser')\n",
    "\n",
    "    num_registros = soup.find('span', class_=\"intronum\").text.replace(\",\", \"\")\n",
    "\n",
    "    print(\"Numero de articulos: {}\".format(num_registros))\n",
    "\n",
    "    num_paginas = ceil(int(num_registros)/10)\n",
    "\n",
    "    #Bucle generando una lista con todos los articulos\n",
    "    lista_articulos = list()\n",
    "    for i in range(0,num_paginas+1):\n",
    "        url_busqueda = \"https://vsearch.nlm.nih.gov/vivisimo/cgi-bin/query-meta?v%3afile=viv_DSsKHJ&server=pvlbsrch14&v:state=root%7Croot-{}-10%7C0&\".format(i*10)\n",
    "        page = requests.get(url_busqueda)\n",
    "        soup = BeautifulSoup(page.content, 'html.parser')\n",
    "\n",
    "        for articulo in soup.find_all('li', class_=\"document source-mp-directory-spanish\"):\n",
    "            lista_articulos.append(articulo.find('a', href=True, class_='title')['href'])\n",
    "            \n",
    "        for articulo in soup.find_all('li', class_=\"document source-encyclopedia-spanish\"):\n",
    "            lista_articulos.append(articulo.find('a', href=True, class_='title')['href'])\n",
    "            \n",
    "        for articulo in soup.find_all('li', class_=\"document source-medical-sites-spanish\"):\n",
    "            lista_articulos.append(articulo.find('a', href=True, class_='title')['href'])\n",
    "\n",
    "    #Bucle en el que se mete en cada articulo y obtiene el abstract\n",
    "    informacion = list()\n",
    "    for url_articulo in lista_articulos:\n",
    "        page = requests.get(\"https://vsearch.nlm.nih.gov/vivisimo/cgi-bin/query-meta?v%3Aproject=medlineplus-spanish&v%3Asources=medlineplus-spanish-bundle/\" + url_articulo)\n",
    "        soup = BeautifulSoup(page.content, 'html.parser')\n",
    "        print(soup)\n",
    "\n",
    "        try:\n",
    "            informacion.append(soup.find('div', {\"class\": \"mp-content\"}).text.replace(\"\\n\", \" \"))\n",
    "\n",
    "        except AttributeError:\n",
    "            pass\n",
    "\n",
    "    print(\"Numero de abstract obtenidos: {} para la palabra: {}\".format(len(informacion), concepto))\n",
    "    return informacion"
   ]
  },
  {
   "cell_type": "code",
   "execution_count": 101,
   "metadata": {},
   "outputs": [
    {
     "name": "stdout",
     "output_type": "stream",
     "text": [
      "Numero de articulos: 26\n",
      "Numero de abstract obtenidos: 0 para la palabra: serologia\n"
     ]
    }
   ],
   "source": [
    "articulos = search_medline(\"serologia\")"
   ]
  },
  {
   "cell_type": "code",
   "execution_count": 96,
   "metadata": {},
   "outputs": [],
   "source": [
    "def search_medline_enciclopedia(concepto):\n",
    "    \n",
    "    \"\"\"Para obtener todos los conceptos y su definición que aparecen en la enciclopedia en español de Medline\"\"\"\n",
    "\n",
    "    # URL de origen que se \n",
    "    url = \"https://medlineplus.gov/spanish/ency/encyclopedia_{}.htm\".format(concepto)\n",
    "    page = requests.get(url)\n",
    "    soup = BeautifulSoup(page.content, 'html.parser')\n",
    "\n",
    "    lista_articulos = list()\n",
    "    for a in soup.find_all('ul', id=\"index\"):\n",
    "        for articulo in a.find_all('li'):\n",
    "            lista_articulos.append(articulo.find('a', href=True)['href'])\n",
    "            \n",
    "    #Bucle en el que se mete en cada articulo y obtiene el abstract\n",
    "    informacion = list()\n",
    "    for url_articulo in lista_articulos:\n",
    "        page = requests.get(\"https://medlineplus.gov/spanish/ency/\" + url_articulo)\n",
    "        soup = BeautifulSoup(page.content, 'html.parser')\n",
    "\n",
    "        try:\n",
    "            li1 = soup.find('h1', {\"class\": \"with-also\"}).text.replace(\"\\n\", \" \")\n",
    "            li2 = soup.find('div', {\"class\": \"main-single\"}).find('div', {'id':'ency_summary'}).text.replace(\"\\n\", \" \")\n",
    "            li3 = soup.find('div', {\"class\": \"main-single\"}).find('div',{'class':'section'}).text.replace(\"\\n\", \" \")\n",
    "            li = li1 + \" \"+ li2 + \" \" + li3\n",
    "            informacion.append(li)\n",
    "\n",
    "        except AttributeError:\n",
    "            pass\n",
    "\n",
    "    print(\"Numero de abstract obtenidos: {} para la palabra: {}\".format(len(informacion), concepto))\n",
    "    return informacion"
   ]
  },
  {
   "cell_type": "code",
   "execution_count": 98,
   "metadata": {
    "collapsed": true,
    "jupyter": {
     "outputs_hidden": true
    }
   },
   "outputs": [
    {
     "name": "stdout",
     "output_type": "stream",
     "text": [
      "Numero de abstract obtenidos: 330 para la palabra: A\n",
      "Numero de abstract obtenidos: 86 para la palabra: B\n",
      "Numero de abstract obtenidos: 350 para la palabra: C\n",
      "Numero de abstract obtenidos: 217 para la palabra: D\n",
      "Numero de abstract obtenidos: 457 para la palabra: E\n",
      "Numero de abstract obtenidos: 82 para la palabra: F\n",
      "Numero de abstract obtenidos: 67 para la palabra: G\n",
      "Numero de abstract obtenidos: 146 para la palabra: H\n",
      "Numero de abstract obtenidos: 260 para la palabra: I\n",
      "Numero de abstract obtenidos: 2 para la palabra: J\n",
      "Numero de abstract obtenidos: 2 para la palabra: K\n",
      "Numero de abstract obtenidos: 96 para la palabra: L\n",
      "Numero de abstract obtenidos: 151 para la palabra: M\n",
      "Numero de abstract obtenidos: 79 para la palabra: N\n",
      "Numero de abstract obtenidos: 54 para la palabra: O\n",
      "Numero de abstract obtenidos: 293 para la palabra: P\n",
      "Numero de abstract obtenidos: 21 para la palabra: Q\n",
      "Numero de abstract obtenidos: 233 para la palabra: R\n",
      "Numero de abstract obtenidos: 314 para la palabra: S\n",
      "Numero de abstract obtenidos: 253 para la palabra: T\n",
      "Numero de abstract obtenidos: 28 para la palabra: U\n",
      "Numero de abstract obtenidos: 83 para la palabra: V\n",
      "Numero de abstract obtenidos: 0 para la palabra: W\n",
      "Numero de abstract obtenidos: 4 para la palabra: X\n",
      "Numero de abstract obtenidos: 1 para la palabra: Y\n",
      "Numero de abstract obtenidos: 2 para la palabra: Z\n"
     ]
    }
   ],
   "source": [
    "#Obtenemos todos los conceptos para cada letra del abecedario\n",
    "enciclopedia = []\n",
    "alpha = list(string.ascii_uppercase)\n",
    "for letra in alpha:\n",
    "    enciclopedia.append(search_medline_enciclopedia(letra))"
   ]
  },
  {
   "cell_type": "code",
   "execution_count": 99,
   "metadata": {},
   "outputs": [],
   "source": [
    "#Pasamos la lista a lista planta y lo guardamos en un csv\n",
    "flat_enciclop = [item for sublist in enciclopedia for item in sublist]\n",
    "df = pd.DataFrame(flat_enciclop)\n",
    "df.to_csv('enciclopedia.csv', index=False)"
   ]
  },
  {
   "cell_type": "markdown",
   "metadata": {},
   "source": [
    "### Obtener XML de MedlineWeb Service"
   ]
  },
  {
   "cell_type": "code",
   "execution_count": 172,
   "metadata": {},
   "outputs": [],
   "source": [
    "def search_medline_webservice(concepto):\n",
    "    \n",
    "    \"\"\"Para obtener la información de conceptos mediante Medline Web Service, url que devuelve la información en formato XML\"\"\"\n",
    "\n",
    "    # URL de origen que se\n",
    "    url = 'https://wsearch.nlm.nih.gov/ws/query?db=healthTopicsSpanish&term={}'.format(concepto)\n",
    "    response = requests.get(url)\n",
    "    tree = ET.ElementTree(ET.fromstring(response.text))\n",
    "    root = tree.getroot()\n",
    "    docs = root.find('list').findall('document')\n",
    "    \n",
    "    lista_articulos = list()\n",
    "    for doc in docs:\n",
    "        title = doc.find(\".//content[@name='FullSummary']\").text.replace(\"\\t\", \"\").replace(\"\\n\", \"\")\n",
    "        title = re.sub(u'[\\<].*?[\\>]', '',title)\n",
    "        lista_articulos.append(title)\n",
    "\n",
    "    print(\"Numero de articulos obtenidos: {} para la palabra: {}\".format(len(lista_articulos), concepto))\n",
    "    return lista_articulos"
   ]
  },
  {
   "cell_type": "code",
   "execution_count": 177,
   "metadata": {},
   "outputs": [
    {
     "name": "stdout",
     "output_type": "stream",
     "text": [
      "Numero de articulos obtenidos: 10 para la palabra: covid\n"
     ]
    },
    {
     "data": {
      "text/plain": [
       "['La enfermedad del coronavirus 2019 (COVID-19) es causada por un nuevo virus que se ha expandido por todo el mundo. Se cree que se propaga principalmente a través del contacto cercano de persona a persona. En esta página encontrará enlaces con información sobre síntomas, pruebas, riesgos y cómo puede protegerse usted y su familia.',\n",
       " 'Las mascotas pueden agregarle diversión, compañía y una sensación de seguridad a su vida. Antes de adquirir una mascota, piense cuidadosamente acerca de qué animal es el mejor para su familia. ¿Qué es lo que cada integrante de la familia busca en una mascota? ¿Quién va a cuidarla? ¿Alguna persona en la casa es alérgica a los animales? ¿Qué tipo de animal se ajusta a su estilo de vida y presupuesto?Cuando ya tenga una mascota, manténgala sana. Aprenda a reconocer los signos de problemas médicos. Lleve a su mascota al veterinario si observa:Pérdida del apetitoConsumo excesivo de aguaAumento o pérdida de peso en forma rápidaComportamiento fuera de lo comúnCansancio y perezaDificultad para levantarse o acostarseAbultamientos extraños',\n",
       " 'Su hijo pasa más tiempo en la escuela que en cualquier otro lugar, excepto en casa. Las escuelas pueden tener un efecto importante en la salud de los niños. La escuela puede enseñarles sobre salud y promover hábitos saludables. Las clases de educación física proveen a los niños oportunidades para hacer ejercicio. Las escuelas trabajan para:Prevenir comportamientos riesgosos como el consumo del alcohol y el tabaco o la intimidación y ciberacosoPromover hábitos saludables como el ejercicio y el comer sanoLidiar con problemas de salud específicos de los estudiantes, tales como el asma, la obesidad y las enfermedades infecciosas. El edificio y el ambiente escolar deben ser seguros y sanos para el niño.',\n",
       " 'Los virus son gérmenes muy pequeños. Están hechos de material genético dentro de un recubrimiento de proteína. Los virus causan enfermedades infecciosas comunes como el  resfrío común, la gripe y las verrugas. También causan enfermedades graves como el VIH y sida, el ébola y la COVID-19. Los virus son como secuestradores. Invaden las células vivas y normales y las usan para multiplicarse y producir otros virus como ellos. Esto puede matar, dañar o mutar las células y enfermarle. Virus diferentes atacan distintas células de su cuerpo, como el hígado, el sistema respiratorio o la sangre.Cuando usted contrae un virus, no siempre se enfermará por él. Su sistema inmunitario puede ser capaz de combatirlo.Para la mayoría de las infecciones virales, los tratamientos sólo pueden ayudar con los síntomas mientras espera a que su sistema inmunitario lucha luchar contra el virus. Los antibióticos no funcionan para las infecciones virales. Hay medicamentos antivirales para tratar algunos de ellos. Las vacunas pueden ayudar a evitar que usted contraiga muchas enfermedades virales.',\n",
       " '¿Qué es la neumonía?La neumonía es una infección en uno o ambos pulmones. Causa que los alvéolos pulmonares se llenen de líquido o pus. Puede variar de leve a grave, según el tipo de germen que causa la infección, su edad y su estado general de salud.¿Qué causa la neumonía?Las infecciones bacterianas, virales y fúngicas  pueden causar neumonía.Las bacterias son la causa más común. La neumonía bacteriana puede ocurrir por sí sola. También puede desarrollarse después de haber tenido ciertas infecciones virales, como resfríos o gripe. Varios tipos diferentes de bacterias pueden causar neumonía, incluyendo:Streotococcus pneumoniaeLegionella pneumophila: Esta neumonía a menudo se llama enfermedad del legionarioMycoplasma pneumoniaeChlamydia pneumoniaeHaemophilus influenzaeLos virus que infectan las vías respiratorias pueden causar neumonía. A menudo, la neumonía viral es leve y desaparece por sí sola en pocas semanas. Pero en ocasiones es lo suficientemente grave como para necesitar tratamiento en un hospital. Si tiene neumonía viral, corre el riesgo de contraer también neumonía bacteriana. Los diferentes virus que pueden causar neumonía incluyen:Virus respiratorio sincitialAlgunos virus del resfrío común y la gripeSARS-CoV-2, el virus que causa COVID-19La neumonía fúngica es más común en personas con problemas de salud crónicos o sistemas inmunitarios debilitados. Algunos de los tipos incluyen:Neumonía por PneumocystisCoccidioidomicosis (causa fiebre del valle)HistoplasmosisCryptococcus¿Quién está en riesgo de tener neumonía?Cualquier persona puede tener neumonía, pero ciertos factores pueden aumentar su riesgo:Su edad: El riesgo es mayor para los niños menores de 2 años y los adultos mayores de 65 añosExposición a ciertos químicos, contaminantes o humos tóxicosEstilo de vida: Como fumar, consumo excesivo de alcohol y desnutriciónEstar en un hospital, especialmente si está en la UCI. Estar sedado y / o conectado a un ventilador aumenta aún más el riesgoTener una enfermedad pulmonar Tener un sistema inmunitario debilitadoTener problemas para toser o tragar, por un derrame cerebral u otra afecciónHaberse enfermado recientemente con un resfriado o gripe¿Cuáles son los síntomas de la neumonía?Los síntomas de la neumonía pueden variar de leves a graves e incluyen:FiebreEscalofríosTos, generalmente con flema (sustancia viscosa que proviene del fondo de los pulmones)Dificultad para respirarDolor en el pecho cuando respira o toseNáuseas y / o vómitosDiarreaLos síntomas pueden variar para diferentes grupos. Los recién nacidos y los bebés pueden no mostrar ningún signo de infección. Otros pueden vomitar y tener fiebre y tos. Pueden parecer enfermos, sin energía o estar inquietos.Los adultos mayores y las personas con enfermedades graves o sistemas inmunitarios débiles pueden tener síntomas menores y más leves. Incluso pueden tener una temperatura inferior a la normal. En ocasiones, los adultos mayores que tienen neumonía tienen cambios repentinos de su estado mental (conciencia).¿Qué otros problemas puede causar la neumonía?A veces, la neumonía puede causar complicaciones graves, como:Bacteriemia: Ocurre cuando las bacterias entran al torrente sanguíneo. Es grave y puede provocar un shock sépticoAbscesos pulmonares: Acumulaciones de pus en las cavidades de los pulmonesTrastornos pleurales: Afecciones que afectan la pleura, el tejido que cubre el exterior de los pulmones y recubre el interior de la cavidad torácicaInsuficiencia renalInsuficiencia respiratoria¿Cómo se diagnostica la neumonía?En ocasiones, la neumonía puede ser difícil de diagnosticar porque puede causar algunos de los mismos síntomas que un resfriado o gripe. Puede llevarle tiempo darse cuenta de que tiene una afección más grave.Para hacer un diagnóstico, su profesional de la salud:Preguntará sobre su historia clínica y sus síntomasHará un examen físico, que incluye escuchar sus pulmones con un estetoscopio Puede solicitar pruebas, incluyendo:Radiografía  de tóraxExámenes de sangre como un conteo sanguíneo completo para ver si su sistema inmunitario está combatiendo activamente una infecciónHemocultivo para determinar si tiene una infección bacteriana que se ha diseminado al torrente sanguíneoSi está en el hospital, tiene síntomas graves, es adulto mayor o tiene otros problemas de salud, también es posible que le hagan más pruebas, como:Prueba de esputo: Busca bacterias en una muestra de su esputo (saliva) o flema (sustancia viscosa del fondo de sus pulmones)Tomografía computarizada del tórax para ver la cantidad de pulmones afectados. También puede mostrar si tiene complicaciones como abscesos pulmonares o derrames pleuralesCultivo de líquido pleural: Busca bacterias en una muestra de líquido que se tomó del espacio pleuralOximetría de pulso o prueba de nivel de oxígeno en la sangre: Busca verificar cuánto oxígeno hay en su sangre Broncoscopia: Procedimiento que se utiliza para observar el interior de las vías respiratorias de los pulmones¿Cuáles son los tratamientos para la neumonía?El tratamiento para la neumonía depende del tipo de neumonía, qué germen la causa y qué tan grave es:Los antibióticos tratan la neumonía bacteriana y algunos tipos de neumonía fúngica. No funcionan para la neumonía viralEn algunos casos, su profesional de la salud puede recetarle medicamentos antivirales para la neumonía viralLos medicamentos antimicóticos tratan otros tipos de neumonía fúngicaEs posible que deba ser tratado en un hospital si sus síntomas son graves o si está en riesgo de complicaciones. Mientras esté allí, puede recibir tratamientos adicionales. Por ejemplo, puede recibir oxigenoterapia  si su nivel de oxígeno en la sangre es bajo.Puede tomar tiempo recuperarse de la neumonía. Algunas personas se sienten mejor en una semana. Para otras puede tomar un mes o más.¿Se puede prevenir la neumonía?Las vacunas pueden ayudar a prevenir la neumonía causada por la bacteria neumocócica o el virus de la gripe. Tener una buena higiene, no fumar y tener un estilo de vida saludable también puede ayudar a prevenirla.NIH: Instituto Nacional del Corazón, los Pulmones y la Sangre',\n",
       " 'Las enfermedades que las personas pueden contraer de los animales se llaman zoonosis. Muchas de las enfermedades que afectan a los humanos se pueden remontar a animales o a productos animales. Usted puede contagiarse directamente de un animal o indirectamente a través del ambiente.  Los animales de granja pueden transmitir enfermedades. Si una persona los toca o toca objetos que éstos han tocado, como cercas o baldes, debe lavarse muy bien las manos. Los adultos deben asegurarse de que los niños que visitan las granjas o los zoológicos de mascotas también se laven bien las manos.   Aunque puedan ser adorables y cariñosos, los animales salvajes pueden estar infectados con gérmenes, virus  y parásitos. Los ciervos y el ratón ciervo son portadores (persona o animal que lleva y trae, en este caso, gérmenes) de garrapatas que causan la enfermedad de Lyme. Algunos animales salvajes son portadores de rabia. Disfrute los animales salvajes desde lejos.  Las mascotas también pueden transmitir enfermedades. Los reptiles plantean un riesgo particular. Las tortugas, las serpientes y las iguanas pueden transmitir Salmonella a sus dueños. Usted puede contagiarse de rabia de un perro infectado o toxoplasmosis por manipular las arena sanitaria de un gato infectado. Las posibilidades de que su perro o su gato le contagien una enfermedad son pocas. Usted puede reducir el riesgo de contagio con una buena higiene, manteniendo limpias las áreas que las mascotas frecuentan y vacunando a su mascota cuando sea necesario. ',\n",
       " '¿Qué es la insuficiencia respiratoria?La insuficiencia respiratoria es una afección en la cual su sangre no tiene suficiente oxígeno o tiene demasiado dióxido de carbono. A veces puede tener ambos problemas.Cuando respira, sus pulmones se llenan de oxígeno. El oxígeno pasa a su sangre, que lo lleva a sus órganos, como el corazón y el cerebro, que necesitan sangre rica en oxígeno para funcionar bien.Otra función de la respiración es eliminar el dióxido de carbono de la sangre al botar el aire. Tener demasiado dióxido de carbono en la sangre puede dañar sus órganos.¿Qué causa la insuficiencia respiratoria?Las enfermedades que afectan su respiración pueden causar insuficiencia respiratoria. Estas pueden afectar los músculos, nervios, huesos o tejidos que tienen que ver con la respiración. O pueden afectar directamente a los pulmones. Estas afecciones incluyen:Enfermedades que afectan los pulmones, como la enfermedad pulmonar obstructiva crónica (EPOC), fibrosis quística, neumonía, embolia pulmonar y la COVID-19Afecciones que afectan los nervios y músculos que controlan la respiración, como esclerosis lateral amiotrófica, distrofia muscular, lesiones de la médula espinal y accidente cerebrovascularProblemas con la columna vertebral, como la escoliosis (una curvatura de la columna vertebral). Pueden afectar los huesos y músculos que se usan para respirarDaño a los tejidos y costillas alrededor de los pulmones. Una lesión en el tórax puede causar este problemaSobredosis de drogas o alcoholLesiones por inhalación, como inhalación de humo (de incendios) o gases nocivos¿Cuáles son los síntomas de la insuficiencia respiratoria?Los síntomas de la insuficiencia respiratoria dependen de la causa y los niveles de oxígeno y dióxido de carbono en su sangre.Un nivel bajo de oxígeno en la sangre puede causar dificultad para respirar y falta de aire (la sensación de que no puede respirar suficiente aire). Su piel, labios y uñas pueden tener un color azulado. Un nivel alto de dióxido de carbono puede causar respiración rápida y confusión.Algunas personas que tienen insuficiencia respiratoria pueden tener mucho sueño o perder el conocimiento. También pueden tener arritmia (latidos cardíacos irregulares). Es posible que tenga estos síntomas si su cerebro y corazón no reciben suficiente oxígeno.¿Cómo se diagnostica la insuficiencia respiratoria?Su proveedor de atención médica diagnosticará la insuficiencia respiratoria basándose en:Su historia clínicaUn examen físico, que a menudo incluye:Escuchar sus pulmones para ver si hay sonidos anormalesEscuchar a su corazón para ver si hay arritmiaObservar si su piel, labios y uñas tienen un color azulado Pruebas de diagnóstico, como:Oximetría de pulso: Utiliza un pequeño sensor que usa una luz para medir la cantidad de oxígeno en su sangre. El sensor se coloca al final de su dedo o en su orejaPrueba de gasometría arterial: Mide los niveles de oxígeno y dióxido de carbono en su sangre. La muestra de sangre se toma de una arteria, generalmente en su muñecaUna vez que se diagnostica insuficiencia respiratoria, su proveedor de salud buscará la causa. A menudo, las pruebas incluyen una radiografía de tórax. Si su médico cree que puede tener arritmia debido a la insuficiencia respiratoria, es posible que se someta a un electrocardiograma. Esta es una prueba simple e indolora que detecta y registra la actividad eléctrica de su corazón.¿Cuáles son los tratamientos para la insuficiencia respiratoria?El tratamiento para la insuficiencia respiratoria depende de:Si es aguda (de corto plazo) o crónica (en curso)Qué tan grave esSu causaLa insuficiencia respiratoria aguda puede ser una emergencia médica. Es posible que necesite tratamiento en una unidad de cuidados intensivos de un hospital. La insuficiencia respiratoria crónica a menudo se puede tratar en casa. Pero si su insuficiencia respiratoria crónica es grave, es posible que necesite tratamiento en un centro de atención a largo plazo.Uno de los objetivos principales del tratamiento es llevar oxígeno a los pulmones y otros órganos y eliminar el dióxido de carbono de su cuerpo. Otro objetivo es tratar la causa de la afección. Los tratamientos pueden incluir:Terapia con oxígeno: Se realiza a través de una cánula nasal (dos pequeños tubos de plástico que se introducen en las fosas nasales) o mediante una máscara que se coloca sobre la nariz y la bocaTraqueotomía: es un orificio creado quirúrgicamente que atraviesa la parte frontal del cuello y llega a la tráquea. Luego se coloca en el orificio un tubo respiratorio, también llamado cánula de traqueotomía o tubo traqueal, para ayudarle a respirarVentilador: Máquina de respiración que sopla aire en sus pulmones. También saca el dióxido de carbono de sus pulmonesOtros tratamientos respiratorios: Como ventilación con presión positiva no invasiva, que utiliza una presión de aire moderada para mantener abiertas las vías respiratorias mientras duerme. Otro tratamiento es una cama especial que se mueve hacia adelante y hacia atrás para ayudarlo a inhalar y exhalarFluidos: A menudo por vía intravenosa para mejorar el flujo sanguíneo en todo el cuerpo. También proporcionan nutriciónMedicamentos para el malestarTratamientos para la causa de la insuficiencia respiratoria: Estos pueden incluir medicamentos y procedimientosSi tiene insuficiencia respiratoria, consulte a su proveedor de atención médica para obtener atención médica continua. Su proveedor puede sugerir rehabilitación pulmonar.Si su insuficiencia respiratoria es crónica, asegúrese de saber cuándo y dónde conseguir ayuda para sus síntomas. Si tiene síntomas graves, como dificultad para respirar o hablar, necesita atención de emergencia. Debe llamar a su proveedor si nota que sus síntomas están empeorando o si presenta nuevos signos y síntomas.Vivir con insuficiencia respiratoria puede causar temor, ansiedad, depresión y estrés. La terapia conversacional, los medicamentos y los grupos de apoyo pueden ayudarlo a sentirse mejor.NIH: Instituto Nacional del Corazón, los Pulmones y la Sangre ',\n",
       " '¿Dónde se encuentran los gérmenes?Los gérmenes son parte de la vida diaria. Algunos de ellos son beneficiosos, pero otros son dañinos y causan enfermedades. Se pueden encontrar en todas partes, en el aire, suelo y agua. Están en nuestra piel y en nuestro cuerpo. Los gérmenes también están en las superficies y los objetos que tocamos.En ocasiones, esos gérmenes pueden contagiarle y enfermarlo. Por ejemplo, podría haber gérmenes en el control remoto de un televisor. Usted podría infectarse con los gérmenes si toca el control remoto y luego se frota los ojos o la nariz; o come con las manos.¿Cómo puedo evitar contraer gérmenes de superficies y objetos?Para evitar infectarse con gérmenes de superficies y objetos, es importante lavarse las manos con frecuencia. Pero no puede lavarse las manos cada vez que toca algo. Por ello, también es importante limpiar y desinfectar superficies y objetos con regularidad.¿Cuál es la diferencia entre limpiar, sanitizar y desinfectar?Algunas personas piensan que desinfectar es lo mismo que limpiar o sanitizar (también llamado higienizar o sanear). Pero estos son diferentes.La limpieza elimina la suciedad, el polvo, las migas y los gérmenes de las superficies u objetos. Cuando limpie, probablemente usará jabón (o detergente) y agua para limpiar físicamente las superficies y los objetos. Esto no necesariamente mata los gérmenes. Pero como eliminó algunos de ellos, habrían menos gérmenes que podrían transmitirle alguna infecciónLa sanitización (término que en inglés significa desinfectar, pero que en español significa higienizar)  utiliza productos químicos (desinfectantes) para matar los gérmenes en superficies y objetos. Algunos sanitizantes comunes son las soluciones de lejía y alcohol. En general, debe dejar actuar el sanitizante en las superficies y los objetos durante un cierto período de tiempo para matar los gérmenes. La sanitización no necesariamente limpia las superficies sucias ni elimina los gérmenesLa desinfección se puede realizar limpiando, sanitizando o ambos a la vez. Desinfectar significa reducir la cantidad de gérmenes a un nivel seguro. Lo que se considera un nivel seguro depende de los estándares o requisitos de salud pública en un lugar de trabajo o escuela, entre otros. Por ejemplo, existen procedimientos de desinfección para restaurantes y otras instalaciones que preparan alimentos. Lo que haga para desinfectar variará, según sus necesidades. Es posible que friegue el piso con un trapeador, un químico y agua. Puede usar un lavavajillas para desinfectar los platos. O podría usar una toallita antibacteriana en el control remoto de un televisorSi limpia y desinfecta una superficie u objeto, puede reducir aún más el riesgo de propagar una infección. Hay productos que limpian y desinfectan al mismo tiempo.¿Qué superficies y objetos necesito limpiar y desinfectar?Para prevenir la propagación de infecciones, debe limpiar y desinfectar con regularidad las superficies y los objetos que se tocan con frecuencia. Por ejemplo, en su casa, esto incluiría encimeras, picaportes, manijas de grifos e inodoros, interruptores de luz, controles remotos y juguetes.¿Cómo puedo limpiar y desinfectar de forma segura?Es importante estar seguro al usar productos de limpieza y desinfección:Guárdelos en sus envases originales. Siga siempre las instrucciones y preste atención a las advertencias de la etiqueta No mezcle limpiadores y desinfectantes a menos que las etiquetas indiquen que es seguro hacerlo. La combinación de ciertos productos (como blanqueador con cloro y limpiadores con amoníaco) puede causar lesiones graves o incluso la muerte Lea la etiqueta para ver si debe usar guantes para proteger sus manos y / o protección para los ojos cuando use estos productosSi traga, inhala o su piel entra en contacto con estos productos, siga las instrucciones de la etiqueta o busque atención médicaGuárdelos fuera del alcance de los niños',\n",
       " 'Viajar puede aumentar sus posibilidades de enfermarse. Un viaje largo puede aumentar su riesgo de trombosis venosa profunda. Tras llegar a su destino, su cuerpo necesita tiempo para adaptarse al agua, la comida y al aire de otros lugares. El agua en los países en desarrollo puede contener virus, bacterias y parásitos que causan malestares estomacales y diarrea. Aumente su seguridad usando solo agua de botella para beber, hacer hielo o cepillarse los dientes. Si consume agua de la llave, hiérvala o use tabletas de yodo. El envenenamiento por alimentos también puede ser un riesgo. Coma solo alimentos cocidos o servidos calientes. Evite frutas y vegetales que no hayan sido lavados o que tengan su cáscara. Si va a viajar fuera del país, también es posible que necesite vacunarse o tomar medicinas preventivas. Las que necesite dependerán del lugar del país del mundo que visite, la época del año, su edad, el estado general de su salud y las vacunas que ya le hayan dado. Consulte a su médico cuatro a seis semanas antes de viajar. La mayoría de las vacunas necesitan tiempo para ser eficaces. Centros para el Control y la Prevención de Enfermedades ',\n",
       " '¿Qué es el oxígeno?El oxígeno es un gas que su cuerpo necesita para funcionar bien. Sus células necesitan oxígeno para producir energía. Sus pulmones absorben el oxígeno del aire que respira. Luego ingresa a la sangre desde los pulmones y viaja a sus órganos y tejidos del cuerpo.Ciertas afecciones médicas pueden reducir sus niveles de oxígeno en la sangre. Un bajo nivel de oxígeno en la sangre puede hacer que se sienta sin aliento, cansado o confundido. También puede dañar su cuerpo. La terapia con oxígeno puede ayudarle a obtener más oxígeno.¿Qué es la oxigenoterapia?La terapia con oxígeno es un tratamiento que le entrega oxígeno adicional para respirar. También se le llama oxígeno suplementario. Solo su profesional de la salud puede indicarle recibirla. Puede obtenerla en el hospital, otro entorno médico o en el hogar. Algunas personas solo la necesitan por un corto período de tiempo. Otros necesitan oxigenoterapia a largo plazo.Existen diferentes tipos de dispositivos que pueden proporcionarle oxígeno. Algunos usan tanques de oxígeno líquido o gaseoso. Otros usan un concentrador de oxígeno, el que extrae oxígeno del aire. Lo puede obtener a través de un tubo nasal (cánula), una máscara o una cámara de oxígeno. El oxígeno adicional es inspirado junto al aire normal.Existen dispositivos portátiles de tanques y concentradores de oxígeno. Pueden hacer que sea más fácil moverse mientras se aplica la terapia.¿Quién necesita oxigenoterapia?Usted puede necesitar terapia con oxígeno si tiene una afección que causa niveles bajos de oxígeno en la sangre, como:Enfermedad pulmonar obstructiva crónica (EPOC)NeumoníaEnfermedad por coronavirus 2019 (COVID-19) Ataque grave de asma Insuficiencia cardíaca en etapa avanzadaFibrosis quísticaApnea del sueño¿Cuáles son los riesgos de usar oxigenoterapia?En general, la oxigenoterapia es segura, pero puede causar efectos secundarios, como nariz seca o con sangre, cansancio y dolores de cabeza durante las mañanas.El oxígeno presenta un riesgo de incendio, por lo que nunca debe fumar ni usar materiales inflamables cuando lo use. Si utiliza tanques de oxígeno, asegúrese de que su tanque está firme y se mantenga en posición vertical. Si se cae y se rompe, o la parte superior se quiebra, el tanque puede salir volando como un misil.¿Qué es la oxigenoterapia hiperbárica?La oxigenoterapia hiperbárica es un tipo diferente de terapia con oxígeno. Consiste en respirar oxígeno en una cámara o tubo presurizado, permitiendo que sus pulmones acumulen hasta tres veces más oxígeno del que obtendría al respirar a una presión de aire normal. El oxígeno adicional se mueve a través de su sangre hacia sus órganos y tejidos corporales. La oxigenoterapia hiperbárica se usa para tratar ciertas heridas graves, quemaduras, lesiones e infecciones. También trata las embolias de aire o gas (burbujas de aire en el torrente sanguíneo), la enfermedad de descompresión que sufren los buzos y el envenenamiento con monóxido de carbono.Algunos centros de tratamiento afirman que la oxigenoterapia hiperbárica puede tratar casi cualquier afección, incluyendo el VIH y sida, la enfermedad de Alzheimer, el autismo y el cáncer. La Administración de Alimentos y Medicamentos de los Estados Unidos (FDA) no ha aprobado o admitido el uso de esta terapia para estas afecciones. El uso de oxigenoterapia hiperbárica tiene riesgos, por ello, consulte siempre con su profesional de la salud antes de probarla.NIH: Instituto Nacional del Corazón, los Pulmones y la Sangre']"
      ]
     },
     "execution_count": 177,
     "metadata": {},
     "output_type": "execute_result"
    }
   ],
   "source": [
    "search_medline_webservice(\"covid\")"
   ]
  }
 ],
 "metadata": {
  "kernelspec": {
   "display_name": "Python 3",
   "language": "python",
   "name": "python3"
  },
  "language_info": {
   "codemirror_mode": {
    "name": "ipython",
    "version": 3
   },
   "file_extension": ".py",
   "mimetype": "text/x-python",
   "name": "python",
   "nbconvert_exporter": "python",
   "pygments_lexer": "ipython3",
   "version": "3.7.8"
  }
 },
 "nbformat": 4,
 "nbformat_minor": 4
}
