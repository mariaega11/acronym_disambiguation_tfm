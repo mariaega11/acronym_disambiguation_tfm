{
 "cells": [
  {
   "cell_type": "markdown",
   "id": "4412e7c9-9f58-4a05-a13a-154f484d4b8d",
   "metadata": {
    "jp-MarkdownHeadingCollapsed": true,
    "tags": []
   },
   "source": [
    "# Library"
   ]
  },
  {
   "cell_type": "code",
   "execution_count": 14,
   "id": "76ad4f48-7747-4339-b5fd-dfa032fc81a6",
   "metadata": {},
   "outputs": [
    {
     "name": "stderr",
     "output_type": "stream",
     "text": [
      "[nltk_data] Downloading package wordnet to /Users/egarcia/nltk_data...\n",
      "[nltk_data]   Package wordnet is already up-to-date!\n"
     ]
    }
   ],
   "source": [
    "import pandas as pd\n",
    "import numpy as np\n",
    "import os\n",
    "import re\n",
    "import collections\n",
    "import unidecode\n",
    "import nltk\n",
    "from nltk.corpus import stopwords\n",
    "import itertools \n",
    "from nltk.tokenize import word_tokenize\n",
    "from string import punctuation\n",
    "from functools import reduce\n",
    "import seaborn as sns\n",
    "from abbreviations import schwartz_hearst\n",
    "from nltk.stem import WordNetLemmatizer\n",
    "nltk.download('wordnet')\n",
    "import ast\n",
    "import math"
   ]
  },
  {
   "cell_type": "code",
   "execution_count": 15,
   "id": "125f9fcc-83a4-4ccf-a21d-a054e926ae6d",
   "metadata": {},
   "outputs": [],
   "source": [
    "pd.set_option('display.max_colwidth', 100)"
   ]
  },
  {
   "cell_type": "code",
   "execution_count": 16,
   "id": "614514e3-a4bb-427b-af9c-fed865bdddfa",
   "metadata": {
    "tags": []
   },
   "outputs": [],
   "source": [
    "%matplotlib inline\n",
    "from matplotlib import pyplot as plt"
   ]
  },
  {
   "cell_type": "markdown",
   "id": "1ce6ac5d-aae9-4fa0-9e9e-82098b8b99ef",
   "metadata": {
    "jp-MarkdownHeadingCollapsed": true,
    "tags": []
   },
   "source": [
    "# Functions"
   ]
  },
  {
   "cell_type": "code",
   "execution_count": 17,
   "id": "bcf6ea66-6f27-49b7-b782-bfa0245b9349",
   "metadata": {
    "tags": []
   },
   "outputs": [],
   "source": [
    "def read_texts(path):\n",
    "    data = []\n",
    "    file_name = os.listdir(path)\n",
    "\n",
    "    for name in file_name:\n",
    "        if name.endswith('.txt'):\n",
    "            with open(path + name,encoding=\"utf8\") as f:\n",
    "                text = f.read()\n",
    "                data.append({'nombre':name.replace('.txt',''), 'texto':text})\n",
    "\n",
    "    df = pd.DataFrame(data)\n",
    "    return df"
   ]
  },
  {
   "cell_type": "code",
   "execution_count": 18,
   "id": "8997cc1e-eb37-46a8-9cb8-d36225d32e20",
   "metadata": {},
   "outputs": [
    {
     "name": "stderr",
     "output_type": "stream",
     "text": [
      "[nltk_data] Downloading package stopwords to\n",
      "[nltk_data]     /Users/egarcia/nltk_data...\n",
      "[nltk_data]   Package stopwords is already up-to-date!\n"
     ]
    }
   ],
   "source": [
    "nltk.download('stopwords')\n",
    "swords = list(set(stopwords.words('spanish')))"
   ]
  },
  {
   "cell_type": "code",
   "execution_count": 19,
   "id": "e4c4aaee-b6b8-48aa-b8e2-129df2a4ba0b",
   "metadata": {},
   "outputs": [],
   "source": [
    "def clean_text(string):\n",
    "    \"\"\"\n",
    "    A method to clean text \n",
    "    \"\"\"\n",
    "    \n",
    "    # Removing the punctuations\n",
    "    for x in string.lower(): \n",
    "        if x in punctuation:\n",
    "            if x != '/':\n",
    "                string = string.replace(x, \"\")\n",
    "            else:\n",
    "                string = string.replace(x, \" \")\n",
    "    \n",
    "    string = unidecode.unidecode(string)\n",
    "\n",
    "#     # Converting the text to lower\n",
    "#     string = string.lower()\n",
    "\n",
    "    # Removing stop words\n",
    "    string = ' '.join([word for word in string.split() if word not in swords])\n",
    "\n",
    "    # Cleaning the whitespaces\n",
    "    string = re.sub(r'\\s+', ' ', string).strip()\n",
    "\n",
    "    return string "
   ]
  },
  {
   "cell_type": "code",
   "execution_count": 20,
   "id": "2dae861a-cbd8-4e24-a037-1f17e3b4542f",
   "metadata": {},
   "outputs": [],
   "source": [
    "def distance_levenshtein(str1, str2):\n",
    "    d=dict()\n",
    "    for i in range(len(str1)+1):\n",
    "        d[i]=dict()\n",
    "        d[i][0]=i\n",
    "    for i in range(len(str2)+1):\n",
    "        d[0][i] = i\n",
    "    for i in range(1, len(str1)+1):\n",
    "        for j in range(1, len(str2)+1):\n",
    "            d[i][j] = min(d[i][j-1]+1, d[i-1][j]+1, d[i-1][j-1]+(not str1[i-1] == str2[j-1]))\n",
    "    return d[len(str1)][len(str2)]"
   ]
  },
  {
   "cell_type": "code",
   "execution_count": 21,
   "id": "32dba3b5-8228-409e-8fa7-ca8826524e6f",
   "metadata": {},
   "outputs": [],
   "source": [
    "def normalize_lf(row):\n",
    "    leven2 = []\n",
    "    for i in row:\n",
    "        for j in row:\n",
    "            if i != j:\n",
    "                long = max(len(i),len(j))\n",
    "                ratio = distance_levenshtein(i,j)/long\n",
    "                if ratio < 0.2:\n",
    "                    leven2.append(j)\n",
    "    if leven2:\n",
    "        leven2 = set(leven2)\n",
    "        lista = []\n",
    "        for i in leven2:\n",
    "            val = frec[frec['index'] == i]['long_form'].iloc[0]\n",
    "            lista.append((i, val))\n",
    "        lista = set(lista)\n",
    "        most_freq = sorted(set(lista), key=lambda x: x[1], reverse = True)[0][0]\n",
    "        sust = {}\n",
    "        for i in set(leven2):\n",
    "            sust[i] = most_freq\n",
    "        \n",
    "        return sust\n",
    "    else:\n",
    "        pass\n",
    "    "
   ]
  },
  {
   "cell_type": "code",
   "execution_count": 22,
   "id": "23afbff8-b749-48f1-b554-08e81e29965c",
   "metadata": {
    "tags": []
   },
   "outputs": [],
   "source": [
    "def get_label(row):\n",
    "    if row['long_form_x'] == row['long_form_y']:\n",
    "        return 1\n",
    "    else:\n",
    "        return 0"
   ]
  },
  {
   "cell_type": "code",
   "execution_count": 23,
   "id": "30bce3ae-d7ad-4b85-afc8-4a8b1cf954b4",
   "metadata": {},
   "outputs": [],
   "source": [
    "def offsetA(row):\n",
    "    return row['texto'].find(row['Mention_A'])\n",
    "    \n",
    "def offsetB(row):\n",
    "    return row['texto'].find(row['Mention_B'])\n",
    "\n",
    "def offsetB_end(row):\n",
    "    return row['texto'].find(row['Mention_B']) + len(row['Mention_B'])\n",
    "\n",
    "def offsetA_end(row):\n",
    "    return row['Mention_A_StartOffset'] + len(row['Mention_A'])"
   ]
  },
  {
   "cell_type": "code",
   "execution_count": 24,
   "id": "df5b7c23-29fa-4e92-a083-074f567369d0",
   "metadata": {},
   "outputs": [],
   "source": [
    "def offset(row):\n",
    "    return row['texto'].find(row['abrev'])\n",
    "\n",
    "def offsetend(row):\n",
    "    return row['StartOffset']+len(row['abrev'])"
   ]
  },
  {
   "cell_type": "code",
   "execution_count": 25,
   "id": "7ea5d97e-dec8-45c2-8f11-8d586bdc627c",
   "metadata": {},
   "outputs": [],
   "source": [
    "def defin_dictionary(row,dictionary):\n",
    "    if row['Definition'] == 'no_existe':\n",
    "        return dictionary.get(row['Abbreviation'])\n",
    "    else:\n",
    "        return row['Definition']"
   ]
  },
  {
   "cell_type": "markdown",
   "id": "b75b60fa-7934-41f2-ba89-7afc6d8cb174",
   "metadata": {},
   "source": [
    "# Load Data"
   ]
  },
  {
   "cell_type": "markdown",
   "id": "78ded4c3-43f5-43bc-b37e-1d7613ac5878",
   "metadata": {},
   "source": [
    "### Trainning\n",
    "\n",
    "318 clinical cases"
   ]
  },
  {
   "cell_type": "code",
   "execution_count": 27,
   "id": "2dcab608-9adc-410f-8009-d243a9adaaf9",
   "metadata": {},
   "outputs": [],
   "source": [
    "train_raw = pd.read_csv(\"../data/train_raw.tsv\")"
   ]
  },
  {
   "cell_type": "code",
   "execution_count": 60,
   "id": "d454ebfd-f0bd-4bce-93f4-cdfc253c9b11",
   "metadata": {},
   "outputs": [],
   "source": [
    "#train_gold_subtrack1 = pd.read_csv(\"../data/clinical_cases.relations.training_set_2.tsv\", sep = '\\t')\n",
    "train_gold_subtrack1 = pd.read_csv(\"../data/ibereval_data/trainning_set/clinical_cases.relations.training_set.txt\", sep = '\\t')\n",
    "    train_gold_subtrack2 = pd.read_csv(\"../data/ibereval_data/trainning_set/clinical_cases.abbreviations.training_set.tsv\", sep = '\\t')"
   ]
  },
  {
   "cell_type": "code",
   "execution_count": 61,
   "id": "3db688eb-3883-4633-9db0-139a2c38aa36",
   "metadata": {},
   "outputs": [
    {
     "data": {
      "text/html": [
       "<div>\n",
       "<style scoped>\n",
       "    .dataframe tbody tr th:only-of-type {\n",
       "        vertical-align: middle;\n",
       "    }\n",
       "\n",
       "    .dataframe tbody tr th {\n",
       "        vertical-align: top;\n",
       "    }\n",
       "\n",
       "    .dataframe thead th {\n",
       "        text-align: right;\n",
       "    }\n",
       "</style>\n",
       "<table border=\"1\" class=\"dataframe\">\n",
       "  <thead>\n",
       "    <tr style=\"text-align: right;\">\n",
       "      <th></th>\n",
       "      <th># Document_ID</th>\n",
       "      <th>texto</th>\n",
       "    </tr>\n",
       "  </thead>\n",
       "  <tbody>\n",
       "    <tr>\n",
       "      <th>0</th>\n",
       "      <td>S1130-01082006000100014-1</td>\n",
       "      <td>Se trata de una mujer de 35 años, con antecedentes familiares de enfermedad de Crohn y sin antec...</td>\n",
       "    </tr>\n",
       "    <tr>\n",
       "      <th>1</th>\n",
       "      <td>S1130-01082009000300015-1</td>\n",
       "      <td>Varón de 70 años, fumador, con enfisema pulmonar y vitíligo al que en mayo de 2001 se realizó un...</td>\n",
       "    </tr>\n",
       "  </tbody>\n",
       "</table>\n",
       "</div>"
      ],
      "text/plain": [
       "               # Document_ID  \\\n",
       "0  S1130-01082006000100014-1   \n",
       "1  S1130-01082009000300015-1   \n",
       "\n",
       "                                                                                                 texto  \n",
       "0  Se trata de una mujer de 35 años, con antecedentes familiares de enfermedad de Crohn y sin antec...  \n",
       "1  Varón de 70 años, fumador, con enfisema pulmonar y vitíligo al que en mayo de 2001 se realizó un...  "
      ]
     },
     "execution_count": 61,
     "metadata": {},
     "output_type": "execute_result"
    }
   ],
   "source": [
    "train_raw.head(2)"
   ]
  },
  {
   "cell_type": "code",
   "execution_count": 62,
   "id": "5cc3a348-9278-46dc-8599-8b4c23495852",
   "metadata": {},
   "outputs": [
    {
     "data": {
      "text/html": [
       "<div>\n",
       "<style scoped>\n",
       "    .dataframe tbody tr th:only-of-type {\n",
       "        vertical-align: middle;\n",
       "    }\n",
       "\n",
       "    .dataframe tbody tr th {\n",
       "        vertical-align: top;\n",
       "    }\n",
       "\n",
       "    .dataframe thead th {\n",
       "        text-align: right;\n",
       "    }\n",
       "</style>\n",
       "<table border=\"1\" class=\"dataframe\">\n",
       "  <thead>\n",
       "    <tr style=\"text-align: right;\">\n",
       "      <th></th>\n",
       "      <th># Document_ID</th>\n",
       "      <th>Mention_A_type</th>\n",
       "      <th>Mention_A_StartOffset</th>\n",
       "      <th>Mention_A</th>\n",
       "      <th>Relation_type</th>\n",
       "      <th>Mention_B_type</th>\n",
       "      <th>Mention_B_StartOffset</th>\n",
       "      <th>Mention_B_EndOffset</th>\n",
       "      <th>Mention_B</th>\n",
       "    </tr>\n",
       "  </thead>\n",
       "  <tbody>\n",
       "    <tr>\n",
       "      <th>0</th>\n",
       "      <td>S1130-01082009000400014-1</td>\n",
       "      <td>SHORT_FORM</td>\n",
       "      <td>476</td>\n",
       "      <td>NPT</td>\n",
       "      <td>SHORT-LONG</td>\n",
       "      <td>LONG_FORM</td>\n",
       "      <td>454.0</td>\n",
       "      <td>474.0</td>\n",
       "      <td>nutrición parenteral</td>\n",
       "    </tr>\n",
       "  </tbody>\n",
       "</table>\n",
       "</div>"
      ],
      "text/plain": [
       "               # Document_ID Mention_A_type Mention_A_StartOffset Mention_A  \\\n",
       "0  S1130-01082009000400014-1     SHORT_FORM                   476       NPT   \n",
       "\n",
       "  Relation_type Mention_B_type  Mention_B_StartOffset  Mention_B_EndOffset  \\\n",
       "0    SHORT-LONG      LONG_FORM                  454.0                474.0   \n",
       "\n",
       "              Mention_B  \n",
       "0  nutrición parenteral  "
      ]
     },
     "execution_count": 62,
     "metadata": {},
     "output_type": "execute_result"
    }
   ],
   "source": [
    "train_gold_subtrack1.head(1)"
   ]
  },
  {
   "cell_type": "code",
   "execution_count": 63,
   "id": "5dce4067-7649-4132-8631-8042f0845f71",
   "metadata": {},
   "outputs": [
    {
     "data": {
      "text/html": [
       "<div>\n",
       "<style scoped>\n",
       "    .dataframe tbody tr th:only-of-type {\n",
       "        vertical-align: middle;\n",
       "    }\n",
       "\n",
       "    .dataframe tbody tr th {\n",
       "        vertical-align: top;\n",
       "    }\n",
       "\n",
       "    .dataframe thead th {\n",
       "        text-align: right;\n",
       "    }\n",
       "</style>\n",
       "<table border=\"1\" class=\"dataframe\">\n",
       "  <thead>\n",
       "    <tr style=\"text-align: right;\">\n",
       "      <th></th>\n",
       "      <th># Document_ID</th>\n",
       "      <th>StartOffset</th>\n",
       "      <th>EndOffset</th>\n",
       "      <th>Abbreviation</th>\n",
       "      <th>Definition</th>\n",
       "      <th>Definition_lemmatized</th>\n",
       "    </tr>\n",
       "  </thead>\n",
       "  <tbody>\n",
       "    <tr>\n",
       "      <th>0</th>\n",
       "      <td>S0210-48062004000500008-1</td>\n",
       "      <td>1650</td>\n",
       "      <td>1652</td>\n",
       "      <td>ml</td>\n",
       "      <td>mililitro</td>\n",
       "      <td>mililitro</td>\n",
       "    </tr>\n",
       "  </tbody>\n",
       "</table>\n",
       "</div>"
      ],
      "text/plain": [
       "               # Document_ID  StartOffset  EndOffset Abbreviation Definition  \\\n",
       "0  S0210-48062004000500008-1         1650       1652           ml  mililitro   \n",
       "\n",
       "  Definition_lemmatized  \n",
       "0             mililitro  "
      ]
     },
     "execution_count": 63,
     "metadata": {},
     "output_type": "execute_result"
    }
   ],
   "source": [
    "train_gold_subtrack2.head(1)"
   ]
  },
  {
   "cell_type": "code",
   "execution_count": 137,
   "id": "44c38d65-0f59-40ce-8db7-a7048b3431ac",
   "metadata": {},
   "outputs": [],
   "source": [
    "#train_soto = pd.read_csv(\"../data/track_1_soto_train.tsv\", sep = \"\\t\")\n",
    "#train_soto = pd.read_csv(\"../data/track_1_soto_train_marzo23.tsv\", sep = \"\\t\")\n",
    "train_soto1 = pd.read_csv(\"../data/marzo2023/subtrack1/OutputApproach4Relations_training.tsv\", sep = \"\\t\",header = None)\n",
    "train_soto2 = pd.read_csv(\"../data/marzo2023/subtrack2/OutputApproach4Disambiguation_training.tsv\", sep = \"\\t\", header = None)"
   ]
  },
  {
   "cell_type": "code",
   "execution_count": 141,
   "id": "e4221aea-2a2f-41c5-acf9-63f8de89278b",
   "metadata": {},
   "outputs": [
    {
     "data": {
      "text/html": [
       "<div>\n",
       "<style scoped>\n",
       "    .dataframe tbody tr th:only-of-type {\n",
       "        vertical-align: middle;\n",
       "    }\n",
       "\n",
       "    .dataframe tbody tr th {\n",
       "        vertical-align: top;\n",
       "    }\n",
       "\n",
       "    .dataframe thead th {\n",
       "        text-align: right;\n",
       "    }\n",
       "</style>\n",
       "<table border=\"1\" class=\"dataframe\">\n",
       "  <thead>\n",
       "    <tr style=\"text-align: right;\">\n",
       "      <th></th>\n",
       "      <th># Document_ID</th>\n",
       "      <th>Mention_A_type</th>\n",
       "      <th>Mention_A_StartOffset</th>\n",
       "      <th>Mention_A_EndtOffset</th>\n",
       "      <th>Mention_A</th>\n",
       "      <th>Relation_type</th>\n",
       "      <th>Mention_B_type</th>\n",
       "      <th>Mention_B_StartOffset</th>\n",
       "      <th>Mention_B_EndOffset</th>\n",
       "      <th>Mention_B</th>\n",
       "    </tr>\n",
       "  </thead>\n",
       "  <tbody>\n",
       "    <tr>\n",
       "      <th>0</th>\n",
       "      <td>S0365-66912006000200012-1</td>\n",
       "      <td>SHORT_FORM</td>\n",
       "      <td>208</td>\n",
       "      <td>210</td>\n",
       "      <td>OD</td>\n",
       "      <td>SHORT-LONG</td>\n",
       "      <td>LONG_FORM</td>\n",
       "      <td>195</td>\n",
       "      <td>206</td>\n",
       "      <td>ojo derecho</td>\n",
       "    </tr>\n",
       "    <tr>\n",
       "      <th>1</th>\n",
       "      <td>S0365-66912006000200012-1</td>\n",
       "      <td>SHORT_FORM</td>\n",
       "      <td>562</td>\n",
       "      <td>564</td>\n",
       "      <td>AV</td>\n",
       "      <td>SHORT-LONG</td>\n",
       "      <td>LONG_FORM</td>\n",
       "      <td>546</td>\n",
       "      <td>560</td>\n",
       "      <td>agudeza visual</td>\n",
       "    </tr>\n",
       "  </tbody>\n",
       "</table>\n",
       "</div>"
      ],
      "text/plain": [
       "               # Document_ID Mention_A_type  Mention_A_StartOffset  \\\n",
       "0  S0365-66912006000200012-1     SHORT_FORM                    208   \n",
       "1  S0365-66912006000200012-1     SHORT_FORM                    562   \n",
       "\n",
       "   Mention_A_EndtOffset Mention_A Relation_type Mention_B_type  \\\n",
       "0                   210        OD    SHORT-LONG      LONG_FORM   \n",
       "1                   564        AV    SHORT-LONG      LONG_FORM   \n",
       "\n",
       "   Mention_B_StartOffset  Mention_B_EndOffset       Mention_B  \n",
       "0                    195                  206     ojo derecho  \n",
       "1                    546                  560  agudeza visual  "
      ]
     },
     "execution_count": 141,
     "metadata": {},
     "output_type": "execute_result"
    }
   ],
   "source": [
    "train_soto1.head(2)"
   ]
  },
  {
   "cell_type": "code",
   "execution_count": 142,
   "id": "685568e0-1330-44b8-9880-dae2493812be",
   "metadata": {},
   "outputs": [
    {
     "data": {
      "text/html": [
       "<div>\n",
       "<style scoped>\n",
       "    .dataframe tbody tr th:only-of-type {\n",
       "        vertical-align: middle;\n",
       "    }\n",
       "\n",
       "    .dataframe tbody tr th {\n",
       "        vertical-align: top;\n",
       "    }\n",
       "\n",
       "    .dataframe thead th {\n",
       "        text-align: right;\n",
       "    }\n",
       "</style>\n",
       "<table border=\"1\" class=\"dataframe\">\n",
       "  <thead>\n",
       "    <tr style=\"text-align: right;\">\n",
       "      <th></th>\n",
       "      <th># Document_ID</th>\n",
       "      <th>StartOffset</th>\n",
       "      <th>EndOffset</th>\n",
       "      <th>Abbreviation</th>\n",
       "      <th>Definition</th>\n",
       "      <th>Definition_lemmatized</th>\n",
       "    </tr>\n",
       "  </thead>\n",
       "  <tbody>\n",
       "    <tr>\n",
       "      <th>0</th>\n",
       "      <td>S0004-06142005000900013-1</td>\n",
       "      <td>186</td>\n",
       "      <td>188</td>\n",
       "      <td>mm</td>\n",
       "      <td>milímetro</td>\n",
       "      <td>milimetro</td>\n",
       "    </tr>\n",
       "    <tr>\n",
       "      <th>1</th>\n",
       "      <td>S0376-78922008000400008-1</td>\n",
       "      <td>458</td>\n",
       "      <td>461</td>\n",
       "      <td>mal</td>\n",
       "      <td>maligno</td>\n",
       "      <td>maligno</td>\n",
       "    </tr>\n",
       "  </tbody>\n",
       "</table>\n",
       "</div>"
      ],
      "text/plain": [
       "               # Document_ID  StartOffset  EndOffset Abbreviation Definition  \\\n",
       "0  S0004-06142005000900013-1          186        188           mm  milímetro   \n",
       "1  S0376-78922008000400008-1          458        461          mal    maligno   \n",
       "\n",
       "  Definition_lemmatized  \n",
       "0             milimetro  \n",
       "1               maligno  "
      ]
     },
     "execution_count": 142,
     "metadata": {},
     "output_type": "execute_result"
    }
   ],
   "source": [
    "train_soto2.head(2)"
   ]
  },
  {
   "cell_type": "code",
   "execution_count": 151,
   "id": "e193ed83-e4d4-4001-8616-c57168b7cf3e",
   "metadata": {},
   "outputs": [],
   "source": [
    "train_soto1.columns = ['# Document_ID', 'Mention_A_type', 'Mention_A_StartOffset','Mention_A_EndOffset', 'Mention_A',\n",
    "       'Relation_type', 'Mention_B_type', 'Mention_B_StartOffset',\n",
    "       'Mention_B_EndOffset', 'Mention_B']\n",
    "train_soto2.columns = train_gold_subtrack2.columns"
   ]
  },
  {
   "cell_type": "code",
   "execution_count": 152,
   "id": "d15a1f4f-0ae4-4841-ad9d-1cdaf1ab3f57",
   "metadata": {},
   "outputs": [
    {
     "data": {
      "text/plain": [
       "# Document_ID            0\n",
       "StartOffset              0\n",
       "EndOffset                0\n",
       "Abbreviation             0\n",
       "Definition               0\n",
       "Definition_lemmatized    0\n",
       "dtype: int64"
      ]
     },
     "execution_count": 152,
     "metadata": {},
     "output_type": "execute_result"
    }
   ],
   "source": [
    "train_soto2.isna().sum(axis = 0)"
   ]
  },
  {
   "cell_type": "code",
   "execution_count": 153,
   "id": "36a7ea45-9fce-4d0b-9fc2-be558fe0f559",
   "metadata": {},
   "outputs": [
    {
     "data": {
      "text/plain": [
       "# Document_ID            object\n",
       "Mention_A_type           object\n",
       "Mention_A_StartOffset     int64\n",
       "Mention_A_EndOffset       int64\n",
       "Mention_A                object\n",
       "Relation_type            object\n",
       "Mention_B_type           object\n",
       "Mention_B_StartOffset     int64\n",
       "Mention_B_EndOffset       int64\n",
       "Mention_B                object\n",
       "dtype: object"
      ]
     },
     "execution_count": 153,
     "metadata": {},
     "output_type": "execute_result"
    }
   ],
   "source": [
    "train_soto1.dtypes"
   ]
  },
  {
   "cell_type": "code",
   "execution_count": 157,
   "id": "46b07935-4d7a-43e9-8482-b42b8165b5a9",
   "metadata": {},
   "outputs": [],
   "source": [
    "train_soto1.to_csv(\"../data/marzo2023/subtrack1/OutputApproach4Relations_training.tsv\", sep = \"\\t\",index = False)"
   ]
  },
  {
   "cell_type": "code",
   "execution_count": 156,
   "id": "60f014b9-09db-4140-8fba-553107e81063",
   "metadata": {},
   "outputs": [],
   "source": [
    "train_soto2.to_csv(\"../data/marzo2023/subtrack2/OutputApproach4Disambiguation_training.tsv\", sep = \"\\t\",index = False)"
   ]
  },
  {
   "cell_type": "markdown",
   "id": "fce0e018-f912-4b33-be82-d753134369a0",
   "metadata": {},
   "source": [
    "#### Subtrack 1\n",
    "\n",
    "Evaluate number of records"
   ]
  },
  {
   "cell_type": "code",
   "execution_count": 143,
   "id": "184ee73d-b383-4372-8107-9eb91733bd89",
   "metadata": {},
   "outputs": [
    {
     "name": "stdout",
     "output_type": "stream",
     "text": [
      "Number of rows in train gold standard subtrack1: 287\n",
      "Number of rows in train soto dataset: 273\n"
     ]
    }
   ],
   "source": [
    "print(f\"Number of rows in train gold standard subtrack1: {train_gold_subtrack1.shape[0]}\")\n",
    "print(f\"Number of rows in train soto dataset: {train_soto1.shape[0]}\")"
   ]
  },
  {
   "cell_type": "markdown",
   "id": "67510f25-0c4c-4b9d-ae90-d5d20533329a",
   "metadata": {},
   "source": [
    "Evaluate number of Docs"
   ]
  },
  {
   "cell_type": "code",
   "execution_count": 144,
   "id": "d8abc8ac-d262-4513-9c8d-ba7b18d7f2eb",
   "metadata": {},
   "outputs": [
    {
     "name": "stdout",
     "output_type": "stream",
     "text": [
      "Number of distinct docs in train raw: 318\n",
      "Number of distinct docs in train gold standard subtrack1: 119\n",
      "Number of distinct docs in train soto dataset: 119\n"
     ]
    }
   ],
   "source": [
    "print(f\"Number of distinct docs in train raw: {train_raw['# Document_ID'].nunique()}\")\n",
    "print(f\"Number of distinct docs in train gold standard subtrack1: {train_gold_subtrack1['# Document_ID'].nunique()}\")\n",
    "print(f\"Number of distinct docs in train soto dataset: {train_soto1['# Document_ID'].nunique()}\")"
   ]
  },
  {
   "cell_type": "markdown",
   "id": "d81d4342-590c-4ea5-a119-6f350ad0a2c8",
   "metadata": {},
   "source": [
    "Evaluate number of Short forms"
   ]
  },
  {
   "cell_type": "code",
   "execution_count": 145,
   "id": "4c20d46d-3600-4212-a4b4-84f9d8b697e1",
   "metadata": {},
   "outputs": [
    {
     "name": "stdout",
     "output_type": "stream",
     "text": [
      "Number of distinct SF in train gold standard subtrack1: 176\n",
      "Number of distinct SF in train soto dataset: 165\n"
     ]
    }
   ],
   "source": [
    "print(f\"Number of distinct SF in train gold standard subtrack1: {train_gold_subtrack1['Mention_A'].nunique()}\")\n",
    "print(f\"Number of distinct SF in train soto dataset: {train_soto1['Mention_A'].nunique()}\")"
   ]
  },
  {
   "cell_type": "markdown",
   "id": "f7c0a7bd-490a-4c9c-b9e5-c29a0322c9ce",
   "metadata": {},
   "source": [
    "Evaluate number of Long forms"
   ]
  },
  {
   "cell_type": "code",
   "execution_count": 146,
   "id": "a8dde0b1-6607-47e5-a661-cdb008bc9822",
   "metadata": {},
   "outputs": [
    {
     "name": "stdout",
     "output_type": "stream",
     "text": [
      "Number of distinct LF in train gold standard: 189\n",
      "Number of distinct LF in train soto dataset: 179\n"
     ]
    }
   ],
   "source": [
    "print(f\"Number of distinct LF in train gold standard: {train_gold_subtrack1['Mention_B'].nunique()}\")\n",
    "print(f\"Number of distinct LF in train soto dataset: {train_soto1['Mention_B'].nunique()}\")"
   ]
  },
  {
   "cell_type": "markdown",
   "id": "390005fd-1b01-4b54-add2-88e0a2daf28b",
   "metadata": {},
   "source": [
    "#### Subtrack 2\n",
    "\n",
    "Evaluate number of records"
   ]
  },
  {
   "cell_type": "code",
   "execution_count": 175,
   "id": "204a700a-d5ee-49d9-978c-c297cbe0d437",
   "metadata": {},
   "outputs": [
    {
     "name": "stdout",
     "output_type": "stream",
     "text": [
      "Number of rows in train gold standard subtrack2: 4259\n",
      "Number of rows in train soto dataset: 2529\n"
     ]
    }
   ],
   "source": [
    "print(f\"Number of rows in train gold standard subtrack2: {train_gold_subtrack2.shape[0]}\")\n",
    "print(f\"Number of rows in train soto dataset: {train_soto2.shape[0]}\")"
   ]
  },
  {
   "cell_type": "markdown",
   "id": "80673008-1ec9-44e8-9c4a-7e855d61a104",
   "metadata": {},
   "source": [
    "Evaluate number of Docs"
   ]
  },
  {
   "cell_type": "code",
   "execution_count": 176,
   "id": "a3db26bd-9a9d-42b7-b171-b805059787f2",
   "metadata": {},
   "outputs": [
    {
     "name": "stdout",
     "output_type": "stream",
     "text": [
      "Number of distinct docs in train raw: 318\n",
      "Number of distinct docs in train gold standard subtrack2: 298\n",
      "Number of distinct docs in train soto dataset: 298\n"
     ]
    }
   ],
   "source": [
    "print(f\"Number of distinct docs in train raw: {train_raw['# Document_ID'].nunique()}\")\n",
    "print(f\"Number of distinct docs in train gold standard subtrack2: {train_gold_subtrack2['# Document_ID'].nunique()}\")\n",
    "print(f\"Number of distinct docs in train soto dataset: {train_soto2['# Document_ID'].nunique()}\")"
   ]
  },
  {
   "cell_type": "markdown",
   "id": "0db88618-ca28-44ca-b5db-42d7f8dc8d5a",
   "metadata": {},
   "source": [
    "Evaluate number of Short forms"
   ]
  },
  {
   "cell_type": "code",
   "execution_count": 179,
   "id": "c9fa5e02-60ec-4fe1-a02a-4e40ce0f6474",
   "metadata": {},
   "outputs": [
    {
     "name": "stdout",
     "output_type": "stream",
     "text": [
      "Number of distinct SF in train gold standard subtrack2: 768\n",
      "Number of distinct SF in train soto dataset: 495\n"
     ]
    }
   ],
   "source": [
    "print(f\"Number of distinct SF in train gold standard subtrack2: {train_gold_subtrack2['Abbreviation'].nunique()}\")\n",
    "print(f\"Number of distinct SF in train soto dataset: {train_soto2['Abbreviation'].nunique()}\")"
   ]
  },
  {
   "cell_type": "markdown",
   "id": "688489f9-f887-4e4a-9978-0ee01b788ac3",
   "metadata": {},
   "source": [
    "Evaluate number of Long forms"
   ]
  },
  {
   "cell_type": "code",
   "execution_count": 180,
   "id": "4ed7e116-4bdc-4def-a1bb-e2612fda5369",
   "metadata": {},
   "outputs": [
    {
     "name": "stdout",
     "output_type": "stream",
     "text": [
      "Number of distinct LF in train gold standard: 908\n",
      "Number of distinct LF in train soto dataset: 538\n"
     ]
    }
   ],
   "source": [
    "print(f\"Number of distinct LF in train gold standard: {train_gold_subtrack2['Definition'].nunique()}\")\n",
    "print(f\"Number of distinct LF in train soto dataset: {train_soto2['Definition'].nunique()}\")"
   ]
  },
  {
   "cell_type": "markdown",
   "id": "84cc6c3c-223a-4fc1-8264-2e650642fe83",
   "metadata": {},
   "source": [
    "### Testing\n",
    "\n",
    "220 clinical cases."
   ]
  },
  {
   "cell_type": "code",
   "execution_count": 69,
   "id": "c17bab0d-c5d9-42a2-80c1-ae34898b52ad",
   "metadata": {},
   "outputs": [],
   "source": [
    "test_raw = pd.read_csv(\"../data/test_raw.tsv\")"
   ]
  },
  {
   "cell_type": "code",
   "execution_count": 75,
   "id": "ce1c002d-166e-4c13-ab6c-791c95e0f1c8",
   "metadata": {},
   "outputs": [],
   "source": [
    "test_gold_subtrack1 = pd.read_csv(\"../data/clinical_cases.relations.testing_set_2.tsv\", sep = '\\t')\n",
    "#test_gold_subtrack1 = pd.read_csv(\"../data/ibereval_data/testing_set/clinical_cases.relations.testing_set.tsv\", sep = '\\t')\n",
    "test_gold_subtrack2 = pd.read_csv(\"../data/ibereval_data/testing_set/clinical_cases.abbreviations.testing_set.tsv\", sep = '\\t')"
   ]
  },
  {
   "cell_type": "code",
   "execution_count": 76,
   "id": "ed8287be-6a4f-47fe-a3ff-342a37b0d5c3",
   "metadata": {},
   "outputs": [
    {
     "data": {
      "text/html": [
       "<div>\n",
       "<style scoped>\n",
       "    .dataframe tbody tr th:only-of-type {\n",
       "        vertical-align: middle;\n",
       "    }\n",
       "\n",
       "    .dataframe tbody tr th {\n",
       "        vertical-align: top;\n",
       "    }\n",
       "\n",
       "    .dataframe thead th {\n",
       "        text-align: right;\n",
       "    }\n",
       "</style>\n",
       "<table border=\"1\" class=\"dataframe\">\n",
       "  <thead>\n",
       "    <tr style=\"text-align: right;\">\n",
       "      <th></th>\n",
       "      <th># Document_ID</th>\n",
       "      <th>texto</th>\n",
       "    </tr>\n",
       "  </thead>\n",
       "  <tbody>\n",
       "    <tr>\n",
       "      <th>0</th>\n",
       "      <td>S1130-01082008001000010-1</td>\n",
       "      <td>Varón de 43 años originario de Marruecos, que ingresó en nuestro servicio por cuadro de 4 días d...</td>\n",
       "    </tr>\n",
       "    <tr>\n",
       "      <th>1</th>\n",
       "      <td>S0004-06142009000400011-1</td>\n",
       "      <td>Varón de 75 años con antecedentes de EPOC moderado sin otros antecedentes médicos de interés. En...</td>\n",
       "    </tr>\n",
       "  </tbody>\n",
       "</table>\n",
       "</div>"
      ],
      "text/plain": [
       "               # Document_ID  \\\n",
       "0  S1130-01082008001000010-1   \n",
       "1  S0004-06142009000400011-1   \n",
       "\n",
       "                                                                                                 texto  \n",
       "0  Varón de 43 años originario de Marruecos, que ingresó en nuestro servicio por cuadro de 4 días d...  \n",
       "1  Varón de 75 años con antecedentes de EPOC moderado sin otros antecedentes médicos de interés. En...  "
      ]
     },
     "execution_count": 76,
     "metadata": {},
     "output_type": "execute_result"
    }
   ],
   "source": [
    "test_raw.head(2)"
   ]
  },
  {
   "cell_type": "code",
   "execution_count": 77,
   "id": "288351ef-7c5d-49e4-9354-38e381eb5533",
   "metadata": {},
   "outputs": [
    {
     "data": {
      "text/html": [
       "<div>\n",
       "<style scoped>\n",
       "    .dataframe tbody tr th:only-of-type {\n",
       "        vertical-align: middle;\n",
       "    }\n",
       "\n",
       "    .dataframe tbody tr th {\n",
       "        vertical-align: top;\n",
       "    }\n",
       "\n",
       "    .dataframe thead th {\n",
       "        text-align: right;\n",
       "    }\n",
       "</style>\n",
       "<table border=\"1\" class=\"dataframe\">\n",
       "  <thead>\n",
       "    <tr style=\"text-align: right;\">\n",
       "      <th></th>\n",
       "      <th># Document_ID</th>\n",
       "      <th>Mention_A_type</th>\n",
       "      <th>Mention_A_StartOffset</th>\n",
       "      <th>Mention_A_EndOffset</th>\n",
       "      <th>Mention_A</th>\n",
       "      <th>Relation_type</th>\n",
       "      <th>Mention_B_type</th>\n",
       "      <th>Mention_B_StartOffset</th>\n",
       "      <th>Mention_B_EndOffset</th>\n",
       "      <th>Mention_B</th>\n",
       "    </tr>\n",
       "  </thead>\n",
       "  <tbody>\n",
       "    <tr>\n",
       "      <th>0</th>\n",
       "      <td>S0211-69952013000500019-1</td>\n",
       "      <td>SHORT_FORM</td>\n",
       "      <td>3739</td>\n",
       "      <td>3745</td>\n",
       "      <td>ARA II</td>\n",
       "      <td>SHORT-LONG</td>\n",
       "      <td>LONG_FORM</td>\n",
       "      <td>3695</td>\n",
       "      <td>3737</td>\n",
       "      <td>antagonista del receptor de angiotesina II</td>\n",
       "    </tr>\n",
       "  </tbody>\n",
       "</table>\n",
       "</div>"
      ],
      "text/plain": [
       "               # Document_ID Mention_A_type  Mention_A_StartOffset  \\\n",
       "0  S0211-69952013000500019-1     SHORT_FORM                   3739   \n",
       "\n",
       "   Mention_A_EndOffset Mention_A Relation_type Mention_B_type  \\\n",
       "0                 3745    ARA II    SHORT-LONG      LONG_FORM   \n",
       "\n",
       "   Mention_B_StartOffset  Mention_B_EndOffset  \\\n",
       "0                   3695                 3737   \n",
       "\n",
       "                                    Mention_B  \n",
       "0  antagonista del receptor de angiotesina II  "
      ]
     },
     "execution_count": 77,
     "metadata": {},
     "output_type": "execute_result"
    }
   ],
   "source": [
    "test_gold_subtrack1.head(1)"
   ]
  },
  {
   "cell_type": "code",
   "execution_count": 78,
   "id": "4a76288c-17c2-4028-a8c8-047e8395285e",
   "metadata": {},
   "outputs": [
    {
     "data": {
      "text/html": [
       "<div>\n",
       "<style scoped>\n",
       "    .dataframe tbody tr th:only-of-type {\n",
       "        vertical-align: middle;\n",
       "    }\n",
       "\n",
       "    .dataframe tbody tr th {\n",
       "        vertical-align: top;\n",
       "    }\n",
       "\n",
       "    .dataframe thead th {\n",
       "        text-align: right;\n",
       "    }\n",
       "</style>\n",
       "<table border=\"1\" class=\"dataframe\">\n",
       "  <thead>\n",
       "    <tr style=\"text-align: right;\">\n",
       "      <th></th>\n",
       "      <th># Document_ID</th>\n",
       "      <th>StartOffset</th>\n",
       "      <th>EndOffset</th>\n",
       "      <th>Abbreviation</th>\n",
       "      <th>Definition</th>\n",
       "      <th>Definition_lemmatized</th>\n",
       "    </tr>\n",
       "  </thead>\n",
       "  <tbody>\n",
       "    <tr>\n",
       "      <th>0</th>\n",
       "      <td>S0212-71992005000500009-1</td>\n",
       "      <td>533</td>\n",
       "      <td>537</td>\n",
       "      <td>/mm3</td>\n",
       "      <td>milímetro cúbico</td>\n",
       "      <td>milímetro cúbico</td>\n",
       "    </tr>\n",
       "  </tbody>\n",
       "</table>\n",
       "</div>"
      ],
      "text/plain": [
       "               # Document_ID  StartOffset  EndOffset Abbreviation  \\\n",
       "0  S0212-71992005000500009-1          533        537         /mm3   \n",
       "\n",
       "         Definition Definition_lemmatized  \n",
       "0  milímetro cúbico      milímetro cúbico  "
      ]
     },
     "execution_count": 78,
     "metadata": {},
     "output_type": "execute_result"
    }
   ],
   "source": [
    "test_gold_subtrack2.head(1)"
   ]
  },
  {
   "cell_type": "code",
   "execution_count": 158,
   "id": "ed5ef4ca-6287-4eb2-8480-2f9a04f2e7f1",
   "metadata": {},
   "outputs": [],
   "source": [
    "#test_soto = pd.read_csv(\"../data/track_1_soto_test.tsv\", sep = \"\\t\")\n",
    "#test_soto = pd.read_csv(\"../data/track_1_soto_test_marzo23.tsv\", sep = \"\\t\")\n",
    "test_soto1 = pd.read_csv(\"../data/marzo2023/subtrack1/OutputApproach4Relations_testing.tsv\", sep = \"\\t\",header = None)\n",
    "test_soto2 = pd.read_csv(\"../data/marzo2023/subtrack2/OutputApproach4Disambiguation_testing.tsv\", sep = \"\\t\", header = None)"
   ]
  },
  {
   "cell_type": "code",
   "execution_count": 167,
   "id": "34e710ce-f9cc-46e9-af26-3f176bbb1554",
   "metadata": {},
   "outputs": [
    {
     "data": {
      "text/html": [
       "<div>\n",
       "<style scoped>\n",
       "    .dataframe tbody tr th:only-of-type {\n",
       "        vertical-align: middle;\n",
       "    }\n",
       "\n",
       "    .dataframe tbody tr th {\n",
       "        vertical-align: top;\n",
       "    }\n",
       "\n",
       "    .dataframe thead th {\n",
       "        text-align: right;\n",
       "    }\n",
       "</style>\n",
       "<table border=\"1\" class=\"dataframe\">\n",
       "  <thead>\n",
       "    <tr style=\"text-align: right;\">\n",
       "      <th></th>\n",
       "      <th># Document_ID</th>\n",
       "      <th>Mention_A_type</th>\n",
       "      <th>Mention_A_StartOffset</th>\n",
       "      <th>Mention_A_EndOffset</th>\n",
       "      <th>Mention_A</th>\n",
       "      <th>Relation_type</th>\n",
       "      <th>Mention_B_type</th>\n",
       "      <th>Mention_B_StartOffset</th>\n",
       "      <th>Mention_B_EndOffset</th>\n",
       "      <th>Mention_B</th>\n",
       "    </tr>\n",
       "  </thead>\n",
       "  <tbody>\n",
       "    <tr>\n",
       "      <th>0</th>\n",
       "      <td>S1130-14732005000200003-1</td>\n",
       "      <td>SHORT_FORM</td>\n",
       "      <td>1683</td>\n",
       "      <td>1688</td>\n",
       "      <td>XOMED</td>\n",
       "      <td>SHORT-LONG</td>\n",
       "      <td>LONG_FORM</td>\n",
       "      <td>1672</td>\n",
       "      <td>1681</td>\n",
       "      <td>Medtronic</td>\n",
       "    </tr>\n",
       "    <tr>\n",
       "      <th>1</th>\n",
       "      <td>S0365-66912011001100006-1</td>\n",
       "      <td>SHORT_FORM</td>\n",
       "      <td>127</td>\n",
       "      <td>129</td>\n",
       "      <td>AV</td>\n",
       "      <td>SHORT-LONG</td>\n",
       "      <td>LONG_FORM</td>\n",
       "      <td>111</td>\n",
       "      <td>125</td>\n",
       "      <td>agudeza visual</td>\n",
       "    </tr>\n",
       "  </tbody>\n",
       "</table>\n",
       "</div>"
      ],
      "text/plain": [
       "               # Document_ID Mention_A_type  Mention_A_StartOffset  \\\n",
       "0  S1130-14732005000200003-1     SHORT_FORM                   1683   \n",
       "1  S0365-66912011001100006-1     SHORT_FORM                    127   \n",
       "\n",
       "   Mention_A_EndOffset Mention_A Relation_type Mention_B_type  \\\n",
       "0                 1688     XOMED    SHORT-LONG      LONG_FORM   \n",
       "1                  129        AV    SHORT-LONG      LONG_FORM   \n",
       "\n",
       "   Mention_B_StartOffset  Mention_B_EndOffset       Mention_B  \n",
       "0                   1672                 1681       Medtronic  \n",
       "1                    111                  125  agudeza visual  "
      ]
     },
     "execution_count": 167,
     "metadata": {},
     "output_type": "execute_result"
    }
   ],
   "source": [
    "test_soto1.head(2)"
   ]
  },
  {
   "cell_type": "code",
   "execution_count": 168,
   "id": "89ba5144-47a2-44f1-8198-ab12bfdd90a1",
   "metadata": {},
   "outputs": [
    {
     "data": {
      "text/html": [
       "<div>\n",
       "<style scoped>\n",
       "    .dataframe tbody tr th:only-of-type {\n",
       "        vertical-align: middle;\n",
       "    }\n",
       "\n",
       "    .dataframe tbody tr th {\n",
       "        vertical-align: top;\n",
       "    }\n",
       "\n",
       "    .dataframe thead th {\n",
       "        text-align: right;\n",
       "    }\n",
       "</style>\n",
       "<table border=\"1\" class=\"dataframe\">\n",
       "  <thead>\n",
       "    <tr style=\"text-align: right;\">\n",
       "      <th></th>\n",
       "      <th># Document_ID</th>\n",
       "      <th>StartOffset</th>\n",
       "      <th>EndOffset</th>\n",
       "      <th>Abbreviation</th>\n",
       "      <th>Definition</th>\n",
       "      <th>Definition_lemmatized</th>\n",
       "    </tr>\n",
       "  </thead>\n",
       "  <tbody>\n",
       "    <tr>\n",
       "      <th>0</th>\n",
       "      <td>S1130-14732005000200003-1</td>\n",
       "      <td>300</td>\n",
       "      <td>302</td>\n",
       "      <td>mm</td>\n",
       "      <td>milímetro</td>\n",
       "      <td>milimetro</td>\n",
       "    </tr>\n",
       "    <tr>\n",
       "      <th>1</th>\n",
       "      <td>S1130-14732005000200003-1</td>\n",
       "      <td>649</td>\n",
       "      <td>651</td>\n",
       "      <td>TC</td>\n",
       "      <td>tomografía computarizada</td>\n",
       "      <td>tomografia computariz</td>\n",
       "    </tr>\n",
       "  </tbody>\n",
       "</table>\n",
       "</div>"
      ],
      "text/plain": [
       "               # Document_ID  StartOffset  EndOffset Abbreviation  \\\n",
       "0  S1130-14732005000200003-1          300        302           mm   \n",
       "1  S1130-14732005000200003-1          649        651           TC   \n",
       "\n",
       "                 Definition  Definition_lemmatized  \n",
       "0                 milímetro              milimetro  \n",
       "1  tomografía computarizada  tomografia computariz  "
      ]
     },
     "execution_count": 168,
     "metadata": {},
     "output_type": "execute_result"
    }
   ],
   "source": [
    "test_soto2.head(2)"
   ]
  },
  {
   "cell_type": "code",
   "execution_count": 169,
   "id": "d11696ca-3fab-4b93-ab28-93fd91704fed",
   "metadata": {},
   "outputs": [],
   "source": [
    "test_soto1.columns = test_gold_subtrack1.columns\n",
    "test_soto2.columns = test_gold_subtrack2.columns"
   ]
  },
  {
   "cell_type": "code",
   "execution_count": 170,
   "id": "db95406e-dd3e-4fec-ba6f-61883cf6f3cd",
   "metadata": {},
   "outputs": [
    {
     "data": {
      "text/plain": [
       "# Document_ID            0\n",
       "StartOffset              0\n",
       "EndOffset                0\n",
       "Abbreviation             0\n",
       "Definition               0\n",
       "Definition_lemmatized    0\n",
       "dtype: int64"
      ]
     },
     "execution_count": 170,
     "metadata": {},
     "output_type": "execute_result"
    }
   ],
   "source": [
    "test_soto2.isna().sum(axis = 0)"
   ]
  },
  {
   "cell_type": "code",
   "execution_count": 174,
   "id": "1584dcf8-f2c7-46b5-84b7-6cbf7c3b67f6",
   "metadata": {},
   "outputs": [
    {
     "data": {
      "text/plain": [
       "# Document_ID            object\n",
       "Mention_A_type           object\n",
       "Mention_A_StartOffset     int64\n",
       "Mention_A_EndOffset       int64\n",
       "Mention_A                object\n",
       "Relation_type            object\n",
       "Mention_B_type           object\n",
       "Mention_B_StartOffset     int64\n",
       "Mention_B_EndOffset       int64\n",
       "Mention_B                object\n",
       "dtype: object"
      ]
     },
     "execution_count": 174,
     "metadata": {},
     "output_type": "execute_result"
    }
   ],
   "source": [
    "test_gold_subtrack1.dtypes"
   ]
  },
  {
   "cell_type": "code",
   "execution_count": 172,
   "id": "c73d7c06-569c-45cc-a262-603a699149a3",
   "metadata": {},
   "outputs": [],
   "source": [
    "test_soto1.to_csv(\"../data/marzo2023/subtrack1/OutputApproach4Relations_testing.tsv\", sep = \"\\t\",index = False)"
   ]
  },
  {
   "cell_type": "code",
   "execution_count": 173,
   "id": "80b04424-9992-48e7-aa6f-7e7fe3186d66",
   "metadata": {},
   "outputs": [],
   "source": [
    "test_soto2.to_csv(\"../data/marzo2023/subtrack2/OutputApproach4Disambiguation_testing.tsv\", sep = \"\\t\",index = False)"
   ]
  },
  {
   "cell_type": "markdown",
   "id": "7864cc40-c83b-4eb7-ad58-ea428155cbc5",
   "metadata": {},
   "source": [
    "#### Subtrack 1\n",
    "\n",
    "Evaluate number of records"
   ]
  },
  {
   "cell_type": "code",
   "execution_count": 181,
   "id": "583b5d2c-85c4-4eca-b397-2f757fd0bd30",
   "metadata": {},
   "outputs": [
    {
     "name": "stdout",
     "output_type": "stream",
     "text": [
      "Number of rows in test gold standard subtrack1: 238\n",
      "Number of rows in test soto dataset: 213\n"
     ]
    }
   ],
   "source": [
    "print(f\"Number of rows in test gold standard subtrack1: {test_gold_subtrack1.shape[0]}\")\n",
    "print(f\"Number of rows in test soto dataset: {test_soto1.shape[0]}\")"
   ]
  },
  {
   "cell_type": "markdown",
   "id": "6d641cde-b39d-4b32-b224-3d5a1f1b0d65",
   "metadata": {},
   "source": [
    "Evaluate number of Docs"
   ]
  },
  {
   "cell_type": "code",
   "execution_count": 182,
   "id": "51cf7baa-249e-4c04-9075-2c3fcb069565",
   "metadata": {},
   "outputs": [
    {
     "name": "stdout",
     "output_type": "stream",
     "text": [
      "Number of distinct docs in test raw: 220\n",
      "Number of distinct docs in test gold standard subtrack1: 101\n",
      "Number of distinct docs in test soto dataset: 99\n"
     ]
    }
   ],
   "source": [
    "print(f\"Number of distinct docs in test raw: {test_raw['# Document_ID'].nunique()}\")\n",
    "print(f\"Number of distinct docs in test gold standard subtrack1: {test_gold_subtrack1['# Document_ID'].nunique()}\")\n",
    "print(f\"Number of distinct docs in test soto dataset: {test_soto1['# Document_ID'].nunique()}\")"
   ]
  },
  {
   "cell_type": "markdown",
   "id": "dee05b52-4619-4667-a651-6e98cc7cf968",
   "metadata": {},
   "source": [
    "Evaluate number of Short forms"
   ]
  },
  {
   "cell_type": "code",
   "execution_count": 183,
   "id": "a0d4ee14-5024-45db-b850-4c3ca4457b13",
   "metadata": {},
   "outputs": [
    {
     "name": "stdout",
     "output_type": "stream",
     "text": [
      "Number of distinct SF in test gold standard subtrack1: 147\n",
      "Number of distinct SF in test soto dataset: 120\n"
     ]
    }
   ],
   "source": [
    "print(f\"Number of distinct SF in test gold standard subtrack1: {test_gold_subtrack1['Mention_A'].nunique()}\")\n",
    "print(f\"Number of distinct SF in test soto dataset: {test_soto1['Mention_A'].nunique()}\")"
   ]
  },
  {
   "cell_type": "markdown",
   "id": "f392987d-89ca-4beb-a36d-7350b4cdd738",
   "metadata": {},
   "source": [
    "Evaluate number of Long forms"
   ]
  },
  {
   "cell_type": "code",
   "execution_count": 184,
   "id": "1e4b0876-f247-4040-82a1-2da36134a113",
   "metadata": {},
   "outputs": [
    {
     "name": "stdout",
     "output_type": "stream",
     "text": [
      "Number of distinct LF in test gold standard: 163\n",
      "Number of distinct LF in test soto dataset: 139\n"
     ]
    }
   ],
   "source": [
    "print(f\"Number of distinct LF in test gold standard: {test_gold_subtrack1['Mention_B'].nunique()}\")\n",
    "print(f\"Number of distinct LF in test soto dataset: {test_soto1['Mention_B'].nunique()}\")"
   ]
  },
  {
   "cell_type": "markdown",
   "id": "0b7418d4-a8ba-437b-9143-795be3eaef83",
   "metadata": {},
   "source": [
    "#### Subtrack 2\n",
    "\n",
    "Evaluate number of records"
   ]
  },
  {
   "cell_type": "code",
   "execution_count": 185,
   "id": "a62b9182-a29a-4940-9229-5d8b5dedf551",
   "metadata": {},
   "outputs": [
    {
     "name": "stdout",
     "output_type": "stream",
     "text": [
      "Number of rows in test gold standard subtrack2: 3413\n",
      "Number of rows in test soto dataset: 1981\n"
     ]
    }
   ],
   "source": [
    "print(f\"Number of rows in test gold standard subtrack2: {test_gold_subtrack2.shape[0]}\")\n",
    "print(f\"Number of rows in test soto dataset: {test_soto2.shape[0]}\")"
   ]
  },
  {
   "cell_type": "markdown",
   "id": "da040e3a-8e57-430c-94cb-dcca999a2230",
   "metadata": {},
   "source": [
    "Evaluate number of Docs"
   ]
  },
  {
   "cell_type": "code",
   "execution_count": 186,
   "id": "0e50f383-a25a-423e-ab49-9d174a207475",
   "metadata": {},
   "outputs": [
    {
     "name": "stdout",
     "output_type": "stream",
     "text": [
      "Number of distinct docs in test raw: 220\n",
      "Number of distinct docs in test gold standard subtrack2: 214\n",
      "Number of distinct docs in test soto dataset: 213\n"
     ]
    }
   ],
   "source": [
    "print(f\"Number of distinct docs in test raw: {test_raw['# Document_ID'].nunique()}\")\n",
    "print(f\"Number of distinct docs in test gold standard subtrack2: {test_gold_subtrack2['# Document_ID'].nunique()}\")\n",
    "print(f\"Number of distinct docs in test soto dataset: {test_soto2['# Document_ID'].nunique()}\")"
   ]
  },
  {
   "cell_type": "markdown",
   "id": "dee41894-caee-4ea5-b928-4ce4eb5d9108",
   "metadata": {},
   "source": [
    "Evaluate number of Short forms"
   ]
  },
  {
   "cell_type": "code",
   "execution_count": 188,
   "id": "98adf4d1-f1e2-4730-8c85-a6d33b58cc40",
   "metadata": {},
   "outputs": [
    {
     "name": "stdout",
     "output_type": "stream",
     "text": [
      "Number of distinct SF in test gold standard subtrack2: 685\n",
      "Number of distinct SF in test soto dataset: 407\n"
     ]
    }
   ],
   "source": [
    "print(f\"Number of distinct SF in test gold standard subtrack2: {test_gold_subtrack2['Abbreviation'].nunique()}\")\n",
    "print(f\"Number of distinct SF in test soto dataset: {test_soto2['Abbreviation'].nunique()}\")"
   ]
  },
  {
   "cell_type": "markdown",
   "id": "80a93fc7-b968-443b-9599-c87480fb4db0",
   "metadata": {},
   "source": [
    "Evaluate number of Long forms"
   ]
  },
  {
   "cell_type": "code",
   "execution_count": 189,
   "id": "e6702e36-3b05-45ae-ae1e-4604bbf884c2",
   "metadata": {},
   "outputs": [
    {
     "name": "stdout",
     "output_type": "stream",
     "text": [
      "Number of distinct LF in test gold standard: 695\n",
      "Number of distinct LF in test soto dataset: 439\n"
     ]
    }
   ],
   "source": [
    "print(f\"Number of distinct LF in test gold standard: {test_gold_subtrack2['Definition'].nunique()}\")\n",
    "print(f\"Number of distinct LF in test soto dataset: {test_soto2['Definition'].nunique()}\")"
   ]
  },
  {
   "cell_type": "code",
   "execution_count": 64,
   "id": "a7ba4b9e-a530-4a9f-bfb4-ee9abb1b363e",
   "metadata": {},
   "outputs": [],
   "source": [
    "with open(\"dictionary_measureunits.txt\", \"r\") as data:\n",
    "    dictionary = ast.literal_eval(data.read())"
   ]
  },
  {
   "cell_type": "markdown",
   "id": "ff61d44d-86e0-4f42-a3e2-28685b24cabd",
   "metadata": {},
   "source": [
    "Assign definitions from AbreMES DB"
   ]
  },
  {
   "cell_type": "code",
   "execution_count": 65,
   "id": "30c2a08c-df14-4491-801e-6b965a025444",
   "metadata": {},
   "outputs": [],
   "source": [
    "train_def = train_track2.merge(abremes[['Abbreviation', 'Definition']], how = 'left', on = 'Abbreviation', indicator = True)"
   ]
  },
  {
   "cell_type": "code",
   "execution_count": 66,
   "id": "c893352f-a16d-4138-b420-c1fb6300ef42",
   "metadata": {},
   "outputs": [
    {
     "data": {
      "text/html": [
       "<div>\n",
       "<style scoped>\n",
       "    .dataframe tbody tr th:only-of-type {\n",
       "        vertical-align: middle;\n",
       "    }\n",
       "\n",
       "    .dataframe tbody tr th {\n",
       "        vertical-align: top;\n",
       "    }\n",
       "\n",
       "    .dataframe thead th {\n",
       "        text-align: right;\n",
       "    }\n",
       "</style>\n",
       "<table border=\"1\" class=\"dataframe\">\n",
       "  <thead>\n",
       "    <tr style=\"text-align: right;\">\n",
       "      <th></th>\n",
       "      <th>nombre</th>\n",
       "      <th>StartOffset</th>\n",
       "      <th>EndOffset</th>\n",
       "      <th>Abbreviation</th>\n",
       "      <th>texto</th>\n",
       "      <th>Definition</th>\n",
       "      <th>_merge</th>\n",
       "    </tr>\n",
       "  </thead>\n",
       "  <tbody>\n",
       "    <tr>\n",
       "      <th>0</th>\n",
       "      <td>S0365-66912006000200012-1</td>\n",
       "      <td>208</td>\n",
       "      <td>210</td>\n",
       "      <td>OD</td>\n",
       "      <td>Paciente de 76 años de edad que acudió a urgencias por TCE frontal derecho con pérdida de concie...</td>\n",
       "      <td>ojo derecho</td>\n",
       "      <td>both</td>\n",
       "    </tr>\n",
       "    <tr>\n",
       "      <th>1</th>\n",
       "      <td>S0365-66912006000200012-1</td>\n",
       "      <td>208</td>\n",
       "      <td>210</td>\n",
       "      <td>OD</td>\n",
       "      <td>Paciente de 76 años de edad que acudió a urgencias por TCE frontal derecho con pérdida de concie...</td>\n",
       "      <td>o-desmetilasa</td>\n",
       "      <td>both</td>\n",
       "    </tr>\n",
       "  </tbody>\n",
       "</table>\n",
       "</div>"
      ],
      "text/plain": [
       "                      nombre  StartOffset  EndOffset Abbreviation  \\\n",
       "0  S0365-66912006000200012-1          208        210           OD   \n",
       "1  S0365-66912006000200012-1          208        210           OD   \n",
       "\n",
       "                                                                                                 texto  \\\n",
       "0  Paciente de 76 años de edad que acudió a urgencias por TCE frontal derecho con pérdida de concie...   \n",
       "1  Paciente de 76 años de edad que acudió a urgencias por TCE frontal derecho con pérdida de concie...   \n",
       "\n",
       "      Definition _merge  \n",
       "0    ojo derecho   both  \n",
       "1  o-desmetilasa   both  "
      ]
     },
     "execution_count": 66,
     "metadata": {},
     "output_type": "execute_result"
    }
   ],
   "source": [
    "train_def.head(2)"
   ]
  },
  {
   "cell_type": "code",
   "execution_count": 67,
   "id": "95232c5b-07f1-4d73-a340-f504c9d47209",
   "metadata": {},
   "outputs": [],
   "source": [
    "train_def['Definition'] = train_def['Definition'].fillna('no_existe')"
   ]
  },
  {
   "cell_type": "code",
   "execution_count": 68,
   "id": "b1f31bd9-054b-49a4-955f-b081d8dc7654",
   "metadata": {},
   "outputs": [],
   "source": [
    "train_def['Definition'] = train_def.apply(lambda x: defin_dictionary(x, dictionary), axis = 1)"
   ]
  },
  {
   "cell_type": "code",
   "execution_count": 69,
   "id": "4e0b5cf9-29b9-4617-9abf-4d1a729bbc51",
   "metadata": {},
   "outputs": [],
   "source": [
    "sf_notfind= train_def[train_def['Definition'].isna()]['Abbreviation'].unique().tolist()"
   ]
  },
  {
   "cell_type": "code",
   "execution_count": 70,
   "id": "9351168a-c372-4820-a574-8b695661fadb",
   "metadata": {
    "tags": []
   },
   "outputs": [
    {
     "data": {
      "text/plain": [
       "31"
      ]
     },
     "execution_count": 70,
     "metadata": {},
     "output_type": "execute_result"
    }
   ],
   "source": [
    "len(sf_notfind)"
   ]
  },
  {
   "cell_type": "code",
   "execution_count": 71,
   "id": "21650ba8-f718-4638-a2c0-ceccea68acf1",
   "metadata": {},
   "outputs": [],
   "source": [
    "train_def= train_def.dropna(subset = ['Definition'])"
   ]
  },
  {
   "cell_type": "code",
   "execution_count": 72,
   "id": "cb72f501-d8f1-4160-a881-6e3f18e3fb49",
   "metadata": {},
   "outputs": [
    {
     "name": "stdout",
     "output_type": "stream",
     "text": [
      "118\n"
     ]
    }
   ],
   "source": [
    "#En test real hay 600 y pico\n",
    "print(train_def.Abbreviation.nunique())"
   ]
  },
  {
   "cell_type": "code",
   "execution_count": 73,
   "id": "ca6f9fc9-6527-42f8-8259-7896cf3e5a2f",
   "metadata": {},
   "outputs": [
    {
     "data": {
      "text/html": [
       "<div>\n",
       "<style scoped>\n",
       "    .dataframe tbody tr th:only-of-type {\n",
       "        vertical-align: middle;\n",
       "    }\n",
       "\n",
       "    .dataframe tbody tr th {\n",
       "        vertical-align: top;\n",
       "    }\n",
       "\n",
       "    .dataframe thead th {\n",
       "        text-align: right;\n",
       "    }\n",
       "</style>\n",
       "<table border=\"1\" class=\"dataframe\">\n",
       "  <thead>\n",
       "    <tr style=\"text-align: right;\">\n",
       "      <th></th>\n",
       "      <th>nombre</th>\n",
       "      <th>StartOffset</th>\n",
       "      <th>EndOffset</th>\n",
       "      <th>Abbreviation</th>\n",
       "      <th>texto</th>\n",
       "      <th>Definition</th>\n",
       "      <th>_merge</th>\n",
       "    </tr>\n",
       "  </thead>\n",
       "  <tbody>\n",
       "    <tr>\n",
       "      <th>0</th>\n",
       "      <td>S0365-66912006000200012-1</td>\n",
       "      <td>208</td>\n",
       "      <td>210</td>\n",
       "      <td>OD</td>\n",
       "      <td>Paciente de 76 años de edad que acudió a urgencias por TCE frontal derecho con pérdida de concie...</td>\n",
       "      <td>ojo derecho</td>\n",
       "      <td>both</td>\n",
       "    </tr>\n",
       "    <tr>\n",
       "      <th>1</th>\n",
       "      <td>S0365-66912006000200012-1</td>\n",
       "      <td>208</td>\n",
       "      <td>210</td>\n",
       "      <td>OD</td>\n",
       "      <td>Paciente de 76 años de edad que acudió a urgencias por TCE frontal derecho con pérdida de concie...</td>\n",
       "      <td>o-desmetilasa</td>\n",
       "      <td>both</td>\n",
       "    </tr>\n",
       "    <tr>\n",
       "      <th>2</th>\n",
       "      <td>S0365-66912006000200012-1</td>\n",
       "      <td>208</td>\n",
       "      <td>210</td>\n",
       "      <td>OD</td>\n",
       "      <td>Paciente de 76 años de edad que acudió a urgencias por TCE frontal derecho con pérdida de concie...</td>\n",
       "      <td>ojo derecho</td>\n",
       "      <td>both</td>\n",
       "    </tr>\n",
       "    <tr>\n",
       "      <th>3</th>\n",
       "      <td>S0365-66912006000200012-1</td>\n",
       "      <td>208</td>\n",
       "      <td>210</td>\n",
       "      <td>OD</td>\n",
       "      <td>Paciente de 76 años de edad que acudió a urgencias por TCE frontal derecho con pérdida de concie...</td>\n",
       "      <td>oxígeno disuelto</td>\n",
       "      <td>both</td>\n",
       "    </tr>\n",
       "    <tr>\n",
       "      <th>4</th>\n",
       "      <td>S0365-66912006000200012-1</td>\n",
       "      <td>208</td>\n",
       "      <td>210</td>\n",
       "      <td>OD</td>\n",
       "      <td>Paciente de 76 años de edad que acudió a urgencias por TCE frontal derecho con pérdida de concie...</td>\n",
       "      <td>OD: cuenta dedos</td>\n",
       "      <td>both</td>\n",
       "    </tr>\n",
       "  </tbody>\n",
       "</table>\n",
       "</div>"
      ],
      "text/plain": [
       "                      nombre  StartOffset  EndOffset Abbreviation  \\\n",
       "0  S0365-66912006000200012-1          208        210           OD   \n",
       "1  S0365-66912006000200012-1          208        210           OD   \n",
       "2  S0365-66912006000200012-1          208        210           OD   \n",
       "3  S0365-66912006000200012-1          208        210           OD   \n",
       "4  S0365-66912006000200012-1          208        210           OD   \n",
       "\n",
       "                                                                                                 texto  \\\n",
       "0  Paciente de 76 años de edad que acudió a urgencias por TCE frontal derecho con pérdida de concie...   \n",
       "1  Paciente de 76 años de edad que acudió a urgencias por TCE frontal derecho con pérdida de concie...   \n",
       "2  Paciente de 76 años de edad que acudió a urgencias por TCE frontal derecho con pérdida de concie...   \n",
       "3  Paciente de 76 años de edad que acudió a urgencias por TCE frontal derecho con pérdida de concie...   \n",
       "4  Paciente de 76 años de edad que acudió a urgencias por TCE frontal derecho con pérdida de concie...   \n",
       "\n",
       "         Definition _merge  \n",
       "0       ojo derecho   both  \n",
       "1     o-desmetilasa   both  \n",
       "2       ojo derecho   both  \n",
       "3  oxígeno disuelto   both  \n",
       "4  OD: cuenta dedos   both  "
      ]
     },
     "execution_count": 73,
     "metadata": {},
     "output_type": "execute_result"
    }
   ],
   "source": [
    "train_def.head()"
   ]
  },
  {
   "cell_type": "code",
   "execution_count": 74,
   "id": "fa15c713-37d3-47cf-86b6-ecfee963b16a",
   "metadata": {},
   "outputs": [
    {
     "name": "stdout",
     "output_type": "stream",
     "text": [
      "(7175, 7)\n",
      "118\n"
     ]
    }
   ],
   "source": [
    "print(train_def.shape)\n",
    "print(train_def.Abbreviation.nunique())"
   ]
  },
  {
   "cell_type": "markdown",
   "id": "4d22ae7f-d416-4b84-ad87-1e6db5d12804",
   "metadata": {},
   "source": [
    "Get lemmatized long forms"
   ]
  },
  {
   "cell_type": "code",
   "execution_count": 75,
   "id": "008ecd33-eae5-4b50-918c-aa29a28c6757",
   "metadata": {},
   "outputs": [],
   "source": [
    "lemmatizer = WordNetLemmatizer()"
   ]
  },
  {
   "cell_type": "code",
   "execution_count": 76,
   "id": "ae6f1a7e-68ec-4fdf-bf73-fb5d348a3008",
   "metadata": {},
   "outputs": [],
   "source": [
    "train_def['Definition_lemmatized'] = train_def['Definition'].map(lambda x: lemmatizer.lemmatize(x))"
   ]
  },
  {
   "cell_type": "code",
   "execution_count": 77,
   "id": "6d828e0c-312e-4257-9409-4434d0c6898e",
   "metadata": {},
   "outputs": [
    {
     "data": {
      "text/html": [
       "<div>\n",
       "<style scoped>\n",
       "    .dataframe tbody tr th:only-of-type {\n",
       "        vertical-align: middle;\n",
       "    }\n",
       "\n",
       "    .dataframe tbody tr th {\n",
       "        vertical-align: top;\n",
       "    }\n",
       "\n",
       "    .dataframe thead th {\n",
       "        text-align: right;\n",
       "    }\n",
       "</style>\n",
       "<table border=\"1\" class=\"dataframe\">\n",
       "  <thead>\n",
       "    <tr style=\"text-align: right;\">\n",
       "      <th></th>\n",
       "      <th>nombre</th>\n",
       "      <th>StartOffset</th>\n",
       "      <th>EndOffset</th>\n",
       "      <th>Abbreviation</th>\n",
       "      <th>texto</th>\n",
       "      <th>Definition</th>\n",
       "      <th>_merge</th>\n",
       "      <th>Definition_lemmatized</th>\n",
       "    </tr>\n",
       "  </thead>\n",
       "  <tbody>\n",
       "    <tr>\n",
       "      <th>0</th>\n",
       "      <td>S0365-66912006000200012-1</td>\n",
       "      <td>208</td>\n",
       "      <td>210</td>\n",
       "      <td>OD</td>\n",
       "      <td>Paciente de 76 años de edad que acudió a urgencias por TCE frontal derecho con pérdida de concie...</td>\n",
       "      <td>ojo derecho</td>\n",
       "      <td>both</td>\n",
       "      <td>ojo derecho</td>\n",
       "    </tr>\n",
       "    <tr>\n",
       "      <th>1</th>\n",
       "      <td>S0365-66912006000200012-1</td>\n",
       "      <td>208</td>\n",
       "      <td>210</td>\n",
       "      <td>OD</td>\n",
       "      <td>Paciente de 76 años de edad que acudió a urgencias por TCE frontal derecho con pérdida de concie...</td>\n",
       "      <td>o-desmetilasa</td>\n",
       "      <td>both</td>\n",
       "      <td>o-desmetilasa</td>\n",
       "    </tr>\n",
       "    <tr>\n",
       "      <th>2</th>\n",
       "      <td>S0365-66912006000200012-1</td>\n",
       "      <td>208</td>\n",
       "      <td>210</td>\n",
       "      <td>OD</td>\n",
       "      <td>Paciente de 76 años de edad que acudió a urgencias por TCE frontal derecho con pérdida de concie...</td>\n",
       "      <td>ojo derecho</td>\n",
       "      <td>both</td>\n",
       "      <td>ojo derecho</td>\n",
       "    </tr>\n",
       "    <tr>\n",
       "      <th>3</th>\n",
       "      <td>S0365-66912006000200012-1</td>\n",
       "      <td>208</td>\n",
       "      <td>210</td>\n",
       "      <td>OD</td>\n",
       "      <td>Paciente de 76 años de edad que acudió a urgencias por TCE frontal derecho con pérdida de concie...</td>\n",
       "      <td>oxígeno disuelto</td>\n",
       "      <td>both</td>\n",
       "      <td>oxígeno disuelto</td>\n",
       "    </tr>\n",
       "    <tr>\n",
       "      <th>4</th>\n",
       "      <td>S0365-66912006000200012-1</td>\n",
       "      <td>208</td>\n",
       "      <td>210</td>\n",
       "      <td>OD</td>\n",
       "      <td>Paciente de 76 años de edad que acudió a urgencias por TCE frontal derecho con pérdida de concie...</td>\n",
       "      <td>OD: cuenta dedos</td>\n",
       "      <td>both</td>\n",
       "      <td>OD: cuenta dedos</td>\n",
       "    </tr>\n",
       "  </tbody>\n",
       "</table>\n",
       "</div>"
      ],
      "text/plain": [
       "                      nombre  StartOffset  EndOffset Abbreviation  \\\n",
       "0  S0365-66912006000200012-1          208        210           OD   \n",
       "1  S0365-66912006000200012-1          208        210           OD   \n",
       "2  S0365-66912006000200012-1          208        210           OD   \n",
       "3  S0365-66912006000200012-1          208        210           OD   \n",
       "4  S0365-66912006000200012-1          208        210           OD   \n",
       "\n",
       "                                                                                                 texto  \\\n",
       "0  Paciente de 76 años de edad que acudió a urgencias por TCE frontal derecho con pérdida de concie...   \n",
       "1  Paciente de 76 años de edad que acudió a urgencias por TCE frontal derecho con pérdida de concie...   \n",
       "2  Paciente de 76 años de edad que acudió a urgencias por TCE frontal derecho con pérdida de concie...   \n",
       "3  Paciente de 76 años de edad que acudió a urgencias por TCE frontal derecho con pérdida de concie...   \n",
       "4  Paciente de 76 años de edad que acudió a urgencias por TCE frontal derecho con pérdida de concie...   \n",
       "\n",
       "         Definition _merge Definition_lemmatized  \n",
       "0       ojo derecho   both           ojo derecho  \n",
       "1     o-desmetilasa   both         o-desmetilasa  \n",
       "2       ojo derecho   both           ojo derecho  \n",
       "3  oxígeno disuelto   both      oxígeno disuelto  \n",
       "4  OD: cuenta dedos   both      OD: cuenta dedos  "
      ]
     },
     "execution_count": 77,
     "metadata": {},
     "output_type": "execute_result"
    }
   ],
   "source": [
    "train_def.head()"
   ]
  },
  {
   "cell_type": "code",
   "execution_count": 78,
   "id": "2ca908e0-370a-4440-b601-56aa3a0da0c8",
   "metadata": {},
   "outputs": [],
   "source": [
    "del train_def['_merge']"
   ]
  },
  {
   "cell_type": "code",
   "execution_count": 79,
   "id": "bcfc82c3-d4ca-48fb-89e7-e76bcb6b3c48",
   "metadata": {},
   "outputs": [],
   "source": [
    "train_def.to_csv(\"../data/data_paper/train_subtrack2_soto_parte1.csv\", index = False)"
   ]
  },
  {
   "cell_type": "markdown",
   "id": "c94132b9-dd86-4449-ae7f-2fe140b4c1ad",
   "metadata": {
    "tags": []
   },
   "source": [
    "### Test"
   ]
  },
  {
   "cell_type": "code",
   "execution_count": 81,
   "id": "780fda41-d700-404e-a850-2b8df0aff25f",
   "metadata": {},
   "outputs": [],
   "source": [
    "test_track2 = testing.copy()"
   ]
  },
  {
   "cell_type": "markdown",
   "id": "3b0a2635-f515-4ace-b4b2-83aee05f3c51",
   "metadata": {
    "tags": []
   },
   "source": [
    "### 2) Give a long-form from AbreMES data base"
   ]
  },
  {
   "cell_type": "code",
   "execution_count": 82,
   "id": "fcf157b3-2808-4df6-80fe-599dfb3fd940",
   "metadata": {},
   "outputs": [],
   "source": [
    "abremes = pd.read_csv(\"../../publicacion/AbreMES-DB/DB/pairs.tsv\", sep = '\\t')"
   ]
  },
  {
   "cell_type": "code",
   "execution_count": 83,
   "id": "97e2fe8b-09c7-482f-8423-296b18b354e8",
   "metadata": {},
   "outputs": [
    {
     "data": {
      "text/html": [
       "<div>\n",
       "<style scoped>\n",
       "    .dataframe tbody tr th:only-of-type {\n",
       "        vertical-align: middle;\n",
       "    }\n",
       "\n",
       "    .dataframe tbody tr th {\n",
       "        vertical-align: top;\n",
       "    }\n",
       "\n",
       "    .dataframe thead th {\n",
       "        text-align: right;\n",
       "    }\n",
       "</style>\n",
       "<table border=\"1\" class=\"dataframe\">\n",
       "  <thead>\n",
       "    <tr style=\"text-align: right;\">\n",
       "      <th></th>\n",
       "      <th># Pair ID</th>\n",
       "      <th>Abbreviation ID</th>\n",
       "      <th>Definition ID</th>\n",
       "      <th>Frequency</th>\n",
       "      <th>Abbreviation</th>\n",
       "      <th>Definition</th>\n",
       "      <th>Appears on</th>\n",
       "    </tr>\n",
       "  </thead>\n",
       "  <tbody>\n",
       "    <tr>\n",
       "      <th>0</th>\n",
       "      <td>1</td>\n",
       "      <td>3348</td>\n",
       "      <td>17876</td>\n",
       "      <td>31</td>\n",
       "      <td>DDD</td>\n",
       "      <td>diaria definida</td>\n",
       "      <td>http://www.scielo.edu.uy/scielo.php?script=sci_arttext&amp;pid=S1688-03902003000300004,http://scielo...</td>\n",
       "    </tr>\n",
       "    <tr>\n",
       "      <th>1</th>\n",
       "      <td>2</td>\n",
       "      <td>11880</td>\n",
       "      <td>23106</td>\n",
       "      <td>11</td>\n",
       "      <td>HP-CHPR</td>\n",
       "      <td>Hospital Pediátrico del Centro Hospitalario Pereira Rossell</td>\n",
       "      <td>http://www.scielo.edu.uy/scielo.php?script=sci_arttext&amp;pid=S1688-03902003000300004,http://www.sc...</td>\n",
       "    </tr>\n",
       "    <tr>\n",
       "      <th>2</th>\n",
       "      <td>3</td>\n",
       "      <td>1454</td>\n",
       "      <td>23213</td>\n",
       "      <td>1</td>\n",
       "      <td>EVN</td>\n",
       "      <td>de vida al nacer</td>\n",
       "      <td>http://www.scielo.edu.uy/scielo.php?script=sci_arttext&amp;pid=S1688-03902003000300005</td>\n",
       "    </tr>\n",
       "    <tr>\n",
       "      <th>3</th>\n",
       "      <td>4</td>\n",
       "      <td>1112</td>\n",
       "      <td>23214</td>\n",
       "      <td>1</td>\n",
       "      <td>TDS</td>\n",
       "      <td>Total dermatoscopic score</td>\n",
       "      <td>http://www.scielo.edu.uy/scielo.php?script=sci_arttext&amp;pid=S1688-03902003000300006</td>\n",
       "    </tr>\n",
       "    <tr>\n",
       "      <th>4</th>\n",
       "      <td>5</td>\n",
       "      <td>231</td>\n",
       "      <td>23215</td>\n",
       "      <td>1</td>\n",
       "      <td>AP</td>\n",
       "      <td>cases by pathologic anatomy</td>\n",
       "      <td>http://www.scielo.edu.uy/scielo.php?script=sci_arttext&amp;pid=S1688-03902003000300006</td>\n",
       "    </tr>\n",
       "  </tbody>\n",
       "</table>\n",
       "</div>"
      ],
      "text/plain": [
       "   # Pair ID  Abbreviation ID  Definition ID  Frequency Abbreviation  \\\n",
       "0          1             3348          17876         31          DDD   \n",
       "1          2            11880          23106         11      HP-CHPR   \n",
       "2          3             1454          23213          1          EVN   \n",
       "3          4             1112          23214          1          TDS   \n",
       "4          5              231          23215          1           AP   \n",
       "\n",
       "                                                    Definition  \\\n",
       "0                                              diaria definida   \n",
       "1  Hospital Pediátrico del Centro Hospitalario Pereira Rossell   \n",
       "2                                             de vida al nacer   \n",
       "3                                    Total dermatoscopic score   \n",
       "4                                  cases by pathologic anatomy   \n",
       "\n",
       "                                                                                            Appears on  \n",
       "0  http://www.scielo.edu.uy/scielo.php?script=sci_arttext&pid=S1688-03902003000300004,http://scielo...  \n",
       "1  http://www.scielo.edu.uy/scielo.php?script=sci_arttext&pid=S1688-03902003000300004,http://www.sc...  \n",
       "2                   http://www.scielo.edu.uy/scielo.php?script=sci_arttext&pid=S1688-03902003000300005  \n",
       "3                   http://www.scielo.edu.uy/scielo.php?script=sci_arttext&pid=S1688-03902003000300006  \n",
       "4                   http://www.scielo.edu.uy/scielo.php?script=sci_arttext&pid=S1688-03902003000300006  "
      ]
     },
     "execution_count": 83,
     "metadata": {},
     "output_type": "execute_result"
    }
   ],
   "source": [
    "abremes.head()"
   ]
  },
  {
   "cell_type": "code",
   "execution_count": 84,
   "id": "08a302e6-b967-4b67-94dd-ea36c01605f7",
   "metadata": {},
   "outputs": [
    {
     "name": "stderr",
     "output_type": "stream",
     "text": [
      "/var/folders/1q/pw51_8397cv2pn5m63n8dwzr0000gn/T/ipykernel_14105/1011565268.py:1: FutureWarning: The default value of regex will change from True to False in a future version.\n",
      "  abremes['Abbreviation'] = abremes['Abbreviation'].str.replace('[!\"#$%&*+,-./:;<=>?@^_`{|}~]','')\n"
     ]
    }
   ],
   "source": [
    "abremes['Abbreviation'] = abremes['Abbreviation'].str.replace('[!\"#$%&*+,-./:;<=>?@^_`{|}~]','')"
   ]
  },
  {
   "cell_type": "code",
   "execution_count": 85,
   "id": "b9c407da-ffd1-40ec-b784-2799c7452a22",
   "metadata": {},
   "outputs": [],
   "source": [
    "test_track2 = test_track2.rename(columns = {'abrev':'Abbreviation'})"
   ]
  },
  {
   "cell_type": "code",
   "execution_count": 86,
   "id": "8c7f625f-8d1e-416f-bdf0-075d12938b4b",
   "metadata": {},
   "outputs": [],
   "source": [
    "test_track2['Abbreviation'] = test_track2['Abbreviation'].str.strip()"
   ]
  },
  {
   "cell_type": "code",
   "execution_count": 87,
   "id": "092accca-2145-4512-af22-3bc5d4a96cb4",
   "metadata": {},
   "outputs": [
    {
     "name": "stdout",
     "output_type": "stream",
     "text": [
      "(198, 5)\n",
      "116\n",
      "(52551, 7)\n",
      "20236\n"
     ]
    }
   ],
   "source": [
    "print(test_track2.shape)\n",
    "print(test_track2.Abbreviation.nunique())\n",
    "print(abremes.shape)\n",
    "print(abremes.Abbreviation.nunique())"
   ]
  },
  {
   "cell_type": "markdown",
   "id": "0959833f-047f-4be8-bb6c-f0378df13ffe",
   "metadata": {},
   "source": [
    "Add dictionary with measure units"
   ]
  },
  {
   "cell_type": "code",
   "execution_count": 88,
   "id": "e5a2fc02-67df-41d1-aeaa-9b17ba2c8fe3",
   "metadata": {},
   "outputs": [],
   "source": [
    "with open(\"dictionary_measureunits.txt\", \"r\") as data:\n",
    "    dictionary = ast.literal_eval(data.read())"
   ]
  },
  {
   "cell_type": "markdown",
   "id": "67fa0319-ccc8-4a18-b4a0-289f65885552",
   "metadata": {},
   "source": [
    "Assign definitions from AbreMES DB"
   ]
  },
  {
   "cell_type": "code",
   "execution_count": 89,
   "id": "c1b35ab5-69f9-4eef-95bc-2491261f3543",
   "metadata": {},
   "outputs": [],
   "source": [
    "test_def = test_track2.merge(abremes[['Abbreviation', 'Definition']], how = 'left', on = 'Abbreviation', indicator = True)"
   ]
  },
  {
   "cell_type": "code",
   "execution_count": 90,
   "id": "674d6f73-b306-4ad6-ba19-47f1967b943a",
   "metadata": {},
   "outputs": [
    {
     "data": {
      "text/html": [
       "<div>\n",
       "<style scoped>\n",
       "    .dataframe tbody tr th:only-of-type {\n",
       "        vertical-align: middle;\n",
       "    }\n",
       "\n",
       "    .dataframe tbody tr th {\n",
       "        vertical-align: top;\n",
       "    }\n",
       "\n",
       "    .dataframe thead th {\n",
       "        text-align: right;\n",
       "    }\n",
       "</style>\n",
       "<table border=\"1\" class=\"dataframe\">\n",
       "  <thead>\n",
       "    <tr style=\"text-align: right;\">\n",
       "      <th></th>\n",
       "      <th>nombre</th>\n",
       "      <th>StartOffset</th>\n",
       "      <th>EndOffset</th>\n",
       "      <th>Abbreviation</th>\n",
       "      <th>texto</th>\n",
       "      <th>Definition</th>\n",
       "      <th>_merge</th>\n",
       "    </tr>\n",
       "  </thead>\n",
       "  <tbody>\n",
       "    <tr>\n",
       "      <th>0</th>\n",
       "      <td>S1130-14732005000200003-1</td>\n",
       "      <td>1683</td>\n",
       "      <td>1688</td>\n",
       "      <td>XOMED</td>\n",
       "      <td>Mujer de 29 años de edad, diagnosticada de cavernomas múltiples en 1996, año en que fue interven...</td>\n",
       "      <td>NaN</td>\n",
       "      <td>left_only</td>\n",
       "    </tr>\n",
       "    <tr>\n",
       "      <th>1</th>\n",
       "      <td>S0365-66912011001100006-1</td>\n",
       "      <td>127</td>\n",
       "      <td>129</td>\n",
       "      <td>AV</td>\n",
       "      <td>Varón de 75 años, diagnosticado de queratopatía lipoidea bilateral primaria, que refería pérdida...</td>\n",
       "      <td>altura de vuelo</td>\n",
       "      <td>both</td>\n",
       "    </tr>\n",
       "  </tbody>\n",
       "</table>\n",
       "</div>"
      ],
      "text/plain": [
       "                      nombre  StartOffset  EndOffset Abbreviation  \\\n",
       "0  S1130-14732005000200003-1         1683       1688        XOMED   \n",
       "1  S0365-66912011001100006-1          127        129           AV   \n",
       "\n",
       "                                                                                                 texto  \\\n",
       "0  Mujer de 29 años de edad, diagnosticada de cavernomas múltiples en 1996, año en que fue interven...   \n",
       "1  Varón de 75 años, diagnosticado de queratopatía lipoidea bilateral primaria, que refería pérdida...   \n",
       "\n",
       "        Definition     _merge  \n",
       "0              NaN  left_only  \n",
       "1  altura de vuelo       both  "
      ]
     },
     "execution_count": 90,
     "metadata": {},
     "output_type": "execute_result"
    }
   ],
   "source": [
    "test_def.head(2)"
   ]
  },
  {
   "cell_type": "code",
   "execution_count": 91,
   "id": "3044cb6f-d5a9-4691-9b75-c3cff88fe7bf",
   "metadata": {},
   "outputs": [],
   "source": [
    "test_def['Definition'] = test_def['Definition'].fillna('no_existe')"
   ]
  },
  {
   "cell_type": "code",
   "execution_count": 92,
   "id": "fa98edb1-37f2-4301-810c-3a93f34cfc3d",
   "metadata": {},
   "outputs": [],
   "source": [
    "test_def['Definition'] = test_def.apply(lambda x: defin_dictionary(x, dictionary), axis = 1)"
   ]
  },
  {
   "cell_type": "code",
   "execution_count": 93,
   "id": "c634a009-e1c3-4f09-961d-eb11616f5d10",
   "metadata": {},
   "outputs": [],
   "source": [
    "sf_notfind= test_def[test_def['Definition'].isna()]['Abbreviation'].unique().tolist()"
   ]
  },
  {
   "cell_type": "code",
   "execution_count": 94,
   "id": "7e95a2e1-b4a4-4878-bdf1-68f40542b504",
   "metadata": {
    "tags": []
   },
   "outputs": [
    {
     "data": {
      "text/plain": [
       "16"
      ]
     },
     "execution_count": 94,
     "metadata": {},
     "output_type": "execute_result"
    }
   ],
   "source": [
    "len(sf_notfind)"
   ]
  },
  {
   "cell_type": "code",
   "execution_count": 95,
   "id": "178a3022-ec18-42d0-99f5-fb9c845d1dcd",
   "metadata": {},
   "outputs": [],
   "source": [
    "test_def= test_def.dropna(subset = ['Definition'])"
   ]
  },
  {
   "cell_type": "code",
   "execution_count": 96,
   "id": "e878c609-5a13-4479-87c2-7556ced01b46",
   "metadata": {},
   "outputs": [
    {
     "name": "stdout",
     "output_type": "stream",
     "text": [
      "100\n"
     ]
    }
   ],
   "source": [
    "#En test real hay 600 y pico\n",
    "print(test_def.Abbreviation.nunique())"
   ]
  },
  {
   "cell_type": "code",
   "execution_count": 97,
   "id": "61a5ca20-1fba-42a1-b720-bc2dde35c37a",
   "metadata": {},
   "outputs": [
    {
     "data": {
      "text/html": [
       "<div>\n",
       "<style scoped>\n",
       "    .dataframe tbody tr th:only-of-type {\n",
       "        vertical-align: middle;\n",
       "    }\n",
       "\n",
       "    .dataframe tbody tr th {\n",
       "        vertical-align: top;\n",
       "    }\n",
       "\n",
       "    .dataframe thead th {\n",
       "        text-align: right;\n",
       "    }\n",
       "</style>\n",
       "<table border=\"1\" class=\"dataframe\">\n",
       "  <thead>\n",
       "    <tr style=\"text-align: right;\">\n",
       "      <th></th>\n",
       "      <th>nombre</th>\n",
       "      <th>StartOffset</th>\n",
       "      <th>EndOffset</th>\n",
       "      <th>Abbreviation</th>\n",
       "      <th>texto</th>\n",
       "      <th>Definition</th>\n",
       "      <th>_merge</th>\n",
       "    </tr>\n",
       "  </thead>\n",
       "  <tbody>\n",
       "    <tr>\n",
       "      <th>1</th>\n",
       "      <td>S0365-66912011001100006-1</td>\n",
       "      <td>127</td>\n",
       "      <td>129</td>\n",
       "      <td>AV</td>\n",
       "      <td>Varón de 75 años, diagnosticado de queratopatía lipoidea bilateral primaria, que refería pérdida...</td>\n",
       "      <td>altura de vuelo</td>\n",
       "      <td>both</td>\n",
       "    </tr>\n",
       "    <tr>\n",
       "      <th>2</th>\n",
       "      <td>S0365-66912011001100006-1</td>\n",
       "      <td>127</td>\n",
       "      <td>129</td>\n",
       "      <td>AV</td>\n",
       "      <td>Varón de 75 años, diagnosticado de queratopatía lipoidea bilateral primaria, que refería pérdida...</td>\n",
       "      <td>acceso vascular</td>\n",
       "      <td>both</td>\n",
       "    </tr>\n",
       "    <tr>\n",
       "      <th>3</th>\n",
       "      <td>S0365-66912011001100006-1</td>\n",
       "      <td>127</td>\n",
       "      <td>129</td>\n",
       "      <td>AV</td>\n",
       "      <td>Varón de 75 años, diagnosticado de queratopatía lipoidea bilateral primaria, que refería pérdida...</td>\n",
       "      <td>accesos vasculares</td>\n",
       "      <td>both</td>\n",
       "    </tr>\n",
       "    <tr>\n",
       "      <th>4</th>\n",
       "      <td>S0365-66912011001100006-1</td>\n",
       "      <td>127</td>\n",
       "      <td>129</td>\n",
       "      <td>AV</td>\n",
       "      <td>Varón de 75 años, diagnosticado de queratopatía lipoidea bilateral primaria, que refería pérdida...</td>\n",
       "      <td>agudeza visual</td>\n",
       "      <td>both</td>\n",
       "    </tr>\n",
       "    <tr>\n",
       "      <th>5</th>\n",
       "      <td>S0365-66912011001100006-1</td>\n",
       "      <td>127</td>\n",
       "      <td>129</td>\n",
       "      <td>AV</td>\n",
       "      <td>Varón de 75 años, diagnosticado de queratopatía lipoidea bilateral primaria, que refería pérdida...</td>\n",
       "      <td>acroqueratosis verruciforme de Hopf</td>\n",
       "      <td>both</td>\n",
       "    </tr>\n",
       "  </tbody>\n",
       "</table>\n",
       "</div>"
      ],
      "text/plain": [
       "                      nombre  StartOffset  EndOffset Abbreviation  \\\n",
       "1  S0365-66912011001100006-1          127        129           AV   \n",
       "2  S0365-66912011001100006-1          127        129           AV   \n",
       "3  S0365-66912011001100006-1          127        129           AV   \n",
       "4  S0365-66912011001100006-1          127        129           AV   \n",
       "5  S0365-66912011001100006-1          127        129           AV   \n",
       "\n",
       "                                                                                                 texto  \\\n",
       "1  Varón de 75 años, diagnosticado de queratopatía lipoidea bilateral primaria, que refería pérdida...   \n",
       "2  Varón de 75 años, diagnosticado de queratopatía lipoidea bilateral primaria, que refería pérdida...   \n",
       "3  Varón de 75 años, diagnosticado de queratopatía lipoidea bilateral primaria, que refería pérdida...   \n",
       "4  Varón de 75 años, diagnosticado de queratopatía lipoidea bilateral primaria, que refería pérdida...   \n",
       "5  Varón de 75 años, diagnosticado de queratopatía lipoidea bilateral primaria, que refería pérdida...   \n",
       "\n",
       "                            Definition _merge  \n",
       "1                      altura de vuelo   both  \n",
       "2                      acceso vascular   both  \n",
       "3                   accesos vasculares   both  \n",
       "4                       agudeza visual   both  \n",
       "5  acroqueratosis verruciforme de Hopf   both  "
      ]
     },
     "execution_count": 97,
     "metadata": {},
     "output_type": "execute_result"
    }
   ],
   "source": [
    "test_def.head()"
   ]
  },
  {
   "cell_type": "code",
   "execution_count": 98,
   "id": "fdbb016a-8028-45f7-90e1-4fc459632aad",
   "metadata": {},
   "outputs": [
    {
     "name": "stdout",
     "output_type": "stream",
     "text": [
      "(5616, 7)\n",
      "100\n"
     ]
    }
   ],
   "source": [
    "print(test_def.shape)\n",
    "print(test_def.Abbreviation.nunique())"
   ]
  },
  {
   "cell_type": "markdown",
   "id": "57930bb0-41dd-449c-accc-518d27c3034b",
   "metadata": {},
   "source": [
    "Get lemmatized long forms"
   ]
  },
  {
   "cell_type": "code",
   "execution_count": 99,
   "id": "f4acdda9-aae4-4d7f-a528-2cdbea3b63a2",
   "metadata": {},
   "outputs": [],
   "source": [
    "lemmatizer = WordNetLemmatizer()"
   ]
  },
  {
   "cell_type": "code",
   "execution_count": 100,
   "id": "c52bff08-964a-4a8f-8711-82ff5de44a93",
   "metadata": {},
   "outputs": [],
   "source": [
    "test_def['Definition_lemmatized'] = test_def['Definition'].map(lambda x: lemmatizer.lemmatize(x))"
   ]
  },
  {
   "cell_type": "code",
   "execution_count": 101,
   "id": "ef5efe74-21eb-4f05-b31c-77965cb34de5",
   "metadata": {},
   "outputs": [
    {
     "data": {
      "text/html": [
       "<div>\n",
       "<style scoped>\n",
       "    .dataframe tbody tr th:only-of-type {\n",
       "        vertical-align: middle;\n",
       "    }\n",
       "\n",
       "    .dataframe tbody tr th {\n",
       "        vertical-align: top;\n",
       "    }\n",
       "\n",
       "    .dataframe thead th {\n",
       "        text-align: right;\n",
       "    }\n",
       "</style>\n",
       "<table border=\"1\" class=\"dataframe\">\n",
       "  <thead>\n",
       "    <tr style=\"text-align: right;\">\n",
       "      <th></th>\n",
       "      <th>nombre</th>\n",
       "      <th>StartOffset</th>\n",
       "      <th>EndOffset</th>\n",
       "      <th>Abbreviation</th>\n",
       "      <th>texto</th>\n",
       "      <th>Definition</th>\n",
       "      <th>_merge</th>\n",
       "      <th>Definition_lemmatized</th>\n",
       "    </tr>\n",
       "  </thead>\n",
       "  <tbody>\n",
       "    <tr>\n",
       "      <th>1</th>\n",
       "      <td>S0365-66912011001100006-1</td>\n",
       "      <td>127</td>\n",
       "      <td>129</td>\n",
       "      <td>AV</td>\n",
       "      <td>Varón de 75 años, diagnosticado de queratopatía lipoidea bilateral primaria, que refería pérdida...</td>\n",
       "      <td>altura de vuelo</td>\n",
       "      <td>both</td>\n",
       "      <td>altura de vuelo</td>\n",
       "    </tr>\n",
       "    <tr>\n",
       "      <th>2</th>\n",
       "      <td>S0365-66912011001100006-1</td>\n",
       "      <td>127</td>\n",
       "      <td>129</td>\n",
       "      <td>AV</td>\n",
       "      <td>Varón de 75 años, diagnosticado de queratopatía lipoidea bilateral primaria, que refería pérdida...</td>\n",
       "      <td>acceso vascular</td>\n",
       "      <td>both</td>\n",
       "      <td>acceso vascular</td>\n",
       "    </tr>\n",
       "    <tr>\n",
       "      <th>3</th>\n",
       "      <td>S0365-66912011001100006-1</td>\n",
       "      <td>127</td>\n",
       "      <td>129</td>\n",
       "      <td>AV</td>\n",
       "      <td>Varón de 75 años, diagnosticado de queratopatía lipoidea bilateral primaria, que refería pérdida...</td>\n",
       "      <td>accesos vasculares</td>\n",
       "      <td>both</td>\n",
       "      <td>accesos vasculares</td>\n",
       "    </tr>\n",
       "    <tr>\n",
       "      <th>4</th>\n",
       "      <td>S0365-66912011001100006-1</td>\n",
       "      <td>127</td>\n",
       "      <td>129</td>\n",
       "      <td>AV</td>\n",
       "      <td>Varón de 75 años, diagnosticado de queratopatía lipoidea bilateral primaria, que refería pérdida...</td>\n",
       "      <td>agudeza visual</td>\n",
       "      <td>both</td>\n",
       "      <td>agudeza visual</td>\n",
       "    </tr>\n",
       "    <tr>\n",
       "      <th>5</th>\n",
       "      <td>S0365-66912011001100006-1</td>\n",
       "      <td>127</td>\n",
       "      <td>129</td>\n",
       "      <td>AV</td>\n",
       "      <td>Varón de 75 años, diagnosticado de queratopatía lipoidea bilateral primaria, que refería pérdida...</td>\n",
       "      <td>acroqueratosis verruciforme de Hopf</td>\n",
       "      <td>both</td>\n",
       "      <td>acroqueratosis verruciforme de Hopf</td>\n",
       "    </tr>\n",
       "  </tbody>\n",
       "</table>\n",
       "</div>"
      ],
      "text/plain": [
       "                      nombre  StartOffset  EndOffset Abbreviation  \\\n",
       "1  S0365-66912011001100006-1          127        129           AV   \n",
       "2  S0365-66912011001100006-1          127        129           AV   \n",
       "3  S0365-66912011001100006-1          127        129           AV   \n",
       "4  S0365-66912011001100006-1          127        129           AV   \n",
       "5  S0365-66912011001100006-1          127        129           AV   \n",
       "\n",
       "                                                                                                 texto  \\\n",
       "1  Varón de 75 años, diagnosticado de queratopatía lipoidea bilateral primaria, que refería pérdida...   \n",
       "2  Varón de 75 años, diagnosticado de queratopatía lipoidea bilateral primaria, que refería pérdida...   \n",
       "3  Varón de 75 años, diagnosticado de queratopatía lipoidea bilateral primaria, que refería pérdida...   \n",
       "4  Varón de 75 años, diagnosticado de queratopatía lipoidea bilateral primaria, que refería pérdida...   \n",
       "5  Varón de 75 años, diagnosticado de queratopatía lipoidea bilateral primaria, que refería pérdida...   \n",
       "\n",
       "                            Definition _merge  \\\n",
       "1                      altura de vuelo   both   \n",
       "2                      acceso vascular   both   \n",
       "3                   accesos vasculares   both   \n",
       "4                       agudeza visual   both   \n",
       "5  acroqueratosis verruciforme de Hopf   both   \n",
       "\n",
       "                 Definition_lemmatized  \n",
       "1                      altura de vuelo  \n",
       "2                      acceso vascular  \n",
       "3                   accesos vasculares  \n",
       "4                       agudeza visual  \n",
       "5  acroqueratosis verruciforme de Hopf  "
      ]
     },
     "execution_count": 101,
     "metadata": {},
     "output_type": "execute_result"
    }
   ],
   "source": [
    "test_def.head()"
   ]
  },
  {
   "cell_type": "code",
   "execution_count": 102,
   "id": "93dbb42f-0468-4b71-bedd-d08f6fce9e26",
   "metadata": {},
   "outputs": [],
   "source": [
    "del test_def['_merge']"
   ]
  },
  {
   "cell_type": "code",
   "execution_count": 104,
   "id": "6049c41c-fe1f-4003-8bdc-697819b4932e",
   "metadata": {},
   "outputs": [],
   "source": [
    "test_def.to_csv(\"../data/data_paper/test_subtrack2_soto_parte1.csv\", index = False)"
   ]
  }
 ],
 "metadata": {
  "kernelspec": {
   "display_name": "Python 3 (ipykernel)",
   "language": "python",
   "name": "python3"
  },
  "language_info": {
   "codemirror_mode": {
    "name": "ipython",
    "version": 3
   },
   "file_extension": ".py",
   "mimetype": "text/x-python",
   "name": "python",
   "nbconvert_exporter": "python",
   "pygments_lexer": "ipython3",
   "version": "3.8.12"
  }
 },
 "nbformat": 4,
 "nbformat_minor": 5
}
