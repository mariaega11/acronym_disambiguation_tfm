{
 "cells": [
  {
   "cell_type": "markdown",
   "metadata": {},
   "source": [
    "# Library"
   ]
  },
  {
   "cell_type": "code",
   "execution_count": 842,
   "metadata": {},
   "outputs": [],
   "source": [
    "import pandas as pd\n",
    "import numpy as np\n",
    "import os\n",
    "import re\n",
    "import collections\n",
    "import unidecode\n",
    "import nltk\n",
    "from nltk.corpus import stopwords\n",
    "import itertools \n",
    "from nltk.tokenize import word_tokenize\n",
    "from string import punctuation\n",
    "from functools import reduce"
   ]
  },
  {
   "cell_type": "code",
   "execution_count": 845,
   "metadata": {},
   "outputs": [],
   "source": [
    "pd.set_option('display.max_colwidth', 100)"
   ]
  },
  {
   "cell_type": "code",
   "execution_count": 846,
   "metadata": {},
   "outputs": [],
   "source": [
    "%matplotlib inline\n",
    "from matplotlib import pyplot as plt"
   ]
  },
  {
   "cell_type": "markdown",
   "metadata": {},
   "source": [
    "# Functions"
   ]
  },
  {
   "cell_type": "code",
   "execution_count": 848,
   "metadata": {},
   "outputs": [],
   "source": [
    "def read_texts(path):\n",
    "    data = []\n",
    "    file_name = os.listdir(path)\n",
    "\n",
    "    for name in file_name:\n",
    "        if name.endswith('.txt'):\n",
    "            with open(path + name,encoding=\"utf8\") as f:\n",
    "                text = f.read()\n",
    "                data.append({'nombre':name.replace('.txt',''), 'texto':text})\n",
    "\n",
    "    df = pd.DataFrame(data)\n",
    "    return df"
   ]
  },
  {
   "cell_type": "code",
   "execution_count": 849,
   "metadata": {},
   "outputs": [],
   "source": [
    "def clean_text(string):\n",
    "    \"\"\"\n",
    "    A method to clean text \n",
    "    \"\"\"\n",
    "    \n",
    "    # Removing the punctuations\n",
    "    for x in string.lower(): \n",
    "        if x in punctuation:\n",
    "            if x != '/':\n",
    "                string = string.replace(x, \"\")\n",
    "            else:\n",
    "                string = string.replace(x, \" \")\n",
    "    \n",
    "    string = unidecode.unidecode(string)\n",
    "\n",
    "#     # Converting the text to lower\n",
    "#     string = string.lower()\n",
    "\n",
    "    # Removing stop words\n",
    "    string = ' '.join([word for word in string.split() if word not in swords])\n",
    "\n",
    "    # Cleaning the whitespaces\n",
    "    string = re.sub(r'\\s+', ' ', string).strip()\n",
    "\n",
    "    return string "
   ]
  },
  {
   "cell_type": "code",
   "execution_count": 850,
   "metadata": {},
   "outputs": [
    {
     "name": "stderr",
     "output_type": "stream",
     "text": [
      "[nltk_data] Downloading package stopwords to\n",
      "[nltk_data]     /Users/egarcia/nltk_data...\n",
      "[nltk_data]   Package stopwords is already up-to-date!\n"
     ]
    }
   ],
   "source": [
    "nltk.download('stopwords')\n",
    "swords = list(set(stopwords.words('spanish')))"
   ]
  },
  {
   "cell_type": "code",
   "execution_count": 851,
   "metadata": {},
   "outputs": [],
   "source": [
    "def sep_num_text(data):\n",
    "\n",
    "    words = word_tokenize(data) \n",
    "    for w in words:\n",
    "        if re.search(r'\\d', w):\n",
    "            ind = words.index(w)\n",
    "            words[ind] = [''.join(g) for k, g in itertools.groupby(w, str.isalpha)]\n",
    "    data = ' '.join([x if type(x) is not list else ' '.join(x) for x in words])\n",
    "    \n",
    "    return data"
   ]
  },
  {
   "cell_type": "code",
   "execution_count": 852,
   "metadata": {},
   "outputs": [],
   "source": [
    "def get_f_b_context_text(data):\n",
    "    \n",
    "    '''Return context in a string format'''\n",
    "    \n",
    "    all_data = []\n",
    "    sf_not_found = []\n",
    "    \n",
    "    for instance in data:\n",
    "           \n",
    "        texto = instance['texto']    \n",
    "        target_word = instance['short_form'] \n",
    "        \n",
    "        if target_word in texto:\n",
    "\n",
    "            stop_ini_idx = instance['StartOffset'] #índice del inicio de la target\n",
    "            stop_fin_idx = instance['EndOffset'] #índice del inicio de la target\n",
    "\n",
    "            _instance = []\n",
    "            xf = texto[:stop_ini_idx] + ' <start> ' +texto[stop_ini_idx:stop_fin_idx] + ' <end> ' #palabras anteriores a la target\n",
    "            #xf = texto[:stop_ini_idx] +texto[stop_ini_idx:stop_fin_idx]\n",
    "            xb = texto[stop_fin_idx+1:]   #palabras posteriores a la target            \n",
    "\n",
    "            instance_id = instance['long_form'] #id del significado\n",
    "\n",
    "            _instance.append(target_word)\n",
    "            _instance.append(xf)\n",
    "            _instance.append(xb)\n",
    "            _instance.append(instance_id)\n",
    "\n",
    "            all_data.append(_instance[:])\n",
    "        else:\n",
    "            sf_not_found.append(target_word)\n",
    "#             print(\"El acrónimo {} no aparece en el texto {}\".format(target_word, instance['doc_id']))\n",
    "        \n",
    "    return all_data, sf_not_found"
   ]
  },
  {
   "cell_type": "code",
   "execution_count": 853,
   "metadata": {},
   "outputs": [],
   "source": [
    "def limit_context(data):\n",
    "\n",
    "    for doc in data:\n",
    "        \n",
    "        sf, xf, xb, lf = doc[0], doc[1], doc[2], doc[3]\n",
    "\n",
    "        xf_words = word_tokenize(xf)[-n_step_f-1:]\n",
    "        xb_words = word_tokenize(xb)[:n_step_b]\n",
    "\n",
    "        doc[1] = ' '.join(xf_words)\n",
    "        doc[2] = ' '.join(xb_words)   \n",
    "\n",
    "    return data        "
   ]
  },
  {
   "cell_type": "code",
   "execution_count": 854,
   "metadata": {},
   "outputs": [],
   "source": [
    "def create_dict(data):\n",
    "    \n",
    "    data_dic = []\n",
    "    \n",
    "    for instance in data:\n",
    "            \n",
    "        dic = {}\n",
    "\n",
    "        dic['short_form'] = instance[0]\n",
    "        dic['context'] = instance[1] + ' ' + instance[2]\n",
    "        dic['long_form'] = instance[3]\n",
    "    \n",
    "        data_dic.append(dic)\n",
    "        \n",
    "    return data_dic\n",
    "    "
   ]
  },
  {
   "cell_type": "code",
   "execution_count": 855,
   "metadata": {},
   "outputs": [],
   "source": [
    "def distance_levenshtein(str1, str2):\n",
    "    d=dict()\n",
    "    for i in range(len(str1)+1):\n",
    "        d[i]=dict()\n",
    "        d[i][0]=i\n",
    "    for i in range(len(str2)+1):\n",
    "        d[0][i] = i\n",
    "    for i in range(1, len(str1)+1):\n",
    "        for j in range(1, len(str2)+1):\n",
    "            d[i][j] = min(d[i][j-1]+1, d[i-1][j]+1, d[i-1][j-1]+(not str1[i-1] == str2[j-1]))\n",
    "    return d[len(str1)][len(str2)]"
   ]
  },
  {
   "cell_type": "code",
   "execution_count": 856,
   "metadata": {},
   "outputs": [],
   "source": [
    "def normalize_lf(row):\n",
    "    leven2 = []\n",
    "    for i in row:\n",
    "        for j in row:\n",
    "            if i != j:\n",
    "                ratio = distance_levenshtein(i,j)/len(i)\n",
    "                if ratio < 0.2:\n",
    "                    leven2.append(j)\n",
    "    if leven2:\n",
    "        leven2 = set(leven2)\n",
    "        lista = []\n",
    "        for i in leven2:\n",
    "            val = frec[frec['index'] == i]['long_form'].iloc[0]\n",
    "            lista.append((i, val))\n",
    "        lista = set(lista)\n",
    "        most_freq = sorted(set(lista), key=lambda x: x[1], reverse = True)[0][0]\n",
    "        sust = {}\n",
    "        for i in set(leven2):\n",
    "            sust[i] = most_freq\n",
    "        \n",
    "        return sust\n",
    "    else:\n",
    "        pass\n",
    "    "
   ]
  },
  {
   "cell_type": "code",
   "execution_count": 583,
   "metadata": {},
   "outputs": [],
   "source": [
    "def get_label(row):\n",
    "    if row['long_form_x'] == row['long_form_y']:\n",
    "        return 1\n",
    "    else:\n",
    "        return 0"
   ]
  },
  {
   "cell_type": "markdown",
   "metadata": {},
   "source": [
    "# Load Data"
   ]
  },
  {
   "cell_type": "markdown",
   "metadata": {},
   "source": [
    "### Testing\n",
    "\n",
    "220 clinical cases."
   ]
  },
  {
   "cell_type": "code",
   "execution_count": 857,
   "metadata": {},
   "outputs": [],
   "source": [
    "testing_abbr = pd.read_csv(\"../data/ibereval_data/testing_set/clinical_cases.abbreviations.testing_set.tsv\", sep = '\\t')\n",
    "testing_met = pd.read_csv(\"../data/ibereval_data/clinical_cases.metadata.testing_set.tsv\", sep = '\\t')\n",
    "testing_rel = pd.read_csv(\"../data/ibereval_data/testing_set/clinical_cases.relations.testing_set.tsv\", sep = '\\t')"
   ]
  },
  {
   "cell_type": "code",
   "execution_count": 858,
   "metadata": {},
   "outputs": [
    {
     "data": {
      "text/html": [
       "<div>\n",
       "<style scoped>\n",
       "    .dataframe tbody tr th:only-of-type {\n",
       "        vertical-align: middle;\n",
       "    }\n",
       "\n",
       "    .dataframe tbody tr th {\n",
       "        vertical-align: top;\n",
       "    }\n",
       "\n",
       "    .dataframe thead th {\n",
       "        text-align: right;\n",
       "    }\n",
       "</style>\n",
       "<table border=\"1\" class=\"dataframe\">\n",
       "  <thead>\n",
       "    <tr style=\"text-align: right;\">\n",
       "      <th></th>\n",
       "      <th># Document_ID</th>\n",
       "      <th>Case_ID</th>\n",
       "      <th>ISSN</th>\n",
       "      <th>Date</th>\n",
       "      <th>Source</th>\n",
       "      <th>Full_Text_Link</th>\n",
       "    </tr>\n",
       "  </thead>\n",
       "  <tbody>\n",
       "    <tr>\n",
       "      <th>0</th>\n",
       "      <td>S1130-01082006000700014-1.txt</td>\n",
       "      <td>1.txt</td>\n",
       "      <td>1130-0108</td>\n",
       "      <td>2006-07-01</td>\n",
       "      <td>Revista Española de Enfermedades Digestivas  v.98 n.7 2006</td>\n",
       "      <td>http://scielo.isciii.es/scielo.php?script=sci_arttext&amp;pid=S1130-01082006000700014</td>\n",
       "    </tr>\n",
       "    <tr>\n",
       "      <th>1</th>\n",
       "      <td>S1130-01082007000300006-7.txt</td>\n",
       "      <td>7.txt</td>\n",
       "      <td>1130-0108</td>\n",
       "      <td>2007-03-01</td>\n",
       "      <td>Revista Española de Enfermedades Digestivas  v.99 n.3 2007</td>\n",
       "      <td>http://scielo.isciii.es/scielo.php?script=sci_arttext&amp;pid=S1130-01082007000300006</td>\n",
       "    </tr>\n",
       "    <tr>\n",
       "      <th>2</th>\n",
       "      <td>S1134-80462009000100005-1.txt</td>\n",
       "      <td>1.txt</td>\n",
       "      <td>1134-8046</td>\n",
       "      <td>2009-02-01</td>\n",
       "      <td>Revista de la Sociedad Española del Dolor  v.16 n.1 2009</td>\n",
       "      <td>http://scielo.isciii.es/scielo.php?script=sci_arttext&amp;pid=S1134-80462009000100005</td>\n",
       "    </tr>\n",
       "    <tr>\n",
       "      <th>3</th>\n",
       "      <td>S1137-66272014000300015-1.txt</td>\n",
       "      <td>1.txt</td>\n",
       "      <td>1137-6627</td>\n",
       "      <td>2014-12-01</td>\n",
       "      <td>Anales del Sistema Sanitario de Navarra  v.37 n.3 2014</td>\n",
       "      <td>http://scielo.isciii.es/scielo.php?script=sci_arttext&amp;pid=S1137-66272014000300015</td>\n",
       "    </tr>\n",
       "    <tr>\n",
       "      <th>4</th>\n",
       "      <td>S0365-66912004001200011-1.txt</td>\n",
       "      <td>1.txt</td>\n",
       "      <td>0365-6691</td>\n",
       "      <td>2004-12-01</td>\n",
       "      <td>Archivos de la Sociedad Española de Oftalmología  v.79 n.12 2004</td>\n",
       "      <td>http://scielo.isciii.es/scielo.php?script=sci_arttext&amp;pid=S0365-66912004001200011</td>\n",
       "    </tr>\n",
       "  </tbody>\n",
       "</table>\n",
       "</div>"
      ],
      "text/plain": [
       "                   # Document_ID Case_ID       ISSN        Date  \\\n",
       "0  S1130-01082006000700014-1.txt   1.txt  1130-0108  2006-07-01   \n",
       "1  S1130-01082007000300006-7.txt   7.txt  1130-0108  2007-03-01   \n",
       "2  S1134-80462009000100005-1.txt   1.txt  1134-8046  2009-02-01   \n",
       "3  S1137-66272014000300015-1.txt   1.txt  1137-6627  2014-12-01   \n",
       "4  S0365-66912004001200011-1.txt   1.txt  0365-6691  2004-12-01   \n",
       "\n",
       "                                                             Source  \\\n",
       "0        Revista Española de Enfermedades Digestivas  v.98 n.7 2006   \n",
       "1        Revista Española de Enfermedades Digestivas  v.99 n.3 2007   \n",
       "2          Revista de la Sociedad Española del Dolor  v.16 n.1 2009   \n",
       "3            Anales del Sistema Sanitario de Navarra  v.37 n.3 2014   \n",
       "4  Archivos de la Sociedad Española de Oftalmología  v.79 n.12 2004   \n",
       "\n",
       "                                                                      Full_Text_Link  \n",
       "0  http://scielo.isciii.es/scielo.php?script=sci_arttext&pid=S1130-01082006000700014  \n",
       "1  http://scielo.isciii.es/scielo.php?script=sci_arttext&pid=S1130-01082007000300006  \n",
       "2  http://scielo.isciii.es/scielo.php?script=sci_arttext&pid=S1134-80462009000100005  \n",
       "3  http://scielo.isciii.es/scielo.php?script=sci_arttext&pid=S1137-66272014000300015  \n",
       "4  http://scielo.isciii.es/scielo.php?script=sci_arttext&pid=S0365-66912004001200011  "
      ]
     },
     "execution_count": 858,
     "metadata": {},
     "output_type": "execute_result"
    }
   ],
   "source": [
    "testing_met.head()"
   ]
  },
  {
   "cell_type": "code",
   "execution_count": 859,
   "metadata": {},
   "outputs": [],
   "source": [
    "testing_rel = testing_rel.reset_index()"
   ]
  },
  {
   "cell_type": "code",
   "execution_count": 860,
   "metadata": {},
   "outputs": [],
   "source": [
    "testing_rel.columns = ['# Document_ID', 'Mention_A_type', 'Mention_A_StartOffset',\n",
    "      'Mention_A', 'Relation_type', 'Mention_B_type',\n",
    "       'Mention_B_StartOffset', 'Mention_B_EndOffset', 'Mention_B']"
   ]
  },
  {
   "cell_type": "code",
   "execution_count": 861,
   "metadata": {},
   "outputs": [],
   "source": [
    "testing_rel = testing_rel.rename(columns = {'# Document_ID': 'doc_id'})"
   ]
  },
  {
   "cell_type": "code",
   "execution_count": 862,
   "metadata": {},
   "outputs": [
    {
     "data": {
      "text/html": [
       "<div>\n",
       "<style scoped>\n",
       "    .dataframe tbody tr th:only-of-type {\n",
       "        vertical-align: middle;\n",
       "    }\n",
       "\n",
       "    .dataframe tbody tr th {\n",
       "        vertical-align: top;\n",
       "    }\n",
       "\n",
       "    .dataframe thead th {\n",
       "        text-align: right;\n",
       "    }\n",
       "</style>\n",
       "<table border=\"1\" class=\"dataframe\">\n",
       "  <thead>\n",
       "    <tr style=\"text-align: right;\">\n",
       "      <th></th>\n",
       "      <th>doc_id</th>\n",
       "      <th>Mention_A_type</th>\n",
       "      <th>Mention_A_StartOffset</th>\n",
       "      <th>Mention_A</th>\n",
       "      <th>Relation_type</th>\n",
       "      <th>Mention_B_type</th>\n",
       "      <th>Mention_B_StartOffset</th>\n",
       "      <th>Mention_B_EndOffset</th>\n",
       "      <th>Mention_B</th>\n",
       "    </tr>\n",
       "  </thead>\n",
       "  <tbody>\n",
       "    <tr>\n",
       "      <th>0</th>\n",
       "      <td>S0211-69952013000500019-1</td>\n",
       "      <td>SHORT_FORM</td>\n",
       "      <td>3739</td>\n",
       "      <td>ARA II</td>\n",
       "      <td>SHORT-LONG</td>\n",
       "      <td>LONG_FORM</td>\n",
       "      <td>3695</td>\n",
       "      <td>3737</td>\n",
       "      <td>antagonista del receptor de angiotesina II</td>\n",
       "    </tr>\n",
       "    <tr>\n",
       "      <th>1</th>\n",
       "      <td>S0211-69952013000500019-1</td>\n",
       "      <td>SHORT_FORM</td>\n",
       "      <td>2793</td>\n",
       "      <td>PCR</td>\n",
       "      <td>SHORT-LONG</td>\n",
       "      <td>LONG_FORM</td>\n",
       "      <td>2798</td>\n",
       "      <td>2837</td>\n",
       "      <td>reacción en cadena de enzima polimerasa</td>\n",
       "    </tr>\n",
       "    <tr>\n",
       "      <th>2</th>\n",
       "      <td>S0365-66912004000600008-1</td>\n",
       "      <td>SHORT_FORM</td>\n",
       "      <td>406</td>\n",
       "      <td>AV</td>\n",
       "      <td>SHORT-LONG</td>\n",
       "      <td>LONG_FORM</td>\n",
       "      <td>390</td>\n",
       "      <td>404</td>\n",
       "      <td>agudeza visual</td>\n",
       "    </tr>\n",
       "    <tr>\n",
       "      <th>3</th>\n",
       "      <td>S0211-69952012000500025-1</td>\n",
       "      <td>SHORT_FORM</td>\n",
       "      <td>945</td>\n",
       "      <td>angio-TAC</td>\n",
       "      <td>SHORT-LONG</td>\n",
       "      <td>LONG_FORM</td>\n",
       "      <td>908</td>\n",
       "      <td>943</td>\n",
       "      <td>angiotomografía computarizada axial</td>\n",
       "    </tr>\n",
       "    <tr>\n",
       "      <th>4</th>\n",
       "      <td>S1130-05582017000200122-1</td>\n",
       "      <td>SHORT_FORM</td>\n",
       "      <td>940</td>\n",
       "      <td>RMN</td>\n",
       "      <td>SHORT-LONG</td>\n",
       "      <td>LONG_FORM</td>\n",
       "      <td>910</td>\n",
       "      <td>938</td>\n",
       "      <td>resonancia magnética nuclear</td>\n",
       "    </tr>\n",
       "  </tbody>\n",
       "</table>\n",
       "</div>"
      ],
      "text/plain": [
       "                      doc_id Mention_A_type  Mention_A_StartOffset  Mention_A  \\\n",
       "0  S0211-69952013000500019-1     SHORT_FORM                   3739     ARA II   \n",
       "1  S0211-69952013000500019-1     SHORT_FORM                   2793        PCR   \n",
       "2  S0365-66912004000600008-1     SHORT_FORM                    406         AV   \n",
       "3  S0211-69952012000500025-1     SHORT_FORM                    945  angio-TAC   \n",
       "4  S1130-05582017000200122-1     SHORT_FORM                    940        RMN   \n",
       "\n",
       "  Relation_type Mention_B_type  Mention_B_StartOffset  Mention_B_EndOffset  \\\n",
       "0    SHORT-LONG      LONG_FORM                   3695                 3737   \n",
       "1    SHORT-LONG      LONG_FORM                   2798                 2837   \n",
       "2    SHORT-LONG      LONG_FORM                    390                  404   \n",
       "3    SHORT-LONG      LONG_FORM                    908                  943   \n",
       "4    SHORT-LONG      LONG_FORM                    910                  938   \n",
       "\n",
       "                                    Mention_B  \n",
       "0  antagonista del receptor de angiotesina II  \n",
       "1     reacción en cadena de enzima polimerasa  \n",
       "2                              agudeza visual  \n",
       "3         angiotomografía computarizada axial  \n",
       "4                resonancia magnética nuclear  "
      ]
     },
     "execution_count": 862,
     "metadata": {},
     "output_type": "execute_result"
    }
   ],
   "source": [
    "testing_rel.head()"
   ]
  },
  {
   "cell_type": "code",
   "execution_count": 863,
   "metadata": {},
   "outputs": [
    {
     "data": {
      "text/plain": [
       "array(['SHORT-LONG', 'SHORT-NESTED', 'NESTED-LONG'], dtype=object)"
      ]
     },
     "execution_count": 863,
     "metadata": {},
     "output_type": "execute_result"
    }
   ],
   "source": [
    "testing_rel.Relation_type.unique()"
   ]
  },
  {
   "cell_type": "code",
   "execution_count": 864,
   "metadata": {},
   "outputs": [],
   "source": [
    "testing_abbr = testing_abbr.rename(columns = {'# Document_ID': 'doc_id'})"
   ]
  },
  {
   "cell_type": "code",
   "execution_count": 865,
   "metadata": {},
   "outputs": [
    {
     "data": {
      "text/html": [
       "<div>\n",
       "<style scoped>\n",
       "    .dataframe tbody tr th:only-of-type {\n",
       "        vertical-align: middle;\n",
       "    }\n",
       "\n",
       "    .dataframe tbody tr th {\n",
       "        vertical-align: top;\n",
       "    }\n",
       "\n",
       "    .dataframe thead th {\n",
       "        text-align: right;\n",
       "    }\n",
       "</style>\n",
       "<table border=\"1\" class=\"dataframe\">\n",
       "  <thead>\n",
       "    <tr style=\"text-align: right;\">\n",
       "      <th></th>\n",
       "      <th>doc_id</th>\n",
       "      <th>StartOffset</th>\n",
       "      <th>EndOffset</th>\n",
       "      <th>Abbreviation</th>\n",
       "      <th>Definition</th>\n",
       "      <th>Definition_lemmatized</th>\n",
       "    </tr>\n",
       "  </thead>\n",
       "  <tbody>\n",
       "    <tr>\n",
       "      <th>0</th>\n",
       "      <td>S0004-06142010000500014-1</td>\n",
       "      <td>2037</td>\n",
       "      <td>2044</td>\n",
       "      <td>16SrRNA</td>\n",
       "      <td>16s ribosomal rna</td>\n",
       "      <td>16s ribosomal rno</td>\n",
       "    </tr>\n",
       "    <tr>\n",
       "      <th>1</th>\n",
       "      <td>S0004-06142010000500014-1</td>\n",
       "      <td>1349</td>\n",
       "      <td>1351</td>\n",
       "      <td>M.</td>\n",
       "      <td>mycobacterium</td>\n",
       "      <td>mycobacterium</td>\n",
       "    </tr>\n",
       "    <tr>\n",
       "      <th>2</th>\n",
       "      <td>S0004-06142010000500014-1</td>\n",
       "      <td>1339</td>\n",
       "      <td>1342</td>\n",
       "      <td>PCR</td>\n",
       "      <td>polymerase chain reaction</td>\n",
       "      <td>polymerase chain reaction</td>\n",
       "    </tr>\n",
       "    <tr>\n",
       "      <th>3</th>\n",
       "      <td>S0004-06142010000500014-1</td>\n",
       "      <td>611</td>\n",
       "      <td>615</td>\n",
       "      <td>BHCG</td>\n",
       "      <td>beta-human chorionic gonadotropin</td>\n",
       "      <td>beta-humar chorionic gonadotropin</td>\n",
       "    </tr>\n",
       "    <tr>\n",
       "      <th>4</th>\n",
       "      <td>S0004-06142010000500014-1</td>\n",
       "      <td>594</td>\n",
       "      <td>597</td>\n",
       "      <td>CEA</td>\n",
       "      <td>carcinoembrionary antigen</td>\n",
       "      <td>carcinoembrionary antiger</td>\n",
       "    </tr>\n",
       "  </tbody>\n",
       "</table>\n",
       "</div>"
      ],
      "text/plain": [
       "                      doc_id  StartOffset  EndOffset Abbreviation  \\\n",
       "0  S0004-06142010000500014-1         2037       2044      16SrRNA   \n",
       "1  S0004-06142010000500014-1         1349       1351           M.   \n",
       "2  S0004-06142010000500014-1         1339       1342          PCR   \n",
       "3  S0004-06142010000500014-1          611        615         BHCG   \n",
       "4  S0004-06142010000500014-1          594        597          CEA   \n",
       "\n",
       "                          Definition              Definition_lemmatized  \n",
       "0                  16s ribosomal rna                  16s ribosomal rno  \n",
       "1                      mycobacterium                      mycobacterium  \n",
       "2          polymerase chain reaction          polymerase chain reaction  \n",
       "3  beta-human chorionic gonadotropin  beta-humar chorionic gonadotropin  \n",
       "4          carcinoembrionary antigen          carcinoembrionary antiger  "
      ]
     },
     "execution_count": 865,
     "metadata": {},
     "output_type": "execute_result"
    }
   ],
   "source": [
    "testing_abbr.head()"
   ]
  },
  {
   "cell_type": "code",
   "execution_count": 866,
   "metadata": {},
   "outputs": [],
   "source": [
    "testing_raw = read_texts(\"../datasets/testing_set/testing_set.raw_text/\")"
   ]
  },
  {
   "cell_type": "code",
   "execution_count": 867,
   "metadata": {},
   "outputs": [
    {
     "data": {
      "text/html": [
       "<div>\n",
       "<style scoped>\n",
       "    .dataframe tbody tr th:only-of-type {\n",
       "        vertical-align: middle;\n",
       "    }\n",
       "\n",
       "    .dataframe tbody tr th {\n",
       "        vertical-align: top;\n",
       "    }\n",
       "\n",
       "    .dataframe thead th {\n",
       "        text-align: right;\n",
       "    }\n",
       "</style>\n",
       "<table border=\"1\" class=\"dataframe\">\n",
       "  <thead>\n",
       "    <tr style=\"text-align: right;\">\n",
       "      <th></th>\n",
       "      <th>nombre</th>\n",
       "      <th>texto</th>\n",
       "    </tr>\n",
       "  </thead>\n",
       "  <tbody>\n",
       "    <tr>\n",
       "      <th>0</th>\n",
       "      <td>S1130-01082008001000010-1</td>\n",
       "      <td>Varón de 43 años originario de Marruecos, que ingresó en nuestro servicio por cuadro de 4 días d...</td>\n",
       "    </tr>\n",
       "    <tr>\n",
       "      <th>1</th>\n",
       "      <td>S0004-06142009000400011-1</td>\n",
       "      <td>Varón de 75 años con antecedentes de EPOC moderado sin otros antecedentes médicos de interés. En...</td>\n",
       "    </tr>\n",
       "    <tr>\n",
       "      <th>2</th>\n",
       "      <td>S0376-78922011000200004-1</td>\n",
       "      <td>Mujer de 44 años de edad con antecedentes médicos de insuficiencia renal crónica en tratamiento ...</td>\n",
       "    </tr>\n",
       "    <tr>\n",
       "      <th>3</th>\n",
       "      <td>S1137-66272014000300016-1</td>\n",
       "      <td>Mujer de 36 años sin antecedentes médicos o epidemiológicos de interés que es ingresada en la Un...</td>\n",
       "    </tr>\n",
       "    <tr>\n",
       "      <th>4</th>\n",
       "      <td>S1130-01082008000800019-1</td>\n",
       "      <td>Recientemente, atendimos en nuestro hospital a un varón de 46 años, con antecedente de síndrome ...</td>\n",
       "    </tr>\n",
       "  </tbody>\n",
       "</table>\n",
       "</div>"
      ],
      "text/plain": [
       "                      nombre  \\\n",
       "0  S1130-01082008001000010-1   \n",
       "1  S0004-06142009000400011-1   \n",
       "2  S0376-78922011000200004-1   \n",
       "3  S1137-66272014000300016-1   \n",
       "4  S1130-01082008000800019-1   \n",
       "\n",
       "                                                                                                 texto  \n",
       "0  Varón de 43 años originario de Marruecos, que ingresó en nuestro servicio por cuadro de 4 días d...  \n",
       "1  Varón de 75 años con antecedentes de EPOC moderado sin otros antecedentes médicos de interés. En...  \n",
       "2  Mujer de 44 años de edad con antecedentes médicos de insuficiencia renal crónica en tratamiento ...  \n",
       "3  Mujer de 36 años sin antecedentes médicos o epidemiológicos de interés que es ingresada en la Un...  \n",
       "4  Recientemente, atendimos en nuestro hospital a un varón de 46 años, con antecedente de síndrome ...  "
      ]
     },
     "execution_count": 867,
     "metadata": {},
     "output_type": "execute_result"
    }
   ],
   "source": [
    "testing_raw.head()"
   ]
  },
  {
   "cell_type": "markdown",
   "metadata": {},
   "source": [
    "### Trainning\n",
    "\n",
    "318 clinical cases"
   ]
  },
  {
   "cell_type": "code",
   "execution_count": 888,
   "metadata": {},
   "outputs": [],
   "source": [
    "train_abbr = pd.read_csv(\"../data/ibereval_data/trainning_set/clinical_cases.abbreviations.training_set.tsv\", sep = '\\t')"
   ]
  },
  {
   "cell_type": "code",
   "execution_count": 889,
   "metadata": {},
   "outputs": [],
   "source": [
    "train_met = pd.read_csv(\"../data/ibereval_data/trainning_set/clinical_cases.metadata.training_set.tsv\", sep = '\\t')\n",
    "train_rel = pd.read_csv(\"../data/ibereval_data/trainning_set/clinical_cases.relations.training_set.tsv\", sep = '\\t')"
   ]
  },
  {
   "cell_type": "code",
   "execution_count": 890,
   "metadata": {},
   "outputs": [],
   "source": [
    "train_met = train_met.rename(columns = {'# Document_ID': 'doc_id'})"
   ]
  },
  {
   "cell_type": "code",
   "execution_count": 891,
   "metadata": {},
   "outputs": [
    {
     "data": {
      "text/html": [
       "<div>\n",
       "<style scoped>\n",
       "    .dataframe tbody tr th:only-of-type {\n",
       "        vertical-align: middle;\n",
       "    }\n",
       "\n",
       "    .dataframe tbody tr th {\n",
       "        vertical-align: top;\n",
       "    }\n",
       "\n",
       "    .dataframe thead th {\n",
       "        text-align: right;\n",
       "    }\n",
       "</style>\n",
       "<table border=\"1\" class=\"dataframe\">\n",
       "  <thead>\n",
       "    <tr style=\"text-align: right;\">\n",
       "      <th></th>\n",
       "      <th>doc_id</th>\n",
       "      <th>Case_ID</th>\n",
       "      <th>ISSN</th>\n",
       "      <th>Date</th>\n",
       "      <th>Source</th>\n",
       "      <th>Full_Text_Link</th>\n",
       "    </tr>\n",
       "  </thead>\n",
       "  <tbody>\n",
       "    <tr>\n",
       "      <th>0</th>\n",
       "      <td>S1139-76322015000500009-1.txt</td>\n",
       "      <td>1.txt</td>\n",
       "      <td>1139-7632</td>\n",
       "      <td>2015-12-01</td>\n",
       "      <td>Pediatría Atención Primaria  v.17 n.68 2015</td>\n",
       "      <td>http://scielo.isciii.es/scielo.php?script=sci_arttext&amp;pid=S1139-76322015000500009</td>\n",
       "    </tr>\n",
       "    <tr>\n",
       "      <th>1</th>\n",
       "      <td>S1130-05582008000400007-2.txt</td>\n",
       "      <td>2.txt</td>\n",
       "      <td>1130-0558</td>\n",
       "      <td>2008-08-01</td>\n",
       "      <td>Revista Española de Cirugía Oral y Maxilofacial  v.30 n.4 2008</td>\n",
       "      <td>http://scielo.isciii.es/scielo.php?script=sci_arttext&amp;pid=S1130-05582008000400007</td>\n",
       "    </tr>\n",
       "    <tr>\n",
       "      <th>2</th>\n",
       "      <td>S0210-48062006000100012-1.txt</td>\n",
       "      <td>1.txt</td>\n",
       "      <td>0210-4806</td>\n",
       "      <td>2006-01-01</td>\n",
       "      <td>Actas Urológicas Españolas  v.30 n.1 2006</td>\n",
       "      <td>http://scielo.isciii.es/scielo.php?script=sci_arttext&amp;pid=S0210-48062006000100012</td>\n",
       "    </tr>\n",
       "    <tr>\n",
       "      <th>3</th>\n",
       "      <td>S0213-12852003000500002-1.txt</td>\n",
       "      <td>1.txt</td>\n",
       "      <td>0213-1285</td>\n",
       "      <td>2003-10-01</td>\n",
       "      <td>Avances en Odontoestomatología  v.19 n.5 2003</td>\n",
       "      <td>http://scielo.isciii.es/scielo.php?script=sci_arttext&amp;pid=S0213-12852003000500002</td>\n",
       "    </tr>\n",
       "    <tr>\n",
       "      <th>4</th>\n",
       "      <td>S0212-71992005000400007-1.txt</td>\n",
       "      <td>1.txt</td>\n",
       "      <td>0212-7199</td>\n",
       "      <td>2005-04-01</td>\n",
       "      <td>Anales de Medicina Interna  v.22 n.4 2005</td>\n",
       "      <td>http://scielo.isciii.es/scielo.php?script=sci_arttext&amp;pid=S0212-71992005000400007</td>\n",
       "    </tr>\n",
       "  </tbody>\n",
       "</table>\n",
       "</div>"
      ],
      "text/plain": [
       "                          doc_id Case_ID       ISSN        Date  \\\n",
       "0  S1139-76322015000500009-1.txt   1.txt  1139-7632  2015-12-01   \n",
       "1  S1130-05582008000400007-2.txt   2.txt  1130-0558  2008-08-01   \n",
       "2  S0210-48062006000100012-1.txt   1.txt  0210-4806  2006-01-01   \n",
       "3  S0213-12852003000500002-1.txt   1.txt  0213-1285  2003-10-01   \n",
       "4  S0212-71992005000400007-1.txt   1.txt  0212-7199  2005-04-01   \n",
       "\n",
       "                                                           Source  \\\n",
       "0                     Pediatría Atención Primaria  v.17 n.68 2015   \n",
       "1  Revista Española de Cirugía Oral y Maxilofacial  v.30 n.4 2008   \n",
       "2                       Actas Urológicas Españolas  v.30 n.1 2006   \n",
       "3                   Avances en Odontoestomatología  v.19 n.5 2003   \n",
       "4                       Anales de Medicina Interna  v.22 n.4 2005   \n",
       "\n",
       "                                                                      Full_Text_Link  \n",
       "0  http://scielo.isciii.es/scielo.php?script=sci_arttext&pid=S1139-76322015000500009  \n",
       "1  http://scielo.isciii.es/scielo.php?script=sci_arttext&pid=S1130-05582008000400007  \n",
       "2  http://scielo.isciii.es/scielo.php?script=sci_arttext&pid=S0210-48062006000100012  \n",
       "3  http://scielo.isciii.es/scielo.php?script=sci_arttext&pid=S0213-12852003000500002  \n",
       "4  http://scielo.isciii.es/scielo.php?script=sci_arttext&pid=S0212-71992005000400007  "
      ]
     },
     "execution_count": 891,
     "metadata": {},
     "output_type": "execute_result"
    }
   ],
   "source": [
    "train_met.head()"
   ]
  },
  {
   "cell_type": "code",
   "execution_count": 892,
   "metadata": {},
   "outputs": [],
   "source": [
    "train_rel = train_rel.reset_index()"
   ]
  },
  {
   "cell_type": "code",
   "execution_count": 893,
   "metadata": {},
   "outputs": [],
   "source": [
    "train_rel.columns = ['# Document_ID', 'Mention_A_type', 'Mention_A_StartOffset',\n",
    "      'Mention_A', 'Relation_type', 'Mention_B_type',\n",
    "       'Mention_B_StartOffset', 'Mention_B_EndOffset', 'Mention_B']"
   ]
  },
  {
   "cell_type": "code",
   "execution_count": 894,
   "metadata": {},
   "outputs": [],
   "source": [
    "train_rel = train_rel.rename(columns = {'# Document_ID': 'doc_id'})"
   ]
  },
  {
   "cell_type": "code",
   "execution_count": 895,
   "metadata": {},
   "outputs": [
    {
     "data": {
      "text/html": [
       "<div>\n",
       "<style scoped>\n",
       "    .dataframe tbody tr th:only-of-type {\n",
       "        vertical-align: middle;\n",
       "    }\n",
       "\n",
       "    .dataframe tbody tr th {\n",
       "        vertical-align: top;\n",
       "    }\n",
       "\n",
       "    .dataframe thead th {\n",
       "        text-align: right;\n",
       "    }\n",
       "</style>\n",
       "<table border=\"1\" class=\"dataframe\">\n",
       "  <thead>\n",
       "    <tr style=\"text-align: right;\">\n",
       "      <th></th>\n",
       "      <th>doc_id</th>\n",
       "      <th>Mention_A_type</th>\n",
       "      <th>Mention_A_StartOffset</th>\n",
       "      <th>Mention_A</th>\n",
       "      <th>Relation_type</th>\n",
       "      <th>Mention_B_type</th>\n",
       "      <th>Mention_B_StartOffset</th>\n",
       "      <th>Mention_B_EndOffset</th>\n",
       "      <th>Mention_B</th>\n",
       "    </tr>\n",
       "  </thead>\n",
       "  <tbody>\n",
       "    <tr>\n",
       "      <th>0</th>\n",
       "      <td>S1130-01082009000400014-1</td>\n",
       "      <td>SHORT_FORM</td>\n",
       "      <td>476</td>\n",
       "      <td>NPT</td>\n",
       "      <td>SHORT-LONG</td>\n",
       "      <td>LONG_FORM</td>\n",
       "      <td>454.0</td>\n",
       "      <td>474.0</td>\n",
       "      <td>nutrición parenteral</td>\n",
       "    </tr>\n",
       "    <tr>\n",
       "      <th>1</th>\n",
       "      <td>S1130-63432016000100009-1</td>\n",
       "      <td>SHORT_FORM</td>\n",
       "      <td>614</td>\n",
       "      <td>NIHSS</td>\n",
       "      <td>SHORT-LONG</td>\n",
       "      <td>LONG_FORM</td>\n",
       "      <td>621.0</td>\n",
       "      <td>662.0</td>\n",
       "      <td>National Institute of Health Stroke Scale</td>\n",
       "    </tr>\n",
       "    <tr>\n",
       "      <th>2</th>\n",
       "      <td>S1139-76322017000200007-1</td>\n",
       "      <td>SHORT_FORM</td>\n",
       "      <td>1145</td>\n",
       "      <td>CMV</td>\n",
       "      <td>SHORT-LONG</td>\n",
       "      <td>LONG_FORM</td>\n",
       "      <td>1128.0</td>\n",
       "      <td>1143.0</td>\n",
       "      <td>citomegalovirus</td>\n",
       "    </tr>\n",
       "    <tr>\n",
       "      <th>3</th>\n",
       "      <td>S1139-76322017000200007-1</td>\n",
       "      <td>SHORT_FORM</td>\n",
       "      <td>1243</td>\n",
       "      <td>VSG</td>\n",
       "      <td>SHORT-LONG</td>\n",
       "      <td>LONG_FORM</td>\n",
       "      <td>1206.0</td>\n",
       "      <td>1241.0</td>\n",
       "      <td>velocidad de sedimentación globular</td>\n",
       "    </tr>\n",
       "    <tr>\n",
       "      <th>4</th>\n",
       "      <td>S1139-76322017000200007-1</td>\n",
       "      <td>SHORT_FORM</td>\n",
       "      <td>1300</td>\n",
       "      <td>IGRA</td>\n",
       "      <td>SHORT-LONG</td>\n",
       "      <td>LONG_FORM</td>\n",
       "      <td>1267.0</td>\n",
       "      <td>1298.0</td>\n",
       "      <td>interferon-gamma release assays</td>\n",
       "    </tr>\n",
       "  </tbody>\n",
       "</table>\n",
       "</div>"
      ],
      "text/plain": [
       "                      doc_id Mention_A_type Mention_A_StartOffset Mention_A  \\\n",
       "0  S1130-01082009000400014-1     SHORT_FORM                   476       NPT   \n",
       "1  S1130-63432016000100009-1     SHORT_FORM                   614     NIHSS   \n",
       "2  S1139-76322017000200007-1     SHORT_FORM                  1145       CMV   \n",
       "3  S1139-76322017000200007-1     SHORT_FORM                  1243       VSG   \n",
       "4  S1139-76322017000200007-1     SHORT_FORM                  1300      IGRA   \n",
       "\n",
       "  Relation_type Mention_B_type  Mention_B_StartOffset  Mention_B_EndOffset  \\\n",
       "0    SHORT-LONG      LONG_FORM                  454.0                474.0   \n",
       "1    SHORT-LONG      LONG_FORM                  621.0                662.0   \n",
       "2    SHORT-LONG      LONG_FORM                 1128.0               1143.0   \n",
       "3    SHORT-LONG      LONG_FORM                 1206.0               1241.0   \n",
       "4    SHORT-LONG      LONG_FORM                 1267.0               1298.0   \n",
       "\n",
       "                                   Mention_B  \n",
       "0                       nutrición parenteral  \n",
       "1  National Institute of Health Stroke Scale  \n",
       "2                            citomegalovirus  \n",
       "3        velocidad de sedimentación globular  \n",
       "4            interferon-gamma release assays  "
      ]
     },
     "execution_count": 895,
     "metadata": {},
     "output_type": "execute_result"
    }
   ],
   "source": [
    "train_rel.head()"
   ]
  },
  {
   "cell_type": "code",
   "execution_count": 896,
   "metadata": {},
   "outputs": [],
   "source": [
    "train_abbr = train_abbr.rename(columns = {'# Document_ID': 'doc_id'})"
   ]
  },
  {
   "cell_type": "code",
   "execution_count": 897,
   "metadata": {},
   "outputs": [
    {
     "data": {
      "text/plain": [
       "908"
      ]
     },
     "execution_count": 897,
     "metadata": {},
     "output_type": "execute_result"
    }
   ],
   "source": [
    "train_abbr.Definition.nunique()"
   ]
  },
  {
   "cell_type": "code",
   "execution_count": 898,
   "metadata": {},
   "outputs": [
    {
     "data": {
      "text/html": [
       "<div>\n",
       "<style scoped>\n",
       "    .dataframe tbody tr th:only-of-type {\n",
       "        vertical-align: middle;\n",
       "    }\n",
       "\n",
       "    .dataframe tbody tr th {\n",
       "        vertical-align: top;\n",
       "    }\n",
       "\n",
       "    .dataframe thead th {\n",
       "        text-align: right;\n",
       "    }\n",
       "</style>\n",
       "<table border=\"1\" class=\"dataframe\">\n",
       "  <thead>\n",
       "    <tr style=\"text-align: right;\">\n",
       "      <th></th>\n",
       "      <th>doc_id</th>\n",
       "      <th>StartOffset</th>\n",
       "      <th>EndOffset</th>\n",
       "      <th>Abbreviation</th>\n",
       "      <th>Definition</th>\n",
       "      <th>Definition_lemmatized</th>\n",
       "    </tr>\n",
       "  </thead>\n",
       "  <tbody>\n",
       "    <tr>\n",
       "      <th>0</th>\n",
       "      <td>S0210-48062004000500008-1</td>\n",
       "      <td>1650</td>\n",
       "      <td>1652</td>\n",
       "      <td>ml</td>\n",
       "      <td>mililitro</td>\n",
       "      <td>mililitro</td>\n",
       "    </tr>\n",
       "    <tr>\n",
       "      <th>1</th>\n",
       "      <td>S0210-48062004000500008-1</td>\n",
       "      <td>708</td>\n",
       "      <td>709</td>\n",
       "      <td>l</td>\n",
       "      <td>litro</td>\n",
       "      <td>litro</td>\n",
       "    </tr>\n",
       "    <tr>\n",
       "      <th>2</th>\n",
       "      <td>S0210-48062004000500008-1</td>\n",
       "      <td>704</td>\n",
       "      <td>707</td>\n",
       "      <td>mEq</td>\n",
       "      <td>miliequivalente</td>\n",
       "      <td>miliequivalente</td>\n",
       "    </tr>\n",
       "    <tr>\n",
       "      <th>3</th>\n",
       "      <td>S0210-48062004000500008-1</td>\n",
       "      <td>677</td>\n",
       "      <td>681</td>\n",
       "      <td>pCO2</td>\n",
       "      <td>presión parcial de co2</td>\n",
       "      <td>presión parcial de co2</td>\n",
       "    </tr>\n",
       "    <tr>\n",
       "      <th>4</th>\n",
       "      <td>S0210-48062004000500008-1</td>\n",
       "      <td>2287</td>\n",
       "      <td>2290</td>\n",
       "      <td>HLA</td>\n",
       "      <td>human leucocyte antigen</td>\n",
       "      <td>human leucocyte antiger</td>\n",
       "    </tr>\n",
       "  </tbody>\n",
       "</table>\n",
       "</div>"
      ],
      "text/plain": [
       "                      doc_id  StartOffset  EndOffset Abbreviation  \\\n",
       "0  S0210-48062004000500008-1         1650       1652           ml   \n",
       "1  S0210-48062004000500008-1          708        709            l   \n",
       "2  S0210-48062004000500008-1          704        707          mEq   \n",
       "3  S0210-48062004000500008-1          677        681         pCO2   \n",
       "4  S0210-48062004000500008-1         2287       2290          HLA   \n",
       "\n",
       "                Definition    Definition_lemmatized  \n",
       "0                mililitro                mililitro  \n",
       "1                    litro                    litro  \n",
       "2          miliequivalente          miliequivalente  \n",
       "3   presión parcial de co2   presión parcial de co2  \n",
       "4  human leucocyte antigen  human leucocyte antiger  "
      ]
     },
     "execution_count": 898,
     "metadata": {},
     "output_type": "execute_result"
    }
   ],
   "source": [
    "train_abbr.head()"
   ]
  },
  {
   "cell_type": "code",
   "execution_count": 899,
   "metadata": {},
   "outputs": [],
   "source": [
    "train_raw = read_texts(\"../data/ibereval_data/trainning_set/training_set.raw_text/\")"
   ]
  },
  {
   "cell_type": "code",
   "execution_count": 900,
   "metadata": {},
   "outputs": [],
   "source": [
    "train_raw = train_raw.rename(columns = {'nombre': 'doc_id'})"
   ]
  },
  {
   "cell_type": "code",
   "execution_count": 901,
   "metadata": {},
   "outputs": [
    {
     "data": {
      "text/html": [
       "<div>\n",
       "<style scoped>\n",
       "    .dataframe tbody tr th:only-of-type {\n",
       "        vertical-align: middle;\n",
       "    }\n",
       "\n",
       "    .dataframe tbody tr th {\n",
       "        vertical-align: top;\n",
       "    }\n",
       "\n",
       "    .dataframe thead th {\n",
       "        text-align: right;\n",
       "    }\n",
       "</style>\n",
       "<table border=\"1\" class=\"dataframe\">\n",
       "  <thead>\n",
       "    <tr style=\"text-align: right;\">\n",
       "      <th></th>\n",
       "      <th>doc_id</th>\n",
       "      <th>texto</th>\n",
       "    </tr>\n",
       "  </thead>\n",
       "  <tbody>\n",
       "    <tr>\n",
       "      <th>0</th>\n",
       "      <td>S1130-01082006000100014-1</td>\n",
       "      <td>Se trata de una mujer de 35 años, con antecedentes familiares de enfermedad de Crohn y sin antec...</td>\n",
       "    </tr>\n",
       "    <tr>\n",
       "      <th>1</th>\n",
       "      <td>S1130-01082009000300015-1</td>\n",
       "      <td>Varón de 70 años, fumador, con enfisema pulmonar y vitíligo al que en mayo de 2001 se realizó un...</td>\n",
       "    </tr>\n",
       "    <tr>\n",
       "      <th>2</th>\n",
       "      <td>S0210-56912010000200009-1</td>\n",
       "      <td>Se trata de una mujer de 70 años con antecedentes de HTA y diagnosticada recientemente de neopla...</td>\n",
       "    </tr>\n",
       "    <tr>\n",
       "      <th>3</th>\n",
       "      <td>S1130-01082008000900014-1</td>\n",
       "      <td>Varón de 41 años diagnosticado de adenocarcinoma medianamente diferenciado implantado sobre esóf...</td>\n",
       "    </tr>\n",
       "    <tr>\n",
       "      <th>4</th>\n",
       "      <td>S0210-48062004000500008-1</td>\n",
       "      <td>Paciente de 29 años de edad que acude al Servicio de Urgencias de nuestro Hospital ante la prese...</td>\n",
       "    </tr>\n",
       "  </tbody>\n",
       "</table>\n",
       "</div>"
      ],
      "text/plain": [
       "                      doc_id  \\\n",
       "0  S1130-01082006000100014-1   \n",
       "1  S1130-01082009000300015-1   \n",
       "2  S0210-56912010000200009-1   \n",
       "3  S1130-01082008000900014-1   \n",
       "4  S0210-48062004000500008-1   \n",
       "\n",
       "                                                                                                 texto  \n",
       "0  Se trata de una mujer de 35 años, con antecedentes familiares de enfermedad de Crohn y sin antec...  \n",
       "1  Varón de 70 años, fumador, con enfisema pulmonar y vitíligo al que en mayo de 2001 se realizó un...  \n",
       "2  Se trata de una mujer de 70 años con antecedentes de HTA y diagnosticada recientemente de neopla...  \n",
       "3  Varón de 41 años diagnosticado de adenocarcinoma medianamente diferenciado implantado sobre esóf...  \n",
       "4  Paciente de 29 años de edad que acude al Servicio de Urgencias de nuestro Hospital ante la prese...  "
      ]
     },
     "execution_count": 901,
     "metadata": {},
     "output_type": "execute_result"
    }
   ],
   "source": [
    "train_raw.head()"
   ]
  },
  {
   "cell_type": "markdown",
   "metadata": {},
   "source": [
    "## Prepare Train Data"
   ]
  },
  {
   "cell_type": "markdown",
   "metadata": {},
   "source": [
    "### Preprocessing"
   ]
  },
  {
   "cell_type": "code",
   "execution_count": 904,
   "metadata": {},
   "outputs": [],
   "source": [
    "train = train_raw.merge(train_abbr[['doc_id', 'Abbreviation', 'Definition']], on = 'doc_id', how = 'left')"
   ]
  },
  {
   "cell_type": "code",
   "execution_count": 905,
   "metadata": {},
   "outputs": [],
   "source": [
    "train = train.merge(train_abbr, on = ['doc_id', 'Abbreviation'], how = 'left')"
   ]
  },
  {
   "cell_type": "code",
   "execution_count": 906,
   "metadata": {},
   "outputs": [],
   "source": [
    "train = train.drop_duplicates()"
   ]
  },
  {
   "cell_type": "code",
   "execution_count": 907,
   "metadata": {},
   "outputs": [],
   "source": [
    "train = train[['doc_id', 'texto', 'Abbreviation', 'Definition_x', 'StartOffset', 'EndOffset']]"
   ]
  },
  {
   "cell_type": "code",
   "execution_count": 908,
   "metadata": {},
   "outputs": [],
   "source": [
    "train = train.rename(columns = {'Definition_x':'Definition'})"
   ]
  },
  {
   "cell_type": "code",
   "execution_count": 909,
   "metadata": {},
   "outputs": [
    {
     "data": {
      "text/html": [
       "<div>\n",
       "<style scoped>\n",
       "    .dataframe tbody tr th:only-of-type {\n",
       "        vertical-align: middle;\n",
       "    }\n",
       "\n",
       "    .dataframe tbody tr th {\n",
       "        vertical-align: top;\n",
       "    }\n",
       "\n",
       "    .dataframe thead th {\n",
       "        text-align: right;\n",
       "    }\n",
       "</style>\n",
       "<table border=\"1\" class=\"dataframe\">\n",
       "  <thead>\n",
       "    <tr style=\"text-align: right;\">\n",
       "      <th></th>\n",
       "      <th>doc_id</th>\n",
       "      <th>texto</th>\n",
       "      <th>Abbreviation</th>\n",
       "      <th>Definition</th>\n",
       "      <th>StartOffset</th>\n",
       "      <th>EndOffset</th>\n",
       "    </tr>\n",
       "  </thead>\n",
       "  <tbody>\n",
       "    <tr>\n",
       "      <th>0</th>\n",
       "      <td>S1130-01082006000100014-1</td>\n",
       "      <td>Se trata de una mujer de 35 años, con antecedentes familiares de enfermedad de Crohn y sin antec...</td>\n",
       "      <td>dl</td>\n",
       "      <td>decilitro</td>\n",
       "      <td>1908.0</td>\n",
       "      <td>1910.0</td>\n",
       "    </tr>\n",
       "    <tr>\n",
       "      <th>1</th>\n",
       "      <td>S1130-01082006000100014-1</td>\n",
       "      <td>Se trata de una mujer de 35 años, con antecedentes familiares de enfermedad de Crohn y sin antec...</td>\n",
       "      <td>dl</td>\n",
       "      <td>decilitro</td>\n",
       "      <td>1684.0</td>\n",
       "      <td>1686.0</td>\n",
       "    </tr>\n",
       "    <tr>\n",
       "      <th>2</th>\n",
       "      <td>S1130-01082006000100014-1</td>\n",
       "      <td>Se trata de una mujer de 35 años, con antecedentes familiares de enfermedad de Crohn y sin antec...</td>\n",
       "      <td>dl</td>\n",
       "      <td>decilitro</td>\n",
       "      <td>1656.0</td>\n",
       "      <td>1658.0</td>\n",
       "    </tr>\n",
       "    <tr>\n",
       "      <th>3</th>\n",
       "      <td>S1130-01082006000100014-1</td>\n",
       "      <td>Se trata de una mujer de 35 años, con antecedentes familiares de enfermedad de Crohn y sin antec...</td>\n",
       "      <td>dl</td>\n",
       "      <td>decilitro</td>\n",
       "      <td>1414.0</td>\n",
       "      <td>1416.0</td>\n",
       "    </tr>\n",
       "    <tr>\n",
       "      <th>12</th>\n",
       "      <td>S1130-01082006000100014-1</td>\n",
       "      <td>Se trata de una mujer de 35 años, con antecedentes familiares de enfermedad de Crohn y sin antec...</td>\n",
       "      <td>g</td>\n",
       "      <td>gramo</td>\n",
       "      <td>1654.0</td>\n",
       "      <td>1655.0</td>\n",
       "    </tr>\n",
       "  </tbody>\n",
       "</table>\n",
       "</div>"
      ],
      "text/plain": [
       "                       doc_id  \\\n",
       "0   S1130-01082006000100014-1   \n",
       "1   S1130-01082006000100014-1   \n",
       "2   S1130-01082006000100014-1   \n",
       "3   S1130-01082006000100014-1   \n",
       "12  S1130-01082006000100014-1   \n",
       "\n",
       "                                                                                                  texto  \\\n",
       "0   Se trata de una mujer de 35 años, con antecedentes familiares de enfermedad de Crohn y sin antec...   \n",
       "1   Se trata de una mujer de 35 años, con antecedentes familiares de enfermedad de Crohn y sin antec...   \n",
       "2   Se trata de una mujer de 35 años, con antecedentes familiares de enfermedad de Crohn y sin antec...   \n",
       "3   Se trata de una mujer de 35 años, con antecedentes familiares de enfermedad de Crohn y sin antec...   \n",
       "12  Se trata de una mujer de 35 años, con antecedentes familiares de enfermedad de Crohn y sin antec...   \n",
       "\n",
       "   Abbreviation Definition  StartOffset  EndOffset  \n",
       "0            dl  decilitro       1908.0     1910.0  \n",
       "1            dl  decilitro       1684.0     1686.0  \n",
       "2            dl  decilitro       1656.0     1658.0  \n",
       "3            dl  decilitro       1414.0     1416.0  \n",
       "12            g      gramo       1654.0     1655.0  "
      ]
     },
     "execution_count": 909,
     "metadata": {},
     "output_type": "execute_result"
    }
   ],
   "source": [
    "train.head()"
   ]
  },
  {
   "cell_type": "code",
   "execution_count": 910,
   "metadata": {},
   "outputs": [],
   "source": [
    "train = train.rename(columns = {'Abbreviation': 'short_form', 'Definition': 'long_form'})"
   ]
  },
  {
   "cell_type": "code",
   "execution_count": 911,
   "metadata": {},
   "outputs": [],
   "source": [
    "train = train.dropna(subset = ['short_form', 'long_form'])"
   ]
  },
  {
   "cell_type": "code",
   "execution_count": 912,
   "metadata": {},
   "outputs": [],
   "source": [
    "train[['StartOffset', 'EndOffset']] = train[['StartOffset', 'EndOffset']].astype(int)"
   ]
  },
  {
   "cell_type": "markdown",
   "metadata": {},
   "source": [
    "Clean long forms to delete acents, string punctuation etc"
   ]
  },
  {
   "cell_type": "code",
   "execution_count": 913,
   "metadata": {},
   "outputs": [],
   "source": [
    "train['long_form'] = train['long_form'].map(clean_text)"
   ]
  },
  {
   "cell_type": "markdown",
   "metadata": {},
   "source": [
    "### Normalize long forms"
   ]
  },
  {
   "cell_type": "code",
   "execution_count": 914,
   "metadata": {},
   "outputs": [],
   "source": [
    "sf_lf = train[['short_form', 'long_form']].drop_duplicates()"
   ]
  },
  {
   "cell_type": "code",
   "execution_count": 915,
   "metadata": {},
   "outputs": [
    {
     "data": {
      "text/html": [
       "<div>\n",
       "<style scoped>\n",
       "    .dataframe tbody tr th:only-of-type {\n",
       "        vertical-align: middle;\n",
       "    }\n",
       "\n",
       "    .dataframe tbody tr th {\n",
       "        vertical-align: top;\n",
       "    }\n",
       "\n",
       "    .dataframe thead th {\n",
       "        text-align: right;\n",
       "    }\n",
       "</style>\n",
       "<table border=\"1\" class=\"dataframe\">\n",
       "  <thead>\n",
       "    <tr style=\"text-align: right;\">\n",
       "      <th></th>\n",
       "      <th>short_form</th>\n",
       "      <th>long_form</th>\n",
       "      <th>len</th>\n",
       "    </tr>\n",
       "  </thead>\n",
       "  <tbody>\n",
       "    <tr>\n",
       "      <th>48</th>\n",
       "      <td>AST</td>\n",
       "      <td>[aspartate aminotransferase, aspartatoaminotransferasa, aspartate and alanine aminotransferase, ...</td>\n",
       "      <td>5</td>\n",
       "    </tr>\n",
       "    <tr>\n",
       "      <th>481</th>\n",
       "      <td>PCR</td>\n",
       "      <td>[proteina c reactiva, polymerase chain reaction, reaccion cadena polimerasa, parada cardiorrespi...</td>\n",
       "      <td>4</td>\n",
       "    </tr>\n",
       "    <tr>\n",
       "      <th>573</th>\n",
       "      <td>TAC</td>\n",
       "      <td>[tomografia axial computarizada, tomografia axial computerizada, tomografia axial computadorizad...</td>\n",
       "      <td>4</td>\n",
       "    </tr>\n",
       "    <tr>\n",
       "      <th>273</th>\n",
       "      <td>GGT</td>\n",
       "      <td>[gammaglutamiltranspeptidasa, gamma glutamil transpeptidasa, gammaglutamil transpeptidasa, gama ...</td>\n",
       "      <td>4</td>\n",
       "    </tr>\n",
       "    <tr>\n",
       "      <th>238</th>\n",
       "      <td>FA</td>\n",
       "      <td>[fluorescein angiography, fosfatasa alcalina, autofluorescencia fondo, fibrilacion auricular]</td>\n",
       "      <td>4</td>\n",
       "    </tr>\n",
       "    <tr>\n",
       "      <th>...</th>\n",
       "      <td>...</td>\n",
       "      <td>...</td>\n",
       "      <td>...</td>\n",
       "    </tr>\n",
       "    <tr>\n",
       "      <th>275</th>\n",
       "      <td>GLA</td>\n",
       "      <td>[galactosidasa]</td>\n",
       "      <td>1</td>\n",
       "    </tr>\n",
       "    <tr>\n",
       "      <th>278</th>\n",
       "      <td>GRE</td>\n",
       "      <td>[gradientecho]</td>\n",
       "      <td>1</td>\n",
       "    </tr>\n",
       "    <tr>\n",
       "      <th>279</th>\n",
       "      <td>GRP</td>\n",
       "      <td>[gastrostomia radiologica percutanea]</td>\n",
       "      <td>1</td>\n",
       "    </tr>\n",
       "    <tr>\n",
       "      <th>280</th>\n",
       "      <td>Ga-67</td>\n",
       "      <td>[galio67]</td>\n",
       "      <td>1</td>\n",
       "    </tr>\n",
       "    <tr>\n",
       "      <th>767</th>\n",
       "      <td>™</td>\n",
       "      <td>[trademark]</td>\n",
       "      <td>1</td>\n",
       "    </tr>\n",
       "  </tbody>\n",
       "</table>\n",
       "<p>768 rows × 3 columns</p>\n",
       "</div>"
      ],
      "text/plain": [
       "    short_form  \\\n",
       "48         AST   \n",
       "481        PCR   \n",
       "573        TAC   \n",
       "273        GGT   \n",
       "238         FA   \n",
       "..         ...   \n",
       "275        GLA   \n",
       "278        GRE   \n",
       "279        GRP   \n",
       "280      Ga-67   \n",
       "767          ™   \n",
       "\n",
       "                                                                                               long_form  \\\n",
       "48   [aspartate aminotransferase, aspartatoaminotransferasa, aspartate and alanine aminotransferase, ...   \n",
       "481  [proteina c reactiva, polymerase chain reaction, reaccion cadena polimerasa, parada cardiorrespi...   \n",
       "573  [tomografia axial computarizada, tomografia axial computerizada, tomografia axial computadorizad...   \n",
       "273  [gammaglutamiltranspeptidasa, gamma glutamil transpeptidasa, gammaglutamil transpeptidasa, gama ...   \n",
       "238        [fluorescein angiography, fosfatasa alcalina, autofluorescencia fondo, fibrilacion auricular]   \n",
       "..                                                                                                   ...   \n",
       "275                                                                                      [galactosidasa]   \n",
       "278                                                                                       [gradientecho]   \n",
       "279                                                                [gastrostomia radiologica percutanea]   \n",
       "280                                                                                            [galio67]   \n",
       "767                                                                                          [trademark]   \n",
       "\n",
       "     len  \n",
       "48     5  \n",
       "481    4  \n",
       "573    4  \n",
       "273    4  \n",
       "238    4  \n",
       "..   ...  \n",
       "275    1  \n",
       "278    1  \n",
       "279    1  \n",
       "280    1  \n",
       "767    1  \n",
       "\n",
       "[768 rows x 3 columns]"
      ]
     },
     "execution_count": 915,
     "metadata": {},
     "output_type": "execute_result"
    }
   ],
   "source": [
    "sf_lf_list = sf_lf.groupby('short_form', as_index=False).agg({'long_form': list})\n",
    "sf_lf_list['len'] = sf_lf_list['long_form'].map(lambda x: len(x))\n",
    "sf_lf_list.sort_values('len', ascending = False)"
   ]
  },
  {
   "cell_type": "code",
   "execution_count": 916,
   "metadata": {},
   "outputs": [
    {
     "data": {
      "image/png": "[encoded data removed]",
      "text/plain": [
       "<Figure size 432x288 with 1 Axes>"
      ]
     },
     "metadata": {
      "needs_background": "light"
     },
     "output_type": "display_data"
    }
   ],
   "source": [
    "table = pd.crosstab(sf_lf_list['len'], columns = 'Count')\n",
    "table.plot.bar(legend = None)\n",
    "plt.xlabel(\"Definiciones por acrónimo\")\n",
    "plt.ylabel(\"Count\")\n",
    "#plt.show()\n",
    "plt.savefig('data/acron_count.png')"
   ]
  },
  {
   "cell_type": "code",
   "execution_count": 917,
   "metadata": {},
   "outputs": [
    {
     "data": {
      "text/html": [
       "<div>\n",
       "<style scoped>\n",
       "    .dataframe tbody tr th:only-of-type {\n",
       "        vertical-align: middle;\n",
       "    }\n",
       "\n",
       "    .dataframe tbody tr th {\n",
       "        vertical-align: top;\n",
       "    }\n",
       "\n",
       "    .dataframe thead th {\n",
       "        text-align: right;\n",
       "    }\n",
       "</style>\n",
       "<table border=\"1\" class=\"dataframe\">\n",
       "  <thead>\n",
       "    <tr style=\"text-align: right;\">\n",
       "      <th>col_0</th>\n",
       "      <th>Count</th>\n",
       "    </tr>\n",
       "    <tr>\n",
       "      <th>len</th>\n",
       "      <th></th>\n",
       "    </tr>\n",
       "  </thead>\n",
       "  <tbody>\n",
       "    <tr>\n",
       "      <th>1</th>\n",
       "      <td>682</td>\n",
       "    </tr>\n",
       "    <tr>\n",
       "      <th>2</th>\n",
       "      <td>67</td>\n",
       "    </tr>\n",
       "    <tr>\n",
       "      <th>3</th>\n",
       "      <td>11</td>\n",
       "    </tr>\n",
       "    <tr>\n",
       "      <th>4</th>\n",
       "      <td>7</td>\n",
       "    </tr>\n",
       "    <tr>\n",
       "      <th>5</th>\n",
       "      <td>1</td>\n",
       "    </tr>\n",
       "  </tbody>\n",
       "</table>\n",
       "</div>"
      ],
      "text/plain": [
       "col_0  Count\n",
       "len         \n",
       "1        682\n",
       "2         67\n",
       "3         11\n",
       "4          7\n",
       "5          1"
      ]
     },
     "execution_count": 917,
     "metadata": {},
     "output_type": "execute_result"
    }
   ],
   "source": [
    "table = pd.crosstab(sf_lf_list['len'], columns = 'Count')\n",
    "table"
   ]
  },
  {
   "cell_type": "markdown",
   "metadata": {},
   "source": [
    "#### Apply Levenshtein distance to normalize Long Forms"
   ]
  },
  {
   "cell_type": "markdown",
   "metadata": {},
   "source": [
    "Get more frequent lf per sf"
   ]
  },
  {
   "cell_type": "code",
   "execution_count": 918,
   "metadata": {},
   "outputs": [
    {
     "data": {
      "text/html": [
       "<div>\n",
       "<style scoped>\n",
       "    .dataframe tbody tr th:only-of-type {\n",
       "        vertical-align: middle;\n",
       "    }\n",
       "\n",
       "    .dataframe tbody tr th {\n",
       "        vertical-align: top;\n",
       "    }\n",
       "\n",
       "    .dataframe thead th {\n",
       "        text-align: right;\n",
       "    }\n",
       "</style>\n",
       "<table border=\"1\" class=\"dataframe\">\n",
       "  <thead>\n",
       "    <tr style=\"text-align: right;\">\n",
       "      <th></th>\n",
       "      <th>index</th>\n",
       "      <th>long_form</th>\n",
       "    </tr>\n",
       "  </thead>\n",
       "  <tbody>\n",
       "    <tr>\n",
       "      <th>0</th>\n",
       "      <td>miligramo</td>\n",
       "      <td>404</td>\n",
       "    </tr>\n",
       "    <tr>\n",
       "      <th>1</th>\n",
       "      <td>decilitro</td>\n",
       "      <td>289</td>\n",
       "    </tr>\n",
       "    <tr>\n",
       "      <th>2</th>\n",
       "      <td>centimetro</td>\n",
       "      <td>235</td>\n",
       "    </tr>\n",
       "    <tr>\n",
       "      <th>3</th>\n",
       "      <td>litro</td>\n",
       "      <td>215</td>\n",
       "    </tr>\n",
       "    <tr>\n",
       "      <th>4</th>\n",
       "      <td>mililitro</td>\n",
       "      <td>180</td>\n",
       "    </tr>\n",
       "    <tr>\n",
       "      <th>...</th>\n",
       "      <td>...</td>\n",
       "      <td>...</td>\n",
       "    </tr>\n",
       "    <tr>\n",
       "      <th>776</th>\n",
       "      <td>linfoma pulmonar primario</td>\n",
       "      <td>1</td>\n",
       "    </tr>\n",
       "    <tr>\n",
       "      <th>777</th>\n",
       "      <td>interleucina 28</td>\n",
       "      <td>1</td>\n",
       "    </tr>\n",
       "    <tr>\n",
       "      <th>778</th>\n",
       "      <td>antinuclear antibodies</td>\n",
       "      <td>1</td>\n",
       "    </tr>\n",
       "    <tr>\n",
       "      <th>779</th>\n",
       "      <td>fosfatasas alcalinas</td>\n",
       "      <td>1</td>\n",
       "    </tr>\n",
       "    <tr>\n",
       "      <th>780</th>\n",
       "      <td>metacarpofalangica</td>\n",
       "      <td>1</td>\n",
       "    </tr>\n",
       "  </tbody>\n",
       "</table>\n",
       "<p>781 rows × 2 columns</p>\n",
       "</div>"
      ],
      "text/plain": [
       "                         index  long_form\n",
       "0                    miligramo        404\n",
       "1                    decilitro        289\n",
       "2                   centimetro        235\n",
       "3                        litro        215\n",
       "4                    mililitro        180\n",
       "..                         ...        ...\n",
       "776  linfoma pulmonar primario          1\n",
       "777            interleucina 28          1\n",
       "778     antinuclear antibodies          1\n",
       "779       fosfatasas alcalinas          1\n",
       "780         metacarpofalangica          1\n",
       "\n",
       "[781 rows x 2 columns]"
      ]
     },
     "execution_count": 918,
     "metadata": {},
     "output_type": "execute_result"
    }
   ],
   "source": [
    "frec = train['long_form'].value_counts().reset_index()\n",
    "frec"
   ]
  },
  {
   "cell_type": "markdown",
   "metadata": {},
   "source": [
    "Create a dictionary where keys are the lf to normalize and the values the normalized form"
   ]
  },
  {
   "cell_type": "code",
   "execution_count": 919,
   "metadata": {},
   "outputs": [],
   "source": [
    "norm = []\n",
    "for i in sf_lf_list['long_form']:\n",
    "    norm.append(normalize_lf(i))"
   ]
  },
  {
   "cell_type": "code",
   "execution_count": 920,
   "metadata": {},
   "outputs": [],
   "source": [
    "norm = [i for i in norm if i != None]"
   ]
  },
  {
   "cell_type": "code",
   "execution_count": 921,
   "metadata": {
    "tags": []
   },
   "outputs": [],
   "source": [
    "norm_dict = {}\n",
    "for i in norm:\n",
    "    norm_dict.update(i)\n",
    "#norm_dict"
   ]
  },
  {
   "cell_type": "markdown",
   "metadata": {},
   "source": [
    "Finally normalize long forms over the dataframe"
   ]
  },
  {
   "cell_type": "code",
   "execution_count": 922,
   "metadata": {},
   "outputs": [
    {
     "data": {
      "text/html": [
       "<div>\n",
       "<style scoped>\n",
       "    .dataframe tbody tr th:only-of-type {\n",
       "        vertical-align: middle;\n",
       "    }\n",
       "\n",
       "    .dataframe tbody tr th {\n",
       "        vertical-align: top;\n",
       "    }\n",
       "\n",
       "    .dataframe thead th {\n",
       "        text-align: right;\n",
       "    }\n",
       "</style>\n",
       "<table border=\"1\" class=\"dataframe\">\n",
       "  <thead>\n",
       "    <tr style=\"text-align: right;\">\n",
       "      <th></th>\n",
       "      <th>doc_id</th>\n",
       "      <th>texto</th>\n",
       "      <th>short_form</th>\n",
       "      <th>long_form</th>\n",
       "      <th>StartOffset</th>\n",
       "      <th>EndOffset</th>\n",
       "    </tr>\n",
       "  </thead>\n",
       "  <tbody>\n",
       "    <tr>\n",
       "      <th>0</th>\n",
       "      <td>S1130-01082006000100014-1</td>\n",
       "      <td>Se trata de una mujer de 35 años, con antecedentes familiares de enfermedad de Crohn y sin antec...</td>\n",
       "      <td>dl</td>\n",
       "      <td>decilitro</td>\n",
       "      <td>1908</td>\n",
       "      <td>1910</td>\n",
       "    </tr>\n",
       "    <tr>\n",
       "      <th>1</th>\n",
       "      <td>S1130-01082006000100014-1</td>\n",
       "      <td>Se trata de una mujer de 35 años, con antecedentes familiares de enfermedad de Crohn y sin antec...</td>\n",
       "      <td>dl</td>\n",
       "      <td>decilitro</td>\n",
       "      <td>1684</td>\n",
       "      <td>1686</td>\n",
       "    </tr>\n",
       "    <tr>\n",
       "      <th>2</th>\n",
       "      <td>S1130-01082006000100014-1</td>\n",
       "      <td>Se trata de una mujer de 35 años, con antecedentes familiares de enfermedad de Crohn y sin antec...</td>\n",
       "      <td>dl</td>\n",
       "      <td>decilitro</td>\n",
       "      <td>1656</td>\n",
       "      <td>1658</td>\n",
       "    </tr>\n",
       "    <tr>\n",
       "      <th>3</th>\n",
       "      <td>S1130-01082006000100014-1</td>\n",
       "      <td>Se trata de una mujer de 35 años, con antecedentes familiares de enfermedad de Crohn y sin antec...</td>\n",
       "      <td>dl</td>\n",
       "      <td>decilitro</td>\n",
       "      <td>1414</td>\n",
       "      <td>1416</td>\n",
       "    </tr>\n",
       "    <tr>\n",
       "      <th>12</th>\n",
       "      <td>S1130-01082006000100014-1</td>\n",
       "      <td>Se trata de una mujer de 35 años, con antecedentes familiares de enfermedad de Crohn y sin antec...</td>\n",
       "      <td>g</td>\n",
       "      <td>gramo</td>\n",
       "      <td>1654</td>\n",
       "      <td>1655</td>\n",
       "    </tr>\n",
       "  </tbody>\n",
       "</table>\n",
       "</div>"
      ],
      "text/plain": [
       "                       doc_id  \\\n",
       "0   S1130-01082006000100014-1   \n",
       "1   S1130-01082006000100014-1   \n",
       "2   S1130-01082006000100014-1   \n",
       "3   S1130-01082006000100014-1   \n",
       "12  S1130-01082006000100014-1   \n",
       "\n",
       "                                                                                                  texto  \\\n",
       "0   Se trata de una mujer de 35 años, con antecedentes familiares de enfermedad de Crohn y sin antec...   \n",
       "1   Se trata de una mujer de 35 años, con antecedentes familiares de enfermedad de Crohn y sin antec...   \n",
       "2   Se trata de una mujer de 35 años, con antecedentes familiares de enfermedad de Crohn y sin antec...   \n",
       "3   Se trata de una mujer de 35 años, con antecedentes familiares de enfermedad de Crohn y sin antec...   \n",
       "12  Se trata de una mujer de 35 años, con antecedentes familiares de enfermedad de Crohn y sin antec...   \n",
       "\n",
       "   short_form  long_form  StartOffset  EndOffset  \n",
       "0          dl  decilitro         1908       1910  \n",
       "1          dl  decilitro         1684       1686  \n",
       "2          dl  decilitro         1656       1658  \n",
       "3          dl  decilitro         1414       1416  \n",
       "12          g      gramo         1654       1655  "
      ]
     },
     "execution_count": 922,
     "metadata": {},
     "output_type": "execute_result"
    }
   ],
   "source": [
    "train.head()"
   ]
  },
  {
   "cell_type": "code",
   "execution_count": 923,
   "metadata": {},
   "outputs": [],
   "source": [
    "train = train.replace({\"long_form\": norm_dict})"
   ]
  },
  {
   "cell_type": "markdown",
   "metadata": {},
   "source": [
    "Check that deffinitions have been normalized"
   ]
  },
  {
   "cell_type": "code",
   "execution_count": 924,
   "metadata": {},
   "outputs": [
    {
     "data": {
      "text/html": [
       "<div>\n",
       "<style scoped>\n",
       "    .dataframe tbody tr th:only-of-type {\n",
       "        vertical-align: middle;\n",
       "    }\n",
       "\n",
       "    .dataframe tbody tr th {\n",
       "        vertical-align: top;\n",
       "    }\n",
       "\n",
       "    .dataframe thead th {\n",
       "        text-align: right;\n",
       "    }\n",
       "</style>\n",
       "<table border=\"1\" class=\"dataframe\">\n",
       "  <thead>\n",
       "    <tr style=\"text-align: right;\">\n",
       "      <th></th>\n",
       "      <th>doc_id</th>\n",
       "      <th>texto</th>\n",
       "      <th>short_form</th>\n",
       "      <th>long_form</th>\n",
       "      <th>StartOffset</th>\n",
       "      <th>EndOffset</th>\n",
       "    </tr>\n",
       "  </thead>\n",
       "  <tbody>\n",
       "    <tr>\n",
       "      <th>0</th>\n",
       "      <td>S1130-01082006000100014-1</td>\n",
       "      <td>Se trata de una mujer de 35 años, con antecedentes familiares de enfermedad de Crohn y sin antec...</td>\n",
       "      <td>dl</td>\n",
       "      <td>decilitro</td>\n",
       "      <td>1908</td>\n",
       "      <td>1910</td>\n",
       "    </tr>\n",
       "    <tr>\n",
       "      <th>1</th>\n",
       "      <td>S1130-01082006000100014-1</td>\n",
       "      <td>Se trata de una mujer de 35 años, con antecedentes familiares de enfermedad de Crohn y sin antec...</td>\n",
       "      <td>dl</td>\n",
       "      <td>decilitro</td>\n",
       "      <td>1684</td>\n",
       "      <td>1686</td>\n",
       "    </tr>\n",
       "    <tr>\n",
       "      <th>2</th>\n",
       "      <td>S1130-01082006000100014-1</td>\n",
       "      <td>Se trata de una mujer de 35 años, con antecedentes familiares de enfermedad de Crohn y sin antec...</td>\n",
       "      <td>dl</td>\n",
       "      <td>decilitro</td>\n",
       "      <td>1656</td>\n",
       "      <td>1658</td>\n",
       "    </tr>\n",
       "    <tr>\n",
       "      <th>3</th>\n",
       "      <td>S1130-01082006000100014-1</td>\n",
       "      <td>Se trata de una mujer de 35 años, con antecedentes familiares de enfermedad de Crohn y sin antec...</td>\n",
       "      <td>dl</td>\n",
       "      <td>decilitro</td>\n",
       "      <td>1414</td>\n",
       "      <td>1416</td>\n",
       "    </tr>\n",
       "    <tr>\n",
       "      <th>12</th>\n",
       "      <td>S1130-01082006000100014-1</td>\n",
       "      <td>Se trata de una mujer de 35 años, con antecedentes familiares de enfermedad de Crohn y sin antec...</td>\n",
       "      <td>g</td>\n",
       "      <td>gramo</td>\n",
       "      <td>1654</td>\n",
       "      <td>1655</td>\n",
       "    </tr>\n",
       "  </tbody>\n",
       "</table>\n",
       "</div>"
      ],
      "text/plain": [
       "                       doc_id  \\\n",
       "0   S1130-01082006000100014-1   \n",
       "1   S1130-01082006000100014-1   \n",
       "2   S1130-01082006000100014-1   \n",
       "3   S1130-01082006000100014-1   \n",
       "12  S1130-01082006000100014-1   \n",
       "\n",
       "                                                                                                  texto  \\\n",
       "0   Se trata de una mujer de 35 años, con antecedentes familiares de enfermedad de Crohn y sin antec...   \n",
       "1   Se trata de una mujer de 35 años, con antecedentes familiares de enfermedad de Crohn y sin antec...   \n",
       "2   Se trata de una mujer de 35 años, con antecedentes familiares de enfermedad de Crohn y sin antec...   \n",
       "3   Se trata de una mujer de 35 años, con antecedentes familiares de enfermedad de Crohn y sin antec...   \n",
       "12  Se trata de una mujer de 35 años, con antecedentes familiares de enfermedad de Crohn y sin antec...   \n",
       "\n",
       "   short_form  long_form  StartOffset  EndOffset  \n",
       "0          dl  decilitro         1908       1910  \n",
       "1          dl  decilitro         1684       1686  \n",
       "2          dl  decilitro         1656       1658  \n",
       "3          dl  decilitro         1414       1416  \n",
       "12          g      gramo         1654       1655  "
      ]
     },
     "execution_count": 924,
     "metadata": {},
     "output_type": "execute_result"
    }
   ],
   "source": [
    "train.head()"
   ]
  },
  {
   "cell_type": "markdown",
   "metadata": {},
   "source": [
    "### Get just ambigous acronyms"
   ]
  },
  {
   "cell_type": "markdown",
   "metadata": {},
   "source": [
    "Execute this code just in case only ambigous acronyms are needed."
   ]
  },
  {
   "cell_type": "code",
   "execution_count": 930,
   "metadata": {},
   "outputs": [],
   "source": [
    "#amb = train.groupby('short_form')['long_form'].nunique().reset_index().sort_values('long_form', ascending = False)"
   ]
  },
  {
   "cell_type": "code",
   "execution_count": 931,
   "metadata": {},
   "outputs": [],
   "source": [
    "#amb.head()"
   ]
  },
  {
   "cell_type": "code",
   "execution_count": 932,
   "metadata": {},
   "outputs": [],
   "source": [
    "#table = pd.crosstab(amb['long_form'], columns = 'Count')\n",
    "#table.plot.bar()\n",
    "#plt.show()"
   ]
  },
  {
   "cell_type": "code",
   "execution_count": 933,
   "metadata": {},
   "outputs": [],
   "source": [
    "#defin = amb[amb['long_form'] != 1]['short_form'].values.tolist()"
   ]
  },
  {
   "cell_type": "code",
   "execution_count": 934,
   "metadata": {},
   "outputs": [],
   "source": [
    "#train.shape"
   ]
  },
  {
   "cell_type": "code",
   "execution_count": 935,
   "metadata": {},
   "outputs": [],
   "source": [
    "#train = train[train['short_form'].isin(defin)]"
   ]
  },
  {
   "cell_type": "code",
   "execution_count": 936,
   "metadata": {},
   "outputs": [],
   "source": [
    "#train.shape"
   ]
  },
  {
   "cell_type": "markdown",
   "metadata": {},
   "source": [
    "### Add texts from Medline"
   ]
  },
  {
   "cell_type": "markdown",
   "metadata": {},
   "source": [
    "Some long forms are imbalanced. Texts from Medline are added to improve balance."
   ]
  },
  {
   "cell_type": "code",
   "execution_count": 937,
   "metadata": {},
   "outputs": [
    {
     "data": {
      "text/html": [
       "<div>\n",
       "<style scoped>\n",
       "    .dataframe tbody tr th:only-of-type {\n",
       "        vertical-align: middle;\n",
       "    }\n",
       "\n",
       "    .dataframe tbody tr th {\n",
       "        vertical-align: top;\n",
       "    }\n",
       "\n",
       "    .dataframe thead th {\n",
       "        text-align: right;\n",
       "    }\n",
       "</style>\n",
       "<table border=\"1\" class=\"dataframe\">\n",
       "  <thead>\n",
       "    <tr style=\"text-align: right;\">\n",
       "      <th></th>\n",
       "      <th>doc_id</th>\n",
       "      <th>texto</th>\n",
       "      <th>short_form</th>\n",
       "      <th>long_form</th>\n",
       "      <th>StartOffset</th>\n",
       "      <th>EndOffset</th>\n",
       "    </tr>\n",
       "  </thead>\n",
       "  <tbody>\n",
       "    <tr>\n",
       "      <th>0</th>\n",
       "      <td>S1130-01082006000100014-1</td>\n",
       "      <td>Se trata de una mujer de 35 años, con antecedentes familiares de enfermedad de Crohn y sin antec...</td>\n",
       "      <td>dl</td>\n",
       "      <td>decilitro</td>\n",
       "      <td>1908</td>\n",
       "      <td>1910</td>\n",
       "    </tr>\n",
       "    <tr>\n",
       "      <th>1</th>\n",
       "      <td>S1130-01082006000100014-1</td>\n",
       "      <td>Se trata de una mujer de 35 años, con antecedentes familiares de enfermedad de Crohn y sin antec...</td>\n",
       "      <td>dl</td>\n",
       "      <td>decilitro</td>\n",
       "      <td>1684</td>\n",
       "      <td>1686</td>\n",
       "    </tr>\n",
       "    <tr>\n",
       "      <th>2</th>\n",
       "      <td>S1130-01082006000100014-1</td>\n",
       "      <td>Se trata de una mujer de 35 años, con antecedentes familiares de enfermedad de Crohn y sin antec...</td>\n",
       "      <td>dl</td>\n",
       "      <td>decilitro</td>\n",
       "      <td>1656</td>\n",
       "      <td>1658</td>\n",
       "    </tr>\n",
       "    <tr>\n",
       "      <th>3</th>\n",
       "      <td>S1130-01082006000100014-1</td>\n",
       "      <td>Se trata de una mujer de 35 años, con antecedentes familiares de enfermedad de Crohn y sin antec...</td>\n",
       "      <td>dl</td>\n",
       "      <td>decilitro</td>\n",
       "      <td>1414</td>\n",
       "      <td>1416</td>\n",
       "    </tr>\n",
       "    <tr>\n",
       "      <th>12</th>\n",
       "      <td>S1130-01082006000100014-1</td>\n",
       "      <td>Se trata de una mujer de 35 años, con antecedentes familiares de enfermedad de Crohn y sin antec...</td>\n",
       "      <td>g</td>\n",
       "      <td>gramo</td>\n",
       "      <td>1654</td>\n",
       "      <td>1655</td>\n",
       "    </tr>\n",
       "  </tbody>\n",
       "</table>\n",
       "</div>"
      ],
      "text/plain": [
       "                       doc_id  \\\n",
       "0   S1130-01082006000100014-1   \n",
       "1   S1130-01082006000100014-1   \n",
       "2   S1130-01082006000100014-1   \n",
       "3   S1130-01082006000100014-1   \n",
       "12  S1130-01082006000100014-1   \n",
       "\n",
       "                                                                                                  texto  \\\n",
       "0   Se trata de una mujer de 35 años, con antecedentes familiares de enfermedad de Crohn y sin antec...   \n",
       "1   Se trata de una mujer de 35 años, con antecedentes familiares de enfermedad de Crohn y sin antec...   \n",
       "2   Se trata de una mujer de 35 años, con antecedentes familiares de enfermedad de Crohn y sin antec...   \n",
       "3   Se trata de una mujer de 35 años, con antecedentes familiares de enfermedad de Crohn y sin antec...   \n",
       "12  Se trata de una mujer de 35 años, con antecedentes familiares de enfermedad de Crohn y sin antec...   \n",
       "\n",
       "   short_form  long_form  StartOffset  EndOffset  \n",
       "0          dl  decilitro         1908       1910  \n",
       "1          dl  decilitro         1684       1686  \n",
       "2          dl  decilitro         1656       1658  \n",
       "3          dl  decilitro         1414       1416  \n",
       "12          g      gramo         1654       1655  "
      ]
     },
     "execution_count": 937,
     "metadata": {},
     "output_type": "execute_result"
    }
   ],
   "source": [
    "train.head()"
   ]
  },
  {
   "cell_type": "markdown",
   "metadata": {},
   "source": [
    "Study imbalaced long forms. Number of rows for each different definition. We can see mostly long forms have just one row."
   ]
  },
  {
   "cell_type": "code",
   "execution_count": 938,
   "metadata": {},
   "outputs": [],
   "source": [
    "frec2 = train['long_form'].value_counts().reset_index()"
   ]
  },
  {
   "cell_type": "code",
   "execution_count": 965,
   "metadata": {},
   "outputs": [
    {
     "data": {
      "text/plain": [
       "735"
      ]
     },
     "execution_count": 965,
     "metadata": {},
     "output_type": "execute_result"
    }
   ],
   "source": [
    "train.long_form.nunique()"
   ]
  },
  {
   "cell_type": "code",
   "execution_count": 961,
   "metadata": {},
   "outputs": [
    {
     "data": {
      "text/plain": [
       "(2379, 2)"
      ]
     },
     "execution_count": 961,
     "metadata": {},
     "output_type": "execute_result"
    }
   ],
   "source": [
    "train[['doc_id','long_form']].drop_duplicates().shape"
   ]
  },
  {
   "cell_type": "code",
   "execution_count": 962,
   "metadata": {},
   "outputs": [
    {
     "data": {
      "text/html": [
       "<div>\n",
       "<style scoped>\n",
       "    .dataframe tbody tr th:only-of-type {\n",
       "        vertical-align: middle;\n",
       "    }\n",
       "\n",
       "    .dataframe tbody tr th {\n",
       "        vertical-align: top;\n",
       "    }\n",
       "\n",
       "    .dataframe thead th {\n",
       "        text-align: right;\n",
       "    }\n",
       "</style>\n",
       "<table border=\"1\" class=\"dataframe\">\n",
       "  <thead>\n",
       "    <tr style=\"text-align: right;\">\n",
       "      <th></th>\n",
       "      <th>long_form</th>\n",
       "      <th>doc_id</th>\n",
       "    </tr>\n",
       "  </thead>\n",
       "  <tbody>\n",
       "    <tr>\n",
       "      <th>468</th>\n",
       "      <td>milimetro</td>\n",
       "      <td>70</td>\n",
       "    </tr>\n",
       "    <tr>\n",
       "      <th>678</th>\n",
       "      <td>tomografia axial computarizada</td>\n",
       "      <td>71</td>\n",
       "    </tr>\n",
       "    <tr>\n",
       "      <th>191</th>\n",
       "      <td>decilitro</td>\n",
       "      <td>76</td>\n",
       "    </tr>\n",
       "    <tr>\n",
       "      <th>117</th>\n",
       "      <td>centimetro</td>\n",
       "      <td>111</td>\n",
       "    </tr>\n",
       "    <tr>\n",
       "      <th>464</th>\n",
       "      <td>miligramo</td>\n",
       "      <td>119</td>\n",
       "    </tr>\n",
       "  </tbody>\n",
       "</table>\n",
       "</div>"
      ],
      "text/plain": [
       "                          long_form  doc_id\n",
       "468                       milimetro      70\n",
       "678  tomografia axial computarizada      71\n",
       "191                       decilitro      76\n",
       "117                      centimetro     111\n",
       "464                       miligramo     119"
      ]
     },
     "execution_count": 962,
     "metadata": {},
     "output_type": "execute_result"
    }
   ],
   "source": [
    "def_count = train[['doc_id','long_form']].drop_duplicates().groupby('long_form').agg({'doc_id':'count'}).reset_index()\n",
    "def_count.sort_values('doc_id').tail()"
   ]
  },
  {
   "cell_type": "code",
   "execution_count": 963,
   "metadata": {},
   "outputs": [
    {
     "data": {
      "image/png": "[encoded data removed]",
      "text/plain": [
       "<Figure size 1080x576 with 1 Axes>"
      ]
     },
     "metadata": {
      "needs_background": "light"
     },
     "output_type": "display_data"
    }
   ],
   "source": [
    "table = pd.crosstab(def_count['doc_id'], columns = 'Count')\n",
    "table.plot.bar(legend = None, figsize=(15,8))\n",
    "plt.xlabel(\"Cantidad de textos en los que aparece la definición\")\n",
    "plt.ylabel(\"Count\")\n",
    "plt.savefig('data/def_count.png')\n",
    "plt.show()"
   ]
  },
  {
   "cell_type": "code",
   "execution_count": 529,
   "metadata": {},
   "outputs": [
    {
     "data": {
      "text/html": [
       "<div>\n",
       "<style scoped>\n",
       "    .dataframe tbody tr th:only-of-type {\n",
       "        vertical-align: middle;\n",
       "    }\n",
       "\n",
       "    .dataframe tbody tr th {\n",
       "        vertical-align: top;\n",
       "    }\n",
       "\n",
       "    .dataframe thead th {\n",
       "        text-align: right;\n",
       "    }\n",
       "</style>\n",
       "<table border=\"1\" class=\"dataframe\">\n",
       "  <thead>\n",
       "    <tr style=\"text-align: right;\">\n",
       "      <th></th>\n",
       "      <th>index</th>\n",
       "      <th>long_form</th>\n",
       "    </tr>\n",
       "  </thead>\n",
       "  <tbody>\n",
       "    <tr>\n",
       "      <th>368</th>\n",
       "      <td>nephrosis 2</td>\n",
       "      <td>1</td>\n",
       "    </tr>\n",
       "    <tr>\n",
       "      <th>369</th>\n",
       "      <td>neutrofilo</td>\n",
       "      <td>1</td>\n",
       "    </tr>\n",
       "    <tr>\n",
       "      <th>370</th>\n",
       "      <td>glasgow coma scale</td>\n",
       "      <td>1</td>\n",
       "    </tr>\n",
       "    <tr>\n",
       "      <th>371</th>\n",
       "      <td>histiocitosis celulas langerhans</td>\n",
       "      <td>1</td>\n",
       "    </tr>\n",
       "    <tr>\n",
       "      <th>372</th>\n",
       "      <td>tropical spastic paraparesis</td>\n",
       "      <td>1</td>\n",
       "    </tr>\n",
       "  </tbody>\n",
       "</table>\n",
       "</div>"
      ],
      "text/plain": [
       "                                index  long_form\n",
       "368                       nephrosis 2          1\n",
       "369                        neutrofilo          1\n",
       "370                glasgow coma scale          1\n",
       "371  histiocitosis celulas langerhans          1\n",
       "372      tropical spastic paraparesis          1"
      ]
     },
     "execution_count": 529,
     "metadata": {},
     "output_type": "execute_result"
    }
   ],
   "source": [
    "frec2[frec2['long_form'] == 1].head()"
   ]
  },
  {
   "cell_type": "markdown",
   "metadata": {},
   "source": [
    "Let's find more text for definitions with 3 or less rows in train dataset."
   ]
  },
  {
   "cell_type": "code",
   "execution_count": 532,
   "metadata": {},
   "outputs": [],
   "source": [
    "train_lf = train.groupby('long_form').size().reset_index().rename(columns={0:'count'}).sort_values('count')\n",
    "train_lf_list = train_lf[train_lf['count'] <= 3]['long_form'].unique().tolist()"
   ]
  },
  {
   "cell_type": "code",
   "execution_count": 533,
   "metadata": {},
   "outputs": [
    {
     "data": {
      "text/plain": [
       "542"
      ]
     },
     "execution_count": 533,
     "metadata": {},
     "output_type": "execute_result"
    }
   ],
   "source": [
    "len(train_lf_list)"
   ]
  },
  {
   "cell_type": "markdown",
   "metadata": {},
   "source": [
    "List of deffinition to search in Medline"
   ]
  },
  {
   "cell_type": "code",
   "execution_count": 534,
   "metadata": {
    "collapsed": true,
    "jupyter": {
     "outputs_hidden": true
    },
    "tags": []
   },
   "outputs": [
    {
     "data": {
      "text/plain": [
       "['533dimethyl1triazenoimidazole4carboxamide',\n",
       " '5fluorouracilo',\n",
       " '99 metilendifosfonato',\n",
       " 'acido acetil salicilico',\n",
       " 'acido dexosirribonucleico',\n",
       " 'acido folinico fluorouracilo oxaliplatino',\n",
       " 'acido graso esencial',\n",
       " 'acidos grasos cadena media',\n",
       " 'acute therapy service',\n",
       " 'adenina',\n",
       " 'adenosin aminasa',\n",
       " 'adriamicina',\n",
       " 'adriamicina bleomicina vinblastina dacarbacina',\n",
       " 'agudeza visual correccion',\n",
       " 'aktiebolag',\n",
       " 'alanina aminotransferasa',\n",
       " 'alanine',\n",
       " 'alanine transaminase',\n",
       " 'alaninoaminotransferasa',\n",
       " 'albinismo oculocutaneo',\n",
       " 'alfagalactosidasa',\n",
       " 'alkaline phosphatase',\n",
       " 'american medical association',\n",
       " 'american society for parenteral and enteral nutrition',\n",
       " 'amiloide p',\n",
       " 'amiloidosis primaria',\n",
       " 'analisis inmunoabsorcion ligado enzimas',\n",
       " 'anaplastic lymphoma kinase',\n",
       " 'anatomia patologica',\n",
       " 'angiofluoresceingrafia',\n",
       " 'angioresonancia magnetica',\n",
       " 'anion bicarbonato',\n",
       " 'antagonista vitamina',\n",
       " 'anteroposterior',\n",
       " 'anticuerpo',\n",
       " 'anticuerpo citoplasmatico antineutrofilo perinuclear citoplasmatico',\n",
       " 'anticuerpo monoclonal cytokeratina 52',\n",
       " 'anticuerpos antiestreptolisina',\n",
       " 'anticuerpos antipeptido ciclico citrulinado',\n",
       " 'anticuerpos noorgano especificos',\n",
       " 'antigeno',\n",
       " 'antigeno comun leucocitario',\n",
       " 'antigeno leucocitario humano',\n",
       " 'antigeno leucocitario humano d related',\n",
       " 'antimitochondrial antibodies',\n",
       " 'aparatologia extraoral',\n",
       " 'area under the curve',\n",
       " 'argon plasma coagulation',\n",
       " 'arteria colateral cubital superficial',\n",
       " 'arteritis temporal',\n",
       " 'articulacion temporomandibular',\n",
       " 'asociacion americana lesion medular escala c',\n",
       " 'aspartato transaminasa',\n",
       " 'aspartic acid',\n",
       " 'atmosfera absoluta',\n",
       " 'augmented vector foot',\n",
       " 'autofluorescencia fondo',\n",
       " 'azoospermia factor',\n",
       " 'azoospermia factor b',\n",
       " 'azoospermia factor c',\n",
       " 'bacilo acidoalcohol resistente',\n",
       " 'balance muscular',\n",
       " 'basofilo',\n",
       " 'bcell lymphoma 6',\n",
       " 'beta',\n",
       " 'beta subunit of human chorionic gonadotropin',\n",
       " 'beta2',\n",
       " 'bicarbonato',\n",
       " 'bilirrubina directa',\n",
       " 'bilirrubina total',\n",
       " 'biomicroscopia',\n",
       " 'bioquimica',\n",
       " 'bleomicina etoposido cisplatino',\n",
       " 'blood urea nitrogen',\n",
       " 'bloqueo auriculoventricular',\n",
       " 'body packer',\n",
       " 'broncoaspiracion selectiva',\n",
       " 'calcio ionico',\n",
       " 'camara anterior',\n",
       " 'cancer antigen 125',\n",
       " 'cancer antigen 199',\n",
       " 'carbohydrate antigen 199',\n",
       " 'carcinoma celulas renales',\n",
       " 'celulas',\n",
       " 'centigray',\n",
       " 'centimetro agua',\n",
       " 'chlorine',\n",
       " 'ciclofosfamida',\n",
       " 'ciclofosfamida oncovin procarbazina prednisona',\n",
       " 'ciclofosfamida vincristina prednisona',\n",
       " 'cigarrillos',\n",
       " 'circulacion extracorporea',\n",
       " 'circumflex',\n",
       " 'cirugia bucal maxilofacial hospital general oeste',\n",
       " 'cisdiaminodicloroplatino',\n",
       " 'citoqueratina',\n",
       " 'citoqueratina 20',\n",
       " 'citoqueratina 7',\n",
       " 'clostridium difficile infection',\n",
       " 'clostridium difficile infection 3',\n",
       " 'cluster diferenciacion 117',\n",
       " 'cluster diferenciacion 15',\n",
       " 'cluster diferenciacion 30',\n",
       " 'cluster diferenciacion 31',\n",
       " 'cluster of differentiation 10',\n",
       " 'cluster of differentiation 1a',\n",
       " 'cluster of differentiation 3',\n",
       " 'cluster of differentiation 30',\n",
       " 'cluster of differentiation 31',\n",
       " 'cobalto',\n",
       " 'coding dna',\n",
       " 'coding dna sequence',\n",
       " 'company',\n",
       " 'complemento 4d',\n",
       " 'componente 3',\n",
       " 'componente 4',\n",
       " 'computerized tomography',\n",
       " 'concentracion hemoglobina corpuscular media',\n",
       " 'concentracion minima inhibitoria',\n",
       " 'continuous positive airway pressure',\n",
       " 'coronaria derecha',\n",
       " 'creatine kinase',\n",
       " 'creatinina serica',\n",
       " 'cuarta vertebra dorsal',\n",
       " 'cuarto componente complemento',\n",
       " 'cumulo diferenciacion 10',\n",
       " 'cumulo diferenciacion 15',\n",
       " 'cumulo diferenciacion 1a',\n",
       " 'cumulo diferenciacion 2',\n",
       " 'cumulo diferenciacion 20',\n",
       " 'cumulo diferenciacion 23',\n",
       " 'cumulo diferenciacion 3',\n",
       " 'cumulo diferenciacion 30',\n",
       " 'cumulo diferenciacion 4',\n",
       " 'cumulo diferenciacion 43',\n",
       " 'cumulo diferenciacion 45',\n",
       " 'cumulo diferenciacion 45ro',\n",
       " 'cumulo diferenciacion 57',\n",
       " 'cumulo diferenciacion 68',\n",
       " 'cumulo diferenciacion 79a',\n",
       " 'cumulo diferenciacion 8',\n",
       " 'cumulo diferenciacion 99',\n",
       " 'cumulo diferenciacion cd340 p185',\n",
       " 'cysteine',\n",
       " 'cytokeratin',\n",
       " 'cytokeratin 20',\n",
       " 'decima vertebra dorsal',\n",
       " 'deep inferior epigastric artery perforator',\n",
       " 'defecto pupilar aferente relativo',\n",
       " 'deficit alfa1 antitripsina',\n",
       " 'deletion',\n",
       " 'deoxyribonucleic acid',\n",
       " 'departamento',\n",
       " 'derivacion ii',\n",
       " 'desfibrilador automatico implantable',\n",
       " 'desordenes temporomandibulares',\n",
       " 'desprendimiento retina neurosensorial',\n",
       " 'dexamethasone highdose arac platinol',\n",
       " 'dia',\n",
       " 'diabetes mellitus',\n",
       " 'diabetes mellitus insulinodependiente',\n",
       " 'dialyzer clearance of urea dialysis time',\n",
       " 'diametro papilar',\n",
       " 'dioxido carbono',\n",
       " 'distrofia foveomacular viteliforme adulto',\n",
       " 'distrofia granular',\n",
       " 'distrofia miotonica tipo i',\n",
       " 'doceava vertebra dorsal',\n",
       " 'doctor',\n",
       " 'doped yttrium aluminium garnet',\n",
       " 'duodecima vertebra toracica',\n",
       " 'ecocardiograma transesofagico',\n",
       " 'ecografia',\n",
       " 'electroencefalograma',\n",
       " 'electrokardiogram',\n",
       " 'electroneurografia',\n",
       " 'emision positronestomografia computarizada',\n",
       " 'endoscopic retrograde cholangiopancreatography',\n",
       " 'enfermedad celiaca',\n",
       " 'enfermedad fabry',\n",
       " 'enteroscopia capsula endoscopica',\n",
       " 'enzima convertidora angiotensina',\n",
       " 'enzymelinked immunosorbent assay',\n",
       " 'eosinofilo',\n",
       " 'epiteliectomia conjuntival sectorial',\n",
       " 'epiteliopatia multifocal placoide posterior aguda',\n",
       " 'epsilometertest',\n",
       " 'epsteinbarr virus',\n",
       " 'escherichia',\n",
       " 'espina iliaca anteroinferior',\n",
       " 'estreptococo betahemolitico grupo',\n",
       " 'estrias angioides',\n",
       " 'et cetera',\n",
       " 'etoposide phosphate',\n",
       " 'etoposide solumedrol cisplatin highdose arac platinol',\n",
       " 'evidencia mejoria clinica',\n",
       " 'examen general orina',\n",
       " 'exceso bases',\n",
       " 'excrecion fraccional k',\n",
       " 'extracorporeal membrane oxygenation',\n",
       " 'extracorporeal shock wave lithotripsy',\n",
       " 'extractable nuclear antigen',\n",
       " 'extremidad inferior derecha',\n",
       " 'extremidad inferior izquierda',\n",
       " 'factor reumatoide',\n",
       " 'femtolitro',\n",
       " 'fibrilacion auricular',\n",
       " 'fibrillin1',\n",
       " 'fibroodontoma ameloblastico',\n",
       " 'fibrosis masiva progresiva',\n",
       " 'figura',\n",
       " 'filtrado glomerular',\n",
       " 'fistula arteriovenosa',\n",
       " 'fistula linfatica',\n",
       " 'folliclestimulating hormone',\n",
       " 'formula menstrual',\n",
       " 'fosa iliaca derecha',\n",
       " 'fosfatasa',\n",
       " 'fosfatasas alcalinas',\n",
       " 'fracaso multiorganico',\n",
       " 'fragment crystallizable',\n",
       " 'frecuencia cardiaca',\n",
       " 'frecuencia cardiaca fetal',\n",
       " 'french',\n",
       " 'frenchamericanbritish cooperative group',\n",
       " 'fusil automatico liviano',\n",
       " 'galactosidasa',\n",
       " 'gallium67',\n",
       " 'gama glutamil transferasa',\n",
       " 'gammaglutamyl transpeptidase',\n",
       " 'gasto cardiaco',\n",
       " 'gasto energetico reposo',\n",
       " 'gastrointestinal autonomic nerve tumor',\n",
       " 'gastrointestinal stromal tumor',\n",
       " 'gastrostomia endoscopica percutanea',\n",
       " 'gastrostomia percutanea',\n",
       " 'gastrostomia radiologica percutanea',\n",
       " 'glasgow coma scale',\n",
       " 'glaucoma cronico cierre angular',\n",
       " 'glial fibrilary acidic protein',\n",
       " 'globotriaosylceramida',\n",
       " 'glomeruloesclerosis focal segmentaria',\n",
       " 'gradiente albumina suero ascitis',\n",
       " 'gradientecho',\n",
       " 'granulocyte colonystimulating factor',\n",
       " 'granulocytecolony stimulating factor',\n",
       " 'guanina',\n",
       " 'guglielmi detachable coiling',\n",
       " 'hamartoma quistico retrorrectal',\n",
       " 'hemaglutinina',\n",
       " 'hemodiafiltracion venovenosa continua',\n",
       " 'hemodialfiltracion',\n",
       " 'hemodialisis',\n",
       " 'hemoglobina corpuscular media',\n",
       " 'hemorragia digestiva alta',\n",
       " 'heparina bajo peso molecular',\n",
       " 'heparininduced thrombocytopenia',\n",
       " 'herpes simplex virus',\n",
       " 'herpesvirus 6',\n",
       " 'hexafluoruro azufre',\n",
       " 'hiperautofluorescencia fondo',\n",
       " 'hiperfluorescein angiography',\n",
       " 'hiperfosfatasemia benigna transitoria infancia',\n",
       " 'hiperparatiroidismo secundario',\n",
       " 'hiperplasia procesos coronoideos mandibulares',\n",
       " 'hiperplasia prostatica benigna',\n",
       " 'hipoautofluorescencia fondo',\n",
       " 'histidine',\n",
       " 'histiocitosis celulas langerhans',\n",
       " 'historia clinica',\n",
       " 'historia enfermedad actual',\n",
       " 'horas',\n",
       " 'hospital universitario central asturias',\n",
       " 'human chorionic gonadotropin',\n",
       " 'human heart fibroblast 35',\n",
       " 'human immunodeficiency virus',\n",
       " 'human leukocyte antigen',\n",
       " 'human leukocyte antigen b27',\n",
       " 'human leukocyte antigen b7',\n",
       " 'human leukocyte antigen d related 2',\n",
       " 'human papilloma virus',\n",
       " 'human tcell leukemia virus type 1',\n",
       " 'human tcell lymphotrophic virus typei',\n",
       " 'ifosfamida etoposido metilprednisolona',\n",
       " 'immunodiffusion',\n",
       " 'improvised explosive device',\n",
       " 'indice cardiaco',\n",
       " 'indice liquido amniotico',\n",
       " 'indice tobillobrazo',\n",
       " 'infarto agudo miocardio',\n",
       " 'infecciones tracto urinario',\n",
       " 'inmunofluorescencia',\n",
       " 'inmunoglobulina g4',\n",
       " 'inmunoglobulina s',\n",
       " 'inmunohistoquimico',\n",
       " 'instituto nacional seguridad social',\n",
       " 'instituto nacional toxicologia ciencias forenses',\n",
       " 'insuficiencia limbal',\n",
       " 'insuficiencia renal',\n",
       " 'interferon alfa',\n",
       " 'interferongamma release assays',\n",
       " 'interleucina 28',\n",
       " 'international normalised ratio',\n",
       " 'international normalized ratio',\n",
       " 'janus kinase 2',\n",
       " 'kidney disease outcomes quality initiative',\n",
       " 'kilo unidad',\n",
       " 'kilogramo s',\n",
       " 'kilopascal',\n",
       " 'latent membrane protein 1',\n",
       " 'latidos',\n",
       " 'lavado broncoalveolar',\n",
       " 'lesion ocupante espacio',\n",
       " 'lesiones celulas gigantes',\n",
       " 'leucemia linfoblastica aguda',\n",
       " 'leucocito',\n",
       " 'ligamento lateral externo',\n",
       " 'ligamento lateral interno',\n",
       " 'limitacion tecnicas soporte vital',\n",
       " 'linfocito',\n",
       " 'linfoma anaplasico celulas gigantes',\n",
       " 'linfoma linfocitico b celulas pequenas',\n",
       " 'linfoma pulmonar primario',\n",
       " 'linfomas cutaneos aquellos celulas t',\n",
       " 'liposarcomas',\n",
       " 'liverkidney microsomal',\n",
       " 'lobulo inferior izquierdo',\n",
       " 'lobulo medio',\n",
       " 'lobulo superior derecho',\n",
       " 'lobulo superior izquierdo',\n",
       " 'longchain triglycerides',\n",
       " 'lupus eritematoso sistemico',\n",
       " 'luteinizing hormone',\n",
       " 'luteinizing hormonereleasing hormone',\n",
       " 'lymphocyte',\n",
       " 'magnesio',\n",
       " 'malformaciones arteriovenosas',\n",
       " 'masa celular total',\n",
       " 'mecloretamina oncovin procarbazina prednisona',\n",
       " 'mediumchain triglycerides',\n",
       " 'melanoma antigen',\n",
       " 'membrana amniotica',\n",
       " 'mercaptoetansulfonato sodico',\n",
       " 'mercurio',\n",
       " 'metacarpofalangica',\n",
       " 'metastasis',\n",
       " 'methionine',\n",
       " 'methoxy iso butil isonitrilo',\n",
       " 'meticillinaminoglicosyderesistant staphylococcus aureus',\n",
       " 'metilendifosfonato',\n",
       " 'metilendifosfonato tecnecio 99',\n",
       " 'micro unidades',\n",
       " 'micrometro',\n",
       " 'microtubuleassociated repetitive proteins 1',\n",
       " 'mieloperoxidasa',\n",
       " 'miembro inferior derecho',\n",
       " 'miembros superiores',\n",
       " 'mililitro cubico',\n",
       " 'milisegundo',\n",
       " 'milivatio',\n",
       " 'milivoltio',\n",
       " 'miocardiopatia arritmogenica ventriculo derecho',\n",
       " 'mitomicina',\n",
       " 'modified folinic acid fluorouracil and oxaliplatin',\n",
       " 'molecular adsorbent recycling system',\n",
       " 'monocito',\n",
       " 'mycobacterial interspersed repetitive units',\n",
       " 'mycobacterium',\n",
       " 'national institute of health stroke scale',\n",
       " 'necrolisis epidermica toxica',\n",
       " 'nefropatia membranosa',\n",
       " 'neodymium',\n",
       " 'neodymiumdoped yttrium aluminium garnet',\n",
       " 'nephrosis 1',\n",
       " 'nephrosis 2',\n",
       " 'neural cell adhesion molecule',\n",
       " 'neuropatia optica traumatica',\n",
       " 'neutral protamine hagedorn',\n",
       " 'neutrofilo',\n",
       " 'new jersey',\n",
       " 'new york heart association',\n",
       " 'north atlantic treaty organization',\n",
       " 'novena vertebra dorsal',\n",
       " 'nutricion enteral domiciliaria',\n",
       " 'octava vertebra dorsal',\n",
       " 'ojo izquierdo derecho',\n",
       " 'onda p onda r',\n",
       " 'onda q onda r onda s',\n",
       " 'online mendelian inheritance in man',\n",
       " 'oral transmucosal fentanyl citrate',\n",
       " 'organizacion mundial salud',\n",
       " 'organizacion nacional ciegos espana',\n",
       " 'osteoradionecrosis',\n",
       " 'otorrinolaringologia',\n",
       " 'pancytokeratin',\n",
       " 'parada cardiorrespiratoria',\n",
       " 'parathormona intacta',\n",
       " 'parathyroid hormone',\n",
       " 'particle gel immuno assay',\n",
       " 'patientcontrolled analgesia',\n",
       " 'peak expiratory flow',\n",
       " 'peginterferon',\n",
       " 'peginterferon alfa 2a',\n",
       " 'periodic acidschiff',\n",
       " 'plaqueta',\n",
       " 'platelet factor 4',\n",
       " 'polimorfonuclear',\n",
       " 'poliorquidismo',\n",
       " 'polymorphous lowgrade adenocarcinoma',\n",
       " 'porphyria cutanea tarda',\n",
       " 'porphyria cutanea tarda type ii',\n",
       " 'presion arterial',\n",
       " 'presion enclavamiento pulmonar',\n",
       " 'presion osmotica',\n",
       " 'presion parcial dioxido carbono',\n",
       " 'presion parcial oxigeno',\n",
       " 'presion venosa central',\n",
       " 'primera vertebra lumbar',\n",
       " 'procalcitonina',\n",
       " 'procollagen type 1 nterminal propeptide',\n",
       " 'programa rehabilitacion cardiaca',\n",
       " 'protein',\n",
       " 'proteina melanocito',\n",
       " 'proteinlosing gastroenteropathy',\n",
       " 'prueba funcion pulmonar',\n",
       " 'pseudoxantoma elastico',\n",
       " 'public medline',\n",
       " 'q time',\n",
       " 'queilitis granulomatosa',\n",
       " 'queratitis ulcerativa periferica',\n",
       " 'quimio',\n",
       " 'quinta vertebra dorsal',\n",
       " 'radiofrecuencia',\n",
       " 'radioterapia',\n",
       " 'rapid plasma reagin test',\n",
       " 'reaccion cadena polimerasa',\n",
       " 'real decreto',\n",
       " 'recombinante plasminogeno tisular',\n",
       " 'red cell distribution width',\n",
       " 'reflejo cutaneoplantar',\n",
       " 'reflejos osteotendinosos',\n",
       " 'remision parcial buena',\n",
       " 'remitting seronegative symmetrical synovitis with pitting oedema',\n",
       " 'resistencia vascular pulmonar',\n",
       " 'resistencia vascular sistemica',\n",
       " 'respiraciones minuto',\n",
       " 'respuesta viral sostenida',\n",
       " 'ribavirina',\n",
       " 'ribonucleoproteina',\n",
       " 'ribosomal dna',\n",
       " 'rituximab cyclophosphamide hydroxydaunomycin oncovin prednisone',\n",
       " 'sandblasted largegrit acidetched',\n",
       " 'seattle',\n",
       " 'segmento electrocardiograma onda s t',\n",
       " 'segunda vertebra cervical',\n",
       " 'segunda vertebra dorsal',\n",
       " 'septima vertebra dorsal',\n",
       " 'sequence target site',\n",
       " 'sex reverse',\n",
       " 'sexta vertebra cervical',\n",
       " 'short inversion time inversion recovery',\n",
       " 'sindrome coronario agudo elevacion segmento st',\n",
       " 'sindrome disfuncion multiorganica',\n",
       " 'sindrome dolor regional complejo',\n",
       " 'sindrome hepatorrenal',\n",
       " 'sindrome melkersson rosenthal',\n",
       " 'sindrome nefrotico congenito',\n",
       " 'sindrome primer mordisco',\n",
       " 'sindrome sezary',\n",
       " 'sistema nervioso central',\n",
       " 'sociedad anonima',\n",
       " 'sociedad espanola hematologia oncologia pediatricas',\n",
       " 'sodium voltagegated channel alpha subunit 4',\n",
       " 'somatotrophic hormone',\n",
       " 'sonda nasogastrica',\n",
       " 'species',\n",
       " 'streptococcus',\n",
       " 'subcutaneo',\n",
       " 'superficie corporal',\n",
       " 'tacto rectal',\n",
       " 'tacto vaginal',\n",
       " 'tecnecio99',\n",
       " 'tecnecio99m',\n",
       " 'temperatura',\n",
       " 'tension arterial diastolica',\n",
       " 'tension arterial media',\n",
       " 'terapia fotodinamica verteporfin',\n",
       " 'tercer componente complemento',\n",
       " 'tercera vertebra cervical',\n",
       " 'tercera vertebra dorsal',\n",
       " 'terminal deoxynucleotidyl transferase',\n",
       " 'tesla',\n",
       " 'test sangre oculta heces',\n",
       " 'threonine',\n",
       " 'thyroid peroxidase',\n",
       " 'thyroid transcription factor1',\n",
       " 'thyroxinebinding globulin',\n",
       " 'tiempo isquemia caliente',\n",
       " 'tiempo protrombina',\n",
       " 'tiempo relajacion longitudinal',\n",
       " 'tiempo relajacion transversal',\n",
       " 'tiempo tromboplastina parcial',\n",
       " 'tiopurina metiltransferasa',\n",
       " 'titanium endomedullary nail system',\n",
       " 'toxoplasma rubeola citomegalovirus herpes',\n",
       " 'trademark',\n",
       " 'transabdominal percutaneo',\n",
       " 'transaminasa glutamicooxalacetica',\n",
       " 'transaminasa glutamicopiruvica',\n",
       " 'transdermal',\n",
       " 'traumatismo craneoencefalico',\n",
       " 'tromboembolismo pulmonar',\n",
       " 'tromboplastina parcial activado',\n",
       " 'trombosis venosa profunda',\n",
       " 'tronco venoso tirolinguofacial',\n",
       " 'tropical spastic paraparesis',\n",
       " 'tubular',\n",
       " 'tumor necrosis factor',\n",
       " 'tyrosine',\n",
       " 'ultrasonido',\n",
       " 'unidad cuidados intensivos pediatrica',\n",
       " 'unidad hounsfield',\n",
       " 'unidad litro',\n",
       " 'unidad medicina intensiva',\n",
       " 'unidades',\n",
       " 'unidos',\n",
       " 'union internationale contre cancer',\n",
       " 'united states of america',\n",
       " 'velocidad eritrosedimentacion',\n",
       " 'ventilacion mecanica',\n",
       " 'ventilacion mecanica invasiva',\n",
       " 'virus hepatitis',\n",
       " 'virus hepatitis b',\n",
       " 'virus herpes simple',\n",
       " 'virus herpes simple 1',\n",
       " 'vitrectomia pars plana',\n",
       " 'volume of distribution of urea',\n",
       " 'watt',\n",
       " 'wilms tumor protein 1',\n",
       " 'x activado',\n",
       " 'ziehlnielsen',\n",
       " 'zinc finger']"
      ]
     },
     "execution_count": 534,
     "metadata": {},
     "output_type": "execute_result"
    }
   ],
   "source": [
    "sorted(train_lf_list)"
   ]
  },
  {
   "cell_type": "markdown",
   "metadata": {},
   "source": [
    "#### Medline texts"
   ]
  },
  {
   "cell_type": "code",
   "execution_count": 535,
   "metadata": {},
   "outputs": [
    {
     "data": {
      "text/html": [
       "<div>\n",
       "<style scoped>\n",
       "    .dataframe tbody tr th:only-of-type {\n",
       "        vertical-align: middle;\n",
       "    }\n",
       "\n",
       "    .dataframe tbody tr th {\n",
       "        vertical-align: top;\n",
       "    }\n",
       "\n",
       "    .dataframe thead th {\n",
       "        text-align: right;\n",
       "    }\n",
       "</style>\n",
       "<table border=\"1\" class=\"dataframe\">\n",
       "  <thead>\n",
       "    <tr style=\"text-align: right;\">\n",
       "      <th></th>\n",
       "      <th>Unnamed: 0</th>\n",
       "      <th>url</th>\n",
       "      <th>text</th>\n",
       "      <th>concept</th>\n",
       "    </tr>\n",
       "  </thead>\n",
       "  <tbody>\n",
       "    <tr>\n",
       "      <th>0</th>\n",
       "      <td>0</td>\n",
       "      <td>https://medlineplus.gov/spanish/mercury.html</td>\n",
       "      <td>\\n\\nEl mercurio es un elemento que se encuentra en el aire, el agua y el suelo. Existe en varias...</td>\n",
       "      <td>mercurio</td>\n",
       "    </tr>\n",
       "    <tr>\n",
       "      <th>1</th>\n",
       "      <td>1</td>\n",
       "      <td>https://medlineplus.gov/spanish/ency/article/002476.htm</td>\n",
       "      <td>Este artículo aborda la intoxicación por mercurio.Este artículo es solamente informativo. NO lo ...</td>\n",
       "      <td>mercurio</td>\n",
       "    </tr>\n",
       "    <tr>\n",
       "      <th>2</th>\n",
       "      <td>2</td>\n",
       "      <td>https://medlineplus.gov/spanish/ency/article/002475.htm</td>\n",
       "      <td>Es una de las formas de mercurio. También es un tipo de sal de mercurio. Hay tipos diferentes de...</td>\n",
       "      <td>mercurio</td>\n",
       "    </tr>\n",
       "    <tr>\n",
       "      <th>3</th>\n",
       "      <td>3</td>\n",
       "      <td>https://medlineplus.gov/spanish/ency/article/002474.htm</td>\n",
       "      <td>El cloruro de mercurio es una forma muy tóxica de este elemento. Se trata de un tipo de sal de m...</td>\n",
       "      <td>mercurio</td>\n",
       "    </tr>\n",
       "    <tr>\n",
       "      <th>4</th>\n",
       "      <td>4</td>\n",
       "      <td>https://medlineplus.gov/spanish/ency/article/007763.htm</td>\n",
       "      <td>Es el daño al cerebro y al sistema nervioso causado por el químico metilmercurio. Este artículo ...</td>\n",
       "      <td>mercurio</td>\n",
       "    </tr>\n",
       "  </tbody>\n",
       "</table>\n",
       "</div>"
      ],
      "text/plain": [
       "   Unnamed: 0                                                      url  \\\n",
       "0           0             https://medlineplus.gov/spanish/mercury.html   \n",
       "1           1  https://medlineplus.gov/spanish/ency/article/002476.htm   \n",
       "2           2  https://medlineplus.gov/spanish/ency/article/002475.htm   \n",
       "3           3  https://medlineplus.gov/spanish/ency/article/002474.htm   \n",
       "4           4  https://medlineplus.gov/spanish/ency/article/007763.htm   \n",
       "\n",
       "                                                                                                  text  \\\n",
       "0  \\n\\nEl mercurio es un elemento que se encuentra en el aire, el agua y el suelo. Existe en varias...   \n",
       "1  Este artículo aborda la intoxicación por mercurio.Este artículo es solamente informativo. NO lo ...   \n",
       "2  Es una de las formas de mercurio. También es un tipo de sal de mercurio. Hay tipos diferentes de...   \n",
       "3  El cloruro de mercurio es una forma muy tóxica de este elemento. Se trata de un tipo de sal de m...   \n",
       "4  Es el daño al cerebro y al sistema nervioso causado por el químico metilmercurio. Este artículo ...   \n",
       "\n",
       "    concept  \n",
       "0  mercurio  \n",
       "1  mercurio  \n",
       "2  mercurio  \n",
       "3  mercurio  \n",
       "4  mercurio  "
      ]
     },
     "execution_count": 535,
     "metadata": {},
     "output_type": "execute_result"
    }
   ],
   "source": [
    "medline = pd.read_csv(\"../data/scrapping/textos_medline_scrapping2.csv\")\n",
    "medline.head()"
   ]
  },
  {
   "cell_type": "code",
   "execution_count": 536,
   "metadata": {},
   "outputs": [
    {
     "data": {
      "text/plain": [
       "27"
      ]
     },
     "execution_count": 536,
     "metadata": {},
     "output_type": "execute_result"
    }
   ],
   "source": [
    "medline[medline['concept'].isin(train_lf_list)]['concept'].nunique()"
   ]
  },
  {
   "cell_type": "markdown",
   "metadata": {},
   "source": [
    "Just 30 deffinition have been find in Medline"
   ]
  },
  {
   "cell_type": "code",
   "execution_count": 537,
   "metadata": {},
   "outputs": [
    {
     "data": {
      "text/plain": [
       "(564, 4)"
      ]
     },
     "execution_count": 537,
     "metadata": {},
     "output_type": "execute_result"
    }
   ],
   "source": [
    "medline[medline['concept'].isin(train_lf_list)].shape"
   ]
  },
  {
   "cell_type": "code",
   "execution_count": 538,
   "metadata": {},
   "outputs": [
    {
     "data": {
      "text/html": [
       "<div>\n",
       "<style scoped>\n",
       "    .dataframe tbody tr th:only-of-type {\n",
       "        vertical-align: middle;\n",
       "    }\n",
       "\n",
       "    .dataframe tbody tr th {\n",
       "        vertical-align: top;\n",
       "    }\n",
       "\n",
       "    .dataframe thead th {\n",
       "        text-align: right;\n",
       "    }\n",
       "</style>\n",
       "<table border=\"1\" class=\"dataframe\">\n",
       "  <thead>\n",
       "    <tr style=\"text-align: right;\">\n",
       "      <th></th>\n",
       "      <th>Unnamed: 0</th>\n",
       "      <th>url</th>\n",
       "      <th>text</th>\n",
       "      <th>concept</th>\n",
       "    </tr>\n",
       "  </thead>\n",
       "  <tbody>\n",
       "    <tr>\n",
       "      <th>0</th>\n",
       "      <td>0</td>\n",
       "      <td>https://medlineplus.gov/spanish/mercury.html</td>\n",
       "      <td>\\n\\nEl mercurio es un elemento que se encuentra en el aire, el agua y el suelo. Existe en varias...</td>\n",
       "      <td>mercurio</td>\n",
       "    </tr>\n",
       "    <tr>\n",
       "      <th>1</th>\n",
       "      <td>1</td>\n",
       "      <td>https://medlineplus.gov/spanish/ency/article/002476.htm</td>\n",
       "      <td>Este artículo aborda la intoxicación por mercurio.Este artículo es solamente informativo. NO lo ...</td>\n",
       "      <td>mercurio</td>\n",
       "    </tr>\n",
       "    <tr>\n",
       "      <th>2</th>\n",
       "      <td>2</td>\n",
       "      <td>https://medlineplus.gov/spanish/ency/article/002475.htm</td>\n",
       "      <td>Es una de las formas de mercurio. También es un tipo de sal de mercurio. Hay tipos diferentes de...</td>\n",
       "      <td>mercurio</td>\n",
       "    </tr>\n",
       "    <tr>\n",
       "      <th>3</th>\n",
       "      <td>3</td>\n",
       "      <td>https://medlineplus.gov/spanish/ency/article/002474.htm</td>\n",
       "      <td>El cloruro de mercurio es una forma muy tóxica de este elemento. Se trata de un tipo de sal de m...</td>\n",
       "      <td>mercurio</td>\n",
       "    </tr>\n",
       "    <tr>\n",
       "      <th>4</th>\n",
       "      <td>4</td>\n",
       "      <td>https://medlineplus.gov/spanish/ency/article/007763.htm</td>\n",
       "      <td>Es el daño al cerebro y al sistema nervioso causado por el químico metilmercurio. Este artículo ...</td>\n",
       "      <td>mercurio</td>\n",
       "    </tr>\n",
       "  </tbody>\n",
       "</table>\n",
       "</div>"
      ],
      "text/plain": [
       "   Unnamed: 0                                                      url  \\\n",
       "0           0             https://medlineplus.gov/spanish/mercury.html   \n",
       "1           1  https://medlineplus.gov/spanish/ency/article/002476.htm   \n",
       "2           2  https://medlineplus.gov/spanish/ency/article/002475.htm   \n",
       "3           3  https://medlineplus.gov/spanish/ency/article/002474.htm   \n",
       "4           4  https://medlineplus.gov/spanish/ency/article/007763.htm   \n",
       "\n",
       "                                                                                                  text  \\\n",
       "0  \\n\\nEl mercurio es un elemento que se encuentra en el aire, el agua y el suelo. Existe en varias...   \n",
       "1  Este artículo aborda la intoxicación por mercurio.Este artículo es solamente informativo. NO lo ...   \n",
       "2  Es una de las formas de mercurio. También es un tipo de sal de mercurio. Hay tipos diferentes de...   \n",
       "3  El cloruro de mercurio es una forma muy tóxica de este elemento. Se trata de un tipo de sal de m...   \n",
       "4  Es el daño al cerebro y al sistema nervioso causado por el químico metilmercurio. Este artículo ...   \n",
       "\n",
       "    concept  \n",
       "0  mercurio  \n",
       "1  mercurio  \n",
       "2  mercurio  \n",
       "3  mercurio  \n",
       "4  mercurio  "
      ]
     },
     "execution_count": 538,
     "metadata": {},
     "output_type": "execute_result"
    }
   ],
   "source": [
    "medline[medline['concept'].isin(train_lf_list)].head()"
   ]
  },
  {
   "cell_type": "code",
   "execution_count": 539,
   "metadata": {},
   "outputs": [
    {
     "data": {
      "text/html": [
       "<div>\n",
       "<style scoped>\n",
       "    .dataframe tbody tr th:only-of-type {\n",
       "        vertical-align: middle;\n",
       "    }\n",
       "\n",
       "    .dataframe tbody tr th {\n",
       "        vertical-align: top;\n",
       "    }\n",
       "\n",
       "    .dataframe thead th {\n",
       "        text-align: right;\n",
       "    }\n",
       "</style>\n",
       "<table border=\"1\" class=\"dataframe\">\n",
       "  <thead>\n",
       "    <tr style=\"text-align: right;\">\n",
       "      <th></th>\n",
       "      <th>doc_id</th>\n",
       "      <th>texto</th>\n",
       "      <th>short_form</th>\n",
       "      <th>long_form</th>\n",
       "      <th>StartOffset</th>\n",
       "      <th>EndOffset</th>\n",
       "    </tr>\n",
       "  </thead>\n",
       "  <tbody>\n",
       "    <tr>\n",
       "      <th>0</th>\n",
       "      <td>S1130-01082006000100014-1</td>\n",
       "      <td>Se trata de una mujer de 35 años, con antecedentes familiares de enfermedad de Crohn y sin antec...</td>\n",
       "      <td>dl</td>\n",
       "      <td>decilitro</td>\n",
       "      <td>1908</td>\n",
       "      <td>1910</td>\n",
       "    </tr>\n",
       "    <tr>\n",
       "      <th>1</th>\n",
       "      <td>S1130-01082006000100014-1</td>\n",
       "      <td>Se trata de una mujer de 35 años, con antecedentes familiares de enfermedad de Crohn y sin antec...</td>\n",
       "      <td>dl</td>\n",
       "      <td>decilitro</td>\n",
       "      <td>1684</td>\n",
       "      <td>1686</td>\n",
       "    </tr>\n",
       "    <tr>\n",
       "      <th>2</th>\n",
       "      <td>S1130-01082006000100014-1</td>\n",
       "      <td>Se trata de una mujer de 35 años, con antecedentes familiares de enfermedad de Crohn y sin antec...</td>\n",
       "      <td>dl</td>\n",
       "      <td>decilitro</td>\n",
       "      <td>1656</td>\n",
       "      <td>1658</td>\n",
       "    </tr>\n",
       "    <tr>\n",
       "      <th>3</th>\n",
       "      <td>S1130-01082006000100014-1</td>\n",
       "      <td>Se trata de una mujer de 35 años, con antecedentes familiares de enfermedad de Crohn y sin antec...</td>\n",
       "      <td>dl</td>\n",
       "      <td>decilitro</td>\n",
       "      <td>1414</td>\n",
       "      <td>1416</td>\n",
       "    </tr>\n",
       "    <tr>\n",
       "      <th>12</th>\n",
       "      <td>S1130-01082006000100014-1</td>\n",
       "      <td>Se trata de una mujer de 35 años, con antecedentes familiares de enfermedad de Crohn y sin antec...</td>\n",
       "      <td>g</td>\n",
       "      <td>gramo</td>\n",
       "      <td>1654</td>\n",
       "      <td>1655</td>\n",
       "    </tr>\n",
       "  </tbody>\n",
       "</table>\n",
       "</div>"
      ],
      "text/plain": [
       "                       doc_id  \\\n",
       "0   S1130-01082006000100014-1   \n",
       "1   S1130-01082006000100014-1   \n",
       "2   S1130-01082006000100014-1   \n",
       "3   S1130-01082006000100014-1   \n",
       "12  S1130-01082006000100014-1   \n",
       "\n",
       "                                                                                                  texto  \\\n",
       "0   Se trata de una mujer de 35 años, con antecedentes familiares de enfermedad de Crohn y sin antec...   \n",
       "1   Se trata de una mujer de 35 años, con antecedentes familiares de enfermedad de Crohn y sin antec...   \n",
       "2   Se trata de una mujer de 35 años, con antecedentes familiares de enfermedad de Crohn y sin antec...   \n",
       "3   Se trata de una mujer de 35 años, con antecedentes familiares de enfermedad de Crohn y sin antec...   \n",
       "12  Se trata de una mujer de 35 años, con antecedentes familiares de enfermedad de Crohn y sin antec...   \n",
       "\n",
       "   short_form  long_form  StartOffset  EndOffset  \n",
       "0          dl  decilitro         1908       1910  \n",
       "1          dl  decilitro         1684       1686  \n",
       "2          dl  decilitro         1656       1658  \n",
       "3          dl  decilitro         1414       1416  \n",
       "12          g      gramo         1654       1655  "
      ]
     },
     "execution_count": 539,
     "metadata": {},
     "output_type": "execute_result"
    }
   ],
   "source": [
    "train.head()"
   ]
  },
  {
   "cell_type": "markdown",
   "metadata": {},
   "source": [
    "Transform Medline text with train structure"
   ]
  },
  {
   "cell_type": "code",
   "execution_count": 540,
   "metadata": {},
   "outputs": [],
   "source": [
    "med_texts = medline[medline['concept'].isin(train_lf_list)]"
   ]
  },
  {
   "cell_type": "code",
   "execution_count": 541,
   "metadata": {},
   "outputs": [],
   "source": [
    "med_texts = med_texts[['text', 'concept']].rename(columns = {'text':'texto', 'concept':'long_form'})"
   ]
  },
  {
   "cell_type": "code",
   "execution_count": 542,
   "metadata": {},
   "outputs": [],
   "source": [
    "sf_lf = train[train['long_form'].isin(train_lf_list)][['short_form', 'long_form']].set_index('long_form').to_dict()['short_form']"
   ]
  },
  {
   "cell_type": "code",
   "execution_count": 543,
   "metadata": {},
   "outputs": [],
   "source": [
    "med_texts['short_form'] = med_texts['long_form'].map(sf_lf)"
   ]
  },
  {
   "cell_type": "code",
   "execution_count": 544,
   "metadata": {},
   "outputs": [],
   "source": [
    "def replace_sf_lf(row):\n",
    "    row['texto'] = row['texto'].replace(row['long_form'], row['short_form'])\n",
    "    return row['texto']"
   ]
  },
  {
   "cell_type": "code",
   "execution_count": 545,
   "metadata": {},
   "outputs": [],
   "source": [
    "med_texts['texto'] = med_texts.apply(replace_sf_lf, axis = 1)"
   ]
  },
  {
   "cell_type": "code",
   "execution_count": 546,
   "metadata": {},
   "outputs": [
    {
     "data": {
      "text/html": [
       "<div>\n",
       "<style scoped>\n",
       "    .dataframe tbody tr th:only-of-type {\n",
       "        vertical-align: middle;\n",
       "    }\n",
       "\n",
       "    .dataframe tbody tr th {\n",
       "        vertical-align: top;\n",
       "    }\n",
       "\n",
       "    .dataframe thead th {\n",
       "        text-align: right;\n",
       "    }\n",
       "</style>\n",
       "<table border=\"1\" class=\"dataframe\">\n",
       "  <thead>\n",
       "    <tr style=\"text-align: right;\">\n",
       "      <th></th>\n",
       "      <th>texto</th>\n",
       "      <th>long_form</th>\n",
       "      <th>short_form</th>\n",
       "    </tr>\n",
       "  </thead>\n",
       "  <tbody>\n",
       "    <tr>\n",
       "      <th>0</th>\n",
       "      <td>\\n\\nEl Hg es un elemento que se encuentra en el aire, el agua y el suelo. Existe en varias forma...</td>\n",
       "      <td>mercurio</td>\n",
       "      <td>Hg</td>\n",
       "    </tr>\n",
       "    <tr>\n",
       "      <th>1</th>\n",
       "      <td>Este artículo aborda la intoxicación por Hg.Este artículo es solamente informativo. NO lo use pa...</td>\n",
       "      <td>mercurio</td>\n",
       "      <td>Hg</td>\n",
       "    </tr>\n",
       "    <tr>\n",
       "      <th>2</th>\n",
       "      <td>Es una de las formas de Hg. También es un tipo de sal de Hg. Hay tipos diferentes de intoxicació...</td>\n",
       "      <td>mercurio</td>\n",
       "      <td>Hg</td>\n",
       "    </tr>\n",
       "    <tr>\n",
       "      <th>3</th>\n",
       "      <td>El cloruro de Hg es una forma muy tóxica de este elemento. Se trata de un tipo de sal de Hg. Hay...</td>\n",
       "      <td>mercurio</td>\n",
       "      <td>Hg</td>\n",
       "    </tr>\n",
       "    <tr>\n",
       "      <th>4</th>\n",
       "      <td>Es el daño al cerebro y al sistema nervioso causado por el químico metilHg. Este artículo es sol...</td>\n",
       "      <td>mercurio</td>\n",
       "      <td>Hg</td>\n",
       "    </tr>\n",
       "  </tbody>\n",
       "</table>\n",
       "</div>"
      ],
      "text/plain": [
       "                                                                                                 texto  \\\n",
       "0  \\n\\nEl Hg es un elemento que se encuentra en el aire, el agua y el suelo. Existe en varias forma...   \n",
       "1  Este artículo aborda la intoxicación por Hg.Este artículo es solamente informativo. NO lo use pa...   \n",
       "2  Es una de las formas de Hg. También es un tipo de sal de Hg. Hay tipos diferentes de intoxicació...   \n",
       "3  El cloruro de Hg es una forma muy tóxica de este elemento. Se trata de un tipo de sal de Hg. Hay...   \n",
       "4  Es el daño al cerebro y al sistema nervioso causado por el químico metilHg. Este artículo es sol...   \n",
       "\n",
       "  long_form short_form  \n",
       "0  mercurio         Hg  \n",
       "1  mercurio         Hg  \n",
       "2  mercurio         Hg  \n",
       "3  mercurio         Hg  \n",
       "4  mercurio         Hg  "
      ]
     },
     "execution_count": 546,
     "metadata": {},
     "output_type": "execute_result"
    }
   ],
   "source": [
    "med_texts.head()"
   ]
  },
  {
   "cell_type": "code",
   "execution_count": 547,
   "metadata": {},
   "outputs": [],
   "source": [
    "def find_offset(row):\n",
    "    start_i = row['texto'].find(row['short_form'])\n",
    "    end_i = start_i + len(row['short_form'])\n",
    "    \n",
    "    return start_i, end_i   "
   ]
  },
  {
   "cell_type": "code",
   "execution_count": 548,
   "metadata": {},
   "outputs": [],
   "source": [
    "med_texts['offsets'] = med_texts.apply(find_offset, axis = 1)"
   ]
  },
  {
   "cell_type": "code",
   "execution_count": 549,
   "metadata": {},
   "outputs": [],
   "source": [
    "med_texts[['StartOffset', 'EndOffset']] = pd.DataFrame(med_texts['offsets'].tolist(), index=med_texts.index)"
   ]
  },
  {
   "cell_type": "code",
   "execution_count": 550,
   "metadata": {},
   "outputs": [],
   "source": [
    "med_texts = med_texts[['texto', 'short_form', 'long_form','StartOffset', 'EndOffset']]"
   ]
  },
  {
   "cell_type": "code",
   "execution_count": 551,
   "metadata": {},
   "outputs": [
    {
     "data": {
      "text/html": [
       "<div>\n",
       "<style scoped>\n",
       "    .dataframe tbody tr th:only-of-type {\n",
       "        vertical-align: middle;\n",
       "    }\n",
       "\n",
       "    .dataframe tbody tr th {\n",
       "        vertical-align: top;\n",
       "    }\n",
       "\n",
       "    .dataframe thead th {\n",
       "        text-align: right;\n",
       "    }\n",
       "</style>\n",
       "<table border=\"1\" class=\"dataframe\">\n",
       "  <thead>\n",
       "    <tr style=\"text-align: right;\">\n",
       "      <th></th>\n",
       "      <th>texto</th>\n",
       "      <th>short_form</th>\n",
       "      <th>long_form</th>\n",
       "      <th>StartOffset</th>\n",
       "      <th>EndOffset</th>\n",
       "    </tr>\n",
       "  </thead>\n",
       "  <tbody>\n",
       "    <tr>\n",
       "      <th>0</th>\n",
       "      <td>\\n\\nEl Hg es un elemento que se encuentra en el aire, el agua y el suelo. Existe en varias forma...</td>\n",
       "      <td>Hg</td>\n",
       "      <td>mercurio</td>\n",
       "      <td>5</td>\n",
       "      <td>7</td>\n",
       "    </tr>\n",
       "    <tr>\n",
       "      <th>1</th>\n",
       "      <td>Este artículo aborda la intoxicación por Hg.Este artículo es solamente informativo. NO lo use pa...</td>\n",
       "      <td>Hg</td>\n",
       "      <td>mercurio</td>\n",
       "      <td>41</td>\n",
       "      <td>43</td>\n",
       "    </tr>\n",
       "    <tr>\n",
       "      <th>2</th>\n",
       "      <td>Es una de las formas de Hg. También es un tipo de sal de Hg. Hay tipos diferentes de intoxicació...</td>\n",
       "      <td>Hg</td>\n",
       "      <td>mercurio</td>\n",
       "      <td>24</td>\n",
       "      <td>26</td>\n",
       "    </tr>\n",
       "    <tr>\n",
       "      <th>3</th>\n",
       "      <td>El cloruro de Hg es una forma muy tóxica de este elemento. Se trata de un tipo de sal de Hg. Hay...</td>\n",
       "      <td>Hg</td>\n",
       "      <td>mercurio</td>\n",
       "      <td>14</td>\n",
       "      <td>16</td>\n",
       "    </tr>\n",
       "    <tr>\n",
       "      <th>4</th>\n",
       "      <td>Es el daño al cerebro y al sistema nervioso causado por el químico metilHg. Este artículo es sol...</td>\n",
       "      <td>Hg</td>\n",
       "      <td>mercurio</td>\n",
       "      <td>72</td>\n",
       "      <td>74</td>\n",
       "    </tr>\n",
       "  </tbody>\n",
       "</table>\n",
       "</div>"
      ],
      "text/plain": [
       "                                                                                                 texto  \\\n",
       "0  \\n\\nEl Hg es un elemento que se encuentra en el aire, el agua y el suelo. Existe en varias forma...   \n",
       "1  Este artículo aborda la intoxicación por Hg.Este artículo es solamente informativo. NO lo use pa...   \n",
       "2  Es una de las formas de Hg. También es un tipo de sal de Hg. Hay tipos diferentes de intoxicació...   \n",
       "3  El cloruro de Hg es una forma muy tóxica de este elemento. Se trata de un tipo de sal de Hg. Hay...   \n",
       "4  Es el daño al cerebro y al sistema nervioso causado por el químico metilHg. Este artículo es sol...   \n",
       "\n",
       "  short_form long_form  StartOffset  EndOffset  \n",
       "0         Hg  mercurio            5          7  \n",
       "1         Hg  mercurio           41         43  \n",
       "2         Hg  mercurio           24         26  \n",
       "3         Hg  mercurio           14         16  \n",
       "4         Hg  mercurio           72         74  "
      ]
     },
     "execution_count": 551,
     "metadata": {},
     "output_type": "execute_result"
    }
   ],
   "source": [
    "med_texts.head()"
   ]
  },
  {
   "cell_type": "markdown",
   "metadata": {},
   "source": [
    "Concat train and Medline texts"
   ]
  },
  {
   "cell_type": "code",
   "execution_count": 552,
   "metadata": {},
   "outputs": [
    {
     "data": {
      "text/plain": [
       "(4866, 6)"
      ]
     },
     "execution_count": 552,
     "metadata": {},
     "output_type": "execute_result"
    }
   ],
   "source": [
    "train.shape"
   ]
  },
  {
   "cell_type": "code",
   "execution_count": 553,
   "metadata": {},
   "outputs": [],
   "source": [
    "train = pd.concat([train, med_texts], axis = 0)"
   ]
  },
  {
   "cell_type": "code",
   "execution_count": 554,
   "metadata": {},
   "outputs": [
    {
     "data": {
      "text/plain": [
       "(5430, 6)"
      ]
     },
     "execution_count": 554,
     "metadata": {},
     "output_type": "execute_result"
    }
   ],
   "source": [
    "train.shape"
   ]
  },
  {
   "cell_type": "code",
   "execution_count": 555,
   "metadata": {},
   "outputs": [
    {
     "data": {
      "text/html": [
       "<div>\n",
       "<style scoped>\n",
       "    .dataframe tbody tr th:only-of-type {\n",
       "        vertical-align: middle;\n",
       "    }\n",
       "\n",
       "    .dataframe tbody tr th {\n",
       "        vertical-align: top;\n",
       "    }\n",
       "\n",
       "    .dataframe thead th {\n",
       "        text-align: right;\n",
       "    }\n",
       "</style>\n",
       "<table border=\"1\" class=\"dataframe\">\n",
       "  <thead>\n",
       "    <tr style=\"text-align: right;\">\n",
       "      <th></th>\n",
       "      <th>doc_id</th>\n",
       "      <th>texto</th>\n",
       "      <th>short_form</th>\n",
       "      <th>long_form</th>\n",
       "      <th>StartOffset</th>\n",
       "      <th>EndOffset</th>\n",
       "    </tr>\n",
       "  </thead>\n",
       "  <tbody>\n",
       "    <tr>\n",
       "      <th>0</th>\n",
       "      <td>S1130-01082006000100014-1</td>\n",
       "      <td>Se trata de una mujer de 35 años, con antecedentes familiares de enfermedad de Crohn y sin antec...</td>\n",
       "      <td>dl</td>\n",
       "      <td>decilitro</td>\n",
       "      <td>1908</td>\n",
       "      <td>1910</td>\n",
       "    </tr>\n",
       "    <tr>\n",
       "      <th>1</th>\n",
       "      <td>S1130-01082006000100014-1</td>\n",
       "      <td>Se trata de una mujer de 35 años, con antecedentes familiares de enfermedad de Crohn y sin antec...</td>\n",
       "      <td>dl</td>\n",
       "      <td>decilitro</td>\n",
       "      <td>1684</td>\n",
       "      <td>1686</td>\n",
       "    </tr>\n",
       "    <tr>\n",
       "      <th>2</th>\n",
       "      <td>S1130-01082006000100014-1</td>\n",
       "      <td>Se trata de una mujer de 35 años, con antecedentes familiares de enfermedad de Crohn y sin antec...</td>\n",
       "      <td>dl</td>\n",
       "      <td>decilitro</td>\n",
       "      <td>1656</td>\n",
       "      <td>1658</td>\n",
       "    </tr>\n",
       "    <tr>\n",
       "      <th>3</th>\n",
       "      <td>S1130-01082006000100014-1</td>\n",
       "      <td>Se trata de una mujer de 35 años, con antecedentes familiares de enfermedad de Crohn y sin antec...</td>\n",
       "      <td>dl</td>\n",
       "      <td>decilitro</td>\n",
       "      <td>1414</td>\n",
       "      <td>1416</td>\n",
       "    </tr>\n",
       "    <tr>\n",
       "      <th>4</th>\n",
       "      <td>S1130-01082006000100014-1</td>\n",
       "      <td>Se trata de una mujer de 35 años, con antecedentes familiares de enfermedad de Crohn y sin antec...</td>\n",
       "      <td>g</td>\n",
       "      <td>gramo</td>\n",
       "      <td>1654</td>\n",
       "      <td>1655</td>\n",
       "    </tr>\n",
       "  </tbody>\n",
       "</table>\n",
       "</div>"
      ],
      "text/plain": [
       "                      doc_id  \\\n",
       "0  S1130-01082006000100014-1   \n",
       "1  S1130-01082006000100014-1   \n",
       "2  S1130-01082006000100014-1   \n",
       "3  S1130-01082006000100014-1   \n",
       "4  S1130-01082006000100014-1   \n",
       "\n",
       "                                                                                                 texto  \\\n",
       "0  Se trata de una mujer de 35 años, con antecedentes familiares de enfermedad de Crohn y sin antec...   \n",
       "1  Se trata de una mujer de 35 años, con antecedentes familiares de enfermedad de Crohn y sin antec...   \n",
       "2  Se trata de una mujer de 35 años, con antecedentes familiares de enfermedad de Crohn y sin antec...   \n",
       "3  Se trata de una mujer de 35 años, con antecedentes familiares de enfermedad de Crohn y sin antec...   \n",
       "4  Se trata de una mujer de 35 años, con antecedentes familiares de enfermedad de Crohn y sin antec...   \n",
       "\n",
       "  short_form  long_form  StartOffset  EndOffset  \n",
       "0         dl  decilitro         1908       1910  \n",
       "1         dl  decilitro         1684       1686  \n",
       "2         dl  decilitro         1656       1658  \n",
       "3         dl  decilitro         1414       1416  \n",
       "4          g      gramo         1654       1655  "
      ]
     },
     "execution_count": 555,
     "metadata": {},
     "output_type": "execute_result"
    }
   ],
   "source": [
    "train.reset_index(inplace = True, drop = True)\n",
    "train.head()"
   ]
  },
  {
   "cell_type": "markdown",
   "metadata": {},
   "source": [
    "Check how many deffinition have low texts"
   ]
  },
  {
   "cell_type": "code",
   "execution_count": 556,
   "metadata": {},
   "outputs": [],
   "source": [
    "frec3 = train['long_form'].value_counts().reset_index()"
   ]
  },
  {
   "cell_type": "code",
   "execution_count": 557,
   "metadata": {},
   "outputs": [
    {
     "data": {
      "image/png": "[encoded data removed]",
      "text/plain": [
       "<Figure size 432x288 with 1 Axes>"
      ]
     },
     "metadata": {
      "needs_background": "light"
     },
     "output_type": "display_data"
    }
   ],
   "source": [
    "table = pd.crosstab(frec2['long_form'], columns = 'Count')\n",
    "table.plot.bar()\n",
    "plt.title('Number of deffinition records train')\n",
    "plt.show()"
   ]
  },
  {
   "cell_type": "code",
   "execution_count": 558,
   "metadata": {},
   "outputs": [
    {
     "data": {
      "image/png": "[encoded data removed]",
      "text/plain": [
       "<Figure size 432x288 with 1 Axes>"
      ]
     },
     "metadata": {
      "needs_background": "light"
     },
     "output_type": "display_data"
    }
   ],
   "source": [
    "table = pd.crosstab(frec3['long_form'], columns = 'Count')\n",
    "table.plot.bar()\n",
    "plt.title('Number of deffinition records after adding Medline texts to train')\n",
    "plt.show()"
   ]
  },
  {
   "cell_type": "code",
   "execution_count": 675,
   "metadata": {},
   "outputs": [],
   "source": [
    "lf_low = set(train_lf_list)"
   ]
  },
  {
   "cell_type": "code",
   "execution_count": 677,
   "metadata": {},
   "outputs": [],
   "source": [
    "lf_inmedline = set(medline[medline['concept'].isin(train_lf_list)]['concept'].unique().tolist())"
   ]
  },
  {
   "cell_type": "code",
   "execution_count": 679,
   "metadata": {
    "collapsed": true,
    "jupyter": {
     "outputs_hidden": true
    },
    "tags": []
   },
   "outputs": [
    {
     "data": {
      "text/plain": [
       "{'533dimethyl1triazenoimidazole4carboxamide',\n",
       " '5fluorouracilo',\n",
       " '99 metilendifosfonato',\n",
       " 'acido acetil salicilico',\n",
       " 'acido dexosirribonucleico',\n",
       " 'acido folinico fluorouracilo oxaliplatino',\n",
       " 'acido graso esencial',\n",
       " 'acidos grasos cadena media',\n",
       " 'acute therapy service',\n",
       " 'adenina',\n",
       " 'adenosin aminasa',\n",
       " 'adriamicina',\n",
       " 'adriamicina bleomicina vinblastina dacarbacina',\n",
       " 'agudeza visual correccion',\n",
       " 'aktiebolag',\n",
       " 'alanine',\n",
       " 'alaninoaminotransferasa',\n",
       " 'albinismo oculocutaneo',\n",
       " 'alfagalactosidasa',\n",
       " 'alkaline phosphatase',\n",
       " 'american society for parenteral and enteral nutrition',\n",
       " 'amiloide p',\n",
       " 'amiloidosis primaria',\n",
       " 'analisis inmunoabsorcion ligado enzimas',\n",
       " 'anaplastic lymphoma kinase',\n",
       " 'anatomia patologica',\n",
       " 'angiofluoresceingrafia',\n",
       " 'angioresonancia magnetica',\n",
       " 'anion bicarbonato',\n",
       " 'antagonista vitamina',\n",
       " 'anteroposterior',\n",
       " 'anticuerpo',\n",
       " 'anticuerpo citoplasmatico antineutrofilo perinuclear citoplasmatico',\n",
       " 'anticuerpo monoclonal cytokeratina 52',\n",
       " 'anticuerpos antiestreptolisina',\n",
       " 'anticuerpos antipeptido ciclico citrulinado',\n",
       " 'anticuerpos noorgano especificos',\n",
       " 'antigeno',\n",
       " 'antigeno comun leucocitario',\n",
       " 'antigeno leucocitario humano d related',\n",
       " 'antimitochondrial antibodies',\n",
       " 'aparatologia extraoral',\n",
       " 'area under the curve',\n",
       " 'argon plasma coagulation',\n",
       " 'arteria colateral cubital superficial',\n",
       " 'arteritis temporal',\n",
       " 'articulacion temporomandibular',\n",
       " 'asociacion americana lesion medular escala c',\n",
       " 'aspartic acid',\n",
       " 'atmosfera absoluta',\n",
       " 'augmented vector foot',\n",
       " 'autofluorescencia fondo',\n",
       " 'azoospermia factor',\n",
       " 'azoospermia factor b',\n",
       " 'azoospermia factor c',\n",
       " 'bacilo acidoalcohol resistente',\n",
       " 'balance muscular',\n",
       " 'bcell lymphoma 6',\n",
       " 'beta subunit of human chorionic gonadotropin',\n",
       " 'beta2',\n",
       " 'bicarbonato',\n",
       " 'bilirrubina directa',\n",
       " 'bilirrubina total',\n",
       " 'biomicroscopia',\n",
       " 'bioquimica',\n",
       " 'bleomicina etoposido cisplatino',\n",
       " 'blood urea nitrogen',\n",
       " 'bloqueo auriculoventricular',\n",
       " 'body packer',\n",
       " 'broncoaspiracion selectiva',\n",
       " 'calcio ionico',\n",
       " 'cancer antigen 125',\n",
       " 'cancer antigen 199',\n",
       " 'carbohydrate antigen 199',\n",
       " 'carcinoma celulas renales',\n",
       " 'celulas',\n",
       " 'centigray',\n",
       " 'centimetro agua',\n",
       " 'chlorine',\n",
       " 'ciclofosfamida',\n",
       " 'ciclofosfamida oncovin procarbazina prednisona',\n",
       " 'ciclofosfamida vincristina prednisona',\n",
       " 'cigarrillos',\n",
       " 'circulacion extracorporea',\n",
       " 'circumflex',\n",
       " 'cirugia bucal maxilofacial hospital general oeste',\n",
       " 'cisdiaminodicloroplatino',\n",
       " 'citoqueratina',\n",
       " 'citoqueratina 20',\n",
       " 'citoqueratina 7',\n",
       " 'clostridium difficile infection',\n",
       " 'clostridium difficile infection 3',\n",
       " 'cluster diferenciacion 117',\n",
       " 'cluster diferenciacion 15',\n",
       " 'cluster diferenciacion 30',\n",
       " 'cluster diferenciacion 31',\n",
       " 'cluster of differentiation 10',\n",
       " 'cluster of differentiation 1a',\n",
       " 'cluster of differentiation 3',\n",
       " 'cluster of differentiation 30',\n",
       " 'cluster of differentiation 31',\n",
       " 'cobalto',\n",
       " 'coding dna',\n",
       " 'coding dna sequence',\n",
       " 'company',\n",
       " 'complemento 4d',\n",
       " 'computerized tomography',\n",
       " 'concentracion hemoglobina corpuscular media',\n",
       " 'concentracion minima inhibitoria',\n",
       " 'continuous positive airway pressure',\n",
       " 'coronaria derecha',\n",
       " 'creatinina serica',\n",
       " 'cuarta vertebra dorsal',\n",
       " 'cuarto componente complemento',\n",
       " 'cumulo diferenciacion 10',\n",
       " 'cumulo diferenciacion 15',\n",
       " 'cumulo diferenciacion 1a',\n",
       " 'cumulo diferenciacion 2',\n",
       " 'cumulo diferenciacion 20',\n",
       " 'cumulo diferenciacion 23',\n",
       " 'cumulo diferenciacion 3',\n",
       " 'cumulo diferenciacion 30',\n",
       " 'cumulo diferenciacion 4',\n",
       " 'cumulo diferenciacion 43',\n",
       " 'cumulo diferenciacion 45',\n",
       " 'cumulo diferenciacion 45ro',\n",
       " 'cumulo diferenciacion 57',\n",
       " 'cumulo diferenciacion 68',\n",
       " 'cumulo diferenciacion 79a',\n",
       " 'cumulo diferenciacion 8',\n",
       " 'cumulo diferenciacion 99',\n",
       " 'cumulo diferenciacion cd340 p185',\n",
       " 'cytokeratin',\n",
       " 'cytokeratin 20',\n",
       " 'decima vertebra dorsal',\n",
       " 'deep inferior epigastric artery perforator',\n",
       " 'defecto pupilar aferente relativo',\n",
       " 'deficit alfa1 antitripsina',\n",
       " 'deletion',\n",
       " 'deoxyribonucleic acid',\n",
       " 'departamento',\n",
       " 'derivacion ii',\n",
       " 'desfibrilador automatico implantable',\n",
       " 'desordenes temporomandibulares',\n",
       " 'desprendimiento retina neurosensorial',\n",
       " 'dexamethasone highdose arac platinol',\n",
       " 'dia',\n",
       " 'diabetes mellitus',\n",
       " 'diabetes mellitus insulinodependiente',\n",
       " 'dialyzer clearance of urea dialysis time',\n",
       " 'diametro papilar',\n",
       " 'dioxido carbono',\n",
       " 'distrofia foveomacular viteliforme adulto',\n",
       " 'distrofia granular',\n",
       " 'distrofia miotonica tipo i',\n",
       " 'doceava vertebra dorsal',\n",
       " 'doctor',\n",
       " 'doped yttrium aluminium garnet',\n",
       " 'duodecima vertebra toracica',\n",
       " 'ecocardiograma transesofagico',\n",
       " 'ecografia',\n",
       " 'electroencefalograma',\n",
       " 'electrokardiogram',\n",
       " 'electroneurografia',\n",
       " 'emision positronestomografia computarizada',\n",
       " 'endoscopic retrograde cholangiopancreatography',\n",
       " 'enfermedad celiaca',\n",
       " 'enfermedad fabry',\n",
       " 'enteroscopia capsula endoscopica',\n",
       " 'enzima convertidora angiotensina',\n",
       " 'enzymelinked immunosorbent assay',\n",
       " 'eosinofilo',\n",
       " 'epiteliectomia conjuntival sectorial',\n",
       " 'epiteliopatia multifocal placoide posterior aguda',\n",
       " 'epsilometertest',\n",
       " 'epsteinbarr virus',\n",
       " 'escherichia',\n",
       " 'espina iliaca anteroinferior',\n",
       " 'estreptococo betahemolitico grupo',\n",
       " 'estrias angioides',\n",
       " 'et cetera',\n",
       " 'etoposide phosphate',\n",
       " 'etoposide solumedrol cisplatin highdose arac platinol',\n",
       " 'evidencia mejoria clinica',\n",
       " 'examen general orina',\n",
       " 'exceso bases',\n",
       " 'excrecion fraccional k',\n",
       " 'extracorporeal membrane oxygenation',\n",
       " 'extracorporeal shock wave lithotripsy',\n",
       " 'extractable nuclear antigen',\n",
       " 'extremidad inferior derecha',\n",
       " 'extremidad inferior izquierda',\n",
       " 'factor reumatoide',\n",
       " 'femtolitro',\n",
       " 'fibrillin1',\n",
       " 'fibroodontoma ameloblastico',\n",
       " 'fibrosis masiva progresiva',\n",
       " 'figura',\n",
       " 'filtrado glomerular',\n",
       " 'fistula arteriovenosa',\n",
       " 'fistula linfatica',\n",
       " 'folliclestimulating hormone',\n",
       " 'formula menstrual',\n",
       " 'fosa iliaca derecha',\n",
       " 'fosfatasa',\n",
       " 'fosfatasas alcalinas',\n",
       " 'fracaso multiorganico',\n",
       " 'fragment crystallizable',\n",
       " 'frecuencia cardiaca fetal',\n",
       " 'french',\n",
       " 'frenchamericanbritish cooperative group',\n",
       " 'fusil automatico liviano',\n",
       " 'galactosidasa',\n",
       " 'gallium67',\n",
       " 'gama glutamil transferasa',\n",
       " 'gammaglutamyl transpeptidase',\n",
       " 'gasto cardiaco',\n",
       " 'gasto energetico reposo',\n",
       " 'gastrointestinal autonomic nerve tumor',\n",
       " 'gastrointestinal stromal tumor',\n",
       " 'gastrostomia endoscopica percutanea',\n",
       " 'gastrostomia percutanea',\n",
       " 'gastrostomia radiologica percutanea',\n",
       " 'glasgow coma scale',\n",
       " 'glaucoma cronico cierre angular',\n",
       " 'glial fibrilary acidic protein',\n",
       " 'globotriaosylceramida',\n",
       " 'glomeruloesclerosis focal segmentaria',\n",
       " 'gradiente albumina suero ascitis',\n",
       " 'gradientecho',\n",
       " 'granulocyte colonystimulating factor',\n",
       " 'granulocytecolony stimulating factor',\n",
       " 'guanina',\n",
       " 'guglielmi detachable coiling',\n",
       " 'hamartoma quistico retrorrectal',\n",
       " 'hemaglutinina',\n",
       " 'hemodiafiltracion venovenosa continua',\n",
       " 'hemodialfiltracion',\n",
       " 'hemodialisis',\n",
       " 'hemoglobina corpuscular media',\n",
       " 'hemorragia digestiva alta',\n",
       " 'heparina bajo peso molecular',\n",
       " 'heparininduced thrombocytopenia',\n",
       " 'herpes simplex virus',\n",
       " 'herpesvirus 6',\n",
       " 'hexafluoruro azufre',\n",
       " 'hiperautofluorescencia fondo',\n",
       " 'hiperfluorescein angiography',\n",
       " 'hiperfosfatasemia benigna transitoria infancia',\n",
       " 'hiperparatiroidismo secundario',\n",
       " 'hiperplasia procesos coronoideos mandibulares',\n",
       " 'hiperplasia prostatica benigna',\n",
       " 'hipoautofluorescencia fondo',\n",
       " 'histidine',\n",
       " 'histiocitosis celulas langerhans',\n",
       " 'historia clinica',\n",
       " 'historia enfermedad actual',\n",
       " 'hospital universitario central asturias',\n",
       " 'human chorionic gonadotropin',\n",
       " 'human heart fibroblast 35',\n",
       " 'human immunodeficiency virus',\n",
       " 'human leukocyte antigen',\n",
       " 'human leukocyte antigen b27',\n",
       " 'human leukocyte antigen b7',\n",
       " 'human leukocyte antigen d related 2',\n",
       " 'human papilloma virus',\n",
       " 'human tcell leukemia virus type 1',\n",
       " 'human tcell lymphotrophic virus typei',\n",
       " 'ifosfamida etoposido metilprednisolona',\n",
       " 'immunodiffusion',\n",
       " 'improvised explosive device',\n",
       " 'indice cardiaco',\n",
       " 'indice liquido amniotico',\n",
       " 'indice tobillobrazo',\n",
       " 'infarto agudo miocardio',\n",
       " 'infecciones tracto urinario',\n",
       " 'inmunofluorescencia',\n",
       " 'inmunoglobulina g4',\n",
       " 'inmunoglobulina s',\n",
       " 'inmunohistoquimico',\n",
       " 'instituto nacional seguridad social',\n",
       " 'instituto nacional toxicologia ciencias forenses',\n",
       " 'insuficiencia limbal',\n",
       " 'insuficiencia renal',\n",
       " 'interferon alfa',\n",
       " 'interferongamma release assays',\n",
       " 'interleucina 28',\n",
       " 'international normalised ratio',\n",
       " 'international normalized ratio',\n",
       " 'janus kinase 2',\n",
       " 'kidney disease outcomes quality initiative',\n",
       " 'kilo unidad',\n",
       " 'kilogramo s',\n",
       " 'kilopascal',\n",
       " 'latent membrane protein 1',\n",
       " 'latidos',\n",
       " 'lavado broncoalveolar',\n",
       " 'lesion ocupante espacio',\n",
       " 'lesiones celulas gigantes',\n",
       " 'leucemia linfoblastica aguda',\n",
       " 'ligamento lateral externo',\n",
       " 'ligamento lateral interno',\n",
       " 'limitacion tecnicas soporte vital',\n",
       " 'linfoma anaplasico celulas gigantes',\n",
       " 'linfoma linfocitico b celulas pequenas',\n",
       " 'linfoma pulmonar primario',\n",
       " 'linfomas cutaneos aquellos celulas t',\n",
       " 'liposarcomas',\n",
       " 'liverkidney microsomal',\n",
       " 'lobulo inferior izquierdo',\n",
       " 'lobulo medio',\n",
       " 'lobulo superior derecho',\n",
       " 'lobulo superior izquierdo',\n",
       " 'longchain triglycerides',\n",
       " 'lupus eritematoso sistemico',\n",
       " 'luteinizing hormonereleasing hormone',\n",
       " 'lymphocyte',\n",
       " 'magnesio',\n",
       " 'malformaciones arteriovenosas',\n",
       " 'masa celular total',\n",
       " 'mecloretamina oncovin procarbazina prednisona',\n",
       " 'mediumchain triglycerides',\n",
       " 'melanoma antigen',\n",
       " 'membrana amniotica',\n",
       " 'mercaptoetansulfonato sodico',\n",
       " 'metacarpofalangica',\n",
       " 'metastasis',\n",
       " 'methionine',\n",
       " 'methoxy iso butil isonitrilo',\n",
       " 'meticillinaminoglicosyderesistant staphylococcus aureus',\n",
       " 'metilendifosfonato',\n",
       " 'metilendifosfonato tecnecio 99',\n",
       " 'micro unidades',\n",
       " 'micrometro',\n",
       " 'microtubuleassociated repetitive proteins 1',\n",
       " 'mieloperoxidasa',\n",
       " 'miembro inferior derecho',\n",
       " 'miembros superiores',\n",
       " 'mililitro cubico',\n",
       " 'milisegundo',\n",
       " 'milivatio',\n",
       " 'milivoltio',\n",
       " 'miocardiopatia arritmogenica ventriculo derecho',\n",
       " 'mitomicina',\n",
       " 'modified folinic acid fluorouracil and oxaliplatin',\n",
       " 'molecular adsorbent recycling system',\n",
       " 'monocito',\n",
       " 'mycobacterial interspersed repetitive units',\n",
       " 'mycobacterium',\n",
       " 'national institute of health stroke scale',\n",
       " 'necrolisis epidermica toxica',\n",
       " 'nefropatia membranosa',\n",
       " 'neodymium',\n",
       " 'neodymiumdoped yttrium aluminium garnet',\n",
       " 'nephrosis 1',\n",
       " 'nephrosis 2',\n",
       " 'neural cell adhesion molecule',\n",
       " 'neuropatia optica traumatica',\n",
       " 'neutral protamine hagedorn',\n",
       " 'neutrofilo',\n",
       " 'new jersey',\n",
       " 'new york heart association',\n",
       " 'north atlantic treaty organization',\n",
       " 'novena vertebra dorsal',\n",
       " 'nutricion enteral domiciliaria',\n",
       " 'octava vertebra dorsal',\n",
       " 'ojo izquierdo derecho',\n",
       " 'onda p onda r',\n",
       " 'onda q onda r onda s',\n",
       " 'online mendelian inheritance in man',\n",
       " 'oral transmucosal fentanyl citrate',\n",
       " 'organizacion mundial salud',\n",
       " 'organizacion nacional ciegos espana',\n",
       " 'osteoradionecrosis',\n",
       " 'otorrinolaringologia',\n",
       " 'pancytokeratin',\n",
       " 'parada cardiorrespiratoria',\n",
       " 'parathormona intacta',\n",
       " 'particle gel immuno assay',\n",
       " 'patientcontrolled analgesia',\n",
       " 'peak expiratory flow',\n",
       " 'peginterferon',\n",
       " 'peginterferon alfa 2a',\n",
       " 'periodic acidschiff',\n",
       " 'plaqueta',\n",
       " 'platelet factor 4',\n",
       " 'polimorfonuclear',\n",
       " 'poliorquidismo',\n",
       " 'polymorphous lowgrade adenocarcinoma',\n",
       " 'porphyria cutanea tarda type ii',\n",
       " 'presion arterial',\n",
       " 'presion enclavamiento pulmonar',\n",
       " 'presion osmotica',\n",
       " 'presion parcial dioxido carbono',\n",
       " 'presion parcial oxigeno',\n",
       " 'presion venosa central',\n",
       " 'primera vertebra lumbar',\n",
       " 'procollagen type 1 nterminal propeptide',\n",
       " 'programa rehabilitacion cardiaca',\n",
       " 'protein',\n",
       " 'proteina melanocito',\n",
       " 'proteinlosing gastroenteropathy',\n",
       " 'prueba funcion pulmonar',\n",
       " 'pseudoxantoma elastico',\n",
       " 'public medline',\n",
       " 'q time',\n",
       " 'queilitis granulomatosa',\n",
       " 'queratitis ulcerativa periferica',\n",
       " 'quimio',\n",
       " 'quinta vertebra dorsal',\n",
       " 'radiofrecuencia',\n",
       " 'radioterapia',\n",
       " 'rapid plasma reagin test',\n",
       " 'reaccion cadena polimerasa',\n",
       " 'real decreto',\n",
       " 'recombinante plasminogeno tisular',\n",
       " 'red cell distribution width',\n",
       " 'reflejo cutaneoplantar',\n",
       " 'reflejos osteotendinosos',\n",
       " 'remision parcial buena',\n",
       " 'remitting seronegative symmetrical synovitis with pitting oedema',\n",
       " 'resistencia vascular pulmonar',\n",
       " 'resistencia vascular sistemica',\n",
       " 'respiraciones minuto',\n",
       " 'respuesta viral sostenida',\n",
       " 'ribavirina',\n",
       " 'ribonucleoproteina',\n",
       " 'ribosomal dna',\n",
       " 'rituximab cyclophosphamide hydroxydaunomycin oncovin prednisone',\n",
       " 'sandblasted largegrit acidetched',\n",
       " 'segmento electrocardiograma onda s t',\n",
       " 'segunda vertebra cervical',\n",
       " 'segunda vertebra dorsal',\n",
       " 'septima vertebra dorsal',\n",
       " 'sequence target site',\n",
       " 'sex reverse',\n",
       " 'sexta vertebra cervical',\n",
       " 'short inversion time inversion recovery',\n",
       " 'sindrome coronario agudo elevacion segmento st',\n",
       " 'sindrome disfuncion multiorganica',\n",
       " 'sindrome dolor regional complejo',\n",
       " 'sindrome hepatorrenal',\n",
       " 'sindrome melkersson rosenthal',\n",
       " 'sindrome primer mordisco',\n",
       " 'sindrome sezary',\n",
       " 'sociedad anonima',\n",
       " 'sociedad espanola hematologia oncologia pediatricas',\n",
       " 'sodium voltagegated channel alpha subunit 4',\n",
       " 'somatotrophic hormone',\n",
       " 'sonda nasogastrica',\n",
       " 'species',\n",
       " 'streptococcus',\n",
       " 'subcutaneo',\n",
       " 'superficie corporal',\n",
       " 'tacto rectal',\n",
       " 'tacto vaginal',\n",
       " 'tecnecio99',\n",
       " 'tecnecio99m',\n",
       " 'temperatura',\n",
       " 'tension arterial diastolica',\n",
       " 'tension arterial media',\n",
       " 'terapia fotodinamica verteporfin',\n",
       " 'tercer componente complemento',\n",
       " 'tercera vertebra cervical',\n",
       " 'tercera vertebra dorsal',\n",
       " 'terminal deoxynucleotidyl transferase',\n",
       " 'tesla',\n",
       " 'test sangre oculta heces',\n",
       " 'threonine',\n",
       " 'thyroid peroxidase',\n",
       " 'thyroid transcription factor1',\n",
       " 'thyroxinebinding globulin',\n",
       " 'tiempo isquemia caliente',\n",
       " 'tiempo protrombina',\n",
       " 'tiempo relajacion longitudinal',\n",
       " 'tiempo relajacion transversal',\n",
       " 'tiempo tromboplastina parcial',\n",
       " 'tiopurina metiltransferasa',\n",
       " 'titanium endomedullary nail system',\n",
       " 'toxoplasma rubeola citomegalovirus herpes',\n",
       " 'trademark',\n",
       " 'transabdominal percutaneo',\n",
       " 'transaminasa glutamicooxalacetica',\n",
       " 'transaminasa glutamicopiruvica',\n",
       " 'transdermal',\n",
       " 'traumatismo craneoencefalico',\n",
       " 'tromboembolismo pulmonar',\n",
       " 'tromboplastina parcial activado',\n",
       " 'trombosis venosa profunda',\n",
       " 'tronco venoso tirolinguofacial',\n",
       " 'tropical spastic paraparesis',\n",
       " 'tumor necrosis factor',\n",
       " 'tyrosine',\n",
       " 'ultrasonido',\n",
       " 'unidad cuidados intensivos pediatrica',\n",
       " 'unidad hounsfield',\n",
       " 'unidad litro',\n",
       " 'unidad medicina intensiva',\n",
       " 'unidos',\n",
       " 'union internationale contre cancer',\n",
       " 'united states of america',\n",
       " 'velocidad eritrosedimentacion',\n",
       " 'ventilacion mecanica',\n",
       " 'ventilacion mecanica invasiva',\n",
       " 'virus hepatitis',\n",
       " 'virus hepatitis b',\n",
       " 'virus herpes simple',\n",
       " 'virus herpes simple 1',\n",
       " 'vitrectomia pars plana',\n",
       " 'volume of distribution of urea',\n",
       " 'watt',\n",
       " 'wilms tumor protein 1',\n",
       " 'x activado',\n",
       " 'ziehlnielsen',\n",
       " 'zinc finger'}"
      ]
     },
     "execution_count": 679,
     "metadata": {},
     "output_type": "execute_result"
    }
   ],
   "source": [
    "lf_low ^ lf_inmedline"
   ]
  },
  {
   "cell_type": "markdown",
   "metadata": {},
   "source": [
    "Transform dataframe to a list of dictionaries"
   ]
  },
  {
   "cell_type": "code",
   "execution_count": 559,
   "metadata": {},
   "outputs": [],
   "source": [
    "train_data = train[['doc_id', 'texto', 'short_form', 'long_form', 'StartOffset', 'EndOffset']].to_dict('records')"
   ]
  },
  {
   "cell_type": "markdown",
   "metadata": {},
   "source": [
    "### Get the text before and after the SF"
   ]
  },
  {
   "cell_type": "code",
   "execution_count": 560,
   "metadata": {},
   "outputs": [],
   "source": [
    "train_ndata, sf_not_found = get_f_b_context_text(train_data)"
   ]
  },
  {
   "cell_type": "markdown",
   "metadata": {},
   "source": [
    "Check if any SF is not founded in the text"
   ]
  },
  {
   "cell_type": "code",
   "execution_count": 561,
   "metadata": {},
   "outputs": [],
   "source": [
    "sf_not_found_set = set(sf_not_found)"
   ]
  },
  {
   "cell_type": "code",
   "execution_count": 562,
   "metadata": {},
   "outputs": [
    {
     "data": {
      "text/plain": [
       "15"
      ]
     },
     "execution_count": 562,
     "metadata": {},
     "output_type": "execute_result"
    }
   ],
   "source": [
    "len(sf_not_found_set)"
   ]
  },
  {
   "cell_type": "markdown",
   "metadata": {},
   "source": [
    "Execute this code just in case clean the texts are needed: remove string punctuation, accents, lower case, remove double spaces, separate numbers from sf"
   ]
  },
  {
   "cell_type": "code",
   "execution_count": 563,
   "metadata": {},
   "outputs": [],
   "source": [
    "# def clean_text_after(data):\n",
    "    \n",
    "#     for instance in data:\n",
    "#         instance[1] = clean_text(instance[1]).lower()\n",
    "#         instance[2] = clean_text(instance[2]).lower()\n",
    "#         instance[1] = re.sub(r'(\\d+)', r'\\g<1> ', instance[1]) #metemos espacio entre número y acrónimos que quedan pegados    \n",
    "#         instance[2] = re.sub(r'(\\d+)', r'\\g<1> ', instance[2])\n",
    "#         instance[1] = re.sub(r'\\s+', ' ', instance[1]).strip()\n",
    "#         instance[2] = re.sub(r'\\s+', ' ', instance[2]).strip()\n",
    "#     return data\n",
    "        "
   ]
  },
  {
   "cell_type": "code",
   "execution_count": 564,
   "metadata": {},
   "outputs": [],
   "source": [
    "# train_ndata = clean_text_after(train_ndata)"
   ]
  },
  {
   "cell_type": "markdown",
   "metadata": {},
   "source": [
    "### Get the contexts "
   ]
  },
  {
   "cell_type": "markdown",
   "metadata": {},
   "source": [
    "From the texts before and after the sf, we limit the number of words"
   ]
  },
  {
   "cell_type": "code",
   "execution_count": 565,
   "metadata": {},
   "outputs": [],
   "source": [
    "star_ends_tokens = 6 #number of tokens to add because <start> and <end> labels "
   ]
  },
  {
   "cell_type": "code",
   "execution_count": 566,
   "metadata": {},
   "outputs": [],
   "source": [
    "n_step_f = 10 + star_ends_tokens #number of words to select from the forward context\n",
    "n_step_b = 10 #number of words to select from the backward context"
   ]
  },
  {
   "cell_type": "code",
   "execution_count": 567,
   "metadata": {},
   "outputs": [
    {
     "name": "stderr",
     "output_type": "stream",
     "text": [
      "[nltk_data] Downloading package punkt to /Users/egarcia/nltk_data...\n",
      "[nltk_data]   Package punkt is already up-to-date!\n"
     ]
    },
    {
     "data": {
      "text/plain": [
       "True"
      ]
     },
     "execution_count": 567,
     "metadata": {},
     "output_type": "execute_result"
    }
   ],
   "source": [
    "nltk.download('punkt')"
   ]
  },
  {
   "cell_type": "code",
   "execution_count": 568,
   "metadata": {},
   "outputs": [],
   "source": [
    "train_ndata = limit_context(train_ndata)"
   ]
  },
  {
   "cell_type": "code",
   "execution_count": 569,
   "metadata": {},
   "outputs": [
    {
     "data": {
      "text/plain": [
       "['dl',\n",
       " 'del líquido una glucorraquia normal , proteinorraquia de 102 mg/ < start > dl < end >',\n",
       " '960 células/mm3 un 90 % de las cuales se correspondían',\n",
       " 'decilitro']"
      ]
     },
     "execution_count": 569,
     "metadata": {},
     "output_type": "execute_result"
    }
   ],
   "source": [
    "train_ndata[0]"
   ]
  },
  {
   "cell_type": "markdown",
   "metadata": {},
   "source": [
    "### Transform into df grouped by LF"
   ]
  },
  {
   "cell_type": "code",
   "execution_count": 570,
   "metadata": {},
   "outputs": [],
   "source": [
    "data_dic = create_dict(train_ndata)"
   ]
  },
  {
   "cell_type": "code",
   "execution_count": 571,
   "metadata": {},
   "outputs": [],
   "source": [
    "data_df = pd.DataFrame(data_dic)"
   ]
  },
  {
   "cell_type": "markdown",
   "metadata": {},
   "source": [
    "Asign an id to each LF"
   ]
  },
  {
   "cell_type": "code",
   "execution_count": 572,
   "metadata": {},
   "outputs": [],
   "source": [
    "data_df = data_df.assign(id=(data_df['long_form']).astype('category').cat.codes)"
   ]
  },
  {
   "cell_type": "code",
   "execution_count": 573,
   "metadata": {},
   "outputs": [
    {
     "data": {
      "text/html": [
       "<div>\n",
       "<style scoped>\n",
       "    .dataframe tbody tr th:only-of-type {\n",
       "        vertical-align: middle;\n",
       "    }\n",
       "\n",
       "    .dataframe tbody tr th {\n",
       "        vertical-align: top;\n",
       "    }\n",
       "\n",
       "    .dataframe thead th {\n",
       "        text-align: right;\n",
       "    }\n",
       "</style>\n",
       "<table border=\"1\" class=\"dataframe\">\n",
       "  <thead>\n",
       "    <tr style=\"text-align: right;\">\n",
       "      <th></th>\n",
       "      <th>short_form</th>\n",
       "      <th>context</th>\n",
       "      <th>long_form</th>\n",
       "      <th>id</th>\n",
       "    </tr>\n",
       "  </thead>\n",
       "  <tbody>\n",
       "    <tr>\n",
       "      <th>0</th>\n",
       "      <td>dl</td>\n",
       "      <td>del líquido una glucorraquia normal , proteinorraquia de 102 mg/ &lt; start &gt; dl &lt; end &gt; 960 célula...</td>\n",
       "      <td>decilitro</td>\n",
       "      <td>191</td>\n",
       "    </tr>\n",
       "    <tr>\n",
       "      <th>1</th>\n",
       "      <td>dl</td>\n",
       "      <td>que eran de 5,8 g/dl con albúmina de 1.400 mg/ &lt; start &gt; dl &lt; end &gt; El elemental de orina y sedi...</td>\n",
       "      <td>decilitro</td>\n",
       "      <td>191</td>\n",
       "    </tr>\n",
       "    <tr>\n",
       "      <th>2</th>\n",
       "      <td>dl</td>\n",
       "      <td>67 y las proteínas totales que eran de 5,8 g/ &lt; start &gt; dl &lt; end &gt; con albúmina de 1.400 mg/dl ....</td>\n",
       "      <td>decilitro</td>\n",
       "      <td>191</td>\n",
       "    </tr>\n",
       "    <tr>\n",
       "      <th>3</th>\n",
       "      <td>dl</td>\n",
       "      <td>las pruebas realizadas destacaba una anemia normocítica ( 9,9 g/ &lt; start &gt; dl &lt; end &gt; de Hb ) , ...</td>\n",
       "      <td>decilitro</td>\n",
       "      <td>191</td>\n",
       "    </tr>\n",
       "    <tr>\n",
       "      <th>4</th>\n",
       "      <td>g</td>\n",
       "      <td>gamma-GT 67 y las proteínas totales que eran de 5,8 &lt; start &gt; g &lt; end &gt; dl con albúmina de 1.400...</td>\n",
       "      <td>gramo</td>\n",
       "      <td>313</td>\n",
       "    </tr>\n",
       "  </tbody>\n",
       "</table>\n",
       "</div>"
      ],
      "text/plain": [
       "  short_form  \\\n",
       "0         dl   \n",
       "1         dl   \n",
       "2         dl   \n",
       "3         dl   \n",
       "4          g   \n",
       "\n",
       "                                                                                               context  \\\n",
       "0  del líquido una glucorraquia normal , proteinorraquia de 102 mg/ < start > dl < end > 960 célula...   \n",
       "1  que eran de 5,8 g/dl con albúmina de 1.400 mg/ < start > dl < end > El elemental de orina y sedi...   \n",
       "2  67 y las proteínas totales que eran de 5,8 g/ < start > dl < end > con albúmina de 1.400 mg/dl ....   \n",
       "3  las pruebas realizadas destacaba una anemia normocítica ( 9,9 g/ < start > dl < end > de Hb ) , ...   \n",
       "4  gamma-GT 67 y las proteínas totales que eran de 5,8 < start > g < end > dl con albúmina de 1.400...   \n",
       "\n",
       "   long_form   id  \n",
       "0  decilitro  191  \n",
       "1  decilitro  191  \n",
       "2  decilitro  191  \n",
       "3  decilitro  191  \n",
       "4      gramo  313  "
      ]
     },
     "execution_count": 573,
     "metadata": {},
     "output_type": "execute_result"
    }
   ],
   "source": [
    "data_df.head()"
   ]
  },
  {
   "cell_type": "code",
   "execution_count": 574,
   "metadata": {},
   "outputs": [
    {
     "data": {
      "text/plain": [
       "(5228, 4)"
      ]
     },
     "execution_count": 574,
     "metadata": {},
     "output_type": "execute_result"
    }
   ],
   "source": [
    "data_df.shape"
   ]
  },
  {
   "cell_type": "markdown",
   "metadata": {},
   "source": [
    "We will join each SF with all possible LFs, one for each record, so that later the model works in binary form assigning the probability that that is its LF"
   ]
  },
  {
   "cell_type": "code",
   "execution_count": 575,
   "metadata": {},
   "outputs": [],
   "source": [
    "sf_lf_unique = data_df[['short_form', 'long_form']].drop_duplicates()"
   ]
  },
  {
   "cell_type": "code",
   "execution_count": 576,
   "metadata": {},
   "outputs": [
    {
     "data": {
      "text/plain": [
       "(835, 2)"
      ]
     },
     "execution_count": 576,
     "metadata": {},
     "output_type": "execute_result"
    }
   ],
   "source": [
    "sf_lf_unique.shape"
   ]
  },
  {
   "cell_type": "code",
   "execution_count": 577,
   "metadata": {},
   "outputs": [
    {
     "data": {
      "text/html": [
       "<div>\n",
       "<style scoped>\n",
       "    .dataframe tbody tr th:only-of-type {\n",
       "        vertical-align: middle;\n",
       "    }\n",
       "\n",
       "    .dataframe tbody tr th {\n",
       "        vertical-align: top;\n",
       "    }\n",
       "\n",
       "    .dataframe thead th {\n",
       "        text-align: right;\n",
       "    }\n",
       "</style>\n",
       "<table border=\"1\" class=\"dataframe\">\n",
       "  <thead>\n",
       "    <tr style=\"text-align: right;\">\n",
       "      <th></th>\n",
       "      <th>short_form</th>\n",
       "      <th>long_form</th>\n",
       "    </tr>\n",
       "  </thead>\n",
       "  <tbody>\n",
       "    <tr>\n",
       "      <th>4324</th>\n",
       "      <td>5-FU</td>\n",
       "      <td>5fluorouracilo</td>\n",
       "    </tr>\n",
       "    <tr>\n",
       "      <th>962</th>\n",
       "      <td>67Ga</td>\n",
       "      <td>gallium67</td>\n",
       "    </tr>\n",
       "    <tr>\n",
       "      <th>1802</th>\n",
       "      <td>99-MDP</td>\n",
       "      <td>99 metilendifosfonato</td>\n",
       "    </tr>\n",
       "    <tr>\n",
       "      <th>964</th>\n",
       "      <td>99Tc</td>\n",
       "      <td>tecnecio99</td>\n",
       "    </tr>\n",
       "    <tr>\n",
       "      <th>1557</th>\n",
       "      <td>A</td>\n",
       "      <td>adenina</td>\n",
       "    </tr>\n",
       "  </tbody>\n",
       "</table>\n",
       "</div>"
      ],
      "text/plain": [
       "     short_form              long_form\n",
       "4324       5-FU         5fluorouracilo\n",
       "962        67Ga              gallium67\n",
       "1802     99-MDP  99 metilendifosfonato\n",
       "964        99Tc             tecnecio99\n",
       "1557          A                adenina"
      ]
     },
     "execution_count": 577,
     "metadata": {},
     "output_type": "execute_result"
    }
   ],
   "source": [
    "sf_lf_unique.sort_values('short_form').head()"
   ]
  },
  {
   "cell_type": "code",
   "execution_count": 578,
   "metadata": {},
   "outputs": [],
   "source": [
    "data_merged = data_df.merge(sf_lf_unique, on = 'short_form', how = 'left')"
   ]
  },
  {
   "cell_type": "code",
   "execution_count": 579,
   "metadata": {},
   "outputs": [
    {
     "data": {
      "text/plain": [
       "(7297, 5)"
      ]
     },
     "execution_count": 579,
     "metadata": {},
     "output_type": "execute_result"
    }
   ],
   "source": [
    "data_merged.shape"
   ]
  },
  {
   "cell_type": "code",
   "execution_count": 580,
   "metadata": {},
   "outputs": [],
   "source": [
    "pd.set_option('display.max_colwidth', 100)"
   ]
  },
  {
   "cell_type": "code",
   "execution_count": 581,
   "metadata": {},
   "outputs": [
    {
     "data": {
      "text/html": [
       "<div>\n",
       "<style scoped>\n",
       "    .dataframe tbody tr th:only-of-type {\n",
       "        vertical-align: middle;\n",
       "    }\n",
       "\n",
       "    .dataframe tbody tr th {\n",
       "        vertical-align: top;\n",
       "    }\n",
       "\n",
       "    .dataframe thead th {\n",
       "        text-align: right;\n",
       "    }\n",
       "</style>\n",
       "<table border=\"1\" class=\"dataframe\">\n",
       "  <thead>\n",
       "    <tr style=\"text-align: right;\">\n",
       "      <th></th>\n",
       "      <th>short_form</th>\n",
       "      <th>context</th>\n",
       "      <th>long_form</th>\n",
       "      <th>id</th>\n",
       "    </tr>\n",
       "  </thead>\n",
       "  <tbody>\n",
       "    <tr>\n",
       "      <th>4326</th>\n",
       "      <td>5-FU</td>\n",
       "      <td>1 , leucovorin 200 mg/m2 i.v . día 1 , &lt; start &gt; 5-FU &lt; end &gt; 400 mg/m2 en bolo i.v . día 1 , 5-FU</td>\n",
       "      <td>5fluorouracilo</td>\n",
       "      <td>1</td>\n",
       "    </tr>\n",
       "    <tr>\n",
       "      <th>4324</th>\n",
       "      <td>5-FU</td>\n",
       "      <td>5-FU 400 mg/m2 en bolo i.v . día 1 , &lt; start &gt; 5-FU &lt; end &gt; 1.200 mg/m2/día en perfusión continu...</td>\n",
       "      <td>5fluorouracilo</td>\n",
       "      <td>1</td>\n",
       "    </tr>\n",
       "    <tr>\n",
       "      <th>4325</th>\n",
       "      <td>5-FU</td>\n",
       "      <td>generalizada y alopecia , ambos relacionados con la toxicidad del &lt; start &gt; 5-FU &lt; end &gt; Pese a ...</td>\n",
       "      <td>5fluorouracilo</td>\n",
       "      <td>1</td>\n",
       "    </tr>\n",
       "    <tr>\n",
       "      <th>962</th>\n",
       "      <td>67Ga</td>\n",
       "      <td>la cabeza femoral izquierda confirmada por TAC , 99Tc y &lt; start &gt; 67Ga &lt; end &gt; gammagrafía . La ...</td>\n",
       "      <td>gallium67</td>\n",
       "      <td>293</td>\n",
       "    </tr>\n",
       "    <tr>\n",
       "      <th>1802</th>\n",
       "      <td>99-MDP</td>\n",
       "      <td>realizado un estudio completo que incluyó gammagrafía ósea con tecnecio &lt; start &gt; 99-MDP &lt; end &gt;...</td>\n",
       "      <td>99 metilendifosfonato</td>\n",
       "      <td>2</td>\n",
       "    </tr>\n",
       "  </tbody>\n",
       "</table>\n",
       "</div>"
      ],
      "text/plain": [
       "     short_form  \\\n",
       "4326       5-FU   \n",
       "4324       5-FU   \n",
       "4325       5-FU   \n",
       "962        67Ga   \n",
       "1802     99-MDP   \n",
       "\n",
       "                                                                                                  context  \\\n",
       "4326   1 , leucovorin 200 mg/m2 i.v . día 1 , < start > 5-FU < end > 400 mg/m2 en bolo i.v . día 1 , 5-FU   \n",
       "4324  5-FU 400 mg/m2 en bolo i.v . día 1 , < start > 5-FU < end > 1.200 mg/m2/día en perfusión continu...   \n",
       "4325  generalizada y alopecia , ambos relacionados con la toxicidad del < start > 5-FU < end > Pese a ...   \n",
       "962   la cabeza femoral izquierda confirmada por TAC , 99Tc y < start > 67Ga < end > gammagrafía . La ...   \n",
       "1802  realizado un estudio completo que incluyó gammagrafía ósea con tecnecio < start > 99-MDP < end >...   \n",
       "\n",
       "                  long_form   id  \n",
       "4326         5fluorouracilo    1  \n",
       "4324         5fluorouracilo    1  \n",
       "4325         5fluorouracilo    1  \n",
       "962               gallium67  293  \n",
       "1802  99 metilendifosfonato    2  "
      ]
     },
     "execution_count": 581,
     "metadata": {},
     "output_type": "execute_result"
    }
   ],
   "source": [
    "data_df.sort_values(['short_form', 'context']).head()"
   ]
  },
  {
   "cell_type": "code",
   "execution_count": 582,
   "metadata": {},
   "outputs": [
    {
     "data": {
      "text/html": [
       "<div>\n",
       "<style scoped>\n",
       "    .dataframe tbody tr th:only-of-type {\n",
       "        vertical-align: middle;\n",
       "    }\n",
       "\n",
       "    .dataframe tbody tr th {\n",
       "        vertical-align: top;\n",
       "    }\n",
       "\n",
       "    .dataframe thead th {\n",
       "        text-align: right;\n",
       "    }\n",
       "</style>\n",
       "<table border=\"1\" class=\"dataframe\">\n",
       "  <thead>\n",
       "    <tr style=\"text-align: right;\">\n",
       "      <th></th>\n",
       "      <th>short_form</th>\n",
       "      <th>context</th>\n",
       "      <th>long_form_x</th>\n",
       "      <th>id</th>\n",
       "      <th>long_form_y</th>\n",
       "    </tr>\n",
       "  </thead>\n",
       "  <tbody>\n",
       "    <tr>\n",
       "      <th>5805</th>\n",
       "      <td>5-FU</td>\n",
       "      <td>1 , leucovorin 200 mg/m2 i.v . día 1 , &lt; start &gt; 5-FU &lt; end &gt; 400 mg/m2 en bolo i.v . día 1 , 5-FU</td>\n",
       "      <td>5fluorouracilo</td>\n",
       "      <td>1</td>\n",
       "      <td>5fluorouracilo</td>\n",
       "    </tr>\n",
       "    <tr>\n",
       "      <th>5803</th>\n",
       "      <td>5-FU</td>\n",
       "      <td>5-FU 400 mg/m2 en bolo i.v . día 1 , &lt; start &gt; 5-FU &lt; end &gt; 1.200 mg/m2/día en perfusión continu...</td>\n",
       "      <td>5fluorouracilo</td>\n",
       "      <td>1</td>\n",
       "      <td>5fluorouracilo</td>\n",
       "    </tr>\n",
       "    <tr>\n",
       "      <th>5804</th>\n",
       "      <td>5-FU</td>\n",
       "      <td>generalizada y alopecia , ambos relacionados con la toxicidad del &lt; start &gt; 5-FU &lt; end &gt; Pese a ...</td>\n",
       "      <td>5fluorouracilo</td>\n",
       "      <td>1</td>\n",
       "      <td>5fluorouracilo</td>\n",
       "    </tr>\n",
       "    <tr>\n",
       "      <th>1275</th>\n",
       "      <td>67Ga</td>\n",
       "      <td>la cabeza femoral izquierda confirmada por TAC , 99Tc y &lt; start &gt; 67Ga &lt; end &gt; gammagrafía . La ...</td>\n",
       "      <td>gallium67</td>\n",
       "      <td>293</td>\n",
       "      <td>gallium67</td>\n",
       "    </tr>\n",
       "    <tr>\n",
       "      <th>2494</th>\n",
       "      <td>99-MDP</td>\n",
       "      <td>realizado un estudio completo que incluyó gammagrafía ósea con tecnecio &lt; start &gt; 99-MDP &lt; end &gt;...</td>\n",
       "      <td>99 metilendifosfonato</td>\n",
       "      <td>2</td>\n",
       "      <td>99 metilendifosfonato</td>\n",
       "    </tr>\n",
       "  </tbody>\n",
       "</table>\n",
       "</div>"
      ],
      "text/plain": [
       "     short_form  \\\n",
       "5805       5-FU   \n",
       "5803       5-FU   \n",
       "5804       5-FU   \n",
       "1275       67Ga   \n",
       "2494     99-MDP   \n",
       "\n",
       "                                                                                                  context  \\\n",
       "5805   1 , leucovorin 200 mg/m2 i.v . día 1 , < start > 5-FU < end > 400 mg/m2 en bolo i.v . día 1 , 5-FU   \n",
       "5803  5-FU 400 mg/m2 en bolo i.v . día 1 , < start > 5-FU < end > 1.200 mg/m2/día en perfusión continu...   \n",
       "5804  generalizada y alopecia , ambos relacionados con la toxicidad del < start > 5-FU < end > Pese a ...   \n",
       "1275  la cabeza femoral izquierda confirmada por TAC , 99Tc y < start > 67Ga < end > gammagrafía . La ...   \n",
       "2494  realizado un estudio completo que incluyó gammagrafía ósea con tecnecio < start > 99-MDP < end >...   \n",
       "\n",
       "                long_form_x   id            long_form_y  \n",
       "5805         5fluorouracilo    1         5fluorouracilo  \n",
       "5803         5fluorouracilo    1         5fluorouracilo  \n",
       "5804         5fluorouracilo    1         5fluorouracilo  \n",
       "1275              gallium67  293              gallium67  \n",
       "2494  99 metilendifosfonato    2  99 metilendifosfonato  "
      ]
     },
     "execution_count": 582,
     "metadata": {},
     "output_type": "execute_result"
    }
   ],
   "source": [
    "data_merged.sort_values(['short_form', 'context']).head()"
   ]
  },
  {
   "cell_type": "markdown",
   "metadata": {},
   "source": [
    "Target must be 1 or 0. 1 if the corresponding LF is the one assigned to it, 0 otherwise"
   ]
  },
  {
   "cell_type": "code",
   "execution_count": 584,
   "metadata": {},
   "outputs": [],
   "source": [
    "data_merged['label'] = data_merged.apply(get_label, axis = 1)"
   ]
  },
  {
   "cell_type": "code",
   "execution_count": 585,
   "metadata": {},
   "outputs": [
    {
     "data": {
      "text/html": [
       "<div>\n",
       "<style scoped>\n",
       "    .dataframe tbody tr th:only-of-type {\n",
       "        vertical-align: middle;\n",
       "    }\n",
       "\n",
       "    .dataframe tbody tr th {\n",
       "        vertical-align: top;\n",
       "    }\n",
       "\n",
       "    .dataframe thead th {\n",
       "        text-align: right;\n",
       "    }\n",
       "</style>\n",
       "<table border=\"1\" class=\"dataframe\">\n",
       "  <thead>\n",
       "    <tr style=\"text-align: right;\">\n",
       "      <th></th>\n",
       "      <th>short_form</th>\n",
       "      <th>context</th>\n",
       "      <th>long_form_x</th>\n",
       "      <th>id</th>\n",
       "      <th>long_form_y</th>\n",
       "      <th>label</th>\n",
       "    </tr>\n",
       "  </thead>\n",
       "  <tbody>\n",
       "    <tr>\n",
       "      <th>0</th>\n",
       "      <td>dl</td>\n",
       "      <td>del líquido una glucorraquia normal , proteinorraquia de 102 mg/ &lt; start &gt; dl &lt; end &gt; 960 célula...</td>\n",
       "      <td>decilitro</td>\n",
       "      <td>191</td>\n",
       "      <td>decilitro</td>\n",
       "      <td>1</td>\n",
       "    </tr>\n",
       "    <tr>\n",
       "      <th>1</th>\n",
       "      <td>dl</td>\n",
       "      <td>que eran de 5,8 g/dl con albúmina de 1.400 mg/ &lt; start &gt; dl &lt; end &gt; El elemental de orina y sedi...</td>\n",
       "      <td>decilitro</td>\n",
       "      <td>191</td>\n",
       "      <td>decilitro</td>\n",
       "      <td>1</td>\n",
       "    </tr>\n",
       "    <tr>\n",
       "      <th>2</th>\n",
       "      <td>dl</td>\n",
       "      <td>67 y las proteínas totales que eran de 5,8 g/ &lt; start &gt; dl &lt; end &gt; con albúmina de 1.400 mg/dl ....</td>\n",
       "      <td>decilitro</td>\n",
       "      <td>191</td>\n",
       "      <td>decilitro</td>\n",
       "      <td>1</td>\n",
       "    </tr>\n",
       "    <tr>\n",
       "      <th>3</th>\n",
       "      <td>dl</td>\n",
       "      <td>las pruebas realizadas destacaba una anemia normocítica ( 9,9 g/ &lt; start &gt; dl &lt; end &gt; de Hb ) , ...</td>\n",
       "      <td>decilitro</td>\n",
       "      <td>191</td>\n",
       "      <td>decilitro</td>\n",
       "      <td>1</td>\n",
       "    </tr>\n",
       "    <tr>\n",
       "      <th>4</th>\n",
       "      <td>g</td>\n",
       "      <td>gamma-GT 67 y las proteínas totales que eran de 5,8 &lt; start &gt; g &lt; end &gt; dl con albúmina de 1.400...</td>\n",
       "      <td>gramo</td>\n",
       "      <td>313</td>\n",
       "      <td>gramo</td>\n",
       "      <td>1</td>\n",
       "    </tr>\n",
       "  </tbody>\n",
       "</table>\n",
       "</div>"
      ],
      "text/plain": [
       "  short_form  \\\n",
       "0         dl   \n",
       "1         dl   \n",
       "2         dl   \n",
       "3         dl   \n",
       "4          g   \n",
       "\n",
       "                                                                                               context  \\\n",
       "0  del líquido una glucorraquia normal , proteinorraquia de 102 mg/ < start > dl < end > 960 célula...   \n",
       "1  que eran de 5,8 g/dl con albúmina de 1.400 mg/ < start > dl < end > El elemental de orina y sedi...   \n",
       "2  67 y las proteínas totales que eran de 5,8 g/ < start > dl < end > con albúmina de 1.400 mg/dl ....   \n",
       "3  las pruebas realizadas destacaba una anemia normocítica ( 9,9 g/ < start > dl < end > de Hb ) , ...   \n",
       "4  gamma-GT 67 y las proteínas totales que eran de 5,8 < start > g < end > dl con albúmina de 1.400...   \n",
       "\n",
       "  long_form_x   id long_form_y  label  \n",
       "0   decilitro  191   decilitro      1  \n",
       "1   decilitro  191   decilitro      1  \n",
       "2   decilitro  191   decilitro      1  \n",
       "3   decilitro  191   decilitro      1  \n",
       "4       gramo  313       gramo      1  "
      ]
     },
     "execution_count": 585,
     "metadata": {},
     "output_type": "execute_result"
    }
   ],
   "source": [
    "data_merged.head()"
   ]
  },
  {
   "cell_type": "code",
   "execution_count": 586,
   "metadata": {},
   "outputs": [],
   "source": [
    "data_merged = data_merged[['short_form', 'context', 'long_form_y', 'label']]"
   ]
  },
  {
   "cell_type": "code",
   "execution_count": 587,
   "metadata": {},
   "outputs": [],
   "source": [
    "data_merged = data_merged.rename(columns = {'long_form_y':'long_form'})"
   ]
  },
  {
   "cell_type": "code",
   "execution_count": 588,
   "metadata": {},
   "outputs": [],
   "source": [
    "data_merged.reset_index(drop = True, inplace = True)"
   ]
  },
  {
   "cell_type": "code",
   "execution_count": 589,
   "metadata": {},
   "outputs": [
    {
     "data": {
      "text/html": [
       "<div>\n",
       "<style scoped>\n",
       "    .dataframe tbody tr th:only-of-type {\n",
       "        vertical-align: middle;\n",
       "    }\n",
       "\n",
       "    .dataframe tbody tr th {\n",
       "        vertical-align: top;\n",
       "    }\n",
       "\n",
       "    .dataframe thead th {\n",
       "        text-align: right;\n",
       "    }\n",
       "</style>\n",
       "<table border=\"1\" class=\"dataframe\">\n",
       "  <thead>\n",
       "    <tr style=\"text-align: right;\">\n",
       "      <th></th>\n",
       "      <th>short_form</th>\n",
       "      <th>context</th>\n",
       "      <th>long_form</th>\n",
       "      <th>label</th>\n",
       "    </tr>\n",
       "  </thead>\n",
       "  <tbody>\n",
       "    <tr>\n",
       "      <th>0</th>\n",
       "      <td>dl</td>\n",
       "      <td>del líquido una glucorraquia normal , proteinorraquia de 102 mg/ &lt; start &gt; dl &lt; end &gt; 960 célula...</td>\n",
       "      <td>decilitro</td>\n",
       "      <td>1</td>\n",
       "    </tr>\n",
       "    <tr>\n",
       "      <th>1</th>\n",
       "      <td>dl</td>\n",
       "      <td>que eran de 5,8 g/dl con albúmina de 1.400 mg/ &lt; start &gt; dl &lt; end &gt; El elemental de orina y sedi...</td>\n",
       "      <td>decilitro</td>\n",
       "      <td>1</td>\n",
       "    </tr>\n",
       "    <tr>\n",
       "      <th>2</th>\n",
       "      <td>dl</td>\n",
       "      <td>67 y las proteínas totales que eran de 5,8 g/ &lt; start &gt; dl &lt; end &gt; con albúmina de 1.400 mg/dl ....</td>\n",
       "      <td>decilitro</td>\n",
       "      <td>1</td>\n",
       "    </tr>\n",
       "    <tr>\n",
       "      <th>3</th>\n",
       "      <td>dl</td>\n",
       "      <td>las pruebas realizadas destacaba una anemia normocítica ( 9,9 g/ &lt; start &gt; dl &lt; end &gt; de Hb ) , ...</td>\n",
       "      <td>decilitro</td>\n",
       "      <td>1</td>\n",
       "    </tr>\n",
       "    <tr>\n",
       "      <th>4</th>\n",
       "      <td>g</td>\n",
       "      <td>gamma-GT 67 y las proteínas totales que eran de 5,8 &lt; start &gt; g &lt; end &gt; dl con albúmina de 1.400...</td>\n",
       "      <td>gramo</td>\n",
       "      <td>1</td>\n",
       "    </tr>\n",
       "  </tbody>\n",
       "</table>\n",
       "</div>"
      ],
      "text/plain": [
       "  short_form  \\\n",
       "0         dl   \n",
       "1         dl   \n",
       "2         dl   \n",
       "3         dl   \n",
       "4          g   \n",
       "\n",
       "                                                                                               context  \\\n",
       "0  del líquido una glucorraquia normal , proteinorraquia de 102 mg/ < start > dl < end > 960 célula...   \n",
       "1  que eran de 5,8 g/dl con albúmina de 1.400 mg/ < start > dl < end > El elemental de orina y sedi...   \n",
       "2  67 y las proteínas totales que eran de 5,8 g/ < start > dl < end > con albúmina de 1.400 mg/dl ....   \n",
       "3  las pruebas realizadas destacaba una anemia normocítica ( 9,9 g/ < start > dl < end > de Hb ) , ...   \n",
       "4  gamma-GT 67 y las proteínas totales que eran de 5,8 < start > g < end > dl con albúmina de 1.400...   \n",
       "\n",
       "   long_form  label  \n",
       "0  decilitro      1  \n",
       "1  decilitro      1  \n",
       "2  decilitro      1  \n",
       "3  decilitro      1  \n",
       "4      gramo      1  "
      ]
     },
     "execution_count": 589,
     "metadata": {},
     "output_type": "execute_result"
    }
   ],
   "source": [
    "data_merged.head()"
   ]
  },
  {
   "cell_type": "code",
   "execution_count": 590,
   "metadata": {},
   "outputs": [],
   "source": [
    "data_merged.to_csv('../data/data_train/train_data_beto_10_NOamb_lfnorm_medline.csv')"
   ]
  },
  {
   "cell_type": "markdown",
   "metadata": {},
   "source": [
    "## Prepare Test Data"
   ]
  },
  {
   "cell_type": "markdown",
   "metadata": {},
   "source": [
    "### Preprocessing"
   ]
  },
  {
   "cell_type": "code",
   "execution_count": 591,
   "metadata": {},
   "outputs": [],
   "source": [
    "testing_raw.rename(columns={'nombre':'doc_id'}, inplace = True)"
   ]
  },
  {
   "cell_type": "code",
   "execution_count": 592,
   "metadata": {},
   "outputs": [],
   "source": [
    "test = testing_raw.merge(testing_abbr[['doc_id', 'Abbreviation', 'Definition_lemmatized']], on = 'doc_id', how = 'left')"
   ]
  },
  {
   "cell_type": "code",
   "execution_count": 593,
   "metadata": {},
   "outputs": [],
   "source": [
    "test = test.merge(testing_abbr, on = ['doc_id', 'Abbreviation'], how = 'left')"
   ]
  },
  {
   "cell_type": "code",
   "execution_count": 594,
   "metadata": {},
   "outputs": [],
   "source": [
    "test = test.drop_duplicates()"
   ]
  },
  {
   "cell_type": "code",
   "execution_count": 595,
   "metadata": {},
   "outputs": [],
   "source": [
    "test = test[['doc_id', 'texto', 'Abbreviation', 'Definition_lemmatized_x', 'StartOffset', 'EndOffset']]"
   ]
  },
  {
   "cell_type": "code",
   "execution_count": 596,
   "metadata": {},
   "outputs": [],
   "source": [
    "test = test.rename(columns = {'Definition_lemmatized_x':'Definition'})"
   ]
  },
  {
   "cell_type": "code",
   "execution_count": 597,
   "metadata": {},
   "outputs": [
    {
     "data": {
      "text/html": [
       "<div>\n",
       "<style scoped>\n",
       "    .dataframe tbody tr th:only-of-type {\n",
       "        vertical-align: middle;\n",
       "    }\n",
       "\n",
       "    .dataframe tbody tr th {\n",
       "        vertical-align: top;\n",
       "    }\n",
       "\n",
       "    .dataframe thead th {\n",
       "        text-align: right;\n",
       "    }\n",
       "</style>\n",
       "<table border=\"1\" class=\"dataframe\">\n",
       "  <thead>\n",
       "    <tr style=\"text-align: right;\">\n",
       "      <th></th>\n",
       "      <th>doc_id</th>\n",
       "      <th>texto</th>\n",
       "      <th>Abbreviation</th>\n",
       "      <th>Definition</th>\n",
       "      <th>StartOffset</th>\n",
       "      <th>EndOffset</th>\n",
       "    </tr>\n",
       "  </thead>\n",
       "  <tbody>\n",
       "    <tr>\n",
       "      <th>0</th>\n",
       "      <td>S1130-01082008001000010-1</td>\n",
       "      <td>Varón de 43 años originario de Marruecos, que ingresó en nuestro servicio por cuadro de 4 días d...</td>\n",
       "      <td>PAI</td>\n",
       "      <td>pancreatitis autoinmunir</td>\n",
       "      <td>2502.0</td>\n",
       "      <td>2505.0</td>\n",
       "    </tr>\n",
       "    <tr>\n",
       "      <th>1</th>\n",
       "      <td>S1130-01082008001000010-1</td>\n",
       "      <td>Varón de 43 años originario de Marruecos, que ingresó en nuestro servicio por cuadro de 4 días d...</td>\n",
       "      <td>SLA</td>\n",
       "      <td>anti-soluble liver antiger</td>\n",
       "      <td>702.0</td>\n",
       "      <td>705.0</td>\n",
       "    </tr>\n",
       "    <tr>\n",
       "      <th>2</th>\n",
       "      <td>S1130-01082008001000010-1</td>\n",
       "      <td>Varón de 43 años originario de Marruecos, que ingresó en nuestro servicio por cuadro de 4 días d...</td>\n",
       "      <td>SMA</td>\n",
       "      <td>smooth muscle actin</td>\n",
       "      <td>697.0</td>\n",
       "      <td>700.0</td>\n",
       "    </tr>\n",
       "    <tr>\n",
       "      <th>3</th>\n",
       "      <td>S1130-01082008001000010-1</td>\n",
       "      <td>Varón de 43 años originario de Marruecos, que ingresó en nuestro servicio por cuadro de 4 días d...</td>\n",
       "      <td>LKM1</td>\n",
       "      <td>liver-kidney microsomal type 1</td>\n",
       "      <td>691.0</td>\n",
       "      <td>695.0</td>\n",
       "    </tr>\n",
       "    <tr>\n",
       "      <th>4</th>\n",
       "      <td>S1130-01082008001000010-1</td>\n",
       "      <td>Varón de 43 años originario de Marruecos, que ingresó en nuestro servicio por cuadro de 4 días d...</td>\n",
       "      <td>ANCA</td>\n",
       "      <td>antineutrophil cytoplasmic antibodie</td>\n",
       "      <td>685.0</td>\n",
       "      <td>689.0</td>\n",
       "    </tr>\n",
       "  </tbody>\n",
       "</table>\n",
       "</div>"
      ],
      "text/plain": [
       "                      doc_id  \\\n",
       "0  S1130-01082008001000010-1   \n",
       "1  S1130-01082008001000010-1   \n",
       "2  S1130-01082008001000010-1   \n",
       "3  S1130-01082008001000010-1   \n",
       "4  S1130-01082008001000010-1   \n",
       "\n",
       "                                                                                                 texto  \\\n",
       "0  Varón de 43 años originario de Marruecos, que ingresó en nuestro servicio por cuadro de 4 días d...   \n",
       "1  Varón de 43 años originario de Marruecos, que ingresó en nuestro servicio por cuadro de 4 días d...   \n",
       "2  Varón de 43 años originario de Marruecos, que ingresó en nuestro servicio por cuadro de 4 días d...   \n",
       "3  Varón de 43 años originario de Marruecos, que ingresó en nuestro servicio por cuadro de 4 días d...   \n",
       "4  Varón de 43 años originario de Marruecos, que ingresó en nuestro servicio por cuadro de 4 días d...   \n",
       "\n",
       "  Abbreviation                            Definition  StartOffset  EndOffset  \n",
       "0          PAI              pancreatitis autoinmunir       2502.0     2505.0  \n",
       "1          SLA            anti-soluble liver antiger        702.0      705.0  \n",
       "2          SMA                   smooth muscle actin        697.0      700.0  \n",
       "3         LKM1        liver-kidney microsomal type 1        691.0      695.0  \n",
       "4         ANCA  antineutrophil cytoplasmic antibodie        685.0      689.0  "
      ]
     },
     "execution_count": 597,
     "metadata": {},
     "output_type": "execute_result"
    }
   ],
   "source": [
    "test.head()"
   ]
  },
  {
   "cell_type": "code",
   "execution_count": 598,
   "metadata": {},
   "outputs": [],
   "source": [
    "test = test.rename(columns = {'Abbreviation': 'short_form', 'Definition': 'long_form'})"
   ]
  },
  {
   "cell_type": "code",
   "execution_count": 599,
   "metadata": {},
   "outputs": [],
   "source": [
    "test = test.dropna(subset = ['short_form', 'long_form'])"
   ]
  },
  {
   "cell_type": "code",
   "execution_count": 600,
   "metadata": {},
   "outputs": [],
   "source": [
    "test[['StartOffset', 'EndOffset']] = test[['StartOffset', 'EndOffset']].astype(int)"
   ]
  },
  {
   "cell_type": "markdown",
   "metadata": {},
   "source": [
    "Clean long forms to delete acents, string punctuation etc"
   ]
  },
  {
   "cell_type": "code",
   "execution_count": 601,
   "metadata": {},
   "outputs": [],
   "source": [
    "test['long_form'] = test['long_form'].map(clean_text)"
   ]
  },
  {
   "cell_type": "markdown",
   "metadata": {},
   "source": [
    "### Normalize long forms"
   ]
  },
  {
   "cell_type": "code",
   "execution_count": 602,
   "metadata": {},
   "outputs": [],
   "source": [
    "sf_lf_test = test[['short_form', 'long_form']].drop_duplicates()"
   ]
  },
  {
   "cell_type": "code",
   "execution_count": 603,
   "metadata": {},
   "outputs": [
    {
     "data": {
      "text/html": [
       "<div>\n",
       "<style scoped>\n",
       "    .dataframe tbody tr th:only-of-type {\n",
       "        vertical-align: middle;\n",
       "    }\n",
       "\n",
       "    .dataframe tbody tr th {\n",
       "        vertical-align: top;\n",
       "    }\n",
       "\n",
       "    .dataframe thead th {\n",
       "        text-align: right;\n",
       "    }\n",
       "</style>\n",
       "<table border=\"1\" class=\"dataframe\">\n",
       "  <thead>\n",
       "    <tr style=\"text-align: right;\">\n",
       "      <th></th>\n",
       "      <th>short_form</th>\n",
       "      <th>long_form</th>\n",
       "      <th>len</th>\n",
       "    </tr>\n",
       "  </thead>\n",
       "  <tbody>\n",
       "    <tr>\n",
       "      <th>87</th>\n",
       "      <td>C3</td>\n",
       "      <td>[tercero componente complemento, tercero vertebra cervical, complemento 3, nivel c subnivel 3]</td>\n",
       "      <td>4</td>\n",
       "    </tr>\n",
       "    <tr>\n",
       "      <th>241</th>\n",
       "      <td>G</td>\n",
       "      <td>[gauge, guanine, guanina]</td>\n",
       "      <td>3</td>\n",
       "    </tr>\n",
       "    <tr>\n",
       "      <th>215</th>\n",
       "      <td>F</td>\n",
       "      <td>[filamentous, fenilalanina, french]</td>\n",
       "      <td>3</td>\n",
       "    </tr>\n",
       "    <tr>\n",
       "      <th>481</th>\n",
       "      <td>T</td>\n",
       "      <td>[treonina, thymus, onda t]</td>\n",
       "      <td>3</td>\n",
       "    </tr>\n",
       "    <tr>\n",
       "      <th>416</th>\n",
       "      <td>PL</td>\n",
       "      <td>[puncion lumbar, percepcion luz, periodo lavado]</td>\n",
       "      <td>3</td>\n",
       "    </tr>\n",
       "    <tr>\n",
       "      <th>...</th>\n",
       "      <td>...</td>\n",
       "      <td>...</td>\n",
       "      <td>...</td>\n",
       "    </tr>\n",
       "    <tr>\n",
       "      <th>252</th>\n",
       "      <td>GOT</td>\n",
       "      <td>[glutamic oxalic transaminar]</td>\n",
       "      <td>1</td>\n",
       "    </tr>\n",
       "    <tr>\n",
       "      <th>253</th>\n",
       "      <td>GPL</td>\n",
       "      <td>[g fosfolipido]</td>\n",
       "      <td>1</td>\n",
       "    </tr>\n",
       "    <tr>\n",
       "      <th>254</th>\n",
       "      <td>GPT</td>\n",
       "      <td>[glutamate pyruvatar transaminar]</td>\n",
       "      <td>1</td>\n",
       "    </tr>\n",
       "    <tr>\n",
       "      <th>255</th>\n",
       "      <td>GQ-1b</td>\n",
       "      <td>[antigangliosidir antibodie 1b]</td>\n",
       "      <td>1</td>\n",
       "    </tr>\n",
       "    <tr>\n",
       "      <th>684</th>\n",
       "      <td>μm</td>\n",
       "      <td>[micrometro]</td>\n",
       "      <td>1</td>\n",
       "    </tr>\n",
       "  </tbody>\n",
       "</table>\n",
       "<p>685 rows × 3 columns</p>\n",
       "</div>"
      ],
      "text/plain": [
       "    short_form  \\\n",
       "87          C3   \n",
       "241          G   \n",
       "215          F   \n",
       "481          T   \n",
       "416         PL   \n",
       "..         ...   \n",
       "252        GOT   \n",
       "253        GPL   \n",
       "254        GPT   \n",
       "255      GQ-1b   \n",
       "684         μm   \n",
       "\n",
       "                                                                                          long_form  \\\n",
       "87   [tercero componente complemento, tercero vertebra cervical, complemento 3, nivel c subnivel 3]   \n",
       "241                                                                       [gauge, guanine, guanina]   \n",
       "215                                                             [filamentous, fenilalanina, french]   \n",
       "481                                                                      [treonina, thymus, onda t]   \n",
       "416                                                [puncion lumbar, percepcion luz, periodo lavado]   \n",
       "..                                                                                              ...   \n",
       "252                                                                   [glutamic oxalic transaminar]   \n",
       "253                                                                                 [g fosfolipido]   \n",
       "254                                                               [glutamate pyruvatar transaminar]   \n",
       "255                                                                 [antigangliosidir antibodie 1b]   \n",
       "684                                                                                    [micrometro]   \n",
       "\n",
       "     len  \n",
       "87     4  \n",
       "241    3  \n",
       "215    3  \n",
       "481    3  \n",
       "416    3  \n",
       "..   ...  \n",
       "252    1  \n",
       "253    1  \n",
       "254    1  \n",
       "255    1  \n",
       "684    1  \n",
       "\n",
       "[685 rows x 3 columns]"
      ]
     },
     "execution_count": 603,
     "metadata": {},
     "output_type": "execute_result"
    }
   ],
   "source": [
    "sf_lf_list_test = sf_lf_test.groupby('short_form', as_index=False).agg({'long_form': list})\n",
    "sf_lf_list_test['len'] = sf_lf_list_test['long_form'].map(lambda x: len(x))\n",
    "sf_lf_list_test.sort_values('len', ascending = False)"
   ]
  },
  {
   "cell_type": "markdown",
   "metadata": {},
   "source": [
    "#### Apply Levenshtein distance to normalize Long Forms"
   ]
  },
  {
   "cell_type": "markdown",
   "metadata": {},
   "source": [
    "Get more frequent lf per sf"
   ]
  },
  {
   "cell_type": "code",
   "execution_count": 604,
   "metadata": {},
   "outputs": [
    {
     "data": {
      "text/html": [
       "<div>\n",
       "<style scoped>\n",
       "    .dataframe tbody tr th:only-of-type {\n",
       "        vertical-align: middle;\n",
       "    }\n",
       "\n",
       "    .dataframe tbody tr th {\n",
       "        vertical-align: top;\n",
       "    }\n",
       "\n",
       "    .dataframe thead th {\n",
       "        text-align: right;\n",
       "    }\n",
       "</style>\n",
       "<table border=\"1\" class=\"dataframe\">\n",
       "  <thead>\n",
       "    <tr style=\"text-align: right;\">\n",
       "      <th></th>\n",
       "      <th>index</th>\n",
       "      <th>long_form</th>\n",
       "    </tr>\n",
       "  </thead>\n",
       "  <tbody>\n",
       "    <tr>\n",
       "      <th>0</th>\n",
       "      <td>miligramo</td>\n",
       "      <td>361</td>\n",
       "    </tr>\n",
       "    <tr>\n",
       "      <th>1</th>\n",
       "      <td>decilitro</td>\n",
       "      <td>213</td>\n",
       "    </tr>\n",
       "    <tr>\n",
       "      <th>2</th>\n",
       "      <td>centimetro</td>\n",
       "      <td>171</td>\n",
       "    </tr>\n",
       "    <tr>\n",
       "      <th>3</th>\n",
       "      <td>litro</td>\n",
       "      <td>128</td>\n",
       "    </tr>\n",
       "    <tr>\n",
       "      <th>4</th>\n",
       "      <td>mililitro</td>\n",
       "      <td>117</td>\n",
       "    </tr>\n",
       "    <tr>\n",
       "      <th>...</th>\n",
       "      <td>...</td>\n",
       "      <td>...</td>\n",
       "    </tr>\n",
       "    <tr>\n",
       "      <th>673</th>\n",
       "      <td>americar joint committeer cancer</td>\n",
       "      <td>1</td>\n",
       "    </tr>\n",
       "    <tr>\n",
       "      <th>674</th>\n",
       "      <td>3 dimension</td>\n",
       "      <td>1</td>\n",
       "    </tr>\n",
       "    <tr>\n",
       "      <th>675</th>\n",
       "      <td>proteina 53</td>\n",
       "      <td>1</td>\n",
       "    </tr>\n",
       "    <tr>\n",
       "      <th>676</th>\n",
       "      <td>chlamydia</td>\n",
       "      <td>1</td>\n",
       "    </tr>\n",
       "    <tr>\n",
       "      <th>677</th>\n",
       "      <td>cancer antiger 125</td>\n",
       "      <td>1</td>\n",
       "    </tr>\n",
       "  </tbody>\n",
       "</table>\n",
       "<p>678 rows × 2 columns</p>\n",
       "</div>"
      ],
      "text/plain": [
       "                                index  long_form\n",
       "0                           miligramo        361\n",
       "1                           decilitro        213\n",
       "2                          centimetro        171\n",
       "3                               litro        128\n",
       "4                           mililitro        117\n",
       "..                                ...        ...\n",
       "673  americar joint committeer cancer          1\n",
       "674                       3 dimension          1\n",
       "675                       proteina 53          1\n",
       "676                         chlamydia          1\n",
       "677                cancer antiger 125          1\n",
       "\n",
       "[678 rows x 2 columns]"
      ]
     },
     "execution_count": 604,
     "metadata": {},
     "output_type": "execute_result"
    }
   ],
   "source": [
    "frec = test['long_form'].value_counts().reset_index()\n",
    "frec"
   ]
  },
  {
   "cell_type": "markdown",
   "metadata": {},
   "source": [
    "Create a dictionary where keys are the lf to normalize and the values the normalized form"
   ]
  },
  {
   "cell_type": "code",
   "execution_count": 605,
   "metadata": {},
   "outputs": [],
   "source": [
    "norm_test = []\n",
    "for i in sf_lf_list_test['long_form']:\n",
    "    norm_test.append(normalize_lf(i))"
   ]
  },
  {
   "cell_type": "code",
   "execution_count": 606,
   "metadata": {},
   "outputs": [],
   "source": [
    "norm_test = [i for i in norm_test if i != None]"
   ]
  },
  {
   "cell_type": "code",
   "execution_count": 607,
   "metadata": {
    "tags": []
   },
   "outputs": [],
   "source": [
    "norm_dict_test = {}\n",
    "for i in norm_test:\n",
    "    norm_dict_test.update(i)\n",
    "#norm_dict"
   ]
  },
  {
   "cell_type": "markdown",
   "metadata": {},
   "source": [
    "Finally normalize long forms over the dataframe"
   ]
  },
  {
   "cell_type": "code",
   "execution_count": 608,
   "metadata": {},
   "outputs": [
    {
     "data": {
      "text/html": [
       "<div>\n",
       "<style scoped>\n",
       "    .dataframe tbody tr th:only-of-type {\n",
       "        vertical-align: middle;\n",
       "    }\n",
       "\n",
       "    .dataframe tbody tr th {\n",
       "        vertical-align: top;\n",
       "    }\n",
       "\n",
       "    .dataframe thead th {\n",
       "        text-align: right;\n",
       "    }\n",
       "</style>\n",
       "<table border=\"1\" class=\"dataframe\">\n",
       "  <thead>\n",
       "    <tr style=\"text-align: right;\">\n",
       "      <th></th>\n",
       "      <th>doc_id</th>\n",
       "      <th>texto</th>\n",
       "      <th>short_form</th>\n",
       "      <th>long_form</th>\n",
       "      <th>StartOffset</th>\n",
       "      <th>EndOffset</th>\n",
       "    </tr>\n",
       "  </thead>\n",
       "  <tbody>\n",
       "    <tr>\n",
       "      <th>0</th>\n",
       "      <td>S1130-01082006000100014-1</td>\n",
       "      <td>Se trata de una mujer de 35 años, con antecedentes familiares de enfermedad de Crohn y sin antec...</td>\n",
       "      <td>dl</td>\n",
       "      <td>decilitro</td>\n",
       "      <td>1908</td>\n",
       "      <td>1910</td>\n",
       "    </tr>\n",
       "    <tr>\n",
       "      <th>1</th>\n",
       "      <td>S1130-01082006000100014-1</td>\n",
       "      <td>Se trata de una mujer de 35 años, con antecedentes familiares de enfermedad de Crohn y sin antec...</td>\n",
       "      <td>dl</td>\n",
       "      <td>decilitro</td>\n",
       "      <td>1684</td>\n",
       "      <td>1686</td>\n",
       "    </tr>\n",
       "    <tr>\n",
       "      <th>2</th>\n",
       "      <td>S1130-01082006000100014-1</td>\n",
       "      <td>Se trata de una mujer de 35 años, con antecedentes familiares de enfermedad de Crohn y sin antec...</td>\n",
       "      <td>dl</td>\n",
       "      <td>decilitro</td>\n",
       "      <td>1656</td>\n",
       "      <td>1658</td>\n",
       "    </tr>\n",
       "    <tr>\n",
       "      <th>3</th>\n",
       "      <td>S1130-01082006000100014-1</td>\n",
       "      <td>Se trata de una mujer de 35 años, con antecedentes familiares de enfermedad de Crohn y sin antec...</td>\n",
       "      <td>dl</td>\n",
       "      <td>decilitro</td>\n",
       "      <td>1414</td>\n",
       "      <td>1416</td>\n",
       "    </tr>\n",
       "    <tr>\n",
       "      <th>4</th>\n",
       "      <td>S1130-01082006000100014-1</td>\n",
       "      <td>Se trata de una mujer de 35 años, con antecedentes familiares de enfermedad de Crohn y sin antec...</td>\n",
       "      <td>g</td>\n",
       "      <td>gramo</td>\n",
       "      <td>1654</td>\n",
       "      <td>1655</td>\n",
       "    </tr>\n",
       "  </tbody>\n",
       "</table>\n",
       "</div>"
      ],
      "text/plain": [
       "                      doc_id  \\\n",
       "0  S1130-01082006000100014-1   \n",
       "1  S1130-01082006000100014-1   \n",
       "2  S1130-01082006000100014-1   \n",
       "3  S1130-01082006000100014-1   \n",
       "4  S1130-01082006000100014-1   \n",
       "\n",
       "                                                                                                 texto  \\\n",
       "0  Se trata de una mujer de 35 años, con antecedentes familiares de enfermedad de Crohn y sin antec...   \n",
       "1  Se trata de una mujer de 35 años, con antecedentes familiares de enfermedad de Crohn y sin antec...   \n",
       "2  Se trata de una mujer de 35 años, con antecedentes familiares de enfermedad de Crohn y sin antec...   \n",
       "3  Se trata de una mujer de 35 años, con antecedentes familiares de enfermedad de Crohn y sin antec...   \n",
       "4  Se trata de una mujer de 35 años, con antecedentes familiares de enfermedad de Crohn y sin antec...   \n",
       "\n",
       "  short_form  long_form  StartOffset  EndOffset  \n",
       "0         dl  decilitro         1908       1910  \n",
       "1         dl  decilitro         1684       1686  \n",
       "2         dl  decilitro         1656       1658  \n",
       "3         dl  decilitro         1414       1416  \n",
       "4          g      gramo         1654       1655  "
      ]
     },
     "execution_count": 608,
     "metadata": {},
     "output_type": "execute_result"
    }
   ],
   "source": [
    "train.head()"
   ]
  },
  {
   "cell_type": "code",
   "execution_count": 609,
   "metadata": {},
   "outputs": [],
   "source": [
    "test = test.replace({\"long_form\": norm_dict_test})"
   ]
  },
  {
   "cell_type": "code",
   "execution_count": 610,
   "metadata": {},
   "outputs": [
    {
     "data": {
      "text/html": [
       "<div>\n",
       "<style scoped>\n",
       "    .dataframe tbody tr th:only-of-type {\n",
       "        vertical-align: middle;\n",
       "    }\n",
       "\n",
       "    .dataframe tbody tr th {\n",
       "        vertical-align: top;\n",
       "    }\n",
       "\n",
       "    .dataframe thead th {\n",
       "        text-align: right;\n",
       "    }\n",
       "</style>\n",
       "<table border=\"1\" class=\"dataframe\">\n",
       "  <thead>\n",
       "    <tr style=\"text-align: right;\">\n",
       "      <th></th>\n",
       "      <th>doc_id</th>\n",
       "      <th>texto</th>\n",
       "      <th>short_form</th>\n",
       "      <th>long_form</th>\n",
       "      <th>StartOffset</th>\n",
       "      <th>EndOffset</th>\n",
       "    </tr>\n",
       "  </thead>\n",
       "  <tbody>\n",
       "    <tr>\n",
       "      <th>0</th>\n",
       "      <td>S1130-01082006000100014-1</td>\n",
       "      <td>Se trata de una mujer de 35 años, con antecedentes familiares de enfermedad de Crohn y sin antec...</td>\n",
       "      <td>dl</td>\n",
       "      <td>decilitro</td>\n",
       "      <td>1908</td>\n",
       "      <td>1910</td>\n",
       "    </tr>\n",
       "    <tr>\n",
       "      <th>1</th>\n",
       "      <td>S1130-01082006000100014-1</td>\n",
       "      <td>Se trata de una mujer de 35 años, con antecedentes familiares de enfermedad de Crohn y sin antec...</td>\n",
       "      <td>dl</td>\n",
       "      <td>decilitro</td>\n",
       "      <td>1684</td>\n",
       "      <td>1686</td>\n",
       "    </tr>\n",
       "    <tr>\n",
       "      <th>2</th>\n",
       "      <td>S1130-01082006000100014-1</td>\n",
       "      <td>Se trata de una mujer de 35 años, con antecedentes familiares de enfermedad de Crohn y sin antec...</td>\n",
       "      <td>dl</td>\n",
       "      <td>decilitro</td>\n",
       "      <td>1656</td>\n",
       "      <td>1658</td>\n",
       "    </tr>\n",
       "    <tr>\n",
       "      <th>3</th>\n",
       "      <td>S1130-01082006000100014-1</td>\n",
       "      <td>Se trata de una mujer de 35 años, con antecedentes familiares de enfermedad de Crohn y sin antec...</td>\n",
       "      <td>dl</td>\n",
       "      <td>decilitro</td>\n",
       "      <td>1414</td>\n",
       "      <td>1416</td>\n",
       "    </tr>\n",
       "    <tr>\n",
       "      <th>4</th>\n",
       "      <td>S1130-01082006000100014-1</td>\n",
       "      <td>Se trata de una mujer de 35 años, con antecedentes familiares de enfermedad de Crohn y sin antec...</td>\n",
       "      <td>g</td>\n",
       "      <td>gramo</td>\n",
       "      <td>1654</td>\n",
       "      <td>1655</td>\n",
       "    </tr>\n",
       "  </tbody>\n",
       "</table>\n",
       "</div>"
      ],
      "text/plain": [
       "                      doc_id  \\\n",
       "0  S1130-01082006000100014-1   \n",
       "1  S1130-01082006000100014-1   \n",
       "2  S1130-01082006000100014-1   \n",
       "3  S1130-01082006000100014-1   \n",
       "4  S1130-01082006000100014-1   \n",
       "\n",
       "                                                                                                 texto  \\\n",
       "0  Se trata de una mujer de 35 años, con antecedentes familiares de enfermedad de Crohn y sin antec...   \n",
       "1  Se trata de una mujer de 35 años, con antecedentes familiares de enfermedad de Crohn y sin antec...   \n",
       "2  Se trata de una mujer de 35 años, con antecedentes familiares de enfermedad de Crohn y sin antec...   \n",
       "3  Se trata de una mujer de 35 años, con antecedentes familiares de enfermedad de Crohn y sin antec...   \n",
       "4  Se trata de una mujer de 35 años, con antecedentes familiares de enfermedad de Crohn y sin antec...   \n",
       "\n",
       "  short_form  long_form  StartOffset  EndOffset  \n",
       "0         dl  decilitro         1908       1910  \n",
       "1         dl  decilitro         1684       1686  \n",
       "2         dl  decilitro         1656       1658  \n",
       "3         dl  decilitro         1414       1416  \n",
       "4          g      gramo         1654       1655  "
      ]
     },
     "execution_count": 610,
     "metadata": {},
     "output_type": "execute_result"
    }
   ],
   "source": [
    "train.head()"
   ]
  },
  {
   "cell_type": "markdown",
   "metadata": {},
   "source": [
    "### Get just ambigous acronyms"
   ]
  },
  {
   "cell_type": "markdown",
   "metadata": {},
   "source": [
    "Execute this code just in case only ambigous acronyms are needed."
   ]
  },
  {
   "cell_type": "code",
   "execution_count": 611,
   "metadata": {},
   "outputs": [],
   "source": [
    "#amb_test = test.groupby('short_form')['long_form'].nunique().reset_index().sort_values('long_form', ascending = False)"
   ]
  },
  {
   "cell_type": "code",
   "execution_count": 612,
   "metadata": {},
   "outputs": [],
   "source": [
    "#amb_test.head()"
   ]
  },
  {
   "cell_type": "code",
   "execution_count": 613,
   "metadata": {},
   "outputs": [],
   "source": [
    "#table = pd.crosstab(amb_test['long_form'], columns = 'Count')\n",
    "#table.plot.bar()\n",
    "#plt.show()"
   ]
  },
  {
   "cell_type": "code",
   "execution_count": 614,
   "metadata": {},
   "outputs": [],
   "source": [
    "#defin_test = amb_test[amb_test['long_form'] != 1]['short_form'].values.tolist()"
   ]
  },
  {
   "cell_type": "code",
   "execution_count": 615,
   "metadata": {},
   "outputs": [],
   "source": [
    "#test.shape"
   ]
  },
  {
   "cell_type": "code",
   "execution_count": 616,
   "metadata": {},
   "outputs": [],
   "source": [
    "#test = test[test['short_form'].isin(defin_test)]"
   ]
  },
  {
   "cell_type": "code",
   "execution_count": 617,
   "metadata": {},
   "outputs": [],
   "source": [
    "#test.shape"
   ]
  },
  {
   "cell_type": "markdown",
   "metadata": {},
   "source": [
    "Transform dataframe to a list of dictionaries"
   ]
  },
  {
   "cell_type": "code",
   "execution_count": 618,
   "metadata": {},
   "outputs": [],
   "source": [
    "test_data = test[['doc_id', 'texto', 'short_form', 'long_form', 'StartOffset', 'EndOffset']].to_dict('records')"
   ]
  },
  {
   "cell_type": "markdown",
   "metadata": {},
   "source": [
    "### Get the text before and after the SF"
   ]
  },
  {
   "cell_type": "code",
   "execution_count": 619,
   "metadata": {},
   "outputs": [],
   "source": [
    "test_ndata, sf_not_found = get_f_b_context_text(test_data)"
   ]
  },
  {
   "cell_type": "markdown",
   "metadata": {},
   "source": [
    "Check if any SF is not founded in the text"
   ]
  },
  {
   "cell_type": "code",
   "execution_count": 620,
   "metadata": {},
   "outputs": [],
   "source": [
    "sf_not_found_set = set(sf_not_found)"
   ]
  },
  {
   "cell_type": "code",
   "execution_count": 621,
   "metadata": {},
   "outputs": [
    {
     "data": {
      "text/plain": [
       "0"
      ]
     },
     "execution_count": 621,
     "metadata": {},
     "output_type": "execute_result"
    }
   ],
   "source": [
    "len(sf_not_found_set)"
   ]
  },
  {
   "cell_type": "markdown",
   "metadata": {},
   "source": [
    "Execute this code just in case clean the texts are needed: remove string punctuation, accents, lower case, remove double spaces, separate numbers from sf"
   ]
  },
  {
   "cell_type": "code",
   "execution_count": 622,
   "metadata": {},
   "outputs": [],
   "source": [
    "# def clean_text_after(data):\n",
    "    \n",
    "#     for instance in data:\n",
    "#         instance[1] = clean_text(instance[1]).lower()\n",
    "#         instance[2] = clean_text(instance[2]).lower()\n",
    "#         instance[1] = re.sub(r'(\\d+)', r'\\g<1> ', instance[1]) #metemos espacio entre número y acrónimos que quedan pegados    \n",
    "#         instance[2] = re.sub(r'(\\d+)', r'\\g<1> ', instance[2])\n",
    "#         instance[1] = re.sub(r'\\s+', ' ', instance[1]).strip()\n",
    "#         instance[2] = re.sub(r'\\s+', ' ', instance[2]).strip()\n",
    "#     return data\n",
    "        "
   ]
  },
  {
   "cell_type": "code",
   "execution_count": 623,
   "metadata": {},
   "outputs": [],
   "source": [
    "# train_ndata = clean_text_after(train_ndata)"
   ]
  },
  {
   "cell_type": "markdown",
   "metadata": {},
   "source": [
    "### Get the contexts "
   ]
  },
  {
   "cell_type": "markdown",
   "metadata": {},
   "source": [
    "From the texts before and after the sf, we limit the number of words"
   ]
  },
  {
   "cell_type": "code",
   "execution_count": 624,
   "metadata": {},
   "outputs": [],
   "source": [
    "star_ends_tokens = 6 #number of tokens to add because <start> and <end> labels "
   ]
  },
  {
   "cell_type": "code",
   "execution_count": 625,
   "metadata": {},
   "outputs": [],
   "source": [
    "n_step_f = 10 + star_ends_tokens #number of words to select from the forward context\n",
    "n_step_b = 10 #number of words to select from the backward context"
   ]
  },
  {
   "cell_type": "code",
   "execution_count": 626,
   "metadata": {},
   "outputs": [],
   "source": [
    "test_ndata = limit_context(test_ndata)"
   ]
  },
  {
   "cell_type": "code",
   "execution_count": 627,
   "metadata": {},
   "outputs": [
    {
     "data": {
      "text/plain": [
       "['PAI',\n",
       " 'retiró el drenaje percutáneo . Con el diagnóstico de probable < start > PAI < end >',\n",
       " 'el paciente fue dado de alta y seguido de forma',\n",
       " 'pancreatitis autoinmunir']"
      ]
     },
     "execution_count": 627,
     "metadata": {},
     "output_type": "execute_result"
    }
   ],
   "source": [
    "test_ndata[0]"
   ]
  },
  {
   "cell_type": "markdown",
   "metadata": {},
   "source": [
    "### Transform into df grouped by LF"
   ]
  },
  {
   "cell_type": "code",
   "execution_count": 628,
   "metadata": {},
   "outputs": [],
   "source": [
    "data_dic = create_dict(test_ndata)"
   ]
  },
  {
   "cell_type": "code",
   "execution_count": 629,
   "metadata": {},
   "outputs": [],
   "source": [
    "data_df = pd.DataFrame(data_dic)"
   ]
  },
  {
   "cell_type": "markdown",
   "metadata": {},
   "source": [
    "Asign an id to each LF"
   ]
  },
  {
   "cell_type": "code",
   "execution_count": 630,
   "metadata": {},
   "outputs": [],
   "source": [
    "data_df = data_df.assign(id=(data_df['long_form']).astype('category').cat.codes)"
   ]
  },
  {
   "cell_type": "code",
   "execution_count": 631,
   "metadata": {},
   "outputs": [
    {
     "data": {
      "text/html": [
       "<div>\n",
       "<style scoped>\n",
       "    .dataframe tbody tr th:only-of-type {\n",
       "        vertical-align: middle;\n",
       "    }\n",
       "\n",
       "    .dataframe tbody tr th {\n",
       "        vertical-align: top;\n",
       "    }\n",
       "\n",
       "    .dataframe thead th {\n",
       "        text-align: right;\n",
       "    }\n",
       "</style>\n",
       "<table border=\"1\" class=\"dataframe\">\n",
       "  <thead>\n",
       "    <tr style=\"text-align: right;\">\n",
       "      <th></th>\n",
       "      <th>short_form</th>\n",
       "      <th>context</th>\n",
       "      <th>long_form</th>\n",
       "      <th>id</th>\n",
       "    </tr>\n",
       "  </thead>\n",
       "  <tbody>\n",
       "    <tr>\n",
       "      <th>0</th>\n",
       "      <td>PAI</td>\n",
       "      <td>retiró el drenaje percutáneo . Con el diagnóstico de probable &lt; start &gt; PAI &lt; end &gt; el paciente ...</td>\n",
       "      <td>pancreatitis autoinmunir</td>\n",
       "      <td>459</td>\n",
       "    </tr>\n",
       "    <tr>\n",
       "      <th>1</th>\n",
       "      <td>SLA</td>\n",
       "      <td>AMA , AMA-2 , ANCA , LKM1 , SMA , &lt; start &gt; SLA &lt; end &gt; y F-actina ) y serologías para virus y b...</td>\n",
       "      <td>antisoluble liver antiger</td>\n",
       "      <td>57</td>\n",
       "    </tr>\n",
       "    <tr>\n",
       "      <th>2</th>\n",
       "      <td>SMA</td>\n",
       "      <td>ANA , AMA , AMA-2 , ANCA , LKM1 , &lt; start &gt; SMA &lt; end &gt; SLA y F-actina ) y serologías para virus...</td>\n",
       "      <td>smooth muscle actin</td>\n",
       "      <td>561</td>\n",
       "    </tr>\n",
       "    <tr>\n",
       "      <th>3</th>\n",
       "      <td>LKM1</td>\n",
       "      <td>autoanticuerpos ( ANA , AMA , AMA-2 , ANCA , &lt; start &gt; LKM1 &lt; end &gt; SMA , SLA y F-actina ) y ser...</td>\n",
       "      <td>liverkidney microsomal type 1</td>\n",
       "      <td>378</td>\n",
       "    </tr>\n",
       "    <tr>\n",
       "      <th>4</th>\n",
       "      <td>ANCA</td>\n",
       "      <td>. Los autoanticuerpos ( ANA , AMA , AMA-2 , &lt; start &gt; ANCA &lt; end &gt; LKM1 , SMA , SLA y F-actina )...</td>\n",
       "      <td>antineutrophil cytoplasmic antibodie</td>\n",
       "      <td>50</td>\n",
       "    </tr>\n",
       "  </tbody>\n",
       "</table>\n",
       "</div>"
      ],
      "text/plain": [
       "  short_form  \\\n",
       "0        PAI   \n",
       "1        SLA   \n",
       "2        SMA   \n",
       "3       LKM1   \n",
       "4       ANCA   \n",
       "\n",
       "                                                                                               context  \\\n",
       "0  retiró el drenaje percutáneo . Con el diagnóstico de probable < start > PAI < end > el paciente ...   \n",
       "1  AMA , AMA-2 , ANCA , LKM1 , SMA , < start > SLA < end > y F-actina ) y serologías para virus y b...   \n",
       "2  ANA , AMA , AMA-2 , ANCA , LKM1 , < start > SMA < end > SLA y F-actina ) y serologías para virus...   \n",
       "3  autoanticuerpos ( ANA , AMA , AMA-2 , ANCA , < start > LKM1 < end > SMA , SLA y F-actina ) y ser...   \n",
       "4  . Los autoanticuerpos ( ANA , AMA , AMA-2 , < start > ANCA < end > LKM1 , SMA , SLA y F-actina )...   \n",
       "\n",
       "                              long_form   id  \n",
       "0              pancreatitis autoinmunir  459  \n",
       "1             antisoluble liver antiger   57  \n",
       "2                   smooth muscle actin  561  \n",
       "3         liverkidney microsomal type 1  378  \n",
       "4  antineutrophil cytoplasmic antibodie   50  "
      ]
     },
     "execution_count": 631,
     "metadata": {},
     "output_type": "execute_result"
    }
   ],
   "source": [
    "data_df.head()"
   ]
  },
  {
   "cell_type": "code",
   "execution_count": 632,
   "metadata": {},
   "outputs": [
    {
     "data": {
      "text/plain": [
       "(3515, 4)"
      ]
     },
     "execution_count": 632,
     "metadata": {},
     "output_type": "execute_result"
    }
   ],
   "source": [
    "data_df.shape"
   ]
  },
  {
   "cell_type": "markdown",
   "metadata": {},
   "source": [
    "We will join each SF with all possible LFs, one for each record, so that later the model works in binary form assigning the probability that that is its LF"
   ]
  },
  {
   "cell_type": "code",
   "execution_count": 633,
   "metadata": {},
   "outputs": [],
   "source": [
    "sf_lf_unique = data_df[['short_form', 'long_form']].drop_duplicates()"
   ]
  },
  {
   "cell_type": "code",
   "execution_count": 634,
   "metadata": {},
   "outputs": [
    {
     "data": {
      "text/plain": [
       "(758, 2)"
      ]
     },
     "execution_count": 634,
     "metadata": {},
     "output_type": "execute_result"
    }
   ],
   "source": [
    "sf_lf_unique.shape"
   ]
  },
  {
   "cell_type": "code",
   "execution_count": 635,
   "metadata": {},
   "outputs": [
    {
     "data": {
      "text/html": [
       "<div>\n",
       "<style scoped>\n",
       "    .dataframe tbody tr th:only-of-type {\n",
       "        vertical-align: middle;\n",
       "    }\n",
       "\n",
       "    .dataframe tbody tr th {\n",
       "        vertical-align: top;\n",
       "    }\n",
       "\n",
       "    .dataframe thead th {\n",
       "        text-align: right;\n",
       "    }\n",
       "</style>\n",
       "<table border=\"1\" class=\"dataframe\">\n",
       "  <thead>\n",
       "    <tr style=\"text-align: right;\">\n",
       "      <th></th>\n",
       "      <th>short_form</th>\n",
       "      <th>long_form</th>\n",
       "    </tr>\n",
       "  </thead>\n",
       "  <tbody>\n",
       "    <tr>\n",
       "      <th>1531</th>\n",
       "      <td>/mm3</td>\n",
       "      <td>milimetro cubico</td>\n",
       "    </tr>\n",
       "    <tr>\n",
       "      <th>2156</th>\n",
       "      <td>16SrRNA</td>\n",
       "      <td>16s ribosomal rno</td>\n",
       "    </tr>\n",
       "    <tr>\n",
       "      <th>1981</th>\n",
       "      <td>3D</td>\n",
       "      <td>3 dimension</td>\n",
       "    </tr>\n",
       "    <tr>\n",
       "      <th>2084</th>\n",
       "      <td>5-ASA</td>\n",
       "      <td>5aminosalicylic acid</td>\n",
       "    </tr>\n",
       "    <tr>\n",
       "      <th>2132</th>\n",
       "      <td>A</td>\n",
       "      <td>adenina</td>\n",
       "    </tr>\n",
       "  </tbody>\n",
       "</table>\n",
       "</div>"
      ],
      "text/plain": [
       "     short_form             long_form\n",
       "1531       /mm3      milimetro cubico\n",
       "2156    16SrRNA     16s ribosomal rno\n",
       "1981         3D           3 dimension\n",
       "2084      5-ASA  5aminosalicylic acid\n",
       "2132          A               adenina"
      ]
     },
     "execution_count": 635,
     "metadata": {},
     "output_type": "execute_result"
    }
   ],
   "source": [
    "sf_lf_unique.sort_values('short_form').head()"
   ]
  },
  {
   "cell_type": "code",
   "execution_count": 636,
   "metadata": {},
   "outputs": [],
   "source": [
    "data_merged_test = data_df.merge(sf_lf_unique, on = 'short_form', how = 'left')"
   ]
  },
  {
   "cell_type": "code",
   "execution_count": 637,
   "metadata": {},
   "outputs": [
    {
     "data": {
      "text/plain": [
       "(4419, 5)"
      ]
     },
     "execution_count": 637,
     "metadata": {},
     "output_type": "execute_result"
    }
   ],
   "source": [
    "data_merged_test.shape"
   ]
  },
  {
   "cell_type": "code",
   "execution_count": 639,
   "metadata": {},
   "outputs": [
    {
     "data": {
      "text/html": [
       "<div>\n",
       "<style scoped>\n",
       "    .dataframe tbody tr th:only-of-type {\n",
       "        vertical-align: middle;\n",
       "    }\n",
       "\n",
       "    .dataframe tbody tr th {\n",
       "        vertical-align: top;\n",
       "    }\n",
       "\n",
       "    .dataframe thead th {\n",
       "        text-align: right;\n",
       "    }\n",
       "</style>\n",
       "<table border=\"1\" class=\"dataframe\">\n",
       "  <thead>\n",
       "    <tr style=\"text-align: right;\">\n",
       "      <th></th>\n",
       "      <th>short_form</th>\n",
       "      <th>context</th>\n",
       "      <th>long_form</th>\n",
       "      <th>id</th>\n",
       "    </tr>\n",
       "  </thead>\n",
       "  <tbody>\n",
       "    <tr>\n",
       "      <th>1531</th>\n",
       "      <td>/mm3</td>\n",
       "      <td>mostró un líquido espeso de aspecto lechoso con 1400 leucocitos &lt; start &gt; /mm3 &lt; end &gt; con un 10...</td>\n",
       "      <td>milimetro cubico</td>\n",
       "      <td>412</td>\n",
       "    </tr>\n",
       "    <tr>\n",
       "      <th>2156</th>\n",
       "      <td>16SrRNA</td>\n",
       "      <td>los que se procedió al estudio genético mediante secuenciación del &lt; start &gt; 16SrRNA &lt; end &gt; ide...</td>\n",
       "      <td>16s ribosomal rno</td>\n",
       "      <td>0</td>\n",
       "    </tr>\n",
       "    <tr>\n",
       "      <th>1981</th>\n",
       "      <td>3D</td>\n",
       "      <td>con cuñas de compensación tisular tras simulación virtual y planificación &lt; start &gt; 3D &lt; end &gt; s...</td>\n",
       "      <td>3 dimension</td>\n",
       "      <td>1</td>\n",
       "    </tr>\n",
       "    <tr>\n",
       "      <th>2084</th>\n",
       "      <td>5-ASA</td>\n",
       "      <td>endoscópicos , de colitis ulcerosa , se inicia tratamiento con &lt; start &gt; 5-ASA &lt; end &gt; a pesar d...</td>\n",
       "      <td>5aminosalicylic acid</td>\n",
       "      <td>2</td>\n",
       "    </tr>\n",
       "    <tr>\n",
       "      <th>1902</th>\n",
       "      <td>A</td>\n",
       "      <td>dominante ( ATR-AD ) . Dicha mutación ( c.1766G &gt; &lt; start &gt; A &lt; end &gt; fig . 2A ) supone la susti...</td>\n",
       "      <td>adeniner</td>\n",
       "      <td>13</td>\n",
       "    </tr>\n",
       "  </tbody>\n",
       "</table>\n",
       "</div>"
      ],
      "text/plain": [
       "     short_form  \\\n",
       "1531       /mm3   \n",
       "2156    16SrRNA   \n",
       "1981         3D   \n",
       "2084      5-ASA   \n",
       "1902          A   \n",
       "\n",
       "                                                                                                  context  \\\n",
       "1531  mostró un líquido espeso de aspecto lechoso con 1400 leucocitos < start > /mm3 < end > con un 10...   \n",
       "2156  los que se procedió al estudio genético mediante secuenciación del < start > 16SrRNA < end > ide...   \n",
       "1981  con cuñas de compensación tisular tras simulación virtual y planificación < start > 3D < end > s...   \n",
       "2084  endoscópicos , de colitis ulcerosa , se inicia tratamiento con < start > 5-ASA < end > a pesar d...   \n",
       "1902  dominante ( ATR-AD ) . Dicha mutación ( c.1766G > < start > A < end > fig . 2A ) supone la susti...   \n",
       "\n",
       "                 long_form   id  \n",
       "1531      milimetro cubico  412  \n",
       "2156     16s ribosomal rno    0  \n",
       "1981           3 dimension    1  \n",
       "2084  5aminosalicylic acid    2  \n",
       "1902              adeniner   13  "
      ]
     },
     "execution_count": 639,
     "metadata": {},
     "output_type": "execute_result"
    }
   ],
   "source": [
    "data_df.sort_values(['short_form', 'context']).head()"
   ]
  },
  {
   "cell_type": "code",
   "execution_count": 640,
   "metadata": {},
   "outputs": [
    {
     "data": {
      "text/html": [
       "<div>\n",
       "<style scoped>\n",
       "    .dataframe tbody tr th:only-of-type {\n",
       "        vertical-align: middle;\n",
       "    }\n",
       "\n",
       "    .dataframe tbody tr th {\n",
       "        vertical-align: top;\n",
       "    }\n",
       "\n",
       "    .dataframe thead th {\n",
       "        text-align: right;\n",
       "    }\n",
       "</style>\n",
       "<table border=\"1\" class=\"dataframe\">\n",
       "  <thead>\n",
       "    <tr style=\"text-align: right;\">\n",
       "      <th></th>\n",
       "      <th>short_form</th>\n",
       "      <th>context</th>\n",
       "      <th>long_form_x</th>\n",
       "      <th>id</th>\n",
       "      <th>long_form_y</th>\n",
       "    </tr>\n",
       "  </thead>\n",
       "  <tbody>\n",
       "    <tr>\n",
       "      <th>1892</th>\n",
       "      <td>/mm3</td>\n",
       "      <td>mostró un líquido espeso de aspecto lechoso con 1400 leucocitos &lt; start &gt; /mm3 &lt; end &gt; con un 10...</td>\n",
       "      <td>milimetro cubico</td>\n",
       "      <td>412</td>\n",
       "      <td>milimetro cubico</td>\n",
       "    </tr>\n",
       "    <tr>\n",
       "      <th>2690</th>\n",
       "      <td>16SrRNA</td>\n",
       "      <td>los que se procedió al estudio genético mediante secuenciación del &lt; start &gt; 16SrRNA &lt; end &gt; ide...</td>\n",
       "      <td>16s ribosomal rno</td>\n",
       "      <td>0</td>\n",
       "      <td>16s ribosomal rno</td>\n",
       "    </tr>\n",
       "    <tr>\n",
       "      <th>2474</th>\n",
       "      <td>3D</td>\n",
       "      <td>con cuñas de compensación tisular tras simulación virtual y planificación &lt; start &gt; 3D &lt; end &gt; s...</td>\n",
       "      <td>3 dimension</td>\n",
       "      <td>1</td>\n",
       "      <td>3 dimension</td>\n",
       "    </tr>\n",
       "    <tr>\n",
       "      <th>2590</th>\n",
       "      <td>5-ASA</td>\n",
       "      <td>endoscópicos , de colitis ulcerosa , se inicia tratamiento con &lt; start &gt; 5-ASA &lt; end &gt; a pesar d...</td>\n",
       "      <td>5aminosalicylic acid</td>\n",
       "      <td>2</td>\n",
       "      <td>5aminosalicylic acid</td>\n",
       "    </tr>\n",
       "    <tr>\n",
       "      <th>2372</th>\n",
       "      <td>A</td>\n",
       "      <td>dominante ( ATR-AD ) . Dicha mutación ( c.1766G &gt; &lt; start &gt; A &lt; end &gt; fig . 2A ) supone la susti...</td>\n",
       "      <td>adeniner</td>\n",
       "      <td>13</td>\n",
       "      <td>adeniner</td>\n",
       "    </tr>\n",
       "  </tbody>\n",
       "</table>\n",
       "</div>"
      ],
      "text/plain": [
       "     short_form  \\\n",
       "1892       /mm3   \n",
       "2690    16SrRNA   \n",
       "2474         3D   \n",
       "2590      5-ASA   \n",
       "2372          A   \n",
       "\n",
       "                                                                                                  context  \\\n",
       "1892  mostró un líquido espeso de aspecto lechoso con 1400 leucocitos < start > /mm3 < end > con un 10...   \n",
       "2690  los que se procedió al estudio genético mediante secuenciación del < start > 16SrRNA < end > ide...   \n",
       "2474  con cuñas de compensación tisular tras simulación virtual y planificación < start > 3D < end > s...   \n",
       "2590  endoscópicos , de colitis ulcerosa , se inicia tratamiento con < start > 5-ASA < end > a pesar d...   \n",
       "2372  dominante ( ATR-AD ) . Dicha mutación ( c.1766G > < start > A < end > fig . 2A ) supone la susti...   \n",
       "\n",
       "               long_form_x   id           long_form_y  \n",
       "1892      milimetro cubico  412      milimetro cubico  \n",
       "2690     16s ribosomal rno    0     16s ribosomal rno  \n",
       "2474           3 dimension    1           3 dimension  \n",
       "2590  5aminosalicylic acid    2  5aminosalicylic acid  \n",
       "2372              adeniner   13              adeniner  "
      ]
     },
     "execution_count": 640,
     "metadata": {},
     "output_type": "execute_result"
    }
   ],
   "source": [
    "data_merged_test.sort_values(['short_form', 'context']).head()"
   ]
  },
  {
   "cell_type": "markdown",
   "metadata": {},
   "source": [
    "Target must be 1 or 0. 1 if the corresponding LF is the one assigned to it, 0 otherwise"
   ]
  },
  {
   "cell_type": "code",
   "execution_count": 642,
   "metadata": {},
   "outputs": [],
   "source": [
    "data_merged_test['label'] = data_merged_test.apply(get_label, axis = 1)"
   ]
  },
  {
   "cell_type": "code",
   "execution_count": 643,
   "metadata": {},
   "outputs": [
    {
     "data": {
      "text/html": [
       "<div>\n",
       "<style scoped>\n",
       "    .dataframe tbody tr th:only-of-type {\n",
       "        vertical-align: middle;\n",
       "    }\n",
       "\n",
       "    .dataframe tbody tr th {\n",
       "        vertical-align: top;\n",
       "    }\n",
       "\n",
       "    .dataframe thead th {\n",
       "        text-align: right;\n",
       "    }\n",
       "</style>\n",
       "<table border=\"1\" class=\"dataframe\">\n",
       "  <thead>\n",
       "    <tr style=\"text-align: right;\">\n",
       "      <th></th>\n",
       "      <th>short_form</th>\n",
       "      <th>context</th>\n",
       "      <th>long_form_x</th>\n",
       "      <th>id</th>\n",
       "      <th>long_form_y</th>\n",
       "      <th>label</th>\n",
       "    </tr>\n",
       "  </thead>\n",
       "  <tbody>\n",
       "    <tr>\n",
       "      <th>0</th>\n",
       "      <td>PAI</td>\n",
       "      <td>retiró el drenaje percutáneo . Con el diagnóstico de probable &lt; start &gt; PAI &lt; end &gt; el paciente ...</td>\n",
       "      <td>pancreatitis autoinmunir</td>\n",
       "      <td>459</td>\n",
       "      <td>pancreatitis autoinmunir</td>\n",
       "      <td>1</td>\n",
       "    </tr>\n",
       "    <tr>\n",
       "      <th>1</th>\n",
       "      <td>SLA</td>\n",
       "      <td>AMA , AMA-2 , ANCA , LKM1 , SMA , &lt; start &gt; SLA &lt; end &gt; y F-actina ) y serologías para virus y b...</td>\n",
       "      <td>antisoluble liver antiger</td>\n",
       "      <td>57</td>\n",
       "      <td>antisoluble liver antiger</td>\n",
       "      <td>1</td>\n",
       "    </tr>\n",
       "    <tr>\n",
       "      <th>2</th>\n",
       "      <td>SMA</td>\n",
       "      <td>ANA , AMA , AMA-2 , ANCA , LKM1 , &lt; start &gt; SMA &lt; end &gt; SLA y F-actina ) y serologías para virus...</td>\n",
       "      <td>smooth muscle actin</td>\n",
       "      <td>561</td>\n",
       "      <td>smooth muscle actin</td>\n",
       "      <td>1</td>\n",
       "    </tr>\n",
       "    <tr>\n",
       "      <th>3</th>\n",
       "      <td>LKM1</td>\n",
       "      <td>autoanticuerpos ( ANA , AMA , AMA-2 , ANCA , &lt; start &gt; LKM1 &lt; end &gt; SMA , SLA y F-actina ) y ser...</td>\n",
       "      <td>liverkidney microsomal type 1</td>\n",
       "      <td>378</td>\n",
       "      <td>liverkidney microsomal type 1</td>\n",
       "      <td>1</td>\n",
       "    </tr>\n",
       "    <tr>\n",
       "      <th>4</th>\n",
       "      <td>ANCA</td>\n",
       "      <td>. Los autoanticuerpos ( ANA , AMA , AMA-2 , &lt; start &gt; ANCA &lt; end &gt; LKM1 , SMA , SLA y F-actina )...</td>\n",
       "      <td>antineutrophil cytoplasmic antibodie</td>\n",
       "      <td>50</td>\n",
       "      <td>antineutrophil cytoplasmic antibodie</td>\n",
       "      <td>1</td>\n",
       "    </tr>\n",
       "  </tbody>\n",
       "</table>\n",
       "</div>"
      ],
      "text/plain": [
       "  short_form  \\\n",
       "0        PAI   \n",
       "1        SLA   \n",
       "2        SMA   \n",
       "3       LKM1   \n",
       "4       ANCA   \n",
       "\n",
       "                                                                                               context  \\\n",
       "0  retiró el drenaje percutáneo . Con el diagnóstico de probable < start > PAI < end > el paciente ...   \n",
       "1  AMA , AMA-2 , ANCA , LKM1 , SMA , < start > SLA < end > y F-actina ) y serologías para virus y b...   \n",
       "2  ANA , AMA , AMA-2 , ANCA , LKM1 , < start > SMA < end > SLA y F-actina ) y serologías para virus...   \n",
       "3  autoanticuerpos ( ANA , AMA , AMA-2 , ANCA , < start > LKM1 < end > SMA , SLA y F-actina ) y ser...   \n",
       "4  . Los autoanticuerpos ( ANA , AMA , AMA-2 , < start > ANCA < end > LKM1 , SMA , SLA y F-actina )...   \n",
       "\n",
       "                            long_form_x   id  \\\n",
       "0              pancreatitis autoinmunir  459   \n",
       "1             antisoluble liver antiger   57   \n",
       "2                   smooth muscle actin  561   \n",
       "3         liverkidney microsomal type 1  378   \n",
       "4  antineutrophil cytoplasmic antibodie   50   \n",
       "\n",
       "                            long_form_y  label  \n",
       "0              pancreatitis autoinmunir      1  \n",
       "1             antisoluble liver antiger      1  \n",
       "2                   smooth muscle actin      1  \n",
       "3         liverkidney microsomal type 1      1  \n",
       "4  antineutrophil cytoplasmic antibodie      1  "
      ]
     },
     "execution_count": 643,
     "metadata": {},
     "output_type": "execute_result"
    }
   ],
   "source": [
    "data_merged_test.head()"
   ]
  },
  {
   "cell_type": "code",
   "execution_count": 644,
   "metadata": {},
   "outputs": [],
   "source": [
    "data_merged_test = data_merged_test[['short_form', 'context', 'long_form_y', 'label']]"
   ]
  },
  {
   "cell_type": "code",
   "execution_count": 645,
   "metadata": {},
   "outputs": [],
   "source": [
    "data_merged_test = data_merged_test.rename(columns = {'long_form_y':'long_form'})"
   ]
  },
  {
   "cell_type": "code",
   "execution_count": 646,
   "metadata": {},
   "outputs": [],
   "source": [
    "data_merged_test.reset_index(drop = True, inplace = True)"
   ]
  },
  {
   "cell_type": "code",
   "execution_count": 647,
   "metadata": {},
   "outputs": [
    {
     "data": {
      "text/html": [
       "<div>\n",
       "<style scoped>\n",
       "    .dataframe tbody tr th:only-of-type {\n",
       "        vertical-align: middle;\n",
       "    }\n",
       "\n",
       "    .dataframe tbody tr th {\n",
       "        vertical-align: top;\n",
       "    }\n",
       "\n",
       "    .dataframe thead th {\n",
       "        text-align: right;\n",
       "    }\n",
       "</style>\n",
       "<table border=\"1\" class=\"dataframe\">\n",
       "  <thead>\n",
       "    <tr style=\"text-align: right;\">\n",
       "      <th></th>\n",
       "      <th>short_form</th>\n",
       "      <th>context</th>\n",
       "      <th>long_form</th>\n",
       "      <th>label</th>\n",
       "    </tr>\n",
       "  </thead>\n",
       "  <tbody>\n",
       "    <tr>\n",
       "      <th>0</th>\n",
       "      <td>PAI</td>\n",
       "      <td>retiró el drenaje percutáneo . Con el diagnóstico de probable &lt; start &gt; PAI &lt; end &gt; el paciente ...</td>\n",
       "      <td>pancreatitis autoinmunir</td>\n",
       "      <td>1</td>\n",
       "    </tr>\n",
       "    <tr>\n",
       "      <th>1</th>\n",
       "      <td>SLA</td>\n",
       "      <td>AMA , AMA-2 , ANCA , LKM1 , SMA , &lt; start &gt; SLA &lt; end &gt; y F-actina ) y serologías para virus y b...</td>\n",
       "      <td>antisoluble liver antiger</td>\n",
       "      <td>1</td>\n",
       "    </tr>\n",
       "    <tr>\n",
       "      <th>2</th>\n",
       "      <td>SMA</td>\n",
       "      <td>ANA , AMA , AMA-2 , ANCA , LKM1 , &lt; start &gt; SMA &lt; end &gt; SLA y F-actina ) y serologías para virus...</td>\n",
       "      <td>smooth muscle actin</td>\n",
       "      <td>1</td>\n",
       "    </tr>\n",
       "    <tr>\n",
       "      <th>3</th>\n",
       "      <td>LKM1</td>\n",
       "      <td>autoanticuerpos ( ANA , AMA , AMA-2 , ANCA , &lt; start &gt; LKM1 &lt; end &gt; SMA , SLA y F-actina ) y ser...</td>\n",
       "      <td>liverkidney microsomal type 1</td>\n",
       "      <td>1</td>\n",
       "    </tr>\n",
       "    <tr>\n",
       "      <th>4</th>\n",
       "      <td>ANCA</td>\n",
       "      <td>. Los autoanticuerpos ( ANA , AMA , AMA-2 , &lt; start &gt; ANCA &lt; end &gt; LKM1 , SMA , SLA y F-actina )...</td>\n",
       "      <td>antineutrophil cytoplasmic antibodie</td>\n",
       "      <td>1</td>\n",
       "    </tr>\n",
       "  </tbody>\n",
       "</table>\n",
       "</div>"
      ],
      "text/plain": [
       "  short_form  \\\n",
       "0        PAI   \n",
       "1        SLA   \n",
       "2        SMA   \n",
       "3       LKM1   \n",
       "4       ANCA   \n",
       "\n",
       "                                                                                               context  \\\n",
       "0  retiró el drenaje percutáneo . Con el diagnóstico de probable < start > PAI < end > el paciente ...   \n",
       "1  AMA , AMA-2 , ANCA , LKM1 , SMA , < start > SLA < end > y F-actina ) y serologías para virus y b...   \n",
       "2  ANA , AMA , AMA-2 , ANCA , LKM1 , < start > SMA < end > SLA y F-actina ) y serologías para virus...   \n",
       "3  autoanticuerpos ( ANA , AMA , AMA-2 , ANCA , < start > LKM1 < end > SMA , SLA y F-actina ) y ser...   \n",
       "4  . Los autoanticuerpos ( ANA , AMA , AMA-2 , < start > ANCA < end > LKM1 , SMA , SLA y F-actina )...   \n",
       "\n",
       "                              long_form  label  \n",
       "0              pancreatitis autoinmunir      1  \n",
       "1             antisoluble liver antiger      1  \n",
       "2                   smooth muscle actin      1  \n",
       "3         liverkidney microsomal type 1      1  \n",
       "4  antineutrophil cytoplasmic antibodie      1  "
      ]
     },
     "execution_count": 647,
     "metadata": {},
     "output_type": "execute_result"
    }
   ],
   "source": [
    "data_merged_test.head()"
   ]
  },
  {
   "cell_type": "code",
   "execution_count": 648,
   "metadata": {},
   "outputs": [],
   "source": [
    "data_merged_test.to_csv('data/data_train/test_data_beto_10_NOamb_lfnorm_medline.csv')"
   ]
  }
 ],
 "metadata": {
  "kernelspec": {
   "display_name": "Python [conda env:tfm]",
   "language": "python",
   "name": "conda-env-tfm-py"
  },
  "language_info": {
   "codemirror_mode": {
    "name": "ipython",
    "version": 3
   },
   "file_extension": ".py",
   "mimetype": "text/x-python",
   "name": "python",
   "nbconvert_exporter": "python",
   "pygments_lexer": "ipython3",
   "version": "3.7.10"
  }
 },
 "nbformat": 4,
 "nbformat_minor": 4
}
