{
 "cells": [
  {
   "cell_type": "markdown",
   "id": "c0ef3c2d-13ae-4a46-991d-2183b06ee335",
   "metadata": {},
   "source": [
    "# Library"
   ]
  },
  {
   "cell_type": "code",
   "execution_count": 1,
   "id": "87009de2-8f9b-4cb9-a8ae-967a774b0a6b",
   "metadata": {},
   "outputs": [],
   "source": [
    "import pandas as pd\n",
    "import numpy as np\n",
    "import os\n",
    "import re\n",
    "import collections\n",
    "import unidecode\n",
    "import nltk\n",
    "from nltk.corpus import stopwords\n",
    "import itertools \n",
    "from nltk.tokenize import word_tokenize\n",
    "from string import punctuation\n",
    "from functools import reduce\n",
    "import seaborn as sns\n",
    "from abbreviations import schwartz_hearst"
   ]
  },
  {
   "cell_type": "code",
   "execution_count": 2,
   "id": "4364c902-e61a-40bb-a2d7-2bb28fe51ca8",
   "metadata": {},
   "outputs": [],
   "source": [
    "pd.set_option('display.max_colwidth', 100)"
   ]
  },
  {
   "cell_type": "code",
   "execution_count": 3,
   "id": "860cdbbe-5b5a-4031-9d42-144a9b312bff",
   "metadata": {
    "tags": []
   },
   "outputs": [],
   "source": [
    "%matplotlib inline\n",
    "from matplotlib import pyplot as plt"
   ]
  },
  {
   "cell_type": "markdown",
   "id": "483b958e-7686-45a7-b29e-ec91bcb15f99",
   "metadata": {},
   "source": [
    "# Functions"
   ]
  },
  {
   "cell_type": "code",
   "execution_count": 4,
   "id": "359d1339-a09e-4e56-84fc-085b21bf0a7d",
   "metadata": {
    "tags": []
   },
   "outputs": [],
   "source": [
    "def read_texts(path):\n",
    "    data = []\n",
    "    file_name = os.listdir(path)\n",
    "\n",
    "    for name in file_name:\n",
    "        if name.endswith('.txt'):\n",
    "            with open(path + name,encoding=\"utf8\") as f:\n",
    "                text = f.read()\n",
    "                data.append({'nombre':name.replace('.txt',''), 'texto':text})\n",
    "\n",
    "    df = pd.DataFrame(data)\n",
    "    return df"
   ]
  },
  {
   "cell_type": "code",
   "execution_count": 5,
   "id": "56d8379d-30d1-4f4b-aa7b-9324f399a8b1",
   "metadata": {},
   "outputs": [
    {
     "name": "stderr",
     "output_type": "stream",
     "text": [
      "[nltk_data] Downloading package stopwords to\n",
      "[nltk_data]     /Users/egarcia/nltk_data...\n",
      "[nltk_data]   Package stopwords is already up-to-date!\n"
     ]
    }
   ],
   "source": [
    "nltk.download('stopwords')\n",
    "swords = list(set(stopwords.words('spanish')))"
   ]
  },
  {
   "cell_type": "code",
   "execution_count": 6,
   "id": "08375f18-dc70-48bc-ab71-20a9b9a63c14",
   "metadata": {},
   "outputs": [],
   "source": [
    "def clean_text(string):\n",
    "    \"\"\"\n",
    "    A method to clean text \n",
    "    \"\"\"\n",
    "    \n",
    "    # Removing the punctuations\n",
    "    for x in string.lower(): \n",
    "        if x in punctuation:\n",
    "            if x != '/':\n",
    "                string = string.replace(x, \"\")\n",
    "            else:\n",
    "                string = string.replace(x, \" \")\n",
    "    \n",
    "    string = unidecode.unidecode(string)\n",
    "\n",
    "#     # Converting the text to lower\n",
    "#     string = string.lower()\n",
    "\n",
    "    # Removing stop words\n",
    "    string = ' '.join([word for word in string.split() if word not in swords])\n",
    "\n",
    "    # Cleaning the whitespaces\n",
    "    string = re.sub(r'\\s+', ' ', string).strip()\n",
    "\n",
    "    return string "
   ]
  },
  {
   "cell_type": "code",
   "execution_count": 7,
   "id": "524c410b-6650-4506-96e0-3aa2be45c977",
   "metadata": {},
   "outputs": [],
   "source": [
    "def distance_levenshtein(str1, str2):\n",
    "    d=dict()\n",
    "    for i in range(len(str1)+1):\n",
    "        d[i]=dict()\n",
    "        d[i][0]=i\n",
    "    for i in range(len(str2)+1):\n",
    "        d[0][i] = i\n",
    "    for i in range(1, len(str1)+1):\n",
    "        for j in range(1, len(str2)+1):\n",
    "            d[i][j] = min(d[i][j-1]+1, d[i-1][j]+1, d[i-1][j-1]+(not str1[i-1] == str2[j-1]))\n",
    "    return d[len(str1)][len(str2)]"
   ]
  },
  {
   "cell_type": "code",
   "execution_count": 8,
   "id": "4bfde265-e136-47aa-a783-ff5169a1c20c",
   "metadata": {},
   "outputs": [],
   "source": [
    "def normalize_lf(row):\n",
    "    leven2 = []\n",
    "    for i in row:\n",
    "        for j in row:\n",
    "            if i != j:\n",
    "                long = max(len(i),len(j))\n",
    "                ratio = distance_levenshtein(i,j)/long\n",
    "                if ratio < 0.2:\n",
    "                    leven2.append(j)\n",
    "    if leven2:\n",
    "        leven2 = set(leven2)\n",
    "        lista = []\n",
    "        for i in leven2:\n",
    "            val = frec[frec['index'] == i]['long_form'].iloc[0]\n",
    "            lista.append((i, val))\n",
    "        lista = set(lista)\n",
    "        most_freq = sorted(set(lista), key=lambda x: x[1], reverse = True)[0][0]\n",
    "        sust = {}\n",
    "        for i in set(leven2):\n",
    "            sust[i] = most_freq\n",
    "        \n",
    "        return sust\n",
    "    else:\n",
    "        pass\n",
    "    "
   ]
  },
  {
   "cell_type": "code",
   "execution_count": 9,
   "id": "183c5594-89b0-4a43-8a4a-ae13eeeb9c1d",
   "metadata": {
    "tags": []
   },
   "outputs": [],
   "source": [
    "def get_label(row):\n",
    "    if row['long_form_x'] == row['long_form_y']:\n",
    "        return 1\n",
    "    else:\n",
    "        return 0"
   ]
  },
  {
   "cell_type": "code",
   "execution_count": 12,
   "id": "f8a17624-af70-47fa-9d3e-1c9f96277ec9",
   "metadata": {},
   "outputs": [],
   "source": [
    "def offsetA(row):\n",
    "    return row['texto'].find(row['Mention_A'])\n",
    "    \n",
    "def offsetB(row):\n",
    "    return row['texto'].find(row['Mention_B'])\n",
    "\n",
    "def offsetB_end(row):\n",
    "    return row['texto'].find(row['Mention_B']) + len(row['Mention_B'])\n",
    "\n",
    "def offsetA_end(row):\n",
    "    return row['Mention_A_StartOffset'] + len(row['Mention_A'])"
   ]
  },
  {
   "cell_type": "markdown",
   "id": "d34a5f9e-34e3-4e02-9288-8eb2c080fede",
   "metadata": {},
   "source": [
    "# Load Data"
   ]
  },
  {
   "cell_type": "code",
   "execution_count": 126,
   "id": "c4248f47-7044-488e-99a1-82b0a24addd5",
   "metadata": {},
   "outputs": [],
   "source": [
    "testing_rel = pd.read_csv(\"../../acronym_disambiguation_tfm/data/ibereval_data/testing_set/clinical_cases.relations.testing_set.tsv\", sep = '\\t')"
   ]
  },
  {
   "cell_type": "code",
   "execution_count": 127,
   "id": "61880f64-d80d-41da-80ec-2a405a5b6afe",
   "metadata": {},
   "outputs": [],
   "source": [
    "testing_raw = read_texts(\"../../acronym_disambiguation_tfm/data/ibereval_data/testing_set/testing_set.raw_text/\")"
   ]
  },
  {
   "cell_type": "code",
   "execution_count": 128,
   "id": "c9b1a433-402c-40e6-9015-7d23a567b700",
   "metadata": {},
   "outputs": [],
   "source": [
    "train_rel = pd.read_csv(\"../../acronym_disambiguation_tfm/data/ibereval_data/trainning_set/clinical_cases.relations.training_set.tsv\", sep = '\\t')"
   ]
  },
  {
   "cell_type": "code",
   "execution_count": 129,
   "id": "84716576-e388-43d0-a34c-1fb744d533d8",
   "metadata": {},
   "outputs": [],
   "source": [
    "train_raw = read_texts(\"../../acronym_disambiguation_tfm/data/ibereval_data/trainning_set/training_set.raw_text/\")"
   ]
  },
  {
   "cell_type": "markdown",
   "id": "52b74841-6b36-4171-b484-69f54b1d19d6",
   "metadata": {},
   "source": [
    "## Transform data"
   ]
  },
  {
   "cell_type": "markdown",
   "id": "f8930f39-46c3-4d21-a1c7-536477ae2fc3",
   "metadata": {},
   "source": [
    "#### Transform gold standard"
   ]
  },
  {
   "cell_type": "markdown",
   "id": "563d8b48-2c12-4e83-9b2b-646a31f0ac31",
   "metadata": {},
   "source": [
    "#### Train"
   ]
  },
  {
   "cell_type": "code",
   "execution_count": 130,
   "id": "b42a8125-f09d-4889-8a9c-d8c842093383",
   "metadata": {},
   "outputs": [],
   "source": [
    "train_rel = train_rel.reset_index()"
   ]
  },
  {
   "cell_type": "code",
   "execution_count": 131,
   "id": "3e733e5e-f885-4417-8c7b-c8a51130650b",
   "metadata": {},
   "outputs": [
    {
     "data": {
      "text/html": [
       "<div>\n",
       "<style scoped>\n",
       "    .dataframe tbody tr th:only-of-type {\n",
       "        vertical-align: middle;\n",
       "    }\n",
       "\n",
       "    .dataframe tbody tr th {\n",
       "        vertical-align: top;\n",
       "    }\n",
       "\n",
       "    .dataframe thead th {\n",
       "        text-align: right;\n",
       "    }\n",
       "</style>\n",
       "<table border=\"1\" class=\"dataframe\">\n",
       "  <thead>\n",
       "    <tr style=\"text-align: right;\">\n",
       "      <th></th>\n",
       "      <th>level_0</th>\n",
       "      <th>level_1</th>\n",
       "      <th>level_2</th>\n",
       "      <th># Document_ID</th>\n",
       "      <th>StartOffset</th>\n",
       "      <th>EndOffset</th>\n",
       "      <th>Abbreviation</th>\n",
       "      <th>Definition</th>\n",
       "      <th>Definition_lemmatized</th>\n",
       "    </tr>\n",
       "  </thead>\n",
       "  <tbody>\n",
       "    <tr>\n",
       "      <th>0</th>\n",
       "      <td>S1130-01082009000400014-1</td>\n",
       "      <td>SHORT_FORM</td>\n",
       "      <td>476</td>\n",
       "      <td>NPT</td>\n",
       "      <td>SHORT-LONG</td>\n",
       "      <td>LONG_FORM</td>\n",
       "      <td>454.0</td>\n",
       "      <td>474.0</td>\n",
       "      <td>nutrición parenteral</td>\n",
       "    </tr>\n",
       "    <tr>\n",
       "      <th>1</th>\n",
       "      <td>S1130-63432016000100009-1</td>\n",
       "      <td>SHORT_FORM</td>\n",
       "      <td>614</td>\n",
       "      <td>NIHSS</td>\n",
       "      <td>SHORT-LONG</td>\n",
       "      <td>LONG_FORM</td>\n",
       "      <td>621.0</td>\n",
       "      <td>662.0</td>\n",
       "      <td>National Institute of Health Stroke Scale</td>\n",
       "    </tr>\n",
       "  </tbody>\n",
       "</table>\n",
       "</div>"
      ],
      "text/plain": [
       "                     level_0     level_1 level_2 # Document_ID StartOffset  \\\n",
       "0  S1130-01082009000400014-1  SHORT_FORM     476           NPT  SHORT-LONG   \n",
       "1  S1130-63432016000100009-1  SHORT_FORM     614         NIHSS  SHORT-LONG   \n",
       "\n",
       "   EndOffset  Abbreviation  Definition  \\\n",
       "0  LONG_FORM         454.0       474.0   \n",
       "1  LONG_FORM         621.0       662.0   \n",
       "\n",
       "                       Definition_lemmatized  \n",
       "0                       nutrición parenteral  \n",
       "1  National Institute of Health Stroke Scale  "
      ]
     },
     "execution_count": 131,
     "metadata": {},
     "output_type": "execute_result"
    }
   ],
   "source": [
    "train_rel.head(2)"
   ]
  },
  {
   "cell_type": "code",
   "execution_count": 132,
   "id": "e1d50033-28cf-4d3f-b22c-074fff38ab54",
   "metadata": {},
   "outputs": [],
   "source": [
    "train_rel.columns = ['# Document_ID', 'Mention_A_type', 'Mention_A_StartOffset',\n",
    "      'Mention_A', 'Relation_type', 'Mention_B_type',\n",
    "       'Mention_B_StartOffset', 'Mention_B_EndOffset', 'Mention_B']"
   ]
  },
  {
   "cell_type": "code",
   "execution_count": 133,
   "id": "9a5cb3a8-3dff-4dd8-a4aa-037c21315009",
   "metadata": {},
   "outputs": [],
   "source": [
    "train_rel = train_rel[train_rel['Mention_A_StartOffset'] != 'EndOffset']"
   ]
  },
  {
   "cell_type": "code",
   "execution_count": 134,
   "id": "ac1154cd-e454-49cd-921b-7a7dd35183d5",
   "metadata": {
    "tags": []
   },
   "outputs": [],
   "source": [
    "train_rel['Mention_A_StartOffset'] = train_rel['Mention_A_StartOffset'].astype(int)\n",
    "train_rel['Mention_B_StartOffset'] = train_rel['Mention_B_StartOffset'].astype(int)\n",
    "train_rel['Mention_B_EndOffset'] = train_rel['Mention_B_EndOffset'].astype(int)"
   ]
  },
  {
   "cell_type": "code",
   "execution_count": 135,
   "id": "ea02c5cf-9531-413c-967c-50fb67f79f9f",
   "metadata": {},
   "outputs": [],
   "source": [
    "train_rel['Mention_A_EndOffset'] = train_rel.apply(offsetA_end, axis = 1)"
   ]
  },
  {
   "cell_type": "code",
   "execution_count": 136,
   "id": "474b10e7-306f-42e3-8a6e-444d6ec8cde4",
   "metadata": {},
   "outputs": [],
   "source": [
    "train_rel = train_rel[['# Document_ID', 'Mention_A_type', 'Mention_A_StartOffset','Mention_A_EndOffset', 'Mention_A',\n",
    "       'Relation_type', 'Mention_B_type', 'Mention_B_StartOffset',\n",
    "       'Mention_B_EndOffset', 'Mention_B']]"
   ]
  },
  {
   "cell_type": "code",
   "execution_count": 137,
   "id": "61107338-f0ea-4560-a0f3-ae547f6c5098",
   "metadata": {},
   "outputs": [
    {
     "data": {
      "text/html": [
       "<div>\n",
       "<style scoped>\n",
       "    .dataframe tbody tr th:only-of-type {\n",
       "        vertical-align: middle;\n",
       "    }\n",
       "\n",
       "    .dataframe tbody tr th {\n",
       "        vertical-align: top;\n",
       "    }\n",
       "\n",
       "    .dataframe thead th {\n",
       "        text-align: right;\n",
       "    }\n",
       "</style>\n",
       "<table border=\"1\" class=\"dataframe\">\n",
       "  <thead>\n",
       "    <tr style=\"text-align: right;\">\n",
       "      <th></th>\n",
       "      <th># Document_ID</th>\n",
       "      <th>Mention_A_type</th>\n",
       "      <th>Mention_A_StartOffset</th>\n",
       "      <th>Mention_A_EndOffset</th>\n",
       "      <th>Mention_A</th>\n",
       "      <th>Relation_type</th>\n",
       "      <th>Mention_B_type</th>\n",
       "      <th>Mention_B_StartOffset</th>\n",
       "      <th>Mention_B_EndOffset</th>\n",
       "      <th>Mention_B</th>\n",
       "    </tr>\n",
       "  </thead>\n",
       "  <tbody>\n",
       "    <tr>\n",
       "      <th>0</th>\n",
       "      <td>S1130-01082009000400014-1</td>\n",
       "      <td>SHORT_FORM</td>\n",
       "      <td>476</td>\n",
       "      <td>479</td>\n",
       "      <td>NPT</td>\n",
       "      <td>SHORT-LONG</td>\n",
       "      <td>LONG_FORM</td>\n",
       "      <td>454</td>\n",
       "      <td>474</td>\n",
       "      <td>nutrición parenteral</td>\n",
       "    </tr>\n",
       "    <tr>\n",
       "      <th>1</th>\n",
       "      <td>S1130-63432016000100009-1</td>\n",
       "      <td>SHORT_FORM</td>\n",
       "      <td>614</td>\n",
       "      <td>619</td>\n",
       "      <td>NIHSS</td>\n",
       "      <td>SHORT-LONG</td>\n",
       "      <td>LONG_FORM</td>\n",
       "      <td>621</td>\n",
       "      <td>662</td>\n",
       "      <td>National Institute of Health Stroke Scale</td>\n",
       "    </tr>\n",
       "  </tbody>\n",
       "</table>\n",
       "</div>"
      ],
      "text/plain": [
       "               # Document_ID Mention_A_type  Mention_A_StartOffset  \\\n",
       "0  S1130-01082009000400014-1     SHORT_FORM                    476   \n",
       "1  S1130-63432016000100009-1     SHORT_FORM                    614   \n",
       "\n",
       "   Mention_A_EndOffset Mention_A Relation_type Mention_B_type  \\\n",
       "0                  479       NPT    SHORT-LONG      LONG_FORM   \n",
       "1                  619     NIHSS    SHORT-LONG      LONG_FORM   \n",
       "\n",
       "   Mention_B_StartOffset  Mention_B_EndOffset  \\\n",
       "0                    454                  474   \n",
       "1                    621                  662   \n",
       "\n",
       "                                   Mention_B  \n",
       "0                       nutrición parenteral  \n",
       "1  National Institute of Health Stroke Scale  "
      ]
     },
     "execution_count": 137,
     "metadata": {},
     "output_type": "execute_result"
    }
   ],
   "source": [
    "train_rel.head(2)"
   ]
  },
  {
   "cell_type": "markdown",
   "id": "e14fb555-e402-49c5-8e47-14726d3b0810",
   "metadata": {},
   "source": [
    "#### Test"
   ]
  },
  {
   "cell_type": "code",
   "execution_count": 139,
   "id": "4f969ecb-4160-4764-a1cf-d09f844a2f1d",
   "metadata": {},
   "outputs": [],
   "source": [
    "testing_rel = testing_rel.reset_index()"
   ]
  },
  {
   "cell_type": "code",
   "execution_count": 140,
   "id": "81cf3ef2-ce19-491e-9da5-253182b52b55",
   "metadata": {},
   "outputs": [
    {
     "data": {
      "text/html": [
       "<div>\n",
       "<style scoped>\n",
       "    .dataframe tbody tr th:only-of-type {\n",
       "        vertical-align: middle;\n",
       "    }\n",
       "\n",
       "    .dataframe tbody tr th {\n",
       "        vertical-align: top;\n",
       "    }\n",
       "\n",
       "    .dataframe thead th {\n",
       "        text-align: right;\n",
       "    }\n",
       "</style>\n",
       "<table border=\"1\" class=\"dataframe\">\n",
       "  <thead>\n",
       "    <tr style=\"text-align: right;\">\n",
       "      <th></th>\n",
       "      <th>level_0</th>\n",
       "      <th>level_1</th>\n",
       "      <th>level_2</th>\n",
       "      <th># Document_ID</th>\n",
       "      <th>StartOffset</th>\n",
       "      <th>EndOffset</th>\n",
       "      <th>Abbreviation</th>\n",
       "      <th>Definition</th>\n",
       "      <th>Definition_lemmatized</th>\n",
       "    </tr>\n",
       "  </thead>\n",
       "  <tbody>\n",
       "    <tr>\n",
       "      <th>0</th>\n",
       "      <td>S0211-69952013000500019-1</td>\n",
       "      <td>SHORT_FORM</td>\n",
       "      <td>3739</td>\n",
       "      <td>ARA II</td>\n",
       "      <td>SHORT-LONG</td>\n",
       "      <td>LONG_FORM</td>\n",
       "      <td>3695</td>\n",
       "      <td>3737</td>\n",
       "      <td>antagonista del receptor de angiotesina II</td>\n",
       "    </tr>\n",
       "    <tr>\n",
       "      <th>1</th>\n",
       "      <td>S0211-69952013000500019-1</td>\n",
       "      <td>SHORT_FORM</td>\n",
       "      <td>2793</td>\n",
       "      <td>PCR</td>\n",
       "      <td>SHORT-LONG</td>\n",
       "      <td>LONG_FORM</td>\n",
       "      <td>2798</td>\n",
       "      <td>2837</td>\n",
       "      <td>reacción en cadena de enzima polimerasa</td>\n",
       "    </tr>\n",
       "  </tbody>\n",
       "</table>\n",
       "</div>"
      ],
      "text/plain": [
       "                     level_0     level_1  level_2 # Document_ID StartOffset  \\\n",
       "0  S0211-69952013000500019-1  SHORT_FORM     3739        ARA II  SHORT-LONG   \n",
       "1  S0211-69952013000500019-1  SHORT_FORM     2793           PCR  SHORT-LONG   \n",
       "\n",
       "   EndOffset  Abbreviation  Definition  \\\n",
       "0  LONG_FORM          3695        3737   \n",
       "1  LONG_FORM          2798        2837   \n",
       "\n",
       "                        Definition_lemmatized  \n",
       "0  antagonista del receptor de angiotesina II  \n",
       "1     reacción en cadena de enzima polimerasa  "
      ]
     },
     "execution_count": 140,
     "metadata": {},
     "output_type": "execute_result"
    }
   ],
   "source": [
    "testing_rel.head(2)"
   ]
  },
  {
   "cell_type": "code",
   "execution_count": 141,
   "id": "dfefe5b6-740a-4fee-a8c0-f7e6b186efe8",
   "metadata": {},
   "outputs": [],
   "source": [
    "testing_rel.columns = ['# Document_ID', 'Mention_A_type', 'Mention_A_StartOffset',\n",
    "      'Mention_A', 'Relation_type', 'Mention_B_type',\n",
    "       'Mention_B_StartOffset', 'Mention_B_EndOffset', 'Mention_B']"
   ]
  },
  {
   "cell_type": "code",
   "execution_count": 142,
   "id": "ae2b7b2a-f97f-45b8-84a1-88bece9cd23a",
   "metadata": {},
   "outputs": [],
   "source": [
    "testing_rel = testing_rel[testing_rel['Mention_A_StartOffset'] != 'EndOffset']"
   ]
  },
  {
   "cell_type": "code",
   "execution_count": 143,
   "id": "c174c3a6-655c-485f-ae9d-1e8afa40942f",
   "metadata": {
    "tags": []
   },
   "outputs": [],
   "source": [
    "testing_rel['Mention_A_StartOffset'] = testing_rel['Mention_A_StartOffset'].astype(int)\n",
    "testing_rel['Mention_B_StartOffset'] = testing_rel['Mention_B_StartOffset'].astype(int)\n",
    "testing_rel['Mention_B_EndOffset'] = testing_rel['Mention_B_EndOffset'].astype(int)"
   ]
  },
  {
   "cell_type": "code",
   "execution_count": 144,
   "id": "fe51433b-8aff-4158-9558-9c80daefafdd",
   "metadata": {},
   "outputs": [],
   "source": [
    "testing_rel['Mention_A_EndOffset'] = testing_rel.apply(offsetA_end, axis = 1)"
   ]
  },
  {
   "cell_type": "code",
   "execution_count": 145,
   "id": "9f560ae9-3758-4576-be4c-f98d7db89d50",
   "metadata": {},
   "outputs": [],
   "source": [
    "testing_rel = testing_rel[['# Document_ID', 'Mention_A_type', 'Mention_A_StartOffset','Mention_A_EndOffset', 'Mention_A',\n",
    "       'Relation_type', 'Mention_B_type', 'Mention_B_StartOffset',\n",
    "       'Mention_B_EndOffset', 'Mention_B']]"
   ]
  },
  {
   "cell_type": "code",
   "execution_count": 146,
   "id": "09c7d289-cfb1-499a-b577-4d61bcc61e11",
   "metadata": {},
   "outputs": [
    {
     "data": {
      "text/html": [
       "<div>\n",
       "<style scoped>\n",
       "    .dataframe tbody tr th:only-of-type {\n",
       "        vertical-align: middle;\n",
       "    }\n",
       "\n",
       "    .dataframe tbody tr th {\n",
       "        vertical-align: top;\n",
       "    }\n",
       "\n",
       "    .dataframe thead th {\n",
       "        text-align: right;\n",
       "    }\n",
       "</style>\n",
       "<table border=\"1\" class=\"dataframe\">\n",
       "  <thead>\n",
       "    <tr style=\"text-align: right;\">\n",
       "      <th></th>\n",
       "      <th># Document_ID</th>\n",
       "      <th>Mention_A_type</th>\n",
       "      <th>Mention_A_StartOffset</th>\n",
       "      <th>Mention_A_EndOffset</th>\n",
       "      <th>Mention_A</th>\n",
       "      <th>Relation_type</th>\n",
       "      <th>Mention_B_type</th>\n",
       "      <th>Mention_B_StartOffset</th>\n",
       "      <th>Mention_B_EndOffset</th>\n",
       "      <th>Mention_B</th>\n",
       "    </tr>\n",
       "  </thead>\n",
       "  <tbody>\n",
       "    <tr>\n",
       "      <th>0</th>\n",
       "      <td>S0211-69952013000500019-1</td>\n",
       "      <td>SHORT_FORM</td>\n",
       "      <td>3739</td>\n",
       "      <td>3745</td>\n",
       "      <td>ARA II</td>\n",
       "      <td>SHORT-LONG</td>\n",
       "      <td>LONG_FORM</td>\n",
       "      <td>3695</td>\n",
       "      <td>3737</td>\n",
       "      <td>antagonista del receptor de angiotesina II</td>\n",
       "    </tr>\n",
       "    <tr>\n",
       "      <th>1</th>\n",
       "      <td>S0211-69952013000500019-1</td>\n",
       "      <td>SHORT_FORM</td>\n",
       "      <td>2793</td>\n",
       "      <td>2796</td>\n",
       "      <td>PCR</td>\n",
       "      <td>SHORT-LONG</td>\n",
       "      <td>LONG_FORM</td>\n",
       "      <td>2798</td>\n",
       "      <td>2837</td>\n",
       "      <td>reacción en cadena de enzima polimerasa</td>\n",
       "    </tr>\n",
       "  </tbody>\n",
       "</table>\n",
       "</div>"
      ],
      "text/plain": [
       "               # Document_ID Mention_A_type  Mention_A_StartOffset  \\\n",
       "0  S0211-69952013000500019-1     SHORT_FORM                   3739   \n",
       "1  S0211-69952013000500019-1     SHORT_FORM                   2793   \n",
       "\n",
       "   Mention_A_EndOffset Mention_A Relation_type Mention_B_type  \\\n",
       "0                 3745    ARA II    SHORT-LONG      LONG_FORM   \n",
       "1                 2796       PCR    SHORT-LONG      LONG_FORM   \n",
       "\n",
       "   Mention_B_StartOffset  Mention_B_EndOffset  \\\n",
       "0                   3695                 3737   \n",
       "1                   2798                 2837   \n",
       "\n",
       "                                    Mention_B  \n",
       "0  antagonista del receptor de angiotesina II  \n",
       "1     reacción en cadena de enzima polimerasa  "
      ]
     },
     "execution_count": 146,
     "metadata": {},
     "output_type": "execute_result"
    }
   ],
   "source": [
    "testing_rel.head(2)"
   ]
  },
  {
   "cell_type": "markdown",
   "id": "cb5f648c-0cc2-4b17-b1ef-0b4cf022462e",
   "metadata": {},
   "source": [
    "## Acronym "
   ]
  },
  {
   "cell_type": "markdown",
   "id": "aca052d0-3075-454c-a436-a5bf2681aac4",
   "metadata": {},
   "source": [
    "#### Train"
   ]
  },
  {
   "cell_type": "code",
   "execution_count": 147,
   "id": "55ab6388-4f96-4347-9a15-3b8ba0bd73c7",
   "metadata": {},
   "outputs": [],
   "source": [
    "train_predict = train_raw\\\n",
    ".copy()"
   ]
  },
  {
   "cell_type": "code",
   "execution_count": 148,
   "id": "fcff637a-6674-4535-82d1-39b64da487e2",
   "metadata": {},
   "outputs": [
    {
     "data": {
      "text/html": [
       "<div>\n",
       "<style scoped>\n",
       "    .dataframe tbody tr th:only-of-type {\n",
       "        vertical-align: middle;\n",
       "    }\n",
       "\n",
       "    .dataframe tbody tr th {\n",
       "        vertical-align: top;\n",
       "    }\n",
       "\n",
       "    .dataframe thead th {\n",
       "        text-align: right;\n",
       "    }\n",
       "</style>\n",
       "<table border=\"1\" class=\"dataframe\">\n",
       "  <thead>\n",
       "    <tr style=\"text-align: right;\">\n",
       "      <th></th>\n",
       "      <th>nombre</th>\n",
       "      <th>texto</th>\n",
       "    </tr>\n",
       "  </thead>\n",
       "  <tbody>\n",
       "    <tr>\n",
       "      <th>0</th>\n",
       "      <td>S1130-01082006000100014-1</td>\n",
       "      <td>Se trata de una mujer de 35 años, con antecedentes familiares de enfermedad de Crohn y sin antec...</td>\n",
       "    </tr>\n",
       "    <tr>\n",
       "      <th>1</th>\n",
       "      <td>S1130-01082009000300015-1</td>\n",
       "      <td>Varón de 70 años, fumador, con enfisema pulmonar y vitíligo al que en mayo de 2001 se realizó un...</td>\n",
       "    </tr>\n",
       "  </tbody>\n",
       "</table>\n",
       "</div>"
      ],
      "text/plain": [
       "                      nombre  \\\n",
       "0  S1130-01082006000100014-1   \n",
       "1  S1130-01082009000300015-1   \n",
       "\n",
       "                                                                                                 texto  \n",
       "0  Se trata de una mujer de 35 años, con antecedentes familiares de enfermedad de Crohn y sin antec...  \n",
       "1  Varón de 70 años, fumador, con enfisema pulmonar y vitíligo al que en mayo de 2001 se realizó un...  "
      ]
     },
     "execution_count": 148,
     "metadata": {},
     "output_type": "execute_result"
    }
   ],
   "source": [
    "train_predict.head(2)"
   ]
  },
  {
   "cell_type": "code",
   "execution_count": 149,
   "id": "eec8480d-00bd-4a8b-89d3-c16f244103e5",
   "metadata": {},
   "outputs": [],
   "source": [
    "train_predict['predictions'] = train_predict['texto'].apply(lambda x: schwartz_hearst.extract_abbreviation_definition_pairs(doc_text = x))"
   ]
  },
  {
   "cell_type": "code",
   "execution_count": 150,
   "id": "f752019e-466c-4735-abaa-481559d950e6",
   "metadata": {},
   "outputs": [],
   "source": [
    "train_prediction = train_predict[['nombre', 'predictions']]"
   ]
  },
  {
   "cell_type": "code",
   "execution_count": 151,
   "id": "537ff919-0a3a-44ec-9fa2-5b1bda0881e6",
   "metadata": {},
   "outputs": [],
   "source": [
    "train_prediction = (pd.DataFrame(train_prediction['predictions'].tolist(), index=train_prediction['nombre'])\n",
    "            .reset_index()\n",
    "            .melt('nombre', var_name='Mention_A', value_name='Mention_B')\n",
    "            .dropna()\n",
    "            .reset_index(drop=True))"
   ]
  },
  {
   "cell_type": "code",
   "execution_count": 152,
   "id": "24b8452a-d861-43cb-ac54-be45c22d641b",
   "metadata": {},
   "outputs": [],
   "source": [
    "train_prediction = train_prediction.merge(train_predict[['nombre','texto']], on = 'nombre', how = 'left')"
   ]
  },
  {
   "cell_type": "code",
   "execution_count": 153,
   "id": "5aad175c-03fe-462f-8028-2539b17266c7",
   "metadata": {},
   "outputs": [
    {
     "data": {
      "text/html": [
       "<div>\n",
       "<style scoped>\n",
       "    .dataframe tbody tr th:only-of-type {\n",
       "        vertical-align: middle;\n",
       "    }\n",
       "\n",
       "    .dataframe tbody tr th {\n",
       "        vertical-align: top;\n",
       "    }\n",
       "\n",
       "    .dataframe thead th {\n",
       "        text-align: right;\n",
       "    }\n",
       "</style>\n",
       "<table border=\"1\" class=\"dataframe\">\n",
       "  <thead>\n",
       "    <tr style=\"text-align: right;\">\n",
       "      <th></th>\n",
       "      <th>nombre</th>\n",
       "      <th>Mention_A</th>\n",
       "      <th>Mention_B</th>\n",
       "      <th>texto</th>\n",
       "    </tr>\n",
       "  </thead>\n",
       "  <tbody>\n",
       "    <tr>\n",
       "      <th>0</th>\n",
       "      <td>S0210-56912010000200009-1</td>\n",
       "      <td>BAL</td>\n",
       "      <td>broncoalveolar</td>\n",
       "      <td>Se trata de una mujer de 70 años con antecedentes de HTA y diagnosticada recientemente de neopla...</td>\n",
       "    </tr>\n",
       "    <tr>\n",
       "      <th>1</th>\n",
       "      <td>S0365-66912006000500008-1</td>\n",
       "      <td>AV</td>\n",
       "      <td>agudeza visual</td>\n",
       "      <td>Mujer de 35 años acude a consulta por mala agudeza visual (AV) desde la infancia, sin tratamient...</td>\n",
       "    </tr>\n",
       "    <tr>\n",
       "      <th>2</th>\n",
       "      <td>S0365-66912006000200012-1</td>\n",
       "      <td>AV</td>\n",
       "      <td>agudeza visual</td>\n",
       "      <td>Paciente de 76 años de edad que acudió a urgencias por TCE frontal derecho con pérdida de concie...</td>\n",
       "    </tr>\n",
       "    <tr>\n",
       "      <th>3</th>\n",
       "      <td>S0365-66912009001100005-1</td>\n",
       "      <td>AV</td>\n",
       "      <td>agudeza visual</td>\n",
       "      <td>Paciente varón de 39 años que acude al Servicio de Urgencias por presentar proptosis de un año d...</td>\n",
       "    </tr>\n",
       "    <tr>\n",
       "      <th>4</th>\n",
       "      <td>S0365-66912005000600011-1</td>\n",
       "      <td>AV</td>\n",
       "      <td>agudeza visual</td>\n",
       "      <td>Un paciente varón de 76 años acude a consulta de oftalmología por presentar dolor, lagrimeo y se...</td>\n",
       "    </tr>\n",
       "  </tbody>\n",
       "</table>\n",
       "</div>"
      ],
      "text/plain": [
       "                      nombre Mention_A       Mention_B  \\\n",
       "0  S0210-56912010000200009-1       BAL  broncoalveolar   \n",
       "1  S0365-66912006000500008-1        AV  agudeza visual   \n",
       "2  S0365-66912006000200012-1        AV  agudeza visual   \n",
       "3  S0365-66912009001100005-1        AV  agudeza visual   \n",
       "4  S0365-66912005000600011-1        AV  agudeza visual   \n",
       "\n",
       "                                                                                                 texto  \n",
       "0  Se trata de una mujer de 70 años con antecedentes de HTA y diagnosticada recientemente de neopla...  \n",
       "1  Mujer de 35 años acude a consulta por mala agudeza visual (AV) desde la infancia, sin tratamient...  \n",
       "2  Paciente de 76 años de edad que acudió a urgencias por TCE frontal derecho con pérdida de concie...  \n",
       "3  Paciente varón de 39 años que acude al Servicio de Urgencias por presentar proptosis de un año d...  \n",
       "4  Un paciente varón de 76 años acude a consulta de oftalmología por presentar dolor, lagrimeo y se...  "
      ]
     },
     "execution_count": 153,
     "metadata": {},
     "output_type": "execute_result"
    }
   ],
   "source": [
    "train_prediction.head()"
   ]
  },
  {
   "cell_type": "code",
   "execution_count": 154,
   "id": "de072e39-e016-411b-87aa-2fa0c815365b",
   "metadata": {},
   "outputs": [],
   "source": [
    "train_prediction['Mention_A_type'] = 'SHORT_FORM'\n",
    "train_prediction['Relation_type'] = 'SHORT-LONG'\n",
    "train_prediction['Mention_B_type'] = 'LONG_FORM'\n",
    "train_prediction['Mention_A_StartOffset'] = train_prediction.apply(offsetA, axis = 1)\n",
    "train_prediction['Mention_B_StartOffset'] = train_prediction.apply(offsetB, axis = 1)\n",
    "train_prediction['Mention_B_EndOffset'] = train_prediction.apply(offsetB_end, axis = 1)\n",
    "train_prediction['Mention_A_EndOffset'] = train_prediction.apply(offsetA_end, axis = 1)"
   ]
  },
  {
   "cell_type": "code",
   "execution_count": 155,
   "id": "525d9df4-1b0b-4ae6-8986-38430d776561",
   "metadata": {},
   "outputs": [],
   "source": [
    "train_prediction = train_prediction[['nombre', 'Mention_A_type', 'Mention_A_StartOffset','Mention_A_EndOffset', 'Mention_A',\n",
    "       'Relation_type', 'Mention_B_type', 'Mention_B_StartOffset',\n",
    "       'Mention_B_EndOffset', 'Mention_B']]"
   ]
  },
  {
   "cell_type": "code",
   "execution_count": 156,
   "id": "2e9e6470-70bd-4a44-a34f-6258d330016d",
   "metadata": {},
   "outputs": [],
   "source": [
    "train_prediction = train_prediction.rename(columns = {'nombre': '# Document_ID'})"
   ]
  },
  {
   "cell_type": "code",
   "execution_count": 157,
   "id": "773355f8-f299-4b13-9f8f-13d6de0b9382",
   "metadata": {},
   "outputs": [
    {
     "data": {
      "text/html": [
       "<div>\n",
       "<style scoped>\n",
       "    .dataframe tbody tr th:only-of-type {\n",
       "        vertical-align: middle;\n",
       "    }\n",
       "\n",
       "    .dataframe tbody tr th {\n",
       "        vertical-align: top;\n",
       "    }\n",
       "\n",
       "    .dataframe thead th {\n",
       "        text-align: right;\n",
       "    }\n",
       "</style>\n",
       "<table border=\"1\" class=\"dataframe\">\n",
       "  <thead>\n",
       "    <tr style=\"text-align: right;\">\n",
       "      <th></th>\n",
       "      <th># Document_ID</th>\n",
       "      <th>Mention_A_type</th>\n",
       "      <th>Mention_A_StartOffset</th>\n",
       "      <th>Mention_A_EndOffset</th>\n",
       "      <th>Mention_A</th>\n",
       "      <th>Relation_type</th>\n",
       "      <th>Mention_B_type</th>\n",
       "      <th>Mention_B_StartOffset</th>\n",
       "      <th>Mention_B_EndOffset</th>\n",
       "      <th>Mention_B</th>\n",
       "    </tr>\n",
       "  </thead>\n",
       "  <tbody>\n",
       "    <tr>\n",
       "      <th>0</th>\n",
       "      <td>S0210-56912010000200009-1</td>\n",
       "      <td>SHORT_FORM</td>\n",
       "      <td>2068</td>\n",
       "      <td>2071</td>\n",
       "      <td>BAL</td>\n",
       "      <td>SHORT-LONG</td>\n",
       "      <td>LONG_FORM</td>\n",
       "      <td>2052</td>\n",
       "      <td>2066</td>\n",
       "      <td>broncoalveolar</td>\n",
       "    </tr>\n",
       "    <tr>\n",
       "      <th>1</th>\n",
       "      <td>S0365-66912006000500008-1</td>\n",
       "      <td>SHORT_FORM</td>\n",
       "      <td>59</td>\n",
       "      <td>61</td>\n",
       "      <td>AV</td>\n",
       "      <td>SHORT-LONG</td>\n",
       "      <td>LONG_FORM</td>\n",
       "      <td>43</td>\n",
       "      <td>57</td>\n",
       "      <td>agudeza visual</td>\n",
       "    </tr>\n",
       "    <tr>\n",
       "      <th>2</th>\n",
       "      <td>S0365-66912006000200012-1</td>\n",
       "      <td>SHORT_FORM</td>\n",
       "      <td>562</td>\n",
       "      <td>564</td>\n",
       "      <td>AV</td>\n",
       "      <td>SHORT-LONG</td>\n",
       "      <td>LONG_FORM</td>\n",
       "      <td>546</td>\n",
       "      <td>560</td>\n",
       "      <td>agudeza visual</td>\n",
       "    </tr>\n",
       "    <tr>\n",
       "      <th>3</th>\n",
       "      <td>S0365-66912009001100005-1</td>\n",
       "      <td>SHORT_FORM</td>\n",
       "      <td>163</td>\n",
       "      <td>165</td>\n",
       "      <td>AV</td>\n",
       "      <td>SHORT-LONG</td>\n",
       "      <td>LONG_FORM</td>\n",
       "      <td>147</td>\n",
       "      <td>161</td>\n",
       "      <td>agudeza visual</td>\n",
       "    </tr>\n",
       "    <tr>\n",
       "      <th>4</th>\n",
       "      <td>S0365-66912005000600011-1</td>\n",
       "      <td>SHORT_FORM</td>\n",
       "      <td>544</td>\n",
       "      <td>546</td>\n",
       "      <td>AV</td>\n",
       "      <td>SHORT-LONG</td>\n",
       "      <td>LONG_FORM</td>\n",
       "      <td>528</td>\n",
       "      <td>542</td>\n",
       "      <td>agudeza visual</td>\n",
       "    </tr>\n",
       "  </tbody>\n",
       "</table>\n",
       "</div>"
      ],
      "text/plain": [
       "               # Document_ID Mention_A_type  Mention_A_StartOffset  \\\n",
       "0  S0210-56912010000200009-1     SHORT_FORM                   2068   \n",
       "1  S0365-66912006000500008-1     SHORT_FORM                     59   \n",
       "2  S0365-66912006000200012-1     SHORT_FORM                    562   \n",
       "3  S0365-66912009001100005-1     SHORT_FORM                    163   \n",
       "4  S0365-66912005000600011-1     SHORT_FORM                    544   \n",
       "\n",
       "   Mention_A_EndOffset Mention_A Relation_type Mention_B_type  \\\n",
       "0                 2071       BAL    SHORT-LONG      LONG_FORM   \n",
       "1                   61        AV    SHORT-LONG      LONG_FORM   \n",
       "2                  564        AV    SHORT-LONG      LONG_FORM   \n",
       "3                  165        AV    SHORT-LONG      LONG_FORM   \n",
       "4                  546        AV    SHORT-LONG      LONG_FORM   \n",
       "\n",
       "   Mention_B_StartOffset  Mention_B_EndOffset       Mention_B  \n",
       "0                   2052                 2066  broncoalveolar  \n",
       "1                     43                   57  agudeza visual  \n",
       "2                    546                  560  agudeza visual  \n",
       "3                    147                  161  agudeza visual  \n",
       "4                    528                  542  agudeza visual  "
      ]
     },
     "execution_count": 157,
     "metadata": {},
     "output_type": "execute_result"
    }
   ],
   "source": [
    "train_prediction.head()"
   ]
  },
  {
   "cell_type": "markdown",
   "id": "1d09efb7-b9c8-419e-ac51-1922bd8bf9fe",
   "metadata": {},
   "source": [
    "#### Test"
   ]
  },
  {
   "cell_type": "code",
   "execution_count": 159,
   "id": "87856bed-bff9-489c-bbb3-4ec6277f53db",
   "metadata": {},
   "outputs": [],
   "source": [
    "test_predict = testing_raw\\\n",
    ".copy()"
   ]
  },
  {
   "cell_type": "code",
   "execution_count": 160,
   "id": "1319a39a-81cc-4799-8c86-7a43ce69e893",
   "metadata": {},
   "outputs": [
    {
     "data": {
      "text/html": [
       "<div>\n",
       "<style scoped>\n",
       "    .dataframe tbody tr th:only-of-type {\n",
       "        vertical-align: middle;\n",
       "    }\n",
       "\n",
       "    .dataframe tbody tr th {\n",
       "        vertical-align: top;\n",
       "    }\n",
       "\n",
       "    .dataframe thead th {\n",
       "        text-align: right;\n",
       "    }\n",
       "</style>\n",
       "<table border=\"1\" class=\"dataframe\">\n",
       "  <thead>\n",
       "    <tr style=\"text-align: right;\">\n",
       "      <th></th>\n",
       "      <th>nombre</th>\n",
       "      <th>texto</th>\n",
       "    </tr>\n",
       "  </thead>\n",
       "  <tbody>\n",
       "    <tr>\n",
       "      <th>0</th>\n",
       "      <td>S1130-01082008001000010-1</td>\n",
       "      <td>Varón de 43 años originario de Marruecos, que ingresó en nuestro servicio por cuadro de 4 días d...</td>\n",
       "    </tr>\n",
       "    <tr>\n",
       "      <th>1</th>\n",
       "      <td>S0004-06142009000400011-1</td>\n",
       "      <td>Varón de 75 años con antecedentes de EPOC moderado sin otros antecedentes médicos de interés. En...</td>\n",
       "    </tr>\n",
       "  </tbody>\n",
       "</table>\n",
       "</div>"
      ],
      "text/plain": [
       "                      nombre  \\\n",
       "0  S1130-01082008001000010-1   \n",
       "1  S0004-06142009000400011-1   \n",
       "\n",
       "                                                                                                 texto  \n",
       "0  Varón de 43 años originario de Marruecos, que ingresó en nuestro servicio por cuadro de 4 días d...  \n",
       "1  Varón de 75 años con antecedentes de EPOC moderado sin otros antecedentes médicos de interés. En...  "
      ]
     },
     "execution_count": 160,
     "metadata": {},
     "output_type": "execute_result"
    }
   ],
   "source": [
    "test_predict.head(2)"
   ]
  },
  {
   "cell_type": "code",
   "execution_count": 161,
   "id": "7ded7623-e210-4574-b219-9d3274bd9d9d",
   "metadata": {},
   "outputs": [],
   "source": [
    "test_predict['predictions'] = test_predict['texto'].apply(lambda x: schwartz_hearst.extract_abbreviation_definition_pairs(doc_text = x))"
   ]
  },
  {
   "cell_type": "code",
   "execution_count": 162,
   "id": "be752386-3820-4ab8-b8a6-2ef4f40d4f5a",
   "metadata": {},
   "outputs": [],
   "source": [
    "test_prediction = test_predict[['nombre', 'predictions']]"
   ]
  },
  {
   "cell_type": "code",
   "execution_count": 163,
   "id": "e18bdd61-2c01-4a92-9634-01a1f78e773c",
   "metadata": {},
   "outputs": [],
   "source": [
    "test_prediction = (pd.DataFrame(test_prediction['predictions'].tolist(), index=test_prediction['nombre'])\n",
    "            .reset_index()\n",
    "            .melt('nombre', var_name='Mention_A', value_name='Mention_B')\n",
    "            .dropna()\n",
    "            .reset_index(drop=True))"
   ]
  },
  {
   "cell_type": "code",
   "execution_count": 164,
   "id": "ed99d050-76c3-4bd1-b865-17cfb157dd8c",
   "metadata": {},
   "outputs": [],
   "source": [
    "test_prediction = test_prediction.merge(test_predict[['nombre','texto']], on = 'nombre', how = 'left')"
   ]
  },
  {
   "cell_type": "code",
   "execution_count": 165,
   "id": "c7e6ecc0-74c8-4acd-8c0e-676f80a15af3",
   "metadata": {},
   "outputs": [
    {
     "data": {
      "text/html": [
       "<div>\n",
       "<style scoped>\n",
       "    .dataframe tbody tr th:only-of-type {\n",
       "        vertical-align: middle;\n",
       "    }\n",
       "\n",
       "    .dataframe tbody tr th {\n",
       "        vertical-align: top;\n",
       "    }\n",
       "\n",
       "    .dataframe thead th {\n",
       "        text-align: right;\n",
       "    }\n",
       "</style>\n",
       "<table border=\"1\" class=\"dataframe\">\n",
       "  <thead>\n",
       "    <tr style=\"text-align: right;\">\n",
       "      <th></th>\n",
       "      <th>nombre</th>\n",
       "      <th>Mention_A</th>\n",
       "      <th>Mention_B</th>\n",
       "      <th>texto</th>\n",
       "    </tr>\n",
       "  </thead>\n",
       "  <tbody>\n",
       "    <tr>\n",
       "      <th>0</th>\n",
       "      <td>S1130-01082008001000010-1</td>\n",
       "      <td>CPRE</td>\n",
       "      <td>colangiopancreatografía retrógrada endoscópica</td>\n",
       "      <td>Varón de 43 años originario de Marruecos, que ingresó en nuestro servicio por cuadro de 4 días d...</td>\n",
       "    </tr>\n",
       "    <tr>\n",
       "      <th>1</th>\n",
       "      <td>S0376-78922011000200004-1</td>\n",
       "      <td>IV</td>\n",
       "      <td>intravenosa</td>\n",
       "      <td>Mujer de 44 años de edad con antecedentes médicos de insuficiencia renal crónica en tratamiento ...</td>\n",
       "    </tr>\n",
       "    <tr>\n",
       "      <th>2</th>\n",
       "      <td>S1130-01082008000800019-1</td>\n",
       "      <td>TC</td>\n",
       "      <td>tomografía computerizada</td>\n",
       "      <td>Recientemente, atendimos en nuestro hospital a un varón de 46 años, con antecedente de síndrome ...</td>\n",
       "    </tr>\n",
       "    <tr>\n",
       "      <th>3</th>\n",
       "      <td>S1130-01082009000900012-1</td>\n",
       "      <td>TC</td>\n",
       "      <td>tomografía computerizada</td>\n",
       "      <td>Varón de 26 años derivado a Cirugía General tras ser diagnosticado de forma accidental tras prue...</td>\n",
       "    </tr>\n",
       "    <tr>\n",
       "      <th>4</th>\n",
       "      <td>S0211-69952011000400013-1</td>\n",
       "      <td>TC</td>\n",
       "      <td>tomografía computarizada</td>\n",
       "      <td>Mujer de 58 años con antecedentes personales de síndrome depresivo y estenosis del canal lumbar....</td>\n",
       "    </tr>\n",
       "  </tbody>\n",
       "</table>\n",
       "</div>"
      ],
      "text/plain": [
       "                      nombre Mention_A  \\\n",
       "0  S1130-01082008001000010-1      CPRE   \n",
       "1  S0376-78922011000200004-1        IV   \n",
       "2  S1130-01082008000800019-1        TC   \n",
       "3  S1130-01082009000900012-1        TC   \n",
       "4  S0211-69952011000400013-1        TC   \n",
       "\n",
       "                                        Mention_B  \\\n",
       "0  colangiopancreatografía retrógrada endoscópica   \n",
       "1                                     intravenosa   \n",
       "2                        tomografía computerizada   \n",
       "3                        tomografía computerizada   \n",
       "4                        tomografía computarizada   \n",
       "\n",
       "                                                                                                 texto  \n",
       "0  Varón de 43 años originario de Marruecos, que ingresó en nuestro servicio por cuadro de 4 días d...  \n",
       "1  Mujer de 44 años de edad con antecedentes médicos de insuficiencia renal crónica en tratamiento ...  \n",
       "2  Recientemente, atendimos en nuestro hospital a un varón de 46 años, con antecedente de síndrome ...  \n",
       "3  Varón de 26 años derivado a Cirugía General tras ser diagnosticado de forma accidental tras prue...  \n",
       "4  Mujer de 58 años con antecedentes personales de síndrome depresivo y estenosis del canal lumbar....  "
      ]
     },
     "execution_count": 165,
     "metadata": {},
     "output_type": "execute_result"
    }
   ],
   "source": [
    "test_prediction.head()"
   ]
  },
  {
   "cell_type": "code",
   "execution_count": 166,
   "id": "407d6c44-9939-4ecd-bb23-ef55adf1106e",
   "metadata": {},
   "outputs": [],
   "source": [
    "test_prediction['Mention_A_type'] = 'SHORT_FORM'\n",
    "test_prediction['Relation_type'] = 'SHORT-LONG'\n",
    "test_prediction['Mention_B_type'] = 'LONG_FORM'\n",
    "test_prediction['Mention_A_StartOffset'] = test_prediction.apply(offsetA, axis = 1)\n",
    "test_prediction['Mention_B_StartOffset'] = test_prediction.apply(offsetB, axis = 1)\n",
    "test_prediction['Mention_B_EndOffset'] = test_prediction.apply(offsetB_end, axis = 1)\n",
    "test_prediction['Mention_A_EndOffset'] = test_prediction.apply(offsetA_end, axis = 1)"
   ]
  },
  {
   "cell_type": "code",
   "execution_count": 167,
   "id": "ea999aa5-992b-43af-9fad-0a62aa67b61c",
   "metadata": {},
   "outputs": [],
   "source": [
    "test_prediction = test_prediction[['nombre', 'Mention_A_type', 'Mention_A_StartOffset','Mention_A_EndOffset', 'Mention_A',\n",
    "       'Relation_type', 'Mention_B_type', 'Mention_B_StartOffset',\n",
    "       'Mention_B_EndOffset', 'Mention_B']]"
   ]
  },
  {
   "cell_type": "code",
   "execution_count": 168,
   "id": "deb59786-a259-4698-a538-14310db65fcb",
   "metadata": {},
   "outputs": [],
   "source": [
    "test_prediction = test_prediction.rename(columns = {'nombre': '# Document_ID'})"
   ]
  },
  {
   "cell_type": "code",
   "execution_count": 169,
   "id": "4ace06e1-740c-4640-96dd-7c0bf93d49ac",
   "metadata": {},
   "outputs": [
    {
     "data": {
      "text/html": [
       "<div>\n",
       "<style scoped>\n",
       "    .dataframe tbody tr th:only-of-type {\n",
       "        vertical-align: middle;\n",
       "    }\n",
       "\n",
       "    .dataframe tbody tr th {\n",
       "        vertical-align: top;\n",
       "    }\n",
       "\n",
       "    .dataframe thead th {\n",
       "        text-align: right;\n",
       "    }\n",
       "</style>\n",
       "<table border=\"1\" class=\"dataframe\">\n",
       "  <thead>\n",
       "    <tr style=\"text-align: right;\">\n",
       "      <th></th>\n",
       "      <th># Document_ID</th>\n",
       "      <th>Mention_A_type</th>\n",
       "      <th>Mention_A_StartOffset</th>\n",
       "      <th>Mention_A_EndOffset</th>\n",
       "      <th>Mention_A</th>\n",
       "      <th>Relation_type</th>\n",
       "      <th>Mention_B_type</th>\n",
       "      <th>Mention_B_StartOffset</th>\n",
       "      <th>Mention_B_EndOffset</th>\n",
       "      <th>Mention_B</th>\n",
       "    </tr>\n",
       "  </thead>\n",
       "  <tbody>\n",
       "    <tr>\n",
       "      <th>0</th>\n",
       "      <td>S1130-01082008001000010-1</td>\n",
       "      <td>SHORT_FORM</td>\n",
       "      <td>2168</td>\n",
       "      <td>2172</td>\n",
       "      <td>CPRE</td>\n",
       "      <td>SHORT-LONG</td>\n",
       "      <td>LONG_FORM</td>\n",
       "      <td>2120</td>\n",
       "      <td>2166</td>\n",
       "      <td>colangiopancreatografía retrógrada endoscópica</td>\n",
       "    </tr>\n",
       "    <tr>\n",
       "      <th>1</th>\n",
       "      <td>S0376-78922011000200004-1</td>\n",
       "      <td>SHORT_FORM</td>\n",
       "      <td>661</td>\n",
       "      <td>663</td>\n",
       "      <td>IV</td>\n",
       "      <td>SHORT-LONG</td>\n",
       "      <td>LONG_FORM</td>\n",
       "      <td>648</td>\n",
       "      <td>659</td>\n",
       "      <td>intravenosa</td>\n",
       "    </tr>\n",
       "    <tr>\n",
       "      <th>2</th>\n",
       "      <td>S1130-01082008000800019-1</td>\n",
       "      <td>SHORT_FORM</td>\n",
       "      <td>1079</td>\n",
       "      <td>1081</td>\n",
       "      <td>TC</td>\n",
       "      <td>SHORT-LONG</td>\n",
       "      <td>LONG_FORM</td>\n",
       "      <td>1053</td>\n",
       "      <td>1077</td>\n",
       "      <td>tomografía computerizada</td>\n",
       "    </tr>\n",
       "    <tr>\n",
       "      <th>3</th>\n",
       "      <td>S1130-01082009000900012-1</td>\n",
       "      <td>SHORT_FORM</td>\n",
       "      <td>571</td>\n",
       "      <td>573</td>\n",
       "      <td>TC</td>\n",
       "      <td>SHORT-LONG</td>\n",
       "      <td>LONG_FORM</td>\n",
       "      <td>545</td>\n",
       "      <td>569</td>\n",
       "      <td>tomografía computerizada</td>\n",
       "    </tr>\n",
       "    <tr>\n",
       "      <th>4</th>\n",
       "      <td>S0211-69952011000400013-1</td>\n",
       "      <td>SHORT_FORM</td>\n",
       "      <td>1266</td>\n",
       "      <td>1268</td>\n",
       "      <td>TC</td>\n",
       "      <td>SHORT-LONG</td>\n",
       "      <td>LONG_FORM</td>\n",
       "      <td>1240</td>\n",
       "      <td>1264</td>\n",
       "      <td>tomografía computarizada</td>\n",
       "    </tr>\n",
       "  </tbody>\n",
       "</table>\n",
       "</div>"
      ],
      "text/plain": [
       "               # Document_ID Mention_A_type  Mention_A_StartOffset  \\\n",
       "0  S1130-01082008001000010-1     SHORT_FORM                   2168   \n",
       "1  S0376-78922011000200004-1     SHORT_FORM                    661   \n",
       "2  S1130-01082008000800019-1     SHORT_FORM                   1079   \n",
       "3  S1130-01082009000900012-1     SHORT_FORM                    571   \n",
       "4  S0211-69952011000400013-1     SHORT_FORM                   1266   \n",
       "\n",
       "   Mention_A_EndOffset Mention_A Relation_type Mention_B_type  \\\n",
       "0                 2172      CPRE    SHORT-LONG      LONG_FORM   \n",
       "1                  663        IV    SHORT-LONG      LONG_FORM   \n",
       "2                 1081        TC    SHORT-LONG      LONG_FORM   \n",
       "3                  573        TC    SHORT-LONG      LONG_FORM   \n",
       "4                 1268        TC    SHORT-LONG      LONG_FORM   \n",
       "\n",
       "   Mention_B_StartOffset  Mention_B_EndOffset  \\\n",
       "0                   2120                 2166   \n",
       "1                    648                  659   \n",
       "2                   1053                 1077   \n",
       "3                    545                  569   \n",
       "4                   1240                 1264   \n",
       "\n",
       "                                        Mention_B  \n",
       "0  colangiopancreatografía retrógrada endoscópica  \n",
       "1                                     intravenosa  \n",
       "2                        tomografía computerizada  \n",
       "3                        tomografía computerizada  \n",
       "4                        tomografía computarizada  "
      ]
     },
     "execution_count": 169,
     "metadata": {},
     "output_type": "execute_result"
    }
   ],
   "source": [
    "test_prediction.head()"
   ]
  },
  {
   "cell_type": "markdown",
   "id": "c1a0c2a7-614f-40e3-9b05-9530a5281767",
   "metadata": {},
   "source": [
    "## Write data"
   ]
  },
  {
   "cell_type": "code",
   "execution_count": 170,
   "id": "65f84a90-2792-41a4-b38c-b527bf4d5b04",
   "metadata": {},
   "outputs": [],
   "source": [
    "train_rel.to_csv(\"../data/clinical_cases.relations.training_set_2.tsv\", sep = '\\t', index = False)\n",
    "train_prediction.to_csv('../data/track_1_train.tsv', sep = '\\t', index = False)"
   ]
  },
  {
   "cell_type": "code",
   "execution_count": 171,
   "id": "d0e8d2c4-ed79-4e6e-83f6-5517821ac333",
   "metadata": {},
   "outputs": [],
   "source": [
    "testing_rel.to_csv(\"../data/clinical_cases.relations.testing_set_2.tsv\", sep = '\\t', index = False)\n",
    "test_prediction.to_csv('../data/track_1_test.tsv', sep = '\\t', index = False)"
   ]
  }
 ],
 "metadata": {
  "kernelspec": {
   "display_name": "Python 3 (ipykernel)",
   "language": "python",
   "name": "python3"
  },
  "language_info": {
   "codemirror_mode": {
    "name": "ipython",
    "version": 3
   },
   "file_extension": ".py",
   "mimetype": "text/x-python",
   "name": "python",
   "nbconvert_exporter": "python",
   "pygments_lexer": "ipython3",
   "version": "3.8.12"
  }
 },
 "nbformat": 4,
 "nbformat_minor": 5
}
