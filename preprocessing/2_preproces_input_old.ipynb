{
 "cells": [
  {
   "cell_type": "markdown",
   "metadata": {},
   "source": [
    "# Library"
   ]
  },
  {
   "cell_type": "code",
   "execution_count": 111,
   "metadata": {},
   "outputs": [],
   "source": [
    "import pandas as pd\n",
    "import numpy as np\n",
    "import os\n",
    "import re\n",
    "import collections\n",
    "import unidecode\n",
    "import nltk\n",
    "from nltk.corpus import stopwords\n",
    "import itertools \n",
    "from nltk.tokenize import word_tokenize\n",
    "from string import punctuation\n",
    "from functools import reduce"
   ]
  },
  {
   "cell_type": "code",
   "execution_count": 112,
   "metadata": {},
   "outputs": [],
   "source": [
    "pd.set_option('display.max_colwidth', 100)"
   ]
  },
  {
   "cell_type": "code",
   "execution_count": 113,
   "metadata": {},
   "outputs": [],
   "source": [
    "%matplotlib inline\n",
    "from matplotlib import pyplot as plt"
   ]
  },
  {
   "cell_type": "markdown",
   "metadata": {},
   "source": [
    "# Functions"
   ]
  },
  {
   "cell_type": "code",
   "execution_count": 114,
   "metadata": {},
   "outputs": [],
   "source": [
    "def read_texts(path):\n",
    "    data = []\n",
    "    file_name = os.listdir(path)\n",
    "\n",
    "    for name in file_name:\n",
    "        if name.endswith('.txt'):\n",
    "            with open(path + name,encoding=\"utf8\") as f:\n",
    "                text = f.read()\n",
    "                data.append({'nombre':name.replace('.txt',''), 'texto':text})\n",
    "\n",
    "    df = pd.DataFrame(data)\n",
    "    return df"
   ]
  },
  {
   "cell_type": "code",
   "execution_count": 115,
   "metadata": {},
   "outputs": [],
   "source": [
    "def clean_text(string):\n",
    "    \"\"\"\n",
    "    A method to clean text \n",
    "    \"\"\"\n",
    "    \n",
    "    # Removing the punctuations\n",
    "    for x in string.lower(): \n",
    "        if x in punctuation:\n",
    "            if x != '/':\n",
    "                string = string.replace(x, \"\")\n",
    "            else:\n",
    "                string = string.replace(x, \" \")\n",
    "    \n",
    "    string = unidecode.unidecode(string)\n",
    "\n",
    "#     # Converting the text to lower\n",
    "#     string = string.lower()\n",
    "\n",
    "    # Removing stop words\n",
    "    string = ' '.join([word for word in string.split() if word not in swords])\n",
    "\n",
    "    # Cleaning the whitespaces\n",
    "    string = re.sub(r'\\s+', ' ', string).strip()\n",
    "\n",
    "    return string "
   ]
  },
  {
   "cell_type": "code",
   "execution_count": 116,
   "metadata": {},
   "outputs": [
    {
     "name": "stderr",
     "output_type": "stream",
     "text": [
      "[nltk_data] Downloading package stopwords to\n",
      "[nltk_data]     /Users/egarcia/nltk_data...\n",
      "[nltk_data]   Package stopwords is already up-to-date!\n"
     ]
    }
   ],
   "source": [
    "nltk.download('stopwords')\n",
    "swords = list(set(stopwords.words('spanish')))"
   ]
  },
  {
   "cell_type": "code",
   "execution_count": 117,
   "metadata": {},
   "outputs": [],
   "source": [
    "def sep_num_text(data):\n",
    "\n",
    "    words = word_tokenize(data) \n",
    "    for w in words:\n",
    "        if re.search(r'\\d', w):\n",
    "            ind = words.index(w)\n",
    "            words[ind] = [''.join(g) for k, g in itertools.groupby(w, str.isalpha)]\n",
    "    data = ' '.join([x if type(x) is not list else ' '.join(x) for x in words])\n",
    "    \n",
    "    return data"
   ]
  },
  {
   "cell_type": "code",
   "execution_count": 118,
   "metadata": {},
   "outputs": [],
   "source": [
    "def get_f_b_context_text(data):\n",
    "    \n",
    "    '''Return context in a string format'''\n",
    "    \n",
    "    all_data = []\n",
    "    sf_not_found = []\n",
    "    \n",
    "    for instance in data:\n",
    "           \n",
    "        texto = instance['texto']    \n",
    "        target_word = instance['short_form'] \n",
    "        \n",
    "        if target_word in texto:\n",
    "\n",
    "            stop_ini_idx = instance['StartOffset'] #índice del inicio de la target\n",
    "            stop_fin_idx = instance['EndOffset'] #índice del inicio de la target\n",
    "\n",
    "            _instance = []\n",
    "            xf = texto[:stop_ini_idx] + ' <start> ' +texto[stop_ini_idx:stop_fin_idx] + ' <end> ' #palabras anteriores a la target\n",
    "            #xf = texto[:stop_ini_idx] +texto[stop_ini_idx:stop_fin_idx]\n",
    "            xb = texto[stop_fin_idx+1:]   #palabras posteriores a la target            \n",
    "\n",
    "            instance_id = instance['long_form'] #id del significado\n",
    "\n",
    "            _instance.append(target_word)\n",
    "            _instance.append(xf)\n",
    "            _instance.append(xb)\n",
    "            _instance.append(instance_id)\n",
    "\n",
    "            all_data.append(_instance[:])\n",
    "        else:\n",
    "            sf_not_found.append(target_word)\n",
    "#             print(\"El acrónimo {} no aparece en el texto {}\".format(target_word, instance['doc_id']))\n",
    "        \n",
    "    return all_data, sf_not_found"
   ]
  },
  {
   "cell_type": "code",
   "execution_count": 119,
   "metadata": {},
   "outputs": [],
   "source": [
    "def limit_context(data):\n",
    "\n",
    "    for doc in data:\n",
    "        \n",
    "        sf, xf, xb, lf = doc[0], doc[1], doc[2], doc[3]\n",
    "\n",
    "        xf_words = word_tokenize(xf)[-n_step_f-1:]\n",
    "        xb_words = word_tokenize(xb)[:n_step_b]\n",
    "\n",
    "        doc[1] = ' '.join(xf_words)\n",
    "        doc[2] = ' '.join(xb_words)   \n",
    "\n",
    "    return data        "
   ]
  },
  {
   "cell_type": "code",
   "execution_count": 120,
   "metadata": {},
   "outputs": [],
   "source": [
    "def create_dict(data):\n",
    "    \n",
    "    data_dic = []\n",
    "    \n",
    "    for instance in data:\n",
    "            \n",
    "        dic = {}\n",
    "\n",
    "        dic['short_form'] = instance[0]\n",
    "        dic['context'] = instance[1] + ' ' + instance[2]\n",
    "        dic['long_form'] = instance[3]\n",
    "    \n",
    "        data_dic.append(dic)\n",
    "        \n",
    "    return data_dic\n",
    "    "
   ]
  },
  {
   "cell_type": "code",
   "execution_count": 121,
   "metadata": {},
   "outputs": [],
   "source": [
    "def distance_levenshtein(str1, str2):\n",
    "    d=dict()\n",
    "    for i in range(len(str1)+1):\n",
    "        d[i]=dict()\n",
    "        d[i][0]=i\n",
    "    for i in range(len(str2)+1):\n",
    "        d[0][i] = i\n",
    "    for i in range(1, len(str1)+1):\n",
    "        for j in range(1, len(str2)+1):\n",
    "            d[i][j] = min(d[i][j-1]+1, d[i-1][j]+1, d[i-1][j-1]+(not str1[i-1] == str2[j-1]))\n",
    "    return d[len(str1)][len(str2)]"
   ]
  },
  {
   "cell_type": "code",
   "execution_count": 122,
   "metadata": {},
   "outputs": [],
   "source": [
    "def normalize_lf(row):\n",
    "    leven2 = []\n",
    "    for i in row:\n",
    "        for j in row:\n",
    "            if i != j:\n",
    "                long = max(len(i),len(j))\n",
    "                ratio = distance_levenshtein(i,j)/long\n",
    "                if ratio < 0.2:\n",
    "                    leven2.append(j)\n",
    "    if leven2:\n",
    "        leven2 = set(leven2)\n",
    "        lista = []\n",
    "        for i in leven2:\n",
    "            val = frec[frec['index'] == i]['long_form'].iloc[0]\n",
    "            lista.append((i, val))\n",
    "        lista = set(lista)\n",
    "        most_freq = sorted(set(lista), key=lambda x: x[1], reverse = True)[0][0]\n",
    "        sust = {}\n",
    "        for i in set(leven2):\n",
    "            sust[i] = most_freq\n",
    "        \n",
    "        return sust\n",
    "    else:\n",
    "        pass\n",
    "    "
   ]
  },
  {
   "cell_type": "code",
   "execution_count": 123,
   "metadata": {},
   "outputs": [],
   "source": [
    "def get_label(row):\n",
    "    if row['long_form_x'] == row['long_form_y']:\n",
    "        return 1\n",
    "    else:\n",
    "        return 0"
   ]
  },
  {
   "cell_type": "code",
   "execution_count": 124,
   "metadata": {},
   "outputs": [],
   "source": [
    "def offsetA(row):\n",
    "    return row['texto'].find(row['Mention_A'])\n",
    "    \n",
    "def offsetB(row):\n",
    "    return row['texto'].find(row['Mention_B'])\n",
    "\n",
    "def offsetB_end(row):\n",
    "    return row['texto'].find(row['Mention_B']) + len(row['Mention_B'])\n",
    "\n",
    "def offsetA_end(row):\n",
    "    return row['Mention_A_StartOffset'] + len(row['Mention_A'])"
   ]
  },
  {
   "cell_type": "code",
   "execution_count": 125,
   "metadata": {},
   "outputs": [],
   "source": [
    "def offset(row):\n",
    "    return row['texto'].find(row['abrev'])\n",
    "\n",
    "def offsetend(row):\n",
    "    return row['StartOffset']+len(row['abrev'])"
   ]
  },
  {
   "cell_type": "markdown",
   "metadata": {},
   "source": [
    "# Load Data"
   ]
  },
  {
   "cell_type": "markdown",
   "metadata": {
    "jp-MarkdownHeadingCollapsed": true,
    "tags": []
   },
   "source": [
    "### Testing\n",
    "\n",
    "220 clinical cases."
   ]
  },
  {
   "cell_type": "code",
   "execution_count": 16,
   "metadata": {},
   "outputs": [],
   "source": [
    "testing_abbr = pd.read_csv(\"../data/ibereval_data/testing_set/clinical_cases.abbreviations.testing_set.tsv\", sep = '\\t')\n",
    "#testing_met = pd.read_csv(\"../data/ibereval_data/clinical_cases.metadata.testing_set.tsv\", sep = '\\t')\n",
    "testing_rel = pd.read_csv(\"../data/ibereval_data/testing_set/clinical_cases.relations.testing_set.tsv\", sep = '\\t')"
   ]
  },
  {
   "cell_type": "code",
   "execution_count": 17,
   "metadata": {},
   "outputs": [],
   "source": [
    "#testing_met.head()"
   ]
  },
  {
   "cell_type": "code",
   "execution_count": 18,
   "metadata": {},
   "outputs": [],
   "source": [
    "testing_rel = testing_rel.reset_index()"
   ]
  },
  {
   "cell_type": "code",
   "execution_count": 19,
   "metadata": {},
   "outputs": [],
   "source": [
    "testing_rel.columns = ['# Document_ID', 'Mention_A_type', 'Mention_A_StartOffset',\n",
    "      'Mention_A', 'Relation_type', 'Mention_B_type',\n",
    "       'Mention_B_StartOffset', 'Mention_B_EndOffset', 'Mention_B']"
   ]
  },
  {
   "cell_type": "code",
   "execution_count": 20,
   "metadata": {},
   "outputs": [],
   "source": [
    "testing_rel = testing_rel.rename(columns = {'# Document_ID': 'doc_id'})"
   ]
  },
  {
   "cell_type": "code",
   "execution_count": 21,
   "metadata": {},
   "outputs": [
    {
     "data": {
      "text/html": [
       "<div>\n",
       "<style scoped>\n",
       "    .dataframe tbody tr th:only-of-type {\n",
       "        vertical-align: middle;\n",
       "    }\n",
       "\n",
       "    .dataframe tbody tr th {\n",
       "        vertical-align: top;\n",
       "    }\n",
       "\n",
       "    .dataframe thead th {\n",
       "        text-align: right;\n",
       "    }\n",
       "</style>\n",
       "<table border=\"1\" class=\"dataframe\">\n",
       "  <thead>\n",
       "    <tr style=\"text-align: right;\">\n",
       "      <th></th>\n",
       "      <th>doc_id</th>\n",
       "      <th>Mention_A_type</th>\n",
       "      <th>Mention_A_StartOffset</th>\n",
       "      <th>Mention_A</th>\n",
       "      <th>Relation_type</th>\n",
       "      <th>Mention_B_type</th>\n",
       "      <th>Mention_B_StartOffset</th>\n",
       "      <th>Mention_B_EndOffset</th>\n",
       "      <th>Mention_B</th>\n",
       "    </tr>\n",
       "  </thead>\n",
       "  <tbody>\n",
       "    <tr>\n",
       "      <th>0</th>\n",
       "      <td>S0211-69952013000500019-1</td>\n",
       "      <td>SHORT_FORM</td>\n",
       "      <td>3739</td>\n",
       "      <td>ARA II</td>\n",
       "      <td>SHORT-LONG</td>\n",
       "      <td>LONG_FORM</td>\n",
       "      <td>3695</td>\n",
       "      <td>3737</td>\n",
       "      <td>antagonista del receptor de angiotesina II</td>\n",
       "    </tr>\n",
       "    <tr>\n",
       "      <th>1</th>\n",
       "      <td>S0211-69952013000500019-1</td>\n",
       "      <td>SHORT_FORM</td>\n",
       "      <td>2793</td>\n",
       "      <td>PCR</td>\n",
       "      <td>SHORT-LONG</td>\n",
       "      <td>LONG_FORM</td>\n",
       "      <td>2798</td>\n",
       "      <td>2837</td>\n",
       "      <td>reacción en cadena de enzima polimerasa</td>\n",
       "    </tr>\n",
       "    <tr>\n",
       "      <th>2</th>\n",
       "      <td>S0365-66912004000600008-1</td>\n",
       "      <td>SHORT_FORM</td>\n",
       "      <td>406</td>\n",
       "      <td>AV</td>\n",
       "      <td>SHORT-LONG</td>\n",
       "      <td>LONG_FORM</td>\n",
       "      <td>390</td>\n",
       "      <td>404</td>\n",
       "      <td>agudeza visual</td>\n",
       "    </tr>\n",
       "    <tr>\n",
       "      <th>3</th>\n",
       "      <td>S0211-69952012000500025-1</td>\n",
       "      <td>SHORT_FORM</td>\n",
       "      <td>945</td>\n",
       "      <td>angio-TAC</td>\n",
       "      <td>SHORT-LONG</td>\n",
       "      <td>LONG_FORM</td>\n",
       "      <td>908</td>\n",
       "      <td>943</td>\n",
       "      <td>angiotomografía computarizada axial</td>\n",
       "    </tr>\n",
       "    <tr>\n",
       "      <th>4</th>\n",
       "      <td>S1130-05582017000200122-1</td>\n",
       "      <td>SHORT_FORM</td>\n",
       "      <td>940</td>\n",
       "      <td>RMN</td>\n",
       "      <td>SHORT-LONG</td>\n",
       "      <td>LONG_FORM</td>\n",
       "      <td>910</td>\n",
       "      <td>938</td>\n",
       "      <td>resonancia magnética nuclear</td>\n",
       "    </tr>\n",
       "  </tbody>\n",
       "</table>\n",
       "</div>"
      ],
      "text/plain": [
       "                      doc_id Mention_A_type  Mention_A_StartOffset  Mention_A  \\\n",
       "0  S0211-69952013000500019-1     SHORT_FORM                   3739     ARA II   \n",
       "1  S0211-69952013000500019-1     SHORT_FORM                   2793        PCR   \n",
       "2  S0365-66912004000600008-1     SHORT_FORM                    406         AV   \n",
       "3  S0211-69952012000500025-1     SHORT_FORM                    945  angio-TAC   \n",
       "4  S1130-05582017000200122-1     SHORT_FORM                    940        RMN   \n",
       "\n",
       "  Relation_type Mention_B_type  Mention_B_StartOffset  Mention_B_EndOffset  \\\n",
       "0    SHORT-LONG      LONG_FORM                   3695                 3737   \n",
       "1    SHORT-LONG      LONG_FORM                   2798                 2837   \n",
       "2    SHORT-LONG      LONG_FORM                    390                  404   \n",
       "3    SHORT-LONG      LONG_FORM                    908                  943   \n",
       "4    SHORT-LONG      LONG_FORM                    910                  938   \n",
       "\n",
       "                                    Mention_B  \n",
       "0  antagonista del receptor de angiotesina II  \n",
       "1     reacción en cadena de enzima polimerasa  \n",
       "2                              agudeza visual  \n",
       "3         angiotomografía computarizada axial  \n",
       "4                resonancia magnética nuclear  "
      ]
     },
     "execution_count": 21,
     "metadata": {},
     "output_type": "execute_result"
    }
   ],
   "source": [
    "testing_rel.head()"
   ]
  },
  {
   "cell_type": "code",
   "execution_count": 22,
   "metadata": {},
   "outputs": [
    {
     "data": {
      "text/plain": [
       "array(['SHORT-LONG', 'SHORT-NESTED', 'NESTED-LONG'], dtype=object)"
      ]
     },
     "execution_count": 22,
     "metadata": {},
     "output_type": "execute_result"
    }
   ],
   "source": [
    "testing_rel.Relation_type.unique()"
   ]
  },
  {
   "cell_type": "code",
   "execution_count": 23,
   "metadata": {},
   "outputs": [],
   "source": [
    "testing_abbr = testing_abbr.rename(columns = {'# Document_ID': 'doc_id'})"
   ]
  },
  {
   "cell_type": "code",
   "execution_count": 24,
   "metadata": {},
   "outputs": [
    {
     "data": {
      "text/html": [
       "<div>\n",
       "<style scoped>\n",
       "    .dataframe tbody tr th:only-of-type {\n",
       "        vertical-align: middle;\n",
       "    }\n",
       "\n",
       "    .dataframe tbody tr th {\n",
       "        vertical-align: top;\n",
       "    }\n",
       "\n",
       "    .dataframe thead th {\n",
       "        text-align: right;\n",
       "    }\n",
       "</style>\n",
       "<table border=\"1\" class=\"dataframe\">\n",
       "  <thead>\n",
       "    <tr style=\"text-align: right;\">\n",
       "      <th></th>\n",
       "      <th>doc_id</th>\n",
       "      <th>StartOffset</th>\n",
       "      <th>EndOffset</th>\n",
       "      <th>Abbreviation</th>\n",
       "      <th>Definition</th>\n",
       "      <th>Definition_lemmatized</th>\n",
       "    </tr>\n",
       "  </thead>\n",
       "  <tbody>\n",
       "    <tr>\n",
       "      <th>0</th>\n",
       "      <td>S0212-71992005000500009-1</td>\n",
       "      <td>533</td>\n",
       "      <td>537</td>\n",
       "      <td>/mm3</td>\n",
       "      <td>milímetro cúbico</td>\n",
       "      <td>milímetro cúbico</td>\n",
       "    </tr>\n",
       "    <tr>\n",
       "      <th>1</th>\n",
       "      <td>S1130-14732005000200003-1</td>\n",
       "      <td>1857</td>\n",
       "      <td>1858</td>\n",
       "      <td>µ</td>\n",
       "      <td>micro</td>\n",
       "      <td>micro</td>\n",
       "    </tr>\n",
       "    <tr>\n",
       "      <th>2</th>\n",
       "      <td>S0211-69952013000200018-1</td>\n",
       "      <td>2512</td>\n",
       "      <td>2514</td>\n",
       "      <td>µg</td>\n",
       "      <td>microgramo</td>\n",
       "      <td>microgramo</td>\n",
       "    </tr>\n",
       "    <tr>\n",
       "      <th>3</th>\n",
       "      <td>S0212-16112004000400007-1</td>\n",
       "      <td>4558</td>\n",
       "      <td>4560</td>\n",
       "      <td>µg</td>\n",
       "      <td>microgramo</td>\n",
       "      <td>microgramo</td>\n",
       "    </tr>\n",
       "    <tr>\n",
       "      <th>4</th>\n",
       "      <td>S1137-66272014000300016-1</td>\n",
       "      <td>1112</td>\n",
       "      <td>1114</td>\n",
       "      <td>µg</td>\n",
       "      <td>microgramo</td>\n",
       "      <td>microgramo</td>\n",
       "    </tr>\n",
       "  </tbody>\n",
       "</table>\n",
       "</div>"
      ],
      "text/plain": [
       "                      doc_id  StartOffset  EndOffset Abbreviation  \\\n",
       "0  S0212-71992005000500009-1          533        537         /mm3   \n",
       "1  S1130-14732005000200003-1         1857       1858            µ   \n",
       "2  S0211-69952013000200018-1         2512       2514           µg   \n",
       "3  S0212-16112004000400007-1         4558       4560           µg   \n",
       "4  S1137-66272014000300016-1         1112       1114           µg   \n",
       "\n",
       "         Definition Definition_lemmatized  \n",
       "0  milímetro cúbico      milímetro cúbico  \n",
       "1             micro                 micro  \n",
       "2        microgramo            microgramo  \n",
       "3        microgramo            microgramo  \n",
       "4        microgramo            microgramo  "
      ]
     },
     "execution_count": 24,
     "metadata": {},
     "output_type": "execute_result"
    }
   ],
   "source": [
    "testing_abbr.head()"
   ]
  },
  {
   "cell_type": "code",
   "execution_count": 25,
   "metadata": {},
   "outputs": [],
   "source": [
    "testing_raw = read_texts(\"../data/ibereval_data/testing_set/testing_set.raw_text/\")"
   ]
  },
  {
   "cell_type": "code",
   "execution_count": 26,
   "metadata": {},
   "outputs": [
    {
     "data": {
      "text/html": [
       "<div>\n",
       "<style scoped>\n",
       "    .dataframe tbody tr th:only-of-type {\n",
       "        vertical-align: middle;\n",
       "    }\n",
       "\n",
       "    .dataframe tbody tr th {\n",
       "        vertical-align: top;\n",
       "    }\n",
       "\n",
       "    .dataframe thead th {\n",
       "        text-align: right;\n",
       "    }\n",
       "</style>\n",
       "<table border=\"1\" class=\"dataframe\">\n",
       "  <thead>\n",
       "    <tr style=\"text-align: right;\">\n",
       "      <th></th>\n",
       "      <th>nombre</th>\n",
       "      <th>texto</th>\n",
       "    </tr>\n",
       "  </thead>\n",
       "  <tbody>\n",
       "    <tr>\n",
       "      <th>0</th>\n",
       "      <td>S1130-01082008001000010-1</td>\n",
       "      <td>Varón de 43 años originario de Marruecos, que ingresó en nuestro servicio por cuadro de 4 días d...</td>\n",
       "    </tr>\n",
       "    <tr>\n",
       "      <th>1</th>\n",
       "      <td>S0004-06142009000400011-1</td>\n",
       "      <td>Varón de 75 años con antecedentes de EPOC moderado sin otros antecedentes médicos de interés. En...</td>\n",
       "    </tr>\n",
       "    <tr>\n",
       "      <th>2</th>\n",
       "      <td>S0376-78922011000200004-1</td>\n",
       "      <td>Mujer de 44 años de edad con antecedentes médicos de insuficiencia renal crónica en tratamiento ...</td>\n",
       "    </tr>\n",
       "    <tr>\n",
       "      <th>3</th>\n",
       "      <td>S1137-66272014000300016-1</td>\n",
       "      <td>Mujer de 36 años sin antecedentes médicos o epidemiológicos de interés que es ingresada en la Un...</td>\n",
       "    </tr>\n",
       "    <tr>\n",
       "      <th>4</th>\n",
       "      <td>S1130-01082008000800019-1</td>\n",
       "      <td>Recientemente, atendimos en nuestro hospital a un varón de 46 años, con antecedente de síndrome ...</td>\n",
       "    </tr>\n",
       "  </tbody>\n",
       "</table>\n",
       "</div>"
      ],
      "text/plain": [
       "                      nombre  \\\n",
       "0  S1130-01082008001000010-1   \n",
       "1  S0004-06142009000400011-1   \n",
       "2  S0376-78922011000200004-1   \n",
       "3  S1137-66272014000300016-1   \n",
       "4  S1130-01082008000800019-1   \n",
       "\n",
       "                                                                                                 texto  \n",
       "0  Varón de 43 años originario de Marruecos, que ingresó en nuestro servicio por cuadro de 4 días d...  \n",
       "1  Varón de 75 años con antecedentes de EPOC moderado sin otros antecedentes médicos de interés. En...  \n",
       "2  Mujer de 44 años de edad con antecedentes médicos de insuficiencia renal crónica en tratamiento ...  \n",
       "3  Mujer de 36 años sin antecedentes médicos o epidemiológicos de interés que es ingresada en la Un...  \n",
       "4  Recientemente, atendimos en nuestro hospital a un varón de 46 años, con antecedente de síndrome ...  "
      ]
     },
     "execution_count": 26,
     "metadata": {},
     "output_type": "execute_result"
    }
   ],
   "source": [
    "testing_raw.head()"
   ]
  },
  {
   "cell_type": "markdown",
   "metadata": {},
   "source": [
    "#### TEST NEW DF"
   ]
  },
  {
   "cell_type": "code",
   "execution_count": 388,
   "metadata": {},
   "outputs": [],
   "source": [
    "testing_raw = pd.read_csv(\"../data/data_paper/test_subtrack2_parte1.csv\")"
   ]
  },
  {
   "cell_type": "markdown",
   "metadata": {},
   "source": [
    "### Trainning\n",
    "\n",
    "318 clinical cases"
   ]
  },
  {
   "cell_type": "code",
   "execution_count": 198,
   "metadata": {},
   "outputs": [],
   "source": [
    "train_abbr = pd.read_csv(\"../../data/ibereval_data/trainning_set/clinical_cases.abbreviations.training_set.tsv\", sep = '\\t')"
   ]
  },
  {
   "cell_type": "code",
   "execution_count": 199,
   "metadata": {},
   "outputs": [],
   "source": [
    "train_met = pd.read_csv(\"../../data/ibereval_data/trainning_set/clinical_cases.metadata.training_set.tsv\", sep = '\\t')\n",
    "train_rel = pd.read_csv(\"../../data/ibereval_data/trainning_set/clinical_cases.relations.training_set.tsv\", sep = '\\t')"
   ]
  },
  {
   "cell_type": "code",
   "execution_count": 200,
   "metadata": {},
   "outputs": [],
   "source": [
    "train_met = train_met.rename(columns = {'# Document_ID': 'doc_id'})"
   ]
  },
  {
   "cell_type": "code",
   "execution_count": 201,
   "metadata": {},
   "outputs": [
    {
     "data": {
      "text/html": [
       "<div>\n",
       "<style scoped>\n",
       "    .dataframe tbody tr th:only-of-type {\n",
       "        vertical-align: middle;\n",
       "    }\n",
       "\n",
       "    .dataframe tbody tr th {\n",
       "        vertical-align: top;\n",
       "    }\n",
       "\n",
       "    .dataframe thead th {\n",
       "        text-align: right;\n",
       "    }\n",
       "</style>\n",
       "<table border=\"1\" class=\"dataframe\">\n",
       "  <thead>\n",
       "    <tr style=\"text-align: right;\">\n",
       "      <th></th>\n",
       "      <th>doc_id</th>\n",
       "      <th>Case_ID</th>\n",
       "      <th>ISSN</th>\n",
       "      <th>Date</th>\n",
       "      <th>Source</th>\n",
       "      <th>Full_Text_Link</th>\n",
       "    </tr>\n",
       "  </thead>\n",
       "  <tbody>\n",
       "    <tr>\n",
       "      <th>0</th>\n",
       "      <td>S1139-76322015000500009-1.txt</td>\n",
       "      <td>1.txt</td>\n",
       "      <td>1139-7632</td>\n",
       "      <td>2015-12-01</td>\n",
       "      <td>Pediatría Atención Primaria  v.17 n.68 2015</td>\n",
       "      <td>http://scielo.isciii.es/scielo.php?script=sci_arttext&amp;pid=S1139-76322015000500009</td>\n",
       "    </tr>\n",
       "    <tr>\n",
       "      <th>1</th>\n",
       "      <td>S1130-05582008000400007-2.txt</td>\n",
       "      <td>2.txt</td>\n",
       "      <td>1130-0558</td>\n",
       "      <td>2008-08-01</td>\n",
       "      <td>Revista Española de Cirugía Oral y Maxilofacial  v.30 n.4 2008</td>\n",
       "      <td>http://scielo.isciii.es/scielo.php?script=sci_arttext&amp;pid=S1130-05582008000400007</td>\n",
       "    </tr>\n",
       "    <tr>\n",
       "      <th>2</th>\n",
       "      <td>S0210-48062006000100012-1.txt</td>\n",
       "      <td>1.txt</td>\n",
       "      <td>0210-4806</td>\n",
       "      <td>2006-01-01</td>\n",
       "      <td>Actas Urológicas Españolas  v.30 n.1 2006</td>\n",
       "      <td>http://scielo.isciii.es/scielo.php?script=sci_arttext&amp;pid=S0210-48062006000100012</td>\n",
       "    </tr>\n",
       "    <tr>\n",
       "      <th>3</th>\n",
       "      <td>S0213-12852003000500002-1.txt</td>\n",
       "      <td>1.txt</td>\n",
       "      <td>0213-1285</td>\n",
       "      <td>2003-10-01</td>\n",
       "      <td>Avances en Odontoestomatología  v.19 n.5 2003</td>\n",
       "      <td>http://scielo.isciii.es/scielo.php?script=sci_arttext&amp;pid=S0213-12852003000500002</td>\n",
       "    </tr>\n",
       "    <tr>\n",
       "      <th>4</th>\n",
       "      <td>S0212-71992005000400007-1.txt</td>\n",
       "      <td>1.txt</td>\n",
       "      <td>0212-7199</td>\n",
       "      <td>2005-04-01</td>\n",
       "      <td>Anales de Medicina Interna  v.22 n.4 2005</td>\n",
       "      <td>http://scielo.isciii.es/scielo.php?script=sci_arttext&amp;pid=S0212-71992005000400007</td>\n",
       "    </tr>\n",
       "  </tbody>\n",
       "</table>\n",
       "</div>"
      ],
      "text/plain": [
       "                          doc_id Case_ID       ISSN        Date  \\\n",
       "0  S1139-76322015000500009-1.txt   1.txt  1139-7632  2015-12-01   \n",
       "1  S1130-05582008000400007-2.txt   2.txt  1130-0558  2008-08-01   \n",
       "2  S0210-48062006000100012-1.txt   1.txt  0210-4806  2006-01-01   \n",
       "3  S0213-12852003000500002-1.txt   1.txt  0213-1285  2003-10-01   \n",
       "4  S0212-71992005000400007-1.txt   1.txt  0212-7199  2005-04-01   \n",
       "\n",
       "                                                           Source  \\\n",
       "0                     Pediatría Atención Primaria  v.17 n.68 2015   \n",
       "1  Revista Española de Cirugía Oral y Maxilofacial  v.30 n.4 2008   \n",
       "2                       Actas Urológicas Españolas  v.30 n.1 2006   \n",
       "3                   Avances en Odontoestomatología  v.19 n.5 2003   \n",
       "4                       Anales de Medicina Interna  v.22 n.4 2005   \n",
       "\n",
       "                                                                      Full_Text_Link  \n",
       "0  http://scielo.isciii.es/scielo.php?script=sci_arttext&pid=S1139-76322015000500009  \n",
       "1  http://scielo.isciii.es/scielo.php?script=sci_arttext&pid=S1130-05582008000400007  \n",
       "2  http://scielo.isciii.es/scielo.php?script=sci_arttext&pid=S0210-48062006000100012  \n",
       "3  http://scielo.isciii.es/scielo.php?script=sci_arttext&pid=S0213-12852003000500002  \n",
       "4  http://scielo.isciii.es/scielo.php?script=sci_arttext&pid=S0212-71992005000400007  "
      ]
     },
     "execution_count": 201,
     "metadata": {},
     "output_type": "execute_result"
    }
   ],
   "source": [
    "train_met.head()"
   ]
  },
  {
   "cell_type": "code",
   "execution_count": 202,
   "metadata": {},
   "outputs": [],
   "source": [
    "train_rel = train_rel.reset_index()"
   ]
  },
  {
   "cell_type": "code",
   "execution_count": 203,
   "metadata": {},
   "outputs": [],
   "source": [
    "train_rel.columns = ['# Document_ID', 'Mention_A_type', 'Mention_A_StartOffset',\n",
    "      'Mention_A', 'Relation_type', 'Mention_B_type',\n",
    "       'Mention_B_StartOffset', 'Mention_B_EndOffset', 'Mention_B']"
   ]
  },
  {
   "cell_type": "code",
   "execution_count": 204,
   "metadata": {},
   "outputs": [],
   "source": [
    "train_rel = train_rel.rename(columns = {'# Document_ID': 'doc_id'})"
   ]
  },
  {
   "cell_type": "code",
   "execution_count": 205,
   "metadata": {},
   "outputs": [
    {
     "data": {
      "text/html": [
       "<div>\n",
       "<style scoped>\n",
       "    .dataframe tbody tr th:only-of-type {\n",
       "        vertical-align: middle;\n",
       "    }\n",
       "\n",
       "    .dataframe tbody tr th {\n",
       "        vertical-align: top;\n",
       "    }\n",
       "\n",
       "    .dataframe thead th {\n",
       "        text-align: right;\n",
       "    }\n",
       "</style>\n",
       "<table border=\"1\" class=\"dataframe\">\n",
       "  <thead>\n",
       "    <tr style=\"text-align: right;\">\n",
       "      <th></th>\n",
       "      <th>doc_id</th>\n",
       "      <th>Mention_A_type</th>\n",
       "      <th>Mention_A_StartOffset</th>\n",
       "      <th>Mention_A</th>\n",
       "      <th>Relation_type</th>\n",
       "      <th>Mention_B_type</th>\n",
       "      <th>Mention_B_StartOffset</th>\n",
       "      <th>Mention_B_EndOffset</th>\n",
       "      <th>Mention_B</th>\n",
       "    </tr>\n",
       "  </thead>\n",
       "  <tbody>\n",
       "    <tr>\n",
       "      <th>0</th>\n",
       "      <td>S1130-01082009000400014-1</td>\n",
       "      <td>SHORT_FORM</td>\n",
       "      <td>476</td>\n",
       "      <td>NPT</td>\n",
       "      <td>SHORT-LONG</td>\n",
       "      <td>LONG_FORM</td>\n",
       "      <td>454.0</td>\n",
       "      <td>474.0</td>\n",
       "      <td>nutrición parenteral</td>\n",
       "    </tr>\n",
       "    <tr>\n",
       "      <th>1</th>\n",
       "      <td>S1130-63432016000100009-1</td>\n",
       "      <td>SHORT_FORM</td>\n",
       "      <td>614</td>\n",
       "      <td>NIHSS</td>\n",
       "      <td>SHORT-LONG</td>\n",
       "      <td>LONG_FORM</td>\n",
       "      <td>621.0</td>\n",
       "      <td>662.0</td>\n",
       "      <td>National Institute of Health Stroke Scale</td>\n",
       "    </tr>\n",
       "    <tr>\n",
       "      <th>2</th>\n",
       "      <td>S1139-76322017000200007-1</td>\n",
       "      <td>SHORT_FORM</td>\n",
       "      <td>1145</td>\n",
       "      <td>CMV</td>\n",
       "      <td>SHORT-LONG</td>\n",
       "      <td>LONG_FORM</td>\n",
       "      <td>1128.0</td>\n",
       "      <td>1143.0</td>\n",
       "      <td>citomegalovirus</td>\n",
       "    </tr>\n",
       "    <tr>\n",
       "      <th>3</th>\n",
       "      <td>S1139-76322017000200007-1</td>\n",
       "      <td>SHORT_FORM</td>\n",
       "      <td>1243</td>\n",
       "      <td>VSG</td>\n",
       "      <td>SHORT-LONG</td>\n",
       "      <td>LONG_FORM</td>\n",
       "      <td>1206.0</td>\n",
       "      <td>1241.0</td>\n",
       "      <td>velocidad de sedimentación globular</td>\n",
       "    </tr>\n",
       "    <tr>\n",
       "      <th>4</th>\n",
       "      <td>S1139-76322017000200007-1</td>\n",
       "      <td>SHORT_FORM</td>\n",
       "      <td>1300</td>\n",
       "      <td>IGRA</td>\n",
       "      <td>SHORT-LONG</td>\n",
       "      <td>LONG_FORM</td>\n",
       "      <td>1267.0</td>\n",
       "      <td>1298.0</td>\n",
       "      <td>interferon-gamma release assays</td>\n",
       "    </tr>\n",
       "  </tbody>\n",
       "</table>\n",
       "</div>"
      ],
      "text/plain": [
       "                      doc_id Mention_A_type Mention_A_StartOffset Mention_A  \\\n",
       "0  S1130-01082009000400014-1     SHORT_FORM                   476       NPT   \n",
       "1  S1130-63432016000100009-1     SHORT_FORM                   614     NIHSS   \n",
       "2  S1139-76322017000200007-1     SHORT_FORM                  1145       CMV   \n",
       "3  S1139-76322017000200007-1     SHORT_FORM                  1243       VSG   \n",
       "4  S1139-76322017000200007-1     SHORT_FORM                  1300      IGRA   \n",
       "\n",
       "  Relation_type Mention_B_type  Mention_B_StartOffset  Mention_B_EndOffset  \\\n",
       "0    SHORT-LONG      LONG_FORM                  454.0                474.0   \n",
       "1    SHORT-LONG      LONG_FORM                  621.0                662.0   \n",
       "2    SHORT-LONG      LONG_FORM                 1128.0               1143.0   \n",
       "3    SHORT-LONG      LONG_FORM                 1206.0               1241.0   \n",
       "4    SHORT-LONG      LONG_FORM                 1267.0               1298.0   \n",
       "\n",
       "                                   Mention_B  \n",
       "0                       nutrición parenteral  \n",
       "1  National Institute of Health Stroke Scale  \n",
       "2                            citomegalovirus  \n",
       "3        velocidad de sedimentación globular  \n",
       "4            interferon-gamma release assays  "
      ]
     },
     "execution_count": 205,
     "metadata": {},
     "output_type": "execute_result"
    }
   ],
   "source": [
    "train_rel.head()"
   ]
  },
  {
   "cell_type": "code",
   "execution_count": 206,
   "metadata": {},
   "outputs": [],
   "source": [
    "train_abbr = train_abbr.rename(columns = {'# Document_ID': 'doc_id'})"
   ]
  },
  {
   "cell_type": "code",
   "execution_count": 207,
   "metadata": {},
   "outputs": [
    {
     "data": {
      "text/plain": [
       "908"
      ]
     },
     "execution_count": 207,
     "metadata": {},
     "output_type": "execute_result"
    }
   ],
   "source": [
    "train_abbr.Definition.nunique()"
   ]
  },
  {
   "cell_type": "code",
   "execution_count": 208,
   "metadata": {},
   "outputs": [
    {
     "data": {
      "text/html": [
       "<div>\n",
       "<style scoped>\n",
       "    .dataframe tbody tr th:only-of-type {\n",
       "        vertical-align: middle;\n",
       "    }\n",
       "\n",
       "    .dataframe tbody tr th {\n",
       "        vertical-align: top;\n",
       "    }\n",
       "\n",
       "    .dataframe thead th {\n",
       "        text-align: right;\n",
       "    }\n",
       "</style>\n",
       "<table border=\"1\" class=\"dataframe\">\n",
       "  <thead>\n",
       "    <tr style=\"text-align: right;\">\n",
       "      <th></th>\n",
       "      <th>doc_id</th>\n",
       "      <th>StartOffset</th>\n",
       "      <th>EndOffset</th>\n",
       "      <th>Abbreviation</th>\n",
       "      <th>Definition</th>\n",
       "      <th>Definition_lemmatized</th>\n",
       "    </tr>\n",
       "  </thead>\n",
       "  <tbody>\n",
       "    <tr>\n",
       "      <th>0</th>\n",
       "      <td>S0210-48062004000500008-1</td>\n",
       "      <td>1650</td>\n",
       "      <td>1652</td>\n",
       "      <td>ml</td>\n",
       "      <td>mililitro</td>\n",
       "      <td>mililitro</td>\n",
       "    </tr>\n",
       "    <tr>\n",
       "      <th>1</th>\n",
       "      <td>S0210-48062004000500008-1</td>\n",
       "      <td>708</td>\n",
       "      <td>709</td>\n",
       "      <td>l</td>\n",
       "      <td>litro</td>\n",
       "      <td>litro</td>\n",
       "    </tr>\n",
       "    <tr>\n",
       "      <th>2</th>\n",
       "      <td>S0210-48062004000500008-1</td>\n",
       "      <td>704</td>\n",
       "      <td>707</td>\n",
       "      <td>mEq</td>\n",
       "      <td>miliequivalente</td>\n",
       "      <td>miliequivalente</td>\n",
       "    </tr>\n",
       "    <tr>\n",
       "      <th>3</th>\n",
       "      <td>S0210-48062004000500008-1</td>\n",
       "      <td>677</td>\n",
       "      <td>681</td>\n",
       "      <td>pCO2</td>\n",
       "      <td>presión parcial de co2</td>\n",
       "      <td>presión parcial de co2</td>\n",
       "    </tr>\n",
       "    <tr>\n",
       "      <th>4</th>\n",
       "      <td>S0210-48062004000500008-1</td>\n",
       "      <td>2287</td>\n",
       "      <td>2290</td>\n",
       "      <td>HLA</td>\n",
       "      <td>human leucocyte antigen</td>\n",
       "      <td>human leucocyte antiger</td>\n",
       "    </tr>\n",
       "  </tbody>\n",
       "</table>\n",
       "</div>"
      ],
      "text/plain": [
       "                      doc_id  StartOffset  EndOffset Abbreviation  \\\n",
       "0  S0210-48062004000500008-1         1650       1652           ml   \n",
       "1  S0210-48062004000500008-1          708        709            l   \n",
       "2  S0210-48062004000500008-1          704        707          mEq   \n",
       "3  S0210-48062004000500008-1          677        681         pCO2   \n",
       "4  S0210-48062004000500008-1         2287       2290          HLA   \n",
       "\n",
       "                Definition    Definition_lemmatized  \n",
       "0                mililitro                mililitro  \n",
       "1                    litro                    litro  \n",
       "2          miliequivalente          miliequivalente  \n",
       "3   presión parcial de co2   presión parcial de co2  \n",
       "4  human leucocyte antigen  human leucocyte antiger  "
      ]
     },
     "execution_count": 208,
     "metadata": {},
     "output_type": "execute_result"
    }
   ],
   "source": [
    "train_abbr.head()"
   ]
  },
  {
   "cell_type": "code",
   "execution_count": 210,
   "metadata": {},
   "outputs": [],
   "source": [
    "train_raw = read_texts(\"../../data/ibereval_data/trainning_set/training_set.raw_text/\")"
   ]
  },
  {
   "cell_type": "code",
   "execution_count": 211,
   "metadata": {},
   "outputs": [],
   "source": [
    "train_raw = train_raw.rename(columns = {'nombre': 'doc_id'})"
   ]
  },
  {
   "cell_type": "code",
   "execution_count": 212,
   "metadata": {},
   "outputs": [
    {
     "data": {
      "text/html": [
       "<div>\n",
       "<style scoped>\n",
       "    .dataframe tbody tr th:only-of-type {\n",
       "        vertical-align: middle;\n",
       "    }\n",
       "\n",
       "    .dataframe tbody tr th {\n",
       "        vertical-align: top;\n",
       "    }\n",
       "\n",
       "    .dataframe thead th {\n",
       "        text-align: right;\n",
       "    }\n",
       "</style>\n",
       "<table border=\"1\" class=\"dataframe\">\n",
       "  <thead>\n",
       "    <tr style=\"text-align: right;\">\n",
       "      <th></th>\n",
       "      <th>doc_id</th>\n",
       "      <th>texto</th>\n",
       "    </tr>\n",
       "  </thead>\n",
       "  <tbody>\n",
       "    <tr>\n",
       "      <th>0</th>\n",
       "      <td>S1130-01082006000100014-1</td>\n",
       "      <td>Se trata de una mujer de 35 años, con antecedentes familiares de enfermedad de Crohn y sin antec...</td>\n",
       "    </tr>\n",
       "    <tr>\n",
       "      <th>1</th>\n",
       "      <td>S1130-01082009000300015-1</td>\n",
       "      <td>Varón de 70 años, fumador, con enfisema pulmonar y vitíligo al que en mayo de 2001 se realizó un...</td>\n",
       "    </tr>\n",
       "    <tr>\n",
       "      <th>2</th>\n",
       "      <td>S0210-56912010000200009-1</td>\n",
       "      <td>Se trata de una mujer de 70 años con antecedentes de HTA y diagnosticada recientemente de neopla...</td>\n",
       "    </tr>\n",
       "    <tr>\n",
       "      <th>3</th>\n",
       "      <td>S1130-01082008000900014-1</td>\n",
       "      <td>Varón de 41 años diagnosticado de adenocarcinoma medianamente diferenciado implantado sobre esóf...</td>\n",
       "    </tr>\n",
       "    <tr>\n",
       "      <th>4</th>\n",
       "      <td>S0210-48062004000500008-1</td>\n",
       "      <td>Paciente de 29 años de edad que acude al Servicio de Urgencias de nuestro Hospital ante la prese...</td>\n",
       "    </tr>\n",
       "  </tbody>\n",
       "</table>\n",
       "</div>"
      ],
      "text/plain": [
       "                      doc_id  \\\n",
       "0  S1130-01082006000100014-1   \n",
       "1  S1130-01082009000300015-1   \n",
       "2  S0210-56912010000200009-1   \n",
       "3  S1130-01082008000900014-1   \n",
       "4  S0210-48062004000500008-1   \n",
       "\n",
       "                                                                                                 texto  \n",
       "0  Se trata de una mujer de 35 años, con antecedentes familiares de enfermedad de Crohn y sin antec...  \n",
       "1  Varón de 70 años, fumador, con enfisema pulmonar y vitíligo al que en mayo de 2001 se realizó un...  \n",
       "2  Se trata de una mujer de 70 años con antecedentes de HTA y diagnosticada recientemente de neopla...  \n",
       "3  Varón de 41 años diagnosticado de adenocarcinoma medianamente diferenciado implantado sobre esóf...  \n",
       "4  Paciente de 29 años de edad que acude al Servicio de Urgencias de nuestro Hospital ante la prese...  "
      ]
     },
     "execution_count": 212,
     "metadata": {},
     "output_type": "execute_result"
    }
   ],
   "source": [
    "train_raw.head()"
   ]
  },
  {
   "cell_type": "markdown",
   "metadata": {},
   "source": [
    "#### TRAIN NEW DF"
   ]
  },
  {
   "cell_type": "code",
   "execution_count": 387,
   "metadata": {},
   "outputs": [],
   "source": [
    "train_raw = pd.read_csv(\"../data/data_paper/train_subtrack2_parte1.csv\")"
   ]
  },
  {
   "cell_type": "markdown",
   "metadata": {
    "jp-MarkdownHeadingCollapsed": true,
    "tags": []
   },
   "source": [
    "### Development"
   ]
  },
  {
   "cell_type": "code",
   "execution_count": 41,
   "metadata": {},
   "outputs": [],
   "source": [
    "dev_abbr = pd.read_csv(\"../../datasets/development_set/clinical_cases.abbreviations.development_set.tsv\", sep = '\\t')"
   ]
  },
  {
   "cell_type": "code",
   "execution_count": 42,
   "metadata": {},
   "outputs": [],
   "source": [
    "dev_met = pd.read_csv(\"../../datasets/development_set/clinical_cases.metadata.development_set.tsv\", sep = '\\t')\n",
    "dev_rel = pd.read_csv(\"../../datasets/development_set/clinical_cases.relations.development_set.tsv\", sep = '\\t')"
   ]
  },
  {
   "cell_type": "code",
   "execution_count": 43,
   "metadata": {},
   "outputs": [],
   "source": [
    "dev_met = train_met.rename(columns = {'# Document_ID': 'doc_id'})"
   ]
  },
  {
   "cell_type": "code",
   "execution_count": 44,
   "metadata": {},
   "outputs": [
    {
     "data": {
      "text/html": [
       "<div>\n",
       "<style scoped>\n",
       "    .dataframe tbody tr th:only-of-type {\n",
       "        vertical-align: middle;\n",
       "    }\n",
       "\n",
       "    .dataframe tbody tr th {\n",
       "        vertical-align: top;\n",
       "    }\n",
       "\n",
       "    .dataframe thead th {\n",
       "        text-align: right;\n",
       "    }\n",
       "</style>\n",
       "<table border=\"1\" class=\"dataframe\">\n",
       "  <thead>\n",
       "    <tr style=\"text-align: right;\">\n",
       "      <th></th>\n",
       "      <th>doc_id</th>\n",
       "      <th>Case_ID</th>\n",
       "      <th>ISSN</th>\n",
       "      <th>Date</th>\n",
       "      <th>Source</th>\n",
       "      <th>Full_Text_Link</th>\n",
       "    </tr>\n",
       "  </thead>\n",
       "  <tbody>\n",
       "    <tr>\n",
       "      <th>0</th>\n",
       "      <td>S1139-76322015000500009-1.txt</td>\n",
       "      <td>1.txt</td>\n",
       "      <td>1139-7632</td>\n",
       "      <td>2015-12-01</td>\n",
       "      <td>Pediatría Atención Primaria  v.17 n.68 2015</td>\n",
       "      <td>http://scielo.isciii.es/scielo.php?script=sci_arttext&amp;pid=S1139-76322015000500009</td>\n",
       "    </tr>\n",
       "    <tr>\n",
       "      <th>1</th>\n",
       "      <td>S1130-05582008000400007-2.txt</td>\n",
       "      <td>2.txt</td>\n",
       "      <td>1130-0558</td>\n",
       "      <td>2008-08-01</td>\n",
       "      <td>Revista Española de Cirugía Oral y Maxilofacial  v.30 n.4 2008</td>\n",
       "      <td>http://scielo.isciii.es/scielo.php?script=sci_arttext&amp;pid=S1130-05582008000400007</td>\n",
       "    </tr>\n",
       "    <tr>\n",
       "      <th>2</th>\n",
       "      <td>S0210-48062006000100012-1.txt</td>\n",
       "      <td>1.txt</td>\n",
       "      <td>0210-4806</td>\n",
       "      <td>2006-01-01</td>\n",
       "      <td>Actas Urológicas Españolas  v.30 n.1 2006</td>\n",
       "      <td>http://scielo.isciii.es/scielo.php?script=sci_arttext&amp;pid=S0210-48062006000100012</td>\n",
       "    </tr>\n",
       "    <tr>\n",
       "      <th>3</th>\n",
       "      <td>S0213-12852003000500002-1.txt</td>\n",
       "      <td>1.txt</td>\n",
       "      <td>0213-1285</td>\n",
       "      <td>2003-10-01</td>\n",
       "      <td>Avances en Odontoestomatología  v.19 n.5 2003</td>\n",
       "      <td>http://scielo.isciii.es/scielo.php?script=sci_arttext&amp;pid=S0213-12852003000500002</td>\n",
       "    </tr>\n",
       "    <tr>\n",
       "      <th>4</th>\n",
       "      <td>S0212-71992005000400007-1.txt</td>\n",
       "      <td>1.txt</td>\n",
       "      <td>0212-7199</td>\n",
       "      <td>2005-04-01</td>\n",
       "      <td>Anales de Medicina Interna  v.22 n.4 2005</td>\n",
       "      <td>http://scielo.isciii.es/scielo.php?script=sci_arttext&amp;pid=S0212-71992005000400007</td>\n",
       "    </tr>\n",
       "  </tbody>\n",
       "</table>\n",
       "</div>"
      ],
      "text/plain": [
       "                          doc_id Case_ID       ISSN        Date  \\\n",
       "0  S1139-76322015000500009-1.txt   1.txt  1139-7632  2015-12-01   \n",
       "1  S1130-05582008000400007-2.txt   2.txt  1130-0558  2008-08-01   \n",
       "2  S0210-48062006000100012-1.txt   1.txt  0210-4806  2006-01-01   \n",
       "3  S0213-12852003000500002-1.txt   1.txt  0213-1285  2003-10-01   \n",
       "4  S0212-71992005000400007-1.txt   1.txt  0212-7199  2005-04-01   \n",
       "\n",
       "                                                           Source  \\\n",
       "0                     Pediatría Atención Primaria  v.17 n.68 2015   \n",
       "1  Revista Española de Cirugía Oral y Maxilofacial  v.30 n.4 2008   \n",
       "2                       Actas Urológicas Españolas  v.30 n.1 2006   \n",
       "3                   Avances en Odontoestomatología  v.19 n.5 2003   \n",
       "4                       Anales de Medicina Interna  v.22 n.4 2005   \n",
       "\n",
       "                                                                      Full_Text_Link  \n",
       "0  http://scielo.isciii.es/scielo.php?script=sci_arttext&pid=S1139-76322015000500009  \n",
       "1  http://scielo.isciii.es/scielo.php?script=sci_arttext&pid=S1130-05582008000400007  \n",
       "2  http://scielo.isciii.es/scielo.php?script=sci_arttext&pid=S0210-48062006000100012  \n",
       "3  http://scielo.isciii.es/scielo.php?script=sci_arttext&pid=S0213-12852003000500002  \n",
       "4  http://scielo.isciii.es/scielo.php?script=sci_arttext&pid=S0212-71992005000400007  "
      ]
     },
     "execution_count": 44,
     "metadata": {},
     "output_type": "execute_result"
    }
   ],
   "source": [
    "dev_met.head()"
   ]
  },
  {
   "cell_type": "code",
   "execution_count": 45,
   "metadata": {},
   "outputs": [],
   "source": [
    "dev_rel = train_rel.reset_index()"
   ]
  },
  {
   "cell_type": "code",
   "execution_count": 46,
   "metadata": {},
   "outputs": [],
   "source": [
    "dev_rel.columns = ['index', '# Document_ID', 'Mention_A_type', 'Mention_A_StartOffset',\n",
    "      'Mention_A', 'Relation_type', 'Mention_B_type',\n",
    "       'Mention_B_StartOffset', 'Mention_B_EndOffset', 'Mention_B']"
   ]
  },
  {
   "cell_type": "code",
   "execution_count": 47,
   "metadata": {},
   "outputs": [],
   "source": [
    "dev_rel = dev_rel.rename(columns = {'# Document_ID': 'doc_id'})"
   ]
  },
  {
   "cell_type": "code",
   "execution_count": 48,
   "metadata": {},
   "outputs": [
    {
     "data": {
      "text/html": [
       "<div>\n",
       "<style scoped>\n",
       "    .dataframe tbody tr th:only-of-type {\n",
       "        vertical-align: middle;\n",
       "    }\n",
       "\n",
       "    .dataframe tbody tr th {\n",
       "        vertical-align: top;\n",
       "    }\n",
       "\n",
       "    .dataframe thead th {\n",
       "        text-align: right;\n",
       "    }\n",
       "</style>\n",
       "<table border=\"1\" class=\"dataframe\">\n",
       "  <thead>\n",
       "    <tr style=\"text-align: right;\">\n",
       "      <th></th>\n",
       "      <th>index</th>\n",
       "      <th>doc_id</th>\n",
       "      <th>Mention_A_type</th>\n",
       "      <th>Mention_A_StartOffset</th>\n",
       "      <th>Mention_A</th>\n",
       "      <th>Relation_type</th>\n",
       "      <th>Mention_B_type</th>\n",
       "      <th>Mention_B_StartOffset</th>\n",
       "      <th>Mention_B_EndOffset</th>\n",
       "      <th>Mention_B</th>\n",
       "    </tr>\n",
       "  </thead>\n",
       "  <tbody>\n",
       "    <tr>\n",
       "      <th>0</th>\n",
       "      <td>0</td>\n",
       "      <td>S1130-01082009000400014-1</td>\n",
       "      <td>SHORT_FORM</td>\n",
       "      <td>476</td>\n",
       "      <td>NPT</td>\n",
       "      <td>SHORT-LONG</td>\n",
       "      <td>LONG_FORM</td>\n",
       "      <td>454.0</td>\n",
       "      <td>474.0</td>\n",
       "      <td>nutrición parenteral</td>\n",
       "    </tr>\n",
       "    <tr>\n",
       "      <th>1</th>\n",
       "      <td>1</td>\n",
       "      <td>S1130-63432016000100009-1</td>\n",
       "      <td>SHORT_FORM</td>\n",
       "      <td>614</td>\n",
       "      <td>NIHSS</td>\n",
       "      <td>SHORT-LONG</td>\n",
       "      <td>LONG_FORM</td>\n",
       "      <td>621.0</td>\n",
       "      <td>662.0</td>\n",
       "      <td>National Institute of Health Stroke Scale</td>\n",
       "    </tr>\n",
       "    <tr>\n",
       "      <th>2</th>\n",
       "      <td>2</td>\n",
       "      <td>S1139-76322017000200007-1</td>\n",
       "      <td>SHORT_FORM</td>\n",
       "      <td>1145</td>\n",
       "      <td>CMV</td>\n",
       "      <td>SHORT-LONG</td>\n",
       "      <td>LONG_FORM</td>\n",
       "      <td>1128.0</td>\n",
       "      <td>1143.0</td>\n",
       "      <td>citomegalovirus</td>\n",
       "    </tr>\n",
       "    <tr>\n",
       "      <th>3</th>\n",
       "      <td>3</td>\n",
       "      <td>S1139-76322017000200007-1</td>\n",
       "      <td>SHORT_FORM</td>\n",
       "      <td>1243</td>\n",
       "      <td>VSG</td>\n",
       "      <td>SHORT-LONG</td>\n",
       "      <td>LONG_FORM</td>\n",
       "      <td>1206.0</td>\n",
       "      <td>1241.0</td>\n",
       "      <td>velocidad de sedimentación globular</td>\n",
       "    </tr>\n",
       "    <tr>\n",
       "      <th>4</th>\n",
       "      <td>4</td>\n",
       "      <td>S1139-76322017000200007-1</td>\n",
       "      <td>SHORT_FORM</td>\n",
       "      <td>1300</td>\n",
       "      <td>IGRA</td>\n",
       "      <td>SHORT-LONG</td>\n",
       "      <td>LONG_FORM</td>\n",
       "      <td>1267.0</td>\n",
       "      <td>1298.0</td>\n",
       "      <td>interferon-gamma release assays</td>\n",
       "    </tr>\n",
       "  </tbody>\n",
       "</table>\n",
       "</div>"
      ],
      "text/plain": [
       "   index                     doc_id Mention_A_type Mention_A_StartOffset  \\\n",
       "0      0  S1130-01082009000400014-1     SHORT_FORM                   476   \n",
       "1      1  S1130-63432016000100009-1     SHORT_FORM                   614   \n",
       "2      2  S1139-76322017000200007-1     SHORT_FORM                  1145   \n",
       "3      3  S1139-76322017000200007-1     SHORT_FORM                  1243   \n",
       "4      4  S1139-76322017000200007-1     SHORT_FORM                  1300   \n",
       "\n",
       "  Mention_A Relation_type Mention_B_type  Mention_B_StartOffset  \\\n",
       "0       NPT    SHORT-LONG      LONG_FORM                  454.0   \n",
       "1     NIHSS    SHORT-LONG      LONG_FORM                  621.0   \n",
       "2       CMV    SHORT-LONG      LONG_FORM                 1128.0   \n",
       "3       VSG    SHORT-LONG      LONG_FORM                 1206.0   \n",
       "4      IGRA    SHORT-LONG      LONG_FORM                 1267.0   \n",
       "\n",
       "   Mention_B_EndOffset                                  Mention_B  \n",
       "0                474.0                       nutrición parenteral  \n",
       "1                662.0  National Institute of Health Stroke Scale  \n",
       "2               1143.0                            citomegalovirus  \n",
       "3               1241.0        velocidad de sedimentación globular  \n",
       "4               1298.0            interferon-gamma release assays  "
      ]
     },
     "execution_count": 48,
     "metadata": {},
     "output_type": "execute_result"
    }
   ],
   "source": [
    "dev_rel.head()"
   ]
  },
  {
   "cell_type": "code",
   "execution_count": 49,
   "metadata": {},
   "outputs": [],
   "source": [
    "dev_abbr = dev_abbr.rename(columns = {'# Document_ID': 'doc_id'})"
   ]
  },
  {
   "cell_type": "code",
   "execution_count": 50,
   "metadata": {},
   "outputs": [
    {
     "data": {
      "text/plain": [
       "541"
      ]
     },
     "execution_count": 50,
     "metadata": {},
     "output_type": "execute_result"
    }
   ],
   "source": [
    "dev_abbr.Definition.nunique()"
   ]
  },
  {
   "cell_type": "code",
   "execution_count": 51,
   "metadata": {},
   "outputs": [
    {
     "data": {
      "text/html": [
       "<div>\n",
       "<style scoped>\n",
       "    .dataframe tbody tr th:only-of-type {\n",
       "        vertical-align: middle;\n",
       "    }\n",
       "\n",
       "    .dataframe tbody tr th {\n",
       "        vertical-align: top;\n",
       "    }\n",
       "\n",
       "    .dataframe thead th {\n",
       "        text-align: right;\n",
       "    }\n",
       "</style>\n",
       "<table border=\"1\" class=\"dataframe\">\n",
       "  <thead>\n",
       "    <tr style=\"text-align: right;\">\n",
       "      <th></th>\n",
       "      <th>doc_id</th>\n",
       "      <th>StartOffset</th>\n",
       "      <th>EndOffset</th>\n",
       "      <th>Abbreviation</th>\n",
       "      <th>Definition</th>\n",
       "      <th>Definition_lemmatized</th>\n",
       "    </tr>\n",
       "  </thead>\n",
       "  <tbody>\n",
       "    <tr>\n",
       "      <th>0</th>\n",
       "      <td>S1130-14732005000300004-1</td>\n",
       "      <td>1216</td>\n",
       "      <td>1218</td>\n",
       "      <td>C3</td>\n",
       "      <td>tercera vértebra cervical</td>\n",
       "      <td>tercero vértebra cervical</td>\n",
       "    </tr>\n",
       "    <tr>\n",
       "      <th>1</th>\n",
       "      <td>S1130-14732005000300004-1</td>\n",
       "      <td>717</td>\n",
       "      <td>719</td>\n",
       "      <td>C2</td>\n",
       "      <td>segunda vértebra cervical</td>\n",
       "      <td>segundo vértebra cervical</td>\n",
       "    </tr>\n",
       "    <tr>\n",
       "      <th>2</th>\n",
       "      <td>S1130-14732005000300004-1</td>\n",
       "      <td>3191</td>\n",
       "      <td>3193</td>\n",
       "      <td>C3</td>\n",
       "      <td>tercera vértebra cervical</td>\n",
       "      <td>tercero vértebra cervical</td>\n",
       "    </tr>\n",
       "    <tr>\n",
       "      <th>3</th>\n",
       "      <td>S1130-14732005000300004-1</td>\n",
       "      <td>2867</td>\n",
       "      <td>2869</td>\n",
       "      <td>C3</td>\n",
       "      <td>tercera vértebra cervical</td>\n",
       "      <td>tercero vértebra cervical</td>\n",
       "    </tr>\n",
       "    <tr>\n",
       "      <th>4</th>\n",
       "      <td>S1130-14732005000300004-1</td>\n",
       "      <td>2862</td>\n",
       "      <td>2864</td>\n",
       "      <td>C2</td>\n",
       "      <td>segunda vértebra cervical</td>\n",
       "      <td>segundo vértebra cervical</td>\n",
       "    </tr>\n",
       "  </tbody>\n",
       "</table>\n",
       "</div>"
      ],
      "text/plain": [
       "                      doc_id  StartOffset  EndOffset Abbreviation  \\\n",
       "0  S1130-14732005000300004-1         1216       1218           C3   \n",
       "1  S1130-14732005000300004-1          717        719           C2   \n",
       "2  S1130-14732005000300004-1         3191       3193           C3   \n",
       "3  S1130-14732005000300004-1         2867       2869           C3   \n",
       "4  S1130-14732005000300004-1         2862       2864           C2   \n",
       "\n",
       "                   Definition      Definition_lemmatized  \n",
       "0   tercera vértebra cervical  tercero vértebra cervical  \n",
       "1   segunda vértebra cervical  segundo vértebra cervical  \n",
       "2  tercera vértebra cervical   tercero vértebra cervical  \n",
       "3  tercera vértebra cervical   tercero vértebra cervical  \n",
       "4  segunda vértebra cervical   segundo vértebra cervical  "
      ]
     },
     "execution_count": 51,
     "metadata": {},
     "output_type": "execute_result"
    }
   ],
   "source": [
    "dev_abbr.head()"
   ]
  },
  {
   "cell_type": "code",
   "execution_count": 52,
   "metadata": {},
   "outputs": [],
   "source": [
    "dev_raw = read_texts(\"../../datasets/development_set/development_set.raw_text/\")"
   ]
  },
  {
   "cell_type": "code",
   "execution_count": 53,
   "metadata": {},
   "outputs": [],
   "source": [
    "dev_raw = dev_raw.rename(columns = {'nombre': 'doc_id'})"
   ]
  },
  {
   "cell_type": "code",
   "execution_count": 54,
   "metadata": {},
   "outputs": [
    {
     "data": {
      "text/html": [
       "<div>\n",
       "<style scoped>\n",
       "    .dataframe tbody tr th:only-of-type {\n",
       "        vertical-align: middle;\n",
       "    }\n",
       "\n",
       "    .dataframe tbody tr th {\n",
       "        vertical-align: top;\n",
       "    }\n",
       "\n",
       "    .dataframe thead th {\n",
       "        text-align: right;\n",
       "    }\n",
       "</style>\n",
       "<table border=\"1\" class=\"dataframe\">\n",
       "  <thead>\n",
       "    <tr style=\"text-align: right;\">\n",
       "      <th></th>\n",
       "      <th>doc_id</th>\n",
       "      <th>texto</th>\n",
       "    </tr>\n",
       "  </thead>\n",
       "  <tbody>\n",
       "    <tr>\n",
       "      <th>0</th>\n",
       "      <td>S0004-06142008000100008-1</td>\n",
       "      <td>Presentamos el caso de una mujer de 30 años, fumadora de 20 cigarrillos/día y sin otros antecede...</td>\n",
       "    </tr>\n",
       "    <tr>\n",
       "      <th>1</th>\n",
       "      <td>S0211-69952017000200225-1</td>\n",
       "      <td>Varón de 41 años, remitido para evaluación por hallazgo de proteinuria. Diagnóstico de HPN en co...</td>\n",
       "    </tr>\n",
       "    <tr>\n",
       "      <th>2</th>\n",
       "      <td>S1139-76322016000300016-2</td>\n",
       "      <td>Lactante de 1 mes y 29 días, sin antecedentes de interés, que acude a Urgencias de Pediatría tra...</td>\n",
       "    </tr>\n",
       "    <tr>\n",
       "      <th>3</th>\n",
       "      <td>S0004-06142006000900008-1</td>\n",
       "      <td>Mujer de 45 años de edad que acude a la consulta de urología con síndrome miccional e infeccione...</td>\n",
       "    </tr>\n",
       "    <tr>\n",
       "      <th>4</th>\n",
       "      <td>S1139-76322015000100014-1</td>\n",
       "      <td>Niña de siete años que acude a Urgencias en época primaveral por un episodio de crisis compleja ...</td>\n",
       "    </tr>\n",
       "  </tbody>\n",
       "</table>\n",
       "</div>"
      ],
      "text/plain": [
       "                      doc_id  \\\n",
       "0  S0004-06142008000100008-1   \n",
       "1  S0211-69952017000200225-1   \n",
       "2  S1139-76322016000300016-2   \n",
       "3  S0004-06142006000900008-1   \n",
       "4  S1139-76322015000100014-1   \n",
       "\n",
       "                                                                                                 texto  \n",
       "0  Presentamos el caso de una mujer de 30 años, fumadora de 20 cigarrillos/día y sin otros antecede...  \n",
       "1  Varón de 41 años, remitido para evaluación por hallazgo de proteinuria. Diagnóstico de HPN en co...  \n",
       "2  Lactante de 1 mes y 29 días, sin antecedentes de interés, que acude a Urgencias de Pediatría tra...  \n",
       "3  Mujer de 45 años de edad que acude a la consulta de urología con síndrome miccional e infeccione...  \n",
       "4  Niña de siete años que acude a Urgencias en época primaveral por un episodio de crisis compleja ...  "
      ]
     },
     "execution_count": 54,
     "metadata": {},
     "output_type": "execute_result"
    }
   ],
   "source": [
    "dev_raw.head()"
   ]
  },
  {
   "cell_type": "markdown",
   "metadata": {},
   "source": [
    "#### DEV NEW DF"
   ]
  },
  {
   "cell_type": "code",
   "execution_count": 389,
   "metadata": {},
   "outputs": [],
   "source": [
    "#train_raw = pd.read_csv(\"../data/data_paper/train_subtrack2_parte1.csv\")"
   ]
  },
  {
   "cell_type": "markdown",
   "metadata": {
    "tags": []
   },
   "source": [
    "## Prepare Train Data"
   ]
  },
  {
   "cell_type": "markdown",
   "metadata": {
    "tags": []
   },
   "source": [
    "### Preprocessing"
   ]
  },
  {
   "cell_type": "code",
   "execution_count": 213,
   "metadata": {},
   "outputs": [],
   "source": [
    "train = train_raw.merge(train_abbr[['doc_id', 'Abbreviation', 'Definition']], on = 'doc_id', how = 'left')"
   ]
  },
  {
   "cell_type": "code",
   "execution_count": 214,
   "metadata": {},
   "outputs": [],
   "source": [
    "train = train.merge(train_abbr, on = ['doc_id', 'Abbreviation'], how = 'left')"
   ]
  },
  {
   "cell_type": "code",
   "execution_count": 215,
   "metadata": {},
   "outputs": [],
   "source": [
    "train = train.drop_duplicates()"
   ]
  },
  {
   "cell_type": "code",
   "execution_count": 216,
   "metadata": {},
   "outputs": [],
   "source": [
    "train = train[['doc_id', 'texto', 'Abbreviation', 'Definition_x', 'StartOffset', 'EndOffset']]"
   ]
  },
  {
   "cell_type": "code",
   "execution_count": 217,
   "metadata": {},
   "outputs": [],
   "source": [
    "train = train.rename(columns = {'Definition_x':'Definition'})"
   ]
  },
  {
   "cell_type": "code",
   "execution_count": 218,
   "metadata": {},
   "outputs": [
    {
     "data": {
      "text/html": [
       "<div>\n",
       "<style scoped>\n",
       "    .dataframe tbody tr th:only-of-type {\n",
       "        vertical-align: middle;\n",
       "    }\n",
       "\n",
       "    .dataframe tbody tr th {\n",
       "        vertical-align: top;\n",
       "    }\n",
       "\n",
       "    .dataframe thead th {\n",
       "        text-align: right;\n",
       "    }\n",
       "</style>\n",
       "<table border=\"1\" class=\"dataframe\">\n",
       "  <thead>\n",
       "    <tr style=\"text-align: right;\">\n",
       "      <th></th>\n",
       "      <th>doc_id</th>\n",
       "      <th>texto</th>\n",
       "      <th>Abbreviation</th>\n",
       "      <th>Definition</th>\n",
       "      <th>StartOffset</th>\n",
       "      <th>EndOffset</th>\n",
       "    </tr>\n",
       "  </thead>\n",
       "  <tbody>\n",
       "    <tr>\n",
       "      <th>0</th>\n",
       "      <td>S1130-01082006000100014-1</td>\n",
       "      <td>Se trata de una mujer de 35 años, con antecedentes familiares de enfermedad de Crohn y sin antec...</td>\n",
       "      <td>dl</td>\n",
       "      <td>decilitro</td>\n",
       "      <td>1908.0</td>\n",
       "      <td>1910.0</td>\n",
       "    </tr>\n",
       "    <tr>\n",
       "      <th>1</th>\n",
       "      <td>S1130-01082006000100014-1</td>\n",
       "      <td>Se trata de una mujer de 35 años, con antecedentes familiares de enfermedad de Crohn y sin antec...</td>\n",
       "      <td>dl</td>\n",
       "      <td>decilitro</td>\n",
       "      <td>1684.0</td>\n",
       "      <td>1686.0</td>\n",
       "    </tr>\n",
       "    <tr>\n",
       "      <th>2</th>\n",
       "      <td>S1130-01082006000100014-1</td>\n",
       "      <td>Se trata de una mujer de 35 años, con antecedentes familiares de enfermedad de Crohn y sin antec...</td>\n",
       "      <td>dl</td>\n",
       "      <td>decilitro</td>\n",
       "      <td>1656.0</td>\n",
       "      <td>1658.0</td>\n",
       "    </tr>\n",
       "    <tr>\n",
       "      <th>3</th>\n",
       "      <td>S1130-01082006000100014-1</td>\n",
       "      <td>Se trata de una mujer de 35 años, con antecedentes familiares de enfermedad de Crohn y sin antec...</td>\n",
       "      <td>dl</td>\n",
       "      <td>decilitro</td>\n",
       "      <td>1414.0</td>\n",
       "      <td>1416.0</td>\n",
       "    </tr>\n",
       "    <tr>\n",
       "      <th>12</th>\n",
       "      <td>S1130-01082006000100014-1</td>\n",
       "      <td>Se trata de una mujer de 35 años, con antecedentes familiares de enfermedad de Crohn y sin antec...</td>\n",
       "      <td>g</td>\n",
       "      <td>gramo</td>\n",
       "      <td>1654.0</td>\n",
       "      <td>1655.0</td>\n",
       "    </tr>\n",
       "  </tbody>\n",
       "</table>\n",
       "</div>"
      ],
      "text/plain": [
       "                       doc_id  \\\n",
       "0   S1130-01082006000100014-1   \n",
       "1   S1130-01082006000100014-1   \n",
       "2   S1130-01082006000100014-1   \n",
       "3   S1130-01082006000100014-1   \n",
       "12  S1130-01082006000100014-1   \n",
       "\n",
       "                                                                                                  texto  \\\n",
       "0   Se trata de una mujer de 35 años, con antecedentes familiares de enfermedad de Crohn y sin antec...   \n",
       "1   Se trata de una mujer de 35 años, con antecedentes familiares de enfermedad de Crohn y sin antec...   \n",
       "2   Se trata de una mujer de 35 años, con antecedentes familiares de enfermedad de Crohn y sin antec...   \n",
       "3   Se trata de una mujer de 35 años, con antecedentes familiares de enfermedad de Crohn y sin antec...   \n",
       "12  Se trata de una mujer de 35 años, con antecedentes familiares de enfermedad de Crohn y sin antec...   \n",
       "\n",
       "   Abbreviation Definition  StartOffset  EndOffset  \n",
       "0            dl  decilitro       1908.0     1910.0  \n",
       "1            dl  decilitro       1684.0     1686.0  \n",
       "2            dl  decilitro       1656.0     1658.0  \n",
       "3            dl  decilitro       1414.0     1416.0  \n",
       "12            g      gramo       1654.0     1655.0  "
      ]
     },
     "execution_count": 218,
     "metadata": {},
     "output_type": "execute_result"
    }
   ],
   "source": [
    "train.head()"
   ]
  },
  {
   "cell_type": "code",
   "execution_count": 219,
   "metadata": {},
   "outputs": [],
   "source": [
    "train = train.rename(columns = {'Abbreviation': 'short_form', 'Definition': 'long_form'})"
   ]
  },
  {
   "cell_type": "code",
   "execution_count": 220,
   "metadata": {},
   "outputs": [],
   "source": [
    "train = train.dropna(subset = ['short_form', 'long_form'])"
   ]
  },
  {
   "cell_type": "code",
   "execution_count": 221,
   "metadata": {},
   "outputs": [],
   "source": [
    "train[['StartOffset', 'EndOffset']] = train[['StartOffset', 'EndOffset']].astype(int)"
   ]
  },
  {
   "cell_type": "markdown",
   "metadata": {},
   "source": [
    "Clean long forms to delete acents, string punctuation etc"
   ]
  },
  {
   "cell_type": "code",
   "execution_count": 222,
   "metadata": {},
   "outputs": [],
   "source": [
    "train['long_form'] = train['long_form'].map(clean_text)"
   ]
  },
  {
   "cell_type": "code",
   "execution_count": 223,
   "metadata": {},
   "outputs": [
    {
     "data": {
      "text/html": [
       "<div>\n",
       "<style scoped>\n",
       "    .dataframe tbody tr th:only-of-type {\n",
       "        vertical-align: middle;\n",
       "    }\n",
       "\n",
       "    .dataframe tbody tr th {\n",
       "        vertical-align: top;\n",
       "    }\n",
       "\n",
       "    .dataframe thead th {\n",
       "        text-align: right;\n",
       "    }\n",
       "</style>\n",
       "<table border=\"1\" class=\"dataframe\">\n",
       "  <thead>\n",
       "    <tr style=\"text-align: right;\">\n",
       "      <th></th>\n",
       "      <th>doc_id</th>\n",
       "      <th>texto</th>\n",
       "      <th>short_form</th>\n",
       "      <th>long_form</th>\n",
       "      <th>StartOffset</th>\n",
       "      <th>EndOffset</th>\n",
       "    </tr>\n",
       "  </thead>\n",
       "  <tbody>\n",
       "    <tr>\n",
       "      <th>0</th>\n",
       "      <td>S1130-01082006000100014-1</td>\n",
       "      <td>Se trata de una mujer de 35 años, con antecedentes familiares de enfermedad de Crohn y sin antec...</td>\n",
       "      <td>dl</td>\n",
       "      <td>decilitro</td>\n",
       "      <td>1908</td>\n",
       "      <td>1910</td>\n",
       "    </tr>\n",
       "    <tr>\n",
       "      <th>1</th>\n",
       "      <td>S1130-01082006000100014-1</td>\n",
       "      <td>Se trata de una mujer de 35 años, con antecedentes familiares de enfermedad de Crohn y sin antec...</td>\n",
       "      <td>dl</td>\n",
       "      <td>decilitro</td>\n",
       "      <td>1684</td>\n",
       "      <td>1686</td>\n",
       "    </tr>\n",
       "    <tr>\n",
       "      <th>2</th>\n",
       "      <td>S1130-01082006000100014-1</td>\n",
       "      <td>Se trata de una mujer de 35 años, con antecedentes familiares de enfermedad de Crohn y sin antec...</td>\n",
       "      <td>dl</td>\n",
       "      <td>decilitro</td>\n",
       "      <td>1656</td>\n",
       "      <td>1658</td>\n",
       "    </tr>\n",
       "  </tbody>\n",
       "</table>\n",
       "</div>"
      ],
      "text/plain": [
       "                      doc_id  \\\n",
       "0  S1130-01082006000100014-1   \n",
       "1  S1130-01082006000100014-1   \n",
       "2  S1130-01082006000100014-1   \n",
       "\n",
       "                                                                                                 texto  \\\n",
       "0  Se trata de una mujer de 35 años, con antecedentes familiares de enfermedad de Crohn y sin antec...   \n",
       "1  Se trata de una mujer de 35 años, con antecedentes familiares de enfermedad de Crohn y sin antec...   \n",
       "2  Se trata de una mujer de 35 años, con antecedentes familiares de enfermedad de Crohn y sin antec...   \n",
       "\n",
       "  short_form  long_form  StartOffset  EndOffset  \n",
       "0         dl  decilitro         1908       1910  \n",
       "1         dl  decilitro         1684       1686  \n",
       "2         dl  decilitro         1656       1658  "
      ]
     },
     "execution_count": 223,
     "metadata": {},
     "output_type": "execute_result"
    }
   ],
   "source": [
    "train.head(3)"
   ]
  },
  {
   "cell_type": "markdown",
   "metadata": {},
   "source": [
    "### Normalize long forms"
   ]
  },
  {
   "cell_type": "code",
   "execution_count": 224,
   "metadata": {},
   "outputs": [],
   "source": [
    "sf_lf = train[['short_form', 'long_form']].drop_duplicates()"
   ]
  },
  {
   "cell_type": "code",
   "execution_count": 225,
   "metadata": {},
   "outputs": [
    {
     "data": {
      "text/html": [
       "<div>\n",
       "<style scoped>\n",
       "    .dataframe tbody tr th:only-of-type {\n",
       "        vertical-align: middle;\n",
       "    }\n",
       "\n",
       "    .dataframe tbody tr th {\n",
       "        vertical-align: top;\n",
       "    }\n",
       "\n",
       "    .dataframe thead th {\n",
       "        text-align: right;\n",
       "    }\n",
       "</style>\n",
       "<table border=\"1\" class=\"dataframe\">\n",
       "  <thead>\n",
       "    <tr style=\"text-align: right;\">\n",
       "      <th></th>\n",
       "      <th>short_form</th>\n",
       "      <th>long_form</th>\n",
       "    </tr>\n",
       "  </thead>\n",
       "  <tbody>\n",
       "    <tr>\n",
       "      <th>0</th>\n",
       "      <td>dl</td>\n",
       "      <td>decilitro</td>\n",
       "    </tr>\n",
       "    <tr>\n",
       "      <th>12</th>\n",
       "      <td>g</td>\n",
       "      <td>gramo</td>\n",
       "    </tr>\n",
       "    <tr>\n",
       "      <th>14</th>\n",
       "      <td>gamma-GT</td>\n",
       "      <td>gammaglutamyl transpeptidase</td>\n",
       "    </tr>\n",
       "    <tr>\n",
       "      <th>15</th>\n",
       "      <td>GPT</td>\n",
       "      <td>glutamic pyruvic transaminase</td>\n",
       "    </tr>\n",
       "    <tr>\n",
       "      <th>16</th>\n",
       "      <td>Hb</td>\n",
       "      <td>hemoglobina</td>\n",
       "    </tr>\n",
       "  </tbody>\n",
       "</table>\n",
       "</div>"
      ],
      "text/plain": [
       "   short_form                      long_form\n",
       "0          dl                      decilitro\n",
       "12          g                          gramo\n",
       "14   gamma-GT   gammaglutamyl transpeptidase\n",
       "15        GPT  glutamic pyruvic transaminase\n",
       "16         Hb                    hemoglobina"
      ]
     },
     "execution_count": 225,
     "metadata": {},
     "output_type": "execute_result"
    }
   ],
   "source": [
    "sf_lf.head()"
   ]
  },
  {
   "cell_type": "code",
   "execution_count": 226,
   "metadata": {},
   "outputs": [
    {
     "data": {
      "text/html": [
       "<div>\n",
       "<style scoped>\n",
       "    .dataframe tbody tr th:only-of-type {\n",
       "        vertical-align: middle;\n",
       "    }\n",
       "\n",
       "    .dataframe tbody tr th {\n",
       "        vertical-align: top;\n",
       "    }\n",
       "\n",
       "    .dataframe thead th {\n",
       "        text-align: right;\n",
       "    }\n",
       "</style>\n",
       "<table border=\"1\" class=\"dataframe\">\n",
       "  <thead>\n",
       "    <tr style=\"text-align: right;\">\n",
       "      <th></th>\n",
       "      <th>short_form</th>\n",
       "      <th>long_form</th>\n",
       "      <th>len</th>\n",
       "    </tr>\n",
       "  </thead>\n",
       "  <tbody>\n",
       "    <tr>\n",
       "      <th>48</th>\n",
       "      <td>AST</td>\n",
       "      <td>[aspartate aminotransferase, aspartatoaminotransferasa, aspartate and alanine aminotransferase, ...</td>\n",
       "      <td>5</td>\n",
       "    </tr>\n",
       "    <tr>\n",
       "      <th>481</th>\n",
       "      <td>PCR</td>\n",
       "      <td>[proteina c reactiva, polymerase chain reaction, reaccion cadena polimerasa, parada cardiorrespi...</td>\n",
       "      <td>4</td>\n",
       "    </tr>\n",
       "    <tr>\n",
       "      <th>573</th>\n",
       "      <td>TAC</td>\n",
       "      <td>[tomografia axial computarizada, tomografia axial computerizada, tomografia axial computadorizad...</td>\n",
       "      <td>4</td>\n",
       "    </tr>\n",
       "    <tr>\n",
       "      <th>273</th>\n",
       "      <td>GGT</td>\n",
       "      <td>[gammaglutamiltranspeptidasa, gamma glutamil transpeptidasa, gammaglutamil transpeptidasa, gama ...</td>\n",
       "      <td>4</td>\n",
       "    </tr>\n",
       "    <tr>\n",
       "      <th>238</th>\n",
       "      <td>FA</td>\n",
       "      <td>[fluorescein angiography, fosfatasa alcalina, autofluorescencia fondo, fibrilacion auricular]</td>\n",
       "      <td>4</td>\n",
       "    </tr>\n",
       "    <tr>\n",
       "      <th>...</th>\n",
       "      <td>...</td>\n",
       "      <td>...</td>\n",
       "      <td>...</td>\n",
       "    </tr>\n",
       "    <tr>\n",
       "      <th>275</th>\n",
       "      <td>GLA</td>\n",
       "      <td>[galactosidasa]</td>\n",
       "      <td>1</td>\n",
       "    </tr>\n",
       "    <tr>\n",
       "      <th>278</th>\n",
       "      <td>GRE</td>\n",
       "      <td>[gradientecho]</td>\n",
       "      <td>1</td>\n",
       "    </tr>\n",
       "    <tr>\n",
       "      <th>279</th>\n",
       "      <td>GRP</td>\n",
       "      <td>[gastrostomia radiologica percutanea]</td>\n",
       "      <td>1</td>\n",
       "    </tr>\n",
       "    <tr>\n",
       "      <th>280</th>\n",
       "      <td>Ga-67</td>\n",
       "      <td>[galio67]</td>\n",
       "      <td>1</td>\n",
       "    </tr>\n",
       "    <tr>\n",
       "      <th>767</th>\n",
       "      <td>™</td>\n",
       "      <td>[trademark]</td>\n",
       "      <td>1</td>\n",
       "    </tr>\n",
       "  </tbody>\n",
       "</table>\n",
       "<p>768 rows × 3 columns</p>\n",
       "</div>"
      ],
      "text/plain": [
       "    short_form  \\\n",
       "48         AST   \n",
       "481        PCR   \n",
       "573        TAC   \n",
       "273        GGT   \n",
       "238         FA   \n",
       "..         ...   \n",
       "275        GLA   \n",
       "278        GRE   \n",
       "279        GRP   \n",
       "280      Ga-67   \n",
       "767          ™   \n",
       "\n",
       "                                                                                               long_form  \\\n",
       "48   [aspartate aminotransferase, aspartatoaminotransferasa, aspartate and alanine aminotransferase, ...   \n",
       "481  [proteina c reactiva, polymerase chain reaction, reaccion cadena polimerasa, parada cardiorrespi...   \n",
       "573  [tomografia axial computarizada, tomografia axial computerizada, tomografia axial computadorizad...   \n",
       "273  [gammaglutamiltranspeptidasa, gamma glutamil transpeptidasa, gammaglutamil transpeptidasa, gama ...   \n",
       "238        [fluorescein angiography, fosfatasa alcalina, autofluorescencia fondo, fibrilacion auricular]   \n",
       "..                                                                                                   ...   \n",
       "275                                                                                      [galactosidasa]   \n",
       "278                                                                                       [gradientecho]   \n",
       "279                                                                [gastrostomia radiologica percutanea]   \n",
       "280                                                                                            [galio67]   \n",
       "767                                                                                          [trademark]   \n",
       "\n",
       "     len  \n",
       "48     5  \n",
       "481    4  \n",
       "573    4  \n",
       "273    4  \n",
       "238    4  \n",
       "..   ...  \n",
       "275    1  \n",
       "278    1  \n",
       "279    1  \n",
       "280    1  \n",
       "767    1  \n",
       "\n",
       "[768 rows x 3 columns]"
      ]
     },
     "execution_count": 226,
     "metadata": {},
     "output_type": "execute_result"
    }
   ],
   "source": [
    "sf_lf_list = sf_lf.groupby('short_form', as_index=False).agg({'long_form': list})\n",
    "sf_lf_list['len'] = sf_lf_list['long_form'].map(lambda x: len(x))\n",
    "sf_lf_list.sort_values('len', ascending = False)"
   ]
  },
  {
   "cell_type": "code",
   "execution_count": 227,
   "metadata": {
    "tags": []
   },
   "outputs": [
    {
     "data": {
      "text/plain": [
       "Text(0, 0.5, 'Count')"
      ]
     },
     "execution_count": 227,
     "metadata": {},
     "output_type": "execute_result"
    },
    {
     "data": {
      "image/png": "[encoded data removed]",
      "text/plain": [
       "<Figure size 432x288 with 1 Axes>"
      ]
     },
     "metadata": {
      "needs_background": "light"
     },
     "output_type": "display_data"
    }
   ],
   "source": [
    "table = pd.crosstab(sf_lf_list['len'], columns = 'Count')\n",
    "table.plot.bar(legend = None)\n",
    "plt.xlabel(\"Definiciones por acrónimo\")\n",
    "plt.ylabel(\"Count\")\n",
    "#plt.show()\n",
    "#plt.savefig('data/acron_count.png')"
   ]
  },
  {
   "cell_type": "code",
   "execution_count": 228,
   "metadata": {},
   "outputs": [
    {
     "data": {
      "text/html": [
       "<div>\n",
       "<style scoped>\n",
       "    .dataframe tbody tr th:only-of-type {\n",
       "        vertical-align: middle;\n",
       "    }\n",
       "\n",
       "    .dataframe tbody tr th {\n",
       "        vertical-align: top;\n",
       "    }\n",
       "\n",
       "    .dataframe thead th {\n",
       "        text-align: right;\n",
       "    }\n",
       "</style>\n",
       "<table border=\"1\" class=\"dataframe\">\n",
       "  <thead>\n",
       "    <tr style=\"text-align: right;\">\n",
       "      <th>col_0</th>\n",
       "      <th>Count</th>\n",
       "    </tr>\n",
       "    <tr>\n",
       "      <th>len</th>\n",
       "      <th></th>\n",
       "    </tr>\n",
       "  </thead>\n",
       "  <tbody>\n",
       "    <tr>\n",
       "      <th>1</th>\n",
       "      <td>682</td>\n",
       "    </tr>\n",
       "    <tr>\n",
       "      <th>2</th>\n",
       "      <td>67</td>\n",
       "    </tr>\n",
       "    <tr>\n",
       "      <th>3</th>\n",
       "      <td>11</td>\n",
       "    </tr>\n",
       "    <tr>\n",
       "      <th>4</th>\n",
       "      <td>7</td>\n",
       "    </tr>\n",
       "    <tr>\n",
       "      <th>5</th>\n",
       "      <td>1</td>\n",
       "    </tr>\n",
       "  </tbody>\n",
       "</table>\n",
       "</div>"
      ],
      "text/plain": [
       "col_0  Count\n",
       "len         \n",
       "1        682\n",
       "2         67\n",
       "3         11\n",
       "4          7\n",
       "5          1"
      ]
     },
     "execution_count": 228,
     "metadata": {},
     "output_type": "execute_result"
    }
   ],
   "source": [
    "table = pd.crosstab(sf_lf_list['len'], columns = 'Count')\n",
    "table"
   ]
  },
  {
   "cell_type": "markdown",
   "metadata": {},
   "source": [
    "#### Apply Levenshtein distance to normalize Long Forms"
   ]
  },
  {
   "cell_type": "markdown",
   "metadata": {},
   "source": [
    "Get more frequent lf per sf"
   ]
  },
  {
   "cell_type": "code",
   "execution_count": 229,
   "metadata": {},
   "outputs": [
    {
     "data": {
      "text/html": [
       "<div>\n",
       "<style scoped>\n",
       "    .dataframe tbody tr th:only-of-type {\n",
       "        vertical-align: middle;\n",
       "    }\n",
       "\n",
       "    .dataframe tbody tr th {\n",
       "        vertical-align: top;\n",
       "    }\n",
       "\n",
       "    .dataframe thead th {\n",
       "        text-align: right;\n",
       "    }\n",
       "</style>\n",
       "<table border=\"1\" class=\"dataframe\">\n",
       "  <thead>\n",
       "    <tr style=\"text-align: right;\">\n",
       "      <th></th>\n",
       "      <th>index</th>\n",
       "      <th>long_form</th>\n",
       "    </tr>\n",
       "  </thead>\n",
       "  <tbody>\n",
       "    <tr>\n",
       "      <th>0</th>\n",
       "      <td>miligramo</td>\n",
       "      <td>404</td>\n",
       "    </tr>\n",
       "    <tr>\n",
       "      <th>1</th>\n",
       "      <td>decilitro</td>\n",
       "      <td>289</td>\n",
       "    </tr>\n",
       "    <tr>\n",
       "      <th>2</th>\n",
       "      <td>centimetro</td>\n",
       "      <td>235</td>\n",
       "    </tr>\n",
       "    <tr>\n",
       "      <th>3</th>\n",
       "      <td>litro</td>\n",
       "      <td>215</td>\n",
       "    </tr>\n",
       "    <tr>\n",
       "      <th>4</th>\n",
       "      <td>mililitro</td>\n",
       "      <td>180</td>\n",
       "    </tr>\n",
       "    <tr>\n",
       "      <th>...</th>\n",
       "      <td>...</td>\n",
       "      <td>...</td>\n",
       "    </tr>\n",
       "    <tr>\n",
       "      <th>776</th>\n",
       "      <td>anticuerpos noorgano especificos</td>\n",
       "      <td>1</td>\n",
       "    </tr>\n",
       "    <tr>\n",
       "      <th>777</th>\n",
       "      <td>eutectic mixture of local anesthetics</td>\n",
       "      <td>1</td>\n",
       "    </tr>\n",
       "    <tr>\n",
       "      <th>778</th>\n",
       "      <td>hiperplasia procesos coronoideos mandibulares</td>\n",
       "      <td>1</td>\n",
       "    </tr>\n",
       "    <tr>\n",
       "      <th>779</th>\n",
       "      <td>cuarto componente complemento</td>\n",
       "      <td>1</td>\n",
       "    </tr>\n",
       "    <tr>\n",
       "      <th>780</th>\n",
       "      <td>creatinina serica</td>\n",
       "      <td>1</td>\n",
       "    </tr>\n",
       "  </tbody>\n",
       "</table>\n",
       "<p>781 rows × 2 columns</p>\n",
       "</div>"
      ],
      "text/plain": [
       "                                             index  long_form\n",
       "0                                        miligramo        404\n",
       "1                                        decilitro        289\n",
       "2                                       centimetro        235\n",
       "3                                            litro        215\n",
       "4                                        mililitro        180\n",
       "..                                             ...        ...\n",
       "776               anticuerpos noorgano especificos          1\n",
       "777          eutectic mixture of local anesthetics          1\n",
       "778  hiperplasia procesos coronoideos mandibulares          1\n",
       "779                  cuarto componente complemento          1\n",
       "780                              creatinina serica          1\n",
       "\n",
       "[781 rows x 2 columns]"
      ]
     },
     "execution_count": 229,
     "metadata": {},
     "output_type": "execute_result"
    }
   ],
   "source": [
    "frec = train['long_form'].value_counts().reset_index()\n",
    "frec"
   ]
  },
  {
   "cell_type": "markdown",
   "metadata": {},
   "source": [
    "Create a dictionary where keys are the lf to normalize and the values the normalized form"
   ]
  },
  {
   "cell_type": "code",
   "execution_count": 230,
   "metadata": {},
   "outputs": [],
   "source": [
    "norm = []\n",
    "for i in sf_lf_list['long_form']:\n",
    "    norm.append(normalize_lf(i))"
   ]
  },
  {
   "cell_type": "code",
   "execution_count": 231,
   "metadata": {},
   "outputs": [],
   "source": [
    "norm = [i for i in norm if i != None]"
   ]
  },
  {
   "cell_type": "code",
   "execution_count": 232,
   "metadata": {
    "tags": []
   },
   "outputs": [],
   "source": [
    "norm_dict = {}\n",
    "for i in norm:\n",
    "    norm_dict.update(i)\n",
    "#norm_dict"
   ]
  },
  {
   "cell_type": "markdown",
   "metadata": {},
   "source": [
    "Finally normalize long forms over the dataframe"
   ]
  },
  {
   "cell_type": "code",
   "execution_count": 233,
   "metadata": {},
   "outputs": [
    {
     "data": {
      "text/html": [
       "<div>\n",
       "<style scoped>\n",
       "    .dataframe tbody tr th:only-of-type {\n",
       "        vertical-align: middle;\n",
       "    }\n",
       "\n",
       "    .dataframe tbody tr th {\n",
       "        vertical-align: top;\n",
       "    }\n",
       "\n",
       "    .dataframe thead th {\n",
       "        text-align: right;\n",
       "    }\n",
       "</style>\n",
       "<table border=\"1\" class=\"dataframe\">\n",
       "  <thead>\n",
       "    <tr style=\"text-align: right;\">\n",
       "      <th></th>\n",
       "      <th>doc_id</th>\n",
       "      <th>texto</th>\n",
       "      <th>short_form</th>\n",
       "      <th>long_form</th>\n",
       "      <th>StartOffset</th>\n",
       "      <th>EndOffset</th>\n",
       "    </tr>\n",
       "  </thead>\n",
       "  <tbody>\n",
       "    <tr>\n",
       "      <th>0</th>\n",
       "      <td>S1130-01082006000100014-1</td>\n",
       "      <td>Se trata de una mujer de 35 años, con antecedentes familiares de enfermedad de Crohn y sin antec...</td>\n",
       "      <td>dl</td>\n",
       "      <td>decilitro</td>\n",
       "      <td>1908</td>\n",
       "      <td>1910</td>\n",
       "    </tr>\n",
       "    <tr>\n",
       "      <th>1</th>\n",
       "      <td>S1130-01082006000100014-1</td>\n",
       "      <td>Se trata de una mujer de 35 años, con antecedentes familiares de enfermedad de Crohn y sin antec...</td>\n",
       "      <td>dl</td>\n",
       "      <td>decilitro</td>\n",
       "      <td>1684</td>\n",
       "      <td>1686</td>\n",
       "    </tr>\n",
       "    <tr>\n",
       "      <th>2</th>\n",
       "      <td>S1130-01082006000100014-1</td>\n",
       "      <td>Se trata de una mujer de 35 años, con antecedentes familiares de enfermedad de Crohn y sin antec...</td>\n",
       "      <td>dl</td>\n",
       "      <td>decilitro</td>\n",
       "      <td>1656</td>\n",
       "      <td>1658</td>\n",
       "    </tr>\n",
       "    <tr>\n",
       "      <th>3</th>\n",
       "      <td>S1130-01082006000100014-1</td>\n",
       "      <td>Se trata de una mujer de 35 años, con antecedentes familiares de enfermedad de Crohn y sin antec...</td>\n",
       "      <td>dl</td>\n",
       "      <td>decilitro</td>\n",
       "      <td>1414</td>\n",
       "      <td>1416</td>\n",
       "    </tr>\n",
       "    <tr>\n",
       "      <th>12</th>\n",
       "      <td>S1130-01082006000100014-1</td>\n",
       "      <td>Se trata de una mujer de 35 años, con antecedentes familiares de enfermedad de Crohn y sin antec...</td>\n",
       "      <td>g</td>\n",
       "      <td>gramo</td>\n",
       "      <td>1654</td>\n",
       "      <td>1655</td>\n",
       "    </tr>\n",
       "  </tbody>\n",
       "</table>\n",
       "</div>"
      ],
      "text/plain": [
       "                       doc_id  \\\n",
       "0   S1130-01082006000100014-1   \n",
       "1   S1130-01082006000100014-1   \n",
       "2   S1130-01082006000100014-1   \n",
       "3   S1130-01082006000100014-1   \n",
       "12  S1130-01082006000100014-1   \n",
       "\n",
       "                                                                                                  texto  \\\n",
       "0   Se trata de una mujer de 35 años, con antecedentes familiares de enfermedad de Crohn y sin antec...   \n",
       "1   Se trata de una mujer de 35 años, con antecedentes familiares de enfermedad de Crohn y sin antec...   \n",
       "2   Se trata de una mujer de 35 años, con antecedentes familiares de enfermedad de Crohn y sin antec...   \n",
       "3   Se trata de una mujer de 35 años, con antecedentes familiares de enfermedad de Crohn y sin antec...   \n",
       "12  Se trata de una mujer de 35 años, con antecedentes familiares de enfermedad de Crohn y sin antec...   \n",
       "\n",
       "   short_form  long_form  StartOffset  EndOffset  \n",
       "0          dl  decilitro         1908       1910  \n",
       "1          dl  decilitro         1684       1686  \n",
       "2          dl  decilitro         1656       1658  \n",
       "3          dl  decilitro         1414       1416  \n",
       "12          g      gramo         1654       1655  "
      ]
     },
     "execution_count": 233,
     "metadata": {},
     "output_type": "execute_result"
    }
   ],
   "source": [
    "train.head()"
   ]
  },
  {
   "cell_type": "code",
   "execution_count": 234,
   "metadata": {},
   "outputs": [],
   "source": [
    "train = train.replace({\"long_form\": norm_dict})"
   ]
  },
  {
   "cell_type": "markdown",
   "metadata": {},
   "source": [
    "Check that deffinitions have been normalized"
   ]
  },
  {
   "cell_type": "code",
   "execution_count": 235,
   "metadata": {},
   "outputs": [
    {
     "data": {
      "text/html": [
       "<div>\n",
       "<style scoped>\n",
       "    .dataframe tbody tr th:only-of-type {\n",
       "        vertical-align: middle;\n",
       "    }\n",
       "\n",
       "    .dataframe tbody tr th {\n",
       "        vertical-align: top;\n",
       "    }\n",
       "\n",
       "    .dataframe thead th {\n",
       "        text-align: right;\n",
       "    }\n",
       "</style>\n",
       "<table border=\"1\" class=\"dataframe\">\n",
       "  <thead>\n",
       "    <tr style=\"text-align: right;\">\n",
       "      <th></th>\n",
       "      <th>doc_id</th>\n",
       "      <th>texto</th>\n",
       "      <th>short_form</th>\n",
       "      <th>long_form</th>\n",
       "      <th>StartOffset</th>\n",
       "      <th>EndOffset</th>\n",
       "    </tr>\n",
       "  </thead>\n",
       "  <tbody>\n",
       "    <tr>\n",
       "      <th>0</th>\n",
       "      <td>S1130-01082006000100014-1</td>\n",
       "      <td>Se trata de una mujer de 35 años, con antecedentes familiares de enfermedad de Crohn y sin antec...</td>\n",
       "      <td>dl</td>\n",
       "      <td>decilitro</td>\n",
       "      <td>1908</td>\n",
       "      <td>1910</td>\n",
       "    </tr>\n",
       "    <tr>\n",
       "      <th>1</th>\n",
       "      <td>S1130-01082006000100014-1</td>\n",
       "      <td>Se trata de una mujer de 35 años, con antecedentes familiares de enfermedad de Crohn y sin antec...</td>\n",
       "      <td>dl</td>\n",
       "      <td>decilitro</td>\n",
       "      <td>1684</td>\n",
       "      <td>1686</td>\n",
       "    </tr>\n",
       "    <tr>\n",
       "      <th>2</th>\n",
       "      <td>S1130-01082006000100014-1</td>\n",
       "      <td>Se trata de una mujer de 35 años, con antecedentes familiares de enfermedad de Crohn y sin antec...</td>\n",
       "      <td>dl</td>\n",
       "      <td>decilitro</td>\n",
       "      <td>1656</td>\n",
       "      <td>1658</td>\n",
       "    </tr>\n",
       "    <tr>\n",
       "      <th>3</th>\n",
       "      <td>S1130-01082006000100014-1</td>\n",
       "      <td>Se trata de una mujer de 35 años, con antecedentes familiares de enfermedad de Crohn y sin antec...</td>\n",
       "      <td>dl</td>\n",
       "      <td>decilitro</td>\n",
       "      <td>1414</td>\n",
       "      <td>1416</td>\n",
       "    </tr>\n",
       "    <tr>\n",
       "      <th>12</th>\n",
       "      <td>S1130-01082006000100014-1</td>\n",
       "      <td>Se trata de una mujer de 35 años, con antecedentes familiares de enfermedad de Crohn y sin antec...</td>\n",
       "      <td>g</td>\n",
       "      <td>gramo</td>\n",
       "      <td>1654</td>\n",
       "      <td>1655</td>\n",
       "    </tr>\n",
       "  </tbody>\n",
       "</table>\n",
       "</div>"
      ],
      "text/plain": [
       "                       doc_id  \\\n",
       "0   S1130-01082006000100014-1   \n",
       "1   S1130-01082006000100014-1   \n",
       "2   S1130-01082006000100014-1   \n",
       "3   S1130-01082006000100014-1   \n",
       "12  S1130-01082006000100014-1   \n",
       "\n",
       "                                                                                                  texto  \\\n",
       "0   Se trata de una mujer de 35 años, con antecedentes familiares de enfermedad de Crohn y sin antec...   \n",
       "1   Se trata de una mujer de 35 años, con antecedentes familiares de enfermedad de Crohn y sin antec...   \n",
       "2   Se trata de una mujer de 35 años, con antecedentes familiares de enfermedad de Crohn y sin antec...   \n",
       "3   Se trata de una mujer de 35 años, con antecedentes familiares de enfermedad de Crohn y sin antec...   \n",
       "12  Se trata de una mujer de 35 años, con antecedentes familiares de enfermedad de Crohn y sin antec...   \n",
       "\n",
       "   short_form  long_form  StartOffset  EndOffset  \n",
       "0          dl  decilitro         1908       1910  \n",
       "1          dl  decilitro         1684       1686  \n",
       "2          dl  decilitro         1656       1658  \n",
       "3          dl  decilitro         1414       1416  \n",
       "12          g      gramo         1654       1655  "
      ]
     },
     "execution_count": 235,
     "metadata": {},
     "output_type": "execute_result"
    }
   ],
   "source": [
    "train.head()"
   ]
  },
  {
   "cell_type": "markdown",
   "metadata": {
    "jp-MarkdownHeadingCollapsed": true,
    "tags": []
   },
   "source": [
    "### Get just ambigous acronyms"
   ]
  },
  {
   "cell_type": "markdown",
   "metadata": {},
   "source": [
    "Execute this code just in case only ambigous acronyms are needed."
   ]
  },
  {
   "cell_type": "code",
   "execution_count": 78,
   "metadata": {},
   "outputs": [],
   "source": [
    "#amb = train.groupby('short_form')['long_form'].nunique().reset_index().sort_values('long_form', ascending = False)"
   ]
  },
  {
   "cell_type": "code",
   "execution_count": 79,
   "metadata": {},
   "outputs": [],
   "source": [
    "#amb.head()"
   ]
  },
  {
   "cell_type": "code",
   "execution_count": 80,
   "metadata": {},
   "outputs": [],
   "source": [
    "#table = pd.crosstab(amb['long_form'], columns = 'Count')\n",
    "#table.plot.bar()\n",
    "#plt.show()"
   ]
  },
  {
   "cell_type": "code",
   "execution_count": 81,
   "metadata": {},
   "outputs": [],
   "source": [
    "#defin = amb[amb['long_form'] != 1]['short_form'].values.tolist()"
   ]
  },
  {
   "cell_type": "code",
   "execution_count": 82,
   "metadata": {},
   "outputs": [],
   "source": [
    "#train.shape"
   ]
  },
  {
   "cell_type": "code",
   "execution_count": 83,
   "metadata": {},
   "outputs": [],
   "source": [
    "#train = train[train['short_form'].isin(defin)]"
   ]
  },
  {
   "cell_type": "code",
   "execution_count": 84,
   "metadata": {},
   "outputs": [],
   "source": [
    "#train.shape"
   ]
  },
  {
   "cell_type": "markdown",
   "metadata": {
    "tags": []
   },
   "source": [
    "### Add texts from Medline"
   ]
  },
  {
   "cell_type": "markdown",
   "metadata": {},
   "source": [
    "Some long forms are imbalanced. Texts from Medline are added to improve balance."
   ]
  },
  {
   "cell_type": "code",
   "execution_count": 236,
   "metadata": {},
   "outputs": [
    {
     "data": {
      "text/html": [
       "<div>\n",
       "<style scoped>\n",
       "    .dataframe tbody tr th:only-of-type {\n",
       "        vertical-align: middle;\n",
       "    }\n",
       "\n",
       "    .dataframe tbody tr th {\n",
       "        vertical-align: top;\n",
       "    }\n",
       "\n",
       "    .dataframe thead th {\n",
       "        text-align: right;\n",
       "    }\n",
       "</style>\n",
       "<table border=\"1\" class=\"dataframe\">\n",
       "  <thead>\n",
       "    <tr style=\"text-align: right;\">\n",
       "      <th></th>\n",
       "      <th>doc_id</th>\n",
       "      <th>texto</th>\n",
       "      <th>short_form</th>\n",
       "      <th>long_form</th>\n",
       "      <th>StartOffset</th>\n",
       "      <th>EndOffset</th>\n",
       "    </tr>\n",
       "  </thead>\n",
       "  <tbody>\n",
       "    <tr>\n",
       "      <th>0</th>\n",
       "      <td>S1130-01082006000100014-1</td>\n",
       "      <td>Se trata de una mujer de 35 años, con antecedentes familiares de enfermedad de Crohn y sin antec...</td>\n",
       "      <td>dl</td>\n",
       "      <td>decilitro</td>\n",
       "      <td>1908</td>\n",
       "      <td>1910</td>\n",
       "    </tr>\n",
       "    <tr>\n",
       "      <th>1</th>\n",
       "      <td>S1130-01082006000100014-1</td>\n",
       "      <td>Se trata de una mujer de 35 años, con antecedentes familiares de enfermedad de Crohn y sin antec...</td>\n",
       "      <td>dl</td>\n",
       "      <td>decilitro</td>\n",
       "      <td>1684</td>\n",
       "      <td>1686</td>\n",
       "    </tr>\n",
       "    <tr>\n",
       "      <th>2</th>\n",
       "      <td>S1130-01082006000100014-1</td>\n",
       "      <td>Se trata de una mujer de 35 años, con antecedentes familiares de enfermedad de Crohn y sin antec...</td>\n",
       "      <td>dl</td>\n",
       "      <td>decilitro</td>\n",
       "      <td>1656</td>\n",
       "      <td>1658</td>\n",
       "    </tr>\n",
       "    <tr>\n",
       "      <th>3</th>\n",
       "      <td>S1130-01082006000100014-1</td>\n",
       "      <td>Se trata de una mujer de 35 años, con antecedentes familiares de enfermedad de Crohn y sin antec...</td>\n",
       "      <td>dl</td>\n",
       "      <td>decilitro</td>\n",
       "      <td>1414</td>\n",
       "      <td>1416</td>\n",
       "    </tr>\n",
       "    <tr>\n",
       "      <th>12</th>\n",
       "      <td>S1130-01082006000100014-1</td>\n",
       "      <td>Se trata de una mujer de 35 años, con antecedentes familiares de enfermedad de Crohn y sin antec...</td>\n",
       "      <td>g</td>\n",
       "      <td>gramo</td>\n",
       "      <td>1654</td>\n",
       "      <td>1655</td>\n",
       "    </tr>\n",
       "  </tbody>\n",
       "</table>\n",
       "</div>"
      ],
      "text/plain": [
       "                       doc_id  \\\n",
       "0   S1130-01082006000100014-1   \n",
       "1   S1130-01082006000100014-1   \n",
       "2   S1130-01082006000100014-1   \n",
       "3   S1130-01082006000100014-1   \n",
       "12  S1130-01082006000100014-1   \n",
       "\n",
       "                                                                                                  texto  \\\n",
       "0   Se trata de una mujer de 35 años, con antecedentes familiares de enfermedad de Crohn y sin antec...   \n",
       "1   Se trata de una mujer de 35 años, con antecedentes familiares de enfermedad de Crohn y sin antec...   \n",
       "2   Se trata de una mujer de 35 años, con antecedentes familiares de enfermedad de Crohn y sin antec...   \n",
       "3   Se trata de una mujer de 35 años, con antecedentes familiares de enfermedad de Crohn y sin antec...   \n",
       "12  Se trata de una mujer de 35 años, con antecedentes familiares de enfermedad de Crohn y sin antec...   \n",
       "\n",
       "   short_form  long_form  StartOffset  EndOffset  \n",
       "0          dl  decilitro         1908       1910  \n",
       "1          dl  decilitro         1684       1686  \n",
       "2          dl  decilitro         1656       1658  \n",
       "3          dl  decilitro         1414       1416  \n",
       "12          g      gramo         1654       1655  "
      ]
     },
     "execution_count": 236,
     "metadata": {},
     "output_type": "execute_result"
    }
   ],
   "source": [
    "train.head()"
   ]
  },
  {
   "cell_type": "markdown",
   "metadata": {},
   "source": [
    "Study imbalaced long forms. Number of rows for each different definition. We can see mostly long forms have just one row."
   ]
  },
  {
   "cell_type": "code",
   "execution_count": 237,
   "metadata": {},
   "outputs": [],
   "source": [
    "frec2 = train['long_form'].value_counts().reset_index()"
   ]
  },
  {
   "cell_type": "code",
   "execution_count": 238,
   "metadata": {},
   "outputs": [
    {
     "data": {
      "text/plain": [
       "734"
      ]
     },
     "execution_count": 238,
     "metadata": {},
     "output_type": "execute_result"
    }
   ],
   "source": [
    "train.long_form.nunique()"
   ]
  },
  {
   "cell_type": "code",
   "execution_count": 239,
   "metadata": {},
   "outputs": [
    {
     "data": {
      "text/plain": [
       "(2379, 2)"
      ]
     },
     "execution_count": 239,
     "metadata": {},
     "output_type": "execute_result"
    }
   ],
   "source": [
    "train[['doc_id','long_form']].drop_duplicates().shape"
   ]
  },
  {
   "cell_type": "code",
   "execution_count": 240,
   "metadata": {},
   "outputs": [
    {
     "data": {
      "text/html": [
       "<div>\n",
       "<style scoped>\n",
       "    .dataframe tbody tr th:only-of-type {\n",
       "        vertical-align: middle;\n",
       "    }\n",
       "\n",
       "    .dataframe tbody tr th {\n",
       "        vertical-align: top;\n",
       "    }\n",
       "\n",
       "    .dataframe thead th {\n",
       "        text-align: right;\n",
       "    }\n",
       "</style>\n",
       "<table border=\"1\" class=\"dataframe\">\n",
       "  <thead>\n",
       "    <tr style=\"text-align: right;\">\n",
       "      <th></th>\n",
       "      <th>long_form</th>\n",
       "      <th>doc_id</th>\n",
       "    </tr>\n",
       "  </thead>\n",
       "  <tbody>\n",
       "    <tr>\n",
       "      <th>467</th>\n",
       "      <td>milimetro</td>\n",
       "      <td>70</td>\n",
       "    </tr>\n",
       "    <tr>\n",
       "      <th>677</th>\n",
       "      <td>tomografia axial computarizada</td>\n",
       "      <td>71</td>\n",
       "    </tr>\n",
       "    <tr>\n",
       "      <th>191</th>\n",
       "      <td>decilitro</td>\n",
       "      <td>76</td>\n",
       "    </tr>\n",
       "    <tr>\n",
       "      <th>117</th>\n",
       "      <td>centimetro</td>\n",
       "      <td>111</td>\n",
       "    </tr>\n",
       "    <tr>\n",
       "      <th>463</th>\n",
       "      <td>miligramo</td>\n",
       "      <td>119</td>\n",
       "    </tr>\n",
       "  </tbody>\n",
       "</table>\n",
       "</div>"
      ],
      "text/plain": [
       "                          long_form  doc_id\n",
       "467                       milimetro      70\n",
       "677  tomografia axial computarizada      71\n",
       "191                       decilitro      76\n",
       "117                      centimetro     111\n",
       "463                       miligramo     119"
      ]
     },
     "execution_count": 240,
     "metadata": {},
     "output_type": "execute_result"
    }
   ],
   "source": [
    "def_count = train[['doc_id','long_form']].drop_duplicates().groupby('long_form').agg({'doc_id':'count'}).reset_index()\n",
    "def_count.sort_values('doc_id').tail()"
   ]
  },
  {
   "cell_type": "code",
   "execution_count": 241,
   "metadata": {
    "tags": []
   },
   "outputs": [
    {
     "data": {
      "image/png": "[encoded data removed]",
      "text/plain": [
       "<Figure size 1080x576 with 1 Axes>"
      ]
     },
     "metadata": {
      "needs_background": "light"
     },
     "output_type": "display_data"
    }
   ],
   "source": [
    "table = pd.crosstab(def_count['doc_id'], columns = 'Count')\n",
    "table.plot.bar(legend = None, figsize=(15,8))\n",
    "plt.xlabel(\"Cantidad de textos en los que aparece la definición\")\n",
    "plt.ylabel(\"Count\")\n",
    "#plt.savefig('data/def_count.png')\n",
    "plt.show()"
   ]
  },
  {
   "cell_type": "code",
   "execution_count": 242,
   "metadata": {},
   "outputs": [
    {
     "data": {
      "text/html": [
       "<div>\n",
       "<style scoped>\n",
       "    .dataframe tbody tr th:only-of-type {\n",
       "        vertical-align: middle;\n",
       "    }\n",
       "\n",
       "    .dataframe tbody tr th {\n",
       "        vertical-align: top;\n",
       "    }\n",
       "\n",
       "    .dataframe thead th {\n",
       "        text-align: right;\n",
       "    }\n",
       "</style>\n",
       "<table border=\"1\" class=\"dataframe\">\n",
       "  <thead>\n",
       "    <tr style=\"text-align: right;\">\n",
       "      <th></th>\n",
       "      <th>index</th>\n",
       "      <th>long_form</th>\n",
       "    </tr>\n",
       "  </thead>\n",
       "  <tbody>\n",
       "    <tr>\n",
       "      <th>368</th>\n",
       "      <td>articulacion temporomandibular</td>\n",
       "      <td>1</td>\n",
       "    </tr>\n",
       "    <tr>\n",
       "      <th>369</th>\n",
       "      <td>clostridium difficile infection</td>\n",
       "      <td>1</td>\n",
       "    </tr>\n",
       "    <tr>\n",
       "      <th>370</th>\n",
       "      <td>terminal deoxynucleotidyl transferase</td>\n",
       "      <td>1</td>\n",
       "    </tr>\n",
       "    <tr>\n",
       "      <th>371</th>\n",
       "      <td>endoscopic retrograde cholangiopancreatography</td>\n",
       "      <td>1</td>\n",
       "    </tr>\n",
       "    <tr>\n",
       "      <th>372</th>\n",
       "      <td>volume of distribution of urea</td>\n",
       "      <td>1</td>\n",
       "    </tr>\n",
       "  </tbody>\n",
       "</table>\n",
       "</div>"
      ],
      "text/plain": [
       "                                              index  long_form\n",
       "368                  articulacion temporomandibular          1\n",
       "369                 clostridium difficile infection          1\n",
       "370           terminal deoxynucleotidyl transferase          1\n",
       "371  endoscopic retrograde cholangiopancreatography          1\n",
       "372                  volume of distribution of urea          1"
      ]
     },
     "execution_count": 242,
     "metadata": {},
     "output_type": "execute_result"
    }
   ],
   "source": [
    "frec2[frec2['long_form'] == 1].head()"
   ]
  },
  {
   "cell_type": "markdown",
   "metadata": {},
   "source": [
    "Let's find more text for definitions with 3 or less rows in train dataset."
   ]
  },
  {
   "cell_type": "code",
   "execution_count": 243,
   "metadata": {},
   "outputs": [],
   "source": [
    "train_lf = train.groupby('long_form').size().reset_index().rename(columns={0:'count'}).sort_values('count')\n",
    "train_lf_list = train_lf[train_lf['count'] <= 3]['long_form'].unique().tolist()"
   ]
  },
  {
   "cell_type": "code",
   "execution_count": 244,
   "metadata": {},
   "outputs": [
    {
     "data": {
      "text/plain": [
       "541"
      ]
     },
     "execution_count": 244,
     "metadata": {},
     "output_type": "execute_result"
    }
   ],
   "source": [
    "len(train_lf_list)"
   ]
  },
  {
   "cell_type": "markdown",
   "metadata": {},
   "source": [
    "List of deffinition to search in Medline"
   ]
  },
  {
   "cell_type": "code",
   "execution_count": 245,
   "metadata": {
    "tags": []
   },
   "outputs": [],
   "source": [
    "#sorted(train_lf_list)"
   ]
  },
  {
   "cell_type": "markdown",
   "metadata": {},
   "source": [
    "#### Medline texts"
   ]
  },
  {
   "cell_type": "code",
   "execution_count": 246,
   "metadata": {},
   "outputs": [
    {
     "data": {
      "text/html": [
       "<div>\n",
       "<style scoped>\n",
       "    .dataframe tbody tr th:only-of-type {\n",
       "        vertical-align: middle;\n",
       "    }\n",
       "\n",
       "    .dataframe tbody tr th {\n",
       "        vertical-align: top;\n",
       "    }\n",
       "\n",
       "    .dataframe thead th {\n",
       "        text-align: right;\n",
       "    }\n",
       "</style>\n",
       "<table border=\"1\" class=\"dataframe\">\n",
       "  <thead>\n",
       "    <tr style=\"text-align: right;\">\n",
       "      <th></th>\n",
       "      <th>Unnamed: 0</th>\n",
       "      <th>url</th>\n",
       "      <th>text</th>\n",
       "      <th>concept</th>\n",
       "    </tr>\n",
       "  </thead>\n",
       "  <tbody>\n",
       "    <tr>\n",
       "      <th>0</th>\n",
       "      <td>0</td>\n",
       "      <td>https://medlineplus.gov/spanish/mercury.html</td>\n",
       "      <td>\\n\\nEl mercurio es un elemento que se encuentra en el aire, el agua y el suelo. Existe en varias...</td>\n",
       "      <td>mercurio</td>\n",
       "    </tr>\n",
       "    <tr>\n",
       "      <th>1</th>\n",
       "      <td>1</td>\n",
       "      <td>https://medlineplus.gov/spanish/ency/article/002476.htm</td>\n",
       "      <td>Este artículo aborda la intoxicación por mercurio.Este artículo es solamente informativo. NO lo ...</td>\n",
       "      <td>mercurio</td>\n",
       "    </tr>\n",
       "    <tr>\n",
       "      <th>2</th>\n",
       "      <td>2</td>\n",
       "      <td>https://medlineplus.gov/spanish/ency/article/002475.htm</td>\n",
       "      <td>Es una de las formas de mercurio. También es un tipo de sal de mercurio. Hay tipos diferentes de...</td>\n",
       "      <td>mercurio</td>\n",
       "    </tr>\n",
       "    <tr>\n",
       "      <th>3</th>\n",
       "      <td>3</td>\n",
       "      <td>https://medlineplus.gov/spanish/ency/article/002474.htm</td>\n",
       "      <td>El cloruro de mercurio es una forma muy tóxica de este elemento. Se trata de un tipo de sal de m...</td>\n",
       "      <td>mercurio</td>\n",
       "    </tr>\n",
       "    <tr>\n",
       "      <th>4</th>\n",
       "      <td>4</td>\n",
       "      <td>https://medlineplus.gov/spanish/ency/article/007763.htm</td>\n",
       "      <td>Es el daño al cerebro y al sistema nervioso causado por el químico metilmercurio. Este artículo ...</td>\n",
       "      <td>mercurio</td>\n",
       "    </tr>\n",
       "  </tbody>\n",
       "</table>\n",
       "</div>"
      ],
      "text/plain": [
       "   Unnamed: 0                                                      url  \\\n",
       "0           0             https://medlineplus.gov/spanish/mercury.html   \n",
       "1           1  https://medlineplus.gov/spanish/ency/article/002476.htm   \n",
       "2           2  https://medlineplus.gov/spanish/ency/article/002475.htm   \n",
       "3           3  https://medlineplus.gov/spanish/ency/article/002474.htm   \n",
       "4           4  https://medlineplus.gov/spanish/ency/article/007763.htm   \n",
       "\n",
       "                                                                                                  text  \\\n",
       "0  \\n\\nEl mercurio es un elemento que se encuentra en el aire, el agua y el suelo. Existe en varias...   \n",
       "1  Este artículo aborda la intoxicación por mercurio.Este artículo es solamente informativo. NO lo ...   \n",
       "2  Es una de las formas de mercurio. También es un tipo de sal de mercurio. Hay tipos diferentes de...   \n",
       "3  El cloruro de mercurio es una forma muy tóxica de este elemento. Se trata de un tipo de sal de m...   \n",
       "4  Es el daño al cerebro y al sistema nervioso causado por el químico metilmercurio. Este artículo ...   \n",
       "\n",
       "    concept  \n",
       "0  mercurio  \n",
       "1  mercurio  \n",
       "2  mercurio  \n",
       "3  mercurio  \n",
       "4  mercurio  "
      ]
     },
     "execution_count": 246,
     "metadata": {},
     "output_type": "execute_result"
    }
   ],
   "source": [
    "medline = pd.read_csv(\"../../data/scrapping/textos_medline_scrapping2.csv\")\n",
    "medline.head()"
   ]
  },
  {
   "cell_type": "code",
   "execution_count": 247,
   "metadata": {},
   "outputs": [
    {
     "data": {
      "text/plain": [
       "27"
      ]
     },
     "execution_count": 247,
     "metadata": {},
     "output_type": "execute_result"
    }
   ],
   "source": [
    "medline[medline['concept'].isin(train_lf_list)]['concept'].nunique()"
   ]
  },
  {
   "cell_type": "markdown",
   "metadata": {},
   "source": [
    "Just 30 deffinition have been find in Medline"
   ]
  },
  {
   "cell_type": "code",
   "execution_count": 248,
   "metadata": {},
   "outputs": [
    {
     "data": {
      "text/plain": [
       "(564, 4)"
      ]
     },
     "execution_count": 248,
     "metadata": {},
     "output_type": "execute_result"
    }
   ],
   "source": [
    "medline[medline['concept'].isin(train_lf_list)].shape"
   ]
  },
  {
   "cell_type": "code",
   "execution_count": 249,
   "metadata": {},
   "outputs": [
    {
     "data": {
      "text/html": [
       "<div>\n",
       "<style scoped>\n",
       "    .dataframe tbody tr th:only-of-type {\n",
       "        vertical-align: middle;\n",
       "    }\n",
       "\n",
       "    .dataframe tbody tr th {\n",
       "        vertical-align: top;\n",
       "    }\n",
       "\n",
       "    .dataframe thead th {\n",
       "        text-align: right;\n",
       "    }\n",
       "</style>\n",
       "<table border=\"1\" class=\"dataframe\">\n",
       "  <thead>\n",
       "    <tr style=\"text-align: right;\">\n",
       "      <th></th>\n",
       "      <th>Unnamed: 0</th>\n",
       "      <th>url</th>\n",
       "      <th>text</th>\n",
       "      <th>concept</th>\n",
       "    </tr>\n",
       "  </thead>\n",
       "  <tbody>\n",
       "    <tr>\n",
       "      <th>0</th>\n",
       "      <td>0</td>\n",
       "      <td>https://medlineplus.gov/spanish/mercury.html</td>\n",
       "      <td>\\n\\nEl mercurio es un elemento que se encuentra en el aire, el agua y el suelo. Existe en varias...</td>\n",
       "      <td>mercurio</td>\n",
       "    </tr>\n",
       "    <tr>\n",
       "      <th>1</th>\n",
       "      <td>1</td>\n",
       "      <td>https://medlineplus.gov/spanish/ency/article/002476.htm</td>\n",
       "      <td>Este artículo aborda la intoxicación por mercurio.Este artículo es solamente informativo. NO lo ...</td>\n",
       "      <td>mercurio</td>\n",
       "    </tr>\n",
       "    <tr>\n",
       "      <th>2</th>\n",
       "      <td>2</td>\n",
       "      <td>https://medlineplus.gov/spanish/ency/article/002475.htm</td>\n",
       "      <td>Es una de las formas de mercurio. También es un tipo de sal de mercurio. Hay tipos diferentes de...</td>\n",
       "      <td>mercurio</td>\n",
       "    </tr>\n",
       "    <tr>\n",
       "      <th>3</th>\n",
       "      <td>3</td>\n",
       "      <td>https://medlineplus.gov/spanish/ency/article/002474.htm</td>\n",
       "      <td>El cloruro de mercurio es una forma muy tóxica de este elemento. Se trata de un tipo de sal de m...</td>\n",
       "      <td>mercurio</td>\n",
       "    </tr>\n",
       "    <tr>\n",
       "      <th>4</th>\n",
       "      <td>4</td>\n",
       "      <td>https://medlineplus.gov/spanish/ency/article/007763.htm</td>\n",
       "      <td>Es el daño al cerebro y al sistema nervioso causado por el químico metilmercurio. Este artículo ...</td>\n",
       "      <td>mercurio</td>\n",
       "    </tr>\n",
       "  </tbody>\n",
       "</table>\n",
       "</div>"
      ],
      "text/plain": [
       "   Unnamed: 0                                                      url  \\\n",
       "0           0             https://medlineplus.gov/spanish/mercury.html   \n",
       "1           1  https://medlineplus.gov/spanish/ency/article/002476.htm   \n",
       "2           2  https://medlineplus.gov/spanish/ency/article/002475.htm   \n",
       "3           3  https://medlineplus.gov/spanish/ency/article/002474.htm   \n",
       "4           4  https://medlineplus.gov/spanish/ency/article/007763.htm   \n",
       "\n",
       "                                                                                                  text  \\\n",
       "0  \\n\\nEl mercurio es un elemento que se encuentra en el aire, el agua y el suelo. Existe en varias...   \n",
       "1  Este artículo aborda la intoxicación por mercurio.Este artículo es solamente informativo. NO lo ...   \n",
       "2  Es una de las formas de mercurio. También es un tipo de sal de mercurio. Hay tipos diferentes de...   \n",
       "3  El cloruro de mercurio es una forma muy tóxica de este elemento. Se trata de un tipo de sal de m...   \n",
       "4  Es el daño al cerebro y al sistema nervioso causado por el químico metilmercurio. Este artículo ...   \n",
       "\n",
       "    concept  \n",
       "0  mercurio  \n",
       "1  mercurio  \n",
       "2  mercurio  \n",
       "3  mercurio  \n",
       "4  mercurio  "
      ]
     },
     "execution_count": 249,
     "metadata": {},
     "output_type": "execute_result"
    }
   ],
   "source": [
    "medline[medline['concept'].isin(train_lf_list)].head()"
   ]
  },
  {
   "cell_type": "code",
   "execution_count": 250,
   "metadata": {},
   "outputs": [
    {
     "data": {
      "text/html": [
       "<div>\n",
       "<style scoped>\n",
       "    .dataframe tbody tr th:only-of-type {\n",
       "        vertical-align: middle;\n",
       "    }\n",
       "\n",
       "    .dataframe tbody tr th {\n",
       "        vertical-align: top;\n",
       "    }\n",
       "\n",
       "    .dataframe thead th {\n",
       "        text-align: right;\n",
       "    }\n",
       "</style>\n",
       "<table border=\"1\" class=\"dataframe\">\n",
       "  <thead>\n",
       "    <tr style=\"text-align: right;\">\n",
       "      <th></th>\n",
       "      <th>doc_id</th>\n",
       "      <th>texto</th>\n",
       "      <th>short_form</th>\n",
       "      <th>long_form</th>\n",
       "      <th>StartOffset</th>\n",
       "      <th>EndOffset</th>\n",
       "    </tr>\n",
       "  </thead>\n",
       "  <tbody>\n",
       "    <tr>\n",
       "      <th>0</th>\n",
       "      <td>S1130-01082006000100014-1</td>\n",
       "      <td>Se trata de una mujer de 35 años, con antecedentes familiares de enfermedad de Crohn y sin antec...</td>\n",
       "      <td>dl</td>\n",
       "      <td>decilitro</td>\n",
       "      <td>1908</td>\n",
       "      <td>1910</td>\n",
       "    </tr>\n",
       "    <tr>\n",
       "      <th>1</th>\n",
       "      <td>S1130-01082006000100014-1</td>\n",
       "      <td>Se trata de una mujer de 35 años, con antecedentes familiares de enfermedad de Crohn y sin antec...</td>\n",
       "      <td>dl</td>\n",
       "      <td>decilitro</td>\n",
       "      <td>1684</td>\n",
       "      <td>1686</td>\n",
       "    </tr>\n",
       "    <tr>\n",
       "      <th>2</th>\n",
       "      <td>S1130-01082006000100014-1</td>\n",
       "      <td>Se trata de una mujer de 35 años, con antecedentes familiares de enfermedad de Crohn y sin antec...</td>\n",
       "      <td>dl</td>\n",
       "      <td>decilitro</td>\n",
       "      <td>1656</td>\n",
       "      <td>1658</td>\n",
       "    </tr>\n",
       "    <tr>\n",
       "      <th>3</th>\n",
       "      <td>S1130-01082006000100014-1</td>\n",
       "      <td>Se trata de una mujer de 35 años, con antecedentes familiares de enfermedad de Crohn y sin antec...</td>\n",
       "      <td>dl</td>\n",
       "      <td>decilitro</td>\n",
       "      <td>1414</td>\n",
       "      <td>1416</td>\n",
       "    </tr>\n",
       "    <tr>\n",
       "      <th>12</th>\n",
       "      <td>S1130-01082006000100014-1</td>\n",
       "      <td>Se trata de una mujer de 35 años, con antecedentes familiares de enfermedad de Crohn y sin antec...</td>\n",
       "      <td>g</td>\n",
       "      <td>gramo</td>\n",
       "      <td>1654</td>\n",
       "      <td>1655</td>\n",
       "    </tr>\n",
       "  </tbody>\n",
       "</table>\n",
       "</div>"
      ],
      "text/plain": [
       "                       doc_id  \\\n",
       "0   S1130-01082006000100014-1   \n",
       "1   S1130-01082006000100014-1   \n",
       "2   S1130-01082006000100014-1   \n",
       "3   S1130-01082006000100014-1   \n",
       "12  S1130-01082006000100014-1   \n",
       "\n",
       "                                                                                                  texto  \\\n",
       "0   Se trata de una mujer de 35 años, con antecedentes familiares de enfermedad de Crohn y sin antec...   \n",
       "1   Se trata de una mujer de 35 años, con antecedentes familiares de enfermedad de Crohn y sin antec...   \n",
       "2   Se trata de una mujer de 35 años, con antecedentes familiares de enfermedad de Crohn y sin antec...   \n",
       "3   Se trata de una mujer de 35 años, con antecedentes familiares de enfermedad de Crohn y sin antec...   \n",
       "12  Se trata de una mujer de 35 años, con antecedentes familiares de enfermedad de Crohn y sin antec...   \n",
       "\n",
       "   short_form  long_form  StartOffset  EndOffset  \n",
       "0          dl  decilitro         1908       1910  \n",
       "1          dl  decilitro         1684       1686  \n",
       "2          dl  decilitro         1656       1658  \n",
       "3          dl  decilitro         1414       1416  \n",
       "12          g      gramo         1654       1655  "
      ]
     },
     "execution_count": 250,
     "metadata": {},
     "output_type": "execute_result"
    }
   ],
   "source": [
    "train.head()"
   ]
  },
  {
   "cell_type": "markdown",
   "metadata": {},
   "source": [
    "Transform Medline text with train structure"
   ]
  },
  {
   "cell_type": "code",
   "execution_count": 251,
   "metadata": {},
   "outputs": [],
   "source": [
    "med_texts = medline[medline['concept'].isin(train_lf_list)]"
   ]
  },
  {
   "cell_type": "code",
   "execution_count": 252,
   "metadata": {},
   "outputs": [],
   "source": [
    "med_texts = med_texts[['text', 'concept']].rename(columns = {'text':'texto', 'concept':'long_form'})"
   ]
  },
  {
   "cell_type": "code",
   "execution_count": 253,
   "metadata": {},
   "outputs": [],
   "source": [
    "sf_lf = train[train['long_form'].isin(train_lf_list)][['short_form', 'long_form']].set_index('long_form').to_dict()['short_form']"
   ]
  },
  {
   "cell_type": "code",
   "execution_count": 254,
   "metadata": {},
   "outputs": [],
   "source": [
    "med_texts['short_form'] = med_texts['long_form'].map(sf_lf)"
   ]
  },
  {
   "cell_type": "code",
   "execution_count": 255,
   "metadata": {},
   "outputs": [],
   "source": [
    "def replace_sf_lf(row):\n",
    "    row['texto'] = row['texto'].replace(row['long_form'], row['short_form'])\n",
    "    return row['texto']"
   ]
  },
  {
   "cell_type": "code",
   "execution_count": 256,
   "metadata": {},
   "outputs": [],
   "source": [
    "med_texts['texto'] = med_texts.apply(replace_sf_lf, axis = 1)"
   ]
  },
  {
   "cell_type": "code",
   "execution_count": 257,
   "metadata": {},
   "outputs": [
    {
     "data": {
      "text/html": [
       "<div>\n",
       "<style scoped>\n",
       "    .dataframe tbody tr th:only-of-type {\n",
       "        vertical-align: middle;\n",
       "    }\n",
       "\n",
       "    .dataframe tbody tr th {\n",
       "        vertical-align: top;\n",
       "    }\n",
       "\n",
       "    .dataframe thead th {\n",
       "        text-align: right;\n",
       "    }\n",
       "</style>\n",
       "<table border=\"1\" class=\"dataframe\">\n",
       "  <thead>\n",
       "    <tr style=\"text-align: right;\">\n",
       "      <th></th>\n",
       "      <th>texto</th>\n",
       "      <th>long_form</th>\n",
       "      <th>short_form</th>\n",
       "    </tr>\n",
       "  </thead>\n",
       "  <tbody>\n",
       "    <tr>\n",
       "      <th>0</th>\n",
       "      <td>\\n\\nEl Hg es un elemento que se encuentra en el aire, el agua y el suelo. Existe en varias forma...</td>\n",
       "      <td>mercurio</td>\n",
       "      <td>Hg</td>\n",
       "    </tr>\n",
       "    <tr>\n",
       "      <th>1</th>\n",
       "      <td>Este artículo aborda la intoxicación por Hg.Este artículo es solamente informativo. NO lo use pa...</td>\n",
       "      <td>mercurio</td>\n",
       "      <td>Hg</td>\n",
       "    </tr>\n",
       "    <tr>\n",
       "      <th>2</th>\n",
       "      <td>Es una de las formas de Hg. También es un tipo de sal de Hg. Hay tipos diferentes de intoxicació...</td>\n",
       "      <td>mercurio</td>\n",
       "      <td>Hg</td>\n",
       "    </tr>\n",
       "    <tr>\n",
       "      <th>3</th>\n",
       "      <td>El cloruro de Hg es una forma muy tóxica de este elemento. Se trata de un tipo de sal de Hg. Hay...</td>\n",
       "      <td>mercurio</td>\n",
       "      <td>Hg</td>\n",
       "    </tr>\n",
       "    <tr>\n",
       "      <th>4</th>\n",
       "      <td>Es el daño al cerebro y al sistema nervioso causado por el químico metilHg. Este artículo es sol...</td>\n",
       "      <td>mercurio</td>\n",
       "      <td>Hg</td>\n",
       "    </tr>\n",
       "  </tbody>\n",
       "</table>\n",
       "</div>"
      ],
      "text/plain": [
       "                                                                                                 texto  \\\n",
       "0  \\n\\nEl Hg es un elemento que se encuentra en el aire, el agua y el suelo. Existe en varias forma...   \n",
       "1  Este artículo aborda la intoxicación por Hg.Este artículo es solamente informativo. NO lo use pa...   \n",
       "2  Es una de las formas de Hg. También es un tipo de sal de Hg. Hay tipos diferentes de intoxicació...   \n",
       "3  El cloruro de Hg es una forma muy tóxica de este elemento. Se trata de un tipo de sal de Hg. Hay...   \n",
       "4  Es el daño al cerebro y al sistema nervioso causado por el químico metilHg. Este artículo es sol...   \n",
       "\n",
       "  long_form short_form  \n",
       "0  mercurio         Hg  \n",
       "1  mercurio         Hg  \n",
       "2  mercurio         Hg  \n",
       "3  mercurio         Hg  \n",
       "4  mercurio         Hg  "
      ]
     },
     "execution_count": 257,
     "metadata": {},
     "output_type": "execute_result"
    }
   ],
   "source": [
    "med_texts.head()"
   ]
  },
  {
   "cell_type": "code",
   "execution_count": 258,
   "metadata": {},
   "outputs": [],
   "source": [
    "def find_offset(row):\n",
    "    start_i = row['texto'].find(row['short_form'])\n",
    "    end_i = start_i + len(row['short_form'])\n",
    "    \n",
    "    return start_i, end_i   "
   ]
  },
  {
   "cell_type": "code",
   "execution_count": 259,
   "metadata": {},
   "outputs": [],
   "source": [
    "med_texts['offsets'] = med_texts.apply(find_offset, axis = 1)"
   ]
  },
  {
   "cell_type": "code",
   "execution_count": 260,
   "metadata": {},
   "outputs": [],
   "source": [
    "med_texts[['StartOffset', 'EndOffset']] = pd.DataFrame(med_texts['offsets'].tolist(), index=med_texts.index)"
   ]
  },
  {
   "cell_type": "code",
   "execution_count": 261,
   "metadata": {},
   "outputs": [],
   "source": [
    "med_texts = med_texts[['texto', 'short_form', 'long_form','StartOffset', 'EndOffset']]"
   ]
  },
  {
   "cell_type": "code",
   "execution_count": 262,
   "metadata": {},
   "outputs": [
    {
     "data": {
      "text/html": [
       "<div>\n",
       "<style scoped>\n",
       "    .dataframe tbody tr th:only-of-type {\n",
       "        vertical-align: middle;\n",
       "    }\n",
       "\n",
       "    .dataframe tbody tr th {\n",
       "        vertical-align: top;\n",
       "    }\n",
       "\n",
       "    .dataframe thead th {\n",
       "        text-align: right;\n",
       "    }\n",
       "</style>\n",
       "<table border=\"1\" class=\"dataframe\">\n",
       "  <thead>\n",
       "    <tr style=\"text-align: right;\">\n",
       "      <th></th>\n",
       "      <th>texto</th>\n",
       "      <th>short_form</th>\n",
       "      <th>long_form</th>\n",
       "      <th>StartOffset</th>\n",
       "      <th>EndOffset</th>\n",
       "    </tr>\n",
       "  </thead>\n",
       "  <tbody>\n",
       "    <tr>\n",
       "      <th>0</th>\n",
       "      <td>\\n\\nEl Hg es un elemento que se encuentra en el aire, el agua y el suelo. Existe en varias forma...</td>\n",
       "      <td>Hg</td>\n",
       "      <td>mercurio</td>\n",
       "      <td>5</td>\n",
       "      <td>7</td>\n",
       "    </tr>\n",
       "    <tr>\n",
       "      <th>1</th>\n",
       "      <td>Este artículo aborda la intoxicación por Hg.Este artículo es solamente informativo. NO lo use pa...</td>\n",
       "      <td>Hg</td>\n",
       "      <td>mercurio</td>\n",
       "      <td>41</td>\n",
       "      <td>43</td>\n",
       "    </tr>\n",
       "    <tr>\n",
       "      <th>2</th>\n",
       "      <td>Es una de las formas de Hg. También es un tipo de sal de Hg. Hay tipos diferentes de intoxicació...</td>\n",
       "      <td>Hg</td>\n",
       "      <td>mercurio</td>\n",
       "      <td>24</td>\n",
       "      <td>26</td>\n",
       "    </tr>\n",
       "    <tr>\n",
       "      <th>3</th>\n",
       "      <td>El cloruro de Hg es una forma muy tóxica de este elemento. Se trata de un tipo de sal de Hg. Hay...</td>\n",
       "      <td>Hg</td>\n",
       "      <td>mercurio</td>\n",
       "      <td>14</td>\n",
       "      <td>16</td>\n",
       "    </tr>\n",
       "    <tr>\n",
       "      <th>4</th>\n",
       "      <td>Es el daño al cerebro y al sistema nervioso causado por el químico metilHg. Este artículo es sol...</td>\n",
       "      <td>Hg</td>\n",
       "      <td>mercurio</td>\n",
       "      <td>72</td>\n",
       "      <td>74</td>\n",
       "    </tr>\n",
       "  </tbody>\n",
       "</table>\n",
       "</div>"
      ],
      "text/plain": [
       "                                                                                                 texto  \\\n",
       "0  \\n\\nEl Hg es un elemento que se encuentra en el aire, el agua y el suelo. Existe en varias forma...   \n",
       "1  Este artículo aborda la intoxicación por Hg.Este artículo es solamente informativo. NO lo use pa...   \n",
       "2  Es una de las formas de Hg. También es un tipo de sal de Hg. Hay tipos diferentes de intoxicació...   \n",
       "3  El cloruro de Hg es una forma muy tóxica de este elemento. Se trata de un tipo de sal de Hg. Hay...   \n",
       "4  Es el daño al cerebro y al sistema nervioso causado por el químico metilHg. Este artículo es sol...   \n",
       "\n",
       "  short_form long_form  StartOffset  EndOffset  \n",
       "0         Hg  mercurio            5          7  \n",
       "1         Hg  mercurio           41         43  \n",
       "2         Hg  mercurio           24         26  \n",
       "3         Hg  mercurio           14         16  \n",
       "4         Hg  mercurio           72         74  "
      ]
     },
     "execution_count": 262,
     "metadata": {},
     "output_type": "execute_result"
    }
   ],
   "source": [
    "med_texts.head()"
   ]
  },
  {
   "cell_type": "markdown",
   "metadata": {},
   "source": [
    "Concat train and Medline texts"
   ]
  },
  {
   "cell_type": "code",
   "execution_count": 263,
   "metadata": {},
   "outputs": [
    {
     "data": {
      "text/plain": [
       "(4865, 6)"
      ]
     },
     "execution_count": 263,
     "metadata": {},
     "output_type": "execute_result"
    }
   ],
   "source": [
    "train.shape"
   ]
  },
  {
   "cell_type": "code",
   "execution_count": 264,
   "metadata": {},
   "outputs": [],
   "source": [
    "train = pd.concat([train, med_texts], axis = 0)"
   ]
  },
  {
   "cell_type": "code",
   "execution_count": 265,
   "metadata": {},
   "outputs": [
    {
     "data": {
      "text/plain": [
       "(5429, 6)"
      ]
     },
     "execution_count": 265,
     "metadata": {},
     "output_type": "execute_result"
    }
   ],
   "source": [
    "train.shape"
   ]
  },
  {
   "cell_type": "code",
   "execution_count": 266,
   "metadata": {},
   "outputs": [
    {
     "data": {
      "text/html": [
       "<div>\n",
       "<style scoped>\n",
       "    .dataframe tbody tr th:only-of-type {\n",
       "        vertical-align: middle;\n",
       "    }\n",
       "\n",
       "    .dataframe tbody tr th {\n",
       "        vertical-align: top;\n",
       "    }\n",
       "\n",
       "    .dataframe thead th {\n",
       "        text-align: right;\n",
       "    }\n",
       "</style>\n",
       "<table border=\"1\" class=\"dataframe\">\n",
       "  <thead>\n",
       "    <tr style=\"text-align: right;\">\n",
       "      <th></th>\n",
       "      <th>doc_id</th>\n",
       "      <th>texto</th>\n",
       "      <th>short_form</th>\n",
       "      <th>long_form</th>\n",
       "      <th>StartOffset</th>\n",
       "      <th>EndOffset</th>\n",
       "    </tr>\n",
       "  </thead>\n",
       "  <tbody>\n",
       "    <tr>\n",
       "      <th>0</th>\n",
       "      <td>S1130-01082006000100014-1</td>\n",
       "      <td>Se trata de una mujer de 35 años, con antecedentes familiares de enfermedad de Crohn y sin antec...</td>\n",
       "      <td>dl</td>\n",
       "      <td>decilitro</td>\n",
       "      <td>1908</td>\n",
       "      <td>1910</td>\n",
       "    </tr>\n",
       "    <tr>\n",
       "      <th>1</th>\n",
       "      <td>S1130-01082006000100014-1</td>\n",
       "      <td>Se trata de una mujer de 35 años, con antecedentes familiares de enfermedad de Crohn y sin antec...</td>\n",
       "      <td>dl</td>\n",
       "      <td>decilitro</td>\n",
       "      <td>1684</td>\n",
       "      <td>1686</td>\n",
       "    </tr>\n",
       "    <tr>\n",
       "      <th>2</th>\n",
       "      <td>S1130-01082006000100014-1</td>\n",
       "      <td>Se trata de una mujer de 35 años, con antecedentes familiares de enfermedad de Crohn y sin antec...</td>\n",
       "      <td>dl</td>\n",
       "      <td>decilitro</td>\n",
       "      <td>1656</td>\n",
       "      <td>1658</td>\n",
       "    </tr>\n",
       "    <tr>\n",
       "      <th>3</th>\n",
       "      <td>S1130-01082006000100014-1</td>\n",
       "      <td>Se trata de una mujer de 35 años, con antecedentes familiares de enfermedad de Crohn y sin antec...</td>\n",
       "      <td>dl</td>\n",
       "      <td>decilitro</td>\n",
       "      <td>1414</td>\n",
       "      <td>1416</td>\n",
       "    </tr>\n",
       "    <tr>\n",
       "      <th>4</th>\n",
       "      <td>S1130-01082006000100014-1</td>\n",
       "      <td>Se trata de una mujer de 35 años, con antecedentes familiares de enfermedad de Crohn y sin antec...</td>\n",
       "      <td>g</td>\n",
       "      <td>gramo</td>\n",
       "      <td>1654</td>\n",
       "      <td>1655</td>\n",
       "    </tr>\n",
       "  </tbody>\n",
       "</table>\n",
       "</div>"
      ],
      "text/plain": [
       "                      doc_id  \\\n",
       "0  S1130-01082006000100014-1   \n",
       "1  S1130-01082006000100014-1   \n",
       "2  S1130-01082006000100014-1   \n",
       "3  S1130-01082006000100014-1   \n",
       "4  S1130-01082006000100014-1   \n",
       "\n",
       "                                                                                                 texto  \\\n",
       "0  Se trata de una mujer de 35 años, con antecedentes familiares de enfermedad de Crohn y sin antec...   \n",
       "1  Se trata de una mujer de 35 años, con antecedentes familiares de enfermedad de Crohn y sin antec...   \n",
       "2  Se trata de una mujer de 35 años, con antecedentes familiares de enfermedad de Crohn y sin antec...   \n",
       "3  Se trata de una mujer de 35 años, con antecedentes familiares de enfermedad de Crohn y sin antec...   \n",
       "4  Se trata de una mujer de 35 años, con antecedentes familiares de enfermedad de Crohn y sin antec...   \n",
       "\n",
       "  short_form  long_form  StartOffset  EndOffset  \n",
       "0         dl  decilitro         1908       1910  \n",
       "1         dl  decilitro         1684       1686  \n",
       "2         dl  decilitro         1656       1658  \n",
       "3         dl  decilitro         1414       1416  \n",
       "4          g      gramo         1654       1655  "
      ]
     },
     "execution_count": 266,
     "metadata": {},
     "output_type": "execute_result"
    }
   ],
   "source": [
    "train.reset_index(inplace = True, drop = True)\n",
    "train.head()"
   ]
  },
  {
   "cell_type": "markdown",
   "metadata": {},
   "source": [
    "Check how many deffinition have low texts"
   ]
  },
  {
   "cell_type": "code",
   "execution_count": 267,
   "metadata": {},
   "outputs": [],
   "source": [
    "frec3 = train['long_form'].value_counts().reset_index()"
   ]
  },
  {
   "cell_type": "code",
   "execution_count": 268,
   "metadata": {},
   "outputs": [
    {
     "data": {
      "image/png": "[encoded data removed]",
      "text/plain": [
       "<Figure size 432x288 with 1 Axes>"
      ]
     },
     "metadata": {
      "needs_background": "light"
     },
     "output_type": "display_data"
    }
   ],
   "source": [
    "table = pd.crosstab(frec2['long_form'], columns = 'Count')\n",
    "table.plot.bar()\n",
    "plt.title('Number of deffinition records train')\n",
    "plt.show()"
   ]
  },
  {
   "cell_type": "code",
   "execution_count": 269,
   "metadata": {},
   "outputs": [
    {
     "data": {
      "image/png": "[encoded data removed]",
      "text/plain": [
       "<Figure size 432x288 with 1 Axes>"
      ]
     },
     "metadata": {
      "needs_background": "light"
     },
     "output_type": "display_data"
    }
   ],
   "source": [
    "table = pd.crosstab(frec3['long_form'], columns = 'Count')\n",
    "table.plot.bar()\n",
    "plt.title('Number of deffinition records after adding Medline texts to train')\n",
    "plt.show()"
   ]
  },
  {
   "cell_type": "code",
   "execution_count": 270,
   "metadata": {},
   "outputs": [],
   "source": [
    "lf_low = set(train_lf_list)"
   ]
  },
  {
   "cell_type": "code",
   "execution_count": 271,
   "metadata": {},
   "outputs": [],
   "source": [
    "lf_inmedline = set(medline[medline['concept'].isin(train_lf_list)]['concept'].unique().tolist())"
   ]
  },
  {
   "cell_type": "code",
   "execution_count": 272,
   "metadata": {
    "tags": []
   },
   "outputs": [],
   "source": [
    "#lf_low ^ lf_inmedline"
   ]
  },
  {
   "cell_type": "markdown",
   "metadata": {},
   "source": [
    "Transform dataframe to a list of dictionaries"
   ]
  },
  {
   "cell_type": "code",
   "execution_count": 273,
   "metadata": {},
   "outputs": [],
   "source": [
    "train_data = train[['doc_id', 'texto', 'short_form', 'long_form', 'StartOffset', 'EndOffset']].to_dict('records')"
   ]
  },
  {
   "cell_type": "markdown",
   "metadata": {},
   "source": [
    "### Get the text before and after the SF"
   ]
  },
  {
   "cell_type": "code",
   "execution_count": 274,
   "metadata": {},
   "outputs": [],
   "source": [
    "train_ndata, sf_not_found = get_f_b_context_text(train_data)"
   ]
  },
  {
   "cell_type": "markdown",
   "metadata": {},
   "source": [
    "Check if any SF is not founded in the text"
   ]
  },
  {
   "cell_type": "code",
   "execution_count": 275,
   "metadata": {},
   "outputs": [],
   "source": [
    "sf_not_found_set = set(sf_not_found)"
   ]
  },
  {
   "cell_type": "code",
   "execution_count": 276,
   "metadata": {},
   "outputs": [
    {
     "data": {
      "text/plain": [
       "15"
      ]
     },
     "execution_count": 276,
     "metadata": {},
     "output_type": "execute_result"
    }
   ],
   "source": [
    "len(sf_not_found_set)"
   ]
  },
  {
   "cell_type": "markdown",
   "metadata": {},
   "source": [
    "Execute this code just in case clean the texts are needed: remove string punctuation, accents, lower case, remove double spaces, separate numbers from sf"
   ]
  },
  {
   "cell_type": "code",
   "execution_count": 277,
   "metadata": {},
   "outputs": [],
   "source": [
    "# def clean_text_after(data):\n",
    "    \n",
    "#     for instance in data:\n",
    "#         instance[1] = clean_text(instance[1]).lower()\n",
    "#         instance[2] = clean_text(instance[2]).lower()\n",
    "#         instance[1] = re.sub(r'(\\d+)', r'\\g<1> ', instance[1]) #metemos espacio entre número y acrónimos que quedan pegados    \n",
    "#         instance[2] = re.sub(r'(\\d+)', r'\\g<1> ', instance[2])\n",
    "#         instance[1] = re.sub(r'\\s+', ' ', instance[1]).strip()\n",
    "#         instance[2] = re.sub(r'\\s+', ' ', instance[2]).strip()\n",
    "#     return data\n",
    "        "
   ]
  },
  {
   "cell_type": "code",
   "execution_count": 278,
   "metadata": {},
   "outputs": [],
   "source": [
    "# train_ndata = clean_text_after(train_ndata)"
   ]
  },
  {
   "cell_type": "markdown",
   "metadata": {},
   "source": [
    "### Get the contexts "
   ]
  },
  {
   "cell_type": "markdown",
   "metadata": {},
   "source": [
    "From the texts before and after the sf, we limit the number of words"
   ]
  },
  {
   "cell_type": "code",
   "execution_count": 279,
   "metadata": {},
   "outputs": [],
   "source": [
    "star_ends_tokens = 6 #number of tokens to add because <start> and <end> labels "
   ]
  },
  {
   "cell_type": "code",
   "execution_count": 280,
   "metadata": {},
   "outputs": [],
   "source": [
    "n_step_f = 10 + star_ends_tokens #number of words to select from the forward context\n",
    "n_step_b = 10 #number of words to select from the backward context"
   ]
  },
  {
   "cell_type": "code",
   "execution_count": 281,
   "metadata": {},
   "outputs": [
    {
     "name": "stderr",
     "output_type": "stream",
     "text": [
      "[nltk_data] Downloading package punkt to /Users/egarcia/nltk_data...\n",
      "[nltk_data]   Package punkt is already up-to-date!\n"
     ]
    },
    {
     "data": {
      "text/plain": [
       "True"
      ]
     },
     "execution_count": 281,
     "metadata": {},
     "output_type": "execute_result"
    }
   ],
   "source": [
    "nltk.download('punkt')"
   ]
  },
  {
   "cell_type": "code",
   "execution_count": 282,
   "metadata": {},
   "outputs": [],
   "source": [
    "train_ndata = limit_context(train_ndata)"
   ]
  },
  {
   "cell_type": "code",
   "execution_count": 283,
   "metadata": {},
   "outputs": [
    {
     "data": {
      "text/plain": [
       "['dl',\n",
       " 'del líquido una glucorraquia normal , proteinorraquia de 102 mg/ < start > dl < end >',\n",
       " '960 células/mm3 un 90 % de las cuales se correspondían',\n",
       " 'decilitro']"
      ]
     },
     "execution_count": 283,
     "metadata": {},
     "output_type": "execute_result"
    }
   ],
   "source": [
    "train_ndata[0]"
   ]
  },
  {
   "cell_type": "markdown",
   "metadata": {},
   "source": [
    "### Transform into df grouped by LF"
   ]
  },
  {
   "cell_type": "code",
   "execution_count": 284,
   "metadata": {},
   "outputs": [],
   "source": [
    "data_dic = create_dict(train_ndata)"
   ]
  },
  {
   "cell_type": "code",
   "execution_count": 285,
   "metadata": {},
   "outputs": [],
   "source": [
    "data_df = pd.DataFrame(data_dic)"
   ]
  },
  {
   "cell_type": "markdown",
   "metadata": {},
   "source": [
    "Asign an id to each LF"
   ]
  },
  {
   "cell_type": "code",
   "execution_count": 286,
   "metadata": {},
   "outputs": [],
   "source": [
    "data_df = data_df.assign(id=(data_df['long_form']).astype('category').cat.codes)"
   ]
  },
  {
   "cell_type": "code",
   "execution_count": 287,
   "metadata": {},
   "outputs": [
    {
     "data": {
      "text/html": [
       "<div>\n",
       "<style scoped>\n",
       "    .dataframe tbody tr th:only-of-type {\n",
       "        vertical-align: middle;\n",
       "    }\n",
       "\n",
       "    .dataframe tbody tr th {\n",
       "        vertical-align: top;\n",
       "    }\n",
       "\n",
       "    .dataframe thead th {\n",
       "        text-align: right;\n",
       "    }\n",
       "</style>\n",
       "<table border=\"1\" class=\"dataframe\">\n",
       "  <thead>\n",
       "    <tr style=\"text-align: right;\">\n",
       "      <th></th>\n",
       "      <th>short_form</th>\n",
       "      <th>context</th>\n",
       "      <th>long_form</th>\n",
       "      <th>id</th>\n",
       "    </tr>\n",
       "  </thead>\n",
       "  <tbody>\n",
       "    <tr>\n",
       "      <th>0</th>\n",
       "      <td>dl</td>\n",
       "      <td>del líquido una glucorraquia normal , proteinorraquia de 102 mg/ &lt; start &gt; dl &lt; end &gt; 960 célula...</td>\n",
       "      <td>decilitro</td>\n",
       "      <td>191</td>\n",
       "    </tr>\n",
       "    <tr>\n",
       "      <th>1</th>\n",
       "      <td>dl</td>\n",
       "      <td>que eran de 5,8 g/dl con albúmina de 1.400 mg/ &lt; start &gt; dl &lt; end &gt; El elemental de orina y sedi...</td>\n",
       "      <td>decilitro</td>\n",
       "      <td>191</td>\n",
       "    </tr>\n",
       "    <tr>\n",
       "      <th>2</th>\n",
       "      <td>dl</td>\n",
       "      <td>67 y las proteínas totales que eran de 5,8 g/ &lt; start &gt; dl &lt; end &gt; con albúmina de 1.400 mg/dl ....</td>\n",
       "      <td>decilitro</td>\n",
       "      <td>191</td>\n",
       "    </tr>\n",
       "    <tr>\n",
       "      <th>3</th>\n",
       "      <td>dl</td>\n",
       "      <td>las pruebas realizadas destacaba una anemia normocítica ( 9,9 g/ &lt; start &gt; dl &lt; end &gt; de Hb ) , ...</td>\n",
       "      <td>decilitro</td>\n",
       "      <td>191</td>\n",
       "    </tr>\n",
       "    <tr>\n",
       "      <th>4</th>\n",
       "      <td>g</td>\n",
       "      <td>gamma-GT 67 y las proteínas totales que eran de 5,8 &lt; start &gt; g &lt; end &gt; dl con albúmina de 1.400...</td>\n",
       "      <td>gramo</td>\n",
       "      <td>313</td>\n",
       "    </tr>\n",
       "  </tbody>\n",
       "</table>\n",
       "</div>"
      ],
      "text/plain": [
       "  short_form  \\\n",
       "0         dl   \n",
       "1         dl   \n",
       "2         dl   \n",
       "3         dl   \n",
       "4          g   \n",
       "\n",
       "                                                                                               context  \\\n",
       "0  del líquido una glucorraquia normal , proteinorraquia de 102 mg/ < start > dl < end > 960 célula...   \n",
       "1  que eran de 5,8 g/dl con albúmina de 1.400 mg/ < start > dl < end > El elemental de orina y sedi...   \n",
       "2  67 y las proteínas totales que eran de 5,8 g/ < start > dl < end > con albúmina de 1.400 mg/dl ....   \n",
       "3  las pruebas realizadas destacaba una anemia normocítica ( 9,9 g/ < start > dl < end > de Hb ) , ...   \n",
       "4  gamma-GT 67 y las proteínas totales que eran de 5,8 < start > g < end > dl con albúmina de 1.400...   \n",
       "\n",
       "   long_form   id  \n",
       "0  decilitro  191  \n",
       "1  decilitro  191  \n",
       "2  decilitro  191  \n",
       "3  decilitro  191  \n",
       "4      gramo  313  "
      ]
     },
     "execution_count": 287,
     "metadata": {},
     "output_type": "execute_result"
    }
   ],
   "source": [
    "data_df.head()"
   ]
  },
  {
   "cell_type": "code",
   "execution_count": 288,
   "metadata": {},
   "outputs": [
    {
     "data": {
      "text/plain": [
       "(5227, 4)"
      ]
     },
     "execution_count": 288,
     "metadata": {},
     "output_type": "execute_result"
    }
   ],
   "source": [
    "data_df.shape"
   ]
  },
  {
   "cell_type": "markdown",
   "metadata": {},
   "source": [
    "We will join each SF with all possible LFs, one for each record, so that later the model works in binary form assigning the probability that that is its LF"
   ]
  },
  {
   "cell_type": "code",
   "execution_count": 289,
   "metadata": {},
   "outputs": [],
   "source": [
    "sf_lf_unique = data_df[['short_form', 'long_form']].drop_duplicates()"
   ]
  },
  {
   "cell_type": "code",
   "execution_count": 290,
   "metadata": {},
   "outputs": [
    {
     "data": {
      "text/plain": [
       "(834, 2)"
      ]
     },
     "execution_count": 290,
     "metadata": {},
     "output_type": "execute_result"
    }
   ],
   "source": [
    "sf_lf_unique.shape"
   ]
  },
  {
   "cell_type": "code",
   "execution_count": 291,
   "metadata": {},
   "outputs": [
    {
     "data": {
      "text/html": [
       "<div>\n",
       "<style scoped>\n",
       "    .dataframe tbody tr th:only-of-type {\n",
       "        vertical-align: middle;\n",
       "    }\n",
       "\n",
       "    .dataframe tbody tr th {\n",
       "        vertical-align: top;\n",
       "    }\n",
       "\n",
       "    .dataframe thead th {\n",
       "        text-align: right;\n",
       "    }\n",
       "</style>\n",
       "<table border=\"1\" class=\"dataframe\">\n",
       "  <thead>\n",
       "    <tr style=\"text-align: right;\">\n",
       "      <th></th>\n",
       "      <th>short_form</th>\n",
       "      <th>long_form</th>\n",
       "    </tr>\n",
       "  </thead>\n",
       "  <tbody>\n",
       "    <tr>\n",
       "      <th>4323</th>\n",
       "      <td>5-FU</td>\n",
       "      <td>5fluorouracilo</td>\n",
       "    </tr>\n",
       "    <tr>\n",
       "      <th>962</th>\n",
       "      <td>67Ga</td>\n",
       "      <td>gallium67</td>\n",
       "    </tr>\n",
       "    <tr>\n",
       "      <th>1802</th>\n",
       "      <td>99-MDP</td>\n",
       "      <td>99 metilendifosfonato</td>\n",
       "    </tr>\n",
       "    <tr>\n",
       "      <th>964</th>\n",
       "      <td>99Tc</td>\n",
       "      <td>tecnecio99</td>\n",
       "    </tr>\n",
       "    <tr>\n",
       "      <th>1557</th>\n",
       "      <td>A</td>\n",
       "      <td>adenina</td>\n",
       "    </tr>\n",
       "  </tbody>\n",
       "</table>\n",
       "</div>"
      ],
      "text/plain": [
       "     short_form              long_form\n",
       "4323       5-FU         5fluorouracilo\n",
       "962        67Ga              gallium67\n",
       "1802     99-MDP  99 metilendifosfonato\n",
       "964        99Tc             tecnecio99\n",
       "1557          A                adenina"
      ]
     },
     "execution_count": 291,
     "metadata": {},
     "output_type": "execute_result"
    }
   ],
   "source": [
    "sf_lf_unique.sort_values('short_form').head()"
   ]
  },
  {
   "cell_type": "code",
   "execution_count": 292,
   "metadata": {},
   "outputs": [],
   "source": [
    "data_merged = data_df.merge(sf_lf_unique, on = 'short_form', how = 'left')"
   ]
  },
  {
   "cell_type": "code",
   "execution_count": 293,
   "metadata": {},
   "outputs": [
    {
     "data": {
      "text/plain": [
       "(7207, 5)"
      ]
     },
     "execution_count": 293,
     "metadata": {},
     "output_type": "execute_result"
    }
   ],
   "source": [
    "data_merged.shape"
   ]
  },
  {
   "cell_type": "code",
   "execution_count": 294,
   "metadata": {},
   "outputs": [],
   "source": [
    "pd.set_option('display.max_colwidth', 100)"
   ]
  },
  {
   "cell_type": "code",
   "execution_count": 295,
   "metadata": {},
   "outputs": [
    {
     "data": {
      "text/html": [
       "<div>\n",
       "<style scoped>\n",
       "    .dataframe tbody tr th:only-of-type {\n",
       "        vertical-align: middle;\n",
       "    }\n",
       "\n",
       "    .dataframe tbody tr th {\n",
       "        vertical-align: top;\n",
       "    }\n",
       "\n",
       "    .dataframe thead th {\n",
       "        text-align: right;\n",
       "    }\n",
       "</style>\n",
       "<table border=\"1\" class=\"dataframe\">\n",
       "  <thead>\n",
       "    <tr style=\"text-align: right;\">\n",
       "      <th></th>\n",
       "      <th>short_form</th>\n",
       "      <th>context</th>\n",
       "      <th>long_form</th>\n",
       "      <th>id</th>\n",
       "    </tr>\n",
       "  </thead>\n",
       "  <tbody>\n",
       "    <tr>\n",
       "      <th>4325</th>\n",
       "      <td>5-FU</td>\n",
       "      <td>1 , leucovorin 200 mg/m2 i.v . día 1 , &lt; start &gt; 5-FU &lt; end &gt; 400 mg/m2 en bolo i.v . día 1 , 5-FU</td>\n",
       "      <td>5fluorouracilo</td>\n",
       "      <td>1</td>\n",
       "    </tr>\n",
       "    <tr>\n",
       "      <th>4323</th>\n",
       "      <td>5-FU</td>\n",
       "      <td>5-FU 400 mg/m2 en bolo i.v . día 1 , &lt; start &gt; 5-FU &lt; end &gt; 1.200 mg/m2/día en perfusión continu...</td>\n",
       "      <td>5fluorouracilo</td>\n",
       "      <td>1</td>\n",
       "    </tr>\n",
       "    <tr>\n",
       "      <th>4324</th>\n",
       "      <td>5-FU</td>\n",
       "      <td>generalizada y alopecia , ambos relacionados con la toxicidad del &lt; start &gt; 5-FU &lt; end &gt; Pese a ...</td>\n",
       "      <td>5fluorouracilo</td>\n",
       "      <td>1</td>\n",
       "    </tr>\n",
       "    <tr>\n",
       "      <th>962</th>\n",
       "      <td>67Ga</td>\n",
       "      <td>la cabeza femoral izquierda confirmada por TAC , 99Tc y &lt; start &gt; 67Ga &lt; end &gt; gammagrafía . La ...</td>\n",
       "      <td>gallium67</td>\n",
       "      <td>293</td>\n",
       "    </tr>\n",
       "    <tr>\n",
       "      <th>1802</th>\n",
       "      <td>99-MDP</td>\n",
       "      <td>realizado un estudio completo que incluyó gammagrafía ósea con tecnecio &lt; start &gt; 99-MDP &lt; end &gt;...</td>\n",
       "      <td>99 metilendifosfonato</td>\n",
       "      <td>2</td>\n",
       "    </tr>\n",
       "  </tbody>\n",
       "</table>\n",
       "</div>"
      ],
      "text/plain": [
       "     short_form  \\\n",
       "4325       5-FU   \n",
       "4323       5-FU   \n",
       "4324       5-FU   \n",
       "962        67Ga   \n",
       "1802     99-MDP   \n",
       "\n",
       "                                                                                                  context  \\\n",
       "4325   1 , leucovorin 200 mg/m2 i.v . día 1 , < start > 5-FU < end > 400 mg/m2 en bolo i.v . día 1 , 5-FU   \n",
       "4323  5-FU 400 mg/m2 en bolo i.v . día 1 , < start > 5-FU < end > 1.200 mg/m2/día en perfusión continu...   \n",
       "4324  generalizada y alopecia , ambos relacionados con la toxicidad del < start > 5-FU < end > Pese a ...   \n",
       "962   la cabeza femoral izquierda confirmada por TAC , 99Tc y < start > 67Ga < end > gammagrafía . La ...   \n",
       "1802  realizado un estudio completo que incluyó gammagrafía ósea con tecnecio < start > 99-MDP < end >...   \n",
       "\n",
       "                  long_form   id  \n",
       "4325         5fluorouracilo    1  \n",
       "4323         5fluorouracilo    1  \n",
       "4324         5fluorouracilo    1  \n",
       "962               gallium67  293  \n",
       "1802  99 metilendifosfonato    2  "
      ]
     },
     "execution_count": 295,
     "metadata": {},
     "output_type": "execute_result"
    }
   ],
   "source": [
    "data_df.sort_values(['short_form', 'context']).head()"
   ]
  },
  {
   "cell_type": "code",
   "execution_count": 296,
   "metadata": {},
   "outputs": [
    {
     "data": {
      "text/html": [
       "<div>\n",
       "<style scoped>\n",
       "    .dataframe tbody tr th:only-of-type {\n",
       "        vertical-align: middle;\n",
       "    }\n",
       "\n",
       "    .dataframe tbody tr th {\n",
       "        vertical-align: top;\n",
       "    }\n",
       "\n",
       "    .dataframe thead th {\n",
       "        text-align: right;\n",
       "    }\n",
       "</style>\n",
       "<table border=\"1\" class=\"dataframe\">\n",
       "  <thead>\n",
       "    <tr style=\"text-align: right;\">\n",
       "      <th></th>\n",
       "      <th>short_form</th>\n",
       "      <th>context</th>\n",
       "      <th>long_form_x</th>\n",
       "      <th>id</th>\n",
       "      <th>long_form_y</th>\n",
       "    </tr>\n",
       "  </thead>\n",
       "  <tbody>\n",
       "    <tr>\n",
       "      <th>5721</th>\n",
       "      <td>5-FU</td>\n",
       "      <td>1 , leucovorin 200 mg/m2 i.v . día 1 , &lt; start &gt; 5-FU &lt; end &gt; 400 mg/m2 en bolo i.v . día 1 , 5-FU</td>\n",
       "      <td>5fluorouracilo</td>\n",
       "      <td>1</td>\n",
       "      <td>5fluorouracilo</td>\n",
       "    </tr>\n",
       "    <tr>\n",
       "      <th>5719</th>\n",
       "      <td>5-FU</td>\n",
       "      <td>5-FU 400 mg/m2 en bolo i.v . día 1 , &lt; start &gt; 5-FU &lt; end &gt; 1.200 mg/m2/día en perfusión continu...</td>\n",
       "      <td>5fluorouracilo</td>\n",
       "      <td>1</td>\n",
       "      <td>5fluorouracilo</td>\n",
       "    </tr>\n",
       "    <tr>\n",
       "      <th>5720</th>\n",
       "      <td>5-FU</td>\n",
       "      <td>generalizada y alopecia , ambos relacionados con la toxicidad del &lt; start &gt; 5-FU &lt; end &gt; Pese a ...</td>\n",
       "      <td>5fluorouracilo</td>\n",
       "      <td>1</td>\n",
       "      <td>5fluorouracilo</td>\n",
       "    </tr>\n",
       "    <tr>\n",
       "      <th>1265</th>\n",
       "      <td>67Ga</td>\n",
       "      <td>la cabeza femoral izquierda confirmada por TAC , 99Tc y &lt; start &gt; 67Ga &lt; end &gt; gammagrafía . La ...</td>\n",
       "      <td>gallium67</td>\n",
       "      <td>293</td>\n",
       "      <td>gallium67</td>\n",
       "    </tr>\n",
       "    <tr>\n",
       "      <th>2464</th>\n",
       "      <td>99-MDP</td>\n",
       "      <td>realizado un estudio completo que incluyó gammagrafía ósea con tecnecio &lt; start &gt; 99-MDP &lt; end &gt;...</td>\n",
       "      <td>99 metilendifosfonato</td>\n",
       "      <td>2</td>\n",
       "      <td>99 metilendifosfonato</td>\n",
       "    </tr>\n",
       "  </tbody>\n",
       "</table>\n",
       "</div>"
      ],
      "text/plain": [
       "     short_form  \\\n",
       "5721       5-FU   \n",
       "5719       5-FU   \n",
       "5720       5-FU   \n",
       "1265       67Ga   \n",
       "2464     99-MDP   \n",
       "\n",
       "                                                                                                  context  \\\n",
       "5721   1 , leucovorin 200 mg/m2 i.v . día 1 , < start > 5-FU < end > 400 mg/m2 en bolo i.v . día 1 , 5-FU   \n",
       "5719  5-FU 400 mg/m2 en bolo i.v . día 1 , < start > 5-FU < end > 1.200 mg/m2/día en perfusión continu...   \n",
       "5720  generalizada y alopecia , ambos relacionados con la toxicidad del < start > 5-FU < end > Pese a ...   \n",
       "1265  la cabeza femoral izquierda confirmada por TAC , 99Tc y < start > 67Ga < end > gammagrafía . La ...   \n",
       "2464  realizado un estudio completo que incluyó gammagrafía ósea con tecnecio < start > 99-MDP < end >...   \n",
       "\n",
       "                long_form_x   id            long_form_y  \n",
       "5721         5fluorouracilo    1         5fluorouracilo  \n",
       "5719         5fluorouracilo    1         5fluorouracilo  \n",
       "5720         5fluorouracilo    1         5fluorouracilo  \n",
       "1265              gallium67  293              gallium67  \n",
       "2464  99 metilendifosfonato    2  99 metilendifosfonato  "
      ]
     },
     "execution_count": 296,
     "metadata": {},
     "output_type": "execute_result"
    }
   ],
   "source": [
    "data_merged.sort_values(['short_form', 'context']).head()"
   ]
  },
  {
   "cell_type": "markdown",
   "metadata": {},
   "source": [
    "Target must be 1 or 0. 1 if the corresponding LF is the one assigned to it, 0 otherwise"
   ]
  },
  {
   "cell_type": "code",
   "execution_count": 297,
   "metadata": {},
   "outputs": [],
   "source": [
    "data_merged['label'] = data_merged.apply(get_label, axis = 1)"
   ]
  },
  {
   "cell_type": "code",
   "execution_count": 298,
   "metadata": {},
   "outputs": [
    {
     "data": {
      "text/html": [
       "<div>\n",
       "<style scoped>\n",
       "    .dataframe tbody tr th:only-of-type {\n",
       "        vertical-align: middle;\n",
       "    }\n",
       "\n",
       "    .dataframe tbody tr th {\n",
       "        vertical-align: top;\n",
       "    }\n",
       "\n",
       "    .dataframe thead th {\n",
       "        text-align: right;\n",
       "    }\n",
       "</style>\n",
       "<table border=\"1\" class=\"dataframe\">\n",
       "  <thead>\n",
       "    <tr style=\"text-align: right;\">\n",
       "      <th></th>\n",
       "      <th>short_form</th>\n",
       "      <th>context</th>\n",
       "      <th>long_form_x</th>\n",
       "      <th>id</th>\n",
       "      <th>long_form_y</th>\n",
       "      <th>label</th>\n",
       "    </tr>\n",
       "  </thead>\n",
       "  <tbody>\n",
       "    <tr>\n",
       "      <th>0</th>\n",
       "      <td>dl</td>\n",
       "      <td>del líquido una glucorraquia normal , proteinorraquia de 102 mg/ &lt; start &gt; dl &lt; end &gt; 960 célula...</td>\n",
       "      <td>decilitro</td>\n",
       "      <td>191</td>\n",
       "      <td>decilitro</td>\n",
       "      <td>1</td>\n",
       "    </tr>\n",
       "    <tr>\n",
       "      <th>1</th>\n",
       "      <td>dl</td>\n",
       "      <td>que eran de 5,8 g/dl con albúmina de 1.400 mg/ &lt; start &gt; dl &lt; end &gt; El elemental de orina y sedi...</td>\n",
       "      <td>decilitro</td>\n",
       "      <td>191</td>\n",
       "      <td>decilitro</td>\n",
       "      <td>1</td>\n",
       "    </tr>\n",
       "    <tr>\n",
       "      <th>2</th>\n",
       "      <td>dl</td>\n",
       "      <td>67 y las proteínas totales que eran de 5,8 g/ &lt; start &gt; dl &lt; end &gt; con albúmina de 1.400 mg/dl ....</td>\n",
       "      <td>decilitro</td>\n",
       "      <td>191</td>\n",
       "      <td>decilitro</td>\n",
       "      <td>1</td>\n",
       "    </tr>\n",
       "    <tr>\n",
       "      <th>3</th>\n",
       "      <td>dl</td>\n",
       "      <td>las pruebas realizadas destacaba una anemia normocítica ( 9,9 g/ &lt; start &gt; dl &lt; end &gt; de Hb ) , ...</td>\n",
       "      <td>decilitro</td>\n",
       "      <td>191</td>\n",
       "      <td>decilitro</td>\n",
       "      <td>1</td>\n",
       "    </tr>\n",
       "    <tr>\n",
       "      <th>4</th>\n",
       "      <td>g</td>\n",
       "      <td>gamma-GT 67 y las proteínas totales que eran de 5,8 &lt; start &gt; g &lt; end &gt; dl con albúmina de 1.400...</td>\n",
       "      <td>gramo</td>\n",
       "      <td>313</td>\n",
       "      <td>gramo</td>\n",
       "      <td>1</td>\n",
       "    </tr>\n",
       "  </tbody>\n",
       "</table>\n",
       "</div>"
      ],
      "text/plain": [
       "  short_form  \\\n",
       "0         dl   \n",
       "1         dl   \n",
       "2         dl   \n",
       "3         dl   \n",
       "4          g   \n",
       "\n",
       "                                                                                               context  \\\n",
       "0  del líquido una glucorraquia normal , proteinorraquia de 102 mg/ < start > dl < end > 960 célula...   \n",
       "1  que eran de 5,8 g/dl con albúmina de 1.400 mg/ < start > dl < end > El elemental de orina y sedi...   \n",
       "2  67 y las proteínas totales que eran de 5,8 g/ < start > dl < end > con albúmina de 1.400 mg/dl ....   \n",
       "3  las pruebas realizadas destacaba una anemia normocítica ( 9,9 g/ < start > dl < end > de Hb ) , ...   \n",
       "4  gamma-GT 67 y las proteínas totales que eran de 5,8 < start > g < end > dl con albúmina de 1.400...   \n",
       "\n",
       "  long_form_x   id long_form_y  label  \n",
       "0   decilitro  191   decilitro      1  \n",
       "1   decilitro  191   decilitro      1  \n",
       "2   decilitro  191   decilitro      1  \n",
       "3   decilitro  191   decilitro      1  \n",
       "4       gramo  313       gramo      1  "
      ]
     },
     "execution_count": 298,
     "metadata": {},
     "output_type": "execute_result"
    }
   ],
   "source": [
    "data_merged.head()"
   ]
  },
  {
   "cell_type": "code",
   "execution_count": 299,
   "metadata": {},
   "outputs": [],
   "source": [
    "data_merged = data_merged[['short_form', 'context', 'long_form_y', 'label']]"
   ]
  },
  {
   "cell_type": "code",
   "execution_count": 300,
   "metadata": {},
   "outputs": [],
   "source": [
    "data_merged = data_merged.rename(columns = {'long_form_y':'long_form'})"
   ]
  },
  {
   "cell_type": "code",
   "execution_count": 301,
   "metadata": {},
   "outputs": [],
   "source": [
    "data_merged.reset_index(drop = True, inplace = True)"
   ]
  },
  {
   "cell_type": "code",
   "execution_count": 302,
   "metadata": {},
   "outputs": [
    {
     "data": {
      "text/html": [
       "<div>\n",
       "<style scoped>\n",
       "    .dataframe tbody tr th:only-of-type {\n",
       "        vertical-align: middle;\n",
       "    }\n",
       "\n",
       "    .dataframe tbody tr th {\n",
       "        vertical-align: top;\n",
       "    }\n",
       "\n",
       "    .dataframe thead th {\n",
       "        text-align: right;\n",
       "    }\n",
       "</style>\n",
       "<table border=\"1\" class=\"dataframe\">\n",
       "  <thead>\n",
       "    <tr style=\"text-align: right;\">\n",
       "      <th></th>\n",
       "      <th>short_form</th>\n",
       "      <th>context</th>\n",
       "      <th>long_form</th>\n",
       "      <th>label</th>\n",
       "    </tr>\n",
       "  </thead>\n",
       "  <tbody>\n",
       "    <tr>\n",
       "      <th>0</th>\n",
       "      <td>dl</td>\n",
       "      <td>del líquido una glucorraquia normal , proteinorraquia de 102 mg/ &lt; start &gt; dl &lt; end &gt; 960 célula...</td>\n",
       "      <td>decilitro</td>\n",
       "      <td>1</td>\n",
       "    </tr>\n",
       "    <tr>\n",
       "      <th>1</th>\n",
       "      <td>dl</td>\n",
       "      <td>que eran de 5,8 g/dl con albúmina de 1.400 mg/ &lt; start &gt; dl &lt; end &gt; El elemental de orina y sedi...</td>\n",
       "      <td>decilitro</td>\n",
       "      <td>1</td>\n",
       "    </tr>\n",
       "    <tr>\n",
       "      <th>2</th>\n",
       "      <td>dl</td>\n",
       "      <td>67 y las proteínas totales que eran de 5,8 g/ &lt; start &gt; dl &lt; end &gt; con albúmina de 1.400 mg/dl ....</td>\n",
       "      <td>decilitro</td>\n",
       "      <td>1</td>\n",
       "    </tr>\n",
       "    <tr>\n",
       "      <th>3</th>\n",
       "      <td>dl</td>\n",
       "      <td>las pruebas realizadas destacaba una anemia normocítica ( 9,9 g/ &lt; start &gt; dl &lt; end &gt; de Hb ) , ...</td>\n",
       "      <td>decilitro</td>\n",
       "      <td>1</td>\n",
       "    </tr>\n",
       "    <tr>\n",
       "      <th>4</th>\n",
       "      <td>g</td>\n",
       "      <td>gamma-GT 67 y las proteínas totales que eran de 5,8 &lt; start &gt; g &lt; end &gt; dl con albúmina de 1.400...</td>\n",
       "      <td>gramo</td>\n",
       "      <td>1</td>\n",
       "    </tr>\n",
       "  </tbody>\n",
       "</table>\n",
       "</div>"
      ],
      "text/plain": [
       "  short_form  \\\n",
       "0         dl   \n",
       "1         dl   \n",
       "2         dl   \n",
       "3         dl   \n",
       "4          g   \n",
       "\n",
       "                                                                                               context  \\\n",
       "0  del líquido una glucorraquia normal , proteinorraquia de 102 mg/ < start > dl < end > 960 célula...   \n",
       "1  que eran de 5,8 g/dl con albúmina de 1.400 mg/ < start > dl < end > El elemental de orina y sedi...   \n",
       "2  67 y las proteínas totales que eran de 5,8 g/ < start > dl < end > con albúmina de 1.400 mg/dl ....   \n",
       "3  las pruebas realizadas destacaba una anemia normocítica ( 9,9 g/ < start > dl < end > de Hb ) , ...   \n",
       "4  gamma-GT 67 y las proteínas totales que eran de 5,8 < start > g < end > dl con albúmina de 1.400...   \n",
       "\n",
       "   long_form  label  \n",
       "0  decilitro      1  \n",
       "1  decilitro      1  \n",
       "2  decilitro      1  \n",
       "3  decilitro      1  \n",
       "4      gramo      1  "
      ]
     },
     "execution_count": 302,
     "metadata": {},
     "output_type": "execute_result"
    }
   ],
   "source": [
    "data_merged.head()"
   ]
  },
  {
   "cell_type": "code",
   "execution_count": 303,
   "metadata": {},
   "outputs": [],
   "source": [
    "data_merged.to_csv('../../data/data_train/train_data_beto_10_allacron_lfnorm_medline.csv')"
   ]
  },
  {
   "cell_type": "markdown",
   "metadata": {
    "jp-MarkdownHeadingCollapsed": true,
    "tags": []
   },
   "source": [
    "## Prepare Dev Data"
   ]
  },
  {
   "cell_type": "markdown",
   "metadata": {
    "tags": []
   },
   "source": [
    "### Preprocessing"
   ]
  },
  {
   "cell_type": "code",
   "execution_count": 153,
   "metadata": {},
   "outputs": [],
   "source": [
    "dev = dev_raw.merge(dev_abbr[['doc_id', 'Abbreviation', 'Definition']], on = 'doc_id', how = 'left')"
   ]
  },
  {
   "cell_type": "code",
   "execution_count": 154,
   "metadata": {},
   "outputs": [],
   "source": [
    "dev = dev.merge(dev_abbr, on = ['doc_id', 'Abbreviation'], how = 'left')"
   ]
  },
  {
   "cell_type": "code",
   "execution_count": 155,
   "metadata": {},
   "outputs": [],
   "source": [
    "dev = dev.drop_duplicates()"
   ]
  },
  {
   "cell_type": "code",
   "execution_count": 156,
   "metadata": {},
   "outputs": [],
   "source": [
    "dev = dev[['doc_id', 'texto', 'Abbreviation', 'Definition_x', 'StartOffset', 'EndOffset']]"
   ]
  },
  {
   "cell_type": "code",
   "execution_count": 157,
   "metadata": {},
   "outputs": [],
   "source": [
    "dev = dev.rename(columns = {'Definition_x':'Definition'})"
   ]
  },
  {
   "cell_type": "code",
   "execution_count": 158,
   "metadata": {},
   "outputs": [
    {
     "data": {
      "text/html": [
       "<div>\n",
       "<style scoped>\n",
       "    .dataframe tbody tr th:only-of-type {\n",
       "        vertical-align: middle;\n",
       "    }\n",
       "\n",
       "    .dataframe tbody tr th {\n",
       "        vertical-align: top;\n",
       "    }\n",
       "\n",
       "    .dataframe thead th {\n",
       "        text-align: right;\n",
       "    }\n",
       "</style>\n",
       "<table border=\"1\" class=\"dataframe\">\n",
       "  <thead>\n",
       "    <tr style=\"text-align: right;\">\n",
       "      <th></th>\n",
       "      <th>doc_id</th>\n",
       "      <th>texto</th>\n",
       "      <th>Abbreviation</th>\n",
       "      <th>Definition</th>\n",
       "      <th>StartOffset</th>\n",
       "      <th>EndOffset</th>\n",
       "    </tr>\n",
       "  </thead>\n",
       "  <tbody>\n",
       "    <tr>\n",
       "      <th>0</th>\n",
       "      <td>S0004-06142008000100008-1</td>\n",
       "      <td>Presentamos el caso de una mujer de 30 años, fumadora de 20 cigarrillos/día y sin otros antecede...</td>\n",
       "      <td>CEA</td>\n",
       "      <td>carcinoembrionary antigen</td>\n",
       "      <td>1796.0</td>\n",
       "      <td>1799.0</td>\n",
       "    </tr>\n",
       "    <tr>\n",
       "      <th>1</th>\n",
       "      <td>S0004-06142008000100008-1</td>\n",
       "      <td>Presentamos el caso de una mujer de 30 años, fumadora de 20 cigarrillos/día y sin otros antecede...</td>\n",
       "      <td>MyO D1</td>\n",
       "      <td>myogenic differentiation 1</td>\n",
       "      <td>1759.0</td>\n",
       "      <td>1765.0</td>\n",
       "    </tr>\n",
       "    <tr>\n",
       "      <th>2</th>\n",
       "      <td>S0004-06142008000100008-1</td>\n",
       "      <td>Presentamos el caso de una mujer de 30 años, fumadora de 20 cigarrillos/día y sin otros antecede...</td>\n",
       "      <td>CAM5.2</td>\n",
       "      <td>anticuerpo monoclonal de cytokeratina 5.2</td>\n",
       "      <td>1526.0</td>\n",
       "      <td>1532.0</td>\n",
       "    </tr>\n",
       "    <tr>\n",
       "      <th>3</th>\n",
       "      <td>S0004-06142008000100008-1</td>\n",
       "      <td>Presentamos el caso de una mujer de 30 años, fumadora de 20 cigarrillos/día y sin otros antecede...</td>\n",
       "      <td>AE1/AE3</td>\n",
       "      <td>anti-pan cytokeratin antibody</td>\n",
       "      <td>1515.0</td>\n",
       "      <td>1522.0</td>\n",
       "    </tr>\n",
       "    <tr>\n",
       "      <th>4</th>\n",
       "      <td>S0004-06142008000100008-1</td>\n",
       "      <td>Presentamos el caso de una mujer de 30 años, fumadora de 20 cigarrillos/día y sin otros antecede...</td>\n",
       "      <td>MIB-1</td>\n",
       "      <td>mindbomb homolog 1</td>\n",
       "      <td>1322.0</td>\n",
       "      <td>1327.0</td>\n",
       "    </tr>\n",
       "  </tbody>\n",
       "</table>\n",
       "</div>"
      ],
      "text/plain": [
       "                      doc_id  \\\n",
       "0  S0004-06142008000100008-1   \n",
       "1  S0004-06142008000100008-1   \n",
       "2  S0004-06142008000100008-1   \n",
       "3  S0004-06142008000100008-1   \n",
       "4  S0004-06142008000100008-1   \n",
       "\n",
       "                                                                                                 texto  \\\n",
       "0  Presentamos el caso de una mujer de 30 años, fumadora de 20 cigarrillos/día y sin otros antecede...   \n",
       "1  Presentamos el caso de una mujer de 30 años, fumadora de 20 cigarrillos/día y sin otros antecede...   \n",
       "2  Presentamos el caso de una mujer de 30 años, fumadora de 20 cigarrillos/día y sin otros antecede...   \n",
       "3  Presentamos el caso de una mujer de 30 años, fumadora de 20 cigarrillos/día y sin otros antecede...   \n",
       "4  Presentamos el caso de una mujer de 30 años, fumadora de 20 cigarrillos/día y sin otros antecede...   \n",
       "\n",
       "  Abbreviation                                 Definition  StartOffset  \\\n",
       "0          CEA                  carcinoembrionary antigen       1796.0   \n",
       "1       MyO D1                 myogenic differentiation 1       1759.0   \n",
       "2       CAM5.2  anticuerpo monoclonal de cytokeratina 5.2       1526.0   \n",
       "3      AE1/AE3              anti-pan cytokeratin antibody       1515.0   \n",
       "4        MIB-1                         mindbomb homolog 1       1322.0   \n",
       "\n",
       "   EndOffset  \n",
       "0     1799.0  \n",
       "1     1765.0  \n",
       "2     1532.0  \n",
       "3     1522.0  \n",
       "4     1327.0  "
      ]
     },
     "execution_count": 158,
     "metadata": {},
     "output_type": "execute_result"
    }
   ],
   "source": [
    "dev.head()"
   ]
  },
  {
   "cell_type": "code",
   "execution_count": 159,
   "metadata": {},
   "outputs": [],
   "source": [
    "dev = dev.rename(columns = {'Abbreviation': 'short_form', 'Definition': 'long_form'})"
   ]
  },
  {
   "cell_type": "code",
   "execution_count": 160,
   "metadata": {},
   "outputs": [],
   "source": [
    "dev = dev.dropna(subset = ['short_form', 'long_form'])"
   ]
  },
  {
   "cell_type": "code",
   "execution_count": 161,
   "metadata": {},
   "outputs": [],
   "source": [
    "dev[['StartOffset', 'EndOffset']] = dev[['StartOffset', 'EndOffset']].astype(int)"
   ]
  },
  {
   "cell_type": "markdown",
   "metadata": {},
   "source": [
    "Clean long forms to delete acents, string punctuation etc"
   ]
  },
  {
   "cell_type": "code",
   "execution_count": 162,
   "metadata": {},
   "outputs": [],
   "source": [
    "dev['long_form'] = dev['long_form'].map(clean_text)"
   ]
  },
  {
   "cell_type": "code",
   "execution_count": 163,
   "metadata": {},
   "outputs": [
    {
     "data": {
      "text/html": [
       "<div>\n",
       "<style scoped>\n",
       "    .dataframe tbody tr th:only-of-type {\n",
       "        vertical-align: middle;\n",
       "    }\n",
       "\n",
       "    .dataframe tbody tr th {\n",
       "        vertical-align: top;\n",
       "    }\n",
       "\n",
       "    .dataframe thead th {\n",
       "        text-align: right;\n",
       "    }\n",
       "</style>\n",
       "<table border=\"1\" class=\"dataframe\">\n",
       "  <thead>\n",
       "    <tr style=\"text-align: right;\">\n",
       "      <th></th>\n",
       "      <th>doc_id</th>\n",
       "      <th>texto</th>\n",
       "      <th>short_form</th>\n",
       "      <th>long_form</th>\n",
       "      <th>StartOffset</th>\n",
       "      <th>EndOffset</th>\n",
       "    </tr>\n",
       "  </thead>\n",
       "  <tbody>\n",
       "    <tr>\n",
       "      <th>0</th>\n",
       "      <td>S0004-06142008000100008-1</td>\n",
       "      <td>Presentamos el caso de una mujer de 30 años, fumadora de 20 cigarrillos/día y sin otros antecede...</td>\n",
       "      <td>CEA</td>\n",
       "      <td>carcinoembrionary antigen</td>\n",
       "      <td>1796</td>\n",
       "      <td>1799</td>\n",
       "    </tr>\n",
       "    <tr>\n",
       "      <th>1</th>\n",
       "      <td>S0004-06142008000100008-1</td>\n",
       "      <td>Presentamos el caso de una mujer de 30 años, fumadora de 20 cigarrillos/día y sin otros antecede...</td>\n",
       "      <td>MyO D1</td>\n",
       "      <td>myogenic differentiation 1</td>\n",
       "      <td>1759</td>\n",
       "      <td>1765</td>\n",
       "    </tr>\n",
       "    <tr>\n",
       "      <th>2</th>\n",
       "      <td>S0004-06142008000100008-1</td>\n",
       "      <td>Presentamos el caso de una mujer de 30 años, fumadora de 20 cigarrillos/día y sin otros antecede...</td>\n",
       "      <td>CAM5.2</td>\n",
       "      <td>anticuerpo monoclonal cytokeratina 52</td>\n",
       "      <td>1526</td>\n",
       "      <td>1532</td>\n",
       "    </tr>\n",
       "  </tbody>\n",
       "</table>\n",
       "</div>"
      ],
      "text/plain": [
       "                      doc_id  \\\n",
       "0  S0004-06142008000100008-1   \n",
       "1  S0004-06142008000100008-1   \n",
       "2  S0004-06142008000100008-1   \n",
       "\n",
       "                                                                                                 texto  \\\n",
       "0  Presentamos el caso de una mujer de 30 años, fumadora de 20 cigarrillos/día y sin otros antecede...   \n",
       "1  Presentamos el caso de una mujer de 30 años, fumadora de 20 cigarrillos/día y sin otros antecede...   \n",
       "2  Presentamos el caso de una mujer de 30 años, fumadora de 20 cigarrillos/día y sin otros antecede...   \n",
       "\n",
       "  short_form                              long_form  StartOffset  EndOffset  \n",
       "0        CEA              carcinoembrionary antigen         1796       1799  \n",
       "1     MyO D1             myogenic differentiation 1         1759       1765  \n",
       "2     CAM5.2  anticuerpo monoclonal cytokeratina 52         1526       1532  "
      ]
     },
     "execution_count": 163,
     "metadata": {},
     "output_type": "execute_result"
    }
   ],
   "source": [
    "dev.head(3)"
   ]
  },
  {
   "cell_type": "markdown",
   "metadata": {},
   "source": [
    "### Normalize long forms"
   ]
  },
  {
   "cell_type": "code",
   "execution_count": 164,
   "metadata": {},
   "outputs": [],
   "source": [
    "sf_lf = dev[['short_form', 'long_form']].drop_duplicates()"
   ]
  },
  {
   "cell_type": "code",
   "execution_count": 165,
   "metadata": {},
   "outputs": [
    {
     "data": {
      "text/html": [
       "<div>\n",
       "<style scoped>\n",
       "    .dataframe tbody tr th:only-of-type {\n",
       "        vertical-align: middle;\n",
       "    }\n",
       "\n",
       "    .dataframe tbody tr th {\n",
       "        vertical-align: top;\n",
       "    }\n",
       "\n",
       "    .dataframe thead th {\n",
       "        text-align: right;\n",
       "    }\n",
       "</style>\n",
       "<table border=\"1\" class=\"dataframe\">\n",
       "  <thead>\n",
       "    <tr style=\"text-align: right;\">\n",
       "      <th></th>\n",
       "      <th>short_form</th>\n",
       "      <th>long_form</th>\n",
       "    </tr>\n",
       "  </thead>\n",
       "  <tbody>\n",
       "    <tr>\n",
       "      <th>0</th>\n",
       "      <td>CEA</td>\n",
       "      <td>carcinoembrionary antigen</td>\n",
       "    </tr>\n",
       "    <tr>\n",
       "      <th>1</th>\n",
       "      <td>MyO D1</td>\n",
       "      <td>myogenic differentiation 1</td>\n",
       "    </tr>\n",
       "    <tr>\n",
       "      <th>2</th>\n",
       "      <td>CAM5.2</td>\n",
       "      <td>anticuerpo monoclonal cytokeratina 52</td>\n",
       "    </tr>\n",
       "    <tr>\n",
       "      <th>3</th>\n",
       "      <td>AE1/AE3</td>\n",
       "      <td>antipan cytokeratin antibody</td>\n",
       "    </tr>\n",
       "    <tr>\n",
       "      <th>4</th>\n",
       "      <td>MIB-1</td>\n",
       "      <td>mindbomb homolog 1</td>\n",
       "    </tr>\n",
       "  </tbody>\n",
       "</table>\n",
       "</div>"
      ],
      "text/plain": [
       "  short_form                              long_form\n",
       "0        CEA              carcinoembrionary antigen\n",
       "1     MyO D1             myogenic differentiation 1\n",
       "2     CAM5.2  anticuerpo monoclonal cytokeratina 52\n",
       "3    AE1/AE3           antipan cytokeratin antibody\n",
       "4      MIB-1                     mindbomb homolog 1"
      ]
     },
     "execution_count": 165,
     "metadata": {},
     "output_type": "execute_result"
    }
   ],
   "source": [
    "sf_lf.head()"
   ]
  },
  {
   "cell_type": "code",
   "execution_count": 166,
   "metadata": {},
   "outputs": [
    {
     "data": {
      "text/html": [
       "<div>\n",
       "<style scoped>\n",
       "    .dataframe tbody tr th:only-of-type {\n",
       "        vertical-align: middle;\n",
       "    }\n",
       "\n",
       "    .dataframe tbody tr th {\n",
       "        vertical-align: top;\n",
       "    }\n",
       "\n",
       "    .dataframe thead th {\n",
       "        text-align: right;\n",
       "    }\n",
       "</style>\n",
       "<table border=\"1\" class=\"dataframe\">\n",
       "  <thead>\n",
       "    <tr style=\"text-align: right;\">\n",
       "      <th></th>\n",
       "      <th>short_form</th>\n",
       "      <th>long_form</th>\n",
       "      <th>len</th>\n",
       "    </tr>\n",
       "  </thead>\n",
       "  <tbody>\n",
       "    <tr>\n",
       "      <th>291</th>\n",
       "      <td>T</td>\n",
       "      <td>[temperatura, thymine, onda t]</td>\n",
       "      <td>3</td>\n",
       "    </tr>\n",
       "    <tr>\n",
       "      <th>183</th>\n",
       "      <td>L</td>\n",
       "      <td>[linfocito, litro, leucocito]</td>\n",
       "      <td>3</td>\n",
       "    </tr>\n",
       "    <tr>\n",
       "      <th>125</th>\n",
       "      <td>G</td>\n",
       "      <td>[gauge, guanine]</td>\n",
       "      <td>2</td>\n",
       "    </tr>\n",
       "    <tr>\n",
       "      <th>43</th>\n",
       "      <td>C3</td>\n",
       "      <td>[tercera vertebra cervical, componente 3 complemento]</td>\n",
       "      <td>2</td>\n",
       "    </tr>\n",
       "    <tr>\n",
       "      <th>107</th>\n",
       "      <td>EPR</td>\n",
       "      <td>[epitelio pigmentario retina, epitelio pigmentario retiniano]</td>\n",
       "      <td>2</td>\n",
       "    </tr>\n",
       "    <tr>\n",
       "      <th>...</th>\n",
       "      <td>...</td>\n",
       "      <td>...</td>\n",
       "      <td>...</td>\n",
       "    </tr>\n",
       "    <tr>\n",
       "      <th>155</th>\n",
       "      <td>HV</td>\n",
       "      <td>[hisventriculo]</td>\n",
       "      <td>1</td>\n",
       "    </tr>\n",
       "    <tr>\n",
       "      <th>154</th>\n",
       "      <td>HTA</td>\n",
       "      <td>[hipertension arterial]</td>\n",
       "      <td>1</td>\n",
       "    </tr>\n",
       "    <tr>\n",
       "      <th>153</th>\n",
       "      <td>HPP</td>\n",
       "      <td>[hipertension pulmonar]</td>\n",
       "      <td>1</td>\n",
       "    </tr>\n",
       "    <tr>\n",
       "      <th>152</th>\n",
       "      <td>HPN</td>\n",
       "      <td>[hemoglobinuria paroxistica nocturna]</td>\n",
       "      <td>1</td>\n",
       "    </tr>\n",
       "    <tr>\n",
       "      <th>460</th>\n",
       "      <td>μmol</td>\n",
       "      <td>[micromol]</td>\n",
       "      <td>1</td>\n",
       "    </tr>\n",
       "  </tbody>\n",
       "</table>\n",
       "<p>461 rows × 3 columns</p>\n",
       "</div>"
      ],
      "text/plain": [
       "    short_form                                                      long_form  \\\n",
       "291          T                                 [temperatura, thymine, onda t]   \n",
       "183          L                                  [linfocito, litro, leucocito]   \n",
       "125          G                                               [gauge, guanine]   \n",
       "43          C3          [tercera vertebra cervical, componente 3 complemento]   \n",
       "107        EPR  [epitelio pigmentario retina, epitelio pigmentario retiniano]   \n",
       "..         ...                                                            ...   \n",
       "155         HV                                                [hisventriculo]   \n",
       "154        HTA                                        [hipertension arterial]   \n",
       "153        HPP                                        [hipertension pulmonar]   \n",
       "152        HPN                          [hemoglobinuria paroxistica nocturna]   \n",
       "460       μmol                                                     [micromol]   \n",
       "\n",
       "     len  \n",
       "291    3  \n",
       "183    3  \n",
       "125    2  \n",
       "43     2  \n",
       "107    2  \n",
       "..   ...  \n",
       "155    1  \n",
       "154    1  \n",
       "153    1  \n",
       "152    1  \n",
       "460    1  \n",
       "\n",
       "[461 rows x 3 columns]"
      ]
     },
     "execution_count": 166,
     "metadata": {},
     "output_type": "execute_result"
    }
   ],
   "source": [
    "sf_lf_list = sf_lf.groupby('short_form', as_index=False).agg({'long_form': list})\n",
    "sf_lf_list['len'] = sf_lf_list['long_form'].map(lambda x: len(x))\n",
    "sf_lf_list.sort_values('len', ascending = False)"
   ]
  },
  {
   "cell_type": "code",
   "execution_count": 167,
   "metadata": {
    "tags": []
   },
   "outputs": [
    {
     "data": {
      "text/plain": [
       "Text(0, 0.5, 'Count')"
      ]
     },
     "execution_count": 167,
     "metadata": {},
     "output_type": "execute_result"
    },
    {
     "data": {
      "image/png": "[encoded data removed]",
      "text/plain": [
       "<Figure size 432x288 with 1 Axes>"
      ]
     },
     "metadata": {
      "needs_background": "light"
     },
     "output_type": "display_data"
    }
   ],
   "source": [
    "table = pd.crosstab(sf_lf_list['len'], columns = 'Count')\n",
    "table.plot.bar(legend = None)\n",
    "plt.xlabel(\"Definiciones por acrónimo\")\n",
    "plt.ylabel(\"Count\")\n",
    "#plt.show()\n",
    "#plt.savefig('data/acron_count.png')"
   ]
  },
  {
   "cell_type": "code",
   "execution_count": 168,
   "metadata": {},
   "outputs": [
    {
     "data": {
      "text/html": [
       "<div>\n",
       "<style scoped>\n",
       "    .dataframe tbody tr th:only-of-type {\n",
       "        vertical-align: middle;\n",
       "    }\n",
       "\n",
       "    .dataframe tbody tr th {\n",
       "        vertical-align: top;\n",
       "    }\n",
       "\n",
       "    .dataframe thead th {\n",
       "        text-align: right;\n",
       "    }\n",
       "</style>\n",
       "<table border=\"1\" class=\"dataframe\">\n",
       "  <thead>\n",
       "    <tr style=\"text-align: right;\">\n",
       "      <th>col_0</th>\n",
       "      <th>Count</th>\n",
       "    </tr>\n",
       "    <tr>\n",
       "      <th>len</th>\n",
       "      <th></th>\n",
       "    </tr>\n",
       "  </thead>\n",
       "  <tbody>\n",
       "    <tr>\n",
       "      <th>1</th>\n",
       "      <td>435</td>\n",
       "    </tr>\n",
       "    <tr>\n",
       "      <th>2</th>\n",
       "      <td>24</td>\n",
       "    </tr>\n",
       "    <tr>\n",
       "      <th>3</th>\n",
       "      <td>2</td>\n",
       "    </tr>\n",
       "  </tbody>\n",
       "</table>\n",
       "</div>"
      ],
      "text/plain": [
       "col_0  Count\n",
       "len         \n",
       "1        435\n",
       "2         24\n",
       "3          2"
      ]
     },
     "execution_count": 168,
     "metadata": {},
     "output_type": "execute_result"
    }
   ],
   "source": [
    "table = pd.crosstab(sf_lf_list['len'], columns = 'Count')\n",
    "table"
   ]
  },
  {
   "cell_type": "markdown",
   "metadata": {},
   "source": [
    "#### Apply Levenshtein distance to normalize Long Forms"
   ]
  },
  {
   "cell_type": "markdown",
   "metadata": {},
   "source": [
    "Get more frequent lf per sf"
   ]
  },
  {
   "cell_type": "code",
   "execution_count": 169,
   "metadata": {},
   "outputs": [
    {
     "data": {
      "text/html": [
       "<div>\n",
       "<style scoped>\n",
       "    .dataframe tbody tr th:only-of-type {\n",
       "        vertical-align: middle;\n",
       "    }\n",
       "\n",
       "    .dataframe tbody tr th {\n",
       "        vertical-align: top;\n",
       "    }\n",
       "\n",
       "    .dataframe thead th {\n",
       "        text-align: right;\n",
       "    }\n",
       "</style>\n",
       "<table border=\"1\" class=\"dataframe\">\n",
       "  <thead>\n",
       "    <tr style=\"text-align: right;\">\n",
       "      <th></th>\n",
       "      <th>index</th>\n",
       "      <th>long_form</th>\n",
       "    </tr>\n",
       "  </thead>\n",
       "  <tbody>\n",
       "    <tr>\n",
       "      <th>0</th>\n",
       "      <td>miligramo</td>\n",
       "      <td>164</td>\n",
       "    </tr>\n",
       "    <tr>\n",
       "      <th>1</th>\n",
       "      <td>centimetro</td>\n",
       "      <td>110</td>\n",
       "    </tr>\n",
       "    <tr>\n",
       "      <th>2</th>\n",
       "      <td>litro</td>\n",
       "      <td>96</td>\n",
       "    </tr>\n",
       "    <tr>\n",
       "      <th>3</th>\n",
       "      <td>mililitro</td>\n",
       "      <td>88</td>\n",
       "    </tr>\n",
       "    <tr>\n",
       "      <th>4</th>\n",
       "      <td>decilitro</td>\n",
       "      <td>69</td>\n",
       "    </tr>\n",
       "    <tr>\n",
       "      <th>...</th>\n",
       "      <td>...</td>\n",
       "      <td>...</td>\n",
       "    </tr>\n",
       "    <tr>\n",
       "      <th>433</th>\n",
       "      <td>tiempo parcial tromboplastina activada</td>\n",
       "      <td>1</td>\n",
       "    </tr>\n",
       "    <tr>\n",
       "      <th>434</th>\n",
       "      <td>leucocito</td>\n",
       "      <td>1</td>\n",
       "    </tr>\n",
       "    <tr>\n",
       "      <th>435</th>\n",
       "      <td>basofilo</td>\n",
       "      <td>1</td>\n",
       "    </tr>\n",
       "    <tr>\n",
       "      <th>436</th>\n",
       "      <td>adenina adenina guanina timina</td>\n",
       "      <td>1</td>\n",
       "    </tr>\n",
       "    <tr>\n",
       "      <th>437</th>\n",
       "      <td>highpower field</td>\n",
       "      <td>1</td>\n",
       "    </tr>\n",
       "  </tbody>\n",
       "</table>\n",
       "<p>438 rows × 2 columns</p>\n",
       "</div>"
      ],
      "text/plain": [
       "                                      index  long_form\n",
       "0                                 miligramo        164\n",
       "1                                centimetro        110\n",
       "2                                     litro         96\n",
       "3                                 mililitro         88\n",
       "4                                 decilitro         69\n",
       "..                                      ...        ...\n",
       "433  tiempo parcial tromboplastina activada          1\n",
       "434                               leucocito          1\n",
       "435                                basofilo          1\n",
       "436          adenina adenina guanina timina          1\n",
       "437                         highpower field          1\n",
       "\n",
       "[438 rows x 2 columns]"
      ]
     },
     "execution_count": 169,
     "metadata": {},
     "output_type": "execute_result"
    }
   ],
   "source": [
    "frec = dev['long_form'].value_counts().reset_index()\n",
    "frec"
   ]
  },
  {
   "cell_type": "markdown",
   "metadata": {},
   "source": [
    "Create a dictionary where keys are the lf to normalize and the values the normalized form"
   ]
  },
  {
   "cell_type": "code",
   "execution_count": 170,
   "metadata": {},
   "outputs": [],
   "source": [
    "norm = []\n",
    "for i in sf_lf_list['long_form']:\n",
    "    norm.append(normalize_lf(i))"
   ]
  },
  {
   "cell_type": "code",
   "execution_count": 171,
   "metadata": {},
   "outputs": [],
   "source": [
    "norm = [i for i in norm if i != None]"
   ]
  },
  {
   "cell_type": "code",
   "execution_count": 172,
   "metadata": {
    "tags": []
   },
   "outputs": [],
   "source": [
    "norm_dict = {}\n",
    "for i in norm:\n",
    "    norm_dict.update(i)\n",
    "#norm_dict"
   ]
  },
  {
   "cell_type": "markdown",
   "metadata": {},
   "source": [
    "Finally normalize long forms over the dataframe"
   ]
  },
  {
   "cell_type": "code",
   "execution_count": 173,
   "metadata": {},
   "outputs": [
    {
     "data": {
      "text/html": [
       "<div>\n",
       "<style scoped>\n",
       "    .dataframe tbody tr th:only-of-type {\n",
       "        vertical-align: middle;\n",
       "    }\n",
       "\n",
       "    .dataframe tbody tr th {\n",
       "        vertical-align: top;\n",
       "    }\n",
       "\n",
       "    .dataframe thead th {\n",
       "        text-align: right;\n",
       "    }\n",
       "</style>\n",
       "<table border=\"1\" class=\"dataframe\">\n",
       "  <thead>\n",
       "    <tr style=\"text-align: right;\">\n",
       "      <th></th>\n",
       "      <th>doc_id</th>\n",
       "      <th>texto</th>\n",
       "      <th>short_form</th>\n",
       "      <th>long_form</th>\n",
       "      <th>StartOffset</th>\n",
       "      <th>EndOffset</th>\n",
       "    </tr>\n",
       "  </thead>\n",
       "  <tbody>\n",
       "    <tr>\n",
       "      <th>0</th>\n",
       "      <td>S0004-06142008000100008-1</td>\n",
       "      <td>Presentamos el caso de una mujer de 30 años, fumadora de 20 cigarrillos/día y sin otros antecede...</td>\n",
       "      <td>CEA</td>\n",
       "      <td>carcinoembrionary antigen</td>\n",
       "      <td>1796</td>\n",
       "      <td>1799</td>\n",
       "    </tr>\n",
       "    <tr>\n",
       "      <th>1</th>\n",
       "      <td>S0004-06142008000100008-1</td>\n",
       "      <td>Presentamos el caso de una mujer de 30 años, fumadora de 20 cigarrillos/día y sin otros antecede...</td>\n",
       "      <td>MyO D1</td>\n",
       "      <td>myogenic differentiation 1</td>\n",
       "      <td>1759</td>\n",
       "      <td>1765</td>\n",
       "    </tr>\n",
       "    <tr>\n",
       "      <th>2</th>\n",
       "      <td>S0004-06142008000100008-1</td>\n",
       "      <td>Presentamos el caso de una mujer de 30 años, fumadora de 20 cigarrillos/día y sin otros antecede...</td>\n",
       "      <td>CAM5.2</td>\n",
       "      <td>anticuerpo monoclonal cytokeratina 52</td>\n",
       "      <td>1526</td>\n",
       "      <td>1532</td>\n",
       "    </tr>\n",
       "    <tr>\n",
       "      <th>3</th>\n",
       "      <td>S0004-06142008000100008-1</td>\n",
       "      <td>Presentamos el caso de una mujer de 30 años, fumadora de 20 cigarrillos/día y sin otros antecede...</td>\n",
       "      <td>AE1/AE3</td>\n",
       "      <td>antipan cytokeratin antibody</td>\n",
       "      <td>1515</td>\n",
       "      <td>1522</td>\n",
       "    </tr>\n",
       "    <tr>\n",
       "      <th>4</th>\n",
       "      <td>S0004-06142008000100008-1</td>\n",
       "      <td>Presentamos el caso de una mujer de 30 años, fumadora de 20 cigarrillos/día y sin otros antecede...</td>\n",
       "      <td>MIB-1</td>\n",
       "      <td>mindbomb homolog 1</td>\n",
       "      <td>1322</td>\n",
       "      <td>1327</td>\n",
       "    </tr>\n",
       "  </tbody>\n",
       "</table>\n",
       "</div>"
      ],
      "text/plain": [
       "                      doc_id  \\\n",
       "0  S0004-06142008000100008-1   \n",
       "1  S0004-06142008000100008-1   \n",
       "2  S0004-06142008000100008-1   \n",
       "3  S0004-06142008000100008-1   \n",
       "4  S0004-06142008000100008-1   \n",
       "\n",
       "                                                                                                 texto  \\\n",
       "0  Presentamos el caso de una mujer de 30 años, fumadora de 20 cigarrillos/día y sin otros antecede...   \n",
       "1  Presentamos el caso de una mujer de 30 años, fumadora de 20 cigarrillos/día y sin otros antecede...   \n",
       "2  Presentamos el caso de una mujer de 30 años, fumadora de 20 cigarrillos/día y sin otros antecede...   \n",
       "3  Presentamos el caso de una mujer de 30 años, fumadora de 20 cigarrillos/día y sin otros antecede...   \n",
       "4  Presentamos el caso de una mujer de 30 años, fumadora de 20 cigarrillos/día y sin otros antecede...   \n",
       "\n",
       "  short_form                              long_form  StartOffset  EndOffset  \n",
       "0        CEA              carcinoembrionary antigen         1796       1799  \n",
       "1     MyO D1             myogenic differentiation 1         1759       1765  \n",
       "2     CAM5.2  anticuerpo monoclonal cytokeratina 52         1526       1532  \n",
       "3    AE1/AE3           antipan cytokeratin antibody         1515       1522  \n",
       "4      MIB-1                     mindbomb homolog 1         1322       1327  "
      ]
     },
     "execution_count": 173,
     "metadata": {},
     "output_type": "execute_result"
    }
   ],
   "source": [
    "dev.head()"
   ]
  },
  {
   "cell_type": "code",
   "execution_count": 174,
   "metadata": {},
   "outputs": [],
   "source": [
    "dev = dev.replace({\"long_form\": norm_dict})"
   ]
  },
  {
   "cell_type": "markdown",
   "metadata": {},
   "source": [
    "Check that deffinitions have been normalized"
   ]
  },
  {
   "cell_type": "code",
   "execution_count": 175,
   "metadata": {},
   "outputs": [
    {
     "data": {
      "text/html": [
       "<div>\n",
       "<style scoped>\n",
       "    .dataframe tbody tr th:only-of-type {\n",
       "        vertical-align: middle;\n",
       "    }\n",
       "\n",
       "    .dataframe tbody tr th {\n",
       "        vertical-align: top;\n",
       "    }\n",
       "\n",
       "    .dataframe thead th {\n",
       "        text-align: right;\n",
       "    }\n",
       "</style>\n",
       "<table border=\"1\" class=\"dataframe\">\n",
       "  <thead>\n",
       "    <tr style=\"text-align: right;\">\n",
       "      <th></th>\n",
       "      <th>doc_id</th>\n",
       "      <th>texto</th>\n",
       "      <th>short_form</th>\n",
       "      <th>long_form</th>\n",
       "      <th>StartOffset</th>\n",
       "      <th>EndOffset</th>\n",
       "    </tr>\n",
       "  </thead>\n",
       "  <tbody>\n",
       "    <tr>\n",
       "      <th>0</th>\n",
       "      <td>S0004-06142008000100008-1</td>\n",
       "      <td>Presentamos el caso de una mujer de 30 años, fumadora de 20 cigarrillos/día y sin otros antecede...</td>\n",
       "      <td>CEA</td>\n",
       "      <td>carcinoembrionary antigen</td>\n",
       "      <td>1796</td>\n",
       "      <td>1799</td>\n",
       "    </tr>\n",
       "    <tr>\n",
       "      <th>1</th>\n",
       "      <td>S0004-06142008000100008-1</td>\n",
       "      <td>Presentamos el caso de una mujer de 30 años, fumadora de 20 cigarrillos/día y sin otros antecede...</td>\n",
       "      <td>MyO D1</td>\n",
       "      <td>myogenic differentiation 1</td>\n",
       "      <td>1759</td>\n",
       "      <td>1765</td>\n",
       "    </tr>\n",
       "    <tr>\n",
       "      <th>2</th>\n",
       "      <td>S0004-06142008000100008-1</td>\n",
       "      <td>Presentamos el caso de una mujer de 30 años, fumadora de 20 cigarrillos/día y sin otros antecede...</td>\n",
       "      <td>CAM5.2</td>\n",
       "      <td>anticuerpo monoclonal cytokeratina 52</td>\n",
       "      <td>1526</td>\n",
       "      <td>1532</td>\n",
       "    </tr>\n",
       "    <tr>\n",
       "      <th>3</th>\n",
       "      <td>S0004-06142008000100008-1</td>\n",
       "      <td>Presentamos el caso de una mujer de 30 años, fumadora de 20 cigarrillos/día y sin otros antecede...</td>\n",
       "      <td>AE1/AE3</td>\n",
       "      <td>antipan cytokeratin antibody</td>\n",
       "      <td>1515</td>\n",
       "      <td>1522</td>\n",
       "    </tr>\n",
       "    <tr>\n",
       "      <th>4</th>\n",
       "      <td>S0004-06142008000100008-1</td>\n",
       "      <td>Presentamos el caso de una mujer de 30 años, fumadora de 20 cigarrillos/día y sin otros antecede...</td>\n",
       "      <td>MIB-1</td>\n",
       "      <td>mindbomb homolog 1</td>\n",
       "      <td>1322</td>\n",
       "      <td>1327</td>\n",
       "    </tr>\n",
       "  </tbody>\n",
       "</table>\n",
       "</div>"
      ],
      "text/plain": [
       "                      doc_id  \\\n",
       "0  S0004-06142008000100008-1   \n",
       "1  S0004-06142008000100008-1   \n",
       "2  S0004-06142008000100008-1   \n",
       "3  S0004-06142008000100008-1   \n",
       "4  S0004-06142008000100008-1   \n",
       "\n",
       "                                                                                                 texto  \\\n",
       "0  Presentamos el caso de una mujer de 30 años, fumadora de 20 cigarrillos/día y sin otros antecede...   \n",
       "1  Presentamos el caso de una mujer de 30 años, fumadora de 20 cigarrillos/día y sin otros antecede...   \n",
       "2  Presentamos el caso de una mujer de 30 años, fumadora de 20 cigarrillos/día y sin otros antecede...   \n",
       "3  Presentamos el caso de una mujer de 30 años, fumadora de 20 cigarrillos/día y sin otros antecede...   \n",
       "4  Presentamos el caso de una mujer de 30 años, fumadora de 20 cigarrillos/día y sin otros antecede...   \n",
       "\n",
       "  short_form                              long_form  StartOffset  EndOffset  \n",
       "0        CEA              carcinoembrionary antigen         1796       1799  \n",
       "1     MyO D1             myogenic differentiation 1         1759       1765  \n",
       "2     CAM5.2  anticuerpo monoclonal cytokeratina 52         1526       1532  \n",
       "3    AE1/AE3           antipan cytokeratin antibody         1515       1522  \n",
       "4      MIB-1                     mindbomb homolog 1         1322       1327  "
      ]
     },
     "execution_count": 175,
     "metadata": {},
     "output_type": "execute_result"
    }
   ],
   "source": [
    "dev.head()"
   ]
  },
  {
   "cell_type": "markdown",
   "metadata": {},
   "source": [
    "### Get just ambigous acronyms"
   ]
  },
  {
   "cell_type": "markdown",
   "metadata": {},
   "source": [
    "Execute this code just in case only ambigous acronyms are needed."
   ]
  },
  {
   "cell_type": "code",
   "execution_count": 176,
   "metadata": {},
   "outputs": [],
   "source": [
    "#amb = train.groupby('short_form')['long_form'].nunique().reset_index().sort_values('long_form', ascending = False)"
   ]
  },
  {
   "cell_type": "code",
   "execution_count": 177,
   "metadata": {},
   "outputs": [],
   "source": [
    "#amb.head()"
   ]
  },
  {
   "cell_type": "code",
   "execution_count": 178,
   "metadata": {},
   "outputs": [],
   "source": [
    "#table = pd.crosstab(amb['long_form'], columns = 'Count')\n",
    "#table.plot.bar()\n",
    "#plt.show()"
   ]
  },
  {
   "cell_type": "code",
   "execution_count": 179,
   "metadata": {},
   "outputs": [],
   "source": [
    "#defin = amb[amb['long_form'] != 1]['short_form'].values.tolist()"
   ]
  },
  {
   "cell_type": "code",
   "execution_count": 180,
   "metadata": {},
   "outputs": [],
   "source": [
    "#train.shape"
   ]
  },
  {
   "cell_type": "code",
   "execution_count": 181,
   "metadata": {},
   "outputs": [],
   "source": [
    "#train = train[train['short_form'].isin(defin)]"
   ]
  },
  {
   "cell_type": "code",
   "execution_count": 182,
   "metadata": {},
   "outputs": [],
   "source": [
    "#train.shape"
   ]
  },
  {
   "cell_type": "markdown",
   "metadata": {},
   "source": [
    "### Add texts from Medline"
   ]
  },
  {
   "cell_type": "markdown",
   "metadata": {},
   "source": [
    "Some long forms are imbalanced. Texts from Medline are added to improve balance."
   ]
  },
  {
   "cell_type": "code",
   "execution_count": 183,
   "metadata": {},
   "outputs": [
    {
     "data": {
      "text/html": [
       "<div>\n",
       "<style scoped>\n",
       "    .dataframe tbody tr th:only-of-type {\n",
       "        vertical-align: middle;\n",
       "    }\n",
       "\n",
       "    .dataframe tbody tr th {\n",
       "        vertical-align: top;\n",
       "    }\n",
       "\n",
       "    .dataframe thead th {\n",
       "        text-align: right;\n",
       "    }\n",
       "</style>\n",
       "<table border=\"1\" class=\"dataframe\">\n",
       "  <thead>\n",
       "    <tr style=\"text-align: right;\">\n",
       "      <th></th>\n",
       "      <th>doc_id</th>\n",
       "      <th>texto</th>\n",
       "      <th>short_form</th>\n",
       "      <th>long_form</th>\n",
       "      <th>StartOffset</th>\n",
       "      <th>EndOffset</th>\n",
       "    </tr>\n",
       "  </thead>\n",
       "  <tbody>\n",
       "    <tr>\n",
       "      <th>0</th>\n",
       "      <td>S0004-06142008000100008-1</td>\n",
       "      <td>Presentamos el caso de una mujer de 30 años, fumadora de 20 cigarrillos/día y sin otros antecede...</td>\n",
       "      <td>CEA</td>\n",
       "      <td>carcinoembrionary antigen</td>\n",
       "      <td>1796</td>\n",
       "      <td>1799</td>\n",
       "    </tr>\n",
       "    <tr>\n",
       "      <th>1</th>\n",
       "      <td>S0004-06142008000100008-1</td>\n",
       "      <td>Presentamos el caso de una mujer de 30 años, fumadora de 20 cigarrillos/día y sin otros antecede...</td>\n",
       "      <td>MyO D1</td>\n",
       "      <td>myogenic differentiation 1</td>\n",
       "      <td>1759</td>\n",
       "      <td>1765</td>\n",
       "    </tr>\n",
       "    <tr>\n",
       "      <th>2</th>\n",
       "      <td>S0004-06142008000100008-1</td>\n",
       "      <td>Presentamos el caso de una mujer de 30 años, fumadora de 20 cigarrillos/día y sin otros antecede...</td>\n",
       "      <td>CAM5.2</td>\n",
       "      <td>anticuerpo monoclonal cytokeratina 52</td>\n",
       "      <td>1526</td>\n",
       "      <td>1532</td>\n",
       "    </tr>\n",
       "    <tr>\n",
       "      <th>3</th>\n",
       "      <td>S0004-06142008000100008-1</td>\n",
       "      <td>Presentamos el caso de una mujer de 30 años, fumadora de 20 cigarrillos/día y sin otros antecede...</td>\n",
       "      <td>AE1/AE3</td>\n",
       "      <td>antipan cytokeratin antibody</td>\n",
       "      <td>1515</td>\n",
       "      <td>1522</td>\n",
       "    </tr>\n",
       "    <tr>\n",
       "      <th>4</th>\n",
       "      <td>S0004-06142008000100008-1</td>\n",
       "      <td>Presentamos el caso de una mujer de 30 años, fumadora de 20 cigarrillos/día y sin otros antecede...</td>\n",
       "      <td>MIB-1</td>\n",
       "      <td>mindbomb homolog 1</td>\n",
       "      <td>1322</td>\n",
       "      <td>1327</td>\n",
       "    </tr>\n",
       "  </tbody>\n",
       "</table>\n",
       "</div>"
      ],
      "text/plain": [
       "                      doc_id  \\\n",
       "0  S0004-06142008000100008-1   \n",
       "1  S0004-06142008000100008-1   \n",
       "2  S0004-06142008000100008-1   \n",
       "3  S0004-06142008000100008-1   \n",
       "4  S0004-06142008000100008-1   \n",
       "\n",
       "                                                                                                 texto  \\\n",
       "0  Presentamos el caso de una mujer de 30 años, fumadora de 20 cigarrillos/día y sin otros antecede...   \n",
       "1  Presentamos el caso de una mujer de 30 años, fumadora de 20 cigarrillos/día y sin otros antecede...   \n",
       "2  Presentamos el caso de una mujer de 30 años, fumadora de 20 cigarrillos/día y sin otros antecede...   \n",
       "3  Presentamos el caso de una mujer de 30 años, fumadora de 20 cigarrillos/día y sin otros antecede...   \n",
       "4  Presentamos el caso de una mujer de 30 años, fumadora de 20 cigarrillos/día y sin otros antecede...   \n",
       "\n",
       "  short_form                              long_form  StartOffset  EndOffset  \n",
       "0        CEA              carcinoembrionary antigen         1796       1799  \n",
       "1     MyO D1             myogenic differentiation 1         1759       1765  \n",
       "2     CAM5.2  anticuerpo monoclonal cytokeratina 52         1526       1532  \n",
       "3    AE1/AE3           antipan cytokeratin antibody         1515       1522  \n",
       "4      MIB-1                     mindbomb homolog 1         1322       1327  "
      ]
     },
     "execution_count": 183,
     "metadata": {},
     "output_type": "execute_result"
    }
   ],
   "source": [
    "dev.head()"
   ]
  },
  {
   "cell_type": "markdown",
   "metadata": {},
   "source": [
    "Study imbalaced long forms. Number of rows for each different definition. We can see mostly long forms have just one row."
   ]
  },
  {
   "cell_type": "code",
   "execution_count": 184,
   "metadata": {},
   "outputs": [],
   "source": [
    "frec2 = dev['long_form'].value_counts().reset_index()"
   ]
  },
  {
   "cell_type": "code",
   "execution_count": 185,
   "metadata": {},
   "outputs": [
    {
     "data": {
      "text/plain": [
       "434"
      ]
     },
     "execution_count": 185,
     "metadata": {},
     "output_type": "execute_result"
    }
   ],
   "source": [
    "dev.long_form.nunique()"
   ]
  },
  {
   "cell_type": "code",
   "execution_count": 186,
   "metadata": {},
   "outputs": [
    {
     "data": {
      "text/plain": [
       "(1062, 2)"
      ]
     },
     "execution_count": 186,
     "metadata": {},
     "output_type": "execute_result"
    }
   ],
   "source": [
    "dev[['doc_id','long_form']].drop_duplicates().shape"
   ]
  },
  {
   "cell_type": "code",
   "execution_count": 187,
   "metadata": {},
   "outputs": [
    {
     "data": {
      "text/html": [
       "<div>\n",
       "<style scoped>\n",
       "    .dataframe tbody tr th:only-of-type {\n",
       "        vertical-align: middle;\n",
       "    }\n",
       "\n",
       "    .dataframe tbody tr th {\n",
       "        vertical-align: top;\n",
       "    }\n",
       "\n",
       "    .dataframe thead th {\n",
       "        text-align: right;\n",
       "    }\n",
       "</style>\n",
       "<table border=\"1\" class=\"dataframe\">\n",
       "  <thead>\n",
       "    <tr style=\"text-align: right;\">\n",
       "      <th></th>\n",
       "      <th>long_form</th>\n",
       "      <th>doc_id</th>\n",
       "    </tr>\n",
       "  </thead>\n",
       "  <tbody>\n",
       "    <tr>\n",
       "      <th>258</th>\n",
       "      <td>milimetro</td>\n",
       "      <td>30</td>\n",
       "    </tr>\n",
       "    <tr>\n",
       "      <th>390</th>\n",
       "      <td>tomografia axial computarizada</td>\n",
       "      <td>31</td>\n",
       "    </tr>\n",
       "    <tr>\n",
       "      <th>257</th>\n",
       "      <td>mililitro</td>\n",
       "      <td>34</td>\n",
       "    </tr>\n",
       "    <tr>\n",
       "      <th>66</th>\n",
       "      <td>centimetro</td>\n",
       "      <td>47</td>\n",
       "    </tr>\n",
       "    <tr>\n",
       "      <th>254</th>\n",
       "      <td>miligramo</td>\n",
       "      <td>48</td>\n",
       "    </tr>\n",
       "  </tbody>\n",
       "</table>\n",
       "</div>"
      ],
      "text/plain": [
       "                          long_form  doc_id\n",
       "258                       milimetro      30\n",
       "390  tomografia axial computarizada      31\n",
       "257                       mililitro      34\n",
       "66                       centimetro      47\n",
       "254                       miligramo      48"
      ]
     },
     "execution_count": 187,
     "metadata": {},
     "output_type": "execute_result"
    }
   ],
   "source": [
    "def_count = dev[['doc_id','long_form']].drop_duplicates().groupby('long_form').agg({'doc_id':'count'}).reset_index()\n",
    "def_count.sort_values('doc_id').tail()"
   ]
  },
  {
   "cell_type": "code",
   "execution_count": 188,
   "metadata": {
    "tags": []
   },
   "outputs": [
    {
     "data": {
      "image/png": "[encoded data removed]",
      "text/plain": [
       "<Figure size 1080x576 with 1 Axes>"
      ]
     },
     "metadata": {
      "needs_background": "light"
     },
     "output_type": "display_data"
    }
   ],
   "source": [
    "table = pd.crosstab(def_count['doc_id'], columns = 'Count')\n",
    "table.plot.bar(legend = None, figsize=(15,8))\n",
    "plt.xlabel(\"Cantidad de textos en los que aparece la definición\")\n",
    "plt.ylabel(\"Count\")\n",
    "#plt.savefig('data/def_count.png')\n",
    "plt.show()"
   ]
  },
  {
   "cell_type": "code",
   "execution_count": 189,
   "metadata": {},
   "outputs": [
    {
     "data": {
      "text/html": [
       "<div>\n",
       "<style scoped>\n",
       "    .dataframe tbody tr th:only-of-type {\n",
       "        vertical-align: middle;\n",
       "    }\n",
       "\n",
       "    .dataframe tbody tr th {\n",
       "        vertical-align: top;\n",
       "    }\n",
       "\n",
       "    .dataframe thead th {\n",
       "        text-align: right;\n",
       "    }\n",
       "</style>\n",
       "<table border=\"1\" class=\"dataframe\">\n",
       "  <thead>\n",
       "    <tr style=\"text-align: right;\">\n",
       "      <th></th>\n",
       "      <th>index</th>\n",
       "      <th>long_form</th>\n",
       "    </tr>\n",
       "  </thead>\n",
       "  <tbody>\n",
       "    <tr>\n",
       "      <th>201</th>\n",
       "      <td>alanina aminotransferasa</td>\n",
       "      <td>1</td>\n",
       "    </tr>\n",
       "    <tr>\n",
       "      <th>202</th>\n",
       "      <td>urografias resonancia nuclear magnetica</td>\n",
       "      <td>1</td>\n",
       "    </tr>\n",
       "    <tr>\n",
       "      <th>203</th>\n",
       "      <td>maxima apertura oral</td>\n",
       "      <td>1</td>\n",
       "    </tr>\n",
       "    <tr>\n",
       "      <th>204</th>\n",
       "      <td>queratitis ulcerativa periferica</td>\n",
       "      <td>1</td>\n",
       "    </tr>\n",
       "    <tr>\n",
       "      <th>205</th>\n",
       "      <td>segunda vertebra lumbar</td>\n",
       "      <td>1</td>\n",
       "    </tr>\n",
       "  </tbody>\n",
       "</table>\n",
       "</div>"
      ],
      "text/plain": [
       "                                       index  long_form\n",
       "201                 alanina aminotransferasa          1\n",
       "202  urografias resonancia nuclear magnetica          1\n",
       "203                     maxima apertura oral          1\n",
       "204         queratitis ulcerativa periferica          1\n",
       "205                  segunda vertebra lumbar          1"
      ]
     },
     "execution_count": 189,
     "metadata": {},
     "output_type": "execute_result"
    }
   ],
   "source": [
    "frec2[frec2['long_form'] == 1].head()"
   ]
  },
  {
   "cell_type": "markdown",
   "metadata": {},
   "source": [
    "Let's find more text for definitions with 3 or less rows in train dataset."
   ]
  },
  {
   "cell_type": "code",
   "execution_count": 190,
   "metadata": {},
   "outputs": [],
   "source": [
    "dev_lf = dev.groupby('long_form').size().reset_index().rename(columns={0:'count'}).sort_values('count')\n",
    "dev_lf_list = dev_lf[dev_lf['count'] <= 3]['long_form'].unique().tolist()"
   ]
  },
  {
   "cell_type": "code",
   "execution_count": 191,
   "metadata": {},
   "outputs": [
    {
     "data": {
      "text/plain": [
       "305"
      ]
     },
     "execution_count": 191,
     "metadata": {},
     "output_type": "execute_result"
    }
   ],
   "source": [
    "len(dev_lf_list)"
   ]
  },
  {
   "cell_type": "markdown",
   "metadata": {},
   "source": [
    "List of deffinition to search in Medline"
   ]
  },
  {
   "cell_type": "code",
   "execution_count": 367,
   "metadata": {
    "tags": []
   },
   "outputs": [],
   "source": [
    "#sorted(dev_lf_list)"
   ]
  },
  {
   "cell_type": "markdown",
   "metadata": {},
   "source": [
    "#### Medline texts"
   ]
  },
  {
   "cell_type": "code",
   "execution_count": 193,
   "metadata": {},
   "outputs": [
    {
     "data": {
      "text/html": [
       "<div>\n",
       "<style scoped>\n",
       "    .dataframe tbody tr th:only-of-type {\n",
       "        vertical-align: middle;\n",
       "    }\n",
       "\n",
       "    .dataframe tbody tr th {\n",
       "        vertical-align: top;\n",
       "    }\n",
       "\n",
       "    .dataframe thead th {\n",
       "        text-align: right;\n",
       "    }\n",
       "</style>\n",
       "<table border=\"1\" class=\"dataframe\">\n",
       "  <thead>\n",
       "    <tr style=\"text-align: right;\">\n",
       "      <th></th>\n",
       "      <th>Unnamed: 0</th>\n",
       "      <th>url</th>\n",
       "      <th>text</th>\n",
       "      <th>concept</th>\n",
       "    </tr>\n",
       "  </thead>\n",
       "  <tbody>\n",
       "    <tr>\n",
       "      <th>0</th>\n",
       "      <td>0</td>\n",
       "      <td>https://medlineplus.gov/spanish/mercury.html</td>\n",
       "      <td>\\n\\nEl mercurio es un elemento que se encuentra en el aire, el agua y el suelo. Existe en varias...</td>\n",
       "      <td>mercurio</td>\n",
       "    </tr>\n",
       "    <tr>\n",
       "      <th>1</th>\n",
       "      <td>1</td>\n",
       "      <td>https://medlineplus.gov/spanish/ency/article/002476.htm</td>\n",
       "      <td>Este artículo aborda la intoxicación por mercurio.Este artículo es solamente informativo. NO lo ...</td>\n",
       "      <td>mercurio</td>\n",
       "    </tr>\n",
       "    <tr>\n",
       "      <th>2</th>\n",
       "      <td>2</td>\n",
       "      <td>https://medlineplus.gov/spanish/ency/article/002475.htm</td>\n",
       "      <td>Es una de las formas de mercurio. También es un tipo de sal de mercurio. Hay tipos diferentes de...</td>\n",
       "      <td>mercurio</td>\n",
       "    </tr>\n",
       "    <tr>\n",
       "      <th>3</th>\n",
       "      <td>3</td>\n",
       "      <td>https://medlineplus.gov/spanish/ency/article/002474.htm</td>\n",
       "      <td>El cloruro de mercurio es una forma muy tóxica de este elemento. Se trata de un tipo de sal de m...</td>\n",
       "      <td>mercurio</td>\n",
       "    </tr>\n",
       "    <tr>\n",
       "      <th>4</th>\n",
       "      <td>4</td>\n",
       "      <td>https://medlineplus.gov/spanish/ency/article/007763.htm</td>\n",
       "      <td>Es el daño al cerebro y al sistema nervioso causado por el químico metilmercurio. Este artículo ...</td>\n",
       "      <td>mercurio</td>\n",
       "    </tr>\n",
       "  </tbody>\n",
       "</table>\n",
       "</div>"
      ],
      "text/plain": [
       "   Unnamed: 0                                                      url  \\\n",
       "0           0             https://medlineplus.gov/spanish/mercury.html   \n",
       "1           1  https://medlineplus.gov/spanish/ency/article/002476.htm   \n",
       "2           2  https://medlineplus.gov/spanish/ency/article/002475.htm   \n",
       "3           3  https://medlineplus.gov/spanish/ency/article/002474.htm   \n",
       "4           4  https://medlineplus.gov/spanish/ency/article/007763.htm   \n",
       "\n",
       "                                                                                                  text  \\\n",
       "0  \\n\\nEl mercurio es un elemento que se encuentra en el aire, el agua y el suelo. Existe en varias...   \n",
       "1  Este artículo aborda la intoxicación por mercurio.Este artículo es solamente informativo. NO lo ...   \n",
       "2  Es una de las formas de mercurio. También es un tipo de sal de mercurio. Hay tipos diferentes de...   \n",
       "3  El cloruro de mercurio es una forma muy tóxica de este elemento. Se trata de un tipo de sal de m...   \n",
       "4  Es el daño al cerebro y al sistema nervioso causado por el químico metilmercurio. Este artículo ...   \n",
       "\n",
       "    concept  \n",
       "0  mercurio  \n",
       "1  mercurio  \n",
       "2  mercurio  \n",
       "3  mercurio  \n",
       "4  mercurio  "
      ]
     },
     "execution_count": 193,
     "metadata": {},
     "output_type": "execute_result"
    }
   ],
   "source": [
    "medline = pd.read_csv(\"../data/scrapping/textos_medline_scrapping2.csv\")\n",
    "medline.head()"
   ]
  },
  {
   "cell_type": "code",
   "execution_count": 194,
   "metadata": {},
   "outputs": [
    {
     "data": {
      "text/plain": [
       "8"
      ]
     },
     "execution_count": 194,
     "metadata": {},
     "output_type": "execute_result"
    }
   ],
   "source": [
    "medline[medline['concept'].isin(dev_lf_list)]['concept'].nunique()"
   ]
  },
  {
   "cell_type": "markdown",
   "metadata": {},
   "source": [
    "Just 8 deffinition have been find in Medline"
   ]
  },
  {
   "cell_type": "code",
   "execution_count": 195,
   "metadata": {},
   "outputs": [
    {
     "data": {
      "text/plain": [
       "(199, 4)"
      ]
     },
     "execution_count": 195,
     "metadata": {},
     "output_type": "execute_result"
    }
   ],
   "source": [
    "medline[medline['concept'].isin(dev_lf_list)].shape"
   ]
  },
  {
   "cell_type": "code",
   "execution_count": 196,
   "metadata": {},
   "outputs": [
    {
     "data": {
      "text/html": [
       "<div>\n",
       "<style scoped>\n",
       "    .dataframe tbody tr th:only-of-type {\n",
       "        vertical-align: middle;\n",
       "    }\n",
       "\n",
       "    .dataframe tbody tr th {\n",
       "        vertical-align: top;\n",
       "    }\n",
       "\n",
       "    .dataframe thead th {\n",
       "        text-align: right;\n",
       "    }\n",
       "</style>\n",
       "<table border=\"1\" class=\"dataframe\">\n",
       "  <thead>\n",
       "    <tr style=\"text-align: right;\">\n",
       "      <th></th>\n",
       "      <th>Unnamed: 0</th>\n",
       "      <th>url</th>\n",
       "      <th>text</th>\n",
       "      <th>concept</th>\n",
       "    </tr>\n",
       "  </thead>\n",
       "  <tbody>\n",
       "    <tr>\n",
       "      <th>38</th>\n",
       "      <td>38</td>\n",
       "      <td>https://medlineplus.gov/spanish/ency/article/003473.htm</td>\n",
       "      <td>Es un examen que mide el nivel de la enzima ALT en la sangre.\\nSe necesita una muestra de sangre...</td>\n",
       "      <td>alanina aminotransferasa</td>\n",
       "    </tr>\n",
       "    <tr>\n",
       "      <th>39</th>\n",
       "      <td>39</td>\n",
       "      <td>https://medlineplus.gov/spanish/pruebas-de-laboratorio/prueba-de-ast/</td>\n",
       "      <td>La AST (aspartato aminotransferasa) es una enzima que se encuentra principalmente en el hígado, ...</td>\n",
       "      <td>alanina aminotransferasa</td>\n",
       "    </tr>\n",
       "    <tr>\n",
       "      <th>40</th>\n",
       "      <td>40</td>\n",
       "      <td>https://medlineplus.gov/spanish/ency/article/003566.htm</td>\n",
       "      <td>La aldolasa es una proteína (llamada enzima) que ayuda a descomponer ciertos azúcares para produ...</td>\n",
       "      <td>alanina aminotransferasa</td>\n",
       "    </tr>\n",
       "    <tr>\n",
       "      <th>41</th>\n",
       "      <td>41</td>\n",
       "      <td>https://medlineplus.gov/spanish/pruebas-de-laboratorio/prueba-de-gamma-glutamil-transferasa-ggt/</td>\n",
       "      <td>La prueba de la gamma-glutamil transferasa (también conocida como gama-glutamiltransferasa o GGT...</td>\n",
       "      <td>alanina aminotransferasa</td>\n",
       "    </tr>\n",
       "    <tr>\n",
       "      <th>42</th>\n",
       "      <td>42</td>\n",
       "      <td>https://medlineplus.gov/spanish/pruebas-de-laboratorio/prueba-de-sangre-de-alt/</td>\n",
       "      <td>La alanina aminotransferasa o ALT es una enzima que se encuentra principalmente en el hígado. Cu...</td>\n",
       "      <td>alanina aminotransferasa</td>\n",
       "    </tr>\n",
       "  </tbody>\n",
       "</table>\n",
       "</div>"
      ],
      "text/plain": [
       "    Unnamed: 0  \\\n",
       "38          38   \n",
       "39          39   \n",
       "40          40   \n",
       "41          41   \n",
       "42          42   \n",
       "\n",
       "                                                                                                 url  \\\n",
       "38                                           https://medlineplus.gov/spanish/ency/article/003473.htm   \n",
       "39                             https://medlineplus.gov/spanish/pruebas-de-laboratorio/prueba-de-ast/   \n",
       "40                                           https://medlineplus.gov/spanish/ency/article/003566.htm   \n",
       "41  https://medlineplus.gov/spanish/pruebas-de-laboratorio/prueba-de-gamma-glutamil-transferasa-ggt/   \n",
       "42                   https://medlineplus.gov/spanish/pruebas-de-laboratorio/prueba-de-sangre-de-alt/   \n",
       "\n",
       "                                                                                                   text  \\\n",
       "38  Es un examen que mide el nivel de la enzima ALT en la sangre.\\nSe necesita una muestra de sangre...   \n",
       "39  La AST (aspartato aminotransferasa) es una enzima que se encuentra principalmente en el hígado, ...   \n",
       "40  La aldolasa es una proteína (llamada enzima) que ayuda a descomponer ciertos azúcares para produ...   \n",
       "41  La prueba de la gamma-glutamil transferasa (también conocida como gama-glutamiltransferasa o GGT...   \n",
       "42  La alanina aminotransferasa o ALT es una enzima que se encuentra principalmente en el hígado. Cu...   \n",
       "\n",
       "                     concept  \n",
       "38  alanina aminotransferasa  \n",
       "39  alanina aminotransferasa  \n",
       "40  alanina aminotransferasa  \n",
       "41  alanina aminotransferasa  \n",
       "42  alanina aminotransferasa  "
      ]
     },
     "execution_count": 196,
     "metadata": {},
     "output_type": "execute_result"
    }
   ],
   "source": [
    "medline[medline['concept'].isin(dev_lf_list)].head()"
   ]
  },
  {
   "cell_type": "code",
   "execution_count": 197,
   "metadata": {},
   "outputs": [
    {
     "data": {
      "text/html": [
       "<div>\n",
       "<style scoped>\n",
       "    .dataframe tbody tr th:only-of-type {\n",
       "        vertical-align: middle;\n",
       "    }\n",
       "\n",
       "    .dataframe tbody tr th {\n",
       "        vertical-align: top;\n",
       "    }\n",
       "\n",
       "    .dataframe thead th {\n",
       "        text-align: right;\n",
       "    }\n",
       "</style>\n",
       "<table border=\"1\" class=\"dataframe\">\n",
       "  <thead>\n",
       "    <tr style=\"text-align: right;\">\n",
       "      <th></th>\n",
       "      <th>doc_id</th>\n",
       "      <th>texto</th>\n",
       "      <th>short_form</th>\n",
       "      <th>long_form</th>\n",
       "      <th>StartOffset</th>\n",
       "      <th>EndOffset</th>\n",
       "    </tr>\n",
       "  </thead>\n",
       "  <tbody>\n",
       "    <tr>\n",
       "      <th>0</th>\n",
       "      <td>S0004-06142008000100008-1</td>\n",
       "      <td>Presentamos el caso de una mujer de 30 años, fumadora de 20 cigarrillos/día y sin otros antecede...</td>\n",
       "      <td>CEA</td>\n",
       "      <td>carcinoembrionary antigen</td>\n",
       "      <td>1796</td>\n",
       "      <td>1799</td>\n",
       "    </tr>\n",
       "    <tr>\n",
       "      <th>1</th>\n",
       "      <td>S0004-06142008000100008-1</td>\n",
       "      <td>Presentamos el caso de una mujer de 30 años, fumadora de 20 cigarrillos/día y sin otros antecede...</td>\n",
       "      <td>MyO D1</td>\n",
       "      <td>myogenic differentiation 1</td>\n",
       "      <td>1759</td>\n",
       "      <td>1765</td>\n",
       "    </tr>\n",
       "    <tr>\n",
       "      <th>2</th>\n",
       "      <td>S0004-06142008000100008-1</td>\n",
       "      <td>Presentamos el caso de una mujer de 30 años, fumadora de 20 cigarrillos/día y sin otros antecede...</td>\n",
       "      <td>CAM5.2</td>\n",
       "      <td>anticuerpo monoclonal cytokeratina 52</td>\n",
       "      <td>1526</td>\n",
       "      <td>1532</td>\n",
       "    </tr>\n",
       "    <tr>\n",
       "      <th>3</th>\n",
       "      <td>S0004-06142008000100008-1</td>\n",
       "      <td>Presentamos el caso de una mujer de 30 años, fumadora de 20 cigarrillos/día y sin otros antecede...</td>\n",
       "      <td>AE1/AE3</td>\n",
       "      <td>antipan cytokeratin antibody</td>\n",
       "      <td>1515</td>\n",
       "      <td>1522</td>\n",
       "    </tr>\n",
       "    <tr>\n",
       "      <th>4</th>\n",
       "      <td>S0004-06142008000100008-1</td>\n",
       "      <td>Presentamos el caso de una mujer de 30 años, fumadora de 20 cigarrillos/día y sin otros antecede...</td>\n",
       "      <td>MIB-1</td>\n",
       "      <td>mindbomb homolog 1</td>\n",
       "      <td>1322</td>\n",
       "      <td>1327</td>\n",
       "    </tr>\n",
       "  </tbody>\n",
       "</table>\n",
       "</div>"
      ],
      "text/plain": [
       "                      doc_id  \\\n",
       "0  S0004-06142008000100008-1   \n",
       "1  S0004-06142008000100008-1   \n",
       "2  S0004-06142008000100008-1   \n",
       "3  S0004-06142008000100008-1   \n",
       "4  S0004-06142008000100008-1   \n",
       "\n",
       "                                                                                                 texto  \\\n",
       "0  Presentamos el caso de una mujer de 30 años, fumadora de 20 cigarrillos/día y sin otros antecede...   \n",
       "1  Presentamos el caso de una mujer de 30 años, fumadora de 20 cigarrillos/día y sin otros antecede...   \n",
       "2  Presentamos el caso de una mujer de 30 años, fumadora de 20 cigarrillos/día y sin otros antecede...   \n",
       "3  Presentamos el caso de una mujer de 30 años, fumadora de 20 cigarrillos/día y sin otros antecede...   \n",
       "4  Presentamos el caso de una mujer de 30 años, fumadora de 20 cigarrillos/día y sin otros antecede...   \n",
       "\n",
       "  short_form                              long_form  StartOffset  EndOffset  \n",
       "0        CEA              carcinoembrionary antigen         1796       1799  \n",
       "1     MyO D1             myogenic differentiation 1         1759       1765  \n",
       "2     CAM5.2  anticuerpo monoclonal cytokeratina 52         1526       1532  \n",
       "3    AE1/AE3           antipan cytokeratin antibody         1515       1522  \n",
       "4      MIB-1                     mindbomb homolog 1         1322       1327  "
      ]
     },
     "execution_count": 197,
     "metadata": {},
     "output_type": "execute_result"
    }
   ],
   "source": [
    "dev.head()"
   ]
  },
  {
   "cell_type": "markdown",
   "metadata": {},
   "source": [
    "Transform Medline text with train structure"
   ]
  },
  {
   "cell_type": "code",
   "execution_count": 198,
   "metadata": {},
   "outputs": [],
   "source": [
    "med_texts = medline[medline['concept'].isin(dev_lf_list)]"
   ]
  },
  {
   "cell_type": "code",
   "execution_count": 199,
   "metadata": {},
   "outputs": [],
   "source": [
    "med_texts = med_texts[['text', 'concept']].rename(columns = {'text':'texto', 'concept':'long_form'})"
   ]
  },
  {
   "cell_type": "code",
   "execution_count": 200,
   "metadata": {},
   "outputs": [],
   "source": [
    "sf_lf = dev[dev['long_form'].isin(dev_lf_list)][['short_form', 'long_form']].set_index('long_form').to_dict()['short_form']"
   ]
  },
  {
   "cell_type": "code",
   "execution_count": 201,
   "metadata": {},
   "outputs": [],
   "source": [
    "med_texts['short_form'] = med_texts['long_form'].map(sf_lf)"
   ]
  },
  {
   "cell_type": "code",
   "execution_count": 202,
   "metadata": {},
   "outputs": [],
   "source": [
    "def replace_sf_lf(row):\n",
    "    row['texto'] = row['texto'].replace(row['long_form'], row['short_form'])\n",
    "    return row['texto']"
   ]
  },
  {
   "cell_type": "code",
   "execution_count": 203,
   "metadata": {},
   "outputs": [],
   "source": [
    "med_texts['texto'] = med_texts.apply(replace_sf_lf, axis = 1)"
   ]
  },
  {
   "cell_type": "code",
   "execution_count": 204,
   "metadata": {},
   "outputs": [
    {
     "data": {
      "text/html": [
       "<div>\n",
       "<style scoped>\n",
       "    .dataframe tbody tr th:only-of-type {\n",
       "        vertical-align: middle;\n",
       "    }\n",
       "\n",
       "    .dataframe tbody tr th {\n",
       "        vertical-align: top;\n",
       "    }\n",
       "\n",
       "    .dataframe thead th {\n",
       "        text-align: right;\n",
       "    }\n",
       "</style>\n",
       "<table border=\"1\" class=\"dataframe\">\n",
       "  <thead>\n",
       "    <tr style=\"text-align: right;\">\n",
       "      <th></th>\n",
       "      <th>texto</th>\n",
       "      <th>long_form</th>\n",
       "      <th>short_form</th>\n",
       "    </tr>\n",
       "  </thead>\n",
       "  <tbody>\n",
       "    <tr>\n",
       "      <th>38</th>\n",
       "      <td>Es un examen que mide el nivel de la enzima ALT en la sangre.\\nSe necesita una muestra de sangre...</td>\n",
       "      <td>alanina aminotransferasa</td>\n",
       "      <td>A.L.T.</td>\n",
       "    </tr>\n",
       "    <tr>\n",
       "      <th>39</th>\n",
       "      <td>La AST (aspartato aminotransferasa) es una enzima que se encuentra principalmente en el hígado, ...</td>\n",
       "      <td>alanina aminotransferasa</td>\n",
       "      <td>A.L.T.</td>\n",
       "    </tr>\n",
       "    <tr>\n",
       "      <th>40</th>\n",
       "      <td>La aldolasa es una proteína (llamada enzima) que ayuda a descomponer ciertos azúcares para produ...</td>\n",
       "      <td>alanina aminotransferasa</td>\n",
       "      <td>A.L.T.</td>\n",
       "    </tr>\n",
       "    <tr>\n",
       "      <th>41</th>\n",
       "      <td>La prueba de la gamma-glutamil transferasa (también conocida como gama-glutamiltransferasa o GGT...</td>\n",
       "      <td>alanina aminotransferasa</td>\n",
       "      <td>A.L.T.</td>\n",
       "    </tr>\n",
       "    <tr>\n",
       "      <th>42</th>\n",
       "      <td>La A.L.T. o ALT es una enzima que se encuentra principalmente en el hígado. Cuando las células h...</td>\n",
       "      <td>alanina aminotransferasa</td>\n",
       "      <td>A.L.T.</td>\n",
       "    </tr>\n",
       "  </tbody>\n",
       "</table>\n",
       "</div>"
      ],
      "text/plain": [
       "                                                                                                  texto  \\\n",
       "38  Es un examen que mide el nivel de la enzima ALT en la sangre.\\nSe necesita una muestra de sangre...   \n",
       "39  La AST (aspartato aminotransferasa) es una enzima que se encuentra principalmente en el hígado, ...   \n",
       "40  La aldolasa es una proteína (llamada enzima) que ayuda a descomponer ciertos azúcares para produ...   \n",
       "41  La prueba de la gamma-glutamil transferasa (también conocida como gama-glutamiltransferasa o GGT...   \n",
       "42  La A.L.T. o ALT es una enzima que se encuentra principalmente en el hígado. Cuando las células h...   \n",
       "\n",
       "                   long_form short_form  \n",
       "38  alanina aminotransferasa     A.L.T.  \n",
       "39  alanina aminotransferasa     A.L.T.  \n",
       "40  alanina aminotransferasa     A.L.T.  \n",
       "41  alanina aminotransferasa     A.L.T.  \n",
       "42  alanina aminotransferasa     A.L.T.  "
      ]
     },
     "execution_count": 204,
     "metadata": {},
     "output_type": "execute_result"
    }
   ],
   "source": [
    "med_texts.head()"
   ]
  },
  {
   "cell_type": "code",
   "execution_count": 205,
   "metadata": {},
   "outputs": [],
   "source": [
    "def find_offset(row):\n",
    "    start_i = row['texto'].find(row['short_form'])\n",
    "    end_i = start_i + len(row['short_form'])\n",
    "    \n",
    "    return start_i, end_i   "
   ]
  },
  {
   "cell_type": "code",
   "execution_count": 206,
   "metadata": {},
   "outputs": [],
   "source": [
    "med_texts['offsets'] = med_texts.apply(find_offset, axis = 1)"
   ]
  },
  {
   "cell_type": "code",
   "execution_count": 207,
   "metadata": {},
   "outputs": [],
   "source": [
    "med_texts[['StartOffset', 'EndOffset']] = pd.DataFrame(med_texts['offsets'].tolist(), index=med_texts.index)"
   ]
  },
  {
   "cell_type": "code",
   "execution_count": 208,
   "metadata": {},
   "outputs": [],
   "source": [
    "med_texts = med_texts[['texto', 'short_form', 'long_form','StartOffset', 'EndOffset']]"
   ]
  },
  {
   "cell_type": "code",
   "execution_count": 209,
   "metadata": {},
   "outputs": [
    {
     "data": {
      "text/html": [
       "<div>\n",
       "<style scoped>\n",
       "    .dataframe tbody tr th:only-of-type {\n",
       "        vertical-align: middle;\n",
       "    }\n",
       "\n",
       "    .dataframe tbody tr th {\n",
       "        vertical-align: top;\n",
       "    }\n",
       "\n",
       "    .dataframe thead th {\n",
       "        text-align: right;\n",
       "    }\n",
       "</style>\n",
       "<table border=\"1\" class=\"dataframe\">\n",
       "  <thead>\n",
       "    <tr style=\"text-align: right;\">\n",
       "      <th></th>\n",
       "      <th>texto</th>\n",
       "      <th>short_form</th>\n",
       "      <th>long_form</th>\n",
       "      <th>StartOffset</th>\n",
       "      <th>EndOffset</th>\n",
       "    </tr>\n",
       "  </thead>\n",
       "  <tbody>\n",
       "    <tr>\n",
       "      <th>38</th>\n",
       "      <td>Es un examen que mide el nivel de la enzima ALT en la sangre.\\nSe necesita una muestra de sangre...</td>\n",
       "      <td>A.L.T.</td>\n",
       "      <td>alanina aminotransferasa</td>\n",
       "      <td>-1</td>\n",
       "      <td>5</td>\n",
       "    </tr>\n",
       "    <tr>\n",
       "      <th>39</th>\n",
       "      <td>La AST (aspartato aminotransferasa) es una enzima que se encuentra principalmente en el hígado, ...</td>\n",
       "      <td>A.L.T.</td>\n",
       "      <td>alanina aminotransferasa</td>\n",
       "      <td>2598</td>\n",
       "      <td>2604</td>\n",
       "    </tr>\n",
       "    <tr>\n",
       "      <th>40</th>\n",
       "      <td>La aldolasa es una proteína (llamada enzima) que ayuda a descomponer ciertos azúcares para produ...</td>\n",
       "      <td>A.L.T.</td>\n",
       "      <td>alanina aminotransferasa</td>\n",
       "      <td>-1</td>\n",
       "      <td>5</td>\n",
       "    </tr>\n",
       "    <tr>\n",
       "      <th>41</th>\n",
       "      <td>La prueba de la gamma-glutamil transferasa (también conocida como gama-glutamiltransferasa o GGT...</td>\n",
       "      <td>A.L.T.</td>\n",
       "      <td>alanina aminotransferasa</td>\n",
       "      <td>-1</td>\n",
       "      <td>5</td>\n",
       "    </tr>\n",
       "    <tr>\n",
       "      <th>42</th>\n",
       "      <td>La A.L.T. o ALT es una enzima que se encuentra principalmente en el hígado. Cuando las células h...</td>\n",
       "      <td>A.L.T.</td>\n",
       "      <td>alanina aminotransferasa</td>\n",
       "      <td>3</td>\n",
       "      <td>9</td>\n",
       "    </tr>\n",
       "  </tbody>\n",
       "</table>\n",
       "</div>"
      ],
      "text/plain": [
       "                                                                                                  texto  \\\n",
       "38  Es un examen que mide el nivel de la enzima ALT en la sangre.\\nSe necesita una muestra de sangre...   \n",
       "39  La AST (aspartato aminotransferasa) es una enzima que se encuentra principalmente en el hígado, ...   \n",
       "40  La aldolasa es una proteína (llamada enzima) que ayuda a descomponer ciertos azúcares para produ...   \n",
       "41  La prueba de la gamma-glutamil transferasa (también conocida como gama-glutamiltransferasa o GGT...   \n",
       "42  La A.L.T. o ALT es una enzima que se encuentra principalmente en el hígado. Cuando las células h...   \n",
       "\n",
       "   short_form                 long_form  StartOffset  EndOffset  \n",
       "38     A.L.T.  alanina aminotransferasa           -1          5  \n",
       "39     A.L.T.  alanina aminotransferasa         2598       2604  \n",
       "40     A.L.T.  alanina aminotransferasa           -1          5  \n",
       "41     A.L.T.  alanina aminotransferasa           -1          5  \n",
       "42     A.L.T.  alanina aminotransferasa            3          9  "
      ]
     },
     "execution_count": 209,
     "metadata": {},
     "output_type": "execute_result"
    }
   ],
   "source": [
    "med_texts.head()"
   ]
  },
  {
   "cell_type": "markdown",
   "metadata": {},
   "source": [
    "Concat train and Medline texts"
   ]
  },
  {
   "cell_type": "code",
   "execution_count": 210,
   "metadata": {},
   "outputs": [
    {
     "data": {
      "text/plain": [
       "(2313, 6)"
      ]
     },
     "execution_count": 210,
     "metadata": {},
     "output_type": "execute_result"
    }
   ],
   "source": [
    "dev.shape"
   ]
  },
  {
   "cell_type": "code",
   "execution_count": 211,
   "metadata": {},
   "outputs": [],
   "source": [
    "dev = pd.concat([dev, med_texts], axis = 0)"
   ]
  },
  {
   "cell_type": "code",
   "execution_count": 212,
   "metadata": {},
   "outputs": [
    {
     "data": {
      "text/plain": [
       "(2512, 6)"
      ]
     },
     "execution_count": 212,
     "metadata": {},
     "output_type": "execute_result"
    }
   ],
   "source": [
    "dev.shape"
   ]
  },
  {
   "cell_type": "code",
   "execution_count": 213,
   "metadata": {},
   "outputs": [
    {
     "data": {
      "text/html": [
       "<div>\n",
       "<style scoped>\n",
       "    .dataframe tbody tr th:only-of-type {\n",
       "        vertical-align: middle;\n",
       "    }\n",
       "\n",
       "    .dataframe tbody tr th {\n",
       "        vertical-align: top;\n",
       "    }\n",
       "\n",
       "    .dataframe thead th {\n",
       "        text-align: right;\n",
       "    }\n",
       "</style>\n",
       "<table border=\"1\" class=\"dataframe\">\n",
       "  <thead>\n",
       "    <tr style=\"text-align: right;\">\n",
       "      <th></th>\n",
       "      <th>doc_id</th>\n",
       "      <th>texto</th>\n",
       "      <th>short_form</th>\n",
       "      <th>long_form</th>\n",
       "      <th>StartOffset</th>\n",
       "      <th>EndOffset</th>\n",
       "    </tr>\n",
       "  </thead>\n",
       "  <tbody>\n",
       "    <tr>\n",
       "      <th>0</th>\n",
       "      <td>S0004-06142008000100008-1</td>\n",
       "      <td>Presentamos el caso de una mujer de 30 años, fumadora de 20 cigarrillos/día y sin otros antecede...</td>\n",
       "      <td>CEA</td>\n",
       "      <td>carcinoembrionary antigen</td>\n",
       "      <td>1796</td>\n",
       "      <td>1799</td>\n",
       "    </tr>\n",
       "    <tr>\n",
       "      <th>1</th>\n",
       "      <td>S0004-06142008000100008-1</td>\n",
       "      <td>Presentamos el caso de una mujer de 30 años, fumadora de 20 cigarrillos/día y sin otros antecede...</td>\n",
       "      <td>MyO D1</td>\n",
       "      <td>myogenic differentiation 1</td>\n",
       "      <td>1759</td>\n",
       "      <td>1765</td>\n",
       "    </tr>\n",
       "    <tr>\n",
       "      <th>2</th>\n",
       "      <td>S0004-06142008000100008-1</td>\n",
       "      <td>Presentamos el caso de una mujer de 30 años, fumadora de 20 cigarrillos/día y sin otros antecede...</td>\n",
       "      <td>CAM5.2</td>\n",
       "      <td>anticuerpo monoclonal cytokeratina 52</td>\n",
       "      <td>1526</td>\n",
       "      <td>1532</td>\n",
       "    </tr>\n",
       "    <tr>\n",
       "      <th>3</th>\n",
       "      <td>S0004-06142008000100008-1</td>\n",
       "      <td>Presentamos el caso de una mujer de 30 años, fumadora de 20 cigarrillos/día y sin otros antecede...</td>\n",
       "      <td>AE1/AE3</td>\n",
       "      <td>antipan cytokeratin antibody</td>\n",
       "      <td>1515</td>\n",
       "      <td>1522</td>\n",
       "    </tr>\n",
       "    <tr>\n",
       "      <th>4</th>\n",
       "      <td>S0004-06142008000100008-1</td>\n",
       "      <td>Presentamos el caso de una mujer de 30 años, fumadora de 20 cigarrillos/día y sin otros antecede...</td>\n",
       "      <td>MIB-1</td>\n",
       "      <td>mindbomb homolog 1</td>\n",
       "      <td>1322</td>\n",
       "      <td>1327</td>\n",
       "    </tr>\n",
       "  </tbody>\n",
       "</table>\n",
       "</div>"
      ],
      "text/plain": [
       "                      doc_id  \\\n",
       "0  S0004-06142008000100008-1   \n",
       "1  S0004-06142008000100008-1   \n",
       "2  S0004-06142008000100008-1   \n",
       "3  S0004-06142008000100008-1   \n",
       "4  S0004-06142008000100008-1   \n",
       "\n",
       "                                                                                                 texto  \\\n",
       "0  Presentamos el caso de una mujer de 30 años, fumadora de 20 cigarrillos/día y sin otros antecede...   \n",
       "1  Presentamos el caso de una mujer de 30 años, fumadora de 20 cigarrillos/día y sin otros antecede...   \n",
       "2  Presentamos el caso de una mujer de 30 años, fumadora de 20 cigarrillos/día y sin otros antecede...   \n",
       "3  Presentamos el caso de una mujer de 30 años, fumadora de 20 cigarrillos/día y sin otros antecede...   \n",
       "4  Presentamos el caso de una mujer de 30 años, fumadora de 20 cigarrillos/día y sin otros antecede...   \n",
       "\n",
       "  short_form                              long_form  StartOffset  EndOffset  \n",
       "0        CEA              carcinoembrionary antigen         1796       1799  \n",
       "1     MyO D1             myogenic differentiation 1         1759       1765  \n",
       "2     CAM5.2  anticuerpo monoclonal cytokeratina 52         1526       1532  \n",
       "3    AE1/AE3           antipan cytokeratin antibody         1515       1522  \n",
       "4      MIB-1                     mindbomb homolog 1         1322       1327  "
      ]
     },
     "execution_count": 213,
     "metadata": {},
     "output_type": "execute_result"
    }
   ],
   "source": [
    "dev.reset_index(inplace = True, drop = True)\n",
    "dev.head()"
   ]
  },
  {
   "cell_type": "markdown",
   "metadata": {},
   "source": [
    "Check how many deffinition have low texts"
   ]
  },
  {
   "cell_type": "code",
   "execution_count": 214,
   "metadata": {},
   "outputs": [],
   "source": [
    "frec3 = dev['long_form'].value_counts().reset_index()"
   ]
  },
  {
   "cell_type": "code",
   "execution_count": 215,
   "metadata": {},
   "outputs": [
    {
     "data": {
      "image/png": "[encoded data removed]",
      "text/plain": [
       "<Figure size 432x288 with 1 Axes>"
      ]
     },
     "metadata": {
      "needs_background": "light"
     },
     "output_type": "display_data"
    }
   ],
   "source": [
    "table = pd.crosstab(frec2['long_form'], columns = 'Count')\n",
    "table.plot.bar()\n",
    "plt.title('Number of deffinition records train')\n",
    "plt.show()"
   ]
  },
  {
   "cell_type": "code",
   "execution_count": 216,
   "metadata": {},
   "outputs": [
    {
     "data": {
      "image/png": "[encoded data removed]",
      "text/plain": [
       "<Figure size 432x288 with 1 Axes>"
      ]
     },
     "metadata": {
      "needs_background": "light"
     },
     "output_type": "display_data"
    }
   ],
   "source": [
    "table = pd.crosstab(frec3['long_form'], columns = 'Count')\n",
    "table.plot.bar()\n",
    "plt.title('Number of deffinition records after adding Medline texts to train')\n",
    "plt.show()"
   ]
  },
  {
   "cell_type": "code",
   "execution_count": 217,
   "metadata": {},
   "outputs": [],
   "source": [
    "lf_low = set(dev_lf_list)"
   ]
  },
  {
   "cell_type": "code",
   "execution_count": 218,
   "metadata": {},
   "outputs": [],
   "source": [
    "lf_inmedline = set(medline[medline['concept'].isin(dev_lf_list)]['concept'].unique().tolist())"
   ]
  },
  {
   "cell_type": "code",
   "execution_count": 368,
   "metadata": {
    "tags": []
   },
   "outputs": [],
   "source": [
    "#lf_low ^ lf_inmedline"
   ]
  },
  {
   "cell_type": "markdown",
   "metadata": {},
   "source": [
    "Transform dataframe to a list of dictionaries"
   ]
  },
  {
   "cell_type": "code",
   "execution_count": 220,
   "metadata": {},
   "outputs": [],
   "source": [
    "dev_data = dev[['doc_id', 'texto', 'short_form', 'long_form', 'StartOffset', 'EndOffset']].to_dict('records')"
   ]
  },
  {
   "cell_type": "markdown",
   "metadata": {},
   "source": [
    "### Get the text before and after the SF"
   ]
  },
  {
   "cell_type": "code",
   "execution_count": 221,
   "metadata": {},
   "outputs": [],
   "source": [
    "dev_ndata, sf_not_found = get_f_b_context_text(dev_data)"
   ]
  },
  {
   "cell_type": "markdown",
   "metadata": {},
   "source": [
    "Check if any SF is not founded in the text"
   ]
  },
  {
   "cell_type": "code",
   "execution_count": 222,
   "metadata": {},
   "outputs": [],
   "source": [
    "sf_not_found_set = set(sf_not_found)"
   ]
  },
  {
   "cell_type": "code",
   "execution_count": 223,
   "metadata": {},
   "outputs": [
    {
     "data": {
      "text/plain": [
       "4"
      ]
     },
     "execution_count": 223,
     "metadata": {},
     "output_type": "execute_result"
    }
   ],
   "source": [
    "len(sf_not_found_set)"
   ]
  },
  {
   "cell_type": "markdown",
   "metadata": {},
   "source": [
    "Execute this code just in case clean the texts are needed: remove string punctuation, accents, lower case, remove double spaces, separate numbers from sf"
   ]
  },
  {
   "cell_type": "code",
   "execution_count": 224,
   "metadata": {},
   "outputs": [],
   "source": [
    "# def clean_text_after(data):\n",
    "    \n",
    "#     for instance in data:\n",
    "#         instance[1] = clean_text(instance[1]).lower()\n",
    "#         instance[2] = clean_text(instance[2]).lower()\n",
    "#         instance[1] = re.sub(r'(\\d+)', r'\\g<1> ', instance[1]) #metemos espacio entre número y acrónimos que quedan pegados    \n",
    "#         instance[2] = re.sub(r'(\\d+)', r'\\g<1> ', instance[2])\n",
    "#         instance[1] = re.sub(r'\\s+', ' ', instance[1]).strip()\n",
    "#         instance[2] = re.sub(r'\\s+', ' ', instance[2]).strip()\n",
    "#     return data\n",
    "        "
   ]
  },
  {
   "cell_type": "code",
   "execution_count": 225,
   "metadata": {},
   "outputs": [],
   "source": [
    "# train_ndata = clean_text_after(train_ndata)"
   ]
  },
  {
   "cell_type": "markdown",
   "metadata": {},
   "source": [
    "### Get the contexts "
   ]
  },
  {
   "cell_type": "markdown",
   "metadata": {},
   "source": [
    "From the texts before and after the sf, we limit the number of words"
   ]
  },
  {
   "cell_type": "code",
   "execution_count": 226,
   "metadata": {},
   "outputs": [],
   "source": [
    "star_ends_tokens = 6 #number of tokens to add because <start> and <end> labels "
   ]
  },
  {
   "cell_type": "code",
   "execution_count": 227,
   "metadata": {},
   "outputs": [],
   "source": [
    "n_step_f = 10 + star_ends_tokens #number of words to select from the forward context\n",
    "n_step_b = 10 #number of words to select from the backward context"
   ]
  },
  {
   "cell_type": "code",
   "execution_count": 228,
   "metadata": {},
   "outputs": [
    {
     "name": "stderr",
     "output_type": "stream",
     "text": [
      "[nltk_data] Downloading package punkt to /Users/egarcia/nltk_data...\n",
      "[nltk_data]   Package punkt is already up-to-date!\n"
     ]
    },
    {
     "data": {
      "text/plain": [
       "True"
      ]
     },
     "execution_count": 228,
     "metadata": {},
     "output_type": "execute_result"
    }
   ],
   "source": [
    "nltk.download('punkt')"
   ]
  },
  {
   "cell_type": "code",
   "execution_count": 229,
   "metadata": {},
   "outputs": [],
   "source": [
    "dev_ndata = limit_context(dev_ndata)"
   ]
  },
  {
   "cell_type": "code",
   "execution_count": 230,
   "metadata": {},
   "outputs": [
    {
     "data": {
      "text/plain": [
       "['CEA',\n",
       " ', MyO D1 y Calretinina ) , así como para < start > CEA < end >',\n",
       " 'y citoqueratinas de alto peso molecular , observándose tan sólo',\n",
       " 'carcinoembrionary antigen']"
      ]
     },
     "execution_count": 230,
     "metadata": {},
     "output_type": "execute_result"
    }
   ],
   "source": [
    "dev_ndata[0]"
   ]
  },
  {
   "cell_type": "markdown",
   "metadata": {},
   "source": [
    "### Transform into df grouped by LF"
   ]
  },
  {
   "cell_type": "code",
   "execution_count": 231,
   "metadata": {},
   "outputs": [],
   "source": [
    "data_dic = create_dict(dev_ndata)"
   ]
  },
  {
   "cell_type": "code",
   "execution_count": 232,
   "metadata": {},
   "outputs": [],
   "source": [
    "data_df = pd.DataFrame(data_dic)"
   ]
  },
  {
   "cell_type": "markdown",
   "metadata": {},
   "source": [
    "Asign an id to each LF"
   ]
  },
  {
   "cell_type": "code",
   "execution_count": 233,
   "metadata": {},
   "outputs": [],
   "source": [
    "data_df = data_df.assign(id=(data_df['long_form']).astype('category').cat.codes)"
   ]
  },
  {
   "cell_type": "code",
   "execution_count": 234,
   "metadata": {},
   "outputs": [
    {
     "data": {
      "text/html": [
       "<div>\n",
       "<style scoped>\n",
       "    .dataframe tbody tr th:only-of-type {\n",
       "        vertical-align: middle;\n",
       "    }\n",
       "\n",
       "    .dataframe tbody tr th {\n",
       "        vertical-align: top;\n",
       "    }\n",
       "\n",
       "    .dataframe thead th {\n",
       "        text-align: right;\n",
       "    }\n",
       "</style>\n",
       "<table border=\"1\" class=\"dataframe\">\n",
       "  <thead>\n",
       "    <tr style=\"text-align: right;\">\n",
       "      <th></th>\n",
       "      <th>short_form</th>\n",
       "      <th>context</th>\n",
       "      <th>long_form</th>\n",
       "      <th>id</th>\n",
       "    </tr>\n",
       "  </thead>\n",
       "  <tbody>\n",
       "    <tr>\n",
       "      <th>0</th>\n",
       "      <td>CEA</td>\n",
       "      <td>, MyO D1 y Calretinina ) , así como para &lt; start &gt; CEA &lt; end &gt; y citoqueratinas de alto peso mol...</td>\n",
       "      <td>carcinoembrionary antigen</td>\n",
       "      <td>61</td>\n",
       "    </tr>\n",
       "    <tr>\n",
       "      <th>1</th>\n",
       "      <td>MyO D1</td>\n",
       "      <td>a músculo liso ( actina de músculo liso , &lt; start &gt; MyO D1 &lt; end &gt; y Calretinina ) , así como pa...</td>\n",
       "      <td>myogenic differentiation 1</td>\n",
       "      <td>272</td>\n",
       "    </tr>\n",
       "    <tr>\n",
       "      <th>2</th>\n",
       "      <td>CAM5.2</td>\n",
       "      <td>observa marcada positividad frente a citoqueratinas ( AE1/AE3 ) y &lt; start &gt; CAM5.2 &lt; end &gt; a niv...</td>\n",
       "      <td>anticuerpo monoclonal cytokeratina 52</td>\n",
       "      <td>28</td>\n",
       "    </tr>\n",
       "    <tr>\n",
       "      <th>3</th>\n",
       "      <td>AE1/AE3</td>\n",
       "      <td>estudio inmunohistoquímico se observa marcada positividad frente a citoqueratinas ( &lt; start &gt; AE...</td>\n",
       "      <td>antipan cytokeratin antibody</td>\n",
       "      <td>34</td>\n",
       "    </tr>\n",
       "    <tr>\n",
       "      <th>4</th>\n",
       "      <td>MIB-1</td>\n",
       "      <td>de proliferación medido como positividad nuclear con anticuerpos frente a &lt; start &gt; MIB-1 &lt; end ...</td>\n",
       "      <td>mindbomb homolog 1</td>\n",
       "      <td>266</td>\n",
       "    </tr>\n",
       "  </tbody>\n",
       "</table>\n",
       "</div>"
      ],
      "text/plain": [
       "  short_form  \\\n",
       "0        CEA   \n",
       "1     MyO D1   \n",
       "2     CAM5.2   \n",
       "3    AE1/AE3   \n",
       "4      MIB-1   \n",
       "\n",
       "                                                                                               context  \\\n",
       "0  , MyO D1 y Calretinina ) , así como para < start > CEA < end > y citoqueratinas de alto peso mol...   \n",
       "1  a músculo liso ( actina de músculo liso , < start > MyO D1 < end > y Calretinina ) , así como pa...   \n",
       "2  observa marcada positividad frente a citoqueratinas ( AE1/AE3 ) y < start > CAM5.2 < end > a niv...   \n",
       "3  estudio inmunohistoquímico se observa marcada positividad frente a citoqueratinas ( < start > AE...   \n",
       "4  de proliferación medido como positividad nuclear con anticuerpos frente a < start > MIB-1 < end ...   \n",
       "\n",
       "                               long_form   id  \n",
       "0              carcinoembrionary antigen   61  \n",
       "1             myogenic differentiation 1  272  \n",
       "2  anticuerpo monoclonal cytokeratina 52   28  \n",
       "3           antipan cytokeratin antibody   34  \n",
       "4                     mindbomb homolog 1  266  "
      ]
     },
     "execution_count": 234,
     "metadata": {},
     "output_type": "execute_result"
    }
   ],
   "source": [
    "data_df.head()"
   ]
  },
  {
   "cell_type": "code",
   "execution_count": 235,
   "metadata": {},
   "outputs": [
    {
     "data": {
      "text/plain": [
       "(2429, 4)"
      ]
     },
     "execution_count": 235,
     "metadata": {},
     "output_type": "execute_result"
    }
   ],
   "source": [
    "data_df.shape"
   ]
  },
  {
   "cell_type": "markdown",
   "metadata": {},
   "source": [
    "We will join each SF with all possible LFs, one for each record, so that later the model works in binary form assigning the probability that that is its LF"
   ]
  },
  {
   "cell_type": "code",
   "execution_count": 236,
   "metadata": {},
   "outputs": [],
   "source": [
    "sf_lf_unique = data_df[['short_form', 'long_form']].drop_duplicates()"
   ]
  },
  {
   "cell_type": "code",
   "execution_count": 237,
   "metadata": {},
   "outputs": [
    {
     "data": {
      "text/plain": [
       "(485, 2)"
      ]
     },
     "execution_count": 237,
     "metadata": {},
     "output_type": "execute_result"
    }
   ],
   "source": [
    "sf_lf_unique.shape"
   ]
  },
  {
   "cell_type": "code",
   "execution_count": 238,
   "metadata": {},
   "outputs": [
    {
     "data": {
      "text/html": [
       "<div>\n",
       "<style scoped>\n",
       "    .dataframe tbody tr th:only-of-type {\n",
       "        vertical-align: middle;\n",
       "    }\n",
       "\n",
       "    .dataframe tbody tr th {\n",
       "        vertical-align: top;\n",
       "    }\n",
       "\n",
       "    .dataframe thead th {\n",
       "        text-align: right;\n",
       "    }\n",
       "</style>\n",
       "<table border=\"1\" class=\"dataframe\">\n",
       "  <thead>\n",
       "    <tr style=\"text-align: right;\">\n",
       "      <th></th>\n",
       "      <th>short_form</th>\n",
       "      <th>long_form</th>\n",
       "    </tr>\n",
       "  </thead>\n",
       "  <tbody>\n",
       "    <tr>\n",
       "      <th>2301</th>\n",
       "      <td>123I-MIBG</td>\n",
       "      <td>123imetayodobencilguanidina</td>\n",
       "    </tr>\n",
       "    <tr>\n",
       "      <th>1624</th>\n",
       "      <td>99mTc</td>\n",
       "      <td>tecnecio99m</td>\n",
       "    </tr>\n",
       "    <tr>\n",
       "      <th>1408</th>\n",
       "      <td>A</td>\n",
       "      <td>adenine</td>\n",
       "    </tr>\n",
       "    <tr>\n",
       "      <th>2303</th>\n",
       "      <td>A-H</td>\n",
       "      <td>intervalo conduccion ah</td>\n",
       "    </tr>\n",
       "    <tr>\n",
       "      <th>1048</th>\n",
       "      <td>A-LHRH</td>\n",
       "      <td>antagonist of luteinizing hormonereleasing hormone</td>\n",
       "    </tr>\n",
       "  </tbody>\n",
       "</table>\n",
       "</div>"
      ],
      "text/plain": [
       "     short_form                                           long_form\n",
       "2301  123I-MIBG                         123imetayodobencilguanidina\n",
       "1624      99mTc                                         tecnecio99m\n",
       "1408          A                                             adenine\n",
       "2303        A-H                             intervalo conduccion ah\n",
       "1048     A-LHRH  antagonist of luteinizing hormonereleasing hormone"
      ]
     },
     "execution_count": 238,
     "metadata": {},
     "output_type": "execute_result"
    }
   ],
   "source": [
    "sf_lf_unique.sort_values('short_form').head()"
   ]
  },
  {
   "cell_type": "code",
   "execution_count": 239,
   "metadata": {},
   "outputs": [],
   "source": [
    "data_merged = data_df.merge(sf_lf_unique, on = 'short_form', how = 'left')"
   ]
  },
  {
   "cell_type": "code",
   "execution_count": 240,
   "metadata": {},
   "outputs": [
    {
     "data": {
      "text/plain": [
       "(3040, 5)"
      ]
     },
     "execution_count": 240,
     "metadata": {},
     "output_type": "execute_result"
    }
   ],
   "source": [
    "data_merged.shape"
   ]
  },
  {
   "cell_type": "code",
   "execution_count": 241,
   "metadata": {},
   "outputs": [],
   "source": [
    "pd.set_option('display.max_colwidth', 100)"
   ]
  },
  {
   "cell_type": "code",
   "execution_count": 242,
   "metadata": {},
   "outputs": [
    {
     "data": {
      "text/html": [
       "<div>\n",
       "<style scoped>\n",
       "    .dataframe tbody tr th:only-of-type {\n",
       "        vertical-align: middle;\n",
       "    }\n",
       "\n",
       "    .dataframe tbody tr th {\n",
       "        vertical-align: top;\n",
       "    }\n",
       "\n",
       "    .dataframe thead th {\n",
       "        text-align: right;\n",
       "    }\n",
       "</style>\n",
       "<table border=\"1\" class=\"dataframe\">\n",
       "  <thead>\n",
       "    <tr style=\"text-align: right;\">\n",
       "      <th></th>\n",
       "      <th>short_form</th>\n",
       "      <th>context</th>\n",
       "      <th>long_form</th>\n",
       "      <th>id</th>\n",
       "    </tr>\n",
       "  </thead>\n",
       "  <tbody>\n",
       "    <tr>\n",
       "      <th>2301</th>\n",
       "      <td>123I-MIBG</td>\n",
       "      <td>Fue remitido a Oncología Médica , donde solicitaron gammagrafía con &lt; start &gt; 123I-MIBG &lt; end &gt; ...</td>\n",
       "      <td>123imetayodobencilguanidina</td>\n",
       "      <td>0</td>\n",
       "    </tr>\n",
       "    <tr>\n",
       "      <th>1624</th>\n",
       "      <td>99mTc</td>\n",
       "      <td>cuello y cabeza femoral derecha . La gammagrafía ósea ( &lt; start &gt; 99mTc &lt; end &gt; constató el acúm...</td>\n",
       "      <td>tecnecio99m</td>\n",
       "      <td>372</td>\n",
       "    </tr>\n",
       "    <tr>\n",
       "      <th>2411</th>\n",
       "      <td>A</td>\n",
       "      <td>El &lt; start &gt; A &lt; end &gt; N , o ácido desoxirribonucleico , es el material que</td>\n",
       "      <td>adenine</td>\n",
       "      <td>7</td>\n",
       "    </tr>\n",
       "    <tr>\n",
       "      <th>1408</th>\n",
       "      <td>A</td>\n",
       "      <td>gen PAH : c.165delT ( p.Phe55fs ) / c.q62G &gt; &lt; start &gt; A &lt; end &gt; ( p.Val388Met ) , siendo ambos ...</td>\n",
       "      <td>adenine</td>\n",
       "      <td>7</td>\n",
       "    </tr>\n",
       "    <tr>\n",
       "      <th>2303</th>\n",
       "      <td>A-H</td>\n",
       "      <td>procedió también a un estudio electrofisiológico el cual mostró intervalos &lt; start &gt; A-H &lt; end &gt;...</td>\n",
       "      <td>intervalo conduccion ah</td>\n",
       "      <td>211</td>\n",
       "    </tr>\n",
       "  </tbody>\n",
       "</table>\n",
       "</div>"
      ],
      "text/plain": [
       "     short_form  \\\n",
       "2301  123I-MIBG   \n",
       "1624      99mTc   \n",
       "2411          A   \n",
       "1408          A   \n",
       "2303        A-H   \n",
       "\n",
       "                                                                                                  context  \\\n",
       "2301  Fue remitido a Oncología Médica , donde solicitaron gammagrafía con < start > 123I-MIBG < end > ...   \n",
       "1624  cuello y cabeza femoral derecha . La gammagrafía ósea ( < start > 99mTc < end > constató el acúm...   \n",
       "2411                          El < start > A < end > N , o ácido desoxirribonucleico , es el material que   \n",
       "1408  gen PAH : c.165delT ( p.Phe55fs ) / c.q62G > < start > A < end > ( p.Val388Met ) , siendo ambos ...   \n",
       "2303  procedió también a un estudio electrofisiológico el cual mostró intervalos < start > A-H < end >...   \n",
       "\n",
       "                        long_form   id  \n",
       "2301  123imetayodobencilguanidina    0  \n",
       "1624                  tecnecio99m  372  \n",
       "2411                      adenine    7  \n",
       "1408                      adenine    7  \n",
       "2303      intervalo conduccion ah  211  "
      ]
     },
     "execution_count": 242,
     "metadata": {},
     "output_type": "execute_result"
    }
   ],
   "source": [
    "data_df.sort_values(['short_form', 'context']).head()"
   ]
  },
  {
   "cell_type": "code",
   "execution_count": 243,
   "metadata": {},
   "outputs": [
    {
     "data": {
      "text/html": [
       "<div>\n",
       "<style scoped>\n",
       "    .dataframe tbody tr th:only-of-type {\n",
       "        vertical-align: middle;\n",
       "    }\n",
       "\n",
       "    .dataframe tbody tr th {\n",
       "        vertical-align: top;\n",
       "    }\n",
       "\n",
       "    .dataframe thead th {\n",
       "        text-align: right;\n",
       "    }\n",
       "</style>\n",
       "<table border=\"1\" class=\"dataframe\">\n",
       "  <thead>\n",
       "    <tr style=\"text-align: right;\">\n",
       "      <th></th>\n",
       "      <th>short_form</th>\n",
       "      <th>context</th>\n",
       "      <th>long_form_x</th>\n",
       "      <th>id</th>\n",
       "      <th>long_form_y</th>\n",
       "    </tr>\n",
       "  </thead>\n",
       "  <tbody>\n",
       "    <tr>\n",
       "      <th>2773</th>\n",
       "      <td>123I-MIBG</td>\n",
       "      <td>Fue remitido a Oncología Médica , donde solicitaron gammagrafía con &lt; start &gt; 123I-MIBG &lt; end &gt; ...</td>\n",
       "      <td>123imetayodobencilguanidina</td>\n",
       "      <td>0</td>\n",
       "      <td>123imetayodobencilguanidina</td>\n",
       "    </tr>\n",
       "    <tr>\n",
       "      <th>1947</th>\n",
       "      <td>99mTc</td>\n",
       "      <td>cuello y cabeza femoral derecha . La gammagrafía ósea ( &lt; start &gt; 99mTc &lt; end &gt; constató el acúm...</td>\n",
       "      <td>tecnecio99m</td>\n",
       "      <td>372</td>\n",
       "      <td>tecnecio99m</td>\n",
       "    </tr>\n",
       "    <tr>\n",
       "      <th>3022</th>\n",
       "      <td>A</td>\n",
       "      <td>El &lt; start &gt; A &lt; end &gt; N , o ácido desoxirribonucleico , es el material que</td>\n",
       "      <td>adenine</td>\n",
       "      <td>7</td>\n",
       "      <td>adenine</td>\n",
       "    </tr>\n",
       "    <tr>\n",
       "      <th>1706</th>\n",
       "      <td>A</td>\n",
       "      <td>gen PAH : c.165delT ( p.Phe55fs ) / c.q62G &gt; &lt; start &gt; A &lt; end &gt; ( p.Val388Met ) , siendo ambos ...</td>\n",
       "      <td>adenine</td>\n",
       "      <td>7</td>\n",
       "      <td>adenine</td>\n",
       "    </tr>\n",
       "    <tr>\n",
       "      <th>2775</th>\n",
       "      <td>A-H</td>\n",
       "      <td>procedió también a un estudio electrofisiológico el cual mostró intervalos &lt; start &gt; A-H &lt; end &gt;...</td>\n",
       "      <td>intervalo conduccion ah</td>\n",
       "      <td>211</td>\n",
       "      <td>intervalo conduccion ah</td>\n",
       "    </tr>\n",
       "  </tbody>\n",
       "</table>\n",
       "</div>"
      ],
      "text/plain": [
       "     short_form  \\\n",
       "2773  123I-MIBG   \n",
       "1947      99mTc   \n",
       "3022          A   \n",
       "1706          A   \n",
       "2775        A-H   \n",
       "\n",
       "                                                                                                  context  \\\n",
       "2773  Fue remitido a Oncología Médica , donde solicitaron gammagrafía con < start > 123I-MIBG < end > ...   \n",
       "1947  cuello y cabeza femoral derecha . La gammagrafía ósea ( < start > 99mTc < end > constató el acúm...   \n",
       "3022                          El < start > A < end > N , o ácido desoxirribonucleico , es el material que   \n",
       "1706  gen PAH : c.165delT ( p.Phe55fs ) / c.q62G > < start > A < end > ( p.Val388Met ) , siendo ambos ...   \n",
       "2775  procedió también a un estudio electrofisiológico el cual mostró intervalos < start > A-H < end >...   \n",
       "\n",
       "                      long_form_x   id                  long_form_y  \n",
       "2773  123imetayodobencilguanidina    0  123imetayodobencilguanidina  \n",
       "1947                  tecnecio99m  372                  tecnecio99m  \n",
       "3022                      adenine    7                      adenine  \n",
       "1706                      adenine    7                      adenine  \n",
       "2775      intervalo conduccion ah  211      intervalo conduccion ah  "
      ]
     },
     "execution_count": 243,
     "metadata": {},
     "output_type": "execute_result"
    }
   ],
   "source": [
    "data_merged.sort_values(['short_form', 'context']).head()"
   ]
  },
  {
   "cell_type": "markdown",
   "metadata": {},
   "source": [
    "Target must be 1 or 0. 1 if the corresponding LF is the one assigned to it, 0 otherwise"
   ]
  },
  {
   "cell_type": "code",
   "execution_count": 244,
   "metadata": {},
   "outputs": [],
   "source": [
    "data_merged['label'] = data_merged.apply(get_label, axis = 1)"
   ]
  },
  {
   "cell_type": "code",
   "execution_count": 245,
   "metadata": {},
   "outputs": [
    {
     "data": {
      "text/html": [
       "<div>\n",
       "<style scoped>\n",
       "    .dataframe tbody tr th:only-of-type {\n",
       "        vertical-align: middle;\n",
       "    }\n",
       "\n",
       "    .dataframe tbody tr th {\n",
       "        vertical-align: top;\n",
       "    }\n",
       "\n",
       "    .dataframe thead th {\n",
       "        text-align: right;\n",
       "    }\n",
       "</style>\n",
       "<table border=\"1\" class=\"dataframe\">\n",
       "  <thead>\n",
       "    <tr style=\"text-align: right;\">\n",
       "      <th></th>\n",
       "      <th>short_form</th>\n",
       "      <th>context</th>\n",
       "      <th>long_form_x</th>\n",
       "      <th>id</th>\n",
       "      <th>long_form_y</th>\n",
       "      <th>label</th>\n",
       "    </tr>\n",
       "  </thead>\n",
       "  <tbody>\n",
       "    <tr>\n",
       "      <th>0</th>\n",
       "      <td>CEA</td>\n",
       "      <td>, MyO D1 y Calretinina ) , así como para &lt; start &gt; CEA &lt; end &gt; y citoqueratinas de alto peso mol...</td>\n",
       "      <td>carcinoembrionary antigen</td>\n",
       "      <td>61</td>\n",
       "      <td>carcinoembrionary antigen</td>\n",
       "      <td>1</td>\n",
       "    </tr>\n",
       "    <tr>\n",
       "      <th>1</th>\n",
       "      <td>MyO D1</td>\n",
       "      <td>a músculo liso ( actina de músculo liso , &lt; start &gt; MyO D1 &lt; end &gt; y Calretinina ) , así como pa...</td>\n",
       "      <td>myogenic differentiation 1</td>\n",
       "      <td>272</td>\n",
       "      <td>myogenic differentiation 1</td>\n",
       "      <td>1</td>\n",
       "    </tr>\n",
       "    <tr>\n",
       "      <th>2</th>\n",
       "      <td>CAM5.2</td>\n",
       "      <td>observa marcada positividad frente a citoqueratinas ( AE1/AE3 ) y &lt; start &gt; CAM5.2 &lt; end &gt; a niv...</td>\n",
       "      <td>anticuerpo monoclonal cytokeratina 52</td>\n",
       "      <td>28</td>\n",
       "      <td>anticuerpo monoclonal cytokeratina 52</td>\n",
       "      <td>1</td>\n",
       "    </tr>\n",
       "    <tr>\n",
       "      <th>3</th>\n",
       "      <td>AE1/AE3</td>\n",
       "      <td>estudio inmunohistoquímico se observa marcada positividad frente a citoqueratinas ( &lt; start &gt; AE...</td>\n",
       "      <td>antipan cytokeratin antibody</td>\n",
       "      <td>34</td>\n",
       "      <td>antipan cytokeratin antibody</td>\n",
       "      <td>1</td>\n",
       "    </tr>\n",
       "    <tr>\n",
       "      <th>4</th>\n",
       "      <td>AE1/AE3</td>\n",
       "      <td>estudio inmunohistoquímico se observa marcada positividad frente a citoqueratinas ( &lt; start &gt; AE...</td>\n",
       "      <td>antipan cytokeratin antibody</td>\n",
       "      <td>34</td>\n",
       "      <td>monoclonal antibodies ae1 and ae3</td>\n",
       "      <td>0</td>\n",
       "    </tr>\n",
       "  </tbody>\n",
       "</table>\n",
       "</div>"
      ],
      "text/plain": [
       "  short_form  \\\n",
       "0        CEA   \n",
       "1     MyO D1   \n",
       "2     CAM5.2   \n",
       "3    AE1/AE3   \n",
       "4    AE1/AE3   \n",
       "\n",
       "                                                                                               context  \\\n",
       "0  , MyO D1 y Calretinina ) , así como para < start > CEA < end > y citoqueratinas de alto peso mol...   \n",
       "1  a músculo liso ( actina de músculo liso , < start > MyO D1 < end > y Calretinina ) , así como pa...   \n",
       "2  observa marcada positividad frente a citoqueratinas ( AE1/AE3 ) y < start > CAM5.2 < end > a niv...   \n",
       "3  estudio inmunohistoquímico se observa marcada positividad frente a citoqueratinas ( < start > AE...   \n",
       "4  estudio inmunohistoquímico se observa marcada positividad frente a citoqueratinas ( < start > AE...   \n",
       "\n",
       "                             long_form_x   id  \\\n",
       "0              carcinoembrionary antigen   61   \n",
       "1             myogenic differentiation 1  272   \n",
       "2  anticuerpo monoclonal cytokeratina 52   28   \n",
       "3           antipan cytokeratin antibody   34   \n",
       "4           antipan cytokeratin antibody   34   \n",
       "\n",
       "                             long_form_y  label  \n",
       "0              carcinoembrionary antigen      1  \n",
       "1             myogenic differentiation 1      1  \n",
       "2  anticuerpo monoclonal cytokeratina 52      1  \n",
       "3           antipan cytokeratin antibody      1  \n",
       "4      monoclonal antibodies ae1 and ae3      0  "
      ]
     },
     "execution_count": 245,
     "metadata": {},
     "output_type": "execute_result"
    }
   ],
   "source": [
    "data_merged.head()"
   ]
  },
  {
   "cell_type": "code",
   "execution_count": 246,
   "metadata": {},
   "outputs": [],
   "source": [
    "data_merged = data_merged[['short_form', 'context', 'long_form_y', 'label']]"
   ]
  },
  {
   "cell_type": "code",
   "execution_count": 247,
   "metadata": {},
   "outputs": [],
   "source": [
    "data_merged = data_merged.rename(columns = {'long_form_y':'long_form'})"
   ]
  },
  {
   "cell_type": "code",
   "execution_count": 248,
   "metadata": {},
   "outputs": [],
   "source": [
    "data_merged.reset_index(drop = True, inplace = True)"
   ]
  },
  {
   "cell_type": "code",
   "execution_count": 249,
   "metadata": {},
   "outputs": [
    {
     "data": {
      "text/html": [
       "<div>\n",
       "<style scoped>\n",
       "    .dataframe tbody tr th:only-of-type {\n",
       "        vertical-align: middle;\n",
       "    }\n",
       "\n",
       "    .dataframe tbody tr th {\n",
       "        vertical-align: top;\n",
       "    }\n",
       "\n",
       "    .dataframe thead th {\n",
       "        text-align: right;\n",
       "    }\n",
       "</style>\n",
       "<table border=\"1\" class=\"dataframe\">\n",
       "  <thead>\n",
       "    <tr style=\"text-align: right;\">\n",
       "      <th></th>\n",
       "      <th>short_form</th>\n",
       "      <th>context</th>\n",
       "      <th>long_form</th>\n",
       "      <th>label</th>\n",
       "    </tr>\n",
       "  </thead>\n",
       "  <tbody>\n",
       "    <tr>\n",
       "      <th>0</th>\n",
       "      <td>CEA</td>\n",
       "      <td>, MyO D1 y Calretinina ) , así como para &lt; start &gt; CEA &lt; end &gt; y citoqueratinas de alto peso mol...</td>\n",
       "      <td>carcinoembrionary antigen</td>\n",
       "      <td>1</td>\n",
       "    </tr>\n",
       "    <tr>\n",
       "      <th>1</th>\n",
       "      <td>MyO D1</td>\n",
       "      <td>a músculo liso ( actina de músculo liso , &lt; start &gt; MyO D1 &lt; end &gt; y Calretinina ) , así como pa...</td>\n",
       "      <td>myogenic differentiation 1</td>\n",
       "      <td>1</td>\n",
       "    </tr>\n",
       "    <tr>\n",
       "      <th>2</th>\n",
       "      <td>CAM5.2</td>\n",
       "      <td>observa marcada positividad frente a citoqueratinas ( AE1/AE3 ) y &lt; start &gt; CAM5.2 &lt; end &gt; a niv...</td>\n",
       "      <td>anticuerpo monoclonal cytokeratina 52</td>\n",
       "      <td>1</td>\n",
       "    </tr>\n",
       "    <tr>\n",
       "      <th>3</th>\n",
       "      <td>AE1/AE3</td>\n",
       "      <td>estudio inmunohistoquímico se observa marcada positividad frente a citoqueratinas ( &lt; start &gt; AE...</td>\n",
       "      <td>antipan cytokeratin antibody</td>\n",
       "      <td>1</td>\n",
       "    </tr>\n",
       "    <tr>\n",
       "      <th>4</th>\n",
       "      <td>AE1/AE3</td>\n",
       "      <td>estudio inmunohistoquímico se observa marcada positividad frente a citoqueratinas ( &lt; start &gt; AE...</td>\n",
       "      <td>monoclonal antibodies ae1 and ae3</td>\n",
       "      <td>0</td>\n",
       "    </tr>\n",
       "  </tbody>\n",
       "</table>\n",
       "</div>"
      ],
      "text/plain": [
       "  short_form  \\\n",
       "0        CEA   \n",
       "1     MyO D1   \n",
       "2     CAM5.2   \n",
       "3    AE1/AE3   \n",
       "4    AE1/AE3   \n",
       "\n",
       "                                                                                               context  \\\n",
       "0  , MyO D1 y Calretinina ) , así como para < start > CEA < end > y citoqueratinas de alto peso mol...   \n",
       "1  a músculo liso ( actina de músculo liso , < start > MyO D1 < end > y Calretinina ) , así como pa...   \n",
       "2  observa marcada positividad frente a citoqueratinas ( AE1/AE3 ) y < start > CAM5.2 < end > a niv...   \n",
       "3  estudio inmunohistoquímico se observa marcada positividad frente a citoqueratinas ( < start > AE...   \n",
       "4  estudio inmunohistoquímico se observa marcada positividad frente a citoqueratinas ( < start > AE...   \n",
       "\n",
       "                               long_form  label  \n",
       "0              carcinoembrionary antigen      1  \n",
       "1             myogenic differentiation 1      1  \n",
       "2  anticuerpo monoclonal cytokeratina 52      1  \n",
       "3           antipan cytokeratin antibody      1  \n",
       "4      monoclonal antibodies ae1 and ae3      0  "
      ]
     },
     "execution_count": 249,
     "metadata": {},
     "output_type": "execute_result"
    }
   ],
   "source": [
    "data_merged.head()"
   ]
  },
  {
   "cell_type": "code",
   "execution_count": 250,
   "metadata": {},
   "outputs": [],
   "source": [
    "data_merged.to_csv('../data/data_train/dev_data_beto_10_allacron_lfnorm_medline.csv')"
   ]
  },
  {
   "cell_type": "markdown",
   "metadata": {},
   "source": [
    "## Prepare Test Data"
   ]
  },
  {
   "cell_type": "markdown",
   "metadata": {},
   "source": [
    "### Preprocessing"
   ]
  },
  {
   "cell_type": "code",
   "execution_count": 251,
   "metadata": {},
   "outputs": [],
   "source": [
    "testing_raw.rename(columns={'nombre':'doc_id'}, inplace = True)"
   ]
  },
  {
   "cell_type": "code",
   "execution_count": 252,
   "metadata": {},
   "outputs": [],
   "source": [
    "test = testing_raw.merge(testing_abbr[['doc_id', 'Abbreviation', 'Definition_lemmatized']], on = 'doc_id', how = 'left')"
   ]
  },
  {
   "cell_type": "code",
   "execution_count": 253,
   "metadata": {},
   "outputs": [],
   "source": [
    "test = test.merge(testing_abbr, on = ['doc_id', 'Abbreviation'], how = 'left')"
   ]
  },
  {
   "cell_type": "code",
   "execution_count": 254,
   "metadata": {},
   "outputs": [],
   "source": [
    "test = test.drop_duplicates()"
   ]
  },
  {
   "cell_type": "code",
   "execution_count": 255,
   "metadata": {},
   "outputs": [],
   "source": [
    "test = test[['doc_id', 'texto', 'Abbreviation', 'Definition_lemmatized_x', 'StartOffset', 'EndOffset']]"
   ]
  },
  {
   "cell_type": "code",
   "execution_count": 256,
   "metadata": {},
   "outputs": [],
   "source": [
    "test = test.rename(columns = {'Definition_lemmatized_x':'Definition'})"
   ]
  },
  {
   "cell_type": "code",
   "execution_count": 257,
   "metadata": {},
   "outputs": [
    {
     "data": {
      "text/html": [
       "<div>\n",
       "<style scoped>\n",
       "    .dataframe tbody tr th:only-of-type {\n",
       "        vertical-align: middle;\n",
       "    }\n",
       "\n",
       "    .dataframe tbody tr th {\n",
       "        vertical-align: top;\n",
       "    }\n",
       "\n",
       "    .dataframe thead th {\n",
       "        text-align: right;\n",
       "    }\n",
       "</style>\n",
       "<table border=\"1\" class=\"dataframe\">\n",
       "  <thead>\n",
       "    <tr style=\"text-align: right;\">\n",
       "      <th></th>\n",
       "      <th>doc_id</th>\n",
       "      <th>texto</th>\n",
       "      <th>Abbreviation</th>\n",
       "      <th>Definition</th>\n",
       "      <th>StartOffset</th>\n",
       "      <th>EndOffset</th>\n",
       "    </tr>\n",
       "  </thead>\n",
       "  <tbody>\n",
       "    <tr>\n",
       "      <th>0</th>\n",
       "      <td>S1130-01082008001000010-1</td>\n",
       "      <td>Varón de 43 años originario de Marruecos, que ingresó en nuestro servicio por cuadro de 4 días d...</td>\n",
       "      <td>AMA</td>\n",
       "      <td>antimitochondrial antibodie</td>\n",
       "      <td>673.0</td>\n",
       "      <td>676.0</td>\n",
       "    </tr>\n",
       "    <tr>\n",
       "      <th>1</th>\n",
       "      <td>S1130-01082008001000010-1</td>\n",
       "      <td>Varón de 43 años originario de Marruecos, que ingresó en nuestro servicio por cuadro de 4 días d...</td>\n",
       "      <td>AMA-2</td>\n",
       "      <td>anti-mitochondrial-2 antibody</td>\n",
       "      <td>678.0</td>\n",
       "      <td>683.0</td>\n",
       "    </tr>\n",
       "    <tr>\n",
       "      <th>2</th>\n",
       "      <td>S1130-01082008001000010-1</td>\n",
       "      <td>Varón de 43 años originario de Marruecos, que ingresó en nuestro servicio por cuadro de 4 días d...</td>\n",
       "      <td>ANA</td>\n",
       "      <td>antinuclear antibody</td>\n",
       "      <td>668.0</td>\n",
       "      <td>671.0</td>\n",
       "    </tr>\n",
       "    <tr>\n",
       "      <th>3</th>\n",
       "      <td>S1130-01082008001000010-1</td>\n",
       "      <td>Varón de 43 años originario de Marruecos, que ingresó en nuestro servicio por cuadro de 4 días d...</td>\n",
       "      <td>ANCA</td>\n",
       "      <td>antineutrophil cytoplasmic antibodie</td>\n",
       "      <td>685.0</td>\n",
       "      <td>689.0</td>\n",
       "    </tr>\n",
       "    <tr>\n",
       "      <th>4</th>\n",
       "      <td>S1130-01082008001000010-1</td>\n",
       "      <td>Varón de 43 años originario de Marruecos, que ingresó en nuestro servicio por cuadro de 4 días d...</td>\n",
       "      <td>CA</td>\n",
       "      <td>carbohydrate antiger</td>\n",
       "      <td>622.0</td>\n",
       "      <td>624.0</td>\n",
       "    </tr>\n",
       "  </tbody>\n",
       "</table>\n",
       "</div>"
      ],
      "text/plain": [
       "                      doc_id  \\\n",
       "0  S1130-01082008001000010-1   \n",
       "1  S1130-01082008001000010-1   \n",
       "2  S1130-01082008001000010-1   \n",
       "3  S1130-01082008001000010-1   \n",
       "4  S1130-01082008001000010-1   \n",
       "\n",
       "                                                                                                 texto  \\\n",
       "0  Varón de 43 años originario de Marruecos, que ingresó en nuestro servicio por cuadro de 4 días d...   \n",
       "1  Varón de 43 años originario de Marruecos, que ingresó en nuestro servicio por cuadro de 4 días d...   \n",
       "2  Varón de 43 años originario de Marruecos, que ingresó en nuestro servicio por cuadro de 4 días d...   \n",
       "3  Varón de 43 años originario de Marruecos, que ingresó en nuestro servicio por cuadro de 4 días d...   \n",
       "4  Varón de 43 años originario de Marruecos, que ingresó en nuestro servicio por cuadro de 4 días d...   \n",
       "\n",
       "  Abbreviation                            Definition  StartOffset  EndOffset  \n",
       "0          AMA           antimitochondrial antibodie        673.0      676.0  \n",
       "1        AMA-2         anti-mitochondrial-2 antibody        678.0      683.0  \n",
       "2          ANA                  antinuclear antibody        668.0      671.0  \n",
       "3         ANCA  antineutrophil cytoplasmic antibodie        685.0      689.0  \n",
       "4           CA                  carbohydrate antiger        622.0      624.0  "
      ]
     },
     "execution_count": 257,
     "metadata": {},
     "output_type": "execute_result"
    }
   ],
   "source": [
    "test.head()"
   ]
  },
  {
   "cell_type": "code",
   "execution_count": 258,
   "metadata": {},
   "outputs": [],
   "source": [
    "test = test.rename(columns = {'Abbreviation': 'short_form', 'Definition': 'long_form'})"
   ]
  },
  {
   "cell_type": "code",
   "execution_count": 259,
   "metadata": {},
   "outputs": [],
   "source": [
    "test = test.dropna(subset = ['short_form', 'long_form'])"
   ]
  },
  {
   "cell_type": "code",
   "execution_count": 260,
   "metadata": {},
   "outputs": [],
   "source": [
    "test[['StartOffset', 'EndOffset']] = test[['StartOffset', 'EndOffset']].astype(int)"
   ]
  },
  {
   "cell_type": "markdown",
   "metadata": {},
   "source": [
    "Clean long forms to delete acents, string punctuation etc"
   ]
  },
  {
   "cell_type": "code",
   "execution_count": 261,
   "metadata": {},
   "outputs": [],
   "source": [
    "test['long_form'] = test['long_form'].map(clean_text)"
   ]
  },
  {
   "cell_type": "markdown",
   "metadata": {},
   "source": [
    "### Normalize long forms"
   ]
  },
  {
   "cell_type": "code",
   "execution_count": 262,
   "metadata": {},
   "outputs": [],
   "source": [
    "sf_lf_test = test[['short_form', 'long_form']].drop_duplicates()"
   ]
  },
  {
   "cell_type": "code",
   "execution_count": 263,
   "metadata": {},
   "outputs": [
    {
     "data": {
      "text/html": [
       "<div>\n",
       "<style scoped>\n",
       "    .dataframe tbody tr th:only-of-type {\n",
       "        vertical-align: middle;\n",
       "    }\n",
       "\n",
       "    .dataframe tbody tr th {\n",
       "        vertical-align: top;\n",
       "    }\n",
       "\n",
       "    .dataframe thead th {\n",
       "        text-align: right;\n",
       "    }\n",
       "</style>\n",
       "<table border=\"1\" class=\"dataframe\">\n",
       "  <thead>\n",
       "    <tr style=\"text-align: right;\">\n",
       "      <th></th>\n",
       "      <th>short_form</th>\n",
       "      <th>long_form</th>\n",
       "      <th>len</th>\n",
       "    </tr>\n",
       "  </thead>\n",
       "  <tbody>\n",
       "    <tr>\n",
       "      <th>87</th>\n",
       "      <td>C3</td>\n",
       "      <td>[tercero componente complemento, tercero vertebra cervical, complemento 3, nivel c subnivel 3]</td>\n",
       "      <td>4</td>\n",
       "    </tr>\n",
       "    <tr>\n",
       "      <th>241</th>\n",
       "      <td>G</td>\n",
       "      <td>[gauge, guanine, guanina]</td>\n",
       "      <td>3</td>\n",
       "    </tr>\n",
       "    <tr>\n",
       "      <th>215</th>\n",
       "      <td>F</td>\n",
       "      <td>[filamentous, fenilalanina, french]</td>\n",
       "      <td>3</td>\n",
       "    </tr>\n",
       "    <tr>\n",
       "      <th>481</th>\n",
       "      <td>T</td>\n",
       "      <td>[treonina, thymus, onda t]</td>\n",
       "      <td>3</td>\n",
       "    </tr>\n",
       "    <tr>\n",
       "      <th>416</th>\n",
       "      <td>PL</td>\n",
       "      <td>[puncion lumbar, percepcion luz, periodo lavado]</td>\n",
       "      <td>3</td>\n",
       "    </tr>\n",
       "    <tr>\n",
       "      <th>...</th>\n",
       "      <td>...</td>\n",
       "      <td>...</td>\n",
       "      <td>...</td>\n",
       "    </tr>\n",
       "    <tr>\n",
       "      <th>252</th>\n",
       "      <td>GOT</td>\n",
       "      <td>[glutamic oxalic transaminar]</td>\n",
       "      <td>1</td>\n",
       "    </tr>\n",
       "    <tr>\n",
       "      <th>253</th>\n",
       "      <td>GPL</td>\n",
       "      <td>[g fosfolipido]</td>\n",
       "      <td>1</td>\n",
       "    </tr>\n",
       "    <tr>\n",
       "      <th>254</th>\n",
       "      <td>GPT</td>\n",
       "      <td>[glutamate pyruvatar transaminar]</td>\n",
       "      <td>1</td>\n",
       "    </tr>\n",
       "    <tr>\n",
       "      <th>255</th>\n",
       "      <td>GQ-1b</td>\n",
       "      <td>[antigangliosidir antibodie 1b]</td>\n",
       "      <td>1</td>\n",
       "    </tr>\n",
       "    <tr>\n",
       "      <th>684</th>\n",
       "      <td>μm</td>\n",
       "      <td>[micrometro]</td>\n",
       "      <td>1</td>\n",
       "    </tr>\n",
       "  </tbody>\n",
       "</table>\n",
       "<p>685 rows × 3 columns</p>\n",
       "</div>"
      ],
      "text/plain": [
       "    short_form  \\\n",
       "87          C3   \n",
       "241          G   \n",
       "215          F   \n",
       "481          T   \n",
       "416         PL   \n",
       "..         ...   \n",
       "252        GOT   \n",
       "253        GPL   \n",
       "254        GPT   \n",
       "255      GQ-1b   \n",
       "684         μm   \n",
       "\n",
       "                                                                                          long_form  \\\n",
       "87   [tercero componente complemento, tercero vertebra cervical, complemento 3, nivel c subnivel 3]   \n",
       "241                                                                       [gauge, guanine, guanina]   \n",
       "215                                                             [filamentous, fenilalanina, french]   \n",
       "481                                                                      [treonina, thymus, onda t]   \n",
       "416                                                [puncion lumbar, percepcion luz, periodo lavado]   \n",
       "..                                                                                              ...   \n",
       "252                                                                   [glutamic oxalic transaminar]   \n",
       "253                                                                                 [g fosfolipido]   \n",
       "254                                                               [glutamate pyruvatar transaminar]   \n",
       "255                                                                 [antigangliosidir antibodie 1b]   \n",
       "684                                                                                    [micrometro]   \n",
       "\n",
       "     len  \n",
       "87     4  \n",
       "241    3  \n",
       "215    3  \n",
       "481    3  \n",
       "416    3  \n",
       "..   ...  \n",
       "252    1  \n",
       "253    1  \n",
       "254    1  \n",
       "255    1  \n",
       "684    1  \n",
       "\n",
       "[685 rows x 3 columns]"
      ]
     },
     "execution_count": 263,
     "metadata": {},
     "output_type": "execute_result"
    }
   ],
   "source": [
    "sf_lf_list_test = sf_lf_test.groupby('short_form', as_index=False).agg({'long_form': list})\n",
    "sf_lf_list_test['len'] = sf_lf_list_test['long_form'].map(lambda x: len(x))\n",
    "sf_lf_list_test.sort_values('len', ascending = False)"
   ]
  },
  {
   "cell_type": "markdown",
   "metadata": {},
   "source": [
    "#### Apply Levenshtein distance to normalize Long Forms"
   ]
  },
  {
   "cell_type": "markdown",
   "metadata": {},
   "source": [
    "Get more frequent lf per sf"
   ]
  },
  {
   "cell_type": "code",
   "execution_count": 264,
   "metadata": {},
   "outputs": [
    {
     "data": {
      "text/html": [
       "<div>\n",
       "<style scoped>\n",
       "    .dataframe tbody tr th:only-of-type {\n",
       "        vertical-align: middle;\n",
       "    }\n",
       "\n",
       "    .dataframe tbody tr th {\n",
       "        vertical-align: top;\n",
       "    }\n",
       "\n",
       "    .dataframe thead th {\n",
       "        text-align: right;\n",
       "    }\n",
       "</style>\n",
       "<table border=\"1\" class=\"dataframe\">\n",
       "  <thead>\n",
       "    <tr style=\"text-align: right;\">\n",
       "      <th></th>\n",
       "      <th>index</th>\n",
       "      <th>long_form</th>\n",
       "    </tr>\n",
       "  </thead>\n",
       "  <tbody>\n",
       "    <tr>\n",
       "      <th>0</th>\n",
       "      <td>miligramo</td>\n",
       "      <td>361</td>\n",
       "    </tr>\n",
       "    <tr>\n",
       "      <th>1</th>\n",
       "      <td>decilitro</td>\n",
       "      <td>213</td>\n",
       "    </tr>\n",
       "    <tr>\n",
       "      <th>2</th>\n",
       "      <td>centimetro</td>\n",
       "      <td>171</td>\n",
       "    </tr>\n",
       "    <tr>\n",
       "      <th>3</th>\n",
       "      <td>litro</td>\n",
       "      <td>128</td>\n",
       "    </tr>\n",
       "    <tr>\n",
       "      <th>4</th>\n",
       "      <td>mililitro</td>\n",
       "      <td>117</td>\n",
       "    </tr>\n",
       "    <tr>\n",
       "      <th>...</th>\n",
       "      <td>...</td>\n",
       "      <td>...</td>\n",
       "    </tr>\n",
       "    <tr>\n",
       "      <th>673</th>\n",
       "      <td>functional analysis through hiddir markov models</td>\n",
       "      <td>1</td>\n",
       "    </tr>\n",
       "    <tr>\n",
       "      <th>674</th>\n",
       "      <td>hepatitis b superficie</td>\n",
       "      <td>1</td>\n",
       "    </tr>\n",
       "    <tr>\n",
       "      <th>675</th>\n",
       "      <td>epsteinbarr virusencoded rno</td>\n",
       "      <td>1</td>\n",
       "    </tr>\n",
       "    <tr>\n",
       "      <th>676</th>\n",
       "      <td>concentrated antibody for usar with biogenex supersensitivir detection systems</td>\n",
       "      <td>1</td>\n",
       "    </tr>\n",
       "    <tr>\n",
       "      <th>677</th>\n",
       "      <td>duodecimo vertebrar dorsal</td>\n",
       "      <td>1</td>\n",
       "    </tr>\n",
       "  </tbody>\n",
       "</table>\n",
       "<p>678 rows × 2 columns</p>\n",
       "</div>"
      ],
      "text/plain": [
       "                                                                              index  \\\n",
       "0                                                                         miligramo   \n",
       "1                                                                         decilitro   \n",
       "2                                                                        centimetro   \n",
       "3                                                                             litro   \n",
       "4                                                                         mililitro   \n",
       "..                                                                              ...   \n",
       "673                                functional analysis through hiddir markov models   \n",
       "674                                                          hepatitis b superficie   \n",
       "675                                                    epsteinbarr virusencoded rno   \n",
       "676  concentrated antibody for usar with biogenex supersensitivir detection systems   \n",
       "677                                                      duodecimo vertebrar dorsal   \n",
       "\n",
       "     long_form  \n",
       "0          361  \n",
       "1          213  \n",
       "2          171  \n",
       "3          128  \n",
       "4          117  \n",
       "..         ...  \n",
       "673          1  \n",
       "674          1  \n",
       "675          1  \n",
       "676          1  \n",
       "677          1  \n",
       "\n",
       "[678 rows x 2 columns]"
      ]
     },
     "execution_count": 264,
     "metadata": {},
     "output_type": "execute_result"
    }
   ],
   "source": [
    "frec = test['long_form'].value_counts().reset_index()\n",
    "frec"
   ]
  },
  {
   "cell_type": "markdown",
   "metadata": {},
   "source": [
    "Create a dictionary where keys are the lf to normalize and the values the normalized form"
   ]
  },
  {
   "cell_type": "code",
   "execution_count": 265,
   "metadata": {},
   "outputs": [],
   "source": [
    "norm_test = []\n",
    "for i in sf_lf_list_test['long_form']:\n",
    "    norm_test.append(normalize_lf(i))"
   ]
  },
  {
   "cell_type": "code",
   "execution_count": 266,
   "metadata": {},
   "outputs": [],
   "source": [
    "norm_test = [i for i in norm_test if i != None]"
   ]
  },
  {
   "cell_type": "code",
   "execution_count": 267,
   "metadata": {
    "tags": []
   },
   "outputs": [],
   "source": [
    "norm_dict_test = {}\n",
    "for i in norm_test:\n",
    "    norm_dict_test.update(i)\n",
    "#norm_dict"
   ]
  },
  {
   "cell_type": "markdown",
   "metadata": {},
   "source": [
    "Finally normalize long forms over the dataframe"
   ]
  },
  {
   "cell_type": "code",
   "execution_count": 268,
   "metadata": {},
   "outputs": [
    {
     "data": {
      "text/html": [
       "<div>\n",
       "<style scoped>\n",
       "    .dataframe tbody tr th:only-of-type {\n",
       "        vertical-align: middle;\n",
       "    }\n",
       "\n",
       "    .dataframe tbody tr th {\n",
       "        vertical-align: top;\n",
       "    }\n",
       "\n",
       "    .dataframe thead th {\n",
       "        text-align: right;\n",
       "    }\n",
       "</style>\n",
       "<table border=\"1\" class=\"dataframe\">\n",
       "  <thead>\n",
       "    <tr style=\"text-align: right;\">\n",
       "      <th></th>\n",
       "      <th>doc_id</th>\n",
       "      <th>texto</th>\n",
       "      <th>short_form</th>\n",
       "      <th>long_form</th>\n",
       "      <th>StartOffset</th>\n",
       "      <th>EndOffset</th>\n",
       "    </tr>\n",
       "  </thead>\n",
       "  <tbody>\n",
       "    <tr>\n",
       "      <th>0</th>\n",
       "      <td>S1130-01082006000100014-1</td>\n",
       "      <td>Se trata de una mujer de 35 años, con antecedentes familiares de enfermedad de Crohn y sin antec...</td>\n",
       "      <td>dl</td>\n",
       "      <td>decilitro</td>\n",
       "      <td>1908</td>\n",
       "      <td>1910</td>\n",
       "    </tr>\n",
       "    <tr>\n",
       "      <th>1</th>\n",
       "      <td>S1130-01082006000100014-1</td>\n",
       "      <td>Se trata de una mujer de 35 años, con antecedentes familiares de enfermedad de Crohn y sin antec...</td>\n",
       "      <td>dl</td>\n",
       "      <td>decilitro</td>\n",
       "      <td>1684</td>\n",
       "      <td>1686</td>\n",
       "    </tr>\n",
       "    <tr>\n",
       "      <th>2</th>\n",
       "      <td>S1130-01082006000100014-1</td>\n",
       "      <td>Se trata de una mujer de 35 años, con antecedentes familiares de enfermedad de Crohn y sin antec...</td>\n",
       "      <td>dl</td>\n",
       "      <td>decilitro</td>\n",
       "      <td>1656</td>\n",
       "      <td>1658</td>\n",
       "    </tr>\n",
       "    <tr>\n",
       "      <th>3</th>\n",
       "      <td>S1130-01082006000100014-1</td>\n",
       "      <td>Se trata de una mujer de 35 años, con antecedentes familiares de enfermedad de Crohn y sin antec...</td>\n",
       "      <td>dl</td>\n",
       "      <td>decilitro</td>\n",
       "      <td>1414</td>\n",
       "      <td>1416</td>\n",
       "    </tr>\n",
       "    <tr>\n",
       "      <th>4</th>\n",
       "      <td>S1130-01082006000100014-1</td>\n",
       "      <td>Se trata de una mujer de 35 años, con antecedentes familiares de enfermedad de Crohn y sin antec...</td>\n",
       "      <td>g</td>\n",
       "      <td>gramo</td>\n",
       "      <td>1654</td>\n",
       "      <td>1655</td>\n",
       "    </tr>\n",
       "  </tbody>\n",
       "</table>\n",
       "</div>"
      ],
      "text/plain": [
       "                      doc_id  \\\n",
       "0  S1130-01082006000100014-1   \n",
       "1  S1130-01082006000100014-1   \n",
       "2  S1130-01082006000100014-1   \n",
       "3  S1130-01082006000100014-1   \n",
       "4  S1130-01082006000100014-1   \n",
       "\n",
       "                                                                                                 texto  \\\n",
       "0  Se trata de una mujer de 35 años, con antecedentes familiares de enfermedad de Crohn y sin antec...   \n",
       "1  Se trata de una mujer de 35 años, con antecedentes familiares de enfermedad de Crohn y sin antec...   \n",
       "2  Se trata de una mujer de 35 años, con antecedentes familiares de enfermedad de Crohn y sin antec...   \n",
       "3  Se trata de una mujer de 35 años, con antecedentes familiares de enfermedad de Crohn y sin antec...   \n",
       "4  Se trata de una mujer de 35 años, con antecedentes familiares de enfermedad de Crohn y sin antec...   \n",
       "\n",
       "  short_form  long_form  StartOffset  EndOffset  \n",
       "0         dl  decilitro         1908       1910  \n",
       "1         dl  decilitro         1684       1686  \n",
       "2         dl  decilitro         1656       1658  \n",
       "3         dl  decilitro         1414       1416  \n",
       "4          g      gramo         1654       1655  "
      ]
     },
     "execution_count": 268,
     "metadata": {},
     "output_type": "execute_result"
    }
   ],
   "source": [
    "train.head()"
   ]
  },
  {
   "cell_type": "code",
   "execution_count": 269,
   "metadata": {},
   "outputs": [],
   "source": [
    "test = test.replace({\"long_form\": norm_dict_test})"
   ]
  },
  {
   "cell_type": "code",
   "execution_count": 270,
   "metadata": {},
   "outputs": [
    {
     "data": {
      "text/html": [
       "<div>\n",
       "<style scoped>\n",
       "    .dataframe tbody tr th:only-of-type {\n",
       "        vertical-align: middle;\n",
       "    }\n",
       "\n",
       "    .dataframe tbody tr th {\n",
       "        vertical-align: top;\n",
       "    }\n",
       "\n",
       "    .dataframe thead th {\n",
       "        text-align: right;\n",
       "    }\n",
       "</style>\n",
       "<table border=\"1\" class=\"dataframe\">\n",
       "  <thead>\n",
       "    <tr style=\"text-align: right;\">\n",
       "      <th></th>\n",
       "      <th>doc_id</th>\n",
       "      <th>texto</th>\n",
       "      <th>short_form</th>\n",
       "      <th>long_form</th>\n",
       "      <th>StartOffset</th>\n",
       "      <th>EndOffset</th>\n",
       "    </tr>\n",
       "  </thead>\n",
       "  <tbody>\n",
       "    <tr>\n",
       "      <th>0</th>\n",
       "      <td>S1130-01082006000100014-1</td>\n",
       "      <td>Se trata de una mujer de 35 años, con antecedentes familiares de enfermedad de Crohn y sin antec...</td>\n",
       "      <td>dl</td>\n",
       "      <td>decilitro</td>\n",
       "      <td>1908</td>\n",
       "      <td>1910</td>\n",
       "    </tr>\n",
       "    <tr>\n",
       "      <th>1</th>\n",
       "      <td>S1130-01082006000100014-1</td>\n",
       "      <td>Se trata de una mujer de 35 años, con antecedentes familiares de enfermedad de Crohn y sin antec...</td>\n",
       "      <td>dl</td>\n",
       "      <td>decilitro</td>\n",
       "      <td>1684</td>\n",
       "      <td>1686</td>\n",
       "    </tr>\n",
       "    <tr>\n",
       "      <th>2</th>\n",
       "      <td>S1130-01082006000100014-1</td>\n",
       "      <td>Se trata de una mujer de 35 años, con antecedentes familiares de enfermedad de Crohn y sin antec...</td>\n",
       "      <td>dl</td>\n",
       "      <td>decilitro</td>\n",
       "      <td>1656</td>\n",
       "      <td>1658</td>\n",
       "    </tr>\n",
       "    <tr>\n",
       "      <th>3</th>\n",
       "      <td>S1130-01082006000100014-1</td>\n",
       "      <td>Se trata de una mujer de 35 años, con antecedentes familiares de enfermedad de Crohn y sin antec...</td>\n",
       "      <td>dl</td>\n",
       "      <td>decilitro</td>\n",
       "      <td>1414</td>\n",
       "      <td>1416</td>\n",
       "    </tr>\n",
       "    <tr>\n",
       "      <th>4</th>\n",
       "      <td>S1130-01082006000100014-1</td>\n",
       "      <td>Se trata de una mujer de 35 años, con antecedentes familiares de enfermedad de Crohn y sin antec...</td>\n",
       "      <td>g</td>\n",
       "      <td>gramo</td>\n",
       "      <td>1654</td>\n",
       "      <td>1655</td>\n",
       "    </tr>\n",
       "  </tbody>\n",
       "</table>\n",
       "</div>"
      ],
      "text/plain": [
       "                      doc_id  \\\n",
       "0  S1130-01082006000100014-1   \n",
       "1  S1130-01082006000100014-1   \n",
       "2  S1130-01082006000100014-1   \n",
       "3  S1130-01082006000100014-1   \n",
       "4  S1130-01082006000100014-1   \n",
       "\n",
       "                                                                                                 texto  \\\n",
       "0  Se trata de una mujer de 35 años, con antecedentes familiares de enfermedad de Crohn y sin antec...   \n",
       "1  Se trata de una mujer de 35 años, con antecedentes familiares de enfermedad de Crohn y sin antec...   \n",
       "2  Se trata de una mujer de 35 años, con antecedentes familiares de enfermedad de Crohn y sin antec...   \n",
       "3  Se trata de una mujer de 35 años, con antecedentes familiares de enfermedad de Crohn y sin antec...   \n",
       "4  Se trata de una mujer de 35 años, con antecedentes familiares de enfermedad de Crohn y sin antec...   \n",
       "\n",
       "  short_form  long_form  StartOffset  EndOffset  \n",
       "0         dl  decilitro         1908       1910  \n",
       "1         dl  decilitro         1684       1686  \n",
       "2         dl  decilitro         1656       1658  \n",
       "3         dl  decilitro         1414       1416  \n",
       "4          g      gramo         1654       1655  "
      ]
     },
     "execution_count": 270,
     "metadata": {},
     "output_type": "execute_result"
    }
   ],
   "source": [
    "train.head()"
   ]
  },
  {
   "cell_type": "markdown",
   "metadata": {},
   "source": [
    "### Get just ambigous acronyms"
   ]
  },
  {
   "cell_type": "markdown",
   "metadata": {},
   "source": [
    "Execute this code just in case only ambigous acronyms are needed."
   ]
  },
  {
   "cell_type": "code",
   "execution_count": 271,
   "metadata": {},
   "outputs": [],
   "source": [
    "#amb_test = test.groupby('short_form')['long_form'].nunique().reset_index().sort_values('long_form', ascending = False)"
   ]
  },
  {
   "cell_type": "code",
   "execution_count": 272,
   "metadata": {},
   "outputs": [],
   "source": [
    "#amb_test.head()"
   ]
  },
  {
   "cell_type": "code",
   "execution_count": 273,
   "metadata": {},
   "outputs": [],
   "source": [
    "#table = pd.crosstab(amb_test['long_form'], columns = 'Count')\n",
    "#table.plot.bar()\n",
    "#plt.show()"
   ]
  },
  {
   "cell_type": "code",
   "execution_count": 274,
   "metadata": {},
   "outputs": [],
   "source": [
    "#defin_test = amb_test[amb_test['long_form'] != 1]['short_form'].values.tolist()"
   ]
  },
  {
   "cell_type": "code",
   "execution_count": 275,
   "metadata": {},
   "outputs": [],
   "source": [
    "#test.shape"
   ]
  },
  {
   "cell_type": "code",
   "execution_count": 276,
   "metadata": {},
   "outputs": [],
   "source": [
    "#test = test[test['short_form'].isin(defin_test)]"
   ]
  },
  {
   "cell_type": "code",
   "execution_count": 277,
   "metadata": {},
   "outputs": [],
   "source": [
    "#test.shape"
   ]
  },
  {
   "cell_type": "markdown",
   "metadata": {},
   "source": [
    "Transform dataframe to a list of dictionaries"
   ]
  },
  {
   "cell_type": "code",
   "execution_count": 278,
   "metadata": {},
   "outputs": [],
   "source": [
    "test_data = test[['doc_id', 'texto', 'short_form', 'long_form', 'StartOffset', 'EndOffset']].to_dict('records')"
   ]
  },
  {
   "cell_type": "markdown",
   "metadata": {},
   "source": [
    "### Get the text before and after the SF"
   ]
  },
  {
   "cell_type": "code",
   "execution_count": 279,
   "metadata": {},
   "outputs": [],
   "source": [
    "test_ndata, sf_not_found = get_f_b_context_text(test_data)"
   ]
  },
  {
   "cell_type": "markdown",
   "metadata": {},
   "source": [
    "Check if any SF is not founded in the text"
   ]
  },
  {
   "cell_type": "code",
   "execution_count": 280,
   "metadata": {},
   "outputs": [],
   "source": [
    "sf_not_found_set = set(sf_not_found)"
   ]
  },
  {
   "cell_type": "code",
   "execution_count": 281,
   "metadata": {},
   "outputs": [
    {
     "data": {
      "text/plain": [
       "0"
      ]
     },
     "execution_count": 281,
     "metadata": {},
     "output_type": "execute_result"
    }
   ],
   "source": [
    "len(sf_not_found_set)"
   ]
  },
  {
   "cell_type": "markdown",
   "metadata": {},
   "source": [
    "Execute this code just in case clean the texts are needed: remove string punctuation, accents, lower case, remove double spaces, separate numbers from sf"
   ]
  },
  {
   "cell_type": "code",
   "execution_count": 282,
   "metadata": {},
   "outputs": [],
   "source": [
    "# def clean_text_after(data):\n",
    "    \n",
    "#     for instance in data:\n",
    "#         instance[1] = clean_text(instance[1]).lower()\n",
    "#         instance[2] = clean_text(instance[2]).lower()\n",
    "#         instance[1] = re.sub(r'(\\d+)', r'\\g<1> ', instance[1]) #metemos espacio entre número y acrónimos que quedan pegados    \n",
    "#         instance[2] = re.sub(r'(\\d+)', r'\\g<1> ', instance[2])\n",
    "#         instance[1] = re.sub(r'\\s+', ' ', instance[1]).strip()\n",
    "#         instance[2] = re.sub(r'\\s+', ' ', instance[2]).strip()\n",
    "#     return data\n",
    "        "
   ]
  },
  {
   "cell_type": "code",
   "execution_count": 283,
   "metadata": {},
   "outputs": [],
   "source": [
    "# train_ndata = clean_text_after(train_ndata)"
   ]
  },
  {
   "cell_type": "markdown",
   "metadata": {},
   "source": [
    "### Get the contexts "
   ]
  },
  {
   "cell_type": "markdown",
   "metadata": {},
   "source": [
    "From the texts before and after the sf, we limit the number of words"
   ]
  },
  {
   "cell_type": "code",
   "execution_count": 284,
   "metadata": {},
   "outputs": [],
   "source": [
    "star_ends_tokens = 6 #number of tokens to add because <start> and <end> labels "
   ]
  },
  {
   "cell_type": "code",
   "execution_count": 285,
   "metadata": {},
   "outputs": [],
   "source": [
    "n_step_f = 10 + star_ends_tokens #number of words to select from the forward context\n",
    "n_step_b = 10 #number of words to select from the backward context"
   ]
  },
  {
   "cell_type": "code",
   "execution_count": 286,
   "metadata": {},
   "outputs": [],
   "source": [
    "test_ndata = limit_context(test_ndata)"
   ]
  },
  {
   "cell_type": "code",
   "execution_count": 287,
   "metadata": {},
   "outputs": [
    {
     "data": {
      "text/plain": [
       "['AMA',\n",
       " 'era de 82 UI/ml . Los autoanticuerpos ( ANA , < start > AMA < end >',\n",
       " 'AMA-2 , ANCA , LKM1 , SMA , SLA y',\n",
       " 'antimitochondrial antibodie']"
      ]
     },
     "execution_count": 287,
     "metadata": {},
     "output_type": "execute_result"
    }
   ],
   "source": [
    "test_ndata[0]"
   ]
  },
  {
   "cell_type": "markdown",
   "metadata": {},
   "source": [
    "### Transform into df grouped by LF"
   ]
  },
  {
   "cell_type": "code",
   "execution_count": 288,
   "metadata": {},
   "outputs": [],
   "source": [
    "data_dic = create_dict(test_ndata)"
   ]
  },
  {
   "cell_type": "code",
   "execution_count": 289,
   "metadata": {},
   "outputs": [],
   "source": [
    "data_df = pd.DataFrame(data_dic)"
   ]
  },
  {
   "cell_type": "markdown",
   "metadata": {},
   "source": [
    "Asign an id to each LF"
   ]
  },
  {
   "cell_type": "code",
   "execution_count": 290,
   "metadata": {},
   "outputs": [],
   "source": [
    "data_df = data_df.assign(id=(data_df['long_form']).astype('category').cat.codes)"
   ]
  },
  {
   "cell_type": "code",
   "execution_count": 291,
   "metadata": {},
   "outputs": [
    {
     "data": {
      "text/html": [
       "<div>\n",
       "<style scoped>\n",
       "    .dataframe tbody tr th:only-of-type {\n",
       "        vertical-align: middle;\n",
       "    }\n",
       "\n",
       "    .dataframe tbody tr th {\n",
       "        vertical-align: top;\n",
       "    }\n",
       "\n",
       "    .dataframe thead th {\n",
       "        text-align: right;\n",
       "    }\n",
       "</style>\n",
       "<table border=\"1\" class=\"dataframe\">\n",
       "  <thead>\n",
       "    <tr style=\"text-align: right;\">\n",
       "      <th></th>\n",
       "      <th>short_form</th>\n",
       "      <th>context</th>\n",
       "      <th>long_form</th>\n",
       "      <th>id</th>\n",
       "    </tr>\n",
       "  </thead>\n",
       "  <tbody>\n",
       "    <tr>\n",
       "      <th>0</th>\n",
       "      <td>AMA</td>\n",
       "      <td>era de 82 UI/ml . Los autoanticuerpos ( ANA , &lt; start &gt; AMA &lt; end &gt; AMA-2 , ANCA , LKM1 , SMA , ...</td>\n",
       "      <td>antimitochondrial antibodie</td>\n",
       "      <td>47</td>\n",
       "    </tr>\n",
       "    <tr>\n",
       "      <th>1</th>\n",
       "      <td>AMA-2</td>\n",
       "      <td>82 UI/ml . Los autoanticuerpos ( ANA , AMA , &lt; start &gt; AMA-2 &lt; end &gt; ANCA , LKM1 , SMA , SLA y F...</td>\n",
       "      <td>antimitochondrial2 antibody</td>\n",
       "      <td>48</td>\n",
       "    </tr>\n",
       "    <tr>\n",
       "      <th>2</th>\n",
       "      <td>ANA</td>\n",
       "      <td>CA 19-9 era de 82 UI/ml . Los autoanticuerpos ( &lt; start &gt; ANA &lt; end &gt; AMA , AMA-2 , ANCA , LKM1 ...</td>\n",
       "      <td>antinuclear antibody</td>\n",
       "      <td>53</td>\n",
       "    </tr>\n",
       "    <tr>\n",
       "      <th>3</th>\n",
       "      <td>ANCA</td>\n",
       "      <td>. Los autoanticuerpos ( ANA , AMA , AMA-2 , &lt; start &gt; ANCA &lt; end &gt; LKM1 , SMA , SLA y F-actina )...</td>\n",
       "      <td>antineutrophil cytoplasmic antibodie</td>\n",
       "      <td>51</td>\n",
       "    </tr>\n",
       "    <tr>\n",
       "      <th>4</th>\n",
       "      <td>CA</td>\n",
       "      <td>IgG 1840 UI/ml ( 751-1.560 UI/ml ) . El marcador &lt; start &gt; CA &lt; end &gt; 19-9 era de 82 UI/ml . Los...</td>\n",
       "      <td>carbohydrate antiger</td>\n",
       "      <td>97</td>\n",
       "    </tr>\n",
       "  </tbody>\n",
       "</table>\n",
       "</div>"
      ],
      "text/plain": [
       "  short_form  \\\n",
       "0        AMA   \n",
       "1      AMA-2   \n",
       "2        ANA   \n",
       "3       ANCA   \n",
       "4         CA   \n",
       "\n",
       "                                                                                               context  \\\n",
       "0  era de 82 UI/ml . Los autoanticuerpos ( ANA , < start > AMA < end > AMA-2 , ANCA , LKM1 , SMA , ...   \n",
       "1  82 UI/ml . Los autoanticuerpos ( ANA , AMA , < start > AMA-2 < end > ANCA , LKM1 , SMA , SLA y F...   \n",
       "2  CA 19-9 era de 82 UI/ml . Los autoanticuerpos ( < start > ANA < end > AMA , AMA-2 , ANCA , LKM1 ...   \n",
       "3  . Los autoanticuerpos ( ANA , AMA , AMA-2 , < start > ANCA < end > LKM1 , SMA , SLA y F-actina )...   \n",
       "4  IgG 1840 UI/ml ( 751-1.560 UI/ml ) . El marcador < start > CA < end > 19-9 era de 82 UI/ml . Los...   \n",
       "\n",
       "                              long_form  id  \n",
       "0           antimitochondrial antibodie  47  \n",
       "1           antimitochondrial2 antibody  48  \n",
       "2                  antinuclear antibody  53  \n",
       "3  antineutrophil cytoplasmic antibodie  51  \n",
       "4                  carbohydrate antiger  97  "
      ]
     },
     "execution_count": 291,
     "metadata": {},
     "output_type": "execute_result"
    }
   ],
   "source": [
    "data_df.head()"
   ]
  },
  {
   "cell_type": "code",
   "execution_count": 292,
   "metadata": {},
   "outputs": [
    {
     "data": {
      "text/plain": [
       "(3515, 4)"
      ]
     },
     "execution_count": 292,
     "metadata": {},
     "output_type": "execute_result"
    }
   ],
   "source": [
    "data_df.shape"
   ]
  },
  {
   "cell_type": "markdown",
   "metadata": {},
   "source": [
    "We will join each SF with all possible LFs, one for each record, so that later the model works in binary form assigning the probability that that is its LF"
   ]
  },
  {
   "cell_type": "code",
   "execution_count": 293,
   "metadata": {},
   "outputs": [],
   "source": [
    "sf_lf_unique = data_df[['short_form', 'long_form']].drop_duplicates()"
   ]
  },
  {
   "cell_type": "code",
   "execution_count": 294,
   "metadata": {},
   "outputs": [
    {
     "data": {
      "text/plain": [
       "(757, 2)"
      ]
     },
     "execution_count": 294,
     "metadata": {},
     "output_type": "execute_result"
    }
   ],
   "source": [
    "sf_lf_unique.shape"
   ]
  },
  {
   "cell_type": "code",
   "execution_count": 295,
   "metadata": {},
   "outputs": [
    {
     "data": {
      "text/html": [
       "<div>\n",
       "<style scoped>\n",
       "    .dataframe tbody tr th:only-of-type {\n",
       "        vertical-align: middle;\n",
       "    }\n",
       "\n",
       "    .dataframe tbody tr th {\n",
       "        vertical-align: top;\n",
       "    }\n",
       "\n",
       "    .dataframe thead th {\n",
       "        text-align: right;\n",
       "    }\n",
       "</style>\n",
       "<table border=\"1\" class=\"dataframe\">\n",
       "  <thead>\n",
       "    <tr style=\"text-align: right;\">\n",
       "      <th></th>\n",
       "      <th>short_form</th>\n",
       "      <th>long_form</th>\n",
       "    </tr>\n",
       "  </thead>\n",
       "  <tbody>\n",
       "    <tr>\n",
       "      <th>1527</th>\n",
       "      <td>/mm3</td>\n",
       "      <td>milimetro cubico</td>\n",
       "    </tr>\n",
       "    <tr>\n",
       "      <th>2156</th>\n",
       "      <td>16SrRNA</td>\n",
       "      <td>16s ribosomal rno</td>\n",
       "    </tr>\n",
       "    <tr>\n",
       "      <th>1981</th>\n",
       "      <td>3D</td>\n",
       "      <td>3 dimension</td>\n",
       "    </tr>\n",
       "    <tr>\n",
       "      <th>2084</th>\n",
       "      <td>5-ASA</td>\n",
       "      <td>5aminosalicylic acid</td>\n",
       "    </tr>\n",
       "    <tr>\n",
       "      <th>2132</th>\n",
       "      <td>A</td>\n",
       "      <td>adenina</td>\n",
       "    </tr>\n",
       "  </tbody>\n",
       "</table>\n",
       "</div>"
      ],
      "text/plain": [
       "     short_form             long_form\n",
       "1527       /mm3      milimetro cubico\n",
       "2156    16SrRNA     16s ribosomal rno\n",
       "1981         3D           3 dimension\n",
       "2084      5-ASA  5aminosalicylic acid\n",
       "2132          A               adenina"
      ]
     },
     "execution_count": 295,
     "metadata": {},
     "output_type": "execute_result"
    }
   ],
   "source": [
    "sf_lf_unique.sort_values('short_form').head()"
   ]
  },
  {
   "cell_type": "code",
   "execution_count": 296,
   "metadata": {},
   "outputs": [],
   "source": [
    "data_merged_test = data_df.merge(sf_lf_unique, on = 'short_form', how = 'left')"
   ]
  },
  {
   "cell_type": "code",
   "execution_count": 297,
   "metadata": {},
   "outputs": [
    {
     "data": {
      "text/plain": [
       "(4416, 5)"
      ]
     },
     "execution_count": 297,
     "metadata": {},
     "output_type": "execute_result"
    }
   ],
   "source": [
    "data_merged_test.shape"
   ]
  },
  {
   "cell_type": "code",
   "execution_count": 298,
   "metadata": {},
   "outputs": [
    {
     "data": {
      "text/html": [
       "<div>\n",
       "<style scoped>\n",
       "    .dataframe tbody tr th:only-of-type {\n",
       "        vertical-align: middle;\n",
       "    }\n",
       "\n",
       "    .dataframe tbody tr th {\n",
       "        vertical-align: top;\n",
       "    }\n",
       "\n",
       "    .dataframe thead th {\n",
       "        text-align: right;\n",
       "    }\n",
       "</style>\n",
       "<table border=\"1\" class=\"dataframe\">\n",
       "  <thead>\n",
       "    <tr style=\"text-align: right;\">\n",
       "      <th></th>\n",
       "      <th>short_form</th>\n",
       "      <th>context</th>\n",
       "      <th>long_form</th>\n",
       "      <th>id</th>\n",
       "    </tr>\n",
       "  </thead>\n",
       "  <tbody>\n",
       "    <tr>\n",
       "      <th>1527</th>\n",
       "      <td>/mm3</td>\n",
       "      <td>mostró un líquido espeso de aspecto lechoso con 1400 leucocitos &lt; start &gt; /mm3 &lt; end &gt; con un 10...</td>\n",
       "      <td>milimetro cubico</td>\n",
       "      <td>411</td>\n",
       "    </tr>\n",
       "    <tr>\n",
       "      <th>2156</th>\n",
       "      <td>16SrRNA</td>\n",
       "      <td>los que se procedió al estudio genético mediante secuenciación del &lt; start &gt; 16SrRNA &lt; end &gt; ide...</td>\n",
       "      <td>16s ribosomal rno</td>\n",
       "      <td>0</td>\n",
       "    </tr>\n",
       "    <tr>\n",
       "      <th>1981</th>\n",
       "      <td>3D</td>\n",
       "      <td>con cuñas de compensación tisular tras simulación virtual y planificación &lt; start &gt; 3D &lt; end &gt; s...</td>\n",
       "      <td>3 dimension</td>\n",
       "      <td>1</td>\n",
       "    </tr>\n",
       "    <tr>\n",
       "      <th>2084</th>\n",
       "      <td>5-ASA</td>\n",
       "      <td>endoscópicos , de colitis ulcerosa , se inicia tratamiento con &lt; start &gt; 5-ASA &lt; end &gt; a pesar d...</td>\n",
       "      <td>5aminosalicylic acid</td>\n",
       "      <td>2</td>\n",
       "    </tr>\n",
       "    <tr>\n",
       "      <th>1784</th>\n",
       "      <td>A</td>\n",
       "      <td>dominante ( ATR-AD ) . Dicha mutación ( c.1766G &gt; &lt; start &gt; A &lt; end &gt; fig . 2A ) supone la susti...</td>\n",
       "      <td>adeniner</td>\n",
       "      <td>13</td>\n",
       "    </tr>\n",
       "  </tbody>\n",
       "</table>\n",
       "</div>"
      ],
      "text/plain": [
       "     short_form  \\\n",
       "1527       /mm3   \n",
       "2156    16SrRNA   \n",
       "1981         3D   \n",
       "2084      5-ASA   \n",
       "1784          A   \n",
       "\n",
       "                                                                                                  context  \\\n",
       "1527  mostró un líquido espeso de aspecto lechoso con 1400 leucocitos < start > /mm3 < end > con un 10...   \n",
       "2156  los que se procedió al estudio genético mediante secuenciación del < start > 16SrRNA < end > ide...   \n",
       "1981  con cuñas de compensación tisular tras simulación virtual y planificación < start > 3D < end > s...   \n",
       "2084  endoscópicos , de colitis ulcerosa , se inicia tratamiento con < start > 5-ASA < end > a pesar d...   \n",
       "1784  dominante ( ATR-AD ) . Dicha mutación ( c.1766G > < start > A < end > fig . 2A ) supone la susti...   \n",
       "\n",
       "                 long_form   id  \n",
       "1527      milimetro cubico  411  \n",
       "2156     16s ribosomal rno    0  \n",
       "1981           3 dimension    1  \n",
       "2084  5aminosalicylic acid    2  \n",
       "1784              adeniner   13  "
      ]
     },
     "execution_count": 298,
     "metadata": {},
     "output_type": "execute_result"
    }
   ],
   "source": [
    "data_df.sort_values(['short_form', 'context']).head()"
   ]
  },
  {
   "cell_type": "code",
   "execution_count": 299,
   "metadata": {},
   "outputs": [
    {
     "data": {
      "text/html": [
       "<div>\n",
       "<style scoped>\n",
       "    .dataframe tbody tr th:only-of-type {\n",
       "        vertical-align: middle;\n",
       "    }\n",
       "\n",
       "    .dataframe tbody tr th {\n",
       "        vertical-align: top;\n",
       "    }\n",
       "\n",
       "    .dataframe thead th {\n",
       "        text-align: right;\n",
       "    }\n",
       "</style>\n",
       "<table border=\"1\" class=\"dataframe\">\n",
       "  <thead>\n",
       "    <tr style=\"text-align: right;\">\n",
       "      <th></th>\n",
       "      <th>short_form</th>\n",
       "      <th>context</th>\n",
       "      <th>long_form_x</th>\n",
       "      <th>id</th>\n",
       "      <th>long_form_y</th>\n",
       "    </tr>\n",
       "  </thead>\n",
       "  <tbody>\n",
       "    <tr>\n",
       "      <th>1883</th>\n",
       "      <td>/mm3</td>\n",
       "      <td>mostró un líquido espeso de aspecto lechoso con 1400 leucocitos &lt; start &gt; /mm3 &lt; end &gt; con un 10...</td>\n",
       "      <td>milimetro cubico</td>\n",
       "      <td>411</td>\n",
       "      <td>milimetro cubico</td>\n",
       "    </tr>\n",
       "    <tr>\n",
       "      <th>2688</th>\n",
       "      <td>16SrRNA</td>\n",
       "      <td>los que se procedió al estudio genético mediante secuenciación del &lt; start &gt; 16SrRNA &lt; end &gt; ide...</td>\n",
       "      <td>16s ribosomal rno</td>\n",
       "      <td>0</td>\n",
       "      <td>16s ribosomal rno</td>\n",
       "    </tr>\n",
       "    <tr>\n",
       "      <th>2472</th>\n",
       "      <td>3D</td>\n",
       "      <td>con cuñas de compensación tisular tras simulación virtual y planificación &lt; start &gt; 3D &lt; end &gt; s...</td>\n",
       "      <td>3 dimension</td>\n",
       "      <td>1</td>\n",
       "      <td>3 dimension</td>\n",
       "    </tr>\n",
       "    <tr>\n",
       "      <th>2588</th>\n",
       "      <td>5-ASA</td>\n",
       "      <td>endoscópicos , de colitis ulcerosa , se inicia tratamiento con &lt; start &gt; 5-ASA &lt; end &gt; a pesar d...</td>\n",
       "      <td>5aminosalicylic acid</td>\n",
       "      <td>2</td>\n",
       "      <td>5aminosalicylic acid</td>\n",
       "    </tr>\n",
       "    <tr>\n",
       "      <th>2217</th>\n",
       "      <td>A</td>\n",
       "      <td>dominante ( ATR-AD ) . Dicha mutación ( c.1766G &gt; &lt; start &gt; A &lt; end &gt; fig . 2A ) supone la susti...</td>\n",
       "      <td>adeniner</td>\n",
       "      <td>13</td>\n",
       "      <td>adeniner</td>\n",
       "    </tr>\n",
       "  </tbody>\n",
       "</table>\n",
       "</div>"
      ],
      "text/plain": [
       "     short_form  \\\n",
       "1883       /mm3   \n",
       "2688    16SrRNA   \n",
       "2472         3D   \n",
       "2588      5-ASA   \n",
       "2217          A   \n",
       "\n",
       "                                                                                                  context  \\\n",
       "1883  mostró un líquido espeso de aspecto lechoso con 1400 leucocitos < start > /mm3 < end > con un 10...   \n",
       "2688  los que se procedió al estudio genético mediante secuenciación del < start > 16SrRNA < end > ide...   \n",
       "2472  con cuñas de compensación tisular tras simulación virtual y planificación < start > 3D < end > s...   \n",
       "2588  endoscópicos , de colitis ulcerosa , se inicia tratamiento con < start > 5-ASA < end > a pesar d...   \n",
       "2217  dominante ( ATR-AD ) . Dicha mutación ( c.1766G > < start > A < end > fig . 2A ) supone la susti...   \n",
       "\n",
       "               long_form_x   id           long_form_y  \n",
       "1883      milimetro cubico  411      milimetro cubico  \n",
       "2688     16s ribosomal rno    0     16s ribosomal rno  \n",
       "2472           3 dimension    1           3 dimension  \n",
       "2588  5aminosalicylic acid    2  5aminosalicylic acid  \n",
       "2217              adeniner   13              adeniner  "
      ]
     },
     "execution_count": 299,
     "metadata": {},
     "output_type": "execute_result"
    }
   ],
   "source": [
    "data_merged_test.sort_values(['short_form', 'context']).head()"
   ]
  },
  {
   "cell_type": "markdown",
   "metadata": {},
   "source": [
    "Target must be 1 or 0. 1 if the corresponding LF is the one assigned to it, 0 otherwise"
   ]
  },
  {
   "cell_type": "code",
   "execution_count": 300,
   "metadata": {},
   "outputs": [],
   "source": [
    "data_merged_test['label'] = data_merged_test.apply(get_label, axis = 1)"
   ]
  },
  {
   "cell_type": "code",
   "execution_count": 301,
   "metadata": {},
   "outputs": [
    {
     "data": {
      "text/html": [
       "<div>\n",
       "<style scoped>\n",
       "    .dataframe tbody tr th:only-of-type {\n",
       "        vertical-align: middle;\n",
       "    }\n",
       "\n",
       "    .dataframe tbody tr th {\n",
       "        vertical-align: top;\n",
       "    }\n",
       "\n",
       "    .dataframe thead th {\n",
       "        text-align: right;\n",
       "    }\n",
       "</style>\n",
       "<table border=\"1\" class=\"dataframe\">\n",
       "  <thead>\n",
       "    <tr style=\"text-align: right;\">\n",
       "      <th></th>\n",
       "      <th>short_form</th>\n",
       "      <th>context</th>\n",
       "      <th>long_form_x</th>\n",
       "      <th>id</th>\n",
       "      <th>long_form_y</th>\n",
       "      <th>label</th>\n",
       "    </tr>\n",
       "  </thead>\n",
       "  <tbody>\n",
       "    <tr>\n",
       "      <th>0</th>\n",
       "      <td>AMA</td>\n",
       "      <td>era de 82 UI/ml . Los autoanticuerpos ( ANA , &lt; start &gt; AMA &lt; end &gt; AMA-2 , ANCA , LKM1 , SMA , ...</td>\n",
       "      <td>antimitochondrial antibodie</td>\n",
       "      <td>47</td>\n",
       "      <td>antimitochondrial antibodie</td>\n",
       "      <td>1</td>\n",
       "    </tr>\n",
       "    <tr>\n",
       "      <th>1</th>\n",
       "      <td>AMA-2</td>\n",
       "      <td>82 UI/ml . Los autoanticuerpos ( ANA , AMA , &lt; start &gt; AMA-2 &lt; end &gt; ANCA , LKM1 , SMA , SLA y F...</td>\n",
       "      <td>antimitochondrial2 antibody</td>\n",
       "      <td>48</td>\n",
       "      <td>antimitochondrial2 antibody</td>\n",
       "      <td>1</td>\n",
       "    </tr>\n",
       "    <tr>\n",
       "      <th>2</th>\n",
       "      <td>ANA</td>\n",
       "      <td>CA 19-9 era de 82 UI/ml . Los autoanticuerpos ( &lt; start &gt; ANA &lt; end &gt; AMA , AMA-2 , ANCA , LKM1 ...</td>\n",
       "      <td>antinuclear antibody</td>\n",
       "      <td>53</td>\n",
       "      <td>antinuclear antibody</td>\n",
       "      <td>1</td>\n",
       "    </tr>\n",
       "    <tr>\n",
       "      <th>3</th>\n",
       "      <td>ANCA</td>\n",
       "      <td>. Los autoanticuerpos ( ANA , AMA , AMA-2 , &lt; start &gt; ANCA &lt; end &gt; LKM1 , SMA , SLA y F-actina )...</td>\n",
       "      <td>antineutrophil cytoplasmic antibodie</td>\n",
       "      <td>51</td>\n",
       "      <td>antineutrophil cytoplasmic antibodie</td>\n",
       "      <td>1</td>\n",
       "    </tr>\n",
       "    <tr>\n",
       "      <th>4</th>\n",
       "      <td>CA</td>\n",
       "      <td>IgG 1840 UI/ml ( 751-1.560 UI/ml ) . El marcador &lt; start &gt; CA &lt; end &gt; 19-9 era de 82 UI/ml . Los...</td>\n",
       "      <td>carbohydrate antiger</td>\n",
       "      <td>97</td>\n",
       "      <td>carbohydrate antiger</td>\n",
       "      <td>1</td>\n",
       "    </tr>\n",
       "  </tbody>\n",
       "</table>\n",
       "</div>"
      ],
      "text/plain": [
       "  short_form  \\\n",
       "0        AMA   \n",
       "1      AMA-2   \n",
       "2        ANA   \n",
       "3       ANCA   \n",
       "4         CA   \n",
       "\n",
       "                                                                                               context  \\\n",
       "0  era de 82 UI/ml . Los autoanticuerpos ( ANA , < start > AMA < end > AMA-2 , ANCA , LKM1 , SMA , ...   \n",
       "1  82 UI/ml . Los autoanticuerpos ( ANA , AMA , < start > AMA-2 < end > ANCA , LKM1 , SMA , SLA y F...   \n",
       "2  CA 19-9 era de 82 UI/ml . Los autoanticuerpos ( < start > ANA < end > AMA , AMA-2 , ANCA , LKM1 ...   \n",
       "3  . Los autoanticuerpos ( ANA , AMA , AMA-2 , < start > ANCA < end > LKM1 , SMA , SLA y F-actina )...   \n",
       "4  IgG 1840 UI/ml ( 751-1.560 UI/ml ) . El marcador < start > CA < end > 19-9 era de 82 UI/ml . Los...   \n",
       "\n",
       "                            long_form_x  id  \\\n",
       "0           antimitochondrial antibodie  47   \n",
       "1           antimitochondrial2 antibody  48   \n",
       "2                  antinuclear antibody  53   \n",
       "3  antineutrophil cytoplasmic antibodie  51   \n",
       "4                  carbohydrate antiger  97   \n",
       "\n",
       "                            long_form_y  label  \n",
       "0           antimitochondrial antibodie      1  \n",
       "1           antimitochondrial2 antibody      1  \n",
       "2                  antinuclear antibody      1  \n",
       "3  antineutrophil cytoplasmic antibodie      1  \n",
       "4                  carbohydrate antiger      1  "
      ]
     },
     "execution_count": 301,
     "metadata": {},
     "output_type": "execute_result"
    }
   ],
   "source": [
    "data_merged_test.head()"
   ]
  },
  {
   "cell_type": "code",
   "execution_count": 302,
   "metadata": {},
   "outputs": [],
   "source": [
    "data_merged_test = data_merged_test[['short_form', 'context', 'long_form_y', 'label']]"
   ]
  },
  {
   "cell_type": "code",
   "execution_count": 303,
   "metadata": {},
   "outputs": [],
   "source": [
    "data_merged_test = data_merged_test.rename(columns = {'long_form_y':'long_form'})"
   ]
  },
  {
   "cell_type": "code",
   "execution_count": 304,
   "metadata": {},
   "outputs": [],
   "source": [
    "data_merged_test.reset_index(drop = True, inplace = True)"
   ]
  },
  {
   "cell_type": "code",
   "execution_count": 305,
   "metadata": {},
   "outputs": [
    {
     "data": {
      "text/html": [
       "<div>\n",
       "<style scoped>\n",
       "    .dataframe tbody tr th:only-of-type {\n",
       "        vertical-align: middle;\n",
       "    }\n",
       "\n",
       "    .dataframe tbody tr th {\n",
       "        vertical-align: top;\n",
       "    }\n",
       "\n",
       "    .dataframe thead th {\n",
       "        text-align: right;\n",
       "    }\n",
       "</style>\n",
       "<table border=\"1\" class=\"dataframe\">\n",
       "  <thead>\n",
       "    <tr style=\"text-align: right;\">\n",
       "      <th></th>\n",
       "      <th>short_form</th>\n",
       "      <th>context</th>\n",
       "      <th>long_form</th>\n",
       "      <th>label</th>\n",
       "    </tr>\n",
       "  </thead>\n",
       "  <tbody>\n",
       "    <tr>\n",
       "      <th>0</th>\n",
       "      <td>AMA</td>\n",
       "      <td>era de 82 UI/ml . Los autoanticuerpos ( ANA , &lt; start &gt; AMA &lt; end &gt; AMA-2 , ANCA , LKM1 , SMA , ...</td>\n",
       "      <td>antimitochondrial antibodie</td>\n",
       "      <td>1</td>\n",
       "    </tr>\n",
       "    <tr>\n",
       "      <th>1</th>\n",
       "      <td>AMA-2</td>\n",
       "      <td>82 UI/ml . Los autoanticuerpos ( ANA , AMA , &lt; start &gt; AMA-2 &lt; end &gt; ANCA , LKM1 , SMA , SLA y F...</td>\n",
       "      <td>antimitochondrial2 antibody</td>\n",
       "      <td>1</td>\n",
       "    </tr>\n",
       "    <tr>\n",
       "      <th>2</th>\n",
       "      <td>ANA</td>\n",
       "      <td>CA 19-9 era de 82 UI/ml . Los autoanticuerpos ( &lt; start &gt; ANA &lt; end &gt; AMA , AMA-2 , ANCA , LKM1 ...</td>\n",
       "      <td>antinuclear antibody</td>\n",
       "      <td>1</td>\n",
       "    </tr>\n",
       "    <tr>\n",
       "      <th>3</th>\n",
       "      <td>ANCA</td>\n",
       "      <td>. Los autoanticuerpos ( ANA , AMA , AMA-2 , &lt; start &gt; ANCA &lt; end &gt; LKM1 , SMA , SLA y F-actina )...</td>\n",
       "      <td>antineutrophil cytoplasmic antibodie</td>\n",
       "      <td>1</td>\n",
       "    </tr>\n",
       "    <tr>\n",
       "      <th>4</th>\n",
       "      <td>CA</td>\n",
       "      <td>IgG 1840 UI/ml ( 751-1.560 UI/ml ) . El marcador &lt; start &gt; CA &lt; end &gt; 19-9 era de 82 UI/ml . Los...</td>\n",
       "      <td>carbohydrate antiger</td>\n",
       "      <td>1</td>\n",
       "    </tr>\n",
       "  </tbody>\n",
       "</table>\n",
       "</div>"
      ],
      "text/plain": [
       "  short_form  \\\n",
       "0        AMA   \n",
       "1      AMA-2   \n",
       "2        ANA   \n",
       "3       ANCA   \n",
       "4         CA   \n",
       "\n",
       "                                                                                               context  \\\n",
       "0  era de 82 UI/ml . Los autoanticuerpos ( ANA , < start > AMA < end > AMA-2 , ANCA , LKM1 , SMA , ...   \n",
       "1  82 UI/ml . Los autoanticuerpos ( ANA , AMA , < start > AMA-2 < end > ANCA , LKM1 , SMA , SLA y F...   \n",
       "2  CA 19-9 era de 82 UI/ml . Los autoanticuerpos ( < start > ANA < end > AMA , AMA-2 , ANCA , LKM1 ...   \n",
       "3  . Los autoanticuerpos ( ANA , AMA , AMA-2 , < start > ANCA < end > LKM1 , SMA , SLA y F-actina )...   \n",
       "4  IgG 1840 UI/ml ( 751-1.560 UI/ml ) . El marcador < start > CA < end > 19-9 era de 82 UI/ml . Los...   \n",
       "\n",
       "                              long_form  label  \n",
       "0           antimitochondrial antibodie      1  \n",
       "1           antimitochondrial2 antibody      1  \n",
       "2                  antinuclear antibody      1  \n",
       "3  antineutrophil cytoplasmic antibodie      1  \n",
       "4                  carbohydrate antiger      1  "
      ]
     },
     "execution_count": 305,
     "metadata": {},
     "output_type": "execute_result"
    }
   ],
   "source": [
    "data_merged_test.head()"
   ]
  },
  {
   "cell_type": "code",
   "execution_count": 306,
   "metadata": {},
   "outputs": [],
   "source": [
    "data_merged_test.to_csv('../data/data_train/test_data_beto_10_allacronim_lfnorm_medline.csv')"
   ]
  },
  {
   "cell_type": "markdown",
   "metadata": {},
   "source": [
    "## Analize acronyms included in train and test"
   ]
  },
  {
   "cell_type": "code",
   "execution_count": 307,
   "metadata": {},
   "outputs": [
    {
     "data": {
      "text/html": [
       "<div>\n",
       "<style scoped>\n",
       "    .dataframe tbody tr th:only-of-type {\n",
       "        vertical-align: middle;\n",
       "    }\n",
       "\n",
       "    .dataframe tbody tr th {\n",
       "        vertical-align: top;\n",
       "    }\n",
       "\n",
       "    .dataframe thead th {\n",
       "        text-align: right;\n",
       "    }\n",
       "</style>\n",
       "<table border=\"1\" class=\"dataframe\">\n",
       "  <thead>\n",
       "    <tr style=\"text-align: right;\">\n",
       "      <th></th>\n",
       "      <th>short_form</th>\n",
       "      <th>context</th>\n",
       "      <th>long_form</th>\n",
       "      <th>label</th>\n",
       "    </tr>\n",
       "  </thead>\n",
       "  <tbody>\n",
       "    <tr>\n",
       "      <th>0</th>\n",
       "      <td>CEA</td>\n",
       "      <td>, MyO D1 y Calretinina ) , así como para &lt; start &gt; CEA &lt; end &gt; y citoqueratinas de alto peso mol...</td>\n",
       "      <td>carcinoembrionary antigen</td>\n",
       "      <td>1</td>\n",
       "    </tr>\n",
       "    <tr>\n",
       "      <th>1</th>\n",
       "      <td>MyO D1</td>\n",
       "      <td>a músculo liso ( actina de músculo liso , &lt; start &gt; MyO D1 &lt; end &gt; y Calretinina ) , así como pa...</td>\n",
       "      <td>myogenic differentiation 1</td>\n",
       "      <td>1</td>\n",
       "    </tr>\n",
       "    <tr>\n",
       "      <th>2</th>\n",
       "      <td>CAM5.2</td>\n",
       "      <td>observa marcada positividad frente a citoqueratinas ( AE1/AE3 ) y &lt; start &gt; CAM5.2 &lt; end &gt; a niv...</td>\n",
       "      <td>anticuerpo monoclonal cytokeratina 52</td>\n",
       "      <td>1</td>\n",
       "    </tr>\n",
       "  </tbody>\n",
       "</table>\n",
       "</div>"
      ],
      "text/plain": [
       "  short_form  \\\n",
       "0        CEA   \n",
       "1     MyO D1   \n",
       "2     CAM5.2   \n",
       "\n",
       "                                                                                               context  \\\n",
       "0  , MyO D1 y Calretinina ) , así como para < start > CEA < end > y citoqueratinas de alto peso mol...   \n",
       "1  a músculo liso ( actina de músculo liso , < start > MyO D1 < end > y Calretinina ) , así como pa...   \n",
       "2  observa marcada positividad frente a citoqueratinas ( AE1/AE3 ) y < start > CAM5.2 < end > a niv...   \n",
       "\n",
       "                               long_form  label  \n",
       "0              carcinoembrionary antigen      1  \n",
       "1             myogenic differentiation 1      1  \n",
       "2  anticuerpo monoclonal cytokeratina 52      1  "
      ]
     },
     "execution_count": 307,
     "metadata": {},
     "output_type": "execute_result"
    }
   ],
   "source": [
    "data_merged.head(3)"
   ]
  },
  {
   "cell_type": "code",
   "execution_count": 308,
   "metadata": {},
   "outputs": [
    {
     "data": {
      "text/html": [
       "<div>\n",
       "<style scoped>\n",
       "    .dataframe tbody tr th:only-of-type {\n",
       "        vertical-align: middle;\n",
       "    }\n",
       "\n",
       "    .dataframe tbody tr th {\n",
       "        vertical-align: top;\n",
       "    }\n",
       "\n",
       "    .dataframe thead th {\n",
       "        text-align: right;\n",
       "    }\n",
       "</style>\n",
       "<table border=\"1\" class=\"dataframe\">\n",
       "  <thead>\n",
       "    <tr style=\"text-align: right;\">\n",
       "      <th></th>\n",
       "      <th>short_form</th>\n",
       "      <th>context</th>\n",
       "      <th>long_form</th>\n",
       "      <th>label</th>\n",
       "    </tr>\n",
       "  </thead>\n",
       "  <tbody>\n",
       "    <tr>\n",
       "      <th>0</th>\n",
       "      <td>AMA</td>\n",
       "      <td>era de 82 UI/ml . Los autoanticuerpos ( ANA , &lt; start &gt; AMA &lt; end &gt; AMA-2 , ANCA , LKM1 , SMA , ...</td>\n",
       "      <td>antimitochondrial antibodie</td>\n",
       "      <td>1</td>\n",
       "    </tr>\n",
       "    <tr>\n",
       "      <th>1</th>\n",
       "      <td>AMA-2</td>\n",
       "      <td>82 UI/ml . Los autoanticuerpos ( ANA , AMA , &lt; start &gt; AMA-2 &lt; end &gt; ANCA , LKM1 , SMA , SLA y F...</td>\n",
       "      <td>antimitochondrial2 antibody</td>\n",
       "      <td>1</td>\n",
       "    </tr>\n",
       "    <tr>\n",
       "      <th>2</th>\n",
       "      <td>ANA</td>\n",
       "      <td>CA 19-9 era de 82 UI/ml . Los autoanticuerpos ( &lt; start &gt; ANA &lt; end &gt; AMA , AMA-2 , ANCA , LKM1 ...</td>\n",
       "      <td>antinuclear antibody</td>\n",
       "      <td>1</td>\n",
       "    </tr>\n",
       "  </tbody>\n",
       "</table>\n",
       "</div>"
      ],
      "text/plain": [
       "  short_form  \\\n",
       "0        AMA   \n",
       "1      AMA-2   \n",
       "2        ANA   \n",
       "\n",
       "                                                                                               context  \\\n",
       "0  era de 82 UI/ml . Los autoanticuerpos ( ANA , < start > AMA < end > AMA-2 , ANCA , LKM1 , SMA , ...   \n",
       "1  82 UI/ml . Los autoanticuerpos ( ANA , AMA , < start > AMA-2 < end > ANCA , LKM1 , SMA , SLA y F...   \n",
       "2  CA 19-9 era de 82 UI/ml . Los autoanticuerpos ( < start > ANA < end > AMA , AMA-2 , ANCA , LKM1 ...   \n",
       "\n",
       "                     long_form  label  \n",
       "0  antimitochondrial antibodie      1  \n",
       "1  antimitochondrial2 antibody      1  \n",
       "2         antinuclear antibody      1  "
      ]
     },
     "execution_count": 308,
     "metadata": {},
     "output_type": "execute_result"
    }
   ],
   "source": [
    "data_merged_test.head(3)"
   ]
  },
  {
   "cell_type": "code",
   "execution_count": 309,
   "metadata": {},
   "outputs": [],
   "source": [
    "merged = data_merged_test.merge(data_merged, on = 'short_form', indicator = True, how = 'left')"
   ]
  },
  {
   "cell_type": "code",
   "execution_count": 310,
   "metadata": {},
   "outputs": [
    {
     "data": {
      "text/html": [
       "<div>\n",
       "<style scoped>\n",
       "    .dataframe tbody tr th:only-of-type {\n",
       "        vertical-align: middle;\n",
       "    }\n",
       "\n",
       "    .dataframe tbody tr th {\n",
       "        vertical-align: top;\n",
       "    }\n",
       "\n",
       "    .dataframe thead th {\n",
       "        text-align: right;\n",
       "    }\n",
       "</style>\n",
       "<table border=\"1\" class=\"dataframe\">\n",
       "  <thead>\n",
       "    <tr style=\"text-align: right;\">\n",
       "      <th></th>\n",
       "      <th>short_form</th>\n",
       "      <th>context_x</th>\n",
       "      <th>long_form_x</th>\n",
       "      <th>label_x</th>\n",
       "      <th>context_y</th>\n",
       "      <th>long_form_y</th>\n",
       "      <th>label_y</th>\n",
       "      <th>_merge</th>\n",
       "    </tr>\n",
       "  </thead>\n",
       "  <tbody>\n",
       "    <tr>\n",
       "      <th>0</th>\n",
       "      <td>AMA</td>\n",
       "      <td>era de 82 UI/ml . Los autoanticuerpos ( ANA , &lt; start &gt; AMA &lt; end &gt; AMA-2 , ANCA , LKM1 , SMA , ...</td>\n",
       "      <td>antimitochondrial antibodie</td>\n",
       "      <td>1</td>\n",
       "      <td>NaN</td>\n",
       "      <td>NaN</td>\n",
       "      <td>NaN</td>\n",
       "      <td>left_only</td>\n",
       "    </tr>\n",
       "    <tr>\n",
       "      <th>1</th>\n",
       "      <td>AMA-2</td>\n",
       "      <td>82 UI/ml . Los autoanticuerpos ( ANA , AMA , &lt; start &gt; AMA-2 &lt; end &gt; ANCA , LKM1 , SMA , SLA y F...</td>\n",
       "      <td>antimitochondrial2 antibody</td>\n",
       "      <td>1</td>\n",
       "      <td>NaN</td>\n",
       "      <td>NaN</td>\n",
       "      <td>NaN</td>\n",
       "      <td>left_only</td>\n",
       "    </tr>\n",
       "    <tr>\n",
       "      <th>2</th>\n",
       "      <td>ANA</td>\n",
       "      <td>CA 19-9 era de 82 UI/ml . Los autoanticuerpos ( &lt; start &gt; ANA &lt; end &gt; AMA , AMA-2 , ANCA , LKM1 ...</td>\n",
       "      <td>antinuclear antibody</td>\n",
       "      <td>1</td>\n",
       "      <td>proteína C reactiva ( PCR ) y anticuerpos antinucleares ( &lt; start &gt; ANA &lt; end &gt; . Todos los valo...</td>\n",
       "      <td>antinuclear antibody</td>\n",
       "      <td>1.0</td>\n",
       "      <td>both</td>\n",
       "    </tr>\n",
       "    <tr>\n",
       "      <th>3</th>\n",
       "      <td>ANCA</td>\n",
       "      <td>. Los autoanticuerpos ( ANA , AMA , AMA-2 , &lt; start &gt; ANCA &lt; end &gt; LKM1 , SMA , SLA y F-actina )...</td>\n",
       "      <td>antineutrophil cytoplasmic antibodie</td>\n",
       "      <td>1</td>\n",
       "      <td>, anti-SCL70 , anti-Jo , anticuerpos anticitoplasma de neutrófilos ( &lt; start &gt; ANCA &lt; end &gt; nega...</td>\n",
       "      <td>antineutrophil cytoplasmic antibodies</td>\n",
       "      <td>1.0</td>\n",
       "      <td>both</td>\n",
       "    </tr>\n",
       "    <tr>\n",
       "      <th>4</th>\n",
       "      <td>CA</td>\n",
       "      <td>IgG 1840 UI/ml ( 751-1.560 UI/ml ) . El marcador &lt; start &gt; CA &lt; end &gt; 19-9 era de 82 UI/ml . Los...</td>\n",
       "      <td>carbohydrate antiger</td>\n",
       "      <td>1</td>\n",
       "      <td>hifema que ocupa la mitad de la cámara anterior ( &lt; start &gt; CA &lt; end &gt; y sinequias posteriores 3...</td>\n",
       "      <td>camara anterior</td>\n",
       "      <td>1.0</td>\n",
       "      <td>both</td>\n",
       "    </tr>\n",
       "  </tbody>\n",
       "</table>\n",
       "</div>"
      ],
      "text/plain": [
       "  short_form  \\\n",
       "0        AMA   \n",
       "1      AMA-2   \n",
       "2        ANA   \n",
       "3       ANCA   \n",
       "4         CA   \n",
       "\n",
       "                                                                                             context_x  \\\n",
       "0  era de 82 UI/ml . Los autoanticuerpos ( ANA , < start > AMA < end > AMA-2 , ANCA , LKM1 , SMA , ...   \n",
       "1  82 UI/ml . Los autoanticuerpos ( ANA , AMA , < start > AMA-2 < end > ANCA , LKM1 , SMA , SLA y F...   \n",
       "2  CA 19-9 era de 82 UI/ml . Los autoanticuerpos ( < start > ANA < end > AMA , AMA-2 , ANCA , LKM1 ...   \n",
       "3  . Los autoanticuerpos ( ANA , AMA , AMA-2 , < start > ANCA < end > LKM1 , SMA , SLA y F-actina )...   \n",
       "4  IgG 1840 UI/ml ( 751-1.560 UI/ml ) . El marcador < start > CA < end > 19-9 era de 82 UI/ml . Los...   \n",
       "\n",
       "                            long_form_x  label_x  \\\n",
       "0           antimitochondrial antibodie        1   \n",
       "1           antimitochondrial2 antibody        1   \n",
       "2                  antinuclear antibody        1   \n",
       "3  antineutrophil cytoplasmic antibodie        1   \n",
       "4                  carbohydrate antiger        1   \n",
       "\n",
       "                                                                                             context_y  \\\n",
       "0                                                                                                  NaN   \n",
       "1                                                                                                  NaN   \n",
       "2  proteína C reactiva ( PCR ) y anticuerpos antinucleares ( < start > ANA < end > . Todos los valo...   \n",
       "3  , anti-SCL70 , anti-Jo , anticuerpos anticitoplasma de neutrófilos ( < start > ANCA < end > nega...   \n",
       "4  hifema que ocupa la mitad de la cámara anterior ( < start > CA < end > y sinequias posteriores 3...   \n",
       "\n",
       "                             long_form_y  label_y     _merge  \n",
       "0                                    NaN      NaN  left_only  \n",
       "1                                    NaN      NaN  left_only  \n",
       "2                   antinuclear antibody      1.0       both  \n",
       "3  antineutrophil cytoplasmic antibodies      1.0       both  \n",
       "4                        camara anterior      1.0       both  "
      ]
     },
     "execution_count": 310,
     "metadata": {},
     "output_type": "execute_result"
    }
   ],
   "source": [
    "merged.head()"
   ]
  },
  {
   "cell_type": "code",
   "execution_count": 311,
   "metadata": {},
   "outputs": [
    {
     "data": {
      "text/plain": [
       "(928, 8)"
      ]
     },
     "execution_count": 311,
     "metadata": {},
     "output_type": "execute_result"
    }
   ],
   "source": [
    "merged[merged['_merge'] == 'left_only'].shape"
   ]
  },
  {
   "cell_type": "code",
   "execution_count": 312,
   "metadata": {},
   "outputs": [
    {
     "data": {
      "text/plain": [
       "(4416, 4)"
      ]
     },
     "execution_count": 312,
     "metadata": {},
     "output_type": "execute_result"
    }
   ],
   "source": [
    "data_merged_test.shape"
   ]
  },
  {
   "cell_type": "code",
   "execution_count": 369,
   "metadata": {
    "tags": []
   },
   "outputs": [],
   "source": [
    "#sorted(merged[merged['_merge'] == 'left_only']['short_form'].unique().tolist())"
   ]
  }
 ],
 "metadata": {
  "kernelspec": {
   "display_name": "Python [conda env:tfm]",
   "language": "python",
   "name": "conda-env-tfm-py"
  },
  "language_info": {
   "codemirror_mode": {
    "name": "ipython",
    "version": 3
   },
   "file_extension": ".py",
   "mimetype": "text/x-python",
   "name": "python",
   "nbconvert_exporter": "python",
   "pygments_lexer": "ipython3",
   "version": "3.7.10"
  }
 },
 "nbformat": 4,
 "nbformat_minor": 4
}
