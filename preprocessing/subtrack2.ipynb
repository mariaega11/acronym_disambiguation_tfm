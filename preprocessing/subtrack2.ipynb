{
 "cells": [
  {
   "cell_type": "markdown",
   "id": "4412e7c9-9f58-4a05-a13a-154f484d4b8d",
   "metadata": {},
   "source": [
    "# Library"
   ]
  },
  {
   "cell_type": "code",
   "execution_count": 3,
   "id": "76ad4f48-7747-4339-b5fd-dfa032fc81a6",
   "metadata": {},
   "outputs": [],
   "source": [
    "import pandas as pd\n",
    "import numpy as np\n",
    "import os\n",
    "import re\n",
    "import collections\n",
    "import unidecode\n",
    "import nltk\n",
    "from nltk.corpus import stopwords\n",
    "import itertools \n",
    "from nltk.tokenize import word_tokenize\n",
    "from string import punctuation\n",
    "from functools import reduce\n",
    "import seaborn as sns\n",
    "from abbreviations import schwartz_hearst"
   ]
  },
  {
   "cell_type": "code",
   "execution_count": 4,
   "id": "125f9fcc-83a4-4ccf-a21d-a054e926ae6d",
   "metadata": {},
   "outputs": [],
   "source": [
    "pd.set_option('display.max_colwidth', 100)"
   ]
  },
  {
   "cell_type": "code",
   "execution_count": 5,
   "id": "614514e3-a4bb-427b-af9c-fed865bdddfa",
   "metadata": {
    "tags": []
   },
   "outputs": [],
   "source": [
    "%matplotlib inline\n",
    "from matplotlib import pyplot as plt"
   ]
  },
  {
   "cell_type": "markdown",
   "id": "1ce6ac5d-aae9-4fa0-9e9e-82098b8b99ef",
   "metadata": {},
   "source": [
    "# Functions"
   ]
  },
  {
   "cell_type": "code",
   "execution_count": 6,
   "id": "bcf6ea66-6f27-49b7-b782-bfa0245b9349",
   "metadata": {
    "tags": []
   },
   "outputs": [],
   "source": [
    "def read_texts(path):\n",
    "    data = []\n",
    "    file_name = os.listdir(path)\n",
    "\n",
    "    for name in file_name:\n",
    "        if name.endswith('.txt'):\n",
    "            with open(path + name,encoding=\"utf8\") as f:\n",
    "                text = f.read()\n",
    "                data.append({'nombre':name.replace('.txt',''), 'texto':text})\n",
    "\n",
    "    df = pd.DataFrame(data)\n",
    "    return df"
   ]
  },
  {
   "cell_type": "code",
   "execution_count": 7,
   "id": "8997cc1e-eb37-46a8-9cb8-d36225d32e20",
   "metadata": {},
   "outputs": [
    {
     "name": "stderr",
     "output_type": "stream",
     "text": [
      "[nltk_data] Downloading package stopwords to\n",
      "[nltk_data]     /Users/egarcia/nltk_data...\n",
      "[nltk_data]   Package stopwords is already up-to-date!\n"
     ]
    }
   ],
   "source": [
    "nltk.download('stopwords')\n",
    "swords = list(set(stopwords.words('spanish')))"
   ]
  },
  {
   "cell_type": "code",
   "execution_count": 8,
   "id": "e4c4aaee-b6b8-48aa-b8e2-129df2a4ba0b",
   "metadata": {},
   "outputs": [],
   "source": [
    "def clean_text(string):\n",
    "    \"\"\"\n",
    "    A method to clean text \n",
    "    \"\"\"\n",
    "    \n",
    "    # Removing the punctuations\n",
    "    for x in string.lower(): \n",
    "        if x in punctuation:\n",
    "            if x != '/':\n",
    "                string = string.replace(x, \"\")\n",
    "            else:\n",
    "                string = string.replace(x, \" \")\n",
    "    \n",
    "    string = unidecode.unidecode(string)\n",
    "\n",
    "#     # Converting the text to lower\n",
    "#     string = string.lower()\n",
    "\n",
    "    # Removing stop words\n",
    "    string = ' '.join([word for word in string.split() if word not in swords])\n",
    "\n",
    "    # Cleaning the whitespaces\n",
    "    string = re.sub(r'\\s+', ' ', string).strip()\n",
    "\n",
    "    return string "
   ]
  },
  {
   "cell_type": "code",
   "execution_count": 9,
   "id": "2dae861a-cbd8-4e24-a037-1f17e3b4542f",
   "metadata": {},
   "outputs": [],
   "source": [
    "def distance_levenshtein(str1, str2):\n",
    "    d=dict()\n",
    "    for i in range(len(str1)+1):\n",
    "        d[i]=dict()\n",
    "        d[i][0]=i\n",
    "    for i in range(len(str2)+1):\n",
    "        d[0][i] = i\n",
    "    for i in range(1, len(str1)+1):\n",
    "        for j in range(1, len(str2)+1):\n",
    "            d[i][j] = min(d[i][j-1]+1, d[i-1][j]+1, d[i-1][j-1]+(not str1[i-1] == str2[j-1]))\n",
    "    return d[len(str1)][len(str2)]"
   ]
  },
  {
   "cell_type": "code",
   "execution_count": 10,
   "id": "32dba3b5-8228-409e-8fa7-ca8826524e6f",
   "metadata": {},
   "outputs": [],
   "source": [
    "def normalize_lf(row):\n",
    "    leven2 = []\n",
    "    for i in row:\n",
    "        for j in row:\n",
    "            if i != j:\n",
    "                long = max(len(i),len(j))\n",
    "                ratio = distance_levenshtein(i,j)/long\n",
    "                if ratio < 0.2:\n",
    "                    leven2.append(j)\n",
    "    if leven2:\n",
    "        leven2 = set(leven2)\n",
    "        lista = []\n",
    "        for i in leven2:\n",
    "            val = frec[frec['index'] == i]['long_form'].iloc[0]\n",
    "            lista.append((i, val))\n",
    "        lista = set(lista)\n",
    "        most_freq = sorted(set(lista), key=lambda x: x[1], reverse = True)[0][0]\n",
    "        sust = {}\n",
    "        for i in set(leven2):\n",
    "            sust[i] = most_freq\n",
    "        \n",
    "        return sust\n",
    "    else:\n",
    "        pass\n",
    "    "
   ]
  },
  {
   "cell_type": "code",
   "execution_count": 11,
   "id": "23afbff8-b749-48f1-b554-08e81e29965c",
   "metadata": {
    "tags": []
   },
   "outputs": [],
   "source": [
    "def get_label(row):\n",
    "    if row['long_form_x'] == row['long_form_y']:\n",
    "        return 1\n",
    "    else:\n",
    "        return 0"
   ]
  },
  {
   "cell_type": "code",
   "execution_count": 12,
   "id": "30bce3ae-d7ad-4b85-afc8-4a8b1cf954b4",
   "metadata": {},
   "outputs": [],
   "source": [
    "def offsetA(row):\n",
    "    return row['texto'].find(row['Mention_A'])\n",
    "    \n",
    "def offsetB(row):\n",
    "    return row['texto'].find(row['Mention_B'])\n",
    "\n",
    "def offsetB_end(row):\n",
    "    return row['texto'].find(row['Mention_B']) + len(row['Mention_B'])\n",
    "\n",
    "def offsetA_end(row):\n",
    "    return row['Mention_A_StartOffset'] + len(row['Mention_A'])"
   ]
  },
  {
   "cell_type": "code",
   "execution_count": 67,
   "id": "df5b7c23-29fa-4e92-a083-074f567369d0",
   "metadata": {},
   "outputs": [],
   "source": [
    "def offset(row):\n",
    "    return row['texto'].find(row['abrev'])\n",
    "\n",
    "def offsetend(row):\n",
    "    return row['StarOffset']+len(row['abrev'])"
   ]
  },
  {
   "cell_type": "markdown",
   "id": "b75b60fa-7934-41f2-ba89-7afc6d8cb174",
   "metadata": {},
   "source": [
    "# Load Data"
   ]
  },
  {
   "cell_type": "markdown",
   "id": "84cc6c3c-223a-4fc1-8264-2e650642fe83",
   "metadata": {},
   "source": [
    "### Testing\n",
    "\n",
    "220 clinical cases."
   ]
  },
  {
   "cell_type": "code",
   "execution_count": 42,
   "id": "d17d18d4-5133-4038-8377-854c4153dfab",
   "metadata": {},
   "outputs": [],
   "source": [
    "testing_abbr = pd.read_csv(\"../../acronym_disambiguation_tfm/data/ibereval_data/testing_set/clinical_cases.abbreviations.testing_set.tsv\", sep = '\\t')"
   ]
  },
  {
   "cell_type": "code",
   "execution_count": 43,
   "id": "10fce584-2058-474b-8b3f-505ec93af3a6",
   "metadata": {},
   "outputs": [],
   "source": [
    "#testing_abbr = testing_abbr.rename(columns = {'# Document_ID': 'doc_id'})"
   ]
  },
  {
   "cell_type": "code",
   "execution_count": 44,
   "id": "e3bdde99-b229-48e9-934e-10b883ae8e9d",
   "metadata": {},
   "outputs": [
    {
     "data": {
      "text/html": [
       "<div>\n",
       "<style scoped>\n",
       "    .dataframe tbody tr th:only-of-type {\n",
       "        vertical-align: middle;\n",
       "    }\n",
       "\n",
       "    .dataframe tbody tr th {\n",
       "        vertical-align: top;\n",
       "    }\n",
       "\n",
       "    .dataframe thead th {\n",
       "        text-align: right;\n",
       "    }\n",
       "</style>\n",
       "<table border=\"1\" class=\"dataframe\">\n",
       "  <thead>\n",
       "    <tr style=\"text-align: right;\">\n",
       "      <th></th>\n",
       "      <th># Document_ID</th>\n",
       "      <th>StartOffset</th>\n",
       "      <th>EndOffset</th>\n",
       "      <th>Abbreviation</th>\n",
       "      <th>Definition</th>\n",
       "      <th>Definition_lemmatized</th>\n",
       "    </tr>\n",
       "  </thead>\n",
       "  <tbody>\n",
       "    <tr>\n",
       "      <th>0</th>\n",
       "      <td>S0212-71992005000500009-1</td>\n",
       "      <td>533</td>\n",
       "      <td>537</td>\n",
       "      <td>/mm3</td>\n",
       "      <td>milímetro cúbico</td>\n",
       "      <td>milímetro cúbico</td>\n",
       "    </tr>\n",
       "    <tr>\n",
       "      <th>1</th>\n",
       "      <td>S1130-14732005000200003-1</td>\n",
       "      <td>1857</td>\n",
       "      <td>1858</td>\n",
       "      <td>µ</td>\n",
       "      <td>micro</td>\n",
       "      <td>micro</td>\n",
       "    </tr>\n",
       "    <tr>\n",
       "      <th>2</th>\n",
       "      <td>S0211-69952013000200018-1</td>\n",
       "      <td>2512</td>\n",
       "      <td>2514</td>\n",
       "      <td>µg</td>\n",
       "      <td>microgramo</td>\n",
       "      <td>microgramo</td>\n",
       "    </tr>\n",
       "    <tr>\n",
       "      <th>3</th>\n",
       "      <td>S0212-16112004000400007-1</td>\n",
       "      <td>4558</td>\n",
       "      <td>4560</td>\n",
       "      <td>µg</td>\n",
       "      <td>microgramo</td>\n",
       "      <td>microgramo</td>\n",
       "    </tr>\n",
       "    <tr>\n",
       "      <th>4</th>\n",
       "      <td>S1137-66272014000300016-1</td>\n",
       "      <td>1112</td>\n",
       "      <td>1114</td>\n",
       "      <td>µg</td>\n",
       "      <td>microgramo</td>\n",
       "      <td>microgramo</td>\n",
       "    </tr>\n",
       "  </tbody>\n",
       "</table>\n",
       "</div>"
      ],
      "text/plain": [
       "               # Document_ID  StartOffset  EndOffset Abbreviation  \\\n",
       "0  S0212-71992005000500009-1          533        537         /mm3   \n",
       "1  S1130-14732005000200003-1         1857       1858            µ   \n",
       "2  S0211-69952013000200018-1         2512       2514           µg   \n",
       "3  S0212-16112004000400007-1         4558       4560           µg   \n",
       "4  S1137-66272014000300016-1         1112       1114           µg   \n",
       "\n",
       "         Definition Definition_lemmatized  \n",
       "0  milímetro cúbico      milímetro cúbico  \n",
       "1             micro                 micro  \n",
       "2        microgramo            microgramo  \n",
       "3        microgramo            microgramo  \n",
       "4        microgramo            microgramo  "
      ]
     },
     "execution_count": 44,
     "metadata": {},
     "output_type": "execute_result"
    }
   ],
   "source": [
    "testing_abbr.head()"
   ]
  },
  {
   "cell_type": "code",
   "execution_count": 45,
   "id": "07c6a750-f9b5-438d-ad9c-a26651c41ea4",
   "metadata": {},
   "outputs": [],
   "source": [
    "testing_raw = read_texts(\"../../acronym_disambiguation_tfm/data/ibereval_data/testing_set/testing_set.raw_text/\")"
   ]
  },
  {
   "cell_type": "code",
   "execution_count": 46,
   "id": "4882d8b5-e54f-46f9-9dbd-74205147c1f4",
   "metadata": {},
   "outputs": [
    {
     "data": {
      "text/html": [
       "<div>\n",
       "<style scoped>\n",
       "    .dataframe tbody tr th:only-of-type {\n",
       "        vertical-align: middle;\n",
       "    }\n",
       "\n",
       "    .dataframe tbody tr th {\n",
       "        vertical-align: top;\n",
       "    }\n",
       "\n",
       "    .dataframe thead th {\n",
       "        text-align: right;\n",
       "    }\n",
       "</style>\n",
       "<table border=\"1\" class=\"dataframe\">\n",
       "  <thead>\n",
       "    <tr style=\"text-align: right;\">\n",
       "      <th></th>\n",
       "      <th>nombre</th>\n",
       "      <th>texto</th>\n",
       "    </tr>\n",
       "  </thead>\n",
       "  <tbody>\n",
       "    <tr>\n",
       "      <th>0</th>\n",
       "      <td>S1130-01082008001000010-1</td>\n",
       "      <td>Varón de 43 años originario de Marruecos, que ingresó en nuestro servicio por cuadro de 4 días d...</td>\n",
       "    </tr>\n",
       "    <tr>\n",
       "      <th>1</th>\n",
       "      <td>S0004-06142009000400011-1</td>\n",
       "      <td>Varón de 75 años con antecedentes de EPOC moderado sin otros antecedentes médicos de interés. En...</td>\n",
       "    </tr>\n",
       "    <tr>\n",
       "      <th>2</th>\n",
       "      <td>S0376-78922011000200004-1</td>\n",
       "      <td>Mujer de 44 años de edad con antecedentes médicos de insuficiencia renal crónica en tratamiento ...</td>\n",
       "    </tr>\n",
       "    <tr>\n",
       "      <th>3</th>\n",
       "      <td>S1137-66272014000300016-1</td>\n",
       "      <td>Mujer de 36 años sin antecedentes médicos o epidemiológicos de interés que es ingresada en la Un...</td>\n",
       "    </tr>\n",
       "    <tr>\n",
       "      <th>4</th>\n",
       "      <td>S1130-01082008000800019-1</td>\n",
       "      <td>Recientemente, atendimos en nuestro hospital a un varón de 46 años, con antecedente de síndrome ...</td>\n",
       "    </tr>\n",
       "  </tbody>\n",
       "</table>\n",
       "</div>"
      ],
      "text/plain": [
       "                      nombre  \\\n",
       "0  S1130-01082008001000010-1   \n",
       "1  S0004-06142009000400011-1   \n",
       "2  S0376-78922011000200004-1   \n",
       "3  S1137-66272014000300016-1   \n",
       "4  S1130-01082008000800019-1   \n",
       "\n",
       "                                                                                                 texto  \n",
       "0  Varón de 43 años originario de Marruecos, que ingresó en nuestro servicio por cuadro de 4 días d...  \n",
       "1  Varón de 75 años con antecedentes de EPOC moderado sin otros antecedentes médicos de interés. En...  \n",
       "2  Mujer de 44 años de edad con antecedentes médicos de insuficiencia renal crónica en tratamiento ...  \n",
       "3  Mujer de 36 años sin antecedentes médicos o epidemiológicos de interés que es ingresada en la Un...  \n",
       "4  Recientemente, atendimos en nuestro hospital a un varón de 46 años, con antecedente de síndrome ...  "
      ]
     },
     "execution_count": 46,
     "metadata": {},
     "output_type": "execute_result"
    }
   ],
   "source": [
    "testing_raw.head()"
   ]
  },
  {
   "cell_type": "markdown",
   "id": "1c4f9923-4c53-4e38-b746-9f7e775bbbe2",
   "metadata": {},
   "source": [
    "### Trainning\n",
    "\n",
    "318 clinical cases"
   ]
  },
  {
   "cell_type": "code",
   "execution_count": 47,
   "id": "a34ff606-aef3-4104-ac23-8a5f95216788",
   "metadata": {},
   "outputs": [],
   "source": [
    "train_abbr = pd.read_csv(\"../../acronym_disambiguation_tfm/data/ibereval_data/trainning_set/clinical_cases.abbreviations.training_set.tsv\", sep = '\\t')"
   ]
  },
  {
   "cell_type": "code",
   "execution_count": 48,
   "id": "a8f221b9-e02a-421f-8545-71e8b5ce1452",
   "metadata": {},
   "outputs": [],
   "source": [
    "#train_abbr = train_abbr.rename(columns = {'# Document_ID': 'doc_id'})"
   ]
  },
  {
   "cell_type": "code",
   "execution_count": 49,
   "id": "d1fa19e5-bafb-4a45-9241-439cf6bda17d",
   "metadata": {},
   "outputs": [
    {
     "data": {
      "text/plain": [
       "908"
      ]
     },
     "execution_count": 49,
     "metadata": {},
     "output_type": "execute_result"
    }
   ],
   "source": [
    "train_abbr.Definition.nunique()"
   ]
  },
  {
   "cell_type": "code",
   "execution_count": 50,
   "id": "e4221aea-2a2f-41c5-acf9-63f8de89278b",
   "metadata": {},
   "outputs": [
    {
     "data": {
      "text/html": [
       "<div>\n",
       "<style scoped>\n",
       "    .dataframe tbody tr th:only-of-type {\n",
       "        vertical-align: middle;\n",
       "    }\n",
       "\n",
       "    .dataframe tbody tr th {\n",
       "        vertical-align: top;\n",
       "    }\n",
       "\n",
       "    .dataframe thead th {\n",
       "        text-align: right;\n",
       "    }\n",
       "</style>\n",
       "<table border=\"1\" class=\"dataframe\">\n",
       "  <thead>\n",
       "    <tr style=\"text-align: right;\">\n",
       "      <th></th>\n",
       "      <th># Document_ID</th>\n",
       "      <th>StartOffset</th>\n",
       "      <th>EndOffset</th>\n",
       "      <th>Abbreviation</th>\n",
       "      <th>Definition</th>\n",
       "      <th>Definition_lemmatized</th>\n",
       "    </tr>\n",
       "  </thead>\n",
       "  <tbody>\n",
       "    <tr>\n",
       "      <th>0</th>\n",
       "      <td>S0210-48062004000500008-1</td>\n",
       "      <td>1650</td>\n",
       "      <td>1652</td>\n",
       "      <td>ml</td>\n",
       "      <td>mililitro</td>\n",
       "      <td>mililitro</td>\n",
       "    </tr>\n",
       "    <tr>\n",
       "      <th>1</th>\n",
       "      <td>S0210-48062004000500008-1</td>\n",
       "      <td>708</td>\n",
       "      <td>709</td>\n",
       "      <td>l</td>\n",
       "      <td>litro</td>\n",
       "      <td>litro</td>\n",
       "    </tr>\n",
       "    <tr>\n",
       "      <th>2</th>\n",
       "      <td>S0210-48062004000500008-1</td>\n",
       "      <td>704</td>\n",
       "      <td>707</td>\n",
       "      <td>mEq</td>\n",
       "      <td>miliequivalente</td>\n",
       "      <td>miliequivalente</td>\n",
       "    </tr>\n",
       "    <tr>\n",
       "      <th>3</th>\n",
       "      <td>S0210-48062004000500008-1</td>\n",
       "      <td>677</td>\n",
       "      <td>681</td>\n",
       "      <td>pCO2</td>\n",
       "      <td>presión parcial de co2</td>\n",
       "      <td>presión parcial de co2</td>\n",
       "    </tr>\n",
       "    <tr>\n",
       "      <th>4</th>\n",
       "      <td>S0210-48062004000500008-1</td>\n",
       "      <td>2287</td>\n",
       "      <td>2290</td>\n",
       "      <td>HLA</td>\n",
       "      <td>human leucocyte antigen</td>\n",
       "      <td>human leucocyte antiger</td>\n",
       "    </tr>\n",
       "  </tbody>\n",
       "</table>\n",
       "</div>"
      ],
      "text/plain": [
       "               # Document_ID  StartOffset  EndOffset Abbreviation  \\\n",
       "0  S0210-48062004000500008-1         1650       1652           ml   \n",
       "1  S0210-48062004000500008-1          708        709            l   \n",
       "2  S0210-48062004000500008-1          704        707          mEq   \n",
       "3  S0210-48062004000500008-1          677        681         pCO2   \n",
       "4  S0210-48062004000500008-1         2287       2290          HLA   \n",
       "\n",
       "                Definition    Definition_lemmatized  \n",
       "0                mililitro                mililitro  \n",
       "1                    litro                    litro  \n",
       "2          miliequivalente          miliequivalente  \n",
       "3   presión parcial de co2   presión parcial de co2  \n",
       "4  human leucocyte antigen  human leucocyte antiger  "
      ]
     },
     "execution_count": 50,
     "metadata": {},
     "output_type": "execute_result"
    }
   ],
   "source": [
    "train_abbr.head()"
   ]
  },
  {
   "cell_type": "code",
   "execution_count": 108,
   "id": "5cd5a550-d3da-4346-976d-e343bab45ec0",
   "metadata": {},
   "outputs": [],
   "source": [
    "train_abbr = train_abbr.dropna()"
   ]
  },
  {
   "cell_type": "code",
   "execution_count": 111,
   "id": "e2aaaca9-2cf9-4953-b735-0db449de776c",
   "metadata": {},
   "outputs": [],
   "source": [
    "train_abbr.to_csv(\"../../datasets/trainning_set/clinical_cases.abbreviations.training_set.tsv\", sep = '\\t', index = False)"
   ]
  },
  {
   "cell_type": "code",
   "execution_count": 54,
   "id": "2dcab608-9adc-410f-8009-d243a9adaaf9",
   "metadata": {},
   "outputs": [],
   "source": [
    "train_raw = read_texts(\"../../acronym_disambiguation_tfm/data/ibereval_data/trainning_set/training_set.raw_text/\")"
   ]
  },
  {
   "cell_type": "code",
   "execution_count": 55,
   "id": "062bad8c-8186-44a4-83a8-b07ab2b0dad4",
   "metadata": {},
   "outputs": [],
   "source": [
    "#train_raw = train_raw.rename(columns = {'nombre': 'doc_id'})"
   ]
  },
  {
   "cell_type": "code",
   "execution_count": 56,
   "id": "3db688eb-3883-4633-9db0-139a2c38aa36",
   "metadata": {},
   "outputs": [
    {
     "data": {
      "text/html": [
       "<div>\n",
       "<style scoped>\n",
       "    .dataframe tbody tr th:only-of-type {\n",
       "        vertical-align: middle;\n",
       "    }\n",
       "\n",
       "    .dataframe tbody tr th {\n",
       "        vertical-align: top;\n",
       "    }\n",
       "\n",
       "    .dataframe thead th {\n",
       "        text-align: right;\n",
       "    }\n",
       "</style>\n",
       "<table border=\"1\" class=\"dataframe\">\n",
       "  <thead>\n",
       "    <tr style=\"text-align: right;\">\n",
       "      <th></th>\n",
       "      <th>nombre</th>\n",
       "      <th>texto</th>\n",
       "    </tr>\n",
       "  </thead>\n",
       "  <tbody>\n",
       "    <tr>\n",
       "      <th>0</th>\n",
       "      <td>S1130-01082006000100014-1</td>\n",
       "      <td>Se trata de una mujer de 35 años, con antecedentes familiares de enfermedad de Crohn y sin antec...</td>\n",
       "    </tr>\n",
       "    <tr>\n",
       "      <th>1</th>\n",
       "      <td>S1130-01082009000300015-1</td>\n",
       "      <td>Varón de 70 años, fumador, con enfisema pulmonar y vitíligo al que en mayo de 2001 se realizó un...</td>\n",
       "    </tr>\n",
       "    <tr>\n",
       "      <th>2</th>\n",
       "      <td>S0210-56912010000200009-1</td>\n",
       "      <td>Se trata de una mujer de 70 años con antecedentes de HTA y diagnosticada recientemente de neopla...</td>\n",
       "    </tr>\n",
       "    <tr>\n",
       "      <th>3</th>\n",
       "      <td>S1130-01082008000900014-1</td>\n",
       "      <td>Varón de 41 años diagnosticado de adenocarcinoma medianamente diferenciado implantado sobre esóf...</td>\n",
       "    </tr>\n",
       "    <tr>\n",
       "      <th>4</th>\n",
       "      <td>S0210-48062004000500008-1</td>\n",
       "      <td>Paciente de 29 años de edad que acude al Servicio de Urgencias de nuestro Hospital ante la prese...</td>\n",
       "    </tr>\n",
       "  </tbody>\n",
       "</table>\n",
       "</div>"
      ],
      "text/plain": [
       "                      nombre  \\\n",
       "0  S1130-01082006000100014-1   \n",
       "1  S1130-01082009000300015-1   \n",
       "2  S0210-56912010000200009-1   \n",
       "3  S1130-01082008000900014-1   \n",
       "4  S0210-48062004000500008-1   \n",
       "\n",
       "                                                                                                 texto  \n",
       "0  Se trata de una mujer de 35 años, con antecedentes familiares de enfermedad de Crohn y sin antec...  \n",
       "1  Varón de 70 años, fumador, con enfisema pulmonar y vitíligo al que en mayo de 2001 se realizó un...  \n",
       "2  Se trata de una mujer de 70 años con antecedentes de HTA y diagnosticada recientemente de neopla...  \n",
       "3  Varón de 41 años diagnosticado de adenocarcinoma medianamente diferenciado implantado sobre esóf...  \n",
       "4  Paciente de 29 años de edad que acude al Servicio de Urgencias de nuestro Hospital ante la prese...  "
      ]
     },
     "execution_count": 56,
     "metadata": {},
     "output_type": "execute_result"
    }
   ],
   "source": [
    "train_raw.head()"
   ]
  },
  {
   "cell_type": "markdown",
   "id": "3c821efa-0c79-48fc-ae53-c6b9b96846f6",
   "metadata": {},
   "source": [
    "## Subtrack 2: Regex to extract acronym"
   ]
  },
  {
   "cell_type": "code",
   "execution_count": 57,
   "id": "61776498-9c01-4b72-94b1-51a487d657a5",
   "metadata": {
    "tags": []
   },
   "outputs": [
    {
     "name": "stderr",
     "output_type": "stream",
     "text": [
      "[nltk_data] Downloading package stopwords to\n",
      "[nltk_data]     /Users/egarcia/nltk_data...\n",
      "[nltk_data]   Package stopwords is already up-to-date!\n"
     ]
    }
   ],
   "source": [
    "nltk.download('stopwords')\n",
    "swords = list(set(stopwords.words('spanish')))\n",
    "swords = swords + ['I','II','III','VI','VII','VIII','IX', 'X', 'x']"
   ]
  },
  {
   "cell_type": "code",
   "execution_count": 58,
   "id": "be4ea4ae-d580-40fa-82c9-867e6b6a7fb8",
   "metadata": {},
   "outputs": [],
   "source": [
    "patron1 = r'[A-Z]{2,8}' #Letras mayúsculas entre 2 y 8. Probar (\\s|\\()[A-Z]{2,8}\n",
    "patron2 = r'\\s[a-z]{1,2}\\s' #Entre 2 y 3 letras minusculas entre espacios\n",
    "patron3 = r'\\b[aA-zZ]{1,4}\\-[aA-zZ]{1,4}\\b' #mayúsuclas o minúsculas entre guiones\n",
    "patron4 = r'\\b\\w{2}\\b\\/' #medidas antes de un signo /\n",
    "patron5 = r'\\/\\b\\w{2}\\b' #medidas después de un signo /\n",
    "patron6 = r'[aA-zZ]{1,4}[A-Z]+[a-z]*[1-4]*'\n",
    "patron7 = r'\\b\\w{1,3}\\s[0-9]{1,3}\\b' #letras y numeros separadas por espacio\n",
    "patron8 = r'\\b\\w{1,3}[-]\\w{1,3}\\b' #tras y numeros separas por guión\n",
    "patron9= r'\\b[aA-zZ]{1,3}[0-9]{1,3}\\b' #letras con numeros todo junto\n",
    "#patron8 = r'\\/[a-z]*[A-Z]*'\n",
    "#patron6 = r'[1-9]\\s*[aA-zZ]{1,4}\\/\\b[aA-zZ]{1,4}\\b' #Palabras divididas por / solo cuando las palabras no exceden de 4 caracteres\n",
    "\n",
    "\n",
    "# create a list with them\n",
    "regexes = [ patron1, patron2, patron3, patron4, patron5, patron6, patron7, patron8, patron9]\n",
    "for i in regexes:\n",
    "    generic_re = re.compile(\"%s|%s|%s|%s|%s|%s|%s|%s|%s\" % (patron1, patron2, patron3, patron4, patron5, patron6, patron7, patron8, patron9))"
   ]
  },
  {
   "cell_type": "code",
   "execution_count": 59,
   "id": "ad474d00-cee9-4472-a4c1-c802c1d79640",
   "metadata": {},
   "outputs": [],
   "source": [
    "train_raw['texto_clean'] = train_raw['texto'].str.split().map(lambda x: ' '.join([w for w in x if w not in swords]))"
   ]
  },
  {
   "cell_type": "code",
   "execution_count": 60,
   "id": "44898626-ef21-4523-a007-e920f2b501e9",
   "metadata": {},
   "outputs": [],
   "source": [
    "train_raw['abrev'] = train_raw['texto_clean'].map(lambda x: generic_re.findall(x))"
   ]
  },
  {
   "cell_type": "code",
   "execution_count": 61,
   "id": "c1f32cfc-371f-41b5-b023-d19191f19135",
   "metadata": {},
   "outputs": [
    {
     "data": {
      "text/html": [
       "<div>\n",
       "<style scoped>\n",
       "    .dataframe tbody tr th:only-of-type {\n",
       "        vertical-align: middle;\n",
       "    }\n",
       "\n",
       "    .dataframe tbody tr th {\n",
       "        vertical-align: top;\n",
       "    }\n",
       "\n",
       "    .dataframe thead th {\n",
       "        text-align: right;\n",
       "    }\n",
       "</style>\n",
       "<table border=\"1\" class=\"dataframe\">\n",
       "  <thead>\n",
       "    <tr style=\"text-align: right;\">\n",
       "      <th></th>\n",
       "      <th>nombre</th>\n",
       "      <th>texto</th>\n",
       "      <th>texto_clean</th>\n",
       "      <th>abrev</th>\n",
       "    </tr>\n",
       "  </thead>\n",
       "  <tbody>\n",
       "    <tr>\n",
       "      <th>0</th>\n",
       "      <td>S1130-01082006000100014-1</td>\n",
       "      <td>Se trata de una mujer de 35 años, con antecedentes familiares de enfermedad de Crohn y sin antec...</td>\n",
       "      <td>Se trata mujer 35 años, antecedentes familiares enfermedad Crohn antecedentes patológicos interé...</td>\n",
       "      <td>[FID, A 2, IMC, /60, /dl, 700 84, GOT, GPT, GT, /dl, mg/, mg/, mm3 90, A 5, LCR]</td>\n",
       "    </tr>\n",
       "    <tr>\n",
       "      <th>1</th>\n",
       "      <td>S1130-01082009000300015-1</td>\n",
       "      <td>Varón de 70 años, fumador, con enfisema pulmonar y vitíligo al que en mayo de 2001 se realizó un...</td>\n",
       "      <td>Varón 70 años, fumador, enfisema pulmonar vitíligo mayo 2001 realizó colonoscopia diarrea, dolor...</td>\n",
       "      <td>[ cm ,  cm , pg/, pg/,  mg , TC,  cm ,  cm ,  cm , pg/,  mg ,  cm ,  cm ]</td>\n",
       "    </tr>\n",
       "    <tr>\n",
       "      <th>2</th>\n",
       "      <td>S0210-56912010000200009-1</td>\n",
       "      <td>Se trata de una mujer de 70 años con antecedentes de HTA y diagnosticada recientemente de neopla...</td>\n",
       "      <td>Se trata mujer 70 años antecedentes HTA diagnosticada recientemente neoplasia recto bajo, tratad...</td>\n",
       "      <td>[HTA, UCI, VM, VMNI, oC, /dl, /μl, VM, oC, TC, BAL, PCR, CMV, BAL, PCR, VHS, /kg, /8h]</td>\n",
       "    </tr>\n",
       "    <tr>\n",
       "      <th>3</th>\n",
       "      <td>S1130-01082008000900014-1</td>\n",
       "      <td>Varón de 41 años diagnosticado de adenocarcinoma medianamente diferenciado implantado sobre esóf...</td>\n",
       "      <td>Varón 41 años diagnosticado adenocarcinoma medianamente diferenciado implantado esófago Barrett ...</td>\n",
       "      <td>[ mm , CRE,  mm ,  mm , EE, UU, mmHg, mmHg]</td>\n",
       "    </tr>\n",
       "    <tr>\n",
       "      <th>4</th>\n",
       "      <td>S0210-48062004000500008-1</td>\n",
       "      <td>Paciente de 29 años de edad que acude al Servicio de Urgencias de nuestro Hospital ante la prese...</td>\n",
       "      <td>Paciente 29 años edad acude Servicio Urgencias Hospital presencia erección levemente dolorosa di...</td>\n",
       "      <td>[ u , pCO2, mmHg, HCO, mEq, mg/,  ml ,  mg , 20-30,  ml , 414 109, HLA]</td>\n",
       "    </tr>\n",
       "  </tbody>\n",
       "</table>\n",
       "</div>"
      ],
      "text/plain": [
       "                      nombre  \\\n",
       "0  S1130-01082006000100014-1   \n",
       "1  S1130-01082009000300015-1   \n",
       "2  S0210-56912010000200009-1   \n",
       "3  S1130-01082008000900014-1   \n",
       "4  S0210-48062004000500008-1   \n",
       "\n",
       "                                                                                                 texto  \\\n",
       "0  Se trata de una mujer de 35 años, con antecedentes familiares de enfermedad de Crohn y sin antec...   \n",
       "1  Varón de 70 años, fumador, con enfisema pulmonar y vitíligo al que en mayo de 2001 se realizó un...   \n",
       "2  Se trata de una mujer de 70 años con antecedentes de HTA y diagnosticada recientemente de neopla...   \n",
       "3  Varón de 41 años diagnosticado de adenocarcinoma medianamente diferenciado implantado sobre esóf...   \n",
       "4  Paciente de 29 años de edad que acude al Servicio de Urgencias de nuestro Hospital ante la prese...   \n",
       "\n",
       "                                                                                           texto_clean  \\\n",
       "0  Se trata mujer 35 años, antecedentes familiares enfermedad Crohn antecedentes patológicos interé...   \n",
       "1  Varón 70 años, fumador, enfisema pulmonar vitíligo mayo 2001 realizó colonoscopia diarrea, dolor...   \n",
       "2  Se trata mujer 70 años antecedentes HTA diagnosticada recientemente neoplasia recto bajo, tratad...   \n",
       "3  Varón 41 años diagnosticado adenocarcinoma medianamente diferenciado implantado esófago Barrett ...   \n",
       "4  Paciente 29 años edad acude Servicio Urgencias Hospital presencia erección levemente dolorosa di...   \n",
       "\n",
       "                                                                                    abrev  \n",
       "0        [FID, A 2, IMC, /60, /dl, 700 84, GOT, GPT, GT, /dl, mg/, mg/, mm3 90, A 5, LCR]  \n",
       "1               [ cm ,  cm , pg/, pg/,  mg , TC,  cm ,  cm ,  cm , pg/,  mg ,  cm ,  cm ]  \n",
       "2  [HTA, UCI, VM, VMNI, oC, /dl, /μl, VM, oC, TC, BAL, PCR, CMV, BAL, PCR, VHS, /kg, /8h]  \n",
       "3                                             [ mm , CRE,  mm ,  mm , EE, UU, mmHg, mmHg]  \n",
       "4                 [ u , pCO2, mmHg, HCO, mEq, mg/,  ml ,  mg , 20-30,  ml , 414 109, HLA]  "
      ]
     },
     "execution_count": 61,
     "metadata": {},
     "output_type": "execute_result"
    }
   ],
   "source": [
    "train_raw.head()"
   ]
  },
  {
   "cell_type": "code",
   "execution_count": 62,
   "id": "3aa93550-9483-43cd-b612-9e1b7d4669b5",
   "metadata": {},
   "outputs": [],
   "source": [
    "train_track2 = train_raw.explode('abrev')"
   ]
  },
  {
   "cell_type": "code",
   "execution_count": 63,
   "id": "76a0420d-3467-45c5-a813-8174593caa70",
   "metadata": {},
   "outputs": [
    {
     "name": "stderr",
     "output_type": "stream",
     "text": [
      "/var/folders/1q/pw51_8397cv2pn5m63n8dwzr0000gn/T/ipykernel_64120/1487880884.py:1: FutureWarning: The default value of regex will change from True to False in a future version.\n",
      "  train_track2['abrev'] = train_track2['abrev'].str.replace('[!\"#$%&*+,-./:;<=>?@^_`{|}~]','')\n"
     ]
    }
   ],
   "source": [
    "train_track2['abrev'] = train_track2['abrev'].str.replace('[!\"#$%&*+,-./:;<=>?@^_`{|}~]','')"
   ]
  },
  {
   "cell_type": "code",
   "execution_count": 64,
   "id": "9d7df532-965f-424d-b900-773595d55127",
   "metadata": {},
   "outputs": [
    {
     "data": {
      "text/html": [
       "<div>\n",
       "<style scoped>\n",
       "    .dataframe tbody tr th:only-of-type {\n",
       "        vertical-align: middle;\n",
       "    }\n",
       "\n",
       "    .dataframe tbody tr th {\n",
       "        vertical-align: top;\n",
       "    }\n",
       "\n",
       "    .dataframe thead th {\n",
       "        text-align: right;\n",
       "    }\n",
       "</style>\n",
       "<table border=\"1\" class=\"dataframe\">\n",
       "  <thead>\n",
       "    <tr style=\"text-align: right;\">\n",
       "      <th></th>\n",
       "      <th>nombre</th>\n",
       "      <th>texto</th>\n",
       "      <th>texto_clean</th>\n",
       "      <th>abrev</th>\n",
       "    </tr>\n",
       "  </thead>\n",
       "  <tbody>\n",
       "    <tr>\n",
       "      <th>0</th>\n",
       "      <td>S1130-01082006000100014-1</td>\n",
       "      <td>Se trata de una mujer de 35 años, con antecedentes familiares de enfermedad de Crohn y sin antec...</td>\n",
       "      <td>Se trata mujer 35 años, antecedentes familiares enfermedad Crohn antecedentes patológicos interé...</td>\n",
       "      <td>FID</td>\n",
       "    </tr>\n",
       "    <tr>\n",
       "      <th>0</th>\n",
       "      <td>S1130-01082006000100014-1</td>\n",
       "      <td>Se trata de una mujer de 35 años, con antecedentes familiares de enfermedad de Crohn y sin antec...</td>\n",
       "      <td>Se trata mujer 35 años, antecedentes familiares enfermedad Crohn antecedentes patológicos interé...</td>\n",
       "      <td>A 2</td>\n",
       "    </tr>\n",
       "    <tr>\n",
       "      <th>0</th>\n",
       "      <td>S1130-01082006000100014-1</td>\n",
       "      <td>Se trata de una mujer de 35 años, con antecedentes familiares de enfermedad de Crohn y sin antec...</td>\n",
       "      <td>Se trata mujer 35 años, antecedentes familiares enfermedad Crohn antecedentes patológicos interé...</td>\n",
       "      <td>IMC</td>\n",
       "    </tr>\n",
       "    <tr>\n",
       "      <th>0</th>\n",
       "      <td>S1130-01082006000100014-1</td>\n",
       "      <td>Se trata de una mujer de 35 años, con antecedentes familiares de enfermedad de Crohn y sin antec...</td>\n",
       "      <td>Se trata mujer 35 años, antecedentes familiares enfermedad Crohn antecedentes patológicos interé...</td>\n",
       "      <td>60</td>\n",
       "    </tr>\n",
       "    <tr>\n",
       "      <th>0</th>\n",
       "      <td>S1130-01082006000100014-1</td>\n",
       "      <td>Se trata de una mujer de 35 años, con antecedentes familiares de enfermedad de Crohn y sin antec...</td>\n",
       "      <td>Se trata mujer 35 años, antecedentes familiares enfermedad Crohn antecedentes patológicos interé...</td>\n",
       "      <td>dl</td>\n",
       "    </tr>\n",
       "  </tbody>\n",
       "</table>\n",
       "</div>"
      ],
      "text/plain": [
       "                      nombre  \\\n",
       "0  S1130-01082006000100014-1   \n",
       "0  S1130-01082006000100014-1   \n",
       "0  S1130-01082006000100014-1   \n",
       "0  S1130-01082006000100014-1   \n",
       "0  S1130-01082006000100014-1   \n",
       "\n",
       "                                                                                                 texto  \\\n",
       "0  Se trata de una mujer de 35 años, con antecedentes familiares de enfermedad de Crohn y sin antec...   \n",
       "0  Se trata de una mujer de 35 años, con antecedentes familiares de enfermedad de Crohn y sin antec...   \n",
       "0  Se trata de una mujer de 35 años, con antecedentes familiares de enfermedad de Crohn y sin antec...   \n",
       "0  Se trata de una mujer de 35 años, con antecedentes familiares de enfermedad de Crohn y sin antec...   \n",
       "0  Se trata de una mujer de 35 años, con antecedentes familiares de enfermedad de Crohn y sin antec...   \n",
       "\n",
       "                                                                                           texto_clean  \\\n",
       "0  Se trata mujer 35 años, antecedentes familiares enfermedad Crohn antecedentes patológicos interé...   \n",
       "0  Se trata mujer 35 años, antecedentes familiares enfermedad Crohn antecedentes patológicos interé...   \n",
       "0  Se trata mujer 35 años, antecedentes familiares enfermedad Crohn antecedentes patológicos interé...   \n",
       "0  Se trata mujer 35 años, antecedentes familiares enfermedad Crohn antecedentes patológicos interé...   \n",
       "0  Se trata mujer 35 años, antecedentes familiares enfermedad Crohn antecedentes patológicos interé...   \n",
       "\n",
       "  abrev  \n",
       "0   FID  \n",
       "0   A 2  \n",
       "0   IMC  \n",
       "0    60  \n",
       "0    dl  "
      ]
     },
     "execution_count": 64,
     "metadata": {},
     "output_type": "execute_result"
    }
   ],
   "source": [
    "train_track2.head()"
   ]
  },
  {
   "cell_type": "code",
   "execution_count": 78,
   "id": "85edd066-1b03-42b3-950e-5bc5b221e196",
   "metadata": {},
   "outputs": [],
   "source": [
    "train_track2 = train_track2[~train_track2.abrev.isnull()]"
   ]
  },
  {
   "cell_type": "code",
   "execution_count": 79,
   "id": "cf858f66-0d9a-4650-8faa-301c26481011",
   "metadata": {},
   "outputs": [
    {
     "name": "stderr",
     "output_type": "stream",
     "text": [
      "/var/folders/1q/pw51_8397cv2pn5m63n8dwzr0000gn/T/ipykernel_64120/3813128902.py:1: SettingWithCopyWarning: \n",
      "A value is trying to be set on a copy of a slice from a DataFrame.\n",
      "Try using .loc[row_indexer,col_indexer] = value instead\n",
      "\n",
      "See the caveats in the documentation: https://pandas.pydata.org/pandas-docs/stable/user_guide/indexing.html#returning-a-view-versus-a-copy\n",
      "  train_track2['StartOffset'] = train_track2.apply(offset, axis = 1)\n"
     ]
    }
   ],
   "source": [
    "train_track2['StartOffset'] = train_track2.apply(offset, axis = 1)"
   ]
  },
  {
   "cell_type": "code",
   "execution_count": 84,
   "id": "0af04cf8-0b1d-46d0-96ff-a462547a2ae5",
   "metadata": {},
   "outputs": [
    {
     "name": "stderr",
     "output_type": "stream",
     "text": [
      "/var/folders/1q/pw51_8397cv2pn5m63n8dwzr0000gn/T/ipykernel_64120/625978184.py:1: SettingWithCopyWarning: \n",
      "A value is trying to be set on a copy of a slice from a DataFrame.\n",
      "Try using .loc[row_indexer,col_indexer] = value instead\n",
      "\n",
      "See the caveats in the documentation: https://pandas.pydata.org/pandas-docs/stable/user_guide/indexing.html#returning-a-view-versus-a-copy\n",
      "  train_track2['StartOffset'] = train_track2.apply(offset, axis = 1)\n",
      "/var/folders/1q/pw51_8397cv2pn5m63n8dwzr0000gn/T/ipykernel_64120/625978184.py:2: SettingWithCopyWarning: \n",
      "A value is trying to be set on a copy of a slice from a DataFrame.\n",
      "Try using .loc[row_indexer,col_indexer] = value instead\n",
      "\n",
      "See the caveats in the documentation: https://pandas.pydata.org/pandas-docs/stable/user_guide/indexing.html#returning-a-view-versus-a-copy\n",
      "  train_track2['EndOffset'] = train_track2.apply(offsetend, axis = 1)\n"
     ]
    }
   ],
   "source": [
    "train_track2['StartOffset'] = train_track2.apply(offset, axis = 1)\n",
    "train_track2['EndOffset'] = train_track2.apply(offsetend, axis = 1)"
   ]
  },
  {
   "cell_type": "code",
   "execution_count": 87,
   "id": "6616b6e7-829f-40bd-94af-62cc4b62e8a0",
   "metadata": {},
   "outputs": [],
   "source": [
    "train_track2 = train_track2[['nombre','StartOffset', 'EndOffset' ,'abrev','texto']]"
   ]
  },
  {
   "cell_type": "code",
   "execution_count": 96,
   "id": "752fbee9-3a1d-435b-962e-1eb4f27f5925",
   "metadata": {},
   "outputs": [],
   "source": [
    "train_track2 = train_track2.rename(columns = {'nombre':'# Document_ID', 'abrev':'Abbreviation'})"
   ]
  },
  {
   "cell_type": "code",
   "execution_count": 97,
   "id": "8a87afd9-f45b-427a-9ff9-cfaf5151873a",
   "metadata": {},
   "outputs": [],
   "source": [
    "train_track2['Definition']= 'hola'\n",
    "train_track2['Definition_lemmatized']= 'hola'"
   ]
  },
  {
   "cell_type": "code",
   "execution_count": 100,
   "id": "0e8794f3-0b56-408a-a6da-332d641834b9",
   "metadata": {},
   "outputs": [
    {
     "data": {
      "text/html": [
       "<div>\n",
       "<style scoped>\n",
       "    .dataframe tbody tr th:only-of-type {\n",
       "        vertical-align: middle;\n",
       "    }\n",
       "\n",
       "    .dataframe tbody tr th {\n",
       "        vertical-align: top;\n",
       "    }\n",
       "\n",
       "    .dataframe thead th {\n",
       "        text-align: right;\n",
       "    }\n",
       "</style>\n",
       "<table border=\"1\" class=\"dataframe\">\n",
       "  <thead>\n",
       "    <tr style=\"text-align: right;\">\n",
       "      <th></th>\n",
       "      <th># Document_ID</th>\n",
       "      <th>StartOffset</th>\n",
       "      <th>EndOffset</th>\n",
       "      <th>Abbreviation</th>\n",
       "      <th>Definition</th>\n",
       "      <th>Definition_lemmatized</th>\n",
       "    </tr>\n",
       "  </thead>\n",
       "  <tbody>\n",
       "    <tr>\n",
       "      <th>0</th>\n",
       "      <td>S1130-01082006000100014-1</td>\n",
       "      <td>192</td>\n",
       "      <td>195</td>\n",
       "      <td>FID</td>\n",
       "      <td>hola</td>\n",
       "      <td>hola</td>\n",
       "    </tr>\n",
       "    <tr>\n",
       "      <th>0</th>\n",
       "      <td>S1130-01082006000100014-1</td>\n",
       "      <td>-1</td>\n",
       "      <td>2</td>\n",
       "      <td>A 2</td>\n",
       "      <td>hola</td>\n",
       "      <td>hola</td>\n",
       "    </tr>\n",
       "    <tr>\n",
       "      <th>0</th>\n",
       "      <td>S1130-01082006000100014-1</td>\n",
       "      <td>1144</td>\n",
       "      <td>1147</td>\n",
       "      <td>IMC</td>\n",
       "      <td>hola</td>\n",
       "      <td>hola</td>\n",
       "    </tr>\n",
       "    <tr>\n",
       "      <th>0</th>\n",
       "      <td>S1130-01082006000100014-1</td>\n",
       "      <td>1193</td>\n",
       "      <td>1195</td>\n",
       "      <td>60</td>\n",
       "      <td>hola</td>\n",
       "      <td>hola</td>\n",
       "    </tr>\n",
       "    <tr>\n",
       "      <th>0</th>\n",
       "      <td>S1130-01082006000100014-1</td>\n",
       "      <td>1414</td>\n",
       "      <td>1416</td>\n",
       "      <td>dl</td>\n",
       "      <td>hola</td>\n",
       "      <td>hola</td>\n",
       "    </tr>\n",
       "  </tbody>\n",
       "</table>\n",
       "</div>"
      ],
      "text/plain": [
       "               # Document_ID  StartOffset  EndOffset Abbreviation Definition  \\\n",
       "0  S1130-01082006000100014-1          192        195          FID       hola   \n",
       "0  S1130-01082006000100014-1           -1          2          A 2       hola   \n",
       "0  S1130-01082006000100014-1         1144       1147          IMC       hola   \n",
       "0  S1130-01082006000100014-1         1193       1195           60       hola   \n",
       "0  S1130-01082006000100014-1         1414       1416           dl       hola   \n",
       "\n",
       "  Definition_lemmatized  \n",
       "0                  hola  \n",
       "0                  hola  \n",
       "0                  hola  \n",
       "0                  hola  \n",
       "0                  hola  "
      ]
     },
     "execution_count": 100,
     "metadata": {},
     "output_type": "execute_result"
    }
   ],
   "source": [
    "train_track2.head()"
   ]
  },
  {
   "cell_type": "code",
   "execution_count": 99,
   "id": "f4cb94e8-b35b-4fdc-a025-b3f55c4bb9c8",
   "metadata": {},
   "outputs": [],
   "source": [
    "train_track2 = train_track2[['# Document_ID', 'StartOffset', 'EndOffset', 'Abbreviation','Definition', 'Definition_lemmatized']]"
   ]
  },
  {
   "cell_type": "code",
   "execution_count": 118,
   "id": "38ab6d1f-c4e3-4482-98f4-f0c868d298ac",
   "metadata": {},
   "outputs": [
    {
     "data": {
      "text/html": [
       "<div>\n",
       "<style scoped>\n",
       "    .dataframe tbody tr th:only-of-type {\n",
       "        vertical-align: middle;\n",
       "    }\n",
       "\n",
       "    .dataframe tbody tr th {\n",
       "        vertical-align: top;\n",
       "    }\n",
       "\n",
       "    .dataframe thead th {\n",
       "        text-align: right;\n",
       "    }\n",
       "</style>\n",
       "<table border=\"1\" class=\"dataframe\">\n",
       "  <thead>\n",
       "    <tr style=\"text-align: right;\">\n",
       "      <th></th>\n",
       "      <th># Document_ID</th>\n",
       "      <th>StartOffset</th>\n",
       "      <th>EndOffset</th>\n",
       "      <th>Abbreviation</th>\n",
       "      <th>Definition</th>\n",
       "      <th>Definition_lemmatized</th>\n",
       "    </tr>\n",
       "  </thead>\n",
       "  <tbody>\n",
       "    <tr>\n",
       "      <th>193</th>\n",
       "      <td>S1130-01082008000800010-1</td>\n",
       "      <td>160</td>\n",
       "      <td>163</td>\n",
       "      <td>TSH</td>\n",
       "      <td>hola</td>\n",
       "      <td>hola</td>\n",
       "    </tr>\n",
       "    <tr>\n",
       "      <th>193</th>\n",
       "      <td>S1130-01082008000800010-1</td>\n",
       "      <td>498</td>\n",
       "      <td>502</td>\n",
       "      <td>cm</td>\n",
       "      <td>hola</td>\n",
       "      <td>hola</td>\n",
       "    </tr>\n",
       "    <tr>\n",
       "      <th>193</th>\n",
       "      <td>S1130-01082008000800010-1</td>\n",
       "      <td>645</td>\n",
       "      <td>648</td>\n",
       "      <td>TAC</td>\n",
       "      <td>hola</td>\n",
       "      <td>hola</td>\n",
       "    </tr>\n",
       "    <tr>\n",
       "      <th>193</th>\n",
       "      <td>S1130-01082008000800010-1</td>\n",
       "      <td>-1</td>\n",
       "      <td>2</td>\n",
       "      <td>8 4</td>\n",
       "      <td>hola</td>\n",
       "      <td>hola</td>\n",
       "    </tr>\n",
       "  </tbody>\n",
       "</table>\n",
       "</div>"
      ],
      "text/plain": [
       "                 # Document_ID  StartOffset  EndOffset Abbreviation  \\\n",
       "193  S1130-01082008000800010-1          160        163          TSH   \n",
       "193  S1130-01082008000800010-1          498        502          cm    \n",
       "193  S1130-01082008000800010-1          645        648          TAC   \n",
       "193  S1130-01082008000800010-1           -1          2          8 4   \n",
       "\n",
       "    Definition Definition_lemmatized  \n",
       "193       hola                  hola  \n",
       "193       hola                  hola  \n",
       "193       hola                  hola  \n",
       "193       hola                  hola  "
      ]
     },
     "execution_count": 118,
     "metadata": {},
     "output_type": "execute_result"
    }
   ],
   "source": [
    "train_track2[train_track2['# Document_ID']== 'S1130-01082008000800010-1']"
   ]
  },
  {
   "cell_type": "code",
   "execution_count": 117,
   "id": "18667da3-2700-4183-8614-b8c5a8c3b0e7",
   "metadata": {},
   "outputs": [
    {
     "data": {
      "text/html": [
       "<div>\n",
       "<style scoped>\n",
       "    .dataframe tbody tr th:only-of-type {\n",
       "        vertical-align: middle;\n",
       "    }\n",
       "\n",
       "    .dataframe tbody tr th {\n",
       "        vertical-align: top;\n",
       "    }\n",
       "\n",
       "    .dataframe thead th {\n",
       "        text-align: right;\n",
       "    }\n",
       "</style>\n",
       "<table border=\"1\" class=\"dataframe\">\n",
       "  <thead>\n",
       "    <tr style=\"text-align: right;\">\n",
       "      <th></th>\n",
       "      <th># Document_ID</th>\n",
       "      <th>StartOffset</th>\n",
       "      <th>EndOffset</th>\n",
       "      <th>Abbreviation</th>\n",
       "      <th>Definition</th>\n",
       "      <th>Definition_lemmatized</th>\n",
       "    </tr>\n",
       "  </thead>\n",
       "  <tbody>\n",
       "    <tr>\n",
       "      <th>2060</th>\n",
       "      <td>S1130-01082008000800010-1</td>\n",
       "      <td>251</td>\n",
       "      <td>252</td>\n",
       "      <td>C</td>\n",
       "      <td>peak c</td>\n",
       "      <td>peak c</td>\n",
       "    </tr>\n",
       "    <tr>\n",
       "      <th>2061</th>\n",
       "      <td>S1130-01082008000800010-1</td>\n",
       "      <td>160</td>\n",
       "      <td>163</td>\n",
       "      <td>TSH</td>\n",
       "      <td>thyroid-stimulating hormone</td>\n",
       "      <td>thyroid-stimulating hormoner</td>\n",
       "    </tr>\n",
       "    <tr>\n",
       "      <th>2062</th>\n",
       "      <td>S1130-01082008000800010-1</td>\n",
       "      <td>645</td>\n",
       "      <td>648</td>\n",
       "      <td>TAC</td>\n",
       "      <td>tomografía axial computarizada</td>\n",
       "      <td>tomografía axial computarizado</td>\n",
       "    </tr>\n",
       "    <tr>\n",
       "      <th>2063</th>\n",
       "      <td>S1130-01082008000800010-1</td>\n",
       "      <td>693</td>\n",
       "      <td>695</td>\n",
       "      <td>cm</td>\n",
       "      <td>centímetro</td>\n",
       "      <td>centímetro</td>\n",
       "    </tr>\n",
       "    <tr>\n",
       "      <th>2064</th>\n",
       "      <td>S1130-01082008000800010-1</td>\n",
       "      <td>1138</td>\n",
       "      <td>1140</td>\n",
       "      <td>cm</td>\n",
       "      <td>centímetro</td>\n",
       "      <td>centímetro</td>\n",
       "    </tr>\n",
       "    <tr>\n",
       "      <th>2065</th>\n",
       "      <td>S1130-01082008000800010-1</td>\n",
       "      <td>499</td>\n",
       "      <td>501</td>\n",
       "      <td>cm</td>\n",
       "      <td>centímetro</td>\n",
       "      <td>centímetro</td>\n",
       "    </tr>\n",
       "  </tbody>\n",
       "</table>\n",
       "</div>"
      ],
      "text/plain": [
       "                  # Document_ID  StartOffset  EndOffset Abbreviation  \\\n",
       "2060  S1130-01082008000800010-1          251        252            C   \n",
       "2061  S1130-01082008000800010-1          160        163          TSH   \n",
       "2062  S1130-01082008000800010-1          645        648          TAC   \n",
       "2063  S1130-01082008000800010-1          693        695           cm   \n",
       "2064  S1130-01082008000800010-1         1138       1140           cm   \n",
       "2065  S1130-01082008000800010-1          499        501           cm   \n",
       "\n",
       "                          Definition           Definition_lemmatized  \n",
       "2060                          peak c                          peak c  \n",
       "2061     thyroid-stimulating hormone    thyroid-stimulating hormoner  \n",
       "2062  tomografía axial computarizada  tomografía axial computarizado  \n",
       "2063                      centímetro                      centímetro  \n",
       "2064                      centímetro                      centímetro  \n",
       "2065                      centímetro                      centímetro  "
      ]
     },
     "execution_count": 117,
     "metadata": {},
     "output_type": "execute_result"
    }
   ],
   "source": [
    "train_abbr[train_abbr['# Document_ID']== 'S1130-01082008000800010-1']"
   ]
  },
  {
   "cell_type": "markdown",
   "id": "a2dce07f-ef74-4d1c-a906-4580d857f276",
   "metadata": {},
   "source": [
    "## Write data"
   ]
  },
  {
   "cell_type": "code",
   "execution_count": 101,
   "id": "0f5a98c3-7674-4b44-ae77-f87fd7d6296c",
   "metadata": {},
   "outputs": [],
   "source": [
    "train_track2.to_csv('../data/track_2_train_abrev.tsv', sep = '\\t', index = False)"
   ]
  },
  {
   "cell_type": "code",
   "execution_count": null,
   "id": "cd02b41f-ea43-4248-81fe-75f88c89f10b",
   "metadata": {},
   "outputs": [],
   "source": []
  }
 ],
 "metadata": {
  "kernelspec": {
   "display_name": "Python 3 (ipykernel)",
   "language": "python",
   "name": "python3"
  },
  "language_info": {
   "codemirror_mode": {
    "name": "ipython",
    "version": 3
   },
   "file_extension": ".py",
   "mimetype": "text/x-python",
   "name": "python",
   "nbconvert_exporter": "python",
   "pygments_lexer": "ipython3",
   "version": "3.8.12"
  }
 },
 "nbformat": 4,
 "nbformat_minor": 5
}
