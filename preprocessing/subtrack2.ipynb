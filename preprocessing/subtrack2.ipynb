{
 "cells": [
  {
   "cell_type": "markdown",
   "id": "4412e7c9-9f58-4a05-a13a-154f484d4b8d",
   "metadata": {},
   "source": [
    "# Library"
   ]
  },
  {
   "cell_type": "code",
   "execution_count": 120,
   "id": "76ad4f48-7747-4339-b5fd-dfa032fc81a6",
   "metadata": {},
   "outputs": [
    {
     "name": "stderr",
     "output_type": "stream",
     "text": [
      "[nltk_data] Downloading package wordnet to /Users/egarcia/nltk_data...\n",
      "[nltk_data]   Package wordnet is already up-to-date!\n"
     ]
    },
    {
     "data": {
      "text/plain": [
       "True"
      ]
     },
     "execution_count": 120,
     "metadata": {},
     "output_type": "execute_result"
    }
   ],
   "source": [
    "import pandas as pd\n",
    "import numpy as np\n",
    "import os\n",
    "import re\n",
    "import collections\n",
    "import unidecode\n",
    "import nltk\n",
    "from nltk.corpus import stopwords\n",
    "import itertools \n",
    "from nltk.tokenize import word_tokenize\n",
    "from string import punctuation\n",
    "from functools import reduce\n",
    "import seaborn as sns\n",
    "from abbreviations import schwartz_hearst\n",
    "from nltk.stem import WordNetLemmatizer\n",
    "nltk.download('wordnet')\n",
    "import ast\n",
    "import math"
   ]
  },
  {
   "cell_type": "code",
   "execution_count": 121,
   "id": "125f9fcc-83a4-4ccf-a21d-a054e926ae6d",
   "metadata": {},
   "outputs": [],
   "source": [
    "pd.set_option('display.max_colwidth', 100)"
   ]
  },
  {
   "cell_type": "code",
   "execution_count": 122,
   "id": "614514e3-a4bb-427b-af9c-fed865bdddfa",
   "metadata": {
    "tags": []
   },
   "outputs": [],
   "source": [
    "%matplotlib inline\n",
    "from matplotlib import pyplot as plt"
   ]
  },
  {
   "cell_type": "markdown",
   "id": "1ce6ac5d-aae9-4fa0-9e9e-82098b8b99ef",
   "metadata": {},
   "source": [
    "# Functions"
   ]
  },
  {
   "cell_type": "code",
   "execution_count": 123,
   "id": "bcf6ea66-6f27-49b7-b782-bfa0245b9349",
   "metadata": {
    "tags": []
   },
   "outputs": [],
   "source": [
    "def read_texts(path):\n",
    "    data = []\n",
    "    file_name = os.listdir(path)\n",
    "\n",
    "    for name in file_name:\n",
    "        if name.endswith('.txt'):\n",
    "            with open(path + name,encoding=\"utf8\") as f:\n",
    "                text = f.read()\n",
    "                data.append({'nombre':name.replace('.txt',''), 'texto':text})\n",
    "\n",
    "    df = pd.DataFrame(data)\n",
    "    return df"
   ]
  },
  {
   "cell_type": "code",
   "execution_count": 124,
   "id": "8997cc1e-eb37-46a8-9cb8-d36225d32e20",
   "metadata": {},
   "outputs": [
    {
     "name": "stderr",
     "output_type": "stream",
     "text": [
      "[nltk_data] Downloading package stopwords to\n",
      "[nltk_data]     /Users/egarcia/nltk_data...\n",
      "[nltk_data]   Package stopwords is already up-to-date!\n"
     ]
    }
   ],
   "source": [
    "nltk.download('stopwords')\n",
    "swords = list(set(stopwords.words('spanish')))"
   ]
  },
  {
   "cell_type": "code",
   "execution_count": 125,
   "id": "e4c4aaee-b6b8-48aa-b8e2-129df2a4ba0b",
   "metadata": {},
   "outputs": [],
   "source": [
    "def clean_text(string):\n",
    "    \"\"\"\n",
    "    A method to clean text \n",
    "    \"\"\"\n",
    "    \n",
    "    # Removing the punctuations\n",
    "    for x in string.lower(): \n",
    "        if x in punctuation:\n",
    "            if x != '/':\n",
    "                string = string.replace(x, \"\")\n",
    "            else:\n",
    "                string = string.replace(x, \" \")\n",
    "    \n",
    "    string = unidecode.unidecode(string)\n",
    "\n",
    "#     # Converting the text to lower\n",
    "#     string = string.lower()\n",
    "\n",
    "    # Removing stop words\n",
    "    string = ' '.join([word for word in string.split() if word not in swords])\n",
    "\n",
    "    # Cleaning the whitespaces\n",
    "    string = re.sub(r'\\s+', ' ', string).strip()\n",
    "\n",
    "    return string "
   ]
  },
  {
   "cell_type": "code",
   "execution_count": 126,
   "id": "2dae861a-cbd8-4e24-a037-1f17e3b4542f",
   "metadata": {},
   "outputs": [],
   "source": [
    "def distance_levenshtein(str1, str2):\n",
    "    d=dict()\n",
    "    for i in range(len(str1)+1):\n",
    "        d[i]=dict()\n",
    "        d[i][0]=i\n",
    "    for i in range(len(str2)+1):\n",
    "        d[0][i] = i\n",
    "    for i in range(1, len(str1)+1):\n",
    "        for j in range(1, len(str2)+1):\n",
    "            d[i][j] = min(d[i][j-1]+1, d[i-1][j]+1, d[i-1][j-1]+(not str1[i-1] == str2[j-1]))\n",
    "    return d[len(str1)][len(str2)]"
   ]
  },
  {
   "cell_type": "code",
   "execution_count": 127,
   "id": "32dba3b5-8228-409e-8fa7-ca8826524e6f",
   "metadata": {},
   "outputs": [],
   "source": [
    "def normalize_lf(row):\n",
    "    leven2 = []\n",
    "    for i in row:\n",
    "        for j in row:\n",
    "            if i != j:\n",
    "                long = max(len(i),len(j))\n",
    "                ratio = distance_levenshtein(i,j)/long\n",
    "                if ratio < 0.2:\n",
    "                    leven2.append(j)\n",
    "    if leven2:\n",
    "        leven2 = set(leven2)\n",
    "        lista = []\n",
    "        for i in leven2:\n",
    "            val = frec[frec['index'] == i]['long_form'].iloc[0]\n",
    "            lista.append((i, val))\n",
    "        lista = set(lista)\n",
    "        most_freq = sorted(set(lista), key=lambda x: x[1], reverse = True)[0][0]\n",
    "        sust = {}\n",
    "        for i in set(leven2):\n",
    "            sust[i] = most_freq\n",
    "        \n",
    "        return sust\n",
    "    else:\n",
    "        pass\n",
    "    "
   ]
  },
  {
   "cell_type": "code",
   "execution_count": 128,
   "id": "23afbff8-b749-48f1-b554-08e81e29965c",
   "metadata": {
    "tags": []
   },
   "outputs": [],
   "source": [
    "def get_label(row):\n",
    "    if row['long_form_x'] == row['long_form_y']:\n",
    "        return 1\n",
    "    else:\n",
    "        return 0"
   ]
  },
  {
   "cell_type": "code",
   "execution_count": 129,
   "id": "30bce3ae-d7ad-4b85-afc8-4a8b1cf954b4",
   "metadata": {},
   "outputs": [],
   "source": [
    "def offsetA(row):\n",
    "    return row['texto'].find(row['Mention_A'])\n",
    "    \n",
    "def offsetB(row):\n",
    "    return row['texto'].find(row['Mention_B'])\n",
    "\n",
    "def offsetB_end(row):\n",
    "    return row['texto'].find(row['Mention_B']) + len(row['Mention_B'])\n",
    "\n",
    "def offsetA_end(row):\n",
    "    return row['Mention_A_StartOffset'] + len(row['Mention_A'])"
   ]
  },
  {
   "cell_type": "code",
   "execution_count": 164,
   "id": "df5b7c23-29fa-4e92-a083-074f567369d0",
   "metadata": {},
   "outputs": [],
   "source": [
    "def offset(row):\n",
    "    return row['texto'].find(row['abrev'])\n",
    "\n",
    "def offsetend(row):\n",
    "    return row['StartOffset']+len(row['abrev'])"
   ]
  },
  {
   "cell_type": "code",
   "execution_count": 134,
   "id": "7ea5d97e-dec8-45c2-8f11-8d586bdc627c",
   "metadata": {},
   "outputs": [],
   "source": [
    "def defin_dictionary(row,dictionary):\n",
    "    if row['Definition'] == 'no_existe':\n",
    "        return dictionary.get(row['Abbreviation'])\n",
    "    else:\n",
    "        return row['Definition']"
   ]
  },
  {
   "cell_type": "markdown",
   "id": "b75b60fa-7934-41f2-ba89-7afc6d8cb174",
   "metadata": {},
   "source": [
    "# Load Data"
   ]
  },
  {
   "cell_type": "markdown",
   "id": "84cc6c3c-223a-4fc1-8264-2e650642fe83",
   "metadata": {},
   "source": [
    "### Testing\n",
    "\n",
    "220 clinical cases."
   ]
  },
  {
   "cell_type": "code",
   "execution_count": 135,
   "id": "d17d18d4-5133-4038-8377-854c4153dfab",
   "metadata": {},
   "outputs": [],
   "source": [
    "testing_abbr = pd.read_csv(\"../../acronym_disambiguation_tfm/data/ibereval_data/testing_set/clinical_cases.abbreviations.testing_set.tsv\", sep = '\\t')"
   ]
  },
  {
   "cell_type": "code",
   "execution_count": 136,
   "id": "10fce584-2058-474b-8b3f-505ec93af3a6",
   "metadata": {},
   "outputs": [],
   "source": [
    "#testing_abbr = testing_abbr.rename(columns = {'# Document_ID': 'doc_id'})"
   ]
  },
  {
   "cell_type": "code",
   "execution_count": 137,
   "id": "e3bdde99-b229-48e9-934e-10b883ae8e9d",
   "metadata": {},
   "outputs": [
    {
     "data": {
      "text/html": [
       "<div>\n",
       "<style scoped>\n",
       "    .dataframe tbody tr th:only-of-type {\n",
       "        vertical-align: middle;\n",
       "    }\n",
       "\n",
       "    .dataframe tbody tr th {\n",
       "        vertical-align: top;\n",
       "    }\n",
       "\n",
       "    .dataframe thead th {\n",
       "        text-align: right;\n",
       "    }\n",
       "</style>\n",
       "<table border=\"1\" class=\"dataframe\">\n",
       "  <thead>\n",
       "    <tr style=\"text-align: right;\">\n",
       "      <th></th>\n",
       "      <th># Document_ID</th>\n",
       "      <th>StartOffset</th>\n",
       "      <th>EndOffset</th>\n",
       "      <th>Abbreviation</th>\n",
       "      <th>Definition</th>\n",
       "      <th>Definition_lemmatized</th>\n",
       "    </tr>\n",
       "  </thead>\n",
       "  <tbody>\n",
       "    <tr>\n",
       "      <th>0</th>\n",
       "      <td>S0212-71992005000500009-1</td>\n",
       "      <td>533</td>\n",
       "      <td>537</td>\n",
       "      <td>/mm3</td>\n",
       "      <td>milímetro cúbico</td>\n",
       "      <td>milímetro cúbico</td>\n",
       "    </tr>\n",
       "    <tr>\n",
       "      <th>1</th>\n",
       "      <td>S1130-14732005000200003-1</td>\n",
       "      <td>1857</td>\n",
       "      <td>1858</td>\n",
       "      <td>µ</td>\n",
       "      <td>micro</td>\n",
       "      <td>micro</td>\n",
       "    </tr>\n",
       "    <tr>\n",
       "      <th>2</th>\n",
       "      <td>S0211-69952013000200018-1</td>\n",
       "      <td>2512</td>\n",
       "      <td>2514</td>\n",
       "      <td>µg</td>\n",
       "      <td>microgramo</td>\n",
       "      <td>microgramo</td>\n",
       "    </tr>\n",
       "    <tr>\n",
       "      <th>3</th>\n",
       "      <td>S0212-16112004000400007-1</td>\n",
       "      <td>4558</td>\n",
       "      <td>4560</td>\n",
       "      <td>µg</td>\n",
       "      <td>microgramo</td>\n",
       "      <td>microgramo</td>\n",
       "    </tr>\n",
       "    <tr>\n",
       "      <th>4</th>\n",
       "      <td>S1137-66272014000300016-1</td>\n",
       "      <td>1112</td>\n",
       "      <td>1114</td>\n",
       "      <td>µg</td>\n",
       "      <td>microgramo</td>\n",
       "      <td>microgramo</td>\n",
       "    </tr>\n",
       "  </tbody>\n",
       "</table>\n",
       "</div>"
      ],
      "text/plain": [
       "               # Document_ID  StartOffset  EndOffset Abbreviation  \\\n",
       "0  S0212-71992005000500009-1          533        537         /mm3   \n",
       "1  S1130-14732005000200003-1         1857       1858            µ   \n",
       "2  S0211-69952013000200018-1         2512       2514           µg   \n",
       "3  S0212-16112004000400007-1         4558       4560           µg   \n",
       "4  S1137-66272014000300016-1         1112       1114           µg   \n",
       "\n",
       "         Definition Definition_lemmatized  \n",
       "0  milímetro cúbico      milímetro cúbico  \n",
       "1             micro                 micro  \n",
       "2        microgramo            microgramo  \n",
       "3        microgramo            microgramo  \n",
       "4        microgramo            microgramo  "
      ]
     },
     "execution_count": 137,
     "metadata": {},
     "output_type": "execute_result"
    }
   ],
   "source": [
    "testing_abbr.head()"
   ]
  },
  {
   "cell_type": "code",
   "execution_count": 138,
   "id": "07c6a750-f9b5-438d-ad9c-a26651c41ea4",
   "metadata": {},
   "outputs": [],
   "source": [
    "testing_raw = read_texts(\"../../acronym_disambiguation_tfm/data/ibereval_data/testing_set/testing_set.raw_text/\")"
   ]
  },
  {
   "cell_type": "code",
   "execution_count": 139,
   "id": "4882d8b5-e54f-46f9-9dbd-74205147c1f4",
   "metadata": {},
   "outputs": [
    {
     "data": {
      "text/html": [
       "<div>\n",
       "<style scoped>\n",
       "    .dataframe tbody tr th:only-of-type {\n",
       "        vertical-align: middle;\n",
       "    }\n",
       "\n",
       "    .dataframe tbody tr th {\n",
       "        vertical-align: top;\n",
       "    }\n",
       "\n",
       "    .dataframe thead th {\n",
       "        text-align: right;\n",
       "    }\n",
       "</style>\n",
       "<table border=\"1\" class=\"dataframe\">\n",
       "  <thead>\n",
       "    <tr style=\"text-align: right;\">\n",
       "      <th></th>\n",
       "      <th>nombre</th>\n",
       "      <th>texto</th>\n",
       "    </tr>\n",
       "  </thead>\n",
       "  <tbody>\n",
       "    <tr>\n",
       "      <th>0</th>\n",
       "      <td>S1130-01082008001000010-1</td>\n",
       "      <td>Varón de 43 años originario de Marruecos, que ingresó en nuestro servicio por cuadro de 4 días d...</td>\n",
       "    </tr>\n",
       "    <tr>\n",
       "      <th>1</th>\n",
       "      <td>S0004-06142009000400011-1</td>\n",
       "      <td>Varón de 75 años con antecedentes de EPOC moderado sin otros antecedentes médicos de interés. En...</td>\n",
       "    </tr>\n",
       "    <tr>\n",
       "      <th>2</th>\n",
       "      <td>S0376-78922011000200004-1</td>\n",
       "      <td>Mujer de 44 años de edad con antecedentes médicos de insuficiencia renal crónica en tratamiento ...</td>\n",
       "    </tr>\n",
       "    <tr>\n",
       "      <th>3</th>\n",
       "      <td>S1137-66272014000300016-1</td>\n",
       "      <td>Mujer de 36 años sin antecedentes médicos o epidemiológicos de interés que es ingresada en la Un...</td>\n",
       "    </tr>\n",
       "    <tr>\n",
       "      <th>4</th>\n",
       "      <td>S1130-01082008000800019-1</td>\n",
       "      <td>Recientemente, atendimos en nuestro hospital a un varón de 46 años, con antecedente de síndrome ...</td>\n",
       "    </tr>\n",
       "  </tbody>\n",
       "</table>\n",
       "</div>"
      ],
      "text/plain": [
       "                      nombre  \\\n",
       "0  S1130-01082008001000010-1   \n",
       "1  S0004-06142009000400011-1   \n",
       "2  S0376-78922011000200004-1   \n",
       "3  S1137-66272014000300016-1   \n",
       "4  S1130-01082008000800019-1   \n",
       "\n",
       "                                                                                                 texto  \n",
       "0  Varón de 43 años originario de Marruecos, que ingresó en nuestro servicio por cuadro de 4 días d...  \n",
       "1  Varón de 75 años con antecedentes de EPOC moderado sin otros antecedentes médicos de interés. En...  \n",
       "2  Mujer de 44 años de edad con antecedentes médicos de insuficiencia renal crónica en tratamiento ...  \n",
       "3  Mujer de 36 años sin antecedentes médicos o epidemiológicos de interés que es ingresada en la Un...  \n",
       "4  Recientemente, atendimos en nuestro hospital a un varón de 46 años, con antecedente de síndrome ...  "
      ]
     },
     "execution_count": 139,
     "metadata": {},
     "output_type": "execute_result"
    }
   ],
   "source": [
    "testing_raw.head()"
   ]
  },
  {
   "cell_type": "markdown",
   "id": "1c4f9923-4c53-4e38-b746-9f7e775bbbe2",
   "metadata": {},
   "source": [
    "### Trainning\n",
    "\n",
    "318 clinical cases"
   ]
  },
  {
   "cell_type": "code",
   "execution_count": 140,
   "id": "a34ff606-aef3-4104-ac23-8a5f95216788",
   "metadata": {},
   "outputs": [],
   "source": [
    "train_abbr = pd.read_csv(\"../../acronym_disambiguation_tfm/data/ibereval_data/trainning_set/clinical_cases.abbreviations.training_set.tsv\", sep = '\\t')"
   ]
  },
  {
   "cell_type": "code",
   "execution_count": 141,
   "id": "a8f221b9-e02a-421f-8545-71e8b5ce1452",
   "metadata": {},
   "outputs": [],
   "source": [
    "#train_abbr = train_abbr.rename(columns = {'# Document_ID': 'doc_id'})"
   ]
  },
  {
   "cell_type": "code",
   "execution_count": 142,
   "id": "d1fa19e5-bafb-4a45-9241-439cf6bda17d",
   "metadata": {},
   "outputs": [
    {
     "data": {
      "text/plain": [
       "908"
      ]
     },
     "execution_count": 142,
     "metadata": {},
     "output_type": "execute_result"
    }
   ],
   "source": [
    "train_abbr.Definition.nunique()"
   ]
  },
  {
   "cell_type": "code",
   "execution_count": 143,
   "id": "e4221aea-2a2f-41c5-acf9-63f8de89278b",
   "metadata": {},
   "outputs": [
    {
     "data": {
      "text/html": [
       "<div>\n",
       "<style scoped>\n",
       "    .dataframe tbody tr th:only-of-type {\n",
       "        vertical-align: middle;\n",
       "    }\n",
       "\n",
       "    .dataframe tbody tr th {\n",
       "        vertical-align: top;\n",
       "    }\n",
       "\n",
       "    .dataframe thead th {\n",
       "        text-align: right;\n",
       "    }\n",
       "</style>\n",
       "<table border=\"1\" class=\"dataframe\">\n",
       "  <thead>\n",
       "    <tr style=\"text-align: right;\">\n",
       "      <th></th>\n",
       "      <th># Document_ID</th>\n",
       "      <th>StartOffset</th>\n",
       "      <th>EndOffset</th>\n",
       "      <th>Abbreviation</th>\n",
       "      <th>Definition</th>\n",
       "      <th>Definition_lemmatized</th>\n",
       "    </tr>\n",
       "  </thead>\n",
       "  <tbody>\n",
       "    <tr>\n",
       "      <th>0</th>\n",
       "      <td>S0210-48062004000500008-1</td>\n",
       "      <td>1650</td>\n",
       "      <td>1652</td>\n",
       "      <td>ml</td>\n",
       "      <td>mililitro</td>\n",
       "      <td>mililitro</td>\n",
       "    </tr>\n",
       "    <tr>\n",
       "      <th>1</th>\n",
       "      <td>S0210-48062004000500008-1</td>\n",
       "      <td>708</td>\n",
       "      <td>709</td>\n",
       "      <td>l</td>\n",
       "      <td>litro</td>\n",
       "      <td>litro</td>\n",
       "    </tr>\n",
       "    <tr>\n",
       "      <th>2</th>\n",
       "      <td>S0210-48062004000500008-1</td>\n",
       "      <td>704</td>\n",
       "      <td>707</td>\n",
       "      <td>mEq</td>\n",
       "      <td>miliequivalente</td>\n",
       "      <td>miliequivalente</td>\n",
       "    </tr>\n",
       "    <tr>\n",
       "      <th>3</th>\n",
       "      <td>S0210-48062004000500008-1</td>\n",
       "      <td>677</td>\n",
       "      <td>681</td>\n",
       "      <td>pCO2</td>\n",
       "      <td>presión parcial de co2</td>\n",
       "      <td>presión parcial de co2</td>\n",
       "    </tr>\n",
       "    <tr>\n",
       "      <th>4</th>\n",
       "      <td>S0210-48062004000500008-1</td>\n",
       "      <td>2287</td>\n",
       "      <td>2290</td>\n",
       "      <td>HLA</td>\n",
       "      <td>human leucocyte antigen</td>\n",
       "      <td>human leucocyte antiger</td>\n",
       "    </tr>\n",
       "  </tbody>\n",
       "</table>\n",
       "</div>"
      ],
      "text/plain": [
       "               # Document_ID  StartOffset  EndOffset Abbreviation  \\\n",
       "0  S0210-48062004000500008-1         1650       1652           ml   \n",
       "1  S0210-48062004000500008-1          708        709            l   \n",
       "2  S0210-48062004000500008-1          704        707          mEq   \n",
       "3  S0210-48062004000500008-1          677        681         pCO2   \n",
       "4  S0210-48062004000500008-1         2287       2290          HLA   \n",
       "\n",
       "                Definition    Definition_lemmatized  \n",
       "0                mililitro                mililitro  \n",
       "1                    litro                    litro  \n",
       "2          miliequivalente          miliequivalente  \n",
       "3   presión parcial de co2   presión parcial de co2  \n",
       "4  human leucocyte antigen  human leucocyte antiger  "
      ]
     },
     "execution_count": 143,
     "metadata": {},
     "output_type": "execute_result"
    }
   ],
   "source": [
    "train_abbr.head()"
   ]
  },
  {
   "cell_type": "code",
   "execution_count": 144,
   "id": "5cd5a550-d3da-4346-976d-e343bab45ec0",
   "metadata": {},
   "outputs": [],
   "source": [
    "train_abbr = train_abbr.dropna()"
   ]
  },
  {
   "cell_type": "code",
   "execution_count": 145,
   "id": "e2aaaca9-2cf9-4953-b735-0db449de776c",
   "metadata": {},
   "outputs": [],
   "source": [
    "train_abbr.to_csv(\"../../datasets/trainning_set/clinical_cases.abbreviations.training_set.tsv\", sep = '\\t', index = False)"
   ]
  },
  {
   "cell_type": "code",
   "execution_count": 146,
   "id": "2dcab608-9adc-410f-8009-d243a9adaaf9",
   "metadata": {},
   "outputs": [],
   "source": [
    "train_raw = read_texts(\"../../acronym_disambiguation_tfm/data/ibereval_data/trainning_set/training_set.raw_text/\")"
   ]
  },
  {
   "cell_type": "code",
   "execution_count": 147,
   "id": "062bad8c-8186-44a4-83a8-b07ab2b0dad4",
   "metadata": {},
   "outputs": [],
   "source": [
    "#train_raw = train_raw.rename(columns = {'nombre': 'doc_id'})"
   ]
  },
  {
   "cell_type": "code",
   "execution_count": 148,
   "id": "3db688eb-3883-4633-9db0-139a2c38aa36",
   "metadata": {},
   "outputs": [
    {
     "data": {
      "text/html": [
       "<div>\n",
       "<style scoped>\n",
       "    .dataframe tbody tr th:only-of-type {\n",
       "        vertical-align: middle;\n",
       "    }\n",
       "\n",
       "    .dataframe tbody tr th {\n",
       "        vertical-align: top;\n",
       "    }\n",
       "\n",
       "    .dataframe thead th {\n",
       "        text-align: right;\n",
       "    }\n",
       "</style>\n",
       "<table border=\"1\" class=\"dataframe\">\n",
       "  <thead>\n",
       "    <tr style=\"text-align: right;\">\n",
       "      <th></th>\n",
       "      <th>nombre</th>\n",
       "      <th>texto</th>\n",
       "    </tr>\n",
       "  </thead>\n",
       "  <tbody>\n",
       "    <tr>\n",
       "      <th>0</th>\n",
       "      <td>S1130-01082006000100014-1</td>\n",
       "      <td>Se trata de una mujer de 35 años, con antecedentes familiares de enfermedad de Crohn y sin antec...</td>\n",
       "    </tr>\n",
       "    <tr>\n",
       "      <th>1</th>\n",
       "      <td>S1130-01082009000300015-1</td>\n",
       "      <td>Varón de 70 años, fumador, con enfisema pulmonar y vitíligo al que en mayo de 2001 se realizó un...</td>\n",
       "    </tr>\n",
       "    <tr>\n",
       "      <th>2</th>\n",
       "      <td>S0210-56912010000200009-1</td>\n",
       "      <td>Se trata de una mujer de 70 años con antecedentes de HTA y diagnosticada recientemente de neopla...</td>\n",
       "    </tr>\n",
       "    <tr>\n",
       "      <th>3</th>\n",
       "      <td>S1130-01082008000900014-1</td>\n",
       "      <td>Varón de 41 años diagnosticado de adenocarcinoma medianamente diferenciado implantado sobre esóf...</td>\n",
       "    </tr>\n",
       "    <tr>\n",
       "      <th>4</th>\n",
       "      <td>S0210-48062004000500008-1</td>\n",
       "      <td>Paciente de 29 años de edad que acude al Servicio de Urgencias de nuestro Hospital ante la prese...</td>\n",
       "    </tr>\n",
       "  </tbody>\n",
       "</table>\n",
       "</div>"
      ],
      "text/plain": [
       "                      nombre  \\\n",
       "0  S1130-01082006000100014-1   \n",
       "1  S1130-01082009000300015-1   \n",
       "2  S0210-56912010000200009-1   \n",
       "3  S1130-01082008000900014-1   \n",
       "4  S0210-48062004000500008-1   \n",
       "\n",
       "                                                                                                 texto  \n",
       "0  Se trata de una mujer de 35 años, con antecedentes familiares de enfermedad de Crohn y sin antec...  \n",
       "1  Varón de 70 años, fumador, con enfisema pulmonar y vitíligo al que en mayo de 2001 se realizó un...  \n",
       "2  Se trata de una mujer de 70 años con antecedentes de HTA y diagnosticada recientemente de neopla...  \n",
       "3  Varón de 41 años diagnosticado de adenocarcinoma medianamente diferenciado implantado sobre esóf...  \n",
       "4  Paciente de 29 años de edad que acude al Servicio de Urgencias de nuestro Hospital ante la prese...  "
      ]
     },
     "execution_count": 148,
     "metadata": {},
     "output_type": "execute_result"
    }
   ],
   "source": [
    "train_raw.head()"
   ]
  },
  {
   "cell_type": "markdown",
   "id": "bfa80ae4-3e7e-4dd0-90c7-733548e51a9a",
   "metadata": {},
   "source": [
    "## Test with AbreMES DB"
   ]
  },
  {
   "cell_type": "markdown",
   "id": "372c8c59-3dbd-4c77-bc01-50a6494ca08a",
   "metadata": {},
   "source": [
    "### 1) Get the short-form from the text"
   ]
  },
  {
   "cell_type": "code",
   "execution_count": 149,
   "id": "1b241061-0499-4d7f-b5d8-2b40d6309177",
   "metadata": {
    "tags": []
   },
   "outputs": [
    {
     "name": "stderr",
     "output_type": "stream",
     "text": [
      "[nltk_data] Downloading package stopwords to\n",
      "[nltk_data]     /Users/egarcia/nltk_data...\n",
      "[nltk_data]   Package stopwords is already up-to-date!\n"
     ]
    }
   ],
   "source": [
    "nltk.download('stopwords')\n",
    "swords = list(set(stopwords.words('spanish')))\n",
    "swords = swords + ['I','II','III','VI','VII','VIII','IX', 'X', 'x']"
   ]
  },
  {
   "cell_type": "code",
   "execution_count": 150,
   "id": "096172e7-705a-4018-9663-8837fe79540d",
   "metadata": {},
   "outputs": [],
   "source": [
    "patron1 = r'[A-Z]{2,8}' #Letras mayúsculas entre 2 y 8. Probar (\\s|\\()[A-Z]{2,8}\n",
    "patron2 = r'\\s[a-z]{1,2}\\s' #Entre 2 y 3 letras minusculas entre espacios\n",
    "patron3 = r'\\b[aA-zZ]{1,4}\\-[aA-zZ]{1,4}\\b' #mayúsuclas o minúsculas entre guiones\n",
    "patron4 = r'\\b\\w{2}\\b\\/' #medidas antes de un signo /\n",
    "patron5 = r'\\/\\b\\w{2}\\b' #medidas después de un signo /\n",
    "patron6 = r'[aA-zZ]{1,4}[A-Z]+[a-z]*[1-4]*'\n",
    "patron7 = r'\\b\\w{1,3}\\s[0-9]{1,3}\\b' #letras y numeros separadas por espacio\n",
    "patron8 = r'\\b\\w{1,3}[-]\\w{1,3}\\b' #tras y numeros separas por guión\n",
    "patron9= r'\\b[aA-zZ]{1,3}[0-9]{1,3}\\b' #letras con numeros todo junto\n",
    "#patron8 = r'\\/[a-z]*[A-Z]*'\n",
    "#patron6 = r'[1-9]\\s*[aA-zZ]{1,4}\\/\\b[aA-zZ]{1,4}\\b' #Palabras divididas por / solo cuando las palabras no exceden de 4 caracteres\n",
    "\n",
    "\n",
    "# create a list with them\n",
    "regexes = [ patron1, patron2, patron3, patron4, patron5, patron6, patron7, patron8, patron9]\n",
    "for i in regexes:\n",
    "    generic_re = re.compile(\"%s|%s|%s|%s|%s|%s|%s|%s|%s\" % (patron1, patron2, patron3, patron4, patron5, patron6, patron7, patron8, patron9))"
   ]
  },
  {
   "cell_type": "markdown",
   "id": "1acd94c3-bef7-4755-9873-300800d8cfad",
   "metadata": {},
   "source": [
    "### Training"
   ]
  },
  {
   "cell_type": "code",
   "execution_count": 151,
   "id": "a292c18b-9124-4abd-9974-bb539099b011",
   "metadata": {},
   "outputs": [],
   "source": [
    "train_raw['texto_clean'] = train_raw['texto'].str.split().map(lambda x: ' '.join([w for w in x if w not in swords]))"
   ]
  },
  {
   "cell_type": "code",
   "execution_count": 152,
   "id": "b027317f-78f3-4150-abc2-503ad29eefce",
   "metadata": {},
   "outputs": [],
   "source": [
    "train_raw['abrev'] = train_raw['texto_clean'].map(lambda x: generic_re.findall(x))"
   ]
  },
  {
   "cell_type": "code",
   "execution_count": 153,
   "id": "2db0322b-09d2-4056-b7c9-b127c80457fb",
   "metadata": {},
   "outputs": [
    {
     "data": {
      "text/html": [
       "<div>\n",
       "<style scoped>\n",
       "    .dataframe tbody tr th:only-of-type {\n",
       "        vertical-align: middle;\n",
       "    }\n",
       "\n",
       "    .dataframe tbody tr th {\n",
       "        vertical-align: top;\n",
       "    }\n",
       "\n",
       "    .dataframe thead th {\n",
       "        text-align: right;\n",
       "    }\n",
       "</style>\n",
       "<table border=\"1\" class=\"dataframe\">\n",
       "  <thead>\n",
       "    <tr style=\"text-align: right;\">\n",
       "      <th></th>\n",
       "      <th>nombre</th>\n",
       "      <th>texto</th>\n",
       "      <th>texto_clean</th>\n",
       "      <th>abrev</th>\n",
       "    </tr>\n",
       "  </thead>\n",
       "  <tbody>\n",
       "    <tr>\n",
       "      <th>0</th>\n",
       "      <td>S1130-01082006000100014-1</td>\n",
       "      <td>Se trata de una mujer de 35 años, con antecedentes familiares de enfermedad de Crohn y sin antec...</td>\n",
       "      <td>Se trata mujer 35 años, antecedentes familiares enfermedad Crohn antecedentes patológicos interé...</td>\n",
       "      <td>[FID, A 2, IMC, /60, /dl, 700 84, GOT, GPT, GT, /dl, mg/, mg/, mm3 90, A 5, LCR]</td>\n",
       "    </tr>\n",
       "    <tr>\n",
       "      <th>1</th>\n",
       "      <td>S1130-01082009000300015-1</td>\n",
       "      <td>Varón de 70 años, fumador, con enfisema pulmonar y vitíligo al que en mayo de 2001 se realizó un...</td>\n",
       "      <td>Varón 70 años, fumador, enfisema pulmonar vitíligo mayo 2001 realizó colonoscopia diarrea, dolor...</td>\n",
       "      <td>[ cm ,  cm , pg/, pg/,  mg , TC,  cm ,  cm ,  cm , pg/,  mg ,  cm ,  cm ]</td>\n",
       "    </tr>\n",
       "    <tr>\n",
       "      <th>2</th>\n",
       "      <td>S0210-56912010000200009-1</td>\n",
       "      <td>Se trata de una mujer de 70 años con antecedentes de HTA y diagnosticada recientemente de neopla...</td>\n",
       "      <td>Se trata mujer 70 años antecedentes HTA diagnosticada recientemente neoplasia recto bajo, tratad...</td>\n",
       "      <td>[HTA, UCI, VM, VMNI, oC, /dl, /μl, VM, oC, TC, BAL, PCR, CMV, BAL, PCR, VHS, /kg, /8h]</td>\n",
       "    </tr>\n",
       "    <tr>\n",
       "      <th>3</th>\n",
       "      <td>S1130-01082008000900014-1</td>\n",
       "      <td>Varón de 41 años diagnosticado de adenocarcinoma medianamente diferenciado implantado sobre esóf...</td>\n",
       "      <td>Varón 41 años diagnosticado adenocarcinoma medianamente diferenciado implantado esófago Barrett ...</td>\n",
       "      <td>[ mm , CRE,  mm ,  mm , EE, UU, mmHg, mmHg]</td>\n",
       "    </tr>\n",
       "    <tr>\n",
       "      <th>4</th>\n",
       "      <td>S0210-48062004000500008-1</td>\n",
       "      <td>Paciente de 29 años de edad que acude al Servicio de Urgencias de nuestro Hospital ante la prese...</td>\n",
       "      <td>Paciente 29 años edad acude Servicio Urgencias Hospital presencia erección levemente dolorosa di...</td>\n",
       "      <td>[ u , pCO2, mmHg, HCO, mEq, mg/,  ml ,  mg , 20-30,  ml , 414 109, HLA]</td>\n",
       "    </tr>\n",
       "  </tbody>\n",
       "</table>\n",
       "</div>"
      ],
      "text/plain": [
       "                      nombre  \\\n",
       "0  S1130-01082006000100014-1   \n",
       "1  S1130-01082009000300015-1   \n",
       "2  S0210-56912010000200009-1   \n",
       "3  S1130-01082008000900014-1   \n",
       "4  S0210-48062004000500008-1   \n",
       "\n",
       "                                                                                                 texto  \\\n",
       "0  Se trata de una mujer de 35 años, con antecedentes familiares de enfermedad de Crohn y sin antec...   \n",
       "1  Varón de 70 años, fumador, con enfisema pulmonar y vitíligo al que en mayo de 2001 se realizó un...   \n",
       "2  Se trata de una mujer de 70 años con antecedentes de HTA y diagnosticada recientemente de neopla...   \n",
       "3  Varón de 41 años diagnosticado de adenocarcinoma medianamente diferenciado implantado sobre esóf...   \n",
       "4  Paciente de 29 años de edad que acude al Servicio de Urgencias de nuestro Hospital ante la prese...   \n",
       "\n",
       "                                                                                           texto_clean  \\\n",
       "0  Se trata mujer 35 años, antecedentes familiares enfermedad Crohn antecedentes patológicos interé...   \n",
       "1  Varón 70 años, fumador, enfisema pulmonar vitíligo mayo 2001 realizó colonoscopia diarrea, dolor...   \n",
       "2  Se trata mujer 70 años antecedentes HTA diagnosticada recientemente neoplasia recto bajo, tratad...   \n",
       "3  Varón 41 años diagnosticado adenocarcinoma medianamente diferenciado implantado esófago Barrett ...   \n",
       "4  Paciente 29 años edad acude Servicio Urgencias Hospital presencia erección levemente dolorosa di...   \n",
       "\n",
       "                                                                                    abrev  \n",
       "0        [FID, A 2, IMC, /60, /dl, 700 84, GOT, GPT, GT, /dl, mg/, mg/, mm3 90, A 5, LCR]  \n",
       "1               [ cm ,  cm , pg/, pg/,  mg , TC,  cm ,  cm ,  cm , pg/,  mg ,  cm ,  cm ]  \n",
       "2  [HTA, UCI, VM, VMNI, oC, /dl, /μl, VM, oC, TC, BAL, PCR, CMV, BAL, PCR, VHS, /kg, /8h]  \n",
       "3                                             [ mm , CRE,  mm ,  mm , EE, UU, mmHg, mmHg]  \n",
       "4                 [ u , pCO2, mmHg, HCO, mEq, mg/,  ml ,  mg , 20-30,  ml , 414 109, HLA]  "
      ]
     },
     "execution_count": 153,
     "metadata": {},
     "output_type": "execute_result"
    }
   ],
   "source": [
    "train_raw.head()"
   ]
  },
  {
   "cell_type": "code",
   "execution_count": 154,
   "id": "bc5be18a-f390-4b1d-8f5b-23283ad5ba2d",
   "metadata": {},
   "outputs": [],
   "source": [
    "train_track2 = train_raw.explode('abrev')"
   ]
  },
  {
   "cell_type": "code",
   "execution_count": 155,
   "id": "b17636dd-c318-4f10-a516-cabb00c4c193",
   "metadata": {},
   "outputs": [
    {
     "name": "stderr",
     "output_type": "stream",
     "text": [
      "/var/folders/1q/pw51_8397cv2pn5m63n8dwzr0000gn/T/ipykernel_64120/1487880884.py:1: FutureWarning: The default value of regex will change from True to False in a future version.\n",
      "  train_track2['abrev'] = train_track2['abrev'].str.replace('[!\"#$%&*+,-./:;<=>?@^_`{|}~]','')\n"
     ]
    }
   ],
   "source": [
    "train_track2['abrev'] = train_track2['abrev'].str.replace('[!\"#$%&*+,-./:;<=>?@^_`{|}~]','')"
   ]
  },
  {
   "cell_type": "code",
   "execution_count": 163,
   "id": "8e5d7d82-344f-4a55-98e5-79454bf50aa4",
   "metadata": {},
   "outputs": [
    {
     "data": {
      "text/html": [
       "<div>\n",
       "<style scoped>\n",
       "    .dataframe tbody tr th:only-of-type {\n",
       "        vertical-align: middle;\n",
       "    }\n",
       "\n",
       "    .dataframe tbody tr th {\n",
       "        vertical-align: top;\n",
       "    }\n",
       "\n",
       "    .dataframe thead th {\n",
       "        text-align: right;\n",
       "    }\n",
       "</style>\n",
       "<table border=\"1\" class=\"dataframe\">\n",
       "  <thead>\n",
       "    <tr style=\"text-align: right;\">\n",
       "      <th></th>\n",
       "      <th>nombre</th>\n",
       "      <th>texto</th>\n",
       "      <th>texto_clean</th>\n",
       "      <th>abrev</th>\n",
       "      <th>StartOffset</th>\n",
       "    </tr>\n",
       "  </thead>\n",
       "  <tbody>\n",
       "    <tr>\n",
       "      <th>0</th>\n",
       "      <td>S1130-01082006000100014-1</td>\n",
       "      <td>Se trata de una mujer de 35 años, con antecedentes familiares de enfermedad de Crohn y sin antec...</td>\n",
       "      <td>Se trata mujer 35 años, antecedentes familiares enfermedad Crohn antecedentes patológicos interé...</td>\n",
       "      <td>FID</td>\n",
       "      <td>192</td>\n",
       "    </tr>\n",
       "    <tr>\n",
       "      <th>0</th>\n",
       "      <td>S1130-01082006000100014-1</td>\n",
       "      <td>Se trata de una mujer de 35 años, con antecedentes familiares de enfermedad de Crohn y sin antec...</td>\n",
       "      <td>Se trata mujer 35 años, antecedentes familiares enfermedad Crohn antecedentes patológicos interé...</td>\n",
       "      <td>A 2</td>\n",
       "      <td>-1</td>\n",
       "    </tr>\n",
       "    <tr>\n",
       "      <th>0</th>\n",
       "      <td>S1130-01082006000100014-1</td>\n",
       "      <td>Se trata de una mujer de 35 años, con antecedentes familiares de enfermedad de Crohn y sin antec...</td>\n",
       "      <td>Se trata mujer 35 años, antecedentes familiares enfermedad Crohn antecedentes patológicos interé...</td>\n",
       "      <td>IMC</td>\n",
       "      <td>1144</td>\n",
       "    </tr>\n",
       "    <tr>\n",
       "      <th>0</th>\n",
       "      <td>S1130-01082006000100014-1</td>\n",
       "      <td>Se trata de una mujer de 35 años, con antecedentes familiares de enfermedad de Crohn y sin antec...</td>\n",
       "      <td>Se trata mujer 35 años, antecedentes familiares enfermedad Crohn antecedentes patológicos interé...</td>\n",
       "      <td>60</td>\n",
       "      <td>1193</td>\n",
       "    </tr>\n",
       "    <tr>\n",
       "      <th>0</th>\n",
       "      <td>S1130-01082006000100014-1</td>\n",
       "      <td>Se trata de una mujer de 35 años, con antecedentes familiares de enfermedad de Crohn y sin antec...</td>\n",
       "      <td>Se trata mujer 35 años, antecedentes familiares enfermedad Crohn antecedentes patológicos interé...</td>\n",
       "      <td>dl</td>\n",
       "      <td>1414</td>\n",
       "    </tr>\n",
       "  </tbody>\n",
       "</table>\n",
       "</div>"
      ],
      "text/plain": [
       "                      nombre  \\\n",
       "0  S1130-01082006000100014-1   \n",
       "0  S1130-01082006000100014-1   \n",
       "0  S1130-01082006000100014-1   \n",
       "0  S1130-01082006000100014-1   \n",
       "0  S1130-01082006000100014-1   \n",
       "\n",
       "                                                                                                 texto  \\\n",
       "0  Se trata de una mujer de 35 años, con antecedentes familiares de enfermedad de Crohn y sin antec...   \n",
       "0  Se trata de una mujer de 35 años, con antecedentes familiares de enfermedad de Crohn y sin antec...   \n",
       "0  Se trata de una mujer de 35 años, con antecedentes familiares de enfermedad de Crohn y sin antec...   \n",
       "0  Se trata de una mujer de 35 años, con antecedentes familiares de enfermedad de Crohn y sin antec...   \n",
       "0  Se trata de una mujer de 35 años, con antecedentes familiares de enfermedad de Crohn y sin antec...   \n",
       "\n",
       "                                                                                           texto_clean  \\\n",
       "0  Se trata mujer 35 años, antecedentes familiares enfermedad Crohn antecedentes patológicos interé...   \n",
       "0  Se trata mujer 35 años, antecedentes familiares enfermedad Crohn antecedentes patológicos interé...   \n",
       "0  Se trata mujer 35 años, antecedentes familiares enfermedad Crohn antecedentes patológicos interé...   \n",
       "0  Se trata mujer 35 años, antecedentes familiares enfermedad Crohn antecedentes patológicos interé...   \n",
       "0  Se trata mujer 35 años, antecedentes familiares enfermedad Crohn antecedentes patológicos interé...   \n",
       "\n",
       "  abrev  StartOffset  \n",
       "0   FID          192  \n",
       "0   A 2           -1  \n",
       "0   IMC         1144  \n",
       "0    60         1193  \n",
       "0    dl         1414  "
      ]
     },
     "execution_count": 163,
     "metadata": {},
     "output_type": "execute_result"
    }
   ],
   "source": [
    "train_track2.head()"
   ]
  },
  {
   "cell_type": "code",
   "execution_count": 157,
   "id": "c09a0496-02de-43c4-b57f-67fff2bad214",
   "metadata": {},
   "outputs": [],
   "source": [
    "train_track2 = train_track2[~train_track2.abrev.isnull()]"
   ]
  },
  {
   "cell_type": "code",
   "execution_count": 165,
   "id": "915e5488-3a78-4672-a5c3-43d2318638f0",
   "metadata": {},
   "outputs": [],
   "source": [
    "train_track2['StartOffset'] = train_track2.apply(offset, axis = 1)\n",
    "train_track2['EndOffset'] = train_track2.apply(offsetend, axis = 1)"
   ]
  },
  {
   "cell_type": "code",
   "execution_count": 167,
   "id": "cf209660-3cda-4e47-965f-4fbe1fa9f4da",
   "metadata": {},
   "outputs": [],
   "source": [
    "train_track2 = train_track2[['nombre','StartOffset', 'EndOffset' ,'abrev','texto']]"
   ]
  },
  {
   "cell_type": "code",
   "execution_count": 168,
   "id": "d2b61b44-c378-4546-8562-638cd71e2ba6",
   "metadata": {},
   "outputs": [
    {
     "data": {
      "text/html": [
       "<div>\n",
       "<style scoped>\n",
       "    .dataframe tbody tr th:only-of-type {\n",
       "        vertical-align: middle;\n",
       "    }\n",
       "\n",
       "    .dataframe tbody tr th {\n",
       "        vertical-align: top;\n",
       "    }\n",
       "\n",
       "    .dataframe thead th {\n",
       "        text-align: right;\n",
       "    }\n",
       "</style>\n",
       "<table border=\"1\" class=\"dataframe\">\n",
       "  <thead>\n",
       "    <tr style=\"text-align: right;\">\n",
       "      <th></th>\n",
       "      <th>nombre</th>\n",
       "      <th>StartOffset</th>\n",
       "      <th>EndOffset</th>\n",
       "      <th>abrev</th>\n",
       "      <th>texto</th>\n",
       "    </tr>\n",
       "  </thead>\n",
       "  <tbody>\n",
       "    <tr>\n",
       "      <th>0</th>\n",
       "      <td>S1130-01082006000100014-1</td>\n",
       "      <td>192</td>\n",
       "      <td>195</td>\n",
       "      <td>FID</td>\n",
       "      <td>Se trata de una mujer de 35 años, con antecedentes familiares de enfermedad de Crohn y sin antec...</td>\n",
       "    </tr>\n",
       "    <tr>\n",
       "      <th>0</th>\n",
       "      <td>S1130-01082006000100014-1</td>\n",
       "      <td>-1</td>\n",
       "      <td>2</td>\n",
       "      <td>A 2</td>\n",
       "      <td>Se trata de una mujer de 35 años, con antecedentes familiares de enfermedad de Crohn y sin antec...</td>\n",
       "    </tr>\n",
       "    <tr>\n",
       "      <th>0</th>\n",
       "      <td>S1130-01082006000100014-1</td>\n",
       "      <td>1144</td>\n",
       "      <td>1147</td>\n",
       "      <td>IMC</td>\n",
       "      <td>Se trata de una mujer de 35 años, con antecedentes familiares de enfermedad de Crohn y sin antec...</td>\n",
       "    </tr>\n",
       "    <tr>\n",
       "      <th>0</th>\n",
       "      <td>S1130-01082006000100014-1</td>\n",
       "      <td>1193</td>\n",
       "      <td>1195</td>\n",
       "      <td>60</td>\n",
       "      <td>Se trata de una mujer de 35 años, con antecedentes familiares de enfermedad de Crohn y sin antec...</td>\n",
       "    </tr>\n",
       "    <tr>\n",
       "      <th>0</th>\n",
       "      <td>S1130-01082006000100014-1</td>\n",
       "      <td>1414</td>\n",
       "      <td>1416</td>\n",
       "      <td>dl</td>\n",
       "      <td>Se trata de una mujer de 35 años, con antecedentes familiares de enfermedad de Crohn y sin antec...</td>\n",
       "    </tr>\n",
       "  </tbody>\n",
       "</table>\n",
       "</div>"
      ],
      "text/plain": [
       "                      nombre  StartOffset  EndOffset abrev  \\\n",
       "0  S1130-01082006000100014-1          192        195   FID   \n",
       "0  S1130-01082006000100014-1           -1          2   A 2   \n",
       "0  S1130-01082006000100014-1         1144       1147   IMC   \n",
       "0  S1130-01082006000100014-1         1193       1195    60   \n",
       "0  S1130-01082006000100014-1         1414       1416    dl   \n",
       "\n",
       "                                                                                                 texto  \n",
       "0  Se trata de una mujer de 35 años, con antecedentes familiares de enfermedad de Crohn y sin antec...  \n",
       "0  Se trata de una mujer de 35 años, con antecedentes familiares de enfermedad de Crohn y sin antec...  \n",
       "0  Se trata de una mujer de 35 años, con antecedentes familiares de enfermedad de Crohn y sin antec...  \n",
       "0  Se trata de una mujer de 35 años, con antecedentes familiares de enfermedad de Crohn y sin antec...  \n",
       "0  Se trata de una mujer de 35 años, con antecedentes familiares de enfermedad de Crohn y sin antec...  "
      ]
     },
     "execution_count": 168,
     "metadata": {},
     "output_type": "execute_result"
    }
   ],
   "source": [
    "train_track2.head()"
   ]
  },
  {
   "cell_type": "markdown",
   "id": "3994c7c4-7946-4f25-a6b7-e42ac6dc1585",
   "metadata": {},
   "source": [
    "### 2) Give a long-form from AbreMES data base"
   ]
  },
  {
   "cell_type": "code",
   "execution_count": 169,
   "id": "ef38296e-1d57-4c24-a349-6f68cea30807",
   "metadata": {},
   "outputs": [],
   "source": [
    "abremes = pd.read_csv(\"../../publicacion/AbreMES-DB/DB/pairs.tsv\", sep = '\\t')"
   ]
  },
  {
   "cell_type": "code",
   "execution_count": 170,
   "id": "94c364e8-f3fd-4de4-9dfd-5e86ea97f32f",
   "metadata": {},
   "outputs": [
    {
     "data": {
      "text/html": [
       "<div>\n",
       "<style scoped>\n",
       "    .dataframe tbody tr th:only-of-type {\n",
       "        vertical-align: middle;\n",
       "    }\n",
       "\n",
       "    .dataframe tbody tr th {\n",
       "        vertical-align: top;\n",
       "    }\n",
       "\n",
       "    .dataframe thead th {\n",
       "        text-align: right;\n",
       "    }\n",
       "</style>\n",
       "<table border=\"1\" class=\"dataframe\">\n",
       "  <thead>\n",
       "    <tr style=\"text-align: right;\">\n",
       "      <th></th>\n",
       "      <th># Pair ID</th>\n",
       "      <th>Abbreviation ID</th>\n",
       "      <th>Definition ID</th>\n",
       "      <th>Frequency</th>\n",
       "      <th>Abbreviation</th>\n",
       "      <th>Definition</th>\n",
       "      <th>Appears on</th>\n",
       "    </tr>\n",
       "  </thead>\n",
       "  <tbody>\n",
       "    <tr>\n",
       "      <th>0</th>\n",
       "      <td>1</td>\n",
       "      <td>3348</td>\n",
       "      <td>17876</td>\n",
       "      <td>31</td>\n",
       "      <td>DDD</td>\n",
       "      <td>diaria definida</td>\n",
       "      <td>http://www.scielo.edu.uy/scielo.php?script=sci_arttext&amp;pid=S1688-03902003000300004,http://scielo...</td>\n",
       "    </tr>\n",
       "    <tr>\n",
       "      <th>1</th>\n",
       "      <td>2</td>\n",
       "      <td>11880</td>\n",
       "      <td>23106</td>\n",
       "      <td>11</td>\n",
       "      <td>HP-CHPR</td>\n",
       "      <td>Hospital Pediátrico del Centro Hospitalario Pereira Rossell</td>\n",
       "      <td>http://www.scielo.edu.uy/scielo.php?script=sci_arttext&amp;pid=S1688-03902003000300004,http://www.sc...</td>\n",
       "    </tr>\n",
       "    <tr>\n",
       "      <th>2</th>\n",
       "      <td>3</td>\n",
       "      <td>1454</td>\n",
       "      <td>23213</td>\n",
       "      <td>1</td>\n",
       "      <td>EVN</td>\n",
       "      <td>de vida al nacer</td>\n",
       "      <td>http://www.scielo.edu.uy/scielo.php?script=sci_arttext&amp;pid=S1688-03902003000300005</td>\n",
       "    </tr>\n",
       "    <tr>\n",
       "      <th>3</th>\n",
       "      <td>4</td>\n",
       "      <td>1112</td>\n",
       "      <td>23214</td>\n",
       "      <td>1</td>\n",
       "      <td>TDS</td>\n",
       "      <td>Total dermatoscopic score</td>\n",
       "      <td>http://www.scielo.edu.uy/scielo.php?script=sci_arttext&amp;pid=S1688-03902003000300006</td>\n",
       "    </tr>\n",
       "    <tr>\n",
       "      <th>4</th>\n",
       "      <td>5</td>\n",
       "      <td>231</td>\n",
       "      <td>23215</td>\n",
       "      <td>1</td>\n",
       "      <td>AP</td>\n",
       "      <td>cases by pathologic anatomy</td>\n",
       "      <td>http://www.scielo.edu.uy/scielo.php?script=sci_arttext&amp;pid=S1688-03902003000300006</td>\n",
       "    </tr>\n",
       "  </tbody>\n",
       "</table>\n",
       "</div>"
      ],
      "text/plain": [
       "   # Pair ID  Abbreviation ID  Definition ID  Frequency Abbreviation  \\\n",
       "0          1             3348          17876         31          DDD   \n",
       "1          2            11880          23106         11      HP-CHPR   \n",
       "2          3             1454          23213          1          EVN   \n",
       "3          4             1112          23214          1          TDS   \n",
       "4          5              231          23215          1           AP   \n",
       "\n",
       "                                                    Definition  \\\n",
       "0                                              diaria definida   \n",
       "1  Hospital Pediátrico del Centro Hospitalario Pereira Rossell   \n",
       "2                                             de vida al nacer   \n",
       "3                                    Total dermatoscopic score   \n",
       "4                                  cases by pathologic anatomy   \n",
       "\n",
       "                                                                                            Appears on  \n",
       "0  http://www.scielo.edu.uy/scielo.php?script=sci_arttext&pid=S1688-03902003000300004,http://scielo...  \n",
       "1  http://www.scielo.edu.uy/scielo.php?script=sci_arttext&pid=S1688-03902003000300004,http://www.sc...  \n",
       "2                   http://www.scielo.edu.uy/scielo.php?script=sci_arttext&pid=S1688-03902003000300005  \n",
       "3                   http://www.scielo.edu.uy/scielo.php?script=sci_arttext&pid=S1688-03902003000300006  \n",
       "4                   http://www.scielo.edu.uy/scielo.php?script=sci_arttext&pid=S1688-03902003000300006  "
      ]
     },
     "execution_count": 170,
     "metadata": {},
     "output_type": "execute_result"
    }
   ],
   "source": [
    "abremes.head()"
   ]
  },
  {
   "cell_type": "code",
   "execution_count": 171,
   "id": "fc738f95-cabe-4435-a8e8-a97e642d1f0c",
   "metadata": {},
   "outputs": [
    {
     "name": "stderr",
     "output_type": "stream",
     "text": [
      "/var/folders/1q/pw51_8397cv2pn5m63n8dwzr0000gn/T/ipykernel_64120/1011565268.py:1: FutureWarning: The default value of regex will change from True to False in a future version.\n",
      "  abremes['Abbreviation'] = abremes['Abbreviation'].str.replace('[!\"#$%&*+,-./:;<=>?@^_`{|}~]','')\n"
     ]
    }
   ],
   "source": [
    "abremes['Abbreviation'] = abremes['Abbreviation'].str.replace('[!\"#$%&*+,-./:;<=>?@^_`{|}~]','')"
   ]
  },
  {
   "cell_type": "markdown",
   "id": "5dff88f1-ef8c-40f7-b997-c3fa87c80731",
   "metadata": {},
   "source": [
    "#### Train"
   ]
  },
  {
   "cell_type": "code",
   "execution_count": 172,
   "id": "47d82479-a4dd-4a03-a730-39c812c55fc1",
   "metadata": {},
   "outputs": [],
   "source": [
    "train_track2 = train_track2.rename(columns = {'abrev':'Abbreviation'})"
   ]
  },
  {
   "cell_type": "code",
   "execution_count": 173,
   "id": "8d1717a2-92a5-4566-bc57-7021687d7e2f",
   "metadata": {},
   "outputs": [],
   "source": [
    "train_track2['Abbreviation'] = train_track2['Abbreviation'].str.strip()"
   ]
  },
  {
   "cell_type": "code",
   "execution_count": 174,
   "id": "fce125cc-8b72-4bb6-96a6-b116f57d618b",
   "metadata": {},
   "outputs": [
    {
     "name": "stdout",
     "output_type": "stream",
     "text": [
      "(3834, 5)\n",
      "1076\n",
      "(52551, 7)\n",
      "20236\n"
     ]
    }
   ],
   "source": [
    "print(train_track2.shape)\n",
    "print(train_track2.Abbreviation.nunique())\n",
    "print(abremes.shape)\n",
    "print(abremes.Abbreviation.nunique())"
   ]
  },
  {
   "cell_type": "markdown",
   "id": "c9bd0079-d364-4ce9-aec5-e182287506dc",
   "metadata": {},
   "source": [
    "Add dictionary with measure units"
   ]
  },
  {
   "cell_type": "code",
   "execution_count": 175,
   "id": "a7ba4b9e-a530-4a9f-bfb4-ee9abb1b363e",
   "metadata": {},
   "outputs": [],
   "source": [
    "with open(\"dictionary_measureunits.txt\", \"r\") as data:\n",
    "    dictionary = ast.literal_eval(data.read())"
   ]
  },
  {
   "cell_type": "markdown",
   "id": "ff61d44d-86e0-4f42-a3e2-28685b24cabd",
   "metadata": {},
   "source": [
    "Assign definitions from AbreMES DB"
   ]
  },
  {
   "cell_type": "code",
   "execution_count": 176,
   "id": "30c2a08c-df14-4491-801e-6b965a025444",
   "metadata": {},
   "outputs": [],
   "source": [
    "train_def = train_track2.merge(abremes[['Abbreviation', 'Definition']], how = 'left', on = 'Abbreviation', indicator = True)"
   ]
  },
  {
   "cell_type": "code",
   "execution_count": 177,
   "id": "c893352f-a16d-4138-b420-c1fb6300ef42",
   "metadata": {},
   "outputs": [
    {
     "data": {
      "text/html": [
       "<div>\n",
       "<style scoped>\n",
       "    .dataframe tbody tr th:only-of-type {\n",
       "        vertical-align: middle;\n",
       "    }\n",
       "\n",
       "    .dataframe tbody tr th {\n",
       "        vertical-align: top;\n",
       "    }\n",
       "\n",
       "    .dataframe thead th {\n",
       "        text-align: right;\n",
       "    }\n",
       "</style>\n",
       "<table border=\"1\" class=\"dataframe\">\n",
       "  <thead>\n",
       "    <tr style=\"text-align: right;\">\n",
       "      <th></th>\n",
       "      <th>nombre</th>\n",
       "      <th>StartOffset</th>\n",
       "      <th>EndOffset</th>\n",
       "      <th>Abbreviation</th>\n",
       "      <th>texto</th>\n",
       "      <th>Definition</th>\n",
       "      <th>_merge</th>\n",
       "    </tr>\n",
       "  </thead>\n",
       "  <tbody>\n",
       "    <tr>\n",
       "      <th>0</th>\n",
       "      <td>S1130-01082006000100014-1</td>\n",
       "      <td>192</td>\n",
       "      <td>195</td>\n",
       "      <td>FID</td>\n",
       "      <td>Se trata de una mujer de 35 años, con antecedentes familiares de enfermedad de Crohn y sin antec...</td>\n",
       "      <td>Federación Internacional de Diabetes</td>\n",
       "      <td>both</td>\n",
       "    </tr>\n",
       "    <tr>\n",
       "      <th>1</th>\n",
       "      <td>S1130-01082006000100014-1</td>\n",
       "      <td>192</td>\n",
       "      <td>195</td>\n",
       "      <td>FID</td>\n",
       "      <td>Se trata de una mujer de 35 años, con antecedentes familiares de enfermedad de Crohn y sin antec...</td>\n",
       "      <td>Fósforo Inorgánico Disuelto</td>\n",
       "      <td>both</td>\n",
       "    </tr>\n",
       "  </tbody>\n",
       "</table>\n",
       "</div>"
      ],
      "text/plain": [
       "                      nombre  StartOffset  EndOffset Abbreviation  \\\n",
       "0  S1130-01082006000100014-1          192        195          FID   \n",
       "1  S1130-01082006000100014-1          192        195          FID   \n",
       "\n",
       "                                                                                                 texto  \\\n",
       "0  Se trata de una mujer de 35 años, con antecedentes familiares de enfermedad de Crohn y sin antec...   \n",
       "1  Se trata de una mujer de 35 años, con antecedentes familiares de enfermedad de Crohn y sin antec...   \n",
       "\n",
       "                             Definition _merge  \n",
       "0  Federación Internacional de Diabetes   both  \n",
       "1           Fósforo Inorgánico Disuelto   both  "
      ]
     },
     "execution_count": 177,
     "metadata": {},
     "output_type": "execute_result"
    }
   ],
   "source": [
    "train_def.head(2)"
   ]
  },
  {
   "cell_type": "code",
   "execution_count": 178,
   "id": "95232c5b-07f1-4d73-a340-f504c9d47209",
   "metadata": {},
   "outputs": [],
   "source": [
    "train_def['Definition'] = train_def['Definition'].fillna('no_existe')"
   ]
  },
  {
   "cell_type": "code",
   "execution_count": 179,
   "id": "b1f31bd9-054b-49a4-955f-b081d8dc7654",
   "metadata": {},
   "outputs": [],
   "source": [
    "train_def['Definition'] = train_def.apply(lambda x: defin_dictionary(x, dictionary), axis = 1)"
   ]
  },
  {
   "cell_type": "code",
   "execution_count": 180,
   "id": "4e0b5cf9-29b9-4617-9abf-4d1a729bbc51",
   "metadata": {},
   "outputs": [],
   "source": [
    "sf_notfind= train_def[train_def['Definition'].isna()]['Abbreviation'].unique().tolist()"
   ]
  },
  {
   "cell_type": "code",
   "execution_count": 181,
   "id": "9351168a-c372-4820-a574-8b695661fadb",
   "metadata": {
    "tags": []
   },
   "outputs": [
    {
     "data": {
      "text/plain": [
       "597"
      ]
     },
     "execution_count": 181,
     "metadata": {},
     "output_type": "execute_result"
    }
   ],
   "source": [
    "len(sf_notfind)"
   ]
  },
  {
   "cell_type": "code",
   "execution_count": 182,
   "id": "21650ba8-f718-4638-a2c0-ceccea68acf1",
   "metadata": {},
   "outputs": [],
   "source": [
    "train_def= train_def.dropna(subset = ['Definition'])"
   ]
  },
  {
   "cell_type": "code",
   "execution_count": 183,
   "id": "cb72f501-d8f1-4160-a881-6e3f18e3fb49",
   "metadata": {},
   "outputs": [
    {
     "name": "stdout",
     "output_type": "stream",
     "text": [
      "479\n"
     ]
    }
   ],
   "source": [
    "#En test real hay 600 y pico\n",
    "print(train_def.Abbreviation.nunique())"
   ]
  },
  {
   "cell_type": "code",
   "execution_count": 184,
   "id": "ca6f9fc9-6527-42f8-8259-7896cf3e5a2f",
   "metadata": {},
   "outputs": [
    {
     "data": {
      "text/html": [
       "<div>\n",
       "<style scoped>\n",
       "    .dataframe tbody tr th:only-of-type {\n",
       "        vertical-align: middle;\n",
       "    }\n",
       "\n",
       "    .dataframe tbody tr th {\n",
       "        vertical-align: top;\n",
       "    }\n",
       "\n",
       "    .dataframe thead th {\n",
       "        text-align: right;\n",
       "    }\n",
       "</style>\n",
       "<table border=\"1\" class=\"dataframe\">\n",
       "  <thead>\n",
       "    <tr style=\"text-align: right;\">\n",
       "      <th></th>\n",
       "      <th>nombre</th>\n",
       "      <th>StartOffset</th>\n",
       "      <th>EndOffset</th>\n",
       "      <th>Abbreviation</th>\n",
       "      <th>texto</th>\n",
       "      <th>Definition</th>\n",
       "      <th>_merge</th>\n",
       "    </tr>\n",
       "  </thead>\n",
       "  <tbody>\n",
       "    <tr>\n",
       "      <th>0</th>\n",
       "      <td>S1130-01082006000100014-1</td>\n",
       "      <td>192</td>\n",
       "      <td>195</td>\n",
       "      <td>FID</td>\n",
       "      <td>Se trata de una mujer de 35 años, con antecedentes familiares de enfermedad de Crohn y sin antec...</td>\n",
       "      <td>Federación Internacional de Diabetes</td>\n",
       "      <td>both</td>\n",
       "    </tr>\n",
       "    <tr>\n",
       "      <th>1</th>\n",
       "      <td>S1130-01082006000100014-1</td>\n",
       "      <td>192</td>\n",
       "      <td>195</td>\n",
       "      <td>FID</td>\n",
       "      <td>Se trata de una mujer de 35 años, con antecedentes familiares de enfermedad de Crohn y sin antec...</td>\n",
       "      <td>Fósforo Inorgánico Disuelto</td>\n",
       "      <td>both</td>\n",
       "    </tr>\n",
       "    <tr>\n",
       "      <th>2</th>\n",
       "      <td>S1130-01082006000100014-1</td>\n",
       "      <td>192</td>\n",
       "      <td>195</td>\n",
       "      <td>FID</td>\n",
       "      <td>Se trata de una mujer de 35 años, con antecedentes familiares de enfermedad de Crohn y sin antec...</td>\n",
       "      <td>formación inicial docente</td>\n",
       "      <td>both</td>\n",
       "    </tr>\n",
       "    <tr>\n",
       "      <th>3</th>\n",
       "      <td>S1130-01082006000100014-1</td>\n",
       "      <td>192</td>\n",
       "      <td>195</td>\n",
       "      <td>FID</td>\n",
       "      <td>Se trata de una mujer de 35 años, con antecedentes familiares de enfermedad de Crohn y sin antec...</td>\n",
       "      <td>factor de independencia a la distracción</td>\n",
       "      <td>both</td>\n",
       "    </tr>\n",
       "    <tr>\n",
       "      <th>4</th>\n",
       "      <td>S1130-01082006000100014-1</td>\n",
       "      <td>192</td>\n",
       "      <td>195</td>\n",
       "      <td>FID</td>\n",
       "      <td>Se trata de una mujer de 35 años, con antecedentes familiares de enfermedad de Crohn y sin antec...</td>\n",
       "      <td>fosa iliaca derecha</td>\n",
       "      <td>both</td>\n",
       "    </tr>\n",
       "  </tbody>\n",
       "</table>\n",
       "</div>"
      ],
      "text/plain": [
       "                      nombre  StartOffset  EndOffset Abbreviation  \\\n",
       "0  S1130-01082006000100014-1          192        195          FID   \n",
       "1  S1130-01082006000100014-1          192        195          FID   \n",
       "2  S1130-01082006000100014-1          192        195          FID   \n",
       "3  S1130-01082006000100014-1          192        195          FID   \n",
       "4  S1130-01082006000100014-1          192        195          FID   \n",
       "\n",
       "                                                                                                 texto  \\\n",
       "0  Se trata de una mujer de 35 años, con antecedentes familiares de enfermedad de Crohn y sin antec...   \n",
       "1  Se trata de una mujer de 35 años, con antecedentes familiares de enfermedad de Crohn y sin antec...   \n",
       "2  Se trata de una mujer de 35 años, con antecedentes familiares de enfermedad de Crohn y sin antec...   \n",
       "3  Se trata de una mujer de 35 años, con antecedentes familiares de enfermedad de Crohn y sin antec...   \n",
       "4  Se trata de una mujer de 35 años, con antecedentes familiares de enfermedad de Crohn y sin antec...   \n",
       "\n",
       "                                 Definition _merge  \n",
       "0      Federación Internacional de Diabetes   both  \n",
       "1               Fósforo Inorgánico Disuelto   both  \n",
       "2                 formación inicial docente   both  \n",
       "3  factor de independencia a la distracción   both  \n",
       "4                       fosa iliaca derecha   both  "
      ]
     },
     "execution_count": 184,
     "metadata": {},
     "output_type": "execute_result"
    }
   ],
   "source": [
    "train_def.head()"
   ]
  },
  {
   "cell_type": "code",
   "execution_count": 185,
   "id": "fa15c713-37d3-47cf-86b6-ecfee963b16a",
   "metadata": {},
   "outputs": [
    {
     "name": "stdout",
     "output_type": "stream",
     "text": [
      "(46869, 7)\n",
      "479\n"
     ]
    }
   ],
   "source": [
    "print(train_def.shape)\n",
    "print(train_def.Abbreviation.nunique())"
   ]
  },
  {
   "cell_type": "markdown",
   "id": "4d22ae7f-d416-4b84-ad87-1e6db5d12804",
   "metadata": {},
   "source": [
    "Get lemmatized long forms"
   ]
  },
  {
   "cell_type": "code",
   "execution_count": 186,
   "id": "008ecd33-eae5-4b50-918c-aa29a28c6757",
   "metadata": {},
   "outputs": [],
   "source": [
    "lemmatizer = WordNetLemmatizer()"
   ]
  },
  {
   "cell_type": "code",
   "execution_count": 187,
   "id": "ae6f1a7e-68ec-4fdf-bf73-fb5d348a3008",
   "metadata": {},
   "outputs": [],
   "source": [
    "train_def['Definition_lemmatized'] = train_def['Definition'].map(lambda x: lemmatizer.lemmatize(x))"
   ]
  },
  {
   "cell_type": "code",
   "execution_count": 188,
   "id": "6d828e0c-312e-4257-9409-4434d0c6898e",
   "metadata": {},
   "outputs": [
    {
     "data": {
      "text/html": [
       "<div>\n",
       "<style scoped>\n",
       "    .dataframe tbody tr th:only-of-type {\n",
       "        vertical-align: middle;\n",
       "    }\n",
       "\n",
       "    .dataframe tbody tr th {\n",
       "        vertical-align: top;\n",
       "    }\n",
       "\n",
       "    .dataframe thead th {\n",
       "        text-align: right;\n",
       "    }\n",
       "</style>\n",
       "<table border=\"1\" class=\"dataframe\">\n",
       "  <thead>\n",
       "    <tr style=\"text-align: right;\">\n",
       "      <th></th>\n",
       "      <th>nombre</th>\n",
       "      <th>StartOffset</th>\n",
       "      <th>EndOffset</th>\n",
       "      <th>Abbreviation</th>\n",
       "      <th>texto</th>\n",
       "      <th>Definition</th>\n",
       "      <th>_merge</th>\n",
       "      <th>Definition_lemmatized</th>\n",
       "    </tr>\n",
       "  </thead>\n",
       "  <tbody>\n",
       "    <tr>\n",
       "      <th>0</th>\n",
       "      <td>S1130-01082006000100014-1</td>\n",
       "      <td>192</td>\n",
       "      <td>195</td>\n",
       "      <td>FID</td>\n",
       "      <td>Se trata de una mujer de 35 años, con antecedentes familiares de enfermedad de Crohn y sin antec...</td>\n",
       "      <td>Federación Internacional de Diabetes</td>\n",
       "      <td>both</td>\n",
       "      <td>Federación Internacional de Diabetes</td>\n",
       "    </tr>\n",
       "    <tr>\n",
       "      <th>1</th>\n",
       "      <td>S1130-01082006000100014-1</td>\n",
       "      <td>192</td>\n",
       "      <td>195</td>\n",
       "      <td>FID</td>\n",
       "      <td>Se trata de una mujer de 35 años, con antecedentes familiares de enfermedad de Crohn y sin antec...</td>\n",
       "      <td>Fósforo Inorgánico Disuelto</td>\n",
       "      <td>both</td>\n",
       "      <td>Fósforo Inorgánico Disuelto</td>\n",
       "    </tr>\n",
       "    <tr>\n",
       "      <th>2</th>\n",
       "      <td>S1130-01082006000100014-1</td>\n",
       "      <td>192</td>\n",
       "      <td>195</td>\n",
       "      <td>FID</td>\n",
       "      <td>Se trata de una mujer de 35 años, con antecedentes familiares de enfermedad de Crohn y sin antec...</td>\n",
       "      <td>formación inicial docente</td>\n",
       "      <td>both</td>\n",
       "      <td>formación inicial docente</td>\n",
       "    </tr>\n",
       "    <tr>\n",
       "      <th>3</th>\n",
       "      <td>S1130-01082006000100014-1</td>\n",
       "      <td>192</td>\n",
       "      <td>195</td>\n",
       "      <td>FID</td>\n",
       "      <td>Se trata de una mujer de 35 años, con antecedentes familiares de enfermedad de Crohn y sin antec...</td>\n",
       "      <td>factor de independencia a la distracción</td>\n",
       "      <td>both</td>\n",
       "      <td>factor de independencia a la distracción</td>\n",
       "    </tr>\n",
       "    <tr>\n",
       "      <th>4</th>\n",
       "      <td>S1130-01082006000100014-1</td>\n",
       "      <td>192</td>\n",
       "      <td>195</td>\n",
       "      <td>FID</td>\n",
       "      <td>Se trata de una mujer de 35 años, con antecedentes familiares de enfermedad de Crohn y sin antec...</td>\n",
       "      <td>fosa iliaca derecha</td>\n",
       "      <td>both</td>\n",
       "      <td>fosa iliaca derecha</td>\n",
       "    </tr>\n",
       "  </tbody>\n",
       "</table>\n",
       "</div>"
      ],
      "text/plain": [
       "                      nombre  StartOffset  EndOffset Abbreviation  \\\n",
       "0  S1130-01082006000100014-1          192        195          FID   \n",
       "1  S1130-01082006000100014-1          192        195          FID   \n",
       "2  S1130-01082006000100014-1          192        195          FID   \n",
       "3  S1130-01082006000100014-1          192        195          FID   \n",
       "4  S1130-01082006000100014-1          192        195          FID   \n",
       "\n",
       "                                                                                                 texto  \\\n",
       "0  Se trata de una mujer de 35 años, con antecedentes familiares de enfermedad de Crohn y sin antec...   \n",
       "1  Se trata de una mujer de 35 años, con antecedentes familiares de enfermedad de Crohn y sin antec...   \n",
       "2  Se trata de una mujer de 35 años, con antecedentes familiares de enfermedad de Crohn y sin antec...   \n",
       "3  Se trata de una mujer de 35 años, con antecedentes familiares de enfermedad de Crohn y sin antec...   \n",
       "4  Se trata de una mujer de 35 años, con antecedentes familiares de enfermedad de Crohn y sin antec...   \n",
       "\n",
       "                                 Definition _merge  \\\n",
       "0      Federación Internacional de Diabetes   both   \n",
       "1               Fósforo Inorgánico Disuelto   both   \n",
       "2                 formación inicial docente   both   \n",
       "3  factor de independencia a la distracción   both   \n",
       "4                       fosa iliaca derecha   both   \n",
       "\n",
       "                      Definition_lemmatized  \n",
       "0      Federación Internacional de Diabetes  \n",
       "1               Fósforo Inorgánico Disuelto  \n",
       "2                 formación inicial docente  \n",
       "3  factor de independencia a la distracción  \n",
       "4                       fosa iliaca derecha  "
      ]
     },
     "execution_count": 188,
     "metadata": {},
     "output_type": "execute_result"
    }
   ],
   "source": [
    "train_def.head()"
   ]
  },
  {
   "cell_type": "code",
   "execution_count": 227,
   "id": "2ca908e0-370a-4440-b601-56aa3a0da0c8",
   "metadata": {},
   "outputs": [],
   "source": [
    "del train_def['_merge']"
   ]
  },
  {
   "cell_type": "code",
   "execution_count": 228,
   "id": "bcfc82c3-d4ca-48fb-89e7-e76bcb6b3c48",
   "metadata": {},
   "outputs": [],
   "source": [
    "train_def.to_csv(\"../data/data_paper/train_subtrack2_parte1.csv\", index = False)"
   ]
  },
  {
   "cell_type": "markdown",
   "id": "c94132b9-dd86-4449-ae7f-2fe140b4c1ad",
   "metadata": {},
   "source": [
    "### Test"
   ]
  },
  {
   "cell_type": "code",
   "execution_count": 190,
   "id": "582d4d85-73ae-4438-a4d9-f8e075a4374d",
   "metadata": {},
   "outputs": [],
   "source": [
    "testing_raw['texto_clean'] = testing_raw['texto'].str.split().map(lambda x: ' '.join([w for w in x if w not in swords]))"
   ]
  },
  {
   "cell_type": "code",
   "execution_count": 191,
   "id": "4ad02729-c465-495d-9f7d-ddeee9675515",
   "metadata": {},
   "outputs": [],
   "source": [
    "testing_raw['abrev'] = testing_raw['texto_clean'].map(lambda x: generic_re.findall(x))"
   ]
  },
  {
   "cell_type": "code",
   "execution_count": 192,
   "id": "8d04da8c-4e81-44aa-b9e3-e56af583a184",
   "metadata": {},
   "outputs": [
    {
     "data": {
      "text/html": [
       "<div>\n",
       "<style scoped>\n",
       "    .dataframe tbody tr th:only-of-type {\n",
       "        vertical-align: middle;\n",
       "    }\n",
       "\n",
       "    .dataframe tbody tr th {\n",
       "        vertical-align: top;\n",
       "    }\n",
       "\n",
       "    .dataframe thead th {\n",
       "        text-align: right;\n",
       "    }\n",
       "</style>\n",
       "<table border=\"1\" class=\"dataframe\">\n",
       "  <thead>\n",
       "    <tr style=\"text-align: right;\">\n",
       "      <th></th>\n",
       "      <th>nombre</th>\n",
       "      <th>texto</th>\n",
       "      <th>texto_clean</th>\n",
       "      <th>abrev</th>\n",
       "    </tr>\n",
       "  </thead>\n",
       "  <tbody>\n",
       "    <tr>\n",
       "      <th>0</th>\n",
       "      <td>S1130-01082008001000010-1</td>\n",
       "      <td>Varón de 43 años originario de Marruecos, que ingresó en nuestro servicio por cuadro de 4 días d...</td>\n",
       "      <td>Varón 43 años originario Marruecos, ingresó servicio cuadro 4 días evolución ictericia mucocután...</td>\n",
       "      <td>[mg/, GOT, UI, /ml, GPT, UI, /ml, GGT, UI, /ml, FA, UI, /ml, LDH, UI, /ml, IgG, UI, /ml, 751-1, ...</td>\n",
       "    </tr>\n",
       "    <tr>\n",
       "      <th>1</th>\n",
       "      <td>S0004-06142009000400011-1</td>\n",
       "      <td>Varón de 75 años con antecedentes de EPOC moderado sin otros antecedentes médicos de interés. En...</td>\n",
       "      <td>Varón 75 años antecedentes EPOC moderado antecedentes médicos interés. Entre hábitos tóxicos, tr...</td>\n",
       "      <td>[EPOC,  cm , 2-3,  cm , X10, EMA, TAC, RMN, TAC]</td>\n",
       "    </tr>\n",
       "    <tr>\n",
       "      <th>2</th>\n",
       "      <td>S0376-78922011000200004-1</td>\n",
       "      <td>Mujer de 44 años de edad con antecedentes médicos de insuficiencia renal crónica en tratamiento ...</td>\n",
       "      <td>Mujer 44 años edad antecedentes médicos insuficiencia renal crónica tratamiento hemodiálisis año...</td>\n",
       "      <td>[IV, 25 25,  cm , mg/, mg/, mg/, mg/, VAC, mmHg, VAC, mmHg, A 6, IV, 2 3, VAC]</td>\n",
       "    </tr>\n",
       "    <tr>\n",
       "      <th>3</th>\n",
       "      <td>S1137-66272014000300016-1</td>\n",
       "      <td>Mujer de 36 años sin antecedentes médicos o epidemiológicos de interés que es ingresada en la Un...</td>\n",
       "      <td>Mujer 36 años antecedentes médicos epidemiológicos interés ingresada Unidad Cuidados Intensivos ...</td>\n",
       "      <td>[TAC, oC, µg/, VSG, PCR, mg/, VN, mg/, ng/, VIH, VEB, CMV, VHS, 1 2, ANA, ANCA, mg/, TAC, RMN, 7...</td>\n",
       "    </tr>\n",
       "    <tr>\n",
       "      <th>4</th>\n",
       "      <td>S1130-01082008000800019-1</td>\n",
       "      <td>Recientemente, atendimos en nuestro hospital a un varón de 46 años, con antecedente de síndrome ...</td>\n",
       "      <td>Recientemente, atendimos hospital varón 46 años, antecedente síndrome Down retraso mental grave,...</td>\n",
       "      <td>[TC, 24-48]</td>\n",
       "    </tr>\n",
       "  </tbody>\n",
       "</table>\n",
       "</div>"
      ],
      "text/plain": [
       "                      nombre  \\\n",
       "0  S1130-01082008001000010-1   \n",
       "1  S0004-06142009000400011-1   \n",
       "2  S0376-78922011000200004-1   \n",
       "3  S1137-66272014000300016-1   \n",
       "4  S1130-01082008000800019-1   \n",
       "\n",
       "                                                                                                 texto  \\\n",
       "0  Varón de 43 años originario de Marruecos, que ingresó en nuestro servicio por cuadro de 4 días d...   \n",
       "1  Varón de 75 años con antecedentes de EPOC moderado sin otros antecedentes médicos de interés. En...   \n",
       "2  Mujer de 44 años de edad con antecedentes médicos de insuficiencia renal crónica en tratamiento ...   \n",
       "3  Mujer de 36 años sin antecedentes médicos o epidemiológicos de interés que es ingresada en la Un...   \n",
       "4  Recientemente, atendimos en nuestro hospital a un varón de 46 años, con antecedente de síndrome ...   \n",
       "\n",
       "                                                                                           texto_clean  \\\n",
       "0  Varón 43 años originario Marruecos, ingresó servicio cuadro 4 días evolución ictericia mucocután...   \n",
       "1  Varón 75 años antecedentes EPOC moderado antecedentes médicos interés. Entre hábitos tóxicos, tr...   \n",
       "2  Mujer 44 años edad antecedentes médicos insuficiencia renal crónica tratamiento hemodiálisis año...   \n",
       "3  Mujer 36 años antecedentes médicos epidemiológicos interés ingresada Unidad Cuidados Intensivos ...   \n",
       "4  Recientemente, atendimos hospital varón 46 años, antecedente síndrome Down retraso mental grave,...   \n",
       "\n",
       "                                                                                                 abrev  \n",
       "0  [mg/, GOT, UI, /ml, GPT, UI, /ml, GGT, UI, /ml, FA, UI, /ml, LDH, UI, /ml, IgG, UI, /ml, 751-1, ...  \n",
       "1                                                     [EPOC,  cm , 2-3,  cm , X10, EMA, TAC, RMN, TAC]  \n",
       "2                       [IV, 25 25,  cm , mg/, mg/, mg/, mg/, VAC, mmHg, VAC, mmHg, A 6, IV, 2 3, VAC]  \n",
       "3  [TAC, oC, µg/, VSG, PCR, mg/, VN, mg/, ng/, VIH, VEB, CMV, VHS, 1 2, ANA, ANCA, mg/, TAC, RMN, 7...  \n",
       "4                                                                                          [TC, 24-48]  "
      ]
     },
     "execution_count": 192,
     "metadata": {},
     "output_type": "execute_result"
    }
   ],
   "source": [
    "testing_raw.head()"
   ]
  },
  {
   "cell_type": "code",
   "execution_count": 193,
   "id": "a7a9d9e4-4e92-427d-96d5-dcfbc60e316f",
   "metadata": {},
   "outputs": [],
   "source": [
    "test_track2 = testing_raw.explode('abrev')"
   ]
  },
  {
   "cell_type": "code",
   "execution_count": 194,
   "id": "128d69b7-07a6-4fa4-a86b-f23a93e6fcdc",
   "metadata": {},
   "outputs": [
    {
     "name": "stderr",
     "output_type": "stream",
     "text": [
      "/var/folders/1q/pw51_8397cv2pn5m63n8dwzr0000gn/T/ipykernel_64120/2963199427.py:1: FutureWarning: The default value of regex will change from True to False in a future version.\n",
      "  test_track2['abrev'] = test_track2['abrev'].str.replace('[!\"#$%&*+,-./:;<=>?@^_`{|}~]','')\n"
     ]
    }
   ],
   "source": [
    "test_track2['abrev'] = test_track2['abrev'].str.replace('[!\"#$%&*+,-./:;<=>?@^_`{|}~]','')"
   ]
  },
  {
   "cell_type": "code",
   "execution_count": 195,
   "id": "57b1d229-35f0-4e9a-94a8-80bd4487d33c",
   "metadata": {},
   "outputs": [
    {
     "data": {
      "text/html": [
       "<div>\n",
       "<style scoped>\n",
       "    .dataframe tbody tr th:only-of-type {\n",
       "        vertical-align: middle;\n",
       "    }\n",
       "\n",
       "    .dataframe tbody tr th {\n",
       "        vertical-align: top;\n",
       "    }\n",
       "\n",
       "    .dataframe thead th {\n",
       "        text-align: right;\n",
       "    }\n",
       "</style>\n",
       "<table border=\"1\" class=\"dataframe\">\n",
       "  <thead>\n",
       "    <tr style=\"text-align: right;\">\n",
       "      <th></th>\n",
       "      <th>nombre</th>\n",
       "      <th>texto</th>\n",
       "      <th>texto_clean</th>\n",
       "      <th>abrev</th>\n",
       "    </tr>\n",
       "  </thead>\n",
       "  <tbody>\n",
       "    <tr>\n",
       "      <th>0</th>\n",
       "      <td>S1130-01082008001000010-1</td>\n",
       "      <td>Varón de 43 años originario de Marruecos, que ingresó en nuestro servicio por cuadro de 4 días d...</td>\n",
       "      <td>Varón 43 años originario Marruecos, ingresó servicio cuadro 4 días evolución ictericia mucocután...</td>\n",
       "      <td>mg</td>\n",
       "    </tr>\n",
       "    <tr>\n",
       "      <th>0</th>\n",
       "      <td>S1130-01082008001000010-1</td>\n",
       "      <td>Varón de 43 años originario de Marruecos, que ingresó en nuestro servicio por cuadro de 4 días d...</td>\n",
       "      <td>Varón 43 años originario Marruecos, ingresó servicio cuadro 4 días evolución ictericia mucocután...</td>\n",
       "      <td>GOT</td>\n",
       "    </tr>\n",
       "    <tr>\n",
       "      <th>0</th>\n",
       "      <td>S1130-01082008001000010-1</td>\n",
       "      <td>Varón de 43 años originario de Marruecos, que ingresó en nuestro servicio por cuadro de 4 días d...</td>\n",
       "      <td>Varón 43 años originario Marruecos, ingresó servicio cuadro 4 días evolución ictericia mucocután...</td>\n",
       "      <td>UI</td>\n",
       "    </tr>\n",
       "    <tr>\n",
       "      <th>0</th>\n",
       "      <td>S1130-01082008001000010-1</td>\n",
       "      <td>Varón de 43 años originario de Marruecos, que ingresó en nuestro servicio por cuadro de 4 días d...</td>\n",
       "      <td>Varón 43 años originario Marruecos, ingresó servicio cuadro 4 días evolución ictericia mucocután...</td>\n",
       "      <td>ml</td>\n",
       "    </tr>\n",
       "    <tr>\n",
       "      <th>0</th>\n",
       "      <td>S1130-01082008001000010-1</td>\n",
       "      <td>Varón de 43 años originario de Marruecos, que ingresó en nuestro servicio por cuadro de 4 días d...</td>\n",
       "      <td>Varón 43 años originario Marruecos, ingresó servicio cuadro 4 días evolución ictericia mucocután...</td>\n",
       "      <td>GPT</td>\n",
       "    </tr>\n",
       "  </tbody>\n",
       "</table>\n",
       "</div>"
      ],
      "text/plain": [
       "                      nombre  \\\n",
       "0  S1130-01082008001000010-1   \n",
       "0  S1130-01082008001000010-1   \n",
       "0  S1130-01082008001000010-1   \n",
       "0  S1130-01082008001000010-1   \n",
       "0  S1130-01082008001000010-1   \n",
       "\n",
       "                                                                                                 texto  \\\n",
       "0  Varón de 43 años originario de Marruecos, que ingresó en nuestro servicio por cuadro de 4 días d...   \n",
       "0  Varón de 43 años originario de Marruecos, que ingresó en nuestro servicio por cuadro de 4 días d...   \n",
       "0  Varón de 43 años originario de Marruecos, que ingresó en nuestro servicio por cuadro de 4 días d...   \n",
       "0  Varón de 43 años originario de Marruecos, que ingresó en nuestro servicio por cuadro de 4 días d...   \n",
       "0  Varón de 43 años originario de Marruecos, que ingresó en nuestro servicio por cuadro de 4 días d...   \n",
       "\n",
       "                                                                                           texto_clean  \\\n",
       "0  Varón 43 años originario Marruecos, ingresó servicio cuadro 4 días evolución ictericia mucocután...   \n",
       "0  Varón 43 años originario Marruecos, ingresó servicio cuadro 4 días evolución ictericia mucocután...   \n",
       "0  Varón 43 años originario Marruecos, ingresó servicio cuadro 4 días evolución ictericia mucocután...   \n",
       "0  Varón 43 años originario Marruecos, ingresó servicio cuadro 4 días evolución ictericia mucocután...   \n",
       "0  Varón 43 años originario Marruecos, ingresó servicio cuadro 4 días evolución ictericia mucocután...   \n",
       "\n",
       "  abrev  \n",
       "0    mg  \n",
       "0   GOT  \n",
       "0    UI  \n",
       "0    ml  \n",
       "0   GPT  "
      ]
     },
     "execution_count": 195,
     "metadata": {},
     "output_type": "execute_result"
    }
   ],
   "source": [
    "test_track2.head()"
   ]
  },
  {
   "cell_type": "code",
   "execution_count": 196,
   "id": "6cf4fec5-5de8-4e6d-bf9c-1a06772b9a37",
   "metadata": {},
   "outputs": [],
   "source": [
    "test_track2 = test_track2[~test_track2.abrev.isnull()]"
   ]
  },
  {
   "cell_type": "code",
   "execution_count": 197,
   "id": "af157746-78b5-48cb-a4c7-424f68612973",
   "metadata": {},
   "outputs": [],
   "source": [
    "test_track2['StartOffset'] = test_track2.apply(offset, axis = 1)"
   ]
  },
  {
   "cell_type": "code",
   "execution_count": 198,
   "id": "d35c2a43-5b5d-41e1-b653-95de7b7e983e",
   "metadata": {},
   "outputs": [],
   "source": [
    "test_track2['StartOffset'] = test_track2.apply(offset, axis = 1)\n",
    "test_track2['EndOffset'] = test_track2.apply(offsetend, axis = 1)"
   ]
  },
  {
   "cell_type": "code",
   "execution_count": 201,
   "id": "e4c2497e-43c6-40d8-907b-f5504263391b",
   "metadata": {},
   "outputs": [],
   "source": [
    "test_track2 = test_track2[['nombre','StartOffset', 'EndOffset' ,'abrev','texto']]"
   ]
  },
  {
   "cell_type": "code",
   "execution_count": 202,
   "id": "780fda41-d700-404e-a850-2b8df0aff25f",
   "metadata": {},
   "outputs": [
    {
     "data": {
      "text/html": [
       "<div>\n",
       "<style scoped>\n",
       "    .dataframe tbody tr th:only-of-type {\n",
       "        vertical-align: middle;\n",
       "    }\n",
       "\n",
       "    .dataframe tbody tr th {\n",
       "        vertical-align: top;\n",
       "    }\n",
       "\n",
       "    .dataframe thead th {\n",
       "        text-align: right;\n",
       "    }\n",
       "</style>\n",
       "<table border=\"1\" class=\"dataframe\">\n",
       "  <thead>\n",
       "    <tr style=\"text-align: right;\">\n",
       "      <th></th>\n",
       "      <th>nombre</th>\n",
       "      <th>StartOffset</th>\n",
       "      <th>EndOffset</th>\n",
       "      <th>abrev</th>\n",
       "      <th>texto</th>\n",
       "    </tr>\n",
       "  </thead>\n",
       "  <tbody>\n",
       "    <tr>\n",
       "      <th>0</th>\n",
       "      <td>S1130-01082008001000010-1</td>\n",
       "      <td>372</td>\n",
       "      <td>374</td>\n",
       "      <td>mg</td>\n",
       "      <td>Varón de 43 años originario de Marruecos, que ingresó en nuestro servicio por cuadro de 4 días d...</td>\n",
       "    </tr>\n",
       "    <tr>\n",
       "      <th>0</th>\n",
       "      <td>S1130-01082008001000010-1</td>\n",
       "      <td>379</td>\n",
       "      <td>382</td>\n",
       "      <td>GOT</td>\n",
       "      <td>Varón de 43 años originario de Marruecos, que ingresó en nuestro servicio por cuadro de 4 días d...</td>\n",
       "    </tr>\n",
       "    <tr>\n",
       "      <th>0</th>\n",
       "      <td>S1130-01082008001000010-1</td>\n",
       "      <td>387</td>\n",
       "      <td>389</td>\n",
       "      <td>UI</td>\n",
       "      <td>Varón de 43 años originario de Marruecos, que ingresó en nuestro servicio por cuadro de 4 días d...</td>\n",
       "    </tr>\n",
       "    <tr>\n",
       "      <th>0</th>\n",
       "      <td>S1130-01082008001000010-1</td>\n",
       "      <td>390</td>\n",
       "      <td>392</td>\n",
       "      <td>ml</td>\n",
       "      <td>Varón de 43 años originario de Marruecos, que ingresó en nuestro servicio por cuadro de 4 días d...</td>\n",
       "    </tr>\n",
       "    <tr>\n",
       "      <th>0</th>\n",
       "      <td>S1130-01082008001000010-1</td>\n",
       "      <td>394</td>\n",
       "      <td>397</td>\n",
       "      <td>GPT</td>\n",
       "      <td>Varón de 43 años originario de Marruecos, que ingresó en nuestro servicio por cuadro de 4 días d...</td>\n",
       "    </tr>\n",
       "  </tbody>\n",
       "</table>\n",
       "</div>"
      ],
      "text/plain": [
       "                      nombre  StartOffset  EndOffset abrev  \\\n",
       "0  S1130-01082008001000010-1          372        374    mg   \n",
       "0  S1130-01082008001000010-1          379        382   GOT   \n",
       "0  S1130-01082008001000010-1          387        389    UI   \n",
       "0  S1130-01082008001000010-1          390        392    ml   \n",
       "0  S1130-01082008001000010-1          394        397   GPT   \n",
       "\n",
       "                                                                                                 texto  \n",
       "0  Varón de 43 años originario de Marruecos, que ingresó en nuestro servicio por cuadro de 4 días d...  \n",
       "0  Varón de 43 años originario de Marruecos, que ingresó en nuestro servicio por cuadro de 4 días d...  \n",
       "0  Varón de 43 años originario de Marruecos, que ingresó en nuestro servicio por cuadro de 4 días d...  \n",
       "0  Varón de 43 años originario de Marruecos, que ingresó en nuestro servicio por cuadro de 4 días d...  \n",
       "0  Varón de 43 años originario de Marruecos, que ingresó en nuestro servicio por cuadro de 4 días d...  "
      ]
     },
     "execution_count": 202,
     "metadata": {},
     "output_type": "execute_result"
    }
   ],
   "source": [
    "test_track2.head()"
   ]
  },
  {
   "cell_type": "markdown",
   "id": "3b0a2635-f515-4ace-b4b2-83aee05f3c51",
   "metadata": {},
   "source": [
    "### 2) Give a long-form from AbreMES data base"
   ]
  },
  {
   "cell_type": "code",
   "execution_count": 203,
   "id": "fcf157b3-2808-4df6-80fe-599dfb3fd940",
   "metadata": {},
   "outputs": [],
   "source": [
    "abremes = pd.read_csv(\"../../publicacion/AbreMES-DB/DB/pairs.tsv\", sep = '\\t')"
   ]
  },
  {
   "cell_type": "code",
   "execution_count": 204,
   "id": "97e2fe8b-09c7-482f-8423-296b18b354e8",
   "metadata": {},
   "outputs": [
    {
     "data": {
      "text/html": [
       "<div>\n",
       "<style scoped>\n",
       "    .dataframe tbody tr th:only-of-type {\n",
       "        vertical-align: middle;\n",
       "    }\n",
       "\n",
       "    .dataframe tbody tr th {\n",
       "        vertical-align: top;\n",
       "    }\n",
       "\n",
       "    .dataframe thead th {\n",
       "        text-align: right;\n",
       "    }\n",
       "</style>\n",
       "<table border=\"1\" class=\"dataframe\">\n",
       "  <thead>\n",
       "    <tr style=\"text-align: right;\">\n",
       "      <th></th>\n",
       "      <th># Pair ID</th>\n",
       "      <th>Abbreviation ID</th>\n",
       "      <th>Definition ID</th>\n",
       "      <th>Frequency</th>\n",
       "      <th>Abbreviation</th>\n",
       "      <th>Definition</th>\n",
       "      <th>Appears on</th>\n",
       "    </tr>\n",
       "  </thead>\n",
       "  <tbody>\n",
       "    <tr>\n",
       "      <th>0</th>\n",
       "      <td>1</td>\n",
       "      <td>3348</td>\n",
       "      <td>17876</td>\n",
       "      <td>31</td>\n",
       "      <td>DDD</td>\n",
       "      <td>diaria definida</td>\n",
       "      <td>http://www.scielo.edu.uy/scielo.php?script=sci_arttext&amp;pid=S1688-03902003000300004,http://scielo...</td>\n",
       "    </tr>\n",
       "    <tr>\n",
       "      <th>1</th>\n",
       "      <td>2</td>\n",
       "      <td>11880</td>\n",
       "      <td>23106</td>\n",
       "      <td>11</td>\n",
       "      <td>HP-CHPR</td>\n",
       "      <td>Hospital Pediátrico del Centro Hospitalario Pereira Rossell</td>\n",
       "      <td>http://www.scielo.edu.uy/scielo.php?script=sci_arttext&amp;pid=S1688-03902003000300004,http://www.sc...</td>\n",
       "    </tr>\n",
       "    <tr>\n",
       "      <th>2</th>\n",
       "      <td>3</td>\n",
       "      <td>1454</td>\n",
       "      <td>23213</td>\n",
       "      <td>1</td>\n",
       "      <td>EVN</td>\n",
       "      <td>de vida al nacer</td>\n",
       "      <td>http://www.scielo.edu.uy/scielo.php?script=sci_arttext&amp;pid=S1688-03902003000300005</td>\n",
       "    </tr>\n",
       "    <tr>\n",
       "      <th>3</th>\n",
       "      <td>4</td>\n",
       "      <td>1112</td>\n",
       "      <td>23214</td>\n",
       "      <td>1</td>\n",
       "      <td>TDS</td>\n",
       "      <td>Total dermatoscopic score</td>\n",
       "      <td>http://www.scielo.edu.uy/scielo.php?script=sci_arttext&amp;pid=S1688-03902003000300006</td>\n",
       "    </tr>\n",
       "    <tr>\n",
       "      <th>4</th>\n",
       "      <td>5</td>\n",
       "      <td>231</td>\n",
       "      <td>23215</td>\n",
       "      <td>1</td>\n",
       "      <td>AP</td>\n",
       "      <td>cases by pathologic anatomy</td>\n",
       "      <td>http://www.scielo.edu.uy/scielo.php?script=sci_arttext&amp;pid=S1688-03902003000300006</td>\n",
       "    </tr>\n",
       "  </tbody>\n",
       "</table>\n",
       "</div>"
      ],
      "text/plain": [
       "   # Pair ID  Abbreviation ID  Definition ID  Frequency Abbreviation  \\\n",
       "0          1             3348          17876         31          DDD   \n",
       "1          2            11880          23106         11      HP-CHPR   \n",
       "2          3             1454          23213          1          EVN   \n",
       "3          4             1112          23214          1          TDS   \n",
       "4          5              231          23215          1           AP   \n",
       "\n",
       "                                                    Definition  \\\n",
       "0                                              diaria definida   \n",
       "1  Hospital Pediátrico del Centro Hospitalario Pereira Rossell   \n",
       "2                                             de vida al nacer   \n",
       "3                                    Total dermatoscopic score   \n",
       "4                                  cases by pathologic anatomy   \n",
       "\n",
       "                                                                                            Appears on  \n",
       "0  http://www.scielo.edu.uy/scielo.php?script=sci_arttext&pid=S1688-03902003000300004,http://scielo...  \n",
       "1  http://www.scielo.edu.uy/scielo.php?script=sci_arttext&pid=S1688-03902003000300004,http://www.sc...  \n",
       "2                   http://www.scielo.edu.uy/scielo.php?script=sci_arttext&pid=S1688-03902003000300005  \n",
       "3                   http://www.scielo.edu.uy/scielo.php?script=sci_arttext&pid=S1688-03902003000300006  \n",
       "4                   http://www.scielo.edu.uy/scielo.php?script=sci_arttext&pid=S1688-03902003000300006  "
      ]
     },
     "execution_count": 204,
     "metadata": {},
     "output_type": "execute_result"
    }
   ],
   "source": [
    "abremes.head()"
   ]
  },
  {
   "cell_type": "code",
   "execution_count": 205,
   "id": "08a302e6-b967-4b67-94dd-ea36c01605f7",
   "metadata": {},
   "outputs": [
    {
     "name": "stderr",
     "output_type": "stream",
     "text": [
      "/var/folders/1q/pw51_8397cv2pn5m63n8dwzr0000gn/T/ipykernel_64120/1011565268.py:1: FutureWarning: The default value of regex will change from True to False in a future version.\n",
      "  abremes['Abbreviation'] = abremes['Abbreviation'].str.replace('[!\"#$%&*+,-./:;<=>?@^_`{|}~]','')\n"
     ]
    }
   ],
   "source": [
    "abremes['Abbreviation'] = abremes['Abbreviation'].str.replace('[!\"#$%&*+,-./:;<=>?@^_`{|}~]','')"
   ]
  },
  {
   "cell_type": "code",
   "execution_count": 206,
   "id": "b9c407da-ffd1-40ec-b784-2799c7452a22",
   "metadata": {},
   "outputs": [],
   "source": [
    "test_track2 = test_track2.rename(columns = {'abrev':'Abbreviation'})"
   ]
  },
  {
   "cell_type": "code",
   "execution_count": 207,
   "id": "8c7f625f-8d1e-416f-bdf0-075d12938b4b",
   "metadata": {},
   "outputs": [],
   "source": [
    "test_track2['Abbreviation'] = test_track2['Abbreviation'].str.strip()"
   ]
  },
  {
   "cell_type": "code",
   "execution_count": 208,
   "id": "092accca-2145-4512-af22-3bc5d4a96cb4",
   "metadata": {},
   "outputs": [
    {
     "name": "stdout",
     "output_type": "stream",
     "text": [
      "(3058, 5)\n",
      "908\n",
      "(52551, 7)\n",
      "20236\n"
     ]
    }
   ],
   "source": [
    "print(test_track2.shape)\n",
    "print(test_track2.Abbreviation.nunique())\n",
    "print(abremes.shape)\n",
    "print(abremes.Abbreviation.nunique())"
   ]
  },
  {
   "cell_type": "markdown",
   "id": "0959833f-047f-4be8-bb6c-f0378df13ffe",
   "metadata": {},
   "source": [
    "Add dictionary with measure units"
   ]
  },
  {
   "cell_type": "code",
   "execution_count": 209,
   "id": "e5a2fc02-67df-41d1-aeaa-9b17ba2c8fe3",
   "metadata": {},
   "outputs": [],
   "source": [
    "with open(\"dictionary_measureunits.txt\", \"r\") as data:\n",
    "    dictionary = ast.literal_eval(data.read())"
   ]
  },
  {
   "cell_type": "markdown",
   "id": "67fa0319-ccc8-4a18-b4a0-289f65885552",
   "metadata": {},
   "source": [
    "Assign definitions from AbreMES DB"
   ]
  },
  {
   "cell_type": "code",
   "execution_count": 210,
   "id": "c1b35ab5-69f9-4eef-95bc-2491261f3543",
   "metadata": {},
   "outputs": [],
   "source": [
    "test_def = test_track2.merge(abremes[['Abbreviation', 'Definition']], how = 'left', on = 'Abbreviation', indicator = True)"
   ]
  },
  {
   "cell_type": "code",
   "execution_count": 211,
   "id": "674d6f73-b306-4ad6-ba19-47f1967b943a",
   "metadata": {},
   "outputs": [
    {
     "data": {
      "text/html": [
       "<div>\n",
       "<style scoped>\n",
       "    .dataframe tbody tr th:only-of-type {\n",
       "        vertical-align: middle;\n",
       "    }\n",
       "\n",
       "    .dataframe tbody tr th {\n",
       "        vertical-align: top;\n",
       "    }\n",
       "\n",
       "    .dataframe thead th {\n",
       "        text-align: right;\n",
       "    }\n",
       "</style>\n",
       "<table border=\"1\" class=\"dataframe\">\n",
       "  <thead>\n",
       "    <tr style=\"text-align: right;\">\n",
       "      <th></th>\n",
       "      <th>nombre</th>\n",
       "      <th>StartOffset</th>\n",
       "      <th>EndOffset</th>\n",
       "      <th>Abbreviation</th>\n",
       "      <th>texto</th>\n",
       "      <th>Definition</th>\n",
       "      <th>_merge</th>\n",
       "    </tr>\n",
       "  </thead>\n",
       "  <tbody>\n",
       "    <tr>\n",
       "      <th>0</th>\n",
       "      <td>S1130-01082008001000010-1</td>\n",
       "      <td>372</td>\n",
       "      <td>374</td>\n",
       "      <td>mg</td>\n",
       "      <td>Varón de 43 años originario de Marruecos, que ingresó en nuestro servicio por cuadro de 4 días d...</td>\n",
       "      <td>NaN</td>\n",
       "      <td>left_only</td>\n",
       "    </tr>\n",
       "    <tr>\n",
       "      <th>1</th>\n",
       "      <td>S1130-01082008001000010-1</td>\n",
       "      <td>379</td>\n",
       "      <td>382</td>\n",
       "      <td>GOT</td>\n",
       "      <td>Varón de 43 años originario de Marruecos, que ingresó en nuestro servicio por cuadro de 4 días d...</td>\n",
       "      <td>glutamic-oxaloacetic transaminase</td>\n",
       "      <td>both</td>\n",
       "    </tr>\n",
       "  </tbody>\n",
       "</table>\n",
       "</div>"
      ],
      "text/plain": [
       "                      nombre  StartOffset  EndOffset Abbreviation  \\\n",
       "0  S1130-01082008001000010-1          372        374           mg   \n",
       "1  S1130-01082008001000010-1          379        382          GOT   \n",
       "\n",
       "                                                                                                 texto  \\\n",
       "0  Varón de 43 años originario de Marruecos, que ingresó en nuestro servicio por cuadro de 4 días d...   \n",
       "1  Varón de 43 años originario de Marruecos, que ingresó en nuestro servicio por cuadro de 4 días d...   \n",
       "\n",
       "                          Definition     _merge  \n",
       "0                                NaN  left_only  \n",
       "1  glutamic-oxaloacetic transaminase       both  "
      ]
     },
     "execution_count": 211,
     "metadata": {},
     "output_type": "execute_result"
    }
   ],
   "source": [
    "test_def.head(2)"
   ]
  },
  {
   "cell_type": "code",
   "execution_count": 212,
   "id": "3044cb6f-d5a9-4691-9b75-c3cff88fe7bf",
   "metadata": {},
   "outputs": [],
   "source": [
    "test_def['Definition'] = test_def['Definition'].fillna('no_existe')"
   ]
  },
  {
   "cell_type": "code",
   "execution_count": 213,
   "id": "fa98edb1-37f2-4301-810c-3a93f34cfc3d",
   "metadata": {},
   "outputs": [],
   "source": [
    "test_def['Definition'] = test_def.apply(lambda x: defin_dictionary(x, dictionary), axis = 1)"
   ]
  },
  {
   "cell_type": "code",
   "execution_count": 214,
   "id": "c634a009-e1c3-4f09-961d-eb11616f5d10",
   "metadata": {},
   "outputs": [],
   "source": [
    "sf_notfind= test_def[test_def['Definition'].isna()]['Abbreviation'].unique().tolist()"
   ]
  },
  {
   "cell_type": "code",
   "execution_count": 215,
   "id": "7e95a2e1-b4a4-4878-bdf1-68f40542b504",
   "metadata": {
    "tags": []
   },
   "outputs": [
    {
     "data": {
      "text/plain": [
       "503"
      ]
     },
     "execution_count": 215,
     "metadata": {},
     "output_type": "execute_result"
    }
   ],
   "source": [
    "len(sf_notfind)"
   ]
  },
  {
   "cell_type": "code",
   "execution_count": 216,
   "id": "178a3022-ec18-42d0-99f5-fb9c845d1dcd",
   "metadata": {},
   "outputs": [],
   "source": [
    "test_def= test_def.dropna(subset = ['Definition'])"
   ]
  },
  {
   "cell_type": "code",
   "execution_count": 217,
   "id": "e878c609-5a13-4479-87c2-7556ced01b46",
   "metadata": {},
   "outputs": [
    {
     "name": "stdout",
     "output_type": "stream",
     "text": [
      "405\n"
     ]
    }
   ],
   "source": [
    "#En test real hay 600 y pico\n",
    "print(test_def.Abbreviation.nunique())"
   ]
  },
  {
   "cell_type": "code",
   "execution_count": 218,
   "id": "61a5ca20-1fba-42a1-b720-bc2dde35c37a",
   "metadata": {},
   "outputs": [
    {
     "data": {
      "text/html": [
       "<div>\n",
       "<style scoped>\n",
       "    .dataframe tbody tr th:only-of-type {\n",
       "        vertical-align: middle;\n",
       "    }\n",
       "\n",
       "    .dataframe tbody tr th {\n",
       "        vertical-align: top;\n",
       "    }\n",
       "\n",
       "    .dataframe thead th {\n",
       "        text-align: right;\n",
       "    }\n",
       "</style>\n",
       "<table border=\"1\" class=\"dataframe\">\n",
       "  <thead>\n",
       "    <tr style=\"text-align: right;\">\n",
       "      <th></th>\n",
       "      <th>nombre</th>\n",
       "      <th>StartOffset</th>\n",
       "      <th>EndOffset</th>\n",
       "      <th>Abbreviation</th>\n",
       "      <th>texto</th>\n",
       "      <th>Definition</th>\n",
       "      <th>_merge</th>\n",
       "    </tr>\n",
       "  </thead>\n",
       "  <tbody>\n",
       "    <tr>\n",
       "      <th>0</th>\n",
       "      <td>S1130-01082008001000010-1</td>\n",
       "      <td>372</td>\n",
       "      <td>374</td>\n",
       "      <td>mg</td>\n",
       "      <td>Varón de 43 años originario de Marruecos, que ingresó en nuestro servicio por cuadro de 4 días d...</td>\n",
       "      <td>miligramo</td>\n",
       "      <td>left_only</td>\n",
       "    </tr>\n",
       "    <tr>\n",
       "      <th>1</th>\n",
       "      <td>S1130-01082008001000010-1</td>\n",
       "      <td>379</td>\n",
       "      <td>382</td>\n",
       "      <td>GOT</td>\n",
       "      <td>Varón de 43 años originario de Marruecos, que ingresó en nuestro servicio por cuadro de 4 días d...</td>\n",
       "      <td>glutamic-oxaloacetic transaminase</td>\n",
       "      <td>both</td>\n",
       "    </tr>\n",
       "    <tr>\n",
       "      <th>2</th>\n",
       "      <td>S1130-01082008001000010-1</td>\n",
       "      <td>379</td>\n",
       "      <td>382</td>\n",
       "      <td>GOT</td>\n",
       "      <td>Varón de 43 años originario de Marruecos, que ingresó en nuestro servicio por cuadro de 4 días d...</td>\n",
       "      <td>glutámico-oxalacetica</td>\n",
       "      <td>both</td>\n",
       "    </tr>\n",
       "    <tr>\n",
       "      <th>3</th>\n",
       "      <td>S1130-01082008001000010-1</td>\n",
       "      <td>379</td>\n",
       "      <td>382</td>\n",
       "      <td>GOT</td>\n",
       "      <td>Varón de 43 años originario de Marruecos, que ingresó en nuestro servicio por cuadro de 4 días d...</td>\n",
       "      <td>glutamato oxaloacetil transaminasa</td>\n",
       "      <td>both</td>\n",
       "    </tr>\n",
       "    <tr>\n",
       "      <th>4</th>\n",
       "      <td>S1130-01082008001000010-1</td>\n",
       "      <td>379</td>\n",
       "      <td>382</td>\n",
       "      <td>GOT</td>\n",
       "      <td>Varón de 43 años originario de Marruecos, que ingresó en nuestro servicio por cuadro de 4 días d...</td>\n",
       "      <td>glutamato oxaloacetato transaminasa</td>\n",
       "      <td>both</td>\n",
       "    </tr>\n",
       "  </tbody>\n",
       "</table>\n",
       "</div>"
      ],
      "text/plain": [
       "                      nombre  StartOffset  EndOffset Abbreviation  \\\n",
       "0  S1130-01082008001000010-1          372        374           mg   \n",
       "1  S1130-01082008001000010-1          379        382          GOT   \n",
       "2  S1130-01082008001000010-1          379        382          GOT   \n",
       "3  S1130-01082008001000010-1          379        382          GOT   \n",
       "4  S1130-01082008001000010-1          379        382          GOT   \n",
       "\n",
       "                                                                                                 texto  \\\n",
       "0  Varón de 43 años originario de Marruecos, que ingresó en nuestro servicio por cuadro de 4 días d...   \n",
       "1  Varón de 43 años originario de Marruecos, que ingresó en nuestro servicio por cuadro de 4 días d...   \n",
       "2  Varón de 43 años originario de Marruecos, que ingresó en nuestro servicio por cuadro de 4 días d...   \n",
       "3  Varón de 43 años originario de Marruecos, que ingresó en nuestro servicio por cuadro de 4 días d...   \n",
       "4  Varón de 43 años originario de Marruecos, que ingresó en nuestro servicio por cuadro de 4 días d...   \n",
       "\n",
       "                            Definition     _merge  \n",
       "0                            miligramo  left_only  \n",
       "1    glutamic-oxaloacetic transaminase       both  \n",
       "2                glutámico-oxalacetica       both  \n",
       "3   glutamato oxaloacetil transaminasa       both  \n",
       "4  glutamato oxaloacetato transaminasa       both  "
      ]
     },
     "execution_count": 218,
     "metadata": {},
     "output_type": "execute_result"
    }
   ],
   "source": [
    "test_def.head()"
   ]
  },
  {
   "cell_type": "code",
   "execution_count": 219,
   "id": "fdbb016a-8028-45f7-90e1-4fc459632aad",
   "metadata": {},
   "outputs": [
    {
     "name": "stdout",
     "output_type": "stream",
     "text": [
      "(46331, 7)\n",
      "405\n"
     ]
    }
   ],
   "source": [
    "print(test_def.shape)\n",
    "print(test_def.Abbreviation.nunique())"
   ]
  },
  {
   "cell_type": "markdown",
   "id": "57930bb0-41dd-449c-accc-518d27c3034b",
   "metadata": {},
   "source": [
    "Get lemmatized long forms"
   ]
  },
  {
   "cell_type": "code",
   "execution_count": 220,
   "id": "f4acdda9-aae4-4d7f-a528-2cdbea3b63a2",
   "metadata": {},
   "outputs": [],
   "source": [
    "lemmatizer = WordNetLemmatizer()"
   ]
  },
  {
   "cell_type": "code",
   "execution_count": 221,
   "id": "c52bff08-964a-4a8f-8711-82ff5de44a93",
   "metadata": {},
   "outputs": [],
   "source": [
    "test_def['Definition_lemmatized'] = test_def['Definition'].map(lambda x: lemmatizer.lemmatize(x))"
   ]
  },
  {
   "cell_type": "code",
   "execution_count": 222,
   "id": "ef5efe74-21eb-4f05-b31c-77965cb34de5",
   "metadata": {},
   "outputs": [
    {
     "data": {
      "text/html": [
       "<div>\n",
       "<style scoped>\n",
       "    .dataframe tbody tr th:only-of-type {\n",
       "        vertical-align: middle;\n",
       "    }\n",
       "\n",
       "    .dataframe tbody tr th {\n",
       "        vertical-align: top;\n",
       "    }\n",
       "\n",
       "    .dataframe thead th {\n",
       "        text-align: right;\n",
       "    }\n",
       "</style>\n",
       "<table border=\"1\" class=\"dataframe\">\n",
       "  <thead>\n",
       "    <tr style=\"text-align: right;\">\n",
       "      <th></th>\n",
       "      <th>nombre</th>\n",
       "      <th>StartOffset</th>\n",
       "      <th>EndOffset</th>\n",
       "      <th>Abbreviation</th>\n",
       "      <th>texto</th>\n",
       "      <th>Definition</th>\n",
       "      <th>_merge</th>\n",
       "      <th>Definition_lemmatized</th>\n",
       "    </tr>\n",
       "  </thead>\n",
       "  <tbody>\n",
       "    <tr>\n",
       "      <th>0</th>\n",
       "      <td>S1130-01082008001000010-1</td>\n",
       "      <td>372</td>\n",
       "      <td>374</td>\n",
       "      <td>mg</td>\n",
       "      <td>Varón de 43 años originario de Marruecos, que ingresó en nuestro servicio por cuadro de 4 días d...</td>\n",
       "      <td>miligramo</td>\n",
       "      <td>left_only</td>\n",
       "      <td>miligramo</td>\n",
       "    </tr>\n",
       "    <tr>\n",
       "      <th>1</th>\n",
       "      <td>S1130-01082008001000010-1</td>\n",
       "      <td>379</td>\n",
       "      <td>382</td>\n",
       "      <td>GOT</td>\n",
       "      <td>Varón de 43 años originario de Marruecos, que ingresó en nuestro servicio por cuadro de 4 días d...</td>\n",
       "      <td>glutamic-oxaloacetic transaminase</td>\n",
       "      <td>both</td>\n",
       "      <td>glutamic-oxaloacetic transaminase</td>\n",
       "    </tr>\n",
       "    <tr>\n",
       "      <th>2</th>\n",
       "      <td>S1130-01082008001000010-1</td>\n",
       "      <td>379</td>\n",
       "      <td>382</td>\n",
       "      <td>GOT</td>\n",
       "      <td>Varón de 43 años originario de Marruecos, que ingresó en nuestro servicio por cuadro de 4 días d...</td>\n",
       "      <td>glutámico-oxalacetica</td>\n",
       "      <td>both</td>\n",
       "      <td>glutámico-oxalacetica</td>\n",
       "    </tr>\n",
       "    <tr>\n",
       "      <th>3</th>\n",
       "      <td>S1130-01082008001000010-1</td>\n",
       "      <td>379</td>\n",
       "      <td>382</td>\n",
       "      <td>GOT</td>\n",
       "      <td>Varón de 43 años originario de Marruecos, que ingresó en nuestro servicio por cuadro de 4 días d...</td>\n",
       "      <td>glutamato oxaloacetil transaminasa</td>\n",
       "      <td>both</td>\n",
       "      <td>glutamato oxaloacetil transaminasa</td>\n",
       "    </tr>\n",
       "    <tr>\n",
       "      <th>4</th>\n",
       "      <td>S1130-01082008001000010-1</td>\n",
       "      <td>379</td>\n",
       "      <td>382</td>\n",
       "      <td>GOT</td>\n",
       "      <td>Varón de 43 años originario de Marruecos, que ingresó en nuestro servicio por cuadro de 4 días d...</td>\n",
       "      <td>glutamato oxaloacetato transaminasa</td>\n",
       "      <td>both</td>\n",
       "      <td>glutamato oxaloacetato transaminasa</td>\n",
       "    </tr>\n",
       "  </tbody>\n",
       "</table>\n",
       "</div>"
      ],
      "text/plain": [
       "                      nombre  StartOffset  EndOffset Abbreviation  \\\n",
       "0  S1130-01082008001000010-1          372        374           mg   \n",
       "1  S1130-01082008001000010-1          379        382          GOT   \n",
       "2  S1130-01082008001000010-1          379        382          GOT   \n",
       "3  S1130-01082008001000010-1          379        382          GOT   \n",
       "4  S1130-01082008001000010-1          379        382          GOT   \n",
       "\n",
       "                                                                                                 texto  \\\n",
       "0  Varón de 43 años originario de Marruecos, que ingresó en nuestro servicio por cuadro de 4 días d...   \n",
       "1  Varón de 43 años originario de Marruecos, que ingresó en nuestro servicio por cuadro de 4 días d...   \n",
       "2  Varón de 43 años originario de Marruecos, que ingresó en nuestro servicio por cuadro de 4 días d...   \n",
       "3  Varón de 43 años originario de Marruecos, que ingresó en nuestro servicio por cuadro de 4 días d...   \n",
       "4  Varón de 43 años originario de Marruecos, que ingresó en nuestro servicio por cuadro de 4 días d...   \n",
       "\n",
       "                            Definition     _merge  \\\n",
       "0                            miligramo  left_only   \n",
       "1    glutamic-oxaloacetic transaminase       both   \n",
       "2                glutámico-oxalacetica       both   \n",
       "3   glutamato oxaloacetil transaminasa       both   \n",
       "4  glutamato oxaloacetato transaminasa       both   \n",
       "\n",
       "                 Definition_lemmatized  \n",
       "0                            miligramo  \n",
       "1    glutamic-oxaloacetic transaminase  \n",
       "2                glutámico-oxalacetica  \n",
       "3   glutamato oxaloacetil transaminasa  \n",
       "4  glutamato oxaloacetato transaminasa  "
      ]
     },
     "execution_count": 222,
     "metadata": {},
     "output_type": "execute_result"
    }
   ],
   "source": [
    "test_def.head()"
   ]
  },
  {
   "cell_type": "code",
   "execution_count": 225,
   "id": "93dbb42f-0468-4b71-bedd-d08f6fce9e26",
   "metadata": {},
   "outputs": [],
   "source": [
    "del test_def['_merge']"
   ]
  },
  {
   "cell_type": "code",
   "execution_count": 226,
   "id": "6049c41c-fe1f-4003-8bdc-697819b4932e",
   "metadata": {},
   "outputs": [],
   "source": [
    "test_def.to_csv(\"../data/data_paper/test_subtrack2_parte1.csv\", index = False)"
   ]
  }
 ],
 "metadata": {
  "kernelspec": {
   "display_name": "Python 3 (ipykernel)",
   "language": "python",
   "name": "python3"
  },
  "language_info": {
   "codemirror_mode": {
    "name": "ipython",
    "version": 3
   },
   "file_extension": ".py",
   "mimetype": "text/x-python",
   "name": "python",
   "nbconvert_exporter": "python",
   "pygments_lexer": "ipython3",
   "version": "3.8.12"
  }
 },
 "nbformat": 4,
 "nbformat_minor": 5
}
