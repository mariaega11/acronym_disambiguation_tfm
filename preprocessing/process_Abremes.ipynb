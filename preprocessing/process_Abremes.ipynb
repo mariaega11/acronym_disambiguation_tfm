{
 "cells": [
  {
   "cell_type": "markdown",
   "id": "99e3376e-0cb8-4bc3-9d50-857679ef1738",
   "metadata": {},
   "source": [
    "# Library"
   ]
  },
  {
   "cell_type": "code",
   "execution_count": 255,
   "id": "31296b90-edb4-4d58-8735-e695a21914f7",
   "metadata": {},
   "outputs": [],
   "source": [
    "import pandas as pd\n",
    "import numpy as np\n",
    "import os\n",
    "import re\n",
    "import collections\n",
    "import unidecode\n",
    "import nltk\n",
    "from nltk.corpus import stopwords\n",
    "import itertools \n",
    "from nltk.tokenize import word_tokenize\n",
    "from string import punctuation\n",
    "from functools import reduce\n",
    "import ast\n",
    "from nltk.stem import WordNetLemmatizer\n",
    "from unidecode import unidecode\n",
    "import requests\n",
    "from bs4 import BeautifulSoup"
   ]
  },
  {
   "cell_type": "code",
   "execution_count": 1,
   "id": "a9170c23-a4d4-4986-987f-56303d34d55e",
   "metadata": {},
   "outputs": [
    {
     "name": "stderr",
     "output_type": "stream",
     "text": [
      "[nltk_data] Downloading package wordnet to /Users/egarcia/nltk_data...\n",
      "[nltk_data]   Package wordnet is already up-to-date!\n"
     ]
    },
    {
     "data": {
      "text/plain": [
       "True"
      ]
     },
     "execution_count": 1,
     "metadata": {},
     "output_type": "execute_result"
    }
   ],
   "source": [
    "nltk.download('wordnet')"
   ]
  },
  {
   "cell_type": "code",
   "execution_count": 2,
   "id": "961dca52-982a-4b6f-9a44-a07466d11e51",
   "metadata": {},
   "outputs": [],
   "source": [
    "pd.set_option('display.max_colwidth', 100)"
   ]
  },
  {
   "cell_type": "code",
   "execution_count": 3,
   "id": "857be7c0-5ef3-4974-8635-e777c8169448",
   "metadata": {},
   "outputs": [],
   "source": [
    "%matplotlib inline\n",
    "from matplotlib import pyplot as plt"
   ]
  },
  {
   "cell_type": "markdown",
   "id": "9dc74505-b2fd-4fe3-a0e9-69cb5d95b075",
   "metadata": {
    "tags": []
   },
   "source": [
    "## Functions"
   ]
  },
  {
   "cell_type": "code",
   "execution_count": 4,
   "id": "65913a4e-fc2a-471d-b78a-0f575da0c430",
   "metadata": {},
   "outputs": [],
   "source": [
    "def distance_levenshtein(str1, str2):\n",
    "    d=dict()\n",
    "    for i in range(len(str1)+1):\n",
    "        d[i]=dict()\n",
    "        d[i][0]=i\n",
    "    for i in range(len(str2)+1):\n",
    "        d[0][i] = i\n",
    "    for i in range(1, len(str1)+1):\n",
    "        for j in range(1, len(str2)+1):\n",
    "            d[i][j] = min(d[i][j-1]+1, d[i-1][j]+1, d[i-1][j-1]+(not str1[i-1] == str2[j-1]))\n",
    "    return d[len(str1)][len(str2)]"
   ]
  },
  {
   "cell_type": "code",
   "execution_count": 5,
   "id": "1b496869-334a-448b-8d52-1ad8c1039086",
   "metadata": {},
   "outputs": [],
   "source": [
    "def normalize_lf(row):\n",
    "    leven2 = []\n",
    "    for i in row:\n",
    "        for j in row:\n",
    "            if i != j:\n",
    "                long = max(len(i),len(j))\n",
    "                ratio = distance_levenshtein(i,j)/long\n",
    "                if ratio < 0.2:\n",
    "                    leven2.append(j)\n",
    "    if leven2:\n",
    "        leven2 = set(leven2)\n",
    "        lista = []\n",
    "        for i in leven2:\n",
    "            #val = frec[frec['index'] == i]['long_form'].iloc[0]\n",
    "            val = frec[frec['index'] == i]['Definition'].iloc[0]\n",
    "            lista.append((i, val))\n",
    "        lista = set(lista)\n",
    "        most_freq = sorted(set(lista), key=lambda x: x[1], reverse = True)[0][0]\n",
    "        sust = {}\n",
    "        for i in set(leven2):\n",
    "            sust[i] = most_freq\n",
    "        \n",
    "        return sust\n",
    "    else:\n",
    "        pass\n",
    "    "
   ]
  },
  {
   "cell_type": "markdown",
   "id": "f5a6dd10-0786-4fe4-9ab0-555e1371fbea",
   "metadata": {
    "tags": []
   },
   "source": [
    "## Process AbreMes DB"
   ]
  },
  {
   "cell_type": "code",
   "execution_count": 137,
   "id": "f376576b-bcdd-47ce-a8d6-26443d405da3",
   "metadata": {
    "tags": []
   },
   "outputs": [],
   "source": [
    "abremes = pd.read_csv(\"../../publicacion/AbreMES-DB/DB/pairs_processed.tsv\", sep = '\\t')"
   ]
  },
  {
   "cell_type": "code",
   "execution_count": 138,
   "id": "2a45b69f-ab99-4922-a97b-b23e52a60219",
   "metadata": {},
   "outputs": [
    {
     "data": {
      "text/html": [
       "<div>\n",
       "<style scoped>\n",
       "    .dataframe tbody tr th:only-of-type {\n",
       "        vertical-align: middle;\n",
       "    }\n",
       "\n",
       "    .dataframe tbody tr th {\n",
       "        vertical-align: top;\n",
       "    }\n",
       "\n",
       "    .dataframe thead th {\n",
       "        text-align: right;\n",
       "    }\n",
       "</style>\n",
       "<table border=\"1\" class=\"dataframe\">\n",
       "  <thead>\n",
       "    <tr style=\"text-align: right;\">\n",
       "      <th></th>\n",
       "      <th>Abbreviation</th>\n",
       "      <th>Definition</th>\n",
       "    </tr>\n",
       "  </thead>\n",
       "  <tbody>\n",
       "    <tr>\n",
       "      <th>0</th>\n",
       "      <td>ZVTN</td>\n",
       "      <td>zonas veredales transitorias de normalizacia3n</td>\n",
       "    </tr>\n",
       "    <tr>\n",
       "      <th>1</th>\n",
       "      <td>ZUA</td>\n",
       "      <td>zona de altima accia3n</td>\n",
       "    </tr>\n",
       "    <tr>\n",
       "      <th>2</th>\n",
       "      <td>ZU</td>\n",
       "      <td>zona de salud urbana</td>\n",
       "    </tr>\n",
       "    <tr>\n",
       "      <th>3</th>\n",
       "      <td>ZU</td>\n",
       "      <td>zonas urbanas</td>\n",
       "    </tr>\n",
       "    <tr>\n",
       "      <th>4</th>\n",
       "      <td>ZTPI</td>\n",
       "      <td>zimbardo time perspective inventory</td>\n",
       "    </tr>\n",
       "  </tbody>\n",
       "</table>\n",
       "</div>"
      ],
      "text/plain": [
       "  Abbreviation                                      Definition\n",
       "0         ZVTN  zonas veredales transitorias de normalizacia3n\n",
       "1          ZUA                          zona de altima accia3n\n",
       "2           ZU                            zona de salud urbana\n",
       "3           ZU                                   zonas urbanas\n",
       "4         ZTPI             zimbardo time perspective inventory"
      ]
     },
     "execution_count": 138,
     "metadata": {},
     "output_type": "execute_result"
    }
   ],
   "source": [
    "abremes.head()"
   ]
  },
  {
   "cell_type": "code",
   "execution_count": 104,
   "id": "57b185ad-b146-482a-ab2e-f8265b3ca050",
   "metadata": {},
   "outputs": [],
   "source": [
    "abremes['Abbreviation'] = abremes['Abbreviation'].str.strip()"
   ]
  },
  {
   "cell_type": "code",
   "execution_count": 105,
   "id": "66ba5199-4f1e-4380-97c4-a6baddcbde7d",
   "metadata": {},
   "outputs": [],
   "source": [
    "abremes['Definition'] = abremes['Definition'].str.lower()"
   ]
  },
  {
   "cell_type": "code",
   "execution_count": 107,
   "id": "063e3b5a-32e9-48fb-8c63-5d662363574b",
   "metadata": {},
   "outputs": [],
   "source": [
    "abremes = abremes.dropna()"
   ]
  },
  {
   "cell_type": "code",
   "execution_count": 108,
   "id": "327d79fc-a39c-476f-b83f-d75968d71aa3",
   "metadata": {},
   "outputs": [],
   "source": [
    "abremes['Definition'] = abremes['Definition'].map(lambda x: unidecode(x))"
   ]
  },
  {
   "cell_type": "code",
   "execution_count": 109,
   "id": "c116207d-a873-4a70-8c0e-0ad7b0459c37",
   "metadata": {},
   "outputs": [],
   "source": [
    "abremes = abremes[['Abbreviation', 'Definition']]\n",
    "abremes = abremes.drop_duplicates()\n",
    "abremes = abremes.dropna()"
   ]
  },
  {
   "cell_type": "code",
   "execution_count": 110,
   "id": "e5a102f6-1867-4243-9b55-58d3d63cdf7b",
   "metadata": {},
   "outputs": [],
   "source": [
    "#abremes['Definition'] = abremes['Definition'].map(lambda x: re.sub(r'\\W+', '', x))"
   ]
  },
  {
   "cell_type": "code",
   "execution_count": 111,
   "id": "2085f7dd-4249-4522-9501-e403cde4ecc8",
   "metadata": {},
   "outputs": [
    {
     "data": {
      "text/html": [
       "<div>\n",
       "<style scoped>\n",
       "    .dataframe tbody tr th:only-of-type {\n",
       "        vertical-align: middle;\n",
       "    }\n",
       "\n",
       "    .dataframe tbody tr th {\n",
       "        vertical-align: top;\n",
       "    }\n",
       "\n",
       "    .dataframe thead th {\n",
       "        text-align: right;\n",
       "    }\n",
       "</style>\n",
       "<table border=\"1\" class=\"dataframe\">\n",
       "  <thead>\n",
       "    <tr style=\"text-align: right;\">\n",
       "      <th></th>\n",
       "      <th>Abbreviation</th>\n",
       "      <th>Definition</th>\n",
       "    </tr>\n",
       "  </thead>\n",
       "  <tbody>\n",
       "    <tr>\n",
       "      <th>5802</th>\n",
       "      <td>TC</td>\n",
       "      <td>tomografaas computarizadas</td>\n",
       "    </tr>\n",
       "    <tr>\n",
       "      <th>5803</th>\n",
       "      <td>TC</td>\n",
       "      <td>tomografaa computarizada</td>\n",
       "    </tr>\n",
       "    <tr>\n",
       "      <th>5804</th>\n",
       "      <td>TC</td>\n",
       "      <td>tomografia computarizada</td>\n",
       "    </tr>\n",
       "    <tr>\n",
       "      <th>5805</th>\n",
       "      <td>TC</td>\n",
       "      <td>tomografaa craneal</td>\n",
       "    </tr>\n",
       "    <tr>\n",
       "      <th>5806</th>\n",
       "      <td>TC</td>\n",
       "      <td>trayectorias clanicas</td>\n",
       "    </tr>\n",
       "    <tr>\n",
       "      <th>...</th>\n",
       "      <td>...</td>\n",
       "      <td>...</td>\n",
       "    </tr>\n",
       "    <tr>\n",
       "      <th>5914</th>\n",
       "      <td>TC</td>\n",
       "      <td>trastornos de la comunicacia3n</td>\n",
       "    </tr>\n",
       "    <tr>\n",
       "      <th>5915</th>\n",
       "      <td>TC</td>\n",
       "      <td>anata3mica</td>\n",
       "    </tr>\n",
       "    <tr>\n",
       "      <th>5917</th>\n",
       "      <td>TC</td>\n",
       "      <td>/tomografaa computerizada</td>\n",
       "    </tr>\n",
       "    <tr>\n",
       "      <th>5918</th>\n",
       "      <td>TC</td>\n",
       "      <td>tomogra!ficas computarizadas</td>\n",
       "    </tr>\n",
       "    <tr>\n",
       "      <th>5919</th>\n",
       "      <td>TC</td>\n",
       "      <td>computarizada craneal</td>\n",
       "    </tr>\n",
       "  </tbody>\n",
       "</table>\n",
       "<p>109 rows × 2 columns</p>\n",
       "</div>"
      ],
      "text/plain": [
       "     Abbreviation                      Definition\n",
       "5802           TC      tomografaas computarizadas\n",
       "5803           TC        tomografaa computarizada\n",
       "5804           TC        tomografia computarizada\n",
       "5805           TC              tomografaa craneal\n",
       "5806           TC           trayectorias clanicas\n",
       "...           ...                             ...\n",
       "5914           TC  trastornos de la comunicacia3n\n",
       "5915           TC                      anata3mica\n",
       "5917           TC       /tomografaa computerizada\n",
       "5918           TC    tomogra!ficas computarizadas\n",
       "5919           TC           computarizada craneal\n",
       "\n",
       "[109 rows x 2 columns]"
      ]
     },
     "execution_count": 111,
     "metadata": {},
     "output_type": "execute_result"
    }
   ],
   "source": [
    "abremes[abremes.Abbreviation == 'TC']"
   ]
  },
  {
   "cell_type": "markdown",
   "id": "7a8a92a4-655b-4f3f-8e3f-f24322a590fd",
   "metadata": {
    "tags": []
   },
   "source": [
    "### Normalize long forms"
   ]
  },
  {
   "cell_type": "code",
   "execution_count": 112,
   "id": "39df9650-c45c-4751-99dd-7b21ae1d484b",
   "metadata": {},
   "outputs": [],
   "source": [
    "sf_lf_test = abremes[['Abbreviation', 'Definition']].drop_duplicates()"
   ]
  },
  {
   "cell_type": "code",
   "execution_count": 113,
   "id": "e97e42c6-b506-4bc6-b9f5-89e5a3310114",
   "metadata": {},
   "outputs": [
    {
     "data": {
      "text/html": [
       "<div>\n",
       "<style scoped>\n",
       "    .dataframe tbody tr th:only-of-type {\n",
       "        vertical-align: middle;\n",
       "    }\n",
       "\n",
       "    .dataframe tbody tr th {\n",
       "        vertical-align: top;\n",
       "    }\n",
       "\n",
       "    .dataframe thead th {\n",
       "        text-align: right;\n",
       "    }\n",
       "</style>\n",
       "<table border=\"1\" class=\"dataframe\">\n",
       "  <thead>\n",
       "    <tr style=\"text-align: right;\">\n",
       "      <th></th>\n",
       "      <th>Abbreviation</th>\n",
       "      <th>Definition</th>\n",
       "      <th>len</th>\n",
       "    </tr>\n",
       "  </thead>\n",
       "  <tbody>\n",
       "    <tr>\n",
       "      <th>9932</th>\n",
       "      <td>II</td>\n",
       "      <td>[situaciones especiales, periodontitis humana, ejecucia3n de tales mecanismos, farmacocina(c)tic...</td>\n",
       "      <td>428</td>\n",
       "    </tr>\n",
       "    <tr>\n",
       "      <th>4693</th>\n",
       "      <td>DE</td>\n",
       "      <td>[edad media, resultados: la media, diferencia promedio, resultados: el valor medio, disfuncia3n ...</td>\n",
       "      <td>138</td>\n",
       "    </tr>\n",
       "    <tr>\n",
       "      <th>2663</th>\n",
       "      <td>CC</td>\n",
       "      <td>[capacidad de campo, circunferencia de cintura, cuatro grupos: control, circunferencia de la cin...</td>\n",
       "      <td>112</td>\n",
       "    </tr>\n",
       "    <tr>\n",
       "      <th>14122</th>\n",
       "      <td>PC</td>\n",
       "      <td>[proteanas carboniladas, paros cardaacos, pensamiento constructivo, peso de cabeza, proteana cru...</td>\n",
       "      <td>112</td>\n",
       "    </tr>\n",
       "    <tr>\n",
       "      <th>18586</th>\n",
       "      <td>TC</td>\n",
       "      <td>[tomografaas computarizadas, tomografaa computarizada, tomografia computarizada, tomografaa cran...</td>\n",
       "      <td>109</td>\n",
       "    </tr>\n",
       "    <tr>\n",
       "      <th>...</th>\n",
       "      <td>...</td>\n",
       "      <td>...</td>\n",
       "      <td>...</td>\n",
       "    </tr>\n",
       "    <tr>\n",
       "      <th>8660</th>\n",
       "      <td>HC/N3</td>\n",
       "      <td>[hidratos de carbono enriquecida con n3]</td>\n",
       "      <td>1</td>\n",
       "    </tr>\n",
       "    <tr>\n",
       "      <th>8662</th>\n",
       "      <td>HCAI</td>\n",
       "      <td>[hidrocefalia cra3nica del adulto idiopa!tica]</td>\n",
       "      <td>1</td>\n",
       "    </tr>\n",
       "    <tr>\n",
       "      <th>8664</th>\n",
       "      <td>HCAMQ</td>\n",
       "      <td>[holistic complementary and alternative medicine questionnaire]</td>\n",
       "      <td>1</td>\n",
       "    </tr>\n",
       "    <tr>\n",
       "      <th>8667</th>\n",
       "      <td>HCBe+</td>\n",
       "      <td>[hepatitis cra3nica b age+]</td>\n",
       "      <td>1</td>\n",
       "    </tr>\n",
       "    <tr>\n",
       "      <th>21993</th>\n",
       "      <td>Ãºltimo aÃ±o</td>\n",
       "      <td>[sufrido algaon tipo de discriminacia3n; maltrato infantil; algaon familiar con problema psicola...</td>\n",
       "      <td>1</td>\n",
       "    </tr>\n",
       "  </tbody>\n",
       "</table>\n",
       "<p>21994 rows × 3 columns</p>\n",
       "</div>"
      ],
      "text/plain": [
       "       Abbreviation  \\\n",
       "9932             II   \n",
       "4693             DE   \n",
       "2663             CC   \n",
       "14122            PC   \n",
       "18586            TC   \n",
       "...             ...   \n",
       "8660          HC/N3   \n",
       "8662           HCAI   \n",
       "8664          HCAMQ   \n",
       "8667          HCBe+   \n",
       "21993  Ãºltimo aÃ±o   \n",
       "\n",
       "                                                                                                Definition  \\\n",
       "9932   [situaciones especiales, periodontitis humana, ejecucia3n de tales mecanismos, farmacocina(c)tic...   \n",
       "4693   [edad media, resultados: la media, diferencia promedio, resultados: el valor medio, disfuncia3n ...   \n",
       "2663   [capacidad de campo, circunferencia de cintura, cuatro grupos: control, circunferencia de la cin...   \n",
       "14122  [proteanas carboniladas, paros cardaacos, pensamiento constructivo, peso de cabeza, proteana cru...   \n",
       "18586  [tomografaas computarizadas, tomografaa computarizada, tomografia computarizada, tomografaa cran...   \n",
       "...                                                                                                    ...   \n",
       "8660                                                              [hidratos de carbono enriquecida con n3]   \n",
       "8662                                                        [hidrocefalia cra3nica del adulto idiopa!tica]   \n",
       "8664                                       [holistic complementary and alternative medicine questionnaire]   \n",
       "8667                                                                           [hepatitis cra3nica b age+]   \n",
       "21993  [sufrido algaon tipo de discriminacia3n; maltrato infantil; algaon familiar con problema psicola...   \n",
       "\n",
       "       len  \n",
       "9932   428  \n",
       "4693   138  \n",
       "2663   112  \n",
       "14122  112  \n",
       "18586  109  \n",
       "...    ...  \n",
       "8660     1  \n",
       "8662     1  \n",
       "8664     1  \n",
       "8667     1  \n",
       "21993    1  \n",
       "\n",
       "[21994 rows x 3 columns]"
      ]
     },
     "execution_count": 113,
     "metadata": {},
     "output_type": "execute_result"
    }
   ],
   "source": [
    "sf_lf_list_test = sf_lf_test.groupby('Abbreviation', as_index=False).agg({'Definition': list})\n",
    "sf_lf_list_test['len'] = sf_lf_list_test['Definition'].map(lambda x: len(x))\n",
    "sf_lf_list_test.sort_values('len', ascending = False)"
   ]
  },
  {
   "cell_type": "markdown",
   "id": "f960ed1c-946e-4782-9767-ca271d785aac",
   "metadata": {},
   "source": [
    "#### Apply Levenshtein distance to normalize Long Forms"
   ]
  },
  {
   "cell_type": "markdown",
   "id": "9d6693bb-72a6-42b8-949d-d52b030fbea3",
   "metadata": {},
   "source": [
    "Get more frequent lf per sf"
   ]
  },
  {
   "cell_type": "code",
   "execution_count": 114,
   "id": "019b54a4-0153-49f2-bdce-717fa1058874",
   "metadata": {},
   "outputs": [
    {
     "data": {
      "text/html": [
       "<div>\n",
       "<style scoped>\n",
       "    .dataframe tbody tr th:only-of-type {\n",
       "        vertical-align: middle;\n",
       "    }\n",
       "\n",
       "    .dataframe tbody tr th {\n",
       "        vertical-align: top;\n",
       "    }\n",
       "\n",
       "    .dataframe thead th {\n",
       "        text-align: right;\n",
       "    }\n",
       "</style>\n",
       "<table border=\"1\" class=\"dataframe\">\n",
       "  <thead>\n",
       "    <tr style=\"text-align: right;\">\n",
       "      <th></th>\n",
       "      <th>index</th>\n",
       "      <th>Definition</th>\n",
       "    </tr>\n",
       "  </thead>\n",
       "  <tbody>\n",
       "    <tr>\n",
       "      <th>0</th>\n",
       "      <td>#anombre?</td>\n",
       "      <td>45</td>\n",
       "    </tr>\n",
       "    <tr>\n",
       "      <th>1</th>\n",
       "      <td>por ciento</td>\n",
       "      <td>10</td>\n",
       "    </tr>\n",
       "    <tr>\n",
       "      <th>2</th>\n",
       "      <td>factor de necrosis tumoral alfa</td>\n",
       "      <td>9</td>\n",
       "    </tr>\n",
       "    <tr>\n",
       "      <th>3</th>\n",
       "      <td>internacional</td>\n",
       "      <td>9</td>\n",
       "    </tr>\n",
       "    <tr>\n",
       "      <th>4</th>\n",
       "      <td>respiratoria</td>\n",
       "      <td>8</td>\n",
       "    </tr>\n",
       "    <tr>\n",
       "      <th>...</th>\n",
       "      <td>...</td>\n",
       "      <td>...</td>\n",
       "    </tr>\n",
       "    <tr>\n",
       "      <th>49366</th>\n",
       "      <td>producto cruzado</td>\n",
       "      <td>1</td>\n",
       "    </tr>\n",
       "    <tr>\n",
       "      <th>49367</th>\n",
       "      <td>con raza3n de momios</td>\n",
       "      <td>1</td>\n",
       "    </tr>\n",
       "    <tr>\n",
       "      <th>49368</th>\n",
       "      <td>como seguros</td>\n",
       "      <td>1</td>\n",
       "    </tr>\n",
       "    <tr>\n",
       "      <th>49369</th>\n",
       "      <td>respectivasodds ratios</td>\n",
       "      <td>1</td>\n",
       "    </tr>\n",
       "    <tr>\n",
       "      <th>49370</th>\n",
       "      <td>ag omega-3</td>\n",
       "      <td>1</td>\n",
       "    </tr>\n",
       "  </tbody>\n",
       "</table>\n",
       "<p>49371 rows × 2 columns</p>\n",
       "</div>"
      ],
      "text/plain": [
       "                                 index  Definition\n",
       "0                            #anombre?          45\n",
       "1                           por ciento          10\n",
       "2      factor de necrosis tumoral alfa           9\n",
       "3                        internacional           9\n",
       "4                         respiratoria           8\n",
       "...                                ...         ...\n",
       "49366                 producto cruzado           1\n",
       "49367             con raza3n de momios           1\n",
       "49368                     como seguros           1\n",
       "49369           respectivasodds ratios           1\n",
       "49370                       ag omega-3           1\n",
       "\n",
       "[49371 rows x 2 columns]"
      ]
     },
     "execution_count": 114,
     "metadata": {},
     "output_type": "execute_result"
    }
   ],
   "source": [
    "frec = abremes['Definition'].value_counts().reset_index()\n",
    "frec"
   ]
  },
  {
   "cell_type": "markdown",
   "id": "b732b559-dc60-4fc7-b422-bc136ce27ad5",
   "metadata": {},
   "source": [
    "Create a dictionary where keys are the lf to normalize and the values the normalized form"
   ]
  },
  {
   "cell_type": "code",
   "execution_count": 115,
   "id": "ad1791c5-728c-427b-8fef-15f9cfbc39ca",
   "metadata": {},
   "outputs": [],
   "source": [
    "norm_test = []\n",
    "for i in sf_lf_list_test['Definition']:\n",
    "    norm_test.append(normalize_lf(i))"
   ]
  },
  {
   "cell_type": "code",
   "execution_count": 116,
   "id": "b79f4695-5eb3-489a-bdcd-1c0a518db2ed",
   "metadata": {},
   "outputs": [],
   "source": [
    "norm_test = [i for i in norm_test if i != None]"
   ]
  },
  {
   "cell_type": "code",
   "execution_count": 117,
   "id": "7b5f0b48-3b3c-4f4c-be74-01f85430e603",
   "metadata": {
    "tags": []
   },
   "outputs": [],
   "source": [
    "norm_dict_test = {}\n",
    "for i in norm_test:\n",
    "    norm_dict_test.update(i)\n",
    "#norm_dict"
   ]
  },
  {
   "cell_type": "markdown",
   "id": "1ca3f454-c7b0-4916-a061-f7be895d5a66",
   "metadata": {},
   "source": [
    "Finally normalize long forms over the dataframe"
   ]
  },
  {
   "cell_type": "code",
   "execution_count": 118,
   "id": "5c47fe5c-154a-4b5a-bdd1-6bc689326faa",
   "metadata": {},
   "outputs": [
    {
     "data": {
      "text/html": [
       "<div>\n",
       "<style scoped>\n",
       "    .dataframe tbody tr th:only-of-type {\n",
       "        vertical-align: middle;\n",
       "    }\n",
       "\n",
       "    .dataframe tbody tr th {\n",
       "        vertical-align: top;\n",
       "    }\n",
       "\n",
       "    .dataframe thead th {\n",
       "        text-align: right;\n",
       "    }\n",
       "</style>\n",
       "<table border=\"1\" class=\"dataframe\">\n",
       "  <thead>\n",
       "    <tr style=\"text-align: right;\">\n",
       "      <th></th>\n",
       "      <th>Abbreviation</th>\n",
       "      <th>Definition</th>\n",
       "    </tr>\n",
       "  </thead>\n",
       "  <tbody>\n",
       "    <tr>\n",
       "      <th>0</th>\n",
       "      <td>ZVTN</td>\n",
       "      <td>zonas veredales transitorias de normalizacia3n</td>\n",
       "    </tr>\n",
       "    <tr>\n",
       "      <th>1</th>\n",
       "      <td>ZUA</td>\n",
       "      <td>zona de altima accia3n</td>\n",
       "    </tr>\n",
       "    <tr>\n",
       "      <th>2</th>\n",
       "      <td>ZU</td>\n",
       "      <td>zona de salud urbana</td>\n",
       "    </tr>\n",
       "    <tr>\n",
       "      <th>3</th>\n",
       "      <td>ZU</td>\n",
       "      <td>zonas urbanas</td>\n",
       "    </tr>\n",
       "    <tr>\n",
       "      <th>4</th>\n",
       "      <td>ZTPI</td>\n",
       "      <td>zimbardo time perspective inventory</td>\n",
       "    </tr>\n",
       "  </tbody>\n",
       "</table>\n",
       "</div>"
      ],
      "text/plain": [
       "  Abbreviation                                      Definition\n",
       "0         ZVTN  zonas veredales transitorias de normalizacia3n\n",
       "1          ZUA                          zona de altima accia3n\n",
       "2           ZU                            zona de salud urbana\n",
       "3           ZU                                   zonas urbanas\n",
       "4         ZTPI             zimbardo time perspective inventory"
      ]
     },
     "execution_count": 118,
     "metadata": {},
     "output_type": "execute_result"
    }
   ],
   "source": [
    "abremes.head()"
   ]
  },
  {
   "cell_type": "code",
   "execution_count": 119,
   "id": "5e099f31-44b0-4b72-82f4-aae2c2edb30a",
   "metadata": {},
   "outputs": [],
   "source": [
    "abremes = abremes.replace({\"Definition\": norm_dict_test})"
   ]
  },
  {
   "cell_type": "code",
   "execution_count": 120,
   "id": "4746fbc4-f91e-4d3c-905f-e11bf29b8bf7",
   "metadata": {},
   "outputs": [
    {
     "data": {
      "text/html": [
       "<div>\n",
       "<style scoped>\n",
       "    .dataframe tbody tr th:only-of-type {\n",
       "        vertical-align: middle;\n",
       "    }\n",
       "\n",
       "    .dataframe tbody tr th {\n",
       "        vertical-align: top;\n",
       "    }\n",
       "\n",
       "    .dataframe thead th {\n",
       "        text-align: right;\n",
       "    }\n",
       "</style>\n",
       "<table border=\"1\" class=\"dataframe\">\n",
       "  <thead>\n",
       "    <tr style=\"text-align: right;\">\n",
       "      <th></th>\n",
       "      <th>Abbreviation</th>\n",
       "      <th>Definition</th>\n",
       "    </tr>\n",
       "  </thead>\n",
       "  <tbody>\n",
       "    <tr>\n",
       "      <th>0</th>\n",
       "      <td>ZVTN</td>\n",
       "      <td>zonas veredales transitorias de normalizacia3n</td>\n",
       "    </tr>\n",
       "    <tr>\n",
       "      <th>1</th>\n",
       "      <td>ZUA</td>\n",
       "      <td>zona de altima accia3n</td>\n",
       "    </tr>\n",
       "    <tr>\n",
       "      <th>2</th>\n",
       "      <td>ZU</td>\n",
       "      <td>zona de salud urbana</td>\n",
       "    </tr>\n",
       "    <tr>\n",
       "      <th>3</th>\n",
       "      <td>ZU</td>\n",
       "      <td>zonas urbanas</td>\n",
       "    </tr>\n",
       "    <tr>\n",
       "      <th>4</th>\n",
       "      <td>ZTPI</td>\n",
       "      <td>zimbardo time perspective inventory</td>\n",
       "    </tr>\n",
       "  </tbody>\n",
       "</table>\n",
       "</div>"
      ],
      "text/plain": [
       "  Abbreviation                                      Definition\n",
       "0         ZVTN  zonas veredales transitorias de normalizacia3n\n",
       "1          ZUA                          zona de altima accia3n\n",
       "2           ZU                            zona de salud urbana\n",
       "3           ZU                                   zonas urbanas\n",
       "4         ZTPI             zimbardo time perspective inventory"
      ]
     },
     "execution_count": 120,
     "metadata": {},
     "output_type": "execute_result"
    }
   ],
   "source": [
    "abremes.head()"
   ]
  },
  {
   "cell_type": "code",
   "execution_count": 121,
   "id": "c3636964-5c3f-4329-8293-28fd58185ad4",
   "metadata": {},
   "outputs": [],
   "source": [
    "abremes = abremes.drop_duplicates()"
   ]
  },
  {
   "cell_type": "code",
   "execution_count": 122,
   "id": "5a0c2547-e095-4dc0-9e15-80fbe48a62be",
   "metadata": {},
   "outputs": [
    {
     "data": {
      "text/html": [
       "<div>\n",
       "<style scoped>\n",
       "    .dataframe tbody tr th:only-of-type {\n",
       "        vertical-align: middle;\n",
       "    }\n",
       "\n",
       "    .dataframe tbody tr th {\n",
       "        vertical-align: top;\n",
       "    }\n",
       "\n",
       "    .dataframe thead th {\n",
       "        text-align: right;\n",
       "    }\n",
       "</style>\n",
       "<table border=\"1\" class=\"dataframe\">\n",
       "  <thead>\n",
       "    <tr style=\"text-align: right;\">\n",
       "      <th></th>\n",
       "      <th>Abbreviation</th>\n",
       "      <th>Definition</th>\n",
       "    </tr>\n",
       "  </thead>\n",
       "  <tbody>\n",
       "    <tr>\n",
       "      <th>28580</th>\n",
       "      <td>II</td>\n",
       "      <td>situaciones especiales</td>\n",
       "    </tr>\n",
       "    <tr>\n",
       "      <th>28581</th>\n",
       "      <td>II</td>\n",
       "      <td>periodontitis humana</td>\n",
       "    </tr>\n",
       "    <tr>\n",
       "      <th>28582</th>\n",
       "      <td>II</td>\n",
       "      <td>ejecucia3n de tales mecanismos</td>\n",
       "    </tr>\n",
       "    <tr>\n",
       "      <th>28583</th>\n",
       "      <td>II</td>\n",
       "      <td>farmacocina(c)ticas</td>\n",
       "    </tr>\n",
       "    <tr>\n",
       "      <th>28584</th>\n",
       "      <td>II</td>\n",
       "      <td>activos y 6 sedentarios</td>\n",
       "    </tr>\n",
       "    <tr>\n",
       "      <th>...</th>\n",
       "      <td>...</td>\n",
       "      <td>...</td>\n",
       "    </tr>\n",
       "    <tr>\n",
       "      <th>29012</th>\n",
       "      <td>II</td>\n",
       "      <td>clanico de una sacrolumbalgia</td>\n",
       "    </tr>\n",
       "    <tr>\n",
       "      <th>29013</th>\n",
       "      <td>II</td>\n",
       "      <td>tiempos de don quijote</td>\n",
       "    </tr>\n",
       "    <tr>\n",
       "      <th>29014</th>\n",
       "      <td>II</td>\n",
       "      <td>hospitalariosen espaa+-a</td>\n",
       "    </tr>\n",
       "    <tr>\n",
       "      <th>29015</th>\n",
       "      <td>II</td>\n",
       "      <td>presenciada sin rcp-a</td>\n",
       "    </tr>\n",
       "    <tr>\n",
       "      <th>29016</th>\n",
       "      <td>II</td>\n",
       "      <td>prevalencia creciente</td>\n",
       "    </tr>\n",
       "  </tbody>\n",
       "</table>\n",
       "<p>385 rows × 2 columns</p>\n",
       "</div>"
      ],
      "text/plain": [
       "      Abbreviation                      Definition\n",
       "28580           II          situaciones especiales\n",
       "28581           II            periodontitis humana\n",
       "28582           II  ejecucia3n de tales mecanismos\n",
       "28583           II             farmacocina(c)ticas\n",
       "28584           II         activos y 6 sedentarios\n",
       "...            ...                             ...\n",
       "29012           II   clanico de una sacrolumbalgia\n",
       "29013           II          tiempos de don quijote\n",
       "29014           II        hospitalariosen espaa+-a\n",
       "29015           II           presenciada sin rcp-a\n",
       "29016           II           prevalencia creciente\n",
       "\n",
       "[385 rows x 2 columns]"
      ]
     },
     "execution_count": 122,
     "metadata": {},
     "output_type": "execute_result"
    }
   ],
   "source": [
    "abremes[abremes.Abbreviation == 'II']"
   ]
  },
  {
   "cell_type": "code",
   "execution_count": 123,
   "id": "445be052-f419-44d0-97f1-10c791e3e98a",
   "metadata": {},
   "outputs": [
    {
     "data": {
      "text/plain": [
       "41817"
      ]
     },
     "execution_count": 123,
     "metadata": {},
     "output_type": "execute_result"
    }
   ],
   "source": [
    "abremes.Definition.nunique()"
   ]
  },
  {
   "cell_type": "code",
   "execution_count": 124,
   "id": "82e114b3-1102-4f69-a492-4c02c66cba1a",
   "metadata": {},
   "outputs": [],
   "source": [
    "#abremes_dict = dict(zip(abremes.Abbreviation, abremes.Definition))"
   ]
  },
  {
   "cell_type": "code",
   "execution_count": 125,
   "id": "ff825e79-2fa9-470d-9994-74f8bec5ab14",
   "metadata": {},
   "outputs": [],
   "source": [
    "#import json\n",
    "\n",
    "#with open('abremes_dictionary.txt', 'w') as file:\n",
    "#     file.write(json.dumps(abremes_dict))"
   ]
  },
  {
   "cell_type": "code",
   "execution_count": 126,
   "id": "6f40a094-af0f-47f8-9c33-665724e8cb8b",
   "metadata": {},
   "outputs": [
    {
     "data": {
      "text/html": [
       "<div>\n",
       "<style scoped>\n",
       "    .dataframe tbody tr th:only-of-type {\n",
       "        vertical-align: middle;\n",
       "    }\n",
       "\n",
       "    .dataframe tbody tr th {\n",
       "        vertical-align: top;\n",
       "    }\n",
       "\n",
       "    .dataframe thead th {\n",
       "        text-align: right;\n",
       "    }\n",
       "</style>\n",
       "<table border=\"1\" class=\"dataframe\">\n",
       "  <thead>\n",
       "    <tr style=\"text-align: right;\">\n",
       "      <th></th>\n",
       "      <th>Abbreviation</th>\n",
       "      <th>Definition</th>\n",
       "    </tr>\n",
       "  </thead>\n",
       "  <tbody>\n",
       "    <tr>\n",
       "      <th>55578</th>\n",
       "      <td>1 -MCP</td>\n",
       "      <td>1-metilciclopropeno</td>\n",
       "    </tr>\n",
       "    <tr>\n",
       "      <th>55576</th>\n",
       "      <td>1 min</td>\n",
       "      <td>1,13 min</td>\n",
       "    </tr>\n",
       "    <tr>\n",
       "      <th>55577</th>\n",
       "      <td>1 mÂ²</td>\n",
       "      <td>10 trampas</td>\n",
       "    </tr>\n",
       "    <tr>\n",
       "      <th>55570</th>\n",
       "      <td>1,3-PD</td>\n",
       "      <td>1,3 propanodiol</td>\n",
       "    </tr>\n",
       "    <tr>\n",
       "      <th>55575</th>\n",
       "      <td>1-149 meses</td>\n",
       "      <td>51,31 + 47,98 meses</td>\n",
       "    </tr>\n",
       "  </tbody>\n",
       "</table>\n",
       "</div>"
      ],
      "text/plain": [
       "      Abbreviation           Definition\n",
       "55578       1 -MCP  1-metilciclopropeno\n",
       "55576        1 min             1,13 min\n",
       "55577        1 mÂ²           10 trampas\n",
       "55570       1,3-PD      1,3 propanodiol\n",
       "55575  1-149 meses  51,31 + 47,98 meses"
      ]
     },
     "execution_count": 126,
     "metadata": {},
     "output_type": "execute_result"
    }
   ],
   "source": [
    "abremes.sort_values(by = 'Abbreviation',ascending = True).head()"
   ]
  },
  {
   "cell_type": "code",
   "execution_count": 127,
   "id": "40666e62-0b6e-4876-baea-7c4fd43e1d3e",
   "metadata": {},
   "outputs": [],
   "source": [
    "abremes.to_csv(\"../../publicacion/AbreMES-DB/DB/pairs_processed.tsv\", sep = '\\t', index = False)"
   ]
  },
  {
   "cell_type": "code",
   "execution_count": 128,
   "id": "455895e6-332a-4859-b35c-788d627465b6",
   "metadata": {},
   "outputs": [],
   "source": [
    "#Filter AbreMes just to get the SF os test"
   ]
  },
  {
   "cell_type": "code",
   "execution_count": 130,
   "id": "6a106c6b-6109-4fae-8c80-ebad3beffeca",
   "metadata": {},
   "outputs": [],
   "source": [
    "test = pd.read_csv('../../data/abril23/test_abbreviation.csv', sep = '\\t')"
   ]
  },
  {
   "cell_type": "code",
   "execution_count": 132,
   "id": "3895cf33-5af1-4fd5-9312-94055c85a265",
   "metadata": {},
   "outputs": [],
   "source": [
    "test_abremes = abremes.merge(test, on = 'Abbreviation', how = 'inner')"
   ]
  },
  {
   "cell_type": "code",
   "execution_count": 133,
   "id": "254ca42d-9b24-4abe-bbff-b2130c0730dd",
   "metadata": {},
   "outputs": [
    {
     "data": {
      "text/plain": [
       "(3344, 2)"
      ]
     },
     "execution_count": 133,
     "metadata": {},
     "output_type": "execute_result"
    }
   ],
   "source": [
    "test_abremes.shape"
   ]
  },
  {
   "cell_type": "code",
   "execution_count": 134,
   "id": "a8516f5e-56b2-40d6-b8d2-b6fd1c2864d5",
   "metadata": {},
   "outputs": [],
   "source": [
    "test_abremes.to_csv(\"../../publicacion/AbreMES-DB/DB/test_abremes.tsv\", sep = '\\t', index = False)"
   ]
  },
  {
   "cell_type": "markdown",
   "id": "8e087104-79ef-473d-b8ca-99af5e3d9005",
   "metadata": {},
   "source": [
    "Filter to get just the definitions that starts with the same letter of the sf"
   ]
  },
  {
   "cell_type": "code",
   "execution_count": 147,
   "id": "8843dbca-63c0-40e6-b41d-823c4f6db91f",
   "metadata": {},
   "outputs": [],
   "source": [
    "test_abremes = pd.read_csv(\"../../publicacion/AbreMES-DB/DB/test_abremes.tsv\", sep = '\\t')"
   ]
  },
  {
   "cell_type": "code",
   "execution_count": 148,
   "id": "217c5d87-2f62-469c-b8fb-6e19e8d89eaa",
   "metadata": {},
   "outputs": [],
   "source": [
    "test_abremes['lista'] = test_abremes.Definition.map(lambda x: x.split())"
   ]
  },
  {
   "cell_type": "code",
   "execution_count": 149,
   "id": "a19f05dd-dff2-4336-a020-2f4305e4aaae",
   "metadata": {},
   "outputs": [],
   "source": [
    "test_abremes['primera'] = test_abremes.lista.map(lambda x: x[0][0])"
   ]
  },
  {
   "cell_type": "code",
   "execution_count": 150,
   "id": "f6b41945-8058-4201-848b-88e13763cf6c",
   "metadata": {},
   "outputs": [
    {
     "data": {
      "text/html": [
       "<div>\n",
       "<style scoped>\n",
       "    .dataframe tbody tr th:only-of-type {\n",
       "        vertical-align: middle;\n",
       "    }\n",
       "\n",
       "    .dataframe tbody tr th {\n",
       "        vertical-align: top;\n",
       "    }\n",
       "\n",
       "    .dataframe thead th {\n",
       "        text-align: right;\n",
       "    }\n",
       "</style>\n",
       "<table border=\"1\" class=\"dataframe\">\n",
       "  <thead>\n",
       "    <tr style=\"text-align: right;\">\n",
       "      <th></th>\n",
       "      <th>Abbreviation</th>\n",
       "      <th>Definition</th>\n",
       "      <th>lista</th>\n",
       "      <th>primera</th>\n",
       "    </tr>\n",
       "  </thead>\n",
       "  <tbody>\n",
       "    <tr>\n",
       "      <th>0</th>\n",
       "      <td>Zn</td>\n",
       "      <td>zinc</td>\n",
       "      <td>[zinc]</td>\n",
       "      <td>z</td>\n",
       "    </tr>\n",
       "    <tr>\n",
       "      <th>1</th>\n",
       "      <td>Zn</td>\n",
       "      <td>zonas 1 y 2</td>\n",
       "      <td>[zonas, 1, y, 2]</td>\n",
       "      <td>z</td>\n",
       "    </tr>\n",
       "    <tr>\n",
       "      <th>2</th>\n",
       "      <td>Zn</td>\n",
       "      <td>aznalca3llar</td>\n",
       "      <td>[aznalca3llar]</td>\n",
       "      <td>a</td>\n",
       "    </tr>\n",
       "    <tr>\n",
       "      <th>3</th>\n",
       "      <td>XL</td>\n",
       "      <td>extra-large</td>\n",
       "      <td>[extra-large]</td>\n",
       "      <td>e</td>\n",
       "    </tr>\n",
       "    <tr>\n",
       "      <th>4</th>\n",
       "      <td>WPW</td>\n",
       "      <td>wolff-parkinson-white</td>\n",
       "      <td>[wolff-parkinson-white]</td>\n",
       "      <td>w</td>\n",
       "    </tr>\n",
       "  </tbody>\n",
       "</table>\n",
       "</div>"
      ],
      "text/plain": [
       "  Abbreviation             Definition                    lista primera\n",
       "0           Zn                   zinc                   [zinc]       z\n",
       "1           Zn            zonas 1 y 2         [zonas, 1, y, 2]       z\n",
       "2           Zn           aznalca3llar           [aznalca3llar]       a\n",
       "3           XL            extra-large            [extra-large]       e\n",
       "4          WPW  wolff-parkinson-white  [wolff-parkinson-white]       w"
      ]
     },
     "execution_count": 150,
     "metadata": {},
     "output_type": "execute_result"
    }
   ],
   "source": [
    "test_abremes.head()"
   ]
  },
  {
   "cell_type": "code",
   "execution_count": 151,
   "id": "25051a88-9795-4103-be5a-815c897f6607",
   "metadata": {},
   "outputs": [
    {
     "data": {
      "text/plain": [
       "(2985, 4)"
      ]
     },
     "execution_count": 151,
     "metadata": {},
     "output_type": "execute_result"
    }
   ],
   "source": [
    "test_abremes.shape"
   ]
  },
  {
   "cell_type": "code",
   "execution_count": 152,
   "id": "6ab7ea7c-bf11-4f68-9b35-88c807476588",
   "metadata": {},
   "outputs": [],
   "source": [
    "def match(row):\n",
    "    if row['Abbreviation'][0].lower() == row['primera'].lower():\n",
    "        return 1\n",
    "    else:\n",
    "        return 0"
   ]
  },
  {
   "cell_type": "code",
   "execution_count": 153,
   "id": "673137e4-8f41-4bda-9d56-b6287f0d6cae",
   "metadata": {},
   "outputs": [],
   "source": [
    "test_abremes['match'] = test_abremes.apply(match, axis = 1)"
   ]
  },
  {
   "cell_type": "code",
   "execution_count": 155,
   "id": "ef051823-75b8-4ffd-beba-3b188985769f",
   "metadata": {},
   "outputs": [
    {
     "data": {
      "text/plain": [
       "1    2040\n",
       "0     945\n",
       "Name: match, dtype: int64"
      ]
     },
     "execution_count": 155,
     "metadata": {},
     "output_type": "execute_result"
    }
   ],
   "source": [
    "test_abremes.match.value_counts()"
   ]
  },
  {
   "cell_type": "code",
   "execution_count": 156,
   "id": "9c4ba4bb-429e-4fc9-b365-94e728e41755",
   "metadata": {},
   "outputs": [],
   "source": [
    "test_abremes = test_abremes[test_abremes.match == 1]"
   ]
  },
  {
   "cell_type": "code",
   "execution_count": 158,
   "id": "280930c5-66c9-4553-b61f-53f300593aaf",
   "metadata": {},
   "outputs": [],
   "source": [
    "test_abremes = test_abremes[['Abbreviation', 'Definition']]"
   ]
  },
  {
   "cell_type": "code",
   "execution_count": 159,
   "id": "2620d711-6fe8-4a03-b62f-3773703c5a82",
   "metadata": {},
   "outputs": [],
   "source": [
    "test_abremes.to_csv(\"../../publicacion/AbreMES-DB/DB/test_abremes.tsv\", sep = '\\t', index = False)"
   ]
  },
  {
   "cell_type": "markdown",
   "id": "cc217a56-6e96-402f-a593-e0b6bff84064",
   "metadata": {
    "tags": []
   },
   "source": [
    "## Get texts AbreMes DB"
   ]
  },
  {
   "cell_type": "markdown",
   "id": "33c62101-d714-4c47-97cc-876419498db2",
   "metadata": {},
   "source": [
    "Abremes pairs sf-lf processed (removing noise)"
   ]
  },
  {
   "cell_type": "code",
   "execution_count": 179,
   "id": "b86f5e89-4d7f-4554-9932-5a538744cf2a",
   "metadata": {
    "tags": []
   },
   "outputs": [],
   "source": [
    "abremes = pd.read_csv(\"../../publicacion/AbreMES-DB/DB/pairs_processed.tsv\", sep = '\\t')"
   ]
  },
  {
   "cell_type": "code",
   "execution_count": 180,
   "id": "69219ff4-13ce-4a34-bb0d-615e71a02c64",
   "metadata": {},
   "outputs": [
    {
     "data": {
      "text/html": [
       "<div>\n",
       "<style scoped>\n",
       "    .dataframe tbody tr th:only-of-type {\n",
       "        vertical-align: middle;\n",
       "    }\n",
       "\n",
       "    .dataframe tbody tr th {\n",
       "        vertical-align: top;\n",
       "    }\n",
       "\n",
       "    .dataframe thead th {\n",
       "        text-align: right;\n",
       "    }\n",
       "</style>\n",
       "<table border=\"1\" class=\"dataframe\">\n",
       "  <thead>\n",
       "    <tr style=\"text-align: right;\">\n",
       "      <th></th>\n",
       "      <th>Abbreviation</th>\n",
       "      <th>Definition</th>\n",
       "    </tr>\n",
       "  </thead>\n",
       "  <tbody>\n",
       "    <tr>\n",
       "      <th>0</th>\n",
       "      <td>ZVTN</td>\n",
       "      <td>zonas veredales transitorias de normalizacia3n</td>\n",
       "    </tr>\n",
       "    <tr>\n",
       "      <th>1</th>\n",
       "      <td>ZUA</td>\n",
       "      <td>zona de altima accia3n</td>\n",
       "    </tr>\n",
       "    <tr>\n",
       "      <th>2</th>\n",
       "      <td>ZU</td>\n",
       "      <td>zona de salud urbana</td>\n",
       "    </tr>\n",
       "    <tr>\n",
       "      <th>3</th>\n",
       "      <td>ZU</td>\n",
       "      <td>zonas urbanas</td>\n",
       "    </tr>\n",
       "    <tr>\n",
       "      <th>4</th>\n",
       "      <td>ZTPI</td>\n",
       "      <td>zimbardo time perspective inventory</td>\n",
       "    </tr>\n",
       "  </tbody>\n",
       "</table>\n",
       "</div>"
      ],
      "text/plain": [
       "  Abbreviation                                      Definition\n",
       "0         ZVTN  zonas veredales transitorias de normalizacia3n\n",
       "1          ZUA                          zona de altima accia3n\n",
       "2           ZU                            zona de salud urbana\n",
       "3           ZU                                   zonas urbanas\n",
       "4         ZTPI             zimbardo time perspective inventory"
      ]
     },
     "execution_count": 180,
     "metadata": {},
     "output_type": "execute_result"
    }
   ],
   "source": [
    "abremes.head()"
   ]
  },
  {
   "cell_type": "code",
   "execution_count": 192,
   "id": "347989d3-c066-4095-a565-a24fd3e13a7d",
   "metadata": {},
   "outputs": [
    {
     "data": {
      "text/plain": [
       "21994"
      ]
     },
     "execution_count": 192,
     "metadata": {},
     "output_type": "execute_result"
    }
   ],
   "source": [
    "abremes.Abbreviation.nunique()"
   ]
  },
  {
   "cell_type": "markdown",
   "id": "cc56cdfe-12b8-40b8-9a19-ace12ffe1e86",
   "metadata": {},
   "source": [
    "Ger abbreviations with the url of the text"
   ]
  },
  {
   "cell_type": "code",
   "execution_count": 210,
   "id": "a9105c56-149c-4730-9871-5d8b56c7a7ea",
   "metadata": {
    "tags": []
   },
   "outputs": [],
   "source": [
    "abre = pd.read_csv(\"../../publicacion/AbreMES-DB/DB/abbreviations.tsv\", sep = '\\t')"
   ]
  },
  {
   "cell_type": "code",
   "execution_count": 219,
   "id": "71670406-65f5-4ca4-b38c-834aa09f4cb6",
   "metadata": {},
   "outputs": [],
   "source": [
    "abre['Definitions'] = abre['Definitions'].map(lambda x: x.split(','))"
   ]
  },
  {
   "cell_type": "code",
   "execution_count": 221,
   "id": "4d974c16-3adb-4183-80dd-83b76a795954",
   "metadata": {},
   "outputs": [],
   "source": [
    "abre = abre[['Abbreviation', 'Definitions','Appears on']]"
   ]
  },
  {
   "cell_type": "code",
   "execution_count": 222,
   "id": "b0344916-e78b-49e2-9397-1a7e452e6823",
   "metadata": {},
   "outputs": [],
   "source": [
    "abre = abre.explode('Definitions')"
   ]
  },
  {
   "cell_type": "code",
   "execution_count": 223,
   "id": "51cc9784-d800-4682-a3dd-4094e6f3d58b",
   "metadata": {},
   "outputs": [
    {
     "data": {
      "text/html": [
       "<div>\n",
       "<style scoped>\n",
       "    .dataframe tbody tr th:only-of-type {\n",
       "        vertical-align: middle;\n",
       "    }\n",
       "\n",
       "    .dataframe tbody tr th {\n",
       "        vertical-align: top;\n",
       "    }\n",
       "\n",
       "    .dataframe thead th {\n",
       "        text-align: right;\n",
       "    }\n",
       "</style>\n",
       "<table border=\"1\" class=\"dataframe\">\n",
       "  <thead>\n",
       "    <tr style=\"text-align: right;\">\n",
       "      <th></th>\n",
       "      <th>Abbreviation</th>\n",
       "      <th>Definitions</th>\n",
       "      <th>Appears on</th>\n",
       "    </tr>\n",
       "  </thead>\n",
       "  <tbody>\n",
       "    <tr>\n",
       "      <th>0</th>\n",
       "      <td>Edaom</td>\n",
       "      <td>1</td>\n",
       "      <td>http://www.scielo.org.co/scielo.php?script=sci_arttext&amp;pid=S0123-12942011000100006</td>\n",
       "    </tr>\n",
       "    <tr>\n",
       "      <th>1</th>\n",
       "      <td>el ser</td>\n",
       "      <td>2</td>\n",
       "      <td>http://www.scielo.org.co/scielo.php?script=sci_arttext&amp;pid=S0123-12942012000100008</td>\n",
       "    </tr>\n",
       "    <tr>\n",
       "      <th>2</th>\n",
       "      <td>ICE</td>\n",
       "      <td>44878</td>\n",
       "      <td>ibc-142240,ibc-145014,http://www.scielo.org.co/scielo.php?script=sci_arttext&amp;pid=S0123-129420140...</td>\n",
       "    </tr>\n",
       "    <tr>\n",
       "      <th>2</th>\n",
       "      <td>ICE</td>\n",
       "      <td>42211</td>\n",
       "      <td>ibc-142240,ibc-145014,http://www.scielo.org.co/scielo.php?script=sci_arttext&amp;pid=S0123-129420140...</td>\n",
       "    </tr>\n",
       "    <tr>\n",
       "      <th>2</th>\n",
       "      <td>ICE</td>\n",
       "      <td>3</td>\n",
       "      <td>ibc-142240,ibc-145014,http://www.scielo.org.co/scielo.php?script=sci_arttext&amp;pid=S0123-129420140...</td>\n",
       "    </tr>\n",
       "  </tbody>\n",
       "</table>\n",
       "</div>"
      ],
      "text/plain": [
       "  Abbreviation Definitions  \\\n",
       "0        Edaom           1   \n",
       "1       el ser           2   \n",
       "2          ICE       44878   \n",
       "2          ICE       42211   \n",
       "2          ICE           3   \n",
       "\n",
       "                                                                                            Appears on  \n",
       "0                   http://www.scielo.org.co/scielo.php?script=sci_arttext&pid=S0123-12942011000100006  \n",
       "1                   http://www.scielo.org.co/scielo.php?script=sci_arttext&pid=S0123-12942012000100008  \n",
       "2  ibc-142240,ibc-145014,http://www.scielo.org.co/scielo.php?script=sci_arttext&pid=S0123-129420140...  \n",
       "2  ibc-142240,ibc-145014,http://www.scielo.org.co/scielo.php?script=sci_arttext&pid=S0123-129420140...  \n",
       "2  ibc-142240,ibc-145014,http://www.scielo.org.co/scielo.php?script=sci_arttext&pid=S0123-129420140...  "
      ]
     },
     "execution_count": 223,
     "metadata": {},
     "output_type": "execute_result"
    }
   ],
   "source": [
    "abre.head()"
   ]
  },
  {
   "cell_type": "markdown",
   "id": "99cd1d45-2c03-4580-b29f-458e53a04393",
   "metadata": {},
   "source": [
    "Ger definitions with the url of the text"
   ]
  },
  {
   "cell_type": "code",
   "execution_count": 236,
   "id": "868d6547-a8fa-4528-94dd-cdd8e01cb63d",
   "metadata": {
    "tags": []
   },
   "outputs": [],
   "source": [
    "definitions = pd.read_csv(\"../../publicacion/AbreMES-DB/DB/definitions.tsv\", sep = '\\t', encoding = 'latin-1')"
   ]
  },
  {
   "cell_type": "code",
   "execution_count": 238,
   "id": "bf65a633-0483-4552-b555-69cf5f0ac476",
   "metadata": {},
   "outputs": [],
   "source": [
    "definitions = definitions[['# Definition ID', 'Definition']]"
   ]
  },
  {
   "cell_type": "code",
   "execution_count": 239,
   "id": "d40c0d55-a665-4a22-ad2a-f66f1079d325",
   "metadata": {},
   "outputs": [
    {
     "data": {
      "text/html": [
       "<div>\n",
       "<style scoped>\n",
       "    .dataframe tbody tr th:only-of-type {\n",
       "        vertical-align: middle;\n",
       "    }\n",
       "\n",
       "    .dataframe tbody tr th {\n",
       "        vertical-align: top;\n",
       "    }\n",
       "\n",
       "    .dataframe thead th {\n",
       "        text-align: right;\n",
       "    }\n",
       "</style>\n",
       "<table border=\"1\" class=\"dataframe\">\n",
       "  <thead>\n",
       "    <tr style=\"text-align: right;\">\n",
       "      <th></th>\n",
       "      <th># Definition ID</th>\n",
       "      <th>Definition</th>\n",
       "    </tr>\n",
       "  </thead>\n",
       "  <tbody>\n",
       "    <tr>\n",
       "      <th>0</th>\n",
       "      <td>1</td>\n",
       "      <td>Aprendizaje y OrientaciÃ³n Motivacional</td>\n",
       "    </tr>\n",
       "    <tr>\n",
       "      <th>1</th>\n",
       "      <td>2</td>\n",
       "      <td>de la persona en el rol rectoral</td>\n",
       "    </tr>\n",
       "    <tr>\n",
       "      <th>2</th>\n",
       "      <td>3</td>\n",
       "      <td>Ã­ndice de calidad del empleo</td>\n",
       "    </tr>\n",
       "    <tr>\n",
       "      <th>3</th>\n",
       "      <td>4</td>\n",
       "      <td>Experience Questionnaire</td>\n",
       "    </tr>\n",
       "    <tr>\n",
       "      <th>4</th>\n",
       "      <td>5</td>\n",
       "      <td>cognitivos artificiales</td>\n",
       "    </tr>\n",
       "  </tbody>\n",
       "</table>\n",
       "</div>"
      ],
      "text/plain": [
       "  # Definition ID                               Definition\n",
       "0               1  Aprendizaje y OrientaciÃ³n Motivacional\n",
       "1               2         de la persona en el rol rectoral\n",
       "2               3            Ã­ndice de calidad del empleo\n",
       "3               4                 Experience Questionnaire\n",
       "4               5                  cognitivos artificiales"
      ]
     },
     "execution_count": 239,
     "metadata": {},
     "output_type": "execute_result"
    }
   ],
   "source": [
    "definitions.head()"
   ]
  },
  {
   "cell_type": "markdown",
   "id": "79b97712-4bec-4d25-930a-e80440f7b9a1",
   "metadata": {},
   "source": [
    "Join abbreviations and definitions and after that cross it with our processed Abremes file"
   ]
  },
  {
   "cell_type": "code",
   "execution_count": 243,
   "id": "3102488c-5c56-4c7b-9402-da530b247466",
   "metadata": {},
   "outputs": [],
   "source": [
    "abre = abre.merge(definitions, left_on = 'Definitions', right_on = '# Definition ID')"
   ]
  },
  {
   "cell_type": "code",
   "execution_count": 245,
   "id": "749733d7-2691-49f0-b46c-5318808d1fea",
   "metadata": {},
   "outputs": [],
   "source": [
    "abre = abre[['Abbreviation', 'Definition', 'Appears on']]"
   ]
  },
  {
   "cell_type": "code",
   "execution_count": 246,
   "id": "d73b1128-cc2d-48da-ae62-fc7be19dbf6c",
   "metadata": {},
   "outputs": [
    {
     "data": {
      "text/html": [
       "<div>\n",
       "<style scoped>\n",
       "    .dataframe tbody tr th:only-of-type {\n",
       "        vertical-align: middle;\n",
       "    }\n",
       "\n",
       "    .dataframe tbody tr th {\n",
       "        vertical-align: top;\n",
       "    }\n",
       "\n",
       "    .dataframe thead th {\n",
       "        text-align: right;\n",
       "    }\n",
       "</style>\n",
       "<table border=\"1\" class=\"dataframe\">\n",
       "  <thead>\n",
       "    <tr style=\"text-align: right;\">\n",
       "      <th></th>\n",
       "      <th>Abbreviation</th>\n",
       "      <th>Definition</th>\n",
       "      <th>Appears on</th>\n",
       "    </tr>\n",
       "  </thead>\n",
       "  <tbody>\n",
       "    <tr>\n",
       "      <th>0</th>\n",
       "      <td>Edaom</td>\n",
       "      <td>Aprendizaje y OrientaciÃ³n Motivacional</td>\n",
       "      <td>http://www.scielo.org.co/scielo.php?script=sci_arttext&amp;pid=S0123-12942011000100006</td>\n",
       "    </tr>\n",
       "    <tr>\n",
       "      <th>1</th>\n",
       "      <td>el ser</td>\n",
       "      <td>de la persona en el rol rectoral</td>\n",
       "      <td>http://www.scielo.org.co/scielo.php?script=sci_arttext&amp;pid=S0123-12942012000100008</td>\n",
       "    </tr>\n",
       "  </tbody>\n",
       "</table>\n",
       "</div>"
      ],
      "text/plain": [
       "  Abbreviation                               Definition  \\\n",
       "0        Edaom  Aprendizaje y OrientaciÃ³n Motivacional   \n",
       "1       el ser         de la persona en el rol rectoral   \n",
       "\n",
       "                                                                           Appears on  \n",
       "0  http://www.scielo.org.co/scielo.php?script=sci_arttext&pid=S0123-12942011000100006  \n",
       "1  http://www.scielo.org.co/scielo.php?script=sci_arttext&pid=S0123-12942012000100008  "
      ]
     },
     "execution_count": 246,
     "metadata": {},
     "output_type": "execute_result"
    }
   ],
   "source": [
    "abre.head(2)"
   ]
  },
  {
   "cell_type": "code",
   "execution_count": 276,
   "id": "d6e824d4-6412-423d-b24d-3ec8c1cfa9d9",
   "metadata": {},
   "outputs": [],
   "source": [
    "abreviaciones = abremes.merge(abre, on = ['Abbreviation', 'Definition'], how = 'left')"
   ]
  },
  {
   "cell_type": "code",
   "execution_count": 277,
   "id": "8096b342-a95b-45b6-962d-b16cbd4cb618",
   "metadata": {},
   "outputs": [
    {
     "data": {
      "text/html": [
       "<div>\n",
       "<style scoped>\n",
       "    .dataframe tbody tr th:only-of-type {\n",
       "        vertical-align: middle;\n",
       "    }\n",
       "\n",
       "    .dataframe tbody tr th {\n",
       "        vertical-align: top;\n",
       "    }\n",
       "\n",
       "    .dataframe thead th {\n",
       "        text-align: right;\n",
       "    }\n",
       "</style>\n",
       "<table border=\"1\" class=\"dataframe\">\n",
       "  <thead>\n",
       "    <tr style=\"text-align: right;\">\n",
       "      <th></th>\n",
       "      <th>Abbreviation</th>\n",
       "      <th>Definition</th>\n",
       "      <th>Appears on</th>\n",
       "    </tr>\n",
       "  </thead>\n",
       "  <tbody>\n",
       "    <tr>\n",
       "      <th>0</th>\n",
       "      <td>ZVTN</td>\n",
       "      <td>zonas veredales transitorias de normalizacia3n</td>\n",
       "      <td>NaN</td>\n",
       "    </tr>\n",
       "    <tr>\n",
       "      <th>1</th>\n",
       "      <td>ZUA</td>\n",
       "      <td>zona de altima accia3n</td>\n",
       "      <td>NaN</td>\n",
       "    </tr>\n",
       "    <tr>\n",
       "      <th>2</th>\n",
       "      <td>ZU</td>\n",
       "      <td>zona de salud urbana</td>\n",
       "      <td>ibc-29680,http://www.scielo.org.mx/scielo.php?script=sci_arttext&amp;pid=S1405-31952011000500001</td>\n",
       "    </tr>\n",
       "    <tr>\n",
       "      <th>3</th>\n",
       "      <td>ZU</td>\n",
       "      <td>zonas urbanas</td>\n",
       "      <td>ibc-29680,http://www.scielo.org.mx/scielo.php?script=sci_arttext&amp;pid=S1405-31952011000500001</td>\n",
       "    </tr>\n",
       "    <tr>\n",
       "      <th>4</th>\n",
       "      <td>ZTPI</td>\n",
       "      <td>zimbardo time perspective inventory</td>\n",
       "      <td>NaN</td>\n",
       "    </tr>\n",
       "  </tbody>\n",
       "</table>\n",
       "</div>"
      ],
      "text/plain": [
       "  Abbreviation                                      Definition  \\\n",
       "0         ZVTN  zonas veredales transitorias de normalizacia3n   \n",
       "1          ZUA                          zona de altima accia3n   \n",
       "2           ZU                            zona de salud urbana   \n",
       "3           ZU                                   zonas urbanas   \n",
       "4         ZTPI             zimbardo time perspective inventory   \n",
       "\n",
       "                                                                                     Appears on  \n",
       "0                                                                                           NaN  \n",
       "1                                                                                           NaN  \n",
       "2  ibc-29680,http://www.scielo.org.mx/scielo.php?script=sci_arttext&pid=S1405-31952011000500001  \n",
       "3  ibc-29680,http://www.scielo.org.mx/scielo.php?script=sci_arttext&pid=S1405-31952011000500001  \n",
       "4                                                                                           NaN  "
      ]
     },
     "execution_count": 277,
     "metadata": {},
     "output_type": "execute_result"
    }
   ],
   "source": [
    "abreviaciones.head()"
   ]
  },
  {
   "cell_type": "code",
   "execution_count": 278,
   "id": "53ddc15a-f49a-4a8a-97af-0945527fc777",
   "metadata": {},
   "outputs": [
    {
     "name": "stdout",
     "output_type": "stream",
     "text": [
      "(45066, 2)\n",
      "(12731, 3)\n"
     ]
    }
   ],
   "source": [
    "print(abremes.shape)\n",
    "print(abreviaciones.dropna().shape)"
   ]
  },
  {
   "cell_type": "code",
   "execution_count": 279,
   "id": "e50a53b9-34c3-4b6d-8f15-d7acd72c808b",
   "metadata": {},
   "outputs": [],
   "source": [
    "abreviaciones = abreviaciones.dropna()"
   ]
  },
  {
   "cell_type": "code",
   "execution_count": 280,
   "id": "b53196be-18e7-4a08-8cea-c107454a497b",
   "metadata": {},
   "outputs": [],
   "source": [
    "def buscar_url(row):\n",
    "    patron = r\"(http).*\"\n",
    "    resultado = re.search(patron, row['Appears on'])\n",
    "    if resultado:\n",
    "        resultado = resultado.group(0)\n",
    "        \n",
    "    return resultado"
   ]
  },
  {
   "cell_type": "code",
   "execution_count": 281,
   "id": "98ebb128-4bcd-4cab-b943-3773efdd3e5f",
   "metadata": {},
   "outputs": [],
   "source": [
    "abreviaciones['Appears on'] = abreviaciones.apply(buscar_url, axis = 1)"
   ]
  },
  {
   "cell_type": "code",
   "execution_count": 284,
   "id": "9a41e42a-6db8-4442-bf74-836e6ee4d73c",
   "metadata": {},
   "outputs": [],
   "source": [
    "abreviaciones = abreviaciones.dropna()"
   ]
  },
  {
   "cell_type": "code",
   "execution_count": 285,
   "id": "96f20e3c-eb4a-4e78-b876-eb40d0af97c2",
   "metadata": {},
   "outputs": [
    {
     "data": {
      "text/plain": [
       "(10754, 3)"
      ]
     },
     "execution_count": 285,
     "metadata": {},
     "output_type": "execute_result"
    }
   ],
   "source": [
    "abreviaciones.shape"
   ]
  },
  {
   "cell_type": "code",
   "execution_count": 286,
   "id": "3b474bbb-0279-4391-98c7-50aff49f0401",
   "metadata": {},
   "outputs": [],
   "source": [
    "abreviaciones['Appears on'] = abreviaciones['Appears on'].map(lambda x: x.split(','))"
   ]
  },
  {
   "cell_type": "code",
   "execution_count": 288,
   "id": "afa32904-d8f5-41a9-a288-5b42c75dc96a",
   "metadata": {},
   "outputs": [],
   "source": [
    "abreviaciones = abreviaciones.explode('Appears on')"
   ]
  },
  {
   "cell_type": "code",
   "execution_count": 292,
   "id": "00ea8a43-a38c-4d5f-a79e-1f55e33604e7",
   "metadata": {},
   "outputs": [],
   "source": [
    "abreviaciones = abreviaciones[~abreviaciones['Appears on'].str.startswith('ibc-')]"
   ]
  },
  {
   "cell_type": "code",
   "execution_count": 297,
   "id": "8bf9ac75-dd5b-4830-8f00-0f76358ab219",
   "metadata": {},
   "outputs": [],
   "source": [
    "abreviaciones = abreviaciones.drop_duplicates()"
   ]
  },
  {
   "cell_type": "code",
   "execution_count": 298,
   "id": "1f4da239-01cd-4beb-99f9-34d490e54cfe",
   "metadata": {},
   "outputs": [
    {
     "data": {
      "text/plain": [
       "(293413, 3)"
      ]
     },
     "execution_count": 298,
     "metadata": {},
     "output_type": "execute_result"
    }
   ],
   "source": [
    "abreviaciones.shape"
   ]
  },
  {
   "cell_type": "code",
   "execution_count": 299,
   "id": "0bda007d-d127-4bc4-a064-e3a2e1d49fd4",
   "metadata": {},
   "outputs": [
    {
     "data": {
      "text/html": [
       "<div>\n",
       "<style scoped>\n",
       "    .dataframe tbody tr th:only-of-type {\n",
       "        vertical-align: middle;\n",
       "    }\n",
       "\n",
       "    .dataframe tbody tr th {\n",
       "        vertical-align: top;\n",
       "    }\n",
       "\n",
       "    .dataframe thead th {\n",
       "        text-align: right;\n",
       "    }\n",
       "</style>\n",
       "<table border=\"1\" class=\"dataframe\">\n",
       "  <thead>\n",
       "    <tr style=\"text-align: right;\">\n",
       "      <th></th>\n",
       "      <th>Abbreviation</th>\n",
       "      <th>Definition</th>\n",
       "      <th>Appears on</th>\n",
       "    </tr>\n",
       "  </thead>\n",
       "  <tbody>\n",
       "    <tr>\n",
       "      <th>2</th>\n",
       "      <td>ZU</td>\n",
       "      <td>zona de salud urbana</td>\n",
       "      <td>http://www.scielo.org.mx/scielo.php?script=sci_arttext&amp;pid=S1405-31952011000500001</td>\n",
       "    </tr>\n",
       "    <tr>\n",
       "      <th>3</th>\n",
       "      <td>ZU</td>\n",
       "      <td>zonas urbanas</td>\n",
       "      <td>http://www.scielo.org.mx/scielo.php?script=sci_arttext&amp;pid=S1405-31952011000500001</td>\n",
       "    </tr>\n",
       "    <tr>\n",
       "      <th>13</th>\n",
       "      <td>ZrN</td>\n",
       "      <td>zirconio</td>\n",
       "      <td>http://www.scielo.org.co/scielo.php?script=sci_arttext&amp;pid=S0122-34612012000100002</td>\n",
       "    </tr>\n",
       "    <tr>\n",
       "      <th>18</th>\n",
       "      <td>ZR</td>\n",
       "      <td>zumo de remolacha</td>\n",
       "      <td>http://www.scielo.org.co/scielo.php?script=sci_arttext&amp;pid=S0120-548X2009000100009</td>\n",
       "    </tr>\n",
       "    <tr>\n",
       "      <th>18</th>\n",
       "      <td>ZR</td>\n",
       "      <td>zumo de remolacha</td>\n",
       "      <td>http://www.scielo.org.mx/scielo.php?script=sci_arttext&amp;pid=S1405-77432012000200007</td>\n",
       "    </tr>\n",
       "  </tbody>\n",
       "</table>\n",
       "</div>"
      ],
      "text/plain": [
       "   Abbreviation            Definition  \\\n",
       "2            ZU  zona de salud urbana   \n",
       "3            ZU         zonas urbanas   \n",
       "13          ZrN              zirconio   \n",
       "18           ZR     zumo de remolacha   \n",
       "18           ZR     zumo de remolacha   \n",
       "\n",
       "                                                                            Appears on  \n",
       "2   http://www.scielo.org.mx/scielo.php?script=sci_arttext&pid=S1405-31952011000500001  \n",
       "3   http://www.scielo.org.mx/scielo.php?script=sci_arttext&pid=S1405-31952011000500001  \n",
       "13  http://www.scielo.org.co/scielo.php?script=sci_arttext&pid=S0122-34612012000100002  \n",
       "18  http://www.scielo.org.co/scielo.php?script=sci_arttext&pid=S0120-548X2009000100009  \n",
       "18  http://www.scielo.org.mx/scielo.php?script=sci_arttext&pid=S1405-77432012000200007  "
      ]
     },
     "execution_count": 299,
     "metadata": {},
     "output_type": "execute_result"
    }
   ],
   "source": [
    "abreviaciones.head()"
   ]
  },
  {
   "cell_type": "code",
   "execution_count": 302,
   "id": "64bf2f6b-7bd2-4645-90aa-e0a69cba4e3b",
   "metadata": {},
   "outputs": [],
   "source": [
    "#abreviaciones.to_csv(\"../../publicacion/AbreMES-DB/DB/abbrev_defin_url.tsv\",index = False)"
   ]
  },
  {
   "cell_type": "markdown",
   "id": "f0b44e94-2f17-4b47-9ecc-7b6cdbe11d6f",
   "metadata": {},
   "source": [
    "### Get the file manually cleaned"
   ]
  },
  {
   "cell_type": "code",
   "execution_count": 304,
   "id": "8dcd1f6a-092e-4c9c-a519-d81765308e66",
   "metadata": {},
   "outputs": [],
   "source": [
    "abreviaciones = pd.read_csv(\"../../publicacion/AbreMES-DB/DB/abbrev_defin_url.tsv\", sep = '\\t')"
   ]
  },
  {
   "cell_type": "code",
   "execution_count": 305,
   "id": "d71dab08-2b44-4ae2-8a8c-a2fb8ba5eea6",
   "metadata": {},
   "outputs": [
    {
     "data": {
      "text/html": [
       "<div>\n",
       "<style scoped>\n",
       "    .dataframe tbody tr th:only-of-type {\n",
       "        vertical-align: middle;\n",
       "    }\n",
       "\n",
       "    .dataframe tbody tr th {\n",
       "        vertical-align: top;\n",
       "    }\n",
       "\n",
       "    .dataframe thead th {\n",
       "        text-align: right;\n",
       "    }\n",
       "</style>\n",
       "<table border=\"1\" class=\"dataframe\">\n",
       "  <thead>\n",
       "    <tr style=\"text-align: right;\">\n",
       "      <th></th>\n",
       "      <th>Abbreviation</th>\n",
       "      <th>Definition</th>\n",
       "      <th>Appears on</th>\n",
       "    </tr>\n",
       "  </thead>\n",
       "  <tbody>\n",
       "    <tr>\n",
       "      <th>0</th>\n",
       "      <td>ZrN</td>\n",
       "      <td>zirconio</td>\n",
       "      <td>http://www.scielo.org.co/scielo.php?script=sci_arttext&amp;pid=S0122-34612012000100002</td>\n",
       "    </tr>\n",
       "    <tr>\n",
       "      <th>1</th>\n",
       "      <td>ZO</td>\n",
       "      <td>opsonizado</td>\n",
       "      <td>http://www.scielo.sa.cr/scielo.php?script=sci_arttext&amp;pid=S0253-29482001000100002</td>\n",
       "    </tr>\n",
       "    <tr>\n",
       "      <th>2</th>\n",
       "      <td>ZO</td>\n",
       "      <td>opsonizado</td>\n",
       "      <td>http://scielo.isciii.es/scielo.php?script=sci_arttext&amp;pid=S1887-85712015000100004</td>\n",
       "    </tr>\n",
       "    <tr>\n",
       "      <th>3</th>\n",
       "      <td>ZNI</td>\n",
       "      <td>zonas no interconectadas</td>\n",
       "      <td>http://www.scielo.org.co/scielo.php?script=sci_arttext&amp;pid=S0120-35922009000100011</td>\n",
       "    </tr>\n",
       "    <tr>\n",
       "      <th>4</th>\n",
       "      <td>ZM</td>\n",
       "      <td>zonas metropolitanas</td>\n",
       "      <td>http://www.scielo.org.mx/scielo.php?script=sci_arttext&amp;pid=S0187-69612014000200008</td>\n",
       "    </tr>\n",
       "  </tbody>\n",
       "</table>\n",
       "</div>"
      ],
      "text/plain": [
       "  Abbreviation                Definition  \\\n",
       "0          ZrN                  zirconio   \n",
       "1           ZO                opsonizado   \n",
       "2           ZO                opsonizado   \n",
       "3          ZNI  zonas no interconectadas   \n",
       "4           ZM      zonas metropolitanas   \n",
       "\n",
       "                                                                           Appears on  \n",
       "0  http://www.scielo.org.co/scielo.php?script=sci_arttext&pid=S0122-34612012000100002  \n",
       "1   http://www.scielo.sa.cr/scielo.php?script=sci_arttext&pid=S0253-29482001000100002  \n",
       "2   http://scielo.isciii.es/scielo.php?script=sci_arttext&pid=S1887-85712015000100004  \n",
       "3  http://www.scielo.org.co/scielo.php?script=sci_arttext&pid=S0120-35922009000100011  \n",
       "4  http://www.scielo.org.mx/scielo.php?script=sci_arttext&pid=S0187-69612014000200008  "
      ]
     },
     "execution_count": 305,
     "metadata": {},
     "output_type": "execute_result"
    }
   ],
   "source": [
    "abreviaciones.head()"
   ]
  },
  {
   "cell_type": "code",
   "execution_count": 306,
   "id": "614c4301-ac38-441a-bfef-7fcbbd0643bf",
   "metadata": {},
   "outputs": [
    {
     "data": {
      "text/plain": [
       "17098"
      ]
     },
     "execution_count": 306,
     "metadata": {},
     "output_type": "execute_result"
    }
   ],
   "source": [
    "abreviaciones['Appears on'].nunique()"
   ]
  },
  {
   "cell_type": "code",
   "execution_count": 311,
   "id": "80b1f822-8f69-4dfb-ba1a-2e096a2e3074",
   "metadata": {},
   "outputs": [],
   "source": [
    "urls = abreviaciones['Appears on'].unique().tolist()"
   ]
  },
  {
   "cell_type": "code",
   "execution_count": 320,
   "id": "148e3f45-9621-4367-9a18-9ee216aa5b49",
   "metadata": {},
   "outputs": [],
   "source": [
    "#Las escribimos en un archivo para luego leerlas\n",
    "with open ('abremes_url.txt','a') as file:\n",
    "    for i in urls:\n",
    "        file.write(i + \"\\n\")"
   ]
  },
  {
   "cell_type": "code",
   "execution_count": 314,
   "id": "8099173c-447d-4292-8528-10de19b89131",
   "metadata": {},
   "outputs": [],
   "source": [
    "def get_text(url):\n",
    "    \n",
    "    articles = []\n",
    "    response = requests.get(url)\n",
    "    html_content = response.text\n",
    "\n",
    "    soup = BeautifulSoup(html_content, 'html.parser')\n",
    "    articulo = soup.get_text()\n",
    "    articles.append({'url': url, 'text': articulo})\n",
    "    return articles"
   ]
  },
  {
   "cell_type": "code",
   "execution_count": 322,
   "id": "0e0b085a-c48a-423b-9b3e-232d3d90eb0b",
   "metadata": {},
   "outputs": [],
   "source": [
    "# Path\n",
    "archivo = \"abremes_url.txt\"\n",
    "\n",
    "# Read lines and store them in a list\n",
    "with open(archivo, 'r') as file:\n",
    "    urls = file.readlines()\n",
    "\n",
    "urls = [linea.strip() for linea in urls]"
   ]
  },
  {
   "cell_type": "code",
   "execution_count": null,
   "id": "af6ecc81-42b4-4c4d-9097-058633cf8348",
   "metadata": {},
   "outputs": [],
   "source": [
    "textos3 = []\n",
    "for a in urls[57:]:\n",
    "    try:\n",
    "        articulos = get_text(a)\n",
    "        textos3 += articulos\n",
    "    except AttributeError:\n",
    "        print('Fallo en la petición', a)\n",
    "        continue\n",
    "    except requests.exceptions.Timeout:\n",
    "        # Manejar el error de time-out\n",
    "        print(f\"Time-out en la solicitud a {url}. Continuando con la siguiente URL.\")\n",
    "        continue\n",
    "    except requests.exceptions.TooManyRedirects as e:\n",
    "        print(f\"Error de redireccionamiento: {e}\")\n",
    "        continue\n",
    "    except requests.exceptions.RequestException as e:\n",
    "        print(f\"Error de solicitud: {e}\")\n",
    "        continue"
   ]
  },
  {
   "cell_type": "code",
   "execution_count": 317,
   "id": "c76093f8-694c-42ac-bd20-b9a97a681e72",
   "metadata": {},
   "outputs": [
    {
     "data": {
      "text/plain": [
       "37"
      ]
     },
     "execution_count": 317,
     "metadata": {},
     "output_type": "execute_result"
    }
   ],
   "source": [
    "len(textos)"
   ]
  },
  {
   "cell_type": "code",
   "execution_count": 319,
   "id": "3606bd72-ffef-492f-a2bd-8d34b35edc50",
   "metadata": {},
   "outputs": [
    {
     "data": {
      "text/plain": [
       "12"
      ]
     },
     "execution_count": 319,
     "metadata": {},
     "output_type": "execute_result"
    }
   ],
   "source": [
    "len(textos2)"
   ]
  },
  {
   "cell_type": "code",
   "execution_count": null,
   "id": "c8ad1478-4a23-44cc-a0d8-630647078f81",
   "metadata": {},
   "outputs": [],
   "source": [
    "len(textos3)\n"
   ]
  },
  {
   "cell_type": "code",
   "execution_count": 332,
   "id": "60b1462e-3cf4-40f8-8329-939838ad4210",
   "metadata": {},
   "outputs": [],
   "source": [
    "textos = textos+textos2+textos3"
   ]
  },
  {
   "cell_type": "code",
   "execution_count": 333,
   "id": "029d2581-1b20-4bda-9021-2272f6645994",
   "metadata": {},
   "outputs": [],
   "source": [
    "df = pd.DataFrame(textos)"
   ]
  },
  {
   "cell_type": "code",
   "execution_count": 334,
   "id": "029dd03d-e3ff-45d1-8f57-4c0107d07188",
   "metadata": {},
   "outputs": [
    {
     "data": {
      "text/html": [
       "<div>\n",
       "<style scoped>\n",
       "    .dataframe tbody tr th:only-of-type {\n",
       "        vertical-align: middle;\n",
       "    }\n",
       "\n",
       "    .dataframe tbody tr th {\n",
       "        vertical-align: top;\n",
       "    }\n",
       "\n",
       "    .dataframe thead th {\n",
       "        text-align: right;\n",
       "    }\n",
       "</style>\n",
       "<table border=\"1\" class=\"dataframe\">\n",
       "  <thead>\n",
       "    <tr style=\"text-align: right;\">\n",
       "      <th></th>\n",
       "      <th>url</th>\n",
       "      <th>text</th>\n",
       "    </tr>\n",
       "  </thead>\n",
       "  <tbody>\n",
       "    <tr>\n",
       "      <th>0</th>\n",
       "      <td>http://www.scielo.org.co/scielo.php?script=sci_arttext&amp;pid=S0122-34612012000100002</td>\n",
       "      <td>\\n\\nResistencia a la corrosión de recubrimientos de nitruros metálicos depositados sobre acero A...</td>\n",
       "    </tr>\n",
       "    <tr>\n",
       "      <th>1</th>\n",
       "      <td>http://www.scielo.sa.cr/scielo.php?script=sci_arttext&amp;pid=S0253-29482001000100002</td>\n",
       "      <td>\\n\\nEfecto del dimetilsulfÃ³xido en la respuesta quimioluminiscente y el consumo de oxÃ­geno de ...</td>\n",
       "    </tr>\n",
       "    <tr>\n",
       "      <th>2</th>\n",
       "      <td>http://scielo.isciii.es/scielo.php?script=sci_arttext&amp;pid=S1887-85712015000100004</td>\n",
       "      <td>\\n\\n\\nÂ¿Mejora el torniquete la supervivencia del combatiente en zonas en conflicto?\\n\\n\\n\\n\\n\\n...</td>\n",
       "    </tr>\n",
       "    <tr>\n",
       "      <th>3</th>\n",
       "      <td>http://www.scielo.org.co/scielo.php?script=sci_arttext&amp;pid=S0120-35922009000100011</td>\n",
       "      <td>\\n\\n¿Ha sido efectiva la promoción de soluciones energéticas en las zonas no interconectadas (ZN...</td>\n",
       "    </tr>\n",
       "    <tr>\n",
       "      <th>4</th>\n",
       "      <td>http://www.scielo.org.mx/scielo.php?script=sci_arttext&amp;pid=S0187-69612014000200008</td>\n",
       "      <td>\\n\\nPresencia e impacto espacial de los sectores creativos en las zonas metropolitanas de MÃ©xic...</td>\n",
       "    </tr>\n",
       "  </tbody>\n",
       "</table>\n",
       "</div>"
      ],
      "text/plain": [
       "                                                                                  url  \\\n",
       "0  http://www.scielo.org.co/scielo.php?script=sci_arttext&pid=S0122-34612012000100002   \n",
       "1   http://www.scielo.sa.cr/scielo.php?script=sci_arttext&pid=S0253-29482001000100002   \n",
       "2   http://scielo.isciii.es/scielo.php?script=sci_arttext&pid=S1887-85712015000100004   \n",
       "3  http://www.scielo.org.co/scielo.php?script=sci_arttext&pid=S0120-35922009000100011   \n",
       "4  http://www.scielo.org.mx/scielo.php?script=sci_arttext&pid=S0187-69612014000200008   \n",
       "\n",
       "                                                                                                  text  \n",
       "0  \\n\\nResistencia a la corrosión de recubrimientos de nitruros metálicos depositados sobre acero A...  \n",
       "1  \\n\\nEfecto del dimetilsulfÃ³xido en la respuesta quimioluminiscente y el consumo de oxÃ­geno de ...  \n",
       "2  \\n\\n\\nÂ¿Mejora el torniquete la supervivencia del combatiente en zonas en conflicto?\\n\\n\\n\\n\\n\\n...  \n",
       "3  \\n\\n¿Ha sido efectiva la promoción de soluciones energéticas en las zonas no interconectadas (ZN...  \n",
       "4  \\n\\nPresencia e impacto espacial de los sectores creativos en las zonas metropolitanas de MÃ©xic...  "
      ]
     },
     "execution_count": 334,
     "metadata": {},
     "output_type": "execute_result"
    }
   ],
   "source": [
    "df.head()"
   ]
  },
  {
   "cell_type": "code",
   "execution_count": 337,
   "id": "a1124d44-f511-42da-b9ca-c628a55cf27f",
   "metadata": {},
   "outputs": [],
   "source": [
    "df.to_csv(\"textos_abremes.csv\", index = False)"
   ]
  },
  {
   "cell_type": "code",
   "execution_count": null,
   "id": "a2993a70-4e9c-4350-af56-2cf79029e9a0",
   "metadata": {},
   "outputs": [],
   "source": []
  }
 ],
 "metadata": {
  "kernelspec": {
   "display_name": "Python 3 (ipykernel)",
   "language": "python",
   "name": "python3"
  },
  "language_info": {
   "codemirror_mode": {
    "name": "ipython",
    "version": 3
   },
   "file_extension": ".py",
   "mimetype": "text/x-python",
   "name": "python",
   "nbconvert_exporter": "python",
   "pygments_lexer": "ipython3",
   "version": "3.8.12"
  }
 },
 "nbformat": 4,
 "nbformat_minor": 5
}
