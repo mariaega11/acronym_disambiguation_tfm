{
 "cells": [
  {
   "cell_type": "markdown",
   "id": "4412e7c9-9f58-4a05-a13a-154f484d4b8d",
   "metadata": {},
   "source": [
    "# Library"
   ]
  },
  {
   "cell_type": "code",
   "execution_count": 1,
   "id": "76ad4f48-7747-4339-b5fd-dfa032fc81a6",
   "metadata": {},
   "outputs": [
    {
     "name": "stderr",
     "output_type": "stream",
     "text": [
      "[nltk_data] Downloading package wordnet to /Users/egarcia/nltk_data...\n",
      "[nltk_data]   Package wordnet is already up-to-date!\n"
     ]
    }
   ],
   "source": [
    "import pandas as pd\n",
    "import numpy as np\n",
    "import os\n",
    "import re\n",
    "import collections\n",
    "import unidecode\n",
    "import nltk\n",
    "from nltk.corpus import stopwords\n",
    "import itertools \n",
    "from nltk.tokenize import word_tokenize\n",
    "from string import punctuation\n",
    "from functools import reduce\n",
    "import seaborn as sns\n",
    "from abbreviations import schwartz_hearst\n",
    "from nltk.stem import WordNetLemmatizer\n",
    "nltk.download('wordnet')\n",
    "import ast\n",
    "import math"
   ]
  },
  {
   "cell_type": "code",
   "execution_count": 2,
   "id": "125f9fcc-83a4-4ccf-a21d-a054e926ae6d",
   "metadata": {},
   "outputs": [],
   "source": [
    "pd.set_option('display.max_colwidth', 100)"
   ]
  },
  {
   "cell_type": "code",
   "execution_count": 3,
   "id": "614514e3-a4bb-427b-af9c-fed865bdddfa",
   "metadata": {
    "tags": []
   },
   "outputs": [],
   "source": [
    "%matplotlib inline\n",
    "from matplotlib import pyplot as plt"
   ]
  },
  {
   "cell_type": "markdown",
   "id": "1ce6ac5d-aae9-4fa0-9e9e-82098b8b99ef",
   "metadata": {
    "tags": []
   },
   "source": [
    "# Functions"
   ]
  },
  {
   "cell_type": "code",
   "execution_count": 4,
   "id": "bcf6ea66-6f27-49b7-b782-bfa0245b9349",
   "metadata": {
    "tags": []
   },
   "outputs": [],
   "source": [
    "def read_texts(path):\n",
    "    data = []\n",
    "    file_name = os.listdir(path)\n",
    "\n",
    "    for name in file_name:\n",
    "        if name.endswith('.txt'):\n",
    "            with open(path + name,encoding=\"utf8\") as f:\n",
    "                text = f.read()\n",
    "                data.append({'nombre':name.replace('.txt',''), 'texto':text})\n",
    "\n",
    "    df = pd.DataFrame(data)\n",
    "    return df"
   ]
  },
  {
   "cell_type": "code",
   "execution_count": 5,
   "id": "8997cc1e-eb37-46a8-9cb8-d36225d32e20",
   "metadata": {},
   "outputs": [
    {
     "name": "stderr",
     "output_type": "stream",
     "text": [
      "[nltk_data] Downloading package stopwords to\n",
      "[nltk_data]     /Users/egarcia/nltk_data...\n",
      "[nltk_data]   Package stopwords is already up-to-date!\n"
     ]
    }
   ],
   "source": [
    "nltk.download('stopwords')\n",
    "swords = list(set(stopwords.words('spanish')))"
   ]
  },
  {
   "cell_type": "code",
   "execution_count": 6,
   "id": "e4c4aaee-b6b8-48aa-b8e2-129df2a4ba0b",
   "metadata": {},
   "outputs": [],
   "source": [
    "def clean_text(string):\n",
    "    \"\"\"\n",
    "    A method to clean text \n",
    "    \"\"\"\n",
    "    \n",
    "    # Removing the punctuations\n",
    "    for x in string.lower(): \n",
    "        if x in punctuation:\n",
    "            if x != '/':\n",
    "                string = string.replace(x, \"\")\n",
    "            else:\n",
    "                string = string.replace(x, \" \")\n",
    "    \n",
    "    string = unidecode.unidecode(string)\n",
    "\n",
    "#     # Converting the text to lower\n",
    "#     string = string.lower()\n",
    "\n",
    "    # Removing stop words\n",
    "    string = ' '.join([word for word in string.split() if word not in swords])\n",
    "\n",
    "    # Cleaning the whitespaces\n",
    "    string = re.sub(r'\\s+', ' ', string).strip()\n",
    "\n",
    "    return string "
   ]
  },
  {
   "cell_type": "code",
   "execution_count": 7,
   "id": "2dae861a-cbd8-4e24-a037-1f17e3b4542f",
   "metadata": {},
   "outputs": [],
   "source": [
    "def distance_levenshtein(str1, str2):\n",
    "    d=dict()\n",
    "    for i in range(len(str1)+1):\n",
    "        d[i]=dict()\n",
    "        d[i][0]=i\n",
    "    for i in range(len(str2)+1):\n",
    "        d[0][i] = i\n",
    "    for i in range(1, len(str1)+1):\n",
    "        for j in range(1, len(str2)+1):\n",
    "            d[i][j] = min(d[i][j-1]+1, d[i-1][j]+1, d[i-1][j-1]+(not str1[i-1] == str2[j-1]))\n",
    "    return d[len(str1)][len(str2)]"
   ]
  },
  {
   "cell_type": "code",
   "execution_count": 8,
   "id": "32dba3b5-8228-409e-8fa7-ca8826524e6f",
   "metadata": {},
   "outputs": [],
   "source": [
    "def normalize_lf(row):\n",
    "    leven2 = []\n",
    "    for i in row:\n",
    "        for j in row:\n",
    "            if i != j:\n",
    "                long = max(len(i),len(j))\n",
    "                ratio = distance_levenshtein(i,j)/long\n",
    "                if ratio < 0.2:\n",
    "                    leven2.append(j)\n",
    "    if leven2:\n",
    "        leven2 = set(leven2)\n",
    "        lista = []\n",
    "        for i in leven2:\n",
    "            val = frec[frec['index'] == i]['long_form'].iloc[0]\n",
    "            lista.append((i, val))\n",
    "        lista = set(lista)\n",
    "        most_freq = sorted(set(lista), key=lambda x: x[1], reverse = True)[0][0]\n",
    "        sust = {}\n",
    "        for i in set(leven2):\n",
    "            sust[i] = most_freq\n",
    "        \n",
    "        return sust\n",
    "    else:\n",
    "        pass\n",
    "    "
   ]
  },
  {
   "cell_type": "code",
   "execution_count": 9,
   "id": "23afbff8-b749-48f1-b554-08e81e29965c",
   "metadata": {
    "tags": []
   },
   "outputs": [],
   "source": [
    "def get_label(row):\n",
    "    if row['long_form_x'] == row['long_form_y']:\n",
    "        return 1\n",
    "    else:\n",
    "        return 0"
   ]
  },
  {
   "cell_type": "code",
   "execution_count": 10,
   "id": "30bce3ae-d7ad-4b85-afc8-4a8b1cf954b4",
   "metadata": {},
   "outputs": [],
   "source": [
    "def offsetA(row):\n",
    "    return row['texto'].find(row['Mention_A'])\n",
    "    \n",
    "def offsetB(row):\n",
    "    return row['texto'].find(row['Mention_B'])\n",
    "\n",
    "def offsetB_end(row):\n",
    "    return row['texto'].find(row['Mention_B']) + len(row['Mention_B'])\n",
    "\n",
    "def offsetA_end(row):\n",
    "    return row['Mention_A_StartOffset'] + len(row['Mention_A'])"
   ]
  },
  {
   "cell_type": "code",
   "execution_count": 11,
   "id": "df5b7c23-29fa-4e92-a083-074f567369d0",
   "metadata": {},
   "outputs": [],
   "source": [
    "def offset(row):\n",
    "    return row['texto'].find(row['abrev'])\n",
    "\n",
    "def offsetend(row):\n",
    "    return row['StartOffset']+len(row['abrev'])"
   ]
  },
  {
   "cell_type": "code",
   "execution_count": 12,
   "id": "7ea5d97e-dec8-45c2-8f11-8d586bdc627c",
   "metadata": {},
   "outputs": [],
   "source": [
    "def defin_dictionary(row,dictionary):\n",
    "    if row['Definition'] == 'no_existe':\n",
    "        return dictionary.get(row['Abbreviation'])\n",
    "    else:\n",
    "        return row['Definition']"
   ]
  },
  {
   "cell_type": "markdown",
   "id": "b75b60fa-7934-41f2-ba89-7afc6d8cb174",
   "metadata": {},
   "source": [
    "# Load Data"
   ]
  },
  {
   "cell_type": "markdown",
   "id": "84cc6c3c-223a-4fc1-8264-2e650642fe83",
   "metadata": {},
   "source": [
    "### Testing\n",
    "\n",
    "220 clinical cases."
   ]
  },
  {
   "cell_type": "code",
   "execution_count": 23,
   "id": "c63f5974-c8a4-4010-b615-a645ee92ca52",
   "metadata": {},
   "outputs": [],
   "source": [
    "testing_abbr = pd.read_csv(\"../data/track_1_soto_test.tsv\", sep = \"\\t\")"
   ]
  },
  {
   "cell_type": "code",
   "execution_count": 24,
   "id": "e3bdde99-b229-48e9-934e-10b883ae8e9d",
   "metadata": {},
   "outputs": [
    {
     "data": {
      "text/html": [
       "<div>\n",
       "<style scoped>\n",
       "    .dataframe tbody tr th:only-of-type {\n",
       "        vertical-align: middle;\n",
       "    }\n",
       "\n",
       "    .dataframe tbody tr th {\n",
       "        vertical-align: top;\n",
       "    }\n",
       "\n",
       "    .dataframe thead th {\n",
       "        text-align: right;\n",
       "    }\n",
       "</style>\n",
       "<table border=\"1\" class=\"dataframe\">\n",
       "  <thead>\n",
       "    <tr style=\"text-align: right;\">\n",
       "      <th></th>\n",
       "      <th># Document_ID</th>\n",
       "      <th>Mention_A_type</th>\n",
       "      <th>Mention_A_StartOffset</th>\n",
       "      <th>Mention_A_EndOffset</th>\n",
       "      <th>Mention_A</th>\n",
       "      <th>Relation_type</th>\n",
       "      <th>Mention_B_type</th>\n",
       "      <th>Mention_B_StartOffset</th>\n",
       "      <th>Mention_B_EndOffset</th>\n",
       "      <th>Mention_B</th>\n",
       "    </tr>\n",
       "  </thead>\n",
       "  <tbody>\n",
       "    <tr>\n",
       "      <th>0</th>\n",
       "      <td>S1130-14732005000200003-1</td>\n",
       "      <td>SHORT_FORM</td>\n",
       "      <td>1683</td>\n",
       "      <td>1688</td>\n",
       "      <td>XOMED</td>\n",
       "      <td>SHORT-LONG</td>\n",
       "      <td>LONG_FORM</td>\n",
       "      <td>1672</td>\n",
       "      <td>1681</td>\n",
       "      <td>Medtronic</td>\n",
       "    </tr>\n",
       "    <tr>\n",
       "      <th>1</th>\n",
       "      <td>S0365-66912011001100006-1</td>\n",
       "      <td>SHORT_FORM</td>\n",
       "      <td>127</td>\n",
       "      <td>129</td>\n",
       "      <td>AV</td>\n",
       "      <td>SHORT-LONG</td>\n",
       "      <td>LONG_FORM</td>\n",
       "      <td>111</td>\n",
       "      <td>125</td>\n",
       "      <td>agudeza visual</td>\n",
       "    </tr>\n",
       "    <tr>\n",
       "      <th>2</th>\n",
       "      <td>S0365-66912011001100006-1</td>\n",
       "      <td>SHORT_FORM</td>\n",
       "      <td>206</td>\n",
       "      <td>208</td>\n",
       "      <td>OD</td>\n",
       "      <td>SHORT-LONG</td>\n",
       "      <td>LONG_FORM</td>\n",
       "      <td>193</td>\n",
       "      <td>204</td>\n",
       "      <td>ojo derecho</td>\n",
       "    </tr>\n",
       "    <tr>\n",
       "      <th>3</th>\n",
       "      <td>S0365-66912011001100006-1</td>\n",
       "      <td>SHORT_FORM</td>\n",
       "      <td>250</td>\n",
       "      <td>252</td>\n",
       "      <td>OI</td>\n",
       "      <td>SHORT-LONG</td>\n",
       "      <td>LONG_FORM</td>\n",
       "      <td>235</td>\n",
       "      <td>248</td>\n",
       "      <td>ojo izquierdo</td>\n",
       "    </tr>\n",
       "    <tr>\n",
       "      <th>4</th>\n",
       "      <td>S0212-71992004000300009-1</td>\n",
       "      <td>SHORT_FORM</td>\n",
       "      <td>1005</td>\n",
       "      <td>1009</td>\n",
       "      <td>ANAs</td>\n",
       "      <td>SHORT-LONG</td>\n",
       "      <td>LONG_FORM</td>\n",
       "      <td>960</td>\n",
       "      <td>1003</td>\n",
       "      <td>ecografía de abdomen y estudio inmunológico</td>\n",
       "    </tr>\n",
       "  </tbody>\n",
       "</table>\n",
       "</div>"
      ],
      "text/plain": [
       "               # Document_ID Mention_A_type  Mention_A_StartOffset  \\\n",
       "0  S1130-14732005000200003-1     SHORT_FORM                   1683   \n",
       "1  S0365-66912011001100006-1     SHORT_FORM                    127   \n",
       "2  S0365-66912011001100006-1     SHORT_FORM                    206   \n",
       "3  S0365-66912011001100006-1     SHORT_FORM                    250   \n",
       "4  S0212-71992004000300009-1     SHORT_FORM                   1005   \n",
       "\n",
       "   Mention_A_EndOffset Mention_A Relation_type Mention_B_type  \\\n",
       "0                 1688     XOMED    SHORT-LONG      LONG_FORM   \n",
       "1                  129        AV    SHORT-LONG      LONG_FORM   \n",
       "2                  208        OD    SHORT-LONG      LONG_FORM   \n",
       "3                  252        OI    SHORT-LONG      LONG_FORM   \n",
       "4                 1009      ANAs    SHORT-LONG      LONG_FORM   \n",
       "\n",
       "   Mention_B_StartOffset  Mention_B_EndOffset  \\\n",
       "0                   1672                 1681   \n",
       "1                    111                  125   \n",
       "2                    193                  204   \n",
       "3                    235                  248   \n",
       "4                    960                 1003   \n",
       "\n",
       "                                     Mention_B  \n",
       "0                                    Medtronic  \n",
       "1                               agudeza visual  \n",
       "2                                  ojo derecho  \n",
       "3                                ojo izquierdo  \n",
       "4  ecografía de abdomen y estudio inmunológico  "
      ]
     },
     "execution_count": 24,
     "metadata": {},
     "output_type": "execute_result"
    }
   ],
   "source": [
    "testing_abbr.head()"
   ]
  },
  {
   "cell_type": "code",
   "execution_count": 31,
   "id": "c3f1149a-aec8-4aef-81db-c1088d45d101",
   "metadata": {},
   "outputs": [],
   "source": [
    "testing_abbr = testing_abbr[['# Document_ID', 'Mention_A_StartOffset',\n",
    "       'Mention_A_EndOffset', 'Mention_A']]"
   ]
  },
  {
   "cell_type": "code",
   "execution_count": 15,
   "id": "07c6a750-f9b5-438d-ad9c-a26651c41ea4",
   "metadata": {},
   "outputs": [],
   "source": [
    "testing_raw = read_texts(\"../../acronym_disambiguation_tfm/data/ibereval_data/testing_set/testing_set.raw_text/\")"
   ]
  },
  {
   "cell_type": "code",
   "execution_count": 32,
   "id": "4882d8b5-e54f-46f9-9dbd-74205147c1f4",
   "metadata": {},
   "outputs": [
    {
     "data": {
      "text/html": [
       "<div>\n",
       "<style scoped>\n",
       "    .dataframe tbody tr th:only-of-type {\n",
       "        vertical-align: middle;\n",
       "    }\n",
       "\n",
       "    .dataframe tbody tr th {\n",
       "        vertical-align: top;\n",
       "    }\n",
       "\n",
       "    .dataframe thead th {\n",
       "        text-align: right;\n",
       "    }\n",
       "</style>\n",
       "<table border=\"1\" class=\"dataframe\">\n",
       "  <thead>\n",
       "    <tr style=\"text-align: right;\">\n",
       "      <th></th>\n",
       "      <th># Document_ID</th>\n",
       "      <th>texto</th>\n",
       "    </tr>\n",
       "  </thead>\n",
       "  <tbody>\n",
       "    <tr>\n",
       "      <th>0</th>\n",
       "      <td>S1130-01082008001000010-1</td>\n",
       "      <td>Varón de 43 años originario de Marruecos, que ingresó en nuestro servicio por cuadro de 4 días d...</td>\n",
       "    </tr>\n",
       "    <tr>\n",
       "      <th>1</th>\n",
       "      <td>S0004-06142009000400011-1</td>\n",
       "      <td>Varón de 75 años con antecedentes de EPOC moderado sin otros antecedentes médicos de interés. En...</td>\n",
       "    </tr>\n",
       "    <tr>\n",
       "      <th>2</th>\n",
       "      <td>S0376-78922011000200004-1</td>\n",
       "      <td>Mujer de 44 años de edad con antecedentes médicos de insuficiencia renal crónica en tratamiento ...</td>\n",
       "    </tr>\n",
       "    <tr>\n",
       "      <th>3</th>\n",
       "      <td>S1137-66272014000300016-1</td>\n",
       "      <td>Mujer de 36 años sin antecedentes médicos o epidemiológicos de interés que es ingresada en la Un...</td>\n",
       "    </tr>\n",
       "    <tr>\n",
       "      <th>4</th>\n",
       "      <td>S1130-01082008000800019-1</td>\n",
       "      <td>Recientemente, atendimos en nuestro hospital a un varón de 46 años, con antecedente de síndrome ...</td>\n",
       "    </tr>\n",
       "  </tbody>\n",
       "</table>\n",
       "</div>"
      ],
      "text/plain": [
       "               # Document_ID  \\\n",
       "0  S1130-01082008001000010-1   \n",
       "1  S0004-06142009000400011-1   \n",
       "2  S0376-78922011000200004-1   \n",
       "3  S1137-66272014000300016-1   \n",
       "4  S1130-01082008000800019-1   \n",
       "\n",
       "                                                                                                 texto  \n",
       "0  Varón de 43 años originario de Marruecos, que ingresó en nuestro servicio por cuadro de 4 días d...  \n",
       "1  Varón de 75 años con antecedentes de EPOC moderado sin otros antecedentes médicos de interés. En...  \n",
       "2  Mujer de 44 años de edad con antecedentes médicos de insuficiencia renal crónica en tratamiento ...  \n",
       "3  Mujer de 36 años sin antecedentes médicos o epidemiológicos de interés que es ingresada en la Un...  \n",
       "4  Recientemente, atendimos en nuestro hospital a un varón de 46 años, con antecedente de síndrome ...  "
      ]
     },
     "execution_count": 32,
     "metadata": {},
     "output_type": "execute_result"
    }
   ],
   "source": [
    "testing_raw.rename(columns = {'nombre':'# Document_ID'}, inplace = True)\n",
    "testing_raw.head()"
   ]
  },
  {
   "cell_type": "code",
   "execution_count": 180,
   "id": "4f731b41-ed36-4d3a-8c1b-37e50a3dc461",
   "metadata": {},
   "outputs": [
    {
     "data": {
      "text/plain": [
       "220"
      ]
     },
     "execution_count": 180,
     "metadata": {},
     "output_type": "execute_result"
    }
   ],
   "source": [
    "testing_raw['# Document_ID'].nunique()"
   ]
  },
  {
   "cell_type": "code",
   "execution_count": 181,
   "id": "8e510f0d-507b-4293-8302-96028f9066ea",
   "metadata": {},
   "outputs": [],
   "source": [
    "testing_raw.to_csv(\"../data/test_raw.tsv\", index = False)"
   ]
  },
  {
   "cell_type": "code",
   "execution_count": 44,
   "id": "cbe7fbc6-7886-4931-ad7a-d35f0faa1e26",
   "metadata": {},
   "outputs": [],
   "source": [
    "testing = testing_abbr.merge(testing_raw, on = '# Document_ID', how = 'left')"
   ]
  },
  {
   "cell_type": "code",
   "execution_count": 45,
   "id": "0ae0fd0b-287b-4b35-b2a1-8b79f06edbb2",
   "metadata": {},
   "outputs": [
    {
     "name": "stdout",
     "output_type": "stream",
     "text": [
      "(220, 2)\n",
      "(198, 4)\n",
      "(198, 5)\n"
     ]
    }
   ],
   "source": [
    "print(testing_raw.shape)\n",
    "print(testing_abbr.shape)\n",
    "print(testing.shape)"
   ]
  },
  {
   "cell_type": "code",
   "execution_count": 49,
   "id": "81eef4a4-57a2-4d77-ae60-2da84da77246",
   "metadata": {},
   "outputs": [],
   "source": [
    "testing.columns = ['nombre', 'StartOffset', 'EndOffset', 'abrev', 'texto']"
   ]
  },
  {
   "cell_type": "markdown",
   "id": "1c4f9923-4c53-4e38-b746-9f7e775bbbe2",
   "metadata": {},
   "source": [
    "### Trainning\n",
    "\n",
    "318 clinical cases"
   ]
  },
  {
   "cell_type": "code",
   "execution_count": 105,
   "id": "44c38d65-0f59-40ce-8db7-a7048b3431ac",
   "metadata": {},
   "outputs": [],
   "source": [
    "train_abbr = pd.read_csv(\"../data/track_1_soto_train.tsv\", sep = \"\\t\")"
   ]
  },
  {
   "cell_type": "code",
   "execution_count": 106,
   "id": "e4221aea-2a2f-41c5-acf9-63f8de89278b",
   "metadata": {},
   "outputs": [
    {
     "data": {
      "text/html": [
       "<div>\n",
       "<style scoped>\n",
       "    .dataframe tbody tr th:only-of-type {\n",
       "        vertical-align: middle;\n",
       "    }\n",
       "\n",
       "    .dataframe tbody tr th {\n",
       "        vertical-align: top;\n",
       "    }\n",
       "\n",
       "    .dataframe thead th {\n",
       "        text-align: right;\n",
       "    }\n",
       "</style>\n",
       "<table border=\"1\" class=\"dataframe\">\n",
       "  <thead>\n",
       "    <tr style=\"text-align: right;\">\n",
       "      <th></th>\n",
       "      <th># Document_ID</th>\n",
       "      <th>Mention_A_type</th>\n",
       "      <th>Mention_A_StartOffset</th>\n",
       "      <th>Mention_A_EndOffset</th>\n",
       "      <th>Mention_A</th>\n",
       "      <th>Relation_type</th>\n",
       "      <th>Mention_B_type</th>\n",
       "      <th>Mention_B_StartOffset</th>\n",
       "      <th>Mention_B_EndOffset</th>\n",
       "      <th>Mention_B</th>\n",
       "    </tr>\n",
       "  </thead>\n",
       "  <tbody>\n",
       "    <tr>\n",
       "      <th>0</th>\n",
       "      <td>S0365-66912006000200012-1</td>\n",
       "      <td>SHORT_FORM</td>\n",
       "      <td>208</td>\n",
       "      <td>210</td>\n",
       "      <td>OD</td>\n",
       "      <td>SHORT-LONG</td>\n",
       "      <td>LONG_FORM</td>\n",
       "      <td>195</td>\n",
       "      <td>206</td>\n",
       "      <td>ojo derecho</td>\n",
       "    </tr>\n",
       "    <tr>\n",
       "      <th>1</th>\n",
       "      <td>S0365-66912006000200012-1</td>\n",
       "      <td>SHORT_FORM</td>\n",
       "      <td>562</td>\n",
       "      <td>564</td>\n",
       "      <td>AV</td>\n",
       "      <td>SHORT-LONG</td>\n",
       "      <td>LONG_FORM</td>\n",
       "      <td>546</td>\n",
       "      <td>560</td>\n",
       "      <td>agudeza visual</td>\n",
       "    </tr>\n",
       "    <tr>\n",
       "      <th>2</th>\n",
       "      <td>S0365-66912006000200012-1</td>\n",
       "      <td>SHORT_FORM</td>\n",
       "      <td>636</td>\n",
       "      <td>640</td>\n",
       "      <td>DPAR</td>\n",
       "      <td>SHORT-LONG</td>\n",
       "      <td>LONG_FORM</td>\n",
       "      <td>601</td>\n",
       "      <td>634</td>\n",
       "      <td>defecto pupilar aferente relativo</td>\n",
       "    </tr>\n",
       "    <tr>\n",
       "      <th>3</th>\n",
       "      <td>S0365-66912006000200012-1</td>\n",
       "      <td>SHORT_FORM</td>\n",
       "      <td>810</td>\n",
       "      <td>812</td>\n",
       "      <td>TC</td>\n",
       "      <td>SHORT-LONG</td>\n",
       "      <td>LONG_FORM</td>\n",
       "      <td>784</td>\n",
       "      <td>808</td>\n",
       "      <td>tomografía computarizada</td>\n",
       "    </tr>\n",
       "    <tr>\n",
       "      <th>4</th>\n",
       "      <td>S0365-66912006000200012-1</td>\n",
       "      <td>SHORT_FORM</td>\n",
       "      <td>895</td>\n",
       "      <td>898</td>\n",
       "      <td>RMN</td>\n",
       "      <td>SHORT-LONG</td>\n",
       "      <td>LONG_FORM</td>\n",
       "      <td>865</td>\n",
       "      <td>893</td>\n",
       "      <td>resonancia magnética nuclear</td>\n",
       "    </tr>\n",
       "  </tbody>\n",
       "</table>\n",
       "</div>"
      ],
      "text/plain": [
       "               # Document_ID Mention_A_type  Mention_A_StartOffset  \\\n",
       "0  S0365-66912006000200012-1     SHORT_FORM                    208   \n",
       "1  S0365-66912006000200012-1     SHORT_FORM                    562   \n",
       "2  S0365-66912006000200012-1     SHORT_FORM                    636   \n",
       "3  S0365-66912006000200012-1     SHORT_FORM                    810   \n",
       "4  S0365-66912006000200012-1     SHORT_FORM                    895   \n",
       "\n",
       "   Mention_A_EndOffset Mention_A Relation_type Mention_B_type  \\\n",
       "0                  210        OD    SHORT-LONG      LONG_FORM   \n",
       "1                  564        AV    SHORT-LONG      LONG_FORM   \n",
       "2                  640      DPAR    SHORT-LONG      LONG_FORM   \n",
       "3                  812        TC    SHORT-LONG      LONG_FORM   \n",
       "4                  898       RMN    SHORT-LONG      LONG_FORM   \n",
       "\n",
       "   Mention_B_StartOffset  Mention_B_EndOffset  \\\n",
       "0                    195                  206   \n",
       "1                    546                  560   \n",
       "2                    601                  634   \n",
       "3                    784                  808   \n",
       "4                    865                  893   \n",
       "\n",
       "                           Mention_B  \n",
       "0                        ojo derecho  \n",
       "1                     agudeza visual  \n",
       "2  defecto pupilar aferente relativo  \n",
       "3           tomografía computarizada  \n",
       "4       resonancia magnética nuclear  "
      ]
     },
     "execution_count": 106,
     "metadata": {},
     "output_type": "execute_result"
    }
   ],
   "source": [
    "train_abbr.head()"
   ]
  },
  {
   "cell_type": "code",
   "execution_count": 36,
   "id": "9a981305-2ad1-49dc-bb29-573c3fb10ab6",
   "metadata": {},
   "outputs": [],
   "source": [
    "train_abbr = train_abbr[['# Document_ID', 'Mention_A_StartOffset',\n",
    "       'Mention_A_EndOffset', 'Mention_A']]"
   ]
  },
  {
   "cell_type": "code",
   "execution_count": 37,
   "id": "2dcab608-9adc-410f-8009-d243a9adaaf9",
   "metadata": {},
   "outputs": [],
   "source": [
    "train_raw = read_texts(\"../../acronym_disambiguation_tfm/data/ibereval_data/trainning_set/training_set.raw_text/\")"
   ]
  },
  {
   "cell_type": "code",
   "execution_count": 39,
   "id": "3db688eb-3883-4633-9db0-139a2c38aa36",
   "metadata": {},
   "outputs": [
    {
     "data": {
      "text/html": [
       "<div>\n",
       "<style scoped>\n",
       "    .dataframe tbody tr th:only-of-type {\n",
       "        vertical-align: middle;\n",
       "    }\n",
       "\n",
       "    .dataframe tbody tr th {\n",
       "        vertical-align: top;\n",
       "    }\n",
       "\n",
       "    .dataframe thead th {\n",
       "        text-align: right;\n",
       "    }\n",
       "</style>\n",
       "<table border=\"1\" class=\"dataframe\">\n",
       "  <thead>\n",
       "    <tr style=\"text-align: right;\">\n",
       "      <th></th>\n",
       "      <th># Document_ID</th>\n",
       "      <th>texto</th>\n",
       "    </tr>\n",
       "  </thead>\n",
       "  <tbody>\n",
       "    <tr>\n",
       "      <th>0</th>\n",
       "      <td>S1130-01082006000100014-1</td>\n",
       "      <td>Se trata de una mujer de 35 años, con antecedentes familiares de enfermedad de Crohn y sin antec...</td>\n",
       "    </tr>\n",
       "    <tr>\n",
       "      <th>1</th>\n",
       "      <td>S1130-01082009000300015-1</td>\n",
       "      <td>Varón de 70 años, fumador, con enfisema pulmonar y vitíligo al que en mayo de 2001 se realizó un...</td>\n",
       "    </tr>\n",
       "    <tr>\n",
       "      <th>2</th>\n",
       "      <td>S0210-56912010000200009-1</td>\n",
       "      <td>Se trata de una mujer de 70 años con antecedentes de HTA y diagnosticada recientemente de neopla...</td>\n",
       "    </tr>\n",
       "    <tr>\n",
       "      <th>3</th>\n",
       "      <td>S1130-01082008000900014-1</td>\n",
       "      <td>Varón de 41 años diagnosticado de adenocarcinoma medianamente diferenciado implantado sobre esóf...</td>\n",
       "    </tr>\n",
       "    <tr>\n",
       "      <th>4</th>\n",
       "      <td>S0210-48062004000500008-1</td>\n",
       "      <td>Paciente de 29 años de edad que acude al Servicio de Urgencias de nuestro Hospital ante la prese...</td>\n",
       "    </tr>\n",
       "  </tbody>\n",
       "</table>\n",
       "</div>"
      ],
      "text/plain": [
       "               # Document_ID  \\\n",
       "0  S1130-01082006000100014-1   \n",
       "1  S1130-01082009000300015-1   \n",
       "2  S0210-56912010000200009-1   \n",
       "3  S1130-01082008000900014-1   \n",
       "4  S0210-48062004000500008-1   \n",
       "\n",
       "                                                                                                 texto  \n",
       "0  Se trata de una mujer de 35 años, con antecedentes familiares de enfermedad de Crohn y sin antec...  \n",
       "1  Varón de 70 años, fumador, con enfisema pulmonar y vitíligo al que en mayo de 2001 se realizó un...  \n",
       "2  Se trata de una mujer de 70 años con antecedentes de HTA y diagnosticada recientemente de neopla...  \n",
       "3  Varón de 41 años diagnosticado de adenocarcinoma medianamente diferenciado implantado sobre esóf...  \n",
       "4  Paciente de 29 años de edad que acude al Servicio de Urgencias de nuestro Hospital ante la prese...  "
      ]
     },
     "execution_count": 39,
     "metadata": {},
     "output_type": "execute_result"
    }
   ],
   "source": [
    "train_raw.rename(columns = {'nombre':'# Document_ID'}, inplace = True)\n",
    "train_raw.head()"
   ]
  },
  {
   "cell_type": "code",
   "execution_count": 179,
   "id": "4eaf736e-2113-4414-8bf2-dea212c651de",
   "metadata": {},
   "outputs": [],
   "source": [
    "train_raw.to_csv(\"../data/train_raw.tsv\", index = False)"
   ]
  },
  {
   "cell_type": "code",
   "execution_count": 54,
   "id": "e47a0715-a2d6-48f3-8eb4-d023351fd4a0",
   "metadata": {},
   "outputs": [],
   "source": [
    "train = train_abbr.merge(train_raw, on = '# Document_ID', how = 'left')"
   ]
  },
  {
   "cell_type": "code",
   "execution_count": 55,
   "id": "74624637-65e5-417e-8882-214e8f1eae55",
   "metadata": {},
   "outputs": [
    {
     "name": "stdout",
     "output_type": "stream",
     "text": [
      "(318, 2)\n",
      "(290, 4)\n",
      "(290, 5)\n"
     ]
    }
   ],
   "source": [
    "print(train_raw.shape)\n",
    "print(train_abbr.shape)\n",
    "print(train.shape)"
   ]
  },
  {
   "cell_type": "code",
   "execution_count": 56,
   "id": "5400f81d-e79a-45e1-9aa3-b540c0e915c0",
   "metadata": {},
   "outputs": [],
   "source": [
    "train.columns = ['nombre', 'StartOffset', 'EndOffset', 'abrev', 'texto']"
   ]
  },
  {
   "cell_type": "code",
   "execution_count": 60,
   "id": "073aa4f1-8b34-4965-9b4e-8d905cca3511",
   "metadata": {},
   "outputs": [],
   "source": [
    "train_track2 = train.copy() "
   ]
  },
  {
   "cell_type": "markdown",
   "id": "bfa80ae4-3e7e-4dd0-90c7-733548e51a9a",
   "metadata": {},
   "source": [
    "## Test with AbreMES DB"
   ]
  },
  {
   "cell_type": "markdown",
   "id": "372c8c59-3dbd-4c77-bc01-50a6494ca08a",
   "metadata": {
    "tags": []
   },
   "source": [
    "### 1) Get the short-form from the text\n",
    "\n",
    "I already have it from Soto process"
   ]
  },
  {
   "cell_type": "markdown",
   "id": "1acd94c3-bef7-4755-9873-300800d8cfad",
   "metadata": {
    "jp-MarkdownHeadingCollapsed": true,
    "tags": []
   },
   "source": [
    "### Training"
   ]
  },
  {
   "cell_type": "markdown",
   "id": "3994c7c4-7946-4f25-a6b7-e42ac6dc1585",
   "metadata": {
    "tags": []
   },
   "source": [
    "### 2) Give a long-form from AbreMES data base"
   ]
  },
  {
   "cell_type": "code",
   "execution_count": 57,
   "id": "ef38296e-1d57-4c24-a349-6f68cea30807",
   "metadata": {},
   "outputs": [],
   "source": [
    "abremes = pd.read_csv(\"../../publicacion/AbreMES-DB/DB/pairs.tsv\", sep = '\\t')"
   ]
  },
  {
   "cell_type": "code",
   "execution_count": 58,
   "id": "94c364e8-f3fd-4de4-9dfd-5e86ea97f32f",
   "metadata": {},
   "outputs": [
    {
     "data": {
      "text/html": [
       "<div>\n",
       "<style scoped>\n",
       "    .dataframe tbody tr th:only-of-type {\n",
       "        vertical-align: middle;\n",
       "    }\n",
       "\n",
       "    .dataframe tbody tr th {\n",
       "        vertical-align: top;\n",
       "    }\n",
       "\n",
       "    .dataframe thead th {\n",
       "        text-align: right;\n",
       "    }\n",
       "</style>\n",
       "<table border=\"1\" class=\"dataframe\">\n",
       "  <thead>\n",
       "    <tr style=\"text-align: right;\">\n",
       "      <th></th>\n",
       "      <th># Pair ID</th>\n",
       "      <th>Abbreviation ID</th>\n",
       "      <th>Definition ID</th>\n",
       "      <th>Frequency</th>\n",
       "      <th>Abbreviation</th>\n",
       "      <th>Definition</th>\n",
       "      <th>Appears on</th>\n",
       "    </tr>\n",
       "  </thead>\n",
       "  <tbody>\n",
       "    <tr>\n",
       "      <th>0</th>\n",
       "      <td>1</td>\n",
       "      <td>3348</td>\n",
       "      <td>17876</td>\n",
       "      <td>31</td>\n",
       "      <td>DDD</td>\n",
       "      <td>diaria definida</td>\n",
       "      <td>http://www.scielo.edu.uy/scielo.php?script=sci_arttext&amp;pid=S1688-03902003000300004,http://scielo...</td>\n",
       "    </tr>\n",
       "    <tr>\n",
       "      <th>1</th>\n",
       "      <td>2</td>\n",
       "      <td>11880</td>\n",
       "      <td>23106</td>\n",
       "      <td>11</td>\n",
       "      <td>HP-CHPR</td>\n",
       "      <td>Hospital Pediátrico del Centro Hospitalario Pereira Rossell</td>\n",
       "      <td>http://www.scielo.edu.uy/scielo.php?script=sci_arttext&amp;pid=S1688-03902003000300004,http://www.sc...</td>\n",
       "    </tr>\n",
       "    <tr>\n",
       "      <th>2</th>\n",
       "      <td>3</td>\n",
       "      <td>1454</td>\n",
       "      <td>23213</td>\n",
       "      <td>1</td>\n",
       "      <td>EVN</td>\n",
       "      <td>de vida al nacer</td>\n",
       "      <td>http://www.scielo.edu.uy/scielo.php?script=sci_arttext&amp;pid=S1688-03902003000300005</td>\n",
       "    </tr>\n",
       "    <tr>\n",
       "      <th>3</th>\n",
       "      <td>4</td>\n",
       "      <td>1112</td>\n",
       "      <td>23214</td>\n",
       "      <td>1</td>\n",
       "      <td>TDS</td>\n",
       "      <td>Total dermatoscopic score</td>\n",
       "      <td>http://www.scielo.edu.uy/scielo.php?script=sci_arttext&amp;pid=S1688-03902003000300006</td>\n",
       "    </tr>\n",
       "    <tr>\n",
       "      <th>4</th>\n",
       "      <td>5</td>\n",
       "      <td>231</td>\n",
       "      <td>23215</td>\n",
       "      <td>1</td>\n",
       "      <td>AP</td>\n",
       "      <td>cases by pathologic anatomy</td>\n",
       "      <td>http://www.scielo.edu.uy/scielo.php?script=sci_arttext&amp;pid=S1688-03902003000300006</td>\n",
       "    </tr>\n",
       "  </tbody>\n",
       "</table>\n",
       "</div>"
      ],
      "text/plain": [
       "   # Pair ID  Abbreviation ID  Definition ID  Frequency Abbreviation  \\\n",
       "0          1             3348          17876         31          DDD   \n",
       "1          2            11880          23106         11      HP-CHPR   \n",
       "2          3             1454          23213          1          EVN   \n",
       "3          4             1112          23214          1          TDS   \n",
       "4          5              231          23215          1           AP   \n",
       "\n",
       "                                                    Definition  \\\n",
       "0                                              diaria definida   \n",
       "1  Hospital Pediátrico del Centro Hospitalario Pereira Rossell   \n",
       "2                                             de vida al nacer   \n",
       "3                                    Total dermatoscopic score   \n",
       "4                                  cases by pathologic anatomy   \n",
       "\n",
       "                                                                                            Appears on  \n",
       "0  http://www.scielo.edu.uy/scielo.php?script=sci_arttext&pid=S1688-03902003000300004,http://scielo...  \n",
       "1  http://www.scielo.edu.uy/scielo.php?script=sci_arttext&pid=S1688-03902003000300004,http://www.sc...  \n",
       "2                   http://www.scielo.edu.uy/scielo.php?script=sci_arttext&pid=S1688-03902003000300005  \n",
       "3                   http://www.scielo.edu.uy/scielo.php?script=sci_arttext&pid=S1688-03902003000300006  \n",
       "4                   http://www.scielo.edu.uy/scielo.php?script=sci_arttext&pid=S1688-03902003000300006  "
      ]
     },
     "execution_count": 58,
     "metadata": {},
     "output_type": "execute_result"
    }
   ],
   "source": [
    "abremes.head()"
   ]
  },
  {
   "cell_type": "code",
   "execution_count": 59,
   "id": "fc738f95-cabe-4435-a8e8-a97e642d1f0c",
   "metadata": {},
   "outputs": [
    {
     "name": "stderr",
     "output_type": "stream",
     "text": [
      "/var/folders/1q/pw51_8397cv2pn5m63n8dwzr0000gn/T/ipykernel_14105/1011565268.py:1: FutureWarning: The default value of regex will change from True to False in a future version.\n",
      "  abremes['Abbreviation'] = abremes['Abbreviation'].str.replace('[!\"#$%&*+,-./:;<=>?@^_`{|}~]','')\n"
     ]
    }
   ],
   "source": [
    "abremes['Abbreviation'] = abremes['Abbreviation'].str.replace('[!\"#$%&*+,-./:;<=>?@^_`{|}~]','')"
   ]
  },
  {
   "cell_type": "markdown",
   "id": "5dff88f1-ef8c-40f7-b997-c3fa87c80731",
   "metadata": {},
   "source": [
    "#### Train"
   ]
  },
  {
   "cell_type": "code",
   "execution_count": 61,
   "id": "47d82479-a4dd-4a03-a730-39c812c55fc1",
   "metadata": {},
   "outputs": [],
   "source": [
    "train_track2 = train_track2.rename(columns = {'abrev':'Abbreviation'})"
   ]
  },
  {
   "cell_type": "code",
   "execution_count": 62,
   "id": "8d1717a2-92a5-4566-bc57-7021687d7e2f",
   "metadata": {},
   "outputs": [],
   "source": [
    "train_track2['Abbreviation'] = train_track2['Abbreviation'].str.strip()"
   ]
  },
  {
   "cell_type": "code",
   "execution_count": 63,
   "id": "fce125cc-8b72-4bb6-96a6-b116f57d618b",
   "metadata": {},
   "outputs": [
    {
     "name": "stdout",
     "output_type": "stream",
     "text": [
      "(290, 5)\n",
      "149\n",
      "(52551, 7)\n",
      "20236\n"
     ]
    }
   ],
   "source": [
    "print(train_track2.shape)\n",
    "print(train_track2.Abbreviation.nunique())\n",
    "print(abremes.shape)\n",
    "print(abremes.Abbreviation.nunique())"
   ]
  },
  {
   "cell_type": "markdown",
   "id": "c9bd0079-d364-4ce9-aec5-e182287506dc",
   "metadata": {},
   "source": [
    "Add dictionary with measure units"
   ]
  },
  {
   "cell_type": "code",
   "execution_count": 64,
   "id": "a7ba4b9e-a530-4a9f-bfb4-ee9abb1b363e",
   "metadata": {},
   "outputs": [],
   "source": [
    "with open(\"dictionary_measureunits.txt\", \"r\") as data:\n",
    "    dictionary = ast.literal_eval(data.read())"
   ]
  },
  {
   "cell_type": "markdown",
   "id": "ff61d44d-86e0-4f42-a3e2-28685b24cabd",
   "metadata": {},
   "source": [
    "Assign definitions from AbreMES DB"
   ]
  },
  {
   "cell_type": "code",
   "execution_count": 65,
   "id": "30c2a08c-df14-4491-801e-6b965a025444",
   "metadata": {},
   "outputs": [],
   "source": [
    "train_def = train_track2.merge(abremes[['Abbreviation', 'Definition']], how = 'left', on = 'Abbreviation', indicator = True)"
   ]
  },
  {
   "cell_type": "code",
   "execution_count": 66,
   "id": "c893352f-a16d-4138-b420-c1fb6300ef42",
   "metadata": {},
   "outputs": [
    {
     "data": {
      "text/html": [
       "<div>\n",
       "<style scoped>\n",
       "    .dataframe tbody tr th:only-of-type {\n",
       "        vertical-align: middle;\n",
       "    }\n",
       "\n",
       "    .dataframe tbody tr th {\n",
       "        vertical-align: top;\n",
       "    }\n",
       "\n",
       "    .dataframe thead th {\n",
       "        text-align: right;\n",
       "    }\n",
       "</style>\n",
       "<table border=\"1\" class=\"dataframe\">\n",
       "  <thead>\n",
       "    <tr style=\"text-align: right;\">\n",
       "      <th></th>\n",
       "      <th>nombre</th>\n",
       "      <th>StartOffset</th>\n",
       "      <th>EndOffset</th>\n",
       "      <th>Abbreviation</th>\n",
       "      <th>texto</th>\n",
       "      <th>Definition</th>\n",
       "      <th>_merge</th>\n",
       "    </tr>\n",
       "  </thead>\n",
       "  <tbody>\n",
       "    <tr>\n",
       "      <th>0</th>\n",
       "      <td>S0365-66912006000200012-1</td>\n",
       "      <td>208</td>\n",
       "      <td>210</td>\n",
       "      <td>OD</td>\n",
       "      <td>Paciente de 76 años de edad que acudió a urgencias por TCE frontal derecho con pérdida de concie...</td>\n",
       "      <td>ojo derecho</td>\n",
       "      <td>both</td>\n",
       "    </tr>\n",
       "    <tr>\n",
       "      <th>1</th>\n",
       "      <td>S0365-66912006000200012-1</td>\n",
       "      <td>208</td>\n",
       "      <td>210</td>\n",
       "      <td>OD</td>\n",
       "      <td>Paciente de 76 años de edad que acudió a urgencias por TCE frontal derecho con pérdida de concie...</td>\n",
       "      <td>o-desmetilasa</td>\n",
       "      <td>both</td>\n",
       "    </tr>\n",
       "  </tbody>\n",
       "</table>\n",
       "</div>"
      ],
      "text/plain": [
       "                      nombre  StartOffset  EndOffset Abbreviation  \\\n",
       "0  S0365-66912006000200012-1          208        210           OD   \n",
       "1  S0365-66912006000200012-1          208        210           OD   \n",
       "\n",
       "                                                                                                 texto  \\\n",
       "0  Paciente de 76 años de edad que acudió a urgencias por TCE frontal derecho con pérdida de concie...   \n",
       "1  Paciente de 76 años de edad que acudió a urgencias por TCE frontal derecho con pérdida de concie...   \n",
       "\n",
       "      Definition _merge  \n",
       "0    ojo derecho   both  \n",
       "1  o-desmetilasa   both  "
      ]
     },
     "execution_count": 66,
     "metadata": {},
     "output_type": "execute_result"
    }
   ],
   "source": [
    "train_def.head(2)"
   ]
  },
  {
   "cell_type": "code",
   "execution_count": 67,
   "id": "95232c5b-07f1-4d73-a340-f504c9d47209",
   "metadata": {},
   "outputs": [],
   "source": [
    "train_def['Definition'] = train_def['Definition'].fillna('no_existe')"
   ]
  },
  {
   "cell_type": "code",
   "execution_count": 68,
   "id": "b1f31bd9-054b-49a4-955f-b081d8dc7654",
   "metadata": {},
   "outputs": [],
   "source": [
    "train_def['Definition'] = train_def.apply(lambda x: defin_dictionary(x, dictionary), axis = 1)"
   ]
  },
  {
   "cell_type": "code",
   "execution_count": 69,
   "id": "4e0b5cf9-29b9-4617-9abf-4d1a729bbc51",
   "metadata": {},
   "outputs": [],
   "source": [
    "sf_notfind= train_def[train_def['Definition'].isna()]['Abbreviation'].unique().tolist()"
   ]
  },
  {
   "cell_type": "code",
   "execution_count": 70,
   "id": "9351168a-c372-4820-a574-8b695661fadb",
   "metadata": {
    "tags": []
   },
   "outputs": [
    {
     "data": {
      "text/plain": [
       "31"
      ]
     },
     "execution_count": 70,
     "metadata": {},
     "output_type": "execute_result"
    }
   ],
   "source": [
    "len(sf_notfind)"
   ]
  },
  {
   "cell_type": "code",
   "execution_count": 71,
   "id": "21650ba8-f718-4638-a2c0-ceccea68acf1",
   "metadata": {},
   "outputs": [],
   "source": [
    "train_def= train_def.dropna(subset = ['Definition'])"
   ]
  },
  {
   "cell_type": "code",
   "execution_count": 72,
   "id": "cb72f501-d8f1-4160-a881-6e3f18e3fb49",
   "metadata": {},
   "outputs": [
    {
     "name": "stdout",
     "output_type": "stream",
     "text": [
      "118\n"
     ]
    }
   ],
   "source": [
    "#En test real hay 600 y pico\n",
    "print(train_def.Abbreviation.nunique())"
   ]
  },
  {
   "cell_type": "code",
   "execution_count": 73,
   "id": "ca6f9fc9-6527-42f8-8259-7896cf3e5a2f",
   "metadata": {},
   "outputs": [
    {
     "data": {
      "text/html": [
       "<div>\n",
       "<style scoped>\n",
       "    .dataframe tbody tr th:only-of-type {\n",
       "        vertical-align: middle;\n",
       "    }\n",
       "\n",
       "    .dataframe tbody tr th {\n",
       "        vertical-align: top;\n",
       "    }\n",
       "\n",
       "    .dataframe thead th {\n",
       "        text-align: right;\n",
       "    }\n",
       "</style>\n",
       "<table border=\"1\" class=\"dataframe\">\n",
       "  <thead>\n",
       "    <tr style=\"text-align: right;\">\n",
       "      <th></th>\n",
       "      <th>nombre</th>\n",
       "      <th>StartOffset</th>\n",
       "      <th>EndOffset</th>\n",
       "      <th>Abbreviation</th>\n",
       "      <th>texto</th>\n",
       "      <th>Definition</th>\n",
       "      <th>_merge</th>\n",
       "    </tr>\n",
       "  </thead>\n",
       "  <tbody>\n",
       "    <tr>\n",
       "      <th>0</th>\n",
       "      <td>S0365-66912006000200012-1</td>\n",
       "      <td>208</td>\n",
       "      <td>210</td>\n",
       "      <td>OD</td>\n",
       "      <td>Paciente de 76 años de edad que acudió a urgencias por TCE frontal derecho con pérdida de concie...</td>\n",
       "      <td>ojo derecho</td>\n",
       "      <td>both</td>\n",
       "    </tr>\n",
       "    <tr>\n",
       "      <th>1</th>\n",
       "      <td>S0365-66912006000200012-1</td>\n",
       "      <td>208</td>\n",
       "      <td>210</td>\n",
       "      <td>OD</td>\n",
       "      <td>Paciente de 76 años de edad que acudió a urgencias por TCE frontal derecho con pérdida de concie...</td>\n",
       "      <td>o-desmetilasa</td>\n",
       "      <td>both</td>\n",
       "    </tr>\n",
       "    <tr>\n",
       "      <th>2</th>\n",
       "      <td>S0365-66912006000200012-1</td>\n",
       "      <td>208</td>\n",
       "      <td>210</td>\n",
       "      <td>OD</td>\n",
       "      <td>Paciente de 76 años de edad que acudió a urgencias por TCE frontal derecho con pérdida de concie...</td>\n",
       "      <td>ojo derecho</td>\n",
       "      <td>both</td>\n",
       "    </tr>\n",
       "    <tr>\n",
       "      <th>3</th>\n",
       "      <td>S0365-66912006000200012-1</td>\n",
       "      <td>208</td>\n",
       "      <td>210</td>\n",
       "      <td>OD</td>\n",
       "      <td>Paciente de 76 años de edad que acudió a urgencias por TCE frontal derecho con pérdida de concie...</td>\n",
       "      <td>oxígeno disuelto</td>\n",
       "      <td>both</td>\n",
       "    </tr>\n",
       "    <tr>\n",
       "      <th>4</th>\n",
       "      <td>S0365-66912006000200012-1</td>\n",
       "      <td>208</td>\n",
       "      <td>210</td>\n",
       "      <td>OD</td>\n",
       "      <td>Paciente de 76 años de edad que acudió a urgencias por TCE frontal derecho con pérdida de concie...</td>\n",
       "      <td>OD: cuenta dedos</td>\n",
       "      <td>both</td>\n",
       "    </tr>\n",
       "  </tbody>\n",
       "</table>\n",
       "</div>"
      ],
      "text/plain": [
       "                      nombre  StartOffset  EndOffset Abbreviation  \\\n",
       "0  S0365-66912006000200012-1          208        210           OD   \n",
       "1  S0365-66912006000200012-1          208        210           OD   \n",
       "2  S0365-66912006000200012-1          208        210           OD   \n",
       "3  S0365-66912006000200012-1          208        210           OD   \n",
       "4  S0365-66912006000200012-1          208        210           OD   \n",
       "\n",
       "                                                                                                 texto  \\\n",
       "0  Paciente de 76 años de edad que acudió a urgencias por TCE frontal derecho con pérdida de concie...   \n",
       "1  Paciente de 76 años de edad que acudió a urgencias por TCE frontal derecho con pérdida de concie...   \n",
       "2  Paciente de 76 años de edad que acudió a urgencias por TCE frontal derecho con pérdida de concie...   \n",
       "3  Paciente de 76 años de edad que acudió a urgencias por TCE frontal derecho con pérdida de concie...   \n",
       "4  Paciente de 76 años de edad que acudió a urgencias por TCE frontal derecho con pérdida de concie...   \n",
       "\n",
       "         Definition _merge  \n",
       "0       ojo derecho   both  \n",
       "1     o-desmetilasa   both  \n",
       "2       ojo derecho   both  \n",
       "3  oxígeno disuelto   both  \n",
       "4  OD: cuenta dedos   both  "
      ]
     },
     "execution_count": 73,
     "metadata": {},
     "output_type": "execute_result"
    }
   ],
   "source": [
    "train_def.head()"
   ]
  },
  {
   "cell_type": "code",
   "execution_count": 74,
   "id": "fa15c713-37d3-47cf-86b6-ecfee963b16a",
   "metadata": {},
   "outputs": [
    {
     "name": "stdout",
     "output_type": "stream",
     "text": [
      "(7175, 7)\n",
      "118\n"
     ]
    }
   ],
   "source": [
    "print(train_def.shape)\n",
    "print(train_def.Abbreviation.nunique())"
   ]
  },
  {
   "cell_type": "markdown",
   "id": "4d22ae7f-d416-4b84-ad87-1e6db5d12804",
   "metadata": {},
   "source": [
    "Get lemmatized long forms"
   ]
  },
  {
   "cell_type": "code",
   "execution_count": 75,
   "id": "008ecd33-eae5-4b50-918c-aa29a28c6757",
   "metadata": {},
   "outputs": [],
   "source": [
    "lemmatizer = WordNetLemmatizer()"
   ]
  },
  {
   "cell_type": "code",
   "execution_count": 76,
   "id": "ae6f1a7e-68ec-4fdf-bf73-fb5d348a3008",
   "metadata": {},
   "outputs": [],
   "source": [
    "train_def['Definition_lemmatized'] = train_def['Definition'].map(lambda x: lemmatizer.lemmatize(x))"
   ]
  },
  {
   "cell_type": "code",
   "execution_count": 77,
   "id": "6d828e0c-312e-4257-9409-4434d0c6898e",
   "metadata": {},
   "outputs": [
    {
     "data": {
      "text/html": [
       "<div>\n",
       "<style scoped>\n",
       "    .dataframe tbody tr th:only-of-type {\n",
       "        vertical-align: middle;\n",
       "    }\n",
       "\n",
       "    .dataframe tbody tr th {\n",
       "        vertical-align: top;\n",
       "    }\n",
       "\n",
       "    .dataframe thead th {\n",
       "        text-align: right;\n",
       "    }\n",
       "</style>\n",
       "<table border=\"1\" class=\"dataframe\">\n",
       "  <thead>\n",
       "    <tr style=\"text-align: right;\">\n",
       "      <th></th>\n",
       "      <th>nombre</th>\n",
       "      <th>StartOffset</th>\n",
       "      <th>EndOffset</th>\n",
       "      <th>Abbreviation</th>\n",
       "      <th>texto</th>\n",
       "      <th>Definition</th>\n",
       "      <th>_merge</th>\n",
       "      <th>Definition_lemmatized</th>\n",
       "    </tr>\n",
       "  </thead>\n",
       "  <tbody>\n",
       "    <tr>\n",
       "      <th>0</th>\n",
       "      <td>S0365-66912006000200012-1</td>\n",
       "      <td>208</td>\n",
       "      <td>210</td>\n",
       "      <td>OD</td>\n",
       "      <td>Paciente de 76 años de edad que acudió a urgencias por TCE frontal derecho con pérdida de concie...</td>\n",
       "      <td>ojo derecho</td>\n",
       "      <td>both</td>\n",
       "      <td>ojo derecho</td>\n",
       "    </tr>\n",
       "    <tr>\n",
       "      <th>1</th>\n",
       "      <td>S0365-66912006000200012-1</td>\n",
       "      <td>208</td>\n",
       "      <td>210</td>\n",
       "      <td>OD</td>\n",
       "      <td>Paciente de 76 años de edad que acudió a urgencias por TCE frontal derecho con pérdida de concie...</td>\n",
       "      <td>o-desmetilasa</td>\n",
       "      <td>both</td>\n",
       "      <td>o-desmetilasa</td>\n",
       "    </tr>\n",
       "    <tr>\n",
       "      <th>2</th>\n",
       "      <td>S0365-66912006000200012-1</td>\n",
       "      <td>208</td>\n",
       "      <td>210</td>\n",
       "      <td>OD</td>\n",
       "      <td>Paciente de 76 años de edad que acudió a urgencias por TCE frontal derecho con pérdida de concie...</td>\n",
       "      <td>ojo derecho</td>\n",
       "      <td>both</td>\n",
       "      <td>ojo derecho</td>\n",
       "    </tr>\n",
       "    <tr>\n",
       "      <th>3</th>\n",
       "      <td>S0365-66912006000200012-1</td>\n",
       "      <td>208</td>\n",
       "      <td>210</td>\n",
       "      <td>OD</td>\n",
       "      <td>Paciente de 76 años de edad que acudió a urgencias por TCE frontal derecho con pérdida de concie...</td>\n",
       "      <td>oxígeno disuelto</td>\n",
       "      <td>both</td>\n",
       "      <td>oxígeno disuelto</td>\n",
       "    </tr>\n",
       "    <tr>\n",
       "      <th>4</th>\n",
       "      <td>S0365-66912006000200012-1</td>\n",
       "      <td>208</td>\n",
       "      <td>210</td>\n",
       "      <td>OD</td>\n",
       "      <td>Paciente de 76 años de edad que acudió a urgencias por TCE frontal derecho con pérdida de concie...</td>\n",
       "      <td>OD: cuenta dedos</td>\n",
       "      <td>both</td>\n",
       "      <td>OD: cuenta dedos</td>\n",
       "    </tr>\n",
       "  </tbody>\n",
       "</table>\n",
       "</div>"
      ],
      "text/plain": [
       "                      nombre  StartOffset  EndOffset Abbreviation  \\\n",
       "0  S0365-66912006000200012-1          208        210           OD   \n",
       "1  S0365-66912006000200012-1          208        210           OD   \n",
       "2  S0365-66912006000200012-1          208        210           OD   \n",
       "3  S0365-66912006000200012-1          208        210           OD   \n",
       "4  S0365-66912006000200012-1          208        210           OD   \n",
       "\n",
       "                                                                                                 texto  \\\n",
       "0  Paciente de 76 años de edad que acudió a urgencias por TCE frontal derecho con pérdida de concie...   \n",
       "1  Paciente de 76 años de edad que acudió a urgencias por TCE frontal derecho con pérdida de concie...   \n",
       "2  Paciente de 76 años de edad que acudió a urgencias por TCE frontal derecho con pérdida de concie...   \n",
       "3  Paciente de 76 años de edad que acudió a urgencias por TCE frontal derecho con pérdida de concie...   \n",
       "4  Paciente de 76 años de edad que acudió a urgencias por TCE frontal derecho con pérdida de concie...   \n",
       "\n",
       "         Definition _merge Definition_lemmatized  \n",
       "0       ojo derecho   both           ojo derecho  \n",
       "1     o-desmetilasa   both         o-desmetilasa  \n",
       "2       ojo derecho   both           ojo derecho  \n",
       "3  oxígeno disuelto   both      oxígeno disuelto  \n",
       "4  OD: cuenta dedos   both      OD: cuenta dedos  "
      ]
     },
     "execution_count": 77,
     "metadata": {},
     "output_type": "execute_result"
    }
   ],
   "source": [
    "train_def.head()"
   ]
  },
  {
   "cell_type": "code",
   "execution_count": 78,
   "id": "2ca908e0-370a-4440-b601-56aa3a0da0c8",
   "metadata": {},
   "outputs": [],
   "source": [
    "del train_def['_merge']"
   ]
  },
  {
   "cell_type": "code",
   "execution_count": 79,
   "id": "bcfc82c3-d4ca-48fb-89e7-e76bcb6b3c48",
   "metadata": {},
   "outputs": [],
   "source": [
    "train_def.to_csv(\"../data/data_paper/train_subtrack2_soto_parte1.csv\", index = False)"
   ]
  },
  {
   "cell_type": "markdown",
   "id": "c94132b9-dd86-4449-ae7f-2fe140b4c1ad",
   "metadata": {
    "tags": []
   },
   "source": [
    "### Test"
   ]
  },
  {
   "cell_type": "code",
   "execution_count": 196,
   "id": "e52b3733-f987-4cf1-b8df-89b96e418be7",
   "metadata": {},
   "outputs": [],
   "source": [
    "testing = pd.read_csv(\"../data/marzo2023/subtrack2/OutputApproach4Disambiguation_testing.tsv\", sep = '\\t')"
   ]
  },
  {
   "cell_type": "code",
   "execution_count": 197,
   "id": "780fda41-d700-404e-a850-2b8df0aff25f",
   "metadata": {},
   "outputs": [],
   "source": [
    "test_track2 = testing.copy()"
   ]
  },
  {
   "cell_type": "code",
   "execution_count": 207,
   "id": "47ced4ba-0106-4528-bffe-7a266d31b104",
   "metadata": {},
   "outputs": [],
   "source": [
    "test_track2 = test_track2[['# Document_ID', 'StartOffset', 'EndOffset', 'Abbreviation']]"
   ]
  },
  {
   "cell_type": "code",
   "execution_count": 208,
   "id": "b8f01d18-2720-4a83-a478-be2758747fff",
   "metadata": {},
   "outputs": [
    {
     "data": {
      "text/html": [
       "<div>\n",
       "<style scoped>\n",
       "    .dataframe tbody tr th:only-of-type {\n",
       "        vertical-align: middle;\n",
       "    }\n",
       "\n",
       "    .dataframe tbody tr th {\n",
       "        vertical-align: top;\n",
       "    }\n",
       "\n",
       "    .dataframe thead th {\n",
       "        text-align: right;\n",
       "    }\n",
       "</style>\n",
       "<table border=\"1\" class=\"dataframe\">\n",
       "  <thead>\n",
       "    <tr style=\"text-align: right;\">\n",
       "      <th></th>\n",
       "      <th># Document_ID</th>\n",
       "      <th>StartOffset</th>\n",
       "      <th>EndOffset</th>\n",
       "      <th>Abbreviation</th>\n",
       "    </tr>\n",
       "  </thead>\n",
       "  <tbody>\n",
       "    <tr>\n",
       "      <th>0</th>\n",
       "      <td>S1130-14732005000200003-1</td>\n",
       "      <td>300</td>\n",
       "      <td>302</td>\n",
       "      <td>mm</td>\n",
       "    </tr>\n",
       "    <tr>\n",
       "      <th>1</th>\n",
       "      <td>S1130-14732005000200003-1</td>\n",
       "      <td>649</td>\n",
       "      <td>651</td>\n",
       "      <td>TC</td>\n",
       "    </tr>\n",
       "  </tbody>\n",
       "</table>\n",
       "</div>"
      ],
      "text/plain": [
       "               # Document_ID  StartOffset  EndOffset Abbreviation\n",
       "0  S1130-14732005000200003-1          300        302           mm\n",
       "1  S1130-14732005000200003-1          649        651           TC"
      ]
     },
     "execution_count": 208,
     "metadata": {},
     "output_type": "execute_result"
    }
   ],
   "source": [
    "test_track2.head(2)"
   ]
  },
  {
   "cell_type": "markdown",
   "id": "3b0a2635-f515-4ace-b4b2-83aee05f3c51",
   "metadata": {
    "tags": []
   },
   "source": [
    "### 2) Give a long-form from AbreMES data base"
   ]
  },
  {
   "cell_type": "code",
   "execution_count": 199,
   "id": "fcf157b3-2808-4df6-80fe-599dfb3fd940",
   "metadata": {},
   "outputs": [],
   "source": [
    "abremes = pd.read_csv(\"../../publicacion/AbreMES-DB/DB/pairs.tsv\", sep = '\\t')"
   ]
  },
  {
   "cell_type": "code",
   "execution_count": 200,
   "id": "97e2fe8b-09c7-482f-8423-296b18b354e8",
   "metadata": {},
   "outputs": [
    {
     "data": {
      "text/html": [
       "<div>\n",
       "<style scoped>\n",
       "    .dataframe tbody tr th:only-of-type {\n",
       "        vertical-align: middle;\n",
       "    }\n",
       "\n",
       "    .dataframe tbody tr th {\n",
       "        vertical-align: top;\n",
       "    }\n",
       "\n",
       "    .dataframe thead th {\n",
       "        text-align: right;\n",
       "    }\n",
       "</style>\n",
       "<table border=\"1\" class=\"dataframe\">\n",
       "  <thead>\n",
       "    <tr style=\"text-align: right;\">\n",
       "      <th></th>\n",
       "      <th># Pair ID</th>\n",
       "      <th>Abbreviation ID</th>\n",
       "      <th>Definition ID</th>\n",
       "      <th>Frequency</th>\n",
       "      <th>Abbreviation</th>\n",
       "      <th>Definition</th>\n",
       "      <th>Appears on</th>\n",
       "    </tr>\n",
       "  </thead>\n",
       "  <tbody>\n",
       "    <tr>\n",
       "      <th>0</th>\n",
       "      <td>1</td>\n",
       "      <td>3348</td>\n",
       "      <td>17876</td>\n",
       "      <td>31</td>\n",
       "      <td>DDD</td>\n",
       "      <td>diaria definida</td>\n",
       "      <td>http://www.scielo.edu.uy/scielo.php?script=sci_arttext&amp;pid=S1688-03902003000300004,http://scielo...</td>\n",
       "    </tr>\n",
       "    <tr>\n",
       "      <th>1</th>\n",
       "      <td>2</td>\n",
       "      <td>11880</td>\n",
       "      <td>23106</td>\n",
       "      <td>11</td>\n",
       "      <td>HP-CHPR</td>\n",
       "      <td>Hospital Pediátrico del Centro Hospitalario Pereira Rossell</td>\n",
       "      <td>http://www.scielo.edu.uy/scielo.php?script=sci_arttext&amp;pid=S1688-03902003000300004,http://www.sc...</td>\n",
       "    </tr>\n",
       "    <tr>\n",
       "      <th>2</th>\n",
       "      <td>3</td>\n",
       "      <td>1454</td>\n",
       "      <td>23213</td>\n",
       "      <td>1</td>\n",
       "      <td>EVN</td>\n",
       "      <td>de vida al nacer</td>\n",
       "      <td>http://www.scielo.edu.uy/scielo.php?script=sci_arttext&amp;pid=S1688-03902003000300005</td>\n",
       "    </tr>\n",
       "    <tr>\n",
       "      <th>3</th>\n",
       "      <td>4</td>\n",
       "      <td>1112</td>\n",
       "      <td>23214</td>\n",
       "      <td>1</td>\n",
       "      <td>TDS</td>\n",
       "      <td>Total dermatoscopic score</td>\n",
       "      <td>http://www.scielo.edu.uy/scielo.php?script=sci_arttext&amp;pid=S1688-03902003000300006</td>\n",
       "    </tr>\n",
       "    <tr>\n",
       "      <th>4</th>\n",
       "      <td>5</td>\n",
       "      <td>231</td>\n",
       "      <td>23215</td>\n",
       "      <td>1</td>\n",
       "      <td>AP</td>\n",
       "      <td>cases by pathologic anatomy</td>\n",
       "      <td>http://www.scielo.edu.uy/scielo.php?script=sci_arttext&amp;pid=S1688-03902003000300006</td>\n",
       "    </tr>\n",
       "  </tbody>\n",
       "</table>\n",
       "</div>"
      ],
      "text/plain": [
       "   # Pair ID  Abbreviation ID  Definition ID  Frequency Abbreviation  \\\n",
       "0          1             3348          17876         31          DDD   \n",
       "1          2            11880          23106         11      HP-CHPR   \n",
       "2          3             1454          23213          1          EVN   \n",
       "3          4             1112          23214          1          TDS   \n",
       "4          5              231          23215          1           AP   \n",
       "\n",
       "                                                    Definition  \\\n",
       "0                                              diaria definida   \n",
       "1  Hospital Pediátrico del Centro Hospitalario Pereira Rossell   \n",
       "2                                             de vida al nacer   \n",
       "3                                    Total dermatoscopic score   \n",
       "4                                  cases by pathologic anatomy   \n",
       "\n",
       "                                                                                            Appears on  \n",
       "0  http://www.scielo.edu.uy/scielo.php?script=sci_arttext&pid=S1688-03902003000300004,http://scielo...  \n",
       "1  http://www.scielo.edu.uy/scielo.php?script=sci_arttext&pid=S1688-03902003000300004,http://www.sc...  \n",
       "2                   http://www.scielo.edu.uy/scielo.php?script=sci_arttext&pid=S1688-03902003000300005  \n",
       "3                   http://www.scielo.edu.uy/scielo.php?script=sci_arttext&pid=S1688-03902003000300006  \n",
       "4                   http://www.scielo.edu.uy/scielo.php?script=sci_arttext&pid=S1688-03902003000300006  "
      ]
     },
     "execution_count": 200,
     "metadata": {},
     "output_type": "execute_result"
    }
   ],
   "source": [
    "abremes.head()"
   ]
  },
  {
   "cell_type": "code",
   "execution_count": 201,
   "id": "08a302e6-b967-4b67-94dd-ea36c01605f7",
   "metadata": {},
   "outputs": [
    {
     "name": "stderr",
     "output_type": "stream",
     "text": [
      "/var/folders/1q/pw51_8397cv2pn5m63n8dwzr0000gn/T/ipykernel_14105/1011565268.py:1: FutureWarning: The default value of regex will change from True to False in a future version.\n",
      "  abremes['Abbreviation'] = abremes['Abbreviation'].str.replace('[!\"#$%&*+,-./:;<=>?@^_`{|}~]','')\n"
     ]
    }
   ],
   "source": [
    "abremes['Abbreviation'] = abremes['Abbreviation'].str.replace('[!\"#$%&*+,-./:;<=>?@^_`{|}~]','')"
   ]
  },
  {
   "cell_type": "code",
   "execution_count": 202,
   "id": "b9c407da-ffd1-40ec-b784-2799c7452a22",
   "metadata": {},
   "outputs": [],
   "source": [
    "test_track2 = test_track2.rename(columns = {'abrev':'Abbreviation'})"
   ]
  },
  {
   "cell_type": "code",
   "execution_count": 203,
   "id": "8c7f625f-8d1e-416f-bdf0-075d12938b4b",
   "metadata": {},
   "outputs": [],
   "source": [
    "test_track2['Abbreviation'] = test_track2['Abbreviation'].str.strip()"
   ]
  },
  {
   "cell_type": "code",
   "execution_count": 204,
   "id": "092accca-2145-4512-af22-3bc5d4a96cb4",
   "metadata": {},
   "outputs": [
    {
     "name": "stdout",
     "output_type": "stream",
     "text": [
      "(1981, 6)\n",
      "407\n",
      "(52551, 7)\n",
      "20236\n"
     ]
    }
   ],
   "source": [
    "print(test_track2.shape)\n",
    "print(test_track2.Abbreviation.nunique())\n",
    "print(abremes.shape)\n",
    "print(abremes.Abbreviation.nunique())"
   ]
  },
  {
   "cell_type": "markdown",
   "id": "0959833f-047f-4be8-bb6c-f0378df13ffe",
   "metadata": {},
   "source": [
    "Add dictionary with measure units"
   ]
  },
  {
   "cell_type": "code",
   "execution_count": 205,
   "id": "e5a2fc02-67df-41d1-aeaa-9b17ba2c8fe3",
   "metadata": {},
   "outputs": [],
   "source": [
    "with open(\"dictionary_measureunits.txt\", \"r\") as data:\n",
    "    dictionary = ast.literal_eval(data.read())"
   ]
  },
  {
   "cell_type": "markdown",
   "id": "67fa0319-ccc8-4a18-b4a0-289f65885552",
   "metadata": {},
   "source": [
    "Assign definitions from AbreMES DB"
   ]
  },
  {
   "cell_type": "code",
   "execution_count": 209,
   "id": "c1b35ab5-69f9-4eef-95bc-2491261f3543",
   "metadata": {},
   "outputs": [],
   "source": [
    "test_def = test_track2.merge(abremes[['Abbreviation', 'Definition']], how = 'left', on = 'Abbreviation', indicator = True)"
   ]
  },
  {
   "cell_type": "code",
   "execution_count": 210,
   "id": "674d6f73-b306-4ad6-ba19-47f1967b943a",
   "metadata": {},
   "outputs": [
    {
     "data": {
      "text/html": [
       "<div>\n",
       "<style scoped>\n",
       "    .dataframe tbody tr th:only-of-type {\n",
       "        vertical-align: middle;\n",
       "    }\n",
       "\n",
       "    .dataframe tbody tr th {\n",
       "        vertical-align: top;\n",
       "    }\n",
       "\n",
       "    .dataframe thead th {\n",
       "        text-align: right;\n",
       "    }\n",
       "</style>\n",
       "<table border=\"1\" class=\"dataframe\">\n",
       "  <thead>\n",
       "    <tr style=\"text-align: right;\">\n",
       "      <th></th>\n",
       "      <th># Document_ID</th>\n",
       "      <th>StartOffset</th>\n",
       "      <th>EndOffset</th>\n",
       "      <th>Abbreviation</th>\n",
       "      <th>Definition</th>\n",
       "      <th>_merge</th>\n",
       "    </tr>\n",
       "  </thead>\n",
       "  <tbody>\n",
       "    <tr>\n",
       "      <th>0</th>\n",
       "      <td>S1130-14732005000200003-1</td>\n",
       "      <td>300</td>\n",
       "      <td>302</td>\n",
       "      <td>mm</td>\n",
       "      <td>aminoacidos más abundantes</td>\n",
       "      <td>both</td>\n",
       "    </tr>\n",
       "    <tr>\n",
       "      <th>1</th>\n",
       "      <td>S1130-14732005000200003-1</td>\n",
       "      <td>649</td>\n",
       "      <td>651</td>\n",
       "      <td>TC</td>\n",
       "      <td>tomografías computarizadas</td>\n",
       "      <td>both</td>\n",
       "    </tr>\n",
       "  </tbody>\n",
       "</table>\n",
       "</div>"
      ],
      "text/plain": [
       "               # Document_ID  StartOffset  EndOffset Abbreviation  \\\n",
       "0  S1130-14732005000200003-1          300        302           mm   \n",
       "1  S1130-14732005000200003-1          649        651           TC   \n",
       "\n",
       "                   Definition _merge  \n",
       "0  aminoacidos más abundantes   both  \n",
       "1  tomografías computarizadas   both  "
      ]
     },
     "execution_count": 210,
     "metadata": {},
     "output_type": "execute_result"
    }
   ],
   "source": [
    "test_def.head(2)"
   ]
  },
  {
   "cell_type": "code",
   "execution_count": 211,
   "id": "3044cb6f-d5a9-4691-9b75-c3cff88fe7bf",
   "metadata": {},
   "outputs": [],
   "source": [
    "test_def['Definition'] = test_def['Definition'].fillna('no_existe')"
   ]
  },
  {
   "cell_type": "code",
   "execution_count": 212,
   "id": "fa98edb1-37f2-4301-810c-3a93f34cfc3d",
   "metadata": {},
   "outputs": [],
   "source": [
    "test_def['Definition'] = test_def.apply(lambda x: defin_dictionary(x, dictionary), axis = 1)"
   ]
  },
  {
   "cell_type": "code",
   "execution_count": 213,
   "id": "c634a009-e1c3-4f09-961d-eb11616f5d10",
   "metadata": {},
   "outputs": [],
   "source": [
    "sf_notfind= test_def[test_def['Definition'].isna()]['Abbreviation'].unique().tolist()"
   ]
  },
  {
   "cell_type": "code",
   "execution_count": 214,
   "id": "7e95a2e1-b4a4-4878-bdf1-68f40542b504",
   "metadata": {
    "tags": []
   },
   "outputs": [
    {
     "data": {
      "text/plain": [
       "88"
      ]
     },
     "execution_count": 214,
     "metadata": {},
     "output_type": "execute_result"
    }
   ],
   "source": [
    "len(sf_notfind)"
   ]
  },
  {
   "cell_type": "code",
   "execution_count": 215,
   "id": "178a3022-ec18-42d0-99f5-fb9c845d1dcd",
   "metadata": {},
   "outputs": [],
   "source": [
    "test_def= test_def.dropna(subset = ['Definition'])"
   ]
  },
  {
   "cell_type": "code",
   "execution_count": 216,
   "id": "e878c609-5a13-4479-87c2-7556ced01b46",
   "metadata": {},
   "outputs": [
    {
     "name": "stdout",
     "output_type": "stream",
     "text": [
      "319\n"
     ]
    }
   ],
   "source": [
    "#En test real hay 600 y pico\n",
    "print(test_def.Abbreviation.nunique())"
   ]
  },
  {
   "cell_type": "code",
   "execution_count": 217,
   "id": "61a5ca20-1fba-42a1-b720-bc2dde35c37a",
   "metadata": {},
   "outputs": [
    {
     "data": {
      "text/html": [
       "<div>\n",
       "<style scoped>\n",
       "    .dataframe tbody tr th:only-of-type {\n",
       "        vertical-align: middle;\n",
       "    }\n",
       "\n",
       "    .dataframe tbody tr th {\n",
       "        vertical-align: top;\n",
       "    }\n",
       "\n",
       "    .dataframe thead th {\n",
       "        text-align: right;\n",
       "    }\n",
       "</style>\n",
       "<table border=\"1\" class=\"dataframe\">\n",
       "  <thead>\n",
       "    <tr style=\"text-align: right;\">\n",
       "      <th></th>\n",
       "      <th># Document_ID</th>\n",
       "      <th>StartOffset</th>\n",
       "      <th>EndOffset</th>\n",
       "      <th>Abbreviation</th>\n",
       "      <th>Definition</th>\n",
       "      <th>_merge</th>\n",
       "    </tr>\n",
       "  </thead>\n",
       "  <tbody>\n",
       "    <tr>\n",
       "      <th>0</th>\n",
       "      <td>S1130-14732005000200003-1</td>\n",
       "      <td>300</td>\n",
       "      <td>302</td>\n",
       "      <td>mm</td>\n",
       "      <td>aminoacidos más abundantes</td>\n",
       "      <td>both</td>\n",
       "    </tr>\n",
       "    <tr>\n",
       "      <th>1</th>\n",
       "      <td>S1130-14732005000200003-1</td>\n",
       "      <td>649</td>\n",
       "      <td>651</td>\n",
       "      <td>TC</td>\n",
       "      <td>tomografías computarizadas</td>\n",
       "      <td>both</td>\n",
       "    </tr>\n",
       "    <tr>\n",
       "      <th>2</th>\n",
       "      <td>S1130-14732005000200003-1</td>\n",
       "      <td>649</td>\n",
       "      <td>651</td>\n",
       "      <td>TC</td>\n",
       "      <td>tomografía computarizada</td>\n",
       "      <td>both</td>\n",
       "    </tr>\n",
       "    <tr>\n",
       "      <th>3</th>\n",
       "      <td>S1130-14732005000200003-1</td>\n",
       "      <td>649</td>\n",
       "      <td>651</td>\n",
       "      <td>TC</td>\n",
       "      <td>tomografia computarizada</td>\n",
       "      <td>both</td>\n",
       "    </tr>\n",
       "    <tr>\n",
       "      <th>4</th>\n",
       "      <td>S1130-14732005000200003-1</td>\n",
       "      <td>649</td>\n",
       "      <td>651</td>\n",
       "      <td>TC</td>\n",
       "      <td>tomografía craneal</td>\n",
       "      <td>both</td>\n",
       "    </tr>\n",
       "  </tbody>\n",
       "</table>\n",
       "</div>"
      ],
      "text/plain": [
       "               # Document_ID  StartOffset  EndOffset Abbreviation  \\\n",
       "0  S1130-14732005000200003-1          300        302           mm   \n",
       "1  S1130-14732005000200003-1          649        651           TC   \n",
       "2  S1130-14732005000200003-1          649        651           TC   \n",
       "3  S1130-14732005000200003-1          649        651           TC   \n",
       "4  S1130-14732005000200003-1          649        651           TC   \n",
       "\n",
       "                   Definition _merge  \n",
       "0  aminoacidos más abundantes   both  \n",
       "1  tomografías computarizadas   both  \n",
       "2    tomografía computarizada   both  \n",
       "3    tomografia computarizada   both  \n",
       "4          tomografía craneal   both  "
      ]
     },
     "execution_count": 217,
     "metadata": {},
     "output_type": "execute_result"
    }
   ],
   "source": [
    "test_def.head()"
   ]
  },
  {
   "cell_type": "code",
   "execution_count": 218,
   "id": "fdbb016a-8028-45f7-90e1-4fc459632aad",
   "metadata": {},
   "outputs": [
    {
     "name": "stdout",
     "output_type": "stream",
     "text": [
      "(41480, 6)\n",
      "319\n"
     ]
    }
   ],
   "source": [
    "print(test_def.shape)\n",
    "print(test_def.Abbreviation.nunique())"
   ]
  },
  {
   "cell_type": "markdown",
   "id": "57930bb0-41dd-449c-accc-518d27c3034b",
   "metadata": {},
   "source": [
    "Get lemmatized long forms"
   ]
  },
  {
   "cell_type": "code",
   "execution_count": 219,
   "id": "f4acdda9-aae4-4d7f-a528-2cdbea3b63a2",
   "metadata": {},
   "outputs": [],
   "source": [
    "lemmatizer = WordNetLemmatizer()"
   ]
  },
  {
   "cell_type": "code",
   "execution_count": 220,
   "id": "c52bff08-964a-4a8f-8711-82ff5de44a93",
   "metadata": {},
   "outputs": [],
   "source": [
    "test_def['Definition_lemmatized'] = test_def['Definition'].map(lambda x: lemmatizer.lemmatize(x))"
   ]
  },
  {
   "cell_type": "code",
   "execution_count": 221,
   "id": "ef5efe74-21eb-4f05-b31c-77965cb34de5",
   "metadata": {},
   "outputs": [
    {
     "data": {
      "text/html": [
       "<div>\n",
       "<style scoped>\n",
       "    .dataframe tbody tr th:only-of-type {\n",
       "        vertical-align: middle;\n",
       "    }\n",
       "\n",
       "    .dataframe tbody tr th {\n",
       "        vertical-align: top;\n",
       "    }\n",
       "\n",
       "    .dataframe thead th {\n",
       "        text-align: right;\n",
       "    }\n",
       "</style>\n",
       "<table border=\"1\" class=\"dataframe\">\n",
       "  <thead>\n",
       "    <tr style=\"text-align: right;\">\n",
       "      <th></th>\n",
       "      <th># Document_ID</th>\n",
       "      <th>StartOffset</th>\n",
       "      <th>EndOffset</th>\n",
       "      <th>Abbreviation</th>\n",
       "      <th>Definition</th>\n",
       "      <th>_merge</th>\n",
       "      <th>Definition_lemmatized</th>\n",
       "    </tr>\n",
       "  </thead>\n",
       "  <tbody>\n",
       "    <tr>\n",
       "      <th>0</th>\n",
       "      <td>S1130-14732005000200003-1</td>\n",
       "      <td>300</td>\n",
       "      <td>302</td>\n",
       "      <td>mm</td>\n",
       "      <td>aminoacidos más abundantes</td>\n",
       "      <td>both</td>\n",
       "      <td>aminoacidos más abundantes</td>\n",
       "    </tr>\n",
       "    <tr>\n",
       "      <th>1</th>\n",
       "      <td>S1130-14732005000200003-1</td>\n",
       "      <td>649</td>\n",
       "      <td>651</td>\n",
       "      <td>TC</td>\n",
       "      <td>tomografías computarizadas</td>\n",
       "      <td>both</td>\n",
       "      <td>tomografías computarizadas</td>\n",
       "    </tr>\n",
       "    <tr>\n",
       "      <th>2</th>\n",
       "      <td>S1130-14732005000200003-1</td>\n",
       "      <td>649</td>\n",
       "      <td>651</td>\n",
       "      <td>TC</td>\n",
       "      <td>tomografía computarizada</td>\n",
       "      <td>both</td>\n",
       "      <td>tomografía computarizada</td>\n",
       "    </tr>\n",
       "    <tr>\n",
       "      <th>3</th>\n",
       "      <td>S1130-14732005000200003-1</td>\n",
       "      <td>649</td>\n",
       "      <td>651</td>\n",
       "      <td>TC</td>\n",
       "      <td>tomografia computarizada</td>\n",
       "      <td>both</td>\n",
       "      <td>tomografia computarizada</td>\n",
       "    </tr>\n",
       "    <tr>\n",
       "      <th>4</th>\n",
       "      <td>S1130-14732005000200003-1</td>\n",
       "      <td>649</td>\n",
       "      <td>651</td>\n",
       "      <td>TC</td>\n",
       "      <td>tomografía craneal</td>\n",
       "      <td>both</td>\n",
       "      <td>tomografía craneal</td>\n",
       "    </tr>\n",
       "  </tbody>\n",
       "</table>\n",
       "</div>"
      ],
      "text/plain": [
       "               # Document_ID  StartOffset  EndOffset Abbreviation  \\\n",
       "0  S1130-14732005000200003-1          300        302           mm   \n",
       "1  S1130-14732005000200003-1          649        651           TC   \n",
       "2  S1130-14732005000200003-1          649        651           TC   \n",
       "3  S1130-14732005000200003-1          649        651           TC   \n",
       "4  S1130-14732005000200003-1          649        651           TC   \n",
       "\n",
       "                   Definition _merge       Definition_lemmatized  \n",
       "0  aminoacidos más abundantes   both  aminoacidos más abundantes  \n",
       "1  tomografías computarizadas   both  tomografías computarizadas  \n",
       "2    tomografía computarizada   both    tomografía computarizada  \n",
       "3    tomografia computarizada   both    tomografia computarizada  \n",
       "4          tomografía craneal   both          tomografía craneal  "
      ]
     },
     "execution_count": 221,
     "metadata": {},
     "output_type": "execute_result"
    }
   ],
   "source": [
    "test_def.head()"
   ]
  },
  {
   "cell_type": "code",
   "execution_count": 222,
   "id": "93dbb42f-0468-4b71-bedd-d08f6fce9e26",
   "metadata": {},
   "outputs": [],
   "source": [
    "del test_def['_merge']"
   ]
  },
  {
   "cell_type": "code",
   "execution_count": 224,
   "id": "6049c41c-fe1f-4003-8bdc-697819b4932e",
   "metadata": {},
   "outputs": [],
   "source": [
    "test_def.to_csv(\"../data/marzo2023/test_subtrack2_marzo23soto_parte1.csv\", sep = '\\t', index = False)"
   ]
  }
 ],
 "metadata": {
  "kernelspec": {
   "display_name": "Python 3 (ipykernel)",
   "language": "python",
   "name": "python3"
  },
  "language_info": {
   "codemirror_mode": {
    "name": "ipython",
    "version": 3
   },
   "file_extension": ".py",
   "mimetype": "text/x-python",
   "name": "python",
   "nbconvert_exporter": "python",
   "pygments_lexer": "ipython3",
   "version": "3.8.12"
  }
 },
 "nbformat": 4,
 "nbformat_minor": 5
}
