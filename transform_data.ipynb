{
 "cells": [
  {
   "cell_type": "markdown",
   "metadata": {},
   "source": [
    "# Library"
   ]
  },
  {
   "cell_type": "code",
   "execution_count": 1,
   "metadata": {},
   "outputs": [],
   "source": [
    "import pandas as pd\n",
    "import numpy as np\n",
    "import os\n",
    "import re\n",
    "import collections\n",
    "import unidecode\n",
    "#from gensim.parsing.preprocessing import remove_stopwords\n",
    "import nltk\n",
    "from nltk.corpus import stopwords\n",
    "import itertools \n",
    "from nltk.tokenize import word_tokenize\n",
    "from string import punctuation\n",
    "\n",
    "#from nltk import ngrams\n",
    "\n",
    "#from sklearn.feature_extraction.text import CountVectorizer\n",
    "#from sklearn.feature_extraction.text import TfidfTransformer"
   ]
  },
  {
   "cell_type": "code",
   "execution_count": 2,
   "metadata": {},
   "outputs": [],
   "source": [
    "import numpy as np\n",
    "\n",
    "#import tensorflow_datasets as tfds\n",
    "#import tensorflow as tf\n",
    "\n",
    "#from tensorflow.keras import preprocessing\n",
    "#from tensorflow.keras import layers\n",
    "\n",
    "#tfds.disable_progress_bar()"
   ]
  },
  {
   "cell_type": "code",
   "execution_count": 3,
   "metadata": {},
   "outputs": [],
   "source": [
    "#from tensorflow.keras import losses\n",
    "#from tensorflow.keras import preprocessing\n",
    "#from tensorflow.keras import utils\n",
    "#from tensorflow.keras.layers.experimental.preprocessing import TextVectorization\n",
    "\n",
    "#import tensorflow_datasets as tfds\n",
    "#import tensorflow_text as tf_text"
   ]
  },
  {
   "cell_type": "code",
   "execution_count": 4,
   "metadata": {},
   "outputs": [],
   "source": [
    "pd.set_option('display.max_colwidth', 100)"
   ]
  },
  {
   "cell_type": "code",
   "execution_count": 5,
   "metadata": {},
   "outputs": [],
   "source": [
    "%matplotlib inline\n",
    "from matplotlib import pyplot as plt"
   ]
  },
  {
   "cell_type": "code",
   "execution_count": 6,
   "metadata": {},
   "outputs": [],
   "source": [
    "from functools import reduce"
   ]
  },
  {
   "cell_type": "markdown",
   "metadata": {},
   "source": [
    "# Functions"
   ]
  },
  {
   "cell_type": "code",
   "execution_count": 7,
   "metadata": {},
   "outputs": [],
   "source": [
    "def read_texts(path):\n",
    "    data = []\n",
    "    file_name = os.listdir(path)\n",
    "\n",
    "    for name in file_name:\n",
    "        if name.endswith('.txt'):\n",
    "            with open(path + name,encoding=\"utf8\") as f:\n",
    "                text = f.read()\n",
    "                data.append({'nombre':name.replace('.txt',''), 'texto':text})\n",
    "\n",
    "    df = pd.DataFrame(data)\n",
    "    return df"
   ]
  },
  {
   "cell_type": "code",
   "execution_count": 8,
   "metadata": {},
   "outputs": [],
   "source": [
    "def clean_text(string):\n",
    "    \"\"\"\n",
    "    A method to clean text \n",
    "    \"\"\"\n",
    "    \n",
    "    # Removing the punctuations\n",
    "    for x in string.lower(): \n",
    "        if x in punctuation:\n",
    "            if x != '/':\n",
    "                string = string.replace(x, \"\")\n",
    "            else:\n",
    "                string = string.replace(x, \" \")\n",
    "    \n",
    "    string = unidecode.unidecode(string)\n",
    "\n",
    "#     # Converting the text to lower\n",
    "#     string = string.lower()\n",
    "\n",
    "    # Removing stop words\n",
    "    string = ' '.join([word for word in string.split() if word not in swords])\n",
    "\n",
    "    # Cleaning the whitespaces\n",
    "    string = re.sub(r'\\s+', ' ', string).strip()\n",
    "\n",
    "    return string "
   ]
  },
  {
   "cell_type": "code",
   "execution_count": 9,
   "metadata": {},
   "outputs": [
    {
     "name": "stderr",
     "output_type": "stream",
     "text": [
      "[nltk_data] Downloading package stopwords to\n",
      "[nltk_data]     /Users/egarcia/nltk_data...\n",
      "[nltk_data]   Package stopwords is already up-to-date!\n"
     ]
    }
   ],
   "source": [
    "nltk.download('stopwords')\n",
    "swords = list(set(stopwords.words('spanish')))"
   ]
  },
  {
   "cell_type": "code",
   "execution_count": 10,
   "metadata": {},
   "outputs": [],
   "source": [
    "def sep_num_text(data):\n",
    "\n",
    "    words = word_tokenize(data) \n",
    "    for w in words:\n",
    "        if re.search(r'\\d', w):\n",
    "            ind = words.index(w)\n",
    "            words[ind] = [''.join(g) for k, g in itertools.groupby(w, str.isalpha)]\n",
    "    data = ' '.join([x if type(x) is not list else ' '.join(x) for x in words])\n",
    "    \n",
    "    return data"
   ]
  },
  {
   "cell_type": "code",
   "execution_count": 11,
   "metadata": {},
   "outputs": [],
   "source": [
    "def get_f_b_context_text(data):\n",
    "    \n",
    "    '''Return context in a string format'''\n",
    "    \n",
    "    all_data = []\n",
    "    sf_not_found = []\n",
    "    \n",
    "    for instance in data:\n",
    "           \n",
    "        texto = instance['texto']    \n",
    "        target_word = instance['short_form'] \n",
    "        \n",
    "        if target_word in texto:\n",
    "\n",
    "            stop_ini_idx = instance['StartOffset'] #índice del inicio de la target\n",
    "            stop_fin_idx = instance['EndOffset'] #índice del inicio de la target\n",
    "\n",
    "            _instance = []\n",
    "            xf = texto[:stop_ini_idx] + ' <start> ' +texto[stop_ini_idx:stop_fin_idx] + ' <end> ' #palabras anteriores a la target\n",
    "            #xf = texto[:stop_ini_idx] +texto[stop_ini_idx:stop_fin_idx]\n",
    "            xb = texto[stop_fin_idx+1:]   #palabras posteriores a la target            \n",
    "\n",
    "            instance_id = instance['long_form'] #id del significado\n",
    "\n",
    "            _instance.append(target_word)\n",
    "            _instance.append(xf)\n",
    "            _instance.append(xb)\n",
    "            _instance.append(instance_id)\n",
    "\n",
    "            all_data.append(_instance[:])\n",
    "        else:\n",
    "            sf_not_found.append(target_word)\n",
    "#             print(\"El acrónimo {} no aparece en el texto {}\".format(target_word, instance['doc_id']))\n",
    "        \n",
    "    return all_data, sf_not_found"
   ]
  },
  {
   "cell_type": "code",
   "execution_count": 12,
   "metadata": {},
   "outputs": [],
   "source": [
    "def limit_context(data):\n",
    "\n",
    "    for doc in data:\n",
    "        \n",
    "        sf, xf, xb, lf = doc[0], doc[1], doc[2], doc[3]\n",
    "\n",
    "        xf_words = word_tokenize(xf)[-n_step_f-1:]\n",
    "        xb_words = word_tokenize(xb)[:n_step_b]\n",
    "\n",
    "        doc[1] = ' '.join(xf_words)\n",
    "        doc[2] = ' '.join(xb_words)   \n",
    "\n",
    "    return data        "
   ]
  },
  {
   "cell_type": "code",
   "execution_count": 13,
   "metadata": {},
   "outputs": [],
   "source": [
    "def create_dict(data):\n",
    "    \n",
    "    data_dic = []\n",
    "    \n",
    "    for instance in data:\n",
    "            \n",
    "        dic = {}\n",
    "\n",
    "        dic['short_form'] = instance[0]\n",
    "        dic['context'] = instance[1] + ' ' + instance[2]\n",
    "        dic['long_form'] = instance[3]\n",
    "    \n",
    "        data_dic.append(dic)\n",
    "        \n",
    "    return data_dic\n",
    "    "
   ]
  },
  {
   "cell_type": "code",
   "execution_count": 14,
   "metadata": {},
   "outputs": [],
   "source": [
    "def distance_levenshtein(str1, str2):\n",
    "    d=dict()\n",
    "    for i in range(len(str1)+1):\n",
    "        d[i]=dict()\n",
    "        d[i][0]=i\n",
    "    for i in range(len(str2)+1):\n",
    "        d[0][i] = i\n",
    "    for i in range(1, len(str1)+1):\n",
    "        for j in range(1, len(str2)+1):\n",
    "            d[i][j] = min(d[i][j-1]+1, d[i-1][j]+1, d[i-1][j-1]+(not str1[i-1] == str2[j-1]))\n",
    "    return d[len(str1)][len(str2)]"
   ]
  },
  {
   "cell_type": "code",
   "execution_count": 15,
   "metadata": {},
   "outputs": [],
   "source": [
    "def normalize_lf(row):\n",
    "    leven2 = []\n",
    "    for i in row:\n",
    "        for j in row:\n",
    "            if i != j:\n",
    "                ratio = distance_levenshtein(i,j)/len(i)\n",
    "                if ratio < 0.2:\n",
    "                    leven2.append(j)\n",
    "    if leven2:\n",
    "        leven2 = set(leven2)\n",
    "        lista = []\n",
    "        for i in leven2:\n",
    "            val = frec[frec['index'] == i]['long_form'].iloc[0]\n",
    "            lista.append((i, val))\n",
    "        lista = set(lista)\n",
    "        most_freq = sorted(set(lista), key=lambda x: x[1], reverse = True)[0][0]\n",
    "        sust = {}\n",
    "        for i in set(leven2):\n",
    "            sust[i] = most_freq\n",
    "        \n",
    "        return sust\n",
    "    else:\n",
    "        pass\n",
    "    "
   ]
  },
  {
   "cell_type": "markdown",
   "metadata": {},
   "source": [
    "# Load Data"
   ]
  },
  {
   "cell_type": "markdown",
   "metadata": {},
   "source": [
    "### Testing\n",
    "\n",
    "220 clinical cases."
   ]
  },
  {
   "cell_type": "code",
   "execution_count": 16,
   "metadata": {},
   "outputs": [],
   "source": [
    "testing_abbr = pd.read_csv(\"../datasets/testing_set/clinical_cases.abbreviations.testing_set.tsv\", sep = '\\t')\n",
    "testing_met = pd.read_csv(\"../datasets/testing_set/clinical_cases.metadata.testing_set.tsv\", sep = '\\t')\n",
    "testing_rel = pd.read_csv(\"../datasets/testing_set/clinical_cases.relations.testing_set.tsv\", sep = '\\t')"
   ]
  },
  {
   "cell_type": "code",
   "execution_count": 17,
   "metadata": {},
   "outputs": [
    {
     "data": {
      "text/html": [
       "<div>\n",
       "<style scoped>\n",
       "    .dataframe tbody tr th:only-of-type {\n",
       "        vertical-align: middle;\n",
       "    }\n",
       "\n",
       "    .dataframe tbody tr th {\n",
       "        vertical-align: top;\n",
       "    }\n",
       "\n",
       "    .dataframe thead th {\n",
       "        text-align: right;\n",
       "    }\n",
       "</style>\n",
       "<table border=\"1\" class=\"dataframe\">\n",
       "  <thead>\n",
       "    <tr style=\"text-align: right;\">\n",
       "      <th></th>\n",
       "      <th># Document_ID</th>\n",
       "      <th>Case_ID</th>\n",
       "      <th>ISSN</th>\n",
       "      <th>Date</th>\n",
       "      <th>Source</th>\n",
       "      <th>Full_Text_Link</th>\n",
       "    </tr>\n",
       "  </thead>\n",
       "  <tbody>\n",
       "    <tr>\n",
       "      <th>0</th>\n",
       "      <td>S1130-01082006000700014-1.txt</td>\n",
       "      <td>1.txt</td>\n",
       "      <td>1130-0108</td>\n",
       "      <td>2006-07-01</td>\n",
       "      <td>Revista Española de Enfermedades Digestivas  v.98 n.7 2006</td>\n",
       "      <td>http://scielo.isciii.es/scielo.php?script=sci_arttext&amp;pid=S1130-01082006000700014</td>\n",
       "    </tr>\n",
       "    <tr>\n",
       "      <th>1</th>\n",
       "      <td>S1130-01082007000300006-7.txt</td>\n",
       "      <td>7.txt</td>\n",
       "      <td>1130-0108</td>\n",
       "      <td>2007-03-01</td>\n",
       "      <td>Revista Española de Enfermedades Digestivas  v.99 n.3 2007</td>\n",
       "      <td>http://scielo.isciii.es/scielo.php?script=sci_arttext&amp;pid=S1130-01082007000300006</td>\n",
       "    </tr>\n",
       "    <tr>\n",
       "      <th>2</th>\n",
       "      <td>S1134-80462009000100005-1.txt</td>\n",
       "      <td>1.txt</td>\n",
       "      <td>1134-8046</td>\n",
       "      <td>2009-02-01</td>\n",
       "      <td>Revista de la Sociedad Española del Dolor  v.16 n.1 2009</td>\n",
       "      <td>http://scielo.isciii.es/scielo.php?script=sci_arttext&amp;pid=S1134-80462009000100005</td>\n",
       "    </tr>\n",
       "    <tr>\n",
       "      <th>3</th>\n",
       "      <td>S1137-66272014000300015-1.txt</td>\n",
       "      <td>1.txt</td>\n",
       "      <td>1137-6627</td>\n",
       "      <td>2014-12-01</td>\n",
       "      <td>Anales del Sistema Sanitario de Navarra  v.37 n.3 2014</td>\n",
       "      <td>http://scielo.isciii.es/scielo.php?script=sci_arttext&amp;pid=S1137-66272014000300015</td>\n",
       "    </tr>\n",
       "    <tr>\n",
       "      <th>4</th>\n",
       "      <td>S0365-66912004001200011-1.txt</td>\n",
       "      <td>1.txt</td>\n",
       "      <td>0365-6691</td>\n",
       "      <td>2004-12-01</td>\n",
       "      <td>Archivos de la Sociedad Española de Oftalmología  v.79 n.12 2004</td>\n",
       "      <td>http://scielo.isciii.es/scielo.php?script=sci_arttext&amp;pid=S0365-66912004001200011</td>\n",
       "    </tr>\n",
       "  </tbody>\n",
       "</table>\n",
       "</div>"
      ],
      "text/plain": [
       "                   # Document_ID Case_ID       ISSN        Date  \\\n",
       "0  S1130-01082006000700014-1.txt   1.txt  1130-0108  2006-07-01   \n",
       "1  S1130-01082007000300006-7.txt   7.txt  1130-0108  2007-03-01   \n",
       "2  S1134-80462009000100005-1.txt   1.txt  1134-8046  2009-02-01   \n",
       "3  S1137-66272014000300015-1.txt   1.txt  1137-6627  2014-12-01   \n",
       "4  S0365-66912004001200011-1.txt   1.txt  0365-6691  2004-12-01   \n",
       "\n",
       "                                                             Source  \\\n",
       "0        Revista Española de Enfermedades Digestivas  v.98 n.7 2006   \n",
       "1        Revista Española de Enfermedades Digestivas  v.99 n.3 2007   \n",
       "2          Revista de la Sociedad Española del Dolor  v.16 n.1 2009   \n",
       "3            Anales del Sistema Sanitario de Navarra  v.37 n.3 2014   \n",
       "4  Archivos de la Sociedad Española de Oftalmología  v.79 n.12 2004   \n",
       "\n",
       "                                                                      Full_Text_Link  \n",
       "0  http://scielo.isciii.es/scielo.php?script=sci_arttext&pid=S1130-01082006000700014  \n",
       "1  http://scielo.isciii.es/scielo.php?script=sci_arttext&pid=S1130-01082007000300006  \n",
       "2  http://scielo.isciii.es/scielo.php?script=sci_arttext&pid=S1134-80462009000100005  \n",
       "3  http://scielo.isciii.es/scielo.php?script=sci_arttext&pid=S1137-66272014000300015  \n",
       "4  http://scielo.isciii.es/scielo.php?script=sci_arttext&pid=S0365-66912004001200011  "
      ]
     },
     "execution_count": 17,
     "metadata": {},
     "output_type": "execute_result"
    }
   ],
   "source": [
    "testing_met.head()"
   ]
  },
  {
   "cell_type": "code",
   "execution_count": 18,
   "metadata": {},
   "outputs": [],
   "source": [
    "testing_rel = testing_rel.reset_index()"
   ]
  },
  {
   "cell_type": "code",
   "execution_count": 19,
   "metadata": {},
   "outputs": [],
   "source": [
    "testing_rel.columns = ['# Document_ID', 'Mention_A_type', 'Mention_A_StartOffset',\n",
    "      'Mention_A', 'Relation_type', 'Mention_B_type',\n",
    "       'Mention_B_StartOffset', 'Mention_B_EndOffset', 'Mention_B']"
   ]
  },
  {
   "cell_type": "code",
   "execution_count": 20,
   "metadata": {},
   "outputs": [],
   "source": [
    "testing_rel = testing_rel.rename(columns = {'# Document_ID': 'doc_id'})"
   ]
  },
  {
   "cell_type": "code",
   "execution_count": 21,
   "metadata": {},
   "outputs": [
    {
     "data": {
      "text/html": [
       "<div>\n",
       "<style scoped>\n",
       "    .dataframe tbody tr th:only-of-type {\n",
       "        vertical-align: middle;\n",
       "    }\n",
       "\n",
       "    .dataframe tbody tr th {\n",
       "        vertical-align: top;\n",
       "    }\n",
       "\n",
       "    .dataframe thead th {\n",
       "        text-align: right;\n",
       "    }\n",
       "</style>\n",
       "<table border=\"1\" class=\"dataframe\">\n",
       "  <thead>\n",
       "    <tr style=\"text-align: right;\">\n",
       "      <th></th>\n",
       "      <th>doc_id</th>\n",
       "      <th>Mention_A_type</th>\n",
       "      <th>Mention_A_StartOffset</th>\n",
       "      <th>Mention_A</th>\n",
       "      <th>Relation_type</th>\n",
       "      <th>Mention_B_type</th>\n",
       "      <th>Mention_B_StartOffset</th>\n",
       "      <th>Mention_B_EndOffset</th>\n",
       "      <th>Mention_B</th>\n",
       "    </tr>\n",
       "  </thead>\n",
       "  <tbody>\n",
       "    <tr>\n",
       "      <th>0</th>\n",
       "      <td>S0211-69952013000500019-1</td>\n",
       "      <td>SHORT_FORM</td>\n",
       "      <td>3739</td>\n",
       "      <td>ARA II</td>\n",
       "      <td>SHORT-LONG</td>\n",
       "      <td>LONG_FORM</td>\n",
       "      <td>3695</td>\n",
       "      <td>3737</td>\n",
       "      <td>antagonista del receptor de angiotesina II</td>\n",
       "    </tr>\n",
       "    <tr>\n",
       "      <th>1</th>\n",
       "      <td>S0211-69952013000500019-1</td>\n",
       "      <td>SHORT_FORM</td>\n",
       "      <td>2793</td>\n",
       "      <td>PCR</td>\n",
       "      <td>SHORT-LONG</td>\n",
       "      <td>LONG_FORM</td>\n",
       "      <td>2798</td>\n",
       "      <td>2837</td>\n",
       "      <td>reacción en cadena de enzima polimerasa</td>\n",
       "    </tr>\n",
       "    <tr>\n",
       "      <th>2</th>\n",
       "      <td>S0365-66912004000600008-1</td>\n",
       "      <td>SHORT_FORM</td>\n",
       "      <td>406</td>\n",
       "      <td>AV</td>\n",
       "      <td>SHORT-LONG</td>\n",
       "      <td>LONG_FORM</td>\n",
       "      <td>390</td>\n",
       "      <td>404</td>\n",
       "      <td>agudeza visual</td>\n",
       "    </tr>\n",
       "    <tr>\n",
       "      <th>3</th>\n",
       "      <td>S0211-69952012000500025-1</td>\n",
       "      <td>SHORT_FORM</td>\n",
       "      <td>945</td>\n",
       "      <td>angio-TAC</td>\n",
       "      <td>SHORT-LONG</td>\n",
       "      <td>LONG_FORM</td>\n",
       "      <td>908</td>\n",
       "      <td>943</td>\n",
       "      <td>angiotomografía computarizada axial</td>\n",
       "    </tr>\n",
       "    <tr>\n",
       "      <th>4</th>\n",
       "      <td>S1130-05582017000200122-1</td>\n",
       "      <td>SHORT_FORM</td>\n",
       "      <td>940</td>\n",
       "      <td>RMN</td>\n",
       "      <td>SHORT-LONG</td>\n",
       "      <td>LONG_FORM</td>\n",
       "      <td>910</td>\n",
       "      <td>938</td>\n",
       "      <td>resonancia magnética nuclear</td>\n",
       "    </tr>\n",
       "  </tbody>\n",
       "</table>\n",
       "</div>"
      ],
      "text/plain": [
       "                      doc_id Mention_A_type  Mention_A_StartOffset  Mention_A  \\\n",
       "0  S0211-69952013000500019-1     SHORT_FORM                   3739     ARA II   \n",
       "1  S0211-69952013000500019-1     SHORT_FORM                   2793        PCR   \n",
       "2  S0365-66912004000600008-1     SHORT_FORM                    406         AV   \n",
       "3  S0211-69952012000500025-1     SHORT_FORM                    945  angio-TAC   \n",
       "4  S1130-05582017000200122-1     SHORT_FORM                    940        RMN   \n",
       "\n",
       "  Relation_type Mention_B_type  Mention_B_StartOffset  Mention_B_EndOffset  \\\n",
       "0    SHORT-LONG      LONG_FORM                   3695                 3737   \n",
       "1    SHORT-LONG      LONG_FORM                   2798                 2837   \n",
       "2    SHORT-LONG      LONG_FORM                    390                  404   \n",
       "3    SHORT-LONG      LONG_FORM                    908                  943   \n",
       "4    SHORT-LONG      LONG_FORM                    910                  938   \n",
       "\n",
       "                                    Mention_B  \n",
       "0  antagonista del receptor de angiotesina II  \n",
       "1     reacción en cadena de enzima polimerasa  \n",
       "2                              agudeza visual  \n",
       "3         angiotomografía computarizada axial  \n",
       "4                resonancia magnética nuclear  "
      ]
     },
     "execution_count": 21,
     "metadata": {},
     "output_type": "execute_result"
    }
   ],
   "source": [
    "testing_rel.head()"
   ]
  },
  {
   "cell_type": "code",
   "execution_count": 22,
   "metadata": {},
   "outputs": [
    {
     "data": {
      "text/plain": [
       "array(['SHORT-LONG', 'SHORT-NESTED', 'NESTED-LONG'], dtype=object)"
      ]
     },
     "execution_count": 22,
     "metadata": {},
     "output_type": "execute_result"
    }
   ],
   "source": [
    "testing_rel.Relation_type.unique()"
   ]
  },
  {
   "cell_type": "code",
   "execution_count": 23,
   "metadata": {},
   "outputs": [],
   "source": [
    "testing_abbr = testing_abbr.rename(columns = {'# Document_ID': 'doc_id'})"
   ]
  },
  {
   "cell_type": "code",
   "execution_count": 24,
   "metadata": {},
   "outputs": [
    {
     "data": {
      "text/html": [
       "<div>\n",
       "<style scoped>\n",
       "    .dataframe tbody tr th:only-of-type {\n",
       "        vertical-align: middle;\n",
       "    }\n",
       "\n",
       "    .dataframe tbody tr th {\n",
       "        vertical-align: top;\n",
       "    }\n",
       "\n",
       "    .dataframe thead th {\n",
       "        text-align: right;\n",
       "    }\n",
       "</style>\n",
       "<table border=\"1\" class=\"dataframe\">\n",
       "  <thead>\n",
       "    <tr style=\"text-align: right;\">\n",
       "      <th></th>\n",
       "      <th>doc_id</th>\n",
       "      <th>StartOffset</th>\n",
       "      <th>EndOffset</th>\n",
       "      <th>Abbreviation</th>\n",
       "      <th>Definition</th>\n",
       "      <th>Definition_lemmatized</th>\n",
       "    </tr>\n",
       "  </thead>\n",
       "  <tbody>\n",
       "    <tr>\n",
       "      <th>0</th>\n",
       "      <td>S0004-06142010000500014-1</td>\n",
       "      <td>2037</td>\n",
       "      <td>2044</td>\n",
       "      <td>16SrRNA</td>\n",
       "      <td>16s ribosomal rna</td>\n",
       "      <td>16s ribosomal rno</td>\n",
       "    </tr>\n",
       "    <tr>\n",
       "      <th>1</th>\n",
       "      <td>S0004-06142010000500014-1</td>\n",
       "      <td>1349</td>\n",
       "      <td>1351</td>\n",
       "      <td>M.</td>\n",
       "      <td>mycobacterium</td>\n",
       "      <td>mycobacterium</td>\n",
       "    </tr>\n",
       "    <tr>\n",
       "      <th>2</th>\n",
       "      <td>S0004-06142010000500014-1</td>\n",
       "      <td>1339</td>\n",
       "      <td>1342</td>\n",
       "      <td>PCR</td>\n",
       "      <td>polymerase chain reaction</td>\n",
       "      <td>polymerase chain reaction</td>\n",
       "    </tr>\n",
       "    <tr>\n",
       "      <th>3</th>\n",
       "      <td>S0004-06142010000500014-1</td>\n",
       "      <td>611</td>\n",
       "      <td>615</td>\n",
       "      <td>BHCG</td>\n",
       "      <td>beta-human chorionic gonadotropin</td>\n",
       "      <td>beta-humar chorionic gonadotropin</td>\n",
       "    </tr>\n",
       "    <tr>\n",
       "      <th>4</th>\n",
       "      <td>S0004-06142010000500014-1</td>\n",
       "      <td>594</td>\n",
       "      <td>597</td>\n",
       "      <td>CEA</td>\n",
       "      <td>carcinoembrionary antigen</td>\n",
       "      <td>carcinoembrionary antiger</td>\n",
       "    </tr>\n",
       "  </tbody>\n",
       "</table>\n",
       "</div>"
      ],
      "text/plain": [
       "                      doc_id  StartOffset  EndOffset Abbreviation  \\\n",
       "0  S0004-06142010000500014-1         2037       2044      16SrRNA   \n",
       "1  S0004-06142010000500014-1         1349       1351           M.   \n",
       "2  S0004-06142010000500014-1         1339       1342          PCR   \n",
       "3  S0004-06142010000500014-1          611        615         BHCG   \n",
       "4  S0004-06142010000500014-1          594        597          CEA   \n",
       "\n",
       "                          Definition              Definition_lemmatized  \n",
       "0                  16s ribosomal rna                  16s ribosomal rno  \n",
       "1                      mycobacterium                      mycobacterium  \n",
       "2          polymerase chain reaction          polymerase chain reaction  \n",
       "3  beta-human chorionic gonadotropin  beta-humar chorionic gonadotropin  \n",
       "4          carcinoembrionary antigen          carcinoembrionary antiger  "
      ]
     },
     "execution_count": 24,
     "metadata": {},
     "output_type": "execute_result"
    }
   ],
   "source": [
    "testing_abbr.head()"
   ]
  },
  {
   "cell_type": "code",
   "execution_count": 25,
   "metadata": {},
   "outputs": [],
   "source": [
    "testing_raw = read_texts(\"../datasets/testing_set/testing_set.raw_text/\")"
   ]
  },
  {
   "cell_type": "code",
   "execution_count": 26,
   "metadata": {},
   "outputs": [
    {
     "data": {
      "text/html": [
       "<div>\n",
       "<style scoped>\n",
       "    .dataframe tbody tr th:only-of-type {\n",
       "        vertical-align: middle;\n",
       "    }\n",
       "\n",
       "    .dataframe tbody tr th {\n",
       "        vertical-align: top;\n",
       "    }\n",
       "\n",
       "    .dataframe thead th {\n",
       "        text-align: right;\n",
       "    }\n",
       "</style>\n",
       "<table border=\"1\" class=\"dataframe\">\n",
       "  <thead>\n",
       "    <tr style=\"text-align: right;\">\n",
       "      <th></th>\n",
       "      <th>nombre</th>\n",
       "      <th>texto</th>\n",
       "    </tr>\n",
       "  </thead>\n",
       "  <tbody>\n",
       "    <tr>\n",
       "      <th>0</th>\n",
       "      <td>S1130-01082008001000010-1</td>\n",
       "      <td>Varón de 43 años originario de Marruecos, que ingresó en nuestro servicio por cuadro de 4 días d...</td>\n",
       "    </tr>\n",
       "    <tr>\n",
       "      <th>1</th>\n",
       "      <td>S0004-06142009000400011-1</td>\n",
       "      <td>Varón de 75 años con antecedentes de EPOC moderado sin otros antecedentes médicos de interés. En...</td>\n",
       "    </tr>\n",
       "    <tr>\n",
       "      <th>2</th>\n",
       "      <td>S0376-78922011000200004-1</td>\n",
       "      <td>Mujer de 44 años de edad con antecedentes médicos de insuficiencia renal crónica en tratamiento ...</td>\n",
       "    </tr>\n",
       "    <tr>\n",
       "      <th>3</th>\n",
       "      <td>S1137-66272014000300016-1</td>\n",
       "      <td>Mujer de 36 años sin antecedentes médicos o epidemiológicos de interés que es ingresada en la Un...</td>\n",
       "    </tr>\n",
       "    <tr>\n",
       "      <th>4</th>\n",
       "      <td>S1130-01082008000800019-1</td>\n",
       "      <td>Recientemente, atendimos en nuestro hospital a un varón de 46 años, con antecedente de síndrome ...</td>\n",
       "    </tr>\n",
       "  </tbody>\n",
       "</table>\n",
       "</div>"
      ],
      "text/plain": [
       "                      nombre  \\\n",
       "0  S1130-01082008001000010-1   \n",
       "1  S0004-06142009000400011-1   \n",
       "2  S0376-78922011000200004-1   \n",
       "3  S1137-66272014000300016-1   \n",
       "4  S1130-01082008000800019-1   \n",
       "\n",
       "                                                                                                 texto  \n",
       "0  Varón de 43 años originario de Marruecos, que ingresó en nuestro servicio por cuadro de 4 días d...  \n",
       "1  Varón de 75 años con antecedentes de EPOC moderado sin otros antecedentes médicos de interés. En...  \n",
       "2  Mujer de 44 años de edad con antecedentes médicos de insuficiencia renal crónica en tratamiento ...  \n",
       "3  Mujer de 36 años sin antecedentes médicos o epidemiológicos de interés que es ingresada en la Un...  \n",
       "4  Recientemente, atendimos en nuestro hospital a un varón de 46 años, con antecedente de síndrome ...  "
      ]
     },
     "execution_count": 26,
     "metadata": {},
     "output_type": "execute_result"
    }
   ],
   "source": [
    "testing_raw.head()"
   ]
  },
  {
   "cell_type": "markdown",
   "metadata": {},
   "source": [
    "### Development\n",
    "\n",
    "146 clinical cases"
   ]
  },
  {
   "cell_type": "code",
   "execution_count": 27,
   "metadata": {},
   "outputs": [],
   "source": [
    "dev_abbr = pd.read_csv(\"../datasets/development_set/clinical_cases.abbreviations.development_set.tsv\", sep = '\\t')\n",
    "dev_met = pd.read_csv(\"../datasets/development_set/clinical_cases.metadata.development_set.tsv\", sep = '\\t')\n",
    "dev_rel = pd.read_csv(\"../datasets/development_set/clinical_cases.relations.development_set.tsv\", sep = '\\t')"
   ]
  },
  {
   "cell_type": "code",
   "execution_count": 28,
   "metadata": {},
   "outputs": [],
   "source": [
    "dev_met = dev_met.rename(columns = {'# Document_ID': 'doc_id'})"
   ]
  },
  {
   "cell_type": "code",
   "execution_count": 29,
   "metadata": {},
   "outputs": [
    {
     "data": {
      "text/html": [
       "<div>\n",
       "<style scoped>\n",
       "    .dataframe tbody tr th:only-of-type {\n",
       "        vertical-align: middle;\n",
       "    }\n",
       "\n",
       "    .dataframe tbody tr th {\n",
       "        vertical-align: top;\n",
       "    }\n",
       "\n",
       "    .dataframe thead th {\n",
       "        text-align: right;\n",
       "    }\n",
       "</style>\n",
       "<table border=\"1\" class=\"dataframe\">\n",
       "  <thead>\n",
       "    <tr style=\"text-align: right;\">\n",
       "      <th></th>\n",
       "      <th>doc_id</th>\n",
       "      <th>Case_ID</th>\n",
       "      <th>ISSN</th>\n",
       "      <th>Date</th>\n",
       "      <th>Source</th>\n",
       "      <th>Full_Text_Link</th>\n",
       "    </tr>\n",
       "  </thead>\n",
       "  <tbody>\n",
       "    <tr>\n",
       "      <th>0</th>\n",
       "      <td>S1130-14732005000300004-1.txt</td>\n",
       "      <td>1.txt</td>\n",
       "      <td>1130-1473</td>\n",
       "      <td>2005-06-01</td>\n",
       "      <td>Neurocirugía  v.16 n.3 2005</td>\n",
       "      <td>http://scielo.isciii.es/scielo.php?script=sci_arttext&amp;pid=S1130-14732005000300004</td>\n",
       "    </tr>\n",
       "    <tr>\n",
       "      <th>1</th>\n",
       "      <td>S1130-01082008000200009-1.txt</td>\n",
       "      <td>1.txt</td>\n",
       "      <td>1130-0108</td>\n",
       "      <td>2008-02-01</td>\n",
       "      <td>Revista Española de Enfermedades Digestivas  v.100 n.2 2008</td>\n",
       "      <td>http://scielo.isciii.es/scielo.php?script=sci_arttext&amp;pid=S1130-01082008000200009</td>\n",
       "    </tr>\n",
       "    <tr>\n",
       "      <th>2</th>\n",
       "      <td>S1137-66272012000300021-1.txt</td>\n",
       "      <td>1.txt</td>\n",
       "      <td>1137-6627</td>\n",
       "      <td>2012-12-01</td>\n",
       "      <td>Anales del Sistema Sanitario de Navarra  v.35 n.3 2012</td>\n",
       "      <td>http://scielo.isciii.es/scielo.php?script=sci_arttext&amp;pid=S1137-66272012000300021</td>\n",
       "    </tr>\n",
       "    <tr>\n",
       "      <th>3</th>\n",
       "      <td>S1699-695X2016000200010-1.txt</td>\n",
       "      <td>1.txt</td>\n",
       "      <td>1699-695X</td>\n",
       "      <td>2016-06-01</td>\n",
       "      <td>Revista Clínica de Medicina de Familia  v.9 n.2 2016</td>\n",
       "      <td>http://scielo.isciii.es/scielo.php?script=sci_arttext&amp;pid=S1699-695X2016000200010</td>\n",
       "    </tr>\n",
       "    <tr>\n",
       "      <th>4</th>\n",
       "      <td>S1130-01082007001100009-1.txt</td>\n",
       "      <td>1.txt</td>\n",
       "      <td>1130-0108</td>\n",
       "      <td>2007-11-01</td>\n",
       "      <td>Revista Española de Enfermedades Digestivas  v.99 n.11 2007</td>\n",
       "      <td>http://scielo.isciii.es/scielo.php?script=sci_arttext&amp;pid=S1130-01082007001100009</td>\n",
       "    </tr>\n",
       "  </tbody>\n",
       "</table>\n",
       "</div>"
      ],
      "text/plain": [
       "                          doc_id Case_ID       ISSN        Date  \\\n",
       "0  S1130-14732005000300004-1.txt   1.txt  1130-1473  2005-06-01   \n",
       "1  S1130-01082008000200009-1.txt   1.txt  1130-0108  2008-02-01   \n",
       "2  S1137-66272012000300021-1.txt   1.txt  1137-6627  2012-12-01   \n",
       "3  S1699-695X2016000200010-1.txt   1.txt  1699-695X  2016-06-01   \n",
       "4  S1130-01082007001100009-1.txt   1.txt  1130-0108  2007-11-01   \n",
       "\n",
       "                                                        Source  \\\n",
       "0                                  Neurocirugía  v.16 n.3 2005   \n",
       "1  Revista Española de Enfermedades Digestivas  v.100 n.2 2008   \n",
       "2       Anales del Sistema Sanitario de Navarra  v.35 n.3 2012   \n",
       "3         Revista Clínica de Medicina de Familia  v.9 n.2 2016   \n",
       "4  Revista Española de Enfermedades Digestivas  v.99 n.11 2007   \n",
       "\n",
       "                                                                      Full_Text_Link  \n",
       "0  http://scielo.isciii.es/scielo.php?script=sci_arttext&pid=S1130-14732005000300004  \n",
       "1  http://scielo.isciii.es/scielo.php?script=sci_arttext&pid=S1130-01082008000200009  \n",
       "2  http://scielo.isciii.es/scielo.php?script=sci_arttext&pid=S1137-66272012000300021  \n",
       "3  http://scielo.isciii.es/scielo.php?script=sci_arttext&pid=S1699-695X2016000200010  \n",
       "4  http://scielo.isciii.es/scielo.php?script=sci_arttext&pid=S1130-01082007001100009  "
      ]
     },
     "execution_count": 29,
     "metadata": {},
     "output_type": "execute_result"
    }
   ],
   "source": [
    "dev_met.head()"
   ]
  },
  {
   "cell_type": "code",
   "execution_count": 30,
   "metadata": {},
   "outputs": [],
   "source": [
    "dev_rel = dev_rel.reset_index()"
   ]
  },
  {
   "cell_type": "code",
   "execution_count": 31,
   "metadata": {},
   "outputs": [],
   "source": [
    "dev_rel.columns = ['# Document_ID', 'Mention_A_type', 'Mention_A_StartOffset',\n",
    "      'Mention_A', 'Relation_type', 'Mention_B_type',\n",
    "       'Mention_B_StartOffset', 'Mention_B_EndOffset', 'Mention_B']"
   ]
  },
  {
   "cell_type": "code",
   "execution_count": 32,
   "metadata": {},
   "outputs": [],
   "source": [
    "dev_rel = dev_rel.rename(columns = {'# Document_ID': 'doc_id'})"
   ]
  },
  {
   "cell_type": "code",
   "execution_count": 33,
   "metadata": {},
   "outputs": [
    {
     "data": {
      "text/html": [
       "<div>\n",
       "<style scoped>\n",
       "    .dataframe tbody tr th:only-of-type {\n",
       "        vertical-align: middle;\n",
       "    }\n",
       "\n",
       "    .dataframe tbody tr th {\n",
       "        vertical-align: top;\n",
       "    }\n",
       "\n",
       "    .dataframe thead th {\n",
       "        text-align: right;\n",
       "    }\n",
       "</style>\n",
       "<table border=\"1\" class=\"dataframe\">\n",
       "  <thead>\n",
       "    <tr style=\"text-align: right;\">\n",
       "      <th></th>\n",
       "      <th>doc_id</th>\n",
       "      <th>Mention_A_type</th>\n",
       "      <th>Mention_A_StartOffset</th>\n",
       "      <th>Mention_A</th>\n",
       "      <th>Relation_type</th>\n",
       "      <th>Mention_B_type</th>\n",
       "      <th>Mention_B_StartOffset</th>\n",
       "      <th>Mention_B_EndOffset</th>\n",
       "      <th>Mention_B</th>\n",
       "    </tr>\n",
       "  </thead>\n",
       "  <tbody>\n",
       "    <tr>\n",
       "      <th>0</th>\n",
       "      <td>S1888-75462015000400006-1</td>\n",
       "      <td>SHORT_FORM</td>\n",
       "      <td>1436</td>\n",
       "      <td>AP</td>\n",
       "      <td>SHORT-LONG</td>\n",
       "      <td>LONG_FORM</td>\n",
       "      <td>1419</td>\n",
       "      <td>1434</td>\n",
       "      <td>anteroposterior</td>\n",
       "    </tr>\n",
       "    <tr>\n",
       "      <th>1</th>\n",
       "      <td>S0210-56912009000700006-2</td>\n",
       "      <td>SHORT_FORM</td>\n",
       "      <td>876</td>\n",
       "      <td>angio-RMN</td>\n",
       "      <td>SHORT-LONG</td>\n",
       "      <td>LONG_FORM</td>\n",
       "      <td>858</td>\n",
       "      <td>874</td>\n",
       "      <td>angiorresonancia</td>\n",
       "    </tr>\n",
       "    <tr>\n",
       "      <th>2</th>\n",
       "      <td>S0210-56912009000700006-2</td>\n",
       "      <td>SHORT_FORM</td>\n",
       "      <td>819</td>\n",
       "      <td>RMN</td>\n",
       "      <td>SHORT-LONG</td>\n",
       "      <td>LONG_FORM</td>\n",
       "      <td>789</td>\n",
       "      <td>817</td>\n",
       "      <td>resonancia magnética nuclear</td>\n",
       "    </tr>\n",
       "    <tr>\n",
       "      <th>3</th>\n",
       "      <td>S1698-44472005000300015-1</td>\n",
       "      <td>SHORT_FORM</td>\n",
       "      <td>209</td>\n",
       "      <td>ATM</td>\n",
       "      <td>SHORT-LONG</td>\n",
       "      <td>LONG_FORM</td>\n",
       "      <td>177</td>\n",
       "      <td>207</td>\n",
       "      <td>articulación témporomandibular</td>\n",
       "    </tr>\n",
       "    <tr>\n",
       "      <th>4</th>\n",
       "      <td>S1698-44472005000300015-1</td>\n",
       "      <td>SHORT_FORM</td>\n",
       "      <td>1125</td>\n",
       "      <td>TC</td>\n",
       "      <td>SHORT-LONG</td>\n",
       "      <td>LONG_FORM</td>\n",
       "      <td>1099</td>\n",
       "      <td>1123</td>\n",
       "      <td>tomografía computerizada</td>\n",
       "    </tr>\n",
       "  </tbody>\n",
       "</table>\n",
       "</div>"
      ],
      "text/plain": [
       "                      doc_id Mention_A_type  Mention_A_StartOffset  Mention_A  \\\n",
       "0  S1888-75462015000400006-1     SHORT_FORM                   1436         AP   \n",
       "1  S0210-56912009000700006-2     SHORT_FORM                    876  angio-RMN   \n",
       "2  S0210-56912009000700006-2     SHORT_FORM                    819        RMN   \n",
       "3  S1698-44472005000300015-1     SHORT_FORM                    209        ATM   \n",
       "4  S1698-44472005000300015-1     SHORT_FORM                   1125         TC   \n",
       "\n",
       "  Relation_type Mention_B_type  Mention_B_StartOffset  Mention_B_EndOffset  \\\n",
       "0    SHORT-LONG      LONG_FORM                   1419                 1434   \n",
       "1    SHORT-LONG      LONG_FORM                    858                  874   \n",
       "2    SHORT-LONG      LONG_FORM                    789                  817   \n",
       "3    SHORT-LONG      LONG_FORM                    177                  207   \n",
       "4    SHORT-LONG      LONG_FORM                   1099                 1123   \n",
       "\n",
       "                        Mention_B  \n",
       "0                 anteroposterior  \n",
       "1                angiorresonancia  \n",
       "2    resonancia magnética nuclear  \n",
       "3  articulación témporomandibular  \n",
       "4        tomografía computerizada  "
      ]
     },
     "execution_count": 33,
     "metadata": {},
     "output_type": "execute_result"
    }
   ],
   "source": [
    "dev_rel.head()"
   ]
  },
  {
   "cell_type": "code",
   "execution_count": 34,
   "metadata": {},
   "outputs": [],
   "source": [
    "dev_abbr = dev_abbr.rename(columns = {'# Document_ID': 'doc_id'})"
   ]
  },
  {
   "cell_type": "code",
   "execution_count": 35,
   "metadata": {},
   "outputs": [
    {
     "data": {
      "text/html": [
       "<div>\n",
       "<style scoped>\n",
       "    .dataframe tbody tr th:only-of-type {\n",
       "        vertical-align: middle;\n",
       "    }\n",
       "\n",
       "    .dataframe tbody tr th {\n",
       "        vertical-align: top;\n",
       "    }\n",
       "\n",
       "    .dataframe thead th {\n",
       "        text-align: right;\n",
       "    }\n",
       "</style>\n",
       "<table border=\"1\" class=\"dataframe\">\n",
       "  <thead>\n",
       "    <tr style=\"text-align: right;\">\n",
       "      <th></th>\n",
       "      <th>doc_id</th>\n",
       "      <th>StartOffset</th>\n",
       "      <th>EndOffset</th>\n",
       "      <th>Abbreviation</th>\n",
       "      <th>Definition</th>\n",
       "      <th>Definition_lemmatized</th>\n",
       "    </tr>\n",
       "  </thead>\n",
       "  <tbody>\n",
       "    <tr>\n",
       "      <th>0</th>\n",
       "      <td>S1130-14732005000300004-1</td>\n",
       "      <td>1216</td>\n",
       "      <td>1218</td>\n",
       "      <td>C3</td>\n",
       "      <td>tercera vértebra cervical</td>\n",
       "      <td>tercero vértebra cervical</td>\n",
       "    </tr>\n",
       "    <tr>\n",
       "      <th>1</th>\n",
       "      <td>S1130-14732005000300004-1</td>\n",
       "      <td>717</td>\n",
       "      <td>719</td>\n",
       "      <td>C2</td>\n",
       "      <td>segunda vértebra cervical</td>\n",
       "      <td>segundo vértebra cervical</td>\n",
       "    </tr>\n",
       "    <tr>\n",
       "      <th>2</th>\n",
       "      <td>S1130-14732005000300004-1</td>\n",
       "      <td>3191</td>\n",
       "      <td>3193</td>\n",
       "      <td>C3</td>\n",
       "      <td>tercera vértebra cervical</td>\n",
       "      <td>tercero vértebra cervical</td>\n",
       "    </tr>\n",
       "    <tr>\n",
       "      <th>3</th>\n",
       "      <td>S1130-14732005000300004-1</td>\n",
       "      <td>2867</td>\n",
       "      <td>2869</td>\n",
       "      <td>C3</td>\n",
       "      <td>tercera vértebra cervical</td>\n",
       "      <td>tercero vértebra cervical</td>\n",
       "    </tr>\n",
       "    <tr>\n",
       "      <th>4</th>\n",
       "      <td>S1130-14732005000300004-1</td>\n",
       "      <td>2862</td>\n",
       "      <td>2864</td>\n",
       "      <td>C2</td>\n",
       "      <td>segunda vértebra cervical</td>\n",
       "      <td>segundo vértebra cervical</td>\n",
       "    </tr>\n",
       "  </tbody>\n",
       "</table>\n",
       "</div>"
      ],
      "text/plain": [
       "                      doc_id  StartOffset  EndOffset Abbreviation  \\\n",
       "0  S1130-14732005000300004-1         1216       1218           C3   \n",
       "1  S1130-14732005000300004-1          717        719           C2   \n",
       "2  S1130-14732005000300004-1         3191       3193           C3   \n",
       "3  S1130-14732005000300004-1         2867       2869           C3   \n",
       "4  S1130-14732005000300004-1         2862       2864           C2   \n",
       "\n",
       "                   Definition      Definition_lemmatized  \n",
       "0   tercera vértebra cervical  tercero vértebra cervical  \n",
       "1   segunda vértebra cervical  segundo vértebra cervical  \n",
       "2  tercera vértebra cervical   tercero vértebra cervical  \n",
       "3  tercera vértebra cervical   tercero vértebra cervical  \n",
       "4  segunda vértebra cervical   segundo vértebra cervical  "
      ]
     },
     "execution_count": 35,
     "metadata": {},
     "output_type": "execute_result"
    }
   ],
   "source": [
    "dev_abbr.head()"
   ]
  },
  {
   "cell_type": "code",
   "execution_count": 36,
   "metadata": {},
   "outputs": [],
   "source": [
    "dev_raw = read_texts(\"../datasets/development_set/development_set.raw_text/\")"
   ]
  },
  {
   "cell_type": "code",
   "execution_count": 37,
   "metadata": {},
   "outputs": [
    {
     "data": {
      "text/html": [
       "<div>\n",
       "<style scoped>\n",
       "    .dataframe tbody tr th:only-of-type {\n",
       "        vertical-align: middle;\n",
       "    }\n",
       "\n",
       "    .dataframe tbody tr th {\n",
       "        vertical-align: top;\n",
       "    }\n",
       "\n",
       "    .dataframe thead th {\n",
       "        text-align: right;\n",
       "    }\n",
       "</style>\n",
       "<table border=\"1\" class=\"dataframe\">\n",
       "  <thead>\n",
       "    <tr style=\"text-align: right;\">\n",
       "      <th></th>\n",
       "      <th>nombre</th>\n",
       "      <th>texto</th>\n",
       "    </tr>\n",
       "  </thead>\n",
       "  <tbody>\n",
       "    <tr>\n",
       "      <th>0</th>\n",
       "      <td>S0004-06142008000100008-1</td>\n",
       "      <td>Presentamos el caso de una mujer de 30 años, fumadora de 20 cigarrillos/día y sin otros antecede...</td>\n",
       "    </tr>\n",
       "    <tr>\n",
       "      <th>1</th>\n",
       "      <td>S0211-69952017000200225-1</td>\n",
       "      <td>Varón de 41 años, remitido para evaluación por hallazgo de proteinuria. Diagnóstico de HPN en co...</td>\n",
       "    </tr>\n",
       "    <tr>\n",
       "      <th>2</th>\n",
       "      <td>S1139-76322016000300016-2</td>\n",
       "      <td>Lactante de 1 mes y 29 días, sin antecedentes de interés, que acude a Urgencias de Pediatría tra...</td>\n",
       "    </tr>\n",
       "    <tr>\n",
       "      <th>3</th>\n",
       "      <td>S0004-06142006000900008-1</td>\n",
       "      <td>Mujer de 45 años de edad que acude a la consulta de urología con síndrome miccional e infeccione...</td>\n",
       "    </tr>\n",
       "    <tr>\n",
       "      <th>4</th>\n",
       "      <td>S1139-76322015000100014-1</td>\n",
       "      <td>Niña de siete años que acude a Urgencias en época primaveral por un episodio de crisis compleja ...</td>\n",
       "    </tr>\n",
       "  </tbody>\n",
       "</table>\n",
       "</div>"
      ],
      "text/plain": [
       "                      nombre  \\\n",
       "0  S0004-06142008000100008-1   \n",
       "1  S0211-69952017000200225-1   \n",
       "2  S1139-76322016000300016-2   \n",
       "3  S0004-06142006000900008-1   \n",
       "4  S1139-76322015000100014-1   \n",
       "\n",
       "                                                                                                 texto  \n",
       "0  Presentamos el caso de una mujer de 30 años, fumadora de 20 cigarrillos/día y sin otros antecede...  \n",
       "1  Varón de 41 años, remitido para evaluación por hallazgo de proteinuria. Diagnóstico de HPN en co...  \n",
       "2  Lactante de 1 mes y 29 días, sin antecedentes de interés, que acude a Urgencias de Pediatría tra...  \n",
       "3  Mujer de 45 años de edad que acude a la consulta de urología con síndrome miccional e infeccione...  \n",
       "4  Niña de siete años que acude a Urgencias en época primaveral por un episodio de crisis compleja ...  "
      ]
     },
     "execution_count": 37,
     "metadata": {},
     "output_type": "execute_result"
    }
   ],
   "source": [
    "dev_raw.head()"
   ]
  },
  {
   "cell_type": "markdown",
   "metadata": {},
   "source": [
    "### Sample test\n",
    "\n",
    "15 clinical cases"
   ]
  },
  {
   "cell_type": "code",
   "execution_count": 38,
   "metadata": {},
   "outputs": [],
   "source": [
    "sample_abbr = pd.read_csv(\"../datasets/sample_set/clinical_cases.abbreviations.sample_set.tsv\", sep = '\\t')\n",
    "sample_met = pd.read_csv(\"../datasets/sample_set/clinical_cases.metadata.sample_set.tsv\", sep = '\\t')\n",
    "sample_rel = pd.read_csv(\"../datasets/sample_set/clinical_cases.relations.sample_set.tsv\", sep = '\\t')"
   ]
  },
  {
   "cell_type": "code",
   "execution_count": 39,
   "metadata": {},
   "outputs": [],
   "source": [
    "sample_met = sample_met.rename(columns = {'# Document_ID': 'doc_id'})"
   ]
  },
  {
   "cell_type": "code",
   "execution_count": 40,
   "metadata": {},
   "outputs": [
    {
     "data": {
      "text/html": [
       "<div>\n",
       "<style scoped>\n",
       "    .dataframe tbody tr th:only-of-type {\n",
       "        vertical-align: middle;\n",
       "    }\n",
       "\n",
       "    .dataframe tbody tr th {\n",
       "        vertical-align: top;\n",
       "    }\n",
       "\n",
       "    .dataframe thead th {\n",
       "        text-align: right;\n",
       "    }\n",
       "</style>\n",
       "<table border=\"1\" class=\"dataframe\">\n",
       "  <thead>\n",
       "    <tr style=\"text-align: right;\">\n",
       "      <th></th>\n",
       "      <th>doc_id</th>\n",
       "      <th>Case_ID</th>\n",
       "      <th>ISSN</th>\n",
       "      <th>Date</th>\n",
       "      <th>Source</th>\n",
       "      <th>Full_Text_Link</th>\n",
       "    </tr>\n",
       "  </thead>\n",
       "  <tbody>\n",
       "    <tr>\n",
       "      <th>0</th>\n",
       "      <td>S0004-06142006000900015-1</td>\n",
       "      <td>1</td>\n",
       "      <td>0004-0614</td>\n",
       "      <td>2006-11-01</td>\n",
       "      <td>Archivos Españoles de Urología (Ed. impresa)  v.59 n.9 2006</td>\n",
       "      <td>http://scielo.isciii.es/scielo.php?script=sci_arttext&amp;pid=S0004-06142006000900015</td>\n",
       "    </tr>\n",
       "    <tr>\n",
       "      <th>1</th>\n",
       "      <td>S0004-06142006000600015-1</td>\n",
       "      <td>1</td>\n",
       "      <td>0004-0614</td>\n",
       "      <td>2006-08-01</td>\n",
       "      <td>Archivos Españoles de Urología (Ed. impresa)  v.59 n.6 2006</td>\n",
       "      <td>http://scielo.isciii.es/scielo.php?script=sci_arttext&amp;pid=S0004-06142006000600015</td>\n",
       "    </tr>\n",
       "    <tr>\n",
       "      <th>2</th>\n",
       "      <td>S0004-06142007000700014-1</td>\n",
       "      <td>1</td>\n",
       "      <td>0004-0614</td>\n",
       "      <td>2007-09-01</td>\n",
       "      <td>Archivos Españoles de Urología (Ed. impresa)  v.60 n.7 2007</td>\n",
       "      <td>http://scielo.isciii.es/scielo.php?script=sci_arttext&amp;pid=S0004-06142007000700014</td>\n",
       "    </tr>\n",
       "    <tr>\n",
       "      <th>3</th>\n",
       "      <td>S0004-06142007000900013-1</td>\n",
       "      <td>1</td>\n",
       "      <td>0004-0614</td>\n",
       "      <td>2007-11-01</td>\n",
       "      <td>Archivos Españoles de Urología (Ed. impresa)  v.60 n.9 2007</td>\n",
       "      <td>http://scielo.isciii.es/scielo.php?script=sci_arttext&amp;pid=S0004-06142007000900013</td>\n",
       "    </tr>\n",
       "    <tr>\n",
       "      <th>4</th>\n",
       "      <td>S0004-06142006000200014-1</td>\n",
       "      <td>1</td>\n",
       "      <td>0004-0614</td>\n",
       "      <td>2006-03-01</td>\n",
       "      <td>Archivos Españoles de Urología (Ed. impresa)  v.59 n.2 2006</td>\n",
       "      <td>http://scielo.isciii.es/scielo.php?script=sci_arttext&amp;pid=S0004-06142006000200014</td>\n",
       "    </tr>\n",
       "  </tbody>\n",
       "</table>\n",
       "</div>"
      ],
      "text/plain": [
       "                      doc_id  Case_ID       ISSN        Date  \\\n",
       "0  S0004-06142006000900015-1        1  0004-0614  2006-11-01   \n",
       "1  S0004-06142006000600015-1        1  0004-0614  2006-08-01   \n",
       "2  S0004-06142007000700014-1        1  0004-0614  2007-09-01   \n",
       "3  S0004-06142007000900013-1        1  0004-0614  2007-11-01   \n",
       "4  S0004-06142006000200014-1        1  0004-0614  2006-03-01   \n",
       "\n",
       "                                                        Source  \\\n",
       "0  Archivos Españoles de Urología (Ed. impresa)  v.59 n.9 2006   \n",
       "1  Archivos Españoles de Urología (Ed. impresa)  v.59 n.6 2006   \n",
       "2  Archivos Españoles de Urología (Ed. impresa)  v.60 n.7 2007   \n",
       "3  Archivos Españoles de Urología (Ed. impresa)  v.60 n.9 2007   \n",
       "4  Archivos Españoles de Urología (Ed. impresa)  v.59 n.2 2006   \n",
       "\n",
       "                                                                      Full_Text_Link  \n",
       "0  http://scielo.isciii.es/scielo.php?script=sci_arttext&pid=S0004-06142006000900015  \n",
       "1  http://scielo.isciii.es/scielo.php?script=sci_arttext&pid=S0004-06142006000600015  \n",
       "2  http://scielo.isciii.es/scielo.php?script=sci_arttext&pid=S0004-06142007000700014  \n",
       "3  http://scielo.isciii.es/scielo.php?script=sci_arttext&pid=S0004-06142007000900013  \n",
       "4  http://scielo.isciii.es/scielo.php?script=sci_arttext&pid=S0004-06142006000200014  "
      ]
     },
     "execution_count": 40,
     "metadata": {},
     "output_type": "execute_result"
    }
   ],
   "source": [
    "sample_met.head()"
   ]
  },
  {
   "cell_type": "code",
   "execution_count": 41,
   "metadata": {},
   "outputs": [],
   "source": [
    "sample_rel = sample_rel.rename(columns = {'# Document_ID': 'doc_id'})"
   ]
  },
  {
   "cell_type": "code",
   "execution_count": 42,
   "metadata": {},
   "outputs": [
    {
     "data": {
      "text/html": [
       "<div>\n",
       "<style scoped>\n",
       "    .dataframe tbody tr th:only-of-type {\n",
       "        vertical-align: middle;\n",
       "    }\n",
       "\n",
       "    .dataframe tbody tr th {\n",
       "        vertical-align: top;\n",
       "    }\n",
       "\n",
       "    .dataframe thead th {\n",
       "        text-align: right;\n",
       "    }\n",
       "</style>\n",
       "<table border=\"1\" class=\"dataframe\">\n",
       "  <thead>\n",
       "    <tr style=\"text-align: right;\">\n",
       "      <th></th>\n",
       "      <th>doc_id</th>\n",
       "      <th>Mention_A_type</th>\n",
       "      <th>Mention_A_StartOffset</th>\n",
       "      <th>Mention_A_EndOffset</th>\n",
       "      <th>Mention_A</th>\n",
       "      <th>Relation_type</th>\n",
       "      <th>Mention_B_type</th>\n",
       "      <th>Mention_B_StartOffset</th>\n",
       "      <th>Mention_B_EndOffset</th>\n",
       "      <th>Mention_B</th>\n",
       "    </tr>\n",
       "  </thead>\n",
       "  <tbody>\n",
       "    <tr>\n",
       "      <th>0</th>\n",
       "      <td>S0004-06142006000700014-1</td>\n",
       "      <td>SHORT_FORM</td>\n",
       "      <td>926</td>\n",
       "      <td>929</td>\n",
       "      <td>CEA</td>\n",
       "      <td>SHORT-LONG</td>\n",
       "      <td>LONG_FORM</td>\n",
       "      <td>896</td>\n",
       "      <td>924</td>\n",
       "      <td>Antígeno Carcino Embrionario</td>\n",
       "    </tr>\n",
       "    <tr>\n",
       "      <th>1</th>\n",
       "      <td>S0004-06142005001000011-1</td>\n",
       "      <td>SHORT_FORM</td>\n",
       "      <td>1626</td>\n",
       "      <td>1629</td>\n",
       "      <td>ROT</td>\n",
       "      <td>SHORT-LONG</td>\n",
       "      <td>LONG_FORM</td>\n",
       "      <td>1600</td>\n",
       "      <td>1624</td>\n",
       "      <td>reflejos osteotendinosos</td>\n",
       "    </tr>\n",
       "    <tr>\n",
       "      <th>2</th>\n",
       "      <td>S0004-06142005001000011-1</td>\n",
       "      <td>SHORT_FORM</td>\n",
       "      <td>1715</td>\n",
       "      <td>1718</td>\n",
       "      <td>RMN</td>\n",
       "      <td>SHORT-LONG</td>\n",
       "      <td>LONG_FORM</td>\n",
       "      <td>1685</td>\n",
       "      <td>1713</td>\n",
       "      <td>resonancia magnética nuclear</td>\n",
       "    </tr>\n",
       "    <tr>\n",
       "      <th>3</th>\n",
       "      <td>S0004-06142005001000011-1</td>\n",
       "      <td>SHORT_FORM</td>\n",
       "      <td>1663</td>\n",
       "      <td>1666</td>\n",
       "      <td>RCP</td>\n",
       "      <td>SHORT-LONG</td>\n",
       "      <td>LONG_FORM</td>\n",
       "      <td>1639</td>\n",
       "      <td>1661</td>\n",
       "      <td>reflejo cutaneoplantar</td>\n",
       "    </tr>\n",
       "    <tr>\n",
       "      <th>4</th>\n",
       "      <td>S0004-06142005001000011-1</td>\n",
       "      <td>SHORT_FORM</td>\n",
       "      <td>1808</td>\n",
       "      <td>1811</td>\n",
       "      <td>LCR</td>\n",
       "      <td>SHORT-LONG</td>\n",
       "      <td>LONG_FORM</td>\n",
       "      <td>1783</td>\n",
       "      <td>1806</td>\n",
       "      <td>líquido cefalorraquídeo</td>\n",
       "    </tr>\n",
       "  </tbody>\n",
       "</table>\n",
       "</div>"
      ],
      "text/plain": [
       "                      doc_id Mention_A_type  Mention_A_StartOffset  \\\n",
       "0  S0004-06142006000700014-1     SHORT_FORM                    926   \n",
       "1  S0004-06142005001000011-1     SHORT_FORM                   1626   \n",
       "2  S0004-06142005001000011-1     SHORT_FORM                   1715   \n",
       "3  S0004-06142005001000011-1     SHORT_FORM                   1663   \n",
       "4  S0004-06142005001000011-1     SHORT_FORM                   1808   \n",
       "\n",
       "   Mention_A_EndOffset Mention_A Relation_type Mention_B_type  \\\n",
       "0                  929       CEA    SHORT-LONG      LONG_FORM   \n",
       "1                 1629       ROT    SHORT-LONG      LONG_FORM   \n",
       "2                 1718       RMN    SHORT-LONG      LONG_FORM   \n",
       "3                 1666       RCP    SHORT-LONG      LONG_FORM   \n",
       "4                 1811       LCR    SHORT-LONG      LONG_FORM   \n",
       "\n",
       "   Mention_B_StartOffset  Mention_B_EndOffset                     Mention_B  \n",
       "0                    896                  924  Antígeno Carcino Embrionario  \n",
       "1                   1600                 1624      reflejos osteotendinosos  \n",
       "2                   1685                 1713  resonancia magnética nuclear  \n",
       "3                   1639                 1661        reflejo cutaneoplantar  \n",
       "4                   1783                 1806       líquido cefalorraquídeo  "
      ]
     },
     "execution_count": 42,
     "metadata": {},
     "output_type": "execute_result"
    }
   ],
   "source": [
    "sample_rel.head()"
   ]
  },
  {
   "cell_type": "code",
   "execution_count": 43,
   "metadata": {},
   "outputs": [],
   "source": [
    "sample_abbr = sample_abbr.rename(columns = {'# Document_ID': 'doc_id'})"
   ]
  },
  {
   "cell_type": "code",
   "execution_count": 44,
   "metadata": {},
   "outputs": [
    {
     "data": {
      "text/html": [
       "<div>\n",
       "<style scoped>\n",
       "    .dataframe tbody tr th:only-of-type {\n",
       "        vertical-align: middle;\n",
       "    }\n",
       "\n",
       "    .dataframe tbody tr th {\n",
       "        vertical-align: top;\n",
       "    }\n",
       "\n",
       "    .dataframe thead th {\n",
       "        text-align: right;\n",
       "    }\n",
       "</style>\n",
       "<table border=\"1\" class=\"dataframe\">\n",
       "  <thead>\n",
       "    <tr style=\"text-align: right;\">\n",
       "      <th></th>\n",
       "      <th>doc_id</th>\n",
       "      <th>StartOffset</th>\n",
       "      <th>EndOffset</th>\n",
       "      <th>Abbreviation</th>\n",
       "      <th>Definition</th>\n",
       "      <th>Definition_lemmatized</th>\n",
       "    </tr>\n",
       "  </thead>\n",
       "  <tbody>\n",
       "    <tr>\n",
       "      <th>0</th>\n",
       "      <td>S0004-06142005001000011-1</td>\n",
       "      <td>1034</td>\n",
       "      <td>1036</td>\n",
       "      <td>Kg</td>\n",
       "      <td>kilogramo</td>\n",
       "      <td>kilogramo</td>\n",
       "    </tr>\n",
       "    <tr>\n",
       "      <th>1</th>\n",
       "      <td>S0004-06142005001000011-1</td>\n",
       "      <td>1031</td>\n",
       "      <td>1033</td>\n",
       "      <td>mg</td>\n",
       "      <td>miligramo</td>\n",
       "      <td>miligramo</td>\n",
       "    </tr>\n",
       "    <tr>\n",
       "      <th>2</th>\n",
       "      <td>S0004-06142005001000011-1</td>\n",
       "      <td>196</td>\n",
       "      <td>199</td>\n",
       "      <td>IgA</td>\n",
       "      <td>inmunoglobulina a</td>\n",
       "      <td>inmunoglobulina a</td>\n",
       "    </tr>\n",
       "    <tr>\n",
       "      <th>3</th>\n",
       "      <td>S0004-06142005001000011-1</td>\n",
       "      <td>2057</td>\n",
       "      <td>2060</td>\n",
       "      <td>LCR</td>\n",
       "      <td>líquido cefalorraquídeo</td>\n",
       "      <td>líquido cefalorraquídeo</td>\n",
       "    </tr>\n",
       "    <tr>\n",
       "      <th>4</th>\n",
       "      <td>S0004-06142005001000011-1</td>\n",
       "      <td>1594</td>\n",
       "      <td>1598</td>\n",
       "      <td>EEII</td>\n",
       "      <td>extremidades inferiores</td>\n",
       "      <td>extremidad inferior</td>\n",
       "    </tr>\n",
       "  </tbody>\n",
       "</table>\n",
       "</div>"
      ],
      "text/plain": [
       "                      doc_id  StartOffset  EndOffset Abbreviation  \\\n",
       "0  S0004-06142005001000011-1         1034       1036           Kg   \n",
       "1  S0004-06142005001000011-1         1031       1033           mg   \n",
       "2  S0004-06142005001000011-1          196        199          IgA   \n",
       "3  S0004-06142005001000011-1         2057       2060          LCR   \n",
       "4  S0004-06142005001000011-1         1594       1598         EEII   \n",
       "\n",
       "                Definition    Definition_lemmatized  \n",
       "0                kilogramo                kilogramo  \n",
       "1                miligramo                miligramo  \n",
       "2        inmunoglobulina a        inmunoglobulina a  \n",
       "3  líquido cefalorraquídeo  líquido cefalorraquídeo  \n",
       "4  extremidades inferiores      extremidad inferior  "
      ]
     },
     "execution_count": 44,
     "metadata": {},
     "output_type": "execute_result"
    }
   ],
   "source": [
    "sample_abbr.head()"
   ]
  },
  {
   "cell_type": "code",
   "execution_count": 45,
   "metadata": {},
   "outputs": [],
   "source": [
    "sample_raw = read_texts(\"../datasets/sample_set/sample_set.raw_text/\")"
   ]
  },
  {
   "cell_type": "code",
   "execution_count": 46,
   "metadata": {},
   "outputs": [
    {
     "data": {
      "text/html": [
       "<div>\n",
       "<style scoped>\n",
       "    .dataframe tbody tr th:only-of-type {\n",
       "        vertical-align: middle;\n",
       "    }\n",
       "\n",
       "    .dataframe tbody tr th {\n",
       "        vertical-align: top;\n",
       "    }\n",
       "\n",
       "    .dataframe thead th {\n",
       "        text-align: right;\n",
       "    }\n",
       "</style>\n",
       "<table border=\"1\" class=\"dataframe\">\n",
       "  <thead>\n",
       "    <tr style=\"text-align: right;\">\n",
       "      <th></th>\n",
       "      <th>nombre</th>\n",
       "      <th>texto</th>\n",
       "    </tr>\n",
       "  </thead>\n",
       "  <tbody>\n",
       "    <tr>\n",
       "      <th>0</th>\n",
       "      <td>S0004-06142007000600016-2</td>\n",
       "      <td>Paciente varón de 35 años con tumoración en polo superior de teste derecho hallada de manera cas...</td>\n",
       "    </tr>\n",
       "    <tr>\n",
       "      <th>1</th>\n",
       "      <td>S0004-06142005001000016-1</td>\n",
       "      <td>Varón de 65 años que consultaba por un síndrome obstructivo infravesical junto con una tumoració...</td>\n",
       "    </tr>\n",
       "    <tr>\n",
       "      <th>2</th>\n",
       "      <td>S0004-06142007000600012-1</td>\n",
       "      <td>Paciente: YSS Edad: 32años Raza: Negra. Antecedentes personales: No refiere patologías asociadas...</td>\n",
       "    </tr>\n",
       "    <tr>\n",
       "      <th>3</th>\n",
       "      <td>S0004-06142007000900013-1</td>\n",
       "      <td>Presentamos el caso de un recién nacido de tres días de vida, que acude a urgencias con su madre...</td>\n",
       "    </tr>\n",
       "    <tr>\n",
       "      <th>4</th>\n",
       "      <td>S0004-06142006000900015-1</td>\n",
       "      <td>Varón de 47 años, sin antecedentes de interés, que es diagnosticado ecográficamente de masa rena...</td>\n",
       "    </tr>\n",
       "  </tbody>\n",
       "</table>\n",
       "</div>"
      ],
      "text/plain": [
       "                      nombre  \\\n",
       "0  S0004-06142007000600016-2   \n",
       "1  S0004-06142005001000016-1   \n",
       "2  S0004-06142007000600012-1   \n",
       "3  S0004-06142007000900013-1   \n",
       "4  S0004-06142006000900015-1   \n",
       "\n",
       "                                                                                                 texto  \n",
       "0  Paciente varón de 35 años con tumoración en polo superior de teste derecho hallada de manera cas...  \n",
       "1  Varón de 65 años que consultaba por un síndrome obstructivo infravesical junto con una tumoració...  \n",
       "2  Paciente: YSS Edad: 32años Raza: Negra. Antecedentes personales: No refiere patologías asociadas...  \n",
       "3  Presentamos el caso de un recién nacido de tres días de vida, que acude a urgencias con su madre...  \n",
       "4  Varón de 47 años, sin antecedentes de interés, que es diagnosticado ecográficamente de masa rena...  "
      ]
     },
     "execution_count": 46,
     "metadata": {},
     "output_type": "execute_result"
    }
   ],
   "source": [
    "sample_raw.head()"
   ]
  },
  {
   "cell_type": "markdown",
   "metadata": {},
   "source": [
    "### Trainning\n",
    "\n",
    "318 clinical cases"
   ]
  },
  {
   "cell_type": "code",
   "execution_count": 47,
   "metadata": {},
   "outputs": [],
   "source": [
    "train_abbr = pd.read_csv(\"../datasets/trainning_set/clinical_cases.abbreviations.training_set.tsv\", sep = '\\t')"
   ]
  },
  {
   "cell_type": "code",
   "execution_count": 48,
   "metadata": {},
   "outputs": [],
   "source": [
    "train_met = pd.read_csv(\"../datasets/trainning_set/clinical_cases.metadata.training_set.tsv\", sep = '\\t')\n",
    "train_rel = pd.read_csv(\"../datasets/trainning_set/clinical_cases.relations.training_set.tsv\", sep = '\\t')"
   ]
  },
  {
   "cell_type": "code",
   "execution_count": 49,
   "metadata": {},
   "outputs": [],
   "source": [
    "train_met = train_met.rename(columns = {'# Document_ID': 'doc_id'})"
   ]
  },
  {
   "cell_type": "code",
   "execution_count": 50,
   "metadata": {},
   "outputs": [
    {
     "data": {
      "text/html": [
       "<div>\n",
       "<style scoped>\n",
       "    .dataframe tbody tr th:only-of-type {\n",
       "        vertical-align: middle;\n",
       "    }\n",
       "\n",
       "    .dataframe tbody tr th {\n",
       "        vertical-align: top;\n",
       "    }\n",
       "\n",
       "    .dataframe thead th {\n",
       "        text-align: right;\n",
       "    }\n",
       "</style>\n",
       "<table border=\"1\" class=\"dataframe\">\n",
       "  <thead>\n",
       "    <tr style=\"text-align: right;\">\n",
       "      <th></th>\n",
       "      <th>doc_id</th>\n",
       "      <th>Case_ID</th>\n",
       "      <th>ISSN</th>\n",
       "      <th>Date</th>\n",
       "      <th>Source</th>\n",
       "      <th>Full_Text_Link</th>\n",
       "    </tr>\n",
       "  </thead>\n",
       "  <tbody>\n",
       "    <tr>\n",
       "      <th>0</th>\n",
       "      <td>S1139-76322015000500009-1.txt</td>\n",
       "      <td>1.txt</td>\n",
       "      <td>1139-7632</td>\n",
       "      <td>2015-12-01</td>\n",
       "      <td>Pediatría Atención Primaria  v.17 n.68 2015</td>\n",
       "      <td>http://scielo.isciii.es/scielo.php?script=sci_arttext&amp;pid=S1139-76322015000500009</td>\n",
       "    </tr>\n",
       "    <tr>\n",
       "      <th>1</th>\n",
       "      <td>S1130-05582008000400007-2.txt</td>\n",
       "      <td>2.txt</td>\n",
       "      <td>1130-0558</td>\n",
       "      <td>2008-08-01</td>\n",
       "      <td>Revista Española de Cirugía Oral y Maxilofacial  v.30 n.4 2008</td>\n",
       "      <td>http://scielo.isciii.es/scielo.php?script=sci_arttext&amp;pid=S1130-05582008000400007</td>\n",
       "    </tr>\n",
       "    <tr>\n",
       "      <th>2</th>\n",
       "      <td>S0210-48062006000100012-1.txt</td>\n",
       "      <td>1.txt</td>\n",
       "      <td>0210-4806</td>\n",
       "      <td>2006-01-01</td>\n",
       "      <td>Actas Urológicas Españolas  v.30 n.1 2006</td>\n",
       "      <td>http://scielo.isciii.es/scielo.php?script=sci_arttext&amp;pid=S0210-48062006000100012</td>\n",
       "    </tr>\n",
       "    <tr>\n",
       "      <th>3</th>\n",
       "      <td>S0213-12852003000500002-1.txt</td>\n",
       "      <td>1.txt</td>\n",
       "      <td>0213-1285</td>\n",
       "      <td>2003-10-01</td>\n",
       "      <td>Avances en Odontoestomatología  v.19 n.5 2003</td>\n",
       "      <td>http://scielo.isciii.es/scielo.php?script=sci_arttext&amp;pid=S0213-12852003000500002</td>\n",
       "    </tr>\n",
       "    <tr>\n",
       "      <th>4</th>\n",
       "      <td>S0212-71992005000400007-1.txt</td>\n",
       "      <td>1.txt</td>\n",
       "      <td>0212-7199</td>\n",
       "      <td>2005-04-01</td>\n",
       "      <td>Anales de Medicina Interna  v.22 n.4 2005</td>\n",
       "      <td>http://scielo.isciii.es/scielo.php?script=sci_arttext&amp;pid=S0212-71992005000400007</td>\n",
       "    </tr>\n",
       "  </tbody>\n",
       "</table>\n",
       "</div>"
      ],
      "text/plain": [
       "                          doc_id Case_ID       ISSN        Date  \\\n",
       "0  S1139-76322015000500009-1.txt   1.txt  1139-7632  2015-12-01   \n",
       "1  S1130-05582008000400007-2.txt   2.txt  1130-0558  2008-08-01   \n",
       "2  S0210-48062006000100012-1.txt   1.txt  0210-4806  2006-01-01   \n",
       "3  S0213-12852003000500002-1.txt   1.txt  0213-1285  2003-10-01   \n",
       "4  S0212-71992005000400007-1.txt   1.txt  0212-7199  2005-04-01   \n",
       "\n",
       "                                                           Source  \\\n",
       "0                     Pediatría Atención Primaria  v.17 n.68 2015   \n",
       "1  Revista Española de Cirugía Oral y Maxilofacial  v.30 n.4 2008   \n",
       "2                       Actas Urológicas Españolas  v.30 n.1 2006   \n",
       "3                   Avances en Odontoestomatología  v.19 n.5 2003   \n",
       "4                       Anales de Medicina Interna  v.22 n.4 2005   \n",
       "\n",
       "                                                                      Full_Text_Link  \n",
       "0  http://scielo.isciii.es/scielo.php?script=sci_arttext&pid=S1139-76322015000500009  \n",
       "1  http://scielo.isciii.es/scielo.php?script=sci_arttext&pid=S1130-05582008000400007  \n",
       "2  http://scielo.isciii.es/scielo.php?script=sci_arttext&pid=S0210-48062006000100012  \n",
       "3  http://scielo.isciii.es/scielo.php?script=sci_arttext&pid=S0213-12852003000500002  \n",
       "4  http://scielo.isciii.es/scielo.php?script=sci_arttext&pid=S0212-71992005000400007  "
      ]
     },
     "execution_count": 50,
     "metadata": {},
     "output_type": "execute_result"
    }
   ],
   "source": [
    "train_met.head()"
   ]
  },
  {
   "cell_type": "code",
   "execution_count": 51,
   "metadata": {},
   "outputs": [],
   "source": [
    "train_rel = train_rel.reset_index()"
   ]
  },
  {
   "cell_type": "code",
   "execution_count": 52,
   "metadata": {},
   "outputs": [],
   "source": [
    "train_rel.columns = ['# Document_ID', 'Mention_A_type', 'Mention_A_StartOffset',\n",
    "      'Mention_A', 'Relation_type', 'Mention_B_type',\n",
    "       'Mention_B_StartOffset', 'Mention_B_EndOffset', 'Mention_B']"
   ]
  },
  {
   "cell_type": "code",
   "execution_count": 53,
   "metadata": {},
   "outputs": [],
   "source": [
    "train_rel = train_rel.rename(columns = {'# Document_ID': 'doc_id'})"
   ]
  },
  {
   "cell_type": "code",
   "execution_count": 54,
   "metadata": {},
   "outputs": [
    {
     "data": {
      "text/html": [
       "<div>\n",
       "<style scoped>\n",
       "    .dataframe tbody tr th:only-of-type {\n",
       "        vertical-align: middle;\n",
       "    }\n",
       "\n",
       "    .dataframe tbody tr th {\n",
       "        vertical-align: top;\n",
       "    }\n",
       "\n",
       "    .dataframe thead th {\n",
       "        text-align: right;\n",
       "    }\n",
       "</style>\n",
       "<table border=\"1\" class=\"dataframe\">\n",
       "  <thead>\n",
       "    <tr style=\"text-align: right;\">\n",
       "      <th></th>\n",
       "      <th>doc_id</th>\n",
       "      <th>Mention_A_type</th>\n",
       "      <th>Mention_A_StartOffset</th>\n",
       "      <th>Mention_A</th>\n",
       "      <th>Relation_type</th>\n",
       "      <th>Mention_B_type</th>\n",
       "      <th>Mention_B_StartOffset</th>\n",
       "      <th>Mention_B_EndOffset</th>\n",
       "      <th>Mention_B</th>\n",
       "    </tr>\n",
       "  </thead>\n",
       "  <tbody>\n",
       "    <tr>\n",
       "      <th>0</th>\n",
       "      <td>S1130-01082009000400014-1</td>\n",
       "      <td>SHORT_FORM</td>\n",
       "      <td>476</td>\n",
       "      <td>NPT</td>\n",
       "      <td>SHORT-LONG</td>\n",
       "      <td>LONG_FORM</td>\n",
       "      <td>454.0</td>\n",
       "      <td>474.0</td>\n",
       "      <td>nutrición parenteral</td>\n",
       "    </tr>\n",
       "    <tr>\n",
       "      <th>1</th>\n",
       "      <td>S1130-63432016000100009-1</td>\n",
       "      <td>SHORT_FORM</td>\n",
       "      <td>614</td>\n",
       "      <td>NIHSS</td>\n",
       "      <td>SHORT-LONG</td>\n",
       "      <td>LONG_FORM</td>\n",
       "      <td>621.0</td>\n",
       "      <td>662.0</td>\n",
       "      <td>National Institute of Health Stroke Scale</td>\n",
       "    </tr>\n",
       "    <tr>\n",
       "      <th>2</th>\n",
       "      <td>S1139-76322017000200007-1</td>\n",
       "      <td>SHORT_FORM</td>\n",
       "      <td>1145</td>\n",
       "      <td>CMV</td>\n",
       "      <td>SHORT-LONG</td>\n",
       "      <td>LONG_FORM</td>\n",
       "      <td>1128.0</td>\n",
       "      <td>1143.0</td>\n",
       "      <td>citomegalovirus</td>\n",
       "    </tr>\n",
       "    <tr>\n",
       "      <th>3</th>\n",
       "      <td>S1139-76322017000200007-1</td>\n",
       "      <td>SHORT_FORM</td>\n",
       "      <td>1243</td>\n",
       "      <td>VSG</td>\n",
       "      <td>SHORT-LONG</td>\n",
       "      <td>LONG_FORM</td>\n",
       "      <td>1206.0</td>\n",
       "      <td>1241.0</td>\n",
       "      <td>velocidad de sedimentación globular</td>\n",
       "    </tr>\n",
       "    <tr>\n",
       "      <th>4</th>\n",
       "      <td>S1139-76322017000200007-1</td>\n",
       "      <td>SHORT_FORM</td>\n",
       "      <td>1300</td>\n",
       "      <td>IGRA</td>\n",
       "      <td>SHORT-LONG</td>\n",
       "      <td>LONG_FORM</td>\n",
       "      <td>1267.0</td>\n",
       "      <td>1298.0</td>\n",
       "      <td>interferon-gamma release assays</td>\n",
       "    </tr>\n",
       "  </tbody>\n",
       "</table>\n",
       "</div>"
      ],
      "text/plain": [
       "                      doc_id Mention_A_type Mention_A_StartOffset Mention_A  \\\n",
       "0  S1130-01082009000400014-1     SHORT_FORM                   476       NPT   \n",
       "1  S1130-63432016000100009-1     SHORT_FORM                   614     NIHSS   \n",
       "2  S1139-76322017000200007-1     SHORT_FORM                  1145       CMV   \n",
       "3  S1139-76322017000200007-1     SHORT_FORM                  1243       VSG   \n",
       "4  S1139-76322017000200007-1     SHORT_FORM                  1300      IGRA   \n",
       "\n",
       "  Relation_type Mention_B_type  Mention_B_StartOffset  Mention_B_EndOffset  \\\n",
       "0    SHORT-LONG      LONG_FORM                  454.0                474.0   \n",
       "1    SHORT-LONG      LONG_FORM                  621.0                662.0   \n",
       "2    SHORT-LONG      LONG_FORM                 1128.0               1143.0   \n",
       "3    SHORT-LONG      LONG_FORM                 1206.0               1241.0   \n",
       "4    SHORT-LONG      LONG_FORM                 1267.0               1298.0   \n",
       "\n",
       "                                   Mention_B  \n",
       "0                       nutrición parenteral  \n",
       "1  National Institute of Health Stroke Scale  \n",
       "2                            citomegalovirus  \n",
       "3        velocidad de sedimentación globular  \n",
       "4            interferon-gamma release assays  "
      ]
     },
     "execution_count": 54,
     "metadata": {},
     "output_type": "execute_result"
    }
   ],
   "source": [
    "train_rel.head()"
   ]
  },
  {
   "cell_type": "code",
   "execution_count": 55,
   "metadata": {},
   "outputs": [],
   "source": [
    "train_abbr = train_abbr.rename(columns = {'# Document_ID': 'doc_id'})"
   ]
  },
  {
   "cell_type": "code",
   "execution_count": 56,
   "metadata": {},
   "outputs": [
    {
     "data": {
      "text/plain": [
       "908"
      ]
     },
     "execution_count": 56,
     "metadata": {},
     "output_type": "execute_result"
    }
   ],
   "source": [
    "train_abbr.Definition.nunique()"
   ]
  },
  {
   "cell_type": "code",
   "execution_count": 57,
   "metadata": {},
   "outputs": [
    {
     "data": {
      "text/html": [
       "<div>\n",
       "<style scoped>\n",
       "    .dataframe tbody tr th:only-of-type {\n",
       "        vertical-align: middle;\n",
       "    }\n",
       "\n",
       "    .dataframe tbody tr th {\n",
       "        vertical-align: top;\n",
       "    }\n",
       "\n",
       "    .dataframe thead th {\n",
       "        text-align: right;\n",
       "    }\n",
       "</style>\n",
       "<table border=\"1\" class=\"dataframe\">\n",
       "  <thead>\n",
       "    <tr style=\"text-align: right;\">\n",
       "      <th></th>\n",
       "      <th>doc_id</th>\n",
       "      <th>StartOffset</th>\n",
       "      <th>EndOffset</th>\n",
       "      <th>Abbreviation</th>\n",
       "      <th>Definition</th>\n",
       "      <th>Definition_lemmatized</th>\n",
       "    </tr>\n",
       "  </thead>\n",
       "  <tbody>\n",
       "    <tr>\n",
       "      <th>0</th>\n",
       "      <td>S0210-48062004000500008-1</td>\n",
       "      <td>1650</td>\n",
       "      <td>1652</td>\n",
       "      <td>ml</td>\n",
       "      <td>mililitro</td>\n",
       "      <td>mililitro</td>\n",
       "    </tr>\n",
       "    <tr>\n",
       "      <th>1</th>\n",
       "      <td>S0210-48062004000500008-1</td>\n",
       "      <td>708</td>\n",
       "      <td>709</td>\n",
       "      <td>l</td>\n",
       "      <td>litro</td>\n",
       "      <td>litro</td>\n",
       "    </tr>\n",
       "    <tr>\n",
       "      <th>2</th>\n",
       "      <td>S0210-48062004000500008-1</td>\n",
       "      <td>704</td>\n",
       "      <td>707</td>\n",
       "      <td>mEq</td>\n",
       "      <td>miliequivalente</td>\n",
       "      <td>miliequivalente</td>\n",
       "    </tr>\n",
       "    <tr>\n",
       "      <th>3</th>\n",
       "      <td>S0210-48062004000500008-1</td>\n",
       "      <td>677</td>\n",
       "      <td>681</td>\n",
       "      <td>pCO2</td>\n",
       "      <td>presión parcial de co2</td>\n",
       "      <td>presión parcial de co2</td>\n",
       "    </tr>\n",
       "    <tr>\n",
       "      <th>4</th>\n",
       "      <td>S0210-48062004000500008-1</td>\n",
       "      <td>2287</td>\n",
       "      <td>2290</td>\n",
       "      <td>HLA</td>\n",
       "      <td>human leucocyte antigen</td>\n",
       "      <td>human leucocyte antiger</td>\n",
       "    </tr>\n",
       "  </tbody>\n",
       "</table>\n",
       "</div>"
      ],
      "text/plain": [
       "                      doc_id  StartOffset  EndOffset Abbreviation  \\\n",
       "0  S0210-48062004000500008-1         1650       1652           ml   \n",
       "1  S0210-48062004000500008-1          708        709            l   \n",
       "2  S0210-48062004000500008-1          704        707          mEq   \n",
       "3  S0210-48062004000500008-1          677        681         pCO2   \n",
       "4  S0210-48062004000500008-1         2287       2290          HLA   \n",
       "\n",
       "                Definition    Definition_lemmatized  \n",
       "0                mililitro                mililitro  \n",
       "1                    litro                    litro  \n",
       "2          miliequivalente          miliequivalente  \n",
       "3   presión parcial de co2   presión parcial de co2  \n",
       "4  human leucocyte antigen  human leucocyte antiger  "
      ]
     },
     "execution_count": 57,
     "metadata": {},
     "output_type": "execute_result"
    }
   ],
   "source": [
    "train_abbr.head()"
   ]
  },
  {
   "cell_type": "code",
   "execution_count": 58,
   "metadata": {},
   "outputs": [],
   "source": [
    "train_raw = read_texts(\"../datasets/trainning_set/training_set.raw_text/\")"
   ]
  },
  {
   "cell_type": "code",
   "execution_count": 59,
   "metadata": {},
   "outputs": [],
   "source": [
    "train_raw = train_raw.rename(columns = {'nombre': 'doc_id'})"
   ]
  },
  {
   "cell_type": "code",
   "execution_count": 60,
   "metadata": {},
   "outputs": [
    {
     "data": {
      "text/html": [
       "<div>\n",
       "<style scoped>\n",
       "    .dataframe tbody tr th:only-of-type {\n",
       "        vertical-align: middle;\n",
       "    }\n",
       "\n",
       "    .dataframe tbody tr th {\n",
       "        vertical-align: top;\n",
       "    }\n",
       "\n",
       "    .dataframe thead th {\n",
       "        text-align: right;\n",
       "    }\n",
       "</style>\n",
       "<table border=\"1\" class=\"dataframe\">\n",
       "  <thead>\n",
       "    <tr style=\"text-align: right;\">\n",
       "      <th></th>\n",
       "      <th>doc_id</th>\n",
       "      <th>texto</th>\n",
       "    </tr>\n",
       "  </thead>\n",
       "  <tbody>\n",
       "    <tr>\n",
       "      <th>0</th>\n",
       "      <td>S1130-01082006000100014-1</td>\n",
       "      <td>Se trata de una mujer de 35 años, con antecedentes familiares de enfermedad de Crohn y sin antec...</td>\n",
       "    </tr>\n",
       "    <tr>\n",
       "      <th>1</th>\n",
       "      <td>S1130-01082009000300015-1</td>\n",
       "      <td>Varón de 70 años, fumador, con enfisema pulmonar y vitíligo al que en mayo de 2001 se realizó un...</td>\n",
       "    </tr>\n",
       "    <tr>\n",
       "      <th>2</th>\n",
       "      <td>S0210-56912010000200009-1</td>\n",
       "      <td>Se trata de una mujer de 70 años con antecedentes de HTA y diagnosticada recientemente de neopla...</td>\n",
       "    </tr>\n",
       "    <tr>\n",
       "      <th>3</th>\n",
       "      <td>S1130-01082008000900014-1</td>\n",
       "      <td>Varón de 41 años diagnosticado de adenocarcinoma medianamente diferenciado implantado sobre esóf...</td>\n",
       "    </tr>\n",
       "    <tr>\n",
       "      <th>4</th>\n",
       "      <td>S0210-48062004000500008-1</td>\n",
       "      <td>Paciente de 29 años de edad que acude al Servicio de Urgencias de nuestro Hospital ante la prese...</td>\n",
       "    </tr>\n",
       "  </tbody>\n",
       "</table>\n",
       "</div>"
      ],
      "text/plain": [
       "                      doc_id  \\\n",
       "0  S1130-01082006000100014-1   \n",
       "1  S1130-01082009000300015-1   \n",
       "2  S0210-56912010000200009-1   \n",
       "3  S1130-01082008000900014-1   \n",
       "4  S0210-48062004000500008-1   \n",
       "\n",
       "                                                                                                 texto  \n",
       "0  Se trata de una mujer de 35 años, con antecedentes familiares de enfermedad de Crohn y sin antec...  \n",
       "1  Varón de 70 años, fumador, con enfisema pulmonar y vitíligo al que en mayo de 2001 se realizó un...  \n",
       "2  Se trata de una mujer de 70 años con antecedentes de HTA y diagnosticada recientemente de neopla...  \n",
       "3  Varón de 41 años diagnosticado de adenocarcinoma medianamente diferenciado implantado sobre esóf...  \n",
       "4  Paciente de 29 años de edad que acude al Servicio de Urgencias de nuestro Hospital ante la prese...  "
      ]
     },
     "execution_count": 60,
     "metadata": {},
     "output_type": "execute_result"
    }
   ],
   "source": [
    "train_raw.head()"
   ]
  },
  {
   "cell_type": "markdown",
   "metadata": {},
   "source": [
    "## Prepare Train Data"
   ]
  },
  {
   "cell_type": "markdown",
   "metadata": {},
   "source": [
    "### Preprocessing"
   ]
  },
  {
   "cell_type": "code",
   "execution_count": 61,
   "metadata": {},
   "outputs": [],
   "source": [
    "train = train_raw.merge(train_abbr[['doc_id', 'Abbreviation', 'Definition_lemmatized']], on = 'doc_id', how = 'left')"
   ]
  },
  {
   "cell_type": "code",
   "execution_count": 62,
   "metadata": {},
   "outputs": [],
   "source": [
    "train = train.merge(train_abbr, on = ['doc_id', 'Abbreviation'], how = 'left')"
   ]
  },
  {
   "cell_type": "code",
   "execution_count": 63,
   "metadata": {},
   "outputs": [],
   "source": [
    "train = train.drop_duplicates()"
   ]
  },
  {
   "cell_type": "code",
   "execution_count": 64,
   "metadata": {},
   "outputs": [],
   "source": [
    "train = train[['doc_id', 'texto', 'Abbreviation', 'Definition_lemmatized_x', 'StartOffset', 'EndOffset']]"
   ]
  },
  {
   "cell_type": "code",
   "execution_count": 65,
   "metadata": {},
   "outputs": [],
   "source": [
    "train = train.rename(columns = {'Definition_lemmatized_x':'Definition'})"
   ]
  },
  {
   "cell_type": "code",
   "execution_count": 66,
   "metadata": {},
   "outputs": [
    {
     "data": {
      "text/html": [
       "<div>\n",
       "<style scoped>\n",
       "    .dataframe tbody tr th:only-of-type {\n",
       "        vertical-align: middle;\n",
       "    }\n",
       "\n",
       "    .dataframe tbody tr th {\n",
       "        vertical-align: top;\n",
       "    }\n",
       "\n",
       "    .dataframe thead th {\n",
       "        text-align: right;\n",
       "    }\n",
       "</style>\n",
       "<table border=\"1\" class=\"dataframe\">\n",
       "  <thead>\n",
       "    <tr style=\"text-align: right;\">\n",
       "      <th></th>\n",
       "      <th>doc_id</th>\n",
       "      <th>texto</th>\n",
       "      <th>Abbreviation</th>\n",
       "      <th>Definition</th>\n",
       "      <th>StartOffset</th>\n",
       "      <th>EndOffset</th>\n",
       "    </tr>\n",
       "  </thead>\n",
       "  <tbody>\n",
       "    <tr>\n",
       "      <th>0</th>\n",
       "      <td>S1130-01082006000100014-1</td>\n",
       "      <td>Se trata de una mujer de 35 años, con antecedentes familiares de enfermedad de Crohn y sin antec...</td>\n",
       "      <td>dl</td>\n",
       "      <td>decilitro</td>\n",
       "      <td>1908.0</td>\n",
       "      <td>1910.0</td>\n",
       "    </tr>\n",
       "    <tr>\n",
       "      <th>1</th>\n",
       "      <td>S1130-01082006000100014-1</td>\n",
       "      <td>Se trata de una mujer de 35 años, con antecedentes familiares de enfermedad de Crohn y sin antec...</td>\n",
       "      <td>dl</td>\n",
       "      <td>decilitro</td>\n",
       "      <td>1684.0</td>\n",
       "      <td>1686.0</td>\n",
       "    </tr>\n",
       "    <tr>\n",
       "      <th>2</th>\n",
       "      <td>S1130-01082006000100014-1</td>\n",
       "      <td>Se trata de una mujer de 35 años, con antecedentes familiares de enfermedad de Crohn y sin antec...</td>\n",
       "      <td>dl</td>\n",
       "      <td>decilitro</td>\n",
       "      <td>1656.0</td>\n",
       "      <td>1658.0</td>\n",
       "    </tr>\n",
       "    <tr>\n",
       "      <th>3</th>\n",
       "      <td>S1130-01082006000100014-1</td>\n",
       "      <td>Se trata de una mujer de 35 años, con antecedentes familiares de enfermedad de Crohn y sin antec...</td>\n",
       "      <td>dl</td>\n",
       "      <td>decilitro</td>\n",
       "      <td>1414.0</td>\n",
       "      <td>1416.0</td>\n",
       "    </tr>\n",
       "    <tr>\n",
       "      <th>12</th>\n",
       "      <td>S1130-01082006000100014-1</td>\n",
       "      <td>Se trata de una mujer de 35 años, con antecedentes familiares de enfermedad de Crohn y sin antec...</td>\n",
       "      <td>g</td>\n",
       "      <td>gramo</td>\n",
       "      <td>1654.0</td>\n",
       "      <td>1655.0</td>\n",
       "    </tr>\n",
       "  </tbody>\n",
       "</table>\n",
       "</div>"
      ],
      "text/plain": [
       "                       doc_id  \\\n",
       "0   S1130-01082006000100014-1   \n",
       "1   S1130-01082006000100014-1   \n",
       "2   S1130-01082006000100014-1   \n",
       "3   S1130-01082006000100014-1   \n",
       "12  S1130-01082006000100014-1   \n",
       "\n",
       "                                                                                                  texto  \\\n",
       "0   Se trata de una mujer de 35 años, con antecedentes familiares de enfermedad de Crohn y sin antec...   \n",
       "1   Se trata de una mujer de 35 años, con antecedentes familiares de enfermedad de Crohn y sin antec...   \n",
       "2   Se trata de una mujer de 35 años, con antecedentes familiares de enfermedad de Crohn y sin antec...   \n",
       "3   Se trata de una mujer de 35 años, con antecedentes familiares de enfermedad de Crohn y sin antec...   \n",
       "12  Se trata de una mujer de 35 años, con antecedentes familiares de enfermedad de Crohn y sin antec...   \n",
       "\n",
       "   Abbreviation Definition  StartOffset  EndOffset  \n",
       "0            dl  decilitro       1908.0     1910.0  \n",
       "1            dl  decilitro       1684.0     1686.0  \n",
       "2            dl  decilitro       1656.0     1658.0  \n",
       "3            dl  decilitro       1414.0     1416.0  \n",
       "12            g      gramo       1654.0     1655.0  "
      ]
     },
     "execution_count": 66,
     "metadata": {},
     "output_type": "execute_result"
    }
   ],
   "source": [
    "train.head()"
   ]
  },
  {
   "cell_type": "code",
   "execution_count": 67,
   "metadata": {},
   "outputs": [],
   "source": [
    "train = train.rename(columns = {'Abbreviation': 'short_form', 'Definition': 'long_form'})"
   ]
  },
  {
   "cell_type": "code",
   "execution_count": 68,
   "metadata": {},
   "outputs": [],
   "source": [
    "train = train.dropna(subset = ['short_form', 'long_form'])"
   ]
  },
  {
   "cell_type": "code",
   "execution_count": 69,
   "metadata": {},
   "outputs": [],
   "source": [
    "train[['StartOffset', 'EndOffset']] = train[['StartOffset', 'EndOffset']].astype(int)"
   ]
  },
  {
   "cell_type": "markdown",
   "metadata": {},
   "source": [
    "Clean long forms to delete acents, string punctuation etc"
   ]
  },
  {
   "cell_type": "code",
   "execution_count": 70,
   "metadata": {},
   "outputs": [],
   "source": [
    "train['long_form'] = train['long_form'].map(clean_text)"
   ]
  },
  {
   "cell_type": "markdown",
   "metadata": {},
   "source": [
    "### Normalize long forms"
   ]
  },
  {
   "cell_type": "code",
   "execution_count": 71,
   "metadata": {},
   "outputs": [],
   "source": [
    "sf_lf = train[['short_form', 'long_form']].drop_duplicates()"
   ]
  },
  {
   "cell_type": "code",
   "execution_count": 72,
   "metadata": {},
   "outputs": [
    {
     "data": {
      "text/html": [
       "<div>\n",
       "<style scoped>\n",
       "    .dataframe tbody tr th:only-of-type {\n",
       "        vertical-align: middle;\n",
       "    }\n",
       "\n",
       "    .dataframe tbody tr th {\n",
       "        vertical-align: top;\n",
       "    }\n",
       "\n",
       "    .dataframe thead th {\n",
       "        text-align: right;\n",
       "    }\n",
       "</style>\n",
       "<table border=\"1\" class=\"dataframe\">\n",
       "  <thead>\n",
       "    <tr style=\"text-align: right;\">\n",
       "      <th></th>\n",
       "      <th>short_form</th>\n",
       "      <th>long_form</th>\n",
       "      <th>len</th>\n",
       "    </tr>\n",
       "  </thead>\n",
       "  <tbody>\n",
       "    <tr>\n",
       "      <th>48</th>\n",
       "      <td>AST</td>\n",
       "      <td>[aspartate aminotransferar, aspartatoaminotransferasa, aspartate and alanine aminotransferar, as...</td>\n",
       "      <td>5</td>\n",
       "    </tr>\n",
       "    <tr>\n",
       "      <th>132</th>\n",
       "      <td>CK</td>\n",
       "      <td>[citoqueratina, creatinar kinar, creatin kinar, cytokeratin]</td>\n",
       "      <td>4</td>\n",
       "    </tr>\n",
       "    <tr>\n",
       "      <th>481</th>\n",
       "      <td>PCR</td>\n",
       "      <td>[proteina c reactivo, polymerase chain reaction, reaccion cadena polimerasa, parada cardiorrespi...</td>\n",
       "      <td>4</td>\n",
       "    </tr>\n",
       "    <tr>\n",
       "      <th>573</th>\n",
       "      <td>TAC</td>\n",
       "      <td>[tomografia axial computarizado, tomografia axial computerizado, tomografia axial computadorizad...</td>\n",
       "      <td>4</td>\n",
       "    </tr>\n",
       "    <tr>\n",
       "      <th>85</th>\n",
       "      <td>C</td>\n",
       "      <td>[centimetro, centigrado, cysteine, peak c]</td>\n",
       "      <td>4</td>\n",
       "    </tr>\n",
       "    <tr>\n",
       "      <th>...</th>\n",
       "      <td>...</td>\n",
       "      <td>...</td>\n",
       "      <td>...</td>\n",
       "    </tr>\n",
       "    <tr>\n",
       "      <th>275</th>\n",
       "      <td>GLA</td>\n",
       "      <td>[galactosidasa]</td>\n",
       "      <td>1</td>\n",
       "    </tr>\n",
       "    <tr>\n",
       "      <th>278</th>\n",
       "      <td>GRE</td>\n",
       "      <td>[gradientecho]</td>\n",
       "      <td>1</td>\n",
       "    </tr>\n",
       "    <tr>\n",
       "      <th>279</th>\n",
       "      <td>GRP</td>\n",
       "      <td>[gastrostomia radiologico percutaneo]</td>\n",
       "      <td>1</td>\n",
       "    </tr>\n",
       "    <tr>\n",
       "      <th>280</th>\n",
       "      <td>Ga-67</td>\n",
       "      <td>[galio67]</td>\n",
       "      <td>1</td>\n",
       "    </tr>\n",
       "    <tr>\n",
       "      <th>767</th>\n",
       "      <td>™</td>\n",
       "      <td>[trademark]</td>\n",
       "      <td>1</td>\n",
       "    </tr>\n",
       "  </tbody>\n",
       "</table>\n",
       "<p>768 rows × 3 columns</p>\n",
       "</div>"
      ],
      "text/plain": [
       "    short_form  \\\n",
       "48         AST   \n",
       "132         CK   \n",
       "481        PCR   \n",
       "573        TAC   \n",
       "85           C   \n",
       "..         ...   \n",
       "275        GLA   \n",
       "278        GRE   \n",
       "279        GRP   \n",
       "280      Ga-67   \n",
       "767          ™   \n",
       "\n",
       "                                                                                               long_form  \\\n",
       "48   [aspartate aminotransferar, aspartatoaminotransferasa, aspartate and alanine aminotransferar, as...   \n",
       "132                                         [citoqueratina, creatinar kinar, creatin kinar, cytokeratin]   \n",
       "481  [proteina c reactivo, polymerase chain reaction, reaccion cadena polimerasa, parada cardiorrespi...   \n",
       "573  [tomografia axial computarizado, tomografia axial computerizado, tomografia axial computadorizad...   \n",
       "85                                                            [centimetro, centigrado, cysteine, peak c]   \n",
       "..                                                                                                   ...   \n",
       "275                                                                                      [galactosidasa]   \n",
       "278                                                                                       [gradientecho]   \n",
       "279                                                                [gastrostomia radiologico percutaneo]   \n",
       "280                                                                                            [galio67]   \n",
       "767                                                                                          [trademark]   \n",
       "\n",
       "     len  \n",
       "48     5  \n",
       "132    4  \n",
       "481    4  \n",
       "573    4  \n",
       "85     4  \n",
       "..   ...  \n",
       "275    1  \n",
       "278    1  \n",
       "279    1  \n",
       "280    1  \n",
       "767    1  \n",
       "\n",
       "[768 rows x 3 columns]"
      ]
     },
     "execution_count": 72,
     "metadata": {},
     "output_type": "execute_result"
    }
   ],
   "source": [
    "sf_lf_list = sf_lf.groupby('short_form', as_index=False).agg({'long_form': list})\n",
    "sf_lf_list['len'] = sf_lf_list['long_form'].map(lambda x: len(x))\n",
    "sf_lf_list.sort_values('len', ascending = False)"
   ]
  },
  {
   "cell_type": "markdown",
   "metadata": {},
   "source": [
    "#### Apply Levenshtein distance to normalize Long Forms"
   ]
  },
  {
   "cell_type": "markdown",
   "metadata": {},
   "source": [
    "Get more frequent lf per sf"
   ]
  },
  {
   "cell_type": "code",
   "execution_count": 73,
   "metadata": {},
   "outputs": [
    {
     "data": {
      "text/html": [
       "<div>\n",
       "<style scoped>\n",
       "    .dataframe tbody tr th:only-of-type {\n",
       "        vertical-align: middle;\n",
       "    }\n",
       "\n",
       "    .dataframe tbody tr th {\n",
       "        vertical-align: top;\n",
       "    }\n",
       "\n",
       "    .dataframe thead th {\n",
       "        text-align: right;\n",
       "    }\n",
       "</style>\n",
       "<table border=\"1\" class=\"dataframe\">\n",
       "  <thead>\n",
       "    <tr style=\"text-align: right;\">\n",
       "      <th></th>\n",
       "      <th>index</th>\n",
       "      <th>long_form</th>\n",
       "    </tr>\n",
       "  </thead>\n",
       "  <tbody>\n",
       "    <tr>\n",
       "      <th>0</th>\n",
       "      <td>miligramo</td>\n",
       "      <td>407</td>\n",
       "    </tr>\n",
       "    <tr>\n",
       "      <th>1</th>\n",
       "      <td>decilitro</td>\n",
       "      <td>246</td>\n",
       "    </tr>\n",
       "    <tr>\n",
       "      <th>2</th>\n",
       "      <td>centimetro</td>\n",
       "      <td>239</td>\n",
       "    </tr>\n",
       "    <tr>\n",
       "      <th>3</th>\n",
       "      <td>litro</td>\n",
       "      <td>170</td>\n",
       "    </tr>\n",
       "    <tr>\n",
       "      <th>4</th>\n",
       "      <td>mililitro</td>\n",
       "      <td>144</td>\n",
       "    </tr>\n",
       "    <tr>\n",
       "      <th>...</th>\n",
       "      <td>...</td>\n",
       "      <td>...</td>\n",
       "    </tr>\n",
       "    <tr>\n",
       "      <th>762</th>\n",
       "      <td>miembro superior</td>\n",
       "      <td>1</td>\n",
       "    </tr>\n",
       "    <tr>\n",
       "      <th>763</th>\n",
       "      <td>guglielmi detachable coiling</td>\n",
       "      <td>1</td>\n",
       "    </tr>\n",
       "    <tr>\n",
       "      <th>764</th>\n",
       "      <td>streptococcus</td>\n",
       "      <td>1</td>\n",
       "    </tr>\n",
       "    <tr>\n",
       "      <th>765</th>\n",
       "      <td>hemodialfiltracion</td>\n",
       "      <td>1</td>\n",
       "    </tr>\n",
       "    <tr>\n",
       "      <th>766</th>\n",
       "      <td>carcinoma celula renal</td>\n",
       "      <td>1</td>\n",
       "    </tr>\n",
       "  </tbody>\n",
       "</table>\n",
       "<p>767 rows × 2 columns</p>\n",
       "</div>"
      ],
      "text/plain": [
       "                            index  long_form\n",
       "0                       miligramo        407\n",
       "1                       decilitro        246\n",
       "2                      centimetro        239\n",
       "3                           litro        170\n",
       "4                       mililitro        144\n",
       "..                            ...        ...\n",
       "762              miembro superior          1\n",
       "763  guglielmi detachable coiling          1\n",
       "764                 streptococcus          1\n",
       "765            hemodialfiltracion          1\n",
       "766        carcinoma celula renal          1\n",
       "\n",
       "[767 rows x 2 columns]"
      ]
     },
     "execution_count": 73,
     "metadata": {},
     "output_type": "execute_result"
    }
   ],
   "source": [
    "frec = train['long_form'].value_counts().reset_index()\n",
    "frec"
   ]
  },
  {
   "cell_type": "markdown",
   "metadata": {},
   "source": [
    "Create a dictionary where keys are the lf to normalize and the values the normalized form"
   ]
  },
  {
   "cell_type": "code",
   "execution_count": 74,
   "metadata": {},
   "outputs": [],
   "source": [
    "norm = []\n",
    "for i in sf_lf_list['long_form']:\n",
    "    norm.append(normalize_lf(i))"
   ]
  },
  {
   "cell_type": "code",
   "execution_count": 75,
   "metadata": {},
   "outputs": [],
   "source": [
    "norm = [i for i in norm if i != None]"
   ]
  },
  {
   "cell_type": "code",
   "execution_count": 76,
   "metadata": {
    "collapsed": true,
    "jupyter": {
     "outputs_hidden": true
    },
    "tags": []
   },
   "outputs": [
    {
     "data": {
      "text/plain": [
       "{'antinuclear antibodie': 'antinuclear antibody',\n",
       " 'antinuclear antibody': 'antinuclear antibody',\n",
       " 'aspartatoaminotransferasa': 'aspartato aminotransferasar',\n",
       " 'aspartate aminotransferar': 'aspartato aminotransferasar',\n",
       " 'aspartato aminotransferasar': 'aspartato aminotransferasar',\n",
       " 'bacilo calmette guerin': 'bacillus calmetteguerin',\n",
       " 'bacilo calmetteguerin': 'bacillus calmetteguerin',\n",
       " 'bacillus calmetteguerin': 'bacillus calmetteguerin',\n",
       " 'carcinoembrionary antiger': 'carcinoembrionary antiger',\n",
       " 'carcinoembryonic antiger': 'carcinoembrionary antiger',\n",
       " 'creatin kinar': 'creatinar kinar',\n",
       " 'creatinar kinar': 'creatinar kinar',\n",
       " 'electromiograma': 'electromiografia',\n",
       " 'electromiografia': 'electromiografia',\n",
       " 'eutectic mixturar local anaesthetic': 'eutectic mixturar local anaesthetic',\n",
       " 'epitelio pigmentario retina': 'epitelio pigmentario retiniano',\n",
       " 'epitelio pigmentario retiniano': 'epitelio pigmentario retiniano',\n",
       " 'guanina': 'guanina',\n",
       " 'guanine': 'guanina',\n",
       " 'gamma glutamil transpeptidasar': 'gammaglutamil transpeptidasa',\n",
       " 'gammaglutamiltranspeptidasa': 'gammaglutamil transpeptidasa',\n",
       " 'gammaglutamil transpeptidasa': 'gammaglutamil transpeptidasa',\n",
       " 'glutamic oxalic transaminar': 'glutamic oxalic transaminar',\n",
       " 'glutamic oxaloacetic transaminar': 'glutamic oxalic transaminar',\n",
       " 'glutamate pyruvatar transaminar': 'glutamate pyruvatar transaminar',\n",
       " 'glutamato piruvato transaminasar': 'glutamate pyruvatar transaminar',\n",
       " 'human leukocyte antiger': 'human leucocyte antiger',\n",
       " 'human leucocyte antiger': 'human leucocyte antiger',\n",
       " 'liquido cefalorraquideo': 'liquido cefalorraquideo',\n",
       " 'liquido cefaloraquideo': 'liquido cefalorraquideo',\n",
       " 'lactodeshidrogenasa': 'lactatodeshidrogenasa',\n",
       " 'lactatodeshidrogenasa': 'lactatodeshidrogenasa',\n",
       " 'lacticodeshidrogenasa': 'lactatodeshidrogenasa',\n",
       " 'mycobacterial growth indicator tubir': 'mycobacterial growth indicator tubir',\n",
       " 'mycobacteria growth indicator tubir': 'mycobacterial growth indicator tubir',\n",
       " 'ojo izquiero': 'ojo izquierdo',\n",
       " 'ojo izquierdo': 'ojo izquierdo',\n",
       " 'puncion aspirativo aguja fino': 'puncion aspiracion aguja fino',\n",
       " 'puncion aspiracion aguja fino': 'puncion aspiracion aguja fino',\n",
       " 'prostatar specific antiger': 'prostatar specific antiger',\n",
       " 'prostatespecific antiger': 'prostatar specific antiger',\n",
       " 'quiste aracnoideo': 'quist aracnoideo',\n",
       " 'quist aracnoideo': 'quist aracnoideo',\n",
       " 'sindrome doloroso regional complejo': 'sindrome dolor regional complejo',\n",
       " 'sindrome dolor regional complejo': 'sindrome dolor regional complejo',\n",
       " 'tomografia axial computarizado': 'tomografia axial computarizado',\n",
       " 'tomografia axial copmputarizado': 'tomografia axial computarizado',\n",
       " 'tomografia axial computadorizado': 'tomografia axial computarizado',\n",
       " 'tomografia axial computerizado': 'tomografia axial computarizado',\n",
       " 'tomografia computerizado': 'tomografia computarizado',\n",
       " 'tomografia computarizado': 'tomografia computarizado',\n",
       " 'triglicerido': 'triglicerido',\n",
       " 'triglicerir': 'triglicerido',\n",
       " 'transaminasar glutamico oxalacetico': 'transaminasar glutamico oxalacetico',\n",
       " 'transaminasa glutamicooxalacetico': 'transaminasar glutamico oxalacetico',\n",
       " 'transaminasa glutamicopiruvico': 'transaminasa glutamico piruvico',\n",
       " 'transaminasa glutamico piruvico': 'transaminasa glutamico piruvico',\n",
       " 'thyroid transcripti factor1': 'thyroid transcription factor 1',\n",
       " 'thyroid transcription factor 1': 'thyroid transcription factor 1',\n",
       " 'virus epsteinbarr': 'virus epstein barr',\n",
       " 'virus epstein barr': 'virus epstein barr',\n",
       " 'virus varicelar zoster': 'virus varicelar zoster',\n",
       " 'virus varicelazoster': 'virus varicelar zoster',\n",
       " 'presion parcial oxigen': 'presion parcial oxigeno',\n",
       " 'presion parcial oxigeno': 'presion parcial oxigeno'}"
      ]
     },
     "execution_count": 76,
     "metadata": {},
     "output_type": "execute_result"
    }
   ],
   "source": [
    "norm_dict = {}\n",
    "for i in norm:\n",
    "    norm_dict.update(i)\n",
    "#norm_dict"
   ]
  },
  {
   "cell_type": "markdown",
   "metadata": {},
   "source": [
    "Finally normalize long forms over the dataframe"
   ]
  },
  {
   "cell_type": "code",
   "execution_count": 77,
   "metadata": {},
   "outputs": [
    {
     "data": {
      "text/html": [
       "<div>\n",
       "<style scoped>\n",
       "    .dataframe tbody tr th:only-of-type {\n",
       "        vertical-align: middle;\n",
       "    }\n",
       "\n",
       "    .dataframe tbody tr th {\n",
       "        vertical-align: top;\n",
       "    }\n",
       "\n",
       "    .dataframe thead th {\n",
       "        text-align: right;\n",
       "    }\n",
       "</style>\n",
       "<table border=\"1\" class=\"dataframe\">\n",
       "  <thead>\n",
       "    <tr style=\"text-align: right;\">\n",
       "      <th></th>\n",
       "      <th>doc_id</th>\n",
       "      <th>texto</th>\n",
       "      <th>short_form</th>\n",
       "      <th>long_form</th>\n",
       "      <th>StartOffset</th>\n",
       "      <th>EndOffset</th>\n",
       "    </tr>\n",
       "  </thead>\n",
       "  <tbody>\n",
       "    <tr>\n",
       "      <th>0</th>\n",
       "      <td>S1130-01082006000100014-1</td>\n",
       "      <td>Se trata de una mujer de 35 años, con antecedentes familiares de enfermedad de Crohn y sin antec...</td>\n",
       "      <td>dl</td>\n",
       "      <td>decilitro</td>\n",
       "      <td>1908</td>\n",
       "      <td>1910</td>\n",
       "    </tr>\n",
       "    <tr>\n",
       "      <th>1</th>\n",
       "      <td>S1130-01082006000100014-1</td>\n",
       "      <td>Se trata de una mujer de 35 años, con antecedentes familiares de enfermedad de Crohn y sin antec...</td>\n",
       "      <td>dl</td>\n",
       "      <td>decilitro</td>\n",
       "      <td>1684</td>\n",
       "      <td>1686</td>\n",
       "    </tr>\n",
       "    <tr>\n",
       "      <th>2</th>\n",
       "      <td>S1130-01082006000100014-1</td>\n",
       "      <td>Se trata de una mujer de 35 años, con antecedentes familiares de enfermedad de Crohn y sin antec...</td>\n",
       "      <td>dl</td>\n",
       "      <td>decilitro</td>\n",
       "      <td>1656</td>\n",
       "      <td>1658</td>\n",
       "    </tr>\n",
       "    <tr>\n",
       "      <th>3</th>\n",
       "      <td>S1130-01082006000100014-1</td>\n",
       "      <td>Se trata de una mujer de 35 años, con antecedentes familiares de enfermedad de Crohn y sin antec...</td>\n",
       "      <td>dl</td>\n",
       "      <td>decilitro</td>\n",
       "      <td>1414</td>\n",
       "      <td>1416</td>\n",
       "    </tr>\n",
       "    <tr>\n",
       "      <th>12</th>\n",
       "      <td>S1130-01082006000100014-1</td>\n",
       "      <td>Se trata de una mujer de 35 años, con antecedentes familiares de enfermedad de Crohn y sin antec...</td>\n",
       "      <td>g</td>\n",
       "      <td>gramo</td>\n",
       "      <td>1654</td>\n",
       "      <td>1655</td>\n",
       "    </tr>\n",
       "  </tbody>\n",
       "</table>\n",
       "</div>"
      ],
      "text/plain": [
       "                       doc_id  \\\n",
       "0   S1130-01082006000100014-1   \n",
       "1   S1130-01082006000100014-1   \n",
       "2   S1130-01082006000100014-1   \n",
       "3   S1130-01082006000100014-1   \n",
       "12  S1130-01082006000100014-1   \n",
       "\n",
       "                                                                                                  texto  \\\n",
       "0   Se trata de una mujer de 35 años, con antecedentes familiares de enfermedad de Crohn y sin antec...   \n",
       "1   Se trata de una mujer de 35 años, con antecedentes familiares de enfermedad de Crohn y sin antec...   \n",
       "2   Se trata de una mujer de 35 años, con antecedentes familiares de enfermedad de Crohn y sin antec...   \n",
       "3   Se trata de una mujer de 35 años, con antecedentes familiares de enfermedad de Crohn y sin antec...   \n",
       "12  Se trata de una mujer de 35 años, con antecedentes familiares de enfermedad de Crohn y sin antec...   \n",
       "\n",
       "   short_form  long_form  StartOffset  EndOffset  \n",
       "0          dl  decilitro         1908       1910  \n",
       "1          dl  decilitro         1684       1686  \n",
       "2          dl  decilitro         1656       1658  \n",
       "3          dl  decilitro         1414       1416  \n",
       "12          g      gramo         1654       1655  "
      ]
     },
     "execution_count": 77,
     "metadata": {},
     "output_type": "execute_result"
    }
   ],
   "source": [
    "train.head()"
   ]
  },
  {
   "cell_type": "code",
   "execution_count": 78,
   "metadata": {},
   "outputs": [],
   "source": [
    "train = train.replace({\"long_form\": norm_dict})"
   ]
  },
  {
   "cell_type": "code",
   "execution_count": 79,
   "metadata": {},
   "outputs": [
    {
     "data": {
      "text/html": [
       "<div>\n",
       "<style scoped>\n",
       "    .dataframe tbody tr th:only-of-type {\n",
       "        vertical-align: middle;\n",
       "    }\n",
       "\n",
       "    .dataframe tbody tr th {\n",
       "        vertical-align: top;\n",
       "    }\n",
       "\n",
       "    .dataframe thead th {\n",
       "        text-align: right;\n",
       "    }\n",
       "</style>\n",
       "<table border=\"1\" class=\"dataframe\">\n",
       "  <thead>\n",
       "    <tr style=\"text-align: right;\">\n",
       "      <th></th>\n",
       "      <th>doc_id</th>\n",
       "      <th>texto</th>\n",
       "      <th>short_form</th>\n",
       "      <th>long_form</th>\n",
       "      <th>StartOffset</th>\n",
       "      <th>EndOffset</th>\n",
       "    </tr>\n",
       "  </thead>\n",
       "  <tbody>\n",
       "    <tr>\n",
       "      <th>0</th>\n",
       "      <td>S1130-01082006000100014-1</td>\n",
       "      <td>Se trata de una mujer de 35 años, con antecedentes familiares de enfermedad de Crohn y sin antec...</td>\n",
       "      <td>dl</td>\n",
       "      <td>decilitro</td>\n",
       "      <td>1908</td>\n",
       "      <td>1910</td>\n",
       "    </tr>\n",
       "    <tr>\n",
       "      <th>1</th>\n",
       "      <td>S1130-01082006000100014-1</td>\n",
       "      <td>Se trata de una mujer de 35 años, con antecedentes familiares de enfermedad de Crohn y sin antec...</td>\n",
       "      <td>dl</td>\n",
       "      <td>decilitro</td>\n",
       "      <td>1684</td>\n",
       "      <td>1686</td>\n",
       "    </tr>\n",
       "    <tr>\n",
       "      <th>2</th>\n",
       "      <td>S1130-01082006000100014-1</td>\n",
       "      <td>Se trata de una mujer de 35 años, con antecedentes familiares de enfermedad de Crohn y sin antec...</td>\n",
       "      <td>dl</td>\n",
       "      <td>decilitro</td>\n",
       "      <td>1656</td>\n",
       "      <td>1658</td>\n",
       "    </tr>\n",
       "    <tr>\n",
       "      <th>3</th>\n",
       "      <td>S1130-01082006000100014-1</td>\n",
       "      <td>Se trata de una mujer de 35 años, con antecedentes familiares de enfermedad de Crohn y sin antec...</td>\n",
       "      <td>dl</td>\n",
       "      <td>decilitro</td>\n",
       "      <td>1414</td>\n",
       "      <td>1416</td>\n",
       "    </tr>\n",
       "    <tr>\n",
       "      <th>12</th>\n",
       "      <td>S1130-01082006000100014-1</td>\n",
       "      <td>Se trata de una mujer de 35 años, con antecedentes familiares de enfermedad de Crohn y sin antec...</td>\n",
       "      <td>g</td>\n",
       "      <td>gramo</td>\n",
       "      <td>1654</td>\n",
       "      <td>1655</td>\n",
       "    </tr>\n",
       "  </tbody>\n",
       "</table>\n",
       "</div>"
      ],
      "text/plain": [
       "                       doc_id  \\\n",
       "0   S1130-01082006000100014-1   \n",
       "1   S1130-01082006000100014-1   \n",
       "2   S1130-01082006000100014-1   \n",
       "3   S1130-01082006000100014-1   \n",
       "12  S1130-01082006000100014-1   \n",
       "\n",
       "                                                                                                  texto  \\\n",
       "0   Se trata de una mujer de 35 años, con antecedentes familiares de enfermedad de Crohn y sin antec...   \n",
       "1   Se trata de una mujer de 35 años, con antecedentes familiares de enfermedad de Crohn y sin antec...   \n",
       "2   Se trata de una mujer de 35 años, con antecedentes familiares de enfermedad de Crohn y sin antec...   \n",
       "3   Se trata de una mujer de 35 años, con antecedentes familiares de enfermedad de Crohn y sin antec...   \n",
       "12  Se trata de una mujer de 35 años, con antecedentes familiares de enfermedad de Crohn y sin antec...   \n",
       "\n",
       "   short_form  long_form  StartOffset  EndOffset  \n",
       "0          dl  decilitro         1908       1910  \n",
       "1          dl  decilitro         1684       1686  \n",
       "2          dl  decilitro         1656       1658  \n",
       "3          dl  decilitro         1414       1416  \n",
       "12          g      gramo         1654       1655  "
      ]
     },
     "execution_count": 79,
     "metadata": {},
     "output_type": "execute_result"
    }
   ],
   "source": [
    "train.head()"
   ]
  },
  {
   "cell_type": "markdown",
   "metadata": {},
   "source": [
    "### Get just ambigous acronyms"
   ]
  },
  {
   "cell_type": "code",
   "execution_count": 80,
   "metadata": {},
   "outputs": [],
   "source": [
    "amb = train.groupby('short_form')['long_form'].nunique().reset_index().sort_values('long_form', ascending = False)"
   ]
  },
  {
   "cell_type": "code",
   "execution_count": 81,
   "metadata": {},
   "outputs": [
    {
     "data": {
      "text/html": [
       "<div>\n",
       "<style scoped>\n",
       "    .dataframe tbody tr th:only-of-type {\n",
       "        vertical-align: middle;\n",
       "    }\n",
       "\n",
       "    .dataframe tbody tr th {\n",
       "        vertical-align: top;\n",
       "    }\n",
       "\n",
       "    .dataframe thead th {\n",
       "        text-align: right;\n",
       "    }\n",
       "</style>\n",
       "<table border=\"1\" class=\"dataframe\">\n",
       "  <thead>\n",
       "    <tr style=\"text-align: right;\">\n",
       "      <th></th>\n",
       "      <th>short_form</th>\n",
       "      <th>long_form</th>\n",
       "    </tr>\n",
       "  </thead>\n",
       "  <tbody>\n",
       "    <tr>\n",
       "      <th>238</th>\n",
       "      <td>FA</td>\n",
       "      <td>4</td>\n",
       "    </tr>\n",
       "    <tr>\n",
       "      <th>481</th>\n",
       "      <td>PCR</td>\n",
       "      <td>4</td>\n",
       "    </tr>\n",
       "    <tr>\n",
       "      <th>85</th>\n",
       "      <td>C</td>\n",
       "      <td>4</td>\n",
       "    </tr>\n",
       "    <tr>\n",
       "      <th>370</th>\n",
       "      <td>L</td>\n",
       "      <td>3</td>\n",
       "    </tr>\n",
       "    <tr>\n",
       "      <th>48</th>\n",
       "      <td>AST</td>\n",
       "      <td>3</td>\n",
       "    </tr>\n",
       "  </tbody>\n",
       "</table>\n",
       "</div>"
      ],
      "text/plain": [
       "    short_form  long_form\n",
       "238         FA          4\n",
       "481        PCR          4\n",
       "85           C          4\n",
       "370          L          3\n",
       "48         AST          3"
      ]
     },
     "execution_count": 81,
     "metadata": {},
     "output_type": "execute_result"
    }
   ],
   "source": [
    "amb.head()"
   ]
  },
  {
   "cell_type": "code",
   "execution_count": 82,
   "metadata": {},
   "outputs": [
    {
     "data": {
      "image/png": "[encoded data removed]",
      "text/plain": [
       "<Figure size 432x288 with 1 Axes>"
      ]
     },
     "metadata": {
      "needs_background": "light"
     },
     "output_type": "display_data"
    }
   ],
   "source": [
    "table = pd.crosstab(amb['long_form'], columns = 'Count')\n",
    "table.plot.bar()\n",
    "plt.show()"
   ]
  },
  {
   "cell_type": "code",
   "execution_count": 83,
   "metadata": {},
   "outputs": [],
   "source": [
    "defin = amb[amb['long_form'] != 1]['short_form'].values.tolist()"
   ]
  },
  {
   "cell_type": "code",
   "execution_count": 84,
   "metadata": {},
   "outputs": [
    {
     "data": {
      "text/plain": [
       "(4355, 6)"
      ]
     },
     "execution_count": 84,
     "metadata": {},
     "output_type": "execute_result"
    }
   ],
   "source": [
    "train.shape"
   ]
  },
  {
   "cell_type": "code",
   "execution_count": 85,
   "metadata": {},
   "outputs": [],
   "source": [
    "train = train[train['short_form'].isin(defin)]"
   ]
  },
  {
   "cell_type": "code",
   "execution_count": 86,
   "metadata": {},
   "outputs": [
    {
     "data": {
      "text/plain": [
       "(953, 6)"
      ]
     },
     "execution_count": 86,
     "metadata": {},
     "output_type": "execute_result"
    }
   ],
   "source": [
    "train.shape"
   ]
  },
  {
   "cell_type": "markdown",
   "metadata": {},
   "source": [
    "Transform dataframe to a list of dictionaries"
   ]
  },
  {
   "cell_type": "code",
   "execution_count": 88,
   "metadata": {},
   "outputs": [],
   "source": [
    "train_data = train[['doc_id', 'texto', 'short_form', 'long_form', 'StartOffset', 'EndOffset']].to_dict('records')"
   ]
  },
  {
   "cell_type": "markdown",
   "metadata": {},
   "source": [
    "### Get the text before and after the SF"
   ]
  },
  {
   "cell_type": "code",
   "execution_count": 89,
   "metadata": {},
   "outputs": [],
   "source": [
    "train_ndata, sf_not_found = get_f_b_context_text(train_data)"
   ]
  },
  {
   "cell_type": "markdown",
   "metadata": {},
   "source": [
    "Check if any SF is not founded in the text"
   ]
  },
  {
   "cell_type": "code",
   "execution_count": 90,
   "metadata": {},
   "outputs": [],
   "source": [
    "sf_not_found_set = set(sf_not_found)"
   ]
  },
  {
   "cell_type": "code",
   "execution_count": 91,
   "metadata": {},
   "outputs": [
    {
     "data": {
      "text/plain": [
       "0"
      ]
     },
     "execution_count": 91,
     "metadata": {},
     "output_type": "execute_result"
    }
   ],
   "source": [
    "len(sf_not_found_set)"
   ]
  },
  {
   "cell_type": "markdown",
   "metadata": {},
   "source": [
    "Now clean the texts, remove string punctuation, accents, lower case, remove double spaces, separate numbers from sf"
   ]
  },
  {
   "cell_type": "code",
   "execution_count": 160,
   "metadata": {},
   "outputs": [],
   "source": [
    "# def clean_text_after(data):\n",
    "    \n",
    "#     for instance in data:\n",
    "#         instance[1] = clean_text(instance[1]).lower()\n",
    "#         instance[2] = clean_text(instance[2]).lower()\n",
    "#         instance[1] = re.sub(r'(\\d+)', r'\\g<1> ', instance[1]) #metemos espacio entre número y acrónimos que quedan pegados    \n",
    "#         instance[2] = re.sub(r'(\\d+)', r'\\g<1> ', instance[2])\n",
    "#         instance[1] = re.sub(r'\\s+', ' ', instance[1]).strip()\n",
    "#         instance[2] = re.sub(r'\\s+', ' ', instance[2]).strip()\n",
    "#     return data\n",
    "        "
   ]
  },
  {
   "cell_type": "code",
   "execution_count": 161,
   "metadata": {},
   "outputs": [],
   "source": [
    "# train_ndata = clean_text_after(train_ndata)"
   ]
  },
  {
   "cell_type": "markdown",
   "metadata": {},
   "source": [
    "### Get the contexts "
   ]
  },
  {
   "cell_type": "markdown",
   "metadata": {},
   "source": [
    "From the texts before and after the sf, we limit the number of words"
   ]
  },
  {
   "cell_type": "code",
   "execution_count": 92,
   "metadata": {},
   "outputs": [],
   "source": [
    "star_ends_tokens = 6 #number of tokens to add because <start> and <end> labels "
   ]
  },
  {
   "cell_type": "code",
   "execution_count": 93,
   "metadata": {},
   "outputs": [],
   "source": [
    "n_step_f = 10 + star_ends_tokens #number of words to select from the forward context\n",
    "n_step_b = 10#number of words to select from the backward context"
   ]
  },
  {
   "cell_type": "code",
   "execution_count": 94,
   "metadata": {},
   "outputs": [
    {
     "name": "stderr",
     "output_type": "stream",
     "text": [
      "[nltk_data] Downloading package punkt to /Users/egarcia/nltk_data...\n",
      "[nltk_data]   Package punkt is already up-to-date!\n"
     ]
    },
    {
     "data": {
      "text/plain": [
       "True"
      ]
     },
     "execution_count": 94,
     "metadata": {},
     "output_type": "execute_result"
    }
   ],
   "source": [
    "nltk.download('punkt')"
   ]
  },
  {
   "cell_type": "code",
   "execution_count": 95,
   "metadata": {},
   "outputs": [],
   "source": [
    "train_ndata = limit_context(train_ndata)"
   ]
  },
  {
   "cell_type": "code",
   "execution_count": 96,
   "metadata": {},
   "outputs": [
    {
     "data": {
      "text/plain": [
       "['GPT',\n",
       " 'bioquímicos en sangre eran normales salvo la GOT 87 , < start > GPT < end >',\n",
       " '51 , gamma-GT 67 y las proteínas totales que eran',\n",
       " 'glutamic pyruvic transaminar']"
      ]
     },
     "execution_count": 96,
     "metadata": {},
     "output_type": "execute_result"
    }
   ],
   "source": [
    "train_ndata[0]"
   ]
  },
  {
   "cell_type": "markdown",
   "metadata": {},
   "source": [
    "### Transform into df grouped by LF"
   ]
  },
  {
   "cell_type": "code",
   "execution_count": 97,
   "metadata": {},
   "outputs": [],
   "source": [
    "data_dic = create_dict(train_ndata)"
   ]
  },
  {
   "cell_type": "code",
   "execution_count": 98,
   "metadata": {},
   "outputs": [],
   "source": [
    "data_df = pd.DataFrame(data_dic)"
   ]
  },
  {
   "cell_type": "markdown",
   "metadata": {},
   "source": [
    "Asign an id to each LF"
   ]
  },
  {
   "cell_type": "code",
   "execution_count": 99,
   "metadata": {},
   "outputs": [],
   "source": [
    "data_df = data_df.assign(id=(data_df['long_form']).astype('category').cat.codes)"
   ]
  },
  {
   "cell_type": "code",
   "execution_count": 100,
   "metadata": {},
   "outputs": [
    {
     "data": {
      "text/html": [
       "<div>\n",
       "<style scoped>\n",
       "    .dataframe tbody tr th:only-of-type {\n",
       "        vertical-align: middle;\n",
       "    }\n",
       "\n",
       "    .dataframe tbody tr th {\n",
       "        vertical-align: top;\n",
       "    }\n",
       "\n",
       "    .dataframe thead th {\n",
       "        text-align: right;\n",
       "    }\n",
       "</style>\n",
       "<table border=\"1\" class=\"dataframe\">\n",
       "  <thead>\n",
       "    <tr style=\"text-align: right;\">\n",
       "      <th></th>\n",
       "      <th>short_form</th>\n",
       "      <th>context</th>\n",
       "      <th>long_form</th>\n",
       "      <th>id</th>\n",
       "    </tr>\n",
       "  </thead>\n",
       "  <tbody>\n",
       "    <tr>\n",
       "      <th>0</th>\n",
       "      <td>GPT</td>\n",
       "      <td>bioquímicos en sangre eran normales salvo la GOT 87 , &lt; start &gt; GPT &lt; end &gt; 51 , gamma-GT 67 y l...</td>\n",
       "      <td>glutamic pyruvic transaminar</td>\n",
       "      <td>63</td>\n",
       "    </tr>\n",
       "    <tr>\n",
       "      <th>1</th>\n",
       "      <td>C</td>\n",
       "      <td>la delgadez ( IMC 17 ) , temperatura 37 º &lt; start &gt; C &lt; end &gt; tensión arterial 105/60 , se encon...</td>\n",
       "      <td>centimetro</td>\n",
       "      <td>24</td>\n",
       "    </tr>\n",
       "    <tr>\n",
       "      <th>2</th>\n",
       "      <td>C</td>\n",
       "      <td>semanas , ingresó por cuadro de fiebre de 39 º &lt; start &gt; C &lt; end &gt; dolor y dificultad para movil...</td>\n",
       "      <td>centimetro</td>\n",
       "      <td>24</td>\n",
       "    </tr>\n",
       "    <tr>\n",
       "      <th>3</th>\n",
       "      <td>C</td>\n",
       "      <td>la delgadez ( IMC 17 ) , temperatura 37 º &lt; start &gt; C &lt; end &gt; tensión arterial 105/60 , se encon...</td>\n",
       "      <td>centigrado</td>\n",
       "      <td>23</td>\n",
       "    </tr>\n",
       "    <tr>\n",
       "      <th>4</th>\n",
       "      <td>C</td>\n",
       "      <td>semanas , ingresó por cuadro de fiebre de 39 º &lt; start &gt; C &lt; end &gt; dolor y dificultad para movil...</td>\n",
       "      <td>centigrado</td>\n",
       "      <td>23</td>\n",
       "    </tr>\n",
       "  </tbody>\n",
       "</table>\n",
       "</div>"
      ],
      "text/plain": [
       "  short_form  \\\n",
       "0        GPT   \n",
       "1          C   \n",
       "2          C   \n",
       "3          C   \n",
       "4          C   \n",
       "\n",
       "                                                                                               context  \\\n",
       "0  bioquímicos en sangre eran normales salvo la GOT 87 , < start > GPT < end > 51 , gamma-GT 67 y l...   \n",
       "1  la delgadez ( IMC 17 ) , temperatura 37 º < start > C < end > tensión arterial 105/60 , se encon...   \n",
       "2  semanas , ingresó por cuadro de fiebre de 39 º < start > C < end > dolor y dificultad para movil...   \n",
       "3  la delgadez ( IMC 17 ) , temperatura 37 º < start > C < end > tensión arterial 105/60 , se encon...   \n",
       "4  semanas , ingresó por cuadro de fiebre de 39 º < start > C < end > dolor y dificultad para movil...   \n",
       "\n",
       "                      long_form  id  \n",
       "0  glutamic pyruvic transaminar  63  \n",
       "1                    centimetro  24  \n",
       "2                    centimetro  24  \n",
       "3                    centigrado  23  \n",
       "4                    centigrado  23  "
      ]
     },
     "execution_count": 100,
     "metadata": {},
     "output_type": "execute_result"
    }
   ],
   "source": [
    "data_df.head()"
   ]
  },
  {
   "cell_type": "code",
   "execution_count": 101,
   "metadata": {},
   "outputs": [
    {
     "data": {
      "text/plain": [
       "(953, 4)"
      ]
     },
     "execution_count": 101,
     "metadata": {},
     "output_type": "execute_result"
    }
   ],
   "source": [
    "data_df.shape"
   ]
  },
  {
   "cell_type": "markdown",
   "metadata": {},
   "source": [
    "Vamos a unir cada SF con todas las posibles LF, una por cada registro, para que posteriormente el modelo funcione de forma binaria asignando la probabilidad de que ese sea su LF"
   ]
  },
  {
   "cell_type": "code",
   "execution_count": 102,
   "metadata": {},
   "outputs": [],
   "source": [
    "sf_lf_unique = data_df[['short_form', 'long_form']].drop_duplicates()"
   ]
  },
  {
   "cell_type": "code",
   "execution_count": 103,
   "metadata": {},
   "outputs": [
    {
     "data": {
      "text/plain": [
       "(122, 2)"
      ]
     },
     "execution_count": 103,
     "metadata": {},
     "output_type": "execute_result"
    }
   ],
   "source": [
    "sf_lf_unique.shape"
   ]
  },
  {
   "cell_type": "code",
   "execution_count": 104,
   "metadata": {},
   "outputs": [
    {
     "data": {
      "text/html": [
       "<div>\n",
       "<style scoped>\n",
       "    .dataframe tbody tr th:only-of-type {\n",
       "        vertical-align: middle;\n",
       "    }\n",
       "\n",
       "    .dataframe tbody tr th {\n",
       "        vertical-align: top;\n",
       "    }\n",
       "\n",
       "    .dataframe thead th {\n",
       "        text-align: right;\n",
       "    }\n",
       "</style>\n",
       "<table border=\"1\" class=\"dataframe\">\n",
       "  <thead>\n",
       "    <tr style=\"text-align: right;\">\n",
       "      <th></th>\n",
       "      <th>short_form</th>\n",
       "      <th>long_form</th>\n",
       "    </tr>\n",
       "  </thead>\n",
       "  <tbody>\n",
       "    <tr>\n",
       "      <th>347</th>\n",
       "      <td>A</td>\n",
       "      <td>adeniner</td>\n",
       "    </tr>\n",
       "    <tr>\n",
       "      <th>244</th>\n",
       "      <td>A</td>\n",
       "      <td>antigeno leucocitario humano</td>\n",
       "    </tr>\n",
       "    <tr>\n",
       "      <th>576</th>\n",
       "      <td>A</td>\n",
       "      <td>adenina</td>\n",
       "    </tr>\n",
       "    <tr>\n",
       "      <th>307</th>\n",
       "      <td>ALT</td>\n",
       "      <td>alanina aminotransferaso</td>\n",
       "    </tr>\n",
       "    <tr>\n",
       "      <th>200</th>\n",
       "      <td>ALT</td>\n",
       "      <td>alanine transferar</td>\n",
       "    </tr>\n",
       "  </tbody>\n",
       "</table>\n",
       "</div>"
      ],
      "text/plain": [
       "    short_form                     long_form\n",
       "347          A                      adeniner\n",
       "244          A  antigeno leucocitario humano\n",
       "576          A                       adenina\n",
       "307        ALT      alanina aminotransferaso\n",
       "200        ALT            alanine transferar"
      ]
     },
     "execution_count": 104,
     "metadata": {},
     "output_type": "execute_result"
    }
   ],
   "source": [
    "sf_lf_unique.sort_values('short_form').head()"
   ]
  },
  {
   "cell_type": "code",
   "execution_count": 105,
   "metadata": {},
   "outputs": [],
   "source": [
    "data_merged = data_df.merge(sf_lf_unique, on = 'short_form', how = 'left')"
   ]
  },
  {
   "cell_type": "code",
   "execution_count": 106,
   "metadata": {},
   "outputs": [
    {
     "data": {
      "text/plain": [
       "(2232, 5)"
      ]
     },
     "execution_count": 106,
     "metadata": {},
     "output_type": "execute_result"
    }
   ],
   "source": [
    "data_merged.shape"
   ]
  },
  {
   "cell_type": "code",
   "execution_count": 107,
   "metadata": {},
   "outputs": [],
   "source": [
    "pd.set_option('display.max_colwidth', 100)"
   ]
  },
  {
   "cell_type": "code",
   "execution_count": 108,
   "metadata": {},
   "outputs": [
    {
     "data": {
      "text/html": [
       "<div>\n",
       "<style scoped>\n",
       "    .dataframe tbody tr th:only-of-type {\n",
       "        vertical-align: middle;\n",
       "    }\n",
       "\n",
       "    .dataframe tbody tr th {\n",
       "        vertical-align: top;\n",
       "    }\n",
       "\n",
       "    .dataframe thead th {\n",
       "        text-align: right;\n",
       "    }\n",
       "</style>\n",
       "<table border=\"1\" class=\"dataframe\">\n",
       "  <thead>\n",
       "    <tr style=\"text-align: right;\">\n",
       "      <th></th>\n",
       "      <th>short_form</th>\n",
       "      <th>context</th>\n",
       "      <th>long_form</th>\n",
       "      <th>id</th>\n",
       "    </tr>\n",
       "  </thead>\n",
       "  <tbody>\n",
       "    <tr>\n",
       "      <th>576</th>\n",
       "      <td>A</td>\n",
       "      <td>I , mutación Factor V Leiden , protrombina 20,210 G- &lt; start &gt; A &lt; end &gt; con resultado de normal...</td>\n",
       "      <td>adenina</td>\n",
       "      <td>0</td>\n",
       "    </tr>\n",
       "    <tr>\n",
       "      <th>347</th>\n",
       "      <td>A</td>\n",
       "      <td>el gen KIT de significado clínico desconocido [ c.2509G &gt; &lt; start &gt; A &lt; end &gt; ( p.Ala837Thr ) ] ...</td>\n",
       "      <td>adeniner</td>\n",
       "      <td>1</td>\n",
       "    </tr>\n",
       "    <tr>\n",
       "      <th>244</th>\n",
       "      <td>A</td>\n",
       "      <td>renal de donante fallecido , compartiendo un DR y un &lt; start &gt; A &lt; end &gt; con un tiempo de isquem...</td>\n",
       "      <td>antigeno leucocitario humano</td>\n",
       "      <td>11</td>\n",
       "    </tr>\n",
       "    <tr>\n",
       "      <th>450</th>\n",
       "      <td>ALT</td>\n",
       "      <td>91mg/dl ; bilirrubina total 21mg/dl ; AST 164 U/l ; &lt; start &gt; ALT &lt; end &gt; 103 U/l ; GGT 152 UI/d...</td>\n",
       "      <td>alanina aminotransferaso</td>\n",
       "      <td>3</td>\n",
       "    </tr>\n",
       "    <tr>\n",
       "      <th>446</th>\n",
       "      <td>ALT</td>\n",
       "      <td>Globulinas 3.2 , Fosfatasa alcalina 255 , GGT 22 , &lt; start &gt; ALT &lt; end &gt; 49 , AST 65 , Glicemia ...</td>\n",
       "      <td>alanine transferar</td>\n",
       "      <td>5</td>\n",
       "    </tr>\n",
       "  </tbody>\n",
       "</table>\n",
       "</div>"
      ],
      "text/plain": [
       "    short_form  \\\n",
       "576          A   \n",
       "347          A   \n",
       "244          A   \n",
       "450        ALT   \n",
       "446        ALT   \n",
       "\n",
       "                                                                                                 context  \\\n",
       "576  I , mutación Factor V Leiden , protrombina 20,210 G- < start > A < end > con resultado de normal...   \n",
       "347  el gen KIT de significado clínico desconocido [ c.2509G > < start > A < end > ( p.Ala837Thr ) ] ...   \n",
       "244  renal de donante fallecido , compartiendo un DR y un < start > A < end > con un tiempo de isquem...   \n",
       "450  91mg/dl ; bilirrubina total 21mg/dl ; AST 164 U/l ; < start > ALT < end > 103 U/l ; GGT 152 UI/d...   \n",
       "446  Globulinas 3.2 , Fosfatasa alcalina 255 , GGT 22 , < start > ALT < end > 49 , AST 65 , Glicemia ...   \n",
       "\n",
       "                        long_form  id  \n",
       "576                       adenina   0  \n",
       "347                      adeniner   1  \n",
       "244  antigeno leucocitario humano  11  \n",
       "450      alanina aminotransferaso   3  \n",
       "446            alanine transferar   5  "
      ]
     },
     "execution_count": 108,
     "metadata": {},
     "output_type": "execute_result"
    }
   ],
   "source": [
    "data_df.sort_values(['short_form', 'context']).head()"
   ]
  },
  {
   "cell_type": "code",
   "execution_count": 109,
   "metadata": {},
   "outputs": [
    {
     "data": {
      "text/html": [
       "<div>\n",
       "<style scoped>\n",
       "    .dataframe tbody tr th:only-of-type {\n",
       "        vertical-align: middle;\n",
       "    }\n",
       "\n",
       "    .dataframe tbody tr th {\n",
       "        vertical-align: top;\n",
       "    }\n",
       "\n",
       "    .dataframe thead th {\n",
       "        text-align: right;\n",
       "    }\n",
       "</style>\n",
       "<table border=\"1\" class=\"dataframe\">\n",
       "  <thead>\n",
       "    <tr style=\"text-align: right;\">\n",
       "      <th></th>\n",
       "      <th>short_form</th>\n",
       "      <th>context</th>\n",
       "      <th>long_form_x</th>\n",
       "      <th>id</th>\n",
       "      <th>long_form_y</th>\n",
       "    </tr>\n",
       "  </thead>\n",
       "  <tbody>\n",
       "    <tr>\n",
       "      <th>1367</th>\n",
       "      <td>A</td>\n",
       "      <td>I , mutación Factor V Leiden , protrombina 20,210 G- &lt; start &gt; A &lt; end &gt; con resultado de normal...</td>\n",
       "      <td>adenina</td>\n",
       "      <td>0</td>\n",
       "      <td>antigeno leucocitario humano</td>\n",
       "    </tr>\n",
       "    <tr>\n",
       "      <th>1368</th>\n",
       "      <td>A</td>\n",
       "      <td>I , mutación Factor V Leiden , protrombina 20,210 G- &lt; start &gt; A &lt; end &gt; con resultado de normal...</td>\n",
       "      <td>adenina</td>\n",
       "      <td>0</td>\n",
       "      <td>adeniner</td>\n",
       "    </tr>\n",
       "    <tr>\n",
       "      <th>1369</th>\n",
       "      <td>A</td>\n",
       "      <td>I , mutación Factor V Leiden , protrombina 20,210 G- &lt; start &gt; A &lt; end &gt; con resultado de normal...</td>\n",
       "      <td>adenina</td>\n",
       "      <td>0</td>\n",
       "      <td>adenina</td>\n",
       "    </tr>\n",
       "    <tr>\n",
       "      <th>830</th>\n",
       "      <td>A</td>\n",
       "      <td>el gen KIT de significado clínico desconocido [ c.2509G &gt; &lt; start &gt; A &lt; end &gt; ( p.Ala837Thr ) ] ...</td>\n",
       "      <td>adeniner</td>\n",
       "      <td>1</td>\n",
       "      <td>antigeno leucocitario humano</td>\n",
       "    </tr>\n",
       "    <tr>\n",
       "      <th>831</th>\n",
       "      <td>A</td>\n",
       "      <td>el gen KIT de significado clínico desconocido [ c.2509G &gt; &lt; start &gt; A &lt; end &gt; ( p.Ala837Thr ) ] ...</td>\n",
       "      <td>adeniner</td>\n",
       "      <td>1</td>\n",
       "      <td>adeniner</td>\n",
       "    </tr>\n",
       "  </tbody>\n",
       "</table>\n",
       "</div>"
      ],
      "text/plain": [
       "     short_form  \\\n",
       "1367          A   \n",
       "1368          A   \n",
       "1369          A   \n",
       "830           A   \n",
       "831           A   \n",
       "\n",
       "                                                                                                  context  \\\n",
       "1367  I , mutación Factor V Leiden , protrombina 20,210 G- < start > A < end > con resultado de normal...   \n",
       "1368  I , mutación Factor V Leiden , protrombina 20,210 G- < start > A < end > con resultado de normal...   \n",
       "1369  I , mutación Factor V Leiden , protrombina 20,210 G- < start > A < end > con resultado de normal...   \n",
       "830   el gen KIT de significado clínico desconocido [ c.2509G > < start > A < end > ( p.Ala837Thr ) ] ...   \n",
       "831   el gen KIT de significado clínico desconocido [ c.2509G > < start > A < end > ( p.Ala837Thr ) ] ...   \n",
       "\n",
       "     long_form_x  id                   long_form_y  \n",
       "1367     adenina   0  antigeno leucocitario humano  \n",
       "1368     adenina   0                      adeniner  \n",
       "1369     adenina   0                       adenina  \n",
       "830     adeniner   1  antigeno leucocitario humano  \n",
       "831     adeniner   1                      adeniner  "
      ]
     },
     "execution_count": 109,
     "metadata": {},
     "output_type": "execute_result"
    }
   ],
   "source": [
    "data_merged.sort_values(['short_form', 'context']).head()"
   ]
  },
  {
   "cell_type": "markdown",
   "metadata": {},
   "source": [
    "El label debe de ser 0 o 1, es decir, si la LF que le corresponde es la que se le asigna. Por ello creamos una etiqueta binaria."
   ]
  },
  {
   "cell_type": "code",
   "execution_count": 110,
   "metadata": {},
   "outputs": [],
   "source": [
    "def get_label(row):\n",
    "    if row['long_form_x'] == row['long_form_y']:\n",
    "        return 1\n",
    "    else:\n",
    "        return 0"
   ]
  },
  {
   "cell_type": "code",
   "execution_count": 111,
   "metadata": {},
   "outputs": [],
   "source": [
    "data_merged['label'] = data_merged.apply(get_label, axis = 1)"
   ]
  },
  {
   "cell_type": "code",
   "execution_count": 112,
   "metadata": {},
   "outputs": [
    {
     "data": {
      "text/html": [
       "<div>\n",
       "<style scoped>\n",
       "    .dataframe tbody tr th:only-of-type {\n",
       "        vertical-align: middle;\n",
       "    }\n",
       "\n",
       "    .dataframe tbody tr th {\n",
       "        vertical-align: top;\n",
       "    }\n",
       "\n",
       "    .dataframe thead th {\n",
       "        text-align: right;\n",
       "    }\n",
       "</style>\n",
       "<table border=\"1\" class=\"dataframe\">\n",
       "  <thead>\n",
       "    <tr style=\"text-align: right;\">\n",
       "      <th></th>\n",
       "      <th>short_form</th>\n",
       "      <th>context</th>\n",
       "      <th>long_form_x</th>\n",
       "      <th>id</th>\n",
       "      <th>long_form_y</th>\n",
       "      <th>label</th>\n",
       "    </tr>\n",
       "  </thead>\n",
       "  <tbody>\n",
       "    <tr>\n",
       "      <th>0</th>\n",
       "      <td>GPT</td>\n",
       "      <td>bioquímicos en sangre eran normales salvo la GOT 87 , &lt; start &gt; GPT &lt; end &gt; 51 , gamma-GT 67 y l...</td>\n",
       "      <td>glutamic pyruvic transaminar</td>\n",
       "      <td>63</td>\n",
       "      <td>glutamic pyruvic transaminar</td>\n",
       "      <td>1</td>\n",
       "    </tr>\n",
       "    <tr>\n",
       "      <th>1</th>\n",
       "      <td>GPT</td>\n",
       "      <td>bioquímicos en sangre eran normales salvo la GOT 87 , &lt; start &gt; GPT &lt; end &gt; 51 , gamma-GT 67 y l...</td>\n",
       "      <td>glutamic pyruvic transaminar</td>\n",
       "      <td>63</td>\n",
       "      <td>glutamate pyruvatar transaminar</td>\n",
       "      <td>0</td>\n",
       "    </tr>\n",
       "    <tr>\n",
       "      <th>2</th>\n",
       "      <td>C</td>\n",
       "      <td>la delgadez ( IMC 17 ) , temperatura 37 º &lt; start &gt; C &lt; end &gt; tensión arterial 105/60 , se encon...</td>\n",
       "      <td>centimetro</td>\n",
       "      <td>24</td>\n",
       "      <td>centimetro</td>\n",
       "      <td>1</td>\n",
       "    </tr>\n",
       "    <tr>\n",
       "      <th>3</th>\n",
       "      <td>C</td>\n",
       "      <td>la delgadez ( IMC 17 ) , temperatura 37 º &lt; start &gt; C &lt; end &gt; tensión arterial 105/60 , se encon...</td>\n",
       "      <td>centimetro</td>\n",
       "      <td>24</td>\n",
       "      <td>centigrado</td>\n",
       "      <td>0</td>\n",
       "    </tr>\n",
       "    <tr>\n",
       "      <th>4</th>\n",
       "      <td>C</td>\n",
       "      <td>la delgadez ( IMC 17 ) , temperatura 37 º &lt; start &gt; C &lt; end &gt; tensión arterial 105/60 , se encon...</td>\n",
       "      <td>centimetro</td>\n",
       "      <td>24</td>\n",
       "      <td>cysteine</td>\n",
       "      <td>0</td>\n",
       "    </tr>\n",
       "  </tbody>\n",
       "</table>\n",
       "</div>"
      ],
      "text/plain": [
       "  short_form  \\\n",
       "0        GPT   \n",
       "1        GPT   \n",
       "2          C   \n",
       "3          C   \n",
       "4          C   \n",
       "\n",
       "                                                                                               context  \\\n",
       "0  bioquímicos en sangre eran normales salvo la GOT 87 , < start > GPT < end > 51 , gamma-GT 67 y l...   \n",
       "1  bioquímicos en sangre eran normales salvo la GOT 87 , < start > GPT < end > 51 , gamma-GT 67 y l...   \n",
       "2  la delgadez ( IMC 17 ) , temperatura 37 º < start > C < end > tensión arterial 105/60 , se encon...   \n",
       "3  la delgadez ( IMC 17 ) , temperatura 37 º < start > C < end > tensión arterial 105/60 , se encon...   \n",
       "4  la delgadez ( IMC 17 ) , temperatura 37 º < start > C < end > tensión arterial 105/60 , se encon...   \n",
       "\n",
       "                    long_form_x  id                      long_form_y  label  \n",
       "0  glutamic pyruvic transaminar  63     glutamic pyruvic transaminar      1  \n",
       "1  glutamic pyruvic transaminar  63  glutamate pyruvatar transaminar      0  \n",
       "2                    centimetro  24                       centimetro      1  \n",
       "3                    centimetro  24                       centigrado      0  \n",
       "4                    centimetro  24                         cysteine      0  "
      ]
     },
     "execution_count": 112,
     "metadata": {},
     "output_type": "execute_result"
    }
   ],
   "source": [
    "data_merged.head()"
   ]
  },
  {
   "cell_type": "code",
   "execution_count": 113,
   "metadata": {},
   "outputs": [],
   "source": [
    "data_merged = data_merged[['short_form', 'context', 'long_form_y', 'label']]"
   ]
  },
  {
   "cell_type": "code",
   "execution_count": 114,
   "metadata": {},
   "outputs": [],
   "source": [
    "data_merged = data_merged.rename(columns = {'long_form_y':'long_form'})"
   ]
  },
  {
   "cell_type": "code",
   "execution_count": 115,
   "metadata": {},
   "outputs": [],
   "source": [
    "data_merged.reset_index(drop = True, inplace = True)"
   ]
  },
  {
   "cell_type": "code",
   "execution_count": 116,
   "metadata": {},
   "outputs": [
    {
     "data": {
      "text/html": [
       "<div>\n",
       "<style scoped>\n",
       "    .dataframe tbody tr th:only-of-type {\n",
       "        vertical-align: middle;\n",
       "    }\n",
       "\n",
       "    .dataframe tbody tr th {\n",
       "        vertical-align: top;\n",
       "    }\n",
       "\n",
       "    .dataframe thead th {\n",
       "        text-align: right;\n",
       "    }\n",
       "</style>\n",
       "<table border=\"1\" class=\"dataframe\">\n",
       "  <thead>\n",
       "    <tr style=\"text-align: right;\">\n",
       "      <th></th>\n",
       "      <th>short_form</th>\n",
       "      <th>context</th>\n",
       "      <th>long_form</th>\n",
       "      <th>label</th>\n",
       "    </tr>\n",
       "  </thead>\n",
       "  <tbody>\n",
       "    <tr>\n",
       "      <th>0</th>\n",
       "      <td>GPT</td>\n",
       "      <td>bioquímicos en sangre eran normales salvo la GOT 87 , &lt; start &gt; GPT &lt; end &gt; 51 , gamma-GT 67 y l...</td>\n",
       "      <td>glutamic pyruvic transaminar</td>\n",
       "      <td>1</td>\n",
       "    </tr>\n",
       "    <tr>\n",
       "      <th>1</th>\n",
       "      <td>GPT</td>\n",
       "      <td>bioquímicos en sangre eran normales salvo la GOT 87 , &lt; start &gt; GPT &lt; end &gt; 51 , gamma-GT 67 y l...</td>\n",
       "      <td>glutamate pyruvatar transaminar</td>\n",
       "      <td>0</td>\n",
       "    </tr>\n",
       "    <tr>\n",
       "      <th>2</th>\n",
       "      <td>C</td>\n",
       "      <td>la delgadez ( IMC 17 ) , temperatura 37 º &lt; start &gt; C &lt; end &gt; tensión arterial 105/60 , se encon...</td>\n",
       "      <td>centimetro</td>\n",
       "      <td>1</td>\n",
       "    </tr>\n",
       "    <tr>\n",
       "      <th>3</th>\n",
       "      <td>C</td>\n",
       "      <td>la delgadez ( IMC 17 ) , temperatura 37 º &lt; start &gt; C &lt; end &gt; tensión arterial 105/60 , se encon...</td>\n",
       "      <td>centigrado</td>\n",
       "      <td>0</td>\n",
       "    </tr>\n",
       "    <tr>\n",
       "      <th>4</th>\n",
       "      <td>C</td>\n",
       "      <td>la delgadez ( IMC 17 ) , temperatura 37 º &lt; start &gt; C &lt; end &gt; tensión arterial 105/60 , se encon...</td>\n",
       "      <td>cysteine</td>\n",
       "      <td>0</td>\n",
       "    </tr>\n",
       "  </tbody>\n",
       "</table>\n",
       "</div>"
      ],
      "text/plain": [
       "  short_form  \\\n",
       "0        GPT   \n",
       "1        GPT   \n",
       "2          C   \n",
       "3          C   \n",
       "4          C   \n",
       "\n",
       "                                                                                               context  \\\n",
       "0  bioquímicos en sangre eran normales salvo la GOT 87 , < start > GPT < end > 51 , gamma-GT 67 y l...   \n",
       "1  bioquímicos en sangre eran normales salvo la GOT 87 , < start > GPT < end > 51 , gamma-GT 67 y l...   \n",
       "2  la delgadez ( IMC 17 ) , temperatura 37 º < start > C < end > tensión arterial 105/60 , se encon...   \n",
       "3  la delgadez ( IMC 17 ) , temperatura 37 º < start > C < end > tensión arterial 105/60 , se encon...   \n",
       "4  la delgadez ( IMC 17 ) , temperatura 37 º < start > C < end > tensión arterial 105/60 , se encon...   \n",
       "\n",
       "                         long_form  label  \n",
       "0     glutamic pyruvic transaminar      1  \n",
       "1  glutamate pyruvatar transaminar      0  \n",
       "2                       centimetro      1  \n",
       "3                       centigrado      0  \n",
       "4                         cysteine      0  "
      ]
     },
     "execution_count": 116,
     "metadata": {},
     "output_type": "execute_result"
    }
   ],
   "source": [
    "data_merged.head()"
   ]
  },
  {
   "cell_type": "code",
   "execution_count": 117,
   "metadata": {},
   "outputs": [],
   "source": [
    "data_merged.to_csv('data/data_train/train_data_beto_10_amb_lfnorm.csv')"
   ]
  },
  {
   "cell_type": "markdown",
   "metadata": {},
   "source": [
    "## Prepare Test Data"
   ]
  },
  {
   "cell_type": "markdown",
   "metadata": {},
   "source": [
    "### Preprocessing"
   ]
  },
  {
   "cell_type": "code",
   "execution_count": 118,
   "metadata": {},
   "outputs": [],
   "source": [
    "testing_raw.rename(columns={'nombre':'doc_id'}, inplace = True)"
   ]
  },
  {
   "cell_type": "code",
   "execution_count": 119,
   "metadata": {},
   "outputs": [],
   "source": [
    "test = testing_raw.merge(testing_abbr[['doc_id', 'Abbreviation', 'Definition_lemmatized']], on = 'doc_id', how = 'left')"
   ]
  },
  {
   "cell_type": "code",
   "execution_count": 120,
   "metadata": {},
   "outputs": [],
   "source": [
    "test = test.merge(testing_abbr, on = ['doc_id', 'Abbreviation'], how = 'left')"
   ]
  },
  {
   "cell_type": "code",
   "execution_count": 121,
   "metadata": {},
   "outputs": [],
   "source": [
    "test = test.drop_duplicates()"
   ]
  },
  {
   "cell_type": "code",
   "execution_count": 122,
   "metadata": {},
   "outputs": [],
   "source": [
    "test = test[['doc_id', 'texto', 'Abbreviation', 'Definition_lemmatized_x', 'StartOffset', 'EndOffset']]"
   ]
  },
  {
   "cell_type": "code",
   "execution_count": 123,
   "metadata": {},
   "outputs": [],
   "source": [
    "test = test.rename(columns = {'Definition_lemmatized_x':'Definition'})"
   ]
  },
  {
   "cell_type": "code",
   "execution_count": 124,
   "metadata": {},
   "outputs": [
    {
     "data": {
      "text/html": [
       "<div>\n",
       "<style scoped>\n",
       "    .dataframe tbody tr th:only-of-type {\n",
       "        vertical-align: middle;\n",
       "    }\n",
       "\n",
       "    .dataframe tbody tr th {\n",
       "        vertical-align: top;\n",
       "    }\n",
       "\n",
       "    .dataframe thead th {\n",
       "        text-align: right;\n",
       "    }\n",
       "</style>\n",
       "<table border=\"1\" class=\"dataframe\">\n",
       "  <thead>\n",
       "    <tr style=\"text-align: right;\">\n",
       "      <th></th>\n",
       "      <th>doc_id</th>\n",
       "      <th>texto</th>\n",
       "      <th>Abbreviation</th>\n",
       "      <th>Definition</th>\n",
       "      <th>StartOffset</th>\n",
       "      <th>EndOffset</th>\n",
       "    </tr>\n",
       "  </thead>\n",
       "  <tbody>\n",
       "    <tr>\n",
       "      <th>0</th>\n",
       "      <td>S1130-01082008001000010-1</td>\n",
       "      <td>Varón de 43 años originario de Marruecos, que ingresó en nuestro servicio por cuadro de 4 días d...</td>\n",
       "      <td>PAI</td>\n",
       "      <td>pancreatitis autoinmunir</td>\n",
       "      <td>2502.0</td>\n",
       "      <td>2505.0</td>\n",
       "    </tr>\n",
       "    <tr>\n",
       "      <th>1</th>\n",
       "      <td>S1130-01082008001000010-1</td>\n",
       "      <td>Varón de 43 años originario de Marruecos, que ingresó en nuestro servicio por cuadro de 4 días d...</td>\n",
       "      <td>SLA</td>\n",
       "      <td>anti-soluble liver antiger</td>\n",
       "      <td>702.0</td>\n",
       "      <td>705.0</td>\n",
       "    </tr>\n",
       "    <tr>\n",
       "      <th>2</th>\n",
       "      <td>S1130-01082008001000010-1</td>\n",
       "      <td>Varón de 43 años originario de Marruecos, que ingresó en nuestro servicio por cuadro de 4 días d...</td>\n",
       "      <td>SMA</td>\n",
       "      <td>smooth muscle actin</td>\n",
       "      <td>697.0</td>\n",
       "      <td>700.0</td>\n",
       "    </tr>\n",
       "    <tr>\n",
       "      <th>3</th>\n",
       "      <td>S1130-01082008001000010-1</td>\n",
       "      <td>Varón de 43 años originario de Marruecos, que ingresó en nuestro servicio por cuadro de 4 días d...</td>\n",
       "      <td>LKM1</td>\n",
       "      <td>liver-kidney microsomal type 1</td>\n",
       "      <td>691.0</td>\n",
       "      <td>695.0</td>\n",
       "    </tr>\n",
       "    <tr>\n",
       "      <th>4</th>\n",
       "      <td>S1130-01082008001000010-1</td>\n",
       "      <td>Varón de 43 años originario de Marruecos, que ingresó en nuestro servicio por cuadro de 4 días d...</td>\n",
       "      <td>ANCA</td>\n",
       "      <td>antineutrophil cytoplasmic antibodie</td>\n",
       "      <td>685.0</td>\n",
       "      <td>689.0</td>\n",
       "    </tr>\n",
       "  </tbody>\n",
       "</table>\n",
       "</div>"
      ],
      "text/plain": [
       "                      doc_id  \\\n",
       "0  S1130-01082008001000010-1   \n",
       "1  S1130-01082008001000010-1   \n",
       "2  S1130-01082008001000010-1   \n",
       "3  S1130-01082008001000010-1   \n",
       "4  S1130-01082008001000010-1   \n",
       "\n",
       "                                                                                                 texto  \\\n",
       "0  Varón de 43 años originario de Marruecos, que ingresó en nuestro servicio por cuadro de 4 días d...   \n",
       "1  Varón de 43 años originario de Marruecos, que ingresó en nuestro servicio por cuadro de 4 días d...   \n",
       "2  Varón de 43 años originario de Marruecos, que ingresó en nuestro servicio por cuadro de 4 días d...   \n",
       "3  Varón de 43 años originario de Marruecos, que ingresó en nuestro servicio por cuadro de 4 días d...   \n",
       "4  Varón de 43 años originario de Marruecos, que ingresó en nuestro servicio por cuadro de 4 días d...   \n",
       "\n",
       "  Abbreviation                            Definition  StartOffset  EndOffset  \n",
       "0          PAI              pancreatitis autoinmunir       2502.0     2505.0  \n",
       "1          SLA            anti-soluble liver antiger        702.0      705.0  \n",
       "2          SMA                   smooth muscle actin        697.0      700.0  \n",
       "3         LKM1        liver-kidney microsomal type 1        691.0      695.0  \n",
       "4         ANCA  antineutrophil cytoplasmic antibodie        685.0      689.0  "
      ]
     },
     "execution_count": 124,
     "metadata": {},
     "output_type": "execute_result"
    }
   ],
   "source": [
    "test.head()"
   ]
  },
  {
   "cell_type": "code",
   "execution_count": 125,
   "metadata": {},
   "outputs": [],
   "source": [
    "test = test.rename(columns = {'Abbreviation': 'short_form', 'Definition': 'long_form'})"
   ]
  },
  {
   "cell_type": "code",
   "execution_count": 126,
   "metadata": {},
   "outputs": [],
   "source": [
    "test = test.dropna(subset = ['short_form', 'long_form'])"
   ]
  },
  {
   "cell_type": "code",
   "execution_count": 127,
   "metadata": {},
   "outputs": [],
   "source": [
    "test[['StartOffset', 'EndOffset']] = test[['StartOffset', 'EndOffset']].astype(int)"
   ]
  },
  {
   "cell_type": "markdown",
   "metadata": {},
   "source": [
    "Clean long forms to delete acents, string punctuation etc"
   ]
  },
  {
   "cell_type": "code",
   "execution_count": 128,
   "metadata": {},
   "outputs": [],
   "source": [
    "test['long_form'] = test['long_form'].map(clean_text)"
   ]
  },
  {
   "cell_type": "markdown",
   "metadata": {},
   "source": [
    "### Normalize long forms"
   ]
  },
  {
   "cell_type": "code",
   "execution_count": 129,
   "metadata": {},
   "outputs": [],
   "source": [
    "sf_lf_test = test[['short_form', 'long_form']].drop_duplicates()"
   ]
  },
  {
   "cell_type": "code",
   "execution_count": 130,
   "metadata": {},
   "outputs": [
    {
     "data": {
      "text/html": [
       "<div>\n",
       "<style scoped>\n",
       "    .dataframe tbody tr th:only-of-type {\n",
       "        vertical-align: middle;\n",
       "    }\n",
       "\n",
       "    .dataframe tbody tr th {\n",
       "        vertical-align: top;\n",
       "    }\n",
       "\n",
       "    .dataframe thead th {\n",
       "        text-align: right;\n",
       "    }\n",
       "</style>\n",
       "<table border=\"1\" class=\"dataframe\">\n",
       "  <thead>\n",
       "    <tr style=\"text-align: right;\">\n",
       "      <th></th>\n",
       "      <th>short_form</th>\n",
       "      <th>long_form</th>\n",
       "      <th>len</th>\n",
       "    </tr>\n",
       "  </thead>\n",
       "  <tbody>\n",
       "    <tr>\n",
       "      <th>87</th>\n",
       "      <td>C3</td>\n",
       "      <td>[tercero componente complemento, tercero vertebra cervical, complemento 3, nivel c subnivel 3]</td>\n",
       "      <td>4</td>\n",
       "    </tr>\n",
       "    <tr>\n",
       "      <th>241</th>\n",
       "      <td>G</td>\n",
       "      <td>[gauge, guanine, guanina]</td>\n",
       "      <td>3</td>\n",
       "    </tr>\n",
       "    <tr>\n",
       "      <th>215</th>\n",
       "      <td>F</td>\n",
       "      <td>[filamentous, fenilalanina, french]</td>\n",
       "      <td>3</td>\n",
       "    </tr>\n",
       "    <tr>\n",
       "      <th>481</th>\n",
       "      <td>T</td>\n",
       "      <td>[treonina, thymus, onda t]</td>\n",
       "      <td>3</td>\n",
       "    </tr>\n",
       "    <tr>\n",
       "      <th>416</th>\n",
       "      <td>PL</td>\n",
       "      <td>[puncion lumbar, percepcion luz, periodo lavado]</td>\n",
       "      <td>3</td>\n",
       "    </tr>\n",
       "    <tr>\n",
       "      <th>...</th>\n",
       "      <td>...</td>\n",
       "      <td>...</td>\n",
       "      <td>...</td>\n",
       "    </tr>\n",
       "    <tr>\n",
       "      <th>252</th>\n",
       "      <td>GOT</td>\n",
       "      <td>[glutamic oxalic transaminar]</td>\n",
       "      <td>1</td>\n",
       "    </tr>\n",
       "    <tr>\n",
       "      <th>253</th>\n",
       "      <td>GPL</td>\n",
       "      <td>[g fosfolipido]</td>\n",
       "      <td>1</td>\n",
       "    </tr>\n",
       "    <tr>\n",
       "      <th>254</th>\n",
       "      <td>GPT</td>\n",
       "      <td>[glutamate pyruvatar transaminar]</td>\n",
       "      <td>1</td>\n",
       "    </tr>\n",
       "    <tr>\n",
       "      <th>255</th>\n",
       "      <td>GQ-1b</td>\n",
       "      <td>[antigangliosidir antibodie 1b]</td>\n",
       "      <td>1</td>\n",
       "    </tr>\n",
       "    <tr>\n",
       "      <th>684</th>\n",
       "      <td>μm</td>\n",
       "      <td>[micrometro]</td>\n",
       "      <td>1</td>\n",
       "    </tr>\n",
       "  </tbody>\n",
       "</table>\n",
       "<p>685 rows × 3 columns</p>\n",
       "</div>"
      ],
      "text/plain": [
       "    short_form  \\\n",
       "87          C3   \n",
       "241          G   \n",
       "215          F   \n",
       "481          T   \n",
       "416         PL   \n",
       "..         ...   \n",
       "252        GOT   \n",
       "253        GPL   \n",
       "254        GPT   \n",
       "255      GQ-1b   \n",
       "684         μm   \n",
       "\n",
       "                                                                                          long_form  \\\n",
       "87   [tercero componente complemento, tercero vertebra cervical, complemento 3, nivel c subnivel 3]   \n",
       "241                                                                       [gauge, guanine, guanina]   \n",
       "215                                                             [filamentous, fenilalanina, french]   \n",
       "481                                                                      [treonina, thymus, onda t]   \n",
       "416                                                [puncion lumbar, percepcion luz, periodo lavado]   \n",
       "..                                                                                              ...   \n",
       "252                                                                   [glutamic oxalic transaminar]   \n",
       "253                                                                                 [g fosfolipido]   \n",
       "254                                                               [glutamate pyruvatar transaminar]   \n",
       "255                                                                 [antigangliosidir antibodie 1b]   \n",
       "684                                                                                    [micrometro]   \n",
       "\n",
       "     len  \n",
       "87     4  \n",
       "241    3  \n",
       "215    3  \n",
       "481    3  \n",
       "416    3  \n",
       "..   ...  \n",
       "252    1  \n",
       "253    1  \n",
       "254    1  \n",
       "255    1  \n",
       "684    1  \n",
       "\n",
       "[685 rows x 3 columns]"
      ]
     },
     "execution_count": 130,
     "metadata": {},
     "output_type": "execute_result"
    }
   ],
   "source": [
    "sf_lf_list_test = sf_lf_test.groupby('short_form', as_index=False).agg({'long_form': list})\n",
    "sf_lf_list_test['len'] = sf_lf_list_test['long_form'].map(lambda x: len(x))\n",
    "sf_lf_list_test.sort_values('len', ascending = False)"
   ]
  },
  {
   "cell_type": "markdown",
   "metadata": {},
   "source": [
    "#### Apply Levenshtein distance to normalize Long Forms"
   ]
  },
  {
   "cell_type": "markdown",
   "metadata": {},
   "source": [
    "Get more frequent lf per sf"
   ]
  },
  {
   "cell_type": "code",
   "execution_count": 163,
   "metadata": {},
   "outputs": [
    {
     "data": {
      "text/html": [
       "<div>\n",
       "<style scoped>\n",
       "    .dataframe tbody tr th:only-of-type {\n",
       "        vertical-align: middle;\n",
       "    }\n",
       "\n",
       "    .dataframe tbody tr th {\n",
       "        vertical-align: top;\n",
       "    }\n",
       "\n",
       "    .dataframe thead th {\n",
       "        text-align: right;\n",
       "    }\n",
       "</style>\n",
       "<table border=\"1\" class=\"dataframe\">\n",
       "  <thead>\n",
       "    <tr style=\"text-align: right;\">\n",
       "      <th></th>\n",
       "      <th>index</th>\n",
       "      <th>long_form</th>\n",
       "    </tr>\n",
       "  </thead>\n",
       "  <tbody>\n",
       "    <tr>\n",
       "      <th>0</th>\n",
       "      <td>miligramo</td>\n",
       "      <td>361</td>\n",
       "    </tr>\n",
       "    <tr>\n",
       "      <th>1</th>\n",
       "      <td>decilitro</td>\n",
       "      <td>213</td>\n",
       "    </tr>\n",
       "    <tr>\n",
       "      <th>2</th>\n",
       "      <td>centimetro</td>\n",
       "      <td>171</td>\n",
       "    </tr>\n",
       "    <tr>\n",
       "      <th>3</th>\n",
       "      <td>litro</td>\n",
       "      <td>128</td>\n",
       "    </tr>\n",
       "    <tr>\n",
       "      <th>4</th>\n",
       "      <td>mililitro</td>\n",
       "      <td>117</td>\n",
       "    </tr>\n",
       "    <tr>\n",
       "      <th>...</th>\n",
       "      <td>...</td>\n",
       "      <td>...</td>\n",
       "    </tr>\n",
       "    <tr>\n",
       "      <th>673</th>\n",
       "      <td>bloqueo rama derecho</td>\n",
       "      <td>1</td>\n",
       "    </tr>\n",
       "    <tr>\n",
       "      <th>674</th>\n",
       "      <td>colangiopancreatografia retrogrado endoscopico</td>\n",
       "      <td>1</td>\n",
       "    </tr>\n",
       "    <tr>\n",
       "      <th>675</th>\n",
       "      <td>human leukocyte antigir b2</td>\n",
       "      <td>1</td>\n",
       "    </tr>\n",
       "    <tr>\n",
       "      <th>676</th>\n",
       "      <td>sindrome alport</td>\n",
       "      <td>1</td>\n",
       "    </tr>\n",
       "    <tr>\n",
       "      <th>677</th>\n",
       "      <td>incapacitacion laboral permanente</td>\n",
       "      <td>1</td>\n",
       "    </tr>\n",
       "  </tbody>\n",
       "</table>\n",
       "<p>678 rows × 2 columns</p>\n",
       "</div>"
      ],
      "text/plain": [
       "                                              index  long_form\n",
       "0                                         miligramo        361\n",
       "1                                         decilitro        213\n",
       "2                                        centimetro        171\n",
       "3                                             litro        128\n",
       "4                                         mililitro        117\n",
       "..                                              ...        ...\n",
       "673                            bloqueo rama derecho          1\n",
       "674  colangiopancreatografia retrogrado endoscopico          1\n",
       "675                      human leukocyte antigir b2          1\n",
       "676                                 sindrome alport          1\n",
       "677               incapacitacion laboral permanente          1\n",
       "\n",
       "[678 rows x 2 columns]"
      ]
     },
     "execution_count": 163,
     "metadata": {},
     "output_type": "execute_result"
    }
   ],
   "source": [
    "frec = test['long_form'].value_counts().reset_index()\n",
    "frec"
   ]
  },
  {
   "cell_type": "markdown",
   "metadata": {},
   "source": [
    "Create a dictionary where keys are the lf to normalize and the values the normalized form"
   ]
  },
  {
   "cell_type": "code",
   "execution_count": 166,
   "metadata": {},
   "outputs": [],
   "source": [
    "norm_test = []\n",
    "for i in sf_lf_list_test['long_form']:\n",
    "    norm_test.append(normalize_lf(i))"
   ]
  },
  {
   "cell_type": "code",
   "execution_count": 167,
   "metadata": {},
   "outputs": [],
   "source": [
    "norm_test = [i for i in norm_test if i != None]"
   ]
  },
  {
   "cell_type": "code",
   "execution_count": 168,
   "metadata": {
    "tags": []
   },
   "outputs": [],
   "source": [
    "norm_dict_test = {}\n",
    "for i in norm_test:\n",
    "    norm_dict_test.update(i)\n",
    "#norm_dict"
   ]
  },
  {
   "cell_type": "markdown",
   "metadata": {},
   "source": [
    "Finally normalize long forms over the dataframe"
   ]
  },
  {
   "cell_type": "code",
   "execution_count": 169,
   "metadata": {},
   "outputs": [
    {
     "data": {
      "text/html": [
       "<div>\n",
       "<style scoped>\n",
       "    .dataframe tbody tr th:only-of-type {\n",
       "        vertical-align: middle;\n",
       "    }\n",
       "\n",
       "    .dataframe tbody tr th {\n",
       "        vertical-align: top;\n",
       "    }\n",
       "\n",
       "    .dataframe thead th {\n",
       "        text-align: right;\n",
       "    }\n",
       "</style>\n",
       "<table border=\"1\" class=\"dataframe\">\n",
       "  <thead>\n",
       "    <tr style=\"text-align: right;\">\n",
       "      <th></th>\n",
       "      <th>doc_id</th>\n",
       "      <th>texto</th>\n",
       "      <th>short_form</th>\n",
       "      <th>long_form</th>\n",
       "      <th>StartOffset</th>\n",
       "      <th>EndOffset</th>\n",
       "    </tr>\n",
       "  </thead>\n",
       "  <tbody>\n",
       "    <tr>\n",
       "      <th>15</th>\n",
       "      <td>S1130-01082006000100014-1</td>\n",
       "      <td>Se trata de una mujer de 35 años, con antecedentes familiares de enfermedad de Crohn y sin antec...</td>\n",
       "      <td>GPT</td>\n",
       "      <td>glutamic pyruvic transaminar</td>\n",
       "      <td>1594</td>\n",
       "      <td>1597</td>\n",
       "    </tr>\n",
       "    <tr>\n",
       "      <th>24</th>\n",
       "      <td>S1130-01082006000100014-1</td>\n",
       "      <td>Se trata de una mujer de 35 años, con antecedentes familiares de enfermedad de Crohn y sin antec...</td>\n",
       "      <td>C</td>\n",
       "      <td>centimetro</td>\n",
       "      <td>1169</td>\n",
       "      <td>1170</td>\n",
       "    </tr>\n",
       "    <tr>\n",
       "      <th>25</th>\n",
       "      <td>S1130-01082006000100014-1</td>\n",
       "      <td>Se trata de una mujer de 35 años, con antecedentes familiares de enfermedad de Crohn y sin antec...</td>\n",
       "      <td>C</td>\n",
       "      <td>centimetro</td>\n",
       "      <td>904</td>\n",
       "      <td>905</td>\n",
       "    </tr>\n",
       "    <tr>\n",
       "      <th>27</th>\n",
       "      <td>S1130-01082006000100014-1</td>\n",
       "      <td>Se trata de una mujer de 35 años, con antecedentes familiares de enfermedad de Crohn y sin antec...</td>\n",
       "      <td>C</td>\n",
       "      <td>centigrado</td>\n",
       "      <td>1169</td>\n",
       "      <td>1170</td>\n",
       "    </tr>\n",
       "    <tr>\n",
       "      <th>28</th>\n",
       "      <td>S1130-01082006000100014-1</td>\n",
       "      <td>Se trata de una mujer de 35 años, con antecedentes familiares de enfermedad de Crohn y sin antec...</td>\n",
       "      <td>C</td>\n",
       "      <td>centigrado</td>\n",
       "      <td>904</td>\n",
       "      <td>905</td>\n",
       "    </tr>\n",
       "  </tbody>\n",
       "</table>\n",
       "</div>"
      ],
      "text/plain": [
       "                       doc_id  \\\n",
       "15  S1130-01082006000100014-1   \n",
       "24  S1130-01082006000100014-1   \n",
       "25  S1130-01082006000100014-1   \n",
       "27  S1130-01082006000100014-1   \n",
       "28  S1130-01082006000100014-1   \n",
       "\n",
       "                                                                                                  texto  \\\n",
       "15  Se trata de una mujer de 35 años, con antecedentes familiares de enfermedad de Crohn y sin antec...   \n",
       "24  Se trata de una mujer de 35 años, con antecedentes familiares de enfermedad de Crohn y sin antec...   \n",
       "25  Se trata de una mujer de 35 años, con antecedentes familiares de enfermedad de Crohn y sin antec...   \n",
       "27  Se trata de una mujer de 35 años, con antecedentes familiares de enfermedad de Crohn y sin antec...   \n",
       "28  Se trata de una mujer de 35 años, con antecedentes familiares de enfermedad de Crohn y sin antec...   \n",
       "\n",
       "   short_form                     long_form  StartOffset  EndOffset  \n",
       "15        GPT  glutamic pyruvic transaminar         1594       1597  \n",
       "24          C                    centimetro         1169       1170  \n",
       "25          C                    centimetro          904        905  \n",
       "27          C                    centigrado         1169       1170  \n",
       "28          C                    centigrado          904        905  "
      ]
     },
     "execution_count": 169,
     "metadata": {},
     "output_type": "execute_result"
    }
   ],
   "source": [
    "train.head()"
   ]
  },
  {
   "cell_type": "code",
   "execution_count": 170,
   "metadata": {},
   "outputs": [],
   "source": [
    "test = test.replace({\"long_form\": norm_dict_test})"
   ]
  },
  {
   "cell_type": "code",
   "execution_count": 171,
   "metadata": {},
   "outputs": [
    {
     "data": {
      "text/html": [
       "<div>\n",
       "<style scoped>\n",
       "    .dataframe tbody tr th:only-of-type {\n",
       "        vertical-align: middle;\n",
       "    }\n",
       "\n",
       "    .dataframe tbody tr th {\n",
       "        vertical-align: top;\n",
       "    }\n",
       "\n",
       "    .dataframe thead th {\n",
       "        text-align: right;\n",
       "    }\n",
       "</style>\n",
       "<table border=\"1\" class=\"dataframe\">\n",
       "  <thead>\n",
       "    <tr style=\"text-align: right;\">\n",
       "      <th></th>\n",
       "      <th>doc_id</th>\n",
       "      <th>texto</th>\n",
       "      <th>short_form</th>\n",
       "      <th>long_form</th>\n",
       "      <th>StartOffset</th>\n",
       "      <th>EndOffset</th>\n",
       "    </tr>\n",
       "  </thead>\n",
       "  <tbody>\n",
       "    <tr>\n",
       "      <th>15</th>\n",
       "      <td>S1130-01082006000100014-1</td>\n",
       "      <td>Se trata de una mujer de 35 años, con antecedentes familiares de enfermedad de Crohn y sin antec...</td>\n",
       "      <td>GPT</td>\n",
       "      <td>glutamic pyruvic transaminar</td>\n",
       "      <td>1594</td>\n",
       "      <td>1597</td>\n",
       "    </tr>\n",
       "    <tr>\n",
       "      <th>24</th>\n",
       "      <td>S1130-01082006000100014-1</td>\n",
       "      <td>Se trata de una mujer de 35 años, con antecedentes familiares de enfermedad de Crohn y sin antec...</td>\n",
       "      <td>C</td>\n",
       "      <td>centimetro</td>\n",
       "      <td>1169</td>\n",
       "      <td>1170</td>\n",
       "    </tr>\n",
       "    <tr>\n",
       "      <th>25</th>\n",
       "      <td>S1130-01082006000100014-1</td>\n",
       "      <td>Se trata de una mujer de 35 años, con antecedentes familiares de enfermedad de Crohn y sin antec...</td>\n",
       "      <td>C</td>\n",
       "      <td>centimetro</td>\n",
       "      <td>904</td>\n",
       "      <td>905</td>\n",
       "    </tr>\n",
       "    <tr>\n",
       "      <th>27</th>\n",
       "      <td>S1130-01082006000100014-1</td>\n",
       "      <td>Se trata de una mujer de 35 años, con antecedentes familiares de enfermedad de Crohn y sin antec...</td>\n",
       "      <td>C</td>\n",
       "      <td>centigrado</td>\n",
       "      <td>1169</td>\n",
       "      <td>1170</td>\n",
       "    </tr>\n",
       "    <tr>\n",
       "      <th>28</th>\n",
       "      <td>S1130-01082006000100014-1</td>\n",
       "      <td>Se trata de una mujer de 35 años, con antecedentes familiares de enfermedad de Crohn y sin antec...</td>\n",
       "      <td>C</td>\n",
       "      <td>centigrado</td>\n",
       "      <td>904</td>\n",
       "      <td>905</td>\n",
       "    </tr>\n",
       "  </tbody>\n",
       "</table>\n",
       "</div>"
      ],
      "text/plain": [
       "                       doc_id  \\\n",
       "15  S1130-01082006000100014-1   \n",
       "24  S1130-01082006000100014-1   \n",
       "25  S1130-01082006000100014-1   \n",
       "27  S1130-01082006000100014-1   \n",
       "28  S1130-01082006000100014-1   \n",
       "\n",
       "                                                                                                  texto  \\\n",
       "15  Se trata de una mujer de 35 años, con antecedentes familiares de enfermedad de Crohn y sin antec...   \n",
       "24  Se trata de una mujer de 35 años, con antecedentes familiares de enfermedad de Crohn y sin antec...   \n",
       "25  Se trata de una mujer de 35 años, con antecedentes familiares de enfermedad de Crohn y sin antec...   \n",
       "27  Se trata de una mujer de 35 años, con antecedentes familiares de enfermedad de Crohn y sin antec...   \n",
       "28  Se trata de una mujer de 35 años, con antecedentes familiares de enfermedad de Crohn y sin antec...   \n",
       "\n",
       "   short_form                     long_form  StartOffset  EndOffset  \n",
       "15        GPT  glutamic pyruvic transaminar         1594       1597  \n",
       "24          C                    centimetro         1169       1170  \n",
       "25          C                    centimetro          904        905  \n",
       "27          C                    centigrado         1169       1170  \n",
       "28          C                    centigrado          904        905  "
      ]
     },
     "execution_count": 171,
     "metadata": {},
     "output_type": "execute_result"
    }
   ],
   "source": [
    "train.head()"
   ]
  },
  {
   "cell_type": "markdown",
   "metadata": {},
   "source": [
    "### Get just ambigous acronyms"
   ]
  },
  {
   "cell_type": "code",
   "execution_count": 172,
   "metadata": {},
   "outputs": [],
   "source": [
    "amb_test = test.groupby('short_form')['long_form'].nunique().reset_index().sort_values('long_form', ascending = False)"
   ]
  },
  {
   "cell_type": "code",
   "execution_count": 173,
   "metadata": {},
   "outputs": [
    {
     "data": {
      "text/html": [
       "<div>\n",
       "<style scoped>\n",
       "    .dataframe tbody tr th:only-of-type {\n",
       "        vertical-align: middle;\n",
       "    }\n",
       "\n",
       "    .dataframe tbody tr th {\n",
       "        vertical-align: top;\n",
       "    }\n",
       "\n",
       "    .dataframe thead th {\n",
       "        text-align: right;\n",
       "    }\n",
       "</style>\n",
       "<table border=\"1\" class=\"dataframe\">\n",
       "  <thead>\n",
       "    <tr style=\"text-align: right;\">\n",
       "      <th></th>\n",
       "      <th>short_form</th>\n",
       "      <th>long_form</th>\n",
       "    </tr>\n",
       "  </thead>\n",
       "  <tbody>\n",
       "    <tr>\n",
       "      <th>87</th>\n",
       "      <td>C3</td>\n",
       "      <td>4</td>\n",
       "    </tr>\n",
       "    <tr>\n",
       "      <th>481</th>\n",
       "      <td>T</td>\n",
       "      <td>3</td>\n",
       "    </tr>\n",
       "    <tr>\n",
       "      <th>53</th>\n",
       "      <td>AV</td>\n",
       "      <td>3</td>\n",
       "    </tr>\n",
       "    <tr>\n",
       "      <th>215</th>\n",
       "      <td>F</td>\n",
       "      <td>3</td>\n",
       "    </tr>\n",
       "    <tr>\n",
       "      <th>416</th>\n",
       "      <td>PL</td>\n",
       "      <td>3</td>\n",
       "    </tr>\n",
       "  </tbody>\n",
       "</table>\n",
       "</div>"
      ],
      "text/plain": [
       "    short_form  long_form\n",
       "87          C3          4\n",
       "481          T          3\n",
       "53          AV          3\n",
       "215          F          3\n",
       "416         PL          3"
      ]
     },
     "execution_count": 173,
     "metadata": {},
     "output_type": "execute_result"
    }
   ],
   "source": [
    "amb_test.head()"
   ]
  },
  {
   "cell_type": "code",
   "execution_count": 174,
   "metadata": {},
   "outputs": [
    {
     "data": {
      "image/png": "[encoded data removed]",
      "text/plain": [
       "<Figure size 432x288 with 1 Axes>"
      ]
     },
     "metadata": {
      "needs_background": "light"
     },
     "output_type": "display_data"
    }
   ],
   "source": [
    "table = pd.crosstab(amb_test['long_form'], columns = 'Count')\n",
    "table.plot.bar()\n",
    "plt.show()"
   ]
  },
  {
   "cell_type": "code",
   "execution_count": 175,
   "metadata": {},
   "outputs": [],
   "source": [
    "defin_test = amb_test[amb_test['long_form'] != 1]['short_form'].values.tolist()"
   ]
  },
  {
   "cell_type": "code",
   "execution_count": 176,
   "metadata": {},
   "outputs": [
    {
     "data": {
      "text/plain": [
       "(3515, 6)"
      ]
     },
     "execution_count": 176,
     "metadata": {},
     "output_type": "execute_result"
    }
   ],
   "source": [
    "test.shape"
   ]
  },
  {
   "cell_type": "code",
   "execution_count": 177,
   "metadata": {},
   "outputs": [],
   "source": [
    "test = test[test['short_form'].isin(defin_test)]"
   ]
  },
  {
   "cell_type": "code",
   "execution_count": 178,
   "metadata": {},
   "outputs": [
    {
     "data": {
      "text/plain": [
       "(792, 6)"
      ]
     },
     "execution_count": 178,
     "metadata": {},
     "output_type": "execute_result"
    }
   ],
   "source": [
    "test.shape"
   ]
  },
  {
   "cell_type": "markdown",
   "metadata": {},
   "source": [
    "Transform dataframe to a list of dictionaries"
   ]
  },
  {
   "cell_type": "code",
   "execution_count": 179,
   "metadata": {},
   "outputs": [],
   "source": [
    "test_data = test[['doc_id', 'texto', 'short_form', 'long_form', 'StartOffset', 'EndOffset']].to_dict('records')"
   ]
  },
  {
   "cell_type": "markdown",
   "metadata": {},
   "source": [
    "### Get the text before and after the SF"
   ]
  },
  {
   "cell_type": "code",
   "execution_count": 180,
   "metadata": {},
   "outputs": [],
   "source": [
    "test_ndata, sf_not_found = get_f_b_context_text(test_data)"
   ]
  },
  {
   "cell_type": "markdown",
   "metadata": {},
   "source": [
    "Check if any SF is not founded in the text"
   ]
  },
  {
   "cell_type": "code",
   "execution_count": 181,
   "metadata": {},
   "outputs": [],
   "source": [
    "sf_not_found_set = set(sf_not_found)"
   ]
  },
  {
   "cell_type": "code",
   "execution_count": 182,
   "metadata": {},
   "outputs": [
    {
     "data": {
      "text/plain": [
       "0"
      ]
     },
     "execution_count": 182,
     "metadata": {},
     "output_type": "execute_result"
    }
   ],
   "source": [
    "len(sf_not_found_set)"
   ]
  },
  {
   "cell_type": "markdown",
   "metadata": {},
   "source": [
    "Now clean the texts, remove string punctuation, accents, lower case, remove double spaces, separate numbers from sf"
   ]
  },
  {
   "cell_type": "code",
   "execution_count": 183,
   "metadata": {},
   "outputs": [],
   "source": [
    "# def clean_text_after(data):\n",
    "    \n",
    "#     for instance in data:\n",
    "#         instance[1] = clean_text(instance[1]).lower()\n",
    "#         instance[2] = clean_text(instance[2]).lower()\n",
    "#         instance[1] = re.sub(r'(\\d+)', r'\\g<1> ', instance[1]) #metemos espacio entre número y acrónimos que quedan pegados    \n",
    "#         instance[2] = re.sub(r'(\\d+)', r'\\g<1> ', instance[2])\n",
    "#         instance[1] = re.sub(r'\\s+', ' ', instance[1]).strip()\n",
    "#         instance[2] = re.sub(r'\\s+', ' ', instance[2]).strip()\n",
    "#     return data\n",
    "        "
   ]
  },
  {
   "cell_type": "code",
   "execution_count": 184,
   "metadata": {},
   "outputs": [],
   "source": [
    "# train_ndata = clean_text_after(train_ndata)"
   ]
  },
  {
   "cell_type": "markdown",
   "metadata": {},
   "source": [
    "### Get the contexts "
   ]
  },
  {
   "cell_type": "markdown",
   "metadata": {},
   "source": [
    "From the texts before and after the sf, we limit the number of words"
   ]
  },
  {
   "cell_type": "code",
   "execution_count": 185,
   "metadata": {},
   "outputs": [],
   "source": [
    "star_ends_tokens = 6 #number of tokens to add because <start> and <end> labels "
   ]
  },
  {
   "cell_type": "code",
   "execution_count": 186,
   "metadata": {},
   "outputs": [],
   "source": [
    "n_step_f = 10 + star_ends_tokens #number of words to select from the forward context\n",
    "n_step_b = 10#number of words to select from the backward context"
   ]
  },
  {
   "cell_type": "code",
   "execution_count": 187,
   "metadata": {},
   "outputs": [],
   "source": [
    "test_ndata = limit_context(test_ndata)"
   ]
  },
  {
   "cell_type": "code",
   "execution_count": 188,
   "metadata": {},
   "outputs": [
    {
     "data": {
      "text/plain": [
       "['CA',\n",
       " 'IgG 1840 UI/ml ( 751-1.560 UI/ml ) . El marcador < start > CA < end >',\n",
       " '19-9 era de 82 UI/ml . Los autoanticuerpos ( ANA',\n",
       " 'carbohydrate antiger']"
      ]
     },
     "execution_count": 188,
     "metadata": {},
     "output_type": "execute_result"
    }
   ],
   "source": [
    "test_ndata[0]"
   ]
  },
  {
   "cell_type": "markdown",
   "metadata": {},
   "source": [
    "### Transform into df grouped by LF"
   ]
  },
  {
   "cell_type": "code",
   "execution_count": 189,
   "metadata": {},
   "outputs": [],
   "source": [
    "data_dic = create_dict(test_ndata)"
   ]
  },
  {
   "cell_type": "code",
   "execution_count": 190,
   "metadata": {},
   "outputs": [],
   "source": [
    "data_df = pd.DataFrame(data_dic)"
   ]
  },
  {
   "cell_type": "markdown",
   "metadata": {},
   "source": [
    "Asign an id to each LF"
   ]
  },
  {
   "cell_type": "code",
   "execution_count": 191,
   "metadata": {},
   "outputs": [],
   "source": [
    "data_df = data_df.assign(id=(data_df['long_form']).astype('category').cat.codes)"
   ]
  },
  {
   "cell_type": "code",
   "execution_count": 192,
   "metadata": {},
   "outputs": [
    {
     "data": {
      "text/html": [
       "<div>\n",
       "<style scoped>\n",
       "    .dataframe tbody tr th:only-of-type {\n",
       "        vertical-align: middle;\n",
       "    }\n",
       "\n",
       "    .dataframe tbody tr th {\n",
       "        vertical-align: top;\n",
       "    }\n",
       "\n",
       "    .dataframe thead th {\n",
       "        text-align: right;\n",
       "    }\n",
       "</style>\n",
       "<table border=\"1\" class=\"dataframe\">\n",
       "  <thead>\n",
       "    <tr style=\"text-align: right;\">\n",
       "      <th></th>\n",
       "      <th>short_form</th>\n",
       "      <th>context</th>\n",
       "      <th>long_form</th>\n",
       "      <th>id</th>\n",
       "    </tr>\n",
       "  </thead>\n",
       "  <tbody>\n",
       "    <tr>\n",
       "      <th>0</th>\n",
       "      <td>CA</td>\n",
       "      <td>IgG 1840 UI/ml ( 751-1.560 UI/ml ) . El marcador &lt; start &gt; CA &lt; end &gt; 19-9 era de 82 UI/ml . Los...</td>\n",
       "      <td>carbohydrate antiger</td>\n",
       "      <td>18</td>\n",
       "    </tr>\n",
       "    <tr>\n",
       "      <th>1</th>\n",
       "      <td>FA</td>\n",
       "      <td>UI/ml , GPT 371 UI/ml , GGT 632 UI/ml , &lt; start &gt; FA &lt; end &gt; 787 UI/ml , LDH 394 UI/ml . Amilasa...</td>\n",
       "      <td>fosfatasa alcalino</td>\n",
       "      <td>63</td>\n",
       "    </tr>\n",
       "    <tr>\n",
       "      <th>2</th>\n",
       "      <td>mg</td>\n",
       "      <td>. La analítica mostró los siguientes datos : bilirrubina 19,44 &lt; start &gt; mg &lt; end &gt; dl , GOT 110...</td>\n",
       "      <td>miligramo</td>\n",
       "      <td>88</td>\n",
       "    </tr>\n",
       "    <tr>\n",
       "      <th>3</th>\n",
       "      <td>mg</td>\n",
       "      <td>inició tratamiento con corticoides ( metilprednisolona a dosis de 32 &lt; start &gt; mg &lt; end &gt; día ) ...</td>\n",
       "      <td>miligramo</td>\n",
       "      <td>88</td>\n",
       "    </tr>\n",
       "    <tr>\n",
       "      <th>4</th>\n",
       "      <td>F</td>\n",
       "      <td>AMA-2 , ANCA , LKM1 , SMA , SLA y &lt; start &gt; F &lt; end &gt; actina ) y serologías para virus y bacteri...</td>\n",
       "      <td>filamentous</td>\n",
       "      <td>61</td>\n",
       "    </tr>\n",
       "  </tbody>\n",
       "</table>\n",
       "</div>"
      ],
      "text/plain": [
       "  short_form  \\\n",
       "0         CA   \n",
       "1         FA   \n",
       "2         mg   \n",
       "3         mg   \n",
       "4          F   \n",
       "\n",
       "                                                                                               context  \\\n",
       "0  IgG 1840 UI/ml ( 751-1.560 UI/ml ) . El marcador < start > CA < end > 19-9 era de 82 UI/ml . Los...   \n",
       "1  UI/ml , GPT 371 UI/ml , GGT 632 UI/ml , < start > FA < end > 787 UI/ml , LDH 394 UI/ml . Amilasa...   \n",
       "2  . La analítica mostró los siguientes datos : bilirrubina 19,44 < start > mg < end > dl , GOT 110...   \n",
       "3  inició tratamiento con corticoides ( metilprednisolona a dosis de 32 < start > mg < end > día ) ...   \n",
       "4  AMA-2 , ANCA , LKM1 , SMA , SLA y < start > F < end > actina ) y serologías para virus y bacteri...   \n",
       "\n",
       "              long_form  id  \n",
       "0  carbohydrate antiger  18  \n",
       "1    fosfatasa alcalino  63  \n",
       "2             miligramo  88  \n",
       "3             miligramo  88  \n",
       "4           filamentous  61  "
      ]
     },
     "execution_count": 192,
     "metadata": {},
     "output_type": "execute_result"
    }
   ],
   "source": [
    "data_df.head()"
   ]
  },
  {
   "cell_type": "code",
   "execution_count": 193,
   "metadata": {},
   "outputs": [
    {
     "data": {
      "text/plain": [
       "(792, 4)"
      ]
     },
     "execution_count": 193,
     "metadata": {},
     "output_type": "execute_result"
    }
   ],
   "source": [
    "data_df.shape"
   ]
  },
  {
   "cell_type": "markdown",
   "metadata": {},
   "source": [
    "Vamos a unir cada SF con todas las posibles LF, una por cada registro, para que posteriormente el modelo funcione de forma binaria asignando la probabilidad de que ese sea su LF"
   ]
  },
  {
   "cell_type": "code",
   "execution_count": 194,
   "metadata": {},
   "outputs": [],
   "source": [
    "sf_lf_unique = data_df[['short_form', 'long_form']].drop_duplicates()"
   ]
  },
  {
   "cell_type": "code",
   "execution_count": 195,
   "metadata": {},
   "outputs": [
    {
     "data": {
      "text/plain": [
       "(135, 2)"
      ]
     },
     "execution_count": 195,
     "metadata": {},
     "output_type": "execute_result"
    }
   ],
   "source": [
    "sf_lf_unique.shape"
   ]
  },
  {
   "cell_type": "code",
   "execution_count": 196,
   "metadata": {},
   "outputs": [
    {
     "data": {
      "text/html": [
       "<div>\n",
       "<style scoped>\n",
       "    .dataframe tbody tr th:only-of-type {\n",
       "        vertical-align: middle;\n",
       "    }\n",
       "\n",
       "    .dataframe tbody tr th {\n",
       "        vertical-align: top;\n",
       "    }\n",
       "\n",
       "    .dataframe thead th {\n",
       "        text-align: right;\n",
       "    }\n",
       "</style>\n",
       "<table border=\"1\" class=\"dataframe\">\n",
       "  <thead>\n",
       "    <tr style=\"text-align: right;\">\n",
       "      <th></th>\n",
       "      <th>short_form</th>\n",
       "      <th>long_form</th>\n",
       "    </tr>\n",
       "  </thead>\n",
       "  <tbody>\n",
       "    <tr>\n",
       "      <th>450</th>\n",
       "      <td>A</td>\n",
       "      <td>adenina</td>\n",
       "    </tr>\n",
       "    <tr>\n",
       "      <th>413</th>\n",
       "      <td>A</td>\n",
       "      <td>adeniner</td>\n",
       "    </tr>\n",
       "    <tr>\n",
       "      <th>719</th>\n",
       "      <td>AL</td>\n",
       "      <td>anestesico local</td>\n",
       "    </tr>\n",
       "    <tr>\n",
       "      <th>714</th>\n",
       "      <td>AL</td>\n",
       "      <td>amiloidosis primario</td>\n",
       "    </tr>\n",
       "    <tr>\n",
       "      <th>631</th>\n",
       "      <td>ALT</td>\n",
       "      <td>alanine aminotransferar</td>\n",
       "    </tr>\n",
       "  </tbody>\n",
       "</table>\n",
       "</div>"
      ],
      "text/plain": [
       "    short_form                long_form\n",
       "450          A                  adenina\n",
       "413          A                 adeniner\n",
       "719         AL         anestesico local\n",
       "714         AL     amiloidosis primario\n",
       "631        ALT  alanine aminotransferar"
      ]
     },
     "execution_count": 196,
     "metadata": {},
     "output_type": "execute_result"
    }
   ],
   "source": [
    "sf_lf_unique.sort_values('short_form').head()"
   ]
  },
  {
   "cell_type": "code",
   "execution_count": 197,
   "metadata": {},
   "outputs": [],
   "source": [
    "data_merged = data_df.merge(sf_lf_unique, on = 'short_form', how = 'left')"
   ]
  },
  {
   "cell_type": "code",
   "execution_count": 198,
   "metadata": {},
   "outputs": [
    {
     "data": {
      "text/plain": [
       "(1696, 5)"
      ]
     },
     "execution_count": 198,
     "metadata": {},
     "output_type": "execute_result"
    }
   ],
   "source": [
    "data_merged.shape"
   ]
  },
  {
   "cell_type": "code",
   "execution_count": 199,
   "metadata": {},
   "outputs": [],
   "source": [
    "pd.set_option('display.max_colwidth', 100)"
   ]
  },
  {
   "cell_type": "code",
   "execution_count": 200,
   "metadata": {},
   "outputs": [
    {
     "data": {
      "text/html": [
       "<div>\n",
       "<style scoped>\n",
       "    .dataframe tbody tr th:only-of-type {\n",
       "        vertical-align: middle;\n",
       "    }\n",
       "\n",
       "    .dataframe tbody tr th {\n",
       "        vertical-align: top;\n",
       "    }\n",
       "\n",
       "    .dataframe thead th {\n",
       "        text-align: right;\n",
       "    }\n",
       "</style>\n",
       "<table border=\"1\" class=\"dataframe\">\n",
       "  <thead>\n",
       "    <tr style=\"text-align: right;\">\n",
       "      <th></th>\n",
       "      <th>short_form</th>\n",
       "      <th>context</th>\n",
       "      <th>long_form</th>\n",
       "      <th>id</th>\n",
       "    </tr>\n",
       "  </thead>\n",
       "  <tbody>\n",
       "    <tr>\n",
       "      <th>413</th>\n",
       "      <td>A</td>\n",
       "      <td>dominante ( ATR-AD ) . Dicha mutación ( c.1766G &gt; &lt; start &gt; A &lt; end &gt; fig . 2A ) supone la susti...</td>\n",
       "      <td>adeniner</td>\n",
       "      <td>1</td>\n",
       "    </tr>\n",
       "    <tr>\n",
       "      <th>450</th>\n",
       "      <td>A</td>\n",
       "      <td>la mutación 1691 G-A del factor V y 20210 G- &lt; start &gt; A &lt; end &gt; del factor II . El resto del es...</td>\n",
       "      <td>adenina</td>\n",
       "      <td>0</td>\n",
       "    </tr>\n",
       "    <tr>\n",
       "      <th>451</th>\n",
       "      <td>A</td>\n",
       "      <td>realizándose posteriormente una electroforesis que identificó la mutación 1691 G- &lt; start &gt; A &lt; ...</td>\n",
       "      <td>adenina</td>\n",
       "      <td>0</td>\n",
       "    </tr>\n",
       "    <tr>\n",
       "      <th>714</th>\n",
       "      <td>AL</td>\n",
       "      <td>( EVA &lt; 2 ) con la nueva concentración de &lt; start &gt; AL &lt; end &gt; El catéter epidural se retiró en ...</td>\n",
       "      <td>amiloidosis primario</td>\n",
       "      <td>6</td>\n",
       "    </tr>\n",
       "    <tr>\n",
       "      <th>719</th>\n",
       "      <td>AL</td>\n",
       "      <td>( EVA &lt; 2 ) con la nueva concentración de &lt; start &gt; AL &lt; end &gt; El catéter epidural se retiró en ...</td>\n",
       "      <td>anestesico local</td>\n",
       "      <td>8</td>\n",
       "    </tr>\n",
       "  </tbody>\n",
       "</table>\n",
       "</div>"
      ],
      "text/plain": [
       "    short_form  \\\n",
       "413          A   \n",
       "450          A   \n",
       "451          A   \n",
       "714         AL   \n",
       "719         AL   \n",
       "\n",
       "                                                                                                 context  \\\n",
       "413  dominante ( ATR-AD ) . Dicha mutación ( c.1766G > < start > A < end > fig . 2A ) supone la susti...   \n",
       "450  la mutación 1691 G-A del factor V y 20210 G- < start > A < end > del factor II . El resto del es...   \n",
       "451  realizándose posteriormente una electroforesis que identificó la mutación 1691 G- < start > A < ...   \n",
       "714  ( EVA < 2 ) con la nueva concentración de < start > AL < end > El catéter epidural se retiró en ...   \n",
       "719  ( EVA < 2 ) con la nueva concentración de < start > AL < end > El catéter epidural se retiró en ...   \n",
       "\n",
       "                long_form  id  \n",
       "413              adeniner   1  \n",
       "450               adenina   0  \n",
       "451               adenina   0  \n",
       "714  amiloidosis primario   6  \n",
       "719      anestesico local   8  "
      ]
     },
     "execution_count": 200,
     "metadata": {},
     "output_type": "execute_result"
    }
   ],
   "source": [
    "data_df.sort_values(['short_form', 'context']).head()"
   ]
  },
  {
   "cell_type": "code",
   "execution_count": 201,
   "metadata": {},
   "outputs": [
    {
     "data": {
      "text/html": [
       "<div>\n",
       "<style scoped>\n",
       "    .dataframe tbody tr th:only-of-type {\n",
       "        vertical-align: middle;\n",
       "    }\n",
       "\n",
       "    .dataframe tbody tr th {\n",
       "        vertical-align: top;\n",
       "    }\n",
       "\n",
       "    .dataframe thead th {\n",
       "        text-align: right;\n",
       "    }\n",
       "</style>\n",
       "<table border=\"1\" class=\"dataframe\">\n",
       "  <thead>\n",
       "    <tr style=\"text-align: right;\">\n",
       "      <th></th>\n",
       "      <th>short_form</th>\n",
       "      <th>context</th>\n",
       "      <th>long_form_x</th>\n",
       "      <th>id</th>\n",
       "      <th>long_form_y</th>\n",
       "    </tr>\n",
       "  </thead>\n",
       "  <tbody>\n",
       "    <tr>\n",
       "      <th>883</th>\n",
       "      <td>A</td>\n",
       "      <td>dominante ( ATR-AD ) . Dicha mutación ( c.1766G &gt; &lt; start &gt; A &lt; end &gt; fig . 2A ) supone la susti...</td>\n",
       "      <td>adeniner</td>\n",
       "      <td>1</td>\n",
       "      <td>adeniner</td>\n",
       "    </tr>\n",
       "    <tr>\n",
       "      <th>884</th>\n",
       "      <td>A</td>\n",
       "      <td>dominante ( ATR-AD ) . Dicha mutación ( c.1766G &gt; &lt; start &gt; A &lt; end &gt; fig . 2A ) supone la susti...</td>\n",
       "      <td>adeniner</td>\n",
       "      <td>1</td>\n",
       "      <td>adenina</td>\n",
       "    </tr>\n",
       "    <tr>\n",
       "      <th>973</th>\n",
       "      <td>A</td>\n",
       "      <td>la mutación 1691 G-A del factor V y 20210 G- &lt; start &gt; A &lt; end &gt; del factor II . El resto del es...</td>\n",
       "      <td>adenina</td>\n",
       "      <td>0</td>\n",
       "      <td>adeniner</td>\n",
       "    </tr>\n",
       "    <tr>\n",
       "      <th>974</th>\n",
       "      <td>A</td>\n",
       "      <td>la mutación 1691 G-A del factor V y 20210 G- &lt; start &gt; A &lt; end &gt; del factor II . El resto del es...</td>\n",
       "      <td>adenina</td>\n",
       "      <td>0</td>\n",
       "      <td>adenina</td>\n",
       "    </tr>\n",
       "    <tr>\n",
       "      <th>975</th>\n",
       "      <td>A</td>\n",
       "      <td>realizándose posteriormente una electroforesis que identificó la mutación 1691 G- &lt; start &gt; A &lt; ...</td>\n",
       "      <td>adenina</td>\n",
       "      <td>0</td>\n",
       "      <td>adeniner</td>\n",
       "    </tr>\n",
       "  </tbody>\n",
       "</table>\n",
       "</div>"
      ],
      "text/plain": [
       "    short_form  \\\n",
       "883          A   \n",
       "884          A   \n",
       "973          A   \n",
       "974          A   \n",
       "975          A   \n",
       "\n",
       "                                                                                                 context  \\\n",
       "883  dominante ( ATR-AD ) . Dicha mutación ( c.1766G > < start > A < end > fig . 2A ) supone la susti...   \n",
       "884  dominante ( ATR-AD ) . Dicha mutación ( c.1766G > < start > A < end > fig . 2A ) supone la susti...   \n",
       "973  la mutación 1691 G-A del factor V y 20210 G- < start > A < end > del factor II . El resto del es...   \n",
       "974  la mutación 1691 G-A del factor V y 20210 G- < start > A < end > del factor II . El resto del es...   \n",
       "975  realizándose posteriormente una electroforesis que identificó la mutación 1691 G- < start > A < ...   \n",
       "\n",
       "    long_form_x  id long_form_y  \n",
       "883    adeniner   1    adeniner  \n",
       "884    adeniner   1     adenina  \n",
       "973     adenina   0    adeniner  \n",
       "974     adenina   0     adenina  \n",
       "975     adenina   0    adeniner  "
      ]
     },
     "execution_count": 201,
     "metadata": {},
     "output_type": "execute_result"
    }
   ],
   "source": [
    "data_merged.sort_values(['short_form', 'context']).head()"
   ]
  },
  {
   "cell_type": "markdown",
   "metadata": {},
   "source": [
    "El label debe de ser 0 o 1, es decir, si la LF que le corresponde es la que se le asigna. Por ello creamos una etiqueta binaria."
   ]
  },
  {
   "cell_type": "code",
   "execution_count": 202,
   "metadata": {},
   "outputs": [],
   "source": [
    "def get_label(row):\n",
    "    if row['long_form_x'] == row['long_form_y']:\n",
    "        return 1\n",
    "    else:\n",
    "        return 0"
   ]
  },
  {
   "cell_type": "code",
   "execution_count": 203,
   "metadata": {},
   "outputs": [],
   "source": [
    "data_merged['label'] = data_merged.apply(get_label, axis = 1)"
   ]
  },
  {
   "cell_type": "code",
   "execution_count": 204,
   "metadata": {},
   "outputs": [
    {
     "data": {
      "text/html": [
       "<div>\n",
       "<style scoped>\n",
       "    .dataframe tbody tr th:only-of-type {\n",
       "        vertical-align: middle;\n",
       "    }\n",
       "\n",
       "    .dataframe tbody tr th {\n",
       "        vertical-align: top;\n",
       "    }\n",
       "\n",
       "    .dataframe thead th {\n",
       "        text-align: right;\n",
       "    }\n",
       "</style>\n",
       "<table border=\"1\" class=\"dataframe\">\n",
       "  <thead>\n",
       "    <tr style=\"text-align: right;\">\n",
       "      <th></th>\n",
       "      <th>short_form</th>\n",
       "      <th>context</th>\n",
       "      <th>long_form_x</th>\n",
       "      <th>id</th>\n",
       "      <th>long_form_y</th>\n",
       "      <th>label</th>\n",
       "    </tr>\n",
       "  </thead>\n",
       "  <tbody>\n",
       "    <tr>\n",
       "      <th>0</th>\n",
       "      <td>CA</td>\n",
       "      <td>IgG 1840 UI/ml ( 751-1.560 UI/ml ) . El marcador &lt; start &gt; CA &lt; end &gt; 19-9 era de 82 UI/ml . Los...</td>\n",
       "      <td>carbohydrate antiger</td>\n",
       "      <td>18</td>\n",
       "      <td>carbohydrate antiger</td>\n",
       "      <td>1</td>\n",
       "    </tr>\n",
       "    <tr>\n",
       "      <th>1</th>\n",
       "      <td>CA</td>\n",
       "      <td>IgG 1840 UI/ml ( 751-1.560 UI/ml ) . El marcador &lt; start &gt; CA &lt; end &gt; 19-9 era de 82 UI/ml . Los...</td>\n",
       "      <td>carbohydrate antiger</td>\n",
       "      <td>18</td>\n",
       "      <td>california</td>\n",
       "      <td>0</td>\n",
       "    </tr>\n",
       "    <tr>\n",
       "      <th>2</th>\n",
       "      <td>CA</td>\n",
       "      <td>IgG 1840 UI/ml ( 751-1.560 UI/ml ) . El marcador &lt; start &gt; CA &lt; end &gt; 19-9 era de 82 UI/ml . Los...</td>\n",
       "      <td>carbohydrate antiger</td>\n",
       "      <td>18</td>\n",
       "      <td>cancer antiger</td>\n",
       "      <td>0</td>\n",
       "    </tr>\n",
       "    <tr>\n",
       "      <th>3</th>\n",
       "      <td>FA</td>\n",
       "      <td>UI/ml , GPT 371 UI/ml , GGT 632 UI/ml , &lt; start &gt; FA &lt; end &gt; 787 UI/ml , LDH 394 UI/ml . Amilasa...</td>\n",
       "      <td>fosfatasa alcalino</td>\n",
       "      <td>63</td>\n",
       "      <td>fosfatasa alcalino</td>\n",
       "      <td>1</td>\n",
       "    </tr>\n",
       "    <tr>\n",
       "      <th>4</th>\n",
       "      <td>FA</td>\n",
       "      <td>UI/ml , GPT 371 UI/ml , GGT 632 UI/ml , &lt; start &gt; FA &lt; end &gt; 787 UI/ml , LDH 394 UI/ml . Amilasa...</td>\n",
       "      <td>fosfatasa alcalino</td>\n",
       "      <td>63</td>\n",
       "      <td>faceta articular</td>\n",
       "      <td>0</td>\n",
       "    </tr>\n",
       "  </tbody>\n",
       "</table>\n",
       "</div>"
      ],
      "text/plain": [
       "  short_form  \\\n",
       "0         CA   \n",
       "1         CA   \n",
       "2         CA   \n",
       "3         FA   \n",
       "4         FA   \n",
       "\n",
       "                                                                                               context  \\\n",
       "0  IgG 1840 UI/ml ( 751-1.560 UI/ml ) . El marcador < start > CA < end > 19-9 era de 82 UI/ml . Los...   \n",
       "1  IgG 1840 UI/ml ( 751-1.560 UI/ml ) . El marcador < start > CA < end > 19-9 era de 82 UI/ml . Los...   \n",
       "2  IgG 1840 UI/ml ( 751-1.560 UI/ml ) . El marcador < start > CA < end > 19-9 era de 82 UI/ml . Los...   \n",
       "3  UI/ml , GPT 371 UI/ml , GGT 632 UI/ml , < start > FA < end > 787 UI/ml , LDH 394 UI/ml . Amilasa...   \n",
       "4  UI/ml , GPT 371 UI/ml , GGT 632 UI/ml , < start > FA < end > 787 UI/ml , LDH 394 UI/ml . Amilasa...   \n",
       "\n",
       "            long_form_x  id           long_form_y  label  \n",
       "0  carbohydrate antiger  18  carbohydrate antiger      1  \n",
       "1  carbohydrate antiger  18            california      0  \n",
       "2  carbohydrate antiger  18        cancer antiger      0  \n",
       "3    fosfatasa alcalino  63    fosfatasa alcalino      1  \n",
       "4    fosfatasa alcalino  63      faceta articular      0  "
      ]
     },
     "execution_count": 204,
     "metadata": {},
     "output_type": "execute_result"
    }
   ],
   "source": [
    "data_merged.head()"
   ]
  },
  {
   "cell_type": "code",
   "execution_count": 205,
   "metadata": {},
   "outputs": [],
   "source": [
    "data_merged = data_merged[['short_form', 'context', 'long_form_y', 'label']]"
   ]
  },
  {
   "cell_type": "code",
   "execution_count": 206,
   "metadata": {},
   "outputs": [],
   "source": [
    "data_merged = data_merged.rename(columns = {'long_form_y':'long_form'})"
   ]
  },
  {
   "cell_type": "code",
   "execution_count": 207,
   "metadata": {},
   "outputs": [],
   "source": [
    "data_merged.reset_index(drop = True, inplace = True)"
   ]
  },
  {
   "cell_type": "code",
   "execution_count": 208,
   "metadata": {},
   "outputs": [
    {
     "data": {
      "text/html": [
       "<div>\n",
       "<style scoped>\n",
       "    .dataframe tbody tr th:only-of-type {\n",
       "        vertical-align: middle;\n",
       "    }\n",
       "\n",
       "    .dataframe tbody tr th {\n",
       "        vertical-align: top;\n",
       "    }\n",
       "\n",
       "    .dataframe thead th {\n",
       "        text-align: right;\n",
       "    }\n",
       "</style>\n",
       "<table border=\"1\" class=\"dataframe\">\n",
       "  <thead>\n",
       "    <tr style=\"text-align: right;\">\n",
       "      <th></th>\n",
       "      <th>short_form</th>\n",
       "      <th>context</th>\n",
       "      <th>long_form</th>\n",
       "      <th>label</th>\n",
       "    </tr>\n",
       "  </thead>\n",
       "  <tbody>\n",
       "    <tr>\n",
       "      <th>0</th>\n",
       "      <td>CA</td>\n",
       "      <td>IgG 1840 UI/ml ( 751-1.560 UI/ml ) . El marcador &lt; start &gt; CA &lt; end &gt; 19-9 era de 82 UI/ml . Los...</td>\n",
       "      <td>carbohydrate antiger</td>\n",
       "      <td>1</td>\n",
       "    </tr>\n",
       "    <tr>\n",
       "      <th>1</th>\n",
       "      <td>CA</td>\n",
       "      <td>IgG 1840 UI/ml ( 751-1.560 UI/ml ) . El marcador &lt; start &gt; CA &lt; end &gt; 19-9 era de 82 UI/ml . Los...</td>\n",
       "      <td>california</td>\n",
       "      <td>0</td>\n",
       "    </tr>\n",
       "    <tr>\n",
       "      <th>2</th>\n",
       "      <td>CA</td>\n",
       "      <td>IgG 1840 UI/ml ( 751-1.560 UI/ml ) . El marcador &lt; start &gt; CA &lt; end &gt; 19-9 era de 82 UI/ml . Los...</td>\n",
       "      <td>cancer antiger</td>\n",
       "      <td>0</td>\n",
       "    </tr>\n",
       "    <tr>\n",
       "      <th>3</th>\n",
       "      <td>FA</td>\n",
       "      <td>UI/ml , GPT 371 UI/ml , GGT 632 UI/ml , &lt; start &gt; FA &lt; end &gt; 787 UI/ml , LDH 394 UI/ml . Amilasa...</td>\n",
       "      <td>fosfatasa alcalino</td>\n",
       "      <td>1</td>\n",
       "    </tr>\n",
       "    <tr>\n",
       "      <th>4</th>\n",
       "      <td>FA</td>\n",
       "      <td>UI/ml , GPT 371 UI/ml , GGT 632 UI/ml , &lt; start &gt; FA &lt; end &gt; 787 UI/ml , LDH 394 UI/ml . Amilasa...</td>\n",
       "      <td>faceta articular</td>\n",
       "      <td>0</td>\n",
       "    </tr>\n",
       "  </tbody>\n",
       "</table>\n",
       "</div>"
      ],
      "text/plain": [
       "  short_form  \\\n",
       "0         CA   \n",
       "1         CA   \n",
       "2         CA   \n",
       "3         FA   \n",
       "4         FA   \n",
       "\n",
       "                                                                                               context  \\\n",
       "0  IgG 1840 UI/ml ( 751-1.560 UI/ml ) . El marcador < start > CA < end > 19-9 era de 82 UI/ml . Los...   \n",
       "1  IgG 1840 UI/ml ( 751-1.560 UI/ml ) . El marcador < start > CA < end > 19-9 era de 82 UI/ml . Los...   \n",
       "2  IgG 1840 UI/ml ( 751-1.560 UI/ml ) . El marcador < start > CA < end > 19-9 era de 82 UI/ml . Los...   \n",
       "3  UI/ml , GPT 371 UI/ml , GGT 632 UI/ml , < start > FA < end > 787 UI/ml , LDH 394 UI/ml . Amilasa...   \n",
       "4  UI/ml , GPT 371 UI/ml , GGT 632 UI/ml , < start > FA < end > 787 UI/ml , LDH 394 UI/ml . Amilasa...   \n",
       "\n",
       "              long_form  label  \n",
       "0  carbohydrate antiger      1  \n",
       "1            california      0  \n",
       "2        cancer antiger      0  \n",
       "3    fosfatasa alcalino      1  \n",
       "4      faceta articular      0  "
      ]
     },
     "execution_count": 208,
     "metadata": {},
     "output_type": "execute_result"
    }
   ],
   "source": [
    "data_merged.head()"
   ]
  },
  {
   "cell_type": "code",
   "execution_count": 211,
   "metadata": {},
   "outputs": [],
   "source": [
    "data_merged.to_csv('data/data_train/test_data_beto_10_amb_lfnom.csv')"
   ]
  }
 ],
 "metadata": {
  "kernelspec": {
   "display_name": "Python [conda env:tfm]",
   "language": "python",
   "name": "conda-env-tfm-py"
  },
  "language_info": {
   "codemirror_mode": {
    "name": "ipython",
    "version": 3
   },
   "file_extension": ".py",
   "mimetype": "text/x-python",
   "name": "python",
   "nbconvert_exporter": "python",
   "pygments_lexer": "ipython3",
   "version": "3.7.10"
  }
 },
 "nbformat": 4,
 "nbformat_minor": 4
}
