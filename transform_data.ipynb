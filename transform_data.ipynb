{
 "cells": [
  {
   "cell_type": "markdown",
   "metadata": {},
   "source": [
    "# Library"
   ]
  },
  {
   "cell_type": "code",
   "execution_count": 1,
   "metadata": {},
   "outputs": [],
   "source": [
    "import pandas as pd\n",
    "import numpy as np\n",
    "import os\n",
    "import re\n",
    "import collections\n",
    "import unidecode\n",
    "#from gensim.parsing.preprocessing import remove_stopwords\n",
    "import nltk\n",
    "from nltk.corpus import stopwords\n",
    "import itertools \n",
    "from nltk.tokenize import word_tokenize\n",
    "from string import punctuation\n",
    "\n",
    "from nltk import ngrams\n",
    "\n",
    "from sklearn.feature_extraction.text import CountVectorizer\n",
    "from sklearn.feature_extraction.text import TfidfTransformer"
   ]
  },
  {
   "cell_type": "code",
   "execution_count": 2,
   "metadata": {},
   "outputs": [],
   "source": [
    "import numpy as np\n",
    "\n",
    "import tensorflow_datasets as tfds\n",
    "import tensorflow as tf\n",
    "\n",
    "from tensorflow.keras import preprocessing\n",
    "from tensorflow.keras import layers\n",
    "\n",
    "tfds.disable_progress_bar()"
   ]
  },
  {
   "cell_type": "code",
   "execution_count": 3,
   "metadata": {},
   "outputs": [],
   "source": [
    "from tensorflow.keras import losses\n",
    "from tensorflow.keras import preprocessing\n",
    "from tensorflow.keras import utils\n",
    "from tensorflow.keras.layers.experimental.preprocessing import TextVectorization\n",
    "\n",
    "import tensorflow_datasets as tfds\n",
    "import tensorflow_text as tf_text"
   ]
  },
  {
   "cell_type": "code",
   "execution_count": 4,
   "metadata": {},
   "outputs": [],
   "source": [
    "pd.set_option('display.max_colwidth', 100)"
   ]
  },
  {
   "cell_type": "code",
   "execution_count": 5,
   "metadata": {},
   "outputs": [],
   "source": [
    "%matplotlib inline\n",
    "from matplotlib import pyplot as plt"
   ]
  },
  {
   "cell_type": "markdown",
   "metadata": {},
   "source": [
    "# Functions"
   ]
  },
  {
   "cell_type": "code",
   "execution_count": 6,
   "metadata": {},
   "outputs": [],
   "source": [
    "def read_texts(path):\n",
    "    data = []\n",
    "    file_name = os.listdir(path)\n",
    "\n",
    "    for name in file_name:\n",
    "        if name.endswith('.txt'):\n",
    "            with open(path + name,encoding=\"utf8\") as f:\n",
    "                text = f.read()\n",
    "                data.append({'nombre':name.replace('.txt',''), 'texto':text})\n",
    "\n",
    "    df = pd.DataFrame(data)\n",
    "    return df"
   ]
  },
  {
   "cell_type": "code",
   "execution_count": 7,
   "metadata": {},
   "outputs": [],
   "source": [
    "def clean_text(string):\n",
    "    \"\"\"\n",
    "    A method to clean text \n",
    "    \"\"\"\n",
    "    \n",
    "    # Removing the punctuations\n",
    "    for x in string.lower(): \n",
    "        if x in punctuation:\n",
    "            if x != '/':\n",
    "                string = string.replace(x, \"\")\n",
    "            else:\n",
    "                string = string.replace(x, \" \")\n",
    "    \n",
    "    string = unidecode.unidecode(string)\n",
    "\n",
    "#     # Converting the text to lower\n",
    "#     string = string.lower()\n",
    "\n",
    "    # Removing stop words\n",
    "    string = ' '.join([word for word in string.split() if word not in swords])\n",
    "\n",
    "    # Cleaning the whitespaces\n",
    "    string = re.sub(r'\\s+', ' ', string).strip()\n",
    "\n",
    "    return string "
   ]
  },
  {
   "cell_type": "code",
   "execution_count": 8,
   "metadata": {},
   "outputs": [],
   "source": [
    "#nltk.download('stopwords')\n",
    "swords = list(set(stopwords.words('spanish')))"
   ]
  },
  {
   "cell_type": "code",
   "execution_count": 9,
   "metadata": {},
   "outputs": [],
   "source": [
    "def sep_num_text(data):\n",
    "\n",
    "    words = word_tokenize(data) \n",
    "    for w in words:\n",
    "        if re.search(r'\\d', w):\n",
    "            ind = words.index(w)\n",
    "            words[ind] = [''.join(g) for k, g in itertools.groupby(w, str.isalpha)]\n",
    "    data = ' '.join([x if type(x) is not list else ' '.join(x) for x in words])\n",
    "    \n",
    "    return data"
   ]
  },
  {
   "cell_type": "code",
   "execution_count": 10,
   "metadata": {},
   "outputs": [],
   "source": [
    "def get_f_b_context_text(data):\n",
    "    \n",
    "    '''Return context in a string format'''\n",
    "    \n",
    "    all_data = []\n",
    "    sf_not_found = []\n",
    "    \n",
    "    for instance in data:\n",
    "           \n",
    "        texto = instance['texto']    \n",
    "        target_word = instance['short_form'] \n",
    "        \n",
    "        if target_word in texto:\n",
    "\n",
    "            stop_ini_idx = instance['StartOffset'] #índice del inicio de la target\n",
    "            stop_fin_idx = instance['EndOffset'] #índice del inicio de la target\n",
    "\n",
    "            _instance = []\n",
    "            xf = texto[:stop_ini_idx] + ' <start> ' +texto[stop_ini_idx:stop_fin_idx] + ' <end> ' #palabras anteriores a la target\n",
    "            xb = texto[stop_fin_idx+1:]   #palabras posteriores a la target            \n",
    "\n",
    "            instance_id = instance['long_form'] #id del significado\n",
    "\n",
    "            _instance.append(target_word)\n",
    "            _instance.append(xf)\n",
    "            _instance.append(xb)\n",
    "            _instance.append(instance_id)\n",
    "\n",
    "            all_data.append(_instance[:])\n",
    "        else:\n",
    "            sf_not_found.append(target_word)\n",
    "#             print(\"El acrónimo {} no aparece en el texto {}\".format(target_word, instance['doc_id']))\n",
    "        \n",
    "    return all_data, sf_not_found"
   ]
  },
  {
   "cell_type": "code",
   "execution_count": 11,
   "metadata": {},
   "outputs": [],
   "source": [
    "def limit_context(data):\n",
    "\n",
    "    for doc in data:\n",
    "        \n",
    "        sf, xf, xb, lf = doc[0], doc[1], doc[2], doc[3]\n",
    "\n",
    "        xf_words = word_tokenize(xf)[-n_step_f:]\n",
    "        xb_words = word_tokenize(xb)[:n_step_b]\n",
    "\n",
    "        doc[1] = ' '.join(xf_words)\n",
    "        doc[2] = ' '.join(xb_words)   \n",
    "\n",
    "    return data        "
   ]
  },
  {
   "cell_type": "code",
   "execution_count": 12,
   "metadata": {},
   "outputs": [],
   "source": [
    "def create_dict(data):\n",
    "    \n",
    "    data_dic = []\n",
    "    \n",
    "    for instance in data:\n",
    "            \n",
    "        dic = {}\n",
    "\n",
    "        dic['short_form'] = instance[0]\n",
    "        dic['context'] = instance[1] + ' ' + instance[2]\n",
    "        dic['long_form'] = instance[3]\n",
    "    \n",
    "        data_dic.append(dic)\n",
    "        \n",
    "    return data_dic\n",
    "    "
   ]
  },
  {
   "cell_type": "markdown",
   "metadata": {},
   "source": [
    "# Load Data"
   ]
  },
  {
   "cell_type": "markdown",
   "metadata": {},
   "source": [
    "### Testing\n",
    "\n",
    "220 clinical cases."
   ]
  },
  {
   "cell_type": "code",
   "execution_count": 13,
   "metadata": {},
   "outputs": [],
   "source": [
    "testing_abbr = pd.read_csv(\"../datasets/testing_set/clinical_cases.abbreviations.testing_set.tsv\", sep = '\\t')\n",
    "testing_met = pd.read_csv(\"../datasets/testing_set/clinical_cases.metadata.testing_set.tsv\", sep = '\\t')\n",
    "testing_rel = pd.read_csv(\"../datasets/testing_set/clinical_cases.relations.testing_set.tsv\", sep = '\\t')"
   ]
  },
  {
   "cell_type": "code",
   "execution_count": 14,
   "metadata": {},
   "outputs": [
    {
     "data": {
      "text/html": [
       "<div>\n",
       "<style scoped>\n",
       "    .dataframe tbody tr th:only-of-type {\n",
       "        vertical-align: middle;\n",
       "    }\n",
       "\n",
       "    .dataframe tbody tr th {\n",
       "        vertical-align: top;\n",
       "    }\n",
       "\n",
       "    .dataframe thead th {\n",
       "        text-align: right;\n",
       "    }\n",
       "</style>\n",
       "<table border=\"1\" class=\"dataframe\">\n",
       "  <thead>\n",
       "    <tr style=\"text-align: right;\">\n",
       "      <th></th>\n",
       "      <th># Document_ID</th>\n",
       "      <th>Case_ID</th>\n",
       "      <th>ISSN</th>\n",
       "      <th>Date</th>\n",
       "      <th>Source</th>\n",
       "      <th>Full_Text_Link</th>\n",
       "    </tr>\n",
       "  </thead>\n",
       "  <tbody>\n",
       "    <tr>\n",
       "      <th>0</th>\n",
       "      <td>S1130-01082006000700014-1.txt</td>\n",
       "      <td>1.txt</td>\n",
       "      <td>1130-0108</td>\n",
       "      <td>2006-07-01</td>\n",
       "      <td>Revista Española de Enfermedades Digestivas  v.98 n.7 2006</td>\n",
       "      <td>http://scielo.isciii.es/scielo.php?script=sci_arttext&amp;pid=S1130-01082006000700014</td>\n",
       "    </tr>\n",
       "    <tr>\n",
       "      <th>1</th>\n",
       "      <td>S1130-01082007000300006-7.txt</td>\n",
       "      <td>7.txt</td>\n",
       "      <td>1130-0108</td>\n",
       "      <td>2007-03-01</td>\n",
       "      <td>Revista Española de Enfermedades Digestivas  v.99 n.3 2007</td>\n",
       "      <td>http://scielo.isciii.es/scielo.php?script=sci_arttext&amp;pid=S1130-01082007000300006</td>\n",
       "    </tr>\n",
       "    <tr>\n",
       "      <th>2</th>\n",
       "      <td>S1134-80462009000100005-1.txt</td>\n",
       "      <td>1.txt</td>\n",
       "      <td>1134-8046</td>\n",
       "      <td>2009-02-01</td>\n",
       "      <td>Revista de la Sociedad Española del Dolor  v.16 n.1 2009</td>\n",
       "      <td>http://scielo.isciii.es/scielo.php?script=sci_arttext&amp;pid=S1134-80462009000100005</td>\n",
       "    </tr>\n",
       "    <tr>\n",
       "      <th>3</th>\n",
       "      <td>S1137-66272014000300015-1.txt</td>\n",
       "      <td>1.txt</td>\n",
       "      <td>1137-6627</td>\n",
       "      <td>2014-12-01</td>\n",
       "      <td>Anales del Sistema Sanitario de Navarra  v.37 n.3 2014</td>\n",
       "      <td>http://scielo.isciii.es/scielo.php?script=sci_arttext&amp;pid=S1137-66272014000300015</td>\n",
       "    </tr>\n",
       "    <tr>\n",
       "      <th>4</th>\n",
       "      <td>S0365-66912004001200011-1.txt</td>\n",
       "      <td>1.txt</td>\n",
       "      <td>0365-6691</td>\n",
       "      <td>2004-12-01</td>\n",
       "      <td>Archivos de la Sociedad Española de Oftalmología  v.79 n.12 2004</td>\n",
       "      <td>http://scielo.isciii.es/scielo.php?script=sci_arttext&amp;pid=S0365-66912004001200011</td>\n",
       "    </tr>\n",
       "  </tbody>\n",
       "</table>\n",
       "</div>"
      ],
      "text/plain": [
       "                   # Document_ID Case_ID       ISSN        Date  \\\n",
       "0  S1130-01082006000700014-1.txt   1.txt  1130-0108  2006-07-01   \n",
       "1  S1130-01082007000300006-7.txt   7.txt  1130-0108  2007-03-01   \n",
       "2  S1134-80462009000100005-1.txt   1.txt  1134-8046  2009-02-01   \n",
       "3  S1137-66272014000300015-1.txt   1.txt  1137-6627  2014-12-01   \n",
       "4  S0365-66912004001200011-1.txt   1.txt  0365-6691  2004-12-01   \n",
       "\n",
       "                                                             Source  \\\n",
       "0        Revista Española de Enfermedades Digestivas  v.98 n.7 2006   \n",
       "1        Revista Española de Enfermedades Digestivas  v.99 n.3 2007   \n",
       "2          Revista de la Sociedad Española del Dolor  v.16 n.1 2009   \n",
       "3            Anales del Sistema Sanitario de Navarra  v.37 n.3 2014   \n",
       "4  Archivos de la Sociedad Española de Oftalmología  v.79 n.12 2004   \n",
       "\n",
       "                                                                      Full_Text_Link  \n",
       "0  http://scielo.isciii.es/scielo.php?script=sci_arttext&pid=S1130-01082006000700014  \n",
       "1  http://scielo.isciii.es/scielo.php?script=sci_arttext&pid=S1130-01082007000300006  \n",
       "2  http://scielo.isciii.es/scielo.php?script=sci_arttext&pid=S1134-80462009000100005  \n",
       "3  http://scielo.isciii.es/scielo.php?script=sci_arttext&pid=S1137-66272014000300015  \n",
       "4  http://scielo.isciii.es/scielo.php?script=sci_arttext&pid=S0365-66912004001200011  "
      ]
     },
     "execution_count": 14,
     "metadata": {},
     "output_type": "execute_result"
    }
   ],
   "source": [
    "testing_met.head()"
   ]
  },
  {
   "cell_type": "code",
   "execution_count": 15,
   "metadata": {},
   "outputs": [],
   "source": [
    "testing_rel = testing_rel.reset_index()"
   ]
  },
  {
   "cell_type": "code",
   "execution_count": 16,
   "metadata": {},
   "outputs": [],
   "source": [
    "testing_rel.columns = ['# Document_ID', 'Mention_A_type', 'Mention_A_StartOffset',\n",
    "      'Mention_A', 'Relation_type', 'Mention_B_type',\n",
    "       'Mention_B_StartOffset', 'Mention_B_EndOffset', 'Mention_B']"
   ]
  },
  {
   "cell_type": "code",
   "execution_count": 17,
   "metadata": {},
   "outputs": [],
   "source": [
    "testing_rel = testing_rel.rename(columns = {'# Document_ID': 'doc_id'})"
   ]
  },
  {
   "cell_type": "code",
   "execution_count": 18,
   "metadata": {},
   "outputs": [
    {
     "data": {
      "text/html": [
       "<div>\n",
       "<style scoped>\n",
       "    .dataframe tbody tr th:only-of-type {\n",
       "        vertical-align: middle;\n",
       "    }\n",
       "\n",
       "    .dataframe tbody tr th {\n",
       "        vertical-align: top;\n",
       "    }\n",
       "\n",
       "    .dataframe thead th {\n",
       "        text-align: right;\n",
       "    }\n",
       "</style>\n",
       "<table border=\"1\" class=\"dataframe\">\n",
       "  <thead>\n",
       "    <tr style=\"text-align: right;\">\n",
       "      <th></th>\n",
       "      <th>doc_id</th>\n",
       "      <th>Mention_A_type</th>\n",
       "      <th>Mention_A_StartOffset</th>\n",
       "      <th>Mention_A</th>\n",
       "      <th>Relation_type</th>\n",
       "      <th>Mention_B_type</th>\n",
       "      <th>Mention_B_StartOffset</th>\n",
       "      <th>Mention_B_EndOffset</th>\n",
       "      <th>Mention_B</th>\n",
       "    </tr>\n",
       "  </thead>\n",
       "  <tbody>\n",
       "    <tr>\n",
       "      <th>0</th>\n",
       "      <td>S0211-69952013000500019-1</td>\n",
       "      <td>SHORT_FORM</td>\n",
       "      <td>3739</td>\n",
       "      <td>ARA II</td>\n",
       "      <td>SHORT-LONG</td>\n",
       "      <td>LONG_FORM</td>\n",
       "      <td>3695</td>\n",
       "      <td>3737</td>\n",
       "      <td>antagonista del receptor de angiotesina II</td>\n",
       "    </tr>\n",
       "    <tr>\n",
       "      <th>1</th>\n",
       "      <td>S0211-69952013000500019-1</td>\n",
       "      <td>SHORT_FORM</td>\n",
       "      <td>2793</td>\n",
       "      <td>PCR</td>\n",
       "      <td>SHORT-LONG</td>\n",
       "      <td>LONG_FORM</td>\n",
       "      <td>2798</td>\n",
       "      <td>2837</td>\n",
       "      <td>reacción en cadena de enzima polimerasa</td>\n",
       "    </tr>\n",
       "    <tr>\n",
       "      <th>2</th>\n",
       "      <td>S0365-66912004000600008-1</td>\n",
       "      <td>SHORT_FORM</td>\n",
       "      <td>406</td>\n",
       "      <td>AV</td>\n",
       "      <td>SHORT-LONG</td>\n",
       "      <td>LONG_FORM</td>\n",
       "      <td>390</td>\n",
       "      <td>404</td>\n",
       "      <td>agudeza visual</td>\n",
       "    </tr>\n",
       "    <tr>\n",
       "      <th>3</th>\n",
       "      <td>S0211-69952012000500025-1</td>\n",
       "      <td>SHORT_FORM</td>\n",
       "      <td>945</td>\n",
       "      <td>angio-TAC</td>\n",
       "      <td>SHORT-LONG</td>\n",
       "      <td>LONG_FORM</td>\n",
       "      <td>908</td>\n",
       "      <td>943</td>\n",
       "      <td>angiotomografía computarizada axial</td>\n",
       "    </tr>\n",
       "    <tr>\n",
       "      <th>4</th>\n",
       "      <td>S1130-05582017000200122-1</td>\n",
       "      <td>SHORT_FORM</td>\n",
       "      <td>940</td>\n",
       "      <td>RMN</td>\n",
       "      <td>SHORT-LONG</td>\n",
       "      <td>LONG_FORM</td>\n",
       "      <td>910</td>\n",
       "      <td>938</td>\n",
       "      <td>resonancia magnética nuclear</td>\n",
       "    </tr>\n",
       "  </tbody>\n",
       "</table>\n",
       "</div>"
      ],
      "text/plain": [
       "                      doc_id Mention_A_type  Mention_A_StartOffset  Mention_A  \\\n",
       "0  S0211-69952013000500019-1     SHORT_FORM                   3739     ARA II   \n",
       "1  S0211-69952013000500019-1     SHORT_FORM                   2793        PCR   \n",
       "2  S0365-66912004000600008-1     SHORT_FORM                    406         AV   \n",
       "3  S0211-69952012000500025-1     SHORT_FORM                    945  angio-TAC   \n",
       "4  S1130-05582017000200122-1     SHORT_FORM                    940        RMN   \n",
       "\n",
       "  Relation_type Mention_B_type  Mention_B_StartOffset  Mention_B_EndOffset  \\\n",
       "0    SHORT-LONG      LONG_FORM                   3695                 3737   \n",
       "1    SHORT-LONG      LONG_FORM                   2798                 2837   \n",
       "2    SHORT-LONG      LONG_FORM                    390                  404   \n",
       "3    SHORT-LONG      LONG_FORM                    908                  943   \n",
       "4    SHORT-LONG      LONG_FORM                    910                  938   \n",
       "\n",
       "                                    Mention_B  \n",
       "0  antagonista del receptor de angiotesina II  \n",
       "1     reacción en cadena de enzima polimerasa  \n",
       "2                              agudeza visual  \n",
       "3         angiotomografía computarizada axial  \n",
       "4                resonancia magnética nuclear  "
      ]
     },
     "execution_count": 18,
     "metadata": {},
     "output_type": "execute_result"
    }
   ],
   "source": [
    "testing_rel.head()"
   ]
  },
  {
   "cell_type": "code",
   "execution_count": 19,
   "metadata": {},
   "outputs": [
    {
     "data": {
      "text/plain": [
       "array(['SHORT-LONG', 'SHORT-NESTED', 'NESTED-LONG'], dtype=object)"
      ]
     },
     "execution_count": 19,
     "metadata": {},
     "output_type": "execute_result"
    }
   ],
   "source": [
    "testing_rel.Relation_type.unique()"
   ]
  },
  {
   "cell_type": "code",
   "execution_count": 20,
   "metadata": {},
   "outputs": [],
   "source": [
    "testing_abbr = testing_abbr.rename(columns = {'# Document_ID': 'doc_id'})"
   ]
  },
  {
   "cell_type": "code",
   "execution_count": 21,
   "metadata": {},
   "outputs": [
    {
     "data": {
      "text/html": [
       "<div>\n",
       "<style scoped>\n",
       "    .dataframe tbody tr th:only-of-type {\n",
       "        vertical-align: middle;\n",
       "    }\n",
       "\n",
       "    .dataframe tbody tr th {\n",
       "        vertical-align: top;\n",
       "    }\n",
       "\n",
       "    .dataframe thead th {\n",
       "        text-align: right;\n",
       "    }\n",
       "</style>\n",
       "<table border=\"1\" class=\"dataframe\">\n",
       "  <thead>\n",
       "    <tr style=\"text-align: right;\">\n",
       "      <th></th>\n",
       "      <th>doc_id</th>\n",
       "      <th>StartOffset</th>\n",
       "      <th>EndOffset</th>\n",
       "      <th>Abbreviation</th>\n",
       "      <th>Definition</th>\n",
       "      <th>Definition_lemmatized</th>\n",
       "    </tr>\n",
       "  </thead>\n",
       "  <tbody>\n",
       "    <tr>\n",
       "      <th>0</th>\n",
       "      <td>S0004-06142010000500014-1</td>\n",
       "      <td>2037</td>\n",
       "      <td>2044</td>\n",
       "      <td>16SrRNA</td>\n",
       "      <td>16s ribosomal rna</td>\n",
       "      <td>16s ribosomal rno</td>\n",
       "    </tr>\n",
       "    <tr>\n",
       "      <th>1</th>\n",
       "      <td>S0004-06142010000500014-1</td>\n",
       "      <td>1349</td>\n",
       "      <td>1351</td>\n",
       "      <td>M.</td>\n",
       "      <td>mycobacterium</td>\n",
       "      <td>mycobacterium</td>\n",
       "    </tr>\n",
       "    <tr>\n",
       "      <th>2</th>\n",
       "      <td>S0004-06142010000500014-1</td>\n",
       "      <td>1339</td>\n",
       "      <td>1342</td>\n",
       "      <td>PCR</td>\n",
       "      <td>polymerase chain reaction</td>\n",
       "      <td>polymerase chain reaction</td>\n",
       "    </tr>\n",
       "    <tr>\n",
       "      <th>3</th>\n",
       "      <td>S0004-06142010000500014-1</td>\n",
       "      <td>611</td>\n",
       "      <td>615</td>\n",
       "      <td>BHCG</td>\n",
       "      <td>beta-human chorionic gonadotropin</td>\n",
       "      <td>beta-humar chorionic gonadotropin</td>\n",
       "    </tr>\n",
       "    <tr>\n",
       "      <th>4</th>\n",
       "      <td>S0004-06142010000500014-1</td>\n",
       "      <td>594</td>\n",
       "      <td>597</td>\n",
       "      <td>CEA</td>\n",
       "      <td>carcinoembrionary antigen</td>\n",
       "      <td>carcinoembrionary antiger</td>\n",
       "    </tr>\n",
       "  </tbody>\n",
       "</table>\n",
       "</div>"
      ],
      "text/plain": [
       "                      doc_id  StartOffset  EndOffset Abbreviation  \\\n",
       "0  S0004-06142010000500014-1         2037       2044      16SrRNA   \n",
       "1  S0004-06142010000500014-1         1349       1351           M.   \n",
       "2  S0004-06142010000500014-1         1339       1342          PCR   \n",
       "3  S0004-06142010000500014-1          611        615         BHCG   \n",
       "4  S0004-06142010000500014-1          594        597          CEA   \n",
       "\n",
       "                          Definition              Definition_lemmatized  \n",
       "0                  16s ribosomal rna                  16s ribosomal rno  \n",
       "1                      mycobacterium                      mycobacterium  \n",
       "2          polymerase chain reaction          polymerase chain reaction  \n",
       "3  beta-human chorionic gonadotropin  beta-humar chorionic gonadotropin  \n",
       "4          carcinoembrionary antigen          carcinoembrionary antiger  "
      ]
     },
     "execution_count": 21,
     "metadata": {},
     "output_type": "execute_result"
    }
   ],
   "source": [
    "testing_abbr.head()"
   ]
  },
  {
   "cell_type": "code",
   "execution_count": 22,
   "metadata": {},
   "outputs": [],
   "source": [
    "testing_raw = read_texts(\"../datasets/testing_set/testing_set.raw_text/\")"
   ]
  },
  {
   "cell_type": "code",
   "execution_count": 23,
   "metadata": {},
   "outputs": [
    {
     "data": {
      "text/html": [
       "<div>\n",
       "<style scoped>\n",
       "    .dataframe tbody tr th:only-of-type {\n",
       "        vertical-align: middle;\n",
       "    }\n",
       "\n",
       "    .dataframe tbody tr th {\n",
       "        vertical-align: top;\n",
       "    }\n",
       "\n",
       "    .dataframe thead th {\n",
       "        text-align: right;\n",
       "    }\n",
       "</style>\n",
       "<table border=\"1\" class=\"dataframe\">\n",
       "  <thead>\n",
       "    <tr style=\"text-align: right;\">\n",
       "      <th></th>\n",
       "      <th>nombre</th>\n",
       "      <th>texto</th>\n",
       "    </tr>\n",
       "  </thead>\n",
       "  <tbody>\n",
       "    <tr>\n",
       "      <th>0</th>\n",
       "      <td>S1139-76322009000700016-1</td>\n",
       "      <td>Paciente de sexo femenino de 13 años y 7 meses de edad que consulta por dolor abdominal y vómito...</td>\n",
       "    </tr>\n",
       "    <tr>\n",
       "      <th>1</th>\n",
       "      <td>S0210-48062007000700015-1</td>\n",
       "      <td>Varón de 72 años con antecedentes personales de hipertensión arterial, enfermedad pulmonar obstr...</td>\n",
       "    </tr>\n",
       "    <tr>\n",
       "      <th>2</th>\n",
       "      <td>S0212-71992005000500009-1</td>\n",
       "      <td>Varón de 81 años, con antecedentes de fibrilación auricular crónica, que acudió a nuestro hospit...</td>\n",
       "    </tr>\n",
       "    <tr>\n",
       "      <th>3</th>\n",
       "      <td>S0365-66912004001200011-1</td>\n",
       "      <td>Paciente varón de 52 años que acudió a urgencias por pérdida de visión en su ojo derecho de una ...</td>\n",
       "    </tr>\n",
       "    <tr>\n",
       "      <th>4</th>\n",
       "      <td>S1130-01082009000900015-1</td>\n",
       "      <td>Varón de 54 años con episodios de pancreatitis aguda de repetición, que como antecedentes person...</td>\n",
       "    </tr>\n",
       "  </tbody>\n",
       "</table>\n",
       "</div>"
      ],
      "text/plain": [
       "                      nombre  \\\n",
       "0  S1139-76322009000700016-1   \n",
       "1  S0210-48062007000700015-1   \n",
       "2  S0212-71992005000500009-1   \n",
       "3  S0365-66912004001200011-1   \n",
       "4  S1130-01082009000900015-1   \n",
       "\n",
       "                                                                                                 texto  \n",
       "0  Paciente de sexo femenino de 13 años y 7 meses de edad que consulta por dolor abdominal y vómito...  \n",
       "1  Varón de 72 años con antecedentes personales de hipertensión arterial, enfermedad pulmonar obstr...  \n",
       "2  Varón de 81 años, con antecedentes de fibrilación auricular crónica, que acudió a nuestro hospit...  \n",
       "3  Paciente varón de 52 años que acudió a urgencias por pérdida de visión en su ojo derecho de una ...  \n",
       "4  Varón de 54 años con episodios de pancreatitis aguda de repetición, que como antecedentes person...  "
      ]
     },
     "execution_count": 23,
     "metadata": {},
     "output_type": "execute_result"
    }
   ],
   "source": [
    "testing_raw.head()"
   ]
  },
  {
   "cell_type": "markdown",
   "metadata": {},
   "source": [
    "### Development\n",
    "\n",
    "146 clinical cases"
   ]
  },
  {
   "cell_type": "code",
   "execution_count": 24,
   "metadata": {},
   "outputs": [],
   "source": [
    "dev_abbr = pd.read_csv(\"../datasets/development_set/clinical_cases.abbreviations.development_set.tsv\", sep = '\\t')\n",
    "dev_met = pd.read_csv(\"../datasets/development_set/clinical_cases.metadata.development_set.tsv\", sep = '\\t')\n",
    "dev_rel = pd.read_csv(\"../datasets/development_set/clinical_cases.relations.development_set.tsv\", sep = '\\t')"
   ]
  },
  {
   "cell_type": "code",
   "execution_count": 25,
   "metadata": {},
   "outputs": [],
   "source": [
    "dev_met = dev_met.rename(columns = {'# Document_ID': 'doc_id'})"
   ]
  },
  {
   "cell_type": "code",
   "execution_count": 26,
   "metadata": {},
   "outputs": [
    {
     "data": {
      "text/html": [
       "<div>\n",
       "<style scoped>\n",
       "    .dataframe tbody tr th:only-of-type {\n",
       "        vertical-align: middle;\n",
       "    }\n",
       "\n",
       "    .dataframe tbody tr th {\n",
       "        vertical-align: top;\n",
       "    }\n",
       "\n",
       "    .dataframe thead th {\n",
       "        text-align: right;\n",
       "    }\n",
       "</style>\n",
       "<table border=\"1\" class=\"dataframe\">\n",
       "  <thead>\n",
       "    <tr style=\"text-align: right;\">\n",
       "      <th></th>\n",
       "      <th>doc_id</th>\n",
       "      <th>Case_ID</th>\n",
       "      <th>ISSN</th>\n",
       "      <th>Date</th>\n",
       "      <th>Source</th>\n",
       "      <th>Full_Text_Link</th>\n",
       "    </tr>\n",
       "  </thead>\n",
       "  <tbody>\n",
       "    <tr>\n",
       "      <th>0</th>\n",
       "      <td>S1130-14732005000300004-1.txt</td>\n",
       "      <td>1.txt</td>\n",
       "      <td>1130-1473</td>\n",
       "      <td>2005-06-01</td>\n",
       "      <td>Neurocirugía  v.16 n.3 2005</td>\n",
       "      <td>http://scielo.isciii.es/scielo.php?script=sci_arttext&amp;pid=S1130-14732005000300004</td>\n",
       "    </tr>\n",
       "    <tr>\n",
       "      <th>1</th>\n",
       "      <td>S1130-01082008000200009-1.txt</td>\n",
       "      <td>1.txt</td>\n",
       "      <td>1130-0108</td>\n",
       "      <td>2008-02-01</td>\n",
       "      <td>Revista Española de Enfermedades Digestivas  v.100 n.2 2008</td>\n",
       "      <td>http://scielo.isciii.es/scielo.php?script=sci_arttext&amp;pid=S1130-01082008000200009</td>\n",
       "    </tr>\n",
       "    <tr>\n",
       "      <th>2</th>\n",
       "      <td>S1137-66272012000300021-1.txt</td>\n",
       "      <td>1.txt</td>\n",
       "      <td>1137-6627</td>\n",
       "      <td>2012-12-01</td>\n",
       "      <td>Anales del Sistema Sanitario de Navarra  v.35 n.3 2012</td>\n",
       "      <td>http://scielo.isciii.es/scielo.php?script=sci_arttext&amp;pid=S1137-66272012000300021</td>\n",
       "    </tr>\n",
       "    <tr>\n",
       "      <th>3</th>\n",
       "      <td>S1699-695X2016000200010-1.txt</td>\n",
       "      <td>1.txt</td>\n",
       "      <td>1699-695X</td>\n",
       "      <td>2016-06-01</td>\n",
       "      <td>Revista Clínica de Medicina de Familia  v.9 n.2 2016</td>\n",
       "      <td>http://scielo.isciii.es/scielo.php?script=sci_arttext&amp;pid=S1699-695X2016000200010</td>\n",
       "    </tr>\n",
       "    <tr>\n",
       "      <th>4</th>\n",
       "      <td>S1130-01082007001100009-1.txt</td>\n",
       "      <td>1.txt</td>\n",
       "      <td>1130-0108</td>\n",
       "      <td>2007-11-01</td>\n",
       "      <td>Revista Española de Enfermedades Digestivas  v.99 n.11 2007</td>\n",
       "      <td>http://scielo.isciii.es/scielo.php?script=sci_arttext&amp;pid=S1130-01082007001100009</td>\n",
       "    </tr>\n",
       "  </tbody>\n",
       "</table>\n",
       "</div>"
      ],
      "text/plain": [
       "                          doc_id Case_ID       ISSN        Date  \\\n",
       "0  S1130-14732005000300004-1.txt   1.txt  1130-1473  2005-06-01   \n",
       "1  S1130-01082008000200009-1.txt   1.txt  1130-0108  2008-02-01   \n",
       "2  S1137-66272012000300021-1.txt   1.txt  1137-6627  2012-12-01   \n",
       "3  S1699-695X2016000200010-1.txt   1.txt  1699-695X  2016-06-01   \n",
       "4  S1130-01082007001100009-1.txt   1.txt  1130-0108  2007-11-01   \n",
       "\n",
       "                                                        Source  \\\n",
       "0                                  Neurocirugía  v.16 n.3 2005   \n",
       "1  Revista Española de Enfermedades Digestivas  v.100 n.2 2008   \n",
       "2       Anales del Sistema Sanitario de Navarra  v.35 n.3 2012   \n",
       "3         Revista Clínica de Medicina de Familia  v.9 n.2 2016   \n",
       "4  Revista Española de Enfermedades Digestivas  v.99 n.11 2007   \n",
       "\n",
       "                                                                      Full_Text_Link  \n",
       "0  http://scielo.isciii.es/scielo.php?script=sci_arttext&pid=S1130-14732005000300004  \n",
       "1  http://scielo.isciii.es/scielo.php?script=sci_arttext&pid=S1130-01082008000200009  \n",
       "2  http://scielo.isciii.es/scielo.php?script=sci_arttext&pid=S1137-66272012000300021  \n",
       "3  http://scielo.isciii.es/scielo.php?script=sci_arttext&pid=S1699-695X2016000200010  \n",
       "4  http://scielo.isciii.es/scielo.php?script=sci_arttext&pid=S1130-01082007001100009  "
      ]
     },
     "execution_count": 26,
     "metadata": {},
     "output_type": "execute_result"
    }
   ],
   "source": [
    "dev_met.head()"
   ]
  },
  {
   "cell_type": "code",
   "execution_count": 27,
   "metadata": {},
   "outputs": [],
   "source": [
    "dev_rel = dev_rel.reset_index()"
   ]
  },
  {
   "cell_type": "code",
   "execution_count": 28,
   "metadata": {},
   "outputs": [],
   "source": [
    "dev_rel.columns = ['# Document_ID', 'Mention_A_type', 'Mention_A_StartOffset',\n",
    "      'Mention_A', 'Relation_type', 'Mention_B_type',\n",
    "       'Mention_B_StartOffset', 'Mention_B_EndOffset', 'Mention_B']"
   ]
  },
  {
   "cell_type": "code",
   "execution_count": 29,
   "metadata": {},
   "outputs": [],
   "source": [
    "dev_rel = dev_rel.rename(columns = {'# Document_ID': 'doc_id'})"
   ]
  },
  {
   "cell_type": "code",
   "execution_count": 30,
   "metadata": {},
   "outputs": [
    {
     "data": {
      "text/html": [
       "<div>\n",
       "<style scoped>\n",
       "    .dataframe tbody tr th:only-of-type {\n",
       "        vertical-align: middle;\n",
       "    }\n",
       "\n",
       "    .dataframe tbody tr th {\n",
       "        vertical-align: top;\n",
       "    }\n",
       "\n",
       "    .dataframe thead th {\n",
       "        text-align: right;\n",
       "    }\n",
       "</style>\n",
       "<table border=\"1\" class=\"dataframe\">\n",
       "  <thead>\n",
       "    <tr style=\"text-align: right;\">\n",
       "      <th></th>\n",
       "      <th>doc_id</th>\n",
       "      <th>Mention_A_type</th>\n",
       "      <th>Mention_A_StartOffset</th>\n",
       "      <th>Mention_A</th>\n",
       "      <th>Relation_type</th>\n",
       "      <th>Mention_B_type</th>\n",
       "      <th>Mention_B_StartOffset</th>\n",
       "      <th>Mention_B_EndOffset</th>\n",
       "      <th>Mention_B</th>\n",
       "    </tr>\n",
       "  </thead>\n",
       "  <tbody>\n",
       "    <tr>\n",
       "      <th>0</th>\n",
       "      <td>S1888-75462015000400006-1</td>\n",
       "      <td>SHORT_FORM</td>\n",
       "      <td>1436</td>\n",
       "      <td>AP</td>\n",
       "      <td>SHORT-LONG</td>\n",
       "      <td>LONG_FORM</td>\n",
       "      <td>1419</td>\n",
       "      <td>1434</td>\n",
       "      <td>anteroposterior</td>\n",
       "    </tr>\n",
       "    <tr>\n",
       "      <th>1</th>\n",
       "      <td>S0210-56912009000700006-2</td>\n",
       "      <td>SHORT_FORM</td>\n",
       "      <td>876</td>\n",
       "      <td>angio-RMN</td>\n",
       "      <td>SHORT-LONG</td>\n",
       "      <td>LONG_FORM</td>\n",
       "      <td>858</td>\n",
       "      <td>874</td>\n",
       "      <td>angiorresonancia</td>\n",
       "    </tr>\n",
       "    <tr>\n",
       "      <th>2</th>\n",
       "      <td>S0210-56912009000700006-2</td>\n",
       "      <td>SHORT_FORM</td>\n",
       "      <td>819</td>\n",
       "      <td>RMN</td>\n",
       "      <td>SHORT-LONG</td>\n",
       "      <td>LONG_FORM</td>\n",
       "      <td>789</td>\n",
       "      <td>817</td>\n",
       "      <td>resonancia magnética nuclear</td>\n",
       "    </tr>\n",
       "    <tr>\n",
       "      <th>3</th>\n",
       "      <td>S1698-44472005000300015-1</td>\n",
       "      <td>SHORT_FORM</td>\n",
       "      <td>209</td>\n",
       "      <td>ATM</td>\n",
       "      <td>SHORT-LONG</td>\n",
       "      <td>LONG_FORM</td>\n",
       "      <td>177</td>\n",
       "      <td>207</td>\n",
       "      <td>articulación témporomandibular</td>\n",
       "    </tr>\n",
       "    <tr>\n",
       "      <th>4</th>\n",
       "      <td>S1698-44472005000300015-1</td>\n",
       "      <td>SHORT_FORM</td>\n",
       "      <td>1125</td>\n",
       "      <td>TC</td>\n",
       "      <td>SHORT-LONG</td>\n",
       "      <td>LONG_FORM</td>\n",
       "      <td>1099</td>\n",
       "      <td>1123</td>\n",
       "      <td>tomografía computerizada</td>\n",
       "    </tr>\n",
       "  </tbody>\n",
       "</table>\n",
       "</div>"
      ],
      "text/plain": [
       "                      doc_id Mention_A_type  Mention_A_StartOffset  Mention_A  \\\n",
       "0  S1888-75462015000400006-1     SHORT_FORM                   1436         AP   \n",
       "1  S0210-56912009000700006-2     SHORT_FORM                    876  angio-RMN   \n",
       "2  S0210-56912009000700006-2     SHORT_FORM                    819        RMN   \n",
       "3  S1698-44472005000300015-1     SHORT_FORM                    209        ATM   \n",
       "4  S1698-44472005000300015-1     SHORT_FORM                   1125         TC   \n",
       "\n",
       "  Relation_type Mention_B_type  Mention_B_StartOffset  Mention_B_EndOffset  \\\n",
       "0    SHORT-LONG      LONG_FORM                   1419                 1434   \n",
       "1    SHORT-LONG      LONG_FORM                    858                  874   \n",
       "2    SHORT-LONG      LONG_FORM                    789                  817   \n",
       "3    SHORT-LONG      LONG_FORM                    177                  207   \n",
       "4    SHORT-LONG      LONG_FORM                   1099                 1123   \n",
       "\n",
       "                        Mention_B  \n",
       "0                 anteroposterior  \n",
       "1                angiorresonancia  \n",
       "2    resonancia magnética nuclear  \n",
       "3  articulación témporomandibular  \n",
       "4        tomografía computerizada  "
      ]
     },
     "execution_count": 30,
     "metadata": {},
     "output_type": "execute_result"
    }
   ],
   "source": [
    "dev_rel.head()"
   ]
  },
  {
   "cell_type": "code",
   "execution_count": 31,
   "metadata": {},
   "outputs": [],
   "source": [
    "dev_abbr = dev_abbr.rename(columns = {'# Document_ID': 'doc_id'})"
   ]
  },
  {
   "cell_type": "code",
   "execution_count": 32,
   "metadata": {},
   "outputs": [
    {
     "data": {
      "text/html": [
       "<div>\n",
       "<style scoped>\n",
       "    .dataframe tbody tr th:only-of-type {\n",
       "        vertical-align: middle;\n",
       "    }\n",
       "\n",
       "    .dataframe tbody tr th {\n",
       "        vertical-align: top;\n",
       "    }\n",
       "\n",
       "    .dataframe thead th {\n",
       "        text-align: right;\n",
       "    }\n",
       "</style>\n",
       "<table border=\"1\" class=\"dataframe\">\n",
       "  <thead>\n",
       "    <tr style=\"text-align: right;\">\n",
       "      <th></th>\n",
       "      <th>doc_id</th>\n",
       "      <th>StartOffset</th>\n",
       "      <th>EndOffset</th>\n",
       "      <th>Abbreviation</th>\n",
       "      <th>Definition</th>\n",
       "      <th>Definition_lemmatized</th>\n",
       "    </tr>\n",
       "  </thead>\n",
       "  <tbody>\n",
       "    <tr>\n",
       "      <th>0</th>\n",
       "      <td>S1130-14732005000300004-1</td>\n",
       "      <td>1216</td>\n",
       "      <td>1218</td>\n",
       "      <td>C3</td>\n",
       "      <td>tercera vértebra cervical</td>\n",
       "      <td>tercero vértebra cervical</td>\n",
       "    </tr>\n",
       "    <tr>\n",
       "      <th>1</th>\n",
       "      <td>S1130-14732005000300004-1</td>\n",
       "      <td>717</td>\n",
       "      <td>719</td>\n",
       "      <td>C2</td>\n",
       "      <td>segunda vértebra cervical</td>\n",
       "      <td>segundo vértebra cervical</td>\n",
       "    </tr>\n",
       "    <tr>\n",
       "      <th>2</th>\n",
       "      <td>S1130-14732005000300004-1</td>\n",
       "      <td>3191</td>\n",
       "      <td>3193</td>\n",
       "      <td>C3</td>\n",
       "      <td>tercera vértebra cervical</td>\n",
       "      <td>tercero vértebra cervical</td>\n",
       "    </tr>\n",
       "    <tr>\n",
       "      <th>3</th>\n",
       "      <td>S1130-14732005000300004-1</td>\n",
       "      <td>2867</td>\n",
       "      <td>2869</td>\n",
       "      <td>C3</td>\n",
       "      <td>tercera vértebra cervical</td>\n",
       "      <td>tercero vértebra cervical</td>\n",
       "    </tr>\n",
       "    <tr>\n",
       "      <th>4</th>\n",
       "      <td>S1130-14732005000300004-1</td>\n",
       "      <td>2862</td>\n",
       "      <td>2864</td>\n",
       "      <td>C2</td>\n",
       "      <td>segunda vértebra cervical</td>\n",
       "      <td>segundo vértebra cervical</td>\n",
       "    </tr>\n",
       "  </tbody>\n",
       "</table>\n",
       "</div>"
      ],
      "text/plain": [
       "                      doc_id  StartOffset  EndOffset Abbreviation  \\\n",
       "0  S1130-14732005000300004-1         1216       1218           C3   \n",
       "1  S1130-14732005000300004-1          717        719           C2   \n",
       "2  S1130-14732005000300004-1         3191       3193           C3   \n",
       "3  S1130-14732005000300004-1         2867       2869           C3   \n",
       "4  S1130-14732005000300004-1         2862       2864           C2   \n",
       "\n",
       "                   Definition      Definition_lemmatized  \n",
       "0   tercera vértebra cervical  tercero vértebra cervical  \n",
       "1   segunda vértebra cervical  segundo vértebra cervical  \n",
       "2  tercera vértebra cervical   tercero vértebra cervical  \n",
       "3  tercera vértebra cervical   tercero vértebra cervical  \n",
       "4  segunda vértebra cervical   segundo vértebra cervical  "
      ]
     },
     "execution_count": 32,
     "metadata": {},
     "output_type": "execute_result"
    }
   ],
   "source": [
    "dev_abbr.head()"
   ]
  },
  {
   "cell_type": "code",
   "execution_count": 33,
   "metadata": {},
   "outputs": [],
   "source": [
    "dev_raw = read_texts(\"../datasets/development_set/development_set.raw_text/\")"
   ]
  },
  {
   "cell_type": "code",
   "execution_count": 34,
   "metadata": {},
   "outputs": [
    {
     "data": {
      "text/html": [
       "<div>\n",
       "<style scoped>\n",
       "    .dataframe tbody tr th:only-of-type {\n",
       "        vertical-align: middle;\n",
       "    }\n",
       "\n",
       "    .dataframe tbody tr th {\n",
       "        vertical-align: top;\n",
       "    }\n",
       "\n",
       "    .dataframe thead th {\n",
       "        text-align: right;\n",
       "    }\n",
       "</style>\n",
       "<table border=\"1\" class=\"dataframe\">\n",
       "  <thead>\n",
       "    <tr style=\"text-align: right;\">\n",
       "      <th></th>\n",
       "      <th>nombre</th>\n",
       "      <th>texto</th>\n",
       "    </tr>\n",
       "  </thead>\n",
       "  <tbody>\n",
       "    <tr>\n",
       "      <th>0</th>\n",
       "      <td>S1139-76322017000200010-1</td>\n",
       "      <td>Niña de dos años y diez meses con antecedentes de dermatitis atópica que acude a urgencias por l...</td>\n",
       "    </tr>\n",
       "    <tr>\n",
       "      <th>1</th>\n",
       "      <td>S0365-66912005001100008-1</td>\n",
       "      <td>Se presenta el caso de un varón de 45 años que acude por dolor ocular bilateral, fotofobia inten...</td>\n",
       "    </tr>\n",
       "    <tr>\n",
       "      <th>2</th>\n",
       "      <td>S1130-01082006001000017-1</td>\n",
       "      <td>Mujer de 42 años de edad con antecedentes personales de hernia umbilical intervenida, HTA. Prese...</td>\n",
       "    </tr>\n",
       "    <tr>\n",
       "      <th>3</th>\n",
       "      <td>S0212-71992005001200008-1</td>\n",
       "      <td>Paciente de 57 años con ingresos hospitalarios repetidos por epigastralgia acompañadas de elevac...</td>\n",
       "    </tr>\n",
       "    <tr>\n",
       "      <th>4</th>\n",
       "      <td>S0365-66912007000300010-1</td>\n",
       "      <td>Paciente de 33 años que el 20-08-05 es trasladado a urgencias por un corte sangrante en el cuell...</td>\n",
       "    </tr>\n",
       "  </tbody>\n",
       "</table>\n",
       "</div>"
      ],
      "text/plain": [
       "                      nombre  \\\n",
       "0  S1139-76322017000200010-1   \n",
       "1  S0365-66912005001100008-1   \n",
       "2  S1130-01082006001000017-1   \n",
       "3  S0212-71992005001200008-1   \n",
       "4  S0365-66912007000300010-1   \n",
       "\n",
       "                                                                                                 texto  \n",
       "0  Niña de dos años y diez meses con antecedentes de dermatitis atópica que acude a urgencias por l...  \n",
       "1  Se presenta el caso de un varón de 45 años que acude por dolor ocular bilateral, fotofobia inten...  \n",
       "2  Mujer de 42 años de edad con antecedentes personales de hernia umbilical intervenida, HTA. Prese...  \n",
       "3  Paciente de 57 años con ingresos hospitalarios repetidos por epigastralgia acompañadas de elevac...  \n",
       "4  Paciente de 33 años que el 20-08-05 es trasladado a urgencias por un corte sangrante en el cuell...  "
      ]
     },
     "execution_count": 34,
     "metadata": {},
     "output_type": "execute_result"
    }
   ],
   "source": [
    "dev_raw.head()"
   ]
  },
  {
   "cell_type": "markdown",
   "metadata": {},
   "source": [
    "### Sample test\n",
    "\n",
    "15 clinical cases"
   ]
  },
  {
   "cell_type": "code",
   "execution_count": 35,
   "metadata": {},
   "outputs": [],
   "source": [
    "sample_abbr = pd.read_csv(\"../datasets/sample_set/clinical_cases.abbreviations.sample_set.tsv\", sep = '\\t')\n",
    "sample_met = pd.read_csv(\"../datasets/sample_set/clinical_cases.metadata.sample_set.tsv\", sep = '\\t')\n",
    "sample_rel = pd.read_csv(\"../datasets/sample_set/clinical_cases.relations.sample_set.tsv\", sep = '\\t')"
   ]
  },
  {
   "cell_type": "code",
   "execution_count": 36,
   "metadata": {},
   "outputs": [],
   "source": [
    "sample_met = sample_met.rename(columns = {'# Document_ID': 'doc_id'})"
   ]
  },
  {
   "cell_type": "code",
   "execution_count": 37,
   "metadata": {},
   "outputs": [
    {
     "data": {
      "text/html": [
       "<div>\n",
       "<style scoped>\n",
       "    .dataframe tbody tr th:only-of-type {\n",
       "        vertical-align: middle;\n",
       "    }\n",
       "\n",
       "    .dataframe tbody tr th {\n",
       "        vertical-align: top;\n",
       "    }\n",
       "\n",
       "    .dataframe thead th {\n",
       "        text-align: right;\n",
       "    }\n",
       "</style>\n",
       "<table border=\"1\" class=\"dataframe\">\n",
       "  <thead>\n",
       "    <tr style=\"text-align: right;\">\n",
       "      <th></th>\n",
       "      <th>doc_id</th>\n",
       "      <th>Case_ID</th>\n",
       "      <th>ISSN</th>\n",
       "      <th>Date</th>\n",
       "      <th>Source</th>\n",
       "      <th>Full_Text_Link</th>\n",
       "    </tr>\n",
       "  </thead>\n",
       "  <tbody>\n",
       "    <tr>\n",
       "      <th>0</th>\n",
       "      <td>S0004-06142006000900015-1</td>\n",
       "      <td>1</td>\n",
       "      <td>0004-0614</td>\n",
       "      <td>2006-11-01</td>\n",
       "      <td>Archivos Españoles de Urología (Ed. impresa)  v.59 n.9 2006</td>\n",
       "      <td>http://scielo.isciii.es/scielo.php?script=sci_arttext&amp;pid=S0004-06142006000900015</td>\n",
       "    </tr>\n",
       "    <tr>\n",
       "      <th>1</th>\n",
       "      <td>S0004-06142006000600015-1</td>\n",
       "      <td>1</td>\n",
       "      <td>0004-0614</td>\n",
       "      <td>2006-08-01</td>\n",
       "      <td>Archivos Españoles de Urología (Ed. impresa)  v.59 n.6 2006</td>\n",
       "      <td>http://scielo.isciii.es/scielo.php?script=sci_arttext&amp;pid=S0004-06142006000600015</td>\n",
       "    </tr>\n",
       "    <tr>\n",
       "      <th>2</th>\n",
       "      <td>S0004-06142007000700014-1</td>\n",
       "      <td>1</td>\n",
       "      <td>0004-0614</td>\n",
       "      <td>2007-09-01</td>\n",
       "      <td>Archivos Españoles de Urología (Ed. impresa)  v.60 n.7 2007</td>\n",
       "      <td>http://scielo.isciii.es/scielo.php?script=sci_arttext&amp;pid=S0004-06142007000700014</td>\n",
       "    </tr>\n",
       "    <tr>\n",
       "      <th>3</th>\n",
       "      <td>S0004-06142007000900013-1</td>\n",
       "      <td>1</td>\n",
       "      <td>0004-0614</td>\n",
       "      <td>2007-11-01</td>\n",
       "      <td>Archivos Españoles de Urología (Ed. impresa)  v.60 n.9 2007</td>\n",
       "      <td>http://scielo.isciii.es/scielo.php?script=sci_arttext&amp;pid=S0004-06142007000900013</td>\n",
       "    </tr>\n",
       "    <tr>\n",
       "      <th>4</th>\n",
       "      <td>S0004-06142006000200014-1</td>\n",
       "      <td>1</td>\n",
       "      <td>0004-0614</td>\n",
       "      <td>2006-03-01</td>\n",
       "      <td>Archivos Españoles de Urología (Ed. impresa)  v.59 n.2 2006</td>\n",
       "      <td>http://scielo.isciii.es/scielo.php?script=sci_arttext&amp;pid=S0004-06142006000200014</td>\n",
       "    </tr>\n",
       "  </tbody>\n",
       "</table>\n",
       "</div>"
      ],
      "text/plain": [
       "                      doc_id  Case_ID       ISSN        Date  \\\n",
       "0  S0004-06142006000900015-1        1  0004-0614  2006-11-01   \n",
       "1  S0004-06142006000600015-1        1  0004-0614  2006-08-01   \n",
       "2  S0004-06142007000700014-1        1  0004-0614  2007-09-01   \n",
       "3  S0004-06142007000900013-1        1  0004-0614  2007-11-01   \n",
       "4  S0004-06142006000200014-1        1  0004-0614  2006-03-01   \n",
       "\n",
       "                                                        Source  \\\n",
       "0  Archivos Españoles de Urología (Ed. impresa)  v.59 n.9 2006   \n",
       "1  Archivos Españoles de Urología (Ed. impresa)  v.59 n.6 2006   \n",
       "2  Archivos Españoles de Urología (Ed. impresa)  v.60 n.7 2007   \n",
       "3  Archivos Españoles de Urología (Ed. impresa)  v.60 n.9 2007   \n",
       "4  Archivos Españoles de Urología (Ed. impresa)  v.59 n.2 2006   \n",
       "\n",
       "                                                                      Full_Text_Link  \n",
       "0  http://scielo.isciii.es/scielo.php?script=sci_arttext&pid=S0004-06142006000900015  \n",
       "1  http://scielo.isciii.es/scielo.php?script=sci_arttext&pid=S0004-06142006000600015  \n",
       "2  http://scielo.isciii.es/scielo.php?script=sci_arttext&pid=S0004-06142007000700014  \n",
       "3  http://scielo.isciii.es/scielo.php?script=sci_arttext&pid=S0004-06142007000900013  \n",
       "4  http://scielo.isciii.es/scielo.php?script=sci_arttext&pid=S0004-06142006000200014  "
      ]
     },
     "execution_count": 37,
     "metadata": {},
     "output_type": "execute_result"
    }
   ],
   "source": [
    "sample_met.head()"
   ]
  },
  {
   "cell_type": "code",
   "execution_count": 38,
   "metadata": {},
   "outputs": [],
   "source": [
    "sample_rel = sample_rel.rename(columns = {'# Document_ID': 'doc_id'})"
   ]
  },
  {
   "cell_type": "code",
   "execution_count": 39,
   "metadata": {},
   "outputs": [
    {
     "data": {
      "text/html": [
       "<div>\n",
       "<style scoped>\n",
       "    .dataframe tbody tr th:only-of-type {\n",
       "        vertical-align: middle;\n",
       "    }\n",
       "\n",
       "    .dataframe tbody tr th {\n",
       "        vertical-align: top;\n",
       "    }\n",
       "\n",
       "    .dataframe thead th {\n",
       "        text-align: right;\n",
       "    }\n",
       "</style>\n",
       "<table border=\"1\" class=\"dataframe\">\n",
       "  <thead>\n",
       "    <tr style=\"text-align: right;\">\n",
       "      <th></th>\n",
       "      <th>doc_id</th>\n",
       "      <th>Mention_A_type</th>\n",
       "      <th>Mention_A_StartOffset</th>\n",
       "      <th>Mention_A_EndOffset</th>\n",
       "      <th>Mention_A</th>\n",
       "      <th>Relation_type</th>\n",
       "      <th>Mention_B_type</th>\n",
       "      <th>Mention_B_StartOffset</th>\n",
       "      <th>Mention_B_EndOffset</th>\n",
       "      <th>Mention_B</th>\n",
       "    </tr>\n",
       "  </thead>\n",
       "  <tbody>\n",
       "    <tr>\n",
       "      <th>0</th>\n",
       "      <td>S0004-06142006000700014-1</td>\n",
       "      <td>SHORT_FORM</td>\n",
       "      <td>926</td>\n",
       "      <td>929</td>\n",
       "      <td>CEA</td>\n",
       "      <td>SHORT-LONG</td>\n",
       "      <td>LONG_FORM</td>\n",
       "      <td>896</td>\n",
       "      <td>924</td>\n",
       "      <td>Antígeno Carcino Embrionario</td>\n",
       "    </tr>\n",
       "    <tr>\n",
       "      <th>1</th>\n",
       "      <td>S0004-06142005001000011-1</td>\n",
       "      <td>SHORT_FORM</td>\n",
       "      <td>1626</td>\n",
       "      <td>1629</td>\n",
       "      <td>ROT</td>\n",
       "      <td>SHORT-LONG</td>\n",
       "      <td>LONG_FORM</td>\n",
       "      <td>1600</td>\n",
       "      <td>1624</td>\n",
       "      <td>reflejos osteotendinosos</td>\n",
       "    </tr>\n",
       "    <tr>\n",
       "      <th>2</th>\n",
       "      <td>S0004-06142005001000011-1</td>\n",
       "      <td>SHORT_FORM</td>\n",
       "      <td>1715</td>\n",
       "      <td>1718</td>\n",
       "      <td>RMN</td>\n",
       "      <td>SHORT-LONG</td>\n",
       "      <td>LONG_FORM</td>\n",
       "      <td>1685</td>\n",
       "      <td>1713</td>\n",
       "      <td>resonancia magnética nuclear</td>\n",
       "    </tr>\n",
       "    <tr>\n",
       "      <th>3</th>\n",
       "      <td>S0004-06142005001000011-1</td>\n",
       "      <td>SHORT_FORM</td>\n",
       "      <td>1663</td>\n",
       "      <td>1666</td>\n",
       "      <td>RCP</td>\n",
       "      <td>SHORT-LONG</td>\n",
       "      <td>LONG_FORM</td>\n",
       "      <td>1639</td>\n",
       "      <td>1661</td>\n",
       "      <td>reflejo cutaneoplantar</td>\n",
       "    </tr>\n",
       "    <tr>\n",
       "      <th>4</th>\n",
       "      <td>S0004-06142005001000011-1</td>\n",
       "      <td>SHORT_FORM</td>\n",
       "      <td>1808</td>\n",
       "      <td>1811</td>\n",
       "      <td>LCR</td>\n",
       "      <td>SHORT-LONG</td>\n",
       "      <td>LONG_FORM</td>\n",
       "      <td>1783</td>\n",
       "      <td>1806</td>\n",
       "      <td>líquido cefalorraquídeo</td>\n",
       "    </tr>\n",
       "  </tbody>\n",
       "</table>\n",
       "</div>"
      ],
      "text/plain": [
       "                      doc_id Mention_A_type  Mention_A_StartOffset  \\\n",
       "0  S0004-06142006000700014-1     SHORT_FORM                    926   \n",
       "1  S0004-06142005001000011-1     SHORT_FORM                   1626   \n",
       "2  S0004-06142005001000011-1     SHORT_FORM                   1715   \n",
       "3  S0004-06142005001000011-1     SHORT_FORM                   1663   \n",
       "4  S0004-06142005001000011-1     SHORT_FORM                   1808   \n",
       "\n",
       "   Mention_A_EndOffset Mention_A Relation_type Mention_B_type  \\\n",
       "0                  929       CEA    SHORT-LONG      LONG_FORM   \n",
       "1                 1629       ROT    SHORT-LONG      LONG_FORM   \n",
       "2                 1718       RMN    SHORT-LONG      LONG_FORM   \n",
       "3                 1666       RCP    SHORT-LONG      LONG_FORM   \n",
       "4                 1811       LCR    SHORT-LONG      LONG_FORM   \n",
       "\n",
       "   Mention_B_StartOffset  Mention_B_EndOffset                     Mention_B  \n",
       "0                    896                  924  Antígeno Carcino Embrionario  \n",
       "1                   1600                 1624      reflejos osteotendinosos  \n",
       "2                   1685                 1713  resonancia magnética nuclear  \n",
       "3                   1639                 1661        reflejo cutaneoplantar  \n",
       "4                   1783                 1806       líquido cefalorraquídeo  "
      ]
     },
     "execution_count": 39,
     "metadata": {},
     "output_type": "execute_result"
    }
   ],
   "source": [
    "sample_rel.head()"
   ]
  },
  {
   "cell_type": "code",
   "execution_count": 40,
   "metadata": {},
   "outputs": [],
   "source": [
    "sample_abbr = sample_abbr.rename(columns = {'# Document_ID': 'doc_id'})"
   ]
  },
  {
   "cell_type": "code",
   "execution_count": 41,
   "metadata": {},
   "outputs": [
    {
     "data": {
      "text/html": [
       "<div>\n",
       "<style scoped>\n",
       "    .dataframe tbody tr th:only-of-type {\n",
       "        vertical-align: middle;\n",
       "    }\n",
       "\n",
       "    .dataframe tbody tr th {\n",
       "        vertical-align: top;\n",
       "    }\n",
       "\n",
       "    .dataframe thead th {\n",
       "        text-align: right;\n",
       "    }\n",
       "</style>\n",
       "<table border=\"1\" class=\"dataframe\">\n",
       "  <thead>\n",
       "    <tr style=\"text-align: right;\">\n",
       "      <th></th>\n",
       "      <th>doc_id</th>\n",
       "      <th>StartOffset</th>\n",
       "      <th>EndOffset</th>\n",
       "      <th>Abbreviation</th>\n",
       "      <th>Definition</th>\n",
       "      <th>Definition_lemmatized</th>\n",
       "    </tr>\n",
       "  </thead>\n",
       "  <tbody>\n",
       "    <tr>\n",
       "      <th>0</th>\n",
       "      <td>S0004-06142005001000011-1</td>\n",
       "      <td>1034</td>\n",
       "      <td>1036</td>\n",
       "      <td>Kg</td>\n",
       "      <td>kilogramo</td>\n",
       "      <td>kilogramo</td>\n",
       "    </tr>\n",
       "    <tr>\n",
       "      <th>1</th>\n",
       "      <td>S0004-06142005001000011-1</td>\n",
       "      <td>1031</td>\n",
       "      <td>1033</td>\n",
       "      <td>mg</td>\n",
       "      <td>miligramo</td>\n",
       "      <td>miligramo</td>\n",
       "    </tr>\n",
       "    <tr>\n",
       "      <th>2</th>\n",
       "      <td>S0004-06142005001000011-1</td>\n",
       "      <td>196</td>\n",
       "      <td>199</td>\n",
       "      <td>IgA</td>\n",
       "      <td>inmunoglobulina a</td>\n",
       "      <td>inmunoglobulina a</td>\n",
       "    </tr>\n",
       "    <tr>\n",
       "      <th>3</th>\n",
       "      <td>S0004-06142005001000011-1</td>\n",
       "      <td>2057</td>\n",
       "      <td>2060</td>\n",
       "      <td>LCR</td>\n",
       "      <td>líquido cefalorraquídeo</td>\n",
       "      <td>líquido cefalorraquídeo</td>\n",
       "    </tr>\n",
       "    <tr>\n",
       "      <th>4</th>\n",
       "      <td>S0004-06142005001000011-1</td>\n",
       "      <td>1594</td>\n",
       "      <td>1598</td>\n",
       "      <td>EEII</td>\n",
       "      <td>extremidades inferiores</td>\n",
       "      <td>extremidad inferior</td>\n",
       "    </tr>\n",
       "  </tbody>\n",
       "</table>\n",
       "</div>"
      ],
      "text/plain": [
       "                      doc_id  StartOffset  EndOffset Abbreviation  \\\n",
       "0  S0004-06142005001000011-1         1034       1036           Kg   \n",
       "1  S0004-06142005001000011-1         1031       1033           mg   \n",
       "2  S0004-06142005001000011-1          196        199          IgA   \n",
       "3  S0004-06142005001000011-1         2057       2060          LCR   \n",
       "4  S0004-06142005001000011-1         1594       1598         EEII   \n",
       "\n",
       "                Definition    Definition_lemmatized  \n",
       "0                kilogramo                kilogramo  \n",
       "1                miligramo                miligramo  \n",
       "2        inmunoglobulina a        inmunoglobulina a  \n",
       "3  líquido cefalorraquídeo  líquido cefalorraquídeo  \n",
       "4  extremidades inferiores      extremidad inferior  "
      ]
     },
     "execution_count": 41,
     "metadata": {},
     "output_type": "execute_result"
    }
   ],
   "source": [
    "sample_abbr.head()"
   ]
  },
  {
   "cell_type": "code",
   "execution_count": 42,
   "metadata": {},
   "outputs": [],
   "source": [
    "sample_raw = read_texts(\"../datasets/sample_set/sample_set.raw_text/\")"
   ]
  },
  {
   "cell_type": "code",
   "execution_count": 43,
   "metadata": {},
   "outputs": [
    {
     "data": {
      "text/html": [
       "<div>\n",
       "<style scoped>\n",
       "    .dataframe tbody tr th:only-of-type {\n",
       "        vertical-align: middle;\n",
       "    }\n",
       "\n",
       "    .dataframe tbody tr th {\n",
       "        vertical-align: top;\n",
       "    }\n",
       "\n",
       "    .dataframe thead th {\n",
       "        text-align: right;\n",
       "    }\n",
       "</style>\n",
       "<table border=\"1\" class=\"dataframe\">\n",
       "  <thead>\n",
       "    <tr style=\"text-align: right;\">\n",
       "      <th></th>\n",
       "      <th>nombre</th>\n",
       "      <th>texto</th>\n",
       "    </tr>\n",
       "  </thead>\n",
       "  <tbody>\n",
       "    <tr>\n",
       "      <th>0</th>\n",
       "      <td>S0004-06142006000600014-1</td>\n",
       "      <td>Paciente varón, de 40 años de edad, con antecedentes de salud. Acude a consulta de Urología por ...</td>\n",
       "    </tr>\n",
       "    <tr>\n",
       "      <th>1</th>\n",
       "      <td>S0004-06142006000300015-1</td>\n",
       "      <td>Paciente de 50 años con antecedente de litiasis renal de repetición que consultó por hematuria r...</td>\n",
       "    </tr>\n",
       "    <tr>\n",
       "      <th>2</th>\n",
       "      <td>S0004-06142007000900013-1</td>\n",
       "      <td>Presentamos el caso de un recién nacido de tres días de vida, que acude a urgencias con su madre...</td>\n",
       "    </tr>\n",
       "    <tr>\n",
       "      <th>3</th>\n",
       "      <td>S0004-06142005001000011-1</td>\n",
       "      <td>Varón de 58 años de edad en el momento del trasplante, el 5 de octubre de 1998.\\nEn programa de ...</td>\n",
       "    </tr>\n",
       "    <tr>\n",
       "      <th>4</th>\n",
       "      <td>S0004-06142006000700013-1</td>\n",
       "      <td>Paciente varón, de 63 años de edad, mestizo, diabético y fumador inveterado. Se presentó a consu...</td>\n",
       "    </tr>\n",
       "  </tbody>\n",
       "</table>\n",
       "</div>"
      ],
      "text/plain": [
       "                      nombre  \\\n",
       "0  S0004-06142006000600014-1   \n",
       "1  S0004-06142006000300015-1   \n",
       "2  S0004-06142007000900013-1   \n",
       "3  S0004-06142005001000011-1   \n",
       "4  S0004-06142006000700013-1   \n",
       "\n",
       "                                                                                                 texto  \n",
       "0  Paciente varón, de 40 años de edad, con antecedentes de salud. Acude a consulta de Urología por ...  \n",
       "1  Paciente de 50 años con antecedente de litiasis renal de repetición que consultó por hematuria r...  \n",
       "2  Presentamos el caso de un recién nacido de tres días de vida, que acude a urgencias con su madre...  \n",
       "3  Varón de 58 años de edad en el momento del trasplante, el 5 de octubre de 1998.\\nEn programa de ...  \n",
       "4  Paciente varón, de 63 años de edad, mestizo, diabético y fumador inveterado. Se presentó a consu...  "
      ]
     },
     "execution_count": 43,
     "metadata": {},
     "output_type": "execute_result"
    }
   ],
   "source": [
    "sample_raw.head()"
   ]
  },
  {
   "cell_type": "markdown",
   "metadata": {},
   "source": [
    "### Trainning\n",
    "\n",
    "318 clinical cases"
   ]
  },
  {
   "cell_type": "code",
   "execution_count": 44,
   "metadata": {},
   "outputs": [],
   "source": [
    "train_abbr = pd.read_csv(\"../datasets/trainning_set/clinical_cases.abbreviations.training_set.tsv\", sep = '\\t')"
   ]
  },
  {
   "cell_type": "code",
   "execution_count": 45,
   "metadata": {},
   "outputs": [],
   "source": [
    "train_met = pd.read_csv(\"../datasets/trainning_set/clinical_cases.metadata.training_set.tsv\", sep = '\\t')\n",
    "train_rel = pd.read_csv(\"../datasets/trainning_set/clinical_cases.relations.training_set.tsv\", sep = '\\t')"
   ]
  },
  {
   "cell_type": "code",
   "execution_count": 46,
   "metadata": {},
   "outputs": [],
   "source": [
    "train_met = train_met.rename(columns = {'# Document_ID': 'doc_id'})"
   ]
  },
  {
   "cell_type": "code",
   "execution_count": 47,
   "metadata": {},
   "outputs": [
    {
     "data": {
      "text/html": [
       "<div>\n",
       "<style scoped>\n",
       "    .dataframe tbody tr th:only-of-type {\n",
       "        vertical-align: middle;\n",
       "    }\n",
       "\n",
       "    .dataframe tbody tr th {\n",
       "        vertical-align: top;\n",
       "    }\n",
       "\n",
       "    .dataframe thead th {\n",
       "        text-align: right;\n",
       "    }\n",
       "</style>\n",
       "<table border=\"1\" class=\"dataframe\">\n",
       "  <thead>\n",
       "    <tr style=\"text-align: right;\">\n",
       "      <th></th>\n",
       "      <th>doc_id</th>\n",
       "      <th>Case_ID</th>\n",
       "      <th>ISSN</th>\n",
       "      <th>Date</th>\n",
       "      <th>Source</th>\n",
       "      <th>Full_Text_Link</th>\n",
       "    </tr>\n",
       "  </thead>\n",
       "  <tbody>\n",
       "    <tr>\n",
       "      <th>0</th>\n",
       "      <td>S1139-76322015000500009-1.txt</td>\n",
       "      <td>1.txt</td>\n",
       "      <td>1139-7632</td>\n",
       "      <td>2015-12-01</td>\n",
       "      <td>Pediatría Atención Primaria  v.17 n.68 2015</td>\n",
       "      <td>http://scielo.isciii.es/scielo.php?script=sci_arttext&amp;pid=S1139-76322015000500009</td>\n",
       "    </tr>\n",
       "    <tr>\n",
       "      <th>1</th>\n",
       "      <td>S1130-05582008000400007-2.txt</td>\n",
       "      <td>2.txt</td>\n",
       "      <td>1130-0558</td>\n",
       "      <td>2008-08-01</td>\n",
       "      <td>Revista Española de Cirugía Oral y Maxilofacial  v.30 n.4 2008</td>\n",
       "      <td>http://scielo.isciii.es/scielo.php?script=sci_arttext&amp;pid=S1130-05582008000400007</td>\n",
       "    </tr>\n",
       "    <tr>\n",
       "      <th>2</th>\n",
       "      <td>S0210-48062006000100012-1.txt</td>\n",
       "      <td>1.txt</td>\n",
       "      <td>0210-4806</td>\n",
       "      <td>2006-01-01</td>\n",
       "      <td>Actas Urológicas Españolas  v.30 n.1 2006</td>\n",
       "      <td>http://scielo.isciii.es/scielo.php?script=sci_arttext&amp;pid=S0210-48062006000100012</td>\n",
       "    </tr>\n",
       "    <tr>\n",
       "      <th>3</th>\n",
       "      <td>S0213-12852003000500002-1.txt</td>\n",
       "      <td>1.txt</td>\n",
       "      <td>0213-1285</td>\n",
       "      <td>2003-10-01</td>\n",
       "      <td>Avances en Odontoestomatología  v.19 n.5 2003</td>\n",
       "      <td>http://scielo.isciii.es/scielo.php?script=sci_arttext&amp;pid=S0213-12852003000500002</td>\n",
       "    </tr>\n",
       "    <tr>\n",
       "      <th>4</th>\n",
       "      <td>S0212-71992005000400007-1.txt</td>\n",
       "      <td>1.txt</td>\n",
       "      <td>0212-7199</td>\n",
       "      <td>2005-04-01</td>\n",
       "      <td>Anales de Medicina Interna  v.22 n.4 2005</td>\n",
       "      <td>http://scielo.isciii.es/scielo.php?script=sci_arttext&amp;pid=S0212-71992005000400007</td>\n",
       "    </tr>\n",
       "  </tbody>\n",
       "</table>\n",
       "</div>"
      ],
      "text/plain": [
       "                          doc_id Case_ID       ISSN        Date  \\\n",
       "0  S1139-76322015000500009-1.txt   1.txt  1139-7632  2015-12-01   \n",
       "1  S1130-05582008000400007-2.txt   2.txt  1130-0558  2008-08-01   \n",
       "2  S0210-48062006000100012-1.txt   1.txt  0210-4806  2006-01-01   \n",
       "3  S0213-12852003000500002-1.txt   1.txt  0213-1285  2003-10-01   \n",
       "4  S0212-71992005000400007-1.txt   1.txt  0212-7199  2005-04-01   \n",
       "\n",
       "                                                           Source  \\\n",
       "0                     Pediatría Atención Primaria  v.17 n.68 2015   \n",
       "1  Revista Española de Cirugía Oral y Maxilofacial  v.30 n.4 2008   \n",
       "2                       Actas Urológicas Españolas  v.30 n.1 2006   \n",
       "3                   Avances en Odontoestomatología  v.19 n.5 2003   \n",
       "4                       Anales de Medicina Interna  v.22 n.4 2005   \n",
       "\n",
       "                                                                      Full_Text_Link  \n",
       "0  http://scielo.isciii.es/scielo.php?script=sci_arttext&pid=S1139-76322015000500009  \n",
       "1  http://scielo.isciii.es/scielo.php?script=sci_arttext&pid=S1130-05582008000400007  \n",
       "2  http://scielo.isciii.es/scielo.php?script=sci_arttext&pid=S0210-48062006000100012  \n",
       "3  http://scielo.isciii.es/scielo.php?script=sci_arttext&pid=S0213-12852003000500002  \n",
       "4  http://scielo.isciii.es/scielo.php?script=sci_arttext&pid=S0212-71992005000400007  "
      ]
     },
     "execution_count": 47,
     "metadata": {},
     "output_type": "execute_result"
    }
   ],
   "source": [
    "train_met.head()"
   ]
  },
  {
   "cell_type": "code",
   "execution_count": 48,
   "metadata": {},
   "outputs": [],
   "source": [
    "train_rel = train_rel.reset_index()"
   ]
  },
  {
   "cell_type": "code",
   "execution_count": 49,
   "metadata": {},
   "outputs": [],
   "source": [
    "train_rel.columns = ['# Document_ID', 'Mention_A_type', 'Mention_A_StartOffset',\n",
    "      'Mention_A', 'Relation_type', 'Mention_B_type',\n",
    "       'Mention_B_StartOffset', 'Mention_B_EndOffset', 'Mention_B']"
   ]
  },
  {
   "cell_type": "code",
   "execution_count": 50,
   "metadata": {},
   "outputs": [],
   "source": [
    "train_rel = train_rel.rename(columns = {'# Document_ID': 'doc_id'})"
   ]
  },
  {
   "cell_type": "code",
   "execution_count": 51,
   "metadata": {},
   "outputs": [
    {
     "data": {
      "text/html": [
       "<div>\n",
       "<style scoped>\n",
       "    .dataframe tbody tr th:only-of-type {\n",
       "        vertical-align: middle;\n",
       "    }\n",
       "\n",
       "    .dataframe tbody tr th {\n",
       "        vertical-align: top;\n",
       "    }\n",
       "\n",
       "    .dataframe thead th {\n",
       "        text-align: right;\n",
       "    }\n",
       "</style>\n",
       "<table border=\"1\" class=\"dataframe\">\n",
       "  <thead>\n",
       "    <tr style=\"text-align: right;\">\n",
       "      <th></th>\n",
       "      <th>doc_id</th>\n",
       "      <th>Mention_A_type</th>\n",
       "      <th>Mention_A_StartOffset</th>\n",
       "      <th>Mention_A</th>\n",
       "      <th>Relation_type</th>\n",
       "      <th>Mention_B_type</th>\n",
       "      <th>Mention_B_StartOffset</th>\n",
       "      <th>Mention_B_EndOffset</th>\n",
       "      <th>Mention_B</th>\n",
       "    </tr>\n",
       "  </thead>\n",
       "  <tbody>\n",
       "    <tr>\n",
       "      <th>0</th>\n",
       "      <td>S1130-01082009000400014-1</td>\n",
       "      <td>SHORT_FORM</td>\n",
       "      <td>476</td>\n",
       "      <td>NPT</td>\n",
       "      <td>SHORT-LONG</td>\n",
       "      <td>LONG_FORM</td>\n",
       "      <td>454.0</td>\n",
       "      <td>474.0</td>\n",
       "      <td>nutrición parenteral</td>\n",
       "    </tr>\n",
       "    <tr>\n",
       "      <th>1</th>\n",
       "      <td>S1130-63432016000100009-1</td>\n",
       "      <td>SHORT_FORM</td>\n",
       "      <td>614</td>\n",
       "      <td>NIHSS</td>\n",
       "      <td>SHORT-LONG</td>\n",
       "      <td>LONG_FORM</td>\n",
       "      <td>621.0</td>\n",
       "      <td>662.0</td>\n",
       "      <td>National Institute of Health Stroke Scale</td>\n",
       "    </tr>\n",
       "    <tr>\n",
       "      <th>2</th>\n",
       "      <td>S1139-76322017000200007-1</td>\n",
       "      <td>SHORT_FORM</td>\n",
       "      <td>1145</td>\n",
       "      <td>CMV</td>\n",
       "      <td>SHORT-LONG</td>\n",
       "      <td>LONG_FORM</td>\n",
       "      <td>1128.0</td>\n",
       "      <td>1143.0</td>\n",
       "      <td>citomegalovirus</td>\n",
       "    </tr>\n",
       "    <tr>\n",
       "      <th>3</th>\n",
       "      <td>S1139-76322017000200007-1</td>\n",
       "      <td>SHORT_FORM</td>\n",
       "      <td>1243</td>\n",
       "      <td>VSG</td>\n",
       "      <td>SHORT-LONG</td>\n",
       "      <td>LONG_FORM</td>\n",
       "      <td>1206.0</td>\n",
       "      <td>1241.0</td>\n",
       "      <td>velocidad de sedimentación globular</td>\n",
       "    </tr>\n",
       "    <tr>\n",
       "      <th>4</th>\n",
       "      <td>S1139-76322017000200007-1</td>\n",
       "      <td>SHORT_FORM</td>\n",
       "      <td>1300</td>\n",
       "      <td>IGRA</td>\n",
       "      <td>SHORT-LONG</td>\n",
       "      <td>LONG_FORM</td>\n",
       "      <td>1267.0</td>\n",
       "      <td>1298.0</td>\n",
       "      <td>interferon-gamma release assays</td>\n",
       "    </tr>\n",
       "  </tbody>\n",
       "</table>\n",
       "</div>"
      ],
      "text/plain": [
       "                      doc_id Mention_A_type Mention_A_StartOffset Mention_A  \\\n",
       "0  S1130-01082009000400014-1     SHORT_FORM                   476       NPT   \n",
       "1  S1130-63432016000100009-1     SHORT_FORM                   614     NIHSS   \n",
       "2  S1139-76322017000200007-1     SHORT_FORM                  1145       CMV   \n",
       "3  S1139-76322017000200007-1     SHORT_FORM                  1243       VSG   \n",
       "4  S1139-76322017000200007-1     SHORT_FORM                  1300      IGRA   \n",
       "\n",
       "  Relation_type Mention_B_type  Mention_B_StartOffset  Mention_B_EndOffset  \\\n",
       "0    SHORT-LONG      LONG_FORM                  454.0                474.0   \n",
       "1    SHORT-LONG      LONG_FORM                  621.0                662.0   \n",
       "2    SHORT-LONG      LONG_FORM                 1128.0               1143.0   \n",
       "3    SHORT-LONG      LONG_FORM                 1206.0               1241.0   \n",
       "4    SHORT-LONG      LONG_FORM                 1267.0               1298.0   \n",
       "\n",
       "                                   Mention_B  \n",
       "0                       nutrición parenteral  \n",
       "1  National Institute of Health Stroke Scale  \n",
       "2                            citomegalovirus  \n",
       "3        velocidad de sedimentación globular  \n",
       "4            interferon-gamma release assays  "
      ]
     },
     "execution_count": 51,
     "metadata": {},
     "output_type": "execute_result"
    }
   ],
   "source": [
    "train_rel.head()"
   ]
  },
  {
   "cell_type": "code",
   "execution_count": 52,
   "metadata": {},
   "outputs": [],
   "source": [
    "train_abbr = train_abbr.rename(columns = {'# Document_ID': 'doc_id'})"
   ]
  },
  {
   "cell_type": "code",
   "execution_count": 53,
   "metadata": {},
   "outputs": [
    {
     "data": {
      "text/plain": [
       "908"
      ]
     },
     "execution_count": 53,
     "metadata": {},
     "output_type": "execute_result"
    }
   ],
   "source": [
    "train_abbr.Definition.nunique()"
   ]
  },
  {
   "cell_type": "code",
   "execution_count": 54,
   "metadata": {},
   "outputs": [
    {
     "data": {
      "text/html": [
       "<div>\n",
       "<style scoped>\n",
       "    .dataframe tbody tr th:only-of-type {\n",
       "        vertical-align: middle;\n",
       "    }\n",
       "\n",
       "    .dataframe tbody tr th {\n",
       "        vertical-align: top;\n",
       "    }\n",
       "\n",
       "    .dataframe thead th {\n",
       "        text-align: right;\n",
       "    }\n",
       "</style>\n",
       "<table border=\"1\" class=\"dataframe\">\n",
       "  <thead>\n",
       "    <tr style=\"text-align: right;\">\n",
       "      <th></th>\n",
       "      <th>doc_id</th>\n",
       "      <th>StartOffset</th>\n",
       "      <th>EndOffset</th>\n",
       "      <th>Abbreviation</th>\n",
       "      <th>Definition</th>\n",
       "      <th>Definition_lemmatized</th>\n",
       "    </tr>\n",
       "  </thead>\n",
       "  <tbody>\n",
       "    <tr>\n",
       "      <th>0</th>\n",
       "      <td>S0210-48062004000500008-1</td>\n",
       "      <td>1650</td>\n",
       "      <td>1652</td>\n",
       "      <td>ml</td>\n",
       "      <td>mililitro</td>\n",
       "      <td>mililitro</td>\n",
       "    </tr>\n",
       "    <tr>\n",
       "      <th>1</th>\n",
       "      <td>S0210-48062004000500008-1</td>\n",
       "      <td>708</td>\n",
       "      <td>709</td>\n",
       "      <td>l</td>\n",
       "      <td>litro</td>\n",
       "      <td>litro</td>\n",
       "    </tr>\n",
       "    <tr>\n",
       "      <th>2</th>\n",
       "      <td>S0210-48062004000500008-1</td>\n",
       "      <td>704</td>\n",
       "      <td>707</td>\n",
       "      <td>mEq</td>\n",
       "      <td>miliequivalente</td>\n",
       "      <td>miliequivalente</td>\n",
       "    </tr>\n",
       "    <tr>\n",
       "      <th>3</th>\n",
       "      <td>S0210-48062004000500008-1</td>\n",
       "      <td>677</td>\n",
       "      <td>681</td>\n",
       "      <td>pCO2</td>\n",
       "      <td>presión parcial de co2</td>\n",
       "      <td>presión parcial de co2</td>\n",
       "    </tr>\n",
       "    <tr>\n",
       "      <th>4</th>\n",
       "      <td>S0210-48062004000500008-1</td>\n",
       "      <td>2287</td>\n",
       "      <td>2290</td>\n",
       "      <td>HLA</td>\n",
       "      <td>human leucocyte antigen</td>\n",
       "      <td>human leucocyte antiger</td>\n",
       "    </tr>\n",
       "  </tbody>\n",
       "</table>\n",
       "</div>"
      ],
      "text/plain": [
       "                      doc_id  StartOffset  EndOffset Abbreviation  \\\n",
       "0  S0210-48062004000500008-1         1650       1652           ml   \n",
       "1  S0210-48062004000500008-1          708        709            l   \n",
       "2  S0210-48062004000500008-1          704        707          mEq   \n",
       "3  S0210-48062004000500008-1          677        681         pCO2   \n",
       "4  S0210-48062004000500008-1         2287       2290          HLA   \n",
       "\n",
       "                Definition    Definition_lemmatized  \n",
       "0                mililitro                mililitro  \n",
       "1                    litro                    litro  \n",
       "2          miliequivalente          miliequivalente  \n",
       "3   presión parcial de co2   presión parcial de co2  \n",
       "4  human leucocyte antigen  human leucocyte antiger  "
      ]
     },
     "execution_count": 54,
     "metadata": {},
     "output_type": "execute_result"
    }
   ],
   "source": [
    "train_abbr.head()"
   ]
  },
  {
   "cell_type": "code",
   "execution_count": 55,
   "metadata": {},
   "outputs": [],
   "source": [
    "train_raw = read_texts(\"../datasets/trainning_set/training_set.raw_text/\")"
   ]
  },
  {
   "cell_type": "code",
   "execution_count": 56,
   "metadata": {},
   "outputs": [],
   "source": [
    "train_raw = train_raw.rename(columns = {'nombre': 'doc_id'})"
   ]
  },
  {
   "cell_type": "code",
   "execution_count": 57,
   "metadata": {},
   "outputs": [
    {
     "data": {
      "text/html": [
       "<div>\n",
       "<style scoped>\n",
       "    .dataframe tbody tr th:only-of-type {\n",
       "        vertical-align: middle;\n",
       "    }\n",
       "\n",
       "    .dataframe tbody tr th {\n",
       "        vertical-align: top;\n",
       "    }\n",
       "\n",
       "    .dataframe thead th {\n",
       "        text-align: right;\n",
       "    }\n",
       "</style>\n",
       "<table border=\"1\" class=\"dataframe\">\n",
       "  <thead>\n",
       "    <tr style=\"text-align: right;\">\n",
       "      <th></th>\n",
       "      <th>doc_id</th>\n",
       "      <th>texto</th>\n",
       "    </tr>\n",
       "  </thead>\n",
       "  <tbody>\n",
       "    <tr>\n",
       "      <th>0</th>\n",
       "      <td>S1130-05582012000300005-1</td>\n",
       "      <td>Acude a nuestras consultas a un paciente que presenta una tumoración cervical izquierda de gran ...</td>\n",
       "    </tr>\n",
       "    <tr>\n",
       "      <th>1</th>\n",
       "      <td>S0212-71992005000400009-1</td>\n",
       "      <td>Se trataba de un varón de 27 años de edad, que había sufrido una neumonía siendo niño y que no e...</td>\n",
       "    </tr>\n",
       "    <tr>\n",
       "      <th>2</th>\n",
       "      <td>S0004-06142008000700015-2</td>\n",
       "      <td>Varón de 33 años fumador de un paquete de cigarrillos al día sin otros antecedentes de interés q...</td>\n",
       "    </tr>\n",
       "    <tr>\n",
       "      <th>3</th>\n",
       "      <td>S0210-56912006000800008-1</td>\n",
       "      <td>Hombre de 42 años, bebedor de más de 100 g de etanol al día, sin otros antecedentes de interés, ...</td>\n",
       "    </tr>\n",
       "    <tr>\n",
       "      <th>4</th>\n",
       "      <td>S0376-78922009000300010-1</td>\n",
       "      <td>Paciente de 18 años de edad que 5 meses antes había sido víctima de grave quemadura eléctrica po...</td>\n",
       "    </tr>\n",
       "  </tbody>\n",
       "</table>\n",
       "</div>"
      ],
      "text/plain": [
       "                      doc_id  \\\n",
       "0  S1130-05582012000300005-1   \n",
       "1  S0212-71992005000400009-1   \n",
       "2  S0004-06142008000700015-2   \n",
       "3  S0210-56912006000800008-1   \n",
       "4  S0376-78922009000300010-1   \n",
       "\n",
       "                                                                                                 texto  \n",
       "0  Acude a nuestras consultas a un paciente que presenta una tumoración cervical izquierda de gran ...  \n",
       "1  Se trataba de un varón de 27 años de edad, que había sufrido una neumonía siendo niño y que no e...  \n",
       "2  Varón de 33 años fumador de un paquete de cigarrillos al día sin otros antecedentes de interés q...  \n",
       "3  Hombre de 42 años, bebedor de más de 100 g de etanol al día, sin otros antecedentes de interés, ...  \n",
       "4  Paciente de 18 años de edad que 5 meses antes había sido víctima de grave quemadura eléctrica po...  "
      ]
     },
     "execution_count": 57,
     "metadata": {},
     "output_type": "execute_result"
    }
   ],
   "source": [
    "train_raw.head()"
   ]
  },
  {
   "cell_type": "markdown",
   "metadata": {},
   "source": [
    "## Prepare Train Data"
   ]
  },
  {
   "cell_type": "markdown",
   "metadata": {},
   "source": [
    "### Preprocessing"
   ]
  },
  {
   "cell_type": "code",
   "execution_count": 58,
   "metadata": {},
   "outputs": [],
   "source": [
    "train = train_raw.merge(train_abbr[['doc_id', 'Abbreviation', 'Definition_lemmatized']], on = 'doc_id', how = 'left')"
   ]
  },
  {
   "cell_type": "code",
   "execution_count": 59,
   "metadata": {},
   "outputs": [],
   "source": [
    "train = train.merge(train_abbr, on = ['doc_id', 'Abbreviation'], how = 'left')"
   ]
  },
  {
   "cell_type": "code",
   "execution_count": 60,
   "metadata": {},
   "outputs": [],
   "source": [
    "train = train.drop_duplicates()"
   ]
  },
  {
   "cell_type": "code",
   "execution_count": 61,
   "metadata": {},
   "outputs": [],
   "source": [
    "train = train[['doc_id', 'texto', 'Abbreviation', 'Definition_lemmatized_x', 'StartOffset', 'EndOffset']]"
   ]
  },
  {
   "cell_type": "code",
   "execution_count": 62,
   "metadata": {},
   "outputs": [],
   "source": [
    "train = train.rename(columns = {'Definition_lemmatized_x':'Definition'})"
   ]
  },
  {
   "cell_type": "code",
   "execution_count": 63,
   "metadata": {},
   "outputs": [
    {
     "data": {
      "text/html": [
       "<div>\n",
       "<style scoped>\n",
       "    .dataframe tbody tr th:only-of-type {\n",
       "        vertical-align: middle;\n",
       "    }\n",
       "\n",
       "    .dataframe tbody tr th {\n",
       "        vertical-align: top;\n",
       "    }\n",
       "\n",
       "    .dataframe thead th {\n",
       "        text-align: right;\n",
       "    }\n",
       "</style>\n",
       "<table border=\"1\" class=\"dataframe\">\n",
       "  <thead>\n",
       "    <tr style=\"text-align: right;\">\n",
       "      <th></th>\n",
       "      <th>doc_id</th>\n",
       "      <th>texto</th>\n",
       "      <th>Abbreviation</th>\n",
       "      <th>Definition</th>\n",
       "      <th>StartOffset</th>\n",
       "      <th>EndOffset</th>\n",
       "    </tr>\n",
       "  </thead>\n",
       "  <tbody>\n",
       "    <tr>\n",
       "      <th>0</th>\n",
       "      <td>S1130-05582012000300005-1</td>\n",
       "      <td>Acude a nuestras consultas a un paciente que presenta una tumoración cervical izquierda de gran ...</td>\n",
       "      <td>PAAF</td>\n",
       "      <td>punción aspiración con aguja fino</td>\n",
       "      <td>1006.0</td>\n",
       "      <td>1010.0</td>\n",
       "    </tr>\n",
       "    <tr>\n",
       "      <th>1</th>\n",
       "      <td>S1130-05582012000300005-1</td>\n",
       "      <td>Acude a nuestras consultas a un paciente que presenta una tumoración cervical izquierda de gran ...</td>\n",
       "      <td>RM</td>\n",
       "      <td>resonancia magnético</td>\n",
       "      <td>789.0</td>\n",
       "      <td>791.0</td>\n",
       "    </tr>\n",
       "    <tr>\n",
       "      <th>2</th>\n",
       "      <td>S1130-05582012000300005-1</td>\n",
       "      <td>Acude a nuestras consultas a un paciente que presenta una tumoración cervical izquierda de gran ...</td>\n",
       "      <td>cm</td>\n",
       "      <td>centímetro</td>\n",
       "      <td>1345.0</td>\n",
       "      <td>1347.0</td>\n",
       "    </tr>\n",
       "    <tr>\n",
       "      <th>3</th>\n",
       "      <td>S1130-05582012000300005-1</td>\n",
       "      <td>Acude a nuestras consultas a un paciente que presenta una tumoración cervical izquierda de gran ...</td>\n",
       "      <td>cm</td>\n",
       "      <td>centímetro</td>\n",
       "      <td>1217.0</td>\n",
       "      <td>1219.0</td>\n",
       "    </tr>\n",
       "    <tr>\n",
       "      <th>4</th>\n",
       "      <td>S1130-05582012000300005-1</td>\n",
       "      <td>Acude a nuestras consultas a un paciente que presenta una tumoración cervical izquierda de gran ...</td>\n",
       "      <td>g</td>\n",
       "      <td>gramo</td>\n",
       "      <td>1304.0</td>\n",
       "      <td>1305.0</td>\n",
       "    </tr>\n",
       "  </tbody>\n",
       "</table>\n",
       "</div>"
      ],
      "text/plain": [
       "                      doc_id  \\\n",
       "0  S1130-05582012000300005-1   \n",
       "1  S1130-05582012000300005-1   \n",
       "2  S1130-05582012000300005-1   \n",
       "3  S1130-05582012000300005-1   \n",
       "4  S1130-05582012000300005-1   \n",
       "\n",
       "                                                                                                 texto  \\\n",
       "0  Acude a nuestras consultas a un paciente que presenta una tumoración cervical izquierda de gran ...   \n",
       "1  Acude a nuestras consultas a un paciente que presenta una tumoración cervical izquierda de gran ...   \n",
       "2  Acude a nuestras consultas a un paciente que presenta una tumoración cervical izquierda de gran ...   \n",
       "3  Acude a nuestras consultas a un paciente que presenta una tumoración cervical izquierda de gran ...   \n",
       "4  Acude a nuestras consultas a un paciente que presenta una tumoración cervical izquierda de gran ...   \n",
       "\n",
       "  Abbreviation                         Definition  StartOffset  EndOffset  \n",
       "0         PAAF  punción aspiración con aguja fino       1006.0     1010.0  \n",
       "1           RM               resonancia magnético        789.0      791.0  \n",
       "2           cm                         centímetro       1345.0     1347.0  \n",
       "3           cm                         centímetro       1217.0     1219.0  \n",
       "4            g                              gramo       1304.0     1305.0  "
      ]
     },
     "execution_count": 63,
     "metadata": {},
     "output_type": "execute_result"
    }
   ],
   "source": [
    "train.head()"
   ]
  },
  {
   "cell_type": "code",
   "execution_count": 64,
   "metadata": {},
   "outputs": [],
   "source": [
    "train = train.rename(columns = {'Abbreviation': 'short_form', 'Definition': 'long_form'})"
   ]
  },
  {
   "cell_type": "code",
   "execution_count": 65,
   "metadata": {},
   "outputs": [],
   "source": [
    "train = train.dropna(subset = ['short_form', 'long_form'])"
   ]
  },
  {
   "cell_type": "code",
   "execution_count": 66,
   "metadata": {},
   "outputs": [],
   "source": [
    "train[['StartOffset', 'EndOffset']] = train[['StartOffset', 'EndOffset']].astype(int)"
   ]
  },
  {
   "cell_type": "markdown",
   "metadata": {},
   "source": [
    "Clean long forms to delete acents, string punctuation etc"
   ]
  },
  {
   "cell_type": "code",
   "execution_count": 67,
   "metadata": {},
   "outputs": [],
   "source": [
    "train['long_form'] = train['long_form'].map(clean_text)"
   ]
  },
  {
   "cell_type": "markdown",
   "metadata": {},
   "source": [
    "Transform dataframe to a list of dictionaries"
   ]
  },
  {
   "cell_type": "code",
   "execution_count": 68,
   "metadata": {},
   "outputs": [],
   "source": [
    "train_data = train[['doc_id', 'texto', 'short_form', 'long_form', 'StartOffset', 'EndOffset']].to_dict('records')"
   ]
  },
  {
   "cell_type": "markdown",
   "metadata": {},
   "source": [
    "### Get the text before and after the SF"
   ]
  },
  {
   "cell_type": "code",
   "execution_count": 69,
   "metadata": {},
   "outputs": [],
   "source": [
    "train_ndata, sf_not_found = get_f_b_context_text(train_data)"
   ]
  },
  {
   "cell_type": "markdown",
   "metadata": {},
   "source": [
    "Check if any SF is not founded in the text"
   ]
  },
  {
   "cell_type": "code",
   "execution_count": 70,
   "metadata": {},
   "outputs": [],
   "source": [
    "sf_not_found_set = set(sf_not_found)"
   ]
  },
  {
   "cell_type": "code",
   "execution_count": 71,
   "metadata": {},
   "outputs": [
    {
     "data": {
      "text/plain": [
       "0"
      ]
     },
     "execution_count": 71,
     "metadata": {},
     "output_type": "execute_result"
    }
   ],
   "source": [
    "len(sf_not_found_set)"
   ]
  },
  {
   "cell_type": "markdown",
   "metadata": {},
   "source": [
    "Now clean the texts, remove string punctuation, accents, lower case, remove double spaces, separate numbers from sf"
   ]
  },
  {
   "cell_type": "code",
   "execution_count": 72,
   "metadata": {},
   "outputs": [],
   "source": [
    "# def clean_text_after(data):\n",
    "    \n",
    "#     for instance in data:\n",
    "#         instance[1] = clean_text(instance[1]).lower()\n",
    "#         instance[2] = clean_text(instance[2]).lower()\n",
    "#         instance[1] = re.sub(r'(\\d+)', r'\\g<1> ', instance[1]) #metemos espacio entre número y acrónimos que quedan pegados    \n",
    "#         instance[2] = re.sub(r'(\\d+)', r'\\g<1> ', instance[2])\n",
    "#         instance[1] = re.sub(r'\\s+', ' ', instance[1]).strip()\n",
    "#         instance[2] = re.sub(r'\\s+', ' ', instance[2]).strip()\n",
    "#     return data\n",
    "        "
   ]
  },
  {
   "cell_type": "code",
   "execution_count": 73,
   "metadata": {},
   "outputs": [],
   "source": [
    "# train_ndata = clean_text_after(train_ndata)"
   ]
  },
  {
   "cell_type": "markdown",
   "metadata": {},
   "source": [
    "### Get the contexts "
   ]
  },
  {
   "cell_type": "markdown",
   "metadata": {},
   "source": [
    "From the texts before and after the sf, we limit the number of words"
   ]
  },
  {
   "cell_type": "code",
   "execution_count": 74,
   "metadata": {},
   "outputs": [],
   "source": [
    "n_step_f = 30 #number of words to select from the forward context\n",
    "n_step_b = 30#number of words to select from the backward context"
   ]
  },
  {
   "cell_type": "code",
   "execution_count": 75,
   "metadata": {},
   "outputs": [],
   "source": [
    "train_ndata = limit_context(train_ndata)"
   ]
  },
  {
   "cell_type": "code",
   "execution_count": 76,
   "metadata": {},
   "outputs": [
    {
     "data": {
      "text/plain": [
       "['PAAF',\n",
       " 'no invadía estructuras vecinas y con una densidad grasa . Se realiza la toma de una muestra mediante punción-aspiración con aguja fina ( < start > PAAF < end >',\n",
       " 'que confirmó las sospechas iniciales de lipoma . Se decidió realizar escisión quirúrgica de la tumoración . Se realizó un abordaje a nivel de la línea posterior del cabello ,',\n",
       " 'puncion aspiracion aguja fino']"
      ]
     },
     "execution_count": 76,
     "metadata": {},
     "output_type": "execute_result"
    }
   ],
   "source": [
    "train_ndata[0]"
   ]
  },
  {
   "cell_type": "markdown",
   "metadata": {},
   "source": [
    "### Transform into df grouped by LF"
   ]
  },
  {
   "cell_type": "code",
   "execution_count": 77,
   "metadata": {},
   "outputs": [],
   "source": [
    "data_dic = create_dict(train_ndata)"
   ]
  },
  {
   "cell_type": "code",
   "execution_count": 78,
   "metadata": {},
   "outputs": [],
   "source": [
    "data_df = pd.DataFrame(data_dic)"
   ]
  },
  {
   "cell_type": "markdown",
   "metadata": {},
   "source": [
    "Asign an id to each LF"
   ]
  },
  {
   "cell_type": "code",
   "execution_count": 79,
   "metadata": {},
   "outputs": [],
   "source": [
    "data_df = data_df.assign(id=(data_df['long_form']).astype('category').cat.codes)"
   ]
  },
  {
   "cell_type": "code",
   "execution_count": 80,
   "metadata": {},
   "outputs": [
    {
     "data": {
      "text/html": [
       "<div>\n",
       "<style scoped>\n",
       "    .dataframe tbody tr th:only-of-type {\n",
       "        vertical-align: middle;\n",
       "    }\n",
       "\n",
       "    .dataframe tbody tr th {\n",
       "        vertical-align: top;\n",
       "    }\n",
       "\n",
       "    .dataframe thead th {\n",
       "        text-align: right;\n",
       "    }\n",
       "</style>\n",
       "<table border=\"1\" class=\"dataframe\">\n",
       "  <thead>\n",
       "    <tr style=\"text-align: right;\">\n",
       "      <th></th>\n",
       "      <th>short_form</th>\n",
       "      <th>context</th>\n",
       "      <th>long_form</th>\n",
       "      <th>id</th>\n",
       "    </tr>\n",
       "  </thead>\n",
       "  <tbody>\n",
       "    <tr>\n",
       "      <th>0</th>\n",
       "      <td>PAAF</td>\n",
       "      <td>no invadía estructuras vecinas y con una densidad grasa . Se realiza la toma de una muestra medi...</td>\n",
       "      <td>puncion aspiracion aguja fino</td>\n",
       "      <td>597</td>\n",
       "    </tr>\n",
       "    <tr>\n",
       "      <th>1</th>\n",
       "      <td>RM</td>\n",
       "      <td>y la exploración intraoral fue normal . El resto de la exploración física fue completamente anod...</td>\n",
       "      <td>resonancia magnetico</td>\n",
       "      <td>625</td>\n",
       "    </tr>\n",
       "    <tr>\n",
       "      <th>2</th>\n",
       "      <td>cm</td>\n",
       "      <td>5*10cm para mejorar el cierre directo . Durante la intervención se obtuvo una pieza de 459,5g de...</td>\n",
       "      <td>centimetro</td>\n",
       "      <td>125</td>\n",
       "    </tr>\n",
       "    <tr>\n",
       "      <th>3</th>\n",
       "      <td>cm</td>\n",
       "      <td>de la tumoración . Se realizó un abordaje a nivel de la línea posterior del cabello , resecando ...</td>\n",
       "      <td>centimetro</td>\n",
       "      <td>125</td>\n",
       "    </tr>\n",
       "    <tr>\n",
       "      <th>4</th>\n",
       "      <td>g</td>\n",
       "      <td>cabello , resecando un huso cutáneo de 5*10cm para mejorar el cierre directo . Durante la interv...</td>\n",
       "      <td>gramo</td>\n",
       "      <td>328</td>\n",
       "    </tr>\n",
       "  </tbody>\n",
       "</table>\n",
       "</div>"
      ],
      "text/plain": [
       "  short_form  \\\n",
       "0       PAAF   \n",
       "1         RM   \n",
       "2         cm   \n",
       "3         cm   \n",
       "4          g   \n",
       "\n",
       "                                                                                               context  \\\n",
       "0  no invadía estructuras vecinas y con una densidad grasa . Se realiza la toma de una muestra medi...   \n",
       "1  y la exploración intraoral fue normal . El resto de la exploración física fue completamente anod...   \n",
       "2  5*10cm para mejorar el cierre directo . Durante la intervención se obtuvo una pieza de 459,5g de...   \n",
       "3  de la tumoración . Se realizó un abordaje a nivel de la línea posterior del cabello , resecando ...   \n",
       "4  cabello , resecando un huso cutáneo de 5*10cm para mejorar el cierre directo . Durante la interv...   \n",
       "\n",
       "                       long_form   id  \n",
       "0  puncion aspiracion aguja fino  597  \n",
       "1           resonancia magnetico  625  \n",
       "2                     centimetro  125  \n",
       "3                     centimetro  125  \n",
       "4                          gramo  328  "
      ]
     },
     "execution_count": 80,
     "metadata": {},
     "output_type": "execute_result"
    }
   ],
   "source": [
    "data_df.head()"
   ]
  },
  {
   "cell_type": "code",
   "execution_count": 81,
   "metadata": {},
   "outputs": [
    {
     "data": {
      "text/plain": [
       "(4355, 4)"
      ]
     },
     "execution_count": 81,
     "metadata": {},
     "output_type": "execute_result"
    }
   ],
   "source": [
    "data_df.shape"
   ]
  },
  {
   "cell_type": "markdown",
   "metadata": {},
   "source": [
    "Vamos a unir cada SF con todas las posibles LF, una por cada registro, para que posteriormente el modelo funcione de forma binaria asignando la probabilidad de que ese sea su LF"
   ]
  },
  {
   "cell_type": "code",
   "execution_count": 82,
   "metadata": {},
   "outputs": [],
   "source": [
    "sf_lf_unique = data_df[['short_form', 'long_form']].drop_duplicates()"
   ]
  },
  {
   "cell_type": "code",
   "execution_count": 83,
   "metadata": {},
   "outputs": [
    {
     "data": {
      "text/plain": [
       "(871, 2)"
      ]
     },
     "execution_count": 83,
     "metadata": {},
     "output_type": "execute_result"
    }
   ],
   "source": [
    "sf_lf_unique.shape"
   ]
  },
  {
   "cell_type": "code",
   "execution_count": 84,
   "metadata": {},
   "outputs": [
    {
     "data": {
      "text/html": [
       "<div>\n",
       "<style scoped>\n",
       "    .dataframe tbody tr th:only-of-type {\n",
       "        vertical-align: middle;\n",
       "    }\n",
       "\n",
       "    .dataframe tbody tr th {\n",
       "        vertical-align: top;\n",
       "    }\n",
       "\n",
       "    .dataframe thead th {\n",
       "        text-align: right;\n",
       "    }\n",
       "</style>\n",
       "<table border=\"1\" class=\"dataframe\">\n",
       "  <thead>\n",
       "    <tr style=\"text-align: right;\">\n",
       "      <th></th>\n",
       "      <th>short_form</th>\n",
       "      <th>long_form</th>\n",
       "    </tr>\n",
       "  </thead>\n",
       "  <tbody>\n",
       "    <tr>\n",
       "      <th>1742</th>\n",
       "      <td>5-FU</td>\n",
       "      <td>5fluorouracilo</td>\n",
       "    </tr>\n",
       "    <tr>\n",
       "      <th>899</th>\n",
       "      <td>67Ga</td>\n",
       "      <td>gallium67</td>\n",
       "    </tr>\n",
       "    <tr>\n",
       "      <th>3355</th>\n",
       "      <td>99-MDP</td>\n",
       "      <td>99 metilendifosfonato</td>\n",
       "    </tr>\n",
       "    <tr>\n",
       "      <th>901</th>\n",
       "      <td>99Tc</td>\n",
       "      <td>tecnecio99</td>\n",
       "    </tr>\n",
       "    <tr>\n",
       "      <th>669</th>\n",
       "      <td>A</td>\n",
       "      <td>antigeno leucocitario humano</td>\n",
       "    </tr>\n",
       "  </tbody>\n",
       "</table>\n",
       "</div>"
      ],
      "text/plain": [
       "     short_form                     long_form\n",
       "1742       5-FU                5fluorouracilo\n",
       "899        67Ga                     gallium67\n",
       "3355     99-MDP         99 metilendifosfonato\n",
       "901        99Tc                    tecnecio99\n",
       "669           A  antigeno leucocitario humano"
      ]
     },
     "execution_count": 84,
     "metadata": {},
     "output_type": "execute_result"
    }
   ],
   "source": [
    "sf_lf_unique.sort_values('short_form').head()"
   ]
  },
  {
   "cell_type": "code",
   "execution_count": 95,
   "metadata": {},
   "outputs": [],
   "source": [
    "data_merged = data_df.merge(sf_lf_unique, on = 'short_form', how = 'left')"
   ]
  },
  {
   "cell_type": "code",
   "execution_count": 96,
   "metadata": {},
   "outputs": [
    {
     "data": {
      "text/plain": [
       "(6360, 5)"
      ]
     },
     "execution_count": 96,
     "metadata": {},
     "output_type": "execute_result"
    }
   ],
   "source": [
    "data_merged.shape"
   ]
  },
  {
   "cell_type": "code",
   "execution_count": 99,
   "metadata": {},
   "outputs": [],
   "source": [
    "pd.set_option('display.max_colwidth', 100)"
   ]
  },
  {
   "cell_type": "code",
   "execution_count": 100,
   "metadata": {},
   "outputs": [
    {
     "data": {
      "text/html": [
       "<div>\n",
       "<style scoped>\n",
       "    .dataframe tbody tr th:only-of-type {\n",
       "        vertical-align: middle;\n",
       "    }\n",
       "\n",
       "    .dataframe tbody tr th {\n",
       "        vertical-align: top;\n",
       "    }\n",
       "\n",
       "    .dataframe thead th {\n",
       "        text-align: right;\n",
       "    }\n",
       "</style>\n",
       "<table border=\"1\" class=\"dataframe\">\n",
       "  <thead>\n",
       "    <tr style=\"text-align: right;\">\n",
       "      <th></th>\n",
       "      <th>short_form</th>\n",
       "      <th>context</th>\n",
       "      <th>long_form</th>\n",
       "      <th>id</th>\n",
       "    </tr>\n",
       "  </thead>\n",
       "  <tbody>\n",
       "    <tr>\n",
       "      <th>1743</th>\n",
       "      <td>5-FU</td>\n",
       "      <td>% . En la exploración física , cabe destacar una marcada pigmentación cutánea generalizada y alo...</td>\n",
       "      <td>5fluorouracilo</td>\n",
       "      <td>1</td>\n",
       "    </tr>\n",
       "    <tr>\n",
       "      <th>1744</th>\n",
       "      <td>5-FU</td>\n",
       "      <td>con esquema mFOLFOX 6 + Bevacizumab ( oxaliplatino 85 mg/m2 i.v . día 1 , leucovorin 200 mg/m2 i...</td>\n",
       "      <td>5fluorouracilo</td>\n",
       "      <td>1</td>\n",
       "    </tr>\n",
       "    <tr>\n",
       "      <th>1742</th>\n",
       "      <td>5-FU</td>\n",
       "      <td>i.v . día 1 , leucovorin 200 mg/m2 i.v . día 1 , 5-FU 400 mg/m2 en bolo i.v . día 1 , &lt; start &gt; ...</td>\n",
       "      <td>5fluorouracilo</td>\n",
       "      <td>1</td>\n",
       "    </tr>\n",
       "    <tr>\n",
       "      <th>899</th>\n",
       "      <td>67Ga</td>\n",
       "      <td>trocánter izquierdo . La radiología de pelvis mostró una única lesión lítica en la cabeza femora...</td>\n",
       "      <td>gallium67</td>\n",
       "      <td>303</td>\n",
       "    </tr>\n",
       "    <tr>\n",
       "      <th>3355</th>\n",
       "      <td>99-MDP</td>\n",
       "      <td>resección hepática parcial , al mes de su diagnostico . Previamente se había realizado un estudi...</td>\n",
       "      <td>99 metilendifosfonato</td>\n",
       "      <td>2</td>\n",
       "    </tr>\n",
       "  </tbody>\n",
       "</table>\n",
       "</div>"
      ],
      "text/plain": [
       "     short_form  \\\n",
       "1743       5-FU   \n",
       "1744       5-FU   \n",
       "1742       5-FU   \n",
       "899        67Ga   \n",
       "3355     99-MDP   \n",
       "\n",
       "                                                                                                  context  \\\n",
       "1743  % . En la exploración física , cabe destacar una marcada pigmentación cutánea generalizada y alo...   \n",
       "1744  con esquema mFOLFOX 6 + Bevacizumab ( oxaliplatino 85 mg/m2 i.v . día 1 , leucovorin 200 mg/m2 i...   \n",
       "1742  i.v . día 1 , leucovorin 200 mg/m2 i.v . día 1 , 5-FU 400 mg/m2 en bolo i.v . día 1 , < start > ...   \n",
       "899   trocánter izquierdo . La radiología de pelvis mostró una única lesión lítica en la cabeza femora...   \n",
       "3355  resección hepática parcial , al mes de su diagnostico . Previamente se había realizado un estudi...   \n",
       "\n",
       "                  long_form   id  \n",
       "1743         5fluorouracilo    1  \n",
       "1744         5fluorouracilo    1  \n",
       "1742         5fluorouracilo    1  \n",
       "899               gallium67  303  \n",
       "3355  99 metilendifosfonato    2  "
      ]
     },
     "execution_count": 100,
     "metadata": {},
     "output_type": "execute_result"
    }
   ],
   "source": [
    "data_df.sort_values(['short_form', 'context']).head()"
   ]
  },
  {
   "cell_type": "code",
   "execution_count": 103,
   "metadata": {},
   "outputs": [
    {
     "data": {
      "text/html": [
       "<div>\n",
       "<style scoped>\n",
       "    .dataframe tbody tr th:only-of-type {\n",
       "        vertical-align: middle;\n",
       "    }\n",
       "\n",
       "    .dataframe tbody tr th {\n",
       "        vertical-align: top;\n",
       "    }\n",
       "\n",
       "    .dataframe thead th {\n",
       "        text-align: right;\n",
       "    }\n",
       "</style>\n",
       "<table border=\"1\" class=\"dataframe\">\n",
       "  <thead>\n",
       "    <tr style=\"text-align: right;\">\n",
       "      <th></th>\n",
       "      <th>short_form</th>\n",
       "      <th>context</th>\n",
       "      <th>long_form_x</th>\n",
       "      <th>id</th>\n",
       "      <th>long_form_y</th>\n",
       "    </tr>\n",
       "  </thead>\n",
       "  <tbody>\n",
       "    <tr>\n",
       "      <th>2640</th>\n",
       "      <td>5-FU</td>\n",
       "      <td>% . En la exploración física , cabe destacar una marcada pigmentación cutánea generalizada y alo...</td>\n",
       "      <td>5fluorouracilo</td>\n",
       "      <td>1</td>\n",
       "      <td>5fluorouracilo</td>\n",
       "    </tr>\n",
       "    <tr>\n",
       "      <th>2641</th>\n",
       "      <td>5-FU</td>\n",
       "      <td>con esquema mFOLFOX 6 + Bevacizumab ( oxaliplatino 85 mg/m2 i.v . día 1 , leucovorin 200 mg/m2 i...</td>\n",
       "      <td>5fluorouracilo</td>\n",
       "      <td>1</td>\n",
       "      <td>5fluorouracilo</td>\n",
       "    </tr>\n",
       "    <tr>\n",
       "      <th>2639</th>\n",
       "      <td>5-FU</td>\n",
       "      <td>i.v . día 1 , leucovorin 200 mg/m2 i.v . día 1 , 5-FU 400 mg/m2 en bolo i.v . día 1 , &lt; start &gt; ...</td>\n",
       "      <td>5fluorouracilo</td>\n",
       "      <td>1</td>\n",
       "      <td>5fluorouracilo</td>\n",
       "    </tr>\n",
       "    <tr>\n",
       "      <th>1336</th>\n",
       "      <td>67Ga</td>\n",
       "      <td>trocánter izquierdo . La radiología de pelvis mostró una única lesión lítica en la cabeza femora...</td>\n",
       "      <td>gallium67</td>\n",
       "      <td>303</td>\n",
       "      <td>gallium67</td>\n",
       "    </tr>\n",
       "    <tr>\n",
       "      <th>4944</th>\n",
       "      <td>99-MDP</td>\n",
       "      <td>resección hepática parcial , al mes de su diagnostico . Previamente se había realizado un estudi...</td>\n",
       "      <td>99 metilendifosfonato</td>\n",
       "      <td>2</td>\n",
       "      <td>99 metilendifosfonato</td>\n",
       "    </tr>\n",
       "  </tbody>\n",
       "</table>\n",
       "</div>"
      ],
      "text/plain": [
       "     short_form  \\\n",
       "2640       5-FU   \n",
       "2641       5-FU   \n",
       "2639       5-FU   \n",
       "1336       67Ga   \n",
       "4944     99-MDP   \n",
       "\n",
       "                                                                                                  context  \\\n",
       "2640  % . En la exploración física , cabe destacar una marcada pigmentación cutánea generalizada y alo...   \n",
       "2641  con esquema mFOLFOX 6 + Bevacizumab ( oxaliplatino 85 mg/m2 i.v . día 1 , leucovorin 200 mg/m2 i...   \n",
       "2639  i.v . día 1 , leucovorin 200 mg/m2 i.v . día 1 , 5-FU 400 mg/m2 en bolo i.v . día 1 , < start > ...   \n",
       "1336  trocánter izquierdo . La radiología de pelvis mostró una única lesión lítica en la cabeza femora...   \n",
       "4944  resección hepática parcial , al mes de su diagnostico . Previamente se había realizado un estudi...   \n",
       "\n",
       "                long_form_x   id            long_form_y  \n",
       "2640         5fluorouracilo    1         5fluorouracilo  \n",
       "2641         5fluorouracilo    1         5fluorouracilo  \n",
       "2639         5fluorouracilo    1         5fluorouracilo  \n",
       "1336              gallium67  303              gallium67  \n",
       "4944  99 metilendifosfonato    2  99 metilendifosfonato  "
      ]
     },
     "execution_count": 103,
     "metadata": {},
     "output_type": "execute_result"
    }
   ],
   "source": [
    "data_merged.sort_values(['short_form', 'context']).head()"
   ]
  },
  {
   "cell_type": "markdown",
   "metadata": {},
   "source": [
    "El label debe de ser 0 o 1, es decir, si la LF que le corresponde es la que se le asigna. Por ello creamos una etiqueta binaria."
   ]
  },
  {
   "cell_type": "code",
   "execution_count": 104,
   "metadata": {},
   "outputs": [],
   "source": [
    "def get_label(row):\n",
    "    if row['long_form_x'] == row['long_form_y']:\n",
    "        return 1\n",
    "    else:\n",
    "        return 0"
   ]
  },
  {
   "cell_type": "code",
   "execution_count": 105,
   "metadata": {},
   "outputs": [],
   "source": [
    "data_merged['label'] = data_merged.apply(get_label, axis = 1)"
   ]
  },
  {
   "cell_type": "code",
   "execution_count": 107,
   "metadata": {},
   "outputs": [
    {
     "data": {
      "text/html": [
       "<div>\n",
       "<style scoped>\n",
       "    .dataframe tbody tr th:only-of-type {\n",
       "        vertical-align: middle;\n",
       "    }\n",
       "\n",
       "    .dataframe tbody tr th {\n",
       "        vertical-align: top;\n",
       "    }\n",
       "\n",
       "    .dataframe thead th {\n",
       "        text-align: right;\n",
       "    }\n",
       "</style>\n",
       "<table border=\"1\" class=\"dataframe\">\n",
       "  <thead>\n",
       "    <tr style=\"text-align: right;\">\n",
       "      <th></th>\n",
       "      <th>short_form</th>\n",
       "      <th>context</th>\n",
       "      <th>long_form_x</th>\n",
       "      <th>id</th>\n",
       "      <th>long_form_y</th>\n",
       "      <th>label</th>\n",
       "    </tr>\n",
       "  </thead>\n",
       "  <tbody>\n",
       "    <tr>\n",
       "      <th>0</th>\n",
       "      <td>PAAF</td>\n",
       "      <td>no invadía estructuras vecinas y con una densidad grasa . Se realiza la toma de una muestra medi...</td>\n",
       "      <td>puncion aspiracion aguja fino</td>\n",
       "      <td>597</td>\n",
       "      <td>puncion aspiracion aguja fino</td>\n",
       "      <td>1</td>\n",
       "    </tr>\n",
       "    <tr>\n",
       "      <th>1</th>\n",
       "      <td>PAAF</td>\n",
       "      <td>no invadía estructuras vecinas y con una densidad grasa . Se realiza la toma de una muestra medi...</td>\n",
       "      <td>puncion aspiracion aguja fino</td>\n",
       "      <td>597</td>\n",
       "      <td>puncion aspirativo aguja fino</td>\n",
       "      <td>0</td>\n",
       "    </tr>\n",
       "    <tr>\n",
       "      <th>2</th>\n",
       "      <td>RM</td>\n",
       "      <td>y la exploración intraoral fue normal . El resto de la exploración física fue completamente anod...</td>\n",
       "      <td>resonancia magnetico</td>\n",
       "      <td>625</td>\n",
       "      <td>resonancia magnetico</td>\n",
       "      <td>1</td>\n",
       "    </tr>\n",
       "    <tr>\n",
       "      <th>3</th>\n",
       "      <td>cm</td>\n",
       "      <td>5*10cm para mejorar el cierre directo . Durante la intervención se obtuvo una pieza de 459,5g de...</td>\n",
       "      <td>centimetro</td>\n",
       "      <td>125</td>\n",
       "      <td>centimetro</td>\n",
       "      <td>1</td>\n",
       "    </tr>\n",
       "    <tr>\n",
       "      <th>4</th>\n",
       "      <td>cm</td>\n",
       "      <td>5*10cm para mejorar el cierre directo . Durante la intervención se obtuvo una pieza de 459,5g de...</td>\n",
       "      <td>centimetro</td>\n",
       "      <td>125</td>\n",
       "      <td>centimetro agua</td>\n",
       "      <td>0</td>\n",
       "    </tr>\n",
       "  </tbody>\n",
       "</table>\n",
       "</div>"
      ],
      "text/plain": [
       "  short_form  \\\n",
       "0       PAAF   \n",
       "1       PAAF   \n",
       "2         RM   \n",
       "3         cm   \n",
       "4         cm   \n",
       "\n",
       "                                                                                               context  \\\n",
       "0  no invadía estructuras vecinas y con una densidad grasa . Se realiza la toma de una muestra medi...   \n",
       "1  no invadía estructuras vecinas y con una densidad grasa . Se realiza la toma de una muestra medi...   \n",
       "2  y la exploración intraoral fue normal . El resto de la exploración física fue completamente anod...   \n",
       "3  5*10cm para mejorar el cierre directo . Durante la intervención se obtuvo una pieza de 459,5g de...   \n",
       "4  5*10cm para mejorar el cierre directo . Durante la intervención se obtuvo una pieza de 459,5g de...   \n",
       "\n",
       "                     long_form_x   id                    long_form_y  label  \n",
       "0  puncion aspiracion aguja fino  597  puncion aspiracion aguja fino      1  \n",
       "1  puncion aspiracion aguja fino  597  puncion aspirativo aguja fino      0  \n",
       "2           resonancia magnetico  625           resonancia magnetico      1  \n",
       "3                     centimetro  125                     centimetro      1  \n",
       "4                     centimetro  125                centimetro agua      0  "
      ]
     },
     "execution_count": 107,
     "metadata": {},
     "output_type": "execute_result"
    }
   ],
   "source": [
    "data_merged.head()"
   ]
  },
  {
   "cell_type": "code",
   "execution_count": 108,
   "metadata": {},
   "outputs": [],
   "source": [
    "data_merged = data_merged[['short_form', 'context', 'long_form_y', 'label']]"
   ]
  },
  {
   "cell_type": "code",
   "execution_count": 109,
   "metadata": {},
   "outputs": [],
   "source": [
    "data_merged = data_merged.rename(columns = {'long_form_y':'long_form'})"
   ]
  },
  {
   "cell_type": "code",
   "execution_count": 110,
   "metadata": {},
   "outputs": [],
   "source": [
    "data_merged.reset_index(drop = True, inplace = True)"
   ]
  },
  {
   "cell_type": "code",
   "execution_count": 111,
   "metadata": {},
   "outputs": [
    {
     "data": {
      "text/html": [
       "<div>\n",
       "<style scoped>\n",
       "    .dataframe tbody tr th:only-of-type {\n",
       "        vertical-align: middle;\n",
       "    }\n",
       "\n",
       "    .dataframe tbody tr th {\n",
       "        vertical-align: top;\n",
       "    }\n",
       "\n",
       "    .dataframe thead th {\n",
       "        text-align: right;\n",
       "    }\n",
       "</style>\n",
       "<table border=\"1\" class=\"dataframe\">\n",
       "  <thead>\n",
       "    <tr style=\"text-align: right;\">\n",
       "      <th></th>\n",
       "      <th>short_form</th>\n",
       "      <th>context</th>\n",
       "      <th>long_form</th>\n",
       "      <th>label</th>\n",
       "    </tr>\n",
       "  </thead>\n",
       "  <tbody>\n",
       "    <tr>\n",
       "      <th>0</th>\n",
       "      <td>PAAF</td>\n",
       "      <td>no invadía estructuras vecinas y con una densidad grasa . Se realiza la toma de una muestra medi...</td>\n",
       "      <td>puncion aspiracion aguja fino</td>\n",
       "      <td>1</td>\n",
       "    </tr>\n",
       "    <tr>\n",
       "      <th>1</th>\n",
       "      <td>PAAF</td>\n",
       "      <td>no invadía estructuras vecinas y con una densidad grasa . Se realiza la toma de una muestra medi...</td>\n",
       "      <td>puncion aspirativo aguja fino</td>\n",
       "      <td>0</td>\n",
       "    </tr>\n",
       "    <tr>\n",
       "      <th>2</th>\n",
       "      <td>RM</td>\n",
       "      <td>y la exploración intraoral fue normal . El resto de la exploración física fue completamente anod...</td>\n",
       "      <td>resonancia magnetico</td>\n",
       "      <td>1</td>\n",
       "    </tr>\n",
       "    <tr>\n",
       "      <th>3</th>\n",
       "      <td>cm</td>\n",
       "      <td>5*10cm para mejorar el cierre directo . Durante la intervención se obtuvo una pieza de 459,5g de...</td>\n",
       "      <td>centimetro</td>\n",
       "      <td>1</td>\n",
       "    </tr>\n",
       "    <tr>\n",
       "      <th>4</th>\n",
       "      <td>cm</td>\n",
       "      <td>5*10cm para mejorar el cierre directo . Durante la intervención se obtuvo una pieza de 459,5g de...</td>\n",
       "      <td>centimetro agua</td>\n",
       "      <td>0</td>\n",
       "    </tr>\n",
       "  </tbody>\n",
       "</table>\n",
       "</div>"
      ],
      "text/plain": [
       "  short_form  \\\n",
       "0       PAAF   \n",
       "1       PAAF   \n",
       "2         RM   \n",
       "3         cm   \n",
       "4         cm   \n",
       "\n",
       "                                                                                               context  \\\n",
       "0  no invadía estructuras vecinas y con una densidad grasa . Se realiza la toma de una muestra medi...   \n",
       "1  no invadía estructuras vecinas y con una densidad grasa . Se realiza la toma de una muestra medi...   \n",
       "2  y la exploración intraoral fue normal . El resto de la exploración física fue completamente anod...   \n",
       "3  5*10cm para mejorar el cierre directo . Durante la intervención se obtuvo una pieza de 459,5g de...   \n",
       "4  5*10cm para mejorar el cierre directo . Durante la intervención se obtuvo una pieza de 459,5g de...   \n",
       "\n",
       "                       long_form  label  \n",
       "0  puncion aspiracion aguja fino      1  \n",
       "1  puncion aspirativo aguja fino      0  \n",
       "2           resonancia magnetico      1  \n",
       "3                     centimetro      1  \n",
       "4                centimetro agua      0  "
      ]
     },
     "execution_count": 111,
     "metadata": {},
     "output_type": "execute_result"
    }
   ],
   "source": [
    "data_merged.head()"
   ]
  },
  {
   "cell_type": "code",
   "execution_count": 112,
   "metadata": {},
   "outputs": [],
   "source": [
    "data_merged.to_csv('train_data_beto.csv')"
   ]
  },
  {
   "cell_type": "markdown",
   "metadata": {},
   "source": [
    "## Prepare Test Data"
   ]
  },
  {
   "cell_type": "markdown",
   "metadata": {},
   "source": [
    "### Preprocessing"
   ]
  },
  {
   "cell_type": "code",
   "execution_count": 65,
   "metadata": {},
   "outputs": [],
   "source": [
    "testing_raw.rename(columns={'nombre':'doc_id'}, inplace = True)"
   ]
  },
  {
   "cell_type": "code",
   "execution_count": 66,
   "metadata": {},
   "outputs": [],
   "source": [
    "test = testing_raw.merge(testing_abbr[['doc_id', 'Abbreviation', 'Definition_lemmatized']], on = 'doc_id', how = 'left')"
   ]
  },
  {
   "cell_type": "code",
   "execution_count": 68,
   "metadata": {},
   "outputs": [],
   "source": [
    "test = test.merge(testing_abbr, on = ['doc_id', 'Abbreviation'], how = 'left')"
   ]
  },
  {
   "cell_type": "code",
   "execution_count": 69,
   "metadata": {},
   "outputs": [],
   "source": [
    "test = test.drop_duplicates()"
   ]
  },
  {
   "cell_type": "code",
   "execution_count": 70,
   "metadata": {},
   "outputs": [],
   "source": [
    "test = test[['doc_id', 'texto', 'Abbreviation', 'Definition_lemmatized_x', 'StartOffset', 'EndOffset']]"
   ]
  },
  {
   "cell_type": "code",
   "execution_count": 71,
   "metadata": {},
   "outputs": [],
   "source": [
    "test = test.rename(columns = {'Definition_lemmatized_x':'Definition'})"
   ]
  },
  {
   "cell_type": "code",
   "execution_count": 72,
   "metadata": {},
   "outputs": [
    {
     "data": {
      "text/html": [
       "<div>\n",
       "<style scoped>\n",
       "    .dataframe tbody tr th:only-of-type {\n",
       "        vertical-align: middle;\n",
       "    }\n",
       "\n",
       "    .dataframe tbody tr th {\n",
       "        vertical-align: top;\n",
       "    }\n",
       "\n",
       "    .dataframe thead th {\n",
       "        text-align: right;\n",
       "    }\n",
       "</style>\n",
       "<table border=\"1\" class=\"dataframe\">\n",
       "  <thead>\n",
       "    <tr style=\"text-align: right;\">\n",
       "      <th></th>\n",
       "      <th>doc_id</th>\n",
       "      <th>texto</th>\n",
       "      <th>Abbreviation</th>\n",
       "      <th>Definition</th>\n",
       "      <th>StartOffset</th>\n",
       "      <th>EndOffset</th>\n",
       "    </tr>\n",
       "  </thead>\n",
       "  <tbody>\n",
       "    <tr>\n",
       "      <th>0</th>\n",
       "      <td>S1139-76322009000700016-1</td>\n",
       "      <td>Paciente de sexo femenino de 13 años y 7 meses de edad que consulta por dolor abdominal y vómito...</td>\n",
       "      <td>mm</td>\n",
       "      <td>milímetro</td>\n",
       "      <td>1901.0</td>\n",
       "      <td>1903.0</td>\n",
       "    </tr>\n",
       "    <tr>\n",
       "      <th>1</th>\n",
       "      <td>S1139-76322009000700016-1</td>\n",
       "      <td>Paciente de sexo femenino de 13 años y 7 meses de edad que consulta por dolor abdominal y vómito...</td>\n",
       "      <td>mg</td>\n",
       "      <td>miligramo</td>\n",
       "      <td>1627.0</td>\n",
       "      <td>1629.0</td>\n",
       "    </tr>\n",
       "    <tr>\n",
       "      <th>2</th>\n",
       "      <td>S1139-76322009000700016-1</td>\n",
       "      <td>Paciente de sexo femenino de 13 años y 7 meses de edad que consulta por dolor abdominal y vómito...</td>\n",
       "      <td>mg</td>\n",
       "      <td>miligramo</td>\n",
       "      <td>1737.0</td>\n",
       "      <td>1739.0</td>\n",
       "    </tr>\n",
       "    <tr>\n",
       "      <th>3</th>\n",
       "      <td>S1139-76322009000700016-1</td>\n",
       "      <td>Paciente de sexo femenino de 13 años y 7 meses de edad que consulta por dolor abdominal y vómito...</td>\n",
       "      <td>mg</td>\n",
       "      <td>miligramo</td>\n",
       "      <td>1715.0</td>\n",
       "      <td>1717.0</td>\n",
       "    </tr>\n",
       "    <tr>\n",
       "      <th>4</th>\n",
       "      <td>S1139-76322009000700016-1</td>\n",
       "      <td>Paciente de sexo femenino de 13 años y 7 meses de edad que consulta por dolor abdominal y vómito...</td>\n",
       "      <td>mg</td>\n",
       "      <td>miligramo</td>\n",
       "      <td>1650.0</td>\n",
       "      <td>1652.0</td>\n",
       "    </tr>\n",
       "  </tbody>\n",
       "</table>\n",
       "</div>"
      ],
      "text/plain": [
       "                      doc_id  \\\n",
       "0  S1139-76322009000700016-1   \n",
       "1  S1139-76322009000700016-1   \n",
       "2  S1139-76322009000700016-1   \n",
       "3  S1139-76322009000700016-1   \n",
       "4  S1139-76322009000700016-1   \n",
       "\n",
       "                                                                                                 texto  \\\n",
       "0  Paciente de sexo femenino de 13 años y 7 meses de edad que consulta por dolor abdominal y vómito...   \n",
       "1  Paciente de sexo femenino de 13 años y 7 meses de edad que consulta por dolor abdominal y vómito...   \n",
       "2  Paciente de sexo femenino de 13 años y 7 meses de edad que consulta por dolor abdominal y vómito...   \n",
       "3  Paciente de sexo femenino de 13 años y 7 meses de edad que consulta por dolor abdominal y vómito...   \n",
       "4  Paciente de sexo femenino de 13 años y 7 meses de edad que consulta por dolor abdominal y vómito...   \n",
       "\n",
       "  Abbreviation Definition  StartOffset  EndOffset  \n",
       "0           mm  milímetro       1901.0     1903.0  \n",
       "1           mg  miligramo       1627.0     1629.0  \n",
       "2           mg  miligramo       1737.0     1739.0  \n",
       "3           mg  miligramo       1715.0     1717.0  \n",
       "4           mg  miligramo       1650.0     1652.0  "
      ]
     },
     "execution_count": 72,
     "metadata": {},
     "output_type": "execute_result"
    }
   ],
   "source": [
    "test.head()"
   ]
  },
  {
   "cell_type": "code",
   "execution_count": 73,
   "metadata": {},
   "outputs": [],
   "source": [
    "test = test.rename(columns = {'Abbreviation': 'short_form', 'Definition': 'long_form'})"
   ]
  },
  {
   "cell_type": "code",
   "execution_count": 74,
   "metadata": {},
   "outputs": [],
   "source": [
    "test = test.dropna(subset = ['short_form', 'long_form'])"
   ]
  },
  {
   "cell_type": "code",
   "execution_count": 75,
   "metadata": {},
   "outputs": [],
   "source": [
    "test[['StartOffset', 'EndOffset']] = test[['StartOffset', 'EndOffset']].astype(int)"
   ]
  },
  {
   "cell_type": "markdown",
   "metadata": {},
   "source": [
    "Clean long forms to delete acents, string punctuation etc"
   ]
  },
  {
   "cell_type": "code",
   "execution_count": 76,
   "metadata": {},
   "outputs": [],
   "source": [
    "test['long_form'] = test['long_form'].map(clean_text)"
   ]
  },
  {
   "cell_type": "markdown",
   "metadata": {},
   "source": [
    "Transform dataframe to a list of dictionaries"
   ]
  },
  {
   "cell_type": "code",
   "execution_count": 77,
   "metadata": {},
   "outputs": [],
   "source": [
    "test_data = test[['doc_id', 'texto', 'short_form', 'long_form', 'StartOffset', 'EndOffset']].to_dict('records')"
   ]
  },
  {
   "cell_type": "markdown",
   "metadata": {},
   "source": [
    "### Get the text before and after the SF"
   ]
  },
  {
   "cell_type": "code",
   "execution_count": 78,
   "metadata": {},
   "outputs": [],
   "source": [
    "test_ndata, sf_not_found = get_f_b_context_text(test_data)"
   ]
  },
  {
   "cell_type": "markdown",
   "metadata": {},
   "source": [
    "Check if any SF is not founded in the text"
   ]
  },
  {
   "cell_type": "code",
   "execution_count": 79,
   "metadata": {},
   "outputs": [],
   "source": [
    "sf_not_found_set = set(sf_not_found)"
   ]
  },
  {
   "cell_type": "code",
   "execution_count": 80,
   "metadata": {},
   "outputs": [
    {
     "data": {
      "text/plain": [
       "0"
      ]
     },
     "execution_count": 80,
     "metadata": {},
     "output_type": "execute_result"
    }
   ],
   "source": [
    "len(sf_not_found_set)"
   ]
  },
  {
   "cell_type": "markdown",
   "metadata": {},
   "source": [
    "Now clean the texts, remove string punctuation, accents, lower case, remove double spaces, separate numbers from sf"
   ]
  },
  {
   "cell_type": "code",
   "execution_count": 72,
   "metadata": {},
   "outputs": [],
   "source": [
    "# def clean_text_after(data):\n",
    "    \n",
    "#     for instance in data:\n",
    "#         instance[1] = clean_text(instance[1]).lower()\n",
    "#         instance[2] = clean_text(instance[2]).lower()\n",
    "#         instance[1] = re.sub(r'(\\d+)', r'\\g<1> ', instance[1]) #metemos espacio entre número y acrónimos que quedan pegados    \n",
    "#         instance[2] = re.sub(r'(\\d+)', r'\\g<1> ', instance[2])\n",
    "#         instance[1] = re.sub(r'\\s+', ' ', instance[1]).strip()\n",
    "#         instance[2] = re.sub(r'\\s+', ' ', instance[2]).strip()\n",
    "#     return data\n",
    "        "
   ]
  },
  {
   "cell_type": "code",
   "execution_count": 73,
   "metadata": {},
   "outputs": [],
   "source": [
    "# train_ndata = clean_text_after(train_ndata)"
   ]
  },
  {
   "cell_type": "markdown",
   "metadata": {},
   "source": [
    "### Get the contexts "
   ]
  },
  {
   "cell_type": "markdown",
   "metadata": {},
   "source": [
    "From the texts before and after the sf, we limit the number of words"
   ]
  },
  {
   "cell_type": "code",
   "execution_count": 82,
   "metadata": {},
   "outputs": [],
   "source": [
    "n_step_f = 30 #number of words to select from the forward context\n",
    "n_step_b = 30#number of words to select from the backward context"
   ]
  },
  {
   "cell_type": "code",
   "execution_count": 83,
   "metadata": {},
   "outputs": [],
   "source": [
    "test_ndata = limit_context(test_ndata)"
   ]
  },
  {
   "cell_type": "code",
   "execution_count": 84,
   "metadata": {},
   "outputs": [
    {
     "data": {
      "text/plain": [
       "['mm',\n",
       " '243 UI/L , amilasas 427,8 UI/L , lipasa 1298UI/L . Ecografía abdominal : vía biliar poco distendida con imagen de litiasis de 15 < start > mm < end >',\n",
       " 'Páncreas no valorable por interposición de gas intestinal . Diagnóstico final y evolución : se trata pues , de un caso de pancreatitis aguda secundaria a litiasis biliar . Se',\n",
       " 'milimetro']"
      ]
     },
     "execution_count": 84,
     "metadata": {},
     "output_type": "execute_result"
    }
   ],
   "source": [
    "test_ndata[0]"
   ]
  },
  {
   "cell_type": "markdown",
   "metadata": {},
   "source": [
    "### Transform into df grouped by LF"
   ]
  },
  {
   "cell_type": "code",
   "execution_count": 85,
   "metadata": {},
   "outputs": [],
   "source": [
    "data_dic = create_dict(test_ndata)"
   ]
  },
  {
   "cell_type": "code",
   "execution_count": 86,
   "metadata": {},
   "outputs": [],
   "source": [
    "data_df = pd.DataFrame(data_dic)"
   ]
  },
  {
   "cell_type": "markdown",
   "metadata": {},
   "source": [
    "Asign an id to each LF"
   ]
  },
  {
   "cell_type": "code",
   "execution_count": 79,
   "metadata": {},
   "outputs": [],
   "source": [
    "data_df = data_df.assign(id=(data_df['long_form']).astype('category').cat.codes)"
   ]
  },
  {
   "cell_type": "code",
   "execution_count": 80,
   "metadata": {},
   "outputs": [
    {
     "data": {
      "text/html": [
       "<div>\n",
       "<style scoped>\n",
       "    .dataframe tbody tr th:only-of-type {\n",
       "        vertical-align: middle;\n",
       "    }\n",
       "\n",
       "    .dataframe tbody tr th {\n",
       "        vertical-align: top;\n",
       "    }\n",
       "\n",
       "    .dataframe thead th {\n",
       "        text-align: right;\n",
       "    }\n",
       "</style>\n",
       "<table border=\"1\" class=\"dataframe\">\n",
       "  <thead>\n",
       "    <tr style=\"text-align: right;\">\n",
       "      <th></th>\n",
       "      <th>short_form</th>\n",
       "      <th>context</th>\n",
       "      <th>long_form</th>\n",
       "      <th>id</th>\n",
       "    </tr>\n",
       "  </thead>\n",
       "  <tbody>\n",
       "    <tr>\n",
       "      <th>0</th>\n",
       "      <td>PAAF</td>\n",
       "      <td>no invadía estructuras vecinas y con una densidad grasa . Se realiza la toma de una muestra medi...</td>\n",
       "      <td>puncion aspiracion aguja fino</td>\n",
       "      <td>597</td>\n",
       "    </tr>\n",
       "    <tr>\n",
       "      <th>1</th>\n",
       "      <td>RM</td>\n",
       "      <td>y la exploración intraoral fue normal . El resto de la exploración física fue completamente anod...</td>\n",
       "      <td>resonancia magnetico</td>\n",
       "      <td>625</td>\n",
       "    </tr>\n",
       "    <tr>\n",
       "      <th>2</th>\n",
       "      <td>cm</td>\n",
       "      <td>5*10cm para mejorar el cierre directo . Durante la intervención se obtuvo una pieza de 459,5g de...</td>\n",
       "      <td>centimetro</td>\n",
       "      <td>125</td>\n",
       "    </tr>\n",
       "    <tr>\n",
       "      <th>3</th>\n",
       "      <td>cm</td>\n",
       "      <td>de la tumoración . Se realizó un abordaje a nivel de la línea posterior del cabello , resecando ...</td>\n",
       "      <td>centimetro</td>\n",
       "      <td>125</td>\n",
       "    </tr>\n",
       "    <tr>\n",
       "      <th>4</th>\n",
       "      <td>g</td>\n",
       "      <td>cabello , resecando un huso cutáneo de 5*10cm para mejorar el cierre directo . Durante la interv...</td>\n",
       "      <td>gramo</td>\n",
       "      <td>328</td>\n",
       "    </tr>\n",
       "  </tbody>\n",
       "</table>\n",
       "</div>"
      ],
      "text/plain": [
       "  short_form  \\\n",
       "0       PAAF   \n",
       "1         RM   \n",
       "2         cm   \n",
       "3         cm   \n",
       "4          g   \n",
       "\n",
       "                                                                                               context  \\\n",
       "0  no invadía estructuras vecinas y con una densidad grasa . Se realiza la toma de una muestra medi...   \n",
       "1  y la exploración intraoral fue normal . El resto de la exploración física fue completamente anod...   \n",
       "2  5*10cm para mejorar el cierre directo . Durante la intervención se obtuvo una pieza de 459,5g de...   \n",
       "3  de la tumoración . Se realizó un abordaje a nivel de la línea posterior del cabello , resecando ...   \n",
       "4  cabello , resecando un huso cutáneo de 5*10cm para mejorar el cierre directo . Durante la interv...   \n",
       "\n",
       "                       long_form   id  \n",
       "0  puncion aspiracion aguja fino  597  \n",
       "1           resonancia magnetico  625  \n",
       "2                     centimetro  125  \n",
       "3                     centimetro  125  \n",
       "4                          gramo  328  "
      ]
     },
     "execution_count": 80,
     "metadata": {},
     "output_type": "execute_result"
    }
   ],
   "source": [
    "data_df.head()"
   ]
  },
  {
   "cell_type": "code",
   "execution_count": 81,
   "metadata": {},
   "outputs": [
    {
     "data": {
      "text/plain": [
       "(4355, 4)"
      ]
     },
     "execution_count": 81,
     "metadata": {},
     "output_type": "execute_result"
    }
   ],
   "source": [
    "data_df.shape"
   ]
  },
  {
   "cell_type": "markdown",
   "metadata": {},
   "source": [
    "Vamos a unir cada SF con todas las posibles LF, una por cada registro, para que posteriormente el modelo funcione de forma binaria asignando la probabilidad de que ese sea su LF"
   ]
  },
  {
   "cell_type": "code",
   "execution_count": 87,
   "metadata": {},
   "outputs": [],
   "source": [
    "sf_lf_unique = data_df[['short_form', 'long_form']].drop_duplicates()"
   ]
  },
  {
   "cell_type": "code",
   "execution_count": 88,
   "metadata": {},
   "outputs": [
    {
     "data": {
      "text/plain": [
       "(780, 2)"
      ]
     },
     "execution_count": 88,
     "metadata": {},
     "output_type": "execute_result"
    }
   ],
   "source": [
    "sf_lf_unique.shape"
   ]
  },
  {
   "cell_type": "code",
   "execution_count": 89,
   "metadata": {},
   "outputs": [
    {
     "data": {
      "text/html": [
       "<div>\n",
       "<style scoped>\n",
       "    .dataframe tbody tr th:only-of-type {\n",
       "        vertical-align: middle;\n",
       "    }\n",
       "\n",
       "    .dataframe tbody tr th {\n",
       "        vertical-align: top;\n",
       "    }\n",
       "\n",
       "    .dataframe thead th {\n",
       "        text-align: right;\n",
       "    }\n",
       "</style>\n",
       "<table border=\"1\" class=\"dataframe\">\n",
       "  <thead>\n",
       "    <tr style=\"text-align: right;\">\n",
       "      <th></th>\n",
       "      <th>short_form</th>\n",
       "      <th>long_form</th>\n",
       "    </tr>\n",
       "  </thead>\n",
       "  <tbody>\n",
       "    <tr>\n",
       "      <th>42</th>\n",
       "      <td>/mm3</td>\n",
       "      <td>milimetro cubico</td>\n",
       "    </tr>\n",
       "    <tr>\n",
       "      <th>1837</th>\n",
       "      <td>16SrRNA</td>\n",
       "      <td>16s ribosomal rno</td>\n",
       "    </tr>\n",
       "    <tr>\n",
       "      <th>831</th>\n",
       "      <td>3D</td>\n",
       "      <td>3 dimension</td>\n",
       "    </tr>\n",
       "    <tr>\n",
       "      <th>1203</th>\n",
       "      <td>5-ASA</td>\n",
       "      <td>5aminosalicylic acid</td>\n",
       "    </tr>\n",
       "    <tr>\n",
       "      <th>351</th>\n",
       "      <td>A</td>\n",
       "      <td>adeniner</td>\n",
       "    </tr>\n",
       "  </tbody>\n",
       "</table>\n",
       "</div>"
      ],
      "text/plain": [
       "     short_form             long_form\n",
       "42         /mm3      milimetro cubico\n",
       "1837    16SrRNA     16s ribosomal rno\n",
       "831          3D           3 dimension\n",
       "1203      5-ASA  5aminosalicylic acid\n",
       "351           A              adeniner"
      ]
     },
     "execution_count": 89,
     "metadata": {},
     "output_type": "execute_result"
    }
   ],
   "source": [
    "sf_lf_unique.sort_values('short_form').head()"
   ]
  },
  {
   "cell_type": "code",
   "execution_count": 90,
   "metadata": {},
   "outputs": [],
   "source": [
    "data_merged = data_df.merge(sf_lf_unique, on = 'short_form', how = 'left')"
   ]
  },
  {
   "cell_type": "code",
   "execution_count": 91,
   "metadata": {},
   "outputs": [
    {
     "data": {
      "text/plain": [
       "(4703, 4)"
      ]
     },
     "execution_count": 91,
     "metadata": {},
     "output_type": "execute_result"
    }
   ],
   "source": [
    "data_merged.shape"
   ]
  },
  {
   "cell_type": "code",
   "execution_count": 92,
   "metadata": {},
   "outputs": [],
   "source": [
    "pd.set_option('display.max_colwidth', 100)"
   ]
  },
  {
   "cell_type": "code",
   "execution_count": 93,
   "metadata": {},
   "outputs": [
    {
     "data": {
      "text/html": [
       "<div>\n",
       "<style scoped>\n",
       "    .dataframe tbody tr th:only-of-type {\n",
       "        vertical-align: middle;\n",
       "    }\n",
       "\n",
       "    .dataframe tbody tr th {\n",
       "        vertical-align: top;\n",
       "    }\n",
       "\n",
       "    .dataframe thead th {\n",
       "        text-align: right;\n",
       "    }\n",
       "</style>\n",
       "<table border=\"1\" class=\"dataframe\">\n",
       "  <thead>\n",
       "    <tr style=\"text-align: right;\">\n",
       "      <th></th>\n",
       "      <th>short_form</th>\n",
       "      <th>context</th>\n",
       "      <th>long_form</th>\n",
       "    </tr>\n",
       "  </thead>\n",
       "  <tbody>\n",
       "    <tr>\n",
       "      <th>42</th>\n",
       "      <td>/mm3</td>\n",
       "      <td>de parénquima pulmonar . El análisis de sangre fue normal . La toracocentesis mostró un líquido ...</td>\n",
       "      <td>milimetro cubico</td>\n",
       "    </tr>\n",
       "    <tr>\n",
       "      <th>1837</th>\n",
       "      <td>16SrRNA</td>\n",
       "      <td>Neelsen modificada fue negativa . La identificación fenotípica no aportaba datos significativos ...</td>\n",
       "      <td>16s ribosomal rno</td>\n",
       "    </tr>\n",
       "    <tr>\n",
       "      <th>831</th>\n",
       "      <td>3D</td>\n",
       "      <td>externa , mediante Acelerador Lineal con fotones de 6 y 15 MV , con cuñas de compensación tisula...</td>\n",
       "      <td>3 dimension</td>\n",
       "    </tr>\n",
       "    <tr>\n",
       "      <th>1203</th>\n",
       "      <td>5-ASA</td>\n",
       "      <td>plasmáticas . Ante la sospecha inicial , dada la clínica y los hallazgos endoscópicos , de colit...</td>\n",
       "      <td>5aminosalicylic acid</td>\n",
       "    </tr>\n",
       "    <tr>\n",
       "      <th>2694</th>\n",
       "      <td>A</td>\n",
       "      <td>V y 20210 del factor II , realizándose posteriormente una electroforesis que identificó la mutac...</td>\n",
       "      <td>adenina</td>\n",
       "    </tr>\n",
       "  </tbody>\n",
       "</table>\n",
       "</div>"
      ],
      "text/plain": [
       "     short_form  \\\n",
       "42         /mm3   \n",
       "1837    16SrRNA   \n",
       "831          3D   \n",
       "1203      5-ASA   \n",
       "2694          A   \n",
       "\n",
       "                                                                                                  context  \\\n",
       "42    de parénquima pulmonar . El análisis de sangre fue normal . La toracocentesis mostró un líquido ...   \n",
       "1837  Neelsen modificada fue negativa . La identificación fenotípica no aportaba datos significativos ...   \n",
       "831   externa , mediante Acelerador Lineal con fotones de 6 y 15 MV , con cuñas de compensación tisula...   \n",
       "1203  plasmáticas . Ante la sospecha inicial , dada la clínica y los hallazgos endoscópicos , de colit...   \n",
       "2694  V y 20210 del factor II , realizándose posteriormente una electroforesis que identificó la mutac...   \n",
       "\n",
       "                 long_form  \n",
       "42        milimetro cubico  \n",
       "1837     16s ribosomal rno  \n",
       "831            3 dimension  \n",
       "1203  5aminosalicylic acid  \n",
       "2694               adenina  "
      ]
     },
     "execution_count": 93,
     "metadata": {},
     "output_type": "execute_result"
    }
   ],
   "source": [
    "data_df.sort_values(['short_form', 'context']).head()"
   ]
  },
  {
   "cell_type": "code",
   "execution_count": 103,
   "metadata": {},
   "outputs": [
    {
     "data": {
      "text/html": [
       "<div>\n",
       "<style scoped>\n",
       "    .dataframe tbody tr th:only-of-type {\n",
       "        vertical-align: middle;\n",
       "    }\n",
       "\n",
       "    .dataframe tbody tr th {\n",
       "        vertical-align: top;\n",
       "    }\n",
       "\n",
       "    .dataframe thead th {\n",
       "        text-align: right;\n",
       "    }\n",
       "</style>\n",
       "<table border=\"1\" class=\"dataframe\">\n",
       "  <thead>\n",
       "    <tr style=\"text-align: right;\">\n",
       "      <th></th>\n",
       "      <th>short_form</th>\n",
       "      <th>context</th>\n",
       "      <th>long_form_x</th>\n",
       "      <th>id</th>\n",
       "      <th>long_form_y</th>\n",
       "    </tr>\n",
       "  </thead>\n",
       "  <tbody>\n",
       "    <tr>\n",
       "      <th>2640</th>\n",
       "      <td>5-FU</td>\n",
       "      <td>% . En la exploración física , cabe destacar una marcada pigmentación cutánea generalizada y alo...</td>\n",
       "      <td>5fluorouracilo</td>\n",
       "      <td>1</td>\n",
       "      <td>5fluorouracilo</td>\n",
       "    </tr>\n",
       "    <tr>\n",
       "      <th>2641</th>\n",
       "      <td>5-FU</td>\n",
       "      <td>con esquema mFOLFOX 6 + Bevacizumab ( oxaliplatino 85 mg/m2 i.v . día 1 , leucovorin 200 mg/m2 i...</td>\n",
       "      <td>5fluorouracilo</td>\n",
       "      <td>1</td>\n",
       "      <td>5fluorouracilo</td>\n",
       "    </tr>\n",
       "    <tr>\n",
       "      <th>2639</th>\n",
       "      <td>5-FU</td>\n",
       "      <td>i.v . día 1 , leucovorin 200 mg/m2 i.v . día 1 , 5-FU 400 mg/m2 en bolo i.v . día 1 , &lt; start &gt; ...</td>\n",
       "      <td>5fluorouracilo</td>\n",
       "      <td>1</td>\n",
       "      <td>5fluorouracilo</td>\n",
       "    </tr>\n",
       "    <tr>\n",
       "      <th>1336</th>\n",
       "      <td>67Ga</td>\n",
       "      <td>trocánter izquierdo . La radiología de pelvis mostró una única lesión lítica en la cabeza femora...</td>\n",
       "      <td>gallium67</td>\n",
       "      <td>303</td>\n",
       "      <td>gallium67</td>\n",
       "    </tr>\n",
       "    <tr>\n",
       "      <th>4944</th>\n",
       "      <td>99-MDP</td>\n",
       "      <td>resección hepática parcial , al mes de su diagnostico . Previamente se había realizado un estudi...</td>\n",
       "      <td>99 metilendifosfonato</td>\n",
       "      <td>2</td>\n",
       "      <td>99 metilendifosfonato</td>\n",
       "    </tr>\n",
       "  </tbody>\n",
       "</table>\n",
       "</div>"
      ],
      "text/plain": [
       "     short_form  \\\n",
       "2640       5-FU   \n",
       "2641       5-FU   \n",
       "2639       5-FU   \n",
       "1336       67Ga   \n",
       "4944     99-MDP   \n",
       "\n",
       "                                                                                                  context  \\\n",
       "2640  % . En la exploración física , cabe destacar una marcada pigmentación cutánea generalizada y alo...   \n",
       "2641  con esquema mFOLFOX 6 + Bevacizumab ( oxaliplatino 85 mg/m2 i.v . día 1 , leucovorin 200 mg/m2 i...   \n",
       "2639  i.v . día 1 , leucovorin 200 mg/m2 i.v . día 1 , 5-FU 400 mg/m2 en bolo i.v . día 1 , < start > ...   \n",
       "1336  trocánter izquierdo . La radiología de pelvis mostró una única lesión lítica en la cabeza femora...   \n",
       "4944  resección hepática parcial , al mes de su diagnostico . Previamente se había realizado un estudi...   \n",
       "\n",
       "                long_form_x   id            long_form_y  \n",
       "2640         5fluorouracilo    1         5fluorouracilo  \n",
       "2641         5fluorouracilo    1         5fluorouracilo  \n",
       "2639         5fluorouracilo    1         5fluorouracilo  \n",
       "1336              gallium67  303              gallium67  \n",
       "4944  99 metilendifosfonato    2  99 metilendifosfonato  "
      ]
     },
     "execution_count": 103,
     "metadata": {},
     "output_type": "execute_result"
    }
   ],
   "source": [
    "data_merged.sort_values(['short_form', 'context']).head()"
   ]
  },
  {
   "cell_type": "markdown",
   "metadata": {},
   "source": [
    "El label debe de ser 0 o 1, es decir, si la LF que le corresponde es la que se le asigna. Por ello creamos una etiqueta binaria."
   ]
  },
  {
   "cell_type": "code",
   "execution_count": 94,
   "metadata": {},
   "outputs": [],
   "source": [
    "def get_label(row):\n",
    "    if row['long_form_x'] == row['long_form_y']:\n",
    "        return 1\n",
    "    else:\n",
    "        return 0"
   ]
  },
  {
   "cell_type": "code",
   "execution_count": 95,
   "metadata": {},
   "outputs": [],
   "source": [
    "data_merged['label'] = data_merged.apply(get_label, axis = 1)"
   ]
  },
  {
   "cell_type": "code",
   "execution_count": 96,
   "metadata": {},
   "outputs": [
    {
     "data": {
      "text/html": [
       "<div>\n",
       "<style scoped>\n",
       "    .dataframe tbody tr th:only-of-type {\n",
       "        vertical-align: middle;\n",
       "    }\n",
       "\n",
       "    .dataframe tbody tr th {\n",
       "        vertical-align: top;\n",
       "    }\n",
       "\n",
       "    .dataframe thead th {\n",
       "        text-align: right;\n",
       "    }\n",
       "</style>\n",
       "<table border=\"1\" class=\"dataframe\">\n",
       "  <thead>\n",
       "    <tr style=\"text-align: right;\">\n",
       "      <th></th>\n",
       "      <th>short_form</th>\n",
       "      <th>context</th>\n",
       "      <th>long_form_x</th>\n",
       "      <th>long_form_y</th>\n",
       "      <th>label</th>\n",
       "    </tr>\n",
       "  </thead>\n",
       "  <tbody>\n",
       "    <tr>\n",
       "      <th>0</th>\n",
       "      <td>mm</td>\n",
       "      <td>243 UI/L , amilasas 427,8 UI/L , lipasa 1298UI/L . Ecografía abdominal : vía biliar poco distend...</td>\n",
       "      <td>milimetro</td>\n",
       "      <td>milimetro</td>\n",
       "      <td>1</td>\n",
       "    </tr>\n",
       "    <tr>\n",
       "      <th>1</th>\n",
       "      <td>mg</td>\n",
       "      <td>que mostraron : Hto 37,8 % Hb 13,4 g/dl , plaquetas 338.000/ml , leucocitos 7.700/ml ( N 46 % ) ...</td>\n",
       "      <td>miligramo</td>\n",
       "      <td>miligramo</td>\n",
       "      <td>1</td>\n",
       "    </tr>\n",
       "    <tr>\n",
       "      <th>2</th>\n",
       "      <td>mg</td>\n",
       "      <td>que mostraron : Hto 37,8 % Hb 13,4 g/dl , plaquetas 338.000/ml , leucocitos 7.700/ml ( N 46 % ) ...</td>\n",
       "      <td>miligramo</td>\n",
       "      <td>miligramar</td>\n",
       "      <td>0</td>\n",
       "    </tr>\n",
       "    <tr>\n",
       "      <th>3</th>\n",
       "      <td>mg</td>\n",
       "      <td>glucosa 79 mg/dl , creatinina 0,55 mg/dl , proteínas 77 g/l , albúmina 41 gl/l , bilirrubina tot...</td>\n",
       "      <td>miligramo</td>\n",
       "      <td>miligramo</td>\n",
       "      <td>1</td>\n",
       "    </tr>\n",
       "    <tr>\n",
       "      <th>4</th>\n",
       "      <td>mg</td>\n",
       "      <td>glucosa 79 mg/dl , creatinina 0,55 mg/dl , proteínas 77 g/l , albúmina 41 gl/l , bilirrubina tot...</td>\n",
       "      <td>miligramo</td>\n",
       "      <td>miligramar</td>\n",
       "      <td>0</td>\n",
       "    </tr>\n",
       "  </tbody>\n",
       "</table>\n",
       "</div>"
      ],
      "text/plain": [
       "  short_form  \\\n",
       "0         mm   \n",
       "1         mg   \n",
       "2         mg   \n",
       "3         mg   \n",
       "4         mg   \n",
       "\n",
       "                                                                                               context  \\\n",
       "0  243 UI/L , amilasas 427,8 UI/L , lipasa 1298UI/L . Ecografía abdominal : vía biliar poco distend...   \n",
       "1  que mostraron : Hto 37,8 % Hb 13,4 g/dl , plaquetas 338.000/ml , leucocitos 7.700/ml ( N 46 % ) ...   \n",
       "2  que mostraron : Hto 37,8 % Hb 13,4 g/dl , plaquetas 338.000/ml , leucocitos 7.700/ml ( N 46 % ) ...   \n",
       "3  glucosa 79 mg/dl , creatinina 0,55 mg/dl , proteínas 77 g/l , albúmina 41 gl/l , bilirrubina tot...   \n",
       "4  glucosa 79 mg/dl , creatinina 0,55 mg/dl , proteínas 77 g/l , albúmina 41 gl/l , bilirrubina tot...   \n",
       "\n",
       "  long_form_x long_form_y  label  \n",
       "0   milimetro   milimetro      1  \n",
       "1   miligramo   miligramo      1  \n",
       "2   miligramo  miligramar      0  \n",
       "3   miligramo   miligramo      1  \n",
       "4   miligramo  miligramar      0  "
      ]
     },
     "execution_count": 96,
     "metadata": {},
     "output_type": "execute_result"
    }
   ],
   "source": [
    "data_merged.head()"
   ]
  },
  {
   "cell_type": "code",
   "execution_count": 97,
   "metadata": {},
   "outputs": [],
   "source": [
    "data_merged = data_merged[['short_form', 'context', 'long_form_y', 'label']]"
   ]
  },
  {
   "cell_type": "code",
   "execution_count": 98,
   "metadata": {},
   "outputs": [],
   "source": [
    "data_merged = data_merged.rename(columns = {'long_form_y':'long_form'})"
   ]
  },
  {
   "cell_type": "code",
   "execution_count": 99,
   "metadata": {},
   "outputs": [],
   "source": [
    "data_merged.reset_index(drop = True, inplace = True)"
   ]
  },
  {
   "cell_type": "code",
   "execution_count": 100,
   "metadata": {},
   "outputs": [
    {
     "data": {
      "text/html": [
       "<div>\n",
       "<style scoped>\n",
       "    .dataframe tbody tr th:only-of-type {\n",
       "        vertical-align: middle;\n",
       "    }\n",
       "\n",
       "    .dataframe tbody tr th {\n",
       "        vertical-align: top;\n",
       "    }\n",
       "\n",
       "    .dataframe thead th {\n",
       "        text-align: right;\n",
       "    }\n",
       "</style>\n",
       "<table border=\"1\" class=\"dataframe\">\n",
       "  <thead>\n",
       "    <tr style=\"text-align: right;\">\n",
       "      <th></th>\n",
       "      <th>short_form</th>\n",
       "      <th>context</th>\n",
       "      <th>long_form</th>\n",
       "      <th>label</th>\n",
       "    </tr>\n",
       "  </thead>\n",
       "  <tbody>\n",
       "    <tr>\n",
       "      <th>0</th>\n",
       "      <td>mm</td>\n",
       "      <td>243 UI/L , amilasas 427,8 UI/L , lipasa 1298UI/L . Ecografía abdominal : vía biliar poco distend...</td>\n",
       "      <td>milimetro</td>\n",
       "      <td>1</td>\n",
       "    </tr>\n",
       "    <tr>\n",
       "      <th>1</th>\n",
       "      <td>mg</td>\n",
       "      <td>que mostraron : Hto 37,8 % Hb 13,4 g/dl , plaquetas 338.000/ml , leucocitos 7.700/ml ( N 46 % ) ...</td>\n",
       "      <td>miligramo</td>\n",
       "      <td>1</td>\n",
       "    </tr>\n",
       "    <tr>\n",
       "      <th>2</th>\n",
       "      <td>mg</td>\n",
       "      <td>que mostraron : Hto 37,8 % Hb 13,4 g/dl , plaquetas 338.000/ml , leucocitos 7.700/ml ( N 46 % ) ...</td>\n",
       "      <td>miligramar</td>\n",
       "      <td>0</td>\n",
       "    </tr>\n",
       "    <tr>\n",
       "      <th>3</th>\n",
       "      <td>mg</td>\n",
       "      <td>glucosa 79 mg/dl , creatinina 0,55 mg/dl , proteínas 77 g/l , albúmina 41 gl/l , bilirrubina tot...</td>\n",
       "      <td>miligramo</td>\n",
       "      <td>1</td>\n",
       "    </tr>\n",
       "    <tr>\n",
       "      <th>4</th>\n",
       "      <td>mg</td>\n",
       "      <td>glucosa 79 mg/dl , creatinina 0,55 mg/dl , proteínas 77 g/l , albúmina 41 gl/l , bilirrubina tot...</td>\n",
       "      <td>miligramar</td>\n",
       "      <td>0</td>\n",
       "    </tr>\n",
       "  </tbody>\n",
       "</table>\n",
       "</div>"
      ],
      "text/plain": [
       "  short_form  \\\n",
       "0         mm   \n",
       "1         mg   \n",
       "2         mg   \n",
       "3         mg   \n",
       "4         mg   \n",
       "\n",
       "                                                                                               context  \\\n",
       "0  243 UI/L , amilasas 427,8 UI/L , lipasa 1298UI/L . Ecografía abdominal : vía biliar poco distend...   \n",
       "1  que mostraron : Hto 37,8 % Hb 13,4 g/dl , plaquetas 338.000/ml , leucocitos 7.700/ml ( N 46 % ) ...   \n",
       "2  que mostraron : Hto 37,8 % Hb 13,4 g/dl , plaquetas 338.000/ml , leucocitos 7.700/ml ( N 46 % ) ...   \n",
       "3  glucosa 79 mg/dl , creatinina 0,55 mg/dl , proteínas 77 g/l , albúmina 41 gl/l , bilirrubina tot...   \n",
       "4  glucosa 79 mg/dl , creatinina 0,55 mg/dl , proteínas 77 g/l , albúmina 41 gl/l , bilirrubina tot...   \n",
       "\n",
       "    long_form  label  \n",
       "0   milimetro      1  \n",
       "1   miligramo      1  \n",
       "2  miligramar      0  \n",
       "3   miligramo      1  \n",
       "4  miligramar      0  "
      ]
     },
     "execution_count": 100,
     "metadata": {},
     "output_type": "execute_result"
    }
   ],
   "source": [
    "data_merged.head()"
   ]
  },
  {
   "cell_type": "code",
   "execution_count": 101,
   "metadata": {},
   "outputs": [],
   "source": [
    "data_merged.to_csv('test_data_beto.csv')"
   ]
  }
 ],
 "metadata": {
  "kernelspec": {
   "display_name": "Python 3",
   "language": "python",
   "name": "python3"
  },
  "language_info": {
   "codemirror_mode": {
    "name": "ipython",
    "version": 3
   },
   "file_extension": ".py",
   "mimetype": "text/x-python",
   "name": "python",
   "nbconvert_exporter": "python",
   "pygments_lexer": "ipython3",
   "version": "3.7.3"
  }
 },
 "nbformat": 4,
 "nbformat_minor": 2
}
